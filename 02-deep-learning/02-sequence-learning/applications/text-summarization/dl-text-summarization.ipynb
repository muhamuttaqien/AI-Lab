{
 "cells": [
  {
   "cell_type": "markdown",
   "metadata": {},
   "source": [
    "# Abstraction-Based Text Summarization Using Sequence to Sequence Algorithm"
   ]
  },
  {
   "cell_type": "code",
   "execution_count": 1,
   "metadata": {},
   "outputs": [],
   "source": [
    "import re\n",
    "import pickle\n",
    "import warnings\n",
    "import numpy as np\n",
    "import matplotlib.pyplot as plt\n",
    "import seaborn as sns\n",
    "import pandas as pd\n",
    "from bs4 import BeautifulSoup\n",
    "from tqdm import tqdm_notebook\n",
    "\n",
    "import nltk\n",
    "from nltk.corpus import stopwords"
   ]
  },
  {
   "cell_type": "code",
   "execution_count": 2,
   "metadata": {},
   "outputs": [],
   "source": [
    "plt.style.use('ggplot')\n",
    "warnings.filterwarnings('ignore')"
   ]
  },
  {
   "cell_type": "code",
   "execution_count": 3,
   "metadata": {
    "scrolled": true
   },
   "outputs": [
    {
     "name": "stderr",
     "output_type": "stream",
     "text": [
      "Using TensorFlow backend.\n"
     ]
    }
   ],
   "source": [
    "import keras\n",
    "from keras.preprocessing.text import Tokenizer\n",
    "from keras.preprocessing.sequence import pad_sequences\n",
    "from tensorflow.keras.layers import Input, LSTM, Embedding, Dense, Concatenate, TimeDistributed, Bidirectional\n",
    "from tensorflow.keras.models import Model\n",
    "from tensorflow.keras.callbacks import EarlyStopping\n",
    "\n",
    "from keras import backend as K \n",
    "K.clear_session() "
   ]
  },
  {
   "cell_type": "markdown",
   "metadata": {},
   "source": [
    "## Load Datasets"
   ]
  },
  {
   "cell_type": "code",
   "execution_count": 4,
   "metadata": {},
   "outputs": [
    {
     "data": {
      "text/html": [
       "<div>\n",
       "<style scoped>\n",
       "    .dataframe tbody tr th:only-of-type {\n",
       "        vertical-align: middle;\n",
       "    }\n",
       "\n",
       "    .dataframe tbody tr th {\n",
       "        vertical-align: top;\n",
       "    }\n",
       "\n",
       "    .dataframe thead th {\n",
       "        text-align: right;\n",
       "    }\n",
       "</style>\n",
       "<table border=\"1\" class=\"dataframe\">\n",
       "  <thead>\n",
       "    <tr style=\"text-align: right;\">\n",
       "      <th></th>\n",
       "      <th>Text</th>\n",
       "      <th>Summary</th>\n",
       "    </tr>\n",
       "  </thead>\n",
       "  <tbody>\n",
       "    <tr>\n",
       "      <th>0</th>\n",
       "      <td>I have bought several of the Vitality canned d...</td>\n",
       "      <td>Good Quality Dog Food</td>\n",
       "    </tr>\n",
       "    <tr>\n",
       "      <th>1</th>\n",
       "      <td>Product arrived labeled as Jumbo Salted Peanut...</td>\n",
       "      <td>Not as Advertised</td>\n",
       "    </tr>\n",
       "    <tr>\n",
       "      <th>2</th>\n",
       "      <td>This is a confection that has been around a fe...</td>\n",
       "      <td>\"Delight\" says it all</td>\n",
       "    </tr>\n",
       "    <tr>\n",
       "      <th>3</th>\n",
       "      <td>If you are looking for the secret ingredient i...</td>\n",
       "      <td>Cough Medicine</td>\n",
       "    </tr>\n",
       "    <tr>\n",
       "      <th>4</th>\n",
       "      <td>Great taffy at a great price.  There was a wid...</td>\n",
       "      <td>Great taffy</td>\n",
       "    </tr>\n",
       "  </tbody>\n",
       "</table>\n",
       "</div>"
      ],
      "text/plain": [
       "                                                Text                Summary\n",
       "0  I have bought several of the Vitality canned d...  Good Quality Dog Food\n",
       "1  Product arrived labeled as Jumbo Salted Peanut...      Not as Advertised\n",
       "2  This is a confection that has been around a fe...  \"Delight\" says it all\n",
       "3  If you are looking for the secret ingredient i...         Cough Medicine\n",
       "4  Great taffy at a great price.  There was a wid...            Great taffy"
      ]
     },
     "execution_count": 4,
     "metadata": {},
     "output_type": "execute_result"
    }
   ],
   "source": [
    "# datasets grasp from here www.kaggle.com/snap/amazon-fine-food-reviews\n",
    "df_reviews = pd.read_csv(\"./datasets/amazon-fine-food-reviews.csv\", nrows=100000) # try more rows for much better result\n",
    "df_reviews[['Text', 'Summary']].head()"
   ]
  },
  {
   "cell_type": "markdown",
   "metadata": {},
   "source": [
    "## Preprocess Datasets"
   ]
  },
  {
   "cell_type": "markdown",
   "metadata": {},
   "source": [
    "#### 1) Dropping duplicates and NaN values"
   ]
  },
  {
   "cell_type": "code",
   "execution_count": 5,
   "metadata": {},
   "outputs": [],
   "source": [
    "df_reviews = df_reviews.drop_duplicates(subset=['Summary'])\n",
    "df_reviews = df_reviews.dropna(axis=0)"
   ]
  },
  {
   "cell_type": "code",
   "execution_count": 6,
   "metadata": {},
   "outputs": [],
   "source": [
    "df_reviews = df_reviews.drop_duplicates(subset=['Text'])\n",
    "df_reviews = df_reviews.dropna(axis=0)"
   ]
  },
  {
   "cell_type": "markdown",
   "metadata": {},
   "source": [
    "#### 2) Cleaning up stop words, contractions, non-alphanumeric and others"
   ]
  },
  {
   "cell_type": "code",
   "execution_count": 7,
   "metadata": {},
   "outputs": [],
   "source": [
    "stop_words = set(stopwords.words('english'))"
   ]
  },
  {
   "cell_type": "code",
   "execution_count": 8,
   "metadata": {},
   "outputs": [],
   "source": [
    "pickle_file = open('../../others/contraction_dictionary.pickle','rb')\n",
    "contraction_dict = pickle.load(pickle_file)"
   ]
  },
  {
   "cell_type": "code",
   "execution_count": 9,
   "metadata": {},
   "outputs": [],
   "source": [
    "def clean_up_text(sentence):\n",
    "    sentence = sentence.lower()\n",
    "    sentence = BeautifulSoup(sentence, 'lxml').text\n",
    "    sentence = re.sub(r'\\([^)]*\\)', '', sentence)\n",
    "    sentence = re.sub('\"','', sentence)\n",
    "    sentence = ' '.join([contraction_dict[word] if word in contraction_dict else word for word in sentence.split(' ')])\n",
    "    sentence = re.sub(r\"'s\\b\",'', sentence)\n",
    "    sentence = re.sub('[^a-zA-Z]', ' ', sentence) \n",
    "    \n",
    "    tokens = [word for word in sentence.split() if not word in stop_words]\n",
    "    words = []\n",
    "    for word in tokens:\n",
    "        if len(word) >= 3:\n",
    "            words.append(word)\n",
    "    \n",
    "    return (' '.join(words)).strip()"
   ]
  },
  {
   "cell_type": "code",
   "execution_count": 10,
   "metadata": {},
   "outputs": [
    {
     "data": {
      "application/vnd.jupyter.widget-view+json": {
       "model_id": "839ecc35072b4f5db389edfcc8eb044e",
       "version_major": 2,
       "version_minor": 0
      },
      "text/plain": [
       "HBox(children=(IntProgress(value=0, max=72239), HTML(value='')))"
      ]
     },
     "metadata": {},
     "output_type": "display_data"
    },
    {
     "name": "stdout",
     "output_type": "stream",
     "text": [
      "\n"
     ]
    }
   ],
   "source": [
    "cleaned_text = []\n",
    "for sentence in tqdm_notebook(df_reviews['Text']): cleaned_text.append(clean_up_text(sentence))\n",
    "df_reviews['Cleaned Text'] = cleaned_text"
   ]
  },
  {
   "cell_type": "code",
   "execution_count": 11,
   "metadata": {},
   "outputs": [],
   "source": [
    "def clean_up_summary(sentence):\n",
    "    sentence = re.sub('\"', '', sentence)\n",
    "    sentence = ' '.join([contraction_dict[word] if word in contraction_dict else word for word in sentence.split(' ')])\n",
    "    sentence = re.sub(r\"'s\\b\",'', sentence)\n",
    "    sentence = re.sub('[^a-zA-Z]', ' ', sentence)\n",
    "    sentence = sentence.lower()\n",
    "    \n",
    "    tokens = sentence.split()\n",
    "    sentence = ''\n",
    "    for word in tokens:\n",
    "        if len(word) > 1:\n",
    "            sentence += word + ' '\n",
    "    \n",
    "    return sentence"
   ]
  },
  {
   "cell_type": "code",
   "execution_count": 12,
   "metadata": {},
   "outputs": [
    {
     "data": {
      "application/vnd.jupyter.widget-view+json": {
       "model_id": "26b6ec30ffab45c690b9963d891e41c1",
       "version_major": 2,
       "version_minor": 0
      },
      "text/plain": [
       "HBox(children=(IntProgress(value=0, max=72239), HTML(value='')))"
      ]
     },
     "metadata": {},
     "output_type": "display_data"
    },
    {
     "name": "stdout",
     "output_type": "stream",
     "text": [
      "\n"
     ]
    }
   ],
   "source": [
    "cleaned_summary = []\n",
    "for sentence in tqdm_notebook(df_reviews['Summary']): cleaned_summary.append(clean_up_summary(sentence))\n",
    "df_reviews['Cleaned Summary'] = cleaned_summary\n",
    "df_reviews['Cleaned Summary'] = df_reviews['Cleaned Summary'].replace('', np.nan)\n",
    "df_reviews = df_reviews.dropna(axis=0)\n",
    "df_reviews['Cleaned Summary'] = df_reviews['Cleaned Summary'].apply(lambda x : '_START_ ' + x + ' _END_')"
   ]
  },
  {
   "cell_type": "code",
   "execution_count": 13,
   "metadata": {},
   "outputs": [
    {
     "data": {
      "text/html": [
       "<div>\n",
       "<style scoped>\n",
       "    .dataframe tbody tr th:only-of-type {\n",
       "        vertical-align: middle;\n",
       "    }\n",
       "\n",
       "    .dataframe tbody tr th {\n",
       "        vertical-align: top;\n",
       "    }\n",
       "\n",
       "    .dataframe thead th {\n",
       "        text-align: right;\n",
       "    }\n",
       "</style>\n",
       "<table border=\"1\" class=\"dataframe\">\n",
       "  <thead>\n",
       "    <tr style=\"text-align: right;\">\n",
       "      <th></th>\n",
       "      <th>Text</th>\n",
       "      <th>Cleaned Text</th>\n",
       "      <th>Summary</th>\n",
       "      <th>Cleaned Summary</th>\n",
       "    </tr>\n",
       "  </thead>\n",
       "  <tbody>\n",
       "    <tr>\n",
       "      <th>0</th>\n",
       "      <td>I have bought several of the Vitality canned d...</td>\n",
       "      <td>bought several vitality canned dog food produc...</td>\n",
       "      <td>Good Quality Dog Food</td>\n",
       "      <td>_START_ good quality dog food  _END_</td>\n",
       "    </tr>\n",
       "    <tr>\n",
       "      <th>1</th>\n",
       "      <td>Product arrived labeled as Jumbo Salted Peanut...</td>\n",
       "      <td>product arrived labeled jumbo salted peanuts p...</td>\n",
       "      <td>Not as Advertised</td>\n",
       "      <td>_START_ not as advertised  _END_</td>\n",
       "    </tr>\n",
       "    <tr>\n",
       "      <th>2</th>\n",
       "      <td>This is a confection that has been around a fe...</td>\n",
       "      <td>confection around centuries light pillowy citr...</td>\n",
       "      <td>\"Delight\" says it all</td>\n",
       "      <td>_START_ delight says it all  _END_</td>\n",
       "    </tr>\n",
       "    <tr>\n",
       "      <th>3</th>\n",
       "      <td>If you are looking for the secret ingredient i...</td>\n",
       "      <td>looking secret ingredient robitussin believe f...</td>\n",
       "      <td>Cough Medicine</td>\n",
       "      <td>_START_ cough medicine  _END_</td>\n",
       "    </tr>\n",
       "    <tr>\n",
       "      <th>4</th>\n",
       "      <td>Great taffy at a great price.  There was a wid...</td>\n",
       "      <td>great taffy great price wide assortment yummy ...</td>\n",
       "      <td>Great taffy</td>\n",
       "      <td>_START_ great taffy  _END_</td>\n",
       "    </tr>\n",
       "  </tbody>\n",
       "</table>\n",
       "</div>"
      ],
      "text/plain": [
       "                                                Text  \\\n",
       "0  I have bought several of the Vitality canned d...   \n",
       "1  Product arrived labeled as Jumbo Salted Peanut...   \n",
       "2  This is a confection that has been around a fe...   \n",
       "3  If you are looking for the secret ingredient i...   \n",
       "4  Great taffy at a great price.  There was a wid...   \n",
       "\n",
       "                                        Cleaned Text                Summary  \\\n",
       "0  bought several vitality canned dog food produc...  Good Quality Dog Food   \n",
       "1  product arrived labeled jumbo salted peanuts p...      Not as Advertised   \n",
       "2  confection around centuries light pillowy citr...  \"Delight\" says it all   \n",
       "3  looking secret ingredient robitussin believe f...         Cough Medicine   \n",
       "4  great taffy great price wide assortment yummy ...            Great taffy   \n",
       "\n",
       "                        Cleaned Summary  \n",
       "0  _START_ good quality dog food  _END_  \n",
       "1      _START_ not as advertised  _END_  \n",
       "2    _START_ delight says it all  _END_  \n",
       "3         _START_ cough medicine  _END_  \n",
       "4            _START_ great taffy  _END_  "
      ]
     },
     "execution_count": 13,
     "metadata": {},
     "output_type": "execute_result"
    }
   ],
   "source": [
    "df_reviews[['Text', 'Cleaned Text', 'Summary', 'Cleaned Summary']].head()"
   ]
  },
  {
   "cell_type": "code",
   "execution_count": 14,
   "metadata": {},
   "outputs": [
    {
     "name": "stdout",
     "output_type": "stream",
     "text": [
      "Text: product arrived labeled jumbo salted peanuts peanuts actually small sized unsalted sure error vendor intended represent product jumbo\n",
      "Summary: _START_ not as advertised  _END_\n",
      "\n",
      "\n",
      "Text: confection around centuries light pillowy citrus gelatin nuts case filberts cut tiny squares liberally coated powdered sugar tiny mouthful heaven chewy flavorful highly recommend yummy treat familiar story lewis lion witch wardrobe treat seduces edmund selling brother sisters witch\n",
      "Summary: _START_ delight says it all  _END_\n",
      "\n",
      "\n",
      "Text: looking secret ingredient robitussin believe found got addition root beer extract ordered made cherry soda flavor medicinal\n",
      "Summary: _START_ cough medicine  _END_\n",
      "\n",
      "\n",
      "Text: great taffy great price wide assortment yummy taffy delivery quick taffy lover deal\n",
      "Summary: _START_ great taffy  _END_\n",
      "\n",
      "\n",
      "Text: got wild hair taffy ordered five pound bag taffy enjoyable many flavors watermelon root beer melon peppermint grape etc complaint bit much red black licorice flavored pieces kids husband lasted two weeks would recommend brand taffy delightful treat\n",
      "Summary: _START_ nice taffy  _END_\n",
      "\n",
      "\n"
     ]
    }
   ],
   "source": [
    "for i in range(5):\n",
    "    print(\"Text:\", df_reviews['Cleaned Text'][i+1])\n",
    "    print(\"Summary:\", df_reviews['Cleaned Summary'][i+1])\n",
    "    print(\"\\n\")"
   ]
  },
  {
   "cell_type": "markdown",
   "metadata": {},
   "source": [
    "#### 3) Setting maximum length of the reviews and the summary based on the distribution of sequences"
   ]
  },
  {
   "cell_type": "code",
   "execution_count": 15,
   "metadata": {},
   "outputs": [],
   "source": [
    "text_word_count = []\n",
    "summary_word_count = []\n",
    "\n",
    "for sentence in df_reviews['Cleaned Text']: text_word_count.append(len(sentence.split()))\n",
    "for sentence in df_reviews['Cleaned Summary']: summary_word_count.append(len(sentence.split()))"
   ]
  },
  {
   "cell_type": "code",
   "execution_count": 16,
   "metadata": {},
   "outputs": [
    {
     "data": {
      "image/png": "[encoded data removed]",
      "text/plain": [
       "<Figure size 1080x360 with 2 Axes>"
      ]
     },
     "metadata": {},
     "output_type": "display_data"
    }
   ],
   "source": [
    "df_dist_sequences = pd.DataFrame({ 'Text': text_word_count, 'Summary': summary_word_count })\n",
    "\n",
    "fig = plt.figure(figsize=(15,5))\n",
    "ax1 = fig.add_subplot(1,2,1)\n",
    "plt.title('Length Distribution of Text Sequences')\n",
    "ax1.hist(x= df_dist_sequences['Text'], bins=30, color='Blue')\n",
    "ax2 = fig.add_subplot(1,2,2)\n",
    "plt.title('Length Distribution of Summary Sequences')\n",
    "ax2.hist(x= df_dist_sequences['Summary'], bins = 30, color='Orange')\n",
    "\n",
    "plt.savefig('./images/histogram-length-distribution-of-sequences')\n",
    "plt.show()"
   ]
  },
  {
   "cell_type": "code",
   "execution_count": 17,
   "metadata": {},
   "outputs": [],
   "source": [
    "MAX_LEN_TEXT = 80\n",
    "MAX_LEN_SUMMARY = 10"
   ]
  },
  {
   "cell_type": "markdown",
   "metadata": {},
   "source": [
    "#### 4) Splitting datasets into training and validation set"
   ]
  },
  {
   "cell_type": "code",
   "execution_count": 18,
   "metadata": {},
   "outputs": [],
   "source": [
    "from sklearn.model_selection import train_test_split"
   ]
  },
  {
   "cell_type": "code",
   "execution_count": 19,
   "metadata": {},
   "outputs": [],
   "source": [
    "TEST_SIZE = 0.1\n",
    "X_train, X_valid, y_train, y_valid = train_test_split(df_reviews['Cleaned Text'], df_reviews['Cleaned Summary'], test_size=TEST_SIZE, shuffle=True, random_state=10)"
   ]
  },
  {
   "cell_type": "markdown",
   "metadata": {},
   "source": [
    "#### 5) Preparing The Tokenizer"
   ]
  },
  {
   "cell_type": "code",
   "execution_count": 20,
   "metadata": {},
   "outputs": [],
   "source": [
    "# preparing a tokenizer for text on training data\n",
    "X_tokenizer = Tokenizer()\n",
    "X_tokenizer.fit_on_texts(list(X_train))\n",
    "\n",
    "# converting text sequences into integer sequences\n",
    "X_train = X_tokenizer.texts_to_sequences(X_train)\n",
    "X_valid = X_tokenizer.texts_to_sequences(X_valid)\n",
    "\n",
    "# padding zero up to maximum length\n",
    "X_train = pad_sequences(X_train, maxlen=MAX_LEN_TEXT, padding='post')\n",
    "X_valid = pad_sequences(X_valid, maxlen=MAX_LEN_TEXT, padding='post')\n",
    "\n",
    "# calculating vocabulary size\n",
    "X_vocab_size = len(X_tokenizer.word_index) + 1"
   ]
  },
  {
   "cell_type": "code",
   "execution_count": 21,
   "metadata": {},
   "outputs": [],
   "source": [
    "# preparing a tokenizer for summary on training data\n",
    "y_tokenizer = Tokenizer()\n",
    "y_tokenizer.fit_on_texts(list(y_train))\n",
    "\n",
    "# converting summary sequences into integer sequences\n",
    "y_train = y_tokenizer.texts_to_sequences(y_train)\n",
    "y_valid = y_tokenizer.texts_to_sequences(y_valid)\n",
    "\n",
    "# padding zero up to maximum length\n",
    "y_train = pad_sequences(y_train, maxlen=MAX_LEN_SUMMARY, padding='post')\n",
    "y_valid = pad_sequences(y_valid, maxlen=MAX_LEN_SUMMARY, padding='post')\n",
    "\n",
    "# calculating vocabulary size\n",
    "y_vocab_size = len(y_tokenizer.word_index) + 1"
   ]
  },
  {
   "cell_type": "markdown",
   "metadata": {},
   "source": [
    "## Build Seq2seq Network"
   ]
  },
  {
   "cell_type": "code",
   "execution_count": 22,
   "metadata": {},
   "outputs": [],
   "source": [
    "from attention import AttentionLayer"
   ]
  },
  {
   "cell_type": "code",
   "execution_count": 23,
   "metadata": {},
   "outputs": [],
   "source": [
    "LATENT_DIM = 500 "
   ]
  },
  {
   "cell_type": "code",
   "execution_count": 24,
   "metadata": {},
   "outputs": [],
   "source": [
    "# INITIALIZE NETWORK ARCHITECTURE FOR TRAINING PROCESS\n",
    "# -----------------------------------------------------\n",
    "\n",
    "# Encoder \n",
    "encoder_inputs = Input(shape=(MAX_LEN_TEXT,)) \n",
    "encoder_embedding_layer = Embedding(X_vocab_size, LATENT_DIM, trainable=True)\n",
    "encoder_embedding = encoder_embedding_layer(encoder_inputs)\n",
    "\n",
    "# The Encoder\n",
    "encoder_lstm_layer = LSTM(LATENT_DIM, return_sequences=True, return_state=True) \n",
    "encoder_output, state_h, state_c = encoder_lstm_layer(encoder_embedding) \n",
    "encoder_lstm_layer = LSTM(LATENT_DIM, return_sequences=True, return_state=True) \n",
    "encoder_output, state_h, state_c = encoder_lstm_layer(encoder_output) \n",
    "encoder_lstm_layer = LSTM(LATENT_DIM, return_state=True, return_sequences=True) \n",
    "encoder_context_vector, state_h, state_c = encoder_lstm_layer(encoder_output) \n",
    "\n",
    "# The Decoder\n",
    "decoder_inputs = Input(shape=(None,)) \n",
    "decoder_embedding_layer = Embedding(y_vocab_size, LATENT_DIM, trainable=True)\n",
    "decoder_embedding = decoder_embedding_layer(decoder_inputs)\n",
    "decoder_lstm_layer = LSTM(LATENT_DIM, return_sequences=True, return_state=True) \n",
    "decoder_outputs, decoder_forward_state, decoder_backward_state = decoder_lstm_layer(decoder_embedding, initial_state=[state_h, state_c]) \n",
    "\n",
    "# Attention Layer\n",
    "attention_layer = AttentionLayer(name='attention_layer') \n",
    "attention_outputs, attention_states = attention_layer([encoder_context_vector, decoder_outputs]) \n",
    "\n",
    "# concatinating The LSTM-Decoder outputs and Attention outputs\n",
    "decoder_attention_outputs = Concatenate(axis=-1, name='concat_layer')([decoder_outputs, attention_outputs])\n",
    "\n",
    "# Dense layer\n",
    "decoder_dense_layer = TimeDistributed(Dense(y_vocab_size, activation='softmax')) \n",
    "decoder_outputs = decoder_dense_layer(decoder_attention_outputs) \n",
    "\n",
    "# defining the network\n",
    "seq2seq_net = Model([encoder_inputs, decoder_inputs], decoder_outputs)"
   ]
  },
  {
   "cell_type": "code",
   "execution_count": 25,
   "metadata": {},
   "outputs": [
    {
     "name": "stdout",
     "output_type": "stream",
     "text": [
      "__________________________________________________________________________________________________\n",
      "Layer (type)                    Output Shape         Param #     Connected to                     \n",
      "==================================================================================================\n",
      "input_1 (InputLayer)            (None, 80)           0                                            \n",
      "__________________________________________________________________________________________________\n",
      "embedding (Embedding)           (None, 80, 500)      24483500    input_1[0][0]                    \n",
      "__________________________________________________________________________________________________\n",
      "lstm (LSTM)                     [(None, 80, 500), (N 2002000     embedding[0][0]                  \n",
      "__________________________________________________________________________________________________\n",
      "input_2 (InputLayer)            (None, None)         0                                            \n",
      "__________________________________________________________________________________________________\n",
      "lstm_1 (LSTM)                   [(None, 80, 500), (N 2002000     lstm[0][0]                       \n",
      "__________________________________________________________________________________________________\n",
      "embedding_1 (Embedding)         (None, None, 500)    7023500     input_2[0][0]                    \n",
      "__________________________________________________________________________________________________\n",
      "lstm_2 (LSTM)                   [(None, 80, 500), (N 2002000     lstm_1[0][0]                     \n",
      "__________________________________________________________________________________________________\n",
      "lstm_3 (LSTM)                   [(None, None, 500),  2002000     embedding_1[0][0]                \n",
      "                                                                 lstm_2[0][1]                     \n",
      "                                                                 lstm_2[0][2]                     \n",
      "__________________________________________________________________________________________________\n",
      "attention_layer (AttentionLayer [(None, None, 500),  500500      lstm_2[0][0]                     \n",
      "                                                                 lstm_3[0][0]                     \n",
      "__________________________________________________________________________________________________\n",
      "concat_layer (Concatenate)      (None, None, 1000)   0           lstm_3[0][0]                     \n",
      "                                                                 attention_layer[0][0]            \n",
      "__________________________________________________________________________________________________\n",
      "time_distributed (TimeDistribut (None, None, 14047)  14061047    concat_layer[0][0]               \n",
      "==================================================================================================\n",
      "Total params: 54,076,547\n",
      "Trainable params: 54,076,547\n",
      "Non-trainable params: 0\n",
      "__________________________________________________________________________________________________\n"
     ]
    }
   ],
   "source": [
    "seq2seq_net.summary()"
   ]
  },
  {
   "cell_type": "markdown",
   "metadata": {},
   "source": [
    "## Set Loss Function"
   ]
  },
  {
   "cell_type": "code",
   "execution_count": 26,
   "metadata": {},
   "outputs": [],
   "source": [
    "seq2seq_net.compile(optimizer='rmsprop', loss='sparse_categorical_crossentropy')"
   ]
  },
  {
   "cell_type": "markdown",
   "metadata": {},
   "source": [
    "## Set Early Stopping"
   ]
  },
  {
   "cell_type": "code",
   "execution_count": 27,
   "metadata": {},
   "outputs": [],
   "source": [
    "es = EarlyStopping(monitor='val_loss', mode='min', verbose=True)"
   ]
  },
  {
   "cell_type": "markdown",
   "metadata": {},
   "source": [
    "## Train The Network"
   ]
  },
  {
   "cell_type": "code",
   "execution_count": 28,
   "metadata": {},
   "outputs": [],
   "source": [
    "BATCH_SIZE = 512\n",
    "N_EPOCHS = 50"
   ]
  },
  {
   "cell_type": "code",
   "execution_count": 29,
   "metadata": {},
   "outputs": [],
   "source": [
    "# training data\n",
    "X_to_train = [X_train, y_train[:,:-1]]\n",
    "y_to_train = y_train.reshape(y_train.shape[0], y_train.shape[1], 1)[:,1:]\n",
    "\n",
    "# validation data\n",
    "X_to_valid = [X_valid, y_valid[:,:-1]]\n",
    "y_to_valid = y_valid.reshape(y_valid.shape[0], y_valid.shape[1], 1)[:,1:]"
   ]
  },
  {
   "cell_type": "code",
   "execution_count": 30,
   "metadata": {},
   "outputs": [
    {
     "name": "stdout",
     "output_type": "stream",
     "text": [
      "Train on 64965 samples, validate on 7219 samples\n",
      "Epoch 1/50\n",
      "64965/64965 [==============================] - 6549s 101ms/step - loss: 3.6589 - val_loss: 3.2116\n",
      "Epoch 2/50\n",
      "64965/64965 [==============================] - 6470s 100ms/step - loss: 3.1944 - val_loss: 2.9485\n",
      "Epoch 3/50\n",
      "64965/64965 [==============================] - 7088s 109ms/step - loss: 2.9583 - val_loss: 2.7816\n",
      "Epoch 4/50\n",
      "64965/64965 [==============================] - 7046s 108ms/step - loss: 2.7709 - val_loss: 2.6731\n",
      "Epoch 5/50\n",
      "64965/64965 [==============================] - 6816s 105ms/step - loss: 2.6234 - val_loss: 2.6018\n",
      "Epoch 6/50\n",
      "64965/64965 [==============================] - 7328s 113ms/step - loss: 2.4978 - val_loss: 2.5334\n",
      "Epoch 7/50\n",
      "64965/64965 [==============================] - 7216s 111ms/step - loss: 2.3831 - val_loss: 2.4956\n",
      "Epoch 8/50\n",
      "64965/64965 [==============================] - 7387s 114ms/step - loss: 2.2766 - val_loss: 2.4763\n",
      "Epoch 9/50\n",
      "64965/64965 [==============================] - 6725s 104ms/step - loss: 2.1742 - val_loss: 2.4656\n",
      "Epoch 10/50\n",
      "64965/64965 [==============================] - 5678s 87ms/step - loss: 2.0768 - val_loss: 2.4828\n",
      "Epoch 00010: early stopping\n"
     ]
    }
   ],
   "source": [
    "seq2seq_history = seq2seq_net.fit(X_to_train, y_to_train, validation_data=(X_to_valid, y_to_valid), epochs=N_EPOCHS, batch_size=BATCH_SIZE, callbacks=[es], verbose=True)"
   ]
  },
  {
   "cell_type": "code",
   "execution_count": 31,
   "metadata": {},
   "outputs": [
    {
     "data": {
      "image/png": "[encoded data removed]",
      "text/plain": [
       "<Figure size 432x288 with 1 Axes>"
      ]
     },
     "metadata": {},
     "output_type": "display_data"
    }
   ],
   "source": [
    "plt.plot(seq2seq_history.history['loss'], label='train') \n",
    "plt.plot(seq2seq_history.history['val_loss'], label='test') \n",
    "plt.legend()\n",
    "plt.savefig('./images/train-valid-loss-of-seq2seq-network')\n",
    "plt.show()"
   ]
  },
  {
   "cell_type": "markdown",
   "metadata": {},
   "source": [
    "## Get Summary"
   ]
  },
  {
   "cell_type": "code",
   "execution_count": 32,
   "metadata": {},
   "outputs": [],
   "source": [
    "source_word2index = X_tokenizer.word_index\n",
    "source_index2word = { index: word for word, index in source_word2index.items() }\n",
    "\n",
    "target_word2index = y_tokenizer.word_index\n",
    "target_index2word = { index: word for word, index in target_word2index.items() }"
   ]
  },
  {
   "cell_type": "code",
   "execution_count": 33,
   "metadata": {},
   "outputs": [],
   "source": [
    "# INITIALIZE NETWORK ARCHITECTURE FOR INFERENCING PROCESS\n",
    "# --------------------------------------------------------\n",
    "\n",
    "# encoder inference\n",
    "encoder_model = Model(inputs=encoder_inputs, outputs=[encoder_context_vector, state_h, state_c])\n",
    "\n",
    "# decoder inference, below tensors will hold the states of the previous time step\n",
    "decoder_state_input_h = Input(shape=(LATENT_DIM,))\n",
    "decoder_state_input_c = Input(shape=(LATENT_DIM,))\n",
    "decoder_hidden_state_input = Input(shape=(MAX_LEN_TEXT, LATENT_DIM))\n",
    "\n",
    "# geting the embeddings of the decoder sequence\n",
    "decoder_embedding_inf = decoder_embedding_layer(decoder_inputs)\n",
    "\n",
    "# setting the initial states to the states from the previous time step, to predict the next word in the sequence\n",
    "decoder_outputs_inf, state_h_inf, state_c_inf = decoder_lstm_layer(decoder_embedding_inf, initial_state=[decoder_state_input_h, decoder_state_input_c])\n",
    "\n",
    "# attention inference\n",
    "attention_outputs, attention_states = attention_layer([decoder_hidden_state_input, decoder_outputs_inf])\n",
    "\n",
    "# concatinating The LSTM-Decoder outputs and Attention outputs\n",
    "decoder_attention_outputs = Concatenate(axis=-1, name='concat_layer_inf')([decoder_outputs_inf, attention_outputs])\n",
    "\n",
    "# Dense softmax layer to generate probability distribution over the target vocabulary\n",
    "decoder_outputs = decoder_dense_layer(decoder_attention_outputs)\n",
    "\n",
    "# Final decoder model\n",
    "decoder_model = Model(\n",
    "[decoder_inputs] + [decoder_hidden_state_input, decoder_state_input_h, decoder_state_input_c],\n",
    "[decoder_outputs_inf] + [state_h_inf, state_c_inf])"
   ]
  },
  {
   "cell_type": "code",
   "execution_count": 34,
   "metadata": {},
   "outputs": [],
   "source": [
    "def decode_sequence(input_sequence):\n",
    "    \n",
    "    # encoding the input as state vectors\n",
    "    e_out, e_h, e_c = encoder_model.predict(input_sequence)\n",
    "\n",
    "    # generating empty target sequence of length 1\n",
    "    target_sequence = np.zeros((1,1))\n",
    "\n",
    "    # choosing the 'start' word as the first word of the target sequence\n",
    "    target_sequence[0, 0] = target_word2index['start']\n",
    "\n",
    "    stop_condition = False\n",
    "    \n",
    "    decoded_sequence = ''\n",
    "    \n",
    "    while not stop_condition:\n",
    "        \n",
    "        output_tokens, h, c = decoder_model.predict([target_sequence] + [e_out, e_h, e_c])\n",
    "\n",
    "        # sampling a token and using greedy approach\n",
    "        predicted_word_index = np.argmax(output_tokens[0, -1, :])\n",
    "        predicted_word = target_index2word[predicted_word_index]\n",
    "\n",
    "        if(predicted_word != 'end'):\n",
    "            decoded_sequence += ' ' + predicted_word\n",
    "\n",
    "            # stopping process when either hiting max length or finding stop word\n",
    "            if (predicted_word == 'end' or len(decoded_sequence.split()) >= (MAX_LEN_SUMMARY-1)):\n",
    "                stop_condition = True\n",
    "\n",
    "        # updating the target sequence of length 1\n",
    "        target_sequence = np.zeros((1,1))\n",
    "        target_sequence[0, 0] = predicted_word_index\n",
    "\n",
    "        # updating internal states\n",
    "        e_h, e_c = h, c\n",
    "\n",
    "    return decoded_sequence"
   ]
  },
  {
   "cell_type": "code",
   "execution_count": 35,
   "metadata": {},
   "outputs": [],
   "source": [
    "def process_sequence_to_text(input_sequence):\n",
    "    \n",
    "    text = ''\n",
    "    for index in input_sequence:\n",
    "        if (index != 0):\n",
    "            text = text + source_index2word[index] + ' '\n",
    "    return text"
   ]
  },
  {
   "cell_type": "code",
   "execution_count": 36,
   "metadata": {},
   "outputs": [],
   "source": [
    "def process_sequence_to_summary(input_sequence):\n",
    "    \n",
    "    text = ''\n",
    "    for index in input_sequence:\n",
    "        if ((index != 0 and index != target_word2index['start']) and index != target_word2index['end']):\n",
    "            text = text + target_index2word[index] + ' ' \n",
    "    return text"
   ]
  },
  {
   "cell_type": "code",
   "execution_count": 37,
   "metadata": {
    "scrolled": false
   },
   "outputs": [
    {
     "name": "stdout",
     "output_type": "stream",
     "text": [
      "AWESOME, NEAT & CONCISE TEXT SUMMARY (7219 REVIEWS):\n",
      "\n",
      "-----------------------------------------------------------------------------------------------------\n",
      "REVIEW 1: Gluten added sugar raw vegan would think would pretty darn bland nasty well would wrong amazing sometimes simple natural better one cases far prefer fancy energy bars like luna bars clif bars etc simply nuts dried fruit satisfy sweet tooth also give energy need get day eat mid morning mid afternoon stack cherry pie far tastiest flavor tart tasty confused listed amazon gluten free section though.\n",
      "\n",
      "ORIGINAL SUMMARY 1: The perfect snack.\n",
      "\n",
      "PREDICTED SUMMARY 1: Had oatmeal stale stale stale stale stale water water.\n",
      "\n",
      "-----------------------------------------------------------------------------------------------------\n",
      "REVIEW 2: Months back wife decided put flaxseed nearly everything smoothies muffins waffles bread name put flaxseed done tell since flaxseed revolution regular point life telling set clock regularity fact flaxseed muffins drive work activity limited time flaxseed magic flaxseed meal rich fiber lignans omega fats cannot wrong try flaxseed stuff magic.\n",
      "\n",
      "ORIGINAL SUMMARY 2: Flaxseed has my life.\n",
      "\n",
      "PREDICTED SUMMARY 2: Had had decent they they bought water they that.\n",
      "\n",
      "-----------------------------------------------------------------------------------------------------\n",
      "REVIEW 3: Know order getting cannisters powder said chocolate package never enough find using powders many dishes also mix little milks make flavored froth using cbtl specialty coffees taste good would never know tasting sugar free powder.\n",
      "\n",
      "ORIGINAL SUMMARY 3: Vanilla powder.\n",
      "\n",
      "PREDICTED SUMMARY 3: Does tasty oatmeal oatmeal smells worst get tasty tasty.\n",
      "\n",
      "-----------------------------------------------------------------------------------------------------\n",
      "REVIEW 4: Bold spicy good descriptors brightly colored chipotle sauce reminds sauces taco bell thus great job used tacos burittos fajitas spicy enough noticable top sam author fantasy football tips fantasy football tips ways win player rankings cheat sheets better fantasy baseball beginners fantasy baseball beginners ultimate guide.\n",
      "\n",
      "ORIGINAL SUMMARY 4: Great sauce just like at taco bell.\n",
      "\n",
      "PREDICTED SUMMARY 4: Well aroma whole didn bought bad still really still.\n",
      "\n",
      "-----------------------------------------------------------------------------------------------------\n",
      "REVIEW 5: Hazelnut kit kats outrageous imported europe worth wait taste like nutella definitely worth trying never.\n",
      "\n",
      "ORIGINAL SUMMARY 5: Hazelnut kit are outrageous.\n",
      "\n",
      "PREDICTED SUMMARY 5: More more more more more my tasty they tasty.\n",
      "\n",
      "-----------------------------------------------------------------------------------------------------\n",
      "REVIEW 6: Cats love little jars different wet flavors even cats accustomed dry food like feel like giving something healthful gourmet serve food quite could good bad thing depending preference open jar serve mistake tuna.\n",
      "\n",
      "ORIGINAL SUMMARY 6: Cats meow.\n",
      "\n",
      "PREDICTED SUMMARY 6: Well aroma oatmeal awful awful item we still still.\n",
      "\n",
      "-----------------------------------------------------------------------------------------------------\n",
      "REVIEW 7: Healthier snack sure salty salt way make chips taste better without additional calories bag calories sodium intake day chips bad would get flavoring comes salt.\n",
      "\n",
      "ORIGINAL SUMMARY 7: Tasty but salty.\n",
      "\n",
      "PREDICTED SUMMARY 7: Does tasty oatmeal oatmeal smells never that too that.\n",
      "\n",
      "-----------------------------------------------------------------------------------------------------\n",
      "REVIEW 8: Never seen dog love toy much dog loves deer antler great perfect size little shih tzu yorkie mix great deal fast shipping.\n",
      "\n",
      "ORIGINAL SUMMARY 8: Great my dog loves them.\n",
      "\n",
      "PREDICTED SUMMARY 8: Does tasty organic whole strong they we worst get.\n",
      "\n",
      "-----------------------------------------------------------------------------------------------------\n",
      "REVIEW 9: Supplement listed bottle directions day took pills times per day following day pumped ounces milk took amount pills day pills day days pump home able feed baby without supplementing formula day holiday weekend time need supplement take additional pills first days day holiday pumped ounces day days row also breastfed baby evenings got home work problem lucky pumped ounces side effects included maple syrup smell urine sweat also upset stomach days thought worth best thing supply increased stop taking pills.\n",
      "\n",
      "ORIGINAL SUMMARY 9: Promotes breastmilk supply.\n",
      "\n",
      "PREDICTED SUMMARY 9: Had bread bread pretty best bread pretty pretty stale.\n",
      "\n",
      "-----------------------------------------------------------------------------------------------------\n",
      "REVIEW 10: Cook chicken livers oven use thumb sized morsel hot water coat whole doggie dish put dollop tuna fish top big handfull science diet superb loves feisty pup feed small meals four times day.\n",
      "\n",
      "ORIGINAL SUMMARY 10: Get my dog to eat it but worth it.\n",
      "\n",
      "PREDICTED SUMMARY 10: Well aroma bread fine smells awful item we still.\n",
      "\n",
      "-----------------------------------------------------------------------------------------------------\n",
      "REVIEW 11: Question waffle mix use somehow hungry jack felt like sublime kitchen appliance read reviews amazon concluded despite rather high price stonewall would great choice bang nailed first time know waffle maker particularly large deep get two one half waffles batch dare water try stretch figure got batches waffles one cost per waffle steep never failed come light inside slightly crisp outside never stuck waffle iron grudgingly even though see price gone dollar per reordering goes higher may try another brand.\n",
      "\n",
      "ORIGINAL SUMMARY 11: Am believer.\n",
      "\n",
      "PREDICTED SUMMARY 11: Had stale stale the best so stale stale cereal.\n",
      "\n",
      "-----------------------------------------------------------------------------------------------------\n",
      "REVIEW 12: Good flavor good price wish offered decaf.\n",
      "\n",
      "ORIGINAL SUMMARY 12: Lipton mint green tea.\n",
      "\n",
      "PREDICTED SUMMARY 12: Does tasty organic whole still tasty worst get tasty.\n",
      "\n",
      "-----------------------------------------------------------------------------------------------------\n",
      "REVIEW 13: Oatmeal cookies found pretty much store variety brands order get attention something pretty special average premium price starters make sure pay attention box cookies rather large box flip box around look ingredients hear oatmeal almond cookie expect something least mildly healthy put frankly nutrition value cookies lacking taste nothing really special seem overly flavorful cannot say disliked either best thing say good indication quality would get sadly see first second choice looking buy cookies even top ten honest.\n",
      "\n",
      "ORIGINAL SUMMARY 13: Nothing special except the price.\n",
      "\n",
      "PREDICTED SUMMARY 13: Had stale stale stale stale stale stale stale new.\n",
      "\n",
      "-----------------------------------------------------------------------------------------------------\n",
      "REVIEW 14: Instant ginger tea like much better one lemon flavor real powdered lemon rind juice irritated throat chemical flavorings natural one throwaway terms clearly misleading name product lemon chemical flavor natural.\n",
      "\n",
      "ORIGINAL SUMMARY 14: Not my cup of tea.\n",
      "\n",
      "PREDICTED SUMMARY 14: Well fantastic oatmeal we tasty oatmeal oatmeal oatmeal oatmeal.\n",
      "\n",
      "-----------------------------------------------------------------------------------------------------\n",
      "REVIEW 15: Expensive get eaten quickly year old son loves great self feeding skills year old loves afterschool snacks husband enjoy try eat much since snacks afterall much junk food months ago shipped box father law got addicted visiting took bags visit mother wyoming got hooked could find small town father law shipped box amazon last since lives alone see addictive careful buying first box also tried smart puffs cannon balls veggie puffs green veggie puffs well family year old son likes.\n",
      "\n",
      "ORIGINAL SUMMARY 15: Snack of choice for generations.\n",
      "\n",
      "PREDICTED SUMMARY 15: More breakfast so breakfast so breakfast jerky jerky breakfast.\n",
      "\n",
      "-----------------------------------------------------------------------------------------------------\n",
      "REVIEW 16: Please consider request need amazon sadaf fesenjan available purchase ready serve stew sauce sold pack item sold amazon prime privilege thank.\n",
      "\n",
      "ORIGINAL SUMMARY 16: Matter to be considered by amazon.\n",
      "\n"
     ]
    },
    {
     "name": "stdout",
     "output_type": "stream",
     "text": [
      "PREDICTED SUMMARY 16: Does tasty organic whole strong worst bad tasty organic.\n",
      "\n",
      "-----------------------------------------------------------------------------------------------------\n",
      "REVIEW 17: Coarse grainy poor substitute real thing finally found schar rolls cut half toast excellent texture taste smaller size makes good portion control.\n",
      "\n",
      "ORIGINAL SUMMARY 17: Try rolls.\n",
      "\n",
      "PREDICTED SUMMARY 17: Does tasty organic oatmeal we worst get tasty get.\n",
      "\n",
      "-----------------------------------------------------------------------------------------------------\n",
      "REVIEW 18: Stores city wal mart heb one time handled chocolate fudge pudding however many products soon began catch fly shelves brilliant purchasing agent decides discontinue product case two stores leaving host taste buds craving rich chocolate flavor decided try internet pleasant surprise found delicious morsel available amazon pleased often amazon range available products pounced upon opportunity purchased case deceptively low calorie dessert treat enjoy dessert wild abandon secure knowledge source thank.\n",
      "\n",
      "ORIGINAL SUMMARY 18: Fudge fan finds fantastic fare.\n",
      "\n",
      "PREDICTED SUMMARY 18: Product aroma stale stale stale new new refreshing new.\n",
      "\n",
      "-----------------------------------------------------------------------------------------------------\n",
      "REVIEW 19: Six month pup pounds chews everything totally whatever get hands hoping helps satisfy chewing needs without destroyed looks great exactly wanting fingers crossed.\n",
      "\n",
      "ORIGINAL SUMMARY 19: Looks great and hope my dog enjoys it.\n",
      "\n",
      "PREDICTED SUMMARY 19: Does tasty organic whole still tasty worst get tasty.\n",
      "\n",
      "-----------------------------------------------------------------------------------------------------\n",
      "REVIEW 20: Totally raw meat browned soaked sojos original eats gusto early days would play take food away food aggressive eats recommended portion size walks away done weston wants play hard train hard take nice walk nap coat soft easy keep brushed groomed droppings nice sized easy clean neutered days ago ate sojos mix gusto fan finished second bag ordered another one hope helps someone picky eater know another reviewer mentioned shih tzu liking shows dogs certain tastes different much like humans.\n",
      "\n",
      "ORIGINAL SUMMARY 20: Picky puppy.\n",
      "\n",
      "PREDICTED SUMMARY 20: Nice so cereal cereal bread stale best best best.\n",
      "\n"
     ]
    }
   ],
   "source": [
    "print(f'AWESOME, NEAT & CONCISE TEXT SUMMARY ({len(X_valid)} REVIEWS):\\n')\n",
    "for index in range(20):\n",
    "    \n",
    "    print('-----------------------------------------------------------------------------------------------------')\n",
    "    \n",
    "    text = process_sequence_to_text(X_valid[index]).strip().capitalize() + '.'\n",
    "    print(f'REVIEW {index+1}: {text}\\n')\n",
    "    \n",
    "    text = process_sequence_to_summary(y_valid[index]).strip().capitalize() + '.'\n",
    "    print(f'ORIGINAL SUMMARY {index+1}: {text}\\n')\n",
    "    \n",
    "    text = decode_sequence(X_valid[index].reshape(1, MAX_LEN_TEXT)).strip().capitalize() + '.'\n",
    "    print(f'PREDICTED SUMMARY {index+1}: {text}\\n')\n",
    "    "
   ]
  },
  {
   "cell_type": "markdown",
   "metadata": {},
   "source": [
    "---"
   ]
  }
 ],
 "metadata": {
  "kernelspec": {
   "display_name": "Python 3",
   "language": "python",
   "name": "python3"
  },
  "language_info": {
   "codemirror_mode": {
    "name": "ipython",
    "version": 3
   },
   "file_extension": ".py",
   "mimetype": "text/x-python",
   "name": "python",
   "nbconvert_exporter": "python",
   "pygments_lexer": "ipython3",
   "version": "3.6.7"
  }
 },
 "nbformat": 4,
 "nbformat_minor": 2
}
