{
 "cells": [
  {
   "cell_type": "markdown",
   "metadata": {},
   "source": [
    "# BLEU, Short for “Bilingual Evaluation Understudy”"
   ]
  },
  {
   "cell_type": "markdown",
   "metadata": {},
   "source": [
    "# NIST, National Institute of Standards and Technology"
   ]
  },
  {
   "cell_type": "code",
   "execution_count": 1,
   "metadata": {},
   "outputs": [],
   "source": [
    "from nltk.translate.bleu_score import sentence_bleu\n",
    "from nltk.translate.nist_score import sentence_nist\n",
    "\n",
    "# BLEU uses N-gram precision technique + brevity penalty + others\n",
    "# Drawbacks of BLEU\n",
    "# 1. It doesn't consider meaning (semantic)\n",
    "# 2. It doesn't directly consider sentence structure (syntac)\n",
    "# 3. It doesn't handle morphologically rich languages well\n",
    "# 4. It doesn't map well to human judgements\n",
    "\n",
    "# NIST uses N-gram technique + brevity penalty + rareness & commonness penalty"
   ]
  },
  {
   "cell_type": "code",
   "execution_count": 2,
   "metadata": {},
   "outputs": [],
   "source": [
    "import warnings\n",
    "warnings.simplefilter('ignore', UserWarning)"
   ]
  },
  {
   "cell_type": "markdown",
   "metadata": {},
   "source": [
    "## Comparison"
   ]
  },
  {
   "cell_type": "code",
   "execution_count": 3,
   "metadata": {},
   "outputs": [
    {
     "name": "stdout",
     "output_type": "stream",
     "text": [
      "bleu_score: 1.0\n",
      "nist_score: 2.584962500721156\n"
     ]
    }
   ],
   "source": [
    "reference_sentence = list('i ate three hazelnuts with others'.split())\n",
    "hypothesis_sentence = list('i ate three hazelnuts with others'.split())\n",
    "\n",
    "bleu_score = sentence_bleu([reference_sentence], hypothesis_sentence)\n",
    "nist_score = sentence_nist([reference_sentence], hypothesis_sentence)\n",
    "\n",
    "print('bleu_score:', bleu_score)\n",
    "print('nist_score:', nist_score)"
   ]
  },
  {
   "cell_type": "code",
   "execution_count": 4,
   "metadata": {},
   "outputs": [
    {
     "name": "stdout",
     "output_type": "stream",
     "text": [
      "bleu_score: 0.8187307530779819\n",
      "nist_score: 2.2469203412969425\n"
     ]
    }
   ],
   "source": [
    "reference_sentence = list('i ate three hazelnuts with others'.split())\n",
    "hypothesis_sentence = list('i ate three hazelnuts with'.split())\n",
    "\n",
    "bleu_score = sentence_bleu([reference_sentence], hypothesis_sentence)\n",
    "nist_score = sentence_nist([reference_sentence], hypothesis_sentence)\n",
    "\n",
    "print('bleu_score:', bleu_score)\n",
    "print('nist_score:', nist_score)"
   ]
  },
  {
   "cell_type": "code",
   "execution_count": 5,
   "metadata": {},
   "outputs": [
    {
     "name": "stdout",
     "output_type": "stream",
     "text": [
      "bleu_score: 0.7598356856515925\n",
      "nist_score: 2.15413541726763\n"
     ]
    }
   ],
   "source": [
    "reference_sentence = list('i ate three hazelnuts with others'.split())\n",
    "hypothesis_sentence = list('i ate three hazelnuts with them'.split())\n",
    "\n",
    "bleu_score = sentence_bleu([reference_sentence], hypothesis_sentence)\n",
    "nist_score = sentence_nist([reference_sentence], hypothesis_sentence)\n",
    "\n",
    "print('bleu_score:', bleu_score)\n",
    "print('nist_score:', nist_score)"
   ]
  },
  {
   "cell_type": "code",
   "execution_count": 6,
   "metadata": {},
   "outputs": [
    {
     "name": "stdout",
     "output_type": "stream",
     "text": [
      "bleu_score: 0.7598356856515925\n",
      "nist_score: 2.15413541726763\n"
     ]
    }
   ],
   "source": [
    "reference_sentence = list('i ate three hazelnuts with others'.split())\n",
    "hypothesis_sentence = list('i ate three hazelnuts with cat'.split())\n",
    "\n",
    "bleu_score = sentence_bleu([reference_sentence], hypothesis_sentence)\n",
    "nist_score = sentence_nist([reference_sentence], hypothesis_sentence)\n",
    "\n",
    "print('bleu_score:', bleu_score)\n",
    "print('nist_score:', nist_score)"
   ]
  },
  {
   "cell_type": "code",
   "execution_count": 7,
   "metadata": {},
   "outputs": [
    {
     "name": "stdout",
     "output_type": "stream",
     "text": [
      "bleu_score: 0.7598356856515925\n",
      "nist_score: 2.15413541726763\n"
     ]
    }
   ],
   "source": [
    "reference_sentence = list('i ate three hazelnuts with others'.split())\n",
    "hypothesis_sentence = list('i ate three hazelnuts with me'.split())\n",
    "\n",
    "bleu_score = sentence_bleu([reference_sentence], hypothesis_sentence)\n",
    "nist_score = sentence_nist([reference_sentence], hypothesis_sentence)\n",
    "\n",
    "print('bleu_score:', bleu_score)\n",
    "print('nist_score:', nist_score)"
   ]
  },
  {
   "cell_type": "code",
   "execution_count": 8,
   "metadata": {},
   "outputs": [
    {
     "name": "stdout",
     "output_type": "stream",
     "text": [
      "bleu_score: 0.537284965911771\n",
      "nist_score: 2.15413541726763\n"
     ]
    }
   ],
   "source": [
    "reference_sentence = list('i ate three hazelnuts with others'.split())\n",
    "hypothesis_sentence = list('i consumed three hazelnuts with others'.split())\n",
    "\n",
    "bleu_score = sentence_bleu([reference_sentence], hypothesis_sentence) # penalized!\n",
    "nist_score = sentence_nist([reference_sentence], hypothesis_sentence) # not penalized!\n",
    "\n",
    "print('bleu_score:', bleu_score)\n",
    "print('nist_score:', nist_score)"
   ]
  },
  {
   "cell_type": "code",
   "execution_count": 9,
   "metadata": {},
   "outputs": [
    {
     "name": "stdout",
     "output_type": "stream",
     "text": [
      "bleu_score: 7.262123179505913e-78\n",
      "nist_score: 2.15413541726763\n"
     ]
    }
   ],
   "source": [
    "reference_sentence = list('i ate three hazelnuts with others'.split())\n",
    "hypothesis_sentence = list('i ate three filberts with others'.split())\n",
    "\n",
    "bleu_score = sentence_bleu([reference_sentence], hypothesis_sentence) # heavily penalized!\n",
    "nist_score = sentence_nist([reference_sentence], hypothesis_sentence) \n",
    "\n",
    "print('bleu_score:', bleu_score)\n",
    "print('nist_score:', nist_score)"
   ]
  },
  {
   "cell_type": "code",
   "execution_count": 10,
   "metadata": {},
   "outputs": [
    {
     "name": "stdout",
     "output_type": "stream",
     "text": [
      "bleu_score: 7.262123179505913e-78\n",
      "nist_score: 2.15413541726763\n"
     ]
    }
   ],
   "source": [
    "reference_sentence = list('i ate three hazelnuts with others'.split())\n",
    "hypothesis_sentence = list('i ate three eggs with others'.split())\n",
    "\n",
    "bleu_score = sentence_bleu([reference_sentence], hypothesis_sentence) # heavily penalized!\n",
    "nist_score = sentence_nist([reference_sentence], hypothesis_sentence) # not penalized!\n",
    "\n",
    "print('bleu_score:', bleu_score)\n",
    "print('nist_score:', nist_score)"
   ]
  },
  {
   "cell_type": "markdown",
   "metadata": {},
   "source": [
    "## Others"
   ]
  },
  {
   "cell_type": "code",
   "execution_count": 11,
   "metadata": {},
   "outputs": [
    {
     "data": {
      "text/plain": [
       "1.0"
      ]
     },
     "execution_count": 11,
     "metadata": {},
     "output_type": "execute_result"
    }
   ],
   "source": [
    "reference_sentence = [list('i m not a morning person'.split())]\n",
    "output_sentence = list('i m not a morning person'.split())\n",
    "\n",
    "bleu_score = sentence_bleu(reference_sentence, output_sentence)\n",
    "bleu_score"
   ]
  },
  {
   "cell_type": "code",
   "execution_count": 12,
   "metadata": {},
   "outputs": [
    {
     "data": {
      "text/plain": [
       "0.8187307530779819"
      ]
     },
     "execution_count": 12,
     "metadata": {},
     "output_type": "execute_result"
    }
   ],
   "source": [
    "reference_sentence = [list('i m not a morning person'.split())]\n",
    "output_sentence = list('i m not a morning'.split())\n",
    "\n",
    "bleu_score = sentence_bleu(reference_sentence, output_sentence)\n",
    "bleu_score"
   ]
  },
  {
   "cell_type": "code",
   "execution_count": 13,
   "metadata": {},
   "outputs": [
    {
     "data": {
      "text/plain": [
       "0.5789300674674098"
      ]
     },
     "execution_count": 13,
     "metadata": {},
     "output_type": "execute_result"
    }
   ],
   "source": [
    "reference_sentence = [list('i m not a morning person'.split())]\n",
    "output_sentence = list('i m not a person'.split())\n",
    "\n",
    "bleu_score = sentence_bleu(reference_sentence, output_sentence)\n",
    "bleu_score"
   ]
  },
  {
   "cell_type": "code",
   "execution_count": 14,
   "metadata": {},
   "outputs": [
    {
     "data": {
      "text/plain": [
       "7.070696784820904e-78"
      ]
     },
     "execution_count": 14,
     "metadata": {},
     "output_type": "execute_result"
    }
   ],
   "source": [
    "reference_sentence = [list('i m not a morning person'.split())]\n",
    "output_sentence = list('i m a morning person'.split())\n",
    "\n",
    "bleu_score = sentence_bleu(reference_sentence, output_sentence)\n",
    "bleu_score"
   ]
  },
  {
   "cell_type": "code",
   "execution_count": 15,
   "metadata": {},
   "outputs": [
    {
     "data": {
      "text/plain": [
       "1.0"
      ]
     },
     "execution_count": 15,
     "metadata": {},
     "output_type": "execute_result"
    }
   ],
   "source": [
    "reference_sentence = [list('you re doing it right .'.split())]\n",
    "output_sentence = list('you re doing it right .'.split())\n",
    "\n",
    "bleu_score = sentence_bleu(reference_sentence, output_sentence)\n",
    "bleu_score"
   ]
  },
  {
   "cell_type": "code",
   "execution_count": 16,
   "metadata": {},
   "outputs": [
    {
     "data": {
      "text/plain": [
       "0.7071067811865475"
      ]
     },
     "execution_count": 16,
     "metadata": {},
     "output_type": "execute_result"
    }
   ],
   "source": [
    "reference_sentence = [list('they are collecting contributions for the church .'.split())]\n",
    "output_sentence = list('they are collecting contributions for the inconvenience .'.split())\n",
    "\n",
    "bleu_score = sentence_bleu(reference_sentence, output_sentence)\n",
    "bleu_score"
   ]
  },
  {
   "cell_type": "code",
   "execution_count": 17,
   "metadata": {},
   "outputs": [
    {
     "data": {
      "text/plain": [
       "0.5"
      ]
     },
     "execution_count": 17,
     "metadata": {},
     "output_type": "execute_result"
    }
   ],
   "source": [
    "reference_sentence = [list('she is always complaining of her job .'.split())]\n",
    "output_sentence = list('she is always complaining about her job .'.split())\n",
    "\n",
    "bleu_score = sentence_bleu(reference_sentence, output_sentence)\n",
    "bleu_score"
   ]
  },
  {
   "cell_type": "markdown",
   "metadata": {},
   "source": [
    "---"
   ]
  }
 ],
 "metadata": {
  "kernelspec": {
   "display_name": "Python 3",
   "language": "python",
   "name": "python3"
  },
  "language_info": {
   "codemirror_mode": {
    "name": "ipython",
    "version": 3
   },
   "file_extension": ".py",
   "mimetype": "text/x-python",
   "name": "python",
   "nbconvert_exporter": "python",
   "pygments_lexer": "ipython3",
   "version": "3.7.3"
  }
 },
 "nbformat": 4,
 "nbformat_minor": 2
}
