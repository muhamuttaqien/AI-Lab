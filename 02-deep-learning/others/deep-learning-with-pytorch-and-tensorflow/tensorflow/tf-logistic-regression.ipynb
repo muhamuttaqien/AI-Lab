{
 "cells": [
  {
   "cell_type": "code",
   "execution_count": 1,
   "metadata": {
    "collapsed": true
   },
   "outputs": [],
   "source": [
    "import os\n",
    "import time\n",
    "import numpy as np\n",
    "import pandas as pd\n",
    "import matplotlib.pyplot as plt\n",
    "\n",
    "from sklearn.datasets import load_iris\n",
    "from sklearn.model_selection import train_test_split"
   ]
  },
  {
   "cell_type": "code",
   "execution_count": 2,
   "metadata": {
    "collapsed": true
   },
   "outputs": [],
   "source": [
    "import tensorflow as tf"
   ]
  },
  {
   "cell_type": "code",
   "execution_count": 3,
   "metadata": {
    "collapsed": true
   },
   "outputs": [],
   "source": [
    "%matplotlib inline\n",
    "plt.rcParams['figure.figsize'] = (8, 4)"
   ]
  },
  {
   "cell_type": "markdown",
   "metadata": {},
   "source": [
    "## Load Datasets"
   ]
  },
  {
   "cell_type": "code",
   "execution_count": 4,
   "metadata": {
    "collapsed": true
   },
   "outputs": [],
   "source": [
    "iris_datasets = load_iris()\n",
    "X_iris, y_iris = iris_datasets.data[:-1, :], iris_datasets.target[:-1]\n",
    "y_iris = pd.get_dummies(y_iris).values"
   ]
  },
  {
   "cell_type": "code",
   "execution_count": 5,
   "metadata": {
    "collapsed": true
   },
   "outputs": [],
   "source": [
    "X_train, X_test, y_train, y_test = train_test_split(X_iris, y_iris, test_size=0.33, random_state=90)"
   ]
  },
  {
   "cell_type": "markdown",
   "metadata": {},
   "source": [
    "## Set Placeholders"
   ]
  },
  {
   "cell_type": "code",
   "execution_count": 6,
   "metadata": {
    "collapsed": true
   },
   "outputs": [],
   "source": [
    "num_features = X_train.shape[1] # in the iris dataset, this number is 4\n",
    "num_labels = y_train.shape[1] # and this number is 3"
   ]
  },
  {
   "cell_type": "code",
   "execution_count": 7,
   "metadata": {
    "collapsed": true
   },
   "outputs": [],
   "source": [
    "X = tf.placeholder(tf.float32, [None, num_features]) # iris has 4 features, so X is a tensor to hold our data\n",
    "y = tf.placeholder(tf.float32, [None, num_labels]) # y is a tensor to hold matrix for 3 classes"
   ]
  },
  {
   "cell_type": "markdown",
   "metadata": {},
   "source": [
    "## Set Variable"
   ]
  },
  {
   "cell_type": "code",
   "execution_count": 8,
   "metadata": {
    "collapsed": true
   },
   "outputs": [],
   "source": [
    "# randomly sample from a normal distribution with standard deviation .01\n",
    "weights = tf.Variable(tf.random_normal([num_features, num_labels], mean=0, stddev=0.01, name='weights'))\n",
    "bias = tf.Variable(tf.random_normal([1, num_labels], mean=0, stddev=0.01, name='bias'))"
   ]
  },
  {
   "cell_type": "markdown",
   "metadata": {},
   "source": [
    "## Set Operation"
   ]
  },
  {
   "cell_type": "code",
   "execution_count": 9,
   "metadata": {
    "collapsed": true
   },
   "outputs": [],
   "source": [
    "# three-component breakdown of the Logistic Regression equation\n",
    "apply_weights_op = tf.matmul(X, weights, name='apply_weights')\n",
    "add_bias_op = tf.add(apply_weights_op, bias, name='add_bias')\n",
    "activation_op = tf.nn.sigmoid(add_bias_op, name='activation')"
   ]
  },
  {
   "cell_type": "markdown",
   "metadata": {},
   "source": [
    "## Set Loss Function"
   ]
  },
  {
   "cell_type": "code",
   "execution_count": 10,
   "metadata": {
    "collapsed": true
   },
   "outputs": [],
   "source": [
    "loss_op = tf.nn.l2_loss(activation_op - y, name='squared_error_loss')"
   ]
  },
  {
   "cell_type": "markdown",
   "metadata": {},
   "source": [
    "## Set Optimizer"
   ]
  },
  {
   "cell_type": "code",
   "execution_count": 11,
   "metadata": {
    "collapsed": true
   },
   "outputs": [],
   "source": [
    "# defining learning rate iteration with decay\n",
    "learning_rate = tf.train.exponential_decay(learning_rate=8e-4, global_step=1, \n",
    "                                           decay_steps=X_train.shape[0], decay_rate=0.95, staircase=True)"
   ]
  },
  {
   "cell_type": "code",
   "execution_count": 12,
   "metadata": {
    "collapsed": true
   },
   "outputs": [],
   "source": [
    "# defining Gradient Descent\n",
    "optimizer_op = tf.train.GradientDescentOptimizer(learning_rate).minimize(loss_op)"
   ]
  },
  {
   "cell_type": "markdown",
   "metadata": {},
   "source": [
    "## Train The Graph"
   ]
  },
  {
   "cell_type": "code",
   "execution_count": 13,
   "metadata": {
    "collapsed": true
   },
   "outputs": [],
   "source": [
    "init_op = tf.global_variables_initializer()"
   ]
  },
  {
   "cell_type": "code",
   "execution_count": 14,
   "metadata": {},
   "outputs": [
    {
     "name": "stdout",
     "output_type": "stream",
     "text": [
      "Epoch 10, Training accuracy: 0.404040, Loss: 30.386839, Loss diff: 0.232540\n",
      "Epoch 20, Training accuracy: 0.747475, Loss: 28.275620, Loss diff: 0.195852\n",
      "Epoch 30, Training accuracy: 0.949495, Loss: 26.498787, Loss diff: 0.163141\n",
      "Epoch 40, Training accuracy: 0.969697, Loss: 25.031071, Loss diff: 0.134090\n",
      "Epoch 50, Training accuracy: 0.959596, Loss: 23.826542, Loss diff: 0.110056\n",
      "Epoch 60, Training accuracy: 0.929293, Loss: 22.835482, Loss diff: 0.090816\n",
      "Epoch 70, Training accuracy: 0.929293, Loss: 22.013863, Loss diff: 0.075624\n",
      "Epoch 80, Training accuracy: 0.919192, Loss: 21.325855, Loss diff: 0.063644\n",
      "Epoch 90, Training accuracy: 0.929293, Loss: 20.743374, Loss diff: 0.054159\n",
      "Epoch 100, Training accuracy: 0.929293, Loss: 20.244740, Loss diff: 0.046598\n",
      "Epoch 110, Training accuracy: 0.929293, Loss: 19.813295, Loss diff: 0.040510\n",
      "Epoch 120, Training accuracy: 0.929293, Loss: 19.436182, Loss diff: 0.035568\n",
      "Epoch 130, Training accuracy: 0.929293, Loss: 19.103432, Loss diff: 0.031515\n",
      "Epoch 140, Training accuracy: 0.929293, Loss: 18.807255, Loss diff: 0.028158\n",
      "Epoch 150, Training accuracy: 0.939394, Loss: 18.541496, Loss diff: 0.025356\n",
      "Epoch 160, Training accuracy: 0.939394, Loss: 18.301277, Loss diff: 0.022991\n",
      "Epoch 170, Training accuracy: 0.939394, Loss: 18.082666, Loss diff: 0.020985\n",
      "Epoch 180, Training accuracy: 0.939394, Loss: 17.882488, Loss diff: 0.019264\n",
      "Epoch 190, Training accuracy: 0.939394, Loss: 17.698154, Loss diff: 0.017782\n",
      "Epoch 200, Training accuracy: 0.959596, Loss: 17.527527, Loss diff: 0.016500\n",
      "Epoch 210, Training accuracy: 0.959596, Loss: 17.368845, Loss diff: 0.015373\n",
      "Epoch 220, Training accuracy: 0.959596, Loss: 17.220633, Loss diff: 0.014387\n",
      "Epoch 230, Training accuracy: 0.969697, Loss: 17.081650, Loss diff: 0.013515\n",
      "Epoch 240, Training accuracy: 0.969697, Loss: 16.950850, Loss diff: 0.012737\n",
      "Epoch 250, Training accuracy: 0.969697, Loss: 16.827341, Loss diff: 0.012049\n",
      "Epoch 260, Training accuracy: 0.969697, Loss: 16.710367, Loss diff: 0.011423\n",
      "Epoch 270, Training accuracy: 0.969697, Loss: 16.599268, Loss diff: 0.010864\n",
      "Epoch 280, Training accuracy: 0.969697, Loss: 16.493481, Loss diff: 0.010353\n",
      "Epoch 290, Training accuracy: 0.969697, Loss: 16.392509, Loss diff: 0.009892\n",
      "Epoch 300, Training accuracy: 0.969697, Loss: 16.295927, Loss diff: 0.009474\n",
      "Epoch 310, Training accuracy: 0.969697, Loss: 16.203363, Loss diff: 0.009085\n",
      "Epoch 320, Training accuracy: 0.969697, Loss: 16.114481, Loss diff: 0.008732\n",
      "Epoch 330, Training accuracy: 0.969697, Loss: 16.028992, Loss diff: 0.008402\n",
      "Epoch 340, Training accuracy: 0.969697, Loss: 15.946632, Loss diff: 0.008100\n",
      "Epoch 350, Training accuracy: 0.969697, Loss: 15.867174, Loss diff: 0.007822\n",
      "Epoch 360, Training accuracy: 0.969697, Loss: 15.790413, Loss diff: 0.007560\n",
      "Epoch 370, Training accuracy: 0.969697, Loss: 15.716163, Loss diff: 0.007318\n",
      "Epoch 380, Training accuracy: 0.969697, Loss: 15.644256, Loss diff: 0.007091\n",
      "Epoch 390, Training accuracy: 0.969697, Loss: 15.574545, Loss diff: 0.006876\n",
      "Epoch 400, Training accuracy: 0.969697, Loss: 15.506895, Loss diff: 0.006675\n",
      "\n",
      "Final accuracy on test set: 0.980000\n"
     ]
    }
   ],
   "source": [
    "with tf.Session() as sess:\n",
    "    sess.run(init_op) # initialize the variables before executing a graph\n",
    "    \n",
    "    # operation for tracking our model\n",
    "    correct_prediction_op = tf.equal(tf.argmax(activation_op, 1), tf.argmax(y, 1))\n",
    "\n",
    "    accuracy_op = tf.reduce_mean(tf.cast(correct_prediction_op, tf.float32))\n",
    "\n",
    "    activation_summary_op = tf.summary.histogram('output', activation_op)\n",
    "\n",
    "    accuracy_summary_op = tf.summary.scalar('accuracy', accuracy_op)\n",
    "\n",
    "    loss_summary_op = tf.summary.scalar('loss', loss_op)\n",
    "    \n",
    "    weight_summary = tf.summary.histogram('weights', weights.eval(session=sess))\n",
    "    bias_summary = tf.summary.histogram('biases', bias.eval(session=sess))\n",
    "    \n",
    "    all_summary = tf.summary.merge([activation_summary_op, accuracy_summary_op, loss_summary_op, weight_summary, bias_summary])\n",
    "    \n",
    "    writer = tf.summary.FileWriter('logs', sess.graph)\n",
    "    \n",
    "    # initialize reporting variables\n",
    "    loss = 0\n",
    "    diff = 1\n",
    "    epoch_values = []\n",
    "    accuracy_values = []\n",
    "    loss_values = []\n",
    "    num_epochs = 400\n",
    "    \n",
    "    for i_epoch in range(1, num_epochs+1):\n",
    "        \n",
    "        if i_epoch > 1 and diff < .0001:\n",
    "            print(f'Change in loss {diff}, convergence.')\n",
    "            break\n",
    "        else:\n",
    "            \n",
    "            # run training step\n",
    "            step = sess.run(optimizer_op, feed_dict={X: X_train, y: y_train})\n",
    "                        \n",
    "            # add epoch to epoch values\n",
    "            epoch_values.append(i_epoch)\n",
    "\n",
    "            # generate accuracy stats on test data\n",
    "            train_accuracy, new_loss = sess.run([accuracy_op, loss_op], feed_dict={X: X_train, y: y_train})\n",
    "\n",
    "            # add accuracy to live graphing variable\n",
    "            accuracy_values.append(train_accuracy)\n",
    "\n",
    "            # add cost to live graphing variable\n",
    "            loss_values.append(new_loss)\n",
    "\n",
    "            # re-assign values for variables\n",
    "            diff = abs(new_loss - loss)\n",
    "            loss = new_loss\n",
    "            \n",
    "            # report occasional stats\n",
    "            if i_epoch % 10 == 0:    \n",
    "                # generate print statements\n",
    "                print(f'Epoch {i_epoch}, Training accuracy: {train_accuracy:.6f}, Loss: {new_loss:.6f}, Loss diff: {diff:.6f}')\n",
    "                \n",
    "    # check how well do the model perform held-out test data\n",
    "    final_accuracy = sess.run(accuracy_op, feed_dict={X: X_test, y: y_test})\n",
    "    print(f'\\nFinal accuracy on test set: {final_accuracy:.6f}')"
   ]
  },
  {
   "cell_type": "markdown",
   "metadata": {},
   "source": [
    "## Plot Loss"
   ]
  },
  {
   "cell_type": "code",
   "execution_count": 15,
   "metadata": {},
   "outputs": [
    {
     "data": {
      "image/png": "[encoded data removed]",
      "text/plain": [
       "<matplotlib.figure.Figure at 0x127b33588>"
      ]
     },
     "metadata": {},
     "output_type": "display_data"
    }
   ],
   "source": [
    "plt.plot([np.mean(loss_values[i-50:i]) for i in range(len(loss_values))])\n",
    "plt.xlabel('Number of episodes')\n",
    "plt.ylabel('Loss')\n",
    "plt.grid(True)\n",
    "plt.show()"
   ]
  },
  {
   "cell_type": "markdown",
   "metadata": {},
   "source": [
    "---"
   ]
  }
 ],
 "metadata": {
  "kernelspec": {
   "display_name": "Python 3",
   "language": "python",
   "name": "python3"
  },
  "language_info": {
   "codemirror_mode": {
    "name": "ipython",
    "version": 3
   },
   "file_extension": ".py",
   "mimetype": "text/x-python",
   "name": "python",
   "nbconvert_exporter": "python",
   "pygments_lexer": "ipython3",
   "version": "3.6.7"
  }
 },
 "nbformat": 4,
 "nbformat_minor": 2
}
