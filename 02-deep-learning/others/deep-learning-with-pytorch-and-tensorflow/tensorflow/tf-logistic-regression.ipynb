{
 "cells": [
  {
   "cell_type": "code",
   "execution_count": 1,
   "metadata": {
    "collapsed": true
   },
   "outputs": [],
   "source": [
    "import os\n",
    "import time\n",
    "import numpy as np\n",
    "import pandas as pd\n",
    "import matplotlib.pyplot as plt\n",
    "\n",
    "from sklearn.datasets import load_iris\n",
    "from sklearn.model_selection import train_test_split"
   ]
  },
  {
   "cell_type": "code",
   "execution_count": 2,
   "metadata": {
    "collapsed": true
   },
   "outputs": [],
   "source": [
    "import tensorflow as tf"
   ]
  },
  {
   "cell_type": "code",
   "execution_count": 3,
   "metadata": {
    "collapsed": true
   },
   "outputs": [],
   "source": [
    "%matplotlib inline\n",
    "plt.rcParams['figure.figsize'] = (8, 4)"
   ]
  },
  {
   "cell_type": "markdown",
   "metadata": {},
   "source": [
    "## Load Datasets"
   ]
  },
  {
   "cell_type": "code",
   "execution_count": 4,
   "metadata": {
    "collapsed": true
   },
   "outputs": [],
   "source": [
    "iris_datasets = load_iris()\n",
    "X_iris, y_iris = iris_datasets.data[:-1, :], iris_datasets.target[:-1]\n",
    "y_iris = pd.get_dummies(y_iris).values"
   ]
  },
  {
   "cell_type": "code",
   "execution_count": 5,
   "metadata": {
    "collapsed": true
   },
   "outputs": [],
   "source": [
    "X_train, X_test, y_train, y_test = train_test_split(X_iris, y_iris, test_size=0.33, random_state=90)"
   ]
  },
  {
   "cell_type": "markdown",
   "metadata": {},
   "source": [
    "## Set Placeholders"
   ]
  },
  {
   "cell_type": "code",
   "execution_count": 6,
   "metadata": {
    "collapsed": true
   },
   "outputs": [],
   "source": [
    "num_features = X_train.shape[1] # in the iris dataset, this number is 4\n",
    "num_labels = y_train.shape[1] # and this number is 3"
   ]
  },
  {
   "cell_type": "code",
   "execution_count": 7,
   "metadata": {
    "collapsed": true
   },
   "outputs": [],
   "source": [
    "X = tf.placeholder(tf.float32, [None, num_features]) # iris has 4 features, so X is a tensor to hold our data\n",
    "y = tf.placeholder(tf.float32, [None, num_labels]) # y is a tensor to hold matrix for 3 classes"
   ]
  },
  {
   "cell_type": "markdown",
   "metadata": {},
   "source": [
    "## Set Variable"
   ]
  },
  {
   "cell_type": "code",
   "execution_count": 8,
   "metadata": {
    "collapsed": true
   },
   "outputs": [],
   "source": [
    "# randomly sample from a normal distribution with standard deviation .01\n",
    "weights = tf.Variable(tf.random_normal([num_features, num_labels], mean=0, stddev=0.01, name='weights'))\n",
    "bias = tf.Variable(tf.random_normal([1, num_labels], mean=0, stddev=0.01, name='bias'))"
   ]
  },
  {
   "cell_type": "markdown",
   "metadata": {},
   "source": [
    "## Set Operation"
   ]
  },
  {
   "cell_type": "code",
   "execution_count": 9,
   "metadata": {
    "collapsed": true
   },
   "outputs": [],
   "source": [
    "# three-component breakdown of the Logistic Regression equation\n",
    "apply_weights_op = tf.matmul(X, weights, name='apply_weights')\n",
    "add_bias_op = tf.add(apply_weights_op, bias, name='add_bias')\n",
    "activation_op = tf.nn.sigmoid(add_bias_op, name='activation')"
   ]
  },
  {
   "cell_type": "markdown",
   "metadata": {},
   "source": [
    "## Set Loss Function"
   ]
  },
  {
   "cell_type": "code",
   "execution_count": 10,
   "metadata": {
    "collapsed": true
   },
   "outputs": [],
   "source": [
    "loss_op = tf.nn.l2_loss(activation_op - y, name='squared_error_loss')"
   ]
  },
  {
   "cell_type": "markdown",
   "metadata": {},
   "source": [
    "## Set Optimizer"
   ]
  },
  {
   "cell_type": "code",
   "execution_count": 11,
   "metadata": {
    "collapsed": true
   },
   "outputs": [],
   "source": [
    "# defining learning rate iteration with decay\n",
    "learning_rate = tf.train.exponential_decay(learning_rate=8e-4, global_step=1, \n",
    "                                           decay_steps=X_train.shape[0], decay_rate=0.95, staircase=True)"
   ]
  },
  {
   "cell_type": "code",
   "execution_count": 12,
   "metadata": {
    "collapsed": true
   },
   "outputs": [],
   "source": [
    "# defining Gradient Descent\n",
    "optimizer_op = tf.train.GradientDescentOptimizer(learning_rate).minimize(loss_op)"
   ]
  },
  {
   "cell_type": "markdown",
   "metadata": {},
   "source": [
    "## Train The Graph"
   ]
  },
  {
   "cell_type": "code",
   "execution_count": 13,
   "metadata": {
    "collapsed": true
   },
   "outputs": [],
   "source": [
    "init_op = tf.global_variables_initializer()"
   ]
  },
  {
   "cell_type": "code",
   "execution_count": 14,
   "metadata": {},
   "outputs": [
    {
     "name": "stdout",
     "output_type": "stream",
     "text": [
      "Epoch 10, Training accuracy: 0.585859, Loss: 30.234148, Loss diff: 0.232765\n",
      "Epoch 20, Training accuracy: 0.717172, Loss: 28.138403, Loss diff: 0.193720\n",
      "Epoch 30, Training accuracy: 0.919192, Loss: 26.384912, Loss diff: 0.160746\n",
      "Epoch 40, Training accuracy: 0.979798, Loss: 24.940121, Loss diff: 0.131924\n",
      "Epoch 50, Training accuracy: 0.959596, Loss: 23.755274, Loss diff: 0.108259\n",
      "Epoch 60, Training accuracy: 0.949495, Loss: 22.780106, Loss diff: 0.089392\n",
      "Epoch 70, Training accuracy: 0.919192, Loss: 21.970980, Loss diff: 0.074509\n",
      "Epoch 80, Training accuracy: 0.919192, Loss: 21.292690, Loss diff: 0.062780\n",
      "Epoch 90, Training accuracy: 0.919192, Loss: 20.717772, Loss diff: 0.053486\n",
      "Epoch 100, Training accuracy: 0.919192, Loss: 20.225044, Loss diff: 0.046074\n",
      "Epoch 110, Training accuracy: 0.919192, Loss: 19.798237, Loss diff: 0.040096\n",
      "Epoch 120, Training accuracy: 0.919192, Loss: 19.424789, Loss diff: 0.035242\n",
      "Epoch 130, Training accuracy: 0.939394, Loss: 19.094961, Loss diff: 0.031248\n",
      "Epoch 140, Training accuracy: 0.939394, Loss: 18.801113, Loss diff: 0.027948\n",
      "Epoch 150, Training accuracy: 0.939394, Loss: 18.537237, Loss diff: 0.025183\n",
      "Epoch 160, Training accuracy: 0.939394, Loss: 18.298532, Loss diff: 0.022852\n",
      "Epoch 170, Training accuracy: 0.949495, Loss: 18.081150, Loss diff: 0.020870\n",
      "Epoch 180, Training accuracy: 0.959596, Loss: 17.881969, Loss diff: 0.019176\n",
      "Epoch 190, Training accuracy: 0.959596, Loss: 17.698442, Loss diff: 0.017710\n",
      "Epoch 200, Training accuracy: 0.959596, Loss: 17.528471, Loss diff: 0.016439\n",
      "Epoch 210, Training accuracy: 0.969697, Loss: 17.370319, Loss diff: 0.015327\n",
      "Epoch 220, Training accuracy: 0.969697, Loss: 17.222532, Loss diff: 0.014347\n",
      "Epoch 230, Training accuracy: 0.969697, Loss: 17.083887, Loss diff: 0.013485\n",
      "Epoch 240, Training accuracy: 0.969697, Loss: 16.953352, Loss diff: 0.012718\n",
      "Epoch 250, Training accuracy: 0.969697, Loss: 16.830053, Loss diff: 0.012028\n",
      "Epoch 260, Training accuracy: 0.969697, Loss: 16.713234, Loss diff: 0.011412\n",
      "Epoch 270, Training accuracy: 0.969697, Loss: 16.602249, Loss diff: 0.010853\n",
      "Epoch 280, Training accuracy: 0.969697, Loss: 16.496536, Loss diff: 0.010347\n",
      "Epoch 290, Training accuracy: 0.969697, Loss: 16.395613, Loss diff: 0.009890\n",
      "Epoch 300, Training accuracy: 0.969697, Loss: 16.299051, Loss diff: 0.009472\n",
      "Epoch 310, Training accuracy: 0.969697, Loss: 16.206484, Loss diff: 0.009087\n",
      "Epoch 320, Training accuracy: 0.969697, Loss: 16.117579, Loss diff: 0.008734\n",
      "Epoch 330, Training accuracy: 0.969697, Loss: 16.032051, Loss diff: 0.008408\n",
      "Epoch 340, Training accuracy: 0.969697, Loss: 15.949640, Loss diff: 0.008108\n",
      "Epoch 350, Training accuracy: 0.969697, Loss: 15.870121, Loss diff: 0.007828\n",
      "Epoch 360, Training accuracy: 0.969697, Loss: 15.793286, Loss diff: 0.007568\n",
      "Epoch 370, Training accuracy: 0.969697, Loss: 15.718954, Loss diff: 0.007326\n",
      "Epoch 380, Training accuracy: 0.969697, Loss: 15.646962, Loss diff: 0.007098\n",
      "Epoch 390, Training accuracy: 0.969697, Loss: 15.577158, Loss diff: 0.006886\n",
      "Epoch 400, Training accuracy: 0.969697, Loss: 15.509410, Loss diff: 0.006686\n",
      "\n",
      "Final accuracy on test set: 0.980000\n"
     ]
    }
   ],
   "source": [
    "with tf.Session() as sess:\n",
    "    sess.run(init_op) # initialize the variables before executing a graph\n",
    "    \n",
    "    # operation for tracking our model\n",
    "    correct_prediction_op = tf.equal(tf.argmax(activation_op, 1), tf.argmax(y, 1))\n",
    "\n",
    "    accuracy_op = tf.reduce_mean(tf.cast(correct_prediction_op, 'float'))\n",
    "\n",
    "    activation_summary_op = tf.summary.histogram('output', activation_op)\n",
    "\n",
    "    accuracy_summary_op = tf.summary.scalar('accuracy', accuracy_op)\n",
    "\n",
    "    loss_summary_op = tf.summary.scalar('loss', loss_op)\n",
    "    \n",
    "    weight_summary = tf.summary.histogram('weights', weights.eval(session=sess))\n",
    "    bias_summary = tf.summary.histogram('biases', bias.eval(session=sess))\n",
    "    \n",
    "    all_summary = tf.summary.merge([activation_summary_op, accuracy_summary_op, loss_summary_op, weight_summary, bias_summary])\n",
    "    \n",
    "    writer = tf.summary.FileWriter('logs', sess.graph)\n",
    "    \n",
    "    # initialize reporting variables\n",
    "    loss = 0\n",
    "    diff = 1\n",
    "    epoch_values = []\n",
    "    accuracy_values = []\n",
    "    loss_values = []\n",
    "    num_epochs = 400\n",
    "    \n",
    "    for i_epoch in range(1, num_epochs+1):\n",
    "        \n",
    "        if i_epoch > 1 and diff < .0001:\n",
    "            print(f'Change in loss {diff}, convergence.')\n",
    "            break\n",
    "        else:\n",
    "            \n",
    "            # run training step\n",
    "            step = sess.run(optimizer_op, feed_dict={X: X_train, y: y_train})\n",
    "                        \n",
    "            # add epoch to epoch values\n",
    "            epoch_values.append(i_epoch)\n",
    "\n",
    "            # generate accuracy stats on test data\n",
    "            train_accuracy, new_loss = sess.run([accuracy_op, loss_op], feed_dict={X: X_train, y: y_train})\n",
    "\n",
    "            # add accuracy to live graphing variable\n",
    "            accuracy_values.append(train_accuracy)\n",
    "\n",
    "            # add cost to live graphing variable\n",
    "            loss_values.append(new_loss)\n",
    "\n",
    "            # re-assign values for variables\n",
    "            diff = abs(new_loss - loss)\n",
    "            loss = new_loss\n",
    "            \n",
    "            # report occasional stats\n",
    "            if i_epoch % 10 == 0:    \n",
    "                # generate print statements\n",
    "                print(f'Epoch {i_epoch}, Training accuracy: {train_accuracy:.6f}, Loss: {new_loss:.6f}, Loss diff: {diff:.6f}')\n",
    "                \n",
    "    # check how well do the model perform held-out test data\n",
    "    final_accuracy = sess.run(accuracy_op, feed_dict={X: X_test, y: y_test})\n",
    "    print(f'\\nFinal accuracy on test set: {final_accuracy:.6f}')"
   ]
  },
  {
   "cell_type": "markdown",
   "metadata": {},
   "source": [
    "## Plot Loss"
   ]
  },
  {
   "cell_type": "code",
   "execution_count": 15,
   "metadata": {},
   "outputs": [
    {
     "data": {
      "image/png": "[encoded data removed]",
      "text/plain": [
       "<matplotlib.figure.Figure at 0x12f9ebcf8>"
      ]
     },
     "metadata": {},
     "output_type": "display_data"
    }
   ],
   "source": [
    "plt.plot([np.mean(loss_values[i-50:i]) for i in range(len(loss_values))])\n",
    "plt.xlabel('Number of episodes')\n",
    "plt.ylabel('Loss')\n",
    "plt.grid(True)\n",
    "plt.show()"
   ]
  },
  {
   "cell_type": "markdown",
   "metadata": {},
   "source": [
    "---"
   ]
  }
 ],
 "metadata": {
  "kernelspec": {
   "display_name": "Python 3",
   "language": "python",
   "name": "python3"
  },
  "language_info": {
   "codemirror_mode": {
    "name": "ipython",
    "version": 3
   },
   "file_extension": ".py",
   "mimetype": "text/x-python",
   "name": "python",
   "nbconvert_exporter": "python",
   "pygments_lexer": "ipython3",
   "version": "3.6.7"
  }
 },
 "nbformat": 4,
 "nbformat_minor": 2
}
