{
 "cells": [
  {
   "cell_type": "code",
   "execution_count": 1,
   "metadata": {
    "collapsed": true
   },
   "outputs": [],
   "source": [
    "import os\n",
    "import time\n",
    "import numpy as np\n",
    "import pandas as pd\n",
    "import matplotlib.pyplot as plt\n",
    "\n",
    "from sklearn.datasets import load_iris\n",
    "from sklearn.model_selection import train_test_split"
   ]
  },
  {
   "cell_type": "code",
   "execution_count": 2,
   "metadata": {
    "collapsed": true
   },
   "outputs": [],
   "source": [
    "import tensorflow as tf"
   ]
  },
  {
   "cell_type": "code",
   "execution_count": 3,
   "metadata": {
    "collapsed": true
   },
   "outputs": [],
   "source": [
    "%matplotlib inline\n",
    "plt.rcParams['figure.figsize'] = (8, 4)"
   ]
  },
  {
   "cell_type": "markdown",
   "metadata": {},
   "source": [
    "## Load Datasets"
   ]
  },
  {
   "cell_type": "code",
   "execution_count": 4,
   "metadata": {
    "collapsed": true
   },
   "outputs": [],
   "source": [
    "iris_datasets = load_iris()\n",
    "X_iris, y_iris = iris_datasets.data[:-1, :], iris_datasets.target[:-1]\n",
    "y_iris = pd.get_dummies(y_iris).values"
   ]
  },
  {
   "cell_type": "code",
   "execution_count": 5,
   "metadata": {
    "collapsed": true
   },
   "outputs": [],
   "source": [
    "X_train, X_test, y_train, y_test = train_test_split(X_iris, y_iris, test_size=0.33, random_state=90)"
   ]
  },
  {
   "cell_type": "markdown",
   "metadata": {},
   "source": [
    "## Set Placeholders"
   ]
  },
  {
   "cell_type": "code",
   "execution_count": 6,
   "metadata": {
    "collapsed": true
   },
   "outputs": [],
   "source": [
    "num_features = X_train.shape[1] # in the iris dataset, this number is 4\n",
    "num_labels = y_train.shape[1] # and this number is 3"
   ]
  },
  {
   "cell_type": "code",
   "execution_count": 7,
   "metadata": {
    "collapsed": true
   },
   "outputs": [],
   "source": [
    "X = tf.placeholder(tf.float32, [None, num_features]) # iris has 4 features, so X is a tensor to hold our data\n",
    "y = tf.placeholder(tf.float32, [None, num_labels]) # y is a tensor to hold matrix for 3 classes"
   ]
  },
  {
   "cell_type": "markdown",
   "metadata": {},
   "source": [
    "## Set Variable"
   ]
  },
  {
   "cell_type": "code",
   "execution_count": 8,
   "metadata": {
    "collapsed": true
   },
   "outputs": [],
   "source": [
    "# randomly sample from a normal distribution with standard deviation .01\n",
    "weights = tf.Variable(tf.random_normal([num_features, num_labels], mean=0, stddev=0.01, name='weights'))\n",
    "bias = tf.Variable(tf.random_normal([1, num_labels], mean=0, stddev=0.01, name='bias'))"
   ]
  },
  {
   "cell_type": "markdown",
   "metadata": {},
   "source": [
    "## Set Operation"
   ]
  },
  {
   "cell_type": "code",
   "execution_count": 9,
   "metadata": {
    "collapsed": true
   },
   "outputs": [],
   "source": [
    "# three-component breakdown of the Logistic Regression equation\n",
    "apply_weights_op = tf.matmul(X, weights, name='apply_weights')\n",
    "add_bias_op = tf.add(apply_weights_op, bias, name='add_bias')\n",
    "activation_op = tf.nn.sigmoid(add_bias_op, name='activation')"
   ]
  },
  {
   "cell_type": "code",
   "execution_count": 10,
   "metadata": {
    "collapsed": true
   },
   "outputs": [],
   "source": [
    "init_op = tf.global_variables_initializer()"
   ]
  },
  {
   "cell_type": "markdown",
   "metadata": {},
   "source": [
    "## Set Loss Function"
   ]
  },
  {
   "cell_type": "code",
   "execution_count": 11,
   "metadata": {
    "collapsed": true
   },
   "outputs": [],
   "source": [
    "loss_op = tf.nn.l2_loss(activation_op - y, name='squared_error_loss')"
   ]
  },
  {
   "cell_type": "markdown",
   "metadata": {},
   "source": [
    "## Set Optimizer"
   ]
  },
  {
   "cell_type": "code",
   "execution_count": 12,
   "metadata": {
    "collapsed": true
   },
   "outputs": [],
   "source": [
    "# defining learning rate iteration with decay\n",
    "learning_rate = tf.train.exponential_decay(learning_rate=8e-4, global_step=1, \n",
    "                                           decay_steps=X_train.shape[0], decay_rate=0.95, staircase=True)"
   ]
  },
  {
   "cell_type": "code",
   "execution_count": 13,
   "metadata": {
    "collapsed": true
   },
   "outputs": [],
   "source": [
    "# defining Gradient Descent\n",
    "optimizer_op = tf.train.GradientDescentOptimizer(learning_rate).minimize(loss_op)"
   ]
  },
  {
   "cell_type": "markdown",
   "metadata": {},
   "source": [
    "## Train The Graph"
   ]
  },
  {
   "cell_type": "code",
   "execution_count": 14,
   "metadata": {},
   "outputs": [
    {
     "name": "stdout",
     "output_type": "stream",
     "text": [
      "Epoch 10, Training accuracy: 0.707071, Loss: 29.986254, Loss diff: 0.227379\n",
      "Epoch 20, Training accuracy: 0.717172, Loss: 27.933172, Loss diff: 0.189819\n",
      "Epoch 30, Training accuracy: 0.909091, Loss: 26.215208, Loss diff: 0.157494\n",
      "Epoch 40, Training accuracy: 0.959596, Loss: 24.799477, Loss diff: 0.129295\n",
      "Epoch 50, Training accuracy: 0.969697, Loss: 23.637857, Loss diff: 0.106171\n",
      "Epoch 60, Training accuracy: 0.939394, Loss: 22.681084, Loss diff: 0.087740\n",
      "Epoch 70, Training accuracy: 0.929293, Loss: 21.886513, Loss diff: 0.073200\n",
      "Epoch 80, Training accuracy: 0.929293, Loss: 21.219797, Loss diff: 0.061735\n",
      "Epoch 90, Training accuracy: 0.929293, Loss: 20.654137, Loss diff: 0.052647\n",
      "Epoch 100, Training accuracy: 0.929293, Loss: 20.168888, Loss diff: 0.045389\n",
      "Epoch 110, Training accuracy: 0.929293, Loss: 19.748173, Loss diff: 0.039541\n",
      "Epoch 120, Training accuracy: 0.929293, Loss: 19.379744, Loss diff: 0.034779\n",
      "Epoch 130, Training accuracy: 0.929293, Loss: 19.054081, Loss diff: 0.030865\n",
      "Epoch 140, Training accuracy: 0.929293, Loss: 18.763737, Loss diff: 0.027620\n",
      "Epoch 150, Training accuracy: 0.939394, Loss: 18.502825, Loss diff: 0.024910\n",
      "Epoch 160, Training accuracy: 0.939394, Loss: 18.266663, Loss diff: 0.022617\n",
      "Epoch 170, Training accuracy: 0.939394, Loss: 18.051474, Loss diff: 0.020666\n",
      "Epoch 180, Training accuracy: 0.939394, Loss: 17.854204, Loss diff: 0.018995\n",
      "Epoch 190, Training accuracy: 0.939394, Loss: 17.672359, Loss diff: 0.017553\n",
      "Epoch 200, Training accuracy: 0.959596, Loss: 17.503878, Loss diff: 0.016298\n",
      "Epoch 210, Training accuracy: 0.959596, Loss: 17.347055, Loss diff: 0.015200\n",
      "Epoch 220, Training accuracy: 0.959596, Loss: 17.200464, Loss diff: 0.014235\n",
      "Epoch 230, Training accuracy: 0.969697, Loss: 17.062902, Loss diff: 0.013380\n",
      "Epoch 240, Training accuracy: 0.969697, Loss: 16.933359, Loss diff: 0.012617\n",
      "Epoch 250, Training accuracy: 0.969697, Loss: 16.810961, Loss diff: 0.011944\n",
      "Epoch 260, Training accuracy: 0.969697, Loss: 16.694979, Loss diff: 0.011330\n",
      "Epoch 270, Training accuracy: 0.969697, Loss: 16.584763, Loss diff: 0.010780\n",
      "Epoch 280, Training accuracy: 0.969697, Loss: 16.479776, Loss diff: 0.010279\n",
      "Epoch 290, Training accuracy: 0.969697, Loss: 16.379524, Loss diff: 0.009827\n",
      "Epoch 300, Training accuracy: 0.969697, Loss: 16.283596, Loss diff: 0.009411\n",
      "Epoch 310, Training accuracy: 0.969697, Loss: 16.191624, Loss diff: 0.009027\n",
      "Epoch 320, Training accuracy: 0.969697, Loss: 16.103283, Loss diff: 0.008682\n",
      "Epoch 330, Training accuracy: 0.969697, Loss: 16.018291, Loss diff: 0.008354\n",
      "Epoch 340, Training accuracy: 0.969697, Loss: 15.936390, Loss diff: 0.008056\n",
      "Epoch 350, Training accuracy: 0.969697, Loss: 15.857351, Loss diff: 0.007781\n",
      "Epoch 360, Training accuracy: 0.969697, Loss: 15.780980, Loss diff: 0.007522\n",
      "Epoch 370, Training accuracy: 0.969697, Loss: 15.707091, Loss diff: 0.007281\n",
      "Epoch 380, Training accuracy: 0.969697, Loss: 15.635520, Loss diff: 0.007057\n",
      "Epoch 390, Training accuracy: 0.969697, Loss: 15.566124, Loss diff: 0.006845\n",
      "Epoch 400, Training accuracy: 0.969697, Loss: 15.498765, Loss diff: 0.006646\n",
      "\n",
      "Final accuracy on test set: 0.980000\n"
     ]
    }
   ],
   "source": [
    "with tf.Session() as sess:\n",
    "    sess.run(init_op) # initialize the variables before executing a graph\n",
    "    \n",
    "    # operation for tracking our model\n",
    "    correct_prediction_op = tf.equal(tf.argmax(activation_op, 1), tf.argmax(y, 1))\n",
    "\n",
    "    accuracy_op = tf.reduce_mean(tf.cast(correct_prediction_op, tf.float32))\n",
    "\n",
    "    activation_summary_op = tf.summary.histogram('output', activation_op)\n",
    "\n",
    "    accuracy_summary_op = tf.summary.scalar('accuracy', accuracy_op)\n",
    "\n",
    "    loss_summary_op = tf.summary.scalar('loss', loss_op)\n",
    "    \n",
    "    weight_summary = tf.summary.histogram('weights', weights.eval(session=sess))\n",
    "    bias_summary = tf.summary.histogram('biases', bias.eval(session=sess))\n",
    "    \n",
    "    all_summary = tf.summary.merge([activation_summary_op, accuracy_summary_op, loss_summary_op, weight_summary, bias_summary])\n",
    "    \n",
    "    writer = tf.summary.FileWriter('logs', sess.graph)\n",
    "    \n",
    "    # initialize reporting variables\n",
    "    loss = 0\n",
    "    diff = 1\n",
    "    epoch_values = []\n",
    "    accuracy_values = []\n",
    "    loss_values = []\n",
    "    num_epochs = 400\n",
    "    \n",
    "    for i_epoch in range(1, num_epochs+1):\n",
    "        \n",
    "        if i_epoch > 1 and diff < .0001:\n",
    "            print(f'Change in loss {diff}, convergence.')\n",
    "            break\n",
    "        else:\n",
    "            \n",
    "            # run training step\n",
    "            step = sess.run(optimizer_op, feed_dict={X: X_train, y: y_train})\n",
    "                        \n",
    "            # add epoch to epoch values\n",
    "            epoch_values.append(i_epoch)\n",
    "\n",
    "            # generate accuracy stats on test data\n",
    "            train_accuracy, new_loss = sess.run([accuracy_op, loss_op], feed_dict={X: X_train, y: y_train})\n",
    "\n",
    "            # add accuracy to live graphing variable\n",
    "            accuracy_values.append(train_accuracy)\n",
    "\n",
    "            # add cost to live graphing variable\n",
    "            loss_values.append(new_loss)\n",
    "\n",
    "            # re-assign values for variables\n",
    "            diff = abs(new_loss - loss)\n",
    "            loss = new_loss\n",
    "            \n",
    "            # report occasional stats\n",
    "            if i_epoch % 10 == 0:    \n",
    "                # generate print statements\n",
    "                print(f'Epoch {i_epoch}, Training accuracy: {train_accuracy:.6f}, Loss: {new_loss:.6f}, Loss diff: {diff:.6f}')\n",
    "                \n",
    "    # check how well do the model perform held-out test data\n",
    "    final_accuracy = sess.run(accuracy_op, feed_dict={X: X_test, y: y_test})\n",
    "    print(f'\\nFinal accuracy on test set: {final_accuracy:.6f}')"
   ]
  },
  {
   "cell_type": "markdown",
   "metadata": {},
   "source": [
    "## Plot Loss"
   ]
  },
  {
   "cell_type": "code",
   "execution_count": 15,
   "metadata": {},
   "outputs": [
    {
     "data": {
      "image/png": "[encoded data removed]",
      "text/plain": [
       "<matplotlib.figure.Figure at 0x1068ef668>"
      ]
     },
     "metadata": {},
     "output_type": "display_data"
    }
   ],
   "source": [
    "plt.plot([np.mean(loss_values[i-50:i]) for i in range(len(loss_values))])\n",
    "plt.xlabel('Number of episodes')\n",
    "plt.ylabel('Loss')\n",
    "plt.grid(True)\n",
    "plt.show()"
   ]
  },
  {
   "cell_type": "markdown",
   "metadata": {},
   "source": [
    "---"
   ]
  }
 ],
 "metadata": {
  "kernelspec": {
   "display_name": "Python 3",
   "language": "python",
   "name": "python3"
  },
  "language_info": {
   "codemirror_mode": {
    "name": "ipython",
    "version": 3
   },
   "file_extension": ".py",
   "mimetype": "text/x-python",
   "name": "python",
   "nbconvert_exporter": "python",
   "pygments_lexer": "ipython3",
   "version": "3.6.7"
  }
 },
 "nbformat": 4,
 "nbformat_minor": 2
}
