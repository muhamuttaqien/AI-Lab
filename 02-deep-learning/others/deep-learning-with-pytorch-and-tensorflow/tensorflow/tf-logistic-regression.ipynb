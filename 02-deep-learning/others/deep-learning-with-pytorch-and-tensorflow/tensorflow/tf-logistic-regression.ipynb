{
 "cells": [
  {
   "cell_type": "code",
   "execution_count": 1,
   "metadata": {
    "collapsed": true
   },
   "outputs": [],
   "source": [
    "import os\n",
    "import time\n",
    "import numpy as np\n",
    "import pandas as pd\n",
    "import matplotlib.pyplot as plt\n",
    "\n",
    "from sklearn.datasets import load_iris\n",
    "from sklearn.model_selection import train_test_split"
   ]
  },
  {
   "cell_type": "code",
   "execution_count": 2,
   "metadata": {
    "collapsed": true
   },
   "outputs": [],
   "source": [
    "import warnings; warnings.filterwarnings('ignore')\n",
    "import tensorflow as tf"
   ]
  },
  {
   "cell_type": "code",
   "execution_count": 3,
   "metadata": {
    "collapsed": true
   },
   "outputs": [],
   "source": [
    "%matplotlib inline\n",
    "plt.rcParams['figure.figsize'] = (8, 4)"
   ]
  },
  {
   "cell_type": "markdown",
   "metadata": {},
   "source": [
    "## Load Datasets"
   ]
  },
  {
   "cell_type": "code",
   "execution_count": 4,
   "metadata": {},
   "outputs": [],
   "source": [
    "iris_datasets = load_iris()\n",
    "X_iris, y_iris = iris_datasets.data[:-1, :], iris_datasets.target[:-1]\n",
    "y_iris = pd.get_dummies(y_iris).values"
   ]
  },
  {
   "cell_type": "code",
   "execution_count": 5,
   "metadata": {
    "collapsed": true
   },
   "outputs": [],
   "source": [
    "X_train, X_test, y_train, y_test = train_test_split(X_iris, y_iris, test_size=0.33, random_state=90)"
   ]
  },
  {
   "cell_type": "markdown",
   "metadata": {},
   "source": [
    "## Set Placeholders"
   ]
  },
  {
   "cell_type": "code",
   "execution_count": 6,
   "metadata": {},
   "outputs": [],
   "source": [
    "num_features = X_train.shape[1] # in the iris dataset, this number is 4\n",
    "num_labels = y_train.shape[1] # and this number is 3"
   ]
  },
  {
   "cell_type": "code",
   "execution_count": 7,
   "metadata": {},
   "outputs": [],
   "source": [
    "X = tf.placeholder(tf.float32, [None, num_features]) # iris has 4 features, so X is a tensor to hold our data\n",
    "y = tf.placeholder(tf.float32, [None, num_labels]) # y is a tensor to hold matrix for 3 classes"
   ]
  },
  {
   "cell_type": "markdown",
   "metadata": {},
   "source": [
    "## Set Variable"
   ]
  },
  {
   "cell_type": "code",
   "execution_count": 8,
   "metadata": {
    "collapsed": true
   },
   "outputs": [],
   "source": [
    "# randomly sample from a normal distribution with standard deviation .01\n",
    "weights = tf.Variable(tf.random_normal([num_features, num_labels], mean=0, stddev=0.01, name='weights'))\n",
    "bias = tf.Variable(tf.random_normal([1, num_labels], mean=0, stddev=0.01, name='bias'))"
   ]
  },
  {
   "cell_type": "markdown",
   "metadata": {},
   "source": [
    "## Set Operation"
   ]
  },
  {
   "cell_type": "code",
   "execution_count": 9,
   "metadata": {
    "collapsed": true
   },
   "outputs": [],
   "source": [
    "# three-component breakdown of the Logistic Regression equation\n",
    "OP_apply_weights = tf.matmul(X, weights, name='apply_weights')\n",
    "OP_add_bias = tf.add(OP_apply_weights, bias, name='add_bias')\n",
    "OP_activation = tf.nn.sigmoid(OP_add_bias, name='activation')"
   ]
  },
  {
   "cell_type": "markdown",
   "metadata": {},
   "source": [
    "## Set Loss Function"
   ]
  },
  {
   "cell_type": "code",
   "execution_count": 10,
   "metadata": {
    "collapsed": true
   },
   "outputs": [],
   "source": [
    "OP_loss = tf.nn.l2_loss(OP_activation - y, name='squared_error_loss')"
   ]
  },
  {
   "cell_type": "markdown",
   "metadata": {},
   "source": [
    "## Set Optimizer"
   ]
  },
  {
   "cell_type": "code",
   "execution_count": 11,
   "metadata": {
    "collapsed": true
   },
   "outputs": [],
   "source": [
    "# defining learning rate iteration with decay\n",
    "learning_rate = tf.train.exponential_decay(learning_rate=8e-4, global_step=1, \n",
    "                                           decay_steps=X_train.shape[0], decay_rate=0.95, staircase=True)"
   ]
  },
  {
   "cell_type": "code",
   "execution_count": 12,
   "metadata": {},
   "outputs": [],
   "source": [
    "# defining Gradient Descent\n",
    "OP_optimizer = tf.train.GradientDescentOptimizer(learning_rate).minimize(OP_loss)"
   ]
  },
  {
   "cell_type": "markdown",
   "metadata": {},
   "source": [
    "## Train The Graph"
   ]
  },
  {
   "cell_type": "code",
   "execution_count": 13,
   "metadata": {
    "collapsed": true
   },
   "outputs": [],
   "source": [
    "init = tf.global_variables_initializer()"
   ]
  },
  {
   "cell_type": "code",
   "execution_count": 14,
   "metadata": {},
   "outputs": [
    {
     "name": "stdout",
     "output_type": "stream",
     "text": [
      "Epoch 10, Training Accuracy: 0.535354, Loss: 30.197577, Loss Diff: 0.232487\n",
      "Epoch 20, Training Accuracy: 0.737374, Loss: 28.109291, Loss Diff: 0.193136\n",
      "Epoch 30, Training Accuracy: 0.949495, Loss: 26.359640, Loss Diff: 0.160492\n",
      "Epoch 40, Training Accuracy: 0.969697, Loss: 24.916460, Loss Diff: 0.131819\n",
      "Epoch 50, Training Accuracy: 0.959596, Loss: 23.732325, Loss Diff: 0.108206\n",
      "Epoch 60, Training Accuracy: 0.929293, Loss: 22.757540, Loss Diff: 0.089359\n",
      "Epoch 70, Training Accuracy: 0.919192, Loss: 21.948711, Loss Diff: 0.074484\n",
      "Epoch 80, Training Accuracy: 0.919192, Loss: 21.270714, Loss Diff: 0.062750\n",
      "Epoch 90, Training Accuracy: 0.919192, Loss: 20.696091, Loss Diff: 0.053455\n",
      "Epoch 100, Training Accuracy: 0.929293, Loss: 20.203667, Loss Diff: 0.046040\n",
      "Epoch 110, Training Accuracy: 0.929293, Loss: 19.777172, Loss Diff: 0.040064\n",
      "Epoch 120, Training Accuracy: 0.929293, Loss: 19.404036, Loss Diff: 0.035210\n",
      "Epoch 130, Training Accuracy: 0.929293, Loss: 19.074512, Loss Diff: 0.031223\n",
      "Epoch 140, Training Accuracy: 0.939394, Loss: 18.780972, Loss Diff: 0.027918\n",
      "Epoch 150, Training Accuracy: 0.939394, Loss: 18.517393, Loss Diff: 0.025156\n",
      "Epoch 160, Training Accuracy: 0.939394, Loss: 18.278984, Loss Diff: 0.022823\n",
      "Epoch 170, Training Accuracy: 0.939394, Loss: 18.061888, Loss Diff: 0.020844\n",
      "Epoch 180, Training Accuracy: 0.949495, Loss: 17.862988, Loss Diff: 0.019148\n",
      "Epoch 190, Training Accuracy: 0.949495, Loss: 17.679737, Loss Diff: 0.017683\n",
      "Epoch 200, Training Accuracy: 0.959596, Loss: 17.510036, Loss Diff: 0.016411\n",
      "Epoch 210, Training Accuracy: 0.969697, Loss: 17.352146, Loss Diff: 0.015301\n",
      "Epoch 220, Training Accuracy: 0.969697, Loss: 17.204617, Loss Diff: 0.014322\n",
      "Epoch 230, Training Accuracy: 0.969697, Loss: 17.066229, Loss Diff: 0.013456\n",
      "Epoch 240, Training Accuracy: 0.969697, Loss: 16.935944, Loss Diff: 0.012688\n",
      "Epoch 250, Training Accuracy: 0.969697, Loss: 16.812887, Loss Diff: 0.012001\n",
      "Epoch 260, Training Accuracy: 0.969697, Loss: 16.696308, Loss Diff: 0.011385\n",
      "Epoch 270, Training Accuracy: 0.969697, Loss: 16.585556, Loss Diff: 0.010828\n",
      "Epoch 280, Training Accuracy: 0.969697, Loss: 16.480074, Loss Diff: 0.010323\n",
      "Epoch 290, Training Accuracy: 0.969697, Loss: 16.379375, Loss Diff: 0.009869\n",
      "Epoch 300, Training Accuracy: 0.969697, Loss: 16.283039, Loss Diff: 0.009451\n",
      "Epoch 310, Training Accuracy: 0.969697, Loss: 16.190691, Loss Diff: 0.009066\n",
      "Epoch 320, Training Accuracy: 0.969697, Loss: 16.102003, Loss Diff: 0.008713\n",
      "Epoch 330, Training Accuracy: 0.969697, Loss: 16.016689, Loss Diff: 0.008387\n",
      "Epoch 340, Training Accuracy: 0.969697, Loss: 15.934487, Loss Diff: 0.008086\n",
      "Epoch 350, Training Accuracy: 0.969697, Loss: 15.855173, Loss Diff: 0.007808\n",
      "Epoch 360, Training Accuracy: 0.969697, Loss: 15.778542, Loss Diff: 0.007547\n",
      "Epoch 370, Training Accuracy: 0.969697, Loss: 15.704409, Loss Diff: 0.007306\n",
      "Epoch 380, Training Accuracy: 0.969697, Loss: 15.632612, Loss Diff: 0.007078\n",
      "Epoch 390, Training Accuracy: 0.969697, Loss: 15.563002, Loss Diff: 0.006866\n",
      "Epoch 400, Training Accuracy: 0.969697, Loss: 15.495442, Loss Diff: 0.006669\n",
      "Final accuracy on test set: 0.980000\n"
     ]
    }
   ],
   "source": [
    "with tf.Session() as sess:\n",
    "    sess.run(init) # initialize the variables before executing a graph\n",
    "    \n",
    "    # operation for tracking our model\n",
    "    OP_correct_prediction = tf.equal(tf.argmax(OP_activation, 1), tf.argmax(y, 1))\n",
    "\n",
    "    OP_accuracy = tf.reduce_mean(tf.cast(OP_correct_prediction, 'float'))\n",
    "\n",
    "    OP_activation_summary = tf.summary.histogram('output', OP_activation)\n",
    "\n",
    "    OP_accuracy_summary = tf.summary.scalar('accuracy', OP_accuracy)\n",
    "\n",
    "    OP_loss_summary = tf.summary.scalar('loss', OP_loss)\n",
    "    \n",
    "    weight_summary = tf.summary.histogram('weights', weights.eval(session=sess))\n",
    "    bias_summary = tf.summary.histogram('biases', bias.eval(session=sess))\n",
    "    \n",
    "    all_summary = tf.summary.merge([OP_activation_summary, OP_accuracy_summary, OP_loss_summary, weight_summary, bias_summary])\n",
    "    \n",
    "    writer = tf.summary.FileWriter('logs', sess.graph)\n",
    "    \n",
    "    # initialize reporting variables\n",
    "    loss = 0\n",
    "    diff = 1\n",
    "    epoch_values = []\n",
    "    accuracy_values = []\n",
    "    loss_values = []\n",
    "    num_epochs = 400\n",
    "    \n",
    "    for i_epoch in range(1, num_epochs+1):\n",
    "        \n",
    "        if i_epoch > 1 and diff < .0001:\n",
    "            print(f'Change in loss {diff}, convergence.')\n",
    "            break\n",
    "        else:\n",
    "            \n",
    "            # run training step\n",
    "            step = sess.run(OP_optimizer, feed_dict={X: X_train, y: y_train})\n",
    "                        \n",
    "            # add epoch to epoch values\n",
    "            epoch_values.append(i_epoch)\n",
    "\n",
    "            # generate accuracy stats on test data\n",
    "            train_accuracy, new_loss = sess.run([OP_accuracy, OP_loss], feed_dict={X: X_train, y: y_train})\n",
    "\n",
    "            # add accuracy to live graphing variable\n",
    "            accuracy_values.append(train_accuracy)\n",
    "\n",
    "            # add cost to live graphing variable\n",
    "            loss_values.append(new_loss)\n",
    "\n",
    "            # re-assign values for variables\n",
    "            diff = abs(new_loss - loss)\n",
    "            loss = new_loss\n",
    "            \n",
    "            # report occasional stats\n",
    "            if i_epoch % 10 == 0:    \n",
    "                # generate print statements\n",
    "                print(f'Epoch {i_epoch}, Training Accuracy: {train_accuracy:.6f}, Loss: {new_loss:.6f}, Loss Diff: {diff:.6f}')\n",
    "                \n",
    "    # check how well do the model perform held-out test data\n",
    "    final_accuracy = sess.run(OP_accuracy, feed_dict={X: X_test, y: y_test})\n",
    "    print(f'Final accuracy on test set: {final_accuracy:.6f}')"
   ]
  },
  {
   "cell_type": "markdown",
   "metadata": {},
   "source": [
    "## Plot Loss"
   ]
  },
  {
   "cell_type": "code",
   "execution_count": 15,
   "metadata": {},
   "outputs": [
    {
     "data": {
      "image/png": "[encoded data removed]",
      "text/plain": [
       "<matplotlib.figure.Figure at 0x12fd1e2b0>"
      ]
     },
     "metadata": {},
     "output_type": "display_data"
    }
   ],
   "source": [
    "plt.plot([np.mean(loss_values[i-50:i]) for i in range(len(loss_values))])\n",
    "plt.xlabel('Number of episodes')\n",
    "plt.ylabel('Loss')\n",
    "plt.grid(True)\n",
    "plt.show()"
   ]
  },
  {
   "cell_type": "markdown",
   "metadata": {},
   "source": [
    "---"
   ]
  }
 ],
 "metadata": {
  "kernelspec": {
   "display_name": "Python 3",
   "language": "python",
   "name": "python3"
  },
  "language_info": {
   "codemirror_mode": {
    "name": "ipython",
    "version": 3
   },
   "file_extension": ".py",
   "mimetype": "text/x-python",
   "name": "python",
   "nbconvert_exporter": "python",
   "pygments_lexer": "ipython3",
   "version": "3.6.7"
  }
 },
 "nbformat": 4,
 "nbformat_minor": 2
}
