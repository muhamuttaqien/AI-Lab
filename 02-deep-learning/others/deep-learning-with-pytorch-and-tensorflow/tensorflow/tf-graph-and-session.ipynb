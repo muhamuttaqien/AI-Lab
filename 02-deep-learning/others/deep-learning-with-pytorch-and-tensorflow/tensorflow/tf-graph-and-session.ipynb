{
 "cells": [
  {
   "cell_type": "code",
   "execution_count": 1,
   "metadata": {
    "collapsed": true
   },
   "outputs": [],
   "source": [
    "import tensorflow as tf"
   ]
  },
  {
   "cell_type": "markdown",
   "metadata": {},
   "source": [
    "## Build a Graph"
   ]
  },
  {
   "cell_type": "markdown",
   "metadata": {},
   "source": [
    "#### Basic Graph"
   ]
  },
  {
   "cell_type": "code",
   "execution_count": 2,
   "metadata": {
    "collapsed": true
   },
   "outputs": [],
   "source": [
    "basic_graph = tf.Graph() # init dataflow or computation graph"
   ]
  },
  {
   "cell_type": "code",
   "execution_count": 3,
   "metadata": {
    "collapsed": true
   },
   "outputs": [],
   "source": [
    "with basic_graph.as_default():\n",
    "    a = tf.constant([2], name='constant_a')\n",
    "    b = tf.constant([3], name='constant_b')"
   ]
  },
  {
   "cell_type": "code",
   "execution_count": 4,
   "metadata": {},
   "outputs": [
    {
     "name": "stdout",
     "output_type": "stream",
     "text": [
      "tf.tensor(): Tensor(\"constant_a:0\", shape=(1,), dtype=int32)\n"
     ]
    }
   ],
   "source": [
    "print('tf.tensor():', a)"
   ]
  },
  {
   "cell_type": "code",
   "execution_count": 5,
   "metadata": {
    "collapsed": true
   },
   "outputs": [],
   "source": [
    "sess = tf.Session(graph=basic_graph) # create a session\n",
    "result = sess.run(a)"
   ]
  },
  {
   "cell_type": "code",
   "execution_count": 6,
   "metadata": {},
   "outputs": [
    {
     "data": {
      "text/plain": [
       "array([2], dtype=int32)"
      ]
     },
     "execution_count": 6,
     "metadata": {},
     "output_type": "execute_result"
    }
   ],
   "source": [
    "result"
   ]
  },
  {
   "cell_type": "code",
   "execution_count": 7,
   "metadata": {
    "collapsed": true
   },
   "outputs": [],
   "source": [
    "sess.close()"
   ]
  },
  {
   "cell_type": "code",
   "execution_count": 8,
   "metadata": {
    "collapsed": true
   },
   "outputs": [],
   "source": [
    "with basic_graph.as_default():\n",
    "    c = tf.add(a, b)\n",
    "    # c = a + b is also a way to define the sum of the terms"
   ]
  },
  {
   "cell_type": "code",
   "execution_count": 9,
   "metadata": {},
   "outputs": [
    {
     "name": "stdout",
     "output_type": "stream",
     "text": [
      "tf.tensor(): Tensor(\"Add:0\", shape=(1,), dtype=int32)\n"
     ]
    }
   ],
   "source": [
    "print('tf.tensor():', c)"
   ]
  },
  {
   "cell_type": "code",
   "execution_count": 10,
   "metadata": {
    "collapsed": true
   },
   "outputs": [],
   "source": [
    "sess = tf.Session(graph=basic_graph)\n",
    "result = sess.run(c)"
   ]
  },
  {
   "cell_type": "code",
   "execution_count": 11,
   "metadata": {},
   "outputs": [
    {
     "data": {
      "text/plain": [
       "array([5], dtype=int32)"
      ]
     },
     "execution_count": 11,
     "metadata": {},
     "output_type": "execute_result"
    }
   ],
   "source": [
    "result"
   ]
  },
  {
   "cell_type": "code",
   "execution_count": 12,
   "metadata": {
    "collapsed": true
   },
   "outputs": [],
   "source": [
    "sess.close()"
   ]
  },
  {
   "cell_type": "markdown",
   "metadata": {},
   "source": [
    "#### Multi-dimensional Graph"
   ]
  },
  {
   "cell_type": "code",
   "execution_count": 13,
   "metadata": {
    "collapsed": true
   },
   "outputs": [],
   "source": [
    "md_graph1 = tf.Graph()"
   ]
  },
  {
   "cell_type": "code",
   "execution_count": 14,
   "metadata": {
    "collapsed": true
   },
   "outputs": [],
   "source": [
    "with md_graph1.as_default():\n",
    "    \n",
    "    Scalar = tf.constant(2)\n",
    "    Vector = tf.constant([5, 6, 2])\n",
    "    Matrix = tf.constant([[1, 2, 3], [2, 3, 4], [3, 4, 5]])\n",
    "    Tensor = tf.constant([ [[1, 2, 3], [2, 3, 4], [3, 4, 5]], \n",
    "                           [[4, 5, 6], [5, 6, 7], [6, 7, 8]], \n",
    "                           [[7, 8, 9], [8, 9, 10], [9, 10, 11]] ])"
   ]
  },
  {
   "cell_type": "code",
   "execution_count": 15,
   "metadata": {
    "collapsed": true
   },
   "outputs": [],
   "source": [
    "with tf.Session(graph=md_graph1) as sess: # session will be closed automatically\n",
    "    \n",
    "    Scalar_result = sess.run(Scalar)\n",
    "    Vector_result = sess.run(Vector)\n",
    "    Matrix_result = sess.run(Matrix)\n",
    "    Tensor_result = sess.run(Tensor)"
   ]
  },
  {
   "cell_type": "code",
   "execution_count": 16,
   "metadata": {},
   "outputs": [
    {
     "name": "stdout",
     "output_type": "stream",
     "text": [
      "Scalar (1 entry, shape: ()):\n",
      " 2 \n",
      "\n",
      "Vector (3 entries, shape: (3,))):\n",
      " [5 6 2] \n",
      "\n",
      "Matrix (3x3 entries, shape: (3, 3))):\n",
      " [[1 2 3]\n",
      " [2 3 4]\n",
      " [3 4 5]] \n",
      "\n",
      "Tensor (3x3x3 entries, shape: (3, 3, 3))):\n",
      " [[[ 1  2  3]\n",
      "  [ 2  3  4]\n",
      "  [ 3  4  5]]\n",
      "\n",
      " [[ 4  5  6]\n",
      "  [ 5  6  7]\n",
      "  [ 6  7  8]]\n",
      "\n",
      " [[ 7  8  9]\n",
      "  [ 8  9 10]\n",
      "  [ 9 10 11]]] \n",
      "\n"
     ]
    }
   ],
   "source": [
    "print (f\"Scalar (1 entry, shape: {Scalar.shape}):\\n {Scalar_result} \\n\")\n",
    "print (f\"Vector (3 entries, shape: {Vector.shape})):\\n {Vector_result} \\n\")\n",
    "print (f\"Matrix (3x3 entries, shape: {Matrix.shape})):\\n {Matrix_result} \\n\")\n",
    "print (f\"Tensor (3x3x3 entries, shape: {Tensor.shape})):\\n {Tensor_result} \\n\")"
   ]
  },
  {
   "cell_type": "code",
   "execution_count": 17,
   "metadata": {
    "collapsed": true
   },
   "outputs": [],
   "source": [
    "md_graph2 = tf.Graph()"
   ]
  },
  {
   "cell_type": "code",
   "execution_count": 18,
   "metadata": {
    "collapsed": true
   },
   "outputs": [],
   "source": [
    "with md_graph2.as_default():\n",
    "    \n",
    "    Matrix_one = tf.constant([[1, 2, 3], [2, 3, 4], [3, 4, 5]])\n",
    "    Matrix_two = tf.constant([[2, 2, 2], [2, 2, 2], [2, 2, 2]])\n",
    "    \n",
    "    add_1_op = tf.add(Matrix_one, Matrix_two)\n",
    "    add_2_op = Matrix_one + Matrix_two"
   ]
  },
  {
   "cell_type": "code",
   "execution_count": 19,
   "metadata": {
    "collapsed": true
   },
   "outputs": [],
   "source": [
    "with tf.Session(graph=md_graph2) as sess:\n",
    "    \n",
    "    tensorflow_result = sess.run(add_1_op)\n",
    "    normal_result = sess.run(add_2_op)"
   ]
  },
  {
   "cell_type": "code",
   "execution_count": 20,
   "metadata": {},
   "outputs": [
    {
     "name": "stdout",
     "output_type": "stream",
     "text": [
      "Defined using tensorflow function: \n",
      "[[3 4 5]\n",
      " [4 5 6]\n",
      " [5 6 7]]\n",
      "Defined using normal expressions: \n",
      "[[3 4 5]\n",
      " [4 5 6]\n",
      " [5 6 7]]\n"
     ]
    }
   ],
   "source": [
    "print (\"Defined using tensorflow function: \")\n",
    "print(tensorflow_result)\n",
    "\n",
    "print (\"Defined using normal expressions: \")\n",
    "print(normal_result)"
   ]
  },
  {
   "cell_type": "code",
   "execution_count": 21,
   "metadata": {
    "collapsed": true
   },
   "outputs": [],
   "source": [
    "md_graph3 = tf.Graph()"
   ]
  },
  {
   "cell_type": "code",
   "execution_count": 22,
   "metadata": {
    "collapsed": true
   },
   "outputs": [],
   "source": [
    "with md_graph3.as_default():\n",
    "    \n",
    "    Matrix_one = tf.constant([[2, 3], [3, 4]])\n",
    "    Matrix_two = tf.constant([[2, 3], [3, 4]])\n",
    "    \n",
    "    matmul_op = tf.matmul(Matrix_one, Matrix_two)"
   ]
  },
  {
   "cell_type": "code",
   "execution_count": 23,
   "metadata": {
    "collapsed": true
   },
   "outputs": [],
   "source": [
    "with tf.Session(graph=md_graph3) as sess:\n",
    "    result = sess.run(matmul_op)"
   ]
  },
  {
   "cell_type": "code",
   "execution_count": 24,
   "metadata": {},
   "outputs": [
    {
     "name": "stdout",
     "output_type": "stream",
     "text": [
      "Defined using tensorflow function: \n",
      "[[13 18]\n",
      " [18 25]]\n"
     ]
    }
   ],
   "source": [
    "print (\"Defined using tensorflow function: \")\n",
    "print(result)"
   ]
  },
  {
   "cell_type": "markdown",
   "metadata": {},
   "source": [
    "---"
   ]
  }
 ],
 "metadata": {
  "kernelspec": {
   "display_name": "Python 3",
   "language": "python",
   "name": "python3"
  },
  "language_info": {
   "codemirror_mode": {
    "name": "ipython",
    "version": 3
   },
   "file_extension": ".py",
   "mimetype": "text/x-python",
   "name": "python",
   "nbconvert_exporter": "python",
   "pygments_lexer": "ipython3",
   "version": "3.6.7"
  }
 },
 "nbformat": 4,
 "nbformat_minor": 2
}
