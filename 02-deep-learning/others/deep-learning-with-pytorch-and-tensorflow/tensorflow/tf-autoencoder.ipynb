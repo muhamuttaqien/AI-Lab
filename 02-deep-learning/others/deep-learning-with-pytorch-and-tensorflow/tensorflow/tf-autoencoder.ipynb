{
 "cells": [
  {
   "cell_type": "code",
   "execution_count": 1,
   "metadata": {
    "collapsed": true
   },
   "outputs": [],
   "source": [
    "import numpy as np\n",
    "import matplotlib.pyplot as plt"
   ]
  },
  {
   "cell_type": "code",
   "execution_count": 2,
   "metadata": {
    "collapsed": true
   },
   "outputs": [],
   "source": [
    "import warnings; warnings.filterwarnings('ignore')\n",
    "import tensorflow as tf\n",
    "from tensorflow.examples.tutorials import mnist"
   ]
  },
  {
   "cell_type": "markdown",
   "metadata": {},
   "source": [
    "## Load Datasets"
   ]
  },
  {
   "cell_type": "code",
   "execution_count": 3,
   "metadata": {
    "collapsed": true
   },
   "outputs": [],
   "source": [
    "mnist_data = mnist.input_data.read_data_sets('./datasets/mnist/', one_hot=True, seed=90)"
   ]
  },
  {
   "cell_type": "markdown",
   "metadata": {},
   "source": [
    "## Create Interactive Session"
   ]
  },
  {
   "cell_type": "code",
   "execution_count": 4,
   "metadata": {
    "collapsed": true
   },
   "outputs": [],
   "source": [
    "sess = tf.InteractiveSession()"
   ]
  },
  {
   "cell_type": "markdown",
   "metadata": {},
   "source": [
    "## Set Configs"
   ]
  },
  {
   "cell_type": "code",
   "execution_count": 5,
   "metadata": {
    "collapsed": true
   },
   "outputs": [],
   "source": [
    "learning_rate = 0.01\n",
    "num_epochs = 50\n",
    "batch_size = 256\n",
    "num_visible = 784 # 28x28 data input\n",
    "num_hidden_l1 = 256\n",
    "num_hidden_l2 = 128"
   ]
  },
  {
   "cell_type": "markdown",
   "metadata": {},
   "source": [
    "## Define Layers"
   ]
  },
  {
   "cell_type": "code",
   "execution_count": 6,
   "metadata": {
    "collapsed": true
   },
   "outputs": [],
   "source": [
    "X = tf.placeholder(tf.float32, [None, num_visible])"
   ]
  },
  {
   "cell_type": "code",
   "execution_count": 7,
   "metadata": {
    "collapsed": true
   },
   "outputs": [],
   "source": [
    "weights = {\n",
    "    'encoder_h1': tf.Variable(tf.random_normal([num_visible, num_hidden_l1])),\n",
    "    'encoder_h2': tf.Variable(tf.random_normal([num_hidden_l1, num_hidden_l2])),\n",
    "    'decoder_h1': tf.Variable(tf.random_normal([num_hidden_l2, num_hidden_l1])),\n",
    "    'decoder_h2': tf.Variable(tf.random_normal([num_hidden_l1, num_visible])),\n",
    "}"
   ]
  },
  {
   "cell_type": "code",
   "execution_count": 8,
   "metadata": {
    "collapsed": true
   },
   "outputs": [],
   "source": [
    "biases = {\n",
    "    'encoder_b1': tf.Variable(tf.random_normal([num_hidden_l1])),\n",
    "    'encoder_b2': tf.Variable(tf.random_normal([num_hidden_l2])),\n",
    "    'decoder_b1': tf.Variable(tf.random_normal([num_hidden_l1])),\n",
    "    'decoder_b2': tf.Variable(tf.random_normal([num_visible])),\n",
    "}"
   ]
  },
  {
   "cell_type": "markdown",
   "metadata": {},
   "source": [
    "## Define Network"
   ]
  },
  {
   "cell_type": "code",
   "execution_count": 9,
   "metadata": {
    "collapsed": true
   },
   "outputs": [],
   "source": [
    "# building the encoder\n",
    "def encoder(x):\n",
    "    \n",
    "    # encoder first and second layers with sigmoid activation\n",
    "    layer_1 = tf.nn.sigmoid(tf.add(tf.matmul(x, weights['encoder_h1']), biases['encoder_b1']))    \n",
    "    layer_2 = tf.nn.sigmoid(tf.add(tf.matmul(layer_1, weights['encoder_h2']), biases['encoder_b2']))\n",
    "    \n",
    "    return layer_2"
   ]
  },
  {
   "cell_type": "code",
   "execution_count": 10,
   "metadata": {
    "collapsed": true
   },
   "outputs": [],
   "source": [
    "# building the decoder\n",
    "def decoder(x):\n",
    "    \n",
    "    # decoder first and second layers with sigmoid activation\n",
    "    layer_1 = tf.nn.sigmoid(tf.add(tf.matmul(x, weights['decoder_h1']), biases['decoder_b1']))\n",
    "    layer_2 = tf.nn.sigmoid(tf.add(tf.matmul(layer_1, weights['decoder_h2']), biases['decoder_b2']))\n",
    "    \n",
    "    return layer_2"
   ]
  },
  {
   "cell_type": "code",
   "execution_count": 11,
   "metadata": {},
   "outputs": [],
   "source": [
    "# construct autoencoder model\n",
    "encoder_op = encoder(X)\n",
    "decoder_op = decoder(encoder_op)"
   ]
  },
  {
   "cell_type": "markdown",
   "metadata": {},
   "source": [
    "## Set Loss Function"
   ]
  },
  {
   "cell_type": "code",
   "execution_count": 12,
   "metadata": {
    "collapsed": true
   },
   "outputs": [],
   "source": [
    "y_pred = decoder_op # reconstructed images\n",
    "y_true = X # input data as labels"
   ]
  },
  {
   "cell_type": "code",
   "execution_count": 13,
   "metadata": {
    "collapsed": true
   },
   "outputs": [],
   "source": [
    "loss_op = tf.reduce_mean(tf.pow(y_true - y_pred, 2))"
   ]
  },
  {
   "cell_type": "markdown",
   "metadata": {},
   "source": [
    "## Set Optimizer"
   ]
  },
  {
   "cell_type": "code",
   "execution_count": 14,
   "metadata": {
    "collapsed": true
   },
   "outputs": [],
   "source": [
    "optimizer_op = tf.train.RMSPropOptimizer(learning_rate).minimize(loss_op)"
   ]
  },
  {
   "cell_type": "markdown",
   "metadata": {},
   "source": [
    "## Train The Graph"
   ]
  },
  {
   "cell_type": "code",
   "execution_count": 15,
   "metadata": {
    "scrolled": true
   },
   "outputs": [
    {
     "name": "stdout",
     "output_type": "stream",
     "text": [
      "Epoch: 1, Reconstruction Loss: 0.209556654\n",
      "Epoch: 2, Reconstruction Loss: 0.176989421\n",
      "Epoch: 3, Reconstruction Loss: 0.163859874\n",
      "Epoch: 4, Reconstruction Loss: 0.147452429\n",
      "Epoch: 5, Reconstruction Loss: 0.143175155\n",
      "Epoch: 6, Reconstruction Loss: 0.139824003\n",
      "Epoch: 7, Reconstruction Loss: 0.134199008\n",
      "Epoch: 8, Reconstruction Loss: 0.131255195\n",
      "Epoch: 9, Reconstruction Loss: 0.125880986\n",
      "Epoch: 10, Reconstruction Loss: 0.126320511\n",
      "Epoch: 11, Reconstruction Loss: 0.120609924\n",
      "Epoch: 12, Reconstruction Loss: 0.118785165\n",
      "Epoch: 13, Reconstruction Loss: 0.117665038\n",
      "Epoch: 14, Reconstruction Loss: 0.115327798\n",
      "Epoch: 15, Reconstruction Loss: 0.113939308\n",
      "Epoch: 16, Reconstruction Loss: 0.115394965\n",
      "Epoch: 17, Reconstruction Loss: 0.110137649\n",
      "Epoch: 18, Reconstruction Loss: 0.114111431\n",
      "Epoch: 19, Reconstruction Loss: 0.110183559\n",
      "Epoch: 20, Reconstruction Loss: 0.107372828\n",
      "Epoch: 21, Reconstruction Loss: 0.107174173\n",
      "Epoch: 22, Reconstruction Loss: 0.105449095\n",
      "Epoch: 23, Reconstruction Loss: 0.103375912\n",
      "Epoch: 24, Reconstruction Loss: 0.101124100\n",
      "Epoch: 25, Reconstruction Loss: 0.102072172\n",
      "Epoch: 26, Reconstruction Loss: 0.095901549\n",
      "Epoch: 27, Reconstruction Loss: 0.094646670\n",
      "Epoch: 28, Reconstruction Loss: 0.093626522\n",
      "Epoch: 29, Reconstruction Loss: 0.093375884\n",
      "Epoch: 30, Reconstruction Loss: 0.094287366\n",
      "Epoch: 31, Reconstruction Loss: 0.092561938\n",
      "Epoch: 32, Reconstruction Loss: 0.092996620\n",
      "Epoch: 33, Reconstruction Loss: 0.092484608\n",
      "Epoch: 34, Reconstruction Loss: 0.093157962\n",
      "Epoch: 35, Reconstruction Loss: 0.091974258\n",
      "Epoch: 36, Reconstruction Loss: 0.090249032\n",
      "Epoch: 37, Reconstruction Loss: 0.088651456\n",
      "Epoch: 38, Reconstruction Loss: 0.088828944\n",
      "Epoch: 39, Reconstruction Loss: 0.086390346\n",
      "Epoch: 40, Reconstruction Loss: 0.086002477\n",
      "Epoch: 41, Reconstruction Loss: 0.084706463\n",
      "Epoch: 42, Reconstruction Loss: 0.084295779\n",
      "Epoch: 43, Reconstruction Loss: 0.082735024\n",
      "Epoch: 44, Reconstruction Loss: 0.083478980\n",
      "Epoch: 45, Reconstruction Loss: 0.082390510\n",
      "Epoch: 46, Reconstruction Loss: 0.082590289\n",
      "Epoch: 47, Reconstruction Loss: 0.082363710\n",
      "Epoch: 48, Reconstruction Loss: 0.080865040\n",
      "Epoch: 49, Reconstruction Loss: 0.082207352\n",
      "Epoch: 50, Reconstruction Loss: 0.080511861\n"
     ]
    },
    {
     "data": {
      "image/png": "[encoded data removed]",
      "text/plain": [
       "<matplotlib.figure.Figure at 0x139ec7748>"
      ]
     },
     "metadata": {},
     "output_type": "display_data"
    }
   ],
   "source": [
    "with tf.Session() as sess:\n",
    "\n",
    "    init_op = tf.global_variables_initializer()\n",
    "    \n",
    "    sess.run(init_op) # run the init_op using an interactive session\n",
    "    \n",
    "    total_batch = int(mnist_data.train.num_examples / batch_size)\n",
    "    losses = []\n",
    "    \n",
    "    for i_epoch in range(1, num_epochs+1):\n",
    "        \n",
    "        for i in range(total_batch):\n",
    "            \n",
    "            train_data, train_label = mnist_data.train.next_batch(batch_size)\n",
    "            _, loss = sess.run([optimizer_op, loss_op], feed_dict={X: train_data})\n",
    "        \n",
    "        losses.append(loss)\n",
    "        print(f'Epoch: {i_epoch}, Reconstruction Loss: {loss:.9f}')\n",
    "        \n",
    "    plt.plot(losses)\n",
    "    plt.xlabel('Number of Epochs')\n",
    "    plt.ylabel('Reconstruction Loss')\n",
    "    plt.show()\n",
    "    \n",
    "    # applying encode and decode over test set for 10 images\n",
    "    encode_decode = sess.run(y_pred, feed_dict={ X: mnist_data.test.images[:10] })\n",
    "    "
   ]
  },
  {
   "cell_type": "markdown",
   "metadata": {},
   "source": [
    "## Visualize The Reconstructions"
   ]
  },
  {
   "cell_type": "code",
   "execution_count": 16,
   "metadata": {},
   "outputs": [
    {
     "data": {
      "image/png": "[encoded data removed]",
      "text/plain": [
       "<matplotlib.figure.Figure at 0x139ebfb00>"
      ]
     },
     "metadata": {},
     "output_type": "display_data"
    }
   ],
   "source": [
    "# comparing original images with their reconstructions\n",
    "f, a = plt.subplots(2, 10, figsize=(20, 5))\n",
    "for i in range(10):\n",
    "    a[0][i].imshow(np.reshape(mnist_data.test.images[i], (28, 28)))\n",
    "    a[1][i].imshow(np.reshape(encode_decode[i], (28, 28)))\n",
    "\n",
    "plt.show()"
   ]
  },
  {
   "cell_type": "markdown",
   "metadata": {},
   "source": [
    "---"
   ]
  }
 ],
 "metadata": {
  "kernelspec": {
   "display_name": "Python 3",
   "language": "python",
   "name": "python3"
  },
  "language_info": {
   "codemirror_mode": {
    "name": "ipython",
    "version": 3
   },
   "file_extension": ".py",
   "mimetype": "text/x-python",
   "name": "python",
   "nbconvert_exporter": "python",
   "pygments_lexer": "ipython3",
   "version": "3.6.7"
  }
 },
 "nbformat": 4,
 "nbformat_minor": 2
}
