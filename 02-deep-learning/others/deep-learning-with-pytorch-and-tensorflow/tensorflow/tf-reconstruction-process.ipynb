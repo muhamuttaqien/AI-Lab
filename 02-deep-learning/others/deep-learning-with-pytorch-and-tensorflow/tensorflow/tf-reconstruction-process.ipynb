{
 "cells": [
  {
   "cell_type": "code",
   "execution_count": 1,
   "metadata": {
    "collapsed": true
   },
   "outputs": [],
   "source": [
    "import numpy as np\n",
    "import matplotlib.pyplot as plt\n",
    "\n",
    "from PIL import Image\n",
    "from utils import tile_raster_images"
   ]
  },
  {
   "cell_type": "code",
   "execution_count": 2,
   "metadata": {
    "collapsed": true
   },
   "outputs": [],
   "source": [
    "import tensorflow as tf"
   ]
  },
  {
   "cell_type": "markdown",
   "metadata": {},
   "source": [
    "## Create Interactive Session"
   ]
  },
  {
   "cell_type": "code",
   "execution_count": 3,
   "metadata": {
    "collapsed": true
   },
   "outputs": [],
   "source": [
    "sess = tf.InteractiveSession()"
   ]
  },
  {
   "cell_type": "markdown",
   "metadata": {},
   "source": [
    "## Set Configs"
   ]
  },
  {
   "cell_type": "code",
   "execution_count": 4,
   "metadata": {
    "collapsed": true
   },
   "outputs": [],
   "source": [
    "num_visible = 7\n",
    "num_hidden = 2"
   ]
  },
  {
   "cell_type": "markdown",
   "metadata": {},
   "source": [
    "## Define Layers"
   ]
  },
  {
   "cell_type": "code",
   "execution_count": 5,
   "metadata": {},
   "outputs": [
    {
     "name": "stdout",
     "output_type": "stream",
     "text": [
      "Visible Input: [[1. 0. 0. 1. 0. 0. 0.]]\n"
     ]
    }
   ],
   "source": [
    "X = tf.constant([[1.0, 0.0, 0.0, 1.0, 0.0, 0.0, 0.0]])\n",
    "visible_state = X\n",
    "print('Visible Input:', sess.run(visible_state))"
   ]
  },
  {
   "cell_type": "code",
   "execution_count": 6,
   "metadata": {},
   "outputs": [
    {
     "name": "stdout",
     "output_type": "stream",
     "text": [
      "Hidden Bias: [0.1 0.1]\n"
     ]
    }
   ],
   "source": [
    "hidden_bias = tf.constant([0.1, 0.1])\n",
    "print('Hidden Bias:', sess.run(hidden_bias))"
   ]
  },
  {
   "cell_type": "markdown",
   "metadata": {},
   "source": [
    "## Define Weights"
   ]
  },
  {
   "cell_type": "code",
   "execution_count": 7,
   "metadata": {},
   "outputs": [
    {
     "name": "stdout",
     "output_type": "stream",
     "text": [
      "Weight: [[ 0.8550654   1.2203813 ]\n",
      " [ 0.30324465 -0.7779825 ]\n",
      " [ 1.8081648  -0.13989861]\n",
      " [-0.44084245 -1.2916696 ]\n",
      " [ 0.49972636 -0.10636421]\n",
      " [ 0.4115867  -1.3501058 ]\n",
      " [ 0.81812036 -0.05546417]]\n"
     ]
    }
   ],
   "source": [
    "weights = tf.constant(np.random.normal(loc=0.0, scale=1.0, size=(num_visible, num_hidden)).astype(np.float32))\n",
    "print('Weight:', sess.run(weights))"
   ]
  },
  {
   "cell_type": "markdown",
   "metadata": {},
   "source": [
    "## Calculate the Probabilities of Hidden Units"
   ]
  },
  {
   "cell_type": "code",
   "execution_count": 8,
   "metadata": {},
   "outputs": [
    {
     "name": "stdout",
     "output_type": "stream",
     "text": [
      "P(hidden|visible): [[0.62579596 0.5071774 ]]\n"
     ]
    }
   ],
   "source": [
    "# calculate the probabilities of turning the hidden units on\n",
    "hidden_prob = tf.nn.sigmoid(tf.matmul(visible_state, weights) + hidden_bias)\n",
    "print('P(hidden|visible):', sess.run(hidden_prob))"
   ]
  },
  {
   "cell_type": "code",
   "execution_count": 9,
   "metadata": {},
   "outputs": [
    {
     "name": "stdout",
     "output_type": "stream",
     "text": [
      "Hidden Probability States: [[1. 0.]]\n"
     ]
    }
   ],
   "source": [
    "# draw samples from the distribution\n",
    "hidden_state = tf.nn.relu(tf.sign(hidden_prob - tf.random_uniform(tf.shape(hidden_prob))))\n",
    "print('Hidden Probability States:', sess.run(hidden_state))"
   ]
  },
  {
   "cell_type": "markdown",
   "metadata": {
    "collapsed": true
   },
   "source": [
    "## Calculate the Probabilities of Visible Units"
   ]
  },
  {
   "cell_type": "code",
   "execution_count": 10,
   "metadata": {},
   "outputs": [
    {
     "name": "stdout",
     "output_type": "stream",
     "text": [
      "Visible Bias: [0.1 0.2 0.1 0.1 0.1 0.2 0.1]\n"
     ]
    }
   ],
   "source": [
    "visible_bias = tf.constant([0.1, 0.2, 0.1, 0.1, 0.1, 0.2, 0.1])\n",
    "print('Visible Bias:', sess.run(visible_bias))"
   ]
  },
  {
   "cell_type": "code",
   "execution_count": 11,
   "metadata": {},
   "outputs": [
    {
     "name": "stdout",
     "output_type": "stream",
     "text": [
      "P(visible|hidden): [[0.72213274 0.6232215  0.87081283 0.41560483 0.6455937  0.6483027\n",
      "  0.7146589 ]]\n"
     ]
    }
   ],
   "source": [
    "visible_prob = sess.run(tf.nn.sigmoid(tf.matmul(hidden_state, tf.transpose(weights)) + visible_bias))\n",
    "print('P(visible|hidden):', visible_prob)"
   ]
  },
  {
   "cell_type": "code",
   "execution_count": 12,
   "metadata": {},
   "outputs": [
    {
     "name": "stdout",
     "output_type": "stream",
     "text": [
      "Visible Probability States: [[1. 1. 1. 0. 0. 1. 1.]]\n"
     ]
    }
   ],
   "source": [
    "# our objective is to train a model in such a way that the input vector and reconstructed vector to be same\n",
    "visible_state = tf.nn.relu(tf.sign(visible_prob - tf.random_uniform(tf.shape(visible_prob))))\n",
    "print('Visible Probability States:', sess.run(visible_state))"
   ]
  },
  {
   "cell_type": "markdown",
   "metadata": {},
   "source": [
    "## Set Loss Function"
   ]
  },
  {
   "cell_type": "code",
   "execution_count": 13,
   "metadata": {},
   "outputs": [
    {
     "name": "stdout",
     "output_type": "stream",
     "text": [
      "Reconstruction Loss: 0.2857143\n"
     ]
    }
   ],
   "source": [
    "# our objective is to train a model in such a way that the input vector and reconstructed vector to be same\n",
    "loss = tf.reduce_mean(tf.square(X - visible_state))\n",
    "print('Reconstruction Loss:', sess.run(loss))"
   ]
  },
  {
   "cell_type": "markdown",
   "metadata": {},
   "source": [
    "---"
   ]
  }
 ],
 "metadata": {
  "kernelspec": {
   "display_name": "Python 3",
   "language": "python",
   "name": "python3"
  },
  "language_info": {
   "codemirror_mode": {
    "name": "ipython",
    "version": 3
   },
   "file_extension": ".py",
   "mimetype": "text/x-python",
   "name": "python",
   "nbconvert_exporter": "python",
   "pygments_lexer": "ipython3",
   "version": "3.6.7"
  }
 },
 "nbformat": 4,
 "nbformat_minor": 2
}
