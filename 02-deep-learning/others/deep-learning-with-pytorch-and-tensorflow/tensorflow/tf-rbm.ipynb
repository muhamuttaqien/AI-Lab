{
 "cells": [
  {
   "cell_type": "code",
   "execution_count": 1,
   "metadata": {
    "collapsed": true
   },
   "outputs": [],
   "source": [
    "import numpy as np\n",
    "import matplotlib.pyplot as plt"
   ]
  },
  {
   "cell_type": "code",
   "execution_count": 2,
   "metadata": {
    "collapsed": true
   },
   "outputs": [],
   "source": [
    "import tensorflow as tf\n",
    "from tensorflow.examples.tutorials import mnist"
   ]
  },
  {
   "cell_type": "markdown",
   "metadata": {},
   "source": [
    "## Load Datasets"
   ]
  },
  {
   "cell_type": "code",
   "execution_count": 3,
   "metadata": {
    "collapsed": true
   },
   "outputs": [],
   "source": [
    "mnist_data = mnist.input_data.read_data_sets('./datasets/mnist/', one_hot=True, seed=90)"
   ]
  },
  {
   "cell_type": "code",
   "execution_count": 4,
   "metadata": {
    "collapsed": true
   },
   "outputs": [],
   "source": [
    "X_train, X_test, y_train, y_test = mnist_data.train.images, mnist_data.test.images, mnist_data.train.labels, mnist_data.test.labels"
   ]
  },
  {
   "cell_type": "markdown",
   "metadata": {},
   "source": [
    "## Create Interactive Session"
   ]
  },
  {
   "cell_type": "code",
   "execution_count": 5,
   "metadata": {
    "collapsed": true
   },
   "outputs": [],
   "source": [
    "sess = tf.InteractiveSession()"
   ]
  },
  {
   "cell_type": "markdown",
   "metadata": {},
   "source": [
    "## Set Configs"
   ]
  },
  {
   "cell_type": "code",
   "execution_count": 6,
   "metadata": {
    "collapsed": true
   },
   "outputs": [],
   "source": [
    "num_visible = 784 # 28x28 data input\n",
    "num_hidden = 50"
   ]
  },
  {
   "cell_type": "markdown",
   "metadata": {},
   "source": [
    "## Define Weights"
   ]
  },
  {
   "cell_type": "code",
   "execution_count": 7,
   "metadata": {
    "collapsed": true
   },
   "outputs": [],
   "source": [
    "weights = tf.placeholder(tf.float32, [num_visible, num_hidden])"
   ]
  },
  {
   "cell_type": "code",
   "execution_count": 8,
   "metadata": {
    "collapsed": true
   },
   "outputs": [],
   "source": [
    "visible_bias = tf.placeholder(tf.float32, [num_visible])\n",
    "hidden_bias = tf.placeholder(tf.float32, [num_hidden])"
   ]
  },
  {
   "cell_type": "markdown",
   "metadata": {},
   "source": [
    "## Define Visible Layer"
   ]
  },
  {
   "cell_type": "code",
   "execution_count": 9,
   "metadata": {
    "collapsed": true
   },
   "outputs": [],
   "source": [
    "visible0_state = tf.placeholder(tf.float32, [None, num_visible])"
   ]
  },
  {
   "cell_type": "markdown",
   "metadata": {},
   "source": [
    "## Define Hidden Layer"
   ]
  },
  {
   "cell_type": "code",
   "execution_count": 10,
   "metadata": {
    "collapsed": true
   },
   "outputs": [],
   "source": [
    "hidden0_prob = tf.nn.sigmoid(tf.matmul(visible0_state, weights) + hidden_bias)"
   ]
  },
  {
   "cell_type": "code",
   "execution_count": 11,
   "metadata": {
    "collapsed": true
   },
   "outputs": [],
   "source": [
    "hidden0_state = tf.nn.relu(tf.sign(hidden0_prob - tf.random_uniform(tf.shape(hidden0_prob))))"
   ]
  },
  {
   "cell_type": "markdown",
   "metadata": {},
   "source": [
    "## Define Reconstruction Part"
   ]
  },
  {
   "cell_type": "code",
   "execution_count": 12,
   "metadata": {
    "collapsed": true
   },
   "outputs": [],
   "source": [
    "visible1_prob = tf.nn.sigmoid(tf.matmul(hidden0_state, tf.transpose(weights)) + visible_bias)"
   ]
  },
  {
   "cell_type": "code",
   "execution_count": 13,
   "metadata": {
    "collapsed": true
   },
   "outputs": [],
   "source": [
    "visible1_state = tf.nn.relu(tf.sign(visible1_prob - tf.random_uniform(tf.shape(visible1_prob))))"
   ]
  },
  {
   "cell_type": "markdown",
   "metadata": {},
   "source": [
    "## Define Hidden Layer"
   ]
  },
  {
   "cell_type": "code",
   "execution_count": 14,
   "metadata": {
    "collapsed": true
   },
   "outputs": [],
   "source": [
    "hidden1_prob = tf.nn.sigmoid(tf.matmul(visible1_state, weights) + hidden_bias)"
   ]
  },
  {
   "cell_type": "code",
   "execution_count": 15,
   "metadata": {
    "collapsed": true
   },
   "outputs": [],
   "source": [
    "hidden1_state = tf.nn.relu(tf.sign(hidden1_prob - tf.random_uniform(tf.shape(hidden1_prob))))"
   ]
  },
  {
   "cell_type": "markdown",
   "metadata": {},
   "source": [
    "## Set Loss Function"
   ]
  },
  {
   "cell_type": "code",
   "execution_count": 16,
   "metadata": {
    "collapsed": true
   },
   "outputs": [],
   "source": [
    "loss_op = tf.reduce_mean(tf.square(visible0_state - visible1_state))"
   ]
  },
  {
   "cell_type": "markdown",
   "metadata": {},
   "source": [
    "## Train The Graph"
   ]
  },
  {
   "cell_type": "code",
   "execution_count": 17,
   "metadata": {
    "collapsed": true
   },
   "outputs": [],
   "source": [
    "alpha = 0.01 # learning rate"
   ]
  },
  {
   "cell_type": "code",
   "execution_count": 18,
   "metadata": {
    "collapsed": true
   },
   "outputs": [],
   "source": [
    "# Gibbs Sampling & Contrastive Divergence to train the model\n",
    "weight_delta = tf.matmul(tf.transpose(visible0_state), hidden0_prob) - tf.matmul(tf.transpose(visible1_state), hidden1_prob)\n",
    "update_weights = weights + alpha * weight_delta\n",
    "update_visible_bias = visible_bias + alpha * tf.reduce_mean(visible0_state - visible1_state, 0)\n",
    "update_hidden_bias = hidden_bias + alpha * tf.reduce_mean(hidden0_state - hidden1_state, 0)"
   ]
  },
  {
   "cell_type": "code",
   "execution_count": 19,
   "metadata": {
    "collapsed": true
   },
   "outputs": [],
   "source": [
    "current_weights = np.zeros([num_visible, num_hidden], np.float32)\n",
    "current_visible_bias = np.zeros([num_visible], np.float32)\n",
    "current_hidden_bias = np.zeros([num_hidden], np.float32)"
   ]
  },
  {
   "cell_type": "code",
   "execution_count": 20,
   "metadata": {
    "collapsed": true
   },
   "outputs": [],
   "source": [
    "previous_weights = np.zeros([num_visible, num_hidden], np.float32)\n",
    "previous_visible_bias = np.zeros([num_visible], np.float32)\n",
    "previous_hidden_bias = np.zeros([num_hidden], np.float32)"
   ]
  },
  {
   "cell_type": "code",
   "execution_count": 21,
   "metadata": {},
   "outputs": [
    {
     "name": "stdout",
     "output_type": "stream",
     "text": [
      "Epoch: 1, Reconstruction Loss: 0.08646349608898163\n",
      "Epoch: 2, Reconstruction Loss: 0.08399683237075806\n",
      "Epoch: 3, Reconstruction Loss: 0.08281568437814713\n",
      "Epoch: 4, Reconstruction Loss: 0.08155839890241623\n",
      "Epoch: 5, Reconstruction Loss: 0.08489246666431427\n"
     ]
    },
    {
     "data": {
      "image/png": "[encoded data removed]",
      "text/plain": [
       "<matplotlib.figure.Figure at 0x12dae5f28>"
      ]
     },
     "metadata": {},
     "output_type": "display_data"
    }
   ],
   "source": [
    "with tf.Session() as sess:\n",
    "\n",
    "    init_op = tf.global_variables_initializer()\n",
    "    \n",
    "    sess.run(init_op) # run the init_op using an interactive session\n",
    "    \n",
    "    num_epochs = 5\n",
    "    batch_size = 100\n",
    "    total_weights = []\n",
    "    losses = []\n",
    "    \n",
    "    for i_epoch in range(1, num_epochs+1):\n",
    "        \n",
    "        for start, end in zip(range(0, len(X_train), batch_size), range(batch_size, len(X_train), batch_size)):\n",
    "            \n",
    "            train_batch = X_train[start:end]\n",
    "            feed_dict = {visible0_state: train_batch, weights: previous_weights, visible_bias: previous_visible_bias, hidden_bias: previous_hidden_bias}\n",
    "            \n",
    "            current_weights = sess.run(update_weights, feed_dict=feed_dict)\n",
    "            current_visible_bias = sess.run(update_visible_bias, feed_dict=feed_dict)\n",
    "            current_hidden_bias = sess.run(update_hidden_bias, feed_dict=feed_dict)\n",
    "            \n",
    "            previous_weights = current_weights\n",
    "            previous_visible_bias = current_visible_bias\n",
    "            previous_hidden_bias = current_hidden_bias\n",
    "            \n",
    "            if start % 10000 == 0:\n",
    "                losses.append(sess.run(loss_op, feed_dict=feed_dict))\n",
    "                total_weights.append(current_weights)\n",
    "        print(f'Epoch: {i_epoch}, Reconstruction Loss: {losses[-1]}')\n",
    "    \n",
    "    plt.plot(losses)\n",
    "    plt.xlabel('Batch Number')\n",
    "    plt.ylabel('Reconstruction Loss')\n",
    "    plt.show()"
   ]
  },
  {
   "cell_type": "markdown",
   "metadata": {},
   "source": [
    "---"
   ]
  }
 ],
 "metadata": {
  "kernelspec": {
   "display_name": "Python 3",
   "language": "python",
   "name": "python3"
  },
  "language_info": {
   "codemirror_mode": {
    "name": "ipython",
    "version": 3
   },
   "file_extension": ".py",
   "mimetype": "text/x-python",
   "name": "python",
   "nbconvert_exporter": "python",
   "pygments_lexer": "ipython3",
   "version": "3.6.7"
  }
 },
 "nbformat": 4,
 "nbformat_minor": 2
}
