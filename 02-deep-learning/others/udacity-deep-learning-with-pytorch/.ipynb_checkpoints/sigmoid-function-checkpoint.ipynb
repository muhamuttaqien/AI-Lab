{
 "cells": [
  {
   "cell_type": "code",
   "execution_count": 1,
   "metadata": {
    "collapsed": true
   },
   "outputs": [],
   "source": [
    "import numpy as np"
   ]
  },
  {
   "cell_type": "code",
   "execution_count": 2,
   "metadata": {
    "collapsed": true
   },
   "outputs": [],
   "source": [
    "def sigmoid(x, derivative=False):\n",
    "    sigm = 1. / (1. + np.exp(-x))\n",
    "    if derivative:\n",
    "        return sigm * (1. - sigm)\n",
    "    return sigm"
   ]
  },
  {
   "cell_type": "code",
   "execution_count": 16,
   "metadata": {},
   "outputs": [
    {
     "name": "stdout",
     "output_type": "stream",
     "text": [
      "Linear outputs 0 then probs: 0.5\n",
      "Linear outputs 1 then probs: 0.7310585786300049\n",
      "Linear outputs 2 then probs: 0.8807970779778823\n",
      "Linear outputs -1 then probs: 0.2689414213699951\n",
      "Linear outputs -2 then probs: 0.11920292202211755\n"
     ]
    }
   ],
   "source": [
    "# it will output probability\n",
    "print('Linear outputs 0 then probs:', sigmoid(0))\n",
    "print('Linear outputs 1 then probs:', sigmoid(1))\n",
    "print('Linear outputs 2 then probs:', sigmoid(2))\n",
    "print('Linear outputs -1 then probs:', sigmoid(-1))\n",
    "print('Linear outputs -2 then probs:', sigmoid(-2))"
   ]
  },
  {
   "cell_type": "markdown",
   "metadata": {},
   "source": [
    "<hr/>"
   ]
  }
 ],
 "metadata": {
  "kernelspec": {
   "display_name": "Python 3",
   "language": "python",
   "name": "python3"
  },
  "language_info": {
   "codemirror_mode": {
    "name": "ipython",
    "version": 3
   },
   "file_extension": ".py",
   "mimetype": "text/x-python",
   "name": "python",
   "nbconvert_exporter": "python",
   "pygments_lexer": "ipython3",
   "version": "3.6.3"
  }
 },
 "nbformat": 4,
 "nbformat_minor": 2
}
