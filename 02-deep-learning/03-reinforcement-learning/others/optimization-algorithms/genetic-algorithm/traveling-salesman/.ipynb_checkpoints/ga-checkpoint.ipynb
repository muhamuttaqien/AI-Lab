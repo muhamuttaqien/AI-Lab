{
 "cells": [
  {
   "cell_type": "code",
   "execution_count": 1,
   "metadata": {
    "collapsed": true
   },
   "outputs": [],
   "source": [
    "import math\n",
    "import random\n",
    "\n",
    "import matplotlib.pyplot as plt"
   ]
  },
  {
   "cell_type": "markdown",
   "metadata": {},
   "source": [
    "## Setup City"
   ]
  },
  {
   "cell_type": "code",
   "execution_count": 2,
   "metadata": {
    "collapsed": true
   },
   "outputs": [],
   "source": [
    "class City():\n",
    "    \n",
    "    def __init__(self, x, y):\n",
    "        \n",
    "        self.x = x\n",
    "        self.y = y\n",
    "        \n",
    "    def get_distance(self, city):\n",
    "        \n",
    "        x_dist = abs(self.x - city.x)\n",
    "        y_dist = abs(self.y - city.y)\n",
    "        \n",
    "        distance = np.sqrt((x_dist ** 2) + (y_dist ** 2))\n",
    "        \n",
    "    def __repr__(self):\n",
    "        return '(' + str(self.x) + ',' + str(self.y) + ')'"
   ]
  },
  {
   "cell_type": "markdown",
   "metadata": {},
   "source": [
    "## Define GA"
   ]
  },
  {
   "cell_type": "code",
   "execution_count": null,
   "metadata": {
    "collapsed": true
   },
   "outputs": [],
   "source": [
    "class GeneticAlgorithm(object):\n",
    "    \"\"\"Generate GA for Traveling Salesman problem.\"\"\"\n",
    "    \n",
    "    def __init__(self):\n",
    "        \n",
    "        self.name = 'GA for Traveling Salesman problem.'\n",
    "        print('GA for Traveling Salesman problem successfully initialized.')\n",
    "        \n",
    "        self.distance = 0\n",
    "        self.fitness_score = 0.0\n",
    "    \n",
    "    def get_route_distance(self, route):\n",
    "        \n",
    "        if self.distance == 0:\n",
    "            \n",
    "            path_distance = 0\n",
    "            for i in range(0, len(route)):\n",
    "                \n",
    "                from_city = self.route[i]\n",
    "                to_city = None\n",
    "                \n",
    "                if i+1 < len(self.route):\n",
    "                    to_city = self.route[i + 1]\n",
    "                else:\n",
    "                    to_city = self.route[0]\n",
    "                    \n",
    "                path_distance += from_city.distance(to_city)\n",
    "            self.distance = path_distance\n",
    "            \n",
    "        return self.distance\n",
    "    \n",
    "    def get_route_fitness(self, route):\n",
    "        \n",
    "        if self.fitness_score == 0:\n",
    "            self.fitness_score = 1 / float(self.get_route_distance(route))\n",
    "            \n",
    "        return self.fitness_score"
   ]
  },
  {
   "cell_type": "markdown",
   "metadata": {},
   "source": [
    "---"
   ]
  }
 ],
 "metadata": {
  "kernelspec": {
   "display_name": "Python 3",
   "language": "python",
   "name": "python3"
  },
  "language_info": {
   "codemirror_mode": {
    "name": "ipython",
    "version": 3
   },
   "file_extension": ".py",
   "mimetype": "text/x-python",
   "name": "python",
   "nbconvert_exporter": "python",
   "pygments_lexer": "ipython3",
   "version": "3.6.7"
  }
 },
 "nbformat": 4,
 "nbformat_minor": 2
}
