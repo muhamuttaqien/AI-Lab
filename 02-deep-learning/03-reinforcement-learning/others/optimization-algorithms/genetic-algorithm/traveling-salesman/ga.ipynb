{
 "cells": [
  {
   "cell_type": "code",
   "execution_count": 1,
   "metadata": {
    "collapsed": true
   },
   "outputs": [],
   "source": [
    "import math\n",
    "import random\n",
    "import operator\n",
    "\n",
    "import numpy as np\n",
    "import pandas as pd\n",
    "\n",
    "import seaborn as sns\n",
    "import matplotlib.pyplot as plt"
   ]
  },
  {
   "cell_type": "code",
   "execution_count": 2,
   "metadata": {
    "collapsed": true
   },
   "outputs": [],
   "source": [
    "import networkx as nx # for graph"
   ]
  },
  {
   "cell_type": "code",
   "execution_count": 3,
   "metadata": {
    "collapsed": true
   },
   "outputs": [],
   "source": [
    "plt.style.use('seaborn')"
   ]
  },
  {
   "cell_type": "markdown",
   "metadata": {},
   "source": [
    "## Setup City"
   ]
  },
  {
   "cell_type": "code",
   "execution_count": 4,
   "metadata": {
    "collapsed": true
   },
   "outputs": [],
   "source": [
    "class City(object):\n",
    "    \"\"\"Defince City distance.\"\"\"\n",
    "    \n",
    "    def __init__(self, x, y):\n",
    "        \n",
    "        self.x = x\n",
    "        self.y = y\n",
    "        \n",
    "    def get_distance(self, city):\n",
    "        \n",
    "        x_dist = abs(self.x - city.x)\n",
    "        y_dist = abs(self.y - city.y)\n",
    "        \n",
    "        distance = np.sqrt((x_dist ** 2) + (y_dist ** 2))\n",
    "        \n",
    "        return distance\n",
    "        \n",
    "    def __repr__(self):\n",
    "        return '(' + str(self.x) + ',' + str(self.y) + ')'"
   ]
  },
  {
   "cell_type": "code",
   "execution_count": 5,
   "metadata": {
    "collapsed": true
   },
   "outputs": [],
   "source": [
    "city_list = []\n",
    "\n",
    "for i in range(0, 25):\n",
    "    city_list.append(City(x=int(random.random()*200), y=int(random.random()*200)))"
   ]
  },
  {
   "cell_type": "markdown",
   "metadata": {},
   "source": [
    "## Define GA"
   ]
  },
  {
   "cell_type": "code",
   "execution_count": 6,
   "metadata": {},
   "outputs": [],
   "source": [
    "class GeneticAlgorithm(object):\n",
    "    \"\"\"Generate GA for Traveling Salesman problem.\"\"\"\n",
    "    \n",
    "    def __init__(self, num_generations):\n",
    "        \n",
    "        self.name = 'GA for Traveling Salesman problem.'\n",
    "        print('GA for Traveling Salesman problem successfully initialized.')\n",
    "        \n",
    "        self.distance = 0\n",
    "        self.fitness_score = 0.0\n",
    "        \n",
    "        self.route = []\n",
    "        self.num_generations = num_generations\n",
    "    \n",
    "    def generate_population(self, city_list, population_size):\n",
    "        \n",
    "        population = []\n",
    "        \n",
    "        for i in range(0, population_size):\n",
    "            population.append(random.sample(city_list, len(city_list)))\n",
    "            \n",
    "        return population\n",
    "    \n",
    "    def get_route_distance(self, route):\n",
    "        \n",
    "        if self.distance == 0:\n",
    "            \n",
    "            path_distance = 0\n",
    "            for i in range(0, len(self.route)):\n",
    "                \n",
    "                from_city = self.route[i]\n",
    "                to_city = None\n",
    "                \n",
    "                if i+1 < len(self.route):\n",
    "                    to_city = self.route[i + 1]\n",
    "                else:\n",
    "                    to_city = self.route[0]\n",
    "                    \n",
    "                path_distance += from_city.get_distance(to_city)\n",
    "            self.distance = path_distance\n",
    "            \n",
    "        return self.distance\n",
    "    \n",
    "    def get_route_fitness(self, route):\n",
    "        \n",
    "        self.distance = 0\n",
    "        self.fitness_score = 0.0\n",
    "\n",
    "        self.route = route\n",
    "        \n",
    "        if self.fitness_score == 0:\n",
    "            self.fitness_score = 1 / float(self.get_route_distance(self.route))\n",
    "            \n",
    "        return self.fitness_score\n",
    "    \n",
    "    def get_rank_routes(self, population):\n",
    "        \n",
    "        fitness_results = {}\n",
    "        \n",
    "        for i in range(0, len(population)):\n",
    "            fitness_results[i] = self.get_route_fitness(population[i])\n",
    "            \n",
    "        rank_routes = sorted(fitness_results.items(), key=operator.itemgetter(1), reverse=True)\n",
    "        return rank_routes\n",
    "    \n",
    "    def select_parents(self, population_ranked, elite_size):\n",
    "        \n",
    "        selection_results = []\n",
    "        df_fitness = pd.DataFrame(np.array(population_ranked), columns=['Index', 'Fitness'])\n",
    "        df_fitness['cum_sum'] = df_fitness['Fitness'].cumsum()\n",
    "        df_fitness['cum_perc'] = 100*df_fitness['cum_sum']/ df_fitness['Fitness'].sum()\n",
    "        \n",
    "        for i in range(0, elite_size):\n",
    "            selection_results.append(population_ranked[i][0])\n",
    "            \n",
    "        for i in range(0, len(population_ranked) - elite_size):\n",
    "            pick = 100*random.random()\n",
    "            for i in range(0, len(population_ranked)):\n",
    "                if pick <= df_fitness.iat[i, 3]:\n",
    "                    selection_results.append(population_ranked[i][0])\n",
    "                    break\n",
    "                    \n",
    "        return selection_results\n",
    "    \n",
    "    def crossover(self, mating_pool, elite_size):\n",
    "    \n",
    "        children = []\n",
    "        length = len(mating_pool) - elite_size\n",
    "        pool = random.sample(mating_pool, len(mating_pool))\n",
    "\n",
    "        for i in range(0, elite_size):\n",
    "            children.append(mating_pool[i])\n",
    "\n",
    "        for i in range(0, length):\n",
    "\n",
    "            parent1 = pool[i]\n",
    "            parent2 = pool[len(mating_pool)-i-1]\n",
    "\n",
    "            child = []\n",
    "            child_parent1 = []\n",
    "            child_parent2 = []\n",
    "\n",
    "            geneA = int(random.random() * len(parent1))\n",
    "            geneB = int(random.random() * len(parent1))\n",
    "\n",
    "            start_gene = min(geneA, geneB)\n",
    "            end_gene = max(geneA, geneB)\n",
    "\n",
    "            for i in range(start_gene, end_gene):\n",
    "                child_parent1.append(parent1[i])\n",
    "\n",
    "            child_parent2 = [item for item in parent2 if item not in child_parent1]\n",
    "\n",
    "            child = child_parent1 + child_parent2\n",
    "            children.append(child)\n",
    "\n",
    "        return children\n",
    "    \n",
    "    def mutate(self, population, mutation_rate):\n",
    "    \n",
    "        mutated_population = []\n",
    "\n",
    "        for index in range(0, len(population)):\n",
    "            \n",
    "            individual = population[index]\n",
    "            \n",
    "            for swapped in range(len(individual)):\n",
    "\n",
    "                if(random.random() < mutation_rate):\n",
    "\n",
    "                    swap_with = int(random.random() * len(individual))\n",
    "\n",
    "                    city1 = individual[swapped]\n",
    "                    city2 = individual[swap_with]\n",
    "\n",
    "                    individual[swapped] = city2\n",
    "                    individual[swap_with] = city1\n",
    "\n",
    "            mutated_index = individual\n",
    "            mutated_population.append(mutated_index)\n",
    "\n",
    "        return mutated_population\n",
    "    \n",
    "    def create_next_generation(self, population, elite_size, mutation_rate):\n",
    "        \n",
    "        population_ranked = self.get_rank_routes(population)\n",
    "        selection_results = self.select_parents(population_ranked, elite_size)\n",
    "        \n",
    "        mating_pool = []\n",
    "        for i in range(0, len(selection_results)):\n",
    "            index = selection_results[i]\n",
    "            mating_pool.append(population[index])\n",
    "        \n",
    "        children = self.crossover(mating_pool, elite_size)\n",
    "        next_generation = self.mutate(children, mutation_rate)\n",
    "        \n",
    "        return next_generation\n",
    "    \n",
    "    def reproduce(self, population, population_size, elite_size, mutation_rate):\n",
    "        \n",
    "        population = self.generate_population(population, population_size)\n",
    "        \n",
    "        print('Initial Distance: ' + str(1 / self.get_rank_routes(population)[0][1]))\n",
    "        \n",
    "        for i in range(0, self.num_generations):\n",
    "            population = self.create_next_generation(population, elite_size, mutation_rate)\n",
    "            \n",
    "        print('Final Distance: ' + str(1 / self.get_rank_routes(population)[0][1]))\n",
    "        best_route_index = self.get_rank_routes(population)[0][0]\n",
    "        best_route = population[best_route_index]\n",
    "        \n",
    "        return best_route"
   ]
  },
  {
   "cell_type": "code",
   "execution_count": 7,
   "metadata": {},
   "outputs": [
    {
     "name": "stdout",
     "output_type": "stream",
     "text": [
      "GA for Traveling Salesman problem successfully initialized.\n"
     ]
    }
   ],
   "source": [
    "GA = GeneticAlgorithm(num_generations=500)"
   ]
  },
  {
   "cell_type": "markdown",
   "metadata": {},
   "source": [
    "## Train GA"
   ]
  },
  {
   "cell_type": "code",
   "execution_count": 8,
   "metadata": {
    "scrolled": false
   },
   "outputs": [
    {
     "name": "stdout",
     "output_type": "stream",
     "text": [
      "Initial Distance: 1787.82516764722\n",
      "Final Distance: 889.8763918452561\n"
     ]
    }
   ],
   "source": [
    "best_route = GA.reproduce(population=city_list, population_size=100, elite_size=20, mutation_rate=0.01)"
   ]
  },
  {
   "cell_type": "markdown",
   "metadata": {},
   "source": [
    "## Evaluate GA"
   ]
  },
  {
   "cell_type": "code",
   "execution_count": 9,
   "metadata": {
    "collapsed": true
   },
   "outputs": [],
   "source": [
    "def plot_distance_fitness_progress(population, population_size, elite_size, mutation_rate):\n",
    "    \n",
    "    population = GA.generate_population(population, population_size)\n",
    "    \n",
    "    progress = []\n",
    "    progress.append(1 / GA.get_rank_routes(population)[0][1])\n",
    "    \n",
    "    for i in range(0, GA.num_generations):\n",
    "        population = GA.create_next_generation(population, elite_size, mutation_rate)\n",
    "        progress.append(1 / GA.get_rank_routes(population)[0][1])\n",
    "    \n",
    "    plt.plot(progress)\n",
    "    plt.ylabel('Distance')\n",
    "    plt.xlabel('Generation')\n",
    "    \n",
    "    plt.savefig('./images/plot_distance_fitness_progress.png')\n",
    "    \n",
    "    plt.show()"
   ]
  },
  {
   "cell_type": "code",
   "execution_count": 10,
   "metadata": {},
   "outputs": [
    {
     "data": {
      "image/png": "[encoded data removed]",
      "text/plain": [
       "<matplotlib.figure.Figure at 0x11ff4e588>"
      ]
     },
     "metadata": {},
     "output_type": "display_data"
    }
   ],
   "source": [
    "plot_distance_fitness_progress(population=city_list, population_size=100, elite_size=20, mutation_rate=0.01)"
   ]
  },
  {
   "cell_type": "markdown",
   "metadata": {},
   "source": [
    "---"
   ]
  }
 ],
 "metadata": {
  "kernelspec": {
   "display_name": "Python 3",
   "language": "python",
   "name": "python3"
  },
  "language_info": {
   "codemirror_mode": {
    "name": "ipython",
    "version": 3
   },
   "file_extension": ".py",
   "mimetype": "text/x-python",
   "name": "python",
   "nbconvert_exporter": "python",
   "pygments_lexer": "ipython3",
   "version": "3.6.7"
  }
 },
 "nbformat": 4,
 "nbformat_minor": 2
}
