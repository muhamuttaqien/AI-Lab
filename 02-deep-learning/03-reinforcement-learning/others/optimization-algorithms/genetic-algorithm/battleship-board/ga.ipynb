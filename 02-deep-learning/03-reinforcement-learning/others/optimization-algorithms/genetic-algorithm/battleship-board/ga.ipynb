{
 "cells": [
  {
   "cell_type": "code",
   "execution_count": 1,
   "metadata": {
    "collapsed": true
   },
   "outputs": [],
   "source": [
    "import math\n",
    "import random\n",
    "import numpy as np\n",
    "import pandas as pd\n",
    "\n",
    "import seaborn as sns\n",
    "import matplotlib.pyplot as plt\n",
    "from IPython.display import clear_output"
   ]
  },
  {
   "cell_type": "code",
   "execution_count": 2,
   "metadata": {
    "collapsed": true
   },
   "outputs": [],
   "source": [
    "from board import Battleship"
   ]
  },
  {
   "cell_type": "code",
   "execution_count": 3,
   "metadata": {
    "collapsed": true
   },
   "outputs": [],
   "source": [
    "from utils import display_heatmap, plot_population_stats"
   ]
  },
  {
   "cell_type": "markdown",
   "metadata": {},
   "source": [
    "## Setup The Target Board"
   ]
  },
  {
   "cell_type": "code",
   "execution_count": 4,
   "metadata": {},
   "outputs": [
    {
     "name": "stdout",
     "output_type": "stream",
     "text": [
      "Correct number of pieces on board.\n"
     ]
    }
   ],
   "source": [
    "battleship_board, battleship_solution = Battleship().create_board()"
   ]
  },
  {
   "cell_type": "code",
   "execution_count": 5,
   "metadata": {},
   "outputs": [
    {
     "data": {
      "image/png": "[encoded data removed]",
      "text/plain": [
       "<matplotlib.figure.Figure at 0x114c3fa58>"
      ]
     },
     "metadata": {},
     "output_type": "display_data"
    }
   ],
   "source": [
    "display_heatmap(data=battleship_board)"
   ]
  },
  {
   "cell_type": "markdown",
   "metadata": {},
   "source": [
    "## Create a Random Guess"
   ]
  },
  {
   "cell_type": "code",
   "execution_count": 6,
   "metadata": {},
   "outputs": [
    {
     "data": {
      "image/png": "[encoded data removed]",
      "text/plain": [
       "<matplotlib.figure.Figure at 0x114d873c8>"
      ]
     },
     "metadata": {},
     "output_type": "display_data"
    }
   ],
   "source": [
    "random_solution = np.random.randint(2, size=100).reshape((10, 10))\n",
    "\n",
    "display_heatmap(data=random_solution)"
   ]
  },
  {
   "cell_type": "markdown",
   "metadata": {},
   "source": [
    "## Define GA"
   ]
  },
  {
   "cell_type": "code",
   "execution_count": 7,
   "metadata": {
    "collapsed": true
   },
   "outputs": [],
   "source": [
    "class GeneticAlgorithm(object):\n",
    "    \"\"\"Generate GA for Battleship problem.\"\"\"\n",
    "    \n",
    "    def __init__(self, num_generations=100):\n",
    "        \n",
    "        self.name = 'GA for Battleship board.'\n",
    "        print('GA for Battleship board successfully initialized.')\n",
    "    \n",
    "    def generate_population(self, num_individuals, genes):\n",
    "        \n",
    "        # create dataframe for gene pool\n",
    "        df_population = pd.DataFrame(columns=['Sequence', 'Chromosome', 'Generation', 'Birth', 'Fitness', 'Parents'])\n",
    "        \n",
    "        i = 0\n",
    "        while i < num_individuals:\n",
    "            \n",
    "            individual = {\n",
    "                'Sequence': i+1,\n",
    "                'Chromosome': ''.join(str(x) for x in list(np.random.randint(2, size=genes))),\n",
    "                'Generation': 1,\n",
    "                'Birth': 'Random',\n",
    "                'Parents': 0\n",
    "            }\n",
    "            \n",
    "            # check for uniqueness and add to gene pool\n",
    "            if individual['Chromosome'] not in df_population['Chromosome']:\n",
    "                df_population = df_population.append(individual, ignore_index=True)\n",
    "                i += 1\n",
    "                \n",
    "        # return the initial population\n",
    "        return df_population\n",
    "\n",
    "    def evaluate_fitness(self, actual_solution, candidate_solution):\n",
    "        \n",
    "        # define fitness function specific to the problem\n",
    "        num_gene_matches = 0\n",
    "        \n",
    "        for i in range(len(actual_solution)):\n",
    "            if actual_solution[i] == candidate_solution[i]:\n",
    "                num_gene_matches += 1\n",
    "                \n",
    "        return num_gene_matches / len(actual_solution)\n",
    "    \n",
    "    \n",
    "    def assign_elites(self, next_generation, elite_rate):\n",
    "        \n",
    "        # determine number of elites\n",
    "        num_individuals = next_generation.shape[0]\n",
    "        elites = elite_rate * num_individuals\n",
    "        \n",
    "        # assign elite status to most fit chromosomes\n",
    "        next_generation['Elite'] = False\n",
    "        next_generation = next_generation.sort_values(by='Fitness', ascending=False)\n",
    "        next_generation.iloc[0: int(elites), 6:7] = True\n",
    "        \n",
    "        # return the generation\n",
    "        return next_generation\n",
    "    \n",
    "    def select_elites(self, next_generation):\n",
    "        \n",
    "        # copy elites from old generation\n",
    "        elites = next_generation.loc[next_generation['Elite'] == True].copy()\n",
    "        \n",
    "        # update attributes of new generation\n",
    "        pool_size = next_generation['Sequence'].max()\n",
    "        elites['Parents'] = elites['Sequence']\n",
    "        elites['Sequence'] = range(pool_size + 1, pool_size + elites.shape[0] + 1)\n",
    "        elites.loc[:, 'Birth'] = 'Elitism'\n",
    "        elites['Elite'] = False\n",
    "        elites['Generation'] = next_generation['Generation'].max() + 1\n",
    "        \n",
    "        return elites\n",
    "    \n",
    "    def fill_random(self, next_generation, num_individuals, genes):\n",
    "        \n",
    "        # get generation attributes\n",
    "        last_generation = next_generation['Generation'].max()\n",
    "        last_sequence = next_generation['Sequence'].max()\n",
    "        \n",
    "        # for each random chromosome\n",
    "        i = next_generation.shape[0]\n",
    "        \n",
    "        while i < num_individuals:\n",
    "            \n",
    "            # create random chromosome\n",
    "            individual = {\n",
    "                'Sequence': last_sequence + i + 1,\n",
    "                'Chromosome': ''.join(str(x) for x in list(np.random.randint(2, size=genes))),\n",
    "                'Generation': last_generation,\n",
    "                'Birth': 'Random',\n",
    "                'Parents': 0,\n",
    "                'Elite': False\n",
    "            }\n",
    "            \n",
    "            # check for uniqueness and add to gene pool\n",
    "            if individual['Chromosome'] not in next_generation['Chromosome']:\n",
    "                next_generation = next_generation.append(individual, ignore_index=True)\n",
    "                i += 1\n",
    "\n",
    "        # return the generation\n",
    "        return next_generation\n",
    "    \n",
    "    def crossover(self, next_generation, num_crossover):\n",
    "        \n",
    "        # get generation attributes\n",
    "        last_generation = next_generation['Generation'].max()\n",
    "        last_sequence = next_generation['Sequence'].max()\n",
    "        num_elites = next_generation['Birth'].value_counts()['Elitism']\n",
    "        \n",
    "        i = 0\n",
    "        while i < num_crossover:\n",
    "            \n",
    "            # create crossover chromosome\n",
    "            individual = {\n",
    "                'Generation': last_generation,\n",
    "                'Birth': 'Crossover',\n",
    "                'Elite': False\n",
    "            }\n",
    "            \n",
    "            # select random crossover as new parents\n",
    "            parent_indices = np.random.choice(num_elites, 2, replace=False)\n",
    "            individual['Parents'] = np.array(next_generation['Sequence'].values)[parent_indices]\n",
    "            parents = np.array(next_generation['Chromosome'].values)[parent_indices]\n",
    "            \n",
    "            # setup random crossover\n",
    "            crossover_bit = np.random.randint(len(parents[0]))\n",
    "            \n",
    "            # create crossover children from parent and crossover bits\n",
    "            crossover = []\n",
    "            crossover.append(parents[0][0:crossover_bit] + parents[1][crossover_bit:len(parents[1])])\n",
    "            crossover.append(parents[1][0:crossover_bit] + parents[0][crossover_bit:len(parents[0])])\n",
    "            \n",
    "            # add crossover to population\n",
    "            individual['Chromosome'] = crossover[0]\n",
    "            individual['Sequence'] = last_sequence + i + 1\n",
    "            next_generation = next_generation.append(individual, ignore_index=True)\n",
    "            \n",
    "            individual['Chromosome'] = crossover[1]\n",
    "            individual['Sequence'] = last_sequence + i + 2\n",
    "            next_generation = next_generation.append(individual, ignore_index=True)\n",
    "\n",
    "            i += 1\n",
    "\n",
    "        # return the generation\n",
    "        return next_generation\n",
    "\n",
    "    def mutate(self, next_generation, num_mutants, bit_flip_rate):\n",
    "\n",
    "        # get generation attributes\n",
    "        last_generation = next_generation['Generation'].max()\n",
    "        last_sequence = next_generation['Sequence'].max()\n",
    "        num_elites = next_generation['Birth'].value_counts()['Elitism']\n",
    "        \n",
    "        i = 0\n",
    "        while i < num_mutants:\n",
    "            \n",
    "            # create mutant chromosome\n",
    "            individual = {\n",
    "                'Sequence': last_sequence + i + 1,\n",
    "                'Generation': last_sequence,\n",
    "                'Birth': 'Mutation',\n",
    "                'Elite': False\n",
    "            }\n",
    "\n",
    "            # select random elite as new parent\n",
    "            parent_index = np.random.choice(num_elites)\n",
    "            individual['Parents'] = list(next_generation['Sequence'].values)[parent_index]\n",
    "            parent = list(next_generation['Chromosome'].values)[parent_index]\n",
    "            \n",
    "            # setup flip mutation\n",
    "            bit_flip_array = np.random.choice(2, len(parent), p=[1 - bit_flip_rate, bit_flip_rate])\n",
    "            bits_to_flip = ''.join(str(x) for x in list(bit_flip_array.flatten()))\n",
    "\n",
    "            # create mutant child from parent and flip bits from array\n",
    "            mutant = ''\n",
    "            for j in range(len(bits_to_flip)):\n",
    "                if not int(bits_to_flip[j]):\n",
    "                    mutant += parent[j]\n",
    "                else:\n",
    "                    mutant += str(abs(int(parent[j]) - 1))\n",
    "                    \n",
    "            # check for uniqueness and add to population\n",
    "            individual['Chromosome'] = mutant\n",
    "            if individual['Chromosome'] not in next_generation['Chromosome']:\n",
    "                next_generation = next_generation.append(individual, ignore_index=True)\n",
    "                i += 1\n",
    "                \n",
    "        # return the generation\n",
    "        return next_generation\n",
    "\n",
    "    def create_next_generation(self, solution, population, elite_rate, stop_limit):\n",
    "            \n",
    "        next_generation = population.copy()\n",
    "        num_individuals = next_generation.shape[0]\n",
    "\n",
    "        # create generations until fitness criteria is achieved\n",
    "        while population['Fitness'].max() < stop_limit:\n",
    "            \n",
    "            # select elites with elite rate\n",
    "            next_generation = self.select_elites(next_generation)\n",
    "            \n",
    "            # add crossover pairs to generation\n",
    "            crossover_rate = elite_rate / 2\n",
    "            num_crossover = int(crossover_rate * num_individuals)\n",
    "            next_generation = self.crossover(next_generation, num_crossover)\n",
    "            \n",
    "            # add mutants to generation\n",
    "            mutant_rate = 0.60\n",
    "            bit_flip_rate = 0.01\n",
    "            num_mutants = int(mutant_rate * num_individuals)\n",
    "            next_generation = self.mutate(next_generation, num_mutants, bit_flip_rate)\n",
    "            \n",
    "            # fill the rest of the generaion with random chromosomes for diversity\n",
    "            next_generation = self.fill_random(next_generation, num_individuals, genes=100)\n",
    "            \n",
    "            # evaluate fitness\n",
    "            next_generation['Fitness'] = next_generation.apply(\n",
    "                lambda row: self.evaluate_fitness(row.Chromosome, solution), axis=1)\n",
    "            \n",
    "            # assign elite rate\n",
    "            elite_rate = 0.20\n",
    "            next_generation = self.assign_elites(next_generation, elite_rate)\n",
    "            \n",
    "            # add next generation to population\n",
    "            population = population.append(next_generation)\n",
    "            \n",
    "            # show the best generation\n",
    "            collective_gene = []\n",
    "            for gene in population[-1:]['Chromosome'].item():\n",
    "                collective_gene.append(int(gene))\n",
    "\n",
    "            candidate_solution = np.array(collective_gene).reshape(10, 10)\n",
    "            \n",
    "            clear_output(wait=True)\n",
    "            display_heatmap(data=candidate_solution, fitness=population[-1:]['Fitness'].item())\n",
    "\n",
    "        # return the new population\n",
    "        return population\n",
    "    \n",
    "    def reproduce(self, solution, num_individuals, genes):\n",
    "        \n",
    "        print('Start reproducing the next generation...')\n",
    "        \n",
    "        # initialize the first random population\n",
    "        population = self.generate_population(num_individuals, genes)\n",
    "        \n",
    "        # evaluate the fitness\n",
    "        population['Fitness'] = population.apply(\n",
    "                lambda row: self.evaluate_fitness(row.Chromosome, solution), axis=1)\n",
    "        \n",
    "        # assign elite rate\n",
    "        elite_rate = 0.20\n",
    "        population = self.assign_elites(population, elite_rate)\n",
    "        \n",
    "        # create successive generations until termination criteria is met\n",
    "        population = self.create_next_generation(solution, population, elite_rate, stop_limit=1.0)\n",
    "        population.set_index('Sequence')\n",
    "        \n",
    "        return population"
   ]
  },
  {
   "cell_type": "code",
   "execution_count": 8,
   "metadata": {},
   "outputs": [
    {
     "name": "stdout",
     "output_type": "stream",
     "text": [
      "GA for Battleship board successfully initialized.\n"
     ]
    }
   ],
   "source": [
    "GA = GeneticAlgorithm()"
   ]
  },
  {
   "cell_type": "markdown",
   "metadata": {},
   "source": [
    "## Train GA"
   ]
  },
  {
   "cell_type": "code",
   "execution_count": 9,
   "metadata": {},
   "outputs": [
    {
     "data": {
      "image/png": "[encoded data removed]",
      "text/plain": [
       "<matplotlib.figure.Figure at 0x118194d30>"
      ]
     },
     "metadata": {},
     "output_type": "display_data"
    }
   ],
   "source": [
    "collective_population = GA.reproduce(solution=battleship_solution, num_individuals=10, genes=100)"
   ]
  },
  {
   "cell_type": "markdown",
   "metadata": {},
   "source": [
    "## Evaluate GA"
   ]
  },
  {
   "cell_type": "markdown",
   "metadata": {},
   "source": [
    "#### 1) Board Solution"
   ]
  },
  {
   "cell_type": "code",
   "execution_count": 10,
   "metadata": {
    "collapsed": true
   },
   "outputs": [],
   "source": [
    "# show the best generation\n",
    "collective_gene = []\n",
    "for gene in collective_population[collective_population['Fitness'] == 1.0]['Chromosome'].item():\n",
    "    collective_gene.append(int(gene))\n",
    "    \n",
    "ga_solution = np.array(collective_gene).reshape(10, 10)"
   ]
  },
  {
   "cell_type": "code",
   "execution_count": 11,
   "metadata": {},
   "outputs": [
    {
     "data": {
      "image/png": "[encoded data removed]",
      "text/plain": [
       "<matplotlib.figure.Figure at 0x117f84a90>"
      ]
     },
     "metadata": {},
     "output_type": "display_data"
    }
   ],
   "source": [
    "display_heatmap(data=ga_solution, fitness=collective_population[collective_population['Fitness'] == 1.0]['Fitness'].item(), cmap='coolwarm')"
   ]
  },
  {
   "cell_type": "markdown",
   "metadata": {},
   "source": [
    "#### 2) Solution Statistics"
   ]
  },
  {
   "cell_type": "code",
   "execution_count": 12,
   "metadata": {},
   "outputs": [
    {
     "data": {
      "text/html": [
       "<div>\n",
       "<style>\n",
       "    .dataframe thead tr:only-child th {\n",
       "        text-align: right;\n",
       "    }\n",
       "\n",
       "    .dataframe thead th {\n",
       "        text-align: left;\n",
       "    }\n",
       "\n",
       "    .dataframe tbody tr th {\n",
       "        vertical-align: top;\n",
       "    }\n",
       "</style>\n",
       "<table border=\"1\" class=\"dataframe\">\n",
       "  <thead>\n",
       "    <tr>\n",
       "      <th></th>\n",
       "      <th colspan=\"8\" halign=\"left\">Fitness</th>\n",
       "    </tr>\n",
       "    <tr>\n",
       "      <th></th>\n",
       "      <th>count</th>\n",
       "      <th>mean</th>\n",
       "      <th>std</th>\n",
       "      <th>min</th>\n",
       "      <th>25%</th>\n",
       "      <th>50%</th>\n",
       "      <th>75%</th>\n",
       "      <th>max</th>\n",
       "    </tr>\n",
       "    <tr>\n",
       "      <th>Generation</th>\n",
       "      <th></th>\n",
       "      <th></th>\n",
       "      <th></th>\n",
       "      <th></th>\n",
       "      <th></th>\n",
       "      <th></th>\n",
       "      <th></th>\n",
       "      <th></th>\n",
       "    </tr>\n",
       "  </thead>\n",
       "  <tbody>\n",
       "    <tr>\n",
       "      <th>1</th>\n",
       "      <td>10.0</td>\n",
       "      <td>0.494000</td>\n",
       "      <td>0.026750</td>\n",
       "      <td>0.46</td>\n",
       "      <td>0.4800</td>\n",
       "      <td>0.485</td>\n",
       "      <td>0.5125</td>\n",
       "      <td>0.54</td>\n",
       "    </tr>\n",
       "    <tr>\n",
       "      <th>2</th>\n",
       "      <td>4.0</td>\n",
       "      <td>0.535000</td>\n",
       "      <td>0.005774</td>\n",
       "      <td>0.53</td>\n",
       "      <td>0.5300</td>\n",
       "      <td>0.535</td>\n",
       "      <td>0.5400</td>\n",
       "      <td>0.54</td>\n",
       "    </tr>\n",
       "    <tr>\n",
       "      <th>14</th>\n",
       "      <td>6.0</td>\n",
       "      <td>0.531667</td>\n",
       "      <td>0.007528</td>\n",
       "      <td>0.52</td>\n",
       "      <td>0.5300</td>\n",
       "      <td>0.530</td>\n",
       "      <td>0.5375</td>\n",
       "      <td>0.54</td>\n",
       "    </tr>\n",
       "    <tr>\n",
       "      <th>15</th>\n",
       "      <td>4.0</td>\n",
       "      <td>0.540000</td>\n",
       "      <td>0.000000</td>\n",
       "      <td>0.54</td>\n",
       "      <td>0.5400</td>\n",
       "      <td>0.540</td>\n",
       "      <td>0.5400</td>\n",
       "      <td>0.54</td>\n",
       "    </tr>\n",
       "    <tr>\n",
       "      <th>24</th>\n",
       "      <td>6.0</td>\n",
       "      <td>0.541667</td>\n",
       "      <td>0.009832</td>\n",
       "      <td>0.53</td>\n",
       "      <td>0.5400</td>\n",
       "      <td>0.540</td>\n",
       "      <td>0.5400</td>\n",
       "      <td>0.56</td>\n",
       "    </tr>\n",
       "    <tr>\n",
       "      <th>25</th>\n",
       "      <td>4.0</td>\n",
       "      <td>0.550000</td>\n",
       "      <td>0.011547</td>\n",
       "      <td>0.54</td>\n",
       "      <td>0.5400</td>\n",
       "      <td>0.550</td>\n",
       "      <td>0.5600</td>\n",
       "      <td>0.56</td>\n",
       "    </tr>\n",
       "    <tr>\n",
       "      <th>34</th>\n",
       "      <td>6.0</td>\n",
       "      <td>0.546667</td>\n",
       "      <td>0.015055</td>\n",
       "      <td>0.53</td>\n",
       "      <td>0.5325</td>\n",
       "      <td>0.550</td>\n",
       "      <td>0.5600</td>\n",
       "      <td>0.56</td>\n",
       "    </tr>\n",
       "    <tr>\n",
       "      <th>35</th>\n",
       "      <td>4.0</td>\n",
       "      <td>0.560000</td>\n",
       "      <td>0.000000</td>\n",
       "      <td>0.56</td>\n",
       "      <td>0.5600</td>\n",
       "      <td>0.560</td>\n",
       "      <td>0.5600</td>\n",
       "      <td>0.56</td>\n",
       "    </tr>\n",
       "    <tr>\n",
       "      <th>44</th>\n",
       "      <td>6.0</td>\n",
       "      <td>0.560000</td>\n",
       "      <td>0.006325</td>\n",
       "      <td>0.55</td>\n",
       "      <td>0.5600</td>\n",
       "      <td>0.560</td>\n",
       "      <td>0.5600</td>\n",
       "      <td>0.57</td>\n",
       "    </tr>\n",
       "    <tr>\n",
       "      <th>45</th>\n",
       "      <td>4.0</td>\n",
       "      <td>0.565000</td>\n",
       "      <td>0.005774</td>\n",
       "      <td>0.56</td>\n",
       "      <td>0.5600</td>\n",
       "      <td>0.565</td>\n",
       "      <td>0.5700</td>\n",
       "      <td>0.57</td>\n",
       "    </tr>\n",
       "  </tbody>\n",
       "</table>\n",
       "</div>"
      ],
      "text/plain": [
       "           Fitness                                                       \n",
       "             count      mean       std   min     25%    50%     75%   max\n",
       "Generation                                                               \n",
       "1             10.0  0.494000  0.026750  0.46  0.4800  0.485  0.5125  0.54\n",
       "2              4.0  0.535000  0.005774  0.53  0.5300  0.535  0.5400  0.54\n",
       "14             6.0  0.531667  0.007528  0.52  0.5300  0.530  0.5375  0.54\n",
       "15             4.0  0.540000  0.000000  0.54  0.5400  0.540  0.5400  0.54\n",
       "24             6.0  0.541667  0.009832  0.53  0.5400  0.540  0.5400  0.56\n",
       "25             4.0  0.550000  0.011547  0.54  0.5400  0.550  0.5600  0.56\n",
       "34             6.0  0.546667  0.015055  0.53  0.5325  0.550  0.5600  0.56\n",
       "35             4.0  0.560000  0.000000  0.56  0.5600  0.560  0.5600  0.56\n",
       "44             6.0  0.560000  0.006325  0.55  0.5600  0.560  0.5600  0.57\n",
       "45             4.0  0.565000  0.005774  0.56  0.5600  0.565  0.5700  0.57"
      ]
     },
     "execution_count": 12,
     "metadata": {},
     "output_type": "execute_result"
    }
   ],
   "source": [
    "collective_population_stats = collective_population.groupby('Generation').describe()\n",
    "collective_population_stats.head(10)"
   ]
  },
  {
   "cell_type": "code",
   "execution_count": 13,
   "metadata": {},
   "outputs": [
    {
     "data": {
      "image/png": "[encoded data removed]",
      "text/plain": [
       "<matplotlib.figure.Figure at 0x117f847b8>"
      ]
     },
     "metadata": {},
     "output_type": "display_data"
    }
   ],
   "source": [
    "# show the convergence of the best population\n",
    "plot_population_stats(collective_population)"
   ]
  },
  {
   "cell_type": "markdown",
   "metadata": {},
   "source": [
    "---"
   ]
  }
 ],
 "metadata": {
  "kernelspec": {
   "display_name": "Python 3",
   "language": "python",
   "name": "python3"
  },
  "language_info": {
   "codemirror_mode": {
    "name": "ipython",
    "version": 3
   },
   "file_extension": ".py",
   "mimetype": "text/x-python",
   "name": "python",
   "nbconvert_exporter": "python",
   "pygments_lexer": "ipython3",
   "version": "3.6.7"
  }
 },
 "nbformat": 4,
 "nbformat_minor": 2
}
