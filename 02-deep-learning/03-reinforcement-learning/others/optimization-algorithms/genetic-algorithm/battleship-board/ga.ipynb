{
 "cells": [
  {
   "cell_type": "code",
   "execution_count": null,
   "metadata": {
    "collapsed": true
   },
   "outputs": [],
   "source": [
    "import math\n",
    "import random\n",
    "import numpy as np\n",
    "import pandas as pd\n",
    "\n",
    "import matplotlib.pyplot as plt"
   ]
  },
  {
   "cell_type": "code",
   "execution_count": null,
   "metadata": {
    "collapsed": true
   },
   "outputs": [],
   "source": [
    "from board import Battleship"
   ]
  },
  {
   "cell_type": "code",
   "execution_count": null,
   "metadata": {
    "collapsed": true
   },
   "outputs": [],
   "source": [
    "from utils import display_heatmap"
   ]
  },
  {
   "cell_type": "markdown",
   "metadata": {},
   "source": [
    "## Setup The Target Board"
   ]
  },
  {
   "cell_type": "code",
   "execution_count": null,
   "metadata": {},
   "outputs": [],
   "source": [
    "board, solution = Battleship().create_board()"
   ]
  },
  {
   "cell_type": "code",
   "execution_count": null,
   "metadata": {},
   "outputs": [],
   "source": [
    "display_heatmap(data=board)"
   ]
  },
  {
   "cell_type": "markdown",
   "metadata": {},
   "source": [
    "## Create a Random Guess"
   ]
  },
  {
   "cell_type": "code",
   "execution_count": null,
   "metadata": {},
   "outputs": [],
   "source": [
    "random_solution = np.random.randint(2, size=100).reshape((10, 10))\n",
    "\n",
    "display_heatmap(data=random_solution)"
   ]
  },
  {
   "cell_type": "markdown",
   "metadata": {},
   "source": [
    "## Define GA"
   ]
  },
  {
   "cell_type": "code",
   "execution_count": null,
   "metadata": {},
   "outputs": [],
   "source": [
    "class GeneticAlgorithm(object):\n",
    "    \"\"\"Generate GA for Battleship problem.\"\"\"\n",
    "    \n",
    "    def __init__(self, num_generations=100):\n",
    "        \n",
    "        self.num_generations = num_generations\n",
    "    \n",
    "    def generate_population(self, num_individuals, genes):\n",
    "        \n",
    "        # create dataframe for gene pool\n",
    "        df_population = pd.DataFrame(columns=['Sequence', 'Chromosome', 'Generation', 'Birth', 'Fitness', 'Parents'])\n",
    "        \n",
    "        i = 0\n",
    "        while i < num_individuals:\n",
    "            \n",
    "            individual = {\n",
    "                'Sequence': i+1,\n",
    "                'Chromosome': ''.join(str(x) for x in list(np.random.randint(2, size=genes))),\n",
    "                'Generation': 1,\n",
    "                'Birth': 'Random',\n",
    "                'Parents': 0\n",
    "            }\n",
    "            \n",
    "            # check for uniqueness and add to gene pool\n",
    "            if individual['Chromosome'] not in df_population['Chromosome']:\n",
    "                df_population = df_population.append(individual, ignore_index=True)\n",
    "                i += 1\n",
    "                \n",
    "        # return the generation\n",
    "        return generation\n",
    "\n",
    "    def evaluate_fitness(self):\n",
    "        pass\n",
    "    \n",
    "    def crossover(self, next_generation, num_crossover):\n",
    "        \n",
    "        # get generation attributes\n",
    "        last_generation = next_generation['Generation'].max()\n",
    "        last_sequence = next_generation['Sequence'].max()\n",
    "        num_elites = next_generation['Birth'].value_counts()['Elitism']\n",
    "        \n",
    "        i = 0\n",
    "        while i < num_crossover:\n",
    "            \n",
    "            # create crossover chromosome\n",
    "            individual = {\n",
    "                'Generation': last_generation,\n",
    "                'Birth': 'Crossover',\n",
    "                'Elite': False\n",
    "            }\n",
    "            \n",
    "            # select random crossover as new parents\n",
    "            parent_indices = np.random.choice(num_elites, 2, replace=False)\n",
    "            individual['Parents'] = np.array(next_generation['Sequence'].values)[parent_indices]\n",
    "            parents = np.array(next_generation['Chromosome'].values)[parent_indices]\n",
    "            \n",
    "            # create crossover bit\n",
    "            crossover_bit = np.random.randint(len(parents[0]))\n",
    "            \n",
    "            # create crossover children from parent and crossover bits\n",
    "            crossover = []\n",
    "            crossover.append(parents[0][0:crossover_bit] + parents[1][crossover_bit:len(parents[1])])\n",
    "            crossover.append(parents[1][0:crossover_bit] + parents[0][crossover_bit:len(parents[0])])\n",
    "            \n",
    "            # add crossover to population\n",
    "            individual['Chromosome'] = crossover[0]\n",
    "            individual['Sequence'] = last_sequence + i + 1\n",
    "            next_generation = next_generation.append(individual, ignore_index=True)\n",
    "            \n",
    "            individual['Chromosome'] = crossover[1]\n",
    "            individual['Sequence'] = last_sequence + i + 2\n",
    "            next_generation = next_generation.append(individual, ignore_index=True)\n",
    "\n",
    "            i += 1\n",
    "\n",
    "        # return the generation\n",
    "        return next_generation\n",
    "\n",
    "    def mutate(self, next_generation, num_mutants, bit_flip_rate):\n",
    "\n",
    "        # get generation attributes\n",
    "        last_generation = next_generation['Generation'].max()\n",
    "        last_sequence = next_generation['Sequence'].max()\n",
    "        num_elites = next_generation['Birth'].value_counts()['Elitism']\n",
    "        \n",
    "        i = 0\n",
    "        while i < num_mutants:\n",
    "            \n",
    "            # create mutant chromosome\n",
    "            for i in range(num_individuals):\n",
    "\n",
    "                individual = {\n",
    "                    'Sequence': last_sequence + i + 1,\n",
    "                    'Generation': last_sequence,\n",
    "                    'Birth': 'Mutation',\n",
    "                    'Elite': False\n",
    "                }\n",
    "                \n",
    "                # select random elite as new parent\n",
    "                parent_index = np.random.choice(num_elites)\n",
    "                individual['Parents'] = list(next_generation['Sequence'].values)[parent_index]\n",
    "                parent = list(next_generation['Chromosome'].values)[parent_index]\n",
    "            \n",
    "            # create array of random bit flips\n",
    "            bit_flip_array = np.random.choice(2, len(parent), p=[1 - bit_flip_rate, bit_flip_rate])\n",
    "            bits_to_flip = ''.join(str(x) for x in list(bit_flip_array.flatten()))\n",
    "\n",
    "            # create mutant child from parent and flip bits from array\n",
    "            mutant = ''\n",
    "            for j in range(len(bits_to_flip)):\n",
    "                if not int(bits_to_flip[j]):\n",
    "                    mutant += parent[j]\n",
    "                else:\n",
    "                    mutant += str(abs(int(parent[j]) - 1))\n",
    "                    \n",
    "            # check for uniqueness and add to population\n",
    "            individual['Chromosome'] = mutant\n",
    "            if individual['Chromosome'] not in next_generation['Chromosome']:\n",
    "                next_generation = next_generation.append(individual, ignore_index=True)\n",
    "                i += 1\n",
    "                \n",
    "        # return the generation\n",
    "        return next_generation\n",
    "\n",
    "    def create_next_generation(self, population, solution, elite_rate, stop_limit):\n",
    "            \n",
    "        next_generation = population.copy()\n",
    "        num_individuals = next_generation.shape[0]\n",
    "\n",
    "        # create generations until fitness criteria is achieved\n",
    "        while population['Fitness'].max() < stop_limit:\n",
    "            \n",
    "            # select elites with elite rate\n",
    "            next_generation = self.select_elites(next_generation)\n",
    "            \n",
    "            # add crossover pairs to generation\n",
    "            crossover_rate = elite_rate / 2\n",
    "            num_crossover = int(crossover_rate * num_individuals)\n",
    "            next_generation = self.crossover(next_generation, num_crossover)\n",
    "            \n",
    "            # add mutants to generation\n",
    "            mutant_rate = 0.60\n",
    "            bit_flip_rate = 0.01\n",
    "            num_mutants = int(mutant_rate * num_individuals)\n",
    "            next_generation = self.mutate(next_generation, num_mutants, bit_flip_rate)\n",
    "            \n",
    "            # fill the rest of the generaion with random chromosomes for diversity\n",
    "            next_generation = self.fill_random(next_generation, num_individuals, genes=100)\n",
    "            \n",
    "            # evaluate fitness\n",
    "            next_generation['Fitness'] = self.evaluate_fitness()\n",
    "            \n",
    "            # assign elite rate\n",
    "            elite_rate = 0.20\n",
    "            next_generation = self.assign_elites(next_generation, elite_rate)\n",
    "            \n",
    "            # add next generation to population\n",
    "            population = population.append(next_generation)\n",
    "\n",
    "        return population\n",
    "    \n",
    "    def reproduce(self, num_individuals, solution, genes):\n",
    "        \n",
    "        # initialize the first random population\n",
    "        population = self.generate_population(num_individuals, genes)\n",
    "        \n",
    "        # evaluate the fitness\n",
    "        population['Fitness'] = self.evaluate_fitness()\n",
    "        \n",
    "        # assign elite rate\n",
    "        elite_rate = 0.20\n",
    "        population = self.assign_elites(population, elite_rate)\n",
    "        \n",
    "        # create successive generations until termination criteria is met\n",
    "        population = self.create_next_generation()\n",
    "        population = population.set_index['Sequence']\n",
    "        \n",
    "        return population"
   ]
  },
  {
   "cell_type": "markdown",
   "metadata": {},
   "source": [
    "---"
   ]
  }
 ],
 "metadata": {
  "kernelspec": {
   "display_name": "Python 3",
   "language": "python",
   "name": "python3"
  },
  "language_info": {
   "codemirror_mode": {
    "name": "ipython",
    "version": 3
   },
   "file_extension": ".py",
   "mimetype": "text/x-python",
   "name": "python",
   "nbconvert_exporter": "python",
   "pygments_lexer": "ipython3",
   "version": "3.6.7"
  }
 },
 "nbformat": 4,
 "nbformat_minor": 2
}
