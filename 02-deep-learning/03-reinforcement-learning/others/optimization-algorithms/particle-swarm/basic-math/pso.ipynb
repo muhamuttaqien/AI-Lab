{
 "cells": [
  {
   "cell_type": "markdown",
   "metadata": {},
   "source": [
    "# Particle Optimization Algorithm"
   ]
  },
  {
   "cell_type": "code",
   "execution_count": 1,
   "metadata": {},
   "outputs": [],
   "source": [
    "import random\n",
    "import numpy as np\n",
    "\n",
    "import matplotlib.pyplot as plt\n",
    "\n",
    "import warnings\n",
    "warnings.filterwarnings(\"ignore\", category=RuntimeWarning)"
   ]
  },
  {
   "cell_type": "code",
   "execution_count": 2,
   "metadata": {},
   "outputs": [],
   "source": [
    "plt.style.use('seaborn')"
   ]
  },
  {
   "cell_type": "markdown",
   "metadata": {},
   "source": [
    "## Define PSO"
   ]
  },
  {
   "cell_type": "code",
   "execution_count": 3,
   "metadata": {},
   "outputs": [],
   "source": [
    "W = 0.5 # inertial weight\n",
    "C1 = 0.8 # acceleration coefficient\n",
    "C2 = 0.9 # acceleration coefficient"
   ]
  },
  {
   "cell_type": "code",
   "execution_count": 4,
   "metadata": {},
   "outputs": [],
   "source": [
    "class Particle(object):\n",
    "    \n",
    "    def __init__(self):\n",
    "        \n",
    "        self.position = np.array([(-1) ** (bool(random.getrandbits(1))) * random.random()*50, (-1)**(bool(random.getrandbits(1))) * random.random()*50])\n",
    "        self.best_position = self.position\n",
    "        self.best_value = float('inf')\n",
    "        self.velocity = np.array([0, 0])\n",
    "        \n",
    "    def move(self):\n",
    "        self.position = self.position + self.velocity\n",
    "        \n",
    "    def __str__(self):\n",
    "        print(f'Particle in position: {self.position}, with best position: {self.best_position}')"
   ]
  },
  {
   "cell_type": "code",
   "execution_count": 5,
   "metadata": {},
   "outputs": [],
   "source": [
    "class Space(object):\n",
    "    \n",
    "    def __init__(self, target, target_error, num_particles):\n",
    "        \n",
    "        self.particles = []\n",
    "        \n",
    "        self.target = target\n",
    "        self.target_error = target_error\n",
    "        self.num_particles = num_particles\n",
    "        \n",
    "        self.global_best_position = np.array([random.random()*50, random.random()*50])\n",
    "        self.global_best_value = float('inf')\n",
    "        \n",
    "        self.fitness_score_to_plot = []\n",
    "        \n",
    "    def evaluate_fitness(self, particle):\n",
    "        \n",
    "        # the problem to solve here is to find the maximum of the following function\n",
    "        fitness_score = particle.position[0] ** 2 + particle.position[1] ** 2 + 1\n",
    "\n",
    "        return fitness_score\n",
    "     \n",
    "    def move_particles(self):\n",
    "        \n",
    "        for particle in self.particles:\n",
    "            \n",
    "            global W\n",
    "            \n",
    "            initial_velocity = (W * particle.velocity)\n",
    "            cognitive_force =  (C1 * random.random()) * (particle.best_position - particle.position)\n",
    "            social_force = (C2 * random.random()) * (self.global_best_position - particle.position)\n",
    "            \n",
    "            new_velocity = initial_velocity + cognitive_force + social_force\n",
    "            particle.velocity = new_velocity\n",
    "            \n",
    "            particle.move()\n",
    "\n",
    "    def set_particle_best(self):\n",
    "        \n",
    "        for particle in self.particles:\n",
    "            \n",
    "            fitness_candidate = self.evaluate_fitness(particle)\n",
    "            \n",
    "            if (particle.best_value > fitness_candidate):\n",
    "                \n",
    "                particle.best_value = fitness_candidate\n",
    "                particle.best_position = particle.position\n",
    "                \n",
    "    def set_global_best(self):\n",
    "        \n",
    "        for particle in self.particles:\n",
    "            \n",
    "            best_fitness_candidate = self.evaluate_fitness(particle)\n",
    "            \n",
    "            if (self.global_best_value > best_fitness_candidate):\n",
    "                \n",
    "                self.global_best_value = best_fitness_candidate\n",
    "                self.global_best_position = particle.position\n",
    "                \n",
    "    def set_elitist_strategy(self):\n",
    "        \n",
    "        for particle in self.particles:\n",
    "            \n",
    "            worst_fitness_candidate = self.evaluate_fitness(particle)\n",
    "            \n",
    "            if (self.global_worst_cost < worst_fitness_candidate):\n",
    "                self.global_worst_particle = particle\n",
    "                self.global_worst_cost = worst_fitness_candidate\n",
    "        \n",
    "        self.global_worst_particle.position = self.global_best_position\n",
    "        self.global_worst_cost = 0\n",
    "            \n",
    "    def print_particles(self):\n",
    "        \n",
    "        for particle in self.particles:\n",
    "            particle.__str__()"
   ]
  },
  {
   "cell_type": "code",
   "execution_count": 6,
   "metadata": {},
   "outputs": [],
   "source": [
    "PSO = Space(target=1, target_error=1e-6, num_particles=30)\n",
    "particles_vector = [Particle() for _ in range(PSO.num_particles)]"
   ]
  },
  {
   "cell_type": "code",
   "execution_count": 7,
   "metadata": {},
   "outputs": [],
   "source": [
    "PSO.particles = particles_vector"
   ]
  },
  {
   "cell_type": "markdown",
   "metadata": {},
   "source": [
    "## Train PSO"
   ]
  },
  {
   "cell_type": "code",
   "execution_count": 8,
   "metadata": {},
   "outputs": [],
   "source": [
    "num_iterations = 50"
   ]
  },
  {
   "cell_type": "code",
   "execution_count": 9,
   "metadata": {},
   "outputs": [
    {
     "name": "stdout",
     "output_type": "stream",
     "text": [
      "Iteration: 1, the best solution is X: -8.1536, Y: 2.1655, fitness score: 72.1709\n",
      "Iteration: 2, the best solution is X: 2.1614, Y: 3.7019, fitness score: 19.3755\n",
      "Iteration: 3, the best solution is X: 2.9352, Y: 2.1287, fitness score: 14.1468\n",
      "Iteration: 4, the best solution is X: -2.4558, Y: -1.4042, fitness score: 9.0026\n",
      "Iteration: 5, the best solution is X: -0.2855, Y: -1.1476, fitness score: 2.3984\n",
      "Iteration: 6, the best solution is X: -0.9129, Y: 0.2576, fitness score: 1.8997\n",
      "Iteration: 7, the best solution is X: 0.0377, Y: 0.1787, fitness score: 1.0334\n",
      "Iteration: 8, the best solution is X: 0.0377, Y: 0.1787, fitness score: 1.0334\n",
      "Iteration: 9, the best solution is X: 0.0377, Y: 0.1787, fitness score: 1.0334\n",
      "Iteration: 10, the best solution is X: 0.0377, Y: 0.1787, fitness score: 1.0334\n",
      "Iteration: 11, the best solution is X: -0.0553, Y: 0.0510, fitness score: 1.0057\n",
      "Iteration: 12, the best solution is X: -0.0553, Y: 0.0510, fitness score: 1.0057\n",
      "Iteration: 13, the best solution is X: 0.0226, Y: -0.0464, fitness score: 1.0027\n",
      "Iteration: 14, the best solution is X: 0.0237, Y: 0.0179, fitness score: 1.0009\n",
      "Iteration: 15, the best solution is X: 0.0237, Y: 0.0179, fitness score: 1.0009\n",
      "Iteration: 16, the best solution is X: -0.0011, Y: -0.0041, fitness score: 1.0000\n",
      "Iteration: 17, the best solution is X: -0.0011, Y: -0.0041, fitness score: 1.0000\n",
      "Iteration: 18, the best solution is X: -0.0011, Y: -0.0041, fitness score: 1.0000\n",
      "Iteration: 19, the best solution is X: 0.0005, Y: -0.0023, fitness score: 1.0000\n",
      "Iteration: 20, the best solution is X: 0.0005, Y: -0.0023, fitness score: 1.0000\n",
      "Iteration: 21, the best solution is X: 0.0022, Y: -0.0006, fitness score: 1.0000\n",
      "Iteration: 22, the best solution is X: -0.0019, Y: -0.0011, fitness score: 1.0000\n"
     ]
    }
   ],
   "source": [
    "for i_iter in range(1, num_iterations+1):\n",
    "    \n",
    "    PSO.move_particles()\n",
    "    \n",
    "    PSO.set_particle_best()    \n",
    "    PSO.set_global_best()\n",
    "\n",
    "    if(abs(PSO.global_best_value - PSO.target) <= PSO.target_error):\n",
    "        break\n",
    "\n",
    "    X = PSO.global_best_position[0]\n",
    "    Y = PSO.global_best_position[1]\n",
    "    fitness_score = PSO.global_best_value\n",
    "    \n",
    "    PSO.fitness_score_to_plot.append(fitness_score)\n",
    "    \n",
    "    print(f'Iteration: {i_iter}, the best solution is X: {X:.4f}, Y: {Y:.4f}, fitness score: {fitness_score:.4f}')"
   ]
  },
  {
   "cell_type": "markdown",
   "metadata": {},
   "source": [
    "## Plot PSO"
   ]
  },
  {
   "cell_type": "code",
   "execution_count": 10,
   "metadata": {},
   "outputs": [
    {
     "data": {
      "image/png": "[encoded data removed]",
      "text/plain": [
       "<Figure size 576x396 with 1 Axes>"
      ]
     },
     "metadata": {},
     "output_type": "display_data"
    }
   ],
   "source": [
    "plt.plot(PSO.fitness_score_to_plot)\n",
    "plt.xlabel('Total Iteration')\n",
    "plt.ylabel('Fitness Score')\n",
    "plt.savefig('./images/plot_fitness_score.png')\n",
    "plt.show()"
   ]
  },
  {
   "cell_type": "markdown",
   "metadata": {},
   "source": [
    "---"
   ]
  }
 ],
 "metadata": {
  "kernelspec": {
   "display_name": "Python 3",
   "language": "python",
   "name": "python3"
  },
  "language_info": {
   "codemirror_mode": {
    "name": "ipython",
    "version": 3
   },
   "file_extension": ".py",
   "mimetype": "text/x-python",
   "name": "python",
   "nbconvert_exporter": "python",
   "pygments_lexer": "ipython3",
   "version": "3.7.3"
  }
 },
 "nbformat": 4,
 "nbformat_minor": 2
}
