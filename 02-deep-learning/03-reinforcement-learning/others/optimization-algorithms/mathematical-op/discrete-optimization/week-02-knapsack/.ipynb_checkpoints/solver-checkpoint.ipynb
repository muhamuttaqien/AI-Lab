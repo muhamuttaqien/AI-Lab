{
 "cells": [
  {
   "cell_type": "code",
   "execution_count": 39,
   "metadata": {},
   "outputs": [],
   "source": [
    "import sys\n",
    "from collections import namedtuple\n",
    "from operator import attrgetter\n",
    "\n",
    "from psutil import cpu_count\n",
    "from gurobipy import *\n",
    "\n",
    "import pprint"
   ]
  },
  {
   "cell_type": "code",
   "execution_count": 2,
   "metadata": {},
   "outputs": [],
   "source": [
    "Item = namedtuple('Item', ['index', 'value', 'weight', 'density'])"
   ]
  },
  {
   "cell_type": "code",
   "execution_count": 111,
   "metadata": {},
   "outputs": [],
   "source": [
    "def solve_it(input_data):\n",
    "    \n",
    "    # Modify this code to run your optimization algorithm\n",
    "\n",
    "    # parse the input\n",
    "    lines = input_data.split('\\n')\n",
    "\n",
    "    firstLine = lines[0].split()\n",
    "    item_count = int(firstLine[0])\n",
    "    capacity = int(firstLine[1])\n",
    "    \n",
    "    print('Total Items:', item_count)\n",
    "    print('Knapsack Capacity:', capacity)\n",
    "\n",
    "    items = []\n",
    "\n",
    "    for i in range(1, item_count+1):\n",
    "        line = lines[i]\n",
    "        parts = line.split()\n",
    "        v, w = int(parts[0]), int(parts[1])\n",
    "        items.append(Item(i-1, v, w, 1.0 * v / w))\n",
    "        \n",
    "    print('List Items:')\n",
    "    pprint.pprint(items)\n",
    "    \n",
    "    # greedy solution\n",
    "    # put items with higher value \"density\" first\n",
    "    obj, taken = greedy(capacity, items)\n",
    "    \n",
    "    # prepare the solution in the specified output format\n",
    "    print(\"\\nSOLUTION:\")\n",
    "    output_data = 'Total value: ' + str(obj) + '\\n'\n",
    "    output_data += 'Items taken: '\n",
    "    output_data += ' '.join(map(str, taken))\n",
    "    \n",
    "    return output_data"
   ]
  },
  {
   "cell_type": "code",
   "execution_count": 112,
   "metadata": {},
   "outputs": [],
   "source": [
    "def mip():\n",
    "    pass\n",
    "\n",
    "def dp():\n",
    "    pass\n",
    "\n",
    "def greedy(capacity, items):\n",
    "    \n",
    "    n = len(items)\n",
    "    taken = [0] * n\n",
    "    filled = 0\n",
    "    value = 0\n",
    "    \n",
    "    for item in sorted(items, key=attrgetter('density')):\n",
    "        \n",
    "        filled += item.weight\n",
    "        \n",
    "        if filled <= capacity:\n",
    "            taken[item.index] = 1\n",
    "            value += item.value\n",
    "            \n",
    "    return value, taken"
   ]
  },
  {
   "cell_type": "markdown",
   "metadata": {},
   "source": [
    "## Solve It!"
   ]
  },
  {
   "cell_type": "code",
   "execution_count": 113,
   "metadata": {},
   "outputs": [
    {
     "name": "stdout",
     "output_type": "stream",
     "text": [
      "Total Items: 4\n",
      "Knapsack Capacity: 11\n",
      "List Items:\n",
      "[Item(index=0, value=8, weight=4, density=2.0),\n",
      " Item(index=1, value=10, weight=5, density=2.0),\n",
      " Item(index=2, value=15, weight=8, density=1.875),\n",
      " Item(index=3, value=4, weight=3, density=1.3333333333333333)]\n",
      "\n",
      "SOLUTION:\n",
      "Total value: 19\n",
      "Items taken: 0 0 1 1\n"
     ]
    }
   ],
   "source": [
    "data_dir = './data/'\n",
    "data_file = os.listdir(data_dir)[1]\n",
    "\n",
    "file_location = data_dir + data_file\n",
    "with open(file_location, 'r') as input_data_file:\n",
    "    input_data = input_data_file.read()\n",
    "    output_data = solve_it(input_data)\n",
    "    \n",
    "    print(output_data)"
   ]
  },
  {
   "cell_type": "markdown",
   "metadata": {},
   "source": [
    "---"
   ]
  }
 ],
 "metadata": {
  "kernelspec": {
   "display_name": "Python 3",
   "language": "python",
   "name": "python3"
  },
  "language_info": {
   "codemirror_mode": {
    "name": "ipython",
    "version": 3
   },
   "file_extension": ".py",
   "mimetype": "text/x-python",
   "name": "python",
   "nbconvert_exporter": "python",
   "pygments_lexer": "ipython3",
   "version": "3.8.3"
  }
 },
 "nbformat": 4,
 "nbformat_minor": 4
}
