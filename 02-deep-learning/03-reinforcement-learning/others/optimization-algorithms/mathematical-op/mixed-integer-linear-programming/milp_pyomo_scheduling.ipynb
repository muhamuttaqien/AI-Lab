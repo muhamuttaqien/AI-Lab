{
 "cells": [
  {
   "cell_type": "code",
   "execution_count": 1,
   "metadata": {},
   "outputs": [],
   "source": [
    "from pyomo.environ import *\n",
    "from pyomo.opt import SolverFactory"
   ]
  },
  {
   "cell_type": "markdown",
   "metadata": {},
   "source": [
    "## Initialize Model"
   ]
  },
  {
   "cell_type": "code",
   "execution_count": 2,
   "metadata": {},
   "outputs": [],
   "source": [
    "model = ConcreteModel()"
   ]
  },
  {
   "cell_type": "markdown",
   "metadata": {},
   "source": [
    "## Define Decision Variables"
   ]
  },
  {
   "cell_type": "code",
   "execution_count": 3,
   "metadata": {},
   "outputs": [],
   "source": [
    "days = ['Mon', 'Tue', 'Wed', 'Thu', 'Fri', 'Sat', 'Sun']\n",
    "shifts = ['morning', 'evening', 'night']\n",
    "\n",
    "days_shifts = { day: shifts for day in days }"
   ]
  },
  {
   "cell_type": "code",
   "execution_count": 4,
   "metadata": {},
   "outputs": [],
   "source": [
    "available_workers = 9 # total workers available which is actually more than needed\n",
    "workers = ['workers_' + str(i) for i in range(1, available_workers+1)]"
   ]
  },
  {
   "cell_type": "code",
   "execution_count": 5,
   "metadata": {},
   "outputs": [],
   "source": [
    "# binary variables representing if a worker is scheduled somewhere\n",
    "model.works = Var(((worker, day, shift) for worker in workers for day in days for shift in days_shifts[day]), \n",
    "                    within=Binary, initialize=0)\n",
    "\n",
    "# binary variables representing if a worker is necessary\n",
    "model.needed = Var(workers, within=Binary, initialize=0)\n",
    "\n",
    "# binary variables representing if a worker worked on Sunday but not on Saturday (avoid if possible)\n",
    "model.no_pref = Var(workers, within=Binary, initialize=0)"
   ]
  },
  {
   "cell_type": "markdown",
   "metadata": {},
   "source": [
    "## Define Constraints"
   ]
  },
  {
   "cell_type": "code",
   "execution_count": 6,
   "metadata": {},
   "outputs": [],
   "source": [
    "model.constraints = ConstraintList() # create a set of constraints"
   ]
  },
  {
   "cell_type": "code",
   "execution_count": 7,
   "metadata": {},
   "outputs": [],
   "source": [
    "# constraint: all shifts are assigned\n",
    "for day in days:\n",
    "    for shift in days_shifts[day]:\n",
    "        if day in days[:-1] and shift in ['morning', 'evening']:\n",
    "            # weekdays' and saturday's shifts have exactly two workers (except night)\n",
    "            model.constraints.add(\n",
    "                2 == sum(model.works[worker, day, shift] for worker in workers)\n",
    "            )            \n",
    "        else:\n",
    "            # sunday's and night's shifts have exactly one worker\n",
    "            model.constraints.add(\n",
    "                1 == sum(model.works[worker, day, shift] for worker in workers)\n",
    "            )"
   ]
  },
  {
   "cell_type": "code",
   "execution_count": 8,
   "metadata": {},
   "outputs": [],
   "source": [
    "# constraint: no more than 40 hours worked\n",
    "working_hours = 8\n",
    "\n",
    "for worker in workers:\n",
    "    model.constraints.add(\n",
    "        40 >= sum(working_hours * model.works[worker, day, shift] for day in days for shift in days_shifts[day])\n",
    "    )"
   ]
  },
  {
   "cell_type": "code",
   "execution_count": 9,
   "metadata": {},
   "outputs": [],
   "source": [
    "# constraint: rest between two shifts is of 12 hours (i.e., at least two shifts)\n",
    "for worker in workers:\n",
    "    for j in range(len(days)):\n",
    "        # if working in morning, cannot work again on that day\n",
    "        model.constraints.add(\n",
    "            1 >= sum(model.works[worker, days[j], shift] for shift in days_shifts[days[j]])\n",
    "        )\n",
    "        \n",
    "        # if working in evening, until next evening (note that after sunday comes next monday)\n",
    "        model.constraints.add(\n",
    "            1 >= sum(model.works[worker, days[j], shift] for shift in ['evening', 'night']) + \n",
    "                     model.works[worker, days[(j + 1) % 7], 'morning']\n",
    "        )\n",
    "        \n",
    "        # if working in night, until next night\n",
    "        model.constraints.add(\n",
    "            1 >= sum(model.works[worker, days[(j + 1) % 7], shift] for shift in ['morning', 'evening']) + \n",
    "                     model.works[worker, days[j], 'night']\n",
    "        )"
   ]
  },
  {
   "cell_type": "code",
   "execution_count": 10,
   "metadata": {},
   "outputs": [],
   "source": [
    "# constraint: definition of model.needed\n",
    "for worker in workers:\n",
    "    model.constraints.add(\n",
    "        10000 * model.needed[worker] >= sum(model.works[worker, day, shift] for day in days for shift in days_shifts[day])\n",
    "    )"
   ]
  },
  {
   "cell_type": "code",
   "execution_count": 11,
   "metadata": {},
   "outputs": [],
   "source": [
    "# constraint: definition of model.no_pref\n",
    "for worker in workers:\n",
    "    model.constraints.add(\n",
    "        model.no_pref[worker] >= sum(model.works[worker, 'Sat', shift] for shift in days_shifts['Sat']) - \n",
    "                                 sum(model.works[worker, 'Sun', shift] for shift in days_shifts['Sun'])\n",
    "    )"
   ]
  },
  {
   "cell_type": "markdown",
   "metadata": {},
   "source": [
    "## Define Objective Function"
   ]
  },
  {
   "cell_type": "code",
   "execution_count": 12,
   "metadata": {},
   "outputs": [],
   "source": [
    "def obj_expression(model):\n",
    "    \n",
    "    total_workers = len(workers)\n",
    "    return sum(model.no_pref[worker] for worker in workers) + sum(total_workers * model.needed[worker] for worker in workers)"
   ]
  },
  {
   "cell_type": "code",
   "execution_count": 13,
   "metadata": {},
   "outputs": [],
   "source": [
    "model.objective_func = Objective(rule=obj_expression, sense=minimize)"
   ]
  },
  {
   "cell_type": "markdown",
   "metadata": {},
   "source": [
    "## Solve The Model!"
   ]
  },
  {
   "cell_type": "code",
   "execution_count": 14,
   "metadata": {},
   "outputs": [],
   "source": [
    "opt = SolverFactory('cbc') # download solver in projects.coin-or.org/Cbc to solve a Mixed Integer Programming problem\n",
    "results = opt.solve(model)"
   ]
  },
  {
   "cell_type": "markdown",
   "metadata": {},
   "source": [
    "## Report The Result"
   ]
  },
  {
   "cell_type": "code",
   "execution_count": 15,
   "metadata": {},
   "outputs": [],
   "source": [
    "import json"
   ]
  },
  {
   "cell_type": "code",
   "execution_count": 16,
   "metadata": {},
   "outputs": [],
   "source": [
    "def get_workers_needed(needed):\n",
    "    \"\"\"Extract to a list the needed workers for the optimal solution.\"\"\"\n",
    "    workers_needed = []\n",
    "    for worker in workers:\n",
    "        if needed[worker].value == 1:\n",
    "            workers_needed.append(worker)\n",
    "    return workers_needed\n",
    "\n",
    "workers_needed = get_workers_needed(model.needed) # dict with the optimal timetable\n",
    "\n",
    "def get_work_table(works):\n",
    "    \"\"\"Build a timetable of the week as a dictionary from the model's optimal solution.\"\"\"\n",
    "    week_table = { day: { shift: [] for shift in days_shifts[day] } for day in days }\n",
    "    for worker in workers:\n",
    "        for day in days:\n",
    "            for shift in days_shifts[day]:\n",
    "                if works[worker, day, shift].value == 1:\n",
    "                    week_table[day][shift].append(worker)\n",
    "                    \n",
    "    return week_table\n",
    "\n",
    "week_table = get_work_table(model.works) # list with the required workers\n",
    "\n",
    "def get_no_preference(no_pref):\n",
    "    \"\"\"Extract to a list the workers not satisfied with their weekend preference.\"\"\"\n",
    "    return [worker for worker in workers if no_pref[worker].value == 1]\n",
    "\n",
    "workers_no_pref = get_no_preference(model.no_pref) # list with the non-satisfied workers (work on Saturday but not on Sunday)"
   ]
  },
  {
   "cell_type": "code",
   "execution_count": 17,
   "metadata": {},
   "outputs": [
    {
     "name": "stdout",
     "output_type": "stream",
     "text": [
      "Workers needed:\n",
      "workers_2\n",
      "workers_3\n",
      "workers_4\n",
      "workers_6\n",
      "workers_7\n",
      "workers_8\n",
      "workers_9\n"
     ]
    }
   ],
   "source": [
    "print('Workers needed:')\n",
    "for worker in workers_needed:\n",
    "    print(worker)"
   ]
  },
  {
   "cell_type": "code",
   "execution_count": 18,
   "metadata": {},
   "outputs": [
    {
     "name": "stdout",
     "output_type": "stream",
     "text": [
      "Work schedule:\n",
      "{\n",
      "    \"Mon\": {\n",
      "        \"morning\": [\n",
      "            \"workers_3\",\n",
      "            \"workers_4\"\n",
      "        ],\n",
      "        \"evening\": [\n",
      "            \"workers_8\",\n",
      "            \"workers_9\"\n",
      "        ],\n",
      "        \"night\": [\n",
      "            \"workers_6\"\n",
      "        ]\n",
      "    },\n",
      "    \"Tue\": {\n",
      "        \"morning\": [\n",
      "            \"workers_4\",\n",
      "            \"workers_7\"\n",
      "        ],\n",
      "        \"evening\": [\n",
      "            \"workers_8\",\n",
      "            \"workers_9\"\n",
      "        ],\n",
      "        \"night\": [\n",
      "            \"workers_2\"\n",
      "        ]\n",
      "    },\n",
      "    \"Wed\": {\n",
      "        \"morning\": [\n",
      "            \"workers_3\",\n",
      "            \"workers_7\"\n",
      "        ],\n",
      "        \"evening\": [\n",
      "            \"workers_6\",\n",
      "            \"workers_8\"\n",
      "        ],\n",
      "        \"night\": [\n",
      "            \"workers_2\"\n",
      "        ]\n",
      "    },\n",
      "    \"Thu\": {\n",
      "        \"morning\": [\n",
      "            \"workers_3\",\n",
      "            \"workers_4\"\n",
      "        ],\n",
      "        \"evening\": [\n",
      "            \"workers_6\",\n",
      "            \"workers_9\"\n",
      "        ],\n",
      "        \"night\": [\n",
      "            \"workers_7\"\n",
      "        ]\n",
      "    },\n",
      "    \"Fri\": {\n",
      "        \"morning\": [\n",
      "            \"workers_3\",\n",
      "            \"workers_4\"\n",
      "        ],\n",
      "        \"evening\": [\n",
      "            \"workers_2\",\n",
      "            \"workers_8\"\n",
      "        ],\n",
      "        \"night\": [\n",
      "            \"workers_9\"\n",
      "        ]\n",
      "    },\n",
      "    \"Sat\": {\n",
      "        \"morning\": [\n",
      "            \"workers_4\",\n",
      "            \"workers_7\"\n",
      "        ],\n",
      "        \"evening\": [\n",
      "            \"workers_2\",\n",
      "            \"workers_6\"\n",
      "        ],\n",
      "        \"night\": [\n",
      "            \"workers_3\"\n",
      "        ]\n",
      "    },\n",
      "    \"Sun\": {\n",
      "        \"morning\": [\n",
      "            \"workers_7\"\n",
      "        ],\n",
      "        \"evening\": [\n",
      "            \"workers_2\"\n",
      "        ],\n",
      "        \"night\": [\n",
      "            \"workers_6\"\n",
      "        ]\n",
      "    }\n",
      "}\n"
     ]
    }
   ],
   "source": [
    "print('Work schedule:')\n",
    "print(json.dumps(week_table, indent=4))"
   ]
  },
  {
   "cell_type": "code",
   "execution_count": 19,
   "metadata": {},
   "outputs": [
    {
     "name": "stdout",
     "output_type": "stream",
     "text": [
      "Workers not satisfied by weekend condition:\n",
      "workers_3\n",
      "workers_4\n"
     ]
    }
   ],
   "source": [
    "print('Workers not satisfied by weekend condition:')\n",
    "for worker in workers_no_pref:\n",
    "    print(worker)"
   ]
  },
  {
   "cell_type": "code",
   "execution_count": 20,
   "metadata": {},
   "outputs": [
    {
     "name": "stdout",
     "output_type": "stream",
     "text": [
      "The optimal objective value: 65.0\n"
     ]
    }
   ],
   "source": [
    "print('The optimal objective value:', model.objective_func())"
   ]
  },
  {
   "cell_type": "markdown",
   "metadata": {},
   "source": [
    "---"
   ]
  }
 ],
 "metadata": {
  "kernelspec": {
   "display_name": "Python 3",
   "language": "python",
   "name": "python3"
  },
  "language_info": {
   "codemirror_mode": {
    "name": "ipython",
    "version": 3
   },
   "file_extension": ".py",
   "mimetype": "text/x-python",
   "name": "python",
   "nbconvert_exporter": "python",
   "pygments_lexer": "ipython3",
   "version": "3.7.3"
  }
 },
 "nbformat": 4,
 "nbformat_minor": 2
}
