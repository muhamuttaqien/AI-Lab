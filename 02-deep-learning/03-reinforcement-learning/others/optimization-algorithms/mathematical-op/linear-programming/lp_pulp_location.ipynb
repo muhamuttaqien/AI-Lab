{
 "cells": [
  {
   "cell_type": "code",
   "execution_count": 1,
   "metadata": {},
   "outputs": [],
   "source": [
    "import pulp\n",
    "from pulp import *"
   ]
  },
  {
   "cell_type": "code",
   "execution_count": 2,
   "metadata": {},
   "outputs": [],
   "source": [
    "import pandas as pd"
   ]
  },
  {
   "cell_type": "markdown",
   "metadata": {},
   "source": [
    "## Create Data"
   ]
  },
  {
   "cell_type": "code",
   "execution_count": 3,
   "metadata": {},
   "outputs": [],
   "source": [
    "demand = {'Demand': {'A': 145.4, \n",
    "                     'B': 84.1, \n",
    "                     'C': 156.4, \n",
    "                     'D': 1676.8, \n",
    "                     'E': 2719.6}}\n",
    "\n",
    "var_cost = {'A': {'A': 8, 'B': 14, 'C': 23, 'D': 21, 'E': 12}, \n",
    "            'B': {'A': 14, 'B': 6, 'C': 13, 'D': 14, 'E': 13}, \n",
    "            'C': {'A': 21, 'B': 13, 'C': 8, 'D': 9, 'E': 17}, \n",
    "            'D': {'A': 21, 'B': 14, 'C': 10, 'D': 3, 'E': 20}, \n",
    "            'E': {'A': 12, 'B': 13, 'C': 22, 'D': 20, 'E': 6}}\n",
    "\n",
    "fix_cost = {'High_C': {'A': 4730, \n",
    "                       'B': 7270, \n",
    "                       'C': 3080, \n",
    "                       'D': 9100, \n",
    "                       'E': 9500},\n",
    "            \n",
    "            'Low_C': {'A': 3230, \n",
    "                      'B': 4980, \n",
    "                      'C': 2110, \n",
    "                      'D': 6230, \n",
    "                      'E': 6500}}\n",
    "\n",
    "capacity = {'High_C': {'A': 1500, \n",
    "                       'B': 1500, \n",
    "                       'C': 1500, \n",
    "                       'D': 1500, \n",
    "                       'E': 1500},\n",
    "            \n",
    "            'Low_C': {'A': 500, \n",
    "                      'B': 500, \n",
    "                      'C': 500, \n",
    "                      'D': 500, \n",
    "                      'E': 500}}"
   ]
  },
  {
   "cell_type": "code",
   "execution_count": 4,
   "metadata": {},
   "outputs": [],
   "source": [
    "df_demand = pd.DataFrame(demand)\n",
    "df_var_cost = pd.DataFrame(var_cost)\n",
    "df_fix_cost = pd.DataFrame(fix_cost)\n",
    "df_capacity = pd.DataFrame(capacity)"
   ]
  },
  {
   "cell_type": "markdown",
   "metadata": {},
   "source": [
    "## Initialize Model"
   ]
  },
  {
   "cell_type": "code",
   "execution_count": 5,
   "metadata": {},
   "outputs": [],
   "source": [
    "model = LpProblem('Facility_Location_Problem', LpMinimize)"
   ]
  },
  {
   "cell_type": "markdown",
   "metadata": {},
   "source": [
    "## Define Decision Variables"
   ]
  },
  {
   "cell_type": "code",
   "execution_count": 6,
   "metadata": {},
   "outputs": [],
   "source": [
    "location = ['A', 'B', 'C', 'D', 'E']\n",
    "capacity = ['Low_C', 'High_C']"
   ]
  },
  {
   "cell_type": "code",
   "execution_count": 7,
   "metadata": {},
   "outputs": [],
   "source": [
    "X = LpVariable.dicts('production_', [(i, j) for i in location for j in location], \n",
    "                      lowBound=0, upBound=None, cat='Continuous')\n",
    "\n",
    "y = LpVariable.dicts('Plant_', [(i, c) for c in capacity for i in location], \n",
    "                      lowBound=None, upBound=None, cat='Binary')"
   ]
  },
  {
   "cell_type": "markdown",
   "metadata": {},
   "source": [
    "## Define Constraints"
   ]
  },
  {
   "cell_type": "code",
   "execution_count": 8,
   "metadata": {},
   "outputs": [],
   "source": [
    "# total production needs to be equal to the demand\n",
    "for j in location:\n",
    "    model += lpSum([X[(i, j)] for i in location]) == df_demand.loc[j, 'Demand']\n",
    "    \n",
    "# total production needs to be smaller or equal to total production capacity\n",
    "for i in location:\n",
    "    model += lpSum([X[i, j] for j in location]) <= lpSum([df_capacity.loc[i, c] * y[i, c] for c in capacity])"
   ]
  },
  {
   "cell_type": "markdown",
   "metadata": {},
   "source": [
    "## Define Objective Function"
   ]
  },
  {
   "cell_type": "code",
   "execution_count": 9,
   "metadata": {},
   "outputs": [],
   "source": [
    "model += (lpSum([df_fix_cost.loc[i, c] * y[(i, c)] for c in capacity for i in location]) + \n",
    "          lpSum([df_var_cost.loc[i, j] * X[(i, j)] for i in location for j in location]))"
   ]
  },
  {
   "cell_type": "markdown",
   "metadata": {},
   "source": [
    "## Solve The Model!"
   ]
  },
  {
   "cell_type": "code",
   "execution_count": 10,
   "metadata": {},
   "outputs": [
    {
     "name": "stdout",
     "output_type": "stream",
     "text": [
      "The solution: True\n",
      "The status of solution: Optimal\n",
      "Results for production quantities:\n",
      "* Quantity for production A to A is 145.4\n",
      "* Quantity for production A to B is 0.0\n",
      "* Quantity for production A to C is 0.0\n",
      "* Quantity for production A to D is 0.0\n",
      "* Quantity for production A to E is 1219.6\n",
      "* Quantity for production B to A is 0.0\n",
      "* Quantity for production B to B is 0.0\n",
      "* Quantity for production B to C is 0.0\n",
      "* Quantity for production B to D is 0.0\n",
      "* Quantity for production B to E is 0.0\n",
      "* Quantity for production C to A is 0.0\n",
      "* Quantity for production C to B is 84.1\n",
      "* Quantity for production C to C is 156.4\n",
      "* Quantity for production C to D is 176.8\n",
      "* Quantity for production C to E is 0.0\n",
      "* Quantity for production D to A is 0.0\n",
      "* Quantity for production D to B is 0.0\n",
      "* Quantity for production D to C is 0.0\n",
      "* Quantity for production D to D is 1500.0\n",
      "* Quantity for production D to E is 0.0\n",
      "* Quantity for production E to A is 0.0\n",
      "* Quantity for production E to B is 0.0\n",
      "* Quantity for production E to C is 0.0\n",
      "* Quantity for production E to D is 0.0\n",
      "* Quantity for production E to E is 1500.0\n",
      "Results for plant capacities based on location:\n",
      "* Low capacity: 0.0, High capacity: 1.0\n",
      "* Low capacity: 0.0, High capacity: 0.0\n",
      "* Low capacity: 1.0, High capacity: 0.0\n",
      "* Low capacity: 0.0, High capacity: 1.0\n",
      "* Low capacity: 0.0, High capacity: 1.0\n",
      "The optimized objective function ($): 58850.9\n"
     ]
    }
   ],
   "source": [
    "print('The solution:', bool(model.solve()))\n",
    "print('The status of solution:', LpStatus[model.status])\n",
    "print('Results for production quantities:')\n",
    "\n",
    "for elem in [{'Production':'{} to {}'.format(i,j), 'Quantity':X[(i,j)].varValue} for i in location for j in location]:\n",
    "    print(f'* Quantity for production {elem[\"Production\"]} is {elem[\"Quantity\"]}')\n",
    "          \n",
    "print('Results for plant capacities based on location:')\n",
    "for elem in [{'lowCap':y[(i, capacity[0])].varValue, 'highCap':y[(i, capacity[1])].varValue} for i in location]:\n",
    "    print(f'* Low capacity: {elem[\"lowCap\"]}, High capacity: {elem[\"highCap\"]}')\n",
    "          \n",
    "print('The optimized objective function ($):', value(model.objective))"
   ]
  },
  {
   "cell_type": "markdown",
   "metadata": {},
   "source": [
    "---"
   ]
  }
 ],
 "metadata": {
  "kernelspec": {
   "display_name": "Python 3",
   "language": "python",
   "name": "python3"
  },
  "language_info": {
   "codemirror_mode": {
    "name": "ipython",
    "version": 3
   },
   "file_extension": ".py",
   "mimetype": "text/x-python",
   "name": "python",
   "nbconvert_exporter": "python",
   "pygments_lexer": "ipython3",
   "version": "3.7.3"
  }
 },
 "nbformat": 4,
 "nbformat_minor": 2
}
