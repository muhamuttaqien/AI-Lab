{
 "cells": [
  {
   "cell_type": "code",
   "execution_count": 1,
   "metadata": {},
   "outputs": [],
   "source": [
    "import pulp\n",
    "from pulp import *"
   ]
  },
  {
   "cell_type": "markdown",
   "metadata": {},
   "source": [
    "## Initialize Model"
   ]
  },
  {
   "cell_type": "code",
   "execution_count": 2,
   "metadata": {},
   "outputs": [],
   "source": [
    "model = LpProblem('Minimize_Number_of_Workers', LpMinimize)"
   ]
  },
  {
   "cell_type": "markdown",
   "metadata": {},
   "source": [
    "## Define Decision Variables"
   ]
  },
  {
   "cell_type": "code",
   "execution_count": 3,
   "metadata": {},
   "outputs": [],
   "source": [
    "days = list(range(7))"
   ]
  },
  {
   "cell_type": "code",
   "execution_count": 4,
   "metadata": {},
   "outputs": [],
   "source": [
    "x = LpVariable.dicts('workers_', days, lowBound=0, upBound=None, cat='Integer')"
   ]
  },
  {
   "cell_type": "markdown",
   "metadata": {},
   "source": [
    "## Define Constraints"
   ]
  },
  {
   "cell_type": "code",
   "execution_count": 5,
   "metadata": {},
   "outputs": [],
   "source": [
    "# the number of workers need to be more than the minimum number for each day\n",
    "model += x[0] + x[3] + x[4] + x[5] + x[6] >= 25\n",
    "model += x[0] + x[1] + x[4] + x[5] + x[6] >= 32\n",
    "model += x[0] + x[1] + x[2] + x[5] + x[6] >= 22\n",
    "model += x[0] + x[1] + x[2] + x[3] + x[6] >= 18\n",
    "model += x[0] + x[1] + x[2] + x[3] + x[4] >= 24\n",
    "model += x[1] + x[2] + x[3] + x[4] + x[5] >= 12\n",
    "model += x[2] + x[3] + x[4] + x[5] + x[6] >= 14"
   ]
  },
  {
   "cell_type": "markdown",
   "metadata": {},
   "source": [
    "## Define Objective Function"
   ]
  },
  {
   "cell_type": "code",
   "execution_count": 6,
   "metadata": {},
   "outputs": [],
   "source": [
    "model += lpSum([x[i] for i in days])"
   ]
  },
  {
   "cell_type": "markdown",
   "metadata": {},
   "source": [
    "## Solve The Model!"
   ]
  },
  {
   "cell_type": "code",
   "execution_count": 7,
   "metadata": {},
   "outputs": [
    {
     "name": "stdout",
     "output_type": "stream",
     "text": [
      "The solution: True\n",
      "The status of solution: Optimal\n",
      "The solution variable of workers__0 = 7.0\n",
      "The solution variable of workers__1 = 7.0\n",
      "The solution variable of workers__2 = 0.0\n",
      "The solution variable of workers__3 = 0.0\n",
      "The solution variable of workers__4 = 10.0\n",
      "The solution variable of workers__5 = 0.0\n",
      "The solution variable of workers__6 = 8.0\n",
      "The optimized objective function: 32\n"
     ]
    }
   ],
   "source": [
    "print('The solution:', bool(model.solve()))\n",
    "print('The status of solution:', LpStatus[model.status])\n",
    "\n",
    "total_hired_workers = 0\n",
    "for variable in model.variables():\n",
    "    print ('The solution variable of {} = {}'.format(variable.name, variable.varValue))\n",
    "    total_hired_workers += variable.varValue\n",
    "    \n",
    "print('The optimized objective function:', int(total_hired_workers))"
   ]
  },
  {
   "cell_type": "markdown",
   "metadata": {},
   "source": [
    "---"
   ]
  }
 ],
 "metadata": {
  "kernelspec": {
   "display_name": "Python 3",
   "language": "python",
   "name": "python3"
  },
  "language_info": {
   "codemirror_mode": {
    "name": "ipython",
    "version": 3
   },
   "file_extension": ".py",
   "mimetype": "text/x-python",
   "name": "python",
   "nbconvert_exporter": "python",
   "pygments_lexer": "ipython3",
   "version": "3.7.3"
  }
 },
 "nbformat": 4,
 "nbformat_minor": 2
}
