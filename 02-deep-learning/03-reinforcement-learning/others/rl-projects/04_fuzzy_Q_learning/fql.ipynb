{
 "cells": [
  {
   "cell_type": "code",
   "execution_count": 1,
   "metadata": {
    "collapsed": true
   },
   "outputs": [],
   "source": [
    "import sys\n",
    "import copy\n",
    "import random\n",
    "import numpy as np\n",
    "import matplotlib.pyplot as plt\n",
    "\n",
    "import operator\n",
    "import itertools\n",
    "import functools"
   ]
  },
  {
   "cell_type": "code",
   "execution_count": 2,
   "metadata": {
    "collapsed": true
   },
   "outputs": [],
   "source": [
    "import FIS\n",
    "import FuzzySet\n",
    "import StateVariable"
   ]
  },
  {
   "cell_type": "code",
   "execution_count": 3,
   "metadata": {
    "collapsed": true
   },
   "outputs": [],
   "source": [
    "from Environment import CartPole"
   ]
  },
  {
   "cell_type": "markdown",
   "metadata": {},
   "source": [
    "## Load Environment"
   ]
  },
  {
   "cell_type": "code",
   "execution_count": 4,
   "metadata": {
    "collapsed": true
   },
   "outputs": [],
   "source": [
    "env = CartPole()"
   ]
  },
  {
   "cell_type": "markdown",
   "metadata": {},
   "source": [
    "## Create Fuzzy Inference System"
   ]
  },
  {
   "cell_type": "code",
   "execution_count": 5,
   "metadata": {
    "collapsed": true
   },
   "outputs": [],
   "source": [
    "x1 = StateVariable.InputStateVariable(FuzzySet.Trapeziums(-2.4, -2, -1, -0.5), FuzzySet.Trapeziums(-1, -0.5, 0.5, 1), FuzzySet.Trapeziums(0.5, 1, 2, 2.4))\n",
    "x2 = StateVariable.InputStateVariable(FuzzySet.Triangles(-2.4, -0.5, 1), FuzzySet.Triangles(-0.5, 1, 2.4))\n",
    "x3 = StateVariable.InputStateVariable(FuzzySet.Triangles(-3.14159, -1.5, 0), FuzzySet.Triangles(-1.5, 0, 1.5), FuzzySet.Triangles(0, 1.5, 3.1459))\n",
    "x4 = StateVariable.InputStateVariable(FuzzySet.Triangles(-3.14159, -1.5, 0), FuzzySet.Triangles(-1.5, 0, 1.5), FuzzySet.Triangles(0, 1.5, 3.1459))"
   ]
  },
  {
   "cell_type": "code",
   "execution_count": 6,
   "metadata": {
    "collapsed": true
   },
   "outputs": [],
   "source": [
    "fis = FIS.Build(x1, x2, x3, x4)"
   ]
  },
  {
   "cell_type": "markdown",
   "metadata": {},
   "source": [
    "## Define Fuzzy Q Learning"
   ]
  },
  {
   "cell_type": "code",
   "execution_count": 7,
   "metadata": {
    "collapsed": true
   },
   "outputs": [],
   "source": [
    "class FQL(object):\n",
    "    \n",
    "    L = []\n",
    "    R = []\n",
    "    R_ = []\n",
    "    M = []\n",
    "    Q = 0\n",
    "    V = 0\n",
    "    \n",
    "    error = 0\n",
    "    Q_table = np.matrix([])\n",
    "    \n",
    "    def __init__(self, gamma, alpha, ee_rate, Q_initial_value, action_set_length, fis = FIS.Build()):\n",
    "        \n",
    "        self.gamma = gamma\n",
    "        self.alpha = alpha\n",
    "        self.ee_rate = ee_rate\n",
    "        self.Q_initial_value = Q_initial_value\n",
    "        self.action_set_length = action_set_length\n",
    "        self.fis = fis\n",
    "        \n",
    "        if self.Q_initial_value == 'random':\n",
    "            self.Q_table = np.random.random((self.fis.get_number_of_rules(), self.action_set_length))\n",
    "        if self.Q_initial_value == 'zero':\n",
    "            self.Q_table = np.zeros((self.fis.get_number_of_rules(), self.action_set_length))\n",
    "            \n",
    "    def calculate_truth_value(self, state_value):\n",
    "        \n",
    "        self.L = []\n",
    "        self.R = []\n",
    "        \n",
    "        input_variables = self.fis.list_of_input_variable\n",
    "        for index, variable in enumerate(input_variables):\n",
    "            \n",
    "            X = []\n",
    "            fuzzy_sets = variable.get_fuzzy_sets()\n",
    "            for fset in fuzzy_sets:\n",
    "                membership_value = fset.get_membership_value(state_value[index])\n",
    "                X.append(membership_value)\n",
    "                \n",
    "            self.L.append(X)\n",
    "            \n",
    "        for el in itertools.product(*self.L):\n",
    "            self.R.append(functools.reduce(operator.mul, el, 1))\n",
    "            \n",
    "    def select_action(self):\n",
    "        \n",
    "        self.M = []\n",
    "        r = random.uniform(0, 1)\n",
    "        sys_max = -sys.maxsize\n",
    "        \n",
    "        for cell in self.Q_table:\n",
    "            if r < self.ee_rate:\n",
    "                for index, action in enumerate(cell):\n",
    "                    if action > sys_max:\n",
    "                        action_index = index\n",
    "            else:\n",
    "                action_index = random.randint(0, self.action_set_length - 1)\n",
    "            \n",
    "            self.M.append(action_index)\n",
    "            \n",
    "    def infer_action(self):\n",
    "        \n",
    "        sys_max = -sys.maxsize\n",
    "        for index, truth_value in enumerate(self.R):\n",
    "            if truth_value > sys_max:\n",
    "                sys_max = truth_value\n",
    "                action = self.M[index]\n",
    "                \n",
    "        return action\n",
    "    \n",
    "    def calculate_Q_value(self):\n",
    "        \n",
    "        self.Q = 0\n",
    "        for index, truth_value in enumerate(self.R):\n",
    "            self.Q = self.Q + truth_value * self.Q_table[index, self.M[index]]\n",
    "        self.Q = self.Q / sum(self.R)\n",
    "        \n",
    "    def calculate_state_value(self):\n",
    "        \n",
    "        self.V = 0\n",
    "        sys_max = -sys.maxsize\n",
    "        for index, cell in enumerate(self.Q_table):\n",
    "            for action in cell:\n",
    "                if action < sys_max:\n",
    "                    sys_max = action\n",
    "            self.V = (self.R[index] * sys_max) + self.V\n",
    "        \n",
    "        if sum(self.R) == 0:\n",
    "            self.R[0] = 1e-5\n",
    "        self.V = self.V / sum(self.R)\n",
    "        \n",
    "    def calculate_quality_variation(self, reward):\n",
    "        self.error = reward + ((self.gamma * self.V) - self.Q)\n",
    "        \n",
    "    def update_Q_value(self):\n",
    "        \n",
    "        for index, truth_value in enumerate(self.R_):\n",
    "            \n",
    "            Q_delta = self.alpha * (self.error * truth_value)\n",
    "            self.Q_table[index][self.M[index]] = self.Q_table[index][self.M[index]] + Q_delta\n",
    "            \n",
    "    def keep_state_history(self):\n",
    "        \n",
    "        self.R_ = copy.copy(self.R)\n",
    "        \n",
    "    def get_initial_action(self, state):\n",
    "        \n",
    "        self.calculate_truth_value(state)\n",
    "        self.select_action()\n",
    "        action = self.infer_action()\n",
    "        \n",
    "        self.calculate_Q_value()\n",
    "        self.keep_state_history()\n",
    "        \n",
    "        return action\n",
    "    \n",
    "    def run(self, state, reward):\n",
    "        \n",
    "        self.calculate_truth_value(state)\n",
    "        self.calculate_state_value()\n",
    "        self.calculate_quality_variation(reward)\n",
    "        self.update_Q_value()\n",
    "        \n",
    "        self.select_action()\n",
    "        action = self.infer_action()\n",
    "        \n",
    "        self.calculate_Q_value()\n",
    "        self.keep_state_history()\n",
    "        \n",
    "        return action"
   ]
  },
  {
   "cell_type": "code",
   "execution_count": 8,
   "metadata": {
    "collapsed": true
   },
   "outputs": [],
   "source": [
    "model = FQL(gamma=0.9, alpha=0.1, ee_rate=0.999, Q_initial_value='random', action_set_length=21, fis=fis)"
   ]
  },
  {
   "cell_type": "markdown",
   "metadata": {},
   "source": [
    "## Train The Model"
   ]
  },
  {
   "cell_type": "code",
   "execution_count": 9,
   "metadata": {
    "collapsed": true
   },
   "outputs": [],
   "source": [
    "num_episodes = 5000\n",
    "state_value_list = []\n",
    "\n",
    "reward_to_plot = []"
   ]
  },
  {
   "cell_type": "code",
   "execution_count": 10,
   "metadata": {
    "collapsed": true,
    "scrolled": true
   },
   "outputs": [],
   "source": [
    "for i_episode in range(num_episodes):\n",
    "    \n",
    "    if i_episode%100 == 0 or reward == -1:\n",
    "        \n",
    "        env.__init__()\n",
    "        \n",
    "        action = model.get_initial_action(env.state)\n",
    "        reward, state_value = env.apply_action(action)\n",
    "        \n",
    "    action = model.run(state_value, reward)\n",
    "    reward, state_value = env.apply_action(action)\n",
    "    \n",
    "    reward_to_plot.append(reward)\n",
    "    \n",
    "    if reward != -1: \n",
    "        state_value_list.append(state_value[2])"
   ]
  },
  {
   "cell_type": "markdown",
   "metadata": {},
   "source": [
    "## Evaluate The Model"
   ]
  },
  {
   "cell_type": "code",
   "execution_count": 11,
   "metadata": {},
   "outputs": [
    {
     "data": {
      "image/png": "[encoded data removed]",
      "text/plain": [
       "<matplotlib.figure.Figure at 0x118a7b400>"
      ]
     },
     "metadata": {},
     "output_type": "display_data"
    }
   ],
   "source": [
    "plt.figure(figsize=(14,3))\n",
    "plt.plot(state_value_list, color='green')\n",
    "plt.ylabel('Pole Angle')\n",
    "plt.show()"
   ]
  },
  {
   "cell_type": "code",
   "execution_count": 12,
   "metadata": {},
   "outputs": [
    {
     "data": {
      "image/png": "[encoded data removed]",
      "text/plain": [
       "<matplotlib.figure.Figure at 0x118a93630>"
      ]
     },
     "metadata": {},
     "output_type": "display_data"
    }
   ],
   "source": [
    "plt.figure(figsize=(14,3))\n",
    "plt.plot(reward_to_plot, color='green')\n",
    "plt.ylabel('Rewards')\n",
    "plt.show()"
   ]
  },
  {
   "cell_type": "markdown",
   "metadata": {},
   "source": [
    "---"
   ]
  }
 ],
 "metadata": {
  "kernelspec": {
   "display_name": "Python 3",
   "language": "python",
   "name": "python3"
  },
  "language_info": {
   "codemirror_mode": {
    "name": "ipython",
    "version": 3
   },
   "file_extension": ".py",
   "mimetype": "text/x-python",
   "name": "python",
   "nbconvert_exporter": "python",
   "pygments_lexer": "ipython3",
   "version": "3.6.7"
  }
 },
 "nbformat": 4,
 "nbformat_minor": 2
}
