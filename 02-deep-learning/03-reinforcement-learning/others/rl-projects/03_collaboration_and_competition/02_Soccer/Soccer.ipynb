{
 "cells": [
  {
   "cell_type": "code",
   "execution_count": 1,
   "metadata": {
    "collapsed": true
   },
   "outputs": [],
   "source": [
    "import os\n",
    "import random\n",
    "import numpy as np\n",
    "import matplotlib.pyplot as plt\n",
    "from time import sleep\n",
    "from IPython.display import clear_output\n",
    "from collections import namedtuple, deque\n",
    "\n",
    "from unityagents import UnityEnvironment"
   ]
  },
  {
   "cell_type": "code",
   "execution_count": 2,
   "metadata": {
    "collapsed": true
   },
   "outputs": [],
   "source": [
    "import torch\n",
    "import torch.nn as nn\n",
    "import torch.optim as optim\n",
    "import torch.nn.functional as F\n",
    "import torchvision.transforms as T\n",
    "\n",
    "from torch.utils.data.sampler import BatchSampler, SubsetRandomSampler"
   ]
  },
  {
   "cell_type": "code",
   "execution_count": 3,
   "metadata": {
    "collapsed": true
   },
   "outputs": [],
   "source": [
    "from buffer import ReplayBuffer\n",
    "from model import ActorNetwork, CriticNetwork"
   ]
  },
  {
   "cell_type": "code",
   "execution_count": 4,
   "metadata": {
    "collapsed": true
   },
   "outputs": [],
   "source": [
    "import warnings\n",
    "warnings.simplefilter('ignore', UserWarning)"
   ]
  },
  {
   "cell_type": "code",
   "execution_count": 5,
   "metadata": {
    "collapsed": true
   },
   "outputs": [],
   "source": [
    "plt.style.use('ggplot')"
   ]
  },
  {
   "cell_type": "markdown",
   "metadata": {},
   "source": [
    "## Set Configs"
   ]
  },
  {
   "cell_type": "code",
   "execution_count": 6,
   "metadata": {
    "collapsed": true
   },
   "outputs": [],
   "source": [
    "is_cuda = torch.cuda.is_available()\n",
    "\n",
    "if is_cuda: device = torch.device('cuda')\n",
    "else: device = torch.device('cpu')"
   ]
  },
  {
   "cell_type": "code",
   "execution_count": 7,
   "metadata": {
    "collapsed": true
   },
   "outputs": [],
   "source": [
    "BATCH_SIZE = 32\n",
    "GAMMA = 0.995\n",
    "ENTROPY_WEIGHT = 0.001\n",
    "EPS_CLIP = 1e-1\n",
    "GRAD_CLIP = 5e-1\n",
    "\n",
    "GOALIE_LR = 8e-5\n",
    "STRIKER_LR = 1e-4"
   ]
  },
  {
   "cell_type": "code",
   "execution_count": 8,
   "metadata": {
    "collapsed": true
   },
   "outputs": [],
   "source": [
    "ACTOR_KEY = 0\n",
    "CRITIC_KEY = 1"
   ]
  },
  {
   "cell_type": "markdown",
   "metadata": {},
   "source": [
    "## Set Environment"
   ]
  },
  {
   "cell_type": "code",
   "execution_count": 9,
   "metadata": {},
   "outputs": [
    {
     "name": "stderr",
     "output_type": "stream",
     "text": [
      "INFO:unityagents:\n",
      "'Academy' started successfully!\n",
      "Unity Academy name: Academy\n",
      "        Number of Brains: 2\n",
      "        Number of External Brains : 2\n",
      "        Lesson number : 0\n",
      "        Reset Parameters :\n",
      "\t\t\n",
      "Unity brain name: GoalieBrain\n",
      "        Number of Visual Observations (per agent): 0\n",
      "        Vector Observation space type: continuous\n",
      "        Vector Observation space size (per agent): 112\n",
      "        Number of stacked Vector Observation: 3\n",
      "        Vector Action space type: discrete\n",
      "        Vector Action space size (per agent): 4\n",
      "        Vector Action descriptions: , , , \n",
      "Unity brain name: StrikerBrain\n",
      "        Number of Visual Observations (per agent): 0\n",
      "        Vector Observation space type: continuous\n",
      "        Vector Observation space size (per agent): 112\n",
      "        Number of stacked Vector Observation: 3\n",
      "        Vector Action space type: discrete\n",
      "        Vector Action space size (per agent): 6\n",
      "        Vector Action descriptions: , , , , , \n"
     ]
    }
   ],
   "source": [
    "env = UnityEnvironment(file_name='./Soccer.app', no_graphics=True)\n",
    "\n",
    "goalie_brain_name = env.brain_names[0]\n",
    "striker_brain_name = env.brain_names[1]"
   ]
  },
  {
   "cell_type": "markdown",
   "metadata": {},
   "source": [
    "## Define [PPO](https://arxiv.org/pdf/1707.06347.pdf) Agent"
   ]
  },
  {
   "cell_type": "code",
   "execution_count": 10,
   "metadata": {
    "collapsed": true
   },
   "outputs": [],
   "source": [
    "class PPOAgent():\n",
    "    \"\"\"The Agent that will interacts with and learns from the environment.\"\"\"\n",
    "    \n",
    "    def __init__(self, env, mode='Goalie', seed=90):\n",
    "        \"\"\"Initialize an Agent object.\"\"\"\n",
    "        \n",
    "        self.env_info = env.reset(train_mode=True)\n",
    "                \n",
    "        if mode == 'Goalie': brain_name = env.brain_names[0] # brain name for Goalie\n",
    "        elif mode == 'Striker': brain_name = env.brain_names[1] # brain name for Striker\n",
    "            \n",
    "        self.state_size = self.env_info[brain_name].vector_observations.shape[1]\n",
    "        self.action_size = env.brains[brain_name].vector_action_space_size\n",
    "        \n",
    "        self.batch_size = BATCH_SIZE\n",
    "        self.gamma = GAMMA\n",
    "        self.entropy_weight = ENTROPY_WEIGHT\n",
    "        self.eps_clip = EPS_CLIP       \n",
    "        self.grad_clip = GRAD_CLIP\n",
    "        \n",
    "        if mode == 'Goalie': self.lr = GOALIE_LR\n",
    "        elif mode == 'Striker':  self.lr = STRIKER_LR\n",
    "            \n",
    "        self.actor = ActorNetwork(self.state_size, self.action_size, seed).to(device)\n",
    "        self.critic = CriticNetwork(self.state_size, seed).to(device)\n",
    "        self.optimizer = torch.optim.Adam(list(self.actor.parameters()) + list(self.critic.parameters()), lr=self.lr)\n",
    "        \n",
    "        self.buffer = ReplayBuffer(self.batch_size, seed)\n",
    "        \n",
    "    def act(self, states):\n",
    "        \n",
    "        states = torch.FloatTensor(states).unsqueeze(0).to(device)\n",
    "        \n",
    "        self.actor.eval()\n",
    "        \n",
    "        with torch.no_grad():\n",
    "            actions, action_log_probs, _ = self.actor(states)\n",
    "            \n",
    "        actions = actions.cpu().detach().numpy().item()\n",
    "        action_log_probs = action_log_probs.cpu().detach().numpy().item()\n",
    "        \n",
    "        self.policy.train()\n",
    "        \n",
    "        return actions, action_log_probs\n",
    "    \n",
    "    def memorize(self, actor_state, critic_state, action, log_prob, reward):\n",
    "        \n",
    "        self.buffer.add(actor_state, critic_state, action, log_prob, reward)\n",
    "    \n",
    "    def learn(self, gamma):\n",
    "        \n",
    "        actor_states, critic_states, actions, old_log_probs, rewards, num_experiences = buffer.get_experiences()\n",
    "        \n",
    "        discount = self.gamma**np.arange(num_experiences)\n",
    "        rewards = rewards.squeeze(1) * discount\n",
    "        next_rewards = rewards[::-1].cumsum(axis=0)[::-1]\n",
    "        \n",
    "        actor_states = torch.FloatTensor(actor_states).to(device)\n",
    "        critic_states = torch.FloatTensor(critic_states).to(device)\n",
    "        actions = torch.LongTensor(actions).squeeze(1).to(device)\n",
    "        log_probs = torch.FloatTensor(log_probs).squeeze(1).to(device)\n",
    "        rewards = torch.FloatTensor(next_rewards.copy()).to(device)\n",
    "\n",
    "        self.critic.eval()\n",
    "        with torch.no_grad():\n",
    "            state_values = self.critic(critic_states)\n",
    "        \n",
    "        self.critic.train()\n",
    "        \n",
    "        advantages = (rewards - values.detach().squeeze())\n",
    "        advantages = advantages.detach()\n",
    "        advantages_normalized = (advantages - advantages.mean()) / (advantages.std() + 1e-10)\n",
    "        advantages_normalized = torch.FloatTensor(advantages_normalized).to(device)\n",
    "        \n",
    "        batches = BatchSampler(SubsetRandomSampler(range(0, num_experiences)), self.batch_size, drop_last=False)\n",
    "        \n",
    "        losses = []\n",
    "        \n",
    "        for batch_indices in batches:\n",
    "            \n",
    "            batch_indices = torch.LongTensor(batch_indices).to(device)\n",
    "            \n",
    "            actor_states = actor_states[batch_indices]\n",
    "            critic_state = critic_state[batch_indices]\n",
    "            actions = actions[batch_indices]\n",
    "            old_log_probs = old_log_probs[batch_indices]\n",
    "            rewards = rewards[batch_indices]\n",
    "            advantages_normalized = advantages_normalized[batch_indices]\n",
    "        \n",
    "            _, log_probs, dist_entropies = self.actor(actor_states, actions)\n",
    "            state_values = self.critic(critic_states).squeeze()\n",
    "            \n",
    "            ratios = torch.exp(log_probs - old_log_probs.detach())\n",
    "            \n",
    "            surrogate1 = ratios * advantages\n",
    "            surrogate2 = torch.clamp(ratios, 1-self.eps_clip, 1+self.eps_clip) * advantages\n",
    "                \n",
    "            policy_loss = -torch.min(surrogate1, surrogate2).mean() - self.entropy_weight * dist_entropies.mean()\n",
    "            value_loss = 0.5 * (rewards, state_values).pow(2).mean()\n",
    "            \n",
    "            total_loss = policy_loss + value_loss\n",
    "\n",
    "            self.optimizer.zero_grad()\n",
    "            total_loss.backward()\n",
    "            nn.utils.clip_grad_norm_(self.actor.parameters(), self.grad_clip)\n",
    "            nn.utils.clip_grad_norm_(self.critic.parameters(), self.grad_clip)\n",
    "            self.optimizer.step()\n",
    "            \n",
    "        self.epsilon *= 1.\n",
    "        self.entropy_weight *= 0.995\n",
    "    \n",
    "    def save(self, actor_path, critic_path):\n",
    "        \n",
    "        if not os.path.exists('./agents/'): os.makedirs('./agents/')\n",
    "        torch.save(self.actor.state_dict(), actor_path); torch.save(self.critic.state_dict(), critic_path);\n",
    "        \n",
    "    def load(self, actor_path, critic_path):\n",
    "        \n",
    "        self.actor.load_state_dict(torch.load(actor_path)); self.critic.load_state_dict(torch.load(critic_path));\n",
    "    \n",
    "    def watch(self, num_episodes=10, max_time=2000):\n",
    "        pass"
   ]
  },
  {
   "cell_type": "code",
   "execution_count": 11,
   "metadata": {
    "collapsed": true
   },
   "outputs": [],
   "source": [
    "goalie = PPOAgent(env, mode='Goalie', seed=90); striker = PPOAgent(env, mode='Striker', seed=90);"
   ]
  },
  {
   "cell_type": "markdown",
   "metadata": {},
   "source": [
    "## Train The Agent"
   ]
  },
  {
   "cell_type": "code",
   "execution_count": 12,
   "metadata": {
    "collapsed": true
   },
   "outputs": [],
   "source": [
    "def train_agent(num_episodes=2000, max_time=2000):\n",
    "    pass"
   ]
  },
  {
   "cell_type": "markdown",
   "metadata": {},
   "source": [
    "## Evaluate The Agent"
   ]
  },
  {
   "cell_type": "code",
   "execution_count": null,
   "metadata": {
    "collapsed": true
   },
   "outputs": [],
   "source": [
    "plt.figure(figsize=(10,5))\n",
    "plt.plot(np.arange(len(scores)), scores, color='green')\n",
    "plt.xlabel('Num of episodes')\n",
    "plt.ylabel('Score')\n",
    "if not os.path.exists('./images/'): os.makedirs('./images/')\n",
    "plt.savefig('./images/plot_of_ppo_evaluation.png')\n",
    "plt.show()"
   ]
  },
  {
   "cell_type": "markdown",
   "metadata": {},
   "source": [
    "## 🎬 Watch The Smart Agent"
   ]
  },
  {
   "cell_type": "code",
   "execution_count": null,
   "metadata": {
    "collapsed": true
   },
   "outputs": [],
   "source": [
    "agent.load(f'./agents/Actor_{brain_name}.pth', f'./agents/Critic_{brain_name}.pth');"
   ]
  },
  {
   "cell_type": "code",
   "execution_count": null,
   "metadata": {
    "collapsed": true
   },
   "outputs": [],
   "source": [
    "agent.watch(num_episodes=10)"
   ]
  },
  {
   "cell_type": "markdown",
   "metadata": {},
   "source": [
    "---"
   ]
  }
 ],
 "metadata": {
  "kernelspec": {
   "display_name": "Python 3",
   "language": "python",
   "name": "python3"
  },
  "language_info": {
   "codemirror_mode": {
    "name": "ipython",
    "version": 3
   },
   "file_extension": ".py",
   "mimetype": "text/x-python",
   "name": "python",
   "nbconvert_exporter": "python",
   "pygments_lexer": "ipython3",
   "version": "3.6.7"
  }
 },
 "nbformat": 4,
 "nbformat_minor": 2
}
