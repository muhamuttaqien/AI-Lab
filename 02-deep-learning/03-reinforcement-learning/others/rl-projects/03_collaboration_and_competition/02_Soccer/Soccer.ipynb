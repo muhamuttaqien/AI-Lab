{
 "cells": [
  {
   "cell_type": "code",
   "execution_count": null,
   "metadata": {
    "collapsed": true
   },
   "outputs": [],
   "source": [
    "import os\n",
    "import random\n",
    "import numpy as np\n",
    "import matplotlib.pyplot as plt\n",
    "from time import sleep\n",
    "from IPython.display import clear_output\n",
    "from collections import namedtuple, deque\n",
    "\n",
    "from unityagents import UnityEnvironment"
   ]
  },
  {
   "cell_type": "code",
   "execution_count": null,
   "metadata": {
    "collapsed": true
   },
   "outputs": [],
   "source": [
    "import torch\n",
    "import torch.nn as nn\n",
    "import torch.optim as optim\n",
    "import torch.nn.functional as F\n",
    "import torchvision.transforms as T\n",
    "\n",
    "from torch.utils.data.sampler import BatchSampler, SubsetRandomSampler"
   ]
  },
  {
   "cell_type": "code",
   "execution_count": null,
   "metadata": {
    "collapsed": true
   },
   "outputs": [],
   "source": [
    "from buffer import ReplayBuffer\n",
    "from model import ActorNetwork, CriticNetwork"
   ]
  },
  {
   "cell_type": "code",
   "execution_count": null,
   "metadata": {
    "collapsed": true
   },
   "outputs": [],
   "source": [
    "import warnings\n",
    "warnings.simplefilter('ignore', UserWarning)"
   ]
  },
  {
   "cell_type": "code",
   "execution_count": null,
   "metadata": {
    "collapsed": true
   },
   "outputs": [],
   "source": [
    "plt.style.use('ggplot')"
   ]
  },
  {
   "cell_type": "markdown",
   "metadata": {},
   "source": [
    "## Set Configs"
   ]
  },
  {
   "cell_type": "code",
   "execution_count": null,
   "metadata": {
    "collapsed": true
   },
   "outputs": [],
   "source": [
    "is_cuda = torch.cuda.is_available()\n",
    "\n",
    "if is_cuda: device = torch.device('cuda')\n",
    "else: device = torch.device('cpu')"
   ]
  },
  {
   "cell_type": "code",
   "execution_count": null,
   "metadata": {
    "collapsed": true
   },
   "outputs": [],
   "source": [
    "BATCH_SIZE = 32\n",
    "GAMMA = 0.995\n",
    "ENTROPY_WEIGHT = 0.001\n",
    "EPS_CLIP = 1e-1\n",
    "GRAD_CLIP = 5e-1\n",
    "DEQUE_SIZE = 100\n",
    "\n",
    "GOALIE_LR = 8e-5\n",
    "STRIKER_LR = 1e-4"
   ]
  },
  {
   "cell_type": "code",
   "execution_count": null,
   "metadata": {
    "collapsed": true
   },
   "outputs": [],
   "source": [
    "TRAINED_AGENT_KEY = 0\n",
    "RANDOM_AGENT_KEY = 1"
   ]
  },
  {
   "cell_type": "markdown",
   "metadata": {},
   "source": [
    "## Set Environment"
   ]
  },
  {
   "cell_type": "code",
   "execution_count": null,
   "metadata": {},
   "outputs": [],
   "source": [
    "env = UnityEnvironment(file_name='./Soccer.app', no_graphics=True)\n",
    "\n",
    "env_info = env.reset(train_mode=True)\n",
    "\n",
    "goalie_brain_name = env.brain_names[0]\n",
    "goalie_state_size = env_info[goalie_brain_name].vector_observations.shape[1]\n",
    "goalie_action_size = env.brains[goalie_brain_name].vector_action_space_size\n",
    "\n",
    "striker_brain_name = env.brain_names[1]\n",
    "striker_state_size = env_info[striker_brain_name].vector_observations.shape[1]\n",
    "striker_action_size = env.brains[striker_brain_name].vector_action_space_size"
   ]
  },
  {
   "cell_type": "markdown",
   "metadata": {},
   "source": [
    "## Define [PPO](https://arxiv.org/pdf/1707.06347.pdf) Agent"
   ]
  },
  {
   "cell_type": "code",
   "execution_count": null,
   "metadata": {
    "collapsed": true
   },
   "outputs": [],
   "source": [
    "class PPOAgent():\n",
    "    \"\"\"The Agent that will interacts with and learns from the environment.\"\"\"\n",
    "    \n",
    "    def __init__(self, env, mode='Goalie', seed=90):\n",
    "        \"\"\"Initialize an Agent object.\"\"\"\n",
    "        \n",
    "        self.env_info = env.reset(train_mode=True)\n",
    "                \n",
    "        if mode == 'Goalie': brain_name = env.brain_names[0] # brain name for Goalie\n",
    "        elif mode == 'Striker': brain_name = env.brain_names[1] # brain name for Striker\n",
    "            \n",
    "        self.state_size = self.env_info[brain_name].vector_observations.shape[1]\n",
    "        self.action_size = env.brains[brain_name].vector_action_space_size\n",
    "        \n",
    "        self.batch_size = BATCH_SIZE\n",
    "        self.gamma = GAMMA\n",
    "        self.entropy_weight = ENTROPY_WEIGHT\n",
    "        self.eps_clip = EPS_CLIP       \n",
    "        self.grad_clip = GRAD_CLIP\n",
    "        \n",
    "        if mode == 'Goalie': self.lr = GOALIE_LR\n",
    "        elif mode == 'Striker':  self.lr = STRIKER_LR\n",
    "            \n",
    "        self.actor = ActorNetwork(self.state_size, self.action_size, seed).to(device)\n",
    "        self.critic = CriticNetwork(2 * len(env_info[goalie_brain_name].agents) * self.state_size, seed).to(device)\n",
    "        self.optimizer = torch.optim.Adam(list(self.actor.parameters()) + list(self.critic.parameters()), lr=self.lr)\n",
    "        \n",
    "        self.buffer = ReplayBuffer(self.batch_size, seed)\n",
    "        \n",
    "    def act(self, states):\n",
    "        \n",
    "        states = torch.FloatTensor(states).unsqueeze(0).to(device)\n",
    "        \n",
    "        self.actor.eval()\n",
    "        \n",
    "        with torch.no_grad():\n",
    "            actions, action_log_probs, _ = self.actor(states)\n",
    "            \n",
    "        actions = actions.cpu().detach().numpy().item()\n",
    "        action_log_probs = action_log_probs.cpu().detach().numpy().item()\n",
    "        \n",
    "        self.actor.train()\n",
    "        \n",
    "        return actions, action_log_probs\n",
    "    \n",
    "    def memorize(self, actor_state, critic_state, action, log_prob, reward):\n",
    "        \n",
    "        self.buffer.add(actor_state, critic_state, action, log_prob, reward)\n",
    "    \n",
    "    def learn(self):\n",
    "        \n",
    "        actor_states, critic_states, actions, old_log_probs, rewards, num_experiences = self.buffer.get_experiences()\n",
    "        \n",
    "        discount = self.gamma**np.arange(num_experiences)\n",
    "        rewards = rewards.squeeze(1) * discount\n",
    "        next_rewards = rewards[::-1].cumsum(axis=0)[::-1]\n",
    "        \n",
    "        actor_states = torch.FloatTensor(actor_states).to(device)\n",
    "        critic_states = torch.FloatTensor(critic_states).to(device)\n",
    "        actions = torch.LongTensor(actions).squeeze(1).to(device)\n",
    "        old_log_probs = torch.FloatTensor(old_log_probs).squeeze(1).to(device)\n",
    "        rewards = torch.FloatTensor(next_rewards.copy()).to(device)\n",
    "\n",
    "        self.critic.eval()\n",
    "        with torch.no_grad():\n",
    "            state_values = self.critic(critic_states)\n",
    "        \n",
    "        self.critic.train()\n",
    "        \n",
    "        advantages = (rewards - state_values.detach().squeeze())\n",
    "        advantages = advantages.detach()\n",
    "        advantages_normalized = (advantages - advantages.mean()) / (advantages.std() + 1e-10)\n",
    "        advantages_normalized = torch.FloatTensor(advantages_normalized).to(device)\n",
    "        \n",
    "        batches = BatchSampler(SubsetRandomSampler(range(0, num_experiences)), self.batch_size, drop_last=False)\n",
    "        losses = []\n",
    "        \n",
    "        for batch_indices in batches:\n",
    "            \n",
    "            batch_indices = torch.LongTensor(batch_indices).to(device)\n",
    "            \n",
    "            sampled_actor_states = actor_states[batch_indices]\n",
    "            sampled_critic_states = critic_states[batch_indices]\n",
    "            sampled_actions = actions[batch_indices]\n",
    "            sampled_old_log_probs = old_log_probs[batch_indices]\n",
    "            sampled_rewards = rewards[batch_indices]\n",
    "            sampled_advantages_normalized = advantages_normalized[batch_indices]\n",
    "        \n",
    "            _, log_probs, dist_entropies = self.actor(sampled_actor_states, sampled_actions)\n",
    "            state_values = self.critic(sampled_critic_states)\n",
    "            state_values = state_values.squeeze()\n",
    "            \n",
    "            ratios = torch.exp(log_probs - sampled_old_log_probs.detach())\n",
    "            \n",
    "            surrogate1 = ratios * sampled_advantages_normalized\n",
    "            surrogate2 = torch.clamp(ratios, 1-self.eps_clip, 1+self.eps_clip) * sampled_advantages_normalized\n",
    "                \n",
    "            policy_loss = -torch.min(surrogate1, surrogate2).mean() - self.entropy_weight * dist_entropies.mean()\n",
    "            value_loss = 0.5 * (sampled_rewards - state_values).pow(2).mean()\n",
    "            \n",
    "            total_loss = policy_loss + value_loss\n",
    "\n",
    "            self.optimizer.zero_grad()\n",
    "            total_loss.backward()\n",
    "            nn.utils.clip_grad_norm_(self.actor.parameters(), self.grad_clip)\n",
    "            nn.utils.clip_grad_norm_(self.critic.parameters(), self.grad_clip)\n",
    "            self.optimizer.step()\n",
    "            \n",
    "            losses.append(total_loss.item())\n",
    "            \n",
    "        self.buffer.reset()\n",
    "            \n",
    "        self.eps_clip *= 1.\n",
    "        self.entropy_weight *= 0.995\n",
    "        \n",
    "        return np.average(losses)\n",
    "    \n",
    "    def save(self, actor_path, critic_path):\n",
    "        \n",
    "        if not os.path.exists('./agents/'): os.makedirs('./agents/')\n",
    "        torch.save(self.actor.state_dict(), actor_path); torch.save(self.critic.state_dict(), critic_path);\n",
    "        \n",
    "    def load(self, actor_path, critic_path):\n",
    "        \n",
    "        self.actor.load_state_dict(torch.load(actor_path)); self.critic.load_state_dict(torch.load(critic_path));"
   ]
  },
  {
   "cell_type": "code",
   "execution_count": null,
   "metadata": {},
   "outputs": [],
   "source": [
    "goalie = PPOAgent(env, mode='Goalie', seed=90); striker = PPOAgent(env, mode='Striker', seed=90);"
   ]
  },
  {
   "cell_type": "markdown",
   "metadata": {},
   "source": [
    "## Train The Agent"
   ]
  },
  {
   "cell_type": "code",
   "execution_count": null,
   "metadata": {},
   "outputs": [],
   "source": [
    "def train_agent(num_episodes=10000):\n",
    "    \n",
    "    all_scores = []\n",
    "    scores_target = 95.0\n",
    "    \n",
    "    trained_agent_scores_window = deque(maxlen=DEQUE_SIZE)\n",
    "    trained_agent_scores_window_wins = deque(maxlen=DEQUE_SIZE)\n",
    "\n",
    "    random_agent_scores_window = deque(maxlen=DEQUE_SIZE)\n",
    "    random_agent_scores_window_wins = deque(maxlen=DEQUE_SIZE)\n",
    "    \n",
    "    draws = deque(maxlen=DEQUE_SIZE)\n",
    "    \n",
    "    # training loop\n",
    "    for i_episode in range(1, num_episodes+1):\n",
    "\n",
    "        env_info = env.reset(train_mode=True)\n",
    "        \n",
    "        goalie_states = env_info[goalie_brain_name].vector_observations\n",
    "        striker_states = env_info[striker_brain_name].vector_observations\n",
    "        \n",
    "        goalie_scores = np.zeros(len(env_info[goalie_brain_name].agents))\n",
    "        striker_scores = np.zeros(len(env_info[striker_brain_name].agents))\n",
    "        \n",
    "        while True:\n",
    "            \n",
    "            trained_goalie_action, trained_goalie_log_prob = goalie.act(goalie_states[TRAINED_AGENT_KEY])\n",
    "            trained_striker_action, trained_striker_log_prob = striker.act(striker_states[TRAINED_AGENT_KEY])\n",
    "            \n",
    "            random_goalie_action = np.asarray([np.random.choice(goalie_action_size)])\n",
    "            random_striker_action = np.asarray([np.random.choice(striker_action_size)])\n",
    "            \n",
    "            goalie_actions = np.array((trained_goalie_action, random_goalie_action))\n",
    "            striker_actions = np.array((trained_striker_action, random_striker_action))\n",
    "            \n",
    "            actions = dict(zip([goalie_brain_name, striker_brain_name], [goalie_actions, striker_actions]))\n",
    "            \n",
    "            env_info = env.step(actions)\n",
    "            \n",
    "            # agents get next states\n",
    "            goalie_next_states = env_info[goalie_brain_name].vector_observations\n",
    "            striker_next_states = env_info[striker_brain_name].vector_observations\n",
    "            \n",
    "            # agents get rewards\n",
    "            goalie_rewards = env_info[goalie_brain_name].rewards\n",
    "            striker_rewards = env_info[striker_brain_name].rewards\n",
    "            \n",
    "            # agents update scores\n",
    "            goalie_scores += goalie_rewards\n",
    "            striker_scores += striker_rewards\n",
    "            \n",
    "            # agents memorize experiences\n",
    "            trained_goalie_reward = goalie_rewards[TRAINED_AGENT_KEY]\n",
    "            goalie.memorize(goalie_states[TRAINED_AGENT_KEY], \n",
    "                            np.concatenate((goalie_states[TRAINED_AGENT_KEY], \n",
    "                                            striker_states[TRAINED_AGENT_KEY], \n",
    "                                            goalie_states[RANDOM_AGENT_KEY], \n",
    "                                            striker_states[RANDOM_AGENT_KEY]), axis=0), trained_goalie_action, trained_goalie_log_prob, trained_goalie_reward)\n",
    "            \n",
    "            trained_striker_reward = striker_rewards[TRAINED_AGENT_KEY]\n",
    "            striker.memorize(striker_states[TRAINED_AGENT_KEY], \n",
    "                             np.concatenate((striker_states[TRAINED_AGENT_KEY], \n",
    "                                             goalie_states[TRAINED_AGENT_KEY], \n",
    "                                             striker_states[RANDOM_AGENT_KEY], \n",
    "                                             goalie_states[RANDOM_AGENT_KEY]), axis=0), trained_striker_action, trained_striker_log_prob, trained_striker_reward)\n",
    "            \n",
    "            # agents roll over states to next states\n",
    "            goalie_states = goalie_next_states\n",
    "            striker_states = striker_next_states\n",
    "            \n",
    "            # check if episode finished\n",
    "            done = np.any(env_info[goalie_brain_name].local_done)\n",
    "            if done: break  \n",
    "\n",
    "        # agents learn from collected experiences\n",
    "        goalie_loss = goalie.learn()\n",
    "        striker_loss = striker.learn()\n",
    "\n",
    "        # agents record scores\n",
    "        trained_agent_score = goalie_scores[TRAINED_AGENT_KEY] + striker_scores[TRAINED_AGENT_KEY]\n",
    "        trained_agent_scores_window.append(trained_agent_score)\n",
    "        trained_agent_scores_window_wins.append(1 if trained_agent_score > 0 else 0)\n",
    "\n",
    "        random_agent_score = goalie_scores[RANDOM_AGENT_KEY] + striker_scores[RANDOM_AGENT_KEY]\n",
    "        random_agent_scores_window.append(random_agent_score)\n",
    "        random_agent_scores_window_wins.append(1 if random_agent_score > 0 else 0)\n",
    "\n",
    "        draws.append(trained_agent_score == random_agent_score)\n",
    "\n",
    "        print(f'\\rEpisode: {i_episode}, Goalie Loss: {goalie_loss:.4f}, Striker Loss: {striker_loss:.4f}')\n",
    "        print(f'Red Wins: {np.count_nonzero(trained_agent_scores_window_wins)}, Score: {trained_agent_score:.4f}, Average Score: {np.sum(trained_agent_scores_window):.4f}')\n",
    "        print(f'Blue Wins: {np.count_nonzero(random_agent_scores_window_wins)}, Score: {random_agent_score:.4f}, Average Score: {np.sum(random_agent_scores_window):.4f}')\n",
    "        print(f'Draws: {np.count_nonzero(draws)}\\n')\n",
    "\n",
    "        all_scores.append(np.sum(trained_agent_scores_window))\n",
    "        \n",
    "        if i_episode == 1 or i_episode == 50 or i_episode == 100 or i_episode == 1000 or i_episode == 2000 or i_episode == 4000:\n",
    "            goalie.save(f'./agents/Actor_{goalie_brain_name}_episode{i_episode}.pth', f'./agents/Critic_{goalie_brain_name}_episode{i_episode}.pth')\n",
    "            striker.save(f'./agents/Actor_{striker_brain_name}_episode{i_episode}.pth', f'./agents/Critic_{striker_brain_name}_episode{i_episode}.pth')\n",
    "            \n",
    "        if np.count_nonzero(trained_agent_scores_window_wins) >= scores_target:\n",
    "            print(f'\\rEnvironment solved in {i_episode-100:d} episodes!')\n",
    "            print(f'Red Wins: {np.count_nonzero(trained_agent_scores_window_wins)}, Score: {trained_agent_score:.4f}, Average Score: {np.sum(trained_agent_scores_window):.4f}')\n",
    "            print(f'Blue Wins: {np.count_nonzero(random_agent_scores_window_wins)}, Score: {random_agent_score:.4f}, Average Score: {np.sum(random_agent_scores_window):.4f}')\n",
    "            print(f'Draws: {np.count_nonzero(draws)}\\n')\n",
    "            break\n",
    "    \n",
    "    goalie.save(f'./agents/Actor_{goalie_brain_name}.pth', f'./agents/Critic_{goalie_brain_name}.pth')\n",
    "    striker.save(f'./agents/Actor_{striker_brain_name}.pth', f'./agents/Critic_{striker_brain_name}.pth')\n",
    "    print('Training completed.')\n",
    "     \n",
    "    return all_scores"
   ]
  },
  {
   "cell_type": "code",
   "execution_count": null,
   "metadata": {},
   "outputs": [],
   "source": [
    "scores = train_agent(num_episodes=10000)"
   ]
  },
  {
   "cell_type": "markdown",
   "metadata": {},
   "source": [
    "## Evaluate The Agent"
   ]
  },
  {
   "cell_type": "code",
   "execution_count": null,
   "metadata": {
    "collapsed": true
   },
   "outputs": [],
   "source": [
    "plt.figure(figsize=(10,5))\n",
    "plt.plot(np.arange(len(scores)), scores, color='green')\n",
    "plt.xlabel('Num of episodes')\n",
    "plt.ylabel('Score')\n",
    "if not os.path.exists('./images/'): os.makedirs('./images/')\n",
    "plt.savefig('./images/plot_of_ppo_evaluation.png')\n",
    "plt.show()"
   ]
  },
  {
   "cell_type": "markdown",
   "metadata": {},
   "source": [
    "## 🎬 Watch The Smart Agent"
   ]
  },
  {
   "cell_type": "code",
   "execution_count": null,
   "metadata": {
    "collapsed": true
   },
   "outputs": [],
   "source": [
    "def watch_agent(self, goalie, striker, num_episodes=10):\n",
    "        \n",
    "    trained_agent_scores_window = deque(maxlen=PRINT_EVERY)\n",
    "    trained_agent_scores_window_wins = deque(maxlen=PRINT_EVERY)\n",
    "\n",
    "    random_agent_scores_window = deque(maxlen=PRINT_EVERY)\n",
    "    random_agent_scores_window_wins = deque(maxlen=PRINT_EVERY)\n",
    "\n",
    "    draws = deque(maxlen=PRINT_EVERY)\n",
    "\n",
    "    # training loop\n",
    "    for i_episode in range(1, num_episodes+1):\n",
    "\n",
    "        env_info = env.reset(train_mode=True)\n",
    "\n",
    "        goalie_states = env_info[goalie_brain_name].vector_observations\n",
    "        striker_states = env_info[striker_brain_name].vector_observations\n",
    "\n",
    "        goalie_scores = np.zeros(len(env_info[goalie_brain_name].agents))\n",
    "        striker_scores = np.zeros(len(env_info[striker_brain_name].agents))\n",
    "\n",
    "        while True:\n",
    "\n",
    "            trained_goalie_action, trained_goalie_log_prob = goalie.act(goalie_states[TRAINED_AGENT_KEY])\n",
    "            trained_striker_action, trained_striker_log_prob = striker.act(striker_states[TRAINED_AGENT_KEY])\n",
    "\n",
    "            random_goalie_action = np.asarray([np.random.choice(goalie_action_size)])\n",
    "            random_striker_action = np.asarray([np.random.choice(striker_action_size)])\n",
    "\n",
    "            goalie_actions = np.array((trained_goalie_action, random_goalie_action))\n",
    "            striker_actions = np.array((trained_striker_action, random_striker_action))\n",
    "\n",
    "            actions = dict(zip([goalie_brain_name, striker_brain_name], [goalie_actions, striker_actions]))\n",
    "\n",
    "            env_info = env.step(actions)\n",
    "\n",
    "            # agents get next states\n",
    "            goalie_next_states = env_info[goalie_brain_name].vector_observations\n",
    "            striker_next_states = env_info[striker_brain_name].vector_observations\n",
    "\n",
    "            # agents get rewards\n",
    "            goalie_rewards = env_info[goalie_brain_name].rewards\n",
    "            striker_rewards = env_info[striker_brain_name].rewards\n",
    "\n",
    "            # agents update scores\n",
    "            goalie_scores += goalie_rewards\n",
    "            striker_scores += striker_rewards\n",
    "\n",
    "            # agents roll over states to next states\n",
    "            goalie_states = goalie_next_states\n",
    "            striker_states = striker_next_states\n",
    "\n",
    "            # check if episode finished\n",
    "            done = np.any(env_info[goalie_brain_name].local_done)\n",
    "            if done: break\n",
    "\n",
    "        # agents record scores\n",
    "        trained_agent_score = goalie_scores[TRAINED_AGENT_KEY] + striker_scores[TRAINED_AGENT_KEY]\n",
    "        trained_agent_scores_window.append(trained_agent_score)\n",
    "        trained_agent_scores_window_wins.append(1 if trained_agent_score > 0 else 0)\n",
    "\n",
    "        random_agent_score = goalie_scores[RANDOM_AGENT_KEY] + striker_scores[RANDOM_AGENT_KEY]\n",
    "        random_agent_scores_window.append(random_agent_score)\n",
    "        random_agent_scores_window_wins.append(1 if random_agent_score > 0 else 0)\n",
    "\n",
    "        draws.append(trained_agent_score == random_agent_score)\n",
    "\n",
    "        print(f'\\rEpisode: {i_episode}, Goalie Loss: {goalie_loss:.4f}, Striker Loss: {striker_loss:.4f}')\n",
    "        print(f'Red Wins: {np.count_nonzero(trained_agent_scores_window_wins)}, Score: {trained_agent_score:.4f}, Average Score: {np.sum(trained_agent_scores_window):.4f}')\n",
    "        print(f'Blue Wins: {np.count_nonzero(random_agent_scores_window_wins)}, Score: {random_agent_score:.4f}, Average Score: {np.sum(random_agent_scores_window):.4f}')\n",
    "        print(f'Draws: {np.count_nonzero(draws)}\\n')"
   ]
  },
  {
   "cell_type": "code",
   "execution_count": null,
   "metadata": {
    "collapsed": true
   },
   "outputs": [],
   "source": [
    "goalie.load(f'./agents/Actor_{goalie_brain_name}.pth', f'./agents/Critic_{goalie_brain_name}.pth');\n",
    "striker.load(f'./agents/Actor_{striker_brain_name}.pth', f'./agents/Critic_{striker_brain_name}.pth');"
   ]
  },
  {
   "cell_type": "code",
   "execution_count": null,
   "metadata": {
    "collapsed": true
   },
   "outputs": [],
   "source": [
    "watch_agent(goalie, striker, num_episodes=10)"
   ]
  },
  {
   "cell_type": "markdown",
   "metadata": {},
   "source": [
    "---"
   ]
  }
 ],
 "metadata": {
  "kernelspec": {
   "display_name": "Python 3",
   "language": "python",
   "name": "python3"
  },
  "language_info": {
   "codemirror_mode": {
    "name": "ipython",
    "version": 3
   },
   "file_extension": ".py",
   "mimetype": "text/x-python",
   "name": "python",
   "nbconvert_exporter": "python",
   "pygments_lexer": "ipython3",
   "version": "3.6.7"
  }
 },
 "nbformat": 4,
 "nbformat_minor": 2
}
