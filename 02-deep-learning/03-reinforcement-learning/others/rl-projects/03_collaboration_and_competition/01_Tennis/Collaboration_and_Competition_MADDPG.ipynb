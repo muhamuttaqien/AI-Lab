{
 "cells": [
  {
   "cell_type": "code",
   "execution_count": null,
   "metadata": {
    "collapsed": true
   },
   "outputs": [],
   "source": [
    "import os\n",
    "import random\n",
    "import numpy as np\n",
    "import matplotlib.pyplot as plt\n",
    "from time import sleep\n",
    "from IPython.display import clear_output\n",
    "from collections import namedtuple, deque\n",
    "\n",
    "from unityagents import UnityEnvironment"
   ]
  },
  {
   "cell_type": "code",
   "execution_count": null,
   "metadata": {
    "collapsed": true
   },
   "outputs": [],
   "source": [
    "import torch\n",
    "import torch.nn as nn\n",
    "import torch.optim as optim\n",
    "import torch.nn.functional as F\n",
    "import torchvision.transforms as T"
   ]
  },
  {
   "cell_type": "code",
   "execution_count": null,
   "metadata": {
    "collapsed": true
   },
   "outputs": [],
   "source": [
    "from noise import OUNoise\n",
    "from buffer import ReplayBuffer\n",
    "from model import PolicyNetwork, ValueNetwork, ActorCriticNetwork"
   ]
  },
  {
   "cell_type": "code",
   "execution_count": null,
   "metadata": {
    "collapsed": true
   },
   "outputs": [],
   "source": [
    "import warnings\n",
    "warnings.simplefilter('ignore', UserWarning)"
   ]
  },
  {
   "cell_type": "code",
   "execution_count": null,
   "metadata": {
    "collapsed": true
   },
   "outputs": [],
   "source": [
    "plt.style.use('ggplot')"
   ]
  },
  {
   "cell_type": "markdown",
   "metadata": {},
   "source": [
    "## Set Configs"
   ]
  },
  {
   "cell_type": "code",
   "execution_count": null,
   "metadata": {
    "collapsed": true
   },
   "outputs": [],
   "source": [
    "is_cuda = torch.cuda.is_available()\n",
    "\n",
    "if is_cuda: device = torch.device('cuda')\n",
    "else: device = torch.device('cpu')"
   ]
  },
  {
   "cell_type": "code",
   "execution_count": null,
   "metadata": {
    "collapsed": true
   },
   "outputs": [],
   "source": [
    "BUFFER_SIZE = int(1e4)\n",
    "BATCH_SIZE = 256\n",
    "GAMMA = 0.99\n",
    "TAU = 1e-3\n",
    "PRINT_EVERY = 100\n",
    "UPDATE_EVERY = 2\n",
    "\n",
    "# actor & critic network have different learning rates\n",
    "LR_ACTOR = 1e-4\n",
    "LR_CRITIC = 1e-3\n",
    "WEIGHT_DECAY = 0 # L2 weight decay\n",
    "\n",
    "# noise settings\n",
    "NOISE_START = 1.0\n",
    "NOISE_DECAY = 1.0\n",
    "TIME_STOP_NOISE = int(3e4)"
   ]
  },
  {
   "cell_type": "markdown",
   "metadata": {},
   "source": [
    "## Set Environment"
   ]
  },
  {
   "cell_type": "code",
   "execution_count": null,
   "metadata": {},
   "outputs": [],
   "source": [
    "env = UnityEnvironment(file_name='./Tennis.app')\n",
    "\n",
    "brain_name = env.brain_names[0] # get the brain from unity environment\n",
    "brain = env.brains[brain_name]"
   ]
  },
  {
   "cell_type": "code",
   "execution_count": null,
   "metadata": {},
   "outputs": [],
   "source": [
    "print('Environment Info')\n",
    "env_info = env.reset(train_mode=False)[brain_name] # reset environment to a new, random state\n",
    "state = env_info.vector_observations\n",
    "action_size = brain.vector_action_space_size\n",
    "\n",
    "print('Number of agents: {}'.format(len(env_info.agents)))\n",
    "print('State space: {}'.format(state.shape[1]))\n",
    "print('Action space: {}'.format(action_size))"
   ]
  },
  {
   "cell_type": "markdown",
   "metadata": {},
   "source": [
    "## Define [MADDPG](https://arxiv.org/pdf/1706.02275.pdf) Agent"
   ]
  },
  {
   "cell_type": "code",
   "execution_count": null,
   "metadata": {
    "collapsed": true
   },
   "outputs": [],
   "source": [
    "class DDPGAgent():\n",
    "    \"\"\"The Agent that will interacts with and learns from the environment.\"\"\"\n",
    "\n",
    "    def __init__(self, agent_id, model, state_size, action_size, seed):\n",
    "        \"\"\"Initialize an DDPG Agent object.\"\"\"\n",
    "        \n",
    "        self.agent_id = agent_id\n",
    "        \n",
    "        self.state_size = state_size\n",
    "        self.action_size = action_size\n",
    "        \n",
    "        self.lr_actor = LR_ACTOR\n",
    "        self.lr_critic = LR_CRITIC\n",
    "        self.weight_decay = WEIGHT_DECAY\n",
    "        self.tau = TAU\n",
    "        \n",
    "        # initialize actor and critic networks\n",
    "        self.actor = model.actor.to(device)\n",
    "        self.actor_target = model.actor_target.to(device)\n",
    "        \n",
    "        self.critic = model.critic.to(device)\n",
    "        self.critic_target = model.critic_target.to(device)\n",
    "            \n",
    "        # set optimizers\n",
    "        self.actor_optimizer = optim.Adam(self.actor.parameters(), lr=self.lr_actor)\n",
    "        self.critic_optimizer = optim.Adam(self.critic.parameters(), lr=self.lr_critic, weight_decay=self.weight_decay)\n",
    "        \n",
    "        # initialize actor & critic target networks\n",
    "        self.soft_update(self.actor, self.actor_target, 1)\n",
    "        self.soft_update(self.critic, self.critic_target, 1)\n",
    "        \n",
    "        # introduce noise process\n",
    "        self.noise = OUNoise(self.action_size, seed)\n",
    "        \n",
    "    def act(self, states, noise_weight=1.0, add_noise=True):\n",
    "        \"\"\"Return action for given state as per current policy.\"\"\"\n",
    "        \n",
    "        states = torch.FloatTensor(states).to(device)\n",
    "        self.actor.eval()\n",
    "        with torch.no_grad():\n",
    "            actions = self.actor(states).cpu().data.numpy()\n",
    "        self.actor.train()\n",
    "        \n",
    "        if add_noise==True:\n",
    "            actions += self.noise.sample() * noise_weight\n",
    "        \n",
    "        actions = np.clip(actions, -1, 1)\n",
    "        \n",
    "        return actions\n",
    "    \n",
    "    def reset(self):\n",
    "        \"\"\"Reset noise parameters.\"\"\"\n",
    "        self.noise.reset()\n",
    "        \n",
    "    def learn(self, agent_id, experiences, gamma, all_actions, all_next_actions):\n",
    "        \"\"\"Update policy and value parameters using given batch of experience tuples.\"\"\"\n",
    "        \n",
    "        states, actions, rewards, next_states, dones = experiences\n",
    "        \n",
    "        # get the agent id\n",
    "        agent_id = torch.tensor([agent_id]).to(device)\n",
    "        \n",
    "        # obtain Q expected\n",
    "        Q_expected = self.critic(states, actions)\n",
    "        \n",
    "        next_actions = torch.cat(all_next_actions, dim=1).to(device)\n",
    "        Q_target_next = self.critic_target(next_states, next_actions)\n",
    "        \n",
    "        # compute Q target\n",
    "        Q_targets = rewards + (gamma * Q_target_next * (1 - dones))\n",
    "        Q_targets = rewards.index_select(1, agent_id) + (gamma * Q_target_next * (1 - dones.index_select(1, agent_id)))\n",
    "        \n",
    "        # compute value loss\n",
    "        value_loss = F.mse_loss(Q_expected, Q_targets)\n",
    "        \n",
    "        # minimize critic loss\n",
    "        self.critic_optimizer.zero_grad()\n",
    "        value_loss.backward()\n",
    "        self.critic_optimizer.step()\n",
    "        \n",
    "        # detach actions from other agents\n",
    "        actions_pred = [actions if i == self.agent_id else actions for i, actions in enumerate(all_actions)]\n",
    "        actions_pred = torch.cat(actions_pred, dim=1).to(device)\n",
    "        \n",
    "        # update actor\n",
    "        policy_loss = -self.critic(states, actions_pred).mean()\n",
    "        \n",
    "        # minimize policy loss\n",
    "        self.actor_optimizer.zero_grad()\n",
    "        policy_loss.backward()\n",
    "        self.actor_optimizer.step()\n",
    "        \n",
    "        # softly update target networks\n",
    "        self.soft_update(self.actor, self.actor_target, self.tau)\n",
    "        self.soft_update(self.critic, self.critic_target, self.tau)\n",
    "        \n",
    "    def soft_update(self, local_model, target_model, tau):\n",
    "        \"\"\"Softly update model parameters.\"\"\"\n",
    "        \n",
    "        for local_param, target_param in zip(local_model.parameters(), target_model.parameters()):\n",
    "            target_param.data.copy_(local_param.data * tau + target_param.data * (1.0 - tau))"
   ]
  },
  {
   "cell_type": "code",
   "execution_count": null,
   "metadata": {
    "collapsed": true
   },
   "outputs": [],
   "source": [
    "class MADDPGAgent():\n",
    "    \"\"\"The Agent that will interacts with and learns from the environment.\"\"\"\n",
    "    \n",
    "    def __init__(self, env, num_agents, seed):\n",
    "        \"\"\"Initialize an MADDPG Agent object.\"\"\"\n",
    "        \n",
    "        self.brain = env.brains[env.brain_names[0]] # get the brain from unity environment\n",
    "        \n",
    "        self.env_info = env.reset(train_mode=False)[brain_name]\n",
    "                \n",
    "        self.state_size = env_info.vector_observations.shape[1]\n",
    "        self.action_size = self.brain.vector_action_space_size\n",
    "        \n",
    "        self.num_agents = num_agents\n",
    "        \n",
    "        self.buffer_size = BUFFER_SIZE\n",
    "        self.batch_size = BATCH_SIZE\n",
    "        self.gamma = GAMMA\n",
    "        self.noise_weight = NOISE_START\n",
    "        self.noise_decay = NOISE_DECAY\n",
    "        self.time_stop_noise = TIME_STOP_NOISE\n",
    "        self.is_noise_on = True\n",
    "        \n",
    "        # create agents, each with their own actor and critic\n",
    "        models = [ActorCriticNetwork(self.num_agents, self.state_size, self.action_size, seed) for _ in range(self.num_agents)]\n",
    "        self.agents = [DDPGAgent(i, models[i], self.state_size, self.action_size, seed) for i in range(self.num_agents)]\n",
    "        \n",
    "        # set buffer\n",
    "        self.buffer = ReplayBuffer(BUFFER_SIZE, BATCH_SIZE, seed)\n",
    "        self.time_step = 0\n",
    "        \n",
    "    def act(self, all_states, add_noise=True):\n",
    "        \n",
    "        # pass each agent's state from the environment and calculate its action\n",
    "        all_actions = []\n",
    "        for agent, state in zip(self.agents, all_states):\n",
    "            actions = agent.act(state, noise_weight=self.noise_weight, add_noise=self.is_noise_on)\n",
    "            self.noise_weight *= self.noise_decay\n",
    "            all_actions.append(actions)\n",
    "        \n",
    "        actions = np.array(all_actions).reshape(1, -1) # reshape 2x2 into 1x4 dimension vector\n",
    "        \n",
    "        return actions\n",
    "        \n",
    "    def step(self, all_states, all_actions, all_rewards, all_next_states, all_dones):\n",
    "        \n",
    "        all_states = all_states.reshape(1, -1) # reshape 2x24 into 1x48 dimension vector\n",
    "        all_next_states = all_next_states.reshape(1, -1) # reshape 2x24 into 1x48 dimension vector\n",
    "        \n",
    "        self.buffer.add(all_states, all_actions, all_rewards, all_next_states, all_dones)\n",
    "        \n",
    "        # if time stop noise are achieved then turning off the noise\n",
    "        if self.time_step > self.time_stop_noise:\n",
    "            self.is_noise_on = False\n",
    "            \n",
    "        # learn every UPDATE_EVERY time steps\n",
    "        self.time_step = (self.time_step + 1) % UPDATE_EVERY\n",
    "        \n",
    "        if self.time_step == 0:\n",
    "            # if enough samples are available in memory, get random subset and learn\n",
    "            if len(self.buffer) > BATCH_SIZE:\n",
    "                # sample from the replay buffer of each agent\n",
    "                experiences = [self.buffer.sample() for _ in range(self.num_agents)]\n",
    "                self.learn(experiences, self.gamma)\n",
    "                \n",
    "    def learn(self, experiences, gamma):\n",
    "        \n",
    "        # each agent uses its own actor to calculate next actions\n",
    "        all_actions = []\n",
    "        all_next_actions = []\n",
    "\n",
    "        for i, agent in enumerate(self.agents):\n",
    "            \n",
    "            states, _, _, next_states, _ = experiences[i]\n",
    "            agent_id = torch.tensor([i]).to(device)\n",
    "            \n",
    "            # extract agent i's state and get action via actor network\n",
    "            states = states.reshape(-1, 2, 24).index_select(1, agent_id).squeeze(1)\n",
    "            actions = agent.actor(states)\n",
    "            all_actions.append(actions)\n",
    "            \n",
    "            # extract agent i's next state and get action via target action network\n",
    "            next_states = next_states.reshape(-1, 2, 24).index_select(1, agent_id).squeeze(1)\n",
    "            next_actions = agent.actor_target(next_states)\n",
    "            all_next_actions.append(next_actions)\n",
    "            \n",
    "        # each agent learns from its experience sample\n",
    "        for i, agent in enumerate(self.agents):\n",
    "            agent.learn(i, experiences[i], gamma, all_next_actions, all_actions)\n",
    "    \n",
    "    def save(self, actor_path, critic_path):\n",
    "        \"\"\"Save trained agent.\"\"\"\n",
    "        if not os.path.exists('./agents/'): os.makedirs('./agents/')\n",
    "        \n",
    "        # save actor and critic for each agent\n",
    "        for i, agent in enumerate(self.agents):\n",
    "            torch.save(agent.actor.state_dict(), f'{i}_{actor_path}'); torch.save(agent.critic.state_dict(), f'{i}_{critic_path}')"
   ]
  },
  {
   "cell_type": "code",
   "execution_count": null,
   "metadata": {},
   "outputs": [],
   "source": [
    "agent = MADDPGAgent(env, num_agents=3, seed=90)"
   ]
  },
  {
   "cell_type": "markdown",
   "metadata": {},
   "source": [
    "## Train The Agent"
   ]
  },
  {
   "cell_type": "code",
   "execution_count": null,
   "metadata": {
    "collapsed": true
   },
   "outputs": [],
   "source": [
    "def train_agent(num_episodes=5000, max_time=1000):\n",
    "    \"\"\"Train MADDPG agent.\"\"\"\n",
    "    \n",
    "    all_scores = []\n",
    "    scores_target = 0.5\n",
    "    scores_window = deque(maxlen=PRINT_EVERY)\n",
    "    \n",
    "    for i_episode in range(1, num_episodes+1):\n",
    "        \n",
    "        all_rewards = []\n",
    "        env_info = env.reset(train_mode=True)[brain_name]\n",
    "        states = env_info.vector_observations\n",
    "        \n",
    "        for time_step in range(max_time):\n",
    "            \n",
    "            actions = agent.act(states, add_noise=True)\n",
    "            env_info = env.step(actions)[brain_name]\n",
    "            next_states, rewards, dones = env_info.vector_observations, env_info.rewards, env_info.local_done\n",
    "            \n",
    "            agent.step(states, actions, rewards, next_states, dones)\n",
    "            states = next_states\n",
    "            all_rewards.append(rewards)\n",
    "            if any(dones):\n",
    "                break\n",
    "        \n",
    "        # calculate episode reward as maximum of individually collected rewards of agents\n",
    "        episode_reward = np.max(np.sum(np.array(all_rewards), axis=0))\n",
    "        \n",
    "        all_scores.append(episode_reward) # save most recent score to overall score\n",
    "        scores_window.append(episode_reward) # save most recent score to running window of last window scores\n",
    "        \n",
    "        print(f'\\rEpisode: {i_episode}, Average Score: {np.mean(scores_window):.2f}', end='')\n",
    "        \n",
    "        if i_episode % PRINT_EVERY == 0:\n",
    "            print(f'\\rEpisode: {i_episode}, Average Score: {np.mean(scores_window):.2f}')\n",
    "        if np.mean(scores_window) >= scores_target:\n",
    "            print(f'\\nEnvironment solved in {i_episode-100:d} episodes! Average Score: {np.mean(scores_window):.2f}')\n",
    "            if not os.path.exists('./agents/'): os.makedirs('./agents/')\n",
    "            agent.save(f'./agents/ACTOR_{brain_name}.pth', f'./agents/CRITIC_{brain_name}.pth')\n",
    "            break\n",
    "            \n",
    "    print('Training completed.')\n",
    "    return all_scores"
   ]
  },
  {
   "cell_type": "code",
   "execution_count": null,
   "metadata": {},
   "outputs": [],
   "source": [
    "all_scores = train_agent(num_episodes=5000, max_time=1000)"
   ]
  },
  {
   "cell_type": "markdown",
   "metadata": {},
   "source": [
    "## Evaluate The Agent"
   ]
  },
  {
   "cell_type": "code",
   "execution_count": null,
   "metadata": {
    "collapsed": true
   },
   "outputs": [],
   "source": [
    "plt.figure(figsize=(10,5))\n",
    "plt.plot(np.arange(len(all_scores)), all_scores, color='green')\n",
    "plt.xlabel('Num of episodes')\n",
    "plt.ylabel('Score')\n",
    "if not os.path.exists('./images/'): os.makedirs('./images/')\n",
    "plt.savefig('./images/plot_of_ddpg_evaluation.png')\n",
    "plt.show()"
   ]
  },
  {
   "cell_type": "markdown",
   "metadata": {},
   "source": [
    "## 🎬 Watch The Agent"
   ]
  },
  {
   "cell_type": "code",
   "execution_count": null,
   "metadata": {
    "collapsed": true
   },
   "outputs": [],
   "source": []
  },
  {
   "cell_type": "markdown",
   "metadata": {},
   "source": [
    "---"
   ]
  }
 ],
 "metadata": {
  "kernelspec": {
   "display_name": "Python 3",
   "language": "python",
   "name": "python3"
  },
  "language_info": {
   "codemirror_mode": {
    "name": "ipython",
    "version": 3
   },
   "file_extension": ".py",
   "mimetype": "text/x-python",
   "name": "python",
   "nbconvert_exporter": "python",
   "pygments_lexer": "ipython3",
   "version": "3.6.7"
  }
 },
 "nbformat": 4,
 "nbformat_minor": 2
}
