{
 "cells": [
  {
   "cell_type": "code",
   "execution_count": 1,
   "metadata": {
    "collapsed": true
   },
   "outputs": [],
   "source": [
    "import os\n",
    "import random\n",
    "import numpy as np\n",
    "import matplotlib.pyplot as plt\n",
    "from time import sleep\n",
    "from IPython.display import clear_output\n",
    "from collections import namedtuple, deque\n",
    "\n",
    "from unityagents import UnityEnvironment"
   ]
  },
  {
   "cell_type": "code",
   "execution_count": 2,
   "metadata": {
    "collapsed": true
   },
   "outputs": [],
   "source": [
    "import torch\n",
    "import torch.nn as nn\n",
    "import torch.optim as optim\n",
    "import torch.nn.functional as F\n",
    "import torchvision.transforms as T"
   ]
  },
  {
   "cell_type": "code",
   "execution_count": 3,
   "metadata": {
    "collapsed": true
   },
   "outputs": [],
   "source": [
    "from buffer import ReplayBuffer\n",
    "from model import PolicyNetwork"
   ]
  },
  {
   "cell_type": "code",
   "execution_count": 4,
   "metadata": {
    "collapsed": true
   },
   "outputs": [],
   "source": [
    "import warnings\n",
    "warnings.simplefilter('ignore', UserWarning)"
   ]
  },
  {
   "cell_type": "code",
   "execution_count": 5,
   "metadata": {
    "collapsed": true
   },
   "outputs": [],
   "source": [
    "plt.style.use('ggplot')"
   ]
  },
  {
   "cell_type": "markdown",
   "metadata": {},
   "source": [
    "## Set Configs"
   ]
  },
  {
   "cell_type": "code",
   "execution_count": 6,
   "metadata": {
    "collapsed": true
   },
   "outputs": [],
   "source": [
    "is_cuda = torch.cuda.is_available()\n",
    "\n",
    "if is_cuda: device = torch.device('cuda')\n",
    "else: device = torch.device('cpu')"
   ]
  },
  {
   "cell_type": "code",
   "execution_count": 7,
   "metadata": {
    "collapsed": true
   },
   "outputs": [],
   "source": [
    "BATCH_SIZE = 1024\n",
    "AGENT_BATCH_SIZE = 32\n",
    "ENTROPY_WEIGHT = 0.01\n",
    "GAMMA = 0.99\n",
    "TAU = 0.99\n",
    "PRINT_EVERY = 10\n",
    "\n",
    "LR = 1e-4\n",
    "EPSILON = 1e-5\n",
    "WEIGHT_DECAY = 1e-4\n",
    "\n",
    "EPS_CLIP = 0.2\n",
    "GRAD_CLIP = 1\n",
    "NOISE_REDUCE = 0.999"
   ]
  },
  {
   "cell_type": "markdown",
   "metadata": {},
   "source": [
    "## Set Environment"
   ]
  },
  {
   "cell_type": "code",
   "execution_count": 8,
   "metadata": {},
   "outputs": [
    {
     "name": "stderr",
     "output_type": "stream",
     "text": [
      "INFO:unityagents:\n",
      "'Academy' started successfully!\n",
      "Unity Academy name: Academy\n",
      "        Number of Brains: 1\n",
      "        Number of External Brains : 1\n",
      "        Lesson number : 0\n",
      "        Reset Parameters :\n",
      "\t\t\n",
      "Unity brain name: CrawlerBrain\n",
      "        Number of Visual Observations (per agent): 0\n",
      "        Vector Observation space type: continuous\n",
      "        Vector Observation space size (per agent): 129\n",
      "        Number of stacked Vector Observation: 1\n",
      "        Vector Action space type: continuous\n",
      "        Vector Action space size (per agent): 20\n",
      "        Vector Action descriptions: , , , , , , , , , , , , , , , , , , , \n"
     ]
    }
   ],
   "source": [
    "env = UnityEnvironment(file_name='./Crawler.app', no_graphics=True)\n",
    "\n",
    "brain_name = env.brain_names[0] # get the brain from unity environment\n",
    "brain = env.brains[brain_name]"
   ]
  },
  {
   "cell_type": "markdown",
   "metadata": {},
   "source": [
    "## Define [PPO](https://arxiv.org/pdf/1707.06347.pdf) Agent"
   ]
  },
  {
   "cell_type": "code",
   "execution_count": 9,
   "metadata": {
    "collapsed": true
   },
   "outputs": [],
   "source": [
    "class PPOAgent():\n",
    "    \"\"\"The Agent that will interacts with and learns from the environment.\"\"\"\n",
    "    \n",
    "    def __init__(self, env, seed):\n",
    "        \"\"\"Initialize an Agent object.\"\"\"\n",
    "        \n",
    "        self.brain = env.brains[env.brain_names[0]] # get the brain from unity environment\n",
    "        \n",
    "        self.env_info = env.reset(train_mode=True)[brain_name]\n",
    "        \n",
    "        self.num_agents = len(self.env_info.agents)\n",
    "        \n",
    "        self.state_size = self.env_info.vector_observations.shape[1]\n",
    "        self.action_size = self.brain.vector_action_space_size\n",
    "        \n",
    "        self.batch_size = BATCH_SIZE\n",
    "        self.entropy_weight = ENTROPY_WEIGHT\n",
    "        self.gamma = GAMMA\n",
    "        self.tau = TAU\n",
    "        self.lr = LR\n",
    "        self.epsilon = EPSILON\n",
    "        self.weight_decay = WEIGHT_DECAY\n",
    "        \n",
    "        self.eps_clip = EPS_CLIP\n",
    "        self.grad_clip = GRAD_CLIP\n",
    "        self.noise_reduce = NOISE_REDUCE\n",
    "        \n",
    "        self.policy = PolicyNetwork(self.state_size, self.action_size, seed).to(device)\n",
    "        self.policy_optimizer = torch.optim.Adam(self.policy.parameters(), lr=self.lr, eps=self.epsilon, weight_decay=self.weight_decay)\n",
    "        \n",
    "        self.trajectory = []\n",
    "        self.std_scale = 1.\n",
    "        \n",
    "        # set buffer\n",
    "        self.buffer = ReplayBuffer(self.batch_size, self.num_agents, seed)\n",
    "    \n",
    "    def act(self, states):\n",
    "        \n",
    "        states = torch.FloatTensor(states).to(device)\n",
    "                    \n",
    "        self.policy.eval()\n",
    "        \n",
    "        with torch.no_grad():\n",
    "            actions, action_log_probs, dist_entropies, state_values = self.policy(states=states, scale=self.std_scale)\n",
    "        \n",
    "        actions = actions.cpu().data.numpy()\n",
    "        \n",
    "        self.policy.train()\n",
    "        \n",
    "        return actions, action_log_probs, state_values, dist_entropies\n",
    "\n",
    "    def memorize_step(self, trajectory):\n",
    "        \n",
    "        self.trajectory.append(trajectory)\n",
    "\n",
    "    def memorize_trajectory(self, states):\n",
    "        \n",
    "        states = torch.FloatTensor(states).to(device)\n",
    "        \n",
    "        _, _, pending_values, _ = self.act(states)\n",
    "        self.trajectory.append([states, pending_values, None, None, None, None])\n",
    "        \n",
    "        processed_trajectory = [None] * (len(self.trajectory) - 1)\n",
    "        advantages = torch.Tensor(np.zeros((self.num_agents, 1))).to(device)\n",
    "        returns = pending_values.detach()\n",
    "        \n",
    "        for i in reversed(range(len(self.trajectory) - 1)):\n",
    "            \n",
    "            states, values, actions, log_probs, rewards, dones = self.trajectory[i]\n",
    "            \n",
    "            states = torch.Tensor(states).to(device)\n",
    "            actions = torch.Tensor(actions).to(device)\n",
    "            rewards = torch.Tensor(rewards).unsqueeze(1).to(device)\n",
    "            dones = torch.Tensor(dones).unsqueeze(1).to(device)\n",
    "            \n",
    "            next_values = self.trajectory[i + 1][1]\n",
    "            returns = rewards + self.gamma * dones * returns\n",
    "            TD_error = rewards + self.gamma * dones * next_values.detach() - values.detach()\n",
    "            advantages = advantages * self.tau * self.gamma * dones + TD_error\n",
    "            \n",
    "            processed_trajectory[i] = [states, actions, log_probs, returns, advantages]\n",
    "            \n",
    "        self.buffer.add(processed_trajectory)\n",
    "        self.trajectory = []\n",
    "        \n",
    "    def learn(self, next_states):\n",
    "\n",
    "        self.memorize_trajectory(next_states)\n",
    "\n",
    "        if len(self.buffer) * self.num_agents >= BATCH_SIZE * AGENT_BATCH_SIZE:\n",
    "\n",
    "            for states, actions, old_log_probs, returns, advantages in self.buffer.sample():\n",
    "                \n",
    "                _, log_probs, state_values, dist_entropies = self.policy(states, actions)\n",
    "                \n",
    "                ratios = torch.exp(log_probs - old_log_probs.detach())\n",
    "                \n",
    "                surrogate1 = ratios * advantages\n",
    "                surrogate2 = torch.clamp(ratios, 1-self.eps_clip, 1+self.eps_clip) * advantages\n",
    "                \n",
    "                policy_loss = -torch.min(surrogate1, surrogate2).mean() - self.entropy_weight * dist_entropies.mean()\n",
    "                value_loss = 0.5 * (returns - state_values).pow(2).mean()\n",
    "                \n",
    "                total_loss = policy_loss + value_loss\n",
    "\n",
    "                self.policy_optimizer.zero_grad()\n",
    "                total_loss.backward()\n",
    "                nn.utils.clip_grad_norm_(self.policy.parameters(), self.grad_clip)\n",
    "                self.policy_optimizer.step()\n",
    "\n",
    "            self.buffer.reset()\n",
    "            \n",
    "        self.std_scale = self.std_scale * self.noise_reduce\n",
    "        \n",
    "    def save(self, policy_path):\n",
    "        \n",
    "        if not os.path.exists('./agents/'): os.makedirs('./agents/')\n",
    "        torch.save(self.policy.state_dict(), policy_path)\n",
    "        \n",
    "    def load(self, policy_path):\n",
    "        \n",
    "        self.policy.load_state_dict(torch.load(policy_path));\n",
    "        \n",
    "    def watch(self, num_episodes=10, max_time=2000):\n",
    "        \n",
    "        for i_episode in range(1, num_episodes+1):\n",
    "\n",
    "            env_info = env.reset(train_mode=False)[brain_name]\n",
    "            states = env_info.vector_observations\n",
    "\n",
    "            agent_scores = np.zeros(len(env_info.agents))\n",
    "\n",
    "            for time_step in range(max_time):\n",
    "\n",
    "                actions, log_probs, state_values, _ = agent.act(states)\n",
    "            \n",
    "                env_info = env.step(actions)[brain_name]\n",
    "                next_states, rewards, dones = env_info.vector_observations, env_info.rewards, env_info.local_done\n",
    "                dones = np.array([1 if time_step else 0 for time_step in dones])\n",
    "\n",
    "                states = next_states\n",
    "                agent_scores += rewards\n",
    "\n",
    "            print(f'\\rEpisode: {i_episode}, Average Score: {np.mean(agent_scores):.3f}, Max Score: {np.max(agent_scores):.3f}')\n",
    "\n",
    "        env.close()"
   ]
  },
  {
   "cell_type": "code",
   "execution_count": 10,
   "metadata": {
    "collapsed": true
   },
   "outputs": [],
   "source": [
    "agent = PPOAgent(env, seed=90)"
   ]
  },
  {
   "cell_type": "markdown",
   "metadata": {},
   "source": [
    "## Train The Agent"
   ]
  },
  {
   "cell_type": "code",
   "execution_count": 11,
   "metadata": {
    "collapsed": true
   },
   "outputs": [],
   "source": [
    "def train_agent(num_episodes=2000, max_time=2000):\n",
    "    \n",
    "    all_scores = []\n",
    "    scores_target = 1250.0\n",
    "    scores_window = deque(maxlen=PRINT_EVERY)\n",
    "    \n",
    "    # training loop\n",
    "    for i_episode in range(1, num_episodes+1):\n",
    "\n",
    "        env_info = env.reset(train_mode=True)[brain_name]\n",
    "        states = env_info.vector_observations\n",
    "        \n",
    "        agent_scores = np.zeros(len(env_info.agents))\n",
    "        \n",
    "        for time_step in range(max_time):\n",
    "            \n",
    "            actions, log_probs, state_values, _ = agent.act(states)\n",
    "            \n",
    "            env_info = env.step(actions)[brain_name]\n",
    "            next_states, rewards, dones = env_info.vector_observations, env_info.rewards, env_info.local_done\n",
    "            dones = np.array([1 if time_step else 0 for time_step in dones])\n",
    "            \n",
    "            agent.memorize_step([states, state_values.detach(), actions, log_probs.detach(), rewards, 1-dones])\n",
    "            states = next_states\n",
    "            agent_scores += rewards\n",
    "            \n",
    "            if all(dones):\n",
    "                agent.learn(next_states)\n",
    "                break\n",
    "        \n",
    "        scores_window.append(np.mean(agent_scores))\n",
    "        all_scores.append(np.mean(scores_window))\n",
    "        \n",
    "        print(f'\\rEpisode: {i_episode}, Average Score: {np.mean(agent_scores):.3f}, Max Score: {np.max(scores_window):.3f}', end='')\n",
    "        \n",
    "        if i_episode % PRINT_EVERY == 0:            \n",
    "            print(f'\\rEpisode: {i_episode}, Average Score: {np.mean(agent_scores):.3f}, Max Score: {np.max(scores_window):.3f}')\n",
    "        \n",
    "        if i_episode == 1 or i_episode == 10 or i_episode == 50 or i_episode == 100 or i_episode == 200 or i_episode == 500:\n",
    "            agent.save(f'./agents/PPO_{brain_name}_episode{i_episode}.pth')\n",
    "            \n",
    "        if np.mean(scores_window) >= scores_target:\n",
    "            print(f'\\nEnvironment solved in {i_episode-100:d} episodes! Average Score: {np.mean(agent_scores):.3f}, Max Score: {np.max(scores_window):.3f}')\n",
    "            break\n",
    "            \n",
    "    agent.save(f'./agents/PPO_{brain_name}.pth')\n",
    "    print('Training completed.')\n",
    "     \n",
    "    return all_scores"
   ]
  },
  {
   "cell_type": "code",
   "execution_count": 12,
   "metadata": {
    "scrolled": false
   },
   "outputs": [
    {
     "name": "stdout",
     "output_type": "stream",
     "text": [
      "Episode: 10, Average Score: 57.560, Max Score: 57.560\n",
      "Episode: 20, Average Score: 61.951, Max Score: 61.951\n",
      "Episode: 30, Average Score: 65.314, Max Score: 66.053\n",
      "Episode: 40, Average Score: 62.255, Max Score: 67.916\n",
      "Episode: 50, Average Score: 72.273, Max Score: 75.526\n",
      "Episode: 60, Average Score: 80.653, Max Score: 81.783\n",
      "Episode: 70, Average Score: 88.132, Max Score: 88.132\n",
      "Episode: 80, Average Score: 91.542, Max Score: 96.504\n",
      "Episode: 90, Average Score: 92.149, Max Score: 102.1533\n",
      "Episode: 100, Average Score: 91.700, Max Score: 115.754\n",
      "Episode: 110, Average Score: 123.402, Max Score: 123.402\n",
      "Episode: 120, Average Score: 122.564, Max Score: 134.217\n",
      "Episode: 130, Average Score: 127.071, Max Score: 145.792\n",
      "Episode: 140, Average Score: 149.329, Max Score: 157.318\n",
      "Episode: 150, Average Score: 160.638, Max Score: 167.446\n",
      "Episode: 160, Average Score: 380.096, Max Score: 380.096\n",
      "Episode: 170, Average Score: 192.383, Max Score: 426.850\n",
      "Episode: 180, Average Score: 244.559, Max Score: 244.559\n",
      "Episode: 190, Average Score: 257.095, Max Score: 263.895\n",
      "Episode: 200, Average Score: 553.932, Max Score: 583.554\n",
      "Episode: 210, Average Score: 657.160, Max Score: 657.891\n",
      "Episode: 220, Average Score: 353.077, Max Score: 693.957\n",
      "Episode: 230, Average Score: 735.578, Max Score: 735.578\n",
      "Episode: 240, Average Score: 731.479, Max Score: 738.065\n",
      "Episode: 250, Average Score: 744.077, Max Score: 753.343\n",
      "Episode: 260, Average Score: 767.319, Max Score: 767.319\n",
      "Episode: 270, Average Score: 766.679, Max Score: 766.679\n",
      "Episode: 280, Average Score: 752.559, Max Score: 788.513\n",
      "Episode: 290, Average Score: 387.423, Max Score: 788.940\n",
      "Episode: 300, Average Score: 784.914, Max Score: 818.005\n",
      "Episode: 310, Average Score: 784.508, Max Score: 821.161\n",
      "Episode: 320, Average Score: 420.484, Max Score: 829.261\n",
      "Episode: 330, Average Score: 835.145, Max Score: 848.314\n",
      "Episode: 340, Average Score: 845.846, Max Score: 850.530\n",
      "Episode: 350, Average Score: 860.518, Max Score: 860.518\n",
      "Episode: 360, Average Score: 432.987, Max Score: 868.551\n",
      "Episode: 370, Average Score: 881.130, Max Score: 881.951\n",
      "Episode: 380, Average Score: 862.884, Max Score: 891.908\n",
      "Episode: 390, Average Score: 873.537, Max Score: 907.400\n",
      "Episode: 400, Average Score: 903.370, Max Score: 912.406\n",
      "Episode: 410, Average Score: 901.707, Max Score: 922.350\n",
      "Episode: 420, Average Score: 903.168, Max Score: 927.245\n",
      "Episode: 430, Average Score: 466.985, Max Score: 929.192\n",
      "Episode: 440, Average Score: 938.936, Max Score: 939.767\n",
      "Episode: 450, Average Score: 969.014, Max Score: 971.018\n",
      "Episode: 460, Average Score: 962.579, Max Score: 975.988\n",
      "Episode: 470, Average Score: 961.014, Max Score: 984.052\n",
      "Episode: 480, Average Score: 964.850, Max Score: 990.458\n",
      "Episode: 490, Average Score: 988.510, Max Score: 1001.1855\n",
      "Episode: 500, Average Score: 1003.142, Max Score: 1003.142\n",
      "Episode: 510, Average Score: 995.366, Max Score: 1006.4977\n",
      "Episode: 520, Average Score: 1001.363, Max Score: 1003.507\n",
      "Episode: 530, Average Score: 502.793, Max Score: 1016.5911\n",
      "Episode: 540, Average Score: 1028.397, Max Score: 1033.791\n",
      "Episode: 550, Average Score: 1036.537, Max Score: 1036.537\n",
      "Episode: 560, Average Score: 1044.918, Max Score: 1053.039\n",
      "Episode: 570, Average Score: 1041.860, Max Score: 1063.313\n",
      "Episode: 580, Average Score: 1052.573, Max Score: 1063.052\n",
      "Episode: 590, Average Score: 1042.368, Max Score: 1062.749\n",
      "Episode: 600, Average Score: 1061.457, Max Score: 1073.497\n",
      "Episode: 610, Average Score: 1068.961, Max Score: 1073.969\n",
      "Episode: 620, Average Score: 1080.917, Max Score: 1090.727\n",
      "Episode: 630, Average Score: 1092.267, Max Score: 1093.048\n",
      "Episode: 640, Average Score: 1113.745, Max Score: 1113.745\n",
      "Episode: 650, Average Score: 1122.127, Max Score: 1122.127\n",
      "Episode: 660, Average Score: 1119.107, Max Score: 1129.087\n",
      "Episode: 670, Average Score: 1125.785, Max Score: 1134.782\n",
      "Episode: 680, Average Score: 557.517, Max Score: 1139.2166\n",
      "Episode: 690, Average Score: 1138.380, Max Score: 1139.263\n",
      "Episode: 700, Average Score: 1152.151, Max Score: 1152.823\n",
      "Episode: 710, Average Score: 1139.472, Max Score: 1155.513\n",
      "Episode: 720, Average Score: 1145.765, Max Score: 1151.011\n",
      "Episode: 730, Average Score: 1177.585, Max Score: 1181.045\n",
      "Episode: 740, Average Score: 1163.712, Max Score: 1185.494\n",
      "Episode: 750, Average Score: 1161.199, Max Score: 1175.970\n",
      "Episode: 760, Average Score: 1147.237, Max Score: 1180.429\n",
      "Episode: 770, Average Score: 1190.131, Max Score: 1191.492\n",
      "Episode: 780, Average Score: 1168.012, Max Score: 1198.195\n",
      "Episode: 790, Average Score: 1197.387, Max Score: 1211.347\n",
      "Episode: 800, Average Score: 1196.050, Max Score: 1202.776\n",
      "Episode: 810, Average Score: 1194.451, Max Score: 1208.105\n",
      "Episode: 820, Average Score: 1183.841, Max Score: 1209.470\n",
      "Episode: 830, Average Score: 1198.770, Max Score: 1204.985\n",
      "Episode: 840, Average Score: 1175.857, Max Score: 1227.206\n",
      "Episode: 850, Average Score: 1174.150, Max Score: 1215.804\n",
      "Episode: 860, Average Score: 1195.769, Max Score: 1220.447\n",
      "Episode: 870, Average Score: 1214.562, Max Score: 1215.251\n",
      "Episode: 880, Average Score: 1205.600, Max Score: 1221.673\n",
      "Episode: 890, Average Score: 1189.205, Max Score: 1212.210\n",
      "Episode: 900, Average Score: 1221.515, Max Score: 1221.515\n",
      "Episode: 910, Average Score: 1210.009, Max Score: 1231.344\n",
      "Episode: 920, Average Score: 1222.778, Max Score: 1233.994\n",
      "Episode: 930, Average Score: 1228.694, Max Score: 1233.495\n",
      "Episode: 940, Average Score: 1223.632, Max Score: 1232.299\n",
      "Episode: 950, Average Score: 1232.814, Max Score: 1245.664\n",
      "Episode: 960, Average Score: 1242.191, Max Score: 1254.931\n",
      "Episode: 968, Average Score: 1262.016, Max Score: 1279.072\n",
      "Environment solved in 868 episodes! Average Score: 1262.016, Max Score: 1279.072\n",
      "Training completed.\n"
     ]
    }
   ],
   "source": [
    "scores = train_agent(num_episodes=2000, max_time=2000)"
   ]
  },
  {
   "cell_type": "markdown",
   "metadata": {},
   "source": [
    "## Evaluate The Agent"
   ]
  },
  {
   "cell_type": "code",
   "execution_count": 13,
   "metadata": {},
   "outputs": [
    {
     "data": {
      "image/png": "[encoded data removed]",
      "text/plain": [
       "<matplotlib.figure.Figure at 0x127175e10>"
      ]
     },
     "metadata": {},
     "output_type": "display_data"
    }
   ],
   "source": [
    "plt.figure(figsize=(10,5))\n",
    "plt.plot(np.arange(len(scores)), scores, color='green')\n",
    "plt.xlabel('Num of episodes')\n",
    "plt.ylabel('Score')\n",
    "if not os.path.exists('./images/'): os.makedirs('./images/')\n",
    "plt.savefig('./images/plot_of_ppo_evaluation.png')\n",
    "plt.show()"
   ]
  },
  {
   "cell_type": "markdown",
   "metadata": {},
   "source": [
    "## 🎬 Watch The Smart Agent"
   ]
  },
  {
   "cell_type": "code",
   "execution_count": 14,
   "metadata": {
    "collapsed": true
   },
   "outputs": [],
   "source": [
    "agent.load(f'./agents/PPO_{brain_name}.pth');"
   ]
  },
  {
   "cell_type": "code",
   "execution_count": 15,
   "metadata": {},
   "outputs": [
    {
     "name": "stdout",
     "output_type": "stream",
     "text": [
      "Episode: 1, Average Score: 1225.077, Max Score: 1333.520\n",
      "Episode: 2, Average Score: 1264.685, Max Score: 1346.988\n",
      "Episode: 3, Average Score: 1238.281, Max Score: 1317.768\n",
      "Episode: 4, Average Score: 1252.618, Max Score: 1325.387\n",
      "Episode: 5, Average Score: 1239.688, Max Score: 1315.445\n",
      "Episode: 6, Average Score: 1270.142, Max Score: 1328.693\n",
      "Episode: 7, Average Score: 1237.903, Max Score: 1310.505\n",
      "Episode: 8, Average Score: 1253.675, Max Score: 1312.996\n",
      "Episode: 9, Average Score: 1232.296, Max Score: 1328.606\n",
      "Episode: 10, Average Score: 1236.112, Max Score: 1315.561\n"
     ]
    }
   ],
   "source": [
    "agent.watch(num_episodes=10)"
   ]
  },
  {
   "cell_type": "markdown",
   "metadata": {
    "collapsed": true
   },
   "source": [
    "---"
   ]
  }
 ],
 "metadata": {
  "kernelspec": {
   "display_name": "Python 3",
   "language": "python",
   "name": "python3"
  },
  "language_info": {
   "codemirror_mode": {
    "name": "ipython",
    "version": 3
   },
   "file_extension": ".py",
   "mimetype": "text/x-python",
   "name": "python",
   "nbconvert_exporter": "python",
   "pygments_lexer": "ipython3",
   "version": "3.6.7"
  }
 },
 "nbformat": 4,
 "nbformat_minor": 2
}
