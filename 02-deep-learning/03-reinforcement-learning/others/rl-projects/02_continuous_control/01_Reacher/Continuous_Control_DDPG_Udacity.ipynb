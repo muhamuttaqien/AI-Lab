{
 "cells": [
  {
   "cell_type": "code",
   "execution_count": 1,
   "metadata": {
    "collapsed": true
   },
   "outputs": [],
   "source": [
    "import os\n",
    "import random\n",
    "import numpy as np\n",
    "import matplotlib.pyplot as plt\n",
    "from time import sleep\n",
    "from IPython.display import clear_output\n",
    "from collections import namedtuple, deque\n",
    "\n",
    "from unityagents import UnityEnvironment"
   ]
  },
  {
   "cell_type": "code",
   "execution_count": 2,
   "metadata": {
    "collapsed": true
   },
   "outputs": [],
   "source": [
    "import torch\n",
    "import torch.nn as nn\n",
    "import torch.optim as optim\n",
    "import torch.nn.functional as F\n",
    "import torchvision.transforms as T"
   ]
  },
  {
   "cell_type": "code",
   "execution_count": 3,
   "metadata": {
    "collapsed": true
   },
   "outputs": [],
   "source": [
    "from noise import OUNoise\n",
    "from buffer import ReplayBuffer\n",
    "from ddpg_model import PolicyNetwork, ValueNetwork"
   ]
  },
  {
   "cell_type": "code",
   "execution_count": 4,
   "metadata": {
    "collapsed": true
   },
   "outputs": [],
   "source": [
    "import warnings\n",
    "warnings.simplefilter('ignore', UserWarning)"
   ]
  },
  {
   "cell_type": "code",
   "execution_count": 5,
   "metadata": {
    "collapsed": true
   },
   "outputs": [],
   "source": [
    "plt.style.use('ggplot')"
   ]
  },
  {
   "cell_type": "markdown",
   "metadata": {},
   "source": [
    "## Set Configs"
   ]
  },
  {
   "cell_type": "code",
   "execution_count": 6,
   "metadata": {
    "collapsed": true
   },
   "outputs": [],
   "source": [
    "is_cuda = torch.cuda.is_available()\n",
    "\n",
    "if is_cuda: device = torch.device('cuda')\n",
    "else: device = torch.device('cpu')"
   ]
  },
  {
   "cell_type": "code",
   "execution_count": 7,
   "metadata": {
    "collapsed": true
   },
   "outputs": [],
   "source": [
    "BUFFER_SIZE = int(1e6)\n",
    "BATCH_SIZE = 512\n",
    "GAMMA = 0.99\n",
    "TAU = 1e-3\n",
    "PRINT_EVERY = 100\n",
    "UPDATE_EVERY = 4\n",
    "\n",
    "# actor & critic network have different learning rates\n",
    "LR_ACTOR = 1e-4\n",
    "LR_CRITIC = 3e-4\n",
    "WEIGHT_DECAY = 0 # L2 weight decay"
   ]
  },
  {
   "cell_type": "markdown",
   "metadata": {},
   "source": [
    "## Set Environment"
   ]
  },
  {
   "cell_type": "code",
   "execution_count": 8,
   "metadata": {},
   "outputs": [
    {
     "name": "stderr",
     "output_type": "stream",
     "text": [
      "INFO:unityagents:\n",
      "'Academy' started successfully!\n",
      "Unity Academy name: Academy\n",
      "        Number of Brains: 1\n",
      "        Number of External Brains : 1\n",
      "        Lesson number : 0\n",
      "        Reset Parameters :\n",
      "\t\tgoal_size -> 5.0\n",
      "\t\tgoal_speed -> 1.0\n",
      "Unity brain name: ReacherBrain\n",
      "        Number of Visual Observations (per agent): 0\n",
      "        Vector Observation space type: continuous\n",
      "        Vector Observation space size (per agent): 33\n",
      "        Number of stacked Vector Observation: 1\n",
      "        Vector Action space type: continuous\n",
      "        Vector Action space size (per agent): 4\n",
      "        Vector Action descriptions: , , , \n"
     ]
    }
   ],
   "source": [
    "env = UnityEnvironment(file_name='./Reacher_1_Agent.app')\n",
    "\n",
    "brain_name = env.brain_names[0] # get the brain from unity environment\n",
    "brain = env.brains[brain_name]"
   ]
  },
  {
   "cell_type": "code",
   "execution_count": 9,
   "metadata": {},
   "outputs": [
    {
     "name": "stdout",
     "output_type": "stream",
     "text": [
      "Environment Info\n",
      "Number of agents: 1\n",
      "State space: 33\n",
      "Action space: 4\n"
     ]
    }
   ],
   "source": [
    "print('Environment Info')\n",
    "env_info = env.reset(train_mode=False)[brain_name] # reset environment to a new, random state\n",
    "state = env_info.vector_observations[0]\n",
    "action_size = brain.vector_action_space_size\n",
    "\n",
    "print('Number of agents: {}'.format(len(env_info.agents)))\n",
    "print('State space: {}'.format(len(state)))\n",
    "print('Action space: {}'.format(action_size))"
   ]
  },
  {
   "cell_type": "markdown",
   "metadata": {},
   "source": [
    "## Define [DDPG](https://arxiv.org/pdf/1509.02971.pdf) Agent"
   ]
  },
  {
   "cell_type": "code",
   "execution_count": 10,
   "metadata": {
    "collapsed": true
   },
   "outputs": [],
   "source": [
    "class DDPGAgent():\n",
    "    \"\"\"The Agent that will interacts with and learns from the environment.\"\"\"\n",
    "    \n",
    "    def __init__(self, env, brain_name, seed):\n",
    "        \"\"\"Initialize an Agent object.\"\"\"\n",
    "        \n",
    "        self.brain = env.brains[env.brain_names[0]] # get the brain from unity environment\n",
    "        \n",
    "        self.env_info = env.reset(train_mode=False)[brain_name]\n",
    "        \n",
    "        self.state_size = len(env_info.vector_observations[0])\n",
    "        self.action_size = self.brain.vector_action_space_size\n",
    "        \n",
    "        self.gamma = GAMMA\n",
    "        self.lr_actor = LR_ACTOR\n",
    "        self.lr_critic = LR_CRITIC\n",
    "        self.weight_decay = WEIGHT_DECAY\n",
    "        self.tau = TAU\n",
    "        \n",
    "        # initialize actor and critic networks\n",
    "        self.actor = PolicyNetwork(self.state_size, self.action_size, seed).to(device)\n",
    "        self.actor_target = PolicyNetwork(self.state_size, self.action_size, seed).to(device)\n",
    "        \n",
    "        self.critic = ValueNetwork(self.state_size, self.action_size, seed).to(device)\n",
    "        self.critic_target = ValueNetwork(self.state_size, self.action_size, seed).to(device)\n",
    "            \n",
    "        # set optimizers\n",
    "        self.actor_optimizer = optim.Adam(self.actor.parameters(), lr=self.lr_actor)\n",
    "        self.critic_optimizer = optim.Adam(self.critic.parameters(), lr=self.lr_critic, weight_decay=self.weight_decay)\n",
    "        \n",
    "        # introduce noise process\n",
    "        self.noise = OUNoise(self.action_size, seed)\n",
    "        \n",
    "        # set buffer\n",
    "        self.buffer = ReplayBuffer(BUFFER_SIZE, BATCH_SIZE, seed)\n",
    "        self.time_step = 0\n",
    "        \n",
    "    def memorize(self, state, action, reward, next_state, done):\n",
    "        \"\"\"Save experience in replay memory, and use random sample from buffer to learn.\"\"\"\n",
    "        \n",
    "        self.buffer.add(state, action, reward, next_state, done)\n",
    "    \n",
    "        # learn every UPDATE_EVERY time steps\n",
    "        self.time_step = (self.time_step + 1) % UPDATE_EVERY\n",
    "        \n",
    "        if self.time_step == 0:\n",
    "            # if enough samples are available in memory, get random subset and learn\n",
    "            if len(self.buffer) > BATCH_SIZE:\n",
    "                experiences = self.buffer.sample()\n",
    "                self.learn(experiences, self.gamma)\n",
    "    \n",
    "    def act(self, state, add_noise=True):\n",
    "        \"\"\"Return action for given state as per current policy.\"\"\"\n",
    "        \n",
    "        state = torch.FloatTensor(state).to(device)\n",
    "        self.actor.eval()\n",
    "        with torch.no_grad():\n",
    "            action = self.actor(state).cpu().data.numpy()\n",
    "        self.actor.train()\n",
    "        \n",
    "        if add_noise==True:\n",
    "            action += self.noise.sample()\n",
    "        \n",
    "        action = np.clip(action, -1, 1)\n",
    "        \n",
    "        return action\n",
    "    \n",
    "    def reset(self):\n",
    "        \"\"\"Reset noise parameters.\"\"\"\n",
    "        self.noise.reset()\n",
    "        \n",
    "    def learn(self, experiences, gamma):\n",
    "        \"\"\"Update policy and value parameters using given batch of experience tuples.\"\"\"\n",
    "        \n",
    "        states, actions, rewards, next_states, dones = experiences\n",
    "        \n",
    "        # obtain Q expected\n",
    "        Q_expected = self.critic(states, actions)\n",
    "        \n",
    "        next_actions = self.actor_target(next_states)\n",
    "        Q_target_next = self.critic_target(next_states, next_actions)\n",
    "        \n",
    "        # compute Q target\n",
    "        Q_targets = rewards + (gamma * Q_target_next * (1 - dones))\n",
    "        \n",
    "        # compute value loss\n",
    "        value_loss = F.mse_loss(Q_expected, Q_targets.detach())\n",
    "        \n",
    "        # minimize critic loss\n",
    "        self.critic_optimizer.zero_grad()\n",
    "        value_loss.backward()\n",
    "        self.critic_optimizer.step()\n",
    "        \n",
    "        # update actor\n",
    "        policy_loss = -self.critic(states, self.actor(states)).mean()\n",
    "        \n",
    "        # minimize policy loss\n",
    "        self.actor_optimizer.zero_grad()\n",
    "        policy_loss.backward()\n",
    "        self.actor_optimizer.step()\n",
    "        \n",
    "        # softly update target networks\n",
    "        self.soft_update(self.actor, self.actor_target, self.tau)\n",
    "        self.soft_update(self.critic, self.critic_target, self.tau)\n",
    "    \n",
    "    def soft_update(self, local_model, target_model, tau):\n",
    "        \"\"\"Softly update model parameters.\"\"\"\n",
    "        \n",
    "        for target_param, local_param in zip(target_model.parameters(), local_model.parameters()):\n",
    "            target_param.data.copy_(local_param.data * tau + target_param.data * (1.0 - tau))\n",
    "            \n",
    "    def save(self, actor_path, critic_path):\n",
    "        \"\"\"Save trained agent.\"\"\"\n",
    "        if not os.path.exists('./agents/'): os.makedirs('./agents/')\n",
    "        torch.save(agent.actor.state_dict(), actor_path); torch.save(agent.critic.state_dict(), critic_path)\n",
    "    \n",
    "    def load(self, agent_location):\n",
    "        \"\"\"Load trained agent.\"\"\"\n",
    "        self.actor.load_state_dict(torch.load(agent_location))\n",
    "        \n",
    "    def watch(self, num_episodes, max_time):\n",
    "        \"\"\"Watch trained agent.\"\"\"\n",
    "        \n",
    "        scores = []\n",
    "\n",
    "        for i_episode in range(1, num_episodes+1):\n",
    "\n",
    "            env_info = env.reset(train_mode=False)[brain_name]\n",
    "            state = env_info.vector_observations[0]\n",
    "            score = 0    \n",
    "            for time_step in range(max_time):\n",
    "\n",
    "                action = agent.act(state)\n",
    "                env_info = env.step(action)[brain_name]\n",
    "                next_state, reward, done = env_info.vector_observations[0], env_info.rewards[0], env_info.local_done[0]\n",
    "\n",
    "                state = next_state\n",
    "                score += reward\n",
    "                if done:\n",
    "                    clear_output(wait=True)\n",
    "\n",
    "                    env.reset()\n",
    "                    break\n",
    "\n",
    "            scores.append(score)\n",
    "            print(f'\\rEpisode: {i_episode}, Total Score: {score:.2f}')\n",
    "\n",
    "        env.close()\n",
    "        print('Total score for {} episodes: {}'.format(num_episodes, np.mean(scores)))\n",
    "        print('Watching finished.')"
   ]
  },
  {
   "cell_type": "code",
   "execution_count": 11,
   "metadata": {
    "collapsed": true
   },
   "outputs": [],
   "source": [
    "agent = DDPGAgent(env, brain_name, seed=90)"
   ]
  },
  {
   "cell_type": "markdown",
   "metadata": {},
   "source": [
    "## Train The Agent"
   ]
  },
  {
   "cell_type": "code",
   "execution_count": 12,
   "metadata": {
    "collapsed": true
   },
   "outputs": [],
   "source": [
    "def train_agent(num_episodes=5000, max_time=2000):\n",
    "    \"\"\"Train DQN agent.\"\"\"\n",
    "    \n",
    "    scores = []\n",
    "    scores_target = 30.0\n",
    "    scores_window = deque(maxlen=PRINT_EVERY)\n",
    "    \n",
    "    for i_episode in range(1, num_episodes+1):\n",
    "        \n",
    "        env_info = env.reset(train_mode=True)[brain_name]\n",
    "        state = env_info.vector_observations[0]\n",
    "        score = 0\n",
    "        for time_step in range(max_time):\n",
    "            \n",
    "            action = agent.act(state, add_noise=True)\n",
    "            env_info = env.step(action)[brain_name]\n",
    "            next_state, reward, done = env_info.vector_observations[0], env_info.rewards[0], env_info.local_done[0]\n",
    "            \n",
    "            agent.memorize(state, action, reward, next_state, done)\n",
    "            state = next_state\n",
    "            score += reward\n",
    "            if done:\n",
    "                break\n",
    "                \n",
    "        scores_window.append(score)\n",
    "        scores.append(score)\n",
    "        \n",
    "        print(f'\\rEpisode: {i_episode}, Average Score: {np.mean(scores_window):.2f}', end='')\n",
    "        \n",
    "        if i_episode % PRINT_EVERY == 0:\n",
    "            print(f'\\rEpisode: {i_episode}, Average Score: {np.mean(scores_window):.2f}')\n",
    "        if np.mean(scores_window) >= scores_target:\n",
    "            print(f'\\nEnvironment solved in {i_episode-100:d} episodes! Average Score: {np.mean(scores_window):.2f}')\n",
    "            if not os.path.exists('./agents/'): os.makeßdirs('./agents/')\n",
    "            agent.save(f'./agents/ACTOR_{brain_name}.pth', f'./agents/CRITIC_{brain_name}.pth')\n",
    "            \n",
    "    print('Training completed.')\n",
    "    return scores"
   ]
  },
  {
   "cell_type": "code",
   "execution_count": null,
   "metadata": {},
   "outputs": [
    {
     "name": "stdout",
     "output_type": "stream",
     "text": [
      "Episode: 100, Average Score: 0.52\n",
      "Episode: 200, Average Score: 2.28\n",
      "Episode: 300, Average Score: 4.13\n",
      "Episode: 400, Average Score: 6.24\n",
      "Episode: 500, Average Score: 8.03\n",
      "Episode: 600, Average Score: 9.39\n",
      "Episode: 700, Average Score: 10.72\n",
      "Episode: 800, Average Score: 9.438\n",
      "Episode: 900, Average Score: 10.78\n",
      "Episode: 1000, Average Score: 11.15\n",
      "Episode: 1100, Average Score: 11.67\n",
      "Episode: 1200, Average Score: 11.91\n",
      "Episode: 1300, Average Score: 13.63\n",
      "Episode: 1329, Average Score: 13.52"
     ]
    }
   ],
   "source": [
    "scores = train_agent(num_episodes=5000, max_time=2000)"
   ]
  },
  {
   "cell_type": "markdown",
   "metadata": {},
   "source": [
    "## Evaluate The Agent"
   ]
  },
  {
   "cell_type": "code",
   "execution_count": null,
   "metadata": {
    "collapsed": true
   },
   "outputs": [],
   "source": [
    "plt.figure(figsize=(10,5))\n",
    "plt.plot(np.arange(len(scores)), scores, color='green')\n",
    "plt.xlabel('Num of episodes')\n",
    "plt.ylabel('Score')\n",
    "if not os.path.exists('./images/'): os.makedirs('./images/')\n",
    "plt.savefig('./images/plot_of_ddpg_evaluation.png')\n",
    "plt.show()"
   ]
  },
  {
   "cell_type": "markdown",
   "metadata": {},
   "source": [
    "## 🎬 Watch The Agent"
   ]
  },
  {
   "cell_type": "code",
   "execution_count": null,
   "metadata": {
    "collapsed": true
   },
   "outputs": [],
   "source": [
    "agent.load(f'./agents/ACTOR_{brain_name}.pth')"
   ]
  },
  {
   "cell_type": "code",
   "execution_count": null,
   "metadata": {
    "collapsed": true
   },
   "outputs": [],
   "source": [
    "agent.watch(num_episodes=10, max_time=1000)"
   ]
  },
  {
   "cell_type": "markdown",
   "metadata": {},
   "source": [
    "---"
   ]
  }
 ],
 "metadata": {
  "kernelspec": {
   "display_name": "Python 3",
   "language": "python",
   "name": "python3"
  },
  "language_info": {
   "codemirror_mode": {
    "name": "ipython",
    "version": 3
   },
   "file_extension": ".py",
   "mimetype": "text/x-python",
   "name": "python",
   "nbconvert_exporter": "python",
   "pygments_lexer": "ipython3",
   "version": "3.6.3"
  }
 },
 "nbformat": 4,
 "nbformat_minor": 2
}
