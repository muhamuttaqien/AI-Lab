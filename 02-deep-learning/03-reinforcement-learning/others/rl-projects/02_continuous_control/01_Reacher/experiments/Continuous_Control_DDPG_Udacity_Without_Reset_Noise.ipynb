{
 "cells": [
  {
   "cell_type": "code",
   "execution_count": 1,
   "metadata": {
    "collapsed": true
   },
   "outputs": [],
   "source": [
    "import os\n",
    "import random\n",
    "import numpy as np\n",
    "import matplotlib.pyplot as plt\n",
    "from time import sleep\n",
    "from IPython.display import clear_output\n",
    "from collections import namedtuple, deque\n",
    "\n",
    "from unityagents import UnityEnvironment"
   ]
  },
  {
   "cell_type": "code",
   "execution_count": 2,
   "metadata": {
    "collapsed": true
   },
   "outputs": [],
   "source": [
    "import torch\n",
    "import torch.nn as nn\n",
    "import torch.optim as optim\n",
    "import torch.nn.functional as F\n",
    "import torchvision.transforms as T"
   ]
  },
  {
   "cell_type": "code",
   "execution_count": 3,
   "metadata": {
    "collapsed": true
   },
   "outputs": [],
   "source": [
    "from noise import OUNoise\n",
    "from buffer import ReplayBuffer\n",
    "from ddpg_model import PolicyNetwork, ValueNetwork"
   ]
  },
  {
   "cell_type": "code",
   "execution_count": 4,
   "metadata": {
    "collapsed": true
   },
   "outputs": [],
   "source": [
    "import warnings\n",
    "warnings.simplefilter('ignore', UserWarning)"
   ]
  },
  {
   "cell_type": "code",
   "execution_count": 5,
   "metadata": {
    "collapsed": true
   },
   "outputs": [],
   "source": [
    "plt.style.use('ggplot')"
   ]
  },
  {
   "cell_type": "markdown",
   "metadata": {},
   "source": [
    "## Set Configs"
   ]
  },
  {
   "cell_type": "code",
   "execution_count": 6,
   "metadata": {
    "collapsed": true
   },
   "outputs": [],
   "source": [
    "is_cuda = torch.cuda.is_available()\n",
    "\n",
    "if is_cuda: device = torch.device('cuda')\n",
    "else: device = torch.device('cpu')"
   ]
  },
  {
   "cell_type": "code",
   "execution_count": 7,
   "metadata": {
    "collapsed": true
   },
   "outputs": [],
   "source": [
    "BUFFER_SIZE = int(1e6)\n",
    "BATCH_SIZE = 512\n",
    "GAMMA = 0.99\n",
    "TAU = 1e-3\n",
    "PRINT_EVERY = 100\n",
    "UPDATE_EVERY = 4\n",
    "\n",
    "# actor & critic network have different learning rates\n",
    "LR_ACTOR = 1e-4\n",
    "LR_CRITIC = 3e-4\n",
    "WEIGHT_DECAY = 0 # L2 weight decay"
   ]
  },
  {
   "cell_type": "markdown",
   "metadata": {},
   "source": [
    "## Set Environment"
   ]
  },
  {
   "cell_type": "code",
   "execution_count": 8,
   "metadata": {},
   "outputs": [
    {
     "name": "stderr",
     "output_type": "stream",
     "text": [
      "INFO:unityagents:\n",
      "'Academy' started successfully!\n",
      "Unity Academy name: Academy\n",
      "        Number of Brains: 1\n",
      "        Number of External Brains : 1\n",
      "        Lesson number : 0\n",
      "        Reset Parameters :\n",
      "\t\tgoal_size -> 5.0\n",
      "\t\tgoal_speed -> 1.0\n",
      "Unity brain name: ReacherBrain\n",
      "        Number of Visual Observations (per agent): 0\n",
      "        Vector Observation space type: continuous\n",
      "        Vector Observation space size (per agent): 33\n",
      "        Number of stacked Vector Observation: 1\n",
      "        Vector Action space type: continuous\n",
      "        Vector Action space size (per agent): 4\n",
      "        Vector Action descriptions: , , , \n"
     ]
    }
   ],
   "source": [
    "env = UnityEnvironment(file_name='../Reacher_1_Agent/Reacher.x86_64')\n",
    "\n",
    "brain_name = env.brain_names[0] # get the brain from unity environment\n",
    "brain = env.brains[brain_name]"
   ]
  },
  {
   "cell_type": "code",
   "execution_count": 9,
   "metadata": {},
   "outputs": [
    {
     "name": "stdout",
     "output_type": "stream",
     "text": [
      "Environment Info\n",
      "Number of agents: 1\n",
      "State space: 33\n",
      "Action space: 4\n"
     ]
    }
   ],
   "source": [
    "print('Environment Info')\n",
    "env_info = env.reset(train_mode=False)[brain_name] # reset environment to a new, random state\n",
    "state = env_info.vector_observations\n",
    "action_size = brain.vector_action_space_size\n",
    "\n",
    "print('Number of agents: {}'.format(len(env_info.agents)))\n",
    "print('State space: {}'.format(state.shape[1]))\n",
    "print('Action space: {}'.format(action_size))"
   ]
  },
  {
   "cell_type": "markdown",
   "metadata": {},
   "source": [
    "## Define [DDPG](https://arxiv.org/pdf/1509.02971.pdf) Agent"
   ]
  },
  {
   "cell_type": "code",
   "execution_count": 10,
   "metadata": {
    "collapsed": true
   },
   "outputs": [],
   "source": [
    "class DDPGAgent():\n",
    "    \"\"\"The Agent that will interacts with and learns from the environment.\"\"\"\n",
    "    \n",
    "    def __init__(self, env, brain_name, seed):\n",
    "        \"\"\"Initialize an Agent object.\"\"\"\n",
    "        \n",
    "        self.brain = env.brains[env.brain_names[0]] # get the brain from unity environment\n",
    "        \n",
    "        self.env_info = env.reset(train_mode=False)[brain_name]\n",
    "        \n",
    "        self.state_size = env_info.vector_observations.shape[1]\n",
    "        self.action_size = self.brain.vector_action_space_size\n",
    "        \n",
    "        self.gamma = GAMMA\n",
    "        self.lr_actor = LR_ACTOR\n",
    "        self.lr_critic = LR_CRITIC\n",
    "        self.weight_decay = WEIGHT_DECAY\n",
    "        self.tau = TAU\n",
    "        \n",
    "        # initialize actor and critic networks\n",
    "        self.actor = PolicyNetwork(self.state_size, self.action_size, seed).to(device)\n",
    "        self.actor_target = PolicyNetwork(self.state_size, self.action_size, seed).to(device)\n",
    "        \n",
    "        self.critic = ValueNetwork(self.state_size, self.action_size, seed).to(device)\n",
    "        self.critic_target = ValueNetwork(self.state_size, self.action_size, seed).to(device)\n",
    "            \n",
    "        # set optimizers\n",
    "        self.actor_optimizer = optim.Adam(self.actor.parameters(), lr=self.lr_actor)\n",
    "        self.critic_optimizer = optim.Adam(self.critic.parameters(), lr=self.lr_critic, weight_decay=self.weight_decay)\n",
    "        \n",
    "        # initialize actor & critic target networks\n",
    "        self.soft_update(self.actor, self.actor_target, 1)\n",
    "        self.soft_update(self.critic, self.critic_target, 1)\n",
    "        \n",
    "        # introduce noise process\n",
    "        self.noise = OUNoise(self.action_size, seed)\n",
    "        \n",
    "        # set buffer\n",
    "        self.buffer = ReplayBuffer(BUFFER_SIZE, BATCH_SIZE, seed)\n",
    "        self.time_step = 0\n",
    "        \n",
    "    def memorize(self, states, actions, rewards, next_states, dones):\n",
    "        \"\"\"Save experience in replay memory, and use random sample from buffer to learn.\"\"\"\n",
    "        \n",
    "        for state, action, reward, next_state, done in zip(states, actions, rewards, next_states, dones):\n",
    "            self.buffer.add(state, action, reward, next_state, done)\n",
    "        \n",
    "        # learn every UPDATE_EVERY time steps\n",
    "        self.time_step = (self.time_step + 1) % UPDATE_EVERY\n",
    "        \n",
    "        if self.time_step == 0:\n",
    "            # if enough samples are available in memory, get random subset and learn\n",
    "            if len(self.buffer) > BATCH_SIZE:\n",
    "                experiences = self.buffer.sample()\n",
    "                self.learn(experiences, self.gamma)\n",
    "    \n",
    "    def act(self, states, add_noise=True):\n",
    "        \"\"\"Return action for given state as per current policy.\"\"\"\n",
    "        \n",
    "        states = torch.FloatTensor(states).to(device)\n",
    "        self.actor.eval()\n",
    "        with torch.no_grad():\n",
    "            actions = self.actor(states).cpu().data.numpy()\n",
    "        self.actor.train()\n",
    "        \n",
    "        if add_noise==True:\n",
    "            actions += self.noise.sample()\n",
    "        \n",
    "        actions = np.clip(actions, -1, 1)\n",
    "        \n",
    "        return actions\n",
    "    \n",
    "    def reset(self):\n",
    "        \"\"\"Reset noise parameters.\"\"\"\n",
    "        self.noise.reset()\n",
    "        \n",
    "    def learn(self, experiences, gamma):\n",
    "        \"\"\"Update policy and value parameters using given batch of experience tuples.\"\"\"\n",
    "        \n",
    "        states, actions, rewards, next_states, dones = experiences\n",
    "        \n",
    "        # obtain Q expected\n",
    "        Q_expected = self.critic(states, actions)\n",
    "        \n",
    "        next_actions = self.actor_target(next_states)\n",
    "        Q_target_next = self.critic_target(next_states, next_actions)\n",
    "        \n",
    "        # compute Q target\n",
    "        Q_targets = rewards + (gamma * Q_target_next * (1 - dones))\n",
    "        \n",
    "        # compute value loss\n",
    "        value_loss = F.mse_loss(Q_expected, Q_targets)\n",
    "        \n",
    "        # minimize critic loss\n",
    "        self.critic_optimizer.zero_grad()\n",
    "        value_loss.backward()\n",
    "        torch.nn.utils.clip_grad_norm_(self.critic.parameters(), 1)\n",
    "        self.critic_optimizer.step()\n",
    "        \n",
    "        # update actor\n",
    "        policy_loss = -self.critic(states, self.actor(states)).mean()\n",
    "        \n",
    "        # minimize policy loss\n",
    "        self.actor_optimizer.zero_grad()\n",
    "        policy_loss.backward()\n",
    "        self.actor_optimizer.step()\n",
    "        \n",
    "        # softly update target networks\n",
    "        self.soft_update(self.actor, self.actor_target, self.tau)\n",
    "        self.soft_update(self.critic, self.critic_target, self.tau)\n",
    "    \n",
    "    def soft_update(self, local_model, target_model, tau):\n",
    "        \"\"\"Softly update model parameters.\"\"\"\n",
    "        \n",
    "        for local_param, target_param in zip(local_model.parameters(), target_model.parameters()):\n",
    "            target_param.data.copy_(local_param.data * tau + target_param.data * (1.0 - tau))\n",
    "            \n",
    "    def save(self, actor_path, critic_path):\n",
    "        \"\"\"Save trained agent.\"\"\"\n",
    "        if not os.path.exists('./agents/'): os.makedirs('./agents/')\n",
    "        torch.save(agent.actor.state_dict(), actor_path); torch.save(agent.critic.state_dict(), critic_path)\n",
    "    \n",
    "    def load(self, agent_location):\n",
    "        \"\"\"Load trained agent.\"\"\"\n",
    "        self.actor.load_state_dict(torch.load(agent_location))\n",
    "        \n",
    "    def watch(self, num_episodes, max_time):\n",
    "        \"\"\"Watch trained agent.\"\"\"\n",
    "        \n",
    "        all_scores = []\n",
    "\n",
    "        for i_episode in range(1, num_episodes+1):\n",
    "\n",
    "            self.reset()\n",
    "            env_info = env.reset(train_mode=False)[brain_name]\n",
    "            states = env_info.vector_observations\n",
    "            scores = np.zeros(len(env_info.agents))\n",
    "            \n",
    "            for time_step in range(max_time):\n",
    "\n",
    "                actions = agent.act(states, add_noise=True)\n",
    "                env_info = env.step(actions)[brain_name]\n",
    "                next_states, rewards, dones = env_info.vector_observations, env_info.rewards, env_info.local_done\n",
    "            \n",
    "                states = next_states\n",
    "                scores += rewards\n",
    "\n",
    "            avg_score = np.mean(scores)\n",
    "            all_scores.append(avg_score)\n",
    "            print(f'\\rEpisode: {i_episode}, Average Score: {avg_score:.2f}')\n",
    "\n",
    "        env.close()\n",
    "        print(f'Total score for {num_episodes} episodes: {np.mean(all_scores):.2f}')\n",
    "        print('Watching finished.')"
   ]
  },
  {
   "cell_type": "code",
   "execution_count": 11,
   "metadata": {
    "collapsed": true
   },
   "outputs": [],
   "source": [
    "agent = DDPGAgent(env, brain_name, seed=90)"
   ]
  },
  {
   "cell_type": "markdown",
   "metadata": {},
   "source": [
    "## Train The Agent"
   ]
  },
  {
   "cell_type": "code",
   "execution_count": 12,
   "metadata": {
    "collapsed": true
   },
   "outputs": [],
   "source": [
    "def train_agent(num_episodes=5000, max_time=2000):\n",
    "    \"\"\"Train DQN agent.\"\"\"\n",
    "    \n",
    "    all_scores = []\n",
    "    scores_target = 30.0\n",
    "    scores_window = deque(maxlen=PRINT_EVERY)\n",
    "    \n",
    "    for i_episode in range(1, num_episodes+1):\n",
    "        \n",
    "        # agent.reset()\n",
    "        env_info = env.reset(train_mode=True)[brain_name]\n",
    "        states = env_info.vector_observations\n",
    "        scores = np.zeros(len(env_info.agents))\n",
    "        \n",
    "        for time_step in range(max_time):\n",
    "            \n",
    "            actions = agent.act(states, add_noise=True)\n",
    "            env_info = env.step(actions)[brain_name]\n",
    "            next_states, rewards, dones = env_info.vector_observations, env_info.rewards, env_info.local_done\n",
    "            \n",
    "            agent.memorize(states, actions, rewards, next_states, dones)\n",
    "            states = next_states\n",
    "            scores += rewards\n",
    "            \n",
    "        avg_score = np.mean(scores)\n",
    "        scores_window.append(avg_score)\n",
    "        all_scores.append(avg_score)\n",
    "        \n",
    "        print(f'\\rEpisode: {i_episode}, Average Score: {np.mean(scores_window):.2f}', end='')\n",
    "        \n",
    "        if i_episode % PRINT_EVERY == 0:\n",
    "            print(f'\\rEpisode: {i_episode}, Average Score: {np.mean(scores_window):.2f}')\n",
    "        if np.mean(scores_window) >= scores_target:\n",
    "            print(f'\\nEnvironment solved in {i_episode-100:d} episodes! Average Score: {np.mean(scores_window):.2f}')\n",
    "            if not os.path.exists('./agents/'): os.makedirs('./agents/')\n",
    "            agent.save(f'./agents/ACTOR_{brain_name}.pth', f'./agents/CRITIC_{brain_name}.pth')\n",
    "            break\n",
    "            \n",
    "    print('Training completed.')\n",
    "    return all_scores"
   ]
  },
  {
   "cell_type": "code",
   "execution_count": 13,
   "metadata": {},
   "outputs": [
    {
     "name": "stdout",
     "output_type": "stream",
     "text": [
      "Episode: 100, Average Score: 4.21\n",
      "Episode: 200, Average Score: 9.43\n",
      "Episode: 300, Average Score: 13.24\n",
      "Episode: 400, Average Score: 13.95\n",
      "Episode: 500, Average Score: 14.88\n",
      "Episode: 600, Average Score: 16.20\n",
      "Episode: 700, Average Score: 20.61\n",
      "Episode: 800, Average Score: 29.36\n",
      "Episode: 820, Average Score: 30.12\n",
      "Environment solved in 720 episodes! Average Score: 30.12\n",
      "Training completed.\n"
     ]
    }
   ],
   "source": [
    "all_scores = train_agent(num_episodes=5000, max_time=2000)"
   ]
  },
  {
   "cell_type": "markdown",
   "metadata": {},
   "source": [
    "## Evaluate The Agent"
   ]
  },
  {
   "cell_type": "code",
   "execution_count": 14,
   "metadata": {},
   "outputs": [
    {
     "data": {
      "image/png": "[encoded data removed]",
      "text/plain": [
       "<matplotlib.figure.Figure at 0x7ff596fee208>"
      ]
     },
     "metadata": {},
     "output_type": "display_data"
    }
   ],
   "source": [
    "plt.figure(figsize=(10,5))\n",
    "plt.plot(np.arange(len(all_scores)), all_scores, color='green')\n",
    "plt.xlabel('Num of episodes')\n",
    "plt.ylabel('Score')\n",
    "if not os.path.exists('./images/'): os.makedirs('./images/')\n",
    "plt.savefig('./images/plot_of_ddpg_evaluation.png')\n",
    "plt.show()"
   ]
  },
  {
   "cell_type": "markdown",
   "metadata": {},
   "source": [
    "---"
   ]
  }
 ],
 "metadata": {
  "kernelspec": {
   "display_name": "Python 3",
   "language": "python",
   "name": "python3"
  },
  "language_info": {
   "codemirror_mode": {
    "name": "ipython",
    "version": 3
   },
   "file_extension": ".py",
   "mimetype": "text/x-python",
   "name": "python",
   "nbconvert_exporter": "python",
   "pygments_lexer": "ipython3",
   "version": "3.6.7"
  }
 },
 "nbformat": 4,
 "nbformat_minor": 2
}
