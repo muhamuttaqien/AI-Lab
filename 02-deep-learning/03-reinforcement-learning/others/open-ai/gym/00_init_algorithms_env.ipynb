{
 "cells": [
  {
   "cell_type": "markdown",
   "metadata": {},
   "source": [
    "# OpenAI Gym Environment"
   ]
  },
  {
   "cell_type": "code",
   "execution_count": 1,
   "metadata": {
    "collapsed": true
   },
   "outputs": [],
   "source": [
    "import gym\n",
    "\n",
    "import warnings\n",
    "warnings.filterwarnings('ignore')"
   ]
  },
  {
   "cell_type": "markdown",
   "metadata": {},
   "source": [
    "## Copy-v0"
   ]
  },
  {
   "cell_type": "code",
   "execution_count": 2,
   "metadata": {
    "collapsed": true
   },
   "outputs": [],
   "source": [
    "env = gym.make('Copy-v0')"
   ]
  },
  {
   "cell_type": "markdown",
   "metadata": {},
   "source": [
    "#### Environment Info"
   ]
  },
  {
   "cell_type": "code",
   "execution_count": 3,
   "metadata": {},
   "outputs": [
    {
     "name": "stdout",
     "output_type": "stream",
     "text": [
      "Environment Display\n",
      "Total length of input instance: 3, step: 0\n",
      "==========================================\n",
      "Observation Tape    :   \u001b[42mE\u001b[0mBE  \n",
      "Output Tape         :   \n",
      "Targets             :   EBE  \n",
      "\n",
      "\n",
      "\n",
      "\n",
      "\n",
      "\n",
      "State space: Discrete(6)\n",
      "Action space: Tuple(Discrete(2), Discrete(2), Discrete(5))\n"
     ]
    }
   ],
   "source": [
    "print('Environment Display')\n",
    "env.reset() # reset environment to a new, random state\n",
    "env.render()\n",
    "\n",
    "print('State space: {}'.format(env.observation_space))\n",
    "print('Action space: {}'.format(env.action_space))"
   ]
  },
  {
   "cell_type": "markdown",
   "metadata": {},
   "source": [
    "#### Run Environment"
   ]
  },
  {
   "cell_type": "code",
   "execution_count": 4,
   "metadata": {
    "scrolled": true
   },
   "outputs": [
    {
     "name": "stdout",
     "output_type": "stream",
     "text": [
      "Total length of input instance: 3, step: 0\n",
      "==========================================\n",
      "Observation Tape    :   \u001b[42mE\u001b[0mCA  \n",
      "Output Tape         :   \n",
      "Targets             :   ECA  \n",
      "\n",
      "\n",
      "\n",
      "\n",
      "\n",
      "\n",
      "Total length of input instance: 3, step: 1\n",
      "==========================================\n",
      "Observation Tape    :  \u001b[42m \u001b[0mECA  \n",
      "Output Tape         :   \u001b[41mA\u001b[0m\n",
      "Targets             :   ECA  \n",
      "\n",
      "Current reward      :   -0.500\n",
      "Cumulative reward   :   -0.500\n",
      "Action              :   Tuple(move over input: left,\n",
      "                              write to the output tape: True,\n",
      "                              prediction: A)\n",
      "Total length of input instance: 3, step: 2\n",
      "==========================================\n",
      "Observation Tape    :   \u001b[42mE\u001b[0mCA  \n",
      "Output Tape         :   E\u001b[41mD\u001b[0m\n",
      "Targets             :   ECA  \n",
      "\n",
      "Current reward      :   -0.500\n",
      "Cumulative reward   :   -1.000\n",
      "Action              :   Tuple(move over input: right,\n",
      "                              write to the output tape: True,\n",
      "                              prediction: D)\n"
     ]
    }
   ],
   "source": [
    "env.reset()\n",
    "for _ in range(3):\n",
    "    env.render()\n",
    "    env.step(env.action_space.sample()) # take a random action\n",
    "env.close()"
   ]
  },
  {
   "cell_type": "markdown",
   "metadata": {},
   "source": [
    "## Reverse-v0"
   ]
  },
  {
   "cell_type": "code",
   "execution_count": 5,
   "metadata": {
    "collapsed": true
   },
   "outputs": [],
   "source": [
    "env = gym.make('Reverse-v0')"
   ]
  },
  {
   "cell_type": "markdown",
   "metadata": {},
   "source": [
    "#### Environment Info"
   ]
  },
  {
   "cell_type": "code",
   "execution_count": 6,
   "metadata": {},
   "outputs": [
    {
     "name": "stdout",
     "output_type": "stream",
     "text": [
      "Environment Display\n",
      "Total length of input instance: 2, step: 0\n",
      "==========================================\n",
      "Observation Tape    :   \u001b[42mB\u001b[0mA  \n",
      "Output Tape         :   \n",
      "Targets             :   AB  \n",
      "\n",
      "\n",
      "\n",
      "\n",
      "\n",
      "\n",
      "State space: Discrete(3)\n",
      "Action space: Tuple(Discrete(2), Discrete(2), Discrete(2))\n"
     ]
    }
   ],
   "source": [
    "print('Environment Display')\n",
    "env.reset() # reset environment to a new, random state\n",
    "env.render()\n",
    "\n",
    "print('State space: {}'.format(env.observation_space))\n",
    "print('Action space: {}'.format(env.action_space))"
   ]
  },
  {
   "cell_type": "markdown",
   "metadata": {},
   "source": [
    "#### Run Environment"
   ]
  },
  {
   "cell_type": "code",
   "execution_count": 7,
   "metadata": {
    "scrolled": true
   },
   "outputs": [
    {
     "name": "stdout",
     "output_type": "stream",
     "text": [
      "Total length of input instance: 1, step: 0\n",
      "==========================================\n",
      "Observation Tape    :   \u001b[42mB\u001b[0m  \n",
      "Output Tape         :   \n",
      "Targets             :   B  \n",
      "\n",
      "\n",
      "\n",
      "\n",
      "\n",
      "\n",
      "Total length of input instance: 1, step: 1\n",
      "==========================================\n",
      "Observation Tape    :   B\u001b[42m \u001b[0m \n",
      "Output Tape         :   \n",
      "Targets             :   B  \n",
      "\n",
      "Current reward      :   0.000\n",
      "Cumulative reward   :   0.000\n",
      "Action              :   Tuple(move over input: right,\n",
      "                              write to the output tape: False,\n",
      "                              prediction: A)\n",
      "Total length of input instance: 1, step: 2\n",
      "==========================================\n",
      "Observation Tape    :   B \u001b[42m \u001b[0m\n",
      "Output Tape         :   \n",
      "Targets             :   B  \n",
      "\n",
      "Current reward      :   0.000\n",
      "Cumulative reward   :   0.000\n",
      "Action              :   Tuple(move over input: right,\n",
      "                              write to the output tape: False,\n",
      "                              prediction: A)\n"
     ]
    }
   ],
   "source": [
    "env.reset()\n",
    "for _ in range(3):\n",
    "    env.render()\n",
    "    env.step(env.action_space.sample()) # take a random action\n",
    "env.close()"
   ]
  },
  {
   "cell_type": "markdown",
   "metadata": {},
   "source": [
    "---"
   ]
  }
 ],
 "metadata": {
  "kernelspec": {
   "display_name": "Python 3",
   "language": "python",
   "name": "python3"
  },
  "language_info": {
   "codemirror_mode": {
    "name": "ipython",
    "version": 3
   },
   "file_extension": ".py",
   "mimetype": "text/x-python",
   "name": "python",
   "nbconvert_exporter": "python",
   "pygments_lexer": "ipython3",
   "version": "3.6.7"
  }
 },
 "nbformat": 4,
 "nbformat_minor": 2
}
