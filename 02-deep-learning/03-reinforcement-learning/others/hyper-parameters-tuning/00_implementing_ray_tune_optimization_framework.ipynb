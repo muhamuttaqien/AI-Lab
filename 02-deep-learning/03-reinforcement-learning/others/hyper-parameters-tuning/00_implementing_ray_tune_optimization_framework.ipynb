{
 "cells": [
  {
   "cell_type": "code",
   "execution_count": 1,
   "metadata": {},
   "outputs": [],
   "source": [
    "from ray import tune\n",
    "from ray.tune.examples.mnist_pytorch import get_data_loaders, ConvNet, train, test\n",
    "\n",
    "import torch.optim as optim"
   ]
  },
  {
   "cell_type": "markdown",
   "metadata": {},
   "source": [
    "## Use Tune"
   ]
  },
  {
   "cell_type": "code",
   "execution_count": 2,
   "metadata": {},
   "outputs": [],
   "source": [
    "def train_mnist(config):\n",
    "    \n",
    "    train_loader, test_loader = get_data_loaders()\n",
    "    model = ConvNet()\n",
    "    optimizer = optim.SGD(model.parameters(), lr=config[\"lr\"])\n",
    "    \n",
    "    for i in range(10):\n",
    "        train(model, optimizer, train_loader)\n",
    "        acc = test(model, test_loader)\n",
    "        tune.track.log(mean_accuracy=acc)"
   ]
  },
  {
   "cell_type": "code",
   "execution_count": 3,
   "metadata": {
    "scrolled": true
   },
   "outputs": [
    {
     "name": "stderr",
     "output_type": "stream",
     "text": [
      "2020-03-09 10:26:00,975\tINFO resource_spec.py:212 -- Starting Ray with 4.49 GiB memory available for workers and up to 2.27 GiB for objects. You can adjust these settings with ray.init(memory=<bytes>, object_store_memory=<bytes>).\n",
      "2020-03-09 10:26:01,327\tINFO services.py:1078 -- View the Ray dashboard at \u001b[1m\u001b[32mlocalhost:8265\u001b[39m\u001b[22m\n",
      "2020-03-09 10:26:01,785\tINFO function_runner.py:250 -- tune.track signature detected.\n"
     ]
    },
    {
     "data": {
      "text/html": [
       "== Status ==<br>Memory usage on this node: 9.7/16.0 GiB<br>Using FIFO scheduling algorithm.<br>Resources requested: 1/4 CPUs, 0/0 GPUs, 0.0/4.49 GiB heap, 0.0/1.56 GiB objects<br>Result logdir: /Users/angga.muhammad/ray_results/train_mnist<br>Number of trials: 7 (1 RUNNING, 6 PENDING)<br><table>\n",
       "<thead>\n",
       "<tr><th>Trial name          </th><th>status  </th><th>loc  </th><th>lr  </th></tr>\n",
       "</thead>\n",
       "<tbody>\n",
       "<tr><td>train_mnist_f00bcf56</td><td>RUNNING </td><td>     </td><td>    </td></tr>\n",
       "<tr><td>train_mnist_f00c075a</td><td>PENDING </td><td>     </td><td>    </td></tr>\n",
       "<tr><td>train_mnist_f00c45ee</td><td>PENDING </td><td>     </td><td>    </td></tr>\n",
       "<tr><td>train_mnist_f00c7b86</td><td>PENDING </td><td>     </td><td>    </td></tr>\n",
       "<tr><td>train_mnist_f00caea8</td><td>PENDING </td><td>     </td><td>    </td></tr>\n",
       "<tr><td>train_mnist_f00ce224</td><td>PENDING </td><td>     </td><td>    </td></tr>\n",
       "<tr><td>train_mnist_f00d164a</td><td>PENDING </td><td>     </td><td>    </td></tr>\n",
       "</tbody>\n",
       "</table><br><br>"
      ],
      "text/plain": [
       "<IPython.core.display.HTML object>"
      ]
     },
     "metadata": {},
     "output_type": "display_data"
    },
    {
     "name": "stdout",
     "output_type": "stream",
     "text": [
      "Result for train_mnist_f00bcf56:\n",
      "  date: 2020-03-09_10-26-08\n",
      "  done: false\n",
      "  experiment_id: 6929a4ddb40d4a2ab6239b7b83973a5d\n",
      "  experiment_tag: 0_lr=0.001\n",
      "  hostname: n078.local\n",
      "  iterations_since_restore: 1\n",
      "  mean_accuracy: 0.125\n",
      "  node_ip: 192.168.254.13\n",
      "  pid: 23926\n",
      "  time_since_restore: 0.4609248638153076\n",
      "  time_this_iter_s: 0.4609248638153076\n",
      "  time_total_s: 0.4609248638153076\n",
      "  timestamp: 1583717168\n",
      "  timesteps_since_restore: 0\n",
      "  training_iteration: 0\n",
      "  trial_id: f00bcf56\n",
      "  \n"
     ]
    },
    {
     "data": {
      "text/html": [
       "== Status ==<br>Memory usage on this node: 10.3/16.0 GiB<br>Using FIFO scheduling algorithm.<br>Resources requested: 4/4 CPUs, 0/0 GPUs, 0.0/4.49 GiB heap, 0.0/1.56 GiB objects<br>Result logdir: /Users/angga.muhammad/ray_results/train_mnist<br>Number of trials: 7 (4 RUNNING, 3 PENDING)<br><table>\n",
       "<thead>\n",
       "<tr><th>Trial name          </th><th>status  </th><th>loc                 </th><th style=\"text-align: right;\">   lr</th><th style=\"text-align: right;\">  acc</th><th style=\"text-align: right;\">  total time (s)</th><th style=\"text-align: right;\">  iter</th></tr>\n",
       "</thead>\n",
       "<tbody>\n",
       "<tr><td>train_mnist_f00bcf56</td><td>RUNNING </td><td>192.168.254.13:23926</td><td style=\"text-align: right;\">0.001</td><td style=\"text-align: right;\">0.125</td><td style=\"text-align: right;\">        0.460925</td><td style=\"text-align: right;\">     0</td></tr>\n",
       "<tr><td>train_mnist_f00c075a</td><td>RUNNING </td><td>                    </td><td style=\"text-align: right;\">     </td><td style=\"text-align: right;\">     </td><td style=\"text-align: right;\">                </td><td style=\"text-align: right;\">      </td></tr>\n",
       "<tr><td>train_mnist_f00c45ee</td><td>RUNNING </td><td>                    </td><td style=\"text-align: right;\">     </td><td style=\"text-align: right;\">     </td><td style=\"text-align: right;\">                </td><td style=\"text-align: right;\">      </td></tr>\n",
       "<tr><td>train_mnist_f00c7b86</td><td>RUNNING </td><td>                    </td><td style=\"text-align: right;\">     </td><td style=\"text-align: right;\">     </td><td style=\"text-align: right;\">                </td><td style=\"text-align: right;\">      </td></tr>\n",
       "<tr><td>train_mnist_f00caea8</td><td>PENDING </td><td>                    </td><td style=\"text-align: right;\">     </td><td style=\"text-align: right;\">     </td><td style=\"text-align: right;\">                </td><td style=\"text-align: right;\">      </td></tr>\n",
       "<tr><td>train_mnist_f00ce224</td><td>PENDING </td><td>                    </td><td style=\"text-align: right;\">     </td><td style=\"text-align: right;\">     </td><td style=\"text-align: right;\">                </td><td style=\"text-align: right;\">      </td></tr>\n",
       "<tr><td>train_mnist_f00d164a</td><td>PENDING </td><td>                    </td><td style=\"text-align: right;\">     </td><td style=\"text-align: right;\">     </td><td style=\"text-align: right;\">                </td><td style=\"text-align: right;\">      </td></tr>\n",
       "</tbody>\n",
       "</table><br><br>"
      ],
      "text/plain": [
       "<IPython.core.display.HTML object>"
      ]
     },
     "metadata": {},
     "output_type": "display_data"
    },
    {
     "name": "stdout",
     "output_type": "stream",
     "text": [
      "Result for train_mnist_f00c45ee:\n",
      "  date: 2020-03-09_10-26-08\n",
      "  done: false\n",
      "  experiment_id: 2a9137479d314449894c32447f6fb17c\n",
      "  experiment_tag: 2_lr=0.1\n",
      "  hostname: n078.local\n",
      "  iterations_since_restore: 1\n",
      "  mean_accuracy: 0.45\n",
      "  node_ip: 192.168.254.13\n",
      "  pid: 23929\n",
      "  time_since_restore: 0.5842421054840088\n",
      "  time_this_iter_s: 0.5842421054840088\n",
      "  time_total_s: 0.5842421054840088\n",
      "  timestamp: 1583717168\n",
      "  timesteps_since_restore: 0\n",
      "  training_iteration: 0\n",
      "  trial_id: f00c45ee\n",
      "  \n",
      "Result for train_mnist_f00c075a:\n",
      "  date: 2020-03-09_10-26-08\n",
      "  done: false\n",
      "  experiment_id: 2a9370c115c74c97a53d0d3621482026\n",
      "  experiment_tag: 1_lr=0.01\n",
      "  hostname: n078.local\n",
      "  iterations_since_restore: 1\n",
      "  mean_accuracy: 0.1125\n",
      "  node_ip: 192.168.254.13\n",
      "  pid: 23927\n",
      "  time_since_restore: 0.6186060905456543\n",
      "  time_this_iter_s: 0.6186060905456543\n",
      "  time_total_s: 0.6186060905456543\n",
      "  timestamp: 1583717168\n",
      "  timesteps_since_restore: 0\n",
      "  training_iteration: 0\n",
      "  trial_id: f00c075a\n",
      "  \n",
      "Result for train_mnist_f00c7b86:\n",
      "  date: 2020-03-09_10-26-08\n",
      "  done: false\n",
      "  experiment_id: b08b665cd24540dab4d8d91000c8e0d8\n",
      "  experiment_tag: 3_lr=0.2\n",
      "  hostname: n078.local\n",
      "  iterations_since_restore: 1\n",
      "  mean_accuracy: 0.58125\n",
      "  node_ip: 192.168.254.13\n",
      "  pid: 23928\n",
      "  time_since_restore: 0.60768723487854\n",
      "  time_this_iter_s: 0.60768723487854\n",
      "  time_total_s: 0.60768723487854\n",
      "  timestamp: 1583717168\n",
      "  timesteps_since_restore: 0\n",
      "  training_iteration: 0\n",
      "  trial_id: f00c7b86\n",
      "  \n"
     ]
    },
    {
     "data": {
      "text/html": [
       "== Status ==<br>Memory usage on this node: 10.4/16.0 GiB<br>Using FIFO scheduling algorithm.<br>Resources requested: 4/4 CPUs, 0/0 GPUs, 0.0/4.49 GiB heap, 0.0/1.56 GiB objects<br>Result logdir: /Users/angga.muhammad/ray_results/train_mnist<br>Number of trials: 7 (2 TERMINATED, 4 RUNNING, 1 PENDING)<br><table>\n",
       "<thead>\n",
       "<tr><th>Trial name          </th><th>status    </th><th>loc                 </th><th style=\"text-align: right;\">   lr</th><th style=\"text-align: right;\">     acc</th><th style=\"text-align: right;\">  total time (s)</th><th style=\"text-align: right;\">  iter</th></tr>\n",
       "</thead>\n",
       "<tbody>\n",
       "<tr><td>train_mnist_f00bcf56</td><td>TERMINATED</td><td>                    </td><td style=\"text-align: right;\">0.001</td><td style=\"text-align: right;\">0.128125</td><td style=\"text-align: right;\">         5.10228</td><td style=\"text-align: right;\">     9</td></tr>\n",
       "<tr><td>train_mnist_f00c075a</td><td>RUNNING   </td><td>192.168.254.13:23927</td><td style=\"text-align: right;\">0.01 </td><td style=\"text-align: right;\">0.740625</td><td style=\"text-align: right;\">         5.38223</td><td style=\"text-align: right;\">     9</td></tr>\n",
       "<tr><td>train_mnist_f00c45ee</td><td>TERMINATED</td><td>                    </td><td style=\"text-align: right;\">0.1  </td><td style=\"text-align: right;\">0.821875</td><td style=\"text-align: right;\">         5.19767</td><td style=\"text-align: right;\">     9</td></tr>\n",
       "<tr><td>train_mnist_f00c7b86</td><td>RUNNING   </td><td>192.168.254.13:23928</td><td style=\"text-align: right;\">0.2  </td><td style=\"text-align: right;\">0.88125 </td><td style=\"text-align: right;\">         4.76896</td><td style=\"text-align: right;\">     8</td></tr>\n",
       "<tr><td>train_mnist_f00caea8</td><td>RUNNING   </td><td>                    </td><td style=\"text-align: right;\">     </td><td style=\"text-align: right;\">        </td><td style=\"text-align: right;\">                </td><td style=\"text-align: right;\">      </td></tr>\n",
       "<tr><td>train_mnist_f00ce224</td><td>RUNNING   </td><td>                    </td><td style=\"text-align: right;\">     </td><td style=\"text-align: right;\">        </td><td style=\"text-align: right;\">                </td><td style=\"text-align: right;\">      </td></tr>\n",
       "<tr><td>train_mnist_f00d164a</td><td>PENDING   </td><td>                    </td><td style=\"text-align: right;\">     </td><td style=\"text-align: right;\">        </td><td style=\"text-align: right;\">                </td><td style=\"text-align: right;\">      </td></tr>\n",
       "</tbody>\n",
       "</table><br><br>"
      ],
      "text/plain": [
       "<IPython.core.display.HTML object>"
      ]
     },
     "metadata": {},
     "output_type": "display_data"
    },
    {
     "name": "stdout",
     "output_type": "stream",
     "text": [
      "Result for train_mnist_f00c7b86:\n",
      "  date: 2020-03-09_10-26-13\n",
      "  done: false\n",
      "  experiment_id: b08b665cd24540dab4d8d91000c8e0d8\n",
      "  experiment_tag: 3_lr=0.2\n",
      "  hostname: n078.local\n",
      "  iterations_since_restore: 10\n",
      "  mean_accuracy: 0.859375\n",
      "  node_ip: 192.168.254.13\n",
      "  pid: 23928\n",
      "  time_since_restore: 5.611744165420532\n",
      "  time_this_iter_s: 0.8427820205688477\n",
      "  time_total_s: 5.611744165420532\n",
      "  timestamp: 1583717173\n",
      "  timesteps_since_restore: 0\n",
      "  training_iteration: 9\n",
      "  trial_id: f00c7b86\n",
      "  \n",
      "Result for train_mnist_f00caea8:\n",
      "  date: 2020-03-09_10-26-15\n",
      "  done: false\n",
      "  experiment_id: b87624aa78dc4bc49837e9317dfea2e4\n",
      "  experiment_tag: 4_lr=0.3\n",
      "  hostname: n078.local\n",
      "  iterations_since_restore: 1\n",
      "  mean_accuracy: 0.390625\n",
      "  node_ip: 192.168.254.13\n",
      "  pid: 23936\n",
      "  time_since_restore: 0.4168367385864258\n",
      "  time_this_iter_s: 0.4168367385864258\n",
      "  time_total_s: 0.4168367385864258\n",
      "  timestamp: 1583717175\n",
      "  timesteps_since_restore: 0\n",
      "  training_iteration: 0\n",
      "  trial_id: f00caea8\n",
      "  \n",
      "Result for train_mnist_f00ce224:\n",
      "  date: 2020-03-09_10-26-15\n",
      "  done: false\n",
      "  experiment_id: ed79357c19cd43e2810c21f9a4d64ff0\n",
      "  experiment_tag: 5_lr=0.4\n",
      "  hostname: n078.local\n",
      "  iterations_since_restore: 1\n",
      "  mean_accuracy: 0.025\n",
      "  node_ip: 192.168.254.13\n",
      "  pid: 23937\n",
      "  time_since_restore: 0.5052196979522705\n",
      "  time_this_iter_s: 0.5052196979522705\n",
      "  time_total_s: 0.5052196979522705\n",
      "  timestamp: 1583717175\n",
      "  timesteps_since_restore: 0\n",
      "  training_iteration: 0\n",
      "  trial_id: f00ce224\n",
      "  \n",
      "Result for train_mnist_f00d164a:\n",
      "  date: 2020-03-09_10-26-15\n",
      "  done: false\n",
      "  experiment_id: 7fe1bc333eb04afbbe76e4d1d48d6d94\n",
      "  experiment_tag: 6_lr=0.5\n",
      "  hostname: n078.local\n",
      "  iterations_since_restore: 1\n",
      "  mean_accuracy: 0.103125\n",
      "  node_ip: 192.168.254.13\n",
      "  pid: 23935\n",
      "  time_since_restore: 0.5740060806274414\n",
      "  time_this_iter_s: 0.5740060806274414\n",
      "  time_total_s: 0.5740060806274414\n",
      "  timestamp: 1583717175\n",
      "  timesteps_since_restore: 0\n",
      "  training_iteration: 0\n",
      "  trial_id: f00d164a\n",
      "  \n"
     ]
    },
    {
     "data": {
      "text/html": [
       "== Status ==<br>Memory usage on this node: 9.9/16.0 GiB<br>Using FIFO scheduling algorithm.<br>Resources requested: 3/4 CPUs, 0/0 GPUs, 0.0/4.49 GiB heap, 0.0/1.56 GiB objects<br>Result logdir: /Users/angga.muhammad/ray_results/train_mnist<br>Number of trials: 7 (4 TERMINATED, 3 RUNNING)<br><table>\n",
       "<thead>\n",
       "<tr><th>Trial name          </th><th>status    </th><th>loc                 </th><th style=\"text-align: right;\">   lr</th><th style=\"text-align: right;\">     acc</th><th style=\"text-align: right;\">  total time (s)</th><th style=\"text-align: right;\">  iter</th></tr>\n",
       "</thead>\n",
       "<tbody>\n",
       "<tr><td>train_mnist_f00bcf56</td><td>TERMINATED</td><td>                    </td><td style=\"text-align: right;\">0.001</td><td style=\"text-align: right;\">0.128125</td><td style=\"text-align: right;\">         5.10228</td><td style=\"text-align: right;\">     9</td></tr>\n",
       "<tr><td>train_mnist_f00c075a</td><td>TERMINATED</td><td>                    </td><td style=\"text-align: right;\">0.01 </td><td style=\"text-align: right;\">0.740625</td><td style=\"text-align: right;\">         5.38223</td><td style=\"text-align: right;\">     9</td></tr>\n",
       "<tr><td>train_mnist_f00c45ee</td><td>TERMINATED</td><td>                    </td><td style=\"text-align: right;\">0.1  </td><td style=\"text-align: right;\">0.821875</td><td style=\"text-align: right;\">         5.19767</td><td style=\"text-align: right;\">     9</td></tr>\n",
       "<tr><td>train_mnist_f00c7b86</td><td>TERMINATED</td><td>                    </td><td style=\"text-align: right;\">0.2  </td><td style=\"text-align: right;\">0.859375</td><td style=\"text-align: right;\">         5.61174</td><td style=\"text-align: right;\">     9</td></tr>\n",
       "<tr><td>train_mnist_f00caea8</td><td>RUNNING   </td><td>192.168.254.13:23936</td><td style=\"text-align: right;\">0.3  </td><td style=\"text-align: right;\">0.8125  </td><td style=\"text-align: right;\">         3.18207</td><td style=\"text-align: right;\">     8</td></tr>\n",
       "<tr><td>train_mnist_f00ce224</td><td>RUNNING   </td><td>192.168.254.13:23937</td><td style=\"text-align: right;\">0.4  </td><td style=\"text-align: right;\">0.809375</td><td style=\"text-align: right;\">         3.1918 </td><td style=\"text-align: right;\">     8</td></tr>\n",
       "<tr><td>train_mnist_f00d164a</td><td>RUNNING   </td><td>192.168.254.13:23935</td><td style=\"text-align: right;\">0.5  </td><td style=\"text-align: right;\">0.121875</td><td style=\"text-align: right;\">         3.40524</td><td style=\"text-align: right;\">     8</td></tr>\n",
       "</tbody>\n",
       "</table><br><br>"
      ],
      "text/plain": [
       "<IPython.core.display.HTML object>"
      ]
     },
     "metadata": {},
     "output_type": "display_data"
    },
    {
     "data": {
      "text/html": [
       "== Status ==<br>Memory usage on this node: 9.9/16.0 GiB<br>Using FIFO scheduling algorithm.<br>Resources requested: 0/4 CPUs, 0/0 GPUs, 0.0/4.49 GiB heap, 0.0/1.56 GiB objects<br>Result logdir: /Users/angga.muhammad/ray_results/train_mnist<br>Number of trials: 7 (7 TERMINATED)<br><table>\n",
       "<thead>\n",
       "<tr><th>Trial name          </th><th>status    </th><th>loc  </th><th style=\"text-align: right;\">   lr</th><th style=\"text-align: right;\">     acc</th><th style=\"text-align: right;\">  total time (s)</th><th style=\"text-align: right;\">  iter</th></tr>\n",
       "</thead>\n",
       "<tbody>\n",
       "<tr><td>train_mnist_f00bcf56</td><td>TERMINATED</td><td>     </td><td style=\"text-align: right;\">0.001</td><td style=\"text-align: right;\">0.128125</td><td style=\"text-align: right;\">         5.10228</td><td style=\"text-align: right;\">     9</td></tr>\n",
       "<tr><td>train_mnist_f00c075a</td><td>TERMINATED</td><td>     </td><td style=\"text-align: right;\">0.01 </td><td style=\"text-align: right;\">0.740625</td><td style=\"text-align: right;\">         5.38223</td><td style=\"text-align: right;\">     9</td></tr>\n",
       "<tr><td>train_mnist_f00c45ee</td><td>TERMINATED</td><td>     </td><td style=\"text-align: right;\">0.1  </td><td style=\"text-align: right;\">0.821875</td><td style=\"text-align: right;\">         5.19767</td><td style=\"text-align: right;\">     9</td></tr>\n",
       "<tr><td>train_mnist_f00c7b86</td><td>TERMINATED</td><td>     </td><td style=\"text-align: right;\">0.2  </td><td style=\"text-align: right;\">0.859375</td><td style=\"text-align: right;\">         5.61174</td><td style=\"text-align: right;\">     9</td></tr>\n",
       "<tr><td>train_mnist_f00caea8</td><td>TERMINATED</td><td>     </td><td style=\"text-align: right;\">0.3  </td><td style=\"text-align: right;\">0.821875</td><td style=\"text-align: right;\">         3.55935</td><td style=\"text-align: right;\">     9</td></tr>\n",
       "<tr><td>train_mnist_f00ce224</td><td>TERMINATED</td><td>     </td><td style=\"text-align: right;\">0.4  </td><td style=\"text-align: right;\">0.84375 </td><td style=\"text-align: right;\">         3.57933</td><td style=\"text-align: right;\">     9</td></tr>\n",
       "<tr><td>train_mnist_f00d164a</td><td>TERMINATED</td><td>     </td><td style=\"text-align: right;\">0.5  </td><td style=\"text-align: right;\">0.14375 </td><td style=\"text-align: right;\">         3.80652</td><td style=\"text-align: right;\">     9</td></tr>\n",
       "</tbody>\n",
       "</table><br><br>"
      ],
      "text/plain": [
       "<IPython.core.display.HTML object>"
      ]
     },
     "metadata": {},
     "output_type": "display_data"
    },
    {
     "name": "stderr",
     "output_type": "stream",
     "text": [
      "2020-03-09 10:26:18,599\tINFO tune.py:352 -- Returning an analysis object by default. You can call `analysis.trials` to retrieve a list of trials. This message will be removed in future versions of Tune.\n"
     ]
    }
   ],
   "source": [
    "analysis = tune.run(train_mnist, config={\"lr\": tune.grid_search([0.001, 0.01, 0.1, 0.2, 0.3, 0.4, 0.5])})"
   ]
  },
  {
   "cell_type": "code",
   "execution_count": 4,
   "metadata": {},
   "outputs": [
    {
     "data": {
      "text/html": [
       "<div>\n",
       "<style scoped>\n",
       "    .dataframe tbody tr th:only-of-type {\n",
       "        vertical-align: middle;\n",
       "    }\n",
       "\n",
       "    .dataframe tbody tr th {\n",
       "        vertical-align: top;\n",
       "    }\n",
       "\n",
       "    .dataframe thead th {\n",
       "        text-align: right;\n",
       "    }\n",
       "</style>\n",
       "<table border=\"1\" class=\"dataframe\">\n",
       "  <thead>\n",
       "    <tr style=\"text-align: right;\">\n",
       "      <th></th>\n",
       "      <th>config/lr</th>\n",
       "      <th>mean_accuracy</th>\n",
       "    </tr>\n",
       "  </thead>\n",
       "  <tbody>\n",
       "    <tr>\n",
       "      <th>0</th>\n",
       "      <td>0.001</td>\n",
       "      <td>0.128125</td>\n",
       "    </tr>\n",
       "    <tr>\n",
       "      <th>1</th>\n",
       "      <td>0.010</td>\n",
       "      <td>0.740625</td>\n",
       "    </tr>\n",
       "    <tr>\n",
       "      <th>2</th>\n",
       "      <td>0.100</td>\n",
       "      <td>0.821875</td>\n",
       "    </tr>\n",
       "    <tr>\n",
       "      <th>3</th>\n",
       "      <td>0.200</td>\n",
       "      <td>0.859375</td>\n",
       "    </tr>\n",
       "    <tr>\n",
       "      <th>4</th>\n",
       "      <td>0.300</td>\n",
       "      <td>0.821875</td>\n",
       "    </tr>\n",
       "    <tr>\n",
       "      <th>5</th>\n",
       "      <td>0.400</td>\n",
       "      <td>0.843750</td>\n",
       "    </tr>\n",
       "    <tr>\n",
       "      <th>6</th>\n",
       "      <td>0.500</td>\n",
       "      <td>0.143750</td>\n",
       "    </tr>\n",
       "  </tbody>\n",
       "</table>\n",
       "</div>"
      ],
      "text/plain": [
       "   config/lr  mean_accuracy\n",
       "0      0.001       0.128125\n",
       "1      0.010       0.740625\n",
       "2      0.100       0.821875\n",
       "3      0.200       0.859375\n",
       "4      0.300       0.821875\n",
       "5      0.400       0.843750\n",
       "6      0.500       0.143750"
      ]
     },
     "execution_count": 4,
     "metadata": {},
     "output_type": "execute_result"
    }
   ],
   "source": [
    "df_analysis = analysis.dataframe()\n",
    "df_analysis[['config/lr', 'mean_accuracy']]"
   ]
  },
  {
   "cell_type": "code",
   "execution_count": 5,
   "metadata": {},
   "outputs": [
    {
     "name": "stdout",
     "output_type": "stream",
     "text": [
      "Best config:  {'lr': 0.2}\n"
     ]
    }
   ],
   "source": [
    "print(\"Best config: \", analysis.get_best_config(metric=\"mean_accuracy\"))"
   ]
  },
  {
   "cell_type": "markdown",
   "metadata": {},
   "source": [
    "---"
   ]
  }
 ],
 "metadata": {
  "kernelspec": {
   "display_name": "Python 3",
   "language": "python",
   "name": "python3"
  },
  "language_info": {
   "codemirror_mode": {
    "name": "ipython",
    "version": 3
   },
   "file_extension": ".py",
   "mimetype": "text/x-python",
   "name": "python",
   "nbconvert_exporter": "python",
   "pygments_lexer": "ipython3",
   "version": "3.7.3"
  }
 },
 "nbformat": 4,
 "nbformat_minor": 2
}
