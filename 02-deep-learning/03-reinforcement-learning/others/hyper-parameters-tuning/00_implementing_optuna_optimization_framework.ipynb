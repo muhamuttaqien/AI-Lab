{
 "cells": [
  {
   "cell_type": "code",
   "execution_count": 1,
   "metadata": {
    "collapsed": true
   },
   "outputs": [],
   "source": [
    "from sklearn.datasets import load_iris\n",
    "from sklearn.model_selection import train_test_split\n",
    "from sklearn.neural_network import MLPClassifier"
   ]
  },
  {
   "cell_type": "markdown",
   "metadata": {},
   "source": [
    "## Set MLP Architecture"
   ]
  },
  {
   "cell_type": "code",
   "execution_count": 2,
   "metadata": {},
   "outputs": [],
   "source": [
    "layers = [128, 64, 64, 128]"
   ]
  },
  {
   "cell_type": "code",
   "execution_count": 3,
   "metadata": {},
   "outputs": [],
   "source": [
    "X, y = load_iris(return_X_y=True)"
   ]
  },
  {
   "cell_type": "code",
   "execution_count": 4,
   "metadata": {
    "collapsed": true
   },
   "outputs": [],
   "source": [
    "x_train, x_test, y_train, y_test = train_test_split(X, y, random_state=90)"
   ]
  },
  {
   "cell_type": "code",
   "execution_count": 5,
   "metadata": {
    "collapsed": true
   },
   "outputs": [],
   "source": [
    "clf = MLPClassifier(hidden_layer_sizes=tuple(layers))"
   ]
  },
  {
   "cell_type": "code",
   "execution_count": 6,
   "metadata": {},
   "outputs": [
    {
     "data": {
      "text/plain": [
       "MLPClassifier(activation='relu', alpha=0.0001, batch_size='auto', beta_1=0.9,\n",
       "       beta_2=0.999, early_stopping=False, epsilon=1e-08,\n",
       "       hidden_layer_sizes=(128, 64, 64, 128), learning_rate='constant',\n",
       "       learning_rate_init=0.001, max_iter=200, momentum=0.9,\n",
       "       nesterovs_momentum=True, power_t=0.5, random_state=None,\n",
       "       shuffle=True, solver='adam', tol=0.0001, validation_fraction=0.1,\n",
       "       verbose=False, warm_start=False)"
      ]
     },
     "execution_count": 6,
     "metadata": {},
     "output_type": "execute_result"
    }
   ],
   "source": [
    "clf.fit(x_train, y_train)"
   ]
  },
  {
   "cell_type": "code",
   "execution_count": 7,
   "metadata": {},
   "outputs": [
    {
     "data": {
      "text/plain": [
       "0.9736842105263158"
      ]
     },
     "execution_count": 7,
     "metadata": {},
     "output_type": "execute_result"
    }
   ],
   "source": [
    "clf.score(x_test, y_test)"
   ]
  },
  {
   "cell_type": "markdown",
   "metadata": {},
   "source": [
    "## Use Optuna"
   ]
  },
  {
   "cell_type": "code",
   "execution_count": 8,
   "metadata": {},
   "outputs": [],
   "source": [
    "import optuna"
   ]
  },
  {
   "cell_type": "code",
   "execution_count": 9,
   "metadata": {
    "collapsed": true
   },
   "outputs": [],
   "source": [
    "def func(trial):\n",
    "    layers = []\n",
    "    \n",
    "    n_layers = trial.suggest_int('n_layers', 1, 4)\n",
    "    for i in range(n_layers): \n",
    "        layers.append(trial.suggest_int(str(i), 1, 128))\n",
    "    X, y = load_iris(return_X_y=True)\n",
    "    x_train, x_test, y_train, y_test = train_test_split(X, y, random_state=90)\n",
    "    clf = MLPClassifier(hidden_layer_sizes=tuple(layers))\n",
    "    clf.fit(x_train, y_train)\n",
    "    \n",
    "    return clf.score(x_test, y_test)"
   ]
  },
  {
   "cell_type": "code",
   "execution_count": 10,
   "metadata": {
    "collapsed": true
   },
   "outputs": [],
   "source": [
    "study = optuna.create_study()"
   ]
  },
  {
   "cell_type": "code",
   "execution_count": 11,
   "metadata": {},
   "outputs": [
    {
     "name": "stderr",
     "output_type": "stream",
     "text": [
      "[I 2020-03-07 12:23:40,005] Finished trial#0 resulted in value: 0.9736842105263158. Current best value is 0.9736842105263158 with parameters: {'n_layers': 4, '0': 108, '1': 48, '2': 83, '3': 116}.\n",
      "/anaconda3/lib/python3.6/site-packages/sklearn/neural_network/multilayer_perceptron.py:564: ConvergenceWarning:\n",
      "\n",
      "Stochastic Optimizer: Maximum iterations (200) reached and the optimization hasn't converged yet.\n",
      "\n",
      "[I 2020-03-07 12:23:40,602] Finished trial#1 resulted in value: 0.9736842105263158. Current best value is 0.9736842105263158 with parameters: {'n_layers': 4, '0': 108, '1': 48, '2': 83, '3': 116}.\n",
      "[I 2020-03-07 12:23:40,809] Finished trial#2 resulted in value: 0.9736842105263158. Current best value is 0.9736842105263158 with parameters: {'n_layers': 4, '0': 108, '1': 48, '2': 83, '3': 116}.\n",
      "[I 2020-03-07 12:23:41,332] Finished trial#3 resulted in value: 0.9210526315789473. Current best value is 0.9210526315789473 with parameters: {'n_layers': 2, '0': 78, '1': 103}.\n",
      "[I 2020-03-07 12:23:42,023] Finished trial#4 resulted in value: 0.9736842105263158. Current best value is 0.9210526315789473 with parameters: {'n_layers': 2, '0': 78, '1': 103}.\n",
      "[I 2020-03-07 12:23:42,826] Finished trial#5 resulted in value: 0.9473684210526315. Current best value is 0.9210526315789473 with parameters: {'n_layers': 2, '0': 78, '1': 103}.\n",
      "[I 2020-03-07 12:23:43,386] Finished trial#6 resulted in value: 0.9736842105263158. Current best value is 0.9210526315789473 with parameters: {'n_layers': 2, '0': 78, '1': 103}.\n",
      "[I 2020-03-07 12:23:43,630] Finished trial#7 resulted in value: 0.9736842105263158. Current best value is 0.9210526315789473 with parameters: {'n_layers': 2, '0': 78, '1': 103}.\n",
      "[I 2020-03-07 12:23:44,198] Finished trial#8 resulted in value: 0.9736842105263158. Current best value is 0.9210526315789473 with parameters: {'n_layers': 2, '0': 78, '1': 103}.\n",
      "[I 2020-03-07 12:23:44,432] Finished trial#9 resulted in value: 0.9210526315789473. Current best value is 0.9210526315789473 with parameters: {'n_layers': 2, '0': 78, '1': 103}.\n",
      "[I 2020-03-07 12:23:44,822] Finished trial#10 resulted in value: 0.9736842105263158. Current best value is 0.9210526315789473 with parameters: {'n_layers': 2, '0': 78, '1': 103}.\n",
      "[I 2020-03-07 12:23:45,064] Finished trial#11 resulted in value: 0.9473684210526315. Current best value is 0.9210526315789473 with parameters: {'n_layers': 2, '0': 78, '1': 103}.\n",
      "[I 2020-03-07 12:23:45,615] Finished trial#12 resulted in value: 0.9736842105263158. Current best value is 0.9210526315789473 with parameters: {'n_layers': 2, '0': 78, '1': 103}.\n",
      "[I 2020-03-07 12:23:45,965] Finished trial#13 resulted in value: 0.9210526315789473. Current best value is 0.9210526315789473 with parameters: {'n_layers': 2, '0': 78, '1': 103}.\n",
      "[I 2020-03-07 12:23:46,685] Finished trial#14 resulted in value: 0.9736842105263158. Current best value is 0.9210526315789473 with parameters: {'n_layers': 2, '0': 78, '1': 103}.\n",
      "[I 2020-03-07 12:23:46,959] Finished trial#15 resulted in value: 0.9473684210526315. Current best value is 0.9210526315789473 with parameters: {'n_layers': 2, '0': 78, '1': 103}.\n",
      "[I 2020-03-07 12:23:47,281] Finished trial#16 resulted in value: 0.9736842105263158. Current best value is 0.9210526315789473 with parameters: {'n_layers': 2, '0': 78, '1': 103}.\n",
      "[I 2020-03-07 12:23:47,803] Finished trial#17 resulted in value: 0.9736842105263158. Current best value is 0.9210526315789473 with parameters: {'n_layers': 2, '0': 78, '1': 103}.\n",
      "[I 2020-03-07 12:23:48,068] Finished trial#18 resulted in value: 0.868421052631579. Current best value is 0.868421052631579 with parameters: {'n_layers': 1, '0': 41}.\n",
      "[I 2020-03-07 12:23:48,284] Finished trial#19 resulted in value: 0.9736842105263158. Current best value is 0.868421052631579 with parameters: {'n_layers': 1, '0': 41}.\n",
      "[I 2020-03-07 12:23:48,520] Finished trial#20 resulted in value: 0.8947368421052632. Current best value is 0.868421052631579 with parameters: {'n_layers': 1, '0': 41}.\n",
      "[I 2020-03-07 12:23:48,888] Finished trial#21 resulted in value: 0.8947368421052632. Current best value is 0.868421052631579 with parameters: {'n_layers': 1, '0': 41}.\n",
      "[I 2020-03-07 12:23:49,150] Finished trial#22 resulted in value: 0.8157894736842105. Current best value is 0.8157894736842105 with parameters: {'n_layers': 1, '0': 34}.\n",
      "[I 2020-03-07 12:23:49,472] Finished trial#23 resulted in value: 0.9473684210526315. Current best value is 0.8157894736842105 with parameters: {'n_layers': 1, '0': 34}.\n",
      "[I 2020-03-07 12:23:49,679] Finished trial#24 resulted in value: 0.47368421052631576. Current best value is 0.47368421052631576 with parameters: {'n_layers': 1, '0': 7}.\n",
      "[I 2020-03-07 12:23:49,873] Finished trial#25 resulted in value: 0.8157894736842105. Current best value is 0.47368421052631576 with parameters: {'n_layers': 1, '0': 7}.\n",
      "[I 2020-03-07 12:23:50,097] Finished trial#26 resulted in value: 0.5. Current best value is 0.47368421052631576 with parameters: {'n_layers': 1, '0': 7}.\n",
      "[I 2020-03-07 12:23:50,430] Finished trial#27 resulted in value: 0.868421052631579. Current best value is 0.47368421052631576 with parameters: {'n_layers': 1, '0': 7}.\n",
      "[I 2020-03-07 12:23:50,658] Finished trial#28 resulted in value: 0.18421052631578946. Current best value is 0.18421052631578946 with parameters: {'n_layers': 1, '0': 2}.\n",
      "[I 2020-03-07 12:23:50,935] Finished trial#29 resulted in value: 0.9473684210526315. Current best value is 0.18421052631578946 with parameters: {'n_layers': 1, '0': 2}.\n",
      "[I 2020-03-07 12:23:51,332] Finished trial#30 resulted in value: 1.0. Current best value is 0.18421052631578946 with parameters: {'n_layers': 1, '0': 2}.\n",
      "[I 2020-03-07 12:23:51,537] Finished trial#31 resulted in value: 0.4473684210526316. Current best value is 0.18421052631578946 with parameters: {'n_layers': 1, '0': 2}.\n",
      "[I 2020-03-07 12:23:51,744] Finished trial#32 resulted in value: 0.3157894736842105. Current best value is 0.18421052631578946 with parameters: {'n_layers': 1, '0': 2}.\n",
      "[I 2020-03-07 12:23:51,952] Finished trial#33 resulted in value: 0.5526315789473685. Current best value is 0.18421052631578946 with parameters: {'n_layers': 1, '0': 2}.\n",
      "[I 2020-03-07 12:23:52,172] Finished trial#34 resulted in value: 0.9473684210526315. Current best value is 0.18421052631578946 with parameters: {'n_layers': 1, '0': 2}.\n",
      "[I 2020-03-07 12:23:52,661] Finished trial#35 resulted in value: 0.9736842105263158. Current best value is 0.18421052631578946 with parameters: {'n_layers': 1, '0': 2}.\n",
      "[I 2020-03-07 12:23:52,874] Finished trial#36 resulted in value: 0.15789473684210525. Current best value is 0.15789473684210525 with parameters: {'n_layers': 1, '0': 7}.\n",
      "[I 2020-03-07 12:23:53,040] Finished trial#37 resulted in value: 0.18421052631578946. Current best value is 0.15789473684210525 with parameters: {'n_layers': 1, '0': 7}.\n",
      "[I 2020-03-07 12:23:53,695] Finished trial#38 resulted in value: 0.9473684210526315. Current best value is 0.15789473684210525 with parameters: {'n_layers': 1, '0': 7}.\n",
      "[I 2020-03-07 12:23:54,392] Finished trial#39 resulted in value: 0.9736842105263158. Current best value is 0.15789473684210525 with parameters: {'n_layers': 1, '0': 7}.\n",
      "[I 2020-03-07 12:23:55,003] Finished trial#40 resulted in value: 0.9736842105263158. Current best value is 0.15789473684210525 with parameters: {'n_layers': 1, '0': 7}.\n",
      "[I 2020-03-07 12:23:55,607] Finished trial#41 resulted in value: 0.9473684210526315. Current best value is 0.15789473684210525 with parameters: {'n_layers': 1, '0': 7}.\n",
      "[I 2020-03-07 12:23:55,759] Finished trial#42 resulted in value: 0.18421052631578946. Current best value is 0.15789473684210525 with parameters: {'n_layers': 1, '0': 7}.\n",
      "[I 2020-03-07 12:23:56,480] Finished trial#43 resulted in value: 0.9473684210526315. Current best value is 0.15789473684210525 with parameters: {'n_layers': 1, '0': 7}.\n",
      "[I 2020-03-07 12:23:57,159] Finished trial#44 resulted in value: 1.0. Current best value is 0.15789473684210525 with parameters: {'n_layers': 1, '0': 7}.\n",
      "[I 2020-03-07 12:23:57,669] Finished trial#45 resulted in value: 0.8947368421052632. Current best value is 0.15789473684210525 with parameters: {'n_layers': 1, '0': 7}.\n",
      "[I 2020-03-07 12:23:58,411] Finished trial#46 resulted in value: 0.9736842105263158. Current best value is 0.15789473684210525 with parameters: {'n_layers': 1, '0': 7}.\n",
      "[I 2020-03-07 12:23:59,633] Finished trial#47 resulted in value: 0.9473684210526315. Current best value is 0.15789473684210525 with parameters: {'n_layers': 1, '0': 7}.\n",
      "[I 2020-03-07 12:24:00,015] Finished trial#48 resulted in value: 0.9210526315789473. Current best value is 0.15789473684210525 with parameters: {'n_layers': 1, '0': 7}.\n",
      "[I 2020-03-07 12:24:00,821] Finished trial#49 resulted in value: 0.9736842105263158. Current best value is 0.15789473684210525 with parameters: {'n_layers': 1, '0': 7}.\n",
      "[I 2020-03-07 12:24:01,941] Finished trial#50 resulted in value: 0.9736842105263158. Current best value is 0.15789473684210525 with parameters: {'n_layers': 1, '0': 7}.\n",
      "[I 2020-03-07 12:24:02,561] Finished trial#51 resulted in value: 0.5. Current best value is 0.15789473684210525 with parameters: {'n_layers': 1, '0': 7}.\n",
      "[I 2020-03-07 12:24:02,862] Finished trial#52 resulted in value: 0.9210526315789473. Current best value is 0.15789473684210525 with parameters: {'n_layers': 1, '0': 7}.\n",
      "[I 2020-03-07 12:24:03,061] Finished trial#53 resulted in value: 0.18421052631578946. Current best value is 0.15789473684210525 with parameters: {'n_layers': 1, '0': 7}.\n",
      "[I 2020-03-07 12:24:03,508] Finished trial#54 resulted in value: 1.0. Current best value is 0.15789473684210525 with parameters: {'n_layers': 1, '0': 7}.\n",
      "[I 2020-03-07 12:24:04,470] Finished trial#55 resulted in value: 0.9736842105263158. Current best value is 0.15789473684210525 with parameters: {'n_layers': 1, '0': 7}.\n",
      "[I 2020-03-07 12:24:05,365] Finished trial#56 resulted in value: 0.9473684210526315. Current best value is 0.15789473684210525 with parameters: {'n_layers': 1, '0': 7}.\n",
      "[I 2020-03-07 12:24:06,045] Finished trial#57 resulted in value: 0.9736842105263158. Current best value is 0.15789473684210525 with parameters: {'n_layers': 1, '0': 7}.\n",
      "[I 2020-03-07 12:24:06,445] Finished trial#58 resulted in value: 1.0. Current best value is 0.15789473684210525 with parameters: {'n_layers': 1, '0': 7}.\n",
      "[I 2020-03-07 12:24:06,724] Finished trial#59 resulted in value: 0.9473684210526315. Current best value is 0.15789473684210525 with parameters: {'n_layers': 1, '0': 7}.\n",
      "[I 2020-03-07 12:24:06,859] Finished trial#60 resulted in value: 0.18421052631578946. Current best value is 0.15789473684210525 with parameters: {'n_layers': 1, '0': 7}.\n",
      "[I 2020-03-07 12:24:07,491] Finished trial#61 resulted in value: 1.0. Current best value is 0.15789473684210525 with parameters: {'n_layers': 1, '0': 7}.\n",
      "[I 2020-03-07 12:24:07,882] Finished trial#62 resulted in value: 1.0. Current best value is 0.15789473684210525 with parameters: {'n_layers': 1, '0': 7}.\n",
      "[I 2020-03-07 12:24:08,041] Finished trial#63 resulted in value: 0.18421052631578946. Current best value is 0.15789473684210525 with parameters: {'n_layers': 1, '0': 7}.\n",
      "[I 2020-03-07 12:24:08,653] Finished trial#64 resulted in value: 0.9736842105263158. Current best value is 0.15789473684210525 with parameters: {'n_layers': 1, '0': 7}.\n",
      "[I 2020-03-07 12:24:08,831] Finished trial#65 resulted in value: 0.18421052631578946. Current best value is 0.15789473684210525 with parameters: {'n_layers': 1, '0': 7}.\n",
      "[I 2020-03-07 12:24:09,815] Finished trial#66 resulted in value: 0.9736842105263158. Current best value is 0.15789473684210525 with parameters: {'n_layers': 1, '0': 7}.\n",
      "[I 2020-03-07 12:24:11,085] Finished trial#67 resulted in value: 1.0. Current best value is 0.15789473684210525 with parameters: {'n_layers': 1, '0': 7}.\n",
      "[I 2020-03-07 12:24:11,751] Finished trial#68 resulted in value: 0.9736842105263158. Current best value is 0.15789473684210525 with parameters: {'n_layers': 1, '0': 7}.\n",
      "[I 2020-03-07 12:24:12,154] Finished trial#69 resulted in value: 0.9736842105263158. Current best value is 0.15789473684210525 with parameters: {'n_layers': 1, '0': 7}.\n",
      "[I 2020-03-07 12:24:12,852] Finished trial#70 resulted in value: 0.9736842105263158. Current best value is 0.15789473684210525 with parameters: {'n_layers': 1, '0': 7}.\n",
      "[I 2020-03-07 12:24:13,400] Finished trial#71 resulted in value: 0.9736842105263158. Current best value is 0.15789473684210525 with parameters: {'n_layers': 1, '0': 7}.\n",
      "[I 2020-03-07 12:24:13,758] Finished trial#72 resulted in value: 0.868421052631579. Current best value is 0.15789473684210525 with parameters: {'n_layers': 1, '0': 7}.\n",
      "[I 2020-03-07 12:24:14,340] Finished trial#73 resulted in value: 0.9736842105263158. Current best value is 0.15789473684210525 with parameters: {'n_layers': 1, '0': 7}.\n",
      "[I 2020-03-07 12:24:14,625] Finished trial#74 resulted in value: 0.18421052631578946. Current best value is 0.15789473684210525 with parameters: {'n_layers': 1, '0': 7}.\n",
      "[I 2020-03-07 12:24:15,434] Finished trial#75 resulted in value: 0.9473684210526315. Current best value is 0.15789473684210525 with parameters: {'n_layers': 1, '0': 7}.\n",
      "[I 2020-03-07 12:24:15,993] Finished trial#76 resulted in value: 0.9736842105263158. Current best value is 0.15789473684210525 with parameters: {'n_layers': 1, '0': 7}.\n",
      "[I 2020-03-07 12:24:16,239] Finished trial#77 resulted in value: 0.9473684210526315. Current best value is 0.15789473684210525 with parameters: {'n_layers': 1, '0': 7}.\n",
      "[I 2020-03-07 12:24:17,145] Finished trial#78 resulted in value: 0.9736842105263158. Current best value is 0.15789473684210525 with parameters: {'n_layers': 1, '0': 7}.\n",
      "[I 2020-03-07 12:24:17,715] Finished trial#79 resulted in value: 0.9736842105263158. Current best value is 0.15789473684210525 with parameters: {'n_layers': 1, '0': 7}.\n",
      "[I 2020-03-07 12:24:17,993] Finished trial#80 resulted in value: 0.9473684210526315. Current best value is 0.15789473684210525 with parameters: {'n_layers': 1, '0': 7}.\n",
      "[I 2020-03-07 12:24:18,702] Finished trial#81 resulted in value: 0.9210526315789473. Current best value is 0.15789473684210525 with parameters: {'n_layers': 1, '0': 7}.\n",
      "[I 2020-03-07 12:24:19,197] Finished trial#82 resulted in value: 0.9736842105263158. Current best value is 0.15789473684210525 with parameters: {'n_layers': 1, '0': 7}.\n",
      "[I 2020-03-07 12:24:19,354] Finished trial#83 resulted in value: 0.3157894736842105. Current best value is 0.15789473684210525 with parameters: {'n_layers': 1, '0': 7}.\n",
      "[I 2020-03-07 12:24:19,942] Finished trial#84 resulted in value: 0.9736842105263158. Current best value is 0.15789473684210525 with parameters: {'n_layers': 1, '0': 7}.\n",
      "[I 2020-03-07 12:24:20,667] Finished trial#85 resulted in value: 0.9736842105263158. Current best value is 0.15789473684210525 with parameters: {'n_layers': 1, '0': 7}.\n",
      "[I 2020-03-07 12:24:21,567] Finished trial#86 resulted in value: 0.9736842105263158. Current best value is 0.15789473684210525 with parameters: {'n_layers': 1, '0': 7}.\n",
      "[I 2020-03-07 12:24:22,479] Finished trial#87 resulted in value: 1.0. Current best value is 0.15789473684210525 with parameters: {'n_layers': 1, '0': 7}.\n",
      "[I 2020-03-07 12:24:23,330] Finished trial#88 resulted in value: 0.9473684210526315. Current best value is 0.15789473684210525 with parameters: {'n_layers': 1, '0': 7}.\n",
      "[I 2020-03-07 12:24:24,162] Finished trial#89 resulted in value: 0.8421052631578947. Current best value is 0.15789473684210525 with parameters: {'n_layers': 1, '0': 7}.\n",
      "[I 2020-03-07 12:24:24,446] Finished trial#90 resulted in value: 0.9736842105263158. Current best value is 0.15789473684210525 with parameters: {'n_layers': 1, '0': 7}.\n",
      "[I 2020-03-07 12:24:24,967] Finished trial#91 resulted in value: 1.0. Current best value is 0.15789473684210525 with parameters: {'n_layers': 1, '0': 7}.\n",
      "[I 2020-03-07 12:24:25,503] Finished trial#92 resulted in value: 1.0. Current best value is 0.15789473684210525 with parameters: {'n_layers': 1, '0': 7}.\n",
      "[I 2020-03-07 12:24:25,722] Finished trial#93 resulted in value: 0.7368421052631579. Current best value is 0.15789473684210525 with parameters: {'n_layers': 1, '0': 7}.\n",
      "[I 2020-03-07 12:24:25,908] Finished trial#94 resulted in value: 0.3157894736842105. Current best value is 0.15789473684210525 with parameters: {'n_layers': 1, '0': 7}.\n"
     ]
    },
    {
     "name": "stderr",
     "output_type": "stream",
     "text": [
      "[I 2020-03-07 12:24:26,086] Finished trial#95 resulted in value: 0.7368421052631579. Current best value is 0.15789473684210525 with parameters: {'n_layers': 1, '0': 7}.\n",
      "[I 2020-03-07 12:24:26,260] Finished trial#96 resulted in value: 0.18421052631578946. Current best value is 0.15789473684210525 with parameters: {'n_layers': 1, '0': 7}.\n",
      "[I 2020-03-07 12:24:26,461] Finished trial#97 resulted in value: 0.5. Current best value is 0.15789473684210525 with parameters: {'n_layers': 1, '0': 7}.\n",
      "[I 2020-03-07 12:24:26,683] Finished trial#98 resulted in value: 0.9473684210526315. Current best value is 0.15789473684210525 with parameters: {'n_layers': 1, '0': 7}.\n",
      "[I 2020-03-07 12:24:26,872] Finished trial#99 resulted in value: 0.868421052631579. Current best value is 0.15789473684210525 with parameters: {'n_layers': 1, '0': 7}.\n"
     ]
    }
   ],
   "source": [
    "study.optimize(func, n_trials=100)"
   ]
  },
  {
   "cell_type": "code",
   "execution_count": 12,
   "metadata": {},
   "outputs": [
    {
     "name": "stdout",
     "output_type": "stream",
     "text": [
      "Best Hyper-Parameters: {'n_layers': 1, '0': 7}\n",
      "Best Score: 0.15789473684210525\n"
     ]
    }
   ],
   "source": [
    "print('Best Hyper-Parameters:', study.best_params)\n",
    "print('Best Score:', study.best_value)"
   ]
  },
  {
   "cell_type": "markdown",
   "metadata": {},
   "source": [
    "---"
   ]
  }
 ],
 "metadata": {
  "kernelspec": {
   "display_name": "Python 3",
   "language": "python",
   "name": "python3"
  },
  "language_info": {
   "codemirror_mode": {
    "name": "ipython",
    "version": 3
   },
   "file_extension": ".py",
   "mimetype": "text/x-python",
   "name": "python",
   "nbconvert_exporter": "python",
   "pygments_lexer": "ipython3",
   "version": "3.7.3"
  }
 },
 "nbformat": 4,
 "nbformat_minor": 2
}
