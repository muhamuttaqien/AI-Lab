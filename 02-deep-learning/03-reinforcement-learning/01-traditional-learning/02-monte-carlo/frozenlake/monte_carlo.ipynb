{
 "cells": [
  {
   "cell_type": "code",
   "execution_count": 1,
   "metadata": {
    "collapsed": true
   },
   "outputs": [],
   "source": [
    "import random; random.seed(90)\n",
    "import operator\n",
    "import itertools\n",
    "import numpy as np\n",
    "import matplotlib.pyplot as plt\n",
    "\n",
    "from time import sleep\n",
    "from tqdm.notebook import tqdm\n",
    "from IPython.display import clear_output\n",
    "\n",
    "import gym\n",
    "from frozenlake import FrozenLakeEnv"
   ]
  },
  {
   "cell_type": "markdown",
   "metadata": {},
   "source": [
    "## Explore The Environment"
   ]
  },
  {
   "cell_type": "code",
   "execution_count": 2,
   "metadata": {
    "collapsed": true
   },
   "outputs": [],
   "source": [
    "env = FrozenLakeEnv(map_name=\"8x8\", is_slippery=True)"
   ]
  },
  {
   "cell_type": "code",
   "execution_count": 3,
   "metadata": {},
   "outputs": [
    {
     "name": "stdout",
     "output_type": "stream",
     "text": [
      "Environment Display:\n",
      "\n",
      "\u001b[41mS\u001b[0mFFFFFFF\n",
      "FFFFFFFF\n",
      "FFFHFFFF\n",
      "FFFFFHFF\n",
      "FFFHFFFF\n",
      "FHHFFFHF\n",
      "FHFFHFHF\n",
      "FFFHFFFG\n"
     ]
    }
   ],
   "source": [
    "print('Environment Display:')\n",
    "env.render()"
   ]
  },
  {
   "cell_type": "markdown",
   "metadata": {},
   "source": [
    "## Set Utils"
   ]
  },
  {
   "cell_type": "code",
   "execution_count": 4,
   "metadata": {
    "collapsed": true
   },
   "outputs": [],
   "source": [
    "def create_random_policy(env):\n",
    "    \n",
    "    policy = {}\n",
    "    for key in range(0, env.observation_space.n):\n",
    "        \n",
    "        p = {}\n",
    "        for action in range(0, env.action_space.n):\n",
    "            p[action] = 1/ env.action_space.n\n",
    "        policy[key] = p\n",
    "    \n",
    "    return policy"
   ]
  },
  {
   "cell_type": "code",
   "execution_count": 5,
   "metadata": {
    "collapsed": true
   },
   "outputs": [],
   "source": [
    "def create_Q_dictionary(env, policy):\n",
    "    \n",
    "    Q = {}\n",
    "    for key in policy.keys():\n",
    "        Q[key] = {action: 0.0 for action in range(0, env.action_space.n) }\n",
    "    return Q"
   ]
  },
  {
   "cell_type": "code",
   "execution_count": 6,
   "metadata": {
    "collapsed": true
   },
   "outputs": [],
   "source": [
    "def run_game(env, policy, display=True):\n",
    "    \n",
    "    env.reset()\n",
    "    episode = []\n",
    "    finished = False\n",
    "    \n",
    "    while not finished:\n",
    "        state = env.s\n",
    "        if display:\n",
    "            clear_output(True)\n",
    "            env.render()\n",
    "            sleep(1)\n",
    "            \n",
    "        timestep = []\n",
    "        timestep.append(state)\n",
    "        n = random.uniform(0, sum(policy[state].values()))\n",
    "        top_range = 0\n",
    "        for prob in policy[state].items():\n",
    "            top_range += prob[1]\n",
    "            if n < top_range:\n",
    "                action = prob[0]\n",
    "                break\n",
    "                \n",
    "        state, reward, finished, info = env.step(action)\n",
    "        timestep.append(action)\n",
    "        timestep.append(reward)\n",
    "        \n",
    "        episode.append(timestep)\n",
    "        \n",
    "    if display:\n",
    "        clear_output(True)\n",
    "        env.render()\n",
    "        sleep(1)\n",
    "        \n",
    "    return episode"
   ]
  },
  {
   "cell_type": "code",
   "execution_count": 7,
   "metadata": {
    "collapsed": true
   },
   "outputs": [],
   "source": [
    "def evaluate_policy(env, policy, num_episodes=100):\n",
    "    wins = 0; loss = 0\n",
    "    \n",
    "    print('Now, the agent is playing...')\n",
    "    for i in range(num_episodes):\n",
    "        episode_reward = run_game(env, policy, display=True)[-1][-1]\n",
    "        if episode_reward == 1:\n",
    "            wins += 1\n",
    "                \n",
    "    return wins/ num_episodes"
   ]
  },
  {
   "cell_type": "markdown",
   "metadata": {},
   "source": [
    "## Apply Monte Carlo Method"
   ]
  },
  {
   "cell_type": "code",
   "execution_count": 8,
   "metadata": {
    "collapsed": true
   },
   "outputs": [],
   "source": [
    "def monte_carlo_epsilon_soft_first_visit(env, policy=None, num_episodes=100, epsilon=0.01):\n",
    "    \n",
    "    if not policy:\n",
    "        policy = create_random_policy(env) # create an empty dictionary to store state-action values\n",
    "    Q = create_Q_dictionary(env, policy) # empty dictionary for storing rewards for each state-action pair\n",
    "    returns = {}\n",
    "    \n",
    "    print('The agent is learning...')\n",
    "    for _ in tqdm(range(num_episodes)): # looping through episodes\n",
    "        G = 0 # store cumulative reward in G (initialized at 0)\n",
    "        episode = run_game(env=env, policy=policy, display=False) # store state, action and value respectively\n",
    "        \n",
    "        # for loop through reversed indices of episode array\n",
    "        # the logic behind it being reversed is that the eventual reward would be at the end\n",
    "        # so we have to go back from the last timestep to the first one propagating result from the future\n",
    "        \n",
    "        for i in reversed(range(0, len(episode))):\n",
    "            \n",
    "            state_t, action_t, reward_t = episode[i]\n",
    "            state_action = (state_t, action_t)\n",
    "            G += reward_t # increment total reward by reward on current timestep\n",
    "            \n",
    "            # this filter implements first-visit MC control\n",
    "            if not state_action in [(x[0], x[1]) for x in episode[0:i]]:\n",
    "                if returns.get(state_action):\n",
    "                    returns[state_action].append(G)\n",
    "                else:\n",
    "                    returns[state_action] = [G]\n",
    "                    \n",
    "                Q[state_t][action_t] = sum(returns[state_action]) / len(returns[state_action]) # average reward across episodes\n",
    "                \n",
    "                Q_list = list(map(lambda x: x[1], Q[state_t].items())) # find the action with maximum value\n",
    "                indices = [i for i, x in enumerate(Q_list) if x == max(Q_list)]\n",
    "                Q_max = random.choice(indices)\n",
    "                \n",
    "                A_star = Q_max\n",
    "                for action in policy[state_t].items(): # update action probability for state_t in policy\n",
    "                    if action[0] == A_star:\n",
    "                        policy[state_t][action[0]] = 1 - epsilon + (epsilon / abs(sum(policy[state_t].values())))\n",
    "                    else:\n",
    "                        policy[state_t][action[0]] = (epsilon / abs(sum(policy[state_t].values())))\n",
    "    \n",
    "    return policy"
   ]
  },
  {
   "cell_type": "code",
   "execution_count": 9,
   "metadata": {},
   "outputs": [
    {
     "name": "stdout",
     "output_type": "stream",
     "text": [
      "The agent is learning...\n"
     ]
    },
    {
     "data": {
      "application/vnd.jupyter.widget-view+json": {
       "model_id": "2e919fce6f9841bd96988ba85e61f853",
       "version_major": 2,
       "version_minor": 0
      },
      "text/plain": [
       "A Jupyter Widget"
      ]
     },
     "metadata": {},
     "output_type": "display_data"
    },
    {
     "name": "stdout",
     "output_type": "stream",
     "text": [
      "\n"
     ]
    }
   ],
   "source": [
    "num_episodes = 100000\n",
    "optimal_policy = monte_carlo_epsilon_soft_first_visit(env, num_episodes=num_episodes)"
   ]
  },
  {
   "cell_type": "markdown",
   "metadata": {},
   "source": [
    "## Time To Play!"
   ]
  },
  {
   "cell_type": "code",
   "execution_count": 10,
   "metadata": {},
   "outputs": [
    {
     "name": "stdout",
     "output_type": "stream",
     "text": [
      "  (Right)\n",
      "SFFFFFFF\n",
      "FFFFFFFF\n",
      "FFFHFFFF\n",
      "FFFFFHFF\n",
      "FFFHFFFF\n",
      "FHHFFFHF\n",
      "FHFFHFHF\n",
      "FFFHFFF\u001b[41mG\u001b[0m\n",
      "Policy Score:  1.0\n"
     ]
    }
   ],
   "source": [
    "num_episodes = 10\n",
    "print('Policy Score: ', evaluate_policy(env, optimal_policy, num_episodes=num_episodes))"
   ]
  },
  {
   "cell_type": "markdown",
   "metadata": {},
   "source": [
    "---"
   ]
  }
 ],
 "metadata": {
  "kernelspec": {
   "display_name": "Python 3",
   "language": "python",
   "name": "python3"
  },
  "language_info": {
   "codemirror_mode": {
    "name": "ipython",
    "version": 3
   },
   "file_extension": ".py",
   "mimetype": "text/x-python",
   "name": "python",
   "nbconvert_exporter": "python",
   "pygments_lexer": "ipython3",
   "version": "3.6.7"
  }
 },
 "nbformat": 4,
 "nbformat_minor": 2
}
