{
 "cells": [
  {
   "cell_type": "markdown",
   "metadata": {},
   "source": [
    "# Deep Deterministic Policy Gradient"
   ]
  },
  {
   "cell_type": "code",
   "execution_count": 1,
   "metadata": {
    "collapsed": true
   },
   "outputs": [],
   "source": [
    "import os\n",
    "import numpy as np\n",
    "import matplotlib.pyplot as plt\n",
    "\n",
    "from collections import namedtuple, deque"
   ]
  },
  {
   "cell_type": "code",
   "execution_count": 2,
   "metadata": {
    "collapsed": true
   },
   "outputs": [],
   "source": [
    "import gym\n",
    "import torch\n",
    "import torch.nn as nn\n",
    "import torch.nn.functional as F\n",
    "import torch.optim as optim"
   ]
  },
  {
   "cell_type": "code",
   "execution_count": 3,
   "metadata": {
    "collapsed": true
   },
   "outputs": [],
   "source": [
    "from noise import OUNoise\n",
    "from buffer import ReplayBuffer\n",
    "from model import PolicyNetwork, ValueNetwork"
   ]
  },
  {
   "cell_type": "code",
   "execution_count": 4,
   "metadata": {
    "collapsed": true
   },
   "outputs": [],
   "source": [
    "import warnings\n",
    "warnings.simplefilter('ignore', UserWarning)"
   ]
  },
  {
   "cell_type": "code",
   "execution_count": 5,
   "metadata": {
    "collapsed": true
   },
   "outputs": [],
   "source": [
    "plt.style.use('ggplot')"
   ]
  },
  {
   "cell_type": "markdown",
   "metadata": {},
   "source": [
    "## Set Configs"
   ]
  },
  {
   "cell_type": "code",
   "execution_count": 6,
   "metadata": {
    "collapsed": true
   },
   "outputs": [],
   "source": [
    "is_cuda = torch.cuda.is_available()\n",
    "\n",
    "if is_cuda: device = torch.device('cuda')\n",
    "else: device = torch.device('cpu')"
   ]
  },
  {
   "cell_type": "code",
   "execution_count": 7,
   "metadata": {
    "collapsed": true
   },
   "outputs": [],
   "source": [
    "BUFFER_SIZE = int(1e6)\n",
    "BATCH_SIZE = 128\n",
    "GAMMA = 0.99\n",
    "TAU = 1e-3\n",
    "PRINT_EVERY = 100\n",
    "\n",
    "# actor & critic network have different learning rates\n",
    "LR_ACTOR = 1e-4\n",
    "LR_CRITIC = 3e-4\n",
    "WEIGHT_DECAY = 1e-4 # L2 weight decay"
   ]
  },
  {
   "cell_type": "markdown",
   "metadata": {},
   "source": [
    "## Set Environment"
   ]
  },
  {
   "cell_type": "code",
   "execution_count": 8,
   "metadata": {},
   "outputs": [
    {
     "name": "stdout",
     "output_type": "stream",
     "text": [
      "\u001b[33mWARN: gym.spaces.Box autodetected dtype as <class 'numpy.float32'>. Please provide explicit dtype.\u001b[0m\n",
      "\u001b[33mWARN: gym.spaces.Box autodetected dtype as <class 'numpy.float32'>. Please provide explicit dtype.\u001b[0m\n"
     ]
    }
   ],
   "source": [
    "ENV_NAME = 'BipedalWalker-v2'\n",
    "env = gym.make(ENV_NAME).unwrapped; env.seed(90);"
   ]
  },
  {
   "cell_type": "code",
   "execution_count": 9,
   "metadata": {},
   "outputs": [
    {
     "name": "stdout",
     "output_type": "stream",
     "text": [
      "Environment Display:\n",
      "State space Box(24,)\n",
      "Action space Box(4,)\n"
     ]
    }
   ],
   "source": [
    "print('Environment Display:')\n",
    "env.reset() # reset environment to a new, random state\n",
    "env.render()\n",
    "\n",
    "print('State space {}'.format(env.observation_space))\n",
    "print('Action space {}'.format(env.action_space))"
   ]
  },
  {
   "cell_type": "markdown",
   "metadata": {},
   "source": [
    "## Define [DDPG](https://arxiv.org/pdf/1509.02971.pdf) Agent"
   ]
  },
  {
   "cell_type": "code",
   "execution_count": 10,
   "metadata": {
    "collapsed": true
   },
   "outputs": [],
   "source": [
    "class DDPGAgent():\n",
    "    \"\"\"The Agent that will interacts with and learns from the environment.\"\"\"\n",
    "    \n",
    "    def __init__(self, env, seed):\n",
    "        \"\"\"Initialize an Agent object.\"\"\"\n",
    "        \n",
    "        self.env = env\n",
    "        \n",
    "        self.state_size = env.observation_space.shape[0]\n",
    "        self.action_size = env.action_space.shape[0]\n",
    "        \n",
    "        self.gamma = GAMMA\n",
    "        self.lr_actor = LR_ACTOR\n",
    "        self.lr_critic = LR_CRITIC\n",
    "        self.weight_decay = WEIGHT_DECAY\n",
    "        self.tau = TAU\n",
    "        \n",
    "        # initialize actor and critic networks\n",
    "        self.actor = PolicyNetwork(self.state_size, self.action_size, seed).to(device)\n",
    "        self.actor_target = PolicyNetwork(self.state_size, self.action_size, seed).to(device)\n",
    "        \n",
    "        self.critic = ValueNetwork(self.state_size, self.action_size, seed).to(device)\n",
    "        self.critic_target = ValueNetwork(self.state_size, self.action_size, seed).to(device)\n",
    "            \n",
    "        # set optimizers\n",
    "        self.actor_optimizer = optim.Adam(self.actor.parameters(), lr=self.lr_actor)\n",
    "        self.critic_optimizer = optim.Adam(self.critic.parameters(), lr=self.lr_critic, weight_decay=self.weight_decay)\n",
    "        \n",
    "        # introduce noise process\n",
    "        self.noise = OUNoise(self.action_size, seed)\n",
    "        \n",
    "        # set buffer\n",
    "        self.buffer = ReplayBuffer(BUFFER_SIZE, BATCH_SIZE, seed)\n",
    "        \n",
    "    def memorize(self, state, action, reward, next_state, done):\n",
    "        \"\"\"Save experience in replay memory, and use random sample from buffer to learn.\"\"\"\n",
    "        \n",
    "        self.buffer.add(state, action, reward, next_state, done)\n",
    "    \n",
    "        # if enough samples are available in memory, get random subset and learn\n",
    "        if len(self.buffer) > BATCH_SIZE:\n",
    "            experiences = self.buffer.sample()\n",
    "            self.learn(experiences, self.gamma)\n",
    "    \n",
    "    def act(self, state, add_noise=True):\n",
    "        \"\"\"Return action for given state as per current policy.\"\"\"\n",
    "        \n",
    "        state = torch.FloatTensor(state).to(device)\n",
    "        self.actor.eval()\n",
    "        with torch.no_grad():\n",
    "            action = self.actor(state).cpu().data.numpy()\n",
    "        self.actor.train()\n",
    "        \n",
    "        if add_noise==True:\n",
    "            action += self.noise.sample()\n",
    "        \n",
    "        action = np.clip(action, -1, 1)\n",
    "        \n",
    "        return action\n",
    "    \n",
    "    def reset(self):\n",
    "        \"\"\"Reset noise parameters.\"\"\"\n",
    "        self.noise.reset()\n",
    "        \n",
    "    def learn(self, experiences, gamma):\n",
    "        \"\"\"Update policy and value parameters using given batch of experience tuples.\"\"\"\n",
    "        \n",
    "        states, actions, rewards, next_states, dones = experiences\n",
    "        \n",
    "        # obtain Q expected\n",
    "        Q_expected = self.critic(states, actions)\n",
    "        \n",
    "        # critic learns to evaluate the optimal value function by using the best actions predicted by actor\n",
    "        next_actions = self.actor_target(next_states)\n",
    "        Q_target_next = self.critic_target(next_states, next_actions)\n",
    "        \n",
    "        # compute Q target\n",
    "        Q_targets = rewards + (gamma * Q_target_next * (1 - dones))\n",
    "        \n",
    "        # compute value loss\n",
    "        value_loss = F.mse_loss(Q_targets.detach(), Q_expected)\n",
    "        \n",
    "        # minimize critic loss\n",
    "        self.critic_optimizer.zero_grad()\n",
    "        value_loss.backward()\n",
    "        self.critic_optimizer.step()\n",
    "        \n",
    "        # update actor\n",
    "        policy_loss = -self.critic(states, self.actor(states)).mean()\n",
    "        \n",
    "        # minimize policy loss\n",
    "        self.actor_optimizer.zero_grad()\n",
    "        policy_loss.backward()\n",
    "        self.actor_optimizer.step()\n",
    "        \n",
    "        # softly update target networks\n",
    "        self.soft_update(self.actor, self.actor_target, self.tau)\n",
    "        self.soft_update(self.critic, self.critic_target, self.tau)\n",
    "    \n",
    "    def soft_update(self, local_model, target_model, tau):\n",
    "        \"\"\"Softly update model parameters.\"\"\"\n",
    "        \n",
    "        for target_param, local_param in zip(target_model.parameters(), local_model.parameters()):\n",
    "            target_param.data.copy_(local_param.data * tau + target_param.data * (1.0 - tau))\n",
    "            \n",
    "    def save(self, actor_path, critic_path):\n",
    "        \"\"\"Save trained agent.\"\"\"\n",
    "        \n",
    "        if not os.path.exists('./agents/'): os.makedirs('./agents/')\n",
    "        torch.save(self.actor.state_dict(), actor_path); torch.save(self.critic.state_dict(), critic_path)\n",
    "        \n",
    "    def watch(self, num_episodes):\n",
    "        \"\"\"Watch trained agent.\"\"\"\n",
    "        \n",
    "        for i_episode in range(1, num_episodes+1):\n",
    "    \n",
    "            state = env.reset()\n",
    "            rewards = []\n",
    "            for time_step in range(1000):\n",
    "\n",
    "                env.render() # render the screen\n",
    "\n",
    "                action = self.act(state) # select an action\n",
    "                next_state, reward, done, _ = env.step(action)\n",
    "\n",
    "                state = next_state\n",
    "                rewards.append(reward)\n",
    "                if done:\n",
    "                    break\n",
    "\n",
    "            print(f'\\rEpisode: {i_episode}, Average Score: {sum(rewards):.2f}')\n",
    "\n",
    "        env.close()"
   ]
  },
  {
   "cell_type": "code",
   "execution_count": 11,
   "metadata": {},
   "outputs": [],
   "source": [
    "agent = DDPGAgent(env, seed=90)"
   ]
  },
  {
   "cell_type": "markdown",
   "metadata": {},
   "source": [
    "## Train The Agent"
   ]
  },
  {
   "cell_type": "code",
   "execution_count": null,
   "metadata": {
    "collapsed": true
   },
   "outputs": [],
   "source": [
    "def train_agent(num_episodes=2000, max_time=700):\n",
    "    \n",
    "    scores = []\n",
    "    scores_window = deque(maxlen=PRINT_EVERY)\n",
    "    \n",
    "    for i_episode in range(1, num_episodes+1):\n",
    "        \n",
    "        state = env.reset()\n",
    "        agent.reset()\n",
    "        \n",
    "        score = 0\n",
    "        for time_step in range(max_time):\n",
    "            action = agent.act(state)\n",
    "            next_state, reward, done, _ = env.step(action)\n",
    "            \n",
    "            agent.memorize(state, action, reward, next_state, done)\n",
    "            state = next_state\n",
    "            \n",
    "            score += reward\n",
    "            if done:\n",
    "                break\n",
    "                \n",
    "        scores_window.append(score)\n",
    "        scores.append(score)\n",
    "        \n",
    "        print(f'\\rEpisode: {i_episode}, Average Score: {np.mean(scores_window):.2f}', end='')\n",
    "        \n",
    "        if i_episode % PRINT_EVERY == 0:\n",
    "            print(f'\\rEpisode: {i_episode}, Average Score: {np.mean(scores_window):.2f}')\n",
    "        if np.mean(scores_window) >= 300.0:\n",
    "            print(f'\\nEnvironment solved in {i_episode:d} episodes! Average Score: {np.mean(scores_window):.2f}')\n",
    "            break\n",
    "            \n",
    "    agent.save(f'./agents/ACTOR_{ENV_NAME}.pth', f'./agents/CRITIC_{ENV_NAME}.pth')\n",
    "    print('Training completed.')\n",
    "    \n",
    "    return scores"
   ]
  },
  {
   "cell_type": "code",
   "execution_count": null,
   "metadata": {},
   "outputs": [
    {
     "name": "stdout",
     "output_type": "stream",
     "text": [
      "Episode: 100, Average Score: -95.20\n",
      "Episode: 200, Average Score: -96.57\n",
      "Episode: 300, Average Score: -101.10\n",
      "Episode: 400, Average Score: -108.11\n",
      "Episode: 500, Average Score: -102.16\n",
      "Episode: 600, Average Score: -102.12\n",
      "Episode: 700, Average Score: -101.23\n",
      "Episode: 800, Average Score: -101.34\n",
      "Episode: 900, Average Score: -109.41\n",
      "Episode: 1000, Average Score: -96.55\n",
      "Episode: 1100, Average Score: -114.11\n",
      "Episode: 1200, Average Score: -96.342\n",
      "Episode: 1300, Average Score: -105.32\n",
      "Episode: 1400, Average Score: -96.825\n",
      "Episode: 1500, Average Score: -117.22\n",
      "Episode: 1600, Average Score: -123.42\n",
      "Episode: 1700, Average Score: -118.86\n",
      "Episode: 1800, Average Score: -111.88\n",
      "Episode: 1900, Average Score: -125.27\n",
      "Episode: 2000, Average Score: -122.89\n",
      "Training completed.\n"
     ]
    }
   ],
   "source": [
    "scores = train_agent(num_episodes=2000, max_time=700)"
   ]
  },
  {
   "cell_type": "markdown",
   "metadata": {},
   "source": [
    "## Evaluate The Agent"
   ]
  },
  {
   "cell_type": "code",
   "execution_count": null,
   "metadata": {},
   "outputs": [
    {
     "data": {
      "image/png": "[encoded data removed]",
      "text/plain": [
       "<matplotlib.figure.Figure at 0x11afebf98>"
      ]
     },
     "metadata": {},
     "output_type": "display_data"
    }
   ],
   "source": [
    "plt.figure(figsize=(10,5))\n",
    "plt.plot(np.arange(len(scores)), scores, color='green')\n",
    "plt.xlabel('Num of episodes')\n",
    "plt.ylabel('Score')\n",
    "if not os.path.exists('./images/'): os.makedirs('./images/')\n",
    "plt.savefig('./images/plot_of_ddpg_evaluation.png')\n",
    "plt.show()"
   ]
  },
  {
   "cell_type": "markdown",
   "metadata": {},
   "source": [
    "## 🎬 Watch The Smart Agent"
   ]
  },
  {
   "cell_type": "code",
   "execution_count": null,
   "metadata": {
    "collapsed": true
   },
   "outputs": [],
   "source": [
    "agent.actor.load_state_dict(torch.load(f'./agents/ACTOR_{ENV_NAME}.pth'));"
   ]
  },
  {
   "cell_type": "code",
   "execution_count": null,
   "metadata": {},
   "outputs": [
    {
     "name": "stdout",
     "output_type": "stream",
     "text": [
      "Episode: 1, Average Score: -123.60\n",
      "Episode: 2, Average Score: -126.92\n",
      "Episode: 3, Average Score: -124.65\n",
      "Episode: 4, Average Score: -132.11\n",
      "Episode: 5, Average Score: -106.43\n",
      "Episode: 6, Average Score: -125.85\n",
      "Episode: 7, Average Score: -122.24\n",
      "Episode: 8, Average Score: -103.40\n",
      "Episode: 9, Average Score: -124.98\n",
      "Episode: 10, Average Score: -126.47\n"
     ]
    }
   ],
   "source": [
    "agent.watch(num_episodes=10)"
   ]
  },
  {
   "cell_type": "markdown",
   "metadata": {},
   "source": [
    "---"
   ]
  }
 ],
 "metadata": {
  "kernelspec": {
   "display_name": "Python 3",
   "language": "python",
   "name": "python3"
  },
  "language_info": {
   "codemirror_mode": {
    "name": "ipython",
    "version": 3
   },
   "file_extension": ".py",
   "mimetype": "text/x-python",
   "name": "python",
   "nbconvert_exporter": "python",
   "pygments_lexer": "ipython3",
   "version": "3.6.7"
  }
 },
 "nbformat": 4,
 "nbformat_minor": 2
}
