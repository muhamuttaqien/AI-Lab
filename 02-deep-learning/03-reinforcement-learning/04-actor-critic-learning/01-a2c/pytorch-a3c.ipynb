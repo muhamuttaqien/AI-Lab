{
 "cells": [
  {
   "cell_type": "markdown",
   "metadata": {},
   "source": [
    "# A3C, Asynchronous Advantage Actor Critic"
   ]
  },
  {
   "cell_type": "code",
   "execution_count": 1,
   "metadata": {},
   "outputs": [],
   "source": [
    "import os\n",
    "import numpy as np\n",
    "import matplotlib.pyplot as plt\n",
    "\n",
    "from collections import namedtuple, deque"
   ]
  },
  {
   "cell_type": "code",
   "execution_count": 2,
   "metadata": {},
   "outputs": [],
   "source": [
    "import gym\n",
    "import torch\n",
    "import torch.nn as nn\n",
    "import torch.nn.functional as F\n",
    "import torch.multiprocessing as mp\n",
    "import torch.optim as optim\n",
    "from torch.distributions import Categorical"
   ]
  },
  {
   "cell_type": "code",
   "execution_count": 3,
   "metadata": {},
   "outputs": [],
   "source": [
    "from model import PolicyNetwork, ValueNetwork, HybridNetwork"
   ]
  },
  {
   "cell_type": "code",
   "execution_count": 4,
   "metadata": {},
   "outputs": [],
   "source": [
    "import warnings\n",
    "warnings.simplefilter('ignore', UserWarning)"
   ]
  },
  {
   "cell_type": "code",
   "execution_count": 5,
   "metadata": {},
   "outputs": [],
   "source": [
    "plt.style.use('ggplot')"
   ]
  },
  {
   "cell_type": "markdown",
   "metadata": {},
   "source": [
    "## Set Configs"
   ]
  },
  {
   "cell_type": "code",
   "execution_count": 6,
   "metadata": {},
   "outputs": [],
   "source": [
    "is_cuda = torch.cuda.is_available()\n",
    "\n",
    "if is_cuda: device = torch.device('cuda')\n",
    "else: device = torch.device('cpu')"
   ]
  },
  {
   "cell_type": "code",
   "execution_count": 7,
   "metadata": {},
   "outputs": [],
   "source": [
    "GAMMA = 0.99\n",
    "LR = 1e-3\n",
    "GLOBAL_NUM_EPISODES = 1000\n",
    "PRINT_EVERY = 100"
   ]
  },
  {
   "cell_type": "markdown",
   "metadata": {},
   "source": [
    "## Set Environment"
   ]
  },
  {
   "cell_type": "code",
   "execution_count": 8,
   "metadata": {},
   "outputs": [
    {
     "name": "stderr",
     "output_type": "stream",
     "text": [
      "[2020-02-21 16:17:22,560] Making new env: CartPole-v0\n",
      "/Users/angga.muhammad/anaconda3/lib/python3.7/site-packages/gym/envs/registration.py:17: PkgResourcesDeprecationWarning: Parameters to load are deprecated.  Call .resolve and .require separately.\n",
      "  result = entry_point.load(False)\n"
     ]
    }
   ],
   "source": [
    "ENV_NAME = 'CartPole-v0'\n",
    "env = gym.make(ENV_NAME).unwrapped; env.seed(90);"
   ]
  },
  {
   "cell_type": "code",
   "execution_count": 9,
   "metadata": {},
   "outputs": [
    {
     "name": "stdout",
     "output_type": "stream",
     "text": [
      "Environment Display:\n",
      "State space Box(4,)\n",
      "Action space Discrete(2)\n"
     ]
    }
   ],
   "source": [
    "print('Environment Display:')\n",
    "env.reset() # reset environment to a new, random state\n",
    "env.render()\n",
    "\n",
    "print('State space {}'.format(env.observation_space))\n",
    "print('Action space {}'.format(env.action_space))"
   ]
  },
  {
   "cell_type": "markdown",
   "metadata": {},
   "source": [
    "## Define Agent Worker"
   ]
  },
  {
   "cell_type": "code",
   "execution_count": 10,
   "metadata": {},
   "outputs": [],
   "source": [
    "class AgentWorker(mp.Process):\n",
    "    \n",
    "    def __init__(self, i, env, seed, global_network, global_optimizer, global_episode, global_num_episodes):\n",
    "        \n",
    "        super(AgentWorker, self).__init__()\n",
    "        \n",
    "        self.name = f'worker{i}'\n",
    "\n",
    "        self.env = env\n",
    "        self.state_size = env.observation_space.shape[0]\n",
    "        self.hidden_size = 256\n",
    "        self.action_size = env.action_space.n\n",
    "        \n",
    "        self.gamma = GAMMA\n",
    "        \n",
    "        self.local_network = HybridNetwork(self.state_size, self.hidden_size, self.action_size, seed).to(device)\n",
    "        \n",
    "        self.global_network = global_network\n",
    "        self.global_optimizer = global_optimizer\n",
    "        self.global_episode = global_episode\n",
    "        self.global_num_episodes = global_num_episodes\n",
    "        \n",
    "    def act(self, state):\n",
    "        \n",
    "        state = torch.FloatTensor(state).to(device)\n",
    "        probs, _ = self.local_network(state)\n",
    "        m = Categorical(probs)\n",
    "        \n",
    "        action = m.sample()\n",
    "        \n",
    "        return action.cpu().detach().item()\n",
    "    \n",
    "    def update_global(self, trajectory):\n",
    "        \n",
    "        total_loss = self.compute_loss(trajectory)\n",
    "        \n",
    "        self.global_optimizer.zero_grad()\n",
    "        total_loss.backward()\n",
    "        \n",
    "        # propagate local gradients to global parameters\n",
    "        for local_params, global_params in zip(self.local_network.parameters(), self.global_network.parameters()):\n",
    "            global_params._grad = local_params._grad\n",
    "        self.global_optimizer.step()\n",
    "        \n",
    "        return total_loss\n",
    "    \n",
    "    def compute_loss(self, trajectory):\n",
    "        \n",
    "        states = torch.FloatTensor([sarsd[0] for sarsd in trajectory])\n",
    "        states = states.to(device)\n",
    "        \n",
    "        actions = torch.LongTensor([sarsd[1] for sarsd in trajectory]).view(-1, 1)\n",
    "        actions = actions.to(device)\n",
    "        \n",
    "        rewards = torch.FloatTensor([sarsd[2] for sarsd in trajectory])\n",
    "        rewards = rewards.to(device)\n",
    "        \n",
    "        next_states = torch.FloatTensor([sarsd[3] for sarsd in trajectory])\n",
    "        next_states = next_states.to(device)\n",
    "        \n",
    "        dones = torch.FloatTensor([sarsd[4] for sarsd in trajectory]).float().view(-1, 1)\n",
    "        dones = dones.to(device)\n",
    "        \n",
    "        # compute value target\n",
    "        discounted_rewards = [torch.sum(torch.FloatTensor([self.gamma**i for i in \\\n",
    "                              range(rewards[j:].size(0))]) * rewards[j:]) for j in range(rewards.size(0))]\n",
    "        \n",
    "        value_targets = rewards.view(-1, 1) + torch.FloatTensor(discounted_rewards).view(-1, 1).to(device)\n",
    "        \n",
    "        # compute policy loss with entropy bonus & value loss\n",
    "        probs, values = self.local_network(states)\n",
    "        m = Categorical(probs)\n",
    "        \n",
    "        value_loss = F.mse_loss(values, value_targets.detach())\n",
    "        \n",
    "        # compute entropy bonus\n",
    "        entropy = []\n",
    "        for prob in probs:\n",
    "            entropy.append(-torch.sum(prob.mean() * torch.log(prob)))\n",
    "        entropy = torch.stack(entropy).sum()\n",
    "        \n",
    "        advantage = value_targets - values\n",
    "        policy_loss = -m.log_prob(actions.view(actions.size(0))).view(-1, 1) * advantage.detach()\n",
    "        policy_loss = policy_loss.mean() \n",
    "        \n",
    "        total_loss = policy_loss + value_loss - 0.001 * entropy\n",
    "        \n",
    "        return total_loss\n",
    "\n",
    "    def sync_with_global(self):\n",
    "        \n",
    "        self.local_network.load_state_dict(self.global_network.state_dict())\n",
    "    \n",
    "    def run(self):\n",
    "        \n",
    "        state = env.reset()\n",
    "        score = 0\n",
    "        \n",
    "        trajectory = []\n",
    "        \n",
    "        while self.global_episode.value < self.global_num_episodes:\n",
    "            \n",
    "            action = self.act(state)\n",
    "            next_state, reward, done, _ = env.step(action)\n",
    "            trajectory.append([state, action, reward, next_state, done])\n",
    "            \n",
    "            score += reward\n",
    "            \n",
    "            if done:\n",
    "                with self.global_episode.get_lock():\n",
    "                    self.global_episode.value += 1\n",
    "                \n",
    "                print(f'\\rEpisode: {str(self.global_episode.value)}, Worker: {self.name}, Average Score: {score:.2f}')\n",
    "                \n",
    "                total_loss = self.update_global(trajectory)\n",
    "                self.sync_with_global()\n",
    "                \n",
    "                trajectory = []\n",
    "                score = 0\n",
    "                state = self.env.reset()\n",
    "            \n",
    "            state = next_state"
   ]
  },
  {
   "cell_type": "markdown",
   "metadata": {},
   "source": [
    "## Define [A3C](https://arxiv.org/pdf/1602.01783.pdf) Agent"
   ]
  },
  {
   "cell_type": "code",
   "execution_count": 11,
   "metadata": {},
   "outputs": [],
   "source": [
    "class A3CAgent():\n",
    "    \n",
    "    def __init__(self, env, global_num_episodes, seed):\n",
    "        \n",
    "        self.env = env\n",
    "        self.state_size = env.observation_space.shape[0]\n",
    "        self.hidden_size = 256\n",
    "        self.action_size = env.action_space.n\n",
    "        \n",
    "        self.gamma = GAMMA\n",
    "        self.lr = LR\n",
    "        \n",
    "        self.global_episode = mp.Value('i', 0)\n",
    "        self.global_num_episodes = global_num_episodes\n",
    "        \n",
    "        self.global_network = HybridNetwork(self.state_size, self.hidden_size, self.action_size, seed)\n",
    "        self.global_optimizer = optim.Adam(self.global_network.parameters(), lr=self.lr)\n",
    "        self.workers = [AgentWorker(self.global_episode.value, env, seed, \n",
    "                                    self.global_network, self.global_optimizer, self.global_episode, self.global_num_episodes)]\n",
    "    \n",
    "    def train(self):\n",
    "        \n",
    "        for worker in self.workers: worker.start() \n",
    "        for worker in self.workers: worker.join()\n",
    "        print('Training completed.')        \n",
    "        \n",
    "    def save(self, agent_path):\n",
    "        \n",
    "        if not os.path.exists('./agents/'): os.makedirs('./agents/')\n",
    "        torch.save(agent.global_network.state_dict(), agent_path)"
   ]
  },
  {
   "cell_type": "code",
   "execution_count": 12,
   "metadata": {
    "scrolled": true
   },
   "outputs": [],
   "source": [
    "agent = A3CAgent(env, GLOBAL_NUM_EPISODES, seed=90)"
   ]
  },
  {
   "cell_type": "markdown",
   "metadata": {},
   "source": [
    "## Train The Agent"
   ]
  },
  {
   "cell_type": "code",
   "execution_count": 13,
   "metadata": {},
   "outputs": [
    {
     "name": "stdout",
     "output_type": "stream",
     "text": [
      "Episode: 1, Worker: worker0, Average Score: 38.00\n",
      "Episode: 2, Worker: worker0, Average Score: 36.00\n",
      "Episode: 3, Worker: worker0, Average Score: 12.00\n",
      "Episode: 4, Worker: worker0, Average Score: 55.00\n",
      "Episode: 5, Worker: worker0, Average Score: 11.00\n",
      "Episode: 6, Worker: worker0, Average Score: 30.00\n",
      "Episode: 7, Worker: worker0, Average Score: 23.00\n",
      "Episode: 8, Worker: worker0, Average Score: 18.00\n",
      "Episode: 9, Worker: worker0, Average Score: 17.00\n",
      "Episode: 10, Worker: worker0, Average Score: 62.00\n",
      "Episode: 11, Worker: worker0, Average Score: 20.00\n",
      "Episode: 12, Worker: worker0, Average Score: 30.00\n",
      "Episode: 13, Worker: worker0, Average Score: 129.00\n",
      "Training completed.\n"
     ]
    }
   ],
   "source": [
    "scores = agent.train()\n",
    "agent.save(f'./agents/A3C_{ENV_NAME}.pth')"
   ]
  },
  {
   "cell_type": "markdown",
   "metadata": {},
   "source": [
    "---"
   ]
  }
 ],
 "metadata": {
  "kernelspec": {
   "display_name": "Python 3",
   "language": "python",
   "name": "python3"
  },
  "language_info": {
   "codemirror_mode": {
    "name": "ipython",
    "version": 3
   },
   "file_extension": ".py",
   "mimetype": "text/x-python",
   "name": "python",
   "nbconvert_exporter": "python",
   "pygments_lexer": "ipython3",
   "version": "3.7.3"
  }
 },
 "nbformat": 4,
 "nbformat_minor": 2
}
