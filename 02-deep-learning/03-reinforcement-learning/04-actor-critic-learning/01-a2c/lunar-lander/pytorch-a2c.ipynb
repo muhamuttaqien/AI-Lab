{
 "cells": [
  {
   "cell_type": "markdown",
   "metadata": {},
   "source": [
    "# A2C, Advantage Actor Critic"
   ]
  },
  {
   "cell_type": "code",
   "execution_count": 1,
   "metadata": {
    "collapsed": true
   },
   "outputs": [],
   "source": [
    "import os\n",
    "import numpy as np\n",
    "import matplotlib.pyplot as plt\n",
    "\n",
    "from collections import namedtuple, deque"
   ]
  },
  {
   "cell_type": "code",
   "execution_count": 2,
   "metadata": {
    "collapsed": true
   },
   "outputs": [],
   "source": [
    "import gym\n",
    "import torch\n",
    "import torch.nn as nn\n",
    "import torch.nn.functional as F\n",
    "import torch.optim as optim\n",
    "from torch.distributions import Categorical"
   ]
  },
  {
   "cell_type": "code",
   "execution_count": 3,
   "metadata": {
    "collapsed": true
   },
   "outputs": [],
   "source": [
    "from model import PolicyNetwork, ValueNetwork, HybridNetwork"
   ]
  },
  {
   "cell_type": "code",
   "execution_count": 4,
   "metadata": {
    "collapsed": true
   },
   "outputs": [],
   "source": [
    "plt.style.use('ggplot')"
   ]
  },
  {
   "cell_type": "markdown",
   "metadata": {},
   "source": [
    "## Set Configs"
   ]
  },
  {
   "cell_type": "code",
   "execution_count": 5,
   "metadata": {
    "collapsed": true
   },
   "outputs": [],
   "source": [
    "is_cuda = torch.cuda.is_available()\n",
    "\n",
    "if is_cuda: device = torch.device('cuda')\n",
    "else: device = torch.device('cpu')"
   ]
  },
  {
   "cell_type": "code",
   "execution_count": 6,
   "metadata": {
    "collapsed": true
   },
   "outputs": [],
   "source": [
    "GAMMA = 0.99\n",
    "LR = 1e-4\n",
    "PRINT_EVERY = 100"
   ]
  },
  {
   "cell_type": "markdown",
   "metadata": {},
   "source": [
    "## Set Environment"
   ]
  },
  {
   "cell_type": "code",
   "execution_count": 7,
   "metadata": {},
   "outputs": [
    {
     "name": "stdout",
     "output_type": "stream",
     "text": [
      "\u001b[33mWARN: gym.spaces.Box autodetected dtype as <class 'numpy.float32'>. Please provide explicit dtype.\u001b[0m\n"
     ]
    }
   ],
   "source": [
    "ENV_NAME = 'LunarLander-v2'\n",
    "env = gym.make(ENV_NAME).unwrapped; env.seed(90);"
   ]
  },
  {
   "cell_type": "code",
   "execution_count": 8,
   "metadata": {},
   "outputs": [
    {
     "name": "stdout",
     "output_type": "stream",
     "text": [
      "Environment Display:\n",
      "State space Box(8,)\n",
      "Action space Discrete(4)\n"
     ]
    }
   ],
   "source": [
    "print('Environment Display:')\n",
    "env.reset() # reset environment to a new, random state\n",
    "env.render()\n",
    "\n",
    "print('State space {}'.format(env.observation_space))\n",
    "print('Action space {}'.format(env.action_space))"
   ]
  },
  {
   "cell_type": "markdown",
   "metadata": {},
   "source": [
    "## Define [A2C](https://arxiv.org/pdf/1602.01783.pdf) Agent"
   ]
  },
  {
   "cell_type": "code",
   "execution_count": 9,
   "metadata": {
    "collapsed": true
   },
   "outputs": [],
   "source": [
    "class A2CAgent():\n",
    "    \n",
    "    def __init__(self, env, seed):\n",
    "        \n",
    "        self.env = env\n",
    "        self.state_size = env.observation_space.shape[0]\n",
    "        self.hidden_size = 256\n",
    "        self.action_size = env.action_space.n\n",
    "        \n",
    "        self.gamma = GAMMA\n",
    "        self.lr = LR\n",
    "        \n",
    "        # initialize actor and critic networks\n",
    "        self.actor = PolicyNetwork(self.state_size, self.hidden_size, self.action_size, seed).to(device)\n",
    "        self.critic = ValueNetwork(self.state_size, self.hidden_size, 1, seed).to(device)\n",
    "        \n",
    "        self.actor_optimizer = optim.Adam(self.actor.parameters(), lr=self.lr)\n",
    "        self.critic_optimizer = optim.Adam(self.critic.parameters(), lr=self.lr)\n",
    "        \n",
    "    def act(self, state):\n",
    "        \n",
    "        state = torch.FloatTensor(state).to(device)\n",
    "        probs = self.actor(state)\n",
    "        m = Categorical(probs)\n",
    "        \n",
    "        action = m.sample()\n",
    "        \n",
    "        return action.cpu().detach().item()\n",
    "    \n",
    "    def learn(self, trajectory):\n",
    "        \n",
    "        policy_loss, value_loss = self.compute_loss(trajectory)\n",
    "        \n",
    "        self.actor_optimizer.zero_grad()\n",
    "        policy_loss.backward()\n",
    "        self.actor_optimizer.step()\n",
    "        \n",
    "        self.critic_optimizer.zero_grad()\n",
    "        value_loss.backward()\n",
    "        self.critic_optimizer.step()\n",
    "        \n",
    "        return policy_loss, value_loss\n",
    "    \n",
    "    def compute_loss(self, trajectory):\n",
    "        \n",
    "        states = torch.FloatTensor([sarsd[0] for sarsd in trajectory])\n",
    "        states = states.to(device)\n",
    "        \n",
    "        actions = torch.LongTensor([sarsd[1] for sarsd in trajectory]).view(-1, 1)\n",
    "        actions = actions.to(device)\n",
    "        \n",
    "        rewards = torch.FloatTensor([sarsd[2] for sarsd in trajectory])\n",
    "        rewards = rewards.to(device)\n",
    "        \n",
    "        next_states = torch.FloatTensor([sarsd[3] for sarsd in trajectory])\n",
    "        next_states = next_states.to(device)\n",
    "        \n",
    "        dones = torch.FloatTensor([sarsd[4] for sarsd in trajectory]).float().view(-1, 1)\n",
    "        dones = dones.to(device)\n",
    "        \n",
    "        # compute value target\n",
    "        discounted_rewards = [torch.sum(torch.FloatTensor([self.gamma**i for i in \\\n",
    "                              range(rewards[j:].size(0))]) * rewards[j:]) for j in range(rewards.size(0))]\n",
    "        \n",
    "        value_targets = rewards.view(-1, 1) + torch.FloatTensor(discounted_rewards).view(-1, 1).to(device)\n",
    "        \n",
    "        # compute value loss\n",
    "        values = self.critic(states)\n",
    "        value_loss = F.mse_loss(value_targets.detach(), values)\n",
    "        \n",
    "        # compute policy loss with entropy bonus\n",
    "        probs = self.actor(states)\n",
    "        m = Categorical(probs)\n",
    "        \n",
    "        # compute entropy bonus\n",
    "        entropy = []\n",
    "        for prob in probs:\n",
    "            entropy.append(-torch.sum(prob.mean() * torch.log(prob)))\n",
    "        entropy = torch.stack(entropy).sum()\n",
    "        \n",
    "        # compute advantage function to calculate the extra reward get by agent and to avoid high variability\n",
    "        advantage = value_targets - values\n",
    "        policy_loss = -m.log_prob(actions.view(actions.size(0))).view(-1, 1) * advantage.detach()\n",
    "        policy_loss = policy_loss.mean() - 0.001 * entropy\n",
    "        \n",
    "        return policy_loss, value_loss\n",
    "    \n",
    "    def save(self, actor_path, critic_path):\n",
    "        \n",
    "        if not os.path.exists('./agents/'): os.makedirs('./agents/')\n",
    "        torch.save(self.actor.state_dict(), actor_path); torch.save(self.critic.state_dict(), critic_path)\n",
    "        \n",
    "    def watch(self, num_episodes):\n",
    "        \n",
    "        for i_episode in range(1, num_episodes+1):\n",
    "    \n",
    "            state = env.reset()\n",
    "            rewards = []\n",
    "            for time_step in range(1000):\n",
    "\n",
    "                env.render() # render the screen\n",
    "\n",
    "                action = self.act(state) # select an action\n",
    "                next_state, reward, done, _ = env.step(action)\n",
    "\n",
    "                state = next_state\n",
    "                rewards.append(reward)\n",
    "                if done:\n",
    "                    break\n",
    "\n",
    "            print(f'\\rEpisode: {i_episode}, Average Score: {sum(rewards):.2f}')\n",
    "\n",
    "        env.close()"
   ]
  },
  {
   "cell_type": "code",
   "execution_count": 10,
   "metadata": {
    "collapsed": true
   },
   "outputs": [],
   "source": [
    "agent = A2CAgent(env, seed=90)"
   ]
  },
  {
   "cell_type": "markdown",
   "metadata": {},
   "source": [
    "## Train The Agent"
   ]
  },
  {
   "cell_type": "code",
   "execution_count": 11,
   "metadata": {
    "collapsed": true
   },
   "outputs": [],
   "source": [
    "def train_agent(num_episodes=1000, max_time=5000):\n",
    "    \n",
    "    scores = []\n",
    "    policy_loss_plot = []; value_loss_plot = []\n",
    "    scores_window = deque(maxlen=100)\n",
    "    \n",
    "    for i_episode in range(1, num_episodes+1):\n",
    "        \n",
    "        state = env.reset()\n",
    "        score = 0\n",
    "        \n",
    "        trajectory = []\n",
    "        \n",
    "        for time_step in range(max_time):\n",
    "            action = agent.act(state)\n",
    "            next_state, reward, done, _ = env.step(action)\n",
    "            trajectory.append([state, action, reward, next_state, done])\n",
    "            \n",
    "            state = next_state\n",
    "            score += reward\n",
    "            if done:\n",
    "                break\n",
    "                \n",
    "        scores_window.append(score)\n",
    "        scores.append(score)\n",
    "        \n",
    "        policy_loss, value_loss = agent.learn(trajectory)\n",
    "        policy_loss_plot.append(policy_loss); value_loss_plot.append(value_loss)\n",
    "        \n",
    "        print(f'\\rEpisode: {i_episode}, Average Score: {np.mean(scores_window):.2f}, Policy Loss: {policy_loss:2f}, Value Loss: {value_loss:2f}', end='')\n",
    "        \n",
    "        if i_episode % PRINT_EVERY == 0:\n",
    "            print(f'\\rEpisode: {i_episode}, Average Score: {np.mean(scores_window):.2f}, Policy Loss: {policy_loss:2f}, Value Loss: {value_loss:2f}')\n",
    "        if np.mean(scores_window) >= 200.0:\n",
    "            print(f'\\nEnvironment solved in {i_episode-100:d} episodes! Average Score: {np.mean(scores_window):.2f}, Policy Loss: {policy_loss:2f}, Value Loss: {value_loss:2f}')\n",
    "            break\n",
    "            \n",
    "    agent.save(f'./agents/ACTOR_{ENV_NAME}.pth', f'./agents/CRITIC_{ENV_NAME}.pth')\n",
    "    print('Training completed.')\n",
    "    \n",
    "    return scores, policy_loss_plot, value_loss_plot"
   ]
  },
  {
   "cell_type": "code",
   "execution_count": 12,
   "metadata": {},
   "outputs": [
    {
     "name": "stdout",
     "output_type": "stream",
     "text": [
      "Episode: 100, Average Score: -267.49, Policy Loss: -155.593948, Value Loss: 13016.175781\n",
      "Episode: 200, Average Score: -274.02, Policy Loss: -117.430557, Value Loss: 7558.11474608\n",
      "Episode: 300, Average Score: -306.38, Policy Loss: -400.759674, Value Loss: 85902.6796888\n",
      "Episode: 400, Average Score: -322.26, Policy Loss: -362.121246, Value Loss: 68163.6406250\n",
      "Episode: 500, Average Score: -329.58, Policy Loss: -460.398621, Value Loss: 112523.960938\n",
      "Episode: 600, Average Score: -383.53, Policy Loss: -268.212860, Value Loss: 33101.1171880\n",
      "Episode: 700, Average Score: -393.72, Policy Loss: -432.785278, Value Loss: 83620.37500062\n",
      "Episode: 800, Average Score: -436.91, Policy Loss: -796.960754, Value Loss: 70853.21875038\n",
      "Episode: 900, Average Score: -488.24, Policy Loss: -1156.473511, Value Loss: 123140.562500\n",
      "Episode: 1000, Average Score: -471.69, Policy Loss: -1268.365601, Value Loss: 102489.398438\n",
      "Episode: 1100, Average Score: -523.25, Policy Loss: -742.609314, Value Loss: 49892.44921900\n",
      "Episode: 1200, Average Score: -526.13, Policy Loss: -1096.034302, Value Loss: 59592.9414065\n",
      "Episode: 1300, Average Score: -492.98, Policy Loss: -4133.142578, Value Loss: 169973.562500\n",
      "Episode: 1400, Average Score: -503.56, Policy Loss: -2689.833740, Value Loss: 65768.6718750\n",
      "Episode: 1500, Average Score: -495.32, Policy Loss: -1460.440308, Value Loss: 30851.7617190\n",
      "Episode: 1600, Average Score: -477.49, Policy Loss: -3444.376709, Value Loss: 78746.5234380\n",
      "Episode: 1700, Average Score: -489.06, Policy Loss: -526.954468, Value Loss: 18070.54296980\n",
      "Episode: 1800, Average Score: -497.75, Policy Loss: -2734.879639, Value Loss: 72400.0703125\n",
      "Episode: 1900, Average Score: -506.96, Policy Loss: -4164.831055, Value Loss: 111502.007812\n",
      "Episode: 2000, Average Score: -504.17, Policy Loss: -1830.684570, Value Loss: 24616.0332035\n",
      "Training completed.\n"
     ]
    }
   ],
   "source": [
    "scores, policy_loss, value_loss = train_agent(num_episodes=2000, max_time=500)"
   ]
  },
  {
   "cell_type": "markdown",
   "metadata": {},
   "source": [
    "## Evaluate The Agent"
   ]
  },
  {
   "cell_type": "code",
   "execution_count": 13,
   "metadata": {},
   "outputs": [
    {
     "data": {
      "image/png": "[encoded data removed]",
      "text/plain": [
       "<matplotlib.figure.Figure at 0x12abc4d68>"
      ]
     },
     "metadata": {},
     "output_type": "display_data"
    }
   ],
   "source": [
    "plt.figure(figsize=(10,5))\n",
    "plt.plot(np.arange(len(scores)), scores, color='green')\n",
    "plt.xlabel('Num of episodes')\n",
    "plt.ylabel('Score')\n",
    "if not os.path.exists('./images/'): os.makedirs('./images/')\n",
    "plt.savefig('./images/plot_of_a2c_evaluation.png')\n",
    "plt.show()"
   ]
  },
  {
   "cell_type": "markdown",
   "metadata": {},
   "source": [
    "## 🎬 Watch The Smart Agen"
   ]
  },
  {
   "cell_type": "raw",
   "metadata": {
    "collapsed": true
   },
   "source": [
    "agent.actor.load_state_dict(torch.load(f'./agents/ACTOR_{ENV_NAME}.pth'));"
   ]
  },
  {
   "cell_type": "code",
   "execution_count": 14,
   "metadata": {},
   "outputs": [
    {
     "name": "stdout",
     "output_type": "stream",
     "text": [
      "Episode: 1, Average Score: -318.91\n",
      "Episode: 2, Average Score: -498.06\n",
      "Episode: 3, Average Score: -254.48\n",
      "Episode: 4, Average Score: -424.33\n",
      "Episode: 5, Average Score: -170.58\n",
      "Episode: 6, Average Score: -548.35\n",
      "Episode: 7, Average Score: -260.17\n",
      "Episode: 8, Average Score: -307.19\n",
      "Episode: 9, Average Score: -566.36\n",
      "Episode: 10, Average Score: -422.94\n"
     ]
    }
   ],
   "source": [
    "agent.watch(num_episodes=10)"
   ]
  },
  {
   "cell_type": "markdown",
   "metadata": {},
   "source": [
    "---"
   ]
  }
 ],
 "metadata": {
  "kernelspec": {
   "display_name": "Python 3",
   "language": "python",
   "name": "python3"
  },
  "language_info": {
   "codemirror_mode": {
    "name": "ipython",
    "version": 3
   },
   "file_extension": ".py",
   "mimetype": "text/x-python",
   "name": "python",
   "nbconvert_exporter": "python",
   "pygments_lexer": "ipython3",
   "version": "3.6.7"
  }
 },
 "nbformat": 4,
 "nbformat_minor": 2
}
