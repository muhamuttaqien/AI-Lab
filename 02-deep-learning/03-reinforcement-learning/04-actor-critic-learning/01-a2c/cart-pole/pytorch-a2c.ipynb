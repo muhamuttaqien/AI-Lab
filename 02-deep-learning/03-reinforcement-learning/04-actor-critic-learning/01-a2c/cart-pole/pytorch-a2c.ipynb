{
 "cells": [
  {
   "cell_type": "markdown",
   "metadata": {},
   "source": [
    "# A2C, Advantage Actor Critic"
   ]
  },
  {
   "cell_type": "code",
   "execution_count": 1,
   "metadata": {
    "collapsed": true
   },
   "outputs": [],
   "source": [
    "import os\n",
    "import numpy as np\n",
    "import matplotlib.pyplot as plt\n",
    "\n",
    "from collections import namedtuple, deque"
   ]
  },
  {
   "cell_type": "code",
   "execution_count": 2,
   "metadata": {
    "collapsed": true
   },
   "outputs": [],
   "source": [
    "import gym\n",
    "import torch\n",
    "import torch.nn as nn\n",
    "import torch.nn.functional as F\n",
    "import torch.optim as optim\n",
    "from torch.distributions import Categorical"
   ]
  },
  {
   "cell_type": "code",
   "execution_count": 3,
   "metadata": {
    "collapsed": true
   },
   "outputs": [],
   "source": [
    "from model import PolicyNetwork, ValueNetwork, HybridNetwork"
   ]
  },
  {
   "cell_type": "code",
   "execution_count": 4,
   "metadata": {
    "collapsed": true
   },
   "outputs": [],
   "source": [
    "plt.style.use('ggplot')"
   ]
  },
  {
   "cell_type": "markdown",
   "metadata": {},
   "source": [
    "## Set Configs"
   ]
  },
  {
   "cell_type": "code",
   "execution_count": 5,
   "metadata": {
    "collapsed": true
   },
   "outputs": [],
   "source": [
    "is_cuda = torch.cuda.is_available()\n",
    "\n",
    "if is_cuda: device = torch.device('cuda')\n",
    "else: device = torch.device('cpu')"
   ]
  },
  {
   "cell_type": "code",
   "execution_count": 6,
   "metadata": {
    "collapsed": true
   },
   "outputs": [],
   "source": [
    "GAMMA = 0.99\n",
    "LR = 1e-4\n",
    "PRINT_EVERY = 100"
   ]
  },
  {
   "cell_type": "markdown",
   "metadata": {},
   "source": [
    "## Set Environment"
   ]
  },
  {
   "cell_type": "code",
   "execution_count": 7,
   "metadata": {},
   "outputs": [
    {
     "name": "stdout",
     "output_type": "stream",
     "text": [
      "\u001b[33mWARN: gym.spaces.Box autodetected dtype as <class 'numpy.float32'>. Please provide explicit dtype.\u001b[0m\n"
     ]
    }
   ],
   "source": [
    "ENV_NAME = 'CartPole-v0'\n",
    "env = gym.make(ENV_NAME).unwrapped; env.seed(90);"
   ]
  },
  {
   "cell_type": "code",
   "execution_count": 8,
   "metadata": {},
   "outputs": [
    {
     "name": "stdout",
     "output_type": "stream",
     "text": [
      "Environment Display:\n",
      "State space Box(4,)\n",
      "Action space Discrete(2)\n"
     ]
    }
   ],
   "source": [
    "print('Environment Display:')\n",
    "env.reset() # reset environment to a new, random state\n",
    "env.render()\n",
    "\n",
    "print('State space {}'.format(env.observation_space))\n",
    "print('Action space {}'.format(env.action_space))"
   ]
  },
  {
   "cell_type": "markdown",
   "metadata": {},
   "source": [
    "## Define [A2C](https://arxiv.org/pdf/1602.01783.pdf) Agent"
   ]
  },
  {
   "cell_type": "code",
   "execution_count": 9,
   "metadata": {
    "collapsed": true
   },
   "outputs": [],
   "source": [
    "class A2CAgent():\n",
    "    \n",
    "    def __init__(self, env, seed):\n",
    "        \n",
    "        self.env = env\n",
    "        self.state_size = env.observation_space.shape[0]\n",
    "        self.hidden_size = 256\n",
    "        self.action_size = env.action_space.n\n",
    "        \n",
    "        self.gamma = GAMMA\n",
    "        self.lr = LR\n",
    "        \n",
    "        # initialize actor and critic networks\n",
    "        self.actor = PolicyNetwork(self.state_size, self.hidden_size, self.action_size, seed).to(device)\n",
    "        self.critic = ValueNetwork(self.state_size, self.hidden_size, 1, seed).to(device)\n",
    "        \n",
    "        self.actor_optimizer = optim.Adam(self.actor.parameters(), lr=self.lr)\n",
    "        self.critic_optimizer = optim.Adam(self.critic.parameters(), lr=self.lr)\n",
    "        \n",
    "    def act(self, state):\n",
    "        \n",
    "        state = torch.FloatTensor(state).to(device)\n",
    "        probs = self.actor(state)\n",
    "        m = Categorical(probs)\n",
    "        \n",
    "        action = m.sample()\n",
    "        \n",
    "        return action.cpu().detach().item()\n",
    "    \n",
    "    def learn(self, trajectory):\n",
    "        \n",
    "        policy_loss, value_loss = self.compute_loss(trajectory)\n",
    "        \n",
    "        self.actor_optimizer.zero_grad()\n",
    "        policy_loss.backward()\n",
    "        self.actor_optimizer.step()\n",
    "        \n",
    "        self.critic_optimizer.zero_grad()\n",
    "        value_loss.backward()\n",
    "        self.critic_optimizer.step()\n",
    "        \n",
    "        return policy_loss, value_loss\n",
    "    \n",
    "    def compute_loss(self, trajectory):\n",
    "        \n",
    "        states = torch.FloatTensor([sarsd[0] for sarsd in trajectory])\n",
    "        states = states.to(device)\n",
    "        \n",
    "        actions = torch.LongTensor([sarsd[1] for sarsd in trajectory]).view(-1, 1)\n",
    "        actions = actions.to(device)\n",
    "        \n",
    "        rewards = torch.FloatTensor([sarsd[2] for sarsd in trajectory])\n",
    "        rewards = rewards.to(device)\n",
    "        \n",
    "        next_states = torch.FloatTensor([sarsd[3] for sarsd in trajectory])\n",
    "        next_states = next_states.to(device)\n",
    "        \n",
    "        dones = torch.FloatTensor([sarsd[4] for sarsd in trajectory]).float().view(-1, 1)\n",
    "        dones = dones.to(device)\n",
    "        \n",
    "        # compute value target\n",
    "        discounted_rewards = [torch.sum(torch.FloatTensor([self.gamma**i for i in \\\n",
    "                              range(rewards[j:].size(0))]) * rewards[j:]) for j in range(rewards.size(0))]\n",
    "        \n",
    "        # rewards plus next state values\n",
    "        rewards = rewards.view(-1, 1) + torch.FloatTensor(discounted_rewards).view(-1, 1).to(device)\n",
    "        \n",
    "        # compute value loss\n",
    "        state_values = self.critic(states)\n",
    "        value_loss = F.mse_loss(rewards.detach(), state_values)\n",
    "        \n",
    "        # compute policy loss with entropy bonus\n",
    "        probs = self.actor(states)\n",
    "        m = Categorical(probs)\n",
    "        \n",
    "        # compute entropy bonus\n",
    "        dist_entropy = []\n",
    "        for prob in probs:\n",
    "            dist_entropy.append(-torch.sum(prob.mean() * torch.log(prob)))\n",
    "        dist_entropy = torch.stack(dist_entropy).sum()\n",
    "        \n",
    "        # compute advantage function to calculate the extra reward get by agent and to avoid high variability\n",
    "        advantages = rewards - state_values # TD estimate as a baseline\n",
    "        policy_loss = -m.log_prob(actions.view(actions.size(0))).view(-1, 1) * advantages.detach()\n",
    "        policy_loss = policy_loss.mean() - 0.001 * dist_entropy\n",
    "        \n",
    "        return policy_loss, value_loss\n",
    "    \n",
    "    def save(self, actor_path, critic_path):\n",
    "        \n",
    "        if not os.path.exists('./agents/'): os.makedirs('./agents/')\n",
    "        torch.save(self.actor.state_dict(), actor_path); torch.save(self.critic.state_dict(), critic_path)\n",
    "        \n",
    "    def watch(self, num_episodes):\n",
    "        \n",
    "        for i_episode in range(1, num_episodes+1):\n",
    "    \n",
    "            state = env.reset()\n",
    "            rewards = []\n",
    "            for time_step in range(1000):\n",
    "\n",
    "                env.render() # render the screen\n",
    "\n",
    "                action = self.act(state) # select an action\n",
    "                next_state, reward, done, _ = env.step(action)\n",
    "\n",
    "                state = next_state\n",
    "                rewards.append(reward)\n",
    "                if done:\n",
    "                    break\n",
    "\n",
    "            print(f'\\rEpisode: {i_episode}, Average Score: {sum(rewards):.2f}')\n",
    "\n",
    "        env.close()"
   ]
  },
  {
   "cell_type": "code",
   "execution_count": 10,
   "metadata": {
    "collapsed": true
   },
   "outputs": [],
   "source": [
    "agent = A2CAgent(env, seed=90)"
   ]
  },
  {
   "cell_type": "markdown",
   "metadata": {},
   "source": [
    "## Train The Agent"
   ]
  },
  {
   "cell_type": "code",
   "execution_count": 11,
   "metadata": {
    "collapsed": true
   },
   "outputs": [],
   "source": [
    "def train_agent(num_episodes=1000, max_time=5000):\n",
    "    \n",
    "    scores = []\n",
    "    policy_loss_plot = []; value_loss_plot = []\n",
    "    scores_window = deque(maxlen=100)\n",
    "    \n",
    "    for i_episode in range(1, num_episodes+1):\n",
    "        \n",
    "        state = env.reset()\n",
    "        score = 0\n",
    "        \n",
    "        trajectory = []\n",
    "        \n",
    "        for time_step in range(max_time):\n",
    "            action = agent.act(state)\n",
    "            next_state, reward, done, _ = env.step(action)\n",
    "            trajectory.append([state, action, reward, next_state, done])\n",
    "            \n",
    "            state = next_state\n",
    "            score += reward\n",
    "            if done:\n",
    "                break\n",
    "                \n",
    "        scores_window.append(score)\n",
    "        scores.append(score)\n",
    "        \n",
    "        policy_loss, value_loss = agent.learn(trajectory)\n",
    "        policy_loss_plot.append(policy_loss); value_loss_plot.append(value_loss)\n",
    "        \n",
    "        print(f'\\rEpisode: {i_episode}, Average Score: {np.mean(scores_window):.2f}, Policy Loss: {policy_loss:2f}, Value Loss: {value_loss:2f}', end='')\n",
    "        \n",
    "        if i_episode % PRINT_EVERY == 0:\n",
    "            print(f'\\rEpisode: {i_episode}, Average Score: {np.mean(scores_window):.2f}, Policy Loss: {policy_loss:2f}, Value Loss: {value_loss:2f}')\n",
    "        if np.mean(scores_window) >= 100.0:\n",
    "            print(f'\\nEnvironment solved in {i_episode-100:d} episodes! Average Score: {np.mean(scores_window):.2f}, Policy Loss: {policy_loss:2f}, Value Loss: {value_loss:2f}')\n",
    "            break\n",
    "            \n",
    "    agent.save(f'./agents/ACTOR_{ENV_NAME}.pth', f'./agents/CRITIC_{ENV_NAME}.pth')\n",
    "    print('Training completed.')\n",
    "    \n",
    "    return scores, policy_loss_plot, value_loss_plot"
   ]
  },
  {
   "cell_type": "code",
   "execution_count": 12,
   "metadata": {},
   "outputs": [
    {
     "name": "stdout",
     "output_type": "stream",
     "text": [
      "Episode: 100, Average Score: 28.83, Policy Loss: 7.052532, Value Loss: 144.7487346\n",
      "Episode: 200, Average Score: 37.62, Policy Loss: 16.844774, Value Loss: 879.7295537\n",
      "Episode: 300, Average Score: 46.63, Policy Loss: 8.423053, Value Loss: 257.68786685\n",
      "Episode: 400, Average Score: 48.86, Policy Loss: 17.711151, Value Loss: 1146.478149\n",
      "Episode: 500, Average Score: 57.15, Policy Loss: 10.703584, Value Loss: 445.3150339\n",
      "Episode: 600, Average Score: 60.06, Policy Loss: 12.538150, Value Loss: 545.4320072\n",
      "Episode: 700, Average Score: 66.47, Policy Loss: 14.749369, Value Loss: 841.9093024\n",
      "Episode: 800, Average Score: 65.59, Policy Loss: 14.585014, Value Loss: 626.8008421\n",
      "Episode: 900, Average Score: 71.91, Policy Loss: 6.408982, Value Loss: 192.29333563\n",
      "Episode: 1000, Average Score: 69.96, Policy Loss: 16.280685, Value Loss: 1138.090942\n",
      "Episode: 1100, Average Score: 88.16, Policy Loss: 17.605791, Value Loss: 1155.139404\n",
      "Episode: 1189, Average Score: 100.27, Policy Loss: 23.956533, Value Loss: 2022.566650\n",
      "Environment solved in 1089 episodes! Average Score: 100.27, Policy Loss: 23.956533, Value Loss: 2022.566650\n",
      "Training completed.\n"
     ]
    }
   ],
   "source": [
    "scores, policy_loss, value_loss = train_agent(num_episodes=2000, max_time=500)"
   ]
  },
  {
   "cell_type": "markdown",
   "metadata": {},
   "source": [
    "## Evaluate The Agent"
   ]
  },
  {
   "cell_type": "code",
   "execution_count": 13,
   "metadata": {},
   "outputs": [
    {
     "data": {
      "image/png": "[encoded data removed]",
      "text/plain": [
       "<matplotlib.figure.Figure at 0x12d08aeb8>"
      ]
     },
     "metadata": {},
     "output_type": "display_data"
    }
   ],
   "source": [
    "plt.figure(figsize=(10,5))\n",
    "plt.plot(np.arange(len(scores)), scores, color='green')\n",
    "plt.xlabel('Num of episodes')\n",
    "plt.ylabel('Score')\n",
    "if not os.path.exists('./images/'): os.makedirs('./images/')\n",
    "plt.savefig('./images/plot_of_a2c_evaluation.png')\n",
    "plt.show()"
   ]
  },
  {
   "cell_type": "markdown",
   "metadata": {},
   "source": [
    "## 🎬 Watch The Smart Agent"
   ]
  },
  {
   "cell_type": "code",
   "execution_count": 14,
   "metadata": {
    "collapsed": true
   },
   "outputs": [],
   "source": [
    "agent.actor.load_state_dict(torch.load(f'./agents/ACTOR_{ENV_NAME}.pth'));"
   ]
  },
  {
   "cell_type": "code",
   "execution_count": 15,
   "metadata": {},
   "outputs": [
    {
     "name": "stdout",
     "output_type": "stream",
     "text": [
      "Episode: 1, Average Score: 60.00\n",
      "Episode: 2, Average Score: 28.00\n",
      "Episode: 3, Average Score: 166.00\n",
      "Episode: 4, Average Score: 66.00\n",
      "Episode: 5, Average Score: 159.00\n",
      "Episode: 6, Average Score: 107.00\n",
      "Episode: 7, Average Score: 129.00\n",
      "Episode: 8, Average Score: 108.00\n",
      "Episode: 9, Average Score: 125.00\n",
      "Episode: 10, Average Score: 117.00\n"
     ]
    }
   ],
   "source": [
    "agent.watch(num_episodes=10)"
   ]
  },
  {
   "cell_type": "markdown",
   "metadata": {},
   "source": [
    "---"
   ]
  }
 ],
 "metadata": {
  "kernelspec": {
   "display_name": "Python 3",
   "language": "python",
   "name": "python3"
  },
  "language_info": {
   "codemirror_mode": {
    "name": "ipython",
    "version": 3
   },
   "file_extension": ".py",
   "mimetype": "text/x-python",
   "name": "python",
   "nbconvert_exporter": "python",
   "pygments_lexer": "ipython3",
   "version": "3.6.7"
  }
 },
 "nbformat": 4,
 "nbformat_minor": 2
}
