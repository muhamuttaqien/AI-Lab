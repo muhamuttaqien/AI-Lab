{
 "cells": [
  {
   "cell_type": "markdown",
   "metadata": {},
   "source": [
    "# A2C, Advantage Actor Critic"
   ]
  },
  {
   "cell_type": "code",
   "execution_count": null,
   "metadata": {},
   "outputs": [],
   "source": [
    "import os\n",
    "import numpy as np\n",
    "import matplotlib.pyplot as plt\n",
    "\n",
    "from collections import namedtuple, deque"
   ]
  },
  {
   "cell_type": "code",
   "execution_count": null,
   "metadata": {},
   "outputs": [],
   "source": [
    "import gym\n",
    "import torch\n",
    "import torch.nn as nn\n",
    "import torch.nn.functional as F\n",
    "import torch.optim as optim\n",
    "from torch.distributions import Categorical"
   ]
  },
  {
   "cell_type": "code",
   "execution_count": null,
   "metadata": {},
   "outputs": [],
   "source": [
    "from model import PolicyNetwork, ValueNetwork, HybridNetwork"
   ]
  },
  {
   "cell_type": "code",
   "execution_count": null,
   "metadata": {},
   "outputs": [],
   "source": [
    "plt.style.use('ggplot')"
   ]
  },
  {
   "cell_type": "markdown",
   "metadata": {},
   "source": [
    "## Set Configs"
   ]
  },
  {
   "cell_type": "code",
   "execution_count": null,
   "metadata": {},
   "outputs": [],
   "source": [
    "is_cuda = torch.cuda.is_available()\n",
    "\n",
    "if is_cuda: device = torch.device('cuda')\n",
    "else: device = torch.device('cpu')"
   ]
  },
  {
   "cell_type": "code",
   "execution_count": null,
   "metadata": {},
   "outputs": [],
   "source": [
    "GAMMA = 0.99\n",
    "LR = 1e-4\n",
    "PRINT_EVERY = 100"
   ]
  },
  {
   "cell_type": "markdown",
   "metadata": {},
   "source": [
    "## Set Environment"
   ]
  },
  {
   "cell_type": "code",
   "execution_count": null,
   "metadata": {},
   "outputs": [],
   "source": [
    "ENV_NAME = 'CartPole-v0'\n",
    "env = gym.make(ENV_NAME).unwrapped; env.seed(90);"
   ]
  },
  {
   "cell_type": "code",
   "execution_count": null,
   "metadata": {},
   "outputs": [],
   "source": [
    "print('Environment Display:')\n",
    "env.reset() # reset environment to a new, random state\n",
    "env.render()\n",
    "\n",
    "print('State space {}'.format(env.observation_space))\n",
    "print('Action space {}'.format(env.action_space))"
   ]
  },
  {
   "cell_type": "markdown",
   "metadata": {},
   "source": [
    "## Define [A2C](https://arxiv.org/pdf/1602.01783.pdf) Agent"
   ]
  },
  {
   "cell_type": "code",
   "execution_count": null,
   "metadata": {},
   "outputs": [],
   "source": [
    "class A2CAgent():\n",
    "    \n",
    "    def __init__(self, env, seed):\n",
    "        \n",
    "        self.env = env\n",
    "        self.state_size = env.observation_space.shape[0]\n",
    "        self.hidden_size = 256\n",
    "        self.action_size = env.action_space.n\n",
    "        \n",
    "        self.gamma = GAMMA\n",
    "        self.lr = LR\n",
    "        \n",
    "        # initialize actor and critic networks\n",
    "        self.actor = PolicyNetwork(self.state_size, self.hidden_size, self.action_size, seed).to(device)\n",
    "        self.critic = ValueNetwork(self.state_size, self.hidden_size, 1, seed).to(device)\n",
    "        \n",
    "        self.actor_optimizer = optim.Adam(self.actor.parameters(), lr=self.lr)\n",
    "        self.critic_optimizer = optim.Adam(self.critic.parameters(), lr=self.lr)\n",
    "        \n",
    "    def act(self, state):\n",
    "        \n",
    "        state = torch.FloatTensor(state).to(device)\n",
    "        probs = self.actor(state)\n",
    "        m = Categorical(probs)\n",
    "        \n",
    "        action = m.sample()\n",
    "        \n",
    "        return action.cpu().detach().item()\n",
    "    \n",
    "    def learn(self, trajectory):\n",
    "        \n",
    "        policy_loss, value_loss = self.compute_loss(trajectory)\n",
    "        \n",
    "        self.actor_optimizer.zero_grad()\n",
    "        policy_loss.backward()\n",
    "        self.actor_optimizer.step()\n",
    "        \n",
    "        self.critic_optimizer.zero_grad()\n",
    "        value_loss.backward()\n",
    "        self.critic_optimizer.step()\n",
    "        \n",
    "        return policy_loss, value_loss\n",
    "    \n",
    "    def compute_loss(self, trajectory):\n",
    "        \n",
    "        states = torch.FloatTensor([sarsd[0] for sarsd in trajectory])\n",
    "        states = states.to(device)\n",
    "        \n",
    "        actions = torch.LongTensor([sarsd[1] for sarsd in trajectory]).view(-1, 1)\n",
    "        actions = actions.to(device)\n",
    "        \n",
    "        rewards = torch.FloatTensor([sarsd[2] for sarsd in trajectory])\n",
    "        rewards = rewards.to(device)\n",
    "        \n",
    "        next_states = torch.FloatTensor([sarsd[3] for sarsd in trajectory])\n",
    "        next_states = next_states.to(device)\n",
    "        \n",
    "        dones = torch.FloatTensor([sarsd[4] for sarsd in trajectory]).float().view(-1, 1)\n",
    "        dones = dones.to(device)\n",
    "        \n",
    "        # compute value target\n",
    "        discounted_rewards = [torch.sum(torch.FloatTensor([self.gamma**i for i in \\\n",
    "                              range(rewards[j:].size(0))]) * rewards[j:]) for j in range(rewards.size(0))]\n",
    "        \n",
    "        value_targets = rewards.view(-1, 1) + torch.FloatTensor(discounted_rewards).view(-1, 1).to(device)\n",
    "        \n",
    "        # compute value loss\n",
    "        values = self.critic(states)\n",
    "        value_loss = F.mse_loss(value_targets.detach(), values)\n",
    "        \n",
    "        # compute policy loss with entropy bonus\n",
    "        probs = self.actor(states)\n",
    "        m = Categorical(probs)\n",
    "        \n",
    "        # compute entropy bonus\n",
    "        entropy = []\n",
    "        for prob in probs:\n",
    "            entropy.append(-torch.sum(prob.mean() * torch.log(prob)))\n",
    "        entropy = torch.stack(entropy).sum()\n",
    "        \n",
    "        # compute advantage function to calculate the extra reward get by agent and to avoid high variability\n",
    "        advantage = value_targets - values\n",
    "        policy_loss = -m.log_prob(actions.view(actions.size(0))).view(-1, 1) * advantage.detach()\n",
    "        policy_loss = policy_loss.mean() - 0.001 * entropy\n",
    "        \n",
    "        return policy_loss, value_loss\n",
    "    \n",
    "    def save(self, actor_path, critic_path):\n",
    "        \n",
    "        if not os.path.exists('./agents/'): os.makedirs('./agents/')\n",
    "        torch.save(agent.actor.state_dict(), actor_path); torch.save(agent.critic.state_dict(), critic_path)"
   ]
  },
  {
   "cell_type": "code",
   "execution_count": null,
   "metadata": {},
   "outputs": [],
   "source": [
    "agent = A2CAgent(env, seed=90)"
   ]
  },
  {
   "cell_type": "markdown",
   "metadata": {},
   "source": [
    "## Train The Agent"
   ]
  },
  {
   "cell_type": "code",
   "execution_count": null,
   "metadata": {},
   "outputs": [],
   "source": [
    "def train_agent(num_episodes=1000, max_time=5000):\n",
    "    \n",
    "    scores = []\n",
    "    policy_loss_plot = []; value_loss_plot = []\n",
    "    scores_window = deque(maxlen=100)\n",
    "    \n",
    "    for i_episode in range(1, num_episodes+1):\n",
    "        \n",
    "        state = env.reset()\n",
    "        score = 0\n",
    "        \n",
    "        trajectory = []\n",
    "        \n",
    "        for time_step in range(max_time):\n",
    "            action = agent.act(state)\n",
    "            next_state, reward, done, _ = env.step(action)\n",
    "            trajectory.append([state, action, reward, next_state, done])\n",
    "            \n",
    "            state = next_state\n",
    "            score += reward\n",
    "            if done:\n",
    "                break\n",
    "                \n",
    "        scores_window.append(score)\n",
    "        scores.append(score)\n",
    "        \n",
    "        policy_loss, value_loss = agent.learn(trajectory)\n",
    "        policy_loss_plot.append(policy_loss); value_loss_plot.append(value_loss)\n",
    "        \n",
    "        print(f'\\rEpisode: {i_episode}, Average Score: {np.mean(scores_window):.2f}, Policy Loss: {policy_loss:2f}, Value Loss: {value_loss:2f}', end='')\n",
    "        \n",
    "        if i_episode % PRINT_EVERY == 0:\n",
    "            print(f'\\rEpisode: {i_episode}, Average Score: {np.mean(scores_window):.2f}, Policy Loss: {policy_loss:2f}, Value Loss: {value_loss:2f}')\n",
    "        if np.mean(scores_window) >= 100.0:\n",
    "            print(f'\\nEnvironment solved in {i_episode-100:d} episodes! Average Score: {np.mean(scores_window):.2f}, Policy Loss: {policy_loss:2f}, Value Loss: {value_loss:2f}')\n",
    "            agent.save(f'./agents/ACTOR_{ENV_NAME}.pth', f'./agents/CRITIC_{ENV_NAME}.pth')\n",
    "            break\n",
    "            \n",
    "    print('Training completed.')\n",
    "    \n",
    "    return scores, policy_loss_plßot, value_loss_plot"
   ]
  },
  {
   "cell_type": "code",
   "execution_count": null,
   "metadata": {},
   "outputs": [],
   "source": [
    "scores, policy_loss, value_loss = train_agent(num_episodes=2000, max_time=500)"
   ]
  },
  {
   "cell_type": "markdown",
   "metadata": {},
   "source": [
    "## Evaluate The Agent"
   ]
  },
  {
   "cell_type": "code",
   "execution_count": null,
   "metadata": {},
   "outputs": [],
   "source": [
    "plt.figure(figsize=(10,5))\n",
    "plt.plot(np.arange(len(scores)), scores, color='green')\n",
    "plt.xlabel('Num of episodes')\n",
    "plt.ylabel('Score')\n",
    "if not os.path.exists('./images/'): os.makedirs('./images/')\n",
    "plt.savefig('./images/plot_of_a2c_evaluation.png')\n",
    "plt.show()"
   ]
  },
  {
   "cell_type": "markdown",
   "metadata": {},
   "source": [
    "## 🎬 Watch The Smart Agen"
   ]
  },
  {
   "cell_type": "code",
   "execution_count": null,
   "metadata": {},
   "outputs": [],
   "source": [
    "num_episodes = 5\n",
    "\n",
    "for i_episode in range(1, num_episodes+1):\n",
    "    \n",
    "    state = env.reset()\n",
    "    rewards = []\n",
    "    for time_step in range(1000):\n",
    "        \n",
    "        env.render() # render the screen\n",
    "        \n",
    "        action = agent.act(state) # select an action\n",
    "        next_state, reward, done, _ = env.step(action)\n",
    "        \n",
    "        state = next_state\n",
    "        rewards.append(reward)\n",
    "        if done:\n",
    "            break\n",
    "            \n",
    "    print(f'\\rEpisode: {i_episode}, Average Score: {sum(rewards):.2f}')\n",
    "\n",
    "env.close()"
   ]
  },
  {
   "cell_type": "markdown",
   "metadata": {},
   "source": [
    "---"
   ]
  }
 ],
 "metadata": {
  "kernelspec": {
   "display_name": "Python 3",
   "language": "python",
   "name": "python3"
  },
  "language_info": {
   "codemirror_mode": {
    "name": "ipython",
    "version": 3
   },
   "file_extension": ".py",
   "mimetype": "text/x-python",
   "name": "python",
   "nbconvert_exporter": "python",
   "pygments_lexer": "ipython3",
   "version": "3.7.3"
  }
 },
 "nbformat": 4,
 "nbformat_minor": 2
}
