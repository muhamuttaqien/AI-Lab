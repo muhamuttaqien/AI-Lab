{
 "cells": [
  {
   "cell_type": "markdown",
   "metadata": {},
   "source": [
    "# Multi-Agent Deep Deterministic Policy Gradient"
   ]
  },
  {
   "cell_type": "code",
   "execution_count": null,
   "metadata": {
    "collapsed": true
   },
   "outputs": [],
   "source": [
    "import os\n",
    "import random\n",
    "import numpy as np\n",
    "import matplotlib.pyplot as plt\n",
    "from time import sleep\n",
    "from IPython.display import clear_output\n",
    "from collections import namedtuple, deque\n",
    "\n",
    "import multiagent.scenarios as scenarios\n",
    "from multiagent.environment import MultiAgentEnv"
   ]
  },
  {
   "cell_type": "code",
   "execution_count": null,
   "metadata": {
    "collapsed": true
   },
   "outputs": [],
   "source": [
    "import torch\n",
    "import torch.nn as nn\n",
    "import torch.optim as optim\n",
    "import torch.nn.functional as F\n",
    "import torchvision.transforms as T"
   ]
  },
  {
   "cell_type": "code",
   "execution_count": null,
   "metadata": {
    "collapsed": true
   },
   "outputs": [],
   "source": [
    "from noise import OUNoise\n",
    "from model import ActorCriticNetwork\n",
    "from buffer import ReplayBuffer"
   ]
  },
  {
   "cell_type": "code",
   "execution_count": null,
   "metadata": {
    "collapsed": true
   },
   "outputs": [],
   "source": [
    "import warnings\n",
    "warnings.simplefilter('ignore', UserWarning)"
   ]
  },
  {
   "cell_type": "code",
   "execution_count": null,
   "metadata": {
    "collapsed": true
   },
   "outputs": [],
   "source": [
    "plt.style.use('ggplot')"
   ]
  },
  {
   "cell_type": "markdown",
   "metadata": {},
   "source": [
    "## Set Config"
   ]
  },
  {
   "cell_type": "code",
   "execution_count": null,
   "metadata": {
    "collapsed": true
   },
   "outputs": [],
   "source": [
    "is_cuda = torch.cuda.is_available()\n",
    "\n",
    "if is_cuda: device = torch.device('cuda')\n",
    "else: device = torch.device('cpu')"
   ]
  },
  {
   "cell_type": "code",
   "execution_count": null,
   "metadata": {
    "collapsed": true
   },
   "outputs": [],
   "source": [
    "BUFFER_SIZE = int(1e6)\n",
    "BATCH_SIZE = 32\n",
    "GAMMA = 0.99\n",
    "TAU = 1e-2\n",
    "PRINT_EVERY = 10\n",
    "UPDATE_EVERY = 3\n",
    "\n",
    "# actor & critic network have different learning rates\n",
    "LR_ACTOR = 1e-4\n",
    "LR_CRITIC = 1e-3\n",
    "WEIGHT_DECAY = 0.0 # L2 weight decay\n",
    "\n",
    "# noise settings\n",
    "GRAD_CLIP = 0.5\n",
    "NOISE_START = 0.5\n",
    "NOISE_DECAY = 1.0\n",
    "TIME_STOP_NOISE = int(3e4)"
   ]
  },
  {
   "cell_type": "markdown",
   "metadata": {},
   "source": [
    "## Set Environment"
   ]
  },
  {
   "cell_type": "code",
   "execution_count": null,
   "metadata": {
    "collapsed": true
   },
   "outputs": [],
   "source": [
    "SCENARION_NAME = 'simple_spread'"
   ]
  },
  {
   "cell_type": "code",
   "execution_count": null,
   "metadata": {
    "collapsed": true
   },
   "outputs": [],
   "source": [
    "def make_env(scenario_name, benchmark=False):\n",
    "    \n",
    "    scenario = scenarios.load(scenario_name + '.py').Scenario()\n",
    "    \n",
    "    world = scenario.make_world()\n",
    "    \n",
    "    if benchmark:\n",
    "        env = MultiAgentEnv(world, scenario.reset_world, scenario.reward, scenario.observation, scenario.benchmark_data)\n",
    "    else:\n",
    "        env = MultiAgentEnv(world, scenario.reset_world, scenario.reward, scenario.observation)\n",
    "        \n",
    "    return env"
   ]
  },
  {
   "cell_type": "code",
   "execution_count": null,
   "metadata": {
    "collapsed": true
   },
   "outputs": [],
   "source": [
    "env = make_env(scenario_name=SCENARION_NAME)"
   ]
  },
  {
   "cell_type": "code",
   "execution_count": null,
   "metadata": {},
   "outputs": [],
   "source": [
    "print('Environment Info')\n",
    "state_size = env.observation_space[0].shape[0]\n",
    "action_size = env.action_space[0].n\n",
    "\n",
    "print('Number of agents: {}'.format(env.n))\n",
    "print('State space: {}'.format(state_size))\n",
    "print('Action space: {}'.format(action_size))"
   ]
  },
  {
   "cell_type": "markdown",
   "metadata": {},
   "source": [
    "## Define [MADDPG](https://arxiv.org/pdf/1706.02275.pdf) Agent"
   ]
  },
  {
   "cell_type": "code",
   "execution_count": null,
   "metadata": {
    "collapsed": true
   },
   "outputs": [],
   "source": [
    "class DDPGAgent():\n",
    "    \"\"\"The Agent that will interacts with and learns from the environment.\"\"\"\n",
    "\n",
    "    def __init__(self, agent_id, model, state_size, action_size, seed):\n",
    "        \"\"\"Initialize an DDPG Agent object.\"\"\"\n",
    "        \n",
    "        self.agent_id = agent_id\n",
    "        \n",
    "        self.state_size = state_size\n",
    "        self.action_size = action_size\n",
    "        \n",
    "        self.lr_actor = LR_ACTOR\n",
    "        self.lr_critic = LR_CRITIC\n",
    "        self.weight_decay = WEIGHT_DECAY\n",
    "        self.tau = TAU\n",
    "        self.grad_clip = GRAD_CLIP\n",
    "        \n",
    "        # initialize actor and critic networks\n",
    "        self.actor = model.actor.to(device)\n",
    "        self.actor_target = model.actor_target.to(device)\n",
    "        \n",
    "        self.critic = model.critic.to(device)\n",
    "        self.critic_target = model.critic_target.to(device)\n",
    "            \n",
    "        # set optimizers\n",
    "        self.actor_optimizer = optim.Adam(self.actor.parameters(), lr=self.lr_actor)\n",
    "        self.critic_optimizer = optim.Adam(self.critic.parameters(), lr=self.lr_critic, weight_decay=self.weight_decay)\n",
    "        \n",
    "        # set weights for local and target actor, respectively, critic the same\n",
    "        self.soft_update(self.actor, self.actor_target, 1)\n",
    "        self.soft_update(self.critic, self.critic_target, 1)\n",
    "        \n",
    "        # introduce noise process\n",
    "        self.noise = OUNoise(self.action_size, seed)\n",
    "        \n",
    "    def act(self, states, noise_weight=1.0, add_noise=True):\n",
    "        \"\"\"Return action for given state as per current policy.\"\"\"\n",
    "        \n",
    "        states = torch.FloatTensor(states).to(device)\n",
    "        self.actor.eval()\n",
    "        with torch.no_grad():\n",
    "            actions = self.actor(states).cpu().data.numpy()\n",
    "        self.actor.train()\n",
    "        \n",
    "        if add_noise==True:\n",
    "            self.noise_value = self.noise.sample() * noise_weight\n",
    "            actions += self.noise_value\n",
    "        \n",
    "        actions = np.clip(actions, -1, 1)\n",
    "        \n",
    "        return actions\n",
    "    \n",
    "    def reset(self):\n",
    "        \"\"\"Reset noise parameters.\"\"\"\n",
    "        self.noise.reset()\n",
    "        \n",
    "    def learn(self, agent_id, experiences, gamma, all_actions, all_next_actions):\n",
    "        \"\"\"Update policy and value parameters using given batch of experience tuples.\"\"\"\n",
    "        \n",
    "        states, actions, rewards, next_states, dones = experiences\n",
    "        \n",
    "        # get the agent id\n",
    "        agent_id = torch.tensor([agent_id]).to(device)\n",
    "        \n",
    "        # obtain Q expected\n",
    "        Q_expected = self.critic(states, actions)\n",
    "        \n",
    "        next_actions = torch.cat(all_next_actions, dim=1).to(device)\n",
    "        with torch.no_grad():\n",
    "            Q_target_next = self.critic_target(next_states, next_actions)\n",
    "        \n",
    "        # compute Q target\n",
    "        Q_targets = rewards.index_select(1, agent_id) + (gamma * Q_target_next * (1 - dones.index_select(1, agent_id)))\n",
    "        \n",
    "        # compute value loss\n",
    "        value_loss = F.mse_loss(Q_expected, Q_targets.detach())\n",
    "        \n",
    "        # minimize critic loss\n",
    "        self.critic_optimizer.zero_grad()\n",
    "        value_loss.backward()\n",
    "        torch.nn.utils.clip_grad_norm_(self.critic.parameters(), self.grad_clip)\n",
    "        self.critic_optimizer.step()\n",
    "        \n",
    "        # detach actions from other agents\n",
    "        actions_pred = [actions if i == self.agent_id else actions.detach() for i, actions in enumerate(all_actions)]\n",
    "        actions_pred = torch.cat(actions_pred, dim=1).to(device)\n",
    "        \n",
    "        # update actor\n",
    "        policy_loss = -self.critic(states, actions_pred).mean()\n",
    "        \n",
    "        # minimize policy loss\n",
    "        self.actor_optimizer.zero_grad()\n",
    "        policy_loss.backward()\n",
    "        torch.nn.utils.clip_grad_norm_(self.actor.parameters(), self.grad_clip)\n",
    "        self.actor_optimizer.step()\n",
    "        \n",
    "        # softly update target networks\n",
    "        self.soft_update(self.actor, self.actor_target, self.tau)\n",
    "        self.soft_update(self.critic, self.critic_target, self.tau)\n",
    "    \n",
    "    def soft_update(self, local_model, target_model, tau):\n",
    "        \"\"\"Softly update model parameters.\"\"\"\n",
    "        \n",
    "        for local_param, target_param in zip(local_model.parameters(), target_model.parameters()):\n",
    "            target_param.data.copy_(local_param.data * tau + target_param.data * (1.0 - tau))"
   ]
  },
  {
   "cell_type": "code",
   "execution_count": null,
   "metadata": {
    "collapsed": true
   },
   "outputs": [],
   "source": [
    "class MADDPGAgent():\n",
    "    \"\"\"The Agent that will interacts with and learns from the environment.\"\"\"\n",
    "    \n",
    "    def __init__(self, env, seed):\n",
    "        \"\"\"Initialize an MADDPG Agent object.\"\"\"\n",
    "        \n",
    "        self.env = env\n",
    "        \n",
    "        self.state_size = env.observation_space[0].shape[0]\n",
    "        self.action_size = env.action_space[0].n\n",
    "        \n",
    "        self.num_agents = self.env.n\n",
    "        \n",
    "        self.buffer_size = BUFFER_SIZE\n",
    "        self.batch_size = BATCH_SIZE\n",
    "        self.gamma = GAMMA\n",
    "        self.noise_weight = NOISE_START\n",
    "        self.noise_decay = NOISE_DECAY\n",
    "        self.time_stop_noise = TIME_STOP_NOISE\n",
    "        self.noise_on = True\n",
    "        \n",
    "        # create agents, each with their own actor and critic\n",
    "        models = [ActorCriticNetwork(self.num_agents, self.state_size, self.action_size, seed) for _ in range(self.num_agents)]\n",
    "        self.agents = [DDPGAgent(i, models[i], self.state_size, self.action_size, seed) for i in range(self.num_agents)]\n",
    "        \n",
    "        # set buffer\n",
    "        self.buffer = ReplayBuffer(BUFFER_SIZE, BATCH_SIZE, seed)\n",
    "        self.time_step = 0\n",
    "        \n",
    "    def act(self, all_states):\n",
    "        \n",
    "        # pass each agent's state from the environment and calculate its action\n",
    "        all_actions = []\n",
    "        for agent, state in zip(self.agents, all_states):\n",
    "            actions = agent.act(state, noise_weight=self.noise_weight, add_noise=self.noise_on)\n",
    "            self.noise_weight *= self.noise_decay\n",
    "            all_actions.append(actions)\n",
    "        \n",
    "        actions = np.array(all_actions)\n",
    "        \n",
    "        return actions\n",
    "        \n",
    "    def step(self, all_states, all_actions, all_rewards, all_next_states, all_dones):\n",
    "        \n",
    "        all_states = np.array(all_states).reshape(1, -1) # reshape 3x18 into 1x54 dimension vector\n",
    "        all_actions = np.array(all_actions).reshape(1, -1) # reshape 3x5 into 1x15 dimension vector\n",
    "        all_rewards = np.array(all_rewards).reshape(1, -1) # reshape 3 into 1x3 dimension vector\n",
    "        all_next_states = np.array(all_next_states).reshape(1, -1) # reshape 3x18 into 1x54 dimension vector\n",
    "        all_dones = np.array(all_next_states).reshape(1, -1) # reshape 3 into 1x3 dimension vector\n",
    "        \n",
    "        self.buffer.add(all_states, all_actions, all_rewards, all_next_states, all_dones)\n",
    "        \n",
    "        # if time stop noise are achieved then turning off the noise\n",
    "        if self.time_step > self.time_stop_noise:\n",
    "            self.noise_on = False\n",
    "            \n",
    "        self.time_step += 1     \n",
    "        \n",
    "        # learn every UPDATE_EVERY time steps\n",
    "        if self.time_step % UPDATE_EVERY == 0:\n",
    "            # if enough samples are available in memory, get random subset and learn\n",
    "            \n",
    "            if len(self.buffer) > BATCH_SIZE:\n",
    "                \n",
    "                # sample from the replay buffer of each agent\n",
    "                experiences = [self.buffer.sample() for _ in range(self.num_agents)]\n",
    "                self.learn(experiences, self.gamma)\n",
    "                \n",
    "    def learn(self, experiences, gamma):\n",
    "        \n",
    "        # each agent uses its own actor to calculate next actions\n",
    "        all_actions = []\n",
    "        all_next_actions = []\n",
    "\n",
    "        for i, agent in enumerate(self.agents):\n",
    "            \n",
    "            states, _, _, next_states, _ = experiences[i]\n",
    "            agent_id = torch.tensor([i]).to(device)\n",
    "            \n",
    "            # extract agent i's state and get action via actor network\n",
    "            states = states.reshape(-1, self.num_agents, self.state_size).index_select(1, agent_id).squeeze(1)\n",
    "            actions = agent.actor(states)\n",
    "            all_actions.append(actions)\n",
    "            \n",
    "            # extract agent i's next state and get action via target action network\n",
    "            next_states = next_states.reshape(-1, self.num_agents, self.state_size).index_select(1, agent_id).squeeze(1)\n",
    "            next_actions = agent.actor_target(next_states)\n",
    "            all_next_actions.append(next_actions)\n",
    "            \n",
    "        # each agent learns from its experience sample\n",
    "        for i, agent in enumerate(self.agents):\n",
    "            agent.learn(i, experiences[i], gamma, all_actions, all_next_actions)\n",
    "    \n",
    "    def save(self, actor_path, critic_path):\n",
    "        \"\"\"Save trained agent.\"\"\"\n",
    "        if not os.path.exists('./agents/'): os.makedirs('./agents/')\n",
    "        \n",
    "        # save actor and critic for each agent\n",
    "        for i, agent in enumerate(self.agents):\n",
    "            torch.save(self.agents[i].actor.state_dict(), f'{actor_path}_agent{i}.pth'); torch.save(self.agents[i].critic.state_dict(), f'{critic_path}_agent{i}.pth')\n",
    "            \n",
    "    def load(self, actor_path):\n",
    "        \"\"\"Load trained agent.\"\"\"\n",
    "        for i, agent in enumerate(self.agents):\n",
    "            self.agents[i].actor.load_state_dict(torch.load(f'{actor_path}_agent{i}.pth'))\n",
    "            \n",
    "    def watch(self, num_episodes=10, max_time=1000):\n",
    "        \"\"\"Watch trained agent.\"\"\"\n",
    "        \n",
    "        pass"
   ]
  },
  {
   "cell_type": "code",
   "execution_count": null,
   "metadata": {
    "collapsed": true
   },
   "outputs": [],
   "source": [
    "agent = MADDPGAgent(env, seed=90)"
   ]
  },
  {
   "cell_type": "markdown",
   "metadata": {},
   "source": [
    "## Train The Agent"
   ]
  },
  {
   "cell_type": "code",
   "execution_count": null,
   "metadata": {
    "collapsed": true
   },
   "outputs": [],
   "source": [
    "def train_agent(num_episodes=5000, max_time=1000):\n",
    "    \"\"\"Train MADDPG agent.\"\"\"\n",
    "    \n",
    "    all_scores = []\n",
    "    scores_target = 0.5\n",
    "    scores_window = deque(maxlen=PRINT_EVERY)\n",
    "    \n",
    "    for i_episode in range(1, num_episodes+1):\n",
    "        \n",
    "        all_rewards = []\n",
    "        states = env.reset()\n",
    "        \n",
    "        for time_step in range(max_time):\n",
    "            \n",
    "            actions = agent.act(states)\n",
    "            next_states, rewards, dones, _ = env.step(actions)\n",
    "            \n",
    "            agent.step(states, actions, rewards, next_states, dones)\n",
    "            states = next_states\n",
    "            all_rewards.append(np.mean(rewards))\n",
    "            if all(dones):\n",
    "                dones = [1 for _ in range(agent.num_agents)]\n",
    "                break\n",
    "            else:\n",
    "                dones = [0 for _ in range(agent.num_agents)]\n",
    "        \n",
    "        all_scores.append(np.mean(all_rewards)) # save most recent score to overall score\n",
    "        scores_window.append(np.mean(all_rewards)) # save most recent score to running window of last window scores\n",
    "        \n",
    "        print(f'\\rEpisode: {i_episode}, Average Score: {np.mean(scores_window):.3f}', end='')\n",
    "        \n",
    "        if i_episode % PRINT_EVERY == 0:\n",
    "            print(f'\\rEpisode: {i_episode}, Average Score: {np.mean(scores_window):.3f}')\n",
    "        if np.mean(scores_window) >= scores_target:\n",
    "            print(f'\\nEnvironment solved in {i_episode-100:d} episodes! Average Score: {np.mean(scores_window):.3f}')\n",
    "            break\n",
    "            \n",
    "    agent.save(f'./agents/ACTOR_{brain_name}', f'./agents/CRITIC_{brain_name}')\n",
    "    print('Training completed.')\n",
    "    \n",
    "    return all_scores"
   ]
  },
  {
   "cell_type": "code",
   "execution_count": null,
   "metadata": {},
   "outputs": [],
   "source": [
    "all_scores = train_agent(num_episodes=500, max_time=300)"
   ]
  },
  {
   "cell_type": "markdown",
   "metadata": {},
   "source": [
    "## Evaluate The Agent"
   ]
  },
  {
   "cell_type": "code",
   "execution_count": null,
   "metadata": {
    "collapsed": true
   },
   "outputs": [],
   "source": [
    "plt.figure(figsize=(10,5))\n",
    "plt.plot(np.arange(len(all_scores)), all_scores, color='green')\n",
    "plt.xlabel('Num of episodes')\n",
    "plt.ylabel('Score')\n",
    "if not os.path.exists('./images/'): os.makedirs('./images/')\n",
    "plt.savefig('./images/plot_of_maddpg_evaluation.png')\n",
    "plt.show()"
   ]
  },
  {
   "cell_type": "markdown",
   "metadata": {},
   "source": [
    "## 🎬 Watch The Smart Agent"
   ]
  },
  {
   "cell_type": "code",
   "execution_count": null,
   "metadata": {
    "collapsed": true
   },
   "outputs": [],
   "source": [
    "agent.load(f'./agents/ACTOR_{brain_name}');"
   ]
  },
  {
   "cell_type": "markdown",
   "metadata": {},
   "source": [
    "---"
   ]
  }
 ],
 "metadata": {
  "kernelspec": {
   "display_name": "Python 3",
   "language": "python",
   "name": "python3"
  },
  "language_info": {
   "codemirror_mode": {
    "name": "ipython",
    "version": 3
   },
   "file_extension": ".py",
   "mimetype": "text/x-python",
   "name": "python",
   "nbconvert_exporter": "python",
   "pygments_lexer": "ipython3",
   "version": "3.6.7"
  }
 },
 "nbformat": 4,
 "nbformat_minor": 2
}
