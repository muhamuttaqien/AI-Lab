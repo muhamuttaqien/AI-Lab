{
 "cells": [
  {
   "cell_type": "markdown",
   "metadata": {},
   "source": [
    "# Reinforce (Monte Carlo Policy Gradient) Method"
   ]
  },
  {
   "cell_type": "code",
   "execution_count": 1,
   "metadata": {
    "collapsed": true
   },
   "outputs": [],
   "source": [
    "import os\n",
    "import numpy as np\n",
    "import matplotlib.pyplot as plt\n",
    "from collections import deque"
   ]
  },
  {
   "cell_type": "code",
   "execution_count": 2,
   "metadata": {
    "collapsed": true
   },
   "outputs": [],
   "source": [
    "import gym\n",
    "import torch\n",
    "import torch.nn as nn\n",
    "import torch.nn.functional as F\n",
    "import torch.optim as optim\n",
    "from torch.distributions import Categorical"
   ]
  },
  {
   "cell_type": "code",
   "execution_count": 3,
   "metadata": {
    "collapsed": true
   },
   "outputs": [],
   "source": [
    "plt.style.use('ggplot')"
   ]
  },
  {
   "cell_type": "markdown",
   "metadata": {},
   "source": [
    "## Set Configs"
   ]
  },
  {
   "cell_type": "code",
   "execution_count": 4,
   "metadata": {
    "collapsed": true
   },
   "outputs": [],
   "source": [
    "is_cuda = torch.cuda.is_available()\n",
    "\n",
    "if is_cuda: device = torch.device('cuda')\n",
    "else: device = torch.device('cpu')"
   ]
  },
  {
   "cell_type": "code",
   "execution_count": 5,
   "metadata": {
    "collapsed": true
   },
   "outputs": [],
   "source": [
    "GAMMA = 1.0\n",
    "PRINT_EVERY = 100\n",
    "LR = 1e-2"
   ]
  },
  {
   "cell_type": "markdown",
   "metadata": {},
   "source": [
    "## Set Environment"
   ]
  },
  {
   "cell_type": "code",
   "execution_count": 6,
   "metadata": {},
   "outputs": [
    {
     "name": "stdout",
     "output_type": "stream",
     "text": [
      "\u001b[33mWARN: gym.spaces.Box autodetected dtype as <class 'numpy.float32'>. Please provide explicit dtype.\u001b[0m\n"
     ]
    }
   ],
   "source": [
    "ENV_NAME = 'CartPole-v0'\n",
    "env = gym.make(ENV_NAME).unwrapped; env.seed(90);"
   ]
  },
  {
   "cell_type": "code",
   "execution_count": 7,
   "metadata": {},
   "outputs": [
    {
     "name": "stdout",
     "output_type": "stream",
     "text": [
      "Environment Display:\n",
      "State space Box(4,)\n",
      "Action space Discrete(2)\n"
     ]
    }
   ],
   "source": [
    "print('Environment Display:')\n",
    "env.reset() # reset environment to a new, random state\n",
    "env.render()\n",
    "\n",
    "print('State space {}'.format(env.observation_space))\n",
    "print('Action space {}'.format(env.action_space))"
   ]
  },
  {
   "cell_type": "markdown",
   "metadata": {},
   "source": [
    "## Define The Policy"
   ]
  },
  {
   "cell_type": "code",
   "execution_count": 8,
   "metadata": {
    "collapsed": true
   },
   "outputs": [],
   "source": [
    "class PolicyNetwork(nn.Module):\n",
    "    \"\"\"Define non-linear Policy.\"\"\"\n",
    "    \n",
    "    def __init__(self, env, seed, hidden_size=16):\n",
    "        \n",
    "        super(PolicyNetwork, self).__init__()\n",
    "        \n",
    "        self.seed = torch.manual_seed(seed)\n",
    "        \n",
    "        state_size = env.observation_space.shape[0]\n",
    "        action_size = env.action_space.n\n",
    "        \n",
    "        self.fc1_layer = nn.Linear(state_size, hidden_size)\n",
    "        self.fc2_layer = nn.Linear(hidden_size, action_size)\n",
    "    \n",
    "    def act(self, state):\n",
    "        \n",
    "        state = torch.from_numpy(state).float().unsqueeze(0)\n",
    "        state = state.to(device)\n",
    "        \n",
    "        probs = self.forward(state)\n",
    "        m = Categorical(probs.cpu())\n",
    "        \n",
    "        action = m.sample()\n",
    "        log_prob = -m.log_prob(action) # negative sign comes from pytorch\n",
    "                \n",
    "        return action.item(), log_prob\n",
    "    \n",
    "    def forward(self, x):\n",
    "        \n",
    "        x = F.relu(self.fc1_layer(x))\n",
    "        logits = self.fc2_layer(x)\n",
    "        probs = F.softmax(logits, dim=1) # use softmax for discrete action spaces\n",
    "        \n",
    "        return probs"
   ]
  },
  {
   "cell_type": "code",
   "execution_count": 9,
   "metadata": {
    "collapsed": true
   },
   "outputs": [],
   "source": [
    "policy = PolicyNetwork(env, seed=90).to(device)"
   ]
  },
  {
   "cell_type": "markdown",
   "metadata": {},
   "source": [
    "## Set Optimizer"
   ]
  },
  {
   "cell_type": "code",
   "execution_count": 10,
   "metadata": {
    "collapsed": true
   },
   "outputs": [],
   "source": [
    "optimizer = optim.Adam(policy.parameters(), lr=LR)"
   ]
  },
  {
   "cell_type": "markdown",
   "metadata": {},
   "source": [
    "## Train The Agent"
   ]
  },
  {
   "cell_type": "code",
   "execution_count": 11,
   "metadata": {
    "collapsed": true
   },
   "outputs": [],
   "source": [
    "def train_agent(num_episodes=1000, max_time=1000, gamma=1.0):\n",
    "    \n",
    "    scores = []\n",
    "    scores_window = deque(maxlen=100)\n",
    "    \n",
    "    for i_episode in range(1, num_episodes+1):\n",
    "        \n",
    "        state = env.reset()\n",
    "        \n",
    "        saved_log_probs = []\n",
    "        rewards = []\n",
    "        \n",
    "        for time in range(max_time):\n",
    "            \n",
    "            action, log_prob = policy.act(state)\n",
    "            saved_log_probs.append(log_prob)\n",
    "            \n",
    "            next_state, reward, done, _ = env.step(action)\n",
    "            \n",
    "            state = next_state\n",
    "            rewards.append(reward)\n",
    "            if done:\n",
    "                break\n",
    "                \n",
    "        scores_window.append(sum(rewards))\n",
    "        scores.append(sum(rewards))\n",
    "        \n",
    "        optimizer.zero_grad()\n",
    "        \n",
    "        discounts = [gamma**i for i in range(len(rewards)+1)]\n",
    "        R = sum([a*b for a,b in zip(discounts, rewards)]) # Monte-Carlo estimate as a baseline\n",
    "        \n",
    "        # log of the action probabilities for policy gradient calculation\n",
    "        # consolidates information from trajectories to yield an estimate for the gradient\n",
    "        policy_loss = []\n",
    "        for log_prob in saved_log_probs:\n",
    "            policy_loss.append(log_prob * R)\n",
    "        \n",
    "        policy_loss = torch.cat(policy_loss).sum()\n",
    "        \n",
    "        policy_loss.backward() # calculates gradient by collecting m=1 (try more to get better performance)\n",
    "        optimizer.step()\n",
    "        \n",
    "        print(f'\\rEpisode: {i_episode}, Average Score: {np.mean(scores_window):.2f}', end='')\n",
    "        \n",
    "        if i_episode % PRINT_EVERY == 0:\n",
    "            print(f'\\rEpisode: {i_episode}, Average Score: {np.mean(scores_window):.2f}')\n",
    "        if np.mean(scores_window) >= 120.0:\n",
    "            print(f'\\nEnvironment solved in {i_episode-100:d} episodes! Average Score: {np.mean(scores_window):.2f}')\n",
    "            break\n",
    "            \n",
    "    if not os.path.exists('./agents/'): os.makedirs('./agents/')\n",
    "    torch.save(policy.state_dict(), f'./agents/REINFORCE_{ENV_NAME}.pth')\n",
    "    print('Training completed.')\n",
    "    \n",
    "    return scores"
   ]
  },
  {
   "cell_type": "code",
   "execution_count": 12,
   "metadata": {},
   "outputs": [
    {
     "name": "stdout",
     "output_type": "stream",
     "text": [
      "Episode: 100, Average Score: 34.69\n",
      "Episode: 200, Average Score: 66.60\n",
      "Episode: 247, Average Score: 122.05\n",
      "Environment solved in 147 episodes! Average Score: 122.05\n",
      "Training completed.\n"
     ]
    }
   ],
   "source": [
    "scores = train_agent(num_episodes=1000, max_time=1000)"
   ]
  },
  {
   "cell_type": "markdown",
   "metadata": {},
   "source": [
    "## Evaluate The Agent"
   ]
  },
  {
   "cell_type": "code",
   "execution_count": 13,
   "metadata": {},
   "outputs": [
    {
     "data": {
      "image/png": "[encoded data removed]",
      "text/plain": [
       "<matplotlib.figure.Figure at 0x12a762a20>"
      ]
     },
     "metadata": {},
     "output_type": "display_data"
    }
   ],
   "source": [
    "plt.figure(figsize=(10,5))\n",
    "plt.plot(np.arange(len(scores)), scores, color='green')\n",
    "plt.xlabel('Num of episodes')\n",
    "plt.ylabel('Score')\n",
    "if not os.path.exists('./images/'): os.makedirs('./images/')\n",
    "plt.savefig('./images/plot_of_reinforce_policy_evaluation.png')\n",
    "plt.show()"
   ]
  },
  {
   "cell_type": "markdown",
   "metadata": {},
   "source": [
    "## 🎬 Watch The Smart Agent"
   ]
  },
  {
   "cell_type": "code",
   "execution_count": 14,
   "metadata": {
    "collapsed": true
   },
   "outputs": [],
   "source": [
    "# load the weights of smart agent\n",
    "policy.load_state_dict(torch.load(f'./agents/REINFORCE_{ENV_NAME}.pth'));"
   ]
  },
  {
   "cell_type": "code",
   "execution_count": 15,
   "metadata": {},
   "outputs": [
    {
     "name": "stdout",
     "output_type": "stream",
     "text": [
      "Episode: 1, Average Score: 173.00\n",
      "Episode: 2, Average Score: 134.00\n",
      "Episode: 3, Average Score: 230.00\n",
      "Episode: 4, Average Score: 232.00\n",
      "Episode: 5, Average Score: 534.00\n"
     ]
    }
   ],
   "source": [
    "num_episodes = 5\n",
    "\n",
    "for i_episode in range(1, num_episodes+1):\n",
    "    \n",
    "    state = env.reset()\n",
    "    rewards = []\n",
    "    for time_step in range(1000):\n",
    "        \n",
    "        env.render() # render the screen\n",
    "        \n",
    "        action, _ = policy.act(state) # select an action\n",
    "        next_state, reward, done, _ = env.step(action)\n",
    "        \n",
    "        state = next_state\n",
    "        rewards.append(reward)\n",
    "        if done:\n",
    "            break\n",
    "            \n",
    "    print(f'\\rEpisode: {i_episode}, Average Score: {sum(rewards):.2f}')\n",
    "\n",
    "env.close()"
   ]
  },
  {
   "cell_type": "markdown",
   "metadata": {},
   "source": [
    "---"
   ]
  }
 ],
 "metadata": {
  "kernelspec": {
   "display_name": "Python 3",
   "language": "python",
   "name": "python3"
  },
  "language_info": {
   "codemirror_mode": {
    "name": "ipython",
    "version": 3
   },
   "file_extension": ".py",
   "mimetype": "text/x-python",
   "name": "python",
   "nbconvert_exporter": "python",
   "pygments_lexer": "ipython3",
   "version": "3.6.7"
  }
 },
 "nbformat": 4,
 "nbformat_minor": 2
}
