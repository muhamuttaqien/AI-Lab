{
 "cells": [
  {
   "cell_type": "markdown",
   "metadata": {},
   "source": [
    "# Trust Region Policy Optimization"
   ]
  },
  {
   "cell_type": "code",
   "execution_count": 1,
   "metadata": {},
   "outputs": [],
   "source": [
    "import os\n",
    "import numpy as np\n",
    "import matplotlib.pyplot as plt\n",
    "\n",
    "import scipy.optimize\n",
    "from collections import namedtuple, deque"
   ]
  },
  {
   "cell_type": "code",
   "execution_count": 2,
   "metadata": {
    "collapsed": true
   },
   "outputs": [],
   "source": [
    "import gym\n",
    "import torch\n",
    "import torch.nn as nn\n",
    "import torch.nn.functional as F\n",
    "import torch.optim as optim\n",
    "\n",
    "from torch.autograd import Variable\n",
    "from torch.distributions import MultivariateNormal"
   ]
  },
  {
   "cell_type": "code",
   "execution_count": 3,
   "metadata": {
    "collapsed": true
   },
   "outputs": [],
   "source": [
    "from utils import *\n",
    "from buffer import BasicBuffer\n",
    "from model import PolicyNetwork, ValueNetwork\n",
    "from running_state import ZFilter\n",
    "from trpo import trpo_step"
   ]
  },
  {
   "cell_type": "code",
   "execution_count": 4,
   "metadata": {
    "collapsed": true
   },
   "outputs": [],
   "source": [
    "import warnings\n",
    "warnings.simplefilter('ignore', UserWarning)"
   ]
  },
  {
   "cell_type": "code",
   "execution_count": 5,
   "metadata": {
    "collapsed": true
   },
   "outputs": [],
   "source": [
    "plt.style.use('ggplot')"
   ]
  },
  {
   "cell_type": "markdown",
   "metadata": {},
   "source": [
    "## Set Configs"
   ]
  },
  {
   "cell_type": "code",
   "execution_count": 6,
   "metadata": {
    "collapsed": true
   },
   "outputs": [],
   "source": [
    "is_cuda = torch.cuda.is_available()\n",
    "\n",
    "if is_cuda: device = torch.device('cuda')\n",
    "else: device = torch.device('cpu')"
   ]
  },
  {
   "cell_type": "code",
   "execution_count": 7,
   "metadata": {
    "collapsed": true
   },
   "outputs": [],
   "source": [
    "torch.utils.backcompat.broadcast_warning.enabled = True\n",
    "torch.utils.backcompat.keepdim_warning.enabled = True\n",
    "\n",
    "torch.set_default_tensor_type('torch.DoubleTensor')"
   ]
  },
  {
   "cell_type": "code",
   "execution_count": 8,
   "metadata": {
    "collapsed": true
   },
   "outputs": [],
   "source": [
    "GAMMA = 0.995\n",
    "TAU = 0.97\n",
    "PRINT_EVERY = 1\n",
    "\n",
    "DECAY_RATE = 1e-3\n",
    "MAX_KL = 1e-2\n",
    "DAMPING = 1e-1\n",
    "BATCH_SIZE = 15000"
   ]
  },
  {
   "cell_type": "markdown",
   "metadata": {},
   "source": [
    "## Set Environment"
   ]
  },
  {
   "cell_type": "code",
   "execution_count": 9,
   "metadata": {
    "scrolled": true
   },
   "outputs": [
    {
     "name": "stdout",
     "output_type": "stream",
     "text": [
      "\u001b[33mWARN: gym.spaces.Box autodetected dtype as <class 'numpy.float32'>. Please provide explicit dtype.\u001b[0m\n",
      "\u001b[33mWARN: gym.spaces.Box autodetected dtype as <class 'numpy.float32'>. Please provide explicit dtype.\u001b[0m\n"
     ]
    }
   ],
   "source": [
    "ENV_NAME = 'BipedalWalker-v2'\n",
    "env = gym.make(ENV_NAME).unwrapped; env.seed(90);"
   ]
  },
  {
   "cell_type": "code",
   "execution_count": 10,
   "metadata": {},
   "outputs": [
    {
     "name": "stdout",
     "output_type": "stream",
     "text": [
      "Environment Display:\n",
      "State space Box(24,)\n",
      "Action space Box(4,)\n"
     ]
    }
   ],
   "source": [
    "print('Environment Display:')\n",
    "env.reset() # reset environment to a new, random state\n",
    "# env.render()\n",
    "\n",
    "print('State space {}'.format(env.observation_space))\n",
    "print('Action space {}'.format(env.action_space))"
   ]
  },
  {
   "cell_type": "markdown",
   "metadata": {},
   "source": [
    "## Define [TRPO](https://arxiv.org/pdf/1502.05477.pdf) Agent"
   ]
  },
  {
   "cell_type": "code",
   "execution_count": 11,
   "metadata": {
    "collapsed": true
   },
   "outputs": [],
   "source": [
    "class TRPOAgent():\n",
    "    \"\"\"The Agent that will interacts with and learns from the environment.\"\"\"\n",
    "    \n",
    "    def __init__(self, env, seed):\n",
    "        \"\"\"Initialize an Agent object.\"\"\"\n",
    "        \n",
    "        self.env = env\n",
    "    \n",
    "        self.state_size = env.observation_space.shape[0]\n",
    "        self.action_size = env.action_space.shape[0]\n",
    "                \n",
    "        self.gamma = GAMMA\n",
    "        self.tau = TAU\n",
    "        self.decay_rate = DECAY_RATE\n",
    "        self.max_kl = MAX_KL\n",
    "        self.damping = DAMPING\n",
    "        \n",
    "        self.policy = PolicyNetwork(self.state_size, self.action_size, seed).to(device)\n",
    "        self.value = ValueNetwork(self.state_size, seed).to(device)\n",
    "        \n",
    "        # set buffer\n",
    "        self.buffer = BasicBuffer(seed=90)\n",
    "        \n",
    "        # set Zfilter\n",
    "        self.running_state = ZFilter((self.state_size,), clip=5)\n",
    "        self.running_reward = ZFilter((1,), demean=False, clip=10)\n",
    "        \n",
    "    def memorize(self, state, action, reward, next_state, mask):\n",
    "        \n",
    "        self.buffer.add(state, np.array([action]), reward, next_state, mask)\n",
    "        \n",
    "    def act(self, state):\n",
    "        \n",
    "        state = torch.from_numpy(state).unsqueeze(0)\n",
    "        action_mean, _, action_std = self.policy(Variable(state))\n",
    "        action = torch.normal(action_mean, action_std)\n",
    "        \n",
    "        return action.data[0].numpy()\n",
    "    \n",
    "    def learn(self):\n",
    "    \n",
    "        experiences = self.buffer.sample()\n",
    "        self.update_params(experiences)\n",
    "    \n",
    "    def update_params(self, experiences):\n",
    "        \n",
    "        states = torch.Tensor(experiences.state)\n",
    "        actions = torch.Tensor(np.concatenate(experiences.action, 0))\n",
    "        rewards = torch.Tensor(experiences.reward)\n",
    "        masks = torch.Tensor(experiences.mask)\n",
    "        \n",
    "        returns = torch.Tensor(actions.size(0), 1)\n",
    "        deltas = torch.Tensor(actions.size(0), 1)\n",
    "        advantages = torch.Tensor(actions.size(0), 1)\n",
    "        \n",
    "        old_return = 0\n",
    "        old_value = 0\n",
    "        old_advantage = 0\n",
    "    \n",
    "        values = self.value(Variable(states))\n",
    "    \n",
    "        for i in reversed(range(rewards.size(0))):\n",
    "            \n",
    "            returns[i] = rewards[i] + self.gamma * old_return * masks[i]\n",
    "            deltas[i] = rewards[i] + self.gamma * old_value * masks[i] - values.data[i]\n",
    "            advantages[i] = deltas[i] + self.gamma * self.tau * old_advantage * masks[i]\n",
    "            \n",
    "            old_return = returns[i, 0]\n",
    "            old_value = values.data[i, 0]\n",
    "            old_advantage = advantages[i, 0]\n",
    "            \n",
    "        targets = Variable(returns)\n",
    "\n",
    "        # original code uses the same LBFGS to optimize the value loss\n",
    "        def get_value_loss(flat_params):\n",
    "\n",
    "            set_flat_params_to(self.value, torch.Tensor(flat_params))\n",
    "            for param in self.value.parameters():\n",
    "                if param.grad is not None:\n",
    "                    param.grad.data.fill_(0)\n",
    "\n",
    "            values_ = self.value(Variable(states))\n",
    "\n",
    "            value_loss = (values_ - targets).pow(2).mean()\n",
    "\n",
    "            # weight decay\n",
    "            for param in self.value.parameters():\n",
    "                value_loss += param.pow(2).sum() * self.decay_rate\n",
    "            value_loss.backward()\n",
    "\n",
    "            return (value_loss.data.double().numpy(), get_flat_grad_from(self.value).data.double().numpy())\n",
    "        \n",
    "        flat_params, _, opt_info = scipy.optimize.fmin_l_bfgs_b(get_value_loss, get_flat_params_from(self.value).double().numpy(), maxiter=25)\n",
    "        set_flat_params_to(self.value, torch.Tensor(flat_params))\n",
    "        \n",
    "        advantages = (advantages - advantages.mean()) / advantages.std()\n",
    "        \n",
    "        action_means, action_log_stds, action_stds = self.policy(Variable(states))\n",
    "        fixed_log_prob = normal_log_density(Variable(actions), action_means, action_log_stds, action_stds).data.clone()\n",
    "        \n",
    "        def get_policy_loss(volatile=False):\n",
    "\n",
    "            if volatile:\n",
    "                with torch.no_grad():\n",
    "                    action_means, action_log_stds, action_stds = self.policy(Variable(states))\n",
    "            else:\n",
    "                action_means, action_log_stds, action_stds = self.policy(Variable(states))\n",
    "\n",
    "            log_prob = normal_log_density(Variable(actions), action_means, action_log_stds, action_stds)\n",
    "            action_loss = -Variable(advantages) * torch.exp(log_prob - Variable(fixed_log_prob))\n",
    "\n",
    "            return action_loss.mean()\n",
    "\n",
    "        def get_kl():\n",
    "\n",
    "            mean, log_std, std = self.policy(states)\n",
    "\n",
    "            mean_old = Variable(mean.data)\n",
    "            log_std_old = Variable(log_std.data)\n",
    "            std_old = Variable(std.data)\n",
    "\n",
    "            kl = log_std - log_std_old + (std_old.pow(2) + (mean_old - mean).pow(2)) / (2.0 * std.pow(2)) - 0.5\n",
    "            return kl.sum(1, keepdim=True)\n",
    "        \n",
    "        policy_loss = trpo_step(self.policy, get_policy_loss, get_kl, self.max_kl, self.damping)\n",
    "        \n",
    "    def save(self, policy_path, value_path):\n",
    "        \n",
    "        if not os.path.exists('./agents/'): os.makedirs('./agents/')\n",
    "        torch.save(self.policy.state_dict(), policy_path); torch.save(self.value.state_dict(), value_path)\n",
    "    \n",
    "    def watch(self, num_episodes):\n",
    "        \n",
    "        for i_episode in range(1, num_episodes+1):\n",
    "    \n",
    "            state = env.reset()\n",
    "            state = agent.running_state(state)\n",
    "            \n",
    "            reward_sum = 0\n",
    "            \n",
    "            for time_step in range(10000):\n",
    "\n",
    "                env.render() # render the screen\n",
    "\n",
    "                action = self.act(state) # select an action\n",
    "                next_state, reward, done, _ = env.step(action)\n",
    "                next_state = agent.running_state(next_state)\n",
    "\n",
    "                state = next_state\n",
    "                reward_sum += reward\n",
    "                if done:\n",
    "                    break\n",
    "\n",
    "            print(f'\\rEpisode: {i_episode}, Last Reward: {reward_sum:.2f}')\n",
    "\n",
    "        env.close()"
   ]
  },
  {
   "cell_type": "code",
   "execution_count": 12,
   "metadata": {
    "collapsed": true
   },
   "outputs": [],
   "source": [
    "agent = TRPOAgent(env, seed=90)"
   ]
  },
  {
   "cell_type": "markdown",
   "metadata": {},
   "source": [
    "## Train The Agent"
   ]
  },
  {
   "cell_type": "code",
   "execution_count": 13,
   "metadata": {
    "collapsed": true
   },
   "outputs": [],
   "source": [
    "def train_agent(num_episodes=10000):\n",
    "    \n",
    "    scores = []\n",
    "    scores_window = deque(maxlen=PRINT_EVERY)\n",
    "    \n",
    "    for i_episode in range(1, num_episodes+1):\n",
    "        \n",
    "        agent.buffer.clear_memory()\n",
    "        \n",
    "        num_steps = 0\n",
    "        num_episodes = 0\n",
    "        reward_batch = 0\n",
    "        \n",
    "        while num_steps < BATCH_SIZE:\n",
    "\n",
    "            state = env.reset()\n",
    "            state = agent.running_state(state)\n",
    "\n",
    "            reward_sum = 0\n",
    "\n",
    "            for time_step in range(10000):\n",
    "                \n",
    "                action = agent.act(state)\n",
    "                next_state, reward, done, _ = env.step(action)            \n",
    "                next_state = agent.running_state(next_state)\n",
    "\n",
    "                mask = 0 if done else 1\n",
    "                agent.memorize(state, action, reward, next_state, mask)\n",
    "                \n",
    "                state = next_state\n",
    "                reward_sum += reward\n",
    "                if done:\n",
    "                    break\n",
    "\n",
    "            num_steps += (time_step-1)\n",
    "            num_episodes += 1\n",
    "            reward_batch += reward_sum\n",
    "\n",
    "        reward_batch /= num_episodes\n",
    "        \n",
    "        scores_window.append(reward_batch)\n",
    "        scores.append(reward_batch)\n",
    "        \n",
    "        agent.learn()\n",
    "        \n",
    "        if i_episode % PRINT_EVERY == 0:\n",
    "            print(f'Episode {i_episode}, Last Reward: {reward_sum:.2f}, Average Score: {reward_batch:.2f}')\n",
    "            \n",
    "        if np.mean(scores_window) >= 250.0:\n",
    "            print(f'\\nEnvironment solved in {i_episode:d} episodes!, Last Reward: {reward_sum:.2f}, Average Score: {reward_batch:.2f}')\n",
    "            agent.save(f'./agents/POLICY_{ENV_NAME}.pth', f'./agents/VALUE_{ENV_NAME}.pth')\n",
    "            break\n",
    "    \n",
    "    print('Training completed.')\n",
    "    \n",
    "    return scores"
   ]
  },
  {
   "cell_type": "code",
   "execution_count": 14,
   "metadata": {
    "scrolled": true
   },
   "outputs": [
    {
     "name": "stdout",
     "output_type": "stream",
     "text": [
      "Episode 1, Last Reward: -682.15, Average Score: -310.92\n",
      "Episode 2, Last Reward: -690.28, Average Score: -256.27\n",
      "Episode 3, Last Reward: -671.53, Average Score: -485.70\n",
      "Episode 4, Last Reward: -699.88, Average Score: -686.73\n",
      "Episode 5, Last Reward: -660.78, Average Score: -232.17\n",
      "Episode 6, Last Reward: -643.76, Average Score: -476.11\n",
      "Episode 7, Last Reward: -660.67, Average Score: -474.21\n",
      "Episode 8, Last Reward: -610.60, Average Score: -317.37\n",
      "Episode 9, Last Reward: -630.52, Average Score: -639.72\n",
      "Episode 10, Last Reward: -629.43, Average Score: -615.45\n",
      "Episode 11, Last Reward: -558.61, Average Score: -586.89\n",
      "Episode 12, Last Reward: -529.43, Average Score: -527.46\n",
      "Episode 13, Last Reward: -515.11, Average Score: -492.04\n",
      "Episode 14, Last Reward: -373.72, Average Score: -382.51\n",
      "Episode 15, Last Reward: -346.01, Average Score: -334.36\n",
      "Episode 16, Last Reward: -263.45, Average Score: -273.58\n",
      "Episode 17, Last Reward: -213.55, Average Score: -197.47\n",
      "Episode 18, Last Reward: -156.77, Average Score: -135.63\n",
      "Episode 19, Last Reward: -29.07, Average Score: -47.51\n",
      "Episode 20, Last Reward: -7.96, Average Score: -2.08\n",
      "Episode 21, Last Reward: 6.21, Average Score: 3.18\n",
      "Episode 22, Last Reward: 69.29, Average Score: 33.76\n",
      "Episode 23, Last Reward: 60.25, Average Score: 44.80\n",
      "Episode 24, Last Reward: 67.84, Average Score: 74.97\n",
      "Episode 25, Last Reward: 103.17, Average Score: 101.34\n",
      "Episode 26, Last Reward: 109.76, Average Score: 49.80\n",
      "Episode 27, Last Reward: 119.84, Average Score: 118.66\n",
      "Episode 28, Last Reward: 123.18, Average Score: 126.45\n",
      "Episode 29, Last Reward: 137.06, Average Score: 133.50\n",
      "Episode 30, Last Reward: 137.97, Average Score: 122.61\n",
      "Episode 31, Last Reward: 149.66, Average Score: 144.10\n",
      "Episode 32, Last Reward: 154.45, Average Score: 120.75\n",
      "Episode 33, Last Reward: 151.47, Average Score: 127.99\n",
      "Episode 34, Last Reward: 162.70, Average Score: 48.73\n",
      "Episode 35, Last Reward: 171.72, Average Score: 131.01\n",
      "Episode 36, Last Reward: 173.53, Average Score: 125.32\n",
      "Episode 37, Last Reward: 166.17, Average Score: 101.19\n",
      "Episode 38, Last Reward: 144.27, Average Score: 122.01\n",
      "Episode 39, Last Reward: 170.06, Average Score: 125.77\n",
      "Episode 40, Last Reward: 164.14, Average Score: 160.14\n",
      "Episode 41, Last Reward: 169.33, Average Score: 166.76\n",
      "Episode 42, Last Reward: 168.28, Average Score: 152.43\n",
      "Episode 43, Last Reward: 174.33, Average Score: 133.32\n",
      "Episode 44, Last Reward: 176.12, Average Score: 179.48\n",
      "Episode 45, Last Reward: 192.15, Average Score: 185.04\n",
      "Episode 46, Last Reward: 197.64, Average Score: 191.32\n",
      "Episode 47, Last Reward: 207.56, Average Score: 146.44\n",
      "Episode 48, Last Reward: 205.90, Average Score: 169.87\n",
      "Episode 49, Last Reward: 213.16, Average Score: 173.34\n",
      "Episode 50, Last Reward: 202.69, Average Score: 156.25\n",
      "Episode 51, Last Reward: 204.54, Average Score: 204.36\n",
      "Episode 52, Last Reward: 205.01, Average Score: 170.85\n",
      "Episode 53, Last Reward: 219.53, Average Score: 213.06\n",
      "Episode 54, Last Reward: 216.22, Average Score: 148.99\n",
      "Episode 55, Last Reward: 212.00, Average Score: 164.25\n",
      "Episode 56, Last Reward: 211.46, Average Score: 183.43\n",
      "Episode 57, Last Reward: 219.92, Average Score: 158.38\n",
      "Episode 58, Last Reward: 207.22, Average Score: 210.74\n",
      "Episode 59, Last Reward: -56.12, Average Score: 177.88\n",
      "Episode 60, Last Reward: 211.50, Average Score: 183.24\n",
      "Episode 61, Last Reward: 211.08, Average Score: 210.71\n",
      "Episode 62, Last Reward: 217.94, Average Score: 217.78\n",
      "Episode 63, Last Reward: 216.63, Average Score: 186.18\n",
      "Episode 64, Last Reward: 227.37, Average Score: 184.52\n",
      "Episode 65, Last Reward: 220.15, Average Score: 217.84\n",
      "Episode 66, Last Reward: 223.40, Average Score: 101.47\n",
      "Episode 67, Last Reward: 224.50, Average Score: 219.15\n",
      "Episode 68, Last Reward: 221.04, Average Score: 200.86\n",
      "Episode 69, Last Reward: 222.88, Average Score: 183.68\n",
      "Episode 70, Last Reward: 214.93, Average Score: 216.03\n",
      "Episode 71, Last Reward: 221.87, Average Score: 184.13\n",
      "Episode 72, Last Reward: 209.68, Average Score: 166.19\n",
      "Episode 73, Last Reward: 209.32, Average Score: 218.20\n",
      "Episode 74, Last Reward: 215.07, Average Score: 190.71\n",
      "Episode 75, Last Reward: 221.94, Average Score: 220.93\n",
      "Episode 76, Last Reward: 214.28, Average Score: 219.26\n",
      "Episode 77, Last Reward: 222.45, Average Score: 223.88\n",
      "Episode 78, Last Reward: 49.24, Average Score: 212.76\n",
      "Episode 79, Last Reward: 222.40, Average Score: 163.39\n",
      "Episode 80, Last Reward: 227.18, Average Score: 204.22\n",
      "Episode 81, Last Reward: 228.30, Average Score: 154.30\n",
      "Episode 82, Last Reward: 232.33, Average Score: 224.98\n",
      "Episode 83, Last Reward: 234.62, Average Score: 227.50\n",
      "Episode 84, Last Reward: 232.57, Average Score: 137.04\n",
      "Episode 85, Last Reward: 237.52, Average Score: 160.32\n",
      "Episode 86, Last Reward: 88.98, Average Score: 193.76\n",
      "Episode 87, Last Reward: 228.64, Average Score: 216.63\n",
      "Episode 88, Last Reward: 234.29, Average Score: 229.07\n",
      "Episode 89, Last Reward: 230.40, Average Score: 206.07\n",
      "Episode 90, Last Reward: 229.97, Average Score: 228.16\n",
      "Episode 91, Last Reward: 226.64, Average Score: 198.87\n",
      "Episode 92, Last Reward: 231.63, Average Score: 201.68\n",
      "Episode 93, Last Reward: 200.02, Average Score: 225.33\n",
      "Episode 94, Last Reward: 227.03, Average Score: 230.36\n",
      "Episode 95, Last Reward: 234.91, Average Score: 230.70\n",
      "Episode 96, Last Reward: 223.22, Average Score: 226.96\n",
      "Episode 97, Last Reward: 237.07, Average Score: 234.07\n",
      "Episode 98, Last Reward: 237.45, Average Score: 230.04\n",
      "Episode 99, Last Reward: 225.07, Average Score: 232.74\n",
      "Episode 100, Last Reward: 232.82, Average Score: 233.49\n",
      "Episode 101, Last Reward: 235.32, Average Score: 236.20\n",
      "Episode 102, Last Reward: 229.53, Average Score: 211.69\n",
      "Episode 103, Last Reward: 235.48, Average Score: 234.35\n",
      "Episode 104, Last Reward: 227.82, Average Score: 234.38\n",
      "Episode 105, Last Reward: 236.16, Average Score: 188.37\n",
      "Episode 106, Last Reward: 234.15, Average Score: 217.09\n",
      "Episode 107, Last Reward: 236.20, Average Score: 191.16\n",
      "Episode 108, Last Reward: 233.09, Average Score: 235.20\n",
      "Episode 109, Last Reward: 237.30, Average Score: 219.18\n",
      "Episode 110, Last Reward: 241.35, Average Score: 193.64\n",
      "Episode 111, Last Reward: 238.06, Average Score: 124.86\n",
      "Episode 112, Last Reward: 239.36, Average Score: 210.72\n",
      "Episode 113, Last Reward: 230.34, Average Score: 200.39\n",
      "Episode 114, Last Reward: 233.26, Average Score: 190.48\n",
      "Episode 115, Last Reward: 235.44, Average Score: 155.95\n",
      "Episode 116, Last Reward: 240.64, Average Score: 236.29\n",
      "Episode 117, Last Reward: 231.88, Average Score: 88.38\n",
      "Episode 118, Last Reward: 229.80, Average Score: 209.17\n",
      "Episode 119, Last Reward: 232.72, Average Score: 233.75\n",
      "Episode 120, Last Reward: 233.16, Average Score: 179.32\n",
      "Episode 121, Last Reward: 233.99, Average Score: 196.89\n",
      "Episode 122, Last Reward: 233.72, Average Score: 234.18\n",
      "Episode 123, Last Reward: 231.06, Average Score: 191.65\n",
      "Episode 124, Last Reward: 234.08, Average Score: 197.85\n",
      "Episode 125, Last Reward: 238.97, Average Score: 235.12\n",
      "Episode 126, Last Reward: 235.45, Average Score: 235.39\n",
      "Episode 127, Last Reward: 236.95, Average Score: 212.70\n",
      "Episode 128, Last Reward: 242.39, Average Score: 156.40\n",
      "Episode 129, Last Reward: 236.31, Average Score: 158.15\n",
      "Episode 130, Last Reward: 241.63, Average Score: 237.85\n",
      "Episode 131, Last Reward: 230.05, Average Score: 213.68\n",
      "Episode 132, Last Reward: 240.77, Average Score: 237.26\n",
      "Episode 133, Last Reward: 241.07, Average Score: 201.47\n",
      "Episode 134, Last Reward: 240.27, Average Score: 239.59\n",
      "Episode 135, Last Reward: 236.59, Average Score: 238.11\n",
      "Episode 136, Last Reward: 241.24, Average Score: 239.53\n",
      "Episode 137, Last Reward: 245.57, Average Score: 226.70\n",
      "Episode 138, Last Reward: 240.71, Average Score: 199.72\n",
      "Episode 139, Last Reward: 241.92, Average Score: 190.68\n",
      "Episode 140, Last Reward: 242.30, Average Score: 241.13\n",
      "Episode 141, Last Reward: 247.04, Average Score: 186.60\n",
      "Episode 142, Last Reward: 242.74, Average Score: 220.97\n",
      "Episode 143, Last Reward: 240.53, Average Score: 239.18\n",
      "Episode 144, Last Reward: 246.76, Average Score: 244.10\n",
      "Episode 145, Last Reward: 246.86, Average Score: 240.88\n",
      "Episode 146, Last Reward: 237.70, Average Score: 244.68\n",
      "Episode 147, Last Reward: 243.75, Average Score: 207.64\n",
      "Episode 148, Last Reward: 236.18, Average Score: 171.45\n"
     ]
    },
    {
     "name": "stdout",
     "output_type": "stream",
     "text": [
      "Episode 149, Last Reward: 247.07, Average Score: 245.01\n",
      "Episode 150, Last Reward: 246.21, Average Score: 243.01\n",
      "Episode 151, Last Reward: 247.52, Average Score: 201.19\n",
      "Episode 152, Last Reward: 245.77, Average Score: 193.32\n",
      "Episode 153, Last Reward: 243.87, Average Score: 242.36\n",
      "Episode 154, Last Reward: 250.56, Average Score: 246.31\n",
      "Episode 155, Last Reward: 239.20, Average Score: 225.75\n",
      "Episode 156, Last Reward: 241.06, Average Score: 229.29\n",
      "Episode 157, Last Reward: 247.38, Average Score: 217.26\n",
      "Episode 158, Last Reward: 241.31, Average Score: 212.18\n",
      "Episode 159, Last Reward: 238.48, Average Score: 246.99\n",
      "Episode 160, Last Reward: 251.24, Average Score: 229.58\n",
      "Episode 161, Last Reward: 242.33, Average Score: 246.95\n",
      "Episode 162, Last Reward: 250.39, Average Score: 219.92\n",
      "Episode 163, Last Reward: 244.33, Average Score: 249.21\n",
      "Episode 164, Last Reward: 59.83, Average Score: 230.42\n",
      "Episode 165, Last Reward: 249.02, Average Score: 251.08\n",
      "\n",
      "Environment solved in 165 episodes!, Last Reward: 249.02, Average Score: 251.08\n",
      "Training completed.\n"
     ]
    }
   ],
   "source": [
    "scores = train_agent(num_episodes=10000)"
   ]
  },
  {
   "cell_type": "markdown",
   "metadata": {},
   "source": [
    "## Evaluate The Agent"
   ]
  },
  {
   "cell_type": "code",
   "execution_count": 15,
   "metadata": {},
   "outputs": [
    {
     "data": {
      "image/png": "[encoded data removed]",
      "text/plain": [
       "<matplotlib.figure.Figure at 0x1526c855c0>"
      ]
     },
     "metadata": {},
     "output_type": "display_data"
    }
   ],
   "source": [
    "plt.figure(figsize=(10,5))\n",
    "plt.plot(np.arange(len(scores)), scores, color='green')\n",
    "plt.xlabel('Num of episodes')\n",
    "plt.ylabel('Score')\n",
    "if not os.path.exists('./images/'): os.makedirs('./images/')\n",
    "plt.savefig('./images/plot_of_trpo_evaluation.png')\n",
    "plt.show()"
   ]
  },
  {
   "cell_type": "markdown",
   "metadata": {},
   "source": [
    "## 🎬 Watch The Smart Agent"
   ]
  },
  {
   "cell_type": "code",
   "execution_count": 16,
   "metadata": {
    "collapsed": true
   },
   "outputs": [],
   "source": [
    "agent.policy.load_state_dict(torch.load(f'./agents/POLICY_{ENV_NAME}.pth'));"
   ]
  },
  {
   "cell_type": "code",
   "execution_count": 17,
   "metadata": {},
   "outputs": [
    {
     "name": "stdout",
     "output_type": "stream",
     "text": [
      "Episode: 1, Last Reward: 251.27\n",
      "Episode: 2, Last Reward: 255.40\n",
      "Episode: 3, Last Reward: 239.01\n",
      "Episode: 4, Last Reward: 250.43\n",
      "Episode: 5, Last Reward: 248.15\n",
      "Episode: 6, Last Reward: 249.68\n",
      "Episode: 7, Last Reward: 244.15\n",
      "Episode: 8, Last Reward: 249.45\n",
      "Episode: 9, Last Reward: 249.29\n",
      "Episode: 10, Last Reward: 246.73\n"
     ]
    }
   ],
   "source": [
    "agent.watch(num_episodes=10)"
   ]
  },
  {
   "cell_type": "markdown",
   "metadata": {},
   "source": [
    "---"
   ]
  }
 ],
 "metadata": {
  "kernelspec": {
   "display_name": "Python 3",
   "language": "python",
   "name": "python3"
  },
  "language_info": {
   "codemirror_mode": {
    "name": "ipython",
    "version": 3
   },
   "file_extension": ".py",
   "mimetype": "text/x-python",
   "name": "python",
   "nbconvert_exporter": "python",
   "pygments_lexer": "ipython3",
   "version": "3.6.3"
  }
 },
 "nbformat": 4,
 "nbformat_minor": 2
}
