{
 "cells": [
  {
   "cell_type": "markdown",
   "metadata": {},
   "source": [
    "# Evolution Strategies Method"
   ]
  },
  {
   "cell_type": "code",
   "execution_count": null,
   "metadata": {
    "collapsed": true
   },
   "outputs": [],
   "source": [
    "import random\n",
    "import numpy as np"
   ]
  },
  {
   "cell_type": "code",
   "execution_count": null,
   "metadata": {
    "collapsed": true
   },
   "outputs": [],
   "source": [
    "import gym"
   ]
  },
  {
   "cell_type": "markdown",
   "metadata": {},
   "source": [
    "## Set Configs"
   ]
  },
  {
   "cell_type": "code",
   "execution_count": null,
   "metadata": {
    "collapsed": true
   },
   "outputs": [],
   "source": [
    "SIGMA = 0.1"
   ]
  },
  {
   "cell_type": "markdown",
   "metadata": {},
   "source": [
    "## Set Environment"
   ]
  },
  {
   "cell_type": "code",
   "execution_count": null,
   "metadata": {},
   "outputs": [],
   "source": [
    "ENV_NAME = 'BipedalWalker-v2'\n",
    "env = gym.make(ENV_NAME).unwrapped; env.seed(90);"
   ]
  },
  {
   "cell_type": "code",
   "execution_count": null,
   "metadata": {},
   "outputs": [],
   "source": [
    "print('Environment Display:')\n",
    "env.reset() # reset environment to a new, random state\n",
    "# env.render()\n",
    "\n",
    "print('State space {}'.format(env.observation_space))\n",
    "print('Action space {}'.format(env.action_space))"
   ]
  },
  {
   "cell_type": "markdown",
   "metadata": {},
   "source": [
    "## Define [ES](https://arxiv.org/pdf/1703.03864.pdf) Agent"
   ]
  },
  {
   "cell_type": "code",
   "execution_count": null,
   "metadata": {},
   "outputs": [],
   "source": [
    "class ESAgent():\n",
    "    \n",
    "    def __init__(self, env, population_size=20, sigma=0.1, episode_average=1, \n",
    "                 initial_exploration=1.0, final_exploration=0.0, exploration_dec_steps=1e6):\n",
    "    \n",
    "        self.env = env\n",
    "        \n",
    "        self.weights = [np.zeros(shape=(24, 16)), \n",
    "                        np.zeros(shape=(16, 16)), \n",
    "                        np.zeros(shape=(16, 4))]\n",
    "        \n",
    "        self.population_size = population_size\n",
    "        self.sigma = sigma\n",
    "        self.episode_average = episode_average\n",
    "        self.initial_exploration = initial_exploration\n",
    "        self.final_exploration = final_exploration\n",
    "        self.exploration_dec_steps = exploration_dec_steps\n",
    "        self.memory_length = 1\n",
    "        \n",
    "        self.exploration = initial_exploration\n",
    "        \n",
    "    def act(self, sequence):\n",
    "        \n",
    "        sequence = np.array(sequence)\n",
    "        action = np.expand_dims(sequence.flatten(), 0)\n",
    "        action = action/ np.linalg.norm(action)\n",
    "        \n",
    "        for layers in self.weights:\n",
    "            action = np.dot(action, layers)\n",
    "        \n",
    "        return action[0]\n",
    "    \n",
    "    def get_population(self):\n",
    "        \n",
    "        population = []\n",
    "        for i in range(self.population_size):\n",
    "            sample = []\n",
    "            for weight in self.weights:\n",
    "                sample.append(np.random.randn(*weight.shape))\n",
    "            population.append(sample)\n",
    "        return population\n",
    "    \n",
    "    def get_weights_candidate(self, weight, sample):\n",
    "        \n",
    "        weights_candidate = []\n",
    "        for index, i in enumerate(sample):\n",
    "            jittered = self.sigma * i\n",
    "            weights_candidate.append(weight[index] + jittered)\n",
    "        return weights_candidate\n",
    "    \n",
    "    def get_rewards(self, population):\n",
    "        \n",
    "        rewards = []\n",
    "        for sample in population:\n",
    "            weights_candidate = self.get_weights_candidate(self.weights, sample)\n",
    "            rewards.append(self.get_reward(weights_candidate))\n",
    "        rewards = np.array(rewards)\n",
    "        return rewards\n",
    "    \n",
    "    def get_reward(self, weights):\n",
    "        \n",
    "        total_reward = 0.0\n",
    "        self.set_weights(weights)\n",
    "        \n",
    "        for episode in range(self.episode_average):\n",
    "            \n",
    "            state = self.env.reset()\n",
    "            sequence = [state] * self.memory_length\n",
    "            done = False\n",
    "            \n",
    "            while not done:\n",
    "                \n",
    "                self.exploration = max(self.final_exploration, self.exploration - self.initial_exploration/ self.exploration_dec_steps)\n",
    "                if random.random() < self.exploration:\n",
    "                    action = self.env.action_space.sample()\n",
    "                else:\n",
    "                    action = self.act(sequence)\n",
    "                    \n",
    "                next_state, reward, done, _ = self.env.step(action)\n",
    "                total_reward += reward\n",
    "                sequence = sequence[1:]\n",
    "                sequence.append(next_state)\n",
    "            \n",
    "        return total_reward/ self.episode_average\n",
    "    \n",
    "    def set_weights(self, weights):\n",
    "        self.weights = weights"
   ]
  },
  {
   "cell_type": "code",
   "execution_count": null,
   "metadata": {
    "collapsed": true
   },
   "outputs": [],
   "source": [
    "agent = ESAgent(env)"
   ]
  },
  {
   "cell_type": "markdown",
   "metadata": {},
   "source": [
    "## Train The Agent"
   ]
  },
  {
   "cell_type": "code",
   "execution_count": null,
   "metadata": {
    "collapsed": true
   },
   "outputs": [],
   "source": [
    "def train_agent(num_episodes=5000):\n",
    "    \n",
    "    scores = []\n",
    "    for i_episode in range(1, num_episodes+1):\n",
    "\n",
    "        # generate random variations around original policy\n",
    "        population = agent.get_population()\n",
    "\n",
    "        # evaluate each policy over one episode\n",
    "        for sample in population:\n",
    "            weight_candidates = agent.get_weights_candidate(agent.weights, sample)\n",
    "\n",
    "        # initial state\n",
    "        state = env.reset()\n",
    "\n",
    "        reward = agent.get_rewards(population)\n",
    "        sequence = [state] * agent.memory_length\n",
    "        total_reward = 0\n",
    "\n",
    "        while True:\n",
    "\n",
    "            # env.render()\n",
    "            action = agent.act(sequence)\n",
    "\n",
    "            next_state, reward, done, _ = env.step(action)\n",
    "\n",
    "            sequence = next_state\n",
    "            total_reward += reward\n",
    "            scores.append(total_reward)\n",
    "            \n",
    "            print(f'Episode {i_episode}, Total Reward: {total_reward:.2f}, Average Score: {total_reward/i_episode:.2f}')\n",
    "\n",
    "            if done:\n",
    "                break\n",
    "                \n",
    "    print('Training completed.')\n",
    "    \n",
    "    return scores"
   ]
  },
  {
   "cell_type": "code",
   "execution_count": null,
   "metadata": {},
   "outputs": [],
   "source": [
    "scores = train_agent(num_episodes=5000)"
   ]
  },
  {
   "cell_type": "markdown",
   "metadata": {},
   "source": [
    "## Evaluate The Agent"
   ]
  },
  {
   "cell_type": "code",
   "execution_count": null,
   "metadata": {
    "collapsed": true
   },
   "outputs": [],
   "source": [
    "plt.figure(figsize=(10,5))\n",
    "plt.plot(np.arange(len(scores)), scores, color='green')\n",
    "plt.xlabel('Num of episodes')\n",
    "plt.ylabel('Score')\n",
    "if not os.path.exists('./images/'): os.makedirs('./images/')\n",
    "plt.savefig('./images/plot_of_evolution_strategies_evaluation.png')\n",
    "plt.show()"
   ]
  },
  {
   "cell_type": "markdown",
   "metadata": {},
   "source": [
    "---"
   ]
  }
 ],
 "metadata": {
  "kernelspec": {
   "display_name": "Python 3",
   "language": "python",
   "name": "python3"
  },
  "language_info": {
   "codemirror_mode": {
    "name": "ipython",
    "version": 3
   },
   "file_extension": ".py",
   "mimetype": "text/x-python",
   "name": "python",
   "nbconvert_exporter": "python",
   "pygments_lexer": "ipython3",
   "version": "3.6.7"
  }
 },
 "nbformat": 4,
 "nbformat_minor": 2
}
