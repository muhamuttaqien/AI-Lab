{
 "cells": [
  {
   "cell_type": "markdown",
   "metadata": {},
   "source": [
    "# Proximal Policy Optimization"
   ]
  },
  {
   "cell_type": "code",
   "execution_count": 1,
   "metadata": {
    "collapsed": true
   },
   "outputs": [],
   "source": [
    "import os\n",
    "import numpy as np\n",
    "import matplotlib.pyplot as plt\n",
    "\n",
    "from collections import namedtuple, deque"
   ]
  },
  {
   "cell_type": "code",
   "execution_count": 2,
   "metadata": {
    "collapsed": true
   },
   "outputs": [],
   "source": [
    "import gym\n",
    "import torch\n",
    "import torch.nn as nn\n",
    "import torch.nn.functional as F\n",
    "import torch.optim as optim\n",
    "\n",
    "from torch.distributions import Categorical"
   ]
  },
  {
   "cell_type": "code",
   "execution_count": 3,
   "metadata": {
    "collapsed": true
   },
   "outputs": [],
   "source": [
    "from buffer import BasicBuffer\n",
    "from model import PolicyNetwork"
   ]
  },
  {
   "cell_type": "code",
   "execution_count": 4,
   "metadata": {
    "collapsed": true
   },
   "outputs": [],
   "source": [
    "import warnings\n",
    "warnings.simplefilter('ignore', UserWarning)"
   ]
  },
  {
   "cell_type": "code",
   "execution_count": 5,
   "metadata": {
    "collapsed": true
   },
   "outputs": [],
   "source": [
    "plt.style.use('ggplot')"
   ]
  },
  {
   "cell_type": "markdown",
   "metadata": {},
   "source": [
    "## Set Configs"
   ]
  },
  {
   "cell_type": "code",
   "execution_count": 6,
   "metadata": {
    "collapsed": true
   },
   "outputs": [],
   "source": [
    "is_cuda = torch.cuda.is_available()\n",
    "\n",
    "if is_cuda: device = torch.device('cuda')\n",
    "else: device = torch.device('cpu')"
   ]
  },
  {
   "cell_type": "code",
   "execution_count": 7,
   "metadata": {
    "collapsed": true
   },
   "outputs": [],
   "source": [
    "GAMMA = 0.99\n",
    "PRINT_EVERY = 20\n",
    "\n",
    "LR = 2e-3\n",
    "BETAS = (0.9, 0.999)\n",
    "EPS_CLIP = 0.2\n",
    "K_EPOCHS = 4\n",
    "UPDATE_TIME_STEP = 2000"
   ]
  },
  {
   "cell_type": "markdown",
   "metadata": {},
   "source": [
    "## Set Environment"
   ]
  },
  {
   "cell_type": "code",
   "execution_count": 8,
   "metadata": {},
   "outputs": [
    {
     "name": "stdout",
     "output_type": "stream",
     "text": [
      "\u001b[33mWARN: gym.spaces.Box autodetected dtype as <class 'numpy.float32'>. Please provide explicit dtype.\u001b[0m\n"
     ]
    }
   ],
   "source": [
    "ENV_NAME = 'LunarLander-v2'\n",
    "env = gym.make(ENV_NAME).unwrapped; env.seed(90);"
   ]
  },
  {
   "cell_type": "code",
   "execution_count": 9,
   "metadata": {},
   "outputs": [
    {
     "name": "stdout",
     "output_type": "stream",
     "text": [
      "Environment Display:\n",
      "State space Box(8,)\n",
      "Action space Discrete(4)\n"
     ]
    }
   ],
   "source": [
    "print('Environment Display:')\n",
    "env.reset() # reset environment to a new, random state\n",
    "env.render()\n",
    "\n",
    "print('State space {}'.format(env.observation_space))\n",
    "print('Action space {}'.format(env.action_space))"
   ]
  },
  {
   "cell_type": "markdown",
   "metadata": {},
   "source": [
    "## Define [PPO](https://arxiv.org/pdf/1707.06347.pdf) Agent"
   ]
  },
  {
   "cell_type": "code",
   "execution_count": 10,
   "metadata": {
    "collapsed": true
   },
   "outputs": [],
   "source": [
    "class PPOAgent():\n",
    "    \"\"\"The Agent that will interacts with and learns from the environment.\"\"\"\n",
    "    \n",
    "    def __init__(self, env, seed):\n",
    "        \"\"\"Initialize an Agent object.\"\"\"\n",
    "        \n",
    "        self.env = env\n",
    "        \n",
    "        self.state_size = env.observation_space.shape[0]\n",
    "        self.action_size = env.action_space.n\n",
    "        \n",
    "        self.gamma = GAMMA\n",
    "        self.lr = LR\n",
    "        self.betas = BETAS\n",
    "        self.eps_clip = EPS_CLIP\n",
    "        self.K_epochs = K_EPOCHS\n",
    "\n",
    "        self.policy = PolicyNetwork(self.state_size, self.action_size, seed).to(device)\n",
    "        self.policy_optimizer = torch.optim.Adam(self.policy.parameters(), lr=self.lr, betas=self.betas)\n",
    "        \n",
    "        self.policy_old = PolicyNetwork(self.state_size, self.action_size, seed).to(device)\n",
    "        self.policy_old.load_state_dict(self.policy.state_dict())\n",
    "        \n",
    "        # set buffer\n",
    "        self.buffer = BasicBuffer()\n",
    "        \n",
    "        # set loss function\n",
    "        self.mse_loss = nn.MSELoss()\n",
    "        \n",
    "    def compute_action(self, state, action_probs):\n",
    "    \n",
    "        dist = Categorical(action_probs)\n",
    "        action = dist.sample()\n",
    "        \n",
    "        self.buffer.states.append(state)\n",
    "        self.buffer.actions.append(action)\n",
    "        self.buffer.log_probs.append(dist.log_prob(action))\n",
    "        \n",
    "        return action.item()\n",
    "    \n",
    "    def act(self, state):\n",
    "        \n",
    "        state = torch.FloatTensor(state).to(device) \n",
    "        \n",
    "        action_probs = self.policy_old.act(state)\n",
    "        action = self.compute_action(state, action_probs)\n",
    "        \n",
    "        return action\n",
    "    \n",
    "    def evaluate_policy(self, state, action):\n",
    "        \n",
    "        action_probs = self.policy.act(state) # discrete action spaces\n",
    "        dist = Categorical(action_probs)\n",
    "        \n",
    "        action_log_prob = dist.log_prob(action)\n",
    "        dist_entropy = dist.entropy()\n",
    "        state_value = self.policy.evaluate(state)\n",
    "        \n",
    "        return action_log_prob, torch.squeeze(state_value), dist_entropy\n",
    "    \n",
    "    def learn(self):\n",
    "        \n",
    "        rewards = []\n",
    "        discounted_reward = 0\n",
    "        \n",
    "        # reward calculation only use the future rewards and ignore past rewards\n",
    "        for reward, done in zip(reversed(self.buffer.rewards), reversed(self.buffer.dones)):\n",
    "            if done:\n",
    "                discounted_reward = 0\n",
    "                \n",
    "            # rewards plus next state values\n",
    "            discounted_reward = reward + (self.gamma * discounted_reward)\n",
    "            rewards.insert(0, discounted_reward)\n",
    "            \n",
    "        # normalize the rewards\n",
    "        rewards = torch.tensor(rewards).to(device)\n",
    "        rewards = (rewards - rewards.mean()) / (rewards.std() + 1e-5)\n",
    "        \n",
    "        # convert list to tensor for implementing importance sampling\n",
    "        old_states = torch.stack(self.buffer.states).to(device).detach()\n",
    "        old_actions = torch.stack(self.buffer.actions).to(device).detach()\n",
    "        old_log_probs = torch.stack(self.buffer.log_probs).to(device).detach()\n",
    "        \n",
    "        # optimize policy for K epochs without generating new trajectories\n",
    "        for _ in range(self.K_epochs):\n",
    "            \n",
    "            # evaluate old actions and values to learn surrogate function\n",
    "            log_probs, state_values, dist_entropy = self.evaluate_policy(old_states, old_actions)\n",
    "            \n",
    "            # find the ratio of pi_theta and pi_theta_old\n",
    "            ratios = torch.exp(log_probs - old_log_probs.detach())\n",
    "            \n",
    "            # compute surrogate function (clip it to ensure that the new policy remains close to the old one)\n",
    "            advantages = rewards - state_values.detach() # TD estimate as a baseline\n",
    "            surrogate1 = ratios * advantages\n",
    "            surrogate2 = torch.clamp(ratios, 1-self.eps_clip, 1+self.eps_clip) * advantages\n",
    "            loss = -torch.min(surrogate1, surrogate2) + 0.5 * self.mse_loss(rewards, state_values) - 0.01 * dist_entropy\n",
    "            loss = loss.mean()\n",
    "            \n",
    "            # backpropagate gradient loss\n",
    "            self.policy_optimizer.zero_grad()\n",
    "            loss.backward()\n",
    "            self.policy_optimizer.step()\n",
    "        \n",
    "        # copy new weights into old policy\n",
    "        self.policy_old.load_state_dict(self.policy.state_dict())\n",
    "        \n",
    "    def save(self, policy_path):\n",
    "        \n",
    "        if not os.path.exists('./agents/'): os.makedirs('./agents/')\n",
    "        torch.save(self.policy.state_dict(), policy_path)\n",
    "        \n",
    "    def watch(self, num_episodes):\n",
    "        \n",
    "        for i_episode in range(1, num_episodes+1):\n",
    "    \n",
    "            state = env.reset()\n",
    "            rewards = []\n",
    "            for time_step in range(1000):\n",
    "\n",
    "                env.render() # render the screen\n",
    "\n",
    "                action = self.act(state) # select an action\n",
    "                next_state, reward, done, _ = env.step(action)\n",
    "\n",
    "                state = next_state\n",
    "                rewards.append(reward)\n",
    "                if done:\n",
    "                    break\n",
    "\n",
    "            print(f'\\rEpisode: {i_episode}, Average Score: {sum(rewards):.2f}')\n",
    "\n",
    "        env.close()"
   ]
  },
  {
   "cell_type": "code",
   "execution_count": 11,
   "metadata": {
    "collapsed": true
   },
   "outputs": [],
   "source": [
    "agent = PPOAgent(env, seed=90)"
   ]
  },
  {
   "cell_type": "markdown",
   "metadata": {},
   "source": [
    "## Train The Agent"
   ]
  },
  {
   "cell_type": "code",
   "execution_count": 12,
   "metadata": {
    "collapsed": true
   },
   "outputs": [],
   "source": [
    "def train_agent(num_episodes=50000, max_time=300):\n",
    "    \n",
    "    scores = []\n",
    "    scores_window = deque(maxlen=PRINT_EVERY)\n",
    "    \n",
    "    time_to_update = 0\n",
    "    average_length = 0\n",
    "    \n",
    "    # training loop\n",
    "    for i_episode in range(1, num_episodes+1):\n",
    "\n",
    "        state = env.reset()\n",
    "        score = 0\n",
    "        \n",
    "        for time_step in range(max_time):\n",
    "            \n",
    "            time_to_update +=1\n",
    "            \n",
    "            action = agent.act(state)\n",
    "            next_state, reward, done, _ = env.step(action)\n",
    "            \n",
    "            # saving reward and done\n",
    "            agent.buffer.rewards.append(reward)\n",
    "            agent.buffer.dones.append(done)\n",
    "            \n",
    "            # update agent\n",
    "            if time_to_update % UPDATE_TIME_STEP == 0:\n",
    "                agent.learn()\n",
    "                agent.buffer.clear_memory()\n",
    "                time_to_update = 0\n",
    "                \n",
    "            state = next_state\n",
    "            score += reward\n",
    "            if done:\n",
    "                break\n",
    "                \n",
    "        average_length += time_step\n",
    "                \n",
    "        scores_window.append(score)\n",
    "        scores.append(score)\n",
    "        \n",
    "        print(f'\\rEpisode: {i_episode}, Average Length: {average_length/PRINT_EVERY}, Average Score: {np.mean(scores_window):.2f}', end='')\n",
    "        \n",
    "        if i_episode % PRINT_EVERY == 0:\n",
    "            print(f'\\rEpisode: {i_episode}, Average Length: {average_length/PRINT_EVERY}, Average Score: {np.mean(scores_window):.2f}')\n",
    "            average_length = 0\n",
    "            \n",
    "        if np.mean(scores_window) >= 200.0:\n",
    "            print(f'\\nEnvironment solved in {i_episode:d} episodes!, Average Length: {average_length}, Average Score: {np.mean(scores_window):.2f}')\n",
    "            break\n",
    "    \n",
    "    agent.save(f'./agents/PPO_{ENV_NAME}.pth')\n",
    "    print('Training completed.')\n",
    "    \n",
    "    return scores"
   ]
  },
  {
   "cell_type": "code",
   "execution_count": 13,
   "metadata": {},
   "outputs": [
    {
     "name": "stdout",
     "output_type": "stream",
     "text": [
      "Episode: 20, Average Length: 80.5, Average Score: -229.932\n",
      "Episode: 40, Average Length: 89.25, Average Score: -203.43\n",
      "Episode: 60, Average Length: 85.6, Average Score: -171.671\n",
      "Episode: 80, Average Length: 97.5, Average Score: -196.121\n",
      "Episode: 100, Average Length: 109.3, Average Score: -176.62\n",
      "Episode: 120, Average Length: 107.65, Average Score: -157.39\n",
      "Episode: 140, Average Length: 115.15, Average Score: -182.83\n",
      "Episode: 160, Average Length: 122.35, Average Score: -174.64\n",
      "Episode: 180, Average Length: 149.65, Average Score: -134.67\n",
      "Episode: 200, Average Length: 201.4, Average Score: -181.734\n",
      "Episode: 220, Average Length: 189.85, Average Score: -97.817\n",
      "Episode: 240, Average Length: 185.9, Average Score: -84.509\n",
      "Episode: 260, Average Length: 222.55, Average Score: -58.98\n",
      "Episode: 280, Average Length: 207.9, Average Score: -22.055\n",
      "Episode: 300, Average Length: 184.8, Average Score: -27.482\n",
      "Episode: 320, Average Length: 234.65, Average Score: -32.63\n",
      "Episode: 340, Average Length: 289.25, Average Score: 3.8961\n",
      "Episode: 360, Average Length: 285.25, Average Score: 12.99\n",
      "Episode: 380, Average Length: 264.85, Average Score: 45.04\n",
      "Episode: 400, Average Length: 227.35, Average Score: 33.36\n",
      "Episode: 420, Average Length: 247.8, Average Score: 44.985\n",
      "Episode: 440, Average Length: 252.75, Average Score: 26.56\n",
      "Episode: 460, Average Length: 251.0, Average Score: 25.887\n",
      "Episode: 480, Average Length: 280.55, Average Score: 79.48\n",
      "Episode: 500, Average Length: 259.45, Average Score: 69.52\n",
      "Episode: 520, Average Length: 241.55, Average Score: 39.78\n",
      "Episode: 540, Average Length: 292.75, Average Score: 65.97\n",
      "Episode: 560, Average Length: 299.0, Average Score: 48.616\n",
      "Episode: 580, Average Length: 297.9, Average Score: 42.158\n",
      "Episode: 600, Average Length: 292.2, Average Score: 48.518\n",
      "Episode: 620, Average Length: 275.15, Average Score: 80.56\n",
      "Episode: 640, Average Length: 255.85, Average Score: 69.59\n",
      "Episode: 660, Average Length: 282.4, Average Score: 55.399\n",
      "Episode: 680, Average Length: 295.75, Average Score: 57.42\n",
      "Episode: 700, Average Length: 289.85, Average Score: 77.24\n",
      "Episode: 720, Average Length: 273.75, Average Score: 58.72\n",
      "Episode: 740, Average Length: 293.05, Average Score: 99.453\n",
      "Episode: 760, Average Length: 279.95, Average Score: 93.02\n",
      "Episode: 780, Average Length: 283.85, Average Score: 86.51\n",
      "Episode: 800, Average Length: 292.65, Average Score: 61.87\n",
      "Episode: 820, Average Length: 299.0, Average Score: 92.940\n",
      "Episode: 840, Average Length: 294.5, Average Score: 91.8693\n",
      "Episode: 860, Average Length: 299.0, Average Score: 118.507\n",
      "Episode: 880, Average Length: 292.9, Average Score: 119.668\n",
      "Episode: 900, Average Length: 299.0, Average Score: 111.506\n",
      "Episode: 920, Average Length: 291.65, Average Score: 117.48\n",
      "Episode: 940, Average Length: 280.55, Average Score: 110.51\n",
      "Episode: 960, Average Length: 287.7, Average Score: 104.541\n",
      "Episode: 980, Average Length: 292.95, Average Score: 114.95\n",
      "Episode: 1000, Average Length: 280.3, Average Score: 146.40\n",
      "Episode: 1020, Average Length: 253.45, Average Score: 137.20\n",
      "Episode: 1040, Average Length: 269.85, Average Score: 174.79\n",
      "Episode: 1060, Average Length: 275.55, Average Score: 160.05\n",
      "Episode: 1080, Average Length: 275.35, Average Score: 164.07\n",
      "Episode: 1100, Average Length: 249.15, Average Score: 122.01\n",
      "Episode: 1120, Average Length: 277.0, Average Score: 177.256\n",
      "Episode: 1140, Average Length: 269.65, Average Score: 191.58\n",
      "Episode: 1156, Average Length: 217.35, Average Score: 200.57\n",
      "Environment solved in 1156 episodes!, Average Length: 4347, Average Score: 200.57\n",
      "Training completed.\n"
     ]
    }
   ],
   "source": [
    "scores = train_agent(num_episodes=50000, max_time=300)"
   ]
  },
  {
   "cell_type": "markdown",
   "metadata": {},
   "source": [
    "## Evaluate The Agent"
   ]
  },
  {
   "cell_type": "code",
   "execution_count": 14,
   "metadata": {},
   "outputs": [
    {
     "data": {
      "image/png": "[encoded data removed]",
      "text/plain": [
       "<matplotlib.figure.Figure at 0x121dd6160>"
      ]
     },
     "metadata": {},
     "output_type": "display_data"
    }
   ],
   "source": [
    "plt.figure(figsize=(10,5))\n",
    "plt.plot(np.arange(len(scores)), scores, color='green')\n",
    "plt.xlabel('Num of episodes')\n",
    "plt.ylabel('Score')\n",
    "if not os.path.exists('./images/'): os.makedirs('./images/')\n",
    "plt.savefig('./images/plot_of_ppo_evaluation.png')\n",
    "plt.show()"
   ]
  },
  {
   "cell_type": "markdown",
   "metadata": {},
   "source": [
    "## 🎬 Watch The Smart Agent"
   ]
  },
  {
   "cell_type": "code",
   "execution_count": 15,
   "metadata": {
    "collapsed": true
   },
   "outputs": [],
   "source": [
    "agent.policy.load_state_dict(torch.load(f'./agents/PPO_{ENV_NAME}.pth'));"
   ]
  },
  {
   "cell_type": "code",
   "execution_count": 16,
   "metadata": {},
   "outputs": [
    {
     "name": "stdout",
     "output_type": "stream",
     "text": [
      "Episode: 1, Average Score: 198.04\n",
      "Episode: 2, Average Score: 252.75\n",
      "Episode: 3, Average Score: 200.75\n",
      "Episode: 4, Average Score: 246.03\n",
      "Episode: 5, Average Score: 243.32\n",
      "Episode: 6, Average Score: 211.36\n",
      "Episode: 7, Average Score: 187.09\n",
      "Episode: 8, Average Score: 206.55\n",
      "Episode: 9, Average Score: 259.91\n",
      "Episode: 10, Average Score: 240.24\n"
     ]
    }
   ],
   "source": [
    "agent.watch(num_episodes=10)"
   ]
  },
  {
   "cell_type": "markdown",
   "metadata": {},
   "source": [
    "---"
   ]
  }
 ],
 "metadata": {
  "kernelspec": {
   "display_name": "Python 3",
   "language": "python",
   "name": "python3"
  },
  "language_info": {
   "codemirror_mode": {
    "name": "ipython",
    "version": 3
   },
   "file_extension": ".py",
   "mimetype": "text/x-python",
   "name": "python",
   "nbconvert_exporter": "python",
   "pygments_lexer": "ipython3",
   "version": "3.6.7"
  }
 },
 "nbformat": 4,
 "nbformat_minor": 2
}
