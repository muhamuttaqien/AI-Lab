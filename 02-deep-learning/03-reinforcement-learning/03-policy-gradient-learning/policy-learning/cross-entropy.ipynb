{
 "cells": [
  {
   "cell_type": "markdown",
   "metadata": {},
   "source": [
    "# Cross Entropy Policy Gradient Method"
   ]
  },
  {
   "cell_type": "code",
   "execution_count": null,
   "metadata": {},
   "outputs": [],
   "source": [
    "import os\n",
    "import math\n",
    "import numpy as np\n",
    "import matplotlib.pyplot as plt\n",
    "from collections import deque"
   ]
  },
  {
   "cell_type": "code",
   "execution_count": null,
   "metadata": {},
   "outputs": [],
   "source": [
    "import gym\n",
    "import torch\n",
    "import torch.nn as nn\n",
    "import torch.nn.functional as F\n",
    "from torch.autograd import Variable"
   ]
  },
  {
   "cell_type": "code",
   "execution_count": null,
   "metadata": {},
   "outputs": [],
   "source": [
    "plt.style.use('ggplot')"
   ]
  },
  {
   "cell_type": "markdown",
   "metadata": {},
   "source": [
    "## Set Configs"
   ]
  },
  {
   "cell_type": "code",
   "execution_count": null,
   "metadata": {},
   "outputs": [],
   "source": [
    "is_cuda = torch.cuda.is_available()\n",
    "\n",
    "if is_cuda: device = torch.device('cuda')\n",
    "else: device = torch.device('cpu')"
   ]
  },
  {
   "cell_type": "code",
   "execution_count": null,
   "metadata": {},
   "outputs": [],
   "source": [
    "GAMMA = 1.0\n",
    "PRINT_EVERY = 100\n",
    "POP_SIZE = 50\n",
    "ELITE_FRAC = 0.2\n",
    "SIGMA = 0.5"
   ]
  },
  {
   "cell_type": "markdown",
   "metadata": {},
   "source": [
    "## Set Environment"
   ]
  },
  {
   "cell_type": "code",
   "execution_count": null,
   "metadata": {},
   "outputs": [],
   "source": [
    "ENV_NAME = 'MountainCarContinuous-v0'\n",
    "env = gym.make(ENV_NAME).unwrapped; env.seed(90);"
   ]
  },
  {
   "cell_type": "code",
   "execution_count": null,
   "metadata": {},
   "outputs": [],
   "source": [
    "print('Environment Display:')\n",
    "env.reset() # reset environment to a new, random state\n",
    "env.render()\n",
    "\n",
    "print('State space {}'.format(env.observation_space))\n",
    "print('Action space {}'.format(env.action_space))"
   ]
  },
  {
   "cell_type": "markdown",
   "metadata": {},
   "source": [
    "## Define The Policy"
   ]
  },
  {
   "cell_type": "code",
   "execution_count": null,
   "metadata": {},
   "outputs": [],
   "source": [
    "class Policy(nn.Module):\n",
    "    \"\"\"Define non-linear Policy.\"\"\"\n",
    "    \n",
    "    def __init__(self, env, hidden_size=16):\n",
    "        \n",
    "        super(Policy, self).__init__()\n",
    "        \n",
    "        self.env = env\n",
    "        state_size = env.observation_space.shape[0]\n",
    "        action_size = env.action_space.shape[0]\n",
    "        \n",
    "        self.state_size = state_size\n",
    "        self.action_size = action_size\n",
    "        self.hidden_size = hidden_size\n",
    "        \n",
    "        # define layers\n",
    "        self.fc1_layer = nn.Linear(self.state_size, self.hidden_size)\n",
    "        self.fc2_layer = nn.Linear(self.hidden_size, self.action_size)\n",
    "        \n",
    "    def set_weights(self, weights):\n",
    "        \n",
    "        state_size = self.state_size\n",
    "        action_size = self.action_size\n",
    "        hidden_size = self.hidden_size\n",
    "        \n",
    "        # separate the weights for each layer\n",
    "        fc1_end = (state_size*hidden_size) + hidden_size\n",
    "        fc1_W = torch.from_numpy(weights[:state_size*hidden_size].reshape(state_size, hidden_size))\n",
    "        fc1_b = torch.from_numpy(weights[state_size*hidden_size:fc1_end])\n",
    "        \n",
    "        fc2_W = torch.from_numpy(weights[fc1_end:fc1_end+(hidden_size*action_size)].reshape(hidden_size, action_size))\n",
    "        fc2_b = torch.from_numpy(weights[fc1_end+(hidden_size*action_size):])\n",
    "        \n",
    "        # set the weights for each layer\n",
    "        self.fc1_layer.weight.data.copy_(fc1_W.view_as(self.fc1_layer.weight.data))\n",
    "        self.fc1_layer.bias.data.copy_(fc1_b.view_as(self.fc1_layer.bias.data))\n",
    "        \n",
    "        self.fc2_layer.weight.data.copy_(fc2_W.view_as(self.fc2_layer.weight.data))\n",
    "        self.fc2_layer.bias.data.copy_(fc2_b.view_as(self.fc2_layer.bias.data))\n",
    "        \n",
    "    def get_dim_weights(self):\n",
    "        \n",
    "        dim_weights = (self.state_size+1) * self.hidden_size + (self.hidden_size+1) * self.action_size\n",
    "        return dim_weights\n",
    "    \n",
    "    def evaluate(self, weights, gamma=1.0, max_time=5000):\n",
    "        \n",
    "        self.set_weights(weights)\n",
    "        episode_return = 0.0\n",
    "        \n",
    "        state = self.env.reset()\n",
    "        \n",
    "        for time in range(max_time):\n",
    "            \n",
    "            state = torch.from_numpy(state).float().to(device)\n",
    "            action = self.forward(state).cpu().data\n",
    "            \n",
    "            next_state, reward, done, _ = self.env.step(action)\n",
    "            episode_return += reward * math.pow(gamma, time)\n",
    "            \n",
    "            state = next_state\n",
    "            if done:\n",
    "                break\n",
    "                \n",
    "        return episode_return\n",
    "        \n",
    "    def forward(self, x):\n",
    "        \n",
    "        x = F.relu(self.fc1_layer(x))\n",
    "        x = F.tanh(self.fc2_layer(x))\n",
    "        \n",
    "        return x"
   ]
  },
  {
   "cell_type": "code",
   "execution_count": null,
   "metadata": {},
   "outputs": [],
   "source": [
    "policy = Policy(env).to(device)"
   ]
  },
  {
   "cell_type": "markdown",
   "metadata": {},
   "source": [
    "## Train The Agent"
   ]
  },
  {
   "cell_type": "code",
   "execution_count": null,
   "metadata": {},
   "outputs": [],
   "source": [
    "def train_agent(num_episodes=500, max_time=1000, gamma=1.0, pop_size=50, elite_frac=0.2, sigma=0.5):\n",
    "    \"\"\"Train agent using cross entropy algorithm.\"\"\"\n",
    "    \n",
    "    num_elite = int(pop_size*elite_frac)\n",
    "    \n",
    "    scores = []\n",
    "    scores_window = deque(maxlen=100)\n",
    "    \n",
    "    best_weights = sigma * np.random.randn(policy.get_dim_weights())\n",
    "    \n",
    "    for i_episode in range(1, num_episodes+1):\n",
    "        \n",
    "        pop_weights = [best_weights + (sigma*np.random.randn(policy.get_dim_weights())) for _ in range(pop_size)]\n",
    "        rewards = np.array([policy.evaluate(weights, gamma, max_time) for weights in pop_weights])\n",
    "        \n",
    "        elite_indices = rewards.argsort()[-num_elite:]\n",
    "        elite_weights = [pop_weights[i] for i in elite_indices]\n",
    "        best_weights = np.array(elite_weights).mean(axis=0)\n",
    "        \n",
    "        reward = policy.evaluate(best_weights, gamma=1.0)\n",
    "        scores_window.append(reward)\n",
    "        scores.append(reward)\n",
    "        \n",
    "        print(f'\\rEpisode: {i_episode}, Average Score: {np.mean(scores_window):.2f}', end='')\n",
    "        \n",
    "        if i_episode % PRINT_EVERY == 0:\n",
    "            print(f'\\rEpisode: {i_episode}, Average Score: {np.mean(scores_window):.2f}')\n",
    "        if np.mean(scores_window)>=90.0:\n",
    "            print(f'\\nEnvironment solved in {i_episode-100:d} episodes! Average Score: {np.mean(scores_window):.2f}')\n",
    "            if not os.path.exists('./agents/'): os.makedirs('./agents/')\n",
    "            torch.save(policy.state_dict(), f'./agents/CE_{ENV_NAME}.pth')\n",
    "            break\n",
    "            \n",
    "    print('Training completed.')\n",
    "    return scores"
   ]
  },
  {
   "cell_type": "code",
   "execution_count": null,
   "metadata": {},
   "outputs": [],
   "source": [
    "scores = train_agent(num_episodes=500, max_time=1000)"
   ]
  },
  {
   "cell_type": "markdown",
   "metadata": {},
   "source": [
    "## Evaluate The Agent"
   ]
  },
  {
   "cell_type": "code",
   "execution_count": null,
   "metadata": {},
   "outputs": [],
   "source": [
    "plt.figure(figsize=(10,5))\n",
    "plt.plot(np.arange(len(scores)), scores, color='green')\n",
    "plt.xlabel('Num of episodes')\n",
    "plt.ylabel('Score')\n",
    "if not os.path.exists('./images/'): os.makedirs('./images/')\n",
    "plt.savefig('./images/plot_of_hill_climbing_policy_evaluation.png')\n",
    "plt.show()"
   ]
  },
  {
   "cell_type": "markdown",
   "metadata": {},
   "source": [
    "## 🎬 Watch The Smart Agen"
   ]
  },
  {
   "cell_type": "code",
   "execution_count": null,
   "metadata": {},
   "outputs": [],
   "source": [
    "# load the weights of smart agent\n",
    "policy.load_state_dict(torch.load(f'./agents/CE_{ENV_NAME}.pth'));"
   ]
  },
  {
   "cell_type": "code",
   "execution_count": null,
   "metadata": {},
   "outputs": [],
   "source": [
    "num_episodes = 5\n",
    "\n",
    "for i_episode in range(1, num_episodes+1):\n",
    "    \n",
    "    state = env.reset()\n",
    "    rewards = []\n",
    "    for time_step in range(1000):\n",
    "        \n",
    "        env.render() # render the screen\n",
    "        \n",
    "        action = policy.act(state) # select an action\n",
    "        next_state, reward, done, _ = env.step(action)\n",
    "        \n",
    "        state = next_state\n",
    "        rewards.append(reward)\n",
    "        if done:\n",
    "            break\n",
    "            \n",
    "    print(f'\\rEpisode: {i_episode}, Average Score: {sum(rewards):.2f}')\n",
    "\n",
    "env.close()"
   ]
  },
  {
   "cell_type": "markdown",
   "metadata": {},
   "source": [
    "---"
   ]
  }
 ],
 "metadata": {
  "kernelspec": {
   "display_name": "Python 3",
   "language": "python",
   "name": "python3"
  },
  "language_info": {
   "codemirror_mode": {
    "name": "ipython",
    "version": 3
   },
   "file_extension": ".py",
   "mimetype": "text/x-python",
   "name": "python",
   "nbconvert_exporter": "python",
   "pygments_lexer": "ipython3",
   "version": "3.7.3"
  }
 },
 "nbformat": 4,
 "nbformat_minor": 2
}
