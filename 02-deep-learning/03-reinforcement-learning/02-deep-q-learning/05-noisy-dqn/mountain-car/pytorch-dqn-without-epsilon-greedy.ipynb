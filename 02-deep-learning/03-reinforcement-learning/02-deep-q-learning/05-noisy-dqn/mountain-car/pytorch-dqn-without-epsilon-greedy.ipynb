{
 "cells": [
  {
   "cell_type": "markdown",
   "metadata": {},
   "source": [
    "# Noisy DQN, Deep Q Learning"
   ]
  },
  {
   "cell_type": "code",
   "execution_count": 1,
   "metadata": {
    "collapsed": true
   },
   "outputs": [],
   "source": [
    "import os\n",
    "import math\n",
    "import random\n",
    "import numpy as np\n",
    "import matplotlib.pyplot as plt\n",
    "\n",
    "from collections import namedtuple, deque"
   ]
  },
  {
   "cell_type": "code",
   "execution_count": 2,
   "metadata": {
    "collapsed": true
   },
   "outputs": [],
   "source": [
    "import gym\n",
    "import torch\n",
    "import torch.nn as nn\n",
    "import torch.optim as optim\n",
    "import torch.autograd as autograd\n",
    "import torch.nn.functional as F\n",
    "import torchvision.transforms as T"
   ]
  },
  {
   "cell_type": "code",
   "execution_count": 3,
   "metadata": {
    "collapsed": true
   },
   "outputs": [],
   "source": [
    "import warnings\n",
    "warnings.simplefilter('ignore', UserWarning)"
   ]
  },
  {
   "cell_type": "code",
   "execution_count": 4,
   "metadata": {
    "collapsed": true
   },
   "outputs": [],
   "source": [
    "plt.style.use('ggplot')"
   ]
  },
  {
   "cell_type": "markdown",
   "metadata": {},
   "source": [
    "## Set Configs"
   ]
  },
  {
   "cell_type": "code",
   "execution_count": 5,
   "metadata": {
    "collapsed": true
   },
   "outputs": [],
   "source": [
    "is_cuda = torch.cuda.is_available()\n",
    "\n",
    "if is_cuda: device = torch.device('cuda')\n",
    "else: device = torch.device('cpu')"
   ]
  },
  {
   "cell_type": "code",
   "execution_count": 6,
   "metadata": {
    "collapsed": true
   },
   "outputs": [],
   "source": [
    "BUFFER_SIZE = int(1e5)\n",
    "BATCH_SIZE = 64\n",
    "GAMMA = 0.99\n",
    "TAU = 1e-3 # for soft update of target parameters\n",
    "LR = 5e-4\n",
    "PRINT_EVERY = 100\n",
    "UPDATE_EVERY = 4"
   ]
  },
  {
   "cell_type": "markdown",
   "metadata": {},
   "source": [
    "## Set Environment"
   ]
  },
  {
   "cell_type": "code",
   "execution_count": 7,
   "metadata": {},
   "outputs": [
    {
     "name": "stderr",
     "output_type": "stream",
     "text": [
      "[2020-02-06 12:30:08,204] Making new env: MountainCar-v0\n",
      "/Users/angga.muhammad/anaconda3/lib/python3.7/site-packages/gym/envs/registration.py:17: PkgResourcesDeprecationWarning: Parameters to load are deprecated.  Call .resolve and .require separately.\n",
      "  result = entry_point.load(False)\n"
     ]
    }
   ],
   "source": [
    "ENV_NAME = 'MountainCar-v0'\n",
    "env = gym.make(ENV_NAME).unwrapped; env.seed(90);"
   ]
  },
  {
   "cell_type": "code",
   "execution_count": 8,
   "metadata": {},
   "outputs": [
    {
     "name": "stdout",
     "output_type": "stream",
     "text": [
      "Environment Display:\n",
      "State space Box(2,)\n",
      "Action space Discrete(3)\n"
     ]
    }
   ],
   "source": [
    "print('Environment Display:')\n",
    "env.reset() # reset environment to a new, random state\n",
    "env.render()\n",
    "\n",
    "print('State space {}'.format(env.observation_space))\n",
    "print('Action space {}'.format(env.action_space))"
   ]
  },
  {
   "cell_type": "markdown",
   "metadata": {},
   "source": [
    "## Build Noisy Network"
   ]
  },
  {
   "cell_type": "code",
   "execution_count": 9,
   "metadata": {
    "collapsed": true
   },
   "outputs": [],
   "source": [
    "class NoisyNet(nn.Module):\n",
    "    \n",
    "    def __init__(self, input_features, output_features, sigma_init=0.4, train_mode=True):\n",
    "        \n",
    "        super(NoisyNet, self).__init__()\n",
    "        \n",
    "        self.input_features = input_features\n",
    "        self.output_features = output_features\n",
    "        self.sigma_init = sigma_init\n",
    "        self.train_mode = train_mode\n",
    "        \n",
    "        self.mu_weight = nn.Parameter(torch.FloatTensor(output_features, input_features))\n",
    "        self.sigma_weight = nn.Parameter(torch.FloatTensor(output_features, input_features))\n",
    "        self.register_buffer('epsilon_weight', torch.FloatTensor(output_features, input_features))\n",
    "        \n",
    "        self.mu_bias = nn.Parameter(torch.FloatTensor(output_features))\n",
    "        self.sigma_bias = nn.Parameter(torch.FloatTensor(output_features))\n",
    "        self.register_buffer('epsilon_bias', torch.FloatTensor(output_features))\n",
    "        \n",
    "        self.reset_parameters()\n",
    "        self.reset_noise()\n",
    "        \n",
    "    def reset_parameters(self):\n",
    "        \n",
    "        mu_range = 1 / math.sqrt(self.mu_weight.size(1))\n",
    "        \n",
    "        self.mu_weight.data.uniform_(-mu_range, mu_range)\n",
    "        self.sigma_weight.data.fill_(self.sigma_init / math.sqrt(self.sigma_weight.size(1)))\n",
    "        \n",
    "        self.mu_bias.data.uniform_(-mu_range, mu_range)\n",
    "        self.sigma_bias.data.fill_(self.sigma_init / math.sqrt(self.sigma_bias.size(0)))\n",
    "    \n",
    "    def reset_noise(self):\n",
    "        \n",
    "        input_size = self.input_features\n",
    "        epsilon_input = torch.randn(input_size)\n",
    "        epsilon_input = epsilon_input.sign().mul(epsilon_input.abs().sqrt())\n",
    "        \n",
    "        output_size = self.output_features\n",
    "        epsilon_output = torch.randn(output_size)\n",
    "        epsilon_output = epsilon_output.sign().mul(epsilon_output.abs().sqrt())\n",
    "        \n",
    "        self.epsilon_weight.copy_(epsilon_output.ger(epsilon_input))\n",
    "        self.epsilon_bias.copy_(epsilon_output)\n",
    "        \n",
    "    def forward(self, x):\n",
    "        \n",
    "        if self.train_mode:\n",
    "            weight = self.mu_weight + self.sigma_weight.mul(autograd.Variable(self.epsilon_weight))\n",
    "            bias = self.mu_bias + self.sigma_bias.mul(autograd.Variable(self.epsilon_bias))\n",
    "        else:\n",
    "            weight = self.mu_weight\n",
    "            bias = self.mu_bias\n",
    "            \n",
    "        return F.linear(x, weight, bias)"
   ]
  },
  {
   "cell_type": "markdown",
   "metadata": {},
   "source": [
    "## Build DQN Architecture"
   ]
  },
  {
   "cell_type": "code",
   "execution_count": 10,
   "metadata": {
    "collapsed": true
   },
   "outputs": [],
   "source": [
    "class DQN(nn.Module):\n",
    "    \"\"\"Define DQN architecture.\"\"\"\n",
    "    \n",
    "    def __init__(self, state_size, action_size, seed, fcl_units=64, fc2_units=64):\n",
    "        \"\"\"Initialize parameters and build model.\"\"\"\n",
    "        \n",
    "        super(DQN, self).__init__()\n",
    "        \n",
    "        self.seed = torch.manual_seed(seed)\n",
    "        \n",
    "        self.fc1_layer = nn.Linear(state_size, fcl_units)\n",
    "        self.noisy1_layer = NoisyNet(fcl_units, fc2_units)\n",
    "        self.noisy2_layer = NoisyNet(fc2_units, action_size)\n",
    "        \n",
    "    def reset_noise(self):\n",
    "        self.noisy1_layer.reset_noise()\n",
    "        self.noisy2_layer.reset_noise()\n",
    "        \n",
    "    def forward(self, state):\n",
    "        \"\"\"Build a network that maps state into action values.\"\"\"\n",
    "        \n",
    "        state = F.relu(self.fc1_layer(state))\n",
    "        state = F.relu(self.noisy1_layer(state))\n",
    "        Qsa = self.noisy2_layer(state)\n",
    "        \n",
    "        return Qsa        "
   ]
  },
  {
   "cell_type": "markdown",
   "metadata": {},
   "source": [
    "## Set Replay Buffer"
   ]
  },
  {
   "cell_type": "code",
   "execution_count": 11,
   "metadata": {
    "collapsed": true
   },
   "outputs": [],
   "source": [
    "class ReplayBuffer(object):\n",
    "    \"\"\"Fixed-size buffer to store experience tuples.\"\"\"\n",
    "    \n",
    "    def __init__(self, action_size, buffer_size, batch_size, seed):\n",
    "        \"\"\"Initialize a ReplayMemory object.\"\"\"\n",
    "        \n",
    "        self.experience = namedtuple(\"Experience\", field_names=[\"state\", \"action\", \"reward\", \"next_state\", \"done\"])\n",
    "        self.seed = random.seed(seed)\n",
    "        \n",
    "        self.action_size = action_size\n",
    "        self.memory = deque(maxlen=buffer_size)\n",
    "        self.batch_size = batch_size\n",
    "\n",
    "    def add(self, state, action, reward, next_state, done):\n",
    "        \"\"\"Add a new experience to buffer.\"\"\"\n",
    "        \n",
    "        self.memory.append(self.experience(state, action, reward, next_state, done))\n",
    "        \n",
    "    def sample(self):\n",
    "        \"\"\"Randomly sample a batch of experiences from memory.\"\"\"\n",
    "        experiences = random.sample(self.memory, k=self.batch_size)\n",
    "        \n",
    "        states = torch.from_numpy(np.vstack([exp.state for exp in experiences if exp is not None])).float()\n",
    "        states = states.to(device)\n",
    "        \n",
    "        actions = torch.from_numpy(np.vstack([exp.action for exp in experiences if exp is not None])).long()\n",
    "        actions = actions.to(device)\n",
    "        \n",
    "        rewards = torch.from_numpy(np.vstack([exp.reward for exp in experiences if exp is not None])).float()\n",
    "        rewards = rewards.to(device)\n",
    "        \n",
    "        next_states = torch.from_numpy(np.vstack([exp.next_state for exp in experiences if exp is not None])).float()\n",
    "        next_states = next_states.to(device)\n",
    "        \n",
    "        dones = torch.from_numpy(np.vstack([exp.done for exp in experiences if exp is not None]).astype(np.uint8)).float()\n",
    "        dones = dones.to(device)\n",
    "        \n",
    "        return (states, actions, rewards, next_states, dones)\n",
    "        \n",
    "    def __len__(self):\n",
    "        \"\"\"Return the current size of internal memory.\"\"\"\n",
    "        return len(self.memory)"
   ]
  },
  {
   "cell_type": "markdown",
   "metadata": {},
   "source": [
    "## Define [Noisy DQN](https://arxiv.org/pdf/1706.10295.pdf) Agent"
   ]
  },
  {
   "cell_type": "code",
   "execution_count": 12,
   "metadata": {
    "collapsed": true
   },
   "outputs": [],
   "source": [
    "class Noisy_DQNAgent():\n",
    "    \"\"\"The agent interacting with and learning from the environment.\"\"\"\n",
    "    \n",
    "    def __init__(self, state_size, action_size, seed):\n",
    "        \"\"\"Initialize an agent object.\"\"\"\n",
    "        \n",
    "        self.state_size = state_size\n",
    "        self.action_size = action_size\n",
    "        self.seed = random.seed(seed)\n",
    "        \n",
    "        # Q-Network\n",
    "        self.dqn_net = DQN(state_size, action_size, seed).to(device)\n",
    "        self.target_net = DQN(state_size, action_size, seed).to(device)\n",
    "        self.optimizer = optim.Adam(self.dqn_net.parameters(), lr=LR)\n",
    "        \n",
    "        # Replay Buffer\n",
    "        self.buffer = ReplayBuffer(action_size, BUFFER_SIZE, BATCH_SIZE, seed)\n",
    "        self.time_step = 0\n",
    "        \n",
    "    def memorize(self, state, action, reward, next_state, done):\n",
    "        \"\"\"Save experience in replay buffer.\"\"\"\n",
    "        \n",
    "        self.buffer.add(state, action, reward, next_state, done)\n",
    "    \n",
    "        self.time_step = (self.time_step + 1) % UPDATE_EVERY\n",
    "        if self.time_step == 0:\n",
    "            # if enough samples are available in memory, get random subset and learn\n",
    "            if len(self.buffer) > BATCH_SIZE:\n",
    "                experiences = self.buffer.sample()\n",
    "                self.learn(experiences, GAMMA)\n",
    "            \n",
    "    def act(self, state):\n",
    "        \"\"\"Returns actions for given state as per current policy.\"\"\"\n",
    "        \n",
    "        state = torch.from_numpy(state).float().unsqueeze(0).to(device)\n",
    "        self.dqn_net.eval()\n",
    "        with torch.no_grad():\n",
    "            action_values = self.dqn_net(state)\n",
    "        self.dqn_net.train()\n",
    "        \n",
    "        return np.argmax(action_values.cpu().data.numpy())\n",
    "        \n",
    "    def learn(self, experiences, gamma):\n",
    "        \"\"\"Update value parameters using given batch of experience tuples.\"\"\"\n",
    "    \n",
    "        states, actions, rewards, next_states, dones = experiences\n",
    "        \n",
    "        self.optimizer.zero_grad()\n",
    "        \n",
    "        # get index of maximum value for next state\n",
    "        Qsa_next = self.dqn_net(next_states).detach()\n",
    "        _, action_max = Qsa_next.max(1)\n",
    "\n",
    "        # get max predicted Q values (for next states) from target network\n",
    "        Q_target_next = self.target_net(next_states).detach().gather(1, action_max.unsqueeze(1))\n",
    "        \n",
    "        # compute Q target\n",
    "        Q_target = rewards + (gamma * Q_target_next * (1 - dones))\n",
    "        \n",
    "        # get expected Q values from dqn network\n",
    "        Q_expected = self.dqn_net(states).gather(1, actions)\n",
    "        \n",
    "        # compute loss\n",
    "        loss = F.mse_loss(Q_target, Q_expected)\n",
    "        \n",
    "        # minimize the loss\n",
    "        loss.backward()\n",
    "        self.optimizer.step()\n",
    "        \n",
    "        # reset noise for both DQN and target networks\n",
    "        self.dqn_net.reset_noise()\n",
    "        self.target_net.reset_noise()\n",
    "        \n",
    "        # update target network\n",
    "        self.soft_update(self.dqn_net, self.target_net, TAU)\n",
    "        \n",
    "    def soft_update(self, dqn_net, target_net, tau):\n",
    "        \"\"\"Soft update target network parameters.\"\"\"\n",
    "        \n",
    "        for dqn_param, target_param in zip(dqn_net.parameters(), target_net.parameters()):\n",
    "            target_param.data.copy_(tau*dqn_param.data + (1.0-tau) * target_param.data)"
   ]
  },
  {
   "cell_type": "code",
   "execution_count": 13,
   "metadata": {
    "collapsed": true
   },
   "outputs": [],
   "source": [
    "agent = Noisy_DQNAgent(state_size=env.observation_space.shape[0], action_size=env.action_space.n, seed=90)"
   ]
  },
  {
   "cell_type": "code",
   "execution_count": 14,
   "metadata": {
    "collapsed": true
   },
   "outputs": [],
   "source": [
    "# watch an untrained agent\n",
    "state = env.reset()\n",
    "for time_step in range(200):\n",
    "    \n",
    "    # select an action\n",
    "    action = agent.act(state)\n",
    "    env.render()\n",
    "    \n",
    "    next_state, reward, done, _ = env.step(action)\n",
    "    state = next_state\n",
    "    if done:\n",
    "        break\n",
    "\n",
    "env.close()"
   ]
  },
  {
   "cell_type": "markdown",
   "metadata": {},
   "source": [
    "## Train The Agent"
   ]
  },
  {
   "cell_type": "code",
   "execution_count": 15,
   "metadata": {
    "collapsed": true
   },
   "outputs": [],
   "source": [
    "def train_agent(num_episodes, max_time=1000):\n",
    "    \"\"\"Train DQN agent.\"\"\"\n",
    "    \n",
    "    scores = []\n",
    "    scores_window = deque(maxlen=100)\n",
    "    \n",
    "    for i_episode in range(1, num_episodes+1):\n",
    "        state = env.reset()\n",
    "        score = 0\n",
    "        for time_step in range(max_time):\n",
    "            action = agent.act(state)\n",
    "            next_state, reward, done, _ = env.step(action)\n",
    "            \n",
    "            agent.memorize(state, action, reward, next_state, done)\n",
    "            state = next_state\n",
    "            score += reward\n",
    "            if done:\n",
    "                break\n",
    "                \n",
    "        scores_window.append(score)\n",
    "        scores.append(score)\n",
    "        \n",
    "        print(f'\\rEpisode: {i_episode}, Average Score: {np.mean(scores_window):.2f}', end='')\n",
    "        \n",
    "        if i_episode % PRINT_EVERY == 0:\n",
    "            print(f'\\rEpisode: {i_episode}, Average Score: {np.mean(scores_window):.2f}')\n",
    "        if np.mean(scores_window) >= -200.0:\n",
    "            print(f'\\nEnvironment solved in {i_episode-100:d} episodes! Average Score: {np.mean(scores_window):.2f}')\n",
    "            if not os.path.exists('./agents/'): os.makedirs('./agents/')\n",
    "            torch.save(agent.dqn_net.state_dict(), f'./agents/Noisy_DQN_without_EGP_{ENV_NAME}.pth')\n",
    "            \n",
    "    print('Training completed.')\n",
    "    return scores"
   ]
  },
  {
   "cell_type": "code",
   "execution_count": 16,
   "metadata": {
    "scrolled": true
   },
   "outputs": [
    {
     "name": "stdout",
     "output_type": "stream",
     "text": [
      "Episode: 100, Average Score: -731.09\n",
      "Episode: 200, Average Score: -678.01\n",
      "Episode: 300, Average Score: -457.17\n",
      "Episode: 400, Average Score: -295.77\n",
      "Episode: 500, Average Score: -286.44\n",
      "Episode: 600, Average Score: -304.11\n",
      "Episode: 700, Average Score: -326.18\n",
      "Episode: 800, Average Score: -236.32\n",
      "Episode: 881, Average Score: -199.37\n",
      "Environment solved in 781 episodes! Average Score: -199.37\n",
      "Episode: 882, Average Score: -198.98\n",
      "Environment solved in 782 episodes! Average Score: -198.98\n",
      "Episode: 883, Average Score: -197.23\n",
      "Environment solved in 783 episodes! Average Score: -197.23\n",
      "Episode: 884, Average Score: -197.23\n",
      "Environment solved in 784 episodes! Average Score: -197.23\n",
      "Episode: 885, Average Score: -196.69\n",
      "Environment solved in 785 episodes! Average Score: -196.69\n",
      "Episode: 886, Average Score: -196.81\n",
      "Environment solved in 786 episodes! Average Score: -196.81\n",
      "Episode: 887, Average Score: -196.08\n",
      "Environment solved in 787 episodes! Average Score: -196.08\n",
      "Episode: 888, Average Score: -195.93\n",
      "Environment solved in 788 episodes! Average Score: -195.93\n",
      "Episode: 889, Average Score: -195.87\n",
      "Environment solved in 789 episodes! Average Score: -195.87\n",
      "Episode: 890, Average Score: -195.61\n",
      "Environment solved in 790 episodes! Average Score: -195.61\n",
      "Episode: 891, Average Score: -195.91\n",
      "Environment solved in 791 episodes! Average Score: -195.91\n",
      "Episode: 892, Average Score: -196.72\n",
      "Environment solved in 792 episodes! Average Score: -196.72\n",
      "Episode: 893, Average Score: -193.87\n",
      "Environment solved in 793 episodes! Average Score: -193.87\n",
      "Episode: 894, Average Score: -192.37\n",
      "Environment solved in 794 episodes! Average Score: -192.37\n",
      "Episode: 895, Average Score: -193.59\n",
      "Environment solved in 795 episodes! Average Score: -193.59\n",
      "Episode: 896, Average Score: -192.43\n",
      "Environment solved in 796 episodes! Average Score: -192.43\n",
      "Episode: 897, Average Score: -193.45\n",
      "Environment solved in 797 episodes! Average Score: -193.45\n",
      "Episode: 898, Average Score: -192.57\n",
      "Environment solved in 798 episodes! Average Score: -192.57\n",
      "Episode: 899, Average Score: -192.91\n",
      "Environment solved in 799 episodes! Average Score: -192.91\n",
      "Episode: 900, Average Score: -192.88\n",
      "\n",
      "Environment solved in 800 episodes! Average Score: -192.88\n",
      "Episode: 901, Average Score: -192.75\n",
      "Environment solved in 801 episodes! Average Score: -192.75\n",
      "Episode: 902, Average Score: -191.75\n",
      "Environment solved in 802 episodes! Average Score: -191.75\n",
      "Episode: 903, Average Score: -192.17\n",
      "Environment solved in 803 episodes! Average Score: -192.17\n",
      "Episode: 904, Average Score: -192.26\n",
      "Environment solved in 804 episodes! Average Score: -192.26\n",
      "Episode: 905, Average Score: -191.26\n",
      "Environment solved in 805 episodes! Average Score: -191.26\n",
      "Episode: 906, Average Score: -190.39\n",
      "Environment solved in 806 episodes! Average Score: -190.39\n",
      "Episode: 907, Average Score: -190.52\n",
      "Environment solved in 807 episodes! Average Score: -190.52\n",
      "Episode: 908, Average Score: -190.80\n",
      "Environment solved in 808 episodes! Average Score: -190.80\n",
      "Episode: 909, Average Score: -191.73\n",
      "Environment solved in 809 episodes! Average Score: -191.73\n",
      "Episode: 910, Average Score: -191.57\n",
      "Environment solved in 810 episodes! Average Score: -191.57\n",
      "Episode: 911, Average Score: -191.14\n",
      "Environment solved in 811 episodes! Average Score: -191.14\n",
      "Episode: 912, Average Score: -190.77\n",
      "Environment solved in 812 episodes! Average Score: -190.77\n",
      "Episode: 913, Average Score: -191.33\n",
      "Environment solved in 813 episodes! Average Score: -191.33\n",
      "Episode: 914, Average Score: -191.98\n",
      "Environment solved in 814 episodes! Average Score: -191.98\n",
      "Episode: 915, Average Score: -191.01\n",
      "Environment solved in 815 episodes! Average Score: -191.01\n",
      "Episode: 916, Average Score: -189.99\n",
      "Environment solved in 816 episodes! Average Score: -189.99\n",
      "Episode: 917, Average Score: -190.09\n",
      "Environment solved in 817 episodes! Average Score: -190.09\n",
      "Episode: 918, Average Score: -189.30\n",
      "Environment solved in 818 episodes! Average Score: -189.30\n",
      "Episode: 919, Average Score: -189.23\n",
      "Environment solved in 819 episodes! Average Score: -189.23\n",
      "Episode: 920, Average Score: -189.45\n",
      "Environment solved in 820 episodes! Average Score: -189.45\n",
      "Episode: 921, Average Score: -189.55\n",
      "Environment solved in 821 episodes! Average Score: -189.55\n",
      "Episode: 922, Average Score: -188.18\n",
      "Environment solved in 822 episodes! Average Score: -188.18\n",
      "Episode: 923, Average Score: -188.60\n",
      "Environment solved in 823 episodes! Average Score: -188.60\n",
      "Episode: 924, Average Score: -188.58\n",
      "Environment solved in 824 episodes! Average Score: -188.58\n",
      "Episode: 925, Average Score: -188.59\n",
      "Environment solved in 825 episodes! Average Score: -188.59\n",
      "Episode: 926, Average Score: -188.80\n",
      "Environment solved in 826 episodes! Average Score: -188.80\n",
      "Episode: 927, Average Score: -190.00\n",
      "Environment solved in 827 episodes! Average Score: -190.00\n",
      "Episode: 928, Average Score: -189.74\n",
      "Environment solved in 828 episodes! Average Score: -189.74\n",
      "Episode: 929, Average Score: -188.68\n",
      "Environment solved in 829 episodes! Average Score: -188.68\n",
      "Episode: 930, Average Score: -187.15\n",
      "Environment solved in 830 episodes! Average Score: -187.15\n",
      "Episode: 931, Average Score: -185.59\n",
      "Environment solved in 831 episodes! Average Score: -185.59\n",
      "Episode: 932, Average Score: -186.20\n",
      "Environment solved in 832 episodes! Average Score: -186.20\n",
      "Episode: 933, Average Score: -185.87\n",
      "Environment solved in 833 episodes! Average Score: -185.87\n",
      "Episode: 934, Average Score: -185.18\n",
      "Environment solved in 834 episodes! Average Score: -185.18\n",
      "Episode: 935, Average Score: -185.14\n",
      "Environment solved in 835 episodes! Average Score: -185.14\n",
      "Episode: 936, Average Score: -186.35\n",
      "Environment solved in 836 episodes! Average Score: -186.35\n",
      "Episode: 937, Average Score: -184.87\n",
      "Environment solved in 837 episodes! Average Score: -184.87\n",
      "Episode: 938, Average Score: -184.40\n",
      "Environment solved in 838 episodes! Average Score: -184.40\n",
      "Episode: 939, Average Score: -183.34\n",
      "Environment solved in 839 episodes! Average Score: -183.34\n",
      "Episode: 940, Average Score: -183.44\n",
      "Environment solved in 840 episodes! Average Score: -183.44\n",
      "Episode: 941, Average Score: -183.03\n",
      "Environment solved in 841 episodes! Average Score: -183.03\n",
      "Episode: 942, Average Score: -184.04\n",
      "Environment solved in 842 episodes! Average Score: -184.04\n",
      "Episode: 943, Average Score: -185.57\n",
      "Environment solved in 843 episodes! Average Score: -185.57\n",
      "Episode: 944, Average Score: -185.61\n",
      "Environment solved in 844 episodes! Average Score: -185.61\n",
      "Episode: 945, Average Score: -185.56\n",
      "Environment solved in 845 episodes! Average Score: -185.56\n",
      "Episode: 946, Average Score: -185.61\n",
      "Environment solved in 846 episodes! Average Score: -185.61\n",
      "Episode: 947, Average Score: -183.89\n",
      "Environment solved in 847 episodes! Average Score: -183.89\n",
      "Episode: 948, Average Score: -183.69\n",
      "Environment solved in 848 episodes! Average Score: -183.69\n",
      "Episode: 949, Average Score: -183.47\n",
      "Environment solved in 849 episodes! Average Score: -183.47\n",
      "Episode: 950, Average Score: -184.34\n",
      "Environment solved in 850 episodes! Average Score: -184.34\n",
      "Episode: 951, Average Score: -182.99\n",
      "Environment solved in 851 episodes! Average Score: -182.99\n",
      "Episode: 952, Average Score: -182.51\n",
      "Environment solved in 852 episodes! Average Score: -182.51\n",
      "Episode: 953, Average Score: -179.46\n",
      "Environment solved in 853 episodes! Average Score: -179.46\n",
      "Episode: 954, Average Score: -177.80\n",
      "Environment solved in 854 episodes! Average Score: -177.80\n",
      "Episode: 955, Average Score: -175.58\n",
      "Environment solved in 855 episodes! Average Score: -175.58\n",
      "Episode: 956, Average Score: -175.46\n",
      "Environment solved in 856 episodes! Average Score: -175.46\n",
      "Episode: 957, Average Score: -176.11\n",
      "Environment solved in 857 episodes! Average Score: -176.11\n",
      "Episode: 958, Average Score: -172.78\n",
      "Environment solved in 858 episodes! Average Score: -172.78\n",
      "Episode: 959, Average Score: -172.02\n",
      "Environment solved in 859 episodes! Average Score: -172.02\n",
      "Episode: 960, Average Score: -172.33\n",
      "Environment solved in 860 episodes! Average Score: -172.33\n",
      "Episode: 961, Average Score: -171.21\n",
      "Environment solved in 861 episodes! Average Score: -171.21\n",
      "Episode: 962, Average Score: -171.17\n",
      "Environment solved in 862 episodes! Average Score: -171.17\n",
      "Episode: 963, Average Score: -170.38\n",
      "Environment solved in 863 episodes! Average Score: -170.38\n",
      "Episode: 964, Average Score: -170.17\n",
      "Environment solved in 864 episodes! Average Score: -170.17\n"
     ]
    },
    {
     "name": "stdout",
     "output_type": "stream",
     "text": [
      "Episode: 965, Average Score: -170.27\n",
      "Environment solved in 865 episodes! Average Score: -170.27\n",
      "Episode: 966, Average Score: -169.17\n",
      "Environment solved in 866 episodes! Average Score: -169.17\n",
      "Episode: 967, Average Score: -168.97\n",
      "Environment solved in 867 episodes! Average Score: -168.97\n",
      "Episode: 968, Average Score: -168.05\n",
      "Environment solved in 868 episodes! Average Score: -168.05\n",
      "Episode: 969, Average Score: -169.87\n",
      "Environment solved in 869 episodes! Average Score: -169.87\n",
      "Episode: 970, Average Score: -169.39\n",
      "Environment solved in 870 episodes! Average Score: -169.39\n",
      "Episode: 971, Average Score: -168.32\n",
      "Environment solved in 871 episodes! Average Score: -168.32\n",
      "Episode: 972, Average Score: -166.65\n",
      "Environment solved in 872 episodes! Average Score: -166.65\n",
      "Episode: 973, Average Score: -167.70\n",
      "Environment solved in 873 episodes! Average Score: -167.70\n",
      "Episode: 974, Average Score: -168.27\n",
      "Environment solved in 874 episodes! Average Score: -168.27\n",
      "Episode: 975, Average Score: -168.78\n",
      "Environment solved in 875 episodes! Average Score: -168.78\n",
      "Episode: 976, Average Score: -167.62\n",
      "Environment solved in 876 episodes! Average Score: -167.62\n",
      "Episode: 977, Average Score: -167.08\n",
      "Environment solved in 877 episodes! Average Score: -167.08\n",
      "Episode: 978, Average Score: -167.66\n",
      "Environment solved in 878 episodes! Average Score: -167.66\n",
      "Episode: 979, Average Score: -167.04\n",
      "Environment solved in 879 episodes! Average Score: -167.04\n",
      "Episode: 980, Average Score: -167.30\n",
      "Environment solved in 880 episodes! Average Score: -167.30\n",
      "Episode: 981, Average Score: -167.84\n",
      "Environment solved in 881 episodes! Average Score: -167.84\n",
      "Episode: 982, Average Score: -168.53\n",
      "Environment solved in 882 episodes! Average Score: -168.53\n",
      "Episode: 983, Average Score: -169.87\n",
      "Environment solved in 883 episodes! Average Score: -169.87\n",
      "Episode: 984, Average Score: -169.19\n",
      "Environment solved in 884 episodes! Average Score: -169.19\n",
      "Episode: 985, Average Score: -169.17\n",
      "Environment solved in 885 episodes! Average Score: -169.17\n",
      "Episode: 986, Average Score: -169.12\n",
      "Environment solved in 886 episodes! Average Score: -169.12\n",
      "Episode: 987, Average Score: -169.93\n",
      "Environment solved in 887 episodes! Average Score: -169.93\n",
      "Episode: 988, Average Score: -170.52\n",
      "Environment solved in 888 episodes! Average Score: -170.52\n",
      "Episode: 989, Average Score: -170.05\n",
      "Environment solved in 889 episodes! Average Score: -170.05\n",
      "Episode: 990, Average Score: -170.60\n",
      "Environment solved in 890 episodes! Average Score: -170.60\n",
      "Episode: 991, Average Score: -170.26\n",
      "Environment solved in 891 episodes! Average Score: -170.26\n",
      "Episode: 992, Average Score: -170.53\n",
      "Environment solved in 892 episodes! Average Score: -170.53\n",
      "Episode: 993, Average Score: -170.75\n",
      "Environment solved in 893 episodes! Average Score: -170.75\n",
      "Episode: 994, Average Score: -171.21\n",
      "Environment solved in 894 episodes! Average Score: -171.21\n",
      "Episode: 995, Average Score: -170.74\n",
      "Environment solved in 895 episodes! Average Score: -170.74\n",
      "Episode: 996, Average Score: -170.72\n",
      "Environment solved in 896 episodes! Average Score: -170.72\n",
      "Episode: 997, Average Score: -169.57\n",
      "Environment solved in 897 episodes! Average Score: -169.57\n",
      "Episode: 998, Average Score: -169.74\n",
      "Environment solved in 898 episodes! Average Score: -169.74\n",
      "Episode: 999, Average Score: -169.28\n",
      "Environment solved in 899 episodes! Average Score: -169.28\n",
      "Episode: 1000, Average Score: -169.31\n",
      "\n",
      "Environment solved in 900 episodes! Average Score: -169.31\n",
      "Training completed.\n"
     ]
    }
   ],
   "source": [
    "scores = train_agent(num_episodes=1000, max_time=1000)"
   ]
  },
  {
   "cell_type": "markdown",
   "metadata": {},
   "source": [
    "## Evaluate The Agent"
   ]
  },
  {
   "cell_type": "code",
   "execution_count": 17,
   "metadata": {},
   "outputs": [
    {
     "data": {
      "image/png": "[encoded data removed]",
      "text/plain": [
       "<Figure size 720x360 with 1 Axes>"
      ]
     },
     "metadata": {},
     "output_type": "display_data"
    }
   ],
   "source": [
    "plt.figure(figsize=(10,5))\n",
    "plt.plot(np.arange(len(scores)), scores, color='green')\n",
    "plt.xlabel('Num of episodes')\n",
    "plt.ylabel('Score')\n",
    "if not os.path.exists('./images/'): os.makedirs('./images/')\n",
    "plt.savefig('./images/plot_of_agent_evaluation_without_EGP')\n",
    "plt.show()"
   ]
  },
  {
   "cell_type": "markdown",
   "metadata": {},
   "source": [
    "## 🎬 Watch The Smart Agent"
   ]
  },
  {
   "cell_type": "code",
   "execution_count": 18,
   "metadata": {
    "collapsed": true
   },
   "outputs": [],
   "source": [
    "# load the weights of smart agent\n",
    "agent.dqn_net.load_state_dict(torch.load(f'./agents/Noisy_DQN_without_EGP_{ENV_NAME}.pth'));"
   ]
  },
  {
   "cell_type": "code",
   "execution_count": 19,
   "metadata": {
    "collapsed": true
   },
   "outputs": [],
   "source": [
    "num_episodes = 5\n",
    "\n",
    "for i_episode in range(1, num_episodes+1):\n",
    "    \n",
    "    state = env.reset()\n",
    "    rewards = []\n",
    "    for time_step in range(200):\n",
    "        \n",
    "        env.render() # render the screen\n",
    "        \n",
    "        action = policy.act(state) # select an action\n",
    "        next_state, reward, done, _ = env.step(action)\n",
    "        \n",
    "        state = next_state\n",
    "        rewards.append(reward)\n",
    "        if done:\n",
    "            break\n",
    "            \n",
    "    print(f'\\rEpisode: {i_episode}, Average Score: {sum(rewards):.2f}')\n",
    "\n",
    "env.close()"
   ]
  },
  {
   "cell_type": "markdown",
   "metadata": {},
   "source": [
    "---"
   ]
  }
 ],
 "metadata": {
  "kernelspec": {
   "display_name": "Python 3",
   "language": "python",
   "name": "python3"
  },
  "language_info": {
   "codemirror_mode": {
    "name": "ipython",
    "version": 3
   },
   "file_extension": ".py",
   "mimetype": "text/x-python",
   "name": "python",
   "nbconvert_exporter": "python",
   "pygments_lexer": "ipython3",
   "version": "3.6.7"
  }
 },
 "nbformat": 4,
 "nbformat_minor": 2
}
