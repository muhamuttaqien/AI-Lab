{
 "cells": [
  {
   "cell_type": "markdown",
   "metadata": {},
   "source": [
    "# DQN, Deep Q Learning"
   ]
  },
  {
   "cell_type": "code",
   "execution_count": 1,
   "metadata": {
    "collapsed": true
   },
   "outputs": [],
   "source": [
    "import os\n",
    "import random\n",
    "import numpy as np\n",
    "import matplotlib.pyplot as plt\n",
    "\n",
    "from collections import namedtuple, deque"
   ]
  },
  {
   "cell_type": "code",
   "execution_count": 2,
   "metadata": {
    "collapsed": true
   },
   "outputs": [],
   "source": [
    "import gym\n",
    "import torch\n",
    "import torch.nn as nn\n",
    "import torch.optim as optim\n",
    "import torch.nn.functional as F\n",
    "import torchvision.transforms as T"
   ]
  },
  {
   "cell_type": "code",
   "execution_count": 3,
   "metadata": {
    "collapsed": true
   },
   "outputs": [],
   "source": [
    "import warnings\n",
    "warnings.simplefilter('ignore', UserWarning)"
   ]
  },
  {
   "cell_type": "code",
   "execution_count": 4,
   "metadata": {
    "collapsed": true
   },
   "outputs": [],
   "source": [
    "plt.style.use('ggplot')"
   ]
  },
  {
   "cell_type": "markdown",
   "metadata": {},
   "source": [
    "## Set Configs"
   ]
  },
  {
   "cell_type": "code",
   "execution_count": 5,
   "metadata": {
    "collapsed": true
   },
   "outputs": [],
   "source": [
    "is_cuda = torch.cuda.is_available()\n",
    "\n",
    "if is_cuda: device = torch.device('cuda')\n",
    "else: device = torch.device('cpu')"
   ]
  },
  {
   "cell_type": "code",
   "execution_count": 6,
   "metadata": {
    "collapsed": true
   },
   "outputs": [],
   "source": [
    "BUFFER_SIZE = int(1e5)\n",
    "BATCH_SIZE = 64\n",
    "GAMMA = 0.99\n",
    "TAU = 1e-3 # for soft update of target parameters\n",
    "LR = 5e-4\n",
    "PRINT_EVERY = 100\n",
    "UPDATE_EVERY = 4"
   ]
  },
  {
   "cell_type": "markdown",
   "metadata": {},
   "source": [
    "## Set Environment"
   ]
  },
  {
   "cell_type": "code",
   "execution_count": 7,
   "metadata": {
    "collapsed": true
   },
   "outputs": [],
   "source": [
    "ENV_NAME = 'CartPole-v0'\n",
    "env = gym.make(ENV_NAME).unwrapped; env.seed(90);"
   ]
  },
  {
   "cell_type": "code",
   "execution_count": 8,
   "metadata": {},
   "outputs": [
    {
     "name": "stdout",
     "output_type": "stream",
     "text": [
      "Environment Display:\n",
      "State space Box(4,)\n",
      "Action space Discrete(2)\n"
     ]
    }
   ],
   "source": [
    "print('Environment Display:')\n",
    "env.reset() # reset environment to a new, random state\n",
    "env.render()\n",
    "\n",
    "print('State space {}'.format(env.observation_space))\n",
    "print('Action space {}'.format(env.action_space))"
   ]
  },
  {
   "cell_type": "markdown",
   "metadata": {},
   "source": [
    "## Build DQN Architecture"
   ]
  },
  {
   "cell_type": "code",
   "execution_count": 9,
   "metadata": {
    "collapsed": true
   },
   "outputs": [],
   "source": [
    "class DQN(nn.Module):\n",
    "    \"\"\"Define DQN architecture.\"\"\"\n",
    "    \n",
    "    def __init__(self, state_size, action_size, seed, fcl_units=64, fc2_units=64):\n",
    "        \"\"\"Initialize parameters and build model.\"\"\"\n",
    "        \n",
    "        super(DQN, self).__init__()\n",
    "        \n",
    "        self.seed = torch.manual_seed(seed)\n",
    "        \n",
    "        self.fc1_layer = nn.Linear(state_size, fcl_units)\n",
    "        self.fc2_layer = nn.Linear(fcl_units, fc2_units)\n",
    "        self.fc3_layer = nn.Linear(fc2_units, action_size)\n",
    "        \n",
    "    def forward(self, state):\n",
    "        \"\"\"Build a network that maps state into action values.\"\"\"\n",
    "        \n",
    "        state = F.relu(self.fc1_layer(state))\n",
    "        state = F.relu(self.fc2_layer(state))\n",
    "        Qsa = self.fc3_layer(state)\n",
    "        \n",
    "        return Qsa        "
   ]
  },
  {
   "cell_type": "markdown",
   "metadata": {},
   "source": [
    "## Set Replay Buffer"
   ]
  },
  {
   "cell_type": "code",
   "execution_count": 10,
   "metadata": {
    "collapsed": true
   },
   "outputs": [],
   "source": [
    "class ReplayBuffer(object):\n",
    "    \"\"\"Fixed-size buffer to store experience tuples.\"\"\"\n",
    "    \n",
    "    def __init__(self, action_size, buffer_size, batch_size, seed):\n",
    "        \"\"\"Initialize a ReplayMemory object.\"\"\"\n",
    "        \n",
    "        self.experience = namedtuple(\"Experience\", field_names=[\"state\", \"action\", \"reward\", \"next_state\", \"done\"])\n",
    "        self.seed = random.seed(seed)\n",
    "        \n",
    "        self.action_size = action_size\n",
    "        self.memory = deque(maxlen=buffer_size)\n",
    "        self.batch_size = batch_size\n",
    "\n",
    "    def add(self, state, action, reward, next_state, done):\n",
    "        \"\"\"Add a new experience to buffer.\"\"\"\n",
    "        \n",
    "        self.memory.append(self.experience(state, action, reward, next_state, done))\n",
    "        \n",
    "    def sample(self):\n",
    "        \"\"\"Randomly sample a batch of experiences from memory.\"\"\"\n",
    "        experiences = random.sample(self.memory, k=self.batch_size)\n",
    "        \n",
    "        states = torch.from_numpy(np.vstack([exp.state for exp in experiences if exp is not None])).float()\n",
    "        states = states.to(device)\n",
    "        \n",
    "        actions = torch.from_numpy(np.vstack([exp.action for exp in experiences if exp is not None])).long()\n",
    "        actions = actions.to(device)\n",
    "        \n",
    "        rewards = torch.from_numpy(np.vstack([exp.reward for exp in experiences if exp is not None])).float()\n",
    "        rewards = rewards.to(device)\n",
    "        \n",
    "        next_states = torch.from_numpy(np.vstack([exp.next_state for exp in experiences if exp is not None])).float()\n",
    "        next_states = next_states.to(device)\n",
    "        \n",
    "        dones = torch.from_numpy(np.vstack([exp.done for exp in experiences if exp is not None]).astype(np.uint8)).float()\n",
    "        dones = dones.to(device)\n",
    "        \n",
    "        return (states, actions, rewards, next_states, dones)\n",
    "        \n",
    "    def __len__(self):\n",
    "        \"\"\"Return the current size of internal memory.\"\"\"\n",
    "        return len(self.memory)"
   ]
  },
  {
   "cell_type": "markdown",
   "metadata": {},
   "source": [
    "## Define [DQN](https://arxiv.org/pdf/1312.5602.pdf) Agent"
   ]
  },
  {
   "cell_type": "code",
   "execution_count": 11,
   "metadata": {
    "collapsed": true
   },
   "outputs": [],
   "source": [
    "class DQNAgent():\n",
    "    \"\"\"The agent interacting with and learning from the environment.\"\"\"\n",
    "    \n",
    "    def __init__(self, state_size, action_size, seed):\n",
    "        \"\"\"Initialize an agent object.\"\"\"\n",
    "        \n",
    "        self.state_size = state_size\n",
    "        self.action_size = action_size\n",
    "        self.seed = random.seed(seed)\n",
    "        \n",
    "        # Q-Network\n",
    "        self.dqn_net = DQN(state_size, action_size, seed).to(device)\n",
    "        self.target_net = DQN(state_size, action_size, seed).to(device)\n",
    "        self.optimizer = optim.Adam(self.dqn_net.parameters(), lr=LR)\n",
    "        \n",
    "        # Replay Buffer\n",
    "        self.buffer = ReplayBuffer(action_size, BUFFER_SIZE, BATCH_SIZE, seed)\n",
    "        self.time_step = 0\n",
    "        \n",
    "    def memorize(self, state, action, reward, next_state, done):\n",
    "        \"\"\"Save experience in replay buffer.\"\"\"\n",
    "        \n",
    "        self.buffer.add(state, action, reward, next_state, done)\n",
    "    \n",
    "        self.time_step = (self.time_step + 1) % UPDATE_EVERY\n",
    "        if self.time_step == 0:\n",
    "            # if enough samples are available in memory, get random subset and learn\n",
    "            if len(self.buffer) > BATCH_SIZE:\n",
    "                experiences = self.buffer.sample()\n",
    "                self.learn(experiences, GAMMA)\n",
    "            \n",
    "    def act(self, state, eps=0.):\n",
    "        \"\"\"Returns actions for given state as per current policy.\"\"\"\n",
    "        \n",
    "        state = torch.from_numpy(state).float().unsqueeze(0).to(device)\n",
    "        self.dqn_net.eval()\n",
    "        with torch.no_grad():\n",
    "            action_values = self.dqn_net(state)\n",
    "        self.dqn_net.train()\n",
    "        \n",
    "        # epsilon-greedy action selection\n",
    "        if random.random() > eps:\n",
    "            return np.argmax(action_values.cpu().data.numpy())\n",
    "        else:\n",
    "            return random.choice(np.arange(self.action_size))\n",
    "    \n",
    "    def learn(self, experiences, gamma):\n",
    "        \"\"\"Update value parameters using given batch of experience tuples.\"\"\"\n",
    "    \n",
    "        states, actions, rewards, next_states, dones = experiences\n",
    "        \n",
    "        self.optimizer.zero_grad()\n",
    "        \n",
    "        # get max predicted Q values (for next states) from target network\n",
    "        Q_target_next = self.target_net(next_states).detach().max(1)[0].unsqueeze(1)\n",
    "        \n",
    "        # compute Q target\n",
    "        Q_target = rewards + (gamma * Q_target_next * (1 - dones))\n",
    "        \n",
    "        # get expected Q values from dqn network\n",
    "        Q_expected = self.dqn_net(states).gather(1, actions)\n",
    "        \n",
    "        # compute loss\n",
    "        loss = F.mse_loss(Q_expected, Q_target)\n",
    "        \n",
    "        # minimize the loss\n",
    "        loss.backward()\n",
    "        self.optimizer.step()\n",
    "        \n",
    "        # update target network\n",
    "        self.soft_update(self.dqn_net, self.target_net, TAU)\n",
    "        \n",
    "    def soft_update(self, dqn_net, target_net, tau):\n",
    "        \"\"\"Soft update target network parameters.\"\"\"\n",
    "        \n",
    "        for dqn_param, target_param in zip(dqn_net.parameters(), target_net.parameters()):\n",
    "            target_param.data.copy_(tau*dqn_param.data + (1.0-tau) * target_param.data)"
   ]
  },
  {
   "cell_type": "code",
   "execution_count": 12,
   "metadata": {
    "collapsed": true
   },
   "outputs": [],
   "source": [
    "agent = DQNAgent(state_size=env.observation_space.shape[0], action_size=env.action_space.n, seed=90)"
   ]
  },
  {
   "cell_type": "code",
   "execution_count": 13,
   "metadata": {
    "collapsed": true
   },
   "outputs": [],
   "source": [
    "# watch an untrained agent\n",
    "state = env.reset()\n",
    "for time_step in range(200):\n",
    "    \n",
    "    # select an action\n",
    "    action = agent.act(state)\n",
    "    env.render()\n",
    "    \n",
    "    next_state, reward, done, _ = env.step(action)\n",
    "    state = next_state\n",
    "    if done:\n",
    "        break\n",
    "\n",
    "env.close()"
   ]
  },
  {
   "cell_type": "markdown",
   "metadata": {},
   "source": [
    "## Train The Agent"
   ]
  },
  {
   "cell_type": "code",
   "execution_count": 14,
   "metadata": {
    "collapsed": true
   },
   "outputs": [],
   "source": [
    "def train_agent(num_episodes, max_time=1000, eps_start=1.0, eps_end=0.01, eps_decay=0.995):\n",
    "    \"\"\"Train DQN agent.\"\"\"\n",
    "    \n",
    "    scores = []\n",
    "    scores_window = deque(maxlen=100)\n",
    "    eps = eps_start\n",
    "    \n",
    "    for i_episode in range(1, num_episodes+1):\n",
    "        state = env.reset()\n",
    "        score = 0\n",
    "        for time_step in range(max_time):\n",
    "            action = agent.act(state, eps)\n",
    "            next_state, reward, done, _ = env.step(action)\n",
    "            \n",
    "            agent.memorize(state, action, reward, next_state, done)\n",
    "            state = next_state\n",
    "            score += reward\n",
    "            if done:\n",
    "                break\n",
    "                \n",
    "        scores_window.append(score)\n",
    "        scores.append(score)\n",
    "        eps = max(eps_end, eps_decay*eps)\n",
    "        \n",
    "        print(f'\\rEpisode: {i_episode}, Average Score: {np.mean(scores_window):.2f}', end='')\n",
    "        \n",
    "        if i_episode % PRINT_EVERY == 0:\n",
    "            print(f'\\rEpisode: {i_episode}, Average Score: {np.mean(scores_window):.2f}')\n",
    "        if np.mean(scores_window) >= 100.0:\n",
    "            print(f'\\nEnvironment solved in {i_episode-100:d} episodes! Average Score: {np.mean(scores_window):.2f}')\n",
    "            if not os.path.exists('./agents/'): os.makedirs('./agents/')\n",
    "            torch.save(agent.dqn_net.state_dict(), f'./agents/DQN_{ENV_NAME}.pth')\n",
    "            \n",
    "    print('Training completed.')\n",
    "    return scores"
   ]
  },
  {
   "cell_type": "code",
   "execution_count": 15,
   "metadata": {
    "scrolled": true
   },
   "outputs": [
    {
     "name": "stdout",
     "output_type": "stream",
     "text": [
      "Episode: 100, Average Score: 16.84\n",
      "Episode: 200, Average Score: 12.55\n",
      "Episode: 300, Average Score: 11.17\n",
      "Episode: 400, Average Score: 10.19\n",
      "Episode: 500, Average Score: 9.910\n",
      "Episode: 600, Average Score: 10.77\n",
      "Episode: 700, Average Score: 10.17\n",
      "Episode: 800, Average Score: 16.20\n",
      "Episode: 900, Average Score: 91.13\n",
      "Episode: 905, Average Score: 101.41\n",
      "Environment solved in 805 episodes! Average Score: 101.41\n",
      "Episode: 906, Average Score: 103.21\n",
      "Environment solved in 806 episodes! Average Score: 103.21\n",
      "Episode: 907, Average Score: 104.85\n",
      "Environment solved in 807 episodes! Average Score: 104.85\n",
      "Episode: 908, Average Score: 106.69\n",
      "Environment solved in 808 episodes! Average Score: 106.69\n",
      "Episode: 909, Average Score: 109.41\n",
      "Environment solved in 809 episodes! Average Score: 109.41\n",
      "Episode: 910, Average Score: 111.29\n",
      "Environment solved in 810 episodes! Average Score: 111.29\n",
      "Episode: 911, Average Score: 113.15\n",
      "Environment solved in 811 episodes! Average Score: 113.15\n",
      "Episode: 912, Average Score: 114.82\n",
      "Environment solved in 812 episodes! Average Score: 114.82\n",
      "Episode: 913, Average Score: 116.54\n",
      "Environment solved in 813 episodes! Average Score: 116.54\n",
      "Episode: 914, Average Score: 118.08\n",
      "Environment solved in 814 episodes! Average Score: 118.08\n",
      "Episode: 915, Average Score: 120.47\n",
      "Environment solved in 815 episodes! Average Score: 120.47\n",
      "Episode: 916, Average Score: 122.57\n",
      "Environment solved in 816 episodes! Average Score: 122.57\n",
      "Episode: 917, Average Score: 127.29\n",
      "Environment solved in 817 episodes! Average Score: 127.29\n",
      "Episode: 918, Average Score: 129.21\n",
      "Environment solved in 818 episodes! Average Score: 129.21\n",
      "Episode: 919, Average Score: 131.06\n",
      "Environment solved in 819 episodes! Average Score: 131.06\n",
      "Episode: 920, Average Score: 132.88\n",
      "Environment solved in 820 episodes! Average Score: 132.88\n",
      "Episode: 921, Average Score: 135.18\n",
      "Environment solved in 821 episodes! Average Score: 135.18\n",
      "Episode: 922, Average Score: 137.33\n",
      "Environment solved in 822 episodes! Average Score: 137.33\n",
      "Episode: 923, Average Score: 140.26\n",
      "Environment solved in 823 episodes! Average Score: 140.26\n",
      "Episode: 924, Average Score: 142.05\n",
      "Environment solved in 824 episodes! Average Score: 142.05\n",
      "Episode: 925, Average Score: 144.15\n",
      "Environment solved in 825 episodes! Average Score: 144.15\n",
      "Episode: 926, Average Score: 146.20\n",
      "Environment solved in 826 episodes! Average Score: 146.20\n",
      "Episode: 927, Average Score: 149.26\n",
      "Environment solved in 827 episodes! Average Score: 149.26\n",
      "Episode: 928, Average Score: 151.30\n",
      "Environment solved in 828 episodes! Average Score: 151.30\n",
      "Episode: 929, Average Score: 152.88\n",
      "Environment solved in 829 episodes! Average Score: 152.88\n",
      "Episode: 930, Average Score: 155.18\n",
      "Environment solved in 830 episodes! Average Score: 155.18\n",
      "Episode: 931, Average Score: 157.05\n",
      "Environment solved in 831 episodes! Average Score: 157.05\n",
      "Episode: 932, Average Score: 159.25\n",
      "Environment solved in 832 episodes! Average Score: 159.25\n",
      "Episode: 933, Average Score: 161.06\n",
      "Environment solved in 833 episodes! Average Score: 161.06\n",
      "Episode: 934, Average Score: 163.98\n",
      "Environment solved in 834 episodes! Average Score: 163.98\n",
      "Episode: 935, Average Score: 165.89\n",
      "Environment solved in 835 episodes! Average Score: 165.89\n",
      "Episode: 936, Average Score: 168.85\n",
      "Environment solved in 836 episodes! Average Score: 168.85\n",
      "Episode: 937, Average Score: 170.62\n",
      "Environment solved in 837 episodes! Average Score: 170.62\n",
      "Episode: 938, Average Score: 172.94\n",
      "Environment solved in 838 episodes! Average Score: 172.94\n",
      "Episode: 939, Average Score: 176.07\n",
      "Environment solved in 839 episodes! Average Score: 176.07\n",
      "Episode: 940, Average Score: 176.88\n",
      "Environment solved in 840 episodes! Average Score: 176.88\n",
      "Episode: 941, Average Score: 177.82\n",
      "Environment solved in 841 episodes! Average Score: 177.82\n",
      "Episode: 942, Average Score: 178.43\n",
      "Environment solved in 842 episodes! Average Score: 178.43\n",
      "Episode: 943, Average Score: 179.41\n",
      "Environment solved in 843 episodes! Average Score: 179.41\n",
      "Episode: 944, Average Score: 180.22\n",
      "Environment solved in 844 episodes! Average Score: 180.22\n",
      "Episode: 945, Average Score: 182.12\n",
      "Environment solved in 845 episodes! Average Score: 182.12\n",
      "Episode: 946, Average Score: 184.57\n",
      "Environment solved in 846 episodes! Average Score: 184.57\n",
      "Episode: 947, Average Score: 186.58\n",
      "Environment solved in 847 episodes! Average Score: 186.58\n",
      "Episode: 948, Average Score: 185.85\n",
      "Environment solved in 848 episodes! Average Score: 185.85\n",
      "Episode: 949, Average Score: 186.98\n",
      "Environment solved in 849 episodes! Average Score: 186.98\n",
      "Episode: 950, Average Score: 188.23\n",
      "Environment solved in 850 episodes! Average Score: 188.23\n",
      "Episode: 951, Average Score: 189.67\n",
      "Environment solved in 851 episodes! Average Score: 189.67\n",
      "Episode: 952, Average Score: 191.06\n",
      "Environment solved in 852 episodes! Average Score: 191.06\n",
      "Episode: 953, Average Score: 190.09\n",
      "Environment solved in 853 episodes! Average Score: 190.09\n",
      "Episode: 954, Average Score: 190.79\n",
      "Environment solved in 854 episodes! Average Score: 190.79\n",
      "Episode: 955, Average Score: 190.88\n",
      "Environment solved in 855 episodes! Average Score: 190.88\n",
      "Episode: 956, Average Score: 192.74\n",
      "Environment solved in 856 episodes! Average Score: 192.74\n",
      "Episode: 957, Average Score: 194.76\n",
      "Environment solved in 857 episodes! Average Score: 194.76\n",
      "Episode: 958, Average Score: 196.90\n",
      "Environment solved in 858 episodes! Average Score: 196.90\n",
      "Episode: 959, Average Score: 198.73\n",
      "Environment solved in 859 episodes! Average Score: 198.73\n",
      "Episode: 960, Average Score: 200.40\n",
      "Environment solved in 860 episodes! Average Score: 200.40\n",
      "Episode: 961, Average Score: 200.73\n",
      "Environment solved in 861 episodes! Average Score: 200.73\n",
      "Episode: 962, Average Score: 201.57\n",
      "Environment solved in 862 episodes! Average Score: 201.57\n",
      "Episode: 963, Average Score: 203.41\n",
      "Environment solved in 863 episodes! Average Score: 203.41\n",
      "Episode: 964, Average Score: 205.52\n",
      "Environment solved in 864 episodes! Average Score: 205.52\n",
      "Episode: 965, Average Score: 207.48\n",
      "Environment solved in 865 episodes! Average Score: 207.48\n",
      "Episode: 966, Average Score: 208.31\n",
      "Environment solved in 866 episodes! Average Score: 208.31\n",
      "Episode: 967, Average Score: 208.76\n",
      "Environment solved in 867 episodes! Average Score: 208.76\n",
      "Episode: 968, Average Score: 209.43\n",
      "Environment solved in 868 episodes! Average Score: 209.43\n",
      "Episode: 969, Average Score: 210.67\n",
      "Environment solved in 869 episodes! Average Score: 210.67\n",
      "Episode: 970, Average Score: 212.43\n",
      "Environment solved in 870 episodes! Average Score: 212.43\n",
      "Episode: 971, Average Score: 214.38\n",
      "Environment solved in 871 episodes! Average Score: 214.38\n",
      "Episode: 972, Average Score: 216.46\n",
      "Environment solved in 872 episodes! Average Score: 216.46\n",
      "Episode: 973, Average Score: 218.31\n",
      "Environment solved in 873 episodes! Average Score: 218.31\n",
      "Episode: 974, Average Score: 218.52\n",
      "Environment solved in 874 episodes! Average Score: 218.52\n",
      "Episode: 975, Average Score: 219.04\n",
      "Environment solved in 875 episodes! Average Score: 219.04\n",
      "Episode: 976, Average Score: 219.83\n",
      "Environment solved in 876 episodes! Average Score: 219.83\n",
      "Episode: 977, Average Score: 220.26\n",
      "Environment solved in 877 episodes! Average Score: 220.26\n",
      "Episode: 978, Average Score: 221.17\n",
      "Environment solved in 878 episodes! Average Score: 221.17\n",
      "Episode: 979, Average Score: 221.28\n",
      "Environment solved in 879 episodes! Average Score: 221.28\n",
      "Episode: 980, Average Score: 221.56\n",
      "Environment solved in 880 episodes! Average Score: 221.56\n",
      "Episode: 981, Average Score: 221.96\n",
      "Environment solved in 881 episodes! Average Score: 221.96\n",
      "Episode: 982, Average Score: 222.24\n",
      "Environment solved in 882 episodes! Average Score: 222.24\n",
      "Episode: 983, Average Score: 222.35\n",
      "Environment solved in 883 episodes! Average Score: 222.35\n",
      "Episode: 984, Average Score: 223.18\n",
      "Environment solved in 884 episodes! Average Score: 223.18\n",
      "Episode: 985, Average Score: 223.82\n",
      "Environment solved in 885 episodes! Average Score: 223.82\n",
      "Episode: 986, Average Score: 224.05\n",
      "Environment solved in 886 episodes! Average Score: 224.05\n",
      "Episode: 987, Average Score: 225.11\n",
      "Environment solved in 887 episodes! Average Score: 225.11\n",
      "Episode: 988, Average Score: 224.93\n",
      "Environment solved in 888 episodes! Average Score: 224.93\n",
      "Episode: 989, Average Score: 225.41\n",
      "Environment solved in 889 episodes! Average Score: 225.41\n"
     ]
    },
    {
     "name": "stdout",
     "output_type": "stream",
     "text": [
      "Episode: 990, Average Score: 224.84\n",
      "Environment solved in 890 episodes! Average Score: 224.84\n",
      "Episode: 991, Average Score: 225.14\n",
      "Environment solved in 891 episodes! Average Score: 225.14\n",
      "Episode: 992, Average Score: 225.83\n",
      "Environment solved in 892 episodes! Average Score: 225.83\n",
      "Episode: 993, Average Score: 226.21\n",
      "Environment solved in 893 episodes! Average Score: 226.21\n",
      "Episode: 994, Average Score: 226.54\n",
      "Environment solved in 894 episodes! Average Score: 226.54\n",
      "Episode: 995, Average Score: 226.61\n",
      "Environment solved in 895 episodes! Average Score: 226.61\n",
      "Episode: 996, Average Score: 226.76\n",
      "Environment solved in 896 episodes! Average Score: 226.76\n",
      "Episode: 997, Average Score: 227.55\n",
      "Environment solved in 897 episodes! Average Score: 227.55\n",
      "Episode: 998, Average Score: 227.77\n",
      "Environment solved in 898 episodes! Average Score: 227.77\n",
      "Episode: 999, Average Score: 228.25\n",
      "Environment solved in 899 episodes! Average Score: 228.25\n",
      "Episode: 1000, Average Score: 228.63\n",
      "\n",
      "Environment solved in 900 episodes! Average Score: 228.63\n",
      "Training completed.\n"
     ]
    }
   ],
   "source": [
    "scores = train_agent(num_episodes=1000, max_time=1000)"
   ]
  },
  {
   "cell_type": "markdown",
   "metadata": {},
   "source": [
    "## Evaluate The Agent"
   ]
  },
  {
   "cell_type": "code",
   "execution_count": 16,
   "metadata": {},
   "outputs": [
    {
     "data": {
      "image/png": "[encoded data removed]",
      "text/plain": [
       "<Figure size 720x360 with 1 Axes>"
      ]
     },
     "metadata": {},
     "output_type": "display_data"
    }
   ],
   "source": [
    "plt.figure(figsize=(10,5))\n",
    "plt.plot(np.arange(len(scores)), scores, color='green')\n",
    "plt.xlabel('Num of episodes')\n",
    "plt.ylabel('Score')\n",
    "if not os.path.exists('./images/'): os.makedirs('./images/')\n",
    "plt.savefig('./images/plot_of_agent_evaluation.png')\n",
    "plt.show()"
   ]
  },
  {
   "cell_type": "markdown",
   "metadata": {},
   "source": [
    "## 🎬 Watch The Smart Agent"
   ]
  },
  {
   "cell_type": "code",
   "execution_count": 17,
   "metadata": {
    "collapsed": true
   },
   "outputs": [],
   "source": [
    "# load the weights of smart agent\n",
    "agent.dqn_net.load_state_dict(torch.load(f'./agents/DQN_{ENV_NAME}.pth'));"
   ]
  },
  {
   "cell_type": "code",
   "execution_count": 18,
   "metadata": {
    "collapsed": true
   },
   "outputs": [],
   "source": [
    "num_episodes = 5\n",
    "\n",
    "for i_episode in range(1, num_episodes+1):\n",
    "    \n",
    "    state = env.reset()\n",
    "    rewards = []\n",
    "    for time_step in range(200):\n",
    "        \n",
    "        env.render() # render the screen\n",
    "        \n",
    "        action = policy.act(state) # select an action\n",
    "        next_state, reward, done, _ = env.step(action)\n",
    "        \n",
    "        state = next_state\n",
    "        rewards.append(reward)\n",
    "        if done:\n",
    "            break\n",
    "            \n",
    "    print(f'\\rEpisode: {i_episode}, Average Score: {sum(rewards):.2f}')\n",
    "\n",
    "env.close()"
   ]
  },
  {
   "cell_type": "markdown",
   "metadata": {},
   "source": [
    "---"
   ]
  }
 ],
 "metadata": {
  "kernelspec": {
   "display_name": "Python 3",
   "language": "python",
   "name": "python3"
  },
  "language_info": {
   "codemirror_mode": {
    "name": "ipython",
    "version": 3
   },
   "file_extension": ".py",
   "mimetype": "text/x-python",
   "name": "python",
   "nbconvert_exporter": "python",
   "pygments_lexer": "ipython3",
   "version": "3.7.3"
  }
 },
 "nbformat": 4,
 "nbformat_minor": 2
}
