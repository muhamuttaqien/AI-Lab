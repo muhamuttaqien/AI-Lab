{
 "cells": [
  {
   "cell_type": "code",
   "execution_count": 1,
   "metadata": {
    "collapsed": true
   },
   "outputs": [],
   "source": [
    "import numpy as np\n",
    "import matplotlib.pyplot as plt\n",
    "\n",
    "import gym\n",
    "import warnings\n",
    "warnings.filterwarnings('ignore')"
   ]
  },
  {
   "cell_type": "code",
   "execution_count": 2,
   "metadata": {},
   "outputs": [
    {
     "name": "stderr",
     "output_type": "stream",
     "text": [
      "Using TensorFlow backend.\n"
     ]
    }
   ],
   "source": [
    "from keras.models import Sequential\n",
    "from keras.layers import Dense, Activation, Flatten\n",
    "from keras.optimizers import Adam\n",
    "\n",
    "from rl.agents.dqn import DQNAgent\n",
    "from rl.policy import EpsGreedyQPolicy\n",
    "from rl.memory import SequentialMemory"
   ]
  },
  {
   "cell_type": "markdown",
   "metadata": {},
   "source": [
    "## Set Environment"
   ]
  },
  {
   "cell_type": "code",
   "execution_count": 3,
   "metadata": {},
   "outputs": [
    {
     "name": "stdout",
     "output_type": "stream",
     "text": [
      "\u001b[33mWARN: gym.spaces.Box autodetected dtype as <class 'numpy.float32'>. Please provide explicit dtype.\u001b[0m\n"
     ]
    }
   ],
   "source": [
    "ENV_NAME = 'CartPole-v0'\n",
    "env = gym.make(ENV_NAME).unwrapped; env.seed(90);\n",
    "\n",
    "nb_actions = env.action_space.n"
   ]
  },
  {
   "cell_type": "code",
   "execution_count": 4,
   "metadata": {},
   "outputs": [
    {
     "name": "stdout",
     "output_type": "stream",
     "text": [
      "Environment Display:\n",
      "State space Box(4,)\n",
      "Action space Discrete(2)\n"
     ]
    }
   ],
   "source": [
    "print('Environment Display:')\n",
    "env.reset() # reset environment to a new, random state\n",
    "env.render()\n",
    "\n",
    "print('State space {}'.format(env.observation_space))\n",
    "print('Action space {}'.format(env.action_space))"
   ]
  },
  {
   "cell_type": "markdown",
   "metadata": {},
   "source": [
    "## Build DQN Architecture"
   ]
  },
  {
   "cell_type": "code",
   "execution_count": 5,
   "metadata": {
    "collapsed": true
   },
   "outputs": [],
   "source": [
    "model = Sequential()"
   ]
  },
  {
   "cell_type": "code",
   "execution_count": 6,
   "metadata": {},
   "outputs": [
    {
     "name": "stdout",
     "output_type": "stream",
     "text": [
      "_________________________________________________________________\n",
      "Layer (type)                 Output Shape              Param #   \n",
      "=================================================================\n",
      "flatten_1 (Flatten)          (None, 4)                 0         \n",
      "_________________________________________________________________\n",
      "dense_1 (Dense)              (None, 16)                80        \n",
      "_________________________________________________________________\n",
      "activation_1 (Activation)    (None, 16)                0         \n",
      "_________________________________________________________________\n",
      "dense_2 (Dense)              (None, 2)                 34        \n",
      "_________________________________________________________________\n",
      "activation_2 (Activation)    (None, 2)                 0         \n",
      "=================================================================\n",
      "Total params: 114\n",
      "Trainable params: 114\n",
      "Non-trainable params: 0\n",
      "_________________________________________________________________\n",
      "None\n"
     ]
    }
   ],
   "source": [
    "model.add(Flatten(input_shape=(1,) + env.observation_space.shape))\n",
    "model.add(Dense(16))\n",
    "model.add(Activation('relu'))\n",
    "model.add(Dense(nb_actions))\n",
    "model.add(Activation('linear'))\n",
    "print(model.summary())"
   ]
  },
  {
   "cell_type": "markdown",
   "metadata": {},
   "source": [
    "## Set Configs"
   ]
  },
  {
   "cell_type": "code",
   "execution_count": 7,
   "metadata": {
    "collapsed": true
   },
   "outputs": [],
   "source": [
    "MEMORY_LIMIT = 50000\n",
    "WINDOW_LENGTH = 1\n",
    "MODEL_UPDATE = 1e-2\n",
    "NB_WARMUP = 10\n",
    "NB_STEPS = 5000\n",
    "LR = 1e-3\n",
    "LOSS = 'mae'"
   ]
  },
  {
   "cell_type": "markdown",
   "metadata": {},
   "source": [
    "## Set Memory, Policy & Init DQN"
   ]
  },
  {
   "cell_type": "code",
   "execution_count": 8,
   "metadata": {
    "collapsed": true
   },
   "outputs": [],
   "source": [
    "memory = SequentialMemory(limit=MEMORY_LIMIT, window_length=WINDOW_LENGTH)"
   ]
  },
  {
   "cell_type": "code",
   "execution_count": 9,
   "metadata": {
    "collapsed": true
   },
   "outputs": [],
   "source": [
    "policy = EpsGreedyQPolicy()"
   ]
  },
  {
   "cell_type": "code",
   "execution_count": 10,
   "metadata": {
    "collapsed": true
   },
   "outputs": [],
   "source": [
    "dqn = DQNAgent(model=model, nb_actions=nb_actions, memory=memory, policy=policy, \n",
    "               nb_steps_warmup=NB_WARMUP, target_model_update=MODEL_UPDATE)"
   ]
  },
  {
   "cell_type": "markdown",
   "metadata": {},
   "source": [
    "## Set Optimizer"
   ]
  },
  {
   "cell_type": "code",
   "execution_count": 11,
   "metadata": {
    "collapsed": true
   },
   "outputs": [],
   "source": [
    "dqn.compile(Adam(lr=LR), metrics=[LOSS])"
   ]
  },
  {
   "cell_type": "markdown",
   "metadata": {},
   "source": [
    "## Train DQN"
   ]
  },
  {
   "cell_type": "code",
   "execution_count": 12,
   "metadata": {},
   "outputs": [
    {
     "name": "stdout",
     "output_type": "stream",
     "text": [
      "Training for 5000 steps ...\n",
      "    9/5000: episode: 1, duration: 0.214s, episode steps: 9, steps per second: 42, episode reward: 9.000, mean reward: 1.000 [1.000, 1.000], mean action: 0.000 [0.000, 0.000], mean observation: 0.142 [-1.802, 2.874], loss: --, mean_absolute_error: --, mean_q: --\n",
      "   18/5000: episode: 2, duration: 0.599s, episode steps: 9, steps per second: 15, episode reward: 9.000, mean reward: 1.000 [1.000, 1.000], mean action: 0.000 [0.000, 0.000], mean observation: 0.119 [-1.755, 2.741], loss: 0.543079, mean_absolute_error: 0.839125, mean_q: 0.464855\n",
      "   30/5000: episode: 3, duration: 0.066s, episode steps: 12, steps per second: 181, episode reward: 12.000, mean reward: 1.000 [1.000, 1.000], mean action: 0.083 [0.000, 1.000], mean observation: 0.103 [-1.975, 3.030], loss: 0.495114, mean_absolute_error: 0.831914, mean_q: 0.538446\n",
      "   39/5000: episode: 4, duration: 0.050s, episode steps: 9, steps per second: 179, episode reward: 9.000, mean reward: 1.000 [1.000, 1.000], mean action: 0.000 [0.000, 0.000], mean observation: 0.138 [-1.726, 2.755], loss: 0.430001, mean_absolute_error: 0.828605, mean_q: 0.657879\n",
      "   48/5000: episode: 5, duration: 0.047s, episode steps: 9, steps per second: 192, episode reward: 9.000, mean reward: 1.000 [1.000, 1.000], mean action: 0.000 [0.000, 0.000], mean observation: 0.119 [-1.779, 2.753], loss: 0.393591, mean_absolute_error: 0.810299, mean_q: 0.727109\n",
      "   58/5000: episode: 6, duration: 0.053s, episode steps: 10, steps per second: 188, episode reward: 10.000, mean reward: 1.000 [1.000, 1.000], mean action: 0.000 [0.000, 0.000], mean observation: 0.125 [-1.936, 2.989], loss: 0.356613, mean_absolute_error: 0.805010, mean_q: 0.837429\n",
      "   67/5000: episode: 7, duration: 0.053s, episode steps: 9, steps per second: 170, episode reward: 9.000, mean reward: 1.000 [1.000, 1.000], mean action: 0.000 [0.000, 0.000], mean observation: 0.122 [-1.808, 2.745], loss: 0.322552, mean_absolute_error: 0.798948, mean_q: 0.964296\n",
      "   76/5000: episode: 8, duration: 0.061s, episode steps: 9, steps per second: 149, episode reward: 9.000, mean reward: 1.000 [1.000, 1.000], mean action: 0.000 [0.000, 0.000], mean observation: 0.160 [-1.773, 2.872], loss: 0.296834, mean_absolute_error: 0.772707, mean_q: 1.046453\n",
      "   85/5000: episode: 9, duration: 0.070s, episode steps: 9, steps per second: 129, episode reward: 9.000, mean reward: 1.000 [1.000, 1.000], mean action: 0.000 [0.000, 0.000], mean observation: 0.152 [-1.800, 2.843], loss: 0.297943, mean_absolute_error: 0.730016, mean_q: 1.075840\n",
      "   98/5000: episode: 10, duration: 0.103s, episode steps: 13, steps per second: 126, episode reward: 13.000, mean reward: 1.000 [1.000, 1.000], mean action: 0.154 [0.000, 1.000], mean observation: 0.111 [-1.735, 2.768], loss: 0.289162, mean_absolute_error: 0.716529, mean_q: 1.239444\n",
      "  107/5000: episode: 11, duration: 0.068s, episode steps: 9, steps per second: 132, episode reward: 9.000, mean reward: 1.000 [1.000, 1.000], mean action: 0.000 [0.000, 0.000], mean observation: 0.149 [-1.785, 2.852], loss: 0.283884, mean_absolute_error: 0.687162, mean_q: 1.405209\n",
      "  115/5000: episode: 12, duration: 0.059s, episode steps: 8, steps per second: 136, episode reward: 8.000, mean reward: 1.000 [1.000, 1.000], mean action: 0.000 [0.000, 0.000], mean observation: 0.129 [-1.591, 2.543], loss: 0.267248, mean_absolute_error: 0.626072, mean_q: 1.492219\n",
      "  125/5000: episode: 13, duration: 0.075s, episode steps: 10, steps per second: 134, episode reward: 10.000, mean reward: 1.000 [1.000, 1.000], mean action: 0.000 [0.000, 0.000], mean observation: 0.120 [-1.986, 3.049], loss: 0.295063, mean_absolute_error: 0.595356, mean_q: 1.572688\n",
      "  135/5000: episode: 14, duration: 0.084s, episode steps: 10, steps per second: 119, episode reward: 10.000, mean reward: 1.000 [1.000, 1.000], mean action: 0.200 [0.000, 1.000], mean observation: 0.145 [-1.164, 2.002], loss: 0.245631, mean_absolute_error: 0.515386, mean_q: 1.595219\n",
      "  143/5000: episode: 15, duration: 0.061s, episode steps: 8, steps per second: 132, episode reward: 8.000, mean reward: 1.000 [1.000, 1.000], mean action: 0.125 [0.000, 1.000], mean observation: 0.175 [-1.324, 2.242], loss: 0.251184, mean_absolute_error: 0.476387, mean_q: 1.660919\n",
      "  153/5000: episode: 16, duration: 0.076s, episode steps: 10, steps per second: 132, episode reward: 10.000, mean reward: 1.000 [1.000, 1.000], mean action: 0.100 [0.000, 1.000], mean observation: 0.118 [-1.563, 2.468], loss: 0.307953, mean_absolute_error: 0.482313, mean_q: 1.718277\n",
      "  162/5000: episode: 17, duration: 0.068s, episode steps: 9, steps per second: 132, episode reward: 9.000, mean reward: 1.000 [1.000, 1.000], mean action: 0.000 [0.000, 0.000], mean observation: 0.130 [-1.803, 2.816], loss: 0.250152, mean_absolute_error: 0.402972, mean_q: 1.794431\n",
      "  172/5000: episode: 18, duration: 0.067s, episode steps: 10, steps per second: 149, episode reward: 10.000, mean reward: 1.000 [1.000, 1.000], mean action: 0.100 [0.000, 1.000], mean observation: 0.140 [-1.588, 2.631], loss: 0.278614, mean_absolute_error: 0.410806, mean_q: 1.865045\n",
      "  184/5000: episode: 19, duration: 0.074s, episode steps: 12, steps per second: 162, episode reward: 12.000, mean reward: 1.000 [1.000, 1.000], mean action: 0.083 [0.000, 1.000], mean observation: 0.097 [-1.952, 3.001], loss: 0.295104, mean_absolute_error: 0.474903, mean_q: 1.910461\n",
      "  193/5000: episode: 20, duration: 0.072s, episode steps: 9, steps per second: 125, episode reward: 9.000, mean reward: 1.000 [1.000, 1.000], mean action: 0.000 [0.000, 0.000], mean observation: 0.148 [-1.742, 2.839], loss: 0.278356, mean_absolute_error: 0.533779, mean_q: 1.942964\n",
      "  203/5000: episode: 21, duration: 0.081s, episode steps: 10, steps per second: 124, episode reward: 10.000, mean reward: 1.000 [1.000, 1.000], mean action: 0.000 [0.000, 0.000], mean observation: 0.142 [-1.971, 3.033], loss: 0.221379, mean_absolute_error: 0.553020, mean_q: 1.983054\n",
      "  212/5000: episode: 22, duration: 0.066s, episode steps: 9, steps per second: 136, episode reward: 9.000, mean reward: 1.000 [1.000, 1.000], mean action: 0.000 [0.000, 0.000], mean observation: 0.175 [-1.729, 2.891], loss: 0.226363, mean_absolute_error: 0.608096, mean_q: 2.092158\n",
      "  223/5000: episode: 23, duration: 0.060s, episode steps: 11, steps per second: 182, episode reward: 11.000, mean reward: 1.000 [1.000, 1.000], mean action: 0.000 [0.000, 0.000], mean observation: 0.141 [-2.144, 3.282], loss: 0.292999, mean_absolute_error: 0.687116, mean_q: 2.136094\n",
      "  235/5000: episode: 24, duration: 0.075s, episode steps: 12, steps per second: 161, episode reward: 12.000, mean reward: 1.000 [1.000, 1.000], mean action: 0.083 [0.000, 1.000], mean observation: 0.093 [-1.997, 3.004], loss: 0.221579, mean_absolute_error: 0.731590, mean_q: 2.145602\n",
      "  245/5000: episode: 25, duration: 0.072s, episode steps: 10, steps per second: 138, episode reward: 10.000, mean reward: 1.000 [1.000, 1.000], mean action: 0.000 [0.000, 0.000], mean observation: 0.148 [-1.938, 3.041], loss: 0.272429, mean_absolute_error: 0.810158, mean_q: 2.233374\n",
      "  255/5000: episode: 26, duration: 0.068s, episode steps: 10, steps per second: 146, episode reward: 10.000, mean reward: 1.000 [1.000, 1.000], mean action: 0.000 [0.000, 0.000], mean observation: 0.151 [-1.982, 3.135], loss: 0.181050, mean_absolute_error: 0.812409, mean_q: 2.266511\n",
      "  264/5000: episode: 27, duration: 0.064s, episode steps: 9, steps per second: 141, episode reward: 9.000, mean reward: 1.000 [1.000, 1.000], mean action: 0.000 [0.000, 0.000], mean observation: 0.141 [-1.760, 2.744], loss: 0.204744, mean_absolute_error: 0.856211, mean_q: 2.385258\n",
      "  274/5000: episode: 28, duration: 0.070s, episode steps: 10, steps per second: 143, episode reward: 10.000, mean reward: 1.000 [1.000, 1.000], mean action: 0.000 [0.000, 0.000], mean observation: 0.160 [-1.916, 3.066], loss: 0.251707, mean_absolute_error: 0.916839, mean_q: 2.451312\n",
      "  284/5000: episode: 29, duration: 0.093s, episode steps: 10, steps per second: 107, episode reward: 10.000, mean reward: 1.000 [1.000, 1.000], mean action: 0.000 [0.000, 0.000], mean observation: 0.169 [-1.905, 3.071], loss: 0.212355, mean_absolute_error: 0.936477, mean_q: 2.461589\n",
      "  293/5000: episode: 30, duration: 0.084s, episode steps: 9, steps per second: 108, episode reward: 9.000, mean reward: 1.000 [1.000, 1.000], mean action: 0.000 [0.000, 0.000], mean observation: 0.162 [-1.741, 2.806], loss: 0.182698, mean_absolute_error: 0.956160, mean_q: 2.534238\n"
     ]
    },
    {
     "name": "stdout",
     "output_type": "stream",
     "text": [
      "  303/5000: episode: 31, duration: 0.056s, episode steps: 10, steps per second: 180, episode reward: 10.000, mean reward: 1.000 [1.000, 1.000], mean action: 0.000 [0.000, 0.000], mean observation: 0.147 [-1.935, 3.077], loss: 0.223558, mean_absolute_error: 1.007768, mean_q: 2.633713\n",
      "  314/5000: episode: 32, duration: 0.068s, episode steps: 11, steps per second: 161, episode reward: 11.000, mean reward: 1.000 [1.000, 1.000], mean action: 0.091 [0.000, 1.000], mean observation: 0.122 [-1.736, 2.736], loss: 0.208995, mean_absolute_error: 1.026046, mean_q: 2.659080\n",
      "  326/5000: episode: 33, duration: 0.093s, episode steps: 12, steps per second: 128, episode reward: 12.000, mean reward: 1.000 [1.000, 1.000], mean action: 0.083 [0.000, 1.000], mean observation: 0.084 [-2.004, 3.043], loss: 0.301327, mean_absolute_error: 1.114365, mean_q: 2.696966\n",
      "  336/5000: episode: 34, duration: 0.081s, episode steps: 10, steps per second: 124, episode reward: 10.000, mean reward: 1.000 [1.000, 1.000], mean action: 0.000 [0.000, 0.000], mean observation: 0.142 [-1.978, 3.062], loss: 0.272284, mean_absolute_error: 1.140407, mean_q: 2.691997\n",
      "  346/5000: episode: 35, duration: 0.074s, episode steps: 10, steps per second: 135, episode reward: 10.000, mean reward: 1.000 [1.000, 1.000], mean action: 0.100 [0.000, 1.000], mean observation: 0.137 [-1.518, 2.498], loss: 0.259148, mean_absolute_error: 1.155174, mean_q: 2.816250\n",
      "  360/5000: episode: 36, duration: 0.099s, episode steps: 14, steps per second: 141, episode reward: 14.000, mean reward: 1.000 [1.000, 1.000], mean action: 0.143 [0.000, 1.000], mean observation: 0.083 [-1.982, 2.973], loss: 0.246578, mean_absolute_error: 1.203881, mean_q: 2.916020\n",
      "  369/5000: episode: 37, duration: 0.049s, episode steps: 9, steps per second: 184, episode reward: 9.000, mean reward: 1.000 [1.000, 1.000], mean action: 0.000 [0.000, 0.000], mean observation: 0.136 [-1.768, 2.807], loss: 0.229168, mean_absolute_error: 1.235970, mean_q: 2.967946\n",
      "  379/5000: episode: 38, duration: 0.052s, episode steps: 10, steps per second: 193, episode reward: 10.000, mean reward: 1.000 [1.000, 1.000], mean action: 0.000 [0.000, 0.000], mean observation: 0.154 [-1.985, 3.116], loss: 0.213581, mean_absolute_error: 1.275877, mean_q: 3.057317\n",
      "  391/5000: episode: 39, duration: 0.062s, episode steps: 12, steps per second: 192, episode reward: 12.000, mean reward: 1.000 [1.000, 1.000], mean action: 0.083 [0.000, 1.000], mean observation: 0.126 [-1.991, 3.100], loss: 0.237496, mean_absolute_error: 1.336487, mean_q: 3.176914\n",
      "  403/5000: episode: 40, duration: 0.092s, episode steps: 12, steps per second: 130, episode reward: 12.000, mean reward: 1.000 [1.000, 1.000], mean action: 0.083 [0.000, 1.000], mean observation: 0.123 [-1.967, 3.110], loss: 0.195226, mean_absolute_error: 1.375872, mean_q: 3.212534\n",
      "  413/5000: episode: 41, duration: 0.059s, episode steps: 10, steps per second: 169, episode reward: 10.000, mean reward: 1.000 [1.000, 1.000], mean action: 0.000 [0.000, 0.000], mean observation: 0.147 [-1.990, 3.083], loss: 0.233376, mean_absolute_error: 1.441225, mean_q: 3.304279\n",
      "  423/5000: episode: 42, duration: 0.064s, episode steps: 10, steps per second: 157, episode reward: 10.000, mean reward: 1.000 [1.000, 1.000], mean action: 0.000 [0.000, 0.000], mean observation: 0.150 [-1.988, 3.085], loss: 0.214843, mean_absolute_error: 1.480099, mean_q: 3.283895\n",
      "  434/5000: episode: 43, duration: 0.064s, episode steps: 11, steps per second: 171, episode reward: 11.000, mean reward: 1.000 [1.000, 1.000], mean action: 0.000 [0.000, 0.000], mean observation: 0.141 [-2.103, 3.317], loss: 0.213754, mean_absolute_error: 1.520444, mean_q: 3.374433\n",
      "  445/5000: episode: 44, duration: 0.073s, episode steps: 11, steps per second: 150, episode reward: 11.000, mean reward: 1.000 [1.000, 1.000], mean action: 0.000 [0.000, 0.000], mean observation: 0.150 [-2.110, 3.301], loss: 0.227925, mean_absolute_error: 1.560179, mean_q: 3.412006\n",
      "  454/5000: episode: 45, duration: 0.065s, episode steps: 9, steps per second: 139, episode reward: 9.000, mean reward: 1.000 [1.000, 1.000], mean action: 0.000 [0.000, 0.000], mean observation: 0.132 [-1.798, 2.839], loss: 0.226891, mean_absolute_error: 1.592986, mean_q: 3.404905\n",
      "  463/5000: episode: 46, duration: 0.065s, episode steps: 9, steps per second: 139, episode reward: 9.000, mean reward: 1.000 [1.000, 1.000], mean action: 0.000 [0.000, 0.000], mean observation: 0.178 [-1.716, 2.854], loss: 0.197793, mean_absolute_error: 1.610613, mean_q: 3.493993\n",
      "  473/5000: episode: 47, duration: 0.072s, episode steps: 10, steps per second: 139, episode reward: 10.000, mean reward: 1.000 [1.000, 1.000], mean action: 0.000 [0.000, 0.000], mean observation: 0.139 [-1.985, 3.070], loss: 0.217850, mean_absolute_error: 1.671889, mean_q: 3.594573\n",
      "  482/5000: episode: 48, duration: 0.056s, episode steps: 9, steps per second: 161, episode reward: 9.000, mean reward: 1.000 [1.000, 1.000], mean action: 0.111 [0.000, 1.000], mean observation: 0.163 [-1.525, 2.513], loss: 0.212947, mean_absolute_error: 1.686368, mean_q: 3.550814\n",
      "  492/5000: episode: 49, duration: 0.056s, episode steps: 10, steps per second: 178, episode reward: 10.000, mean reward: 1.000 [1.000, 1.000], mean action: 0.100 [0.000, 1.000], mean observation: 0.145 [-1.769, 2.719], loss: 0.183495, mean_absolute_error: 1.690670, mean_q: 3.453197\n",
      "  503/5000: episode: 50, duration: 0.085s, episode steps: 11, steps per second: 129, episode reward: 11.000, mean reward: 1.000 [1.000, 1.000], mean action: 0.182 [0.000, 1.000], mean observation: 0.128 [-1.527, 2.484], loss: 0.162607, mean_absolute_error: 1.713659, mean_q: 3.562577\n",
      "  515/5000: episode: 51, duration: 0.083s, episode steps: 12, steps per second: 144, episode reward: 12.000, mean reward: 1.000 [1.000, 1.000], mean action: 0.167 [0.000, 1.000], mean observation: 0.128 [-1.520, 2.516], loss: 0.146279, mean_absolute_error: 1.735999, mean_q: 3.723681\n",
      "  525/5000: episode: 52, duration: 0.062s, episode steps: 10, steps per second: 161, episode reward: 10.000, mean reward: 1.000 [1.000, 1.000], mean action: 0.200 [0.000, 1.000], mean observation: 0.159 [-1.326, 2.209], loss: 0.160241, mean_absolute_error: 1.765075, mean_q: 3.723468\n",
      "  533/5000: episode: 53, duration: 0.050s, episode steps: 8, steps per second: 159, episode reward: 8.000, mean reward: 1.000 [1.000, 1.000], mean action: 0.000 [0.000, 0.000], mean observation: 0.149 [-1.613, 2.553], loss: 0.127964, mean_absolute_error: 1.775348, mean_q: 3.717625\n",
      "  542/5000: episode: 54, duration: 0.050s, episode steps: 9, steps per second: 179, episode reward: 9.000, mean reward: 1.000 [1.000, 1.000], mean action: 0.111 [0.000, 1.000], mean observation: 0.135 [-1.346, 2.222], loss: 0.156232, mean_absolute_error: 1.804528, mean_q: 3.821091\n",
      "  553/5000: episode: 55, duration: 0.067s, episode steps: 11, steps per second: 165, episode reward: 11.000, mean reward: 1.000 [1.000, 1.000], mean action: 0.273 [0.000, 1.000], mean observation: 0.131 [-1.321, 2.223], loss: 0.163758, mean_absolute_error: 1.831784, mean_q: 3.817397\n",
      "  561/5000: episode: 56, duration: 0.041s, episode steps: 8, steps per second: 195, episode reward: 8.000, mean reward: 1.000 [1.000, 1.000], mean action: 0.125 [0.000, 1.000], mean observation: 0.160 [-1.352, 2.229], loss: 0.172926, mean_absolute_error: 1.856509, mean_q: 3.849759\n",
      "  569/5000: episode: 57, duration: 0.041s, episode steps: 8, steps per second: 196, episode reward: 8.000, mean reward: 1.000 [1.000, 1.000], mean action: 0.125 [0.000, 1.000], mean observation: 0.164 [-1.366, 2.257], loss: 0.149579, mean_absolute_error: 1.851164, mean_q: 3.852418\n",
      "  579/5000: episode: 58, duration: 0.060s, episode steps: 10, steps per second: 167, episode reward: 10.000, mean reward: 1.000 [1.000, 1.000], mean action: 0.200 [0.000, 1.000], mean observation: 0.153 [-1.334, 2.202], loss: 0.195951, mean_absolute_error: 1.892166, mean_q: 3.874548\n",
      "  589/5000: episode: 59, duration: 0.061s, episode steps: 10, steps per second: 163, episode reward: 10.000, mean reward: 1.000 [1.000, 1.000], mean action: 0.200 [0.000, 1.000], mean observation: 0.106 [-1.390, 2.137], loss: 0.148452, mean_absolute_error: 1.911368, mean_q: 3.980752\n",
      "  600/5000: episode: 60, duration: 0.063s, episode steps: 11, steps per second: 175, episode reward: 11.000, mean reward: 1.000 [1.000, 1.000], mean action: 0.182 [0.000, 1.000], mean observation: 0.115 [-1.544, 2.362], loss: 0.128237, mean_absolute_error: 1.938686, mean_q: 4.147145\n",
      "  611/5000: episode: 61, duration: 0.057s, episode steps: 11, steps per second: 193, episode reward: 11.000, mean reward: 1.000 [1.000, 1.000], mean action: 0.182 [0.000, 1.000], mean observation: 0.130 [-1.571, 2.413], loss: 0.152092, mean_absolute_error: 1.971046, mean_q: 4.183059\n",
      "  620/5000: episode: 62, duration: 0.055s, episode steps: 9, steps per second: 164, episode reward: 9.000, mean reward: 1.000 [1.000, 1.000], mean action: 0.111 [0.000, 1.000], mean observation: 0.138 [-1.523, 2.443], loss: 0.132210, mean_absolute_error: 1.955086, mean_q: 4.193109\n"
     ]
    },
    {
     "name": "stdout",
     "output_type": "stream",
     "text": [
      "  629/5000: episode: 63, duration: 0.048s, episode steps: 9, steps per second: 187, episode reward: 9.000, mean reward: 1.000 [1.000, 1.000], mean action: 0.111 [0.000, 1.000], mean observation: 0.129 [-1.563, 2.450], loss: 0.176096, mean_absolute_error: 1.969663, mean_q: 4.181559\n",
      "  638/5000: episode: 64, duration: 0.051s, episode steps: 9, steps per second: 177, episode reward: 9.000, mean reward: 1.000 [1.000, 1.000], mean action: 0.111 [0.000, 1.000], mean observation: 0.147 [-1.565, 2.505], loss: 0.228695, mean_absolute_error: 1.999659, mean_q: 4.207668\n",
      "  649/5000: episode: 65, duration: 0.058s, episode steps: 11, steps per second: 189, episode reward: 11.000, mean reward: 1.000 [1.000, 1.000], mean action: 0.182 [0.000, 1.000], mean observation: 0.134 [-1.567, 2.481], loss: 0.160468, mean_absolute_error: 1.976828, mean_q: 4.212317\n",
      "  660/5000: episode: 66, duration: 0.058s, episode steps: 11, steps per second: 191, episode reward: 11.000, mean reward: 1.000 [1.000, 1.000], mean action: 0.091 [0.000, 1.000], mean observation: 0.138 [-1.759, 2.820], loss: 0.157127, mean_absolute_error: 1.996097, mean_q: 4.332809\n",
      "  669/5000: episode: 67, duration: 0.051s, episode steps: 9, steps per second: 177, episode reward: 9.000, mean reward: 1.000 [1.000, 1.000], mean action: 0.000 [0.000, 0.000], mean observation: 0.137 [-1.801, 2.840], loss: 0.121546, mean_absolute_error: 2.005657, mean_q: 4.535327\n",
      "  679/5000: episode: 68, duration: 0.052s, episode steps: 10, steps per second: 192, episode reward: 10.000, mean reward: 1.000 [1.000, 1.000], mean action: 0.000 [0.000, 0.000], mean observation: 0.136 [-1.964, 3.002], loss: 0.144811, mean_absolute_error: 2.017319, mean_q: 4.442657\n",
      "  688/5000: episode: 69, duration: 0.050s, episode steps: 9, steps per second: 180, episode reward: 9.000, mean reward: 1.000 [1.000, 1.000], mean action: 0.222 [0.000, 1.000], mean observation: 0.149 [-0.951, 1.751], loss: 0.141564, mean_absolute_error: 2.026456, mean_q: 4.429071\n",
      "  699/5000: episode: 70, duration: 0.058s, episode steps: 11, steps per second: 191, episode reward: 11.000, mean reward: 1.000 [1.000, 1.000], mean action: 0.091 [0.000, 1.000], mean observation: 0.119 [-1.753, 2.791], loss: 0.133923, mean_absolute_error: 2.057753, mean_q: 4.487689\n",
      "  708/5000: episode: 71, duration: 0.048s, episode steps: 9, steps per second: 188, episode reward: 9.000, mean reward: 1.000 [1.000, 1.000], mean action: 0.000 [0.000, 0.000], mean observation: 0.149 [-1.772, 2.836], loss: 0.196513, mean_absolute_error: 2.094047, mean_q: 4.402085\n",
      "  718/5000: episode: 72, duration: 0.051s, episode steps: 10, steps per second: 194, episode reward: 10.000, mean reward: 1.000 [1.000, 1.000], mean action: 0.000 [0.000, 0.000], mean observation: 0.127 [-1.982, 2.986], loss: 0.146895, mean_absolute_error: 2.078341, mean_q: 4.418487\n",
      "  728/5000: episode: 73, duration: 0.052s, episode steps: 10, steps per second: 193, episode reward: 10.000, mean reward: 1.000 [1.000, 1.000], mean action: 0.000 [0.000, 0.000], mean observation: 0.143 [-1.925, 3.001], loss: 0.134485, mean_absolute_error: 2.124521, mean_q: 4.602888\n",
      "  737/5000: episode: 74, duration: 0.047s, episode steps: 9, steps per second: 193, episode reward: 9.000, mean reward: 1.000 [1.000, 1.000], mean action: 0.000 [0.000, 0.000], mean observation: 0.146 [-1.740, 2.787], loss: 0.138506, mean_absolute_error: 2.109304, mean_q: 4.434554\n",
      "  748/5000: episode: 75, duration: 0.057s, episode steps: 11, steps per second: 193, episode reward: 11.000, mean reward: 1.000 [1.000, 1.000], mean action: 0.182 [0.000, 1.000], mean observation: 0.136 [-1.604, 2.524], loss: 0.096485, mean_absolute_error: 2.186697, mean_q: 4.693478\n",
      "  758/5000: episode: 76, duration: 0.052s, episode steps: 10, steps per second: 193, episode reward: 10.000, mean reward: 1.000 [1.000, 1.000], mean action: 0.100 [0.000, 1.000], mean observation: 0.137 [-1.727, 2.675], loss: 0.122312, mean_absolute_error: 2.244887, mean_q: 4.740092\n",
      "  767/5000: episode: 77, duration: 0.048s, episode steps: 9, steps per second: 188, episode reward: 9.000, mean reward: 1.000 [1.000, 1.000], mean action: 0.111 [0.000, 1.000], mean observation: 0.125 [-1.540, 2.414], loss: 0.163798, mean_absolute_error: 2.256312, mean_q: 4.703557\n",
      "  777/5000: episode: 78, duration: 0.058s, episode steps: 10, steps per second: 174, episode reward: 10.000, mean reward: 1.000 [1.000, 1.000], mean action: 0.100 [0.000, 1.000], mean observation: 0.148 [-1.741, 2.737], loss: 0.127373, mean_absolute_error: 2.235728, mean_q: 4.655514\n",
      "  785/5000: episode: 79, duration: 0.056s, episode steps: 8, steps per second: 142, episode reward: 8.000, mean reward: 1.000 [1.000, 1.000], mean action: 0.000 [0.000, 0.000], mean observation: 0.146 [-1.535, 2.499], loss: 0.172452, mean_absolute_error: 2.284137, mean_q: 4.736511\n",
      "  795/5000: episode: 80, duration: 0.055s, episode steps: 10, steps per second: 181, episode reward: 10.000, mean reward: 1.000 [1.000, 1.000], mean action: 0.100 [0.000, 1.000], mean observation: 0.157 [-1.725, 2.714], loss: 0.104310, mean_absolute_error: 2.271977, mean_q: 4.782615\n",
      "  805/5000: episode: 81, duration: 0.052s, episode steps: 10, steps per second: 194, episode reward: 10.000, mean reward: 1.000 [1.000, 1.000], mean action: 0.200 [0.000, 1.000], mean observation: 0.142 [-1.374, 2.271], loss: 0.145923, mean_absolute_error: 2.291434, mean_q: 4.739673\n",
      "  816/5000: episode: 82, duration: 0.064s, episode steps: 11, steps per second: 172, episode reward: 11.000, mean reward: 1.000 [1.000, 1.000], mean action: 0.182 [0.000, 1.000], mean observation: 0.132 [-1.327, 2.284], loss: 0.116957, mean_absolute_error: 2.319588, mean_q: 4.798467\n",
      "  828/5000: episode: 83, duration: 0.065s, episode steps: 12, steps per second: 184, episode reward: 12.000, mean reward: 1.000 [1.000, 1.000], mean action: 0.250 [0.000, 1.000], mean observation: 0.124 [-1.354, 2.177], loss: 0.119890, mean_absolute_error: 2.403431, mean_q: 4.998575\n",
      "  836/5000: episode: 84, duration: 0.045s, episode steps: 8, steps per second: 179, episode reward: 8.000, mean reward: 1.000 [1.000, 1.000], mean action: 0.125 [0.000, 1.000], mean observation: 0.120 [-1.388, 2.180], loss: 0.111995, mean_absolute_error: 2.467310, mean_q: 5.127705\n",
      "  846/5000: episode: 85, duration: 0.051s, episode steps: 10, steps per second: 196, episode reward: 10.000, mean reward: 1.000 [1.000, 1.000], mean action: 0.100 [0.000, 1.000], mean observation: 0.101 [-1.611, 2.425], loss: 0.090474, mean_absolute_error: 2.460855, mean_q: 5.096519\n",
      "  854/5000: episode: 86, duration: 0.046s, episode steps: 8, steps per second: 173, episode reward: 8.000, mean reward: 1.000 [1.000, 1.000], mean action: 0.125 [0.000, 1.000], mean observation: 0.137 [-1.345, 2.168], loss: 0.126333, mean_absolute_error: 2.457485, mean_q: 5.042516\n",
      "  862/5000: episode: 87, duration: 0.042s, episode steps: 8, steps per second: 192, episode reward: 8.000, mean reward: 1.000 [1.000, 1.000], mean action: 0.125 [0.000, 1.000], mean observation: 0.147 [-1.410, 2.219], loss: 0.102995, mean_absolute_error: 2.483489, mean_q: 5.079181\n",
      "  873/5000: episode: 88, duration: 0.062s, episode steps: 11, steps per second: 178, episode reward: 11.000, mean reward: 1.000 [1.000, 1.000], mean action: 0.273 [0.000, 1.000], mean observation: 0.112 [-1.402, 2.167], loss: 0.120588, mean_absolute_error: 2.464031, mean_q: 4.943607\n",
      "  885/5000: episode: 89, duration: 0.064s, episode steps: 12, steps per second: 187, episode reward: 12.000, mean reward: 1.000 [1.000, 1.000], mean action: 0.250 [0.000, 1.000], mean observation: 0.115 [-1.158, 1.963], loss: 0.085620, mean_absolute_error: 2.529306, mean_q: 5.161853\n",
      "  893/5000: episode: 90, duration: 0.042s, episode steps: 8, steps per second: 188, episode reward: 8.000, mean reward: 1.000 [1.000, 1.000], mean action: 0.125 [0.000, 1.000], mean observation: 0.154 [-1.365, 2.236], loss: 0.131218, mean_absolute_error: 2.487504, mean_q: 4.946424\n",
      "  902/5000: episode: 91, duration: 0.047s, episode steps: 9, steps per second: 192, episode reward: 9.000, mean reward: 1.000 [1.000, 1.000], mean action: 0.111 [0.000, 1.000], mean observation: 0.125 [-1.397, 2.260], loss: 0.104384, mean_absolute_error: 2.546344, mean_q: 5.164208\n"
     ]
    },
    {
     "name": "stdout",
     "output_type": "stream",
     "text": [
      "  910/5000: episode: 92, duration: 0.047s, episode steps: 8, steps per second: 170, episode reward: 8.000, mean reward: 1.000 [1.000, 1.000], mean action: 0.125 [0.000, 1.000], mean observation: 0.139 [-1.406, 2.258], loss: 0.108146, mean_absolute_error: 2.476599, mean_q: 4.998950\n",
      "  920/5000: episode: 93, duration: 0.051s, episode steps: 10, steps per second: 195, episode reward: 10.000, mean reward: 1.000 [1.000, 1.000], mean action: 0.100 [0.000, 1.000], mean observation: 0.094 [-1.801, 2.643], loss: 0.099124, mean_absolute_error: 2.521772, mean_q: 5.110631\n",
      "  930/5000: episode: 94, duration: 0.051s, episode steps: 10, steps per second: 195, episode reward: 10.000, mean reward: 1.000 [1.000, 1.000], mean action: 0.100 [0.000, 1.000], mean observation: 0.143 [-1.724, 2.717], loss: 0.126879, mean_absolute_error: 2.494609, mean_q: 5.034311\n",
      "  941/5000: episode: 95, duration: 0.056s, episode steps: 11, steps per second: 197, episode reward: 11.000, mean reward: 1.000 [1.000, 1.000], mean action: 0.091 [0.000, 1.000], mean observation: 0.098 [-1.776, 2.697], loss: 0.094848, mean_absolute_error: 2.512638, mean_q: 5.113647\n",
      "  951/5000: episode: 96, duration: 0.062s, episode steps: 10, steps per second: 162, episode reward: 10.000, mean reward: 1.000 [1.000, 1.000], mean action: 0.100 [0.000, 1.000], mean observation: 0.137 [-1.599, 2.653], loss: 0.083280, mean_absolute_error: 2.524383, mean_q: 5.163140\n",
      "  959/5000: episode: 97, duration: 0.049s, episode steps: 8, steps per second: 163, episode reward: 8.000, mean reward: 1.000 [1.000, 1.000], mean action: 0.000 [0.000, 0.000], mean observation: 0.150 [-1.594, 2.545], loss: 0.075481, mean_absolute_error: 2.509600, mean_q: 5.148583\n",
      "  969/5000: episode: 98, duration: 0.052s, episode steps: 10, steps per second: 191, episode reward: 10.000, mean reward: 1.000 [1.000, 1.000], mean action: 0.000 [0.000, 0.000], mean observation: 0.148 [-1.933, 3.109], loss: 0.093581, mean_absolute_error: 2.581784, mean_q: 5.269719\n",
      "  979/5000: episode: 99, duration: 0.056s, episode steps: 10, steps per second: 177, episode reward: 10.000, mean reward: 1.000 [1.000, 1.000], mean action: 0.000 [0.000, 0.000], mean observation: 0.119 [-1.909, 2.945], loss: 0.084831, mean_absolute_error: 2.546619, mean_q: 5.174434\n",
      "  992/5000: episode: 100, duration: 0.072s, episode steps: 13, steps per second: 181, episode reward: 13.000, mean reward: 1.000 [1.000, 1.000], mean action: 0.308 [0.000, 1.000], mean observation: 0.114 [-1.141, 2.000], loss: 0.083377, mean_absolute_error: 2.578160, mean_q: 5.272958\n",
      " 1001/5000: episode: 101, duration: 0.047s, episode steps: 9, steps per second: 190, episode reward: 9.000, mean reward: 1.000 [1.000, 1.000], mean action: 0.111 [0.000, 1.000], mean observation: 0.144 [-1.594, 2.489], loss: 0.098845, mean_absolute_error: 2.589178, mean_q: 5.168963\n",
      " 1010/5000: episode: 102, duration: 0.051s, episode steps: 9, steps per second: 175, episode reward: 9.000, mean reward: 1.000 [1.000, 1.000], mean action: 0.111 [0.000, 1.000], mean observation: 0.154 [-1.605, 2.538], loss: 0.077220, mean_absolute_error: 2.613055, mean_q: 5.187446\n",
      " 1020/5000: episode: 103, duration: 0.051s, episode steps: 10, steps per second: 195, episode reward: 10.000, mean reward: 1.000 [1.000, 1.000], mean action: 0.100 [0.000, 1.000], mean observation: 0.118 [-1.610, 2.460], loss: 0.067156, mean_absolute_error: 2.641780, mean_q: 5.320935\n",
      " 1029/5000: episode: 104, duration: 0.047s, episode steps: 9, steps per second: 191, episode reward: 9.000, mean reward: 1.000 [1.000, 1.000], mean action: 0.111 [0.000, 1.000], mean observation: 0.164 [-1.551, 2.496], loss: 0.069845, mean_absolute_error: 2.723617, mean_q: 5.481342\n",
      " 1038/5000: episode: 105, duration: 0.048s, episode steps: 9, steps per second: 188, episode reward: 9.000, mean reward: 1.000 [1.000, 1.000], mean action: 0.222 [0.000, 1.000], mean observation: 0.137 [-1.386, 2.186], loss: 0.107664, mean_absolute_error: 2.580448, mean_q: 5.019163\n",
      " 1048/5000: episode: 106, duration: 0.053s, episode steps: 10, steps per second: 190, episode reward: 10.000, mean reward: 1.000 [1.000, 1.000], mean action: 0.200 [0.000, 1.000], mean observation: 0.137 [-1.588, 2.427], loss: 0.064183, mean_absolute_error: 2.720732, mean_q: 5.359781\n",
      " 1059/5000: episode: 107, duration: 0.061s, episode steps: 11, steps per second: 179, episode reward: 11.000, mean reward: 1.000 [1.000, 1.000], mean action: 0.364 [0.000, 1.000], mean observation: 0.105 [-1.360, 2.040], loss: 0.059404, mean_absolute_error: 2.721459, mean_q: 5.383105\n",
      " 1098/5000: episode: 108, duration: 0.233s, episode steps: 39, steps per second: 167, episode reward: 39.000, mean reward: 1.000 [1.000, 1.000], mean action: 0.718 [0.000, 1.000], mean observation: 0.139 [-3.524, 3.255], loss: 0.068581, mean_absolute_error: 2.750750, mean_q: 5.314120\n",
      " 1107/5000: episode: 109, duration: 0.052s, episode steps: 9, steps per second: 174, episode reward: 9.000, mean reward: 1.000 [1.000, 1.000], mean action: 1.000 [1.000, 1.000], mean observation: -0.164 [-2.822, 1.739], loss: 0.062691, mean_absolute_error: 2.852572, mean_q: 5.553840\n",
      " 1117/5000: episode: 110, duration: 0.054s, episode steps: 10, steps per second: 185, episode reward: 10.000, mean reward: 1.000 [1.000, 1.000], mean action: 1.000 [1.000, 1.000], mean observation: -0.140 [-3.104, 1.986], loss: 0.076917, mean_absolute_error: 2.905334, mean_q: 5.649962\n",
      " 1127/5000: episode: 111, duration: 0.066s, episode steps: 10, steps per second: 151, episode reward: 10.000, mean reward: 1.000 [1.000, 1.000], mean action: 1.000 [1.000, 1.000], mean observation: -0.156 [-3.096, 1.909], loss: 0.464961, mean_absolute_error: 3.020707, mean_q: 5.850066\n",
      " 1136/5000: episode: 112, duration: 0.095s, episode steps: 9, steps per second: 95, episode reward: 9.000, mean reward: 1.000 [1.000, 1.000], mean action: 1.000 [1.000, 1.000], mean observation: -0.152 [-2.880, 1.799], loss: 0.076166, mean_absolute_error: 2.952701, mean_q: 5.759494\n",
      " 1147/5000: episode: 113, duration: 0.112s, episode steps: 11, steps per second: 98, episode reward: 11.000, mean reward: 1.000 [1.000, 1.000], mean action: 0.909 [0.000, 1.000], mean observation: -0.110 [-2.787, 1.802], loss: 1.106757, mean_absolute_error: 3.071179, mean_q: 5.844299\n",
      " 1156/5000: episode: 114, duration: 0.092s, episode steps: 9, steps per second: 98, episode reward: 9.000, mean reward: 1.000 [1.000, 1.000], mean action: 1.000 [1.000, 1.000], mean observation: -0.159 [-2.897, 1.789], loss: 0.817028, mean_absolute_error: 3.088238, mean_q: 5.793862\n",
      " 1165/5000: episode: 115, duration: 0.055s, episode steps: 9, steps per second: 163, episode reward: 9.000, mean reward: 1.000 [1.000, 1.000], mean action: 1.000 [1.000, 1.000], mean observation: -0.130 [-2.766, 1.746], loss: 1.362226, mean_absolute_error: 3.199932, mean_q: 5.945408\n",
      " 1188/5000: episode: 116, duration: 0.114s, episode steps: 23, steps per second: 202, episode reward: 23.000, mean reward: 1.000 [1.000, 1.000], mean action: 0.565 [0.000, 1.000], mean observation: 0.109 [-0.787, 1.201], loss: 0.662991, mean_absolute_error: 3.164613, mean_q: 5.973285\n",
      " 1200/5000: episode: 117, duration: 0.078s, episode steps: 12, steps per second: 154, episode reward: 12.000, mean reward: 1.000 [1.000, 1.000], mean action: 0.500 [0.000, 1.000], mean observation: 0.095 [-0.816, 1.250], loss: 1.153381, mean_absolute_error: 3.252424, mean_q: 6.134435\n",
      " 1215/5000: episode: 118, duration: 0.079s, episode steps: 15, steps per second: 191, episode reward: 15.000, mean reward: 1.000 [1.000, 1.000], mean action: 0.533 [0.000, 1.000], mean observation: 0.078 [-0.809, 1.189], loss: 0.744657, mean_absolute_error: 3.197859, mean_q: 6.067351\n",
      " 1231/5000: episode: 119, duration: 0.090s, episode steps: 16, steps per second: 177, episode reward: 16.000, mean reward: 1.000 [1.000, 1.000], mean action: 0.500 [0.000, 1.000], mean observation: 0.108 [-0.752, 1.187], loss: 0.904133, mean_absolute_error: 3.204019, mean_q: 6.104744\n",
      " 1243/5000: episode: 120, duration: 0.075s, episode steps: 12, steps per second: 160, episode reward: 12.000, mean reward: 1.000 [1.000, 1.000], mean action: 0.417 [0.000, 1.000], mean observation: 0.081 [-1.217, 1.779], loss: 0.937696, mean_absolute_error: 3.298391, mean_q: 6.281450\n",
      " 1257/5000: episode: 121, duration: 0.079s, episode steps: 14, steps per second: 177, episode reward: 14.000, mean reward: 1.000 [1.000, 1.000], mean action: 0.500 [0.000, 1.000], mean observation: 0.115 [-0.737, 1.247], loss: 0.820144, mean_absolute_error: 3.241150, mean_q: 6.147134\n"
     ]
    },
    {
     "name": "stdout",
     "output_type": "stream",
     "text": [
      " 1272/5000: episode: 122, duration: 0.131s, episode steps: 15, steps per second: 114, episode reward: 15.000, mean reward: 1.000 [1.000, 1.000], mean action: 0.533 [0.000, 1.000], mean observation: 0.090 [-0.784, 1.194], loss: 1.051814, mean_absolute_error: 3.343407, mean_q: 6.300366\n",
      " 1291/5000: episode: 123, duration: 0.182s, episode steps: 19, steps per second: 104, episode reward: 19.000, mean reward: 1.000 [1.000, 1.000], mean action: 0.526 [0.000, 1.000], mean observation: 0.065 [-1.020, 1.423], loss: 0.286842, mean_absolute_error: 3.255180, mean_q: 6.244413\n",
      " 1346/5000: episode: 124, duration: 0.343s, episode steps: 55, steps per second: 160, episode reward: 55.000, mean reward: 1.000 [1.000, 1.000], mean action: 0.582 [0.000, 1.000], mean observation: 0.211 [-0.592, 1.636], loss: 0.736958, mean_absolute_error: 3.418966, mean_q: 6.463250\n",
      " 1429/5000: episode: 125, duration: 0.432s, episode steps: 83, steps per second: 192, episode reward: 83.000, mean reward: 1.000 [1.000, 1.000], mean action: 0.518 [0.000, 1.000], mean observation: 0.188 [-0.777, 1.123], loss: 0.780721, mean_absolute_error: 3.570560, mean_q: 6.733683\n",
      " 1580/5000: episode: 126, duration: 0.804s, episode steps: 151, steps per second: 188, episode reward: 151.000, mean reward: 1.000 [1.000, 1.000], mean action: 0.523 [0.000, 1.000], mean observation: -0.029 [-1.123, 1.692], loss: 1.044362, mean_absolute_error: 3.984323, mean_q: 7.488257\n",
      " 1613/5000: episode: 127, duration: 0.203s, episode steps: 33, steps per second: 162, episode reward: 33.000, mean reward: 1.000 [1.000, 1.000], mean action: 0.455 [0.000, 1.000], mean observation: -0.099 [-0.669, 0.404], loss: 1.346556, mean_absolute_error: 4.199249, mean_q: 7.894768\n",
      " 1628/5000: episode: 128, duration: 0.096s, episode steps: 15, steps per second: 157, episode reward: 15.000, mean reward: 1.000 [1.000, 1.000], mean action: 0.533 [0.000, 1.000], mean observation: -0.076 [-1.298, 0.814], loss: 0.812177, mean_absolute_error: 4.197218, mean_q: 7.939625\n",
      " 1642/5000: episode: 129, duration: 0.073s, episode steps: 14, steps per second: 191, episode reward: 14.000, mean reward: 1.000 [1.000, 1.000], mean action: 0.571 [0.000, 1.000], mean observation: -0.123 [-1.461, 0.761], loss: 1.731166, mean_absolute_error: 4.404699, mean_q: 8.221953\n",
      " 1654/5000: episode: 130, duration: 0.069s, episode steps: 12, steps per second: 173, episode reward: 12.000, mean reward: 1.000 [1.000, 1.000], mean action: 0.667 [0.000, 1.000], mean observation: -0.102 [-1.547, 1.019], loss: 0.825786, mean_absolute_error: 4.468685, mean_q: 8.489436\n",
      " 1666/5000: episode: 131, duration: 0.077s, episode steps: 12, steps per second: 156, episode reward: 12.000, mean reward: 1.000 [1.000, 1.000], mean action: 0.750 [0.000, 1.000], mean observation: -0.107 [-1.975, 1.193], loss: 1.769936, mean_absolute_error: 4.604612, mean_q: 8.684336\n",
      " 1677/5000: episode: 132, duration: 0.062s, episode steps: 11, steps per second: 177, episode reward: 11.000, mean reward: 1.000 [1.000, 1.000], mean action: 0.727 [0.000, 1.000], mean observation: -0.101 [-1.695, 0.989], loss: 1.192118, mean_absolute_error: 4.583821, mean_q: 8.720977\n",
      " 1689/5000: episode: 133, duration: 0.075s, episode steps: 12, steps per second: 160, episode reward: 12.000, mean reward: 1.000 [1.000, 1.000], mean action: 0.667 [0.000, 1.000], mean observation: -0.090 [-1.638, 1.029], loss: 1.317560, mean_absolute_error: 4.595590, mean_q: 8.655654\n",
      " 1705/5000: episode: 134, duration: 0.169s, episode steps: 16, steps per second: 95, episode reward: 16.000, mean reward: 1.000 [1.000, 1.000], mean action: 0.625 [0.000, 1.000], mean observation: -0.104 [-1.472, 0.750], loss: 1.498523, mean_absolute_error: 4.614742, mean_q: 8.622772\n",
      " 1718/5000: episode: 135, duration: 0.109s, episode steps: 13, steps per second: 120, episode reward: 13.000, mean reward: 1.000 [1.000, 1.000], mean action: 0.615 [0.000, 1.000], mean observation: -0.088 [-1.489, 1.011], loss: 1.213106, mean_absolute_error: 4.621367, mean_q: 8.692511\n",
      " 1730/5000: episode: 136, duration: 0.078s, episode steps: 12, steps per second: 155, episode reward: 12.000, mean reward: 1.000 [1.000, 1.000], mean action: 0.583 [0.000, 1.000], mean observation: -0.121 [-1.262, 0.744], loss: 2.944502, mean_absolute_error: 4.998112, mean_q: 9.268250\n",
      " 1742/5000: episode: 137, duration: 0.063s, episode steps: 12, steps per second: 191, episode reward: 12.000, mean reward: 1.000 [1.000, 1.000], mean action: 0.667 [0.000, 1.000], mean observation: -0.093 [-1.468, 0.820], loss: 1.788171, mean_absolute_error: 4.791852, mean_q: 8.965809\n",
      " 1755/5000: episode: 138, duration: 0.068s, episode steps: 13, steps per second: 192, episode reward: 13.000, mean reward: 1.000 [1.000, 1.000], mean action: 0.615 [0.000, 1.000], mean observation: -0.078 [-1.437, 1.011], loss: 0.706445, mean_absolute_error: 4.850283, mean_q: 9.213284\n",
      " 1768/5000: episode: 139, duration: 0.078s, episode steps: 13, steps per second: 167, episode reward: 13.000, mean reward: 1.000 [1.000, 1.000], mean action: 0.615 [0.000, 1.000], mean observation: -0.099 [-1.434, 0.940], loss: 2.627300, mean_absolute_error: 4.840168, mean_q: 8.970138\n",
      " 1778/5000: episode: 140, duration: 0.058s, episode steps: 10, steps per second: 171, episode reward: 10.000, mean reward: 1.000 [1.000, 1.000], mean action: 0.700 [0.000, 1.000], mean observation: -0.131 [-1.684, 0.961], loss: 1.045233, mean_absolute_error: 4.975729, mean_q: 9.373955\n",
      " 1789/5000: episode: 141, duration: 0.064s, episode steps: 11, steps per second: 171, episode reward: 11.000, mean reward: 1.000 [1.000, 1.000], mean action: 0.818 [0.000, 1.000], mean observation: -0.115 [-2.217, 1.408], loss: 2.376067, mean_absolute_error: 4.948269, mean_q: 9.171884\n",
      " 1801/5000: episode: 142, duration: 0.071s, episode steps: 12, steps per second: 170, episode reward: 12.000, mean reward: 1.000 [1.000, 1.000], mean action: 0.833 [0.000, 1.000], mean observation: -0.108 [-2.500, 1.548], loss: 0.759683, mean_absolute_error: 4.883775, mean_q: 9.271816\n",
      " 1811/5000: episode: 143, duration: 0.057s, episode steps: 10, steps per second: 176, episode reward: 10.000, mean reward: 1.000 [1.000, 1.000], mean action: 0.800 [0.000, 1.000], mean observation: -0.130 [-2.175, 1.377], loss: 0.737949, mean_absolute_error: 5.140148, mean_q: 9.885534\n",
      " 1824/5000: episode: 144, duration: 0.097s, episode steps: 13, steps per second: 134, episode reward: 13.000, mean reward: 1.000 [1.000, 1.000], mean action: 0.692 [0.000, 1.000], mean observation: -0.125 [-2.038, 1.158], loss: 2.913822, mean_absolute_error: 5.150754, mean_q: 9.656602\n",
      " 1835/5000: episode: 145, duration: 0.065s, episode steps: 11, steps per second: 170, episode reward: 11.000, mean reward: 1.000 [1.000, 1.000], mean action: 0.727 [0.000, 1.000], mean observation: -0.116 [-1.890, 1.145], loss: 2.287286, mean_absolute_error: 5.304415, mean_q: 9.940898\n",
      " 1847/5000: episode: 146, duration: 0.065s, episode steps: 12, steps per second: 186, episode reward: 12.000, mean reward: 1.000 [1.000, 1.000], mean action: 0.667 [0.000, 1.000], mean observation: -0.095 [-1.609, 0.972], loss: 1.758117, mean_absolute_error: 5.126241, mean_q: 9.691338\n",
      " 1861/5000: episode: 147, duration: 0.094s, episode steps: 14, steps per second: 148, episode reward: 14.000, mean reward: 1.000 [1.000, 1.000], mean action: 0.643 [0.000, 1.000], mean observation: -0.114 [-1.500, 0.783], loss: 3.290627, mean_absolute_error: 5.351511, mean_q: 9.815463\n",
      " 1872/5000: episode: 148, duration: 0.062s, episode steps: 11, steps per second: 177, episode reward: 11.000, mean reward: 1.000 [1.000, 1.000], mean action: 0.636 [0.000, 1.000], mean observation: -0.105 [-1.549, 0.973], loss: 5.414283, mean_absolute_error: 5.679571, mean_q: 10.148945\n",
      " 1884/5000: episode: 149, duration: 0.064s, episode steps: 12, steps per second: 188, episode reward: 12.000, mean reward: 1.000 [1.000, 1.000], mean action: 0.667 [0.000, 1.000], mean observation: -0.118 [-1.675, 0.939], loss: 3.718774, mean_absolute_error: 5.546199, mean_q: 9.884206\n",
      " 1894/5000: episode: 150, duration: 0.078s, episode steps: 10, steps per second: 128, episode reward: 10.000, mean reward: 1.000 [1.000, 1.000], mean action: 0.700 [0.000, 1.000], mean observation: -0.114 [-1.481, 0.802], loss: 2.008266, mean_absolute_error: 5.381606, mean_q: 9.783691\n",
      " 1905/5000: episode: 151, duration: 0.099s, episode steps: 11, steps per second: 111, episode reward: 11.000, mean reward: 1.000 [1.000, 1.000], mean action: 0.636 [0.000, 1.000], mean observation: -0.117 [-1.474, 0.800], loss: 2.400267, mean_absolute_error: 5.673530, mean_q: 10.458533\n"
     ]
    },
    {
     "name": "stdout",
     "output_type": "stream",
     "text": [
      " 1915/5000: episode: 152, duration: 0.108s, episode steps: 10, steps per second: 93, episode reward: 10.000, mean reward: 1.000 [1.000, 1.000], mean action: 0.700 [0.000, 1.000], mean observation: -0.108 [-1.487, 0.818], loss: 2.257081, mean_absolute_error: 5.527555, mean_q: 10.185092\n",
      " 1931/5000: episode: 153, duration: 0.144s, episode steps: 16, steps per second: 111, episode reward: 16.000, mean reward: 1.000 [1.000, 1.000], mean action: 0.562 [0.000, 1.000], mean observation: -0.104 [-1.187, 0.578], loss: 2.523775, mean_absolute_error: 5.388201, mean_q: 9.974365\n",
      " 1942/5000: episode: 154, duration: 0.068s, episode steps: 11, steps per second: 162, episode reward: 11.000, mean reward: 1.000 [1.000, 1.000], mean action: 0.727 [0.000, 1.000], mean observation: -0.101 [-1.934, 1.210], loss: 2.064177, mean_absolute_error: 5.347342, mean_q: 10.000385\n",
      " 1952/5000: episode: 155, duration: 0.055s, episode steps: 10, steps per second: 183, episode reward: 10.000, mean reward: 1.000 [1.000, 1.000], mean action: 0.700 [0.000, 1.000], mean observation: -0.130 [-1.681, 0.965], loss: 3.660538, mean_absolute_error: 5.716477, mean_q: 10.498257\n",
      " 1963/5000: episode: 156, duration: 0.083s, episode steps: 11, steps per second: 133, episode reward: 11.000, mean reward: 1.000 [1.000, 1.000], mean action: 0.818 [0.000, 1.000], mean observation: -0.117 [-2.225, 1.419], loss: 3.660262, mean_absolute_error: 5.623632, mean_q: 10.218376\n",
      " 1972/5000: episode: 157, duration: 0.055s, episode steps: 9, steps per second: 165, episode reward: 9.000, mean reward: 1.000 [1.000, 1.000], mean action: 0.889 [0.000, 1.000], mean observation: -0.140 [-2.280, 1.347], loss: 3.834933, mean_absolute_error: 5.620903, mean_q: 10.191436\n",
      " 1983/5000: episode: 158, duration: 0.059s, episode steps: 11, steps per second: 187, episode reward: 11.000, mean reward: 1.000 [1.000, 1.000], mean action: 0.818 [0.000, 1.000], mean observation: -0.105 [-2.493, 1.613], loss: 4.711518, mean_absolute_error: 5.793178, mean_q: 10.390059\n",
      " 1992/5000: episode: 159, duration: 0.050s, episode steps: 9, steps per second: 178, episode reward: 9.000, mean reward: 1.000 [1.000, 1.000], mean action: 1.000 [1.000, 1.000], mean observation: -0.136 [-2.796, 1.758], loss: 5.296587, mean_absolute_error: 5.924847, mean_q: 10.592981\n",
      " 2001/5000: episode: 160, duration: 0.050s, episode steps: 9, steps per second: 180, episode reward: 9.000, mean reward: 1.000 [1.000, 1.000], mean action: 1.000 [1.000, 1.000], mean observation: -0.128 [-2.817, 1.801], loss: 3.122898, mean_absolute_error: 5.883091, mean_q: 10.686154\n",
      " 2012/5000: episode: 161, duration: 0.066s, episode steps: 11, steps per second: 167, episode reward: 11.000, mean reward: 1.000 [1.000, 1.000], mean action: 1.000 [1.000, 1.000], mean observation: -0.112 [-3.294, 2.189], loss: 1.694070, mean_absolute_error: 5.741121, mean_q: 10.690366\n",
      " 2021/5000: episode: 162, duration: 0.056s, episode steps: 9, steps per second: 161, episode reward: 9.000, mean reward: 1.000 [1.000, 1.000], mean action: 1.000 [1.000, 1.000], mean observation: -0.140 [-2.810, 1.745], loss: 3.205544, mean_absolute_error: 5.885025, mean_q: 10.880938\n",
      " 2030/5000: episode: 163, duration: 0.074s, episode steps: 9, steps per second: 121, episode reward: 9.000, mean reward: 1.000 [1.000, 1.000], mean action: 1.000 [1.000, 1.000], mean observation: -0.141 [-2.799, 1.757], loss: 3.663885, mean_absolute_error: 5.785940, mean_q: 10.686992\n",
      " 2041/5000: episode: 164, duration: 0.096s, episode steps: 11, steps per second: 115, episode reward: 11.000, mean reward: 1.000 [1.000, 1.000], mean action: 0.909 [0.000, 1.000], mean observation: -0.143 [-2.839, 1.751], loss: 3.475250, mean_absolute_error: 6.015889, mean_q: 11.049664\n",
      " 2049/5000: episode: 165, duration: 0.079s, episode steps: 8, steps per second: 102, episode reward: 8.000, mean reward: 1.000 [1.000, 1.000], mean action: 0.875 [0.000, 1.000], mean observation: -0.150 [-2.234, 1.382], loss: 3.393769, mean_absolute_error: 5.771743, mean_q: 10.544567\n",
      " 2060/5000: episode: 166, duration: 0.101s, episode steps: 11, steps per second: 109, episode reward: 11.000, mean reward: 1.000 [1.000, 1.000], mean action: 0.818 [0.000, 1.000], mean observation: -0.095 [-2.339, 1.585], loss: 2.737830, mean_absolute_error: 5.896663, mean_q: 10.900261\n",
      " 2068/5000: episode: 167, duration: 0.060s, episode steps: 8, steps per second: 134, episode reward: 8.000, mean reward: 1.000 [1.000, 1.000], mean action: 1.000 [1.000, 1.000], mean observation: -0.139 [-2.558, 1.570], loss: 3.218501, mean_absolute_error: 5.857098, mean_q: 10.797810\n",
      " 2077/5000: episode: 168, duration: 0.067s, episode steps: 9, steps per second: 135, episode reward: 9.000, mean reward: 1.000 [1.000, 1.000], mean action: 0.889 [0.000, 1.000], mean observation: -0.165 [-2.544, 1.565], loss: 4.121970, mean_absolute_error: 6.150490, mean_q: 11.226727\n",
      " 2086/5000: episode: 169, duration: 0.078s, episode steps: 9, steps per second: 115, episode reward: 9.000, mean reward: 1.000 [1.000, 1.000], mean action: 1.000 [1.000, 1.000], mean observation: -0.108 [-2.751, 1.803], loss: 2.506470, mean_absolute_error: 5.912603, mean_q: 10.970203\n",
      " 2097/5000: episode: 170, duration: 0.090s, episode steps: 11, steps per second: 123, episode reward: 11.000, mean reward: 1.000 [1.000, 1.000], mean action: 0.818 [0.000, 1.000], mean observation: -0.131 [-2.457, 1.610], loss: 3.607719, mean_absolute_error: 6.097246, mean_q: 11.218973\n",
      " 2106/5000: episode: 171, duration: 0.069s, episode steps: 9, steps per second: 130, episode reward: 9.000, mean reward: 1.000 [1.000, 1.000], mean action: 1.000 [1.000, 1.000], mean observation: -0.159 [-2.863, 1.748], loss: 1.815243, mean_absolute_error: 5.937077, mean_q: 11.139016\n",
      " 2114/5000: episode: 172, duration: 0.054s, episode steps: 8, steps per second: 149, episode reward: 8.000, mean reward: 1.000 [1.000, 1.000], mean action: 1.000 [1.000, 1.000], mean observation: -0.137 [-2.548, 1.605], loss: 6.020367, mean_absolute_error: 6.246337, mean_q: 11.231942\n",
      " 2124/5000: episode: 173, duration: 0.059s, episode steps: 10, steps per second: 171, episode reward: 10.000, mean reward: 1.000 [1.000, 1.000], mean action: 1.000 [1.000, 1.000], mean observation: -0.140 [-3.065, 1.990], loss: 4.168172, mean_absolute_error: 6.160766, mean_q: 11.267058\n",
      " 2132/5000: episode: 174, duration: 0.048s, episode steps: 8, steps per second: 166, episode reward: 8.000, mean reward: 1.000 [1.000, 1.000], mean action: 1.000 [1.000, 1.000], mean observation: -0.152 [-2.571, 1.547], loss: 4.284981, mean_absolute_error: 6.304629, mean_q: 11.368682\n",
      " 2141/5000: episode: 175, duration: 0.058s, episode steps: 9, steps per second: 154, episode reward: 9.000, mean reward: 1.000 [1.000, 1.000], mean action: 1.000 [1.000, 1.000], mean observation: -0.164 [-2.849, 1.762], loss: 3.851418, mean_absolute_error: 6.140070, mean_q: 11.143690\n",
      " 2151/5000: episode: 176, duration: 0.058s, episode steps: 10, steps per second: 172, episode reward: 10.000, mean reward: 1.000 [1.000, 1.000], mean action: 1.000 [1.000, 1.000], mean observation: -0.106 [-2.945, 1.962], loss: 3.508524, mean_absolute_error: 6.079120, mean_q: 11.132229\n",
      " 2161/5000: episode: 177, duration: 0.058s, episode steps: 10, steps per second: 172, episode reward: 10.000, mean reward: 1.000 [1.000, 1.000], mean action: 1.000 [1.000, 1.000], mean observation: -0.125 [-3.005, 1.953], loss: 4.273313, mean_absolute_error: 6.178452, mean_q: 11.315485\n",
      " 2172/5000: episode: 178, duration: 0.064s, episode steps: 11, steps per second: 173, episode reward: 11.000, mean reward: 1.000 [1.000, 1.000], mean action: 0.909 [0.000, 1.000], mean observation: -0.136 [-2.826, 1.773], loss: 1.867748, mean_absolute_error: 6.097574, mean_q: 11.472568\n",
      " 2180/5000: episode: 179, duration: 0.051s, episode steps: 8, steps per second: 157, episode reward: 8.000, mean reward: 1.000 [1.000, 1.000], mean action: 1.000 [1.000, 1.000], mean observation: -0.153 [-2.543, 1.574], loss: 4.643894, mean_absolute_error: 6.146201, mean_q: 11.304470\n",
      " 2191/5000: episode: 180, duration: 0.065s, episode steps: 11, steps per second: 171, episode reward: 11.000, mean reward: 1.000 [1.000, 1.000], mean action: 0.909 [0.000, 1.000], mean observation: -0.097 [-2.744, 1.769], loss: 3.452320, mean_absolute_error: 6.179045, mean_q: 11.450361\n",
      " 2201/5000: episode: 181, duration: 0.078s, episode steps: 10, steps per second: 128, episode reward: 10.000, mean reward: 1.000 [1.000, 1.000], mean action: 1.000 [1.000, 1.000], mean observation: -0.147 [-3.022, 1.934], loss: 3.713748, mean_absolute_error: 6.245076, mean_q: 11.512854\n"
     ]
    },
    {
     "name": "stdout",
     "output_type": "stream",
     "text": [
      " 2211/5000: episode: 182, duration: 0.074s, episode steps: 10, steps per second: 136, episode reward: 10.000, mean reward: 1.000 [1.000, 1.000], mean action: 1.000 [1.000, 1.000], mean observation: -0.134 [-2.972, 1.913], loss: 2.114795, mean_absolute_error: 6.184721, mean_q: 11.606050\n",
      " 2220/5000: episode: 183, duration: 0.065s, episode steps: 9, steps per second: 138, episode reward: 9.000, mean reward: 1.000 [1.000, 1.000], mean action: 1.000 [1.000, 1.000], mean observation: -0.129 [-2.734, 1.742], loss: 4.876651, mean_absolute_error: 6.431284, mean_q: 11.797325\n",
      " 2228/5000: episode: 184, duration: 0.049s, episode steps: 8, steps per second: 163, episode reward: 8.000, mean reward: 1.000 [1.000, 1.000], mean action: 1.000 [1.000, 1.000], mean observation: -0.162 [-2.587, 1.548], loss: 4.274918, mean_absolute_error: 6.449813, mean_q: 11.891754\n",
      " 2237/5000: episode: 185, duration: 0.057s, episode steps: 9, steps per second: 159, episode reward: 9.000, mean reward: 1.000 [1.000, 1.000], mean action: 1.000 [1.000, 1.000], mean observation: -0.157 [-2.790, 1.736], loss: 5.982335, mean_absolute_error: 6.490141, mean_q: 11.605022\n",
      " 2247/5000: episode: 186, duration: 0.060s, episode steps: 10, steps per second: 166, episode reward: 10.000, mean reward: 1.000 [1.000, 1.000], mean action: 1.000 [1.000, 1.000], mean observation: -0.160 [-3.090, 1.953], loss: 4.590726, mean_absolute_error: 6.381393, mean_q: 11.630186\n",
      " 2257/5000: episode: 187, duration: 0.068s, episode steps: 10, steps per second: 147, episode reward: 10.000, mean reward: 1.000 [1.000, 1.000], mean action: 0.900 [0.000, 1.000], mean observation: -0.125 [-2.497, 1.583], loss: 4.219822, mean_absolute_error: 6.207450, mean_q: 11.235224\n",
      " 2266/5000: episode: 188, duration: 0.053s, episode steps: 9, steps per second: 170, episode reward: 9.000, mean reward: 1.000 [1.000, 1.000], mean action: 1.000 [1.000, 1.000], mean observation: -0.133 [-2.778, 1.744], loss: 4.227184, mean_absolute_error: 6.425076, mean_q: 11.697578\n",
      " 2274/5000: episode: 189, duration: 0.049s, episode steps: 8, steps per second: 164, episode reward: 8.000, mean reward: 1.000 [1.000, 1.000], mean action: 1.000 [1.000, 1.000], mean observation: -0.149 [-2.533, 1.554], loss: 7.035689, mean_absolute_error: 6.615934, mean_q: 11.660383\n",
      " 2283/5000: episode: 190, duration: 0.055s, episode steps: 9, steps per second: 163, episode reward: 9.000, mean reward: 1.000 [1.000, 1.000], mean action: 1.000 [1.000, 1.000], mean observation: -0.133 [-2.801, 1.787], loss: 4.197577, mean_absolute_error: 6.393470, mean_q: 11.614109\n",
      " 2291/5000: episode: 191, duration: 0.050s, episode steps: 8, steps per second: 160, episode reward: 8.000, mean reward: 1.000 [1.000, 1.000], mean action: 1.000 [1.000, 1.000], mean observation: -0.164 [-2.543, 1.549], loss: 4.272777, mean_absolute_error: 6.453607, mean_q: 11.645269\n",
      " 2300/5000: episode: 192, duration: 0.064s, episode steps: 9, steps per second: 140, episode reward: 9.000, mean reward: 1.000 [1.000, 1.000], mean action: 0.889 [0.000, 1.000], mean observation: -0.132 [-2.307, 1.389], loss: 3.108228, mean_absolute_error: 6.340757, mean_q: 11.661799\n",
      " 2311/5000: episode: 193, duration: 0.094s, episode steps: 11, steps per second: 117, episode reward: 11.000, mean reward: 1.000 [1.000, 1.000], mean action: 0.909 [0.000, 1.000], mean observation: -0.116 [-2.741, 1.781], loss: 3.866088, mean_absolute_error: 6.524083, mean_q: 12.019650\n",
      " 2322/5000: episode: 194, duration: 0.105s, episode steps: 11, steps per second: 105, episode reward: 11.000, mean reward: 1.000 [1.000, 1.000], mean action: 0.909 [0.000, 1.000], mean observation: -0.137 [-2.699, 1.726], loss: 5.030124, mean_absolute_error: 6.697088, mean_q: 12.308152\n",
      " 2331/5000: episode: 195, duration: 0.074s, episode steps: 9, steps per second: 122, episode reward: 9.000, mean reward: 1.000 [1.000, 1.000], mean action: 0.889 [0.000, 1.000], mean observation: -0.164 [-2.324, 1.384], loss: 6.315935, mean_absolute_error: 6.862430, mean_q: 12.243998\n",
      " 2342/5000: episode: 196, duration: 0.089s, episode steps: 11, steps per second: 124, episode reward: 11.000, mean reward: 1.000 [1.000, 1.000], mean action: 0.727 [0.000, 1.000], mean observation: -0.111 [-1.851, 1.181], loss: 4.078074, mean_absolute_error: 6.526199, mean_q: 11.782690\n",
      " 2354/5000: episode: 197, duration: 0.097s, episode steps: 12, steps per second: 123, episode reward: 12.000, mean reward: 1.000 [1.000, 1.000], mean action: 0.667 [0.000, 1.000], mean observation: -0.113 [-1.684, 1.004], loss: 2.765568, mean_absolute_error: 6.354407, mean_q: 11.555345\n",
      " 2367/5000: episode: 198, duration: 0.114s, episode steps: 13, steps per second: 114, episode reward: 13.000, mean reward: 1.000 [1.000, 1.000], mean action: 0.615 [0.000, 1.000], mean observation: -0.110 [-1.510, 0.959], loss: 3.195403, mean_absolute_error: 6.361314, mean_q: 11.629917\n",
      " 2377/5000: episode: 199, duration: 0.086s, episode steps: 10, steps per second: 116, episode reward: 10.000, mean reward: 1.000 [1.000, 1.000], mean action: 0.700 [0.000, 1.000], mean observation: -0.141 [-1.529, 0.755], loss: 4.238416, mean_absolute_error: 6.408525, mean_q: 11.566494\n",
      " 2390/5000: episode: 200, duration: 0.116s, episode steps: 13, steps per second: 112, episode reward: 13.000, mean reward: 1.000 [1.000, 1.000], mean action: 0.615 [0.000, 1.000], mean observation: -0.100 [-1.413, 0.820], loss: 3.589622, mean_absolute_error: 6.488650, mean_q: 11.777981\n",
      " 2404/5000: episode: 201, duration: 0.104s, episode steps: 14, steps per second: 135, episode reward: 14.000, mean reward: 1.000 [1.000, 1.000], mean action: 0.643 [0.000, 1.000], mean observation: -0.098 [-1.678, 0.964], loss: 3.795267, mean_absolute_error: 6.362418, mean_q: 11.593379\n",
      " 2416/5000: episode: 202, duration: 0.088s, episode steps: 12, steps per second: 137, episode reward: 12.000, mean reward: 1.000 [1.000, 1.000], mean action: 0.750 [0.000, 1.000], mean observation: -0.097 [-2.159, 1.335], loss: 4.904179, mean_absolute_error: 6.604916, mean_q: 11.827962\n",
      " 2428/5000: episode: 203, duration: 0.106s, episode steps: 12, steps per second: 114, episode reward: 12.000, mean reward: 1.000 [1.000, 1.000], mean action: 0.667 [0.000, 1.000], mean observation: -0.109 [-1.667, 0.998], loss: 4.659689, mean_absolute_error: 6.539970, mean_q: 11.655479\n",
      " 2440/5000: episode: 204, duration: 0.097s, episode steps: 12, steps per second: 124, episode reward: 12.000, mean reward: 1.000 [1.000, 1.000], mean action: 0.750 [0.000, 1.000], mean observation: -0.129 [-2.065, 1.152], loss: 3.006580, mean_absolute_error: 6.453156, mean_q: 11.821198\n",
      " 2452/5000: episode: 205, duration: 0.092s, episode steps: 12, steps per second: 130, episode reward: 12.000, mean reward: 1.000 [1.000, 1.000], mean action: 0.750 [0.000, 1.000], mean observation: -0.107 [-2.144, 1.369], loss: 4.382764, mean_absolute_error: 6.471971, mean_q: 11.724881\n",
      " 2462/5000: episode: 206, duration: 0.079s, episode steps: 10, steps per second: 126, episode reward: 10.000, mean reward: 1.000 [1.000, 1.000], mean action: 0.900 [0.000, 1.000], mean observation: -0.129 [-2.521, 1.588], loss: 3.283802, mean_absolute_error: 6.528674, mean_q: 12.034021\n",
      " 2471/5000: episode: 207, duration: 0.070s, episode steps: 9, steps per second: 129, episode reward: 9.000, mean reward: 1.000 [1.000, 1.000], mean action: 0.889 [0.000, 1.000], mean observation: -0.151 [-2.274, 1.340], loss: 3.670299, mean_absolute_error: 6.636505, mean_q: 12.132298\n",
      " 2481/5000: episode: 208, duration: 0.098s, episode steps: 10, steps per second: 102, episode reward: 10.000, mean reward: 1.000 [1.000, 1.000], mean action: 0.800 [0.000, 1.000], mean observation: -0.145 [-2.233, 1.350], loss: 3.285237, mean_absolute_error: 6.633675, mean_q: 12.313083\n",
      " 2492/5000: episode: 209, duration: 0.116s, episode steps: 11, steps per second: 95, episode reward: 11.000, mean reward: 1.000 [1.000, 1.000], mean action: 0.818 [0.000, 1.000], mean observation: -0.151 [-2.251, 1.340], loss: 3.916428, mean_absolute_error: 6.552534, mean_q: 12.020801\n",
      " 2501/5000: episode: 210, duration: 0.073s, episode steps: 9, steps per second: 123, episode reward: 9.000, mean reward: 1.000 [1.000, 1.000], mean action: 0.778 [0.000, 1.000], mean observation: -0.151 [-1.967, 1.184], loss: 4.743933, mean_absolute_error: 6.724566, mean_q: 12.135708\n",
      " 2514/5000: episode: 211, duration: 0.077s, episode steps: 13, steps per second: 169, episode reward: 13.000, mean reward: 1.000 [1.000, 1.000], mean action: 0.769 [0.000, 1.000], mean observation: -0.097 [-2.326, 1.388], loss: 4.081462, mean_absolute_error: 6.500220, mean_q: 11.764969\n"
     ]
    },
    {
     "name": "stdout",
     "output_type": "stream",
     "text": [
      " 2525/5000: episode: 212, duration: 0.088s, episode steps: 11, steps per second: 126, episode reward: 11.000, mean reward: 1.000 [1.000, 1.000], mean action: 0.818 [0.000, 1.000], mean observation: -0.115 [-2.154, 1.338], loss: 3.598913, mean_absolute_error: 6.624563, mean_q: 12.062018\n",
      " 2534/5000: episode: 213, duration: 0.084s, episode steps: 9, steps per second: 107, episode reward: 9.000, mean reward: 1.000 [1.000, 1.000], mean action: 0.889 [0.000, 1.000], mean observation: -0.148 [-2.236, 1.364], loss: 3.587668, mean_absolute_error: 6.576097, mean_q: 11.975159\n",
      " 2545/5000: episode: 214, duration: 0.075s, episode steps: 11, steps per second: 147, episode reward: 11.000, mean reward: 1.000 [1.000, 1.000], mean action: 0.818 [0.000, 1.000], mean observation: -0.134 [-2.248, 1.357], loss: 2.874215, mean_absolute_error: 6.541881, mean_q: 12.021461\n",
      " 2556/5000: episode: 215, duration: 0.062s, episode steps: 11, steps per second: 177, episode reward: 11.000, mean reward: 1.000 [1.000, 1.000], mean action: 0.727 [0.000, 1.000], mean observation: -0.136 [-1.985, 1.193], loss: 3.765182, mean_absolute_error: 6.633307, mean_q: 12.147107\n",
      " 2566/5000: episode: 216, duration: 0.056s, episode steps: 10, steps per second: 180, episode reward: 10.000, mean reward: 1.000 [1.000, 1.000], mean action: 0.800 [0.000, 1.000], mean observation: -0.133 [-1.963, 1.136], loss: 5.192221, mean_absolute_error: 6.747353, mean_q: 12.146761\n",
      " 2576/5000: episode: 217, duration: 0.053s, episode steps: 10, steps per second: 188, episode reward: 10.000, mean reward: 1.000 [1.000, 1.000], mean action: 0.800 [0.000, 1.000], mean observation: -0.121 [-1.971, 1.190], loss: 3.386750, mean_absolute_error: 6.381106, mean_q: 11.635524\n",
      " 2588/5000: episode: 218, duration: 0.079s, episode steps: 12, steps per second: 151, episode reward: 12.000, mean reward: 1.000 [1.000, 1.000], mean action: 0.750 [0.000, 1.000], mean observation: -0.091 [-1.868, 1.223], loss: 4.085304, mean_absolute_error: 6.722897, mean_q: 12.218880\n",
      " 2599/5000: episode: 219, duration: 0.103s, episode steps: 11, steps per second: 107, episode reward: 11.000, mean reward: 1.000 [1.000, 1.000], mean action: 0.727 [0.000, 1.000], mean observation: -0.131 [-1.909, 1.136], loss: 3.032486, mean_absolute_error: 6.547544, mean_q: 12.035275\n",
      " 2612/5000: episode: 220, duration: 0.106s, episode steps: 13, steps per second: 123, episode reward: 13.000, mean reward: 1.000 [1.000, 1.000], mean action: 0.692 [0.000, 1.000], mean observation: -0.093 [-1.663, 1.028], loss: 2.363704, mean_absolute_error: 6.526273, mean_q: 12.148350\n",
      " 2625/5000: episode: 221, duration: 0.078s, episode steps: 13, steps per second: 167, episode reward: 13.000, mean reward: 1.000 [1.000, 1.000], mean action: 0.692 [0.000, 1.000], mean observation: -0.091 [-1.671, 0.977], loss: 3.502956, mean_absolute_error: 6.499303, mean_q: 11.970678\n",
      " 2639/5000: episode: 222, duration: 0.086s, episode steps: 14, steps per second: 163, episode reward: 14.000, mean reward: 1.000 [1.000, 1.000], mean action: 0.571 [0.000, 1.000], mean observation: -0.079 [-1.321, 0.836], loss: 4.471428, mean_absolute_error: 6.717425, mean_q: 12.143059\n",
      " 2654/5000: episode: 223, duration: 0.088s, episode steps: 15, steps per second: 171, episode reward: 15.000, mean reward: 1.000 [1.000, 1.000], mean action: 0.600 [0.000, 1.000], mean observation: -0.084 [-1.374, 0.796], loss: 4.679657, mean_absolute_error: 6.631737, mean_q: 11.814402\n",
      " 2667/5000: episode: 224, duration: 0.075s, episode steps: 13, steps per second: 174, episode reward: 13.000, mean reward: 1.000 [1.000, 1.000], mean action: 0.615 [0.000, 1.000], mean observation: -0.105 [-1.648, 1.012], loss: 2.782213, mean_absolute_error: 6.418673, mean_q: 11.738561\n",
      " 2679/5000: episode: 225, duration: 0.092s, episode steps: 12, steps per second: 131, episode reward: 12.000, mean reward: 1.000 [1.000, 1.000], mean action: 0.667 [0.000, 1.000], mean observation: -0.112 [-1.471, 0.814], loss: 3.986200, mean_absolute_error: 6.462481, mean_q: 11.643109\n",
      " 2690/5000: episode: 226, duration: 0.086s, episode steps: 11, steps per second: 128, episode reward: 11.000, mean reward: 1.000 [1.000, 1.000], mean action: 0.727 [0.000, 1.000], mean observation: -0.120 [-1.831, 1.014], loss: 3.240324, mean_absolute_error: 6.570967, mean_q: 12.028051\n",
      " 2700/5000: episode: 227, duration: 0.080s, episode steps: 10, steps per second: 125, episode reward: 10.000, mean reward: 1.000 [1.000, 1.000], mean action: 0.700 [0.000, 1.000], mean observation: -0.131 [-1.684, 0.951], loss: 4.455791, mean_absolute_error: 6.696135, mean_q: 12.087240\n",
      " 2710/5000: episode: 228, duration: 0.086s, episode steps: 10, steps per second: 116, episode reward: 10.000, mean reward: 1.000 [1.000, 1.000], mean action: 0.700 [0.000, 1.000], mean observation: -0.136 [-1.504, 0.758], loss: 3.721176, mean_absolute_error: 6.633311, mean_q: 12.029528\n",
      " 2721/5000: episode: 229, duration: 0.085s, episode steps: 11, steps per second: 129, episode reward: 11.000, mean reward: 1.000 [1.000, 1.000], mean action: 0.727 [0.000, 1.000], mean observation: -0.096 [-1.714, 1.017], loss: 3.285443, mean_absolute_error: 6.638079, mean_q: 12.138489\n",
      " 2730/5000: episode: 230, duration: 0.071s, episode steps: 9, steps per second: 126, episode reward: 9.000, mean reward: 1.000 [1.000, 1.000], mean action: 0.778 [0.000, 1.000], mean observation: -0.132 [-1.725, 0.993], loss: 4.432199, mean_absolute_error: 6.701035, mean_q: 12.095945\n",
      " 2743/5000: episode: 231, duration: 0.099s, episode steps: 13, steps per second: 132, episode reward: 13.000, mean reward: 1.000 [1.000, 1.000], mean action: 0.692 [0.000, 1.000], mean observation: -0.111 [-1.893, 1.138], loss: 3.958916, mean_absolute_error: 6.645710, mean_q: 12.036950\n",
      " 2756/5000: episode: 232, duration: 0.095s, episode steps: 13, steps per second: 137, episode reward: 13.000, mean reward: 1.000 [1.000, 1.000], mean action: 0.692 [0.000, 1.000], mean observation: -0.094 [-1.679, 1.009], loss: 3.948625, mean_absolute_error: 6.580094, mean_q: 11.914824\n",
      " 2766/5000: episode: 233, duration: 0.062s, episode steps: 10, steps per second: 161, episode reward: 10.000, mean reward: 1.000 [1.000, 1.000], mean action: 0.700 [0.000, 1.000], mean observation: -0.121 [-1.624, 0.942], loss: 2.311200, mean_absolute_error: 6.448900, mean_q: 11.979321\n",
      " 2779/5000: episode: 234, duration: 0.070s, episode steps: 13, steps per second: 185, episode reward: 13.000, mean reward: 1.000 [1.000, 1.000], mean action: 0.692 [0.000, 1.000], mean observation: -0.099 [-1.788, 0.985], loss: 2.841759, mean_absolute_error: 6.622324, mean_q: 12.211271\n",
      " 2792/5000: episode: 235, duration: 0.077s, episode steps: 13, steps per second: 169, episode reward: 13.000, mean reward: 1.000 [1.000, 1.000], mean action: 0.692 [0.000, 1.000], mean observation: -0.082 [-1.720, 1.013], loss: 3.928352, mean_absolute_error: 6.668577, mean_q: 12.211380\n",
      " 2804/5000: episode: 236, duration: 0.061s, episode steps: 12, steps per second: 195, episode reward: 12.000, mean reward: 1.000 [1.000, 1.000], mean action: 0.667 [0.000, 1.000], mean observation: -0.124 [-1.522, 0.814], loss: 2.476702, mean_absolute_error: 6.437366, mean_q: 11.944969\n",
      " 2815/5000: episode: 237, duration: 0.057s, episode steps: 11, steps per second: 194, episode reward: 11.000, mean reward: 1.000 [1.000, 1.000], mean action: 0.636 [0.000, 1.000], mean observation: -0.129 [-1.422, 0.771], loss: 3.312952, mean_absolute_error: 6.647061, mean_q: 12.142227\n",
      " 2831/5000: episode: 238, duration: 0.086s, episode steps: 16, steps per second: 185, episode reward: 16.000, mean reward: 1.000 [1.000, 1.000], mean action: 0.562 [0.000, 1.000], mean observation: -0.073 [-1.201, 0.620], loss: 2.692931, mean_absolute_error: 6.548765, mean_q: 12.064059\n",
      " 2850/5000: episode: 239, duration: 0.133s, episode steps: 19, steps per second: 143, episode reward: 19.000, mean reward: 1.000 [1.000, 1.000], mean action: 0.579 [0.000, 1.000], mean observation: -0.061 [-1.202, 0.593], loss: 3.138408, mean_absolute_error: 6.502874, mean_q: 11.947060\n",
      " 2864/5000: episode: 240, duration: 0.091s, episode steps: 14, steps per second: 153, episode reward: 14.000, mean reward: 1.000 [1.000, 1.000], mean action: 0.571 [0.000, 1.000], mean observation: -0.119 [-1.102, 0.417], loss: 2.985841, mean_absolute_error: 6.473761, mean_q: 11.831871\n",
      " 2883/5000: episode: 241, duration: 0.137s, episode steps: 19, steps per second: 139, episode reward: 19.000, mean reward: 1.000 [1.000, 1.000], mean action: 0.526 [0.000, 1.000], mean observation: -0.081 [-1.046, 0.424], loss: 2.864349, mean_absolute_error: 6.528690, mean_q: 12.012763\n"
     ]
    },
    {
     "name": "stdout",
     "output_type": "stream",
     "text": [
      " 2899/5000: episode: 242, duration: 0.118s, episode steps: 16, steps per second: 136, episode reward: 16.000, mean reward: 1.000 [1.000, 1.000], mean action: 0.562 [0.000, 1.000], mean observation: -0.092 [-1.086, 0.446], loss: 3.687540, mean_absolute_error: 6.603423, mean_q: 11.977713\n",
      " 2917/5000: episode: 243, duration: 0.094s, episode steps: 18, steps per second: 191, episode reward: 18.000, mean reward: 1.000 [1.000, 1.000], mean action: 0.556 [0.000, 1.000], mean observation: -0.065 [-1.202, 0.635], loss: 3.221349, mean_absolute_error: 6.517032, mean_q: 11.877217\n",
      " 2943/5000: episode: 244, duration: 0.142s, episode steps: 26, steps per second: 183, episode reward: 26.000, mean reward: 1.000 [1.000, 1.000], mean action: 0.538 [0.000, 1.000], mean observation: -0.065 [-1.046, 0.560], loss: 3.671613, mean_absolute_error: 6.567753, mean_q: 11.895388\n",
      " 2960/5000: episode: 245, duration: 0.091s, episode steps: 17, steps per second: 187, episode reward: 17.000, mean reward: 1.000 [1.000, 1.000], mean action: 0.529 [0.000, 1.000], mean observation: -0.122 [-1.209, 0.751], loss: 2.811395, mean_absolute_error: 6.519621, mean_q: 11.928540\n",
      " 2988/5000: episode: 246, duration: 0.141s, episode steps: 28, steps per second: 198, episode reward: 28.000, mean reward: 1.000 [1.000, 1.000], mean action: 0.536 [0.000, 1.000], mean observation: -0.055 [-1.128, 0.446], loss: 3.356708, mean_absolute_error: 6.472095, mean_q: 11.786077\n",
      " 3009/5000: episode: 247, duration: 0.126s, episode steps: 21, steps per second: 167, episode reward: 21.000, mean reward: 1.000 [1.000, 1.000], mean action: 0.571 [0.000, 1.000], mean observation: -0.055 [-1.258, 0.638], loss: 2.287861, mean_absolute_error: 6.508817, mean_q: 12.067143\n",
      " 3025/5000: episode: 248, duration: 0.097s, episode steps: 16, steps per second: 165, episode reward: 16.000, mean reward: 1.000 [1.000, 1.000], mean action: 0.562 [0.000, 1.000], mean observation: -0.106 [-1.073, 0.366], loss: 3.279590, mean_absolute_error: 6.564952, mean_q: 12.039150\n",
      " 3039/5000: episode: 249, duration: 0.090s, episode steps: 14, steps per second: 155, episode reward: 14.000, mean reward: 1.000 [1.000, 1.000], mean action: 0.571 [0.000, 1.000], mean observation: -0.116 [-1.086, 0.617], loss: 2.353850, mean_absolute_error: 6.470603, mean_q: 11.997444\n",
      " 3058/5000: episode: 250, duration: 0.100s, episode steps: 19, steps per second: 190, episode reward: 19.000, mean reward: 1.000 [1.000, 1.000], mean action: 0.526 [0.000, 1.000], mean observation: -0.080 [-1.008, 0.593], loss: 2.883067, mean_absolute_error: 6.511765, mean_q: 11.980311\n",
      " 3077/5000: episode: 251, duration: 0.105s, episode steps: 19, steps per second: 182, episode reward: 19.000, mean reward: 1.000 [1.000, 1.000], mean action: 0.526 [0.000, 1.000], mean observation: -0.067 [-1.024, 0.450], loss: 3.531502, mean_absolute_error: 6.568380, mean_q: 11.956156\n",
      " 3108/5000: episode: 252, duration: 0.156s, episode steps: 31, steps per second: 199, episode reward: 31.000, mean reward: 1.000 [1.000, 1.000], mean action: 0.516 [0.000, 1.000], mean observation: -0.035 [-1.043, 0.412], loss: 3.382913, mean_absolute_error: 6.544209, mean_q: 11.903405\n",
      " 3138/5000: episode: 253, duration: 0.150s, episode steps: 30, steps per second: 200, episode reward: 30.000, mean reward: 1.000 [1.000, 1.000], mean action: 0.500 [0.000, 1.000], mean observation: -0.065 [-0.851, 0.375], loss: 2.626971, mean_absolute_error: 6.454147, mean_q: 11.934304\n",
      " 3165/5000: episode: 254, duration: 0.132s, episode steps: 27, steps per second: 205, episode reward: 27.000, mean reward: 1.000 [1.000, 1.000], mean action: 0.519 [0.000, 1.000], mean observation: -0.066 [-1.031, 0.550], loss: 2.592462, mean_absolute_error: 6.531339, mean_q: 12.085938\n",
      " 3183/5000: episode: 255, duration: 0.094s, episode steps: 18, steps per second: 192, episode reward: 18.000, mean reward: 1.000 [1.000, 1.000], mean action: 0.556 [0.000, 1.000], mean observation: -0.110 [-1.305, 0.574], loss: 2.293262, mean_absolute_error: 6.526255, mean_q: 12.171772\n",
      " 3204/5000: episode: 256, duration: 0.108s, episode steps: 21, steps per second: 195, episode reward: 21.000, mean reward: 1.000 [1.000, 1.000], mean action: 0.524 [0.000, 1.000], mean observation: -0.107 [-0.961, 0.364], loss: 3.260826, mean_absolute_error: 6.609937, mean_q: 12.087214\n",
      " 3279/5000: episode: 257, duration: 0.374s, episode steps: 75, steps per second: 201, episode reward: 75.000, mean reward: 1.000 [1.000, 1.000], mean action: 0.507 [0.000, 1.000], mean observation: 0.073 [-0.878, 0.589], loss: 2.385535, mean_absolute_error: 6.522839, mean_q: 12.107714\n",
      " 3309/5000: episode: 258, duration: 0.175s, episode steps: 30, steps per second: 171, episode reward: 30.000, mean reward: 1.000 [1.000, 1.000], mean action: 0.467 [0.000, 1.000], mean observation: -0.134 [-0.662, 0.176], loss: 2.280657, mean_absolute_error: 6.606721, mean_q: 12.338265\n",
      " 3404/5000: episode: 259, duration: 0.517s, episode steps: 95, steps per second: 184, episode reward: 95.000, mean reward: 1.000 [1.000, 1.000], mean action: 0.505 [0.000, 1.000], mean observation: 0.075 [-0.828, 0.469], loss: 2.320404, mean_absolute_error: 6.679338, mean_q: 12.478571\n",
      " 3494/5000: episode: 260, duration: 0.475s, episode steps: 90, steps per second: 189, episode reward: 90.000, mean reward: 1.000 [1.000, 1.000], mean action: 0.533 [0.000, 1.000], mean observation: 0.113 [-0.452, 1.043], loss: 2.417112, mean_absolute_error: 6.835607, mean_q: 12.814944\n",
      " 3538/5000: episode: 261, duration: 0.218s, episode steps: 44, steps per second: 202, episode reward: 44.000, mean reward: 1.000 [1.000, 1.000], mean action: 0.477 [0.000, 1.000], mean observation: -0.113 [-0.774, 0.246], loss: 2.740054, mean_absolute_error: 6.984859, mean_q: 12.966206\n",
      " 3607/5000: episode: 262, duration: 0.337s, episode steps: 69, steps per second: 205, episode reward: 69.000, mean reward: 1.000 [1.000, 1.000], mean action: 0.478 [0.000, 1.000], mean observation: -0.087 [-0.776, 0.283], loss: 2.529642, mean_absolute_error: 7.071312, mean_q: 13.286716\n",
      " 3643/5000: episode: 263, duration: 0.177s, episode steps: 36, steps per second: 203, episode reward: 36.000, mean reward: 1.000 [1.000, 1.000], mean action: 0.472 [0.000, 1.000], mean observation: -0.133 [-0.725, 0.213], loss: 2.743458, mean_absolute_error: 7.139218, mean_q: 13.380753\n",
      " 3682/5000: episode: 264, duration: 0.199s, episode steps: 39, steps per second: 196, episode reward: 39.000, mean reward: 1.000 [1.000, 1.000], mean action: 0.487 [0.000, 1.000], mean observation: -0.047 [-0.946, 0.265], loss: 3.152612, mean_absolute_error: 7.226187, mean_q: 13.458289\n",
      " 3709/5000: episode: 265, duration: 0.147s, episode steps: 27, steps per second: 184, episode reward: 27.000, mean reward: 1.000 [1.000, 1.000], mean action: 0.481 [0.000, 1.000], mean observation: -0.103 [-0.789, 0.370], loss: 3.508181, mean_absolute_error: 7.158151, mean_q: 13.194569\n",
      " 3742/5000: episode: 266, duration: 0.179s, episode steps: 33, steps per second: 184, episode reward: 33.000, mean reward: 1.000 [1.000, 1.000], mean action: 0.485 [0.000, 1.000], mean observation: -0.108 [-0.805, 0.203], loss: 2.421988, mean_absolute_error: 7.071038, mean_q: 13.254139\n",
      " 3780/5000: episode: 267, duration: 0.189s, episode steps: 38, steps per second: 201, episode reward: 38.000, mean reward: 1.000 [1.000, 1.000], mean action: 0.474 [0.000, 1.000], mean observation: -0.072 [-0.811, 0.411], loss: 2.644791, mean_absolute_error: 7.252306, mean_q: 13.606168\n",
      " 3806/5000: episode: 268, duration: 0.133s, episode steps: 26, steps per second: 196, episode reward: 26.000, mean reward: 1.000 [1.000, 1.000], mean action: 0.500 [0.000, 1.000], mean observation: -0.119 [-0.877, 0.184], loss: 2.366748, mean_absolute_error: 7.239980, mean_q: 13.659220\n",
      " 3840/5000: episode: 269, duration: 0.173s, episode steps: 34, steps per second: 197, episode reward: 34.000, mean reward: 1.000 [1.000, 1.000], mean action: 0.471 [0.000, 1.000], mean observation: -0.108 [-0.813, 0.165], loss: 2.369267, mean_absolute_error: 7.314596, mean_q: 13.774647\n",
      " 3867/5000: episode: 270, duration: 0.135s, episode steps: 27, steps per second: 200, episode reward: 27.000, mean reward: 1.000 [1.000, 1.000], mean action: 0.481 [0.000, 1.000], mean observation: -0.125 [-0.839, 0.384], loss: 2.801316, mean_absolute_error: 7.377723, mean_q: 13.846703\n",
      " 3892/5000: episode: 271, duration: 0.131s, episode steps: 25, steps per second: 190, episode reward: 25.000, mean reward: 1.000 [1.000, 1.000], mean action: 0.480 [0.000, 1.000], mean observation: -0.123 [-0.793, 0.176], loss: 3.352790, mean_absolute_error: 7.467466, mean_q: 13.879291\n"
     ]
    },
    {
     "name": "stdout",
     "output_type": "stream",
     "text": [
      " 3934/5000: episode: 272, duration: 0.424s, episode steps: 42, steps per second: 99, episode reward: 42.000, mean reward: 1.000 [1.000, 1.000], mean action: 0.476 [0.000, 1.000], mean observation: -0.093 [-0.734, 0.393], loss: 2.656617, mean_absolute_error: 7.399725, mean_q: 13.867351\n",
      " 3967/5000: episode: 273, duration: 0.243s, episode steps: 33, steps per second: 136, episode reward: 33.000, mean reward: 1.000 [1.000, 1.000], mean action: 0.485 [0.000, 1.000], mean observation: -0.131 [-0.807, 0.172], loss: 3.119757, mean_absolute_error: 7.512783, mean_q: 14.037930\n",
      " 4020/5000: episode: 274, duration: 0.350s, episode steps: 53, steps per second: 152, episode reward: 53.000, mean reward: 1.000 [1.000, 1.000], mean action: 0.509 [0.000, 1.000], mean observation: -0.031 [-1.061, 0.390], loss: 3.568189, mean_absolute_error: 7.499327, mean_q: 13.872531\n",
      " 4036/5000: episode: 275, duration: 0.110s, episode steps: 16, steps per second: 145, episode reward: 16.000, mean reward: 1.000 [1.000, 1.000], mean action: 0.500 [0.000, 1.000], mean observation: -0.115 [-0.862, 0.359], loss: 2.722244, mean_absolute_error: 7.406682, mean_q: 13.762993\n",
      " 4122/5000: episode: 276, duration: 0.682s, episode steps: 86, steps per second: 126, episode reward: 86.000, mean reward: 1.000 [1.000, 1.000], mean action: 0.477 [0.000, 1.000], mean observation: -0.167 [-1.050, 0.352], loss: 2.474828, mean_absolute_error: 7.574805, mean_q: 14.276675\n",
      " 4185/5000: episode: 277, duration: 0.354s, episode steps: 63, steps per second: 178, episode reward: 63.000, mean reward: 1.000 [1.000, 1.000], mean action: 0.524 [0.000, 1.000], mean observation: 0.097 [-0.238, 0.716], loss: 2.451457, mean_absolute_error: 7.663356, mean_q: 14.421515\n",
      " 4240/5000: episode: 278, duration: 0.261s, episode steps: 55, steps per second: 211, episode reward: 55.000, mean reward: 1.000 [1.000, 1.000], mean action: 0.473 [0.000, 1.000], mean observation: -0.121 [-0.776, 0.268], loss: 2.265978, mean_absolute_error: 7.786916, mean_q: 14.742762\n",
      " 4290/5000: episode: 279, duration: 0.267s, episode steps: 50, steps per second: 187, episode reward: 50.000, mean reward: 1.000 [1.000, 1.000], mean action: 0.540 [0.000, 1.000], mean observation: 0.133 [-0.352, 0.738], loss: 2.655581, mean_absolute_error: 7.734885, mean_q: 14.563667\n",
      " 4344/5000: episode: 280, duration: 0.270s, episode steps: 54, steps per second: 200, episode reward: 54.000, mean reward: 1.000 [1.000, 1.000], mean action: 0.537 [0.000, 1.000], mean observation: 0.141 [-0.241, 0.862], loss: 2.598590, mean_absolute_error: 7.896990, mean_q: 14.926395\n",
      " 4391/5000: episode: 281, duration: 0.265s, episode steps: 47, steps per second: 178, episode reward: 47.000, mean reward: 1.000 [1.000, 1.000], mean action: 0.468 [0.000, 1.000], mean observation: -0.079 [-0.965, 0.425], loss: 2.247560, mean_absolute_error: 7.847884, mean_q: 14.873913\n",
      " 4461/5000: episode: 282, duration: 0.464s, episode steps: 70, steps per second: 151, episode reward: 70.000, mean reward: 1.000 [1.000, 1.000], mean action: 0.529 [0.000, 1.000], mean observation: 0.133 [-0.341, 0.864], loss: 2.841875, mean_absolute_error: 7.938850, mean_q: 14.943401\n",
      " 4502/5000: episode: 283, duration: 0.229s, episode steps: 41, steps per second: 179, episode reward: 41.000, mean reward: 1.000 [1.000, 1.000], mean action: 0.488 [0.000, 1.000], mean observation: -0.086 [-0.841, 0.270], loss: 3.943485, mean_absolute_error: 8.038993, mean_q: 14.990407\n",
      " 4535/5000: episode: 284, duration: 0.176s, episode steps: 33, steps per second: 187, episode reward: 33.000, mean reward: 1.000 [1.000, 1.000], mean action: 0.455 [0.000, 1.000], mean observation: -0.130 [-0.699, 0.436], loss: 2.167590, mean_absolute_error: 8.008014, mean_q: 15.210993\n",
      " 4578/5000: episode: 285, duration: 0.220s, episode steps: 43, steps per second: 196, episode reward: 43.000, mean reward: 1.000 [1.000, 1.000], mean action: 0.535 [0.000, 1.000], mean observation: 0.121 [-0.324, 0.736], loss: 2.858130, mean_absolute_error: 8.091520, mean_q: 15.245408\n",
      " 4618/5000: episode: 286, duration: 0.189s, episode steps: 40, steps per second: 211, episode reward: 40.000, mean reward: 1.000 [1.000, 1.000], mean action: 0.475 [0.000, 1.000], mean observation: -0.089 [-0.721, 0.427], loss: 2.790149, mean_absolute_error: 8.092901, mean_q: 15.274287\n",
      " 4654/5000: episode: 287, duration: 0.192s, episode steps: 36, steps per second: 188, episode reward: 36.000, mean reward: 1.000 [1.000, 1.000], mean action: 0.472 [0.000, 1.000], mean observation: -0.118 [-0.737, 0.208], loss: 2.271882, mean_absolute_error: 8.197687, mean_q: 15.605164\n",
      " 4702/5000: episode: 288, duration: 0.251s, episode steps: 48, steps per second: 191, episode reward: 48.000, mean reward: 1.000 [1.000, 1.000], mean action: 0.479 [0.000, 1.000], mean observation: -0.116 [-0.766, 0.212], loss: 2.923867, mean_absolute_error: 8.275345, mean_q: 15.655459\n",
      " 4731/5000: episode: 289, duration: 0.174s, episode steps: 29, steps per second: 167, episode reward: 29.000, mean reward: 1.000 [1.000, 1.000], mean action: 0.483 [0.000, 1.000], mean observation: -0.139 [-0.716, 0.164], loss: 3.395619, mean_absolute_error: 8.345422, mean_q: 15.710187\n",
      " 4772/5000: episode: 290, duration: 0.325s, episode steps: 41, steps per second: 126, episode reward: 41.000, mean reward: 1.000 [1.000, 1.000], mean action: 0.463 [0.000, 1.000], mean observation: -0.144 [-0.736, 0.398], loss: 3.140575, mean_absolute_error: 8.303047, mean_q: 15.650656\n",
      " 4833/5000: episode: 291, duration: 0.322s, episode steps: 61, steps per second: 189, episode reward: 61.000, mean reward: 1.000 [1.000, 1.000], mean action: 0.508 [0.000, 1.000], mean observation: 0.088 [-0.348, 1.225], loss: 2.859546, mean_absolute_error: 8.382624, mean_q: 15.923442\n",
      " 4923/5000: episode: 292, duration: 0.551s, episode steps: 90, steps per second: 163, episode reward: 90.000, mean reward: 1.000 [1.000, 1.000], mean action: 0.511 [0.000, 1.000], mean observation: 0.114 [-0.502, 0.938], loss: 2.779344, mean_absolute_error: 8.542645, mean_q: 16.227007\n",
      " 4955/5000: episode: 293, duration: 0.162s, episode steps: 32, steps per second: 197, episode reward: 32.000, mean reward: 1.000 [1.000, 1.000], mean action: 0.469 [0.000, 1.000], mean observation: -0.148 [-0.758, 0.155], loss: 2.791404, mean_absolute_error: 8.606033, mean_q: 16.325285\n",
      "done, took 31.755 seconds\n"
     ]
    }
   ],
   "source": [
    "history = dqn.fit(env, nb_steps=NB_STEPS, visualize=True, verbose=2)"
   ]
  },
  {
   "cell_type": "code",
   "execution_count": 13,
   "metadata": {},
   "outputs": [
    {
     "data": {
      "image/png": "[encoded data removed]",
      "text/plain": [
       "<matplotlib.figure.Figure at 0x12916cda0>"
      ]
     },
     "metadata": {},
     "output_type": "display_data"
    }
   ],
   "source": [
    "plt.plot(history.history['episode_reward'], color='green')\n",
    "plt.xlabel('Episode')\n",
    "plt.ylabel('Total of Rewards')\n",
    "plt.show()"
   ]
  },
  {
   "cell_type": "markdown",
   "metadata": {},
   "source": [
    "## Test DQN"
   ]
  },
  {
   "cell_type": "code",
   "execution_count": 14,
   "metadata": {},
   "outputs": [
    {
     "name": "stdout",
     "output_type": "stream",
     "text": [
      "Testing for 10 episodes ...\n",
      "Episode 1: reward: 98.000, steps: 98\n",
      "Episode 2: reward: 65.000, steps: 65\n",
      "Episode 3: reward: 61.000, steps: 61\n",
      "Episode 4: reward: 91.000, steps: 91\n",
      "Episode 5: reward: 72.000, steps: 72\n",
      "Episode 6: reward: 109.000, steps: 109\n",
      "Episode 7: reward: 53.000, steps: 53\n",
      "Episode 8: reward: 83.000, steps: 83\n",
      "Episode 9: reward: 113.000, steps: 113\n",
      "Episode 10: reward: 46.000, steps: 46\n"
     ]
    },
    {
     "data": {
      "text/plain": [
       "<keras.callbacks.History at 0x128e279e8>"
      ]
     },
     "execution_count": 14,
     "metadata": {},
     "output_type": "execute_result"
    }
   ],
   "source": [
    "dqn.test(env, nb_episodes=10, visualize=True)"
   ]
  },
  {
   "cell_type": "markdown",
   "metadata": {},
   "source": [
    "---"
   ]
  }
 ],
 "metadata": {
  "kernelspec": {
   "display_name": "Python 3",
   "language": "python",
   "name": "python3"
  },
  "language_info": {
   "codemirror_mode": {
    "name": "ipython",
    "version": 3
   },
   "file_extension": ".py",
   "mimetype": "text/x-python",
   "name": "python",
   "nbconvert_exporter": "python",
   "pygments_lexer": "ipython3",
   "version": "3.6.7"
  }
 },
 "nbformat": 4,
 "nbformat_minor": 2
}
