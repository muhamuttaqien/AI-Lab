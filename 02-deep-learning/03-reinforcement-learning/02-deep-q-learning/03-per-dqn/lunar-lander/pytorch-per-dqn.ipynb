{
 "cells": [
  {
   "cell_type": "markdown",
   "metadata": {},
   "source": [
    "# Prioritized Experience Replay DQN, Deep Q Learning"
   ]
  },
  {
   "cell_type": "code",
   "execution_count": 1,
   "metadata": {
    "collapsed": true
   },
   "outputs": [],
   "source": [
    "import os\n",
    "import random\n",
    "import numpy as np\n",
    "import matplotlib.pyplot as plt\n",
    "from IPython.display import clear_output\n",
    "\n",
    "from collections import namedtuple, deque"
   ]
  },
  {
   "cell_type": "code",
   "execution_count": 2,
   "metadata": {
    "collapsed": true
   },
   "outputs": [],
   "source": [
    "import gym\n",
    "import torch\n",
    "import torch.nn as nn\n",
    "import torch.optim as optim\n",
    "import torch.nn.functional as F\n",
    "import torchvision.transforms as T"
   ]
  },
  {
   "cell_type": "code",
   "execution_count": 3,
   "metadata": {
    "collapsed": true
   },
   "outputs": [],
   "source": [
    "import warnings\n",
    "warnings.simplefilter('ignore', UserWarning)"
   ]
  },
  {
   "cell_type": "code",
   "execution_count": 4,
   "metadata": {
    "collapsed": true
   },
   "outputs": [],
   "source": [
    "plt.style.use('ggplot')"
   ]
  },
  {
   "cell_type": "markdown",
   "metadata": {},
   "source": [
    "## Set Configs"
   ]
  },
  {
   "cell_type": "code",
   "execution_count": 5,
   "metadata": {
    "collapsed": true
   },
   "outputs": [],
   "source": [
    "is_cuda = torch.cuda.is_available()\n",
    "\n",
    "if is_cuda: device = torch.device('cuda')\n",
    "else: device = torch.device('cpu')"
   ]
  },
  {
   "cell_type": "code",
   "execution_count": 6,
   "metadata": {
    "collapsed": true
   },
   "outputs": [],
   "source": [
    "BUFFER_SIZE = int(1e5)\n",
    "BATCH_SIZE = 64\n",
    "GAMMA = 0.99\n",
    "TAU = 1e-3 # for soft update of target parameters\n",
    "LR = 5e-4\n",
    "PRINT_EVERY = 100\n",
    "UPDATE_EVERY = 4"
   ]
  },
  {
   "cell_type": "markdown",
   "metadata": {},
   "source": [
    "## Set Environment"
   ]
  },
  {
   "cell_type": "code",
   "execution_count": 7,
   "metadata": {},
   "outputs": [
    {
     "name": "stdout",
     "output_type": "stream",
     "text": [
      "\u001b[33mWARN: gym.spaces.Box autodetected dtype as <class 'numpy.float32'>. Please provide explicit dtype.\u001b[0m\n"
     ]
    }
   ],
   "source": [
    "ENV_NAME = 'LunarLander-v2'\n",
    "env = gym.make(ENV_NAME).unwrapped; env.seed(90);"
   ]
  },
  {
   "cell_type": "code",
   "execution_count": 8,
   "metadata": {},
   "outputs": [
    {
     "name": "stdout",
     "output_type": "stream",
     "text": [
      "Environment Display:\n",
      "State space Box(8,)\n",
      "Action space Discrete(4)\n"
     ]
    }
   ],
   "source": [
    "print('Environment Display:')\n",
    "env.reset() # reset environment to a new, random state\n",
    "env.render()\n",
    "\n",
    "print('State space {}'.format(env.observation_space))\n",
    "print('Action space {}'.format(env.action_space))"
   ]
  },
  {
   "cell_type": "markdown",
   "metadata": {},
   "source": [
    "## Build DQN Architecture"
   ]
  },
  {
   "cell_type": "code",
   "execution_count": 9,
   "metadata": {
    "collapsed": true
   },
   "outputs": [],
   "source": [
    "class DQN(nn.Module):\n",
    "    \"\"\"Define DQN architecture.\"\"\"\n",
    "    \n",
    "    def __init__(self, state_size, action_size, seed, fcl_units=64, fc2_units=64):\n",
    "        \"\"\"Initialize parameters and build model.\"\"\"\n",
    "        \n",
    "        super(DQN, self).__init__()\n",
    "        \n",
    "        self.seed = torch.manual_seed(seed)\n",
    "        \n",
    "        self.fc1_layer = nn.Linear(state_size, fcl_units)\n",
    "        self.fc2_layer = nn.Linear(fcl_units, fc2_units)\n",
    "        self.fc3_layer = nn.Linear(fc2_units, action_size)\n",
    "        \n",
    "    def forward(self, state):\n",
    "        \"\"\"Build a network that maps state into action values.\"\"\"\n",
    "        \n",
    "        state = F.relu(self.fc1_layer(state))\n",
    "        state = F.relu(self.fc2_layer(state))\n",
    "        Qsa = self.fc3_layer(state)\n",
    "        \n",
    "        return Qsa        "
   ]
  },
  {
   "cell_type": "markdown",
   "metadata": {},
   "source": [
    "## Set Prioritized Replay Buffer"
   ]
  },
  {
   "cell_type": "code",
   "execution_count": 10,
   "metadata": {
    "collapsed": true
   },
   "outputs": [],
   "source": [
    "class PrioritizedReplayBuffer(object):\n",
    "    \"\"\"Fixed-size buffer to store experience tuples.\"\"\"\n",
    "    \n",
    "    def __init__(self, capacity):\n",
    "        \"\"\"Initialize a PrioritizedReplayMemory object.\"\"\"\n",
    "        \n",
    "        self.PER_e = 0.01 # to avoid zero opportunity of getting selected\n",
    "        self.PER_a = 0.6 # the probability of performing random sampling\n",
    "        self.PER_b = 0.4 # to adjust weight update rule to match the underlying distribution\n",
    "        \n",
    "        self.capacity = capacity\n",
    "        self.memory = []\n",
    "        self.data_pointer = 0\n",
    "        self.priorities = np.zeros((capacity,), dtype=np.float32)\n",
    "        \n",
    "    def add(self, state, action, reward, next_state, done):\n",
    "        \"\"\"Add a new experience to memory.\"\"\"\n",
    "        \n",
    "        state = np.expand_dims(state, axis=0)\n",
    "        next_state = np.expand_dims(next_state, axis=0)\n",
    "        \n",
    "        max_priority = self.priorities.max() if self.memory else 1.0\n",
    "        \n",
    "        if len(self.memory) < self.capacity:\n",
    "            self.memory.append((state, action, reward, next_state, done))\n",
    "        else:\n",
    "            self.memory[self.data_pointer] = (state, action, reward, next_state, done)\n",
    "            \n",
    "        self.priorities[self.data_pointer] = max_priority\n",
    "        self.data_pointer = (self.data_pointer + 1) % self.capacity\n",
    "        \n",
    "    def sample(self):\n",
    "        \"\"\"Sample a batch of prioritized experiences from memory.\"\"\"\n",
    "        \n",
    "        if len(self.memory) == self.capacity:\n",
    "            priorities = self.priorities\n",
    "        else:\n",
    "            priorities = self.priorities[:self.data_pointer]\n",
    "            \n",
    "        probs = priorities ** self.PER_a\n",
    "        probs/= probs.sum() \n",
    "        \n",
    "        indices = np.random.choice(len(self.memory), BATCH_SIZE, p=probs)\n",
    "        samples = [self.memory[index] for index in indices]\n",
    "        \n",
    "        total = len(self.memory)\n",
    "        weights = (total * probs[indices]) ** (-self.PER_b)\n",
    "        weights/= weights.max()\n",
    "        weights = np.array(weights, dtype=np.float32)\n",
    "        \n",
    "        experiences = list(zip(*samples))\n",
    "        \n",
    "        states = torch.from_numpy(np.vstack([np.concatenate(experiences[0])])).float()\n",
    "        states = states.to(device)\n",
    "        \n",
    "        actions = torch.from_numpy(np.vstack([np.expand_dims(experiences[1], axis=1)])).long()\n",
    "        actions = actions.to(device)\n",
    "        \n",
    "        rewards = torch.from_numpy(np.vstack([np.expand_dims(experiences[2], axis=1)])).float()\n",
    "        rewards = rewards.to(device)\n",
    "        \n",
    "        next_states = torch.from_numpy(np.vstack([np.concatenate(experiences[3])])).float()\n",
    "        next_states = next_states.to(device)\n",
    "        \n",
    "        dones = torch.from_numpy(np.vstack([np.expand_dims(experiences[4], axis=1)]).astype(np.uint8)).float()\n",
    "        dones = dones.to(device)\n",
    "        \n",
    "        weights = torch.from_numpy(np.expand_dims(weights, axis=1)).float()\n",
    "        weights = weights.to(device)\n",
    "        \n",
    "        return indices, (states, actions, rewards, next_states, dones), weights\n",
    "    \n",
    "    def update_priorities(self, batch_indices, batch_priorities):\n",
    "        \"\"\"Update current priorities of internal memory.\"\"\"\n",
    "        \n",
    "        for batch_id, priority in zip(batch_indices, batch_priorities):\n",
    "            self.priorities[batch_id] = priority\n",
    "            \n",
    "    def __len__(self):\n",
    "        \"\"\"Return the current size of internal memory.\"\"\"\n",
    "        return len(self.memory)"
   ]
  },
  {
   "cell_type": "markdown",
   "metadata": {},
   "source": [
    "## Define [PER DQN](https://arxiv.org/pdf/1511.05952.pdf) Agent"
   ]
  },
  {
   "cell_type": "code",
   "execution_count": 11,
   "metadata": {
    "collapsed": true
   },
   "outputs": [],
   "source": [
    "class PER_DQNAgent():\n",
    "    \"\"\"The agent interacting with and learning from the environment.\"\"\"\n",
    "    \n",
    "    def __init__(self, state_size, action_size, seed):\n",
    "        \"\"\"Initialize an agent object.\"\"\"\n",
    "        \n",
    "        self.state_size = state_size\n",
    "        self.action_size = action_size\n",
    "        self.seed = random.seed(seed)\n",
    "        \n",
    "        # Q-Network\n",
    "        self.dqn_net = DQN(state_size, action_size, seed).to(device)\n",
    "        self.target_net = DQN(state_size, action_size, seed).to(device)\n",
    "        self.optimizer = optim.Adam(self.dqn_net.parameters(), lr=LR)\n",
    "        \n",
    "        # Replay Buffer\n",
    "        self.buffer = PrioritizedReplayBuffer(BUFFER_SIZE)\n",
    "        self.time_step = 0\n",
    "        \n",
    "    def memorize(self, state, action, reward, next_state, done):\n",
    "        \"\"\"Save experience in replay buffer.\"\"\"\n",
    "        \n",
    "        self.buffer.add(state, action, reward, next_state, done)\n",
    "    \n",
    "        self.time_step = (self.time_step + 1) % UPDATE_EVERY\n",
    "        if self.time_step == 0:\n",
    "            # if enough samples are available in memory, get random subset and learn\n",
    "            if len(self.buffer) > BATCH_SIZE:\n",
    "                batch_indices, experiences, weights = self.buffer.sample()\n",
    "                self.learn(batch_indices, experiences, weights, GAMMA)\n",
    "            \n",
    "    def act(self, state, eps=0.):\n",
    "        \"\"\"Returns actions for given state as per current policy.\"\"\"\n",
    "        \n",
    "        state = torch.from_numpy(state).float().unsqueeze(0).to(device)\n",
    "        \n",
    "        self.dqn_net.eval()\n",
    "        with torch.no_grad():\n",
    "            action_values = self.dqn_net(state)\n",
    "            \n",
    "        self.dqn_net.train()\n",
    "        \n",
    "        # epsilon-greedy action selection\n",
    "        if random.random() > eps:\n",
    "            return np.argmax(action_values.cpu().data.numpy())\n",
    "        else:\n",
    "            return random.choice(np.arange(self.action_size))\n",
    "    \n",
    "    def learn(self, batch_indices, experiences, weights, gamma):\n",
    "        \"\"\"Update value parameters using given batch of experience tuples.\"\"\"\n",
    "    \n",
    "        states, actions, rewards, next_states, dones = experiences\n",
    "        \n",
    "        self.optimizer.zero_grad()\n",
    "        \n",
    "        # get index of maximum value for next state\n",
    "        Qsa_next = self.dqn_net(next_states).detach()\n",
    "        _, action_max = Qsa_next.max(1)\n",
    "\n",
    "        # get max predicted Q values (for next states) from target network\n",
    "        Q_target_next = self.target_net(next_states).detach().gather(1, action_max.unsqueeze(1))\n",
    "        \n",
    "        # compute Q target\n",
    "        Q_target = rewards + (gamma * Q_target_next * (1 - dones))\n",
    "        \n",
    "        # get expected Q values from dqn network\n",
    "        Q_expected = self.dqn_net(states).gather(1, actions)\n",
    "        \n",
    "        # compute loss using PER concept\n",
    "        loss  = torch.pow((Q_target - Q_expected), 2) * weights        \n",
    "        priorities = loss + self.buffer.PER_e\n",
    "        \n",
    "        loss  = torch.mean(loss)\n",
    "        \n",
    "        # minimize the loss\n",
    "        loss.backward()\n",
    "        self.optimizer.step()\n",
    "        \n",
    "        self.buffer.update_priorities(batch_indices, priorities.data.cpu().numpy())\n",
    "        \n",
    "        # update target network\n",
    "        self.soft_update(self.dqn_net, self.target_net, TAU)\n",
    "        \n",
    "    def soft_update(self, dqn_net, target_net, tau):\n",
    "        \"\"\"Soft update target network parameters.\"\"\"\n",
    "        \n",
    "        for dqn_param, target_param in zip(dqn_net.parameters(), target_net.parameters()):\n",
    "            target_param.data.copy_(tau*dqn_param.data + (1.0-tau) * target_param.data)"
   ]
  },
  {
   "cell_type": "code",
   "execution_count": 12,
   "metadata": {
    "collapsed": true
   },
   "outputs": [],
   "source": [
    "agent = PER_DQNAgent(state_size=env.observation_space.shape[0], action_size=env.action_space.n, seed=90)"
   ]
  },
  {
   "cell_type": "code",
   "execution_count": 13,
   "metadata": {
    "collapsed": true
   },
   "outputs": [],
   "source": [
    "# watch an untrained agent\n",
    "state = env.reset()\n",
    "for time_step in range(200):\n",
    "    \n",
    "    # select an action\n",
    "    action = agent.act(state)\n",
    "    env.render()\n",
    "    \n",
    "    next_state, reward, done, _ = env.step(action)\n",
    "    state = next_state\n",
    "    if done:\n",
    "        break\n",
    "\n",
    "env.close()"
   ]
  },
  {
   "cell_type": "markdown",
   "metadata": {},
   "source": [
    "## Train The Agent"
   ]
  },
  {
   "cell_type": "code",
   "execution_count": 14,
   "metadata": {
    "collapsed": true
   },
   "outputs": [],
   "source": [
    "def train_agent(num_episodes, max_time=1000, eps_start=1.0, eps_end=0.01, eps_decay=0.995):\n",
    "    \"\"\"Train DQN agent.\"\"\"\n",
    "    \n",
    "    scores = []\n",
    "    scores_window = deque(maxlen=100)\n",
    "    eps = eps_start\n",
    "    \n",
    "    for i_episode in range(1, num_episodes+1):\n",
    "        state = env.reset()\n",
    "        score = 0\n",
    "        for time_step in range(max_time):\n",
    "            action = agent.act(state, eps)\n",
    "            next_state, reward, done, _ = env.step(action)\n",
    "            \n",
    "            agent.memorize(state, action, reward, next_state, done)\n",
    "            state = next_state\n",
    "            score += reward\n",
    "            if done:\n",
    "                break\n",
    "                \n",
    "        scores_window.append(score)\n",
    "        scores.append(score)\n",
    "        eps = max(eps_end, eps_decay*eps)\n",
    "        \n",
    "        print(f'\\rEpisode: {i_episode}, Average Score: {np.mean(scores_window):.2f}', end='')\n",
    "        \n",
    "        if i_episode % PRINT_EVERY == 0:\n",
    "            print(f'\\rEpisode: {i_episode}, Average Score: {np.mean(scores_window):.2f}')\n",
    "        if np.mean(scores_window) >= 200.0:\n",
    "            print(f'\\nEnvironment solved in {i_episode-100:d} episodes! Average Score: {np.mean(scores_window):.2f}')\n",
    "            if not os.path.exists('./agents/'): os.makedirs('./agents/')\n",
    "            torch.save(agent.dqn_net.state_dict(), f'./agents/PER_DQN_{ENV_NAME}.pth')\n",
    "            \n",
    "    print('Training completed.')\n",
    "    return scores"
   ]
  },
  {
   "cell_type": "code",
   "execution_count": 15,
   "metadata": {
    "scrolled": true
   },
   "outputs": [
    {
     "name": "stdout",
     "output_type": "stream",
     "text": [
      "Episode: 100, Average Score: -212.92\n",
      "Episode: 200, Average Score: -164.27\n",
      "Episode: 300, Average Score: -223.29\n",
      "Episode: 400, Average Score: -116.80\n",
      "Episode: 500, Average Score: -104.41\n",
      "Episode: 600, Average Score: -135.01\n",
      "Episode: 700, Average Score: -153.00\n",
      "Episode: 800, Average Score: -104.30\n",
      "Episode: 900, Average Score: -67.847\n",
      "Episode: 1000, Average Score: -23.66\n",
      "Episode: 1100, Average Score: 45.988\n",
      "Episode: 1200, Average Score: -2.325\n",
      "Episode: 1300, Average Score: 55.81\n",
      "Episode: 1400, Average Score: 85.31\n",
      "Episode: 1500, Average Score: 173.31\n",
      "Episode: 1600, Average Score: 187.97\n",
      "Episode: 1700, Average Score: 185.48\n",
      "Episode: 1747, Average Score: 200.05\n",
      "Environment solved in 1647 episodes! Average Score: 200.05\n",
      "Episode: 1763, Average Score: 200.05\n",
      "Environment solved in 1663 episodes! Average Score: 200.05\n",
      "Episode: 1764, Average Score: 203.01\n",
      "Environment solved in 1664 episodes! Average Score: 203.01\n",
      "Episode: 1765, Average Score: 203.22\n",
      "Environment solved in 1665 episodes! Average Score: 203.22\n",
      "Episode: 1766, Average Score: 203.23\n",
      "Environment solved in 1666 episodes! Average Score: 203.23\n",
      "Episode: 1767, Average Score: 202.44\n",
      "Environment solved in 1667 episodes! Average Score: 202.44\n",
      "Episode: 1768, Average Score: 202.34\n",
      "Environment solved in 1668 episodes! Average Score: 202.34\n",
      "Episode: 1769, Average Score: 201.89\n",
      "Environment solved in 1669 episodes! Average Score: 201.89\n",
      "Episode: 1770, Average Score: 201.50\n",
      "Environment solved in 1670 episodes! Average Score: 201.50\n",
      "Episode: 1771, Average Score: 202.14\n",
      "Environment solved in 1671 episodes! Average Score: 202.14\n",
      "Episode: 1772, Average Score: 202.02\n",
      "Environment solved in 1672 episodes! Average Score: 202.02\n",
      "Episode: 1773, Average Score: 202.14\n",
      "Environment solved in 1673 episodes! Average Score: 202.14\n",
      "Episode: 1774, Average Score: 202.05\n",
      "Environment solved in 1674 episodes! Average Score: 202.05\n",
      "Episode: 1775, Average Score: 202.19\n",
      "Environment solved in 1675 episodes! Average Score: 202.19\n",
      "Episode: 1776, Average Score: 202.17\n",
      "Environment solved in 1676 episodes! Average Score: 202.17\n",
      "Episode: 1777, Average Score: 202.36\n",
      "Environment solved in 1677 episodes! Average Score: 202.36\n",
      "Episode: 1778, Average Score: 202.57\n",
      "Environment solved in 1678 episodes! Average Score: 202.57\n",
      "Episode: 1779, Average Score: 202.95\n",
      "Environment solved in 1679 episodes! Average Score: 202.95\n",
      "Episode: 1780, Average Score: 202.68\n",
      "Environment solved in 1680 episodes! Average Score: 202.68\n",
      "Episode: 1781, Average Score: 203.62\n",
      "Environment solved in 1681 episodes! Average Score: 203.62\n",
      "Episode: 1782, Average Score: 203.34\n",
      "Environment solved in 1682 episodes! Average Score: 203.34\n",
      "Episode: 1783, Average Score: 203.74\n",
      "Environment solved in 1683 episodes! Average Score: 203.74\n",
      "Episode: 1784, Average Score: 203.62\n",
      "Environment solved in 1684 episodes! Average Score: 203.62\n",
      "Episode: 1785, Average Score: 203.84\n",
      "Environment solved in 1685 episodes! Average Score: 203.84\n",
      "Episode: 1786, Average Score: 203.99\n",
      "Environment solved in 1686 episodes! Average Score: 203.99\n",
      "Episode: 1787, Average Score: 204.14\n",
      "Environment solved in 1687 episodes! Average Score: 204.14\n",
      "Episode: 1788, Average Score: 204.15\n",
      "Environment solved in 1688 episodes! Average Score: 204.15\n",
      "Episode: 1789, Average Score: 204.31\n",
      "Environment solved in 1689 episodes! Average Score: 204.31\n",
      "Episode: 1790, Average Score: 204.28\n",
      "Environment solved in 1690 episodes! Average Score: 204.28\n",
      "Episode: 1791, Average Score: 204.60\n",
      "Environment solved in 1691 episodes! Average Score: 204.60\n",
      "Episode: 1792, Average Score: 205.77\n",
      "Environment solved in 1692 episodes! Average Score: 205.77\n",
      "Episode: 1793, Average Score: 204.75\n",
      "Environment solved in 1693 episodes! Average Score: 204.75\n",
      "Episode: 1794, Average Score: 204.95\n",
      "Environment solved in 1694 episodes! Average Score: 204.95\n",
      "Episode: 1795, Average Score: 204.87\n",
      "Environment solved in 1695 episodes! Average Score: 204.87\n",
      "Episode: 1796, Average Score: 206.05\n",
      "Environment solved in 1696 episodes! Average Score: 206.05\n",
      "Episode: 1797, Average Score: 205.74\n",
      "Environment solved in 1697 episodes! Average Score: 205.74\n",
      "Episode: 1798, Average Score: 205.01\n",
      "Environment solved in 1698 episodes! Average Score: 205.01\n",
      "Episode: 1799, Average Score: 204.81\n",
      "Environment solved in 1699 episodes! Average Score: 204.81\n",
      "Episode: 1800, Average Score: 205.32\n",
      "\n",
      "Environment solved in 1700 episodes! Average Score: 205.32\n",
      "Episode: 1801, Average Score: 205.61\n",
      "Environment solved in 1701 episodes! Average Score: 205.61\n",
      "Episode: 1802, Average Score: 205.65\n",
      "Environment solved in 1702 episodes! Average Score: 205.65\n",
      "Episode: 1803, Average Score: 205.82\n",
      "Environment solved in 1703 episodes! Average Score: 205.82\n",
      "Episode: 1804, Average Score: 205.55\n",
      "Environment solved in 1704 episodes! Average Score: 205.55\n",
      "Episode: 1805, Average Score: 205.90\n",
      "Environment solved in 1705 episodes! Average Score: 205.90\n",
      "Episode: 1806, Average Score: 206.16\n",
      "Environment solved in 1706 episodes! Average Score: 206.16\n",
      "Episode: 1807, Average Score: 206.46\n",
      "Environment solved in 1707 episodes! Average Score: 206.46\n",
      "Episode: 1808, Average Score: 206.28\n",
      "Environment solved in 1708 episodes! Average Score: 206.28\n",
      "Episode: 1809, Average Score: 206.01\n",
      "Environment solved in 1709 episodes! Average Score: 206.01\n",
      "Episode: 1810, Average Score: 202.16\n",
      "Environment solved in 1710 episodes! Average Score: 202.16\n",
      "Episode: 1811, Average Score: 202.27\n",
      "Environment solved in 1711 episodes! Average Score: 202.27\n",
      "Episode: 1812, Average Score: 202.50\n",
      "Environment solved in 1712 episodes! Average Score: 202.50\n",
      "Episode: 1821, Average Score: 200.14\n",
      "Environment solved in 1721 episodes! Average Score: 200.14\n",
      "Episode: 1900, Average Score: 171.06\n",
      "Episode: 2000, Average Score: 162.15\n",
      "Training completed.\n"
     ]
    }
   ],
   "source": [
    "scores = train_agent(num_episodes=2000, max_time=1000)"
   ]
  },
  {
   "cell_type": "markdown",
   "metadata": {},
   "source": [
    "## Evaluate The Agent"
   ]
  },
  {
   "cell_type": "code",
   "execution_count": 16,
   "metadata": {},
   "outputs": [
    {
     "data": {
      "image/png": "[encoded data removed]",
      "text/plain": [
       "<matplotlib.figure.Figure at 0x12b82def0>"
      ]
     },
     "metadata": {},
     "output_type": "display_data"
    }
   ],
   "source": [
    "plt.figure(figsize=(10,5))\n",
    "plt.plot(np.arange(len(scores)), scores, color='green')\n",
    "plt.xlabel('Num of episodes')\n",
    "plt.ylabel('Score')\n",
    "if not os.path.exists('./images/'): os.makedirs('./images/')\n",
    "plt.savefig('./images/plot_of_agent_evaluation.png')\n",
    "plt.show()"
   ]
  },
  {
   "cell_type": "markdown",
   "metadata": {},
   "source": [
    "## 🎬 Watch The Smart Agent"
   ]
  },
  {
   "cell_type": "code",
   "execution_count": 17,
   "metadata": {
    "collapsed": true
   },
   "outputs": [],
   "source": [
    "# load the weights of smart agent\n",
    "agent.dqn_net.load_state_dict(torch.load(f'./agents/PER_DQN_{ENV_NAME}.pth'));"
   ]
  },
  {
   "cell_type": "code",
   "execution_count": 18,
   "metadata": {
    "collapsed": true
   },
   "outputs": [],
   "source": [
    "num_episodes = 5\n",
    "\n",
    "for i_episode in range(1, num_episodes+1):\n",
    "    \n",
    "    state = env.reset()\n",
    "    rewards = []\n",
    "    for time_step in range(200):\n",
    "        \n",
    "        env.render() # render the screen\n",
    "        action = agent.act(state) # select an action\n",
    "        next_state, reward, done, _ = env.step(action)\n",
    "        \n",
    "        state = next_state\n",
    "        rewards.append(reward)\n",
    "        if done:\n",
    "            break\n",
    "            \n",
    "    print(f'\\rEpisode: {i_episode}, Average Score: {sum(rewards):.2f}')\n",
    "\n",
    "env.close()"
   ]
  },
  {
   "cell_type": "markdown",
   "metadata": {},
   "source": [
    "---"
   ]
  }
 ],
 "metadata": {
  "kernelspec": {
   "display_name": "Python 3",
   "language": "python",
   "name": "python3"
  },
  "language_info": {
   "codemirror_mode": {
    "name": "ipython",
    "version": 3
   },
   "file_extension": ".py",
   "mimetype": "text/x-python",
   "name": "python",
   "nbconvert_exporter": "python",
   "pygments_lexer": "ipython3",
   "version": "3.6.7"
  }
 },
 "nbformat": 4,
 "nbformat_minor": 2
}
