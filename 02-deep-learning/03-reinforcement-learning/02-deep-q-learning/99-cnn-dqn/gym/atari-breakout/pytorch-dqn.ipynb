{
 "cells": [
  {
   "cell_type": "markdown",
   "metadata": {},
   "source": [
    "# CNN DQN, Deep Q Learning"
   ]
  },
  {
   "cell_type": "code",
   "execution_count": 1,
   "metadata": {
    "collapsed": true
   },
   "outputs": [],
   "source": [
    "import os\n",
    "import random\n",
    "import numpy as np\n",
    "import matplotlib.pyplot as plt\n",
    "from skimage.color import rgb2grey\n",
    "from skimage.transform import rescale\n",
    "\n",
    "from collections import namedtuple, deque"
   ]
  },
  {
   "cell_type": "code",
   "execution_count": 2,
   "metadata": {
    "collapsed": true
   },
   "outputs": [],
   "source": [
    "import gym\n",
    "import torch\n",
    "import torch.nn as nn\n",
    "import torch.optim as optim\n",
    "import torch.nn.functional as F\n",
    "import torchvision.transforms as T"
   ]
  },
  {
   "cell_type": "code",
   "execution_count": 3,
   "metadata": {
    "collapsed": true
   },
   "outputs": [],
   "source": [
    "import warnings\n",
    "warnings.simplefilter('ignore', UserWarning)"
   ]
  },
  {
   "cell_type": "code",
   "execution_count": 4,
   "metadata": {
    "collapsed": true
   },
   "outputs": [],
   "source": [
    "plt.style.use('ggplot')"
   ]
  },
  {
   "cell_type": "markdown",
   "metadata": {},
   "source": [
    "## Set Configs"
   ]
  },
  {
   "cell_type": "code",
   "execution_count": 5,
   "metadata": {
    "collapsed": true
   },
   "outputs": [],
   "source": [
    "is_cuda = torch.cuda.is_available()\n",
    "\n",
    "if is_cuda: device = torch.device('cuda')\n",
    "else: device = torch.device('cpu')"
   ]
  },
  {
   "cell_type": "code",
   "execution_count": 6,
   "metadata": {
    "collapsed": true
   },
   "outputs": [],
   "source": [
    "BUFFER_SIZE = int(1e5)\n",
    "BATCH_SIZE = 32\n",
    "GAMMA = 0.99\n",
    "TAU = 1e-4 # for soft update of target parameters\n",
    "LR = 2.5e-4\n",
    "PRINT_EVERY = 500\n",
    "UPDATE_EVERY = 4\n",
    "NUM_FRAMES = 4"
   ]
  },
  {
   "cell_type": "markdown",
   "metadata": {},
   "source": [
    "## Set Environment"
   ]
  },
  {
   "cell_type": "code",
   "execution_count": 7,
   "metadata": {
    "collapsed": true
   },
   "outputs": [],
   "source": [
    "ENV_NAME = 'BreakoutDeterministic-v4'\n",
    "env = gym.make(ENV_NAME).unwrapped; env.seed(90);"
   ]
  },
  {
   "cell_type": "code",
   "execution_count": 8,
   "metadata": {},
   "outputs": [
    {
     "name": "stdout",
     "output_type": "stream",
     "text": [
      "Environment Display\n",
      "State space: Box(210, 160, 3)\n",
      "Action space: Discrete(4)\n"
     ]
    }
   ],
   "source": [
    "print('Environment Display')\n",
    "env.reset() # reset environment to a new, random state\n",
    "env.render()\n",
    "\n",
    "print('State space: {}'.format(env.observation_space))\n",
    "print('Action space: {}'.format(env.action_space))"
   ]
  },
  {
   "cell_type": "markdown",
   "metadata": {},
   "source": [
    "## Build DQN Architecture"
   ]
  },
  {
   "cell_type": "code",
   "execution_count": 9,
   "metadata": {
    "collapsed": true
   },
   "outputs": [],
   "source": [
    "class DQN(nn.Module):\n",
    "    \"\"\"Define DQN architecture.\"\"\"\n",
    "    \n",
    "    def __init__(self, num_frames, num_actions, seed):\n",
    "        \"\"\"Initialize parameters and build model.\"\"\"\n",
    "        \n",
    "        super(DQN, self).__init__()\n",
    "        \n",
    "        self.seed = torch.manual_seed(seed)\n",
    "        \n",
    "        self.conv1_layer = nn.Conv2d(in_channels=num_frames, out_channels=16, kernel_size=8, stride=4, padding=2)\n",
    "        self.conv2_layer = nn.Conv2d(in_channels=16, out_channels=32, kernel_size=4, stride=2, padding=1)\n",
    "        \n",
    "        self.fc1_layer = nn.Linear(in_features=3200, out_features=256)\n",
    "        self.fc2_layer = nn.Linear(in_features=256, out_features=num_actions)\n",
    "        \n",
    "    def flatten(self, x):\n",
    "        batch_size = x.size()[0]\n",
    "        x = x.view(batch_size, -1)\n",
    "        return x\n",
    "        \n",
    "    def forward(self, state):\n",
    "        \"\"\"Build a network that maps state into action values.\"\"\"\n",
    "        \n",
    "        x = F.relu(self.conv1_layer(state)) # input: (80, 80, 4), output: (20, 20, 16)\n",
    "        x = F.relu(self.conv2_layer(x))     # input: (20, 20, 16), output: (10, 10, 32)\n",
    "        x = self.flatten(x)                 # input: (10, 10, 32), output: (3200,)\n",
    "        x = F.relu(self.fc1_layer(x))       # input: (3200,), output: (256,)\n",
    "        Qsa = self.fc2_layer(x)             # input: (256,), output: (4,)\n",
    "        \n",
    "        return Qsa        "
   ]
  },
  {
   "cell_type": "markdown",
   "metadata": {},
   "source": [
    "## Set Replay Buffer"
   ]
  },
  {
   "cell_type": "code",
   "execution_count": 10,
   "metadata": {
    "collapsed": true
   },
   "outputs": [],
   "source": [
    "class ReplayBuffer(object):\n",
    "    \"\"\"Fixed-size buffer to store experience tuples.\"\"\"\n",
    "    \n",
    "    def __init__(self, action_size, buffer_size, batch_size, seed):\n",
    "        \"\"\"Initialize a ReplayMemory object.\"\"\"\n",
    "        \n",
    "        self.experience = namedtuple(\"Experience\", field_names=[\"state\", \"action\", \"reward\", \"next_state\", \"done\"])\n",
    "        self.seed = random.seed(seed)\n",
    "        \n",
    "        self.action_size = action_size\n",
    "        self.memory = deque(maxlen=buffer_size)\n",
    "        self.batch_size = batch_size\n",
    "\n",
    "    def add(self, state, action, reward, next_state, done):\n",
    "        \"\"\"Add a new experience to buffer.\"\"\"\n",
    "        \n",
    "        self.memory.append(self.experience(state, action, reward, next_state, done))\n",
    "        \n",
    "    def sample(self):\n",
    "        \"\"\"Randomly sample a batch of experiences from memory.\"\"\"\n",
    "        experiences = random.sample(self.memory, k=self.batch_size)\n",
    "        \n",
    "        states = torch.from_numpy(np.vstack([exp.state for exp in experiences if exp is not None])).float()\n",
    "        states = states.to(device)\n",
    "        \n",
    "        actions = torch.from_numpy(np.vstack([exp.action for exp in experiences if exp is not None])).long()\n",
    "        actions = actions.to(device)\n",
    "        \n",
    "        rewards = torch.from_numpy(np.vstack([exp.reward for exp in experiences if exp is not None])).float()\n",
    "        rewards = rewards.to(device)\n",
    "        \n",
    "        next_states = torch.from_numpy(np.vstack([exp.next_state for exp in experiences if exp is not None])).float()\n",
    "        next_states = next_states.to(device)\n",
    "        \n",
    "        dones = torch.from_numpy(np.vstack([exp.done for exp in experiences if exp is not None]).astype(np.uint8)).float()\n",
    "        dones = dones.to(device)\n",
    "        \n",
    "        return (states, actions, rewards, next_states, dones)\n",
    "        \n",
    "    def __len__(self):\n",
    "        \"\"\"Return the current size of internal memory.\"\"\"\n",
    "        return len(self.memory)"
   ]
  },
  {
   "cell_type": "markdown",
   "metadata": {},
   "source": [
    "## Define CNN DQN Agent"
   ]
  },
  {
   "cell_type": "code",
   "execution_count": 11,
   "metadata": {
    "collapsed": true
   },
   "outputs": [],
   "source": [
    "class CNN_DQNAgent():\n",
    "    \"\"\"The agent interacting with and learning from the environment.\"\"\"\n",
    "    \n",
    "    def __init__(self, num_frames, action_size, seed):\n",
    "        \"\"\"Initialize an agent object.\"\"\"\n",
    "        \n",
    "        self.num_frames = num_frames\n",
    "        self.action_size = action_size\n",
    "        self.seed = random.seed(seed)\n",
    "        \n",
    "        # Q-Network\n",
    "        self.dqn_net = DQN(num_frames, action_size, seed).to(device)\n",
    "        self.target_net = DQN(num_frames, action_size, seed).to(device)\n",
    "        self.optimizer = optim.RMSprop(self.dqn_net.parameters(), lr=LR, alpha=0.95, eps=0.01)\n",
    "        \n",
    "        # Replay Buffer\n",
    "        self.buffer = ReplayBuffer(action_size, BUFFER_SIZE, BATCH_SIZE, seed)\n",
    "        self.time_step = 0\n",
    "        \n",
    "    def memorize(self, state, action, reward, next_state, done):\n",
    "        \"\"\"Save experience in replay buffer.\"\"\"\n",
    "        \n",
    "        self.buffer.add(state, action, reward, next_state, done)\n",
    "    \n",
    "        self.time_step = (self.time_step + 1) % UPDATE_EVERY\n",
    "        if self.time_step == 0:\n",
    "            # if enough samples are available in memory, get random subset and learn\n",
    "            if len(self.buffer) > BATCH_SIZE:\n",
    "                experiences = self.buffer.sample()\n",
    "                self.learn(experiences, GAMMA)\n",
    "                \n",
    "    def preprocess(self, state):\n",
    "        \n",
    "        state = rgb2grey(state[35:195, :, :])\n",
    "        state = rescale(state, scale=0.5)\n",
    "        state = state[np.newaxis, np.newaxis, :, :]\n",
    "        \n",
    "        return state\n",
    "    \n",
    "    def act(self, state, eps=0.):\n",
    "        \"\"\"Returns actions for given state as per current policy.\"\"\"\n",
    "        \n",
    "        state = torch.from_numpy(state).float().to(device)\n",
    "        \n",
    "        self.dqn_net.eval()\n",
    "        with torch.no_grad():\n",
    "            action_values = self.dqn_net(state)\n",
    "        self.dqn_net.train()\n",
    "        \n",
    "        # epsilon-greedy action selection\n",
    "        if random.random() > eps:\n",
    "            return np.argmax(action_values.cpu().data.numpy())\n",
    "        else:\n",
    "            return random.choice(np.arange(self.action_size))\n",
    "    \n",
    "    def learn(self, experiences, gamma):\n",
    "        \"\"\"Update value parameters using given batch of experience tuples.\"\"\"\n",
    "    \n",
    "        states, actions, rewards, next_states, dones = experiences\n",
    "        \n",
    "        self.optimizer.zero_grad()\n",
    "        \n",
    "        # get index of maximum value for next state\n",
    "        Qsa_next = self.dqn_net(next_states).detach()\n",
    "        _, action_max = Qsa_next.max(1)\n",
    "\n",
    "        # get max predicted Q values (for next states) from target network\n",
    "        Q_target_next = self.target_net(next_states).detach().gather(1, action_max.unsqueeze(1))\n",
    "        \n",
    "        # compute Q target\n",
    "        Q_target = rewards + (gamma * Q_target_next * (1 - dones))\n",
    "        \n",
    "        # get expected Q values from dqn network\n",
    "        Q_expected = self.dqn_net(states).gather(1, actions)\n",
    "        \n",
    "        # compute loss\n",
    "        loss = F.mse_loss(Q_expected, Q_target)\n",
    "        \n",
    "        # minimize the loss\n",
    "        loss.backward()\n",
    "        self.optimizer.step()\n",
    "        \n",
    "        # update target network\n",
    "        self.soft_update(self.dqn_net, self.target_net, TAU)\n",
    "        \n",
    "    def soft_update(self, dqn_net, target_net, tau):\n",
    "        \"\"\"Soft update target network parameters.\"\"\"\n",
    "        \n",
    "        for dqn_param, target_param in zip(dqn_net.parameters(), target_net.parameters()):\n",
    "            target_param.data.copy_(tau*dqn_param.data + (1.0-tau) * target_param.data)\n",
    "            \n",
    "    def watch(self, num_episodes=3):\n",
    "        \n",
    "        num_episodes = num_episodes\n",
    "        scores = []\n",
    "        scores_window = deque(maxlen=500)    \n",
    "\n",
    "        for i_episode in range(1, num_episodes+1):\n",
    "\n",
    "            state = env.reset()\n",
    "            state = agent.preprocess(state)\n",
    "\n",
    "            done = False\n",
    "            score = 0\n",
    "\n",
    "            while not done:\n",
    "\n",
    "                while state.shape[1] < NUM_FRAMES:\n",
    "                    action = 1 # fire up\n",
    "\n",
    "                    next_state, reward, done, _ = env.step(action)\n",
    "                    next_state = agent.preprocess(next_state)\n",
    "\n",
    "                    state = np.concatenate((state, next_state), axis=1)\n",
    "\n",
    "                env.render() # render the screen\n",
    "                action = agent.act(state) # select an action\n",
    "\n",
    "                next_state, reward, done, _ = env.step(action)\n",
    "                next_state, reward, done, _ = env.step(action)\n",
    "                next_state = agent.preprocess(next_state)\n",
    "                next_state = np.concatenate((state, next_state), axis=1)\n",
    "                next_state = next_state[:, 1:, :, :]\n",
    "\n",
    "                state = next_state\n",
    "                score += reward\n",
    "                if done:\n",
    "                    break\n",
    "\n",
    "            scores_window.append(score)\n",
    "            scores.append(score)\n",
    "            print(f'\\rEpisode: {i_episode}, Average Score: {np.mean(scores_window):.2f}', end='')\n",
    "\n",
    "        env.close()"
   ]
  },
  {
   "cell_type": "code",
   "execution_count": 12,
   "metadata": {
    "collapsed": true
   },
   "outputs": [],
   "source": [
    "agent = CNN_DQNAgent(num_frames=NUM_FRAMES, action_size=env.action_space.n, seed=90)"
   ]
  },
  {
   "cell_type": "code",
   "execution_count": 13,
   "metadata": {
    "collapsed": true
   },
   "outputs": [],
   "source": [
    "# watch an untrained agent\n",
    "agent.watch(num_episodes=3)"
   ]
  },
  {
   "cell_type": "markdown",
   "metadata": {},
   "source": [
    "## Train The Agent"
   ]
  },
  {
   "cell_type": "code",
   "execution_count": 14,
   "metadata": {
    "collapsed": true
   },
   "outputs": [],
   "source": [
    "def train_agent(num_episodes, eps_start=1.0, eps_end=0.1, eps_decay=0.995):\n",
    "    \"\"\"Train DQN agent.\"\"\"\n",
    "    \n",
    "    scores = []\n",
    "    scores_window = deque(maxlen=500)\n",
    "    eps = eps_start\n",
    "    \n",
    "    for i_episode in range(1, num_episodes+1):\n",
    "        state = env.reset()\n",
    "        state = agent.preprocess(state)\n",
    "        \n",
    "        done = False\n",
    "        score = 0\n",
    "        \n",
    "        while not done:\n",
    "            \n",
    "            env.render()\n",
    "            \n",
    "            while state.shape[1] < NUM_FRAMES:\n",
    "                action = 1 # fire up\n",
    "                \n",
    "                next_state, reward, done, _ = env.step(action)\n",
    "                next_state = agent.preprocess(next_state)\n",
    "                \n",
    "                state = np.concatenate((state, next_state), axis=1)\n",
    "            \n",
    "            action = agent.act(state, eps)\n",
    "            next_state, reward, done, _ = env.step(action)\n",
    "            next_state = agent.preprocess(next_state)\n",
    "            next_state = np.concatenate((state, next_state), axis=1)\n",
    "            next_state = next_state[:, 1:, :, :]\n",
    "\n",
    "            agent.memorize(state, action, reward, next_state, done)\n",
    "            state = next_state\n",
    "            score += reward\n",
    "            if done:\n",
    "                break\n",
    "                \n",
    "        scores_window.append(score)\n",
    "        scores.append(score)\n",
    "        eps = max(eps_end, eps_decay*eps)\n",
    "        \n",
    "        print(f'\\rEpisode: {i_episode}, Average Score: {np.mean(scores_window):.2f}', end='')\n",
    "        \n",
    "        if i_episode % PRINT_EVERY == 0:\n",
    "            print(f'\\rEpisode: {i_episode}, Average Score: {np.mean(scores_window):.2f}')\n",
    "        if np.mean(scores_window) >= 60.0:\n",
    "            print(f'\\nEnvironment solved in {i_episode-500:d} episodes! Average Score: {np.mean(scores_window):.2f}')\n",
    "            if not os.path.exists('./agents/'): os.makedirs('./agents/')\n",
    "            torch.save(agent.dqn_net.state_dict(), f'./agents/CNN_DQN_{ENV_NAME}.pth')\n",
    "            \n",
    "    print('Training completed.')\n",
    "    return scores"
   ]
  },
  {
   "cell_type": "code",
   "execution_count": 15,
   "metadata": {
    "scrolled": true
   },
   "outputs": [
    {
     "name": "stdout",
     "output_type": "stream",
     "text": [
      "Episode: 500, Average Score: 4.00\n",
      "Episode: 1000, Average Score: 3.64\n",
      "Episode: 1500, Average Score: 3.01\n",
      "Episode: 2000, Average Score: 2.75\n",
      "Episode: 2500, Average Score: 2.92\n",
      "Episode: 3000, Average Score: 2.63\n",
      "Episode: 3500, Average Score: 4.04\n",
      "Episode: 4000, Average Score: 3.63\n",
      "Episode: 4500, Average Score: 4.96\n",
      "Episode: 5000, Average Score: 3.22\n",
      "Episode: 5500, Average Score: 3.07\n",
      "Episode: 6000, Average Score: 6.55\n",
      "Episode: 6500, Average Score: 6.61\n",
      "Episode: 7000, Average Score: 4.72\n",
      "Episode: 7500, Average Score: 3.85\n",
      "Episode: 8000, Average Score: 4.10\n",
      "Episode: 8500, Average Score: 4.32\n",
      "Episode: 9000, Average Score: 5.00\n",
      "Episode: 9500, Average Score: 6.25\n",
      "Episode: 10000, Average Score: 6.57\n",
      "Episode: 10500, Average Score: 6.07\n",
      "Episode: 11000, Average Score: 5.58\n",
      "Episode: 11500, Average Score: 6.03\n",
      "Episode: 12000, Average Score: 5.75\n",
      "Episode: 12500, Average Score: 6.26\n",
      "Episode: 13000, Average Score: 6.15\n",
      "Episode: 13500, Average Score: 5.98\n",
      "Episode: 14000, Average Score: 5.96\n",
      "Episode: 14500, Average Score: 5.66\n",
      "Episode: 15000, Average Score: 6.18\n",
      "Episode: 15500, Average Score: 6.55\n",
      "Episode: 16000, Average Score: 7.26\n",
      "Episode: 16500, Average Score: 7.35\n",
      "Episode: 17000, Average Score: 7.73\n",
      "Episode: 17500, Average Score: 8.01\n",
      "Episode: 18000, Average Score: 8.32\n",
      "Episode: 18500, Average Score: 8.98\n",
      "Episode: 19000, Average Score: 9.06\n",
      "Episode: 19500, Average Score: 9.37\n",
      "Episode: 20000, Average Score: 9.79\n",
      "Episode: 20500, Average Score: 9.88\n",
      "Episode: 21000, Average Score: 10.38\n",
      "Episode: 21500, Average Score: 10.54\n",
      "Episode: 22000, Average Score: 10.45\n",
      "Episode: 22500, Average Score: 10.78\n",
      "Episode: 23000, Average Score: 11.77\n",
      "Episode: 23500, Average Score: 12.54\n",
      "Episode: 24000, Average Score: 12.85\n",
      "Episode: 24500, Average Score: 13.43\n",
      "Episode: 25000, Average Score: 13.94\n",
      "Episode: 25500, Average Score: 14.30\n",
      "Episode: 26000, Average Score: 14.28\n",
      "Episode: 26500, Average Score: 15.18\n",
      "Episode: 27000, Average Score: 15.32\n",
      "Episode: 27500, Average Score: 16.71\n",
      "Episode: 28000, Average Score: 16.95\n",
      "Episode: 28500, Average Score: 17.86\n",
      "Episode: 29000, Average Score: 18.11\n",
      "Episode: 29500, Average Score: 19.18\n",
      "Episode: 30000, Average Score: 19.20\n",
      "Episode: 30500, Average Score: 20.98\n",
      "Episode: 31000, Average Score: 23.17\n",
      "Episode: 31500, Average Score: 23.90\n",
      "Episode: 32000, Average Score: 24.91\n",
      "Episode: 32500, Average Score: 26.76\n",
      "Episode: 33000, Average Score: 28.98\n",
      "Episode: 33500, Average Score: 30.56\n",
      "Episode: 34000, Average Score: 31.73\n",
      "Episode: 34500, Average Score: 33.01\n",
      "Episode: 35000, Average Score: 36.56\n",
      "Episode: 35500, Average Score: 38.86\n",
      "Episode: 36000, Average Score: 37.30\n",
      "Episode: 36500, Average Score: 40.22\n",
      "Episode: 37000, Average Score: 39.70\n",
      "Episode: 37500, Average Score: 46.43\n",
      "Episode: 38000, Average Score: 49.78\n",
      "Episode: 38500, Average Score: 50.08\n",
      "Episode: 39000, Average Score: 51.71\n",
      "Episode: 39500, Average Score: 53.13\n",
      "Episode: 40000, Average Score: 48.68\n",
      "Episode: 40500, Average Score: 58.78\n",
      "Episode: 41000, Average Score: 54.77\n",
      "Episode: 41500, Average Score: 58.20\n",
      "Episode: 41530, Average Score: 60.06\n",
      "Environment solved in 41030 episodes! Average Score: 60.06\n",
      "Episode: 41531, Average Score: 60.10\n",
      "Environment solved in 41031 episodes! Average Score: 60.10\n",
      "Episode: 42000, Average Score: 57.36\n",
      "Episode: 42500, Average Score: 54.03\n",
      "Episode: 43000, Average Score: 56.47\n",
      "Episode: 43500, Average Score: 51.05\n",
      "Episode: 44000, Average Score: 55.18\n",
      "Episode: 44500, Average Score: 54.66\n",
      "Episode: 45000, Average Score: 49.88\n",
      "Episode: 45500, Average Score: 50.01\n",
      "Episode: 46000, Average Score: 43.75\n",
      "Episode: 46500, Average Score: 45.90\n",
      "Episode: 47000, Average Score: 46.33\n",
      "Episode: 47500, Average Score: 39.69\n",
      "Episode: 48000, Average Score: 39.35\n",
      "Episode: 48500, Average Score: 41.97\n",
      "Episode: 49000, Average Score: 42.59\n",
      "Episode: 49500, Average Score: 44.82\n",
      "Episode: 50000, Average Score: 49.33\n",
      "Training completed.\n"
     ]
    }
   ],
   "source": [
    "scores = train_agent(num_episodes=int(5e4), eps_start=1.0, eps_end=0.1, eps_decay=0.995)"
   ]
  },
  {
   "cell_type": "markdown",
   "metadata": {},
   "source": [
    "## Evaluate The Agent"
   ]
  },
  {
   "cell_type": "code",
   "execution_count": 16,
   "metadata": {},
   "outputs": [
    {
     "data": {
      "image/png": "[encoded data removed]",
      "text/plain": [
       "<Figure size 720x360 with 1 Axes>"
      ]
     },
     "metadata": {},
     "output_type": "display_data"
    }
   ],
   "source": [
    "plt.figure(figsize=(10,5))\n",
    "plt.plot(np.arange(len(scores)), scores, color='green')\n",
    "plt.xlabel('Num of episodes')\n",
    "plt.ylabel('Score')\n",
    "if not os.path.exists('./images/'): os.makedirs('./images/')\n",
    "plt.savefig('./images/plot_of_agent_evaluation.png')\n",
    "plt.show()"
   ]
  },
  {
   "cell_type": "markdown",
   "metadata": {},
   "source": [
    "## 🎬 Watch The Smart Agent"
   ]
  },
  {
   "cell_type": "code",
   "execution_count": 17,
   "metadata": {
    "collapsed": true,
    "scrolled": true
   },
   "outputs": [],
   "source": [
    "# load the weights of smart agent\n",
    "agent.dqn_net.load_state_dict(torch.load(f'./agents/CNN_DQN_{ENV_NAME}.pth'));"
   ]
  },
  {
   "cell_type": "code",
   "execution_count": 18,
   "metadata": {
    "collapsed": true
   },
   "outputs": [],
   "source": [
    "# watch the smart agent\n",
    "agent.watch(num_episodes=3)"
   ]
  },
  {
   "cell_type": "markdown",
   "metadata": {},
   "source": [
    "---"
   ]
  }
 ],
 "metadata": {
  "kernelspec": {
   "display_name": "Python 3",
   "language": "python",
   "name": "python3"
  },
  "language_info": {
   "codemirror_mode": {
    "name": "ipython",
    "version": 3
   },
   "file_extension": ".py",
   "mimetype": "text/x-python",
   "name": "python",
   "nbconvert_exporter": "python",
   "pygments_lexer": "ipython3",
   "version": "3.6.7"
  }
 },
 "nbformat": 4,
 "nbformat_minor": 2
}
