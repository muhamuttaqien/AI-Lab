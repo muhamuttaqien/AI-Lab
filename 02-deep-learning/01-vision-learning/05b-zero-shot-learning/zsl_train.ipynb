{
 "cells": [
  {
   "cell_type": "markdown",
   "metadata": {},
   "source": [
    "# Zero-Shot-Learning Network (Train)"
   ]
  },
  {
   "cell_type": "code",
   "execution_count": 1,
   "metadata": {
    "collapsed": true
   },
   "outputs": [],
   "source": [
    "import os\n",
    "import numpy as np\n",
    "import matplotlib.pyplot as plt\n",
    "import gzip\n",
    "import _pickle as cPikle\n",
    "from collections import Counter"
   ]
  },
  {
   "cell_type": "code",
   "execution_count": 2,
   "metadata": {
    "collapsed": true
   },
   "outputs": [],
   "source": [
    "from sklearn.preprocessing import LabelEncoder, normalize\n",
    "from sklearn.neighbors import KDTree"
   ]
  },
  {
   "cell_type": "code",
   "execution_count": 3,
   "metadata": {},
   "outputs": [
    {
     "name": "stderr",
     "output_type": "stream",
     "text": [
      "/anaconda3/lib/python3.6/site-packages/h5py/__init__.py:34: FutureWarning: Conversion of the second argument of issubdtype from `float` to `np.floating` is deprecated. In future, it will be treated as `np.float64 == np.dtype(float).type`.\n",
      "  from ._conv import register_converters as _register_converters\n",
      "Using TensorFlow backend.\n"
     ]
    }
   ],
   "source": [
    "import keras\n",
    "from keras import backend as K\n",
    "from keras.preprocessing import image\n",
    "from keras.models import Sequential, Model, model_from_json\n",
    "from keras.layers import Dense, Dropout\n",
    "from keras.layers import BatchNormalization\n",
    "from keras.optimizers import Adam\n",
    "from keras.utils import to_categorical"
   ]
  },
  {
   "cell_type": "markdown",
   "metadata": {},
   "source": [
    "## Set Configs"
   ]
  },
  {
   "cell_type": "code",
   "execution_count": 4,
   "metadata": {
    "collapsed": true
   },
   "outputs": [],
   "source": [
    "# collect data from visualgenome.org and \n",
    "# use 20 classes in total where there are 15 classes selected for training classes and 5 classes selected as Zero-Shot classes\n",
    "WORD2VEC_PATH = \"./datasets/class_vectors.npy\" # (class embedding) in numpy data format for 20 defined class to train and test the ZSL model\n",
    "DATASETS_PATH = \"./datasets/zero_shot_data.pkl\" # (image embedding) pickle data of extracted feature vectors\n",
    "MODEL_PATH = \"./weights/\""
   ]
  },
  {
   "cell_type": "code",
   "execution_count": 5,
   "metadata": {
    "collapsed": true
   },
   "outputs": [],
   "source": [
    "NUM_CLASSES = 15\n",
    "NUM_ATTRS = 300\n",
    "BATCH_SIZE = 128\n",
    "LR = 5e-5\n",
    "N_EPOCHS = 50\n",
    "TRAIN_SIZE_PER_CLASS = 300"
   ]
  },
  {
   "cell_type": "code",
   "execution_count": 6,
   "metadata": {},
   "outputs": [
    {
     "name": "stdout",
     "output_type": "stream",
     "text": [
      "Total class: 20\n",
      "Word2vec dimension: 300\n",
      "Total datasets: 7992\n"
     ]
    }
   ],
   "source": [
    "print(\"Total class:\", len(np.load(WORD2VEC_PATH)))\n",
    "print(\"Word2vec dimension:\",np.load(WORD2VEC_PATH)[0][1].shape[0])\n",
    "with gzip.GzipFile(DATASETS_PATH, 'rb') as infile: data = cPikle.load(infile)\n",
    "print(\"Total datasets:\", len(data))"
   ]
  },
  {
   "cell_type": "code",
   "execution_count": 7,
   "metadata": {},
   "outputs": [
    {
     "data": {
      "image/png": "[encoded data removed]",
      "text/plain": [
       "<matplotlib.figure.Figure at 0x1a2749be80>"
      ]
     },
     "metadata": {},
     "output_type": "display_data"
    }
   ],
   "source": [
    "idx_image = 1200\n",
    "extracted_features_sample = np.reshape(data[idx_image][1], (64,64))\n",
    "plt.title(\"Exracted features of class '{}'\".format(data[idx_image][0]))\n",
    "plt.imshow(extracted_features_sample)\n",
    "plt.show()"
   ]
  },
  {
   "cell_type": "markdown",
   "metadata": {},
   "source": [
    "## Set Helpers"
   ]
  },
  {
   "cell_type": "code",
   "execution_count": 8,
   "metadata": {
    "collapsed": true
   },
   "outputs": [],
   "source": [
    "def save_model(model, model_path):\n",
    "    if not os.path.exists(model_path):\n",
    "        os.makedirs(model_path)\n",
    "        \n",
    "    model_json = model.to_json()\n",
    "    with open(model_path + 'zsl_model.json', 'w') as json_file:\n",
    "        json_file.write(model_json)\n",
    "        \n",
    "    model.save_weights(model_path + 'zsl_model.h5')\n",
    "    print(\"ZSL model is saved.\")\n",
    "    return"
   ]
  },
  {
   "cell_type": "code",
   "execution_count": 9,
   "metadata": {
    "collapsed": true
   },
   "outputs": [],
   "source": [
    "def load_data():\n",
    "    \n",
    "    # load datasets in pickle format\n",
    "    with gzip.GzipFile(DATASETS_PATH, 'rb') as infile:\n",
    "        data = cPikle.load(infile)\n",
    "            \n",
    "    # split data for model training process including zero-shot-data as well\n",
    "    not_splitted_train_data = [instance for instance in data if instance[0] in train_classes]\n",
    "    zero_shot_data = [instance for instance in data if instance[0] not in train_classes]\n",
    "    np.random.shuffle(not_splitted_train_data)\n",
    "    \n",
    "    train_size = TRAIN_SIZE_PER_CLASS\n",
    "    train_data = list()\n",
    "    valid_data = list()\n",
    "    \n",
    "    for class_label in train_classes: # consists 15 training classes\n",
    "        ct = 0\n",
    "        for instance in not_splitted_train_data:\n",
    "            if instance[0] == class_label:\n",
    "                if ct < train_size:\n",
    "                    train_data.append(instance)\n",
    "                    ct += 1\n",
    "                    continue\n",
    "                valid_data.append(instance)\n",
    "                \n",
    "    np.random.shuffle(train_data) # shuffle 15*300 train data\n",
    "    np.random.shuffle(valid_data) # shuffle 15*(about)100 valid data\n",
    "    \n",
    "    # one-hot encode label data\n",
    "    label_encoder = LabelEncoder()\n",
    "    label_encoder.fit(train_classes)\n",
    "    \n",
    "    train_data = [(instance[1], to_categorical(label_encoder.transform([instance[0]]), num_classes=NUM_CLASSES)) for instance in train_data]\n",
    "    valid_data = [(instance[1], to_categorical(label_encoder.transform([instance[0]]), num_classes=NUM_CLASSES)) for instance in valid_data]\n",
    "    \n",
    "    # prepare train data\n",
    "    x_train, y_train = zip(*train_data)\n",
    "    x_train, y_train = np.squeeze(np.asarray(x_train)), np.squeeze(np.asarray(y_train))\n",
    "    x_train = normalize(x_train, norm='l2')\n",
    "    \n",
    "    # prepare valid data\n",
    "    x_valid, y_valid = zip(*valid_data)\n",
    "    x_valid, y_valid = np.squeeze(np.asarray(x_valid)), np.squeeze(np.asarray(y_valid))    \n",
    "    x_valid = normalize(x_valid, norm='l2')\n",
    "    \n",
    "    # prepare zero-shot-data\n",
    "    y_zsl, x_zsl = zip(*zero_shot_data)\n",
    "    x_zsl, y_zsl = np.squeeze(np.asarray(x_zsl)), np.squeeze(np.asarray(y_zsl))\n",
    "    x_zsl = normalize(x_zsl, norm='l2')\n",
    "    \n",
    "    print(\"Data loading is completed.\")\n",
    "    return (x_train, x_valid, x_zsl), (y_train, y_valid, y_zsl)"
   ]
  },
  {
   "cell_type": "code",
   "execution_count": 10,
   "metadata": {
    "collapsed": true
   },
   "outputs": [],
   "source": [
    "def custom_kernel_init(shape):\n",
    "    class_vectors = np.load(WORD2VEC_PATH)\n",
    "    # load training vectors 15*300\n",
    "    training_vectors = sorted([(label, vector) for (label, vector) in class_vectors if label in train_classes], key=lambda x: x[0])\n",
    "    _, vectors = zip(*training_vectors)\n",
    "    vectors = np.asarray(vectors, dtype=np.float)\n",
    "    # transpose into 300*15\n",
    "    vectors = vectors.T\n",
    "    \n",
    "    return vectors"
   ]
  },
  {
   "cell_type": "code",
   "execution_count": 11,
   "metadata": {
    "collapsed": true
   },
   "outputs": [],
   "source": [
    "def build_model():\n",
    "    \n",
    "    model = Sequential()\n",
    "    model.add(Dense(1024, input_shape=(4096,), activation='relu'))\n",
    "    model.add(BatchNormalization())\n",
    "    model.add(Dropout(0.8))\n",
    "    \n",
    "    model.add(Dense(512, activation='relu'))\n",
    "    model.add(Dropout(0.5))\n",
    "    \n",
    "    model.add(Dense(256, activation='relu'))\n",
    "    model.add(Dense(NUM_ATTRS, activation='relu'))\n",
    "    \n",
    "    # weights of this layer must be determined using Word2Vecs of the training classes by kernel_initializer \n",
    "    # the layer must be set false to be untrainable\n",
    "    model.add(Dense(NUM_CLASSES, activation='softmax', trainable=False, kernel_initializer=custom_kernel_init))\n",
    "    \n",
    "    print(\"Model is built.\")\n",
    "    return model"
   ]
  },
  {
   "cell_type": "code",
   "execution_count": 12,
   "metadata": {
    "collapsed": true
   },
   "outputs": [],
   "source": [
    "def train_model(model, train_data, valid_data):\n",
    "    \n",
    "    x_train, y_train = train_data\n",
    "    x_valid, y_valid = valid_data\n",
    "    adam = Adam(lr=LR)\n",
    "    model.compile(loss = 'categorical_crossentropy',\n",
    "                  optimizer = adam,\n",
    "                  metrics = ['categorical_accuracy', 'top_k_categorical_accuracy'])\n",
    "    \n",
    "    history = model.fit(x_train, y_train,\n",
    "                        validation_data = (x_valid, y_valid),\n",
    "                        verbose = 2,\n",
    "                        epochs = N_EPOCHS,\n",
    "                        batch_size = BATCH_SIZE,\n",
    "                        shuffle = True)\n",
    "    \n",
    "    print(\"Model training is completed.\")\n",
    "    return history"
   ]
  },
  {
   "cell_type": "code",
   "execution_count": 13,
   "metadata": {
    "collapsed": true
   },
   "outputs": [],
   "source": [
    "def main():\n",
    "    \n",
    "    global train_classes\n",
    "    with open('./classes/train_classes.txt', 'r') as infile:\n",
    "        train_classes = [str.strip(line) for line in infile]\n",
    "        \n",
    "    global zsl_classes\n",
    "    with open('./classes/zsl_classes.txt', 'r') as infile:\n",
    "        zsl_classes = [str.strip(line) for line in infile]\n",
    "    \n",
    "    # -----------------\n",
    "    # Training Process\n",
    "    # -----------------\n",
    "    (x_train, x_valid, x_zsl), (y_train, y_valid, y_zsl) = load_data()\n",
    "    model = build_model()\n",
    "    history = train_model(model, (x_train, y_train), (x_valid, y_valid))\n",
    "    print(model.summary())\n",
    "    \n",
    "    # --------------------------\n",
    "    # Create and save ZSL model\n",
    "    # --------------------------\n",
    "    model_input = model.input\n",
    "    \n",
    "    # the model should give a 300-dimensional vector output for each input image\n",
    "    # remove the last layer of the model which was untrainable and custom-defined\n",
    "    model_output = model.layers[-2].output\n",
    "    zsl_model = Model(model_input, model_output)\n",
    "    print(zsl_model.summary())\n",
    "    save_model(zsl_model, model_path=MODEL_PATH)\n",
    "    \n",
    "    # -------------------------\n",
    "    # Evaluate ZSL performance\n",
    "    # -------------------------\n",
    "    class_vectors = sorted(np.load(WORD2VEC_PATH), key=lambda x: x[0])\n",
    "    class_names, vectors = zip(*class_vectors)\n",
    "    class_names = list(class_names)\n",
    "    vectors = np.asarray(vectors, dtype=np.float)\n",
    "    \n",
    "    tree = KDTree(vectors) # build tree of 20 class vectors\n",
    "    zsl_prediction = zsl_model.predict(x_zsl)\n",
    "    \n",
    "    top5, top3, top1 = 0, 0, 0\n",
    "    for i, prediction in enumerate(zsl_prediction):\n",
    "        prediction = np.expand_dims(prediction, axis=0)\n",
    "        dist_5, index_5 = tree.query(prediction, k=5) # use euclidean distance metric to calculate distance\n",
    "        prediction_labels = [class_names[index] for index in index_5[0]]\n",
    "        true_label = y_zsl[i]\n",
    "        if true_label in prediction_labels:\n",
    "            top5 += 1\n",
    "        if true_label in prediction_labels[3]:\n",
    "            top3 += 1\n",
    "        if true_label in prediction_labels[0]:\n",
    "            top1 += 1\n",
    "            \n",
    "    print(\"# --------------------------\")\n",
    "    print(\"# Zero-Shot Learning Score:\")\n",
    "    print(\"# --------------------------\")\n",
    "    print(\"Top-5 Accuracy: %.2f%%\" % (100. * top5/ float(len(x_zsl))))\n",
    "    print(\"Top-3 Accuracy: %.2f%%\" % (100. * top3/ float(len(x_zsl))))\n",
    "    print(\"Top-1 Accuracy: %.2f%%\" % (100. * top1/ float(len(x_zsl))))\n",
    "    return history"
   ]
  },
  {
   "cell_type": "code",
   "execution_count": 14,
   "metadata": {
    "scrolled": false
   },
   "outputs": [
    {
     "name": "stdout",
     "output_type": "stream",
     "text": [
      "Data loading is completed.\n",
      "Model is built.\n",
      "Train on 4500 samples, validate on 1493 samples\n",
      "Epoch 1/50\n",
      " - 7s - loss: 2.8835 - categorical_accuracy: 0.0931 - top_k_categorical_accuracy: 0.4107 - val_loss: 2.4777 - val_categorical_accuracy: 0.2612 - val_top_k_categorical_accuracy: 0.6966\n",
      "Epoch 2/50\n",
      " - 5s - loss: 2.5938 - categorical_accuracy: 0.1551 - top_k_categorical_accuracy: 0.5244 - val_loss: 2.2861 - val_categorical_accuracy: 0.3577 - val_top_k_categorical_accuracy: 0.7997\n",
      "Epoch 3/50\n",
      " - 6s - loss: 2.3826 - categorical_accuracy: 0.2160 - top_k_categorical_accuracy: 0.6267 - val_loss: 2.1020 - val_categorical_accuracy: 0.3791 - val_top_k_categorical_accuracy: 0.8352\n",
      "Epoch 4/50\n",
      " - 5s - loss: 2.2480 - categorical_accuracy: 0.2516 - top_k_categorical_accuracy: 0.6849 - val_loss: 1.9343 - val_categorical_accuracy: 0.4079 - val_top_k_categorical_accuracy: 0.8547\n",
      "Epoch 5/50\n",
      " - 5s - loss: 2.0857 - categorical_accuracy: 0.2862 - top_k_categorical_accuracy: 0.7489 - val_loss: 1.7989 - val_categorical_accuracy: 0.4267 - val_top_k_categorical_accuracy: 0.8667\n",
      "Epoch 6/50\n",
      " - 5s - loss: 1.9695 - categorical_accuracy: 0.3120 - top_k_categorical_accuracy: 0.7907 - val_loss: 1.6976 - val_categorical_accuracy: 0.4380 - val_top_k_categorical_accuracy: 0.8768\n",
      "Epoch 7/50\n",
      " - 5s - loss: 1.8705 - categorical_accuracy: 0.3382 - top_k_categorical_accuracy: 0.8149 - val_loss: 1.6176 - val_categorical_accuracy: 0.4468 - val_top_k_categorical_accuracy: 0.8975\n",
      "Epoch 8/50\n",
      " - 5s - loss: 1.8075 - categorical_accuracy: 0.3560 - top_k_categorical_accuracy: 0.8311 - val_loss: 1.5534 - val_categorical_accuracy: 0.4581 - val_top_k_categorical_accuracy: 0.9069\n",
      "Epoch 9/50\n",
      " - 6s - loss: 1.7249 - categorical_accuracy: 0.3869 - top_k_categorical_accuracy: 0.8540 - val_loss: 1.4998 - val_categorical_accuracy: 0.4735 - val_top_k_categorical_accuracy: 0.9096\n",
      "Epoch 10/50\n",
      " - 6s - loss: 1.6735 - categorical_accuracy: 0.3960 - top_k_categorical_accuracy: 0.8676 - val_loss: 1.4650 - val_categorical_accuracy: 0.4749 - val_top_k_categorical_accuracy: 0.9129\n",
      "Epoch 11/50\n",
      " - 5s - loss: 1.5931 - categorical_accuracy: 0.4262 - top_k_categorical_accuracy: 0.8758 - val_loss: 1.4264 - val_categorical_accuracy: 0.4836 - val_top_k_categorical_accuracy: 0.9210\n",
      "Epoch 12/50\n",
      " - 6s - loss: 1.5694 - categorical_accuracy: 0.4247 - top_k_categorical_accuracy: 0.8891 - val_loss: 1.3944 - val_categorical_accuracy: 0.4869 - val_top_k_categorical_accuracy: 0.9236\n",
      "Epoch 13/50\n",
      " - 5s - loss: 1.5416 - categorical_accuracy: 0.4420 - top_k_categorical_accuracy: 0.8900 - val_loss: 1.3742 - val_categorical_accuracy: 0.5010 - val_top_k_categorical_accuracy: 0.9230\n",
      "Epoch 14/50\n",
      " - 5s - loss: 1.5058 - categorical_accuracy: 0.4538 - top_k_categorical_accuracy: 0.8942 - val_loss: 1.3500 - val_categorical_accuracy: 0.5044 - val_top_k_categorical_accuracy: 0.9243\n",
      "Epoch 15/50\n",
      " - 6s - loss: 1.4744 - categorical_accuracy: 0.4609 - top_k_categorical_accuracy: 0.8993 - val_loss: 1.3340 - val_categorical_accuracy: 0.5037 - val_top_k_categorical_accuracy: 0.9230\n",
      "Epoch 16/50\n",
      " - 5s - loss: 1.4456 - categorical_accuracy: 0.4716 - top_k_categorical_accuracy: 0.9071 - val_loss: 1.3221 - val_categorical_accuracy: 0.5050 - val_top_k_categorical_accuracy: 0.9283\n",
      "Epoch 17/50\n",
      " - 5s - loss: 1.4119 - categorical_accuracy: 0.4867 - top_k_categorical_accuracy: 0.9109 - val_loss: 1.3013 - val_categorical_accuracy: 0.5111 - val_top_k_categorical_accuracy: 0.9317\n",
      "Epoch 18/50\n",
      " - 5s - loss: 1.3966 - categorical_accuracy: 0.4929 - top_k_categorical_accuracy: 0.9129 - val_loss: 1.2890 - val_categorical_accuracy: 0.5177 - val_top_k_categorical_accuracy: 0.9303\n",
      "Epoch 19/50\n",
      " - 5s - loss: 1.3681 - categorical_accuracy: 0.4936 - top_k_categorical_accuracy: 0.9149 - val_loss: 1.2799 - val_categorical_accuracy: 0.5204 - val_top_k_categorical_accuracy: 0.9357\n",
      "Epoch 20/50\n",
      " - 5s - loss: 1.3494 - categorical_accuracy: 0.5056 - top_k_categorical_accuracy: 0.9231 - val_loss: 1.2640 - val_categorical_accuracy: 0.5218 - val_top_k_categorical_accuracy: 0.9417\n",
      "Epoch 21/50\n",
      " - 6s - loss: 1.3069 - categorical_accuracy: 0.5173 - top_k_categorical_accuracy: 0.9258 - val_loss: 1.2591 - val_categorical_accuracy: 0.5318 - val_top_k_categorical_accuracy: 0.9397\n",
      "Epoch 22/50\n",
      " - 6s - loss: 1.3124 - categorical_accuracy: 0.5120 - top_k_categorical_accuracy: 0.9296 - val_loss: 1.2476 - val_categorical_accuracy: 0.5258 - val_top_k_categorical_accuracy: 0.9417\n",
      "Epoch 23/50\n",
      " - 5s - loss: 1.2743 - categorical_accuracy: 0.5287 - top_k_categorical_accuracy: 0.9302 - val_loss: 1.2412 - val_categorical_accuracy: 0.5378 - val_top_k_categorical_accuracy: 0.9411\n",
      "Epoch 24/50\n",
      " - 5s - loss: 1.2504 - categorical_accuracy: 0.5324 - top_k_categorical_accuracy: 0.9347 - val_loss: 1.2391 - val_categorical_accuracy: 0.5405 - val_top_k_categorical_accuracy: 0.9417\n",
      "Epoch 25/50\n",
      " - 5s - loss: 1.2484 - categorical_accuracy: 0.5440 - top_k_categorical_accuracy: 0.9313 - val_loss: 1.2239 - val_categorical_accuracy: 0.5439 - val_top_k_categorical_accuracy: 0.9417\n",
      "Epoch 26/50\n",
      " - 5s - loss: 1.2222 - categorical_accuracy: 0.5513 - top_k_categorical_accuracy: 0.9367 - val_loss: 1.2167 - val_categorical_accuracy: 0.5512 - val_top_k_categorical_accuracy: 0.9417\n",
      "Epoch 27/50\n",
      " - 5s - loss: 1.2208 - categorical_accuracy: 0.5456 - top_k_categorical_accuracy: 0.9407 - val_loss: 1.2122 - val_categorical_accuracy: 0.5499 - val_top_k_categorical_accuracy: 0.9417\n",
      "Epoch 28/50\n",
      " - 6s - loss: 1.1994 - categorical_accuracy: 0.5604 - top_k_categorical_accuracy: 0.9396 - val_loss: 1.2057 - val_categorical_accuracy: 0.5499 - val_top_k_categorical_accuracy: 0.9451\n",
      "Epoch 29/50\n",
      " - 5s - loss: 1.1774 - categorical_accuracy: 0.5700 - top_k_categorical_accuracy: 0.9436 - val_loss: 1.2008 - val_categorical_accuracy: 0.5626 - val_top_k_categorical_accuracy: 0.9464\n",
      "Epoch 30/50\n",
      " - 5s - loss: 1.1558 - categorical_accuracy: 0.5731 - top_k_categorical_accuracy: 0.9413 - val_loss: 1.1953 - val_categorical_accuracy: 0.5613 - val_top_k_categorical_accuracy: 0.9478\n",
      "Epoch 31/50\n",
      " - 5s - loss: 1.1520 - categorical_accuracy: 0.5684 - top_k_categorical_accuracy: 0.9469 - val_loss: 1.1917 - val_categorical_accuracy: 0.5599 - val_top_k_categorical_accuracy: 0.9464\n",
      "Epoch 32/50\n",
      " - 5s - loss: 1.1249 - categorical_accuracy: 0.5827 - top_k_categorical_accuracy: 0.9536 - val_loss: 1.1947 - val_categorical_accuracy: 0.5680 - val_top_k_categorical_accuracy: 0.9498\n",
      "Epoch 33/50\n",
      " - 6s - loss: 1.1244 - categorical_accuracy: 0.5882 - top_k_categorical_accuracy: 0.9491 - val_loss: 1.1785 - val_categorical_accuracy: 0.5666 - val_top_k_categorical_accuracy: 0.9484\n",
      "Epoch 34/50\n",
      " - 5s - loss: 1.1069 - categorical_accuracy: 0.5856 - top_k_categorical_accuracy: 0.9500 - val_loss: 1.1797 - val_categorical_accuracy: 0.5660 - val_top_k_categorical_accuracy: 0.9484\n",
      "Epoch 35/50\n",
      " - 6s - loss: 1.0876 - categorical_accuracy: 0.5958 - top_k_categorical_accuracy: 0.9511 - val_loss: 1.1769 - val_categorical_accuracy: 0.5666 - val_top_k_categorical_accuracy: 0.9478\n",
      "Epoch 36/50\n",
      " - 5s - loss: 1.0871 - categorical_accuracy: 0.5851 - top_k_categorical_accuracy: 0.9564 - val_loss: 1.1726 - val_categorical_accuracy: 0.5646 - val_top_k_categorical_accuracy: 0.9457\n",
      "Epoch 37/50\n",
      " - 6s - loss: 1.0615 - categorical_accuracy: 0.6058 - top_k_categorical_accuracy: 0.9551 - val_loss: 1.1710 - val_categorical_accuracy: 0.5666 - val_top_k_categorical_accuracy: 0.9471\n",
      "Epoch 38/50\n",
      " - 5s - loss: 1.0351 - categorical_accuracy: 0.6156 - top_k_categorical_accuracy: 0.9620 - val_loss: 1.1687 - val_categorical_accuracy: 0.5707 - val_top_k_categorical_accuracy: 0.9444\n",
      "Epoch 39/50\n",
      " - 5s - loss: 1.0365 - categorical_accuracy: 0.6184 - top_k_categorical_accuracy: 0.9564 - val_loss: 1.1660 - val_categorical_accuracy: 0.5733 - val_top_k_categorical_accuracy: 0.9457\n",
      "Epoch 40/50\n",
      " - 5s - loss: 1.0268 - categorical_accuracy: 0.6116 - top_k_categorical_accuracy: 0.9584 - val_loss: 1.1649 - val_categorical_accuracy: 0.5693 - val_top_k_categorical_accuracy: 0.9478\n",
      "Epoch 41/50\n",
      " - 5s - loss: 1.0159 - categorical_accuracy: 0.6358 - top_k_categorical_accuracy: 0.9593 - val_loss: 1.1593 - val_categorical_accuracy: 0.5767 - val_top_k_categorical_accuracy: 0.9478\n",
      "Epoch 42/50\n",
      " - 5s - loss: 0.9812 - categorical_accuracy: 0.6344 - top_k_categorical_accuracy: 0.9671 - val_loss: 1.1615 - val_categorical_accuracy: 0.5780 - val_top_k_categorical_accuracy: 0.9504\n"
     ]
    },
    {
     "name": "stdout",
     "output_type": "stream",
     "text": [
      "Epoch 43/50\n",
      " - 5s - loss: 0.9801 - categorical_accuracy: 0.6369 - top_k_categorical_accuracy: 0.9649 - val_loss: 1.1595 - val_categorical_accuracy: 0.5780 - val_top_k_categorical_accuracy: 0.9498\n",
      "Epoch 44/50\n",
      " - 5s - loss: 0.9552 - categorical_accuracy: 0.6456 - top_k_categorical_accuracy: 0.9631 - val_loss: 1.1567 - val_categorical_accuracy: 0.5807 - val_top_k_categorical_accuracy: 0.9504\n",
      "Epoch 45/50\n",
      " - 5s - loss: 0.9545 - categorical_accuracy: 0.6489 - top_k_categorical_accuracy: 0.9673 - val_loss: 1.1548 - val_categorical_accuracy: 0.5780 - val_top_k_categorical_accuracy: 0.9518\n",
      "Epoch 46/50\n",
      " - 5s - loss: 0.9494 - categorical_accuracy: 0.6480 - top_k_categorical_accuracy: 0.9656 - val_loss: 1.1472 - val_categorical_accuracy: 0.5774 - val_top_k_categorical_accuracy: 0.9504\n",
      "Epoch 47/50\n",
      " - 5s - loss: 0.9479 - categorical_accuracy: 0.6491 - top_k_categorical_accuracy: 0.9687 - val_loss: 1.1498 - val_categorical_accuracy: 0.5774 - val_top_k_categorical_accuracy: 0.9531\n",
      "Epoch 48/50\n",
      " - 5s - loss: 0.9200 - categorical_accuracy: 0.6589 - top_k_categorical_accuracy: 0.9676 - val_loss: 1.1441 - val_categorical_accuracy: 0.5760 - val_top_k_categorical_accuracy: 0.9524\n",
      "Epoch 49/50\n",
      " - 5s - loss: 0.8993 - categorical_accuracy: 0.6613 - top_k_categorical_accuracy: 0.9689 - val_loss: 1.1497 - val_categorical_accuracy: 0.5727 - val_top_k_categorical_accuracy: 0.9531\n",
      "Epoch 50/50\n",
      " - 6s - loss: 0.8996 - categorical_accuracy: 0.6656 - top_k_categorical_accuracy: 0.9693 - val_loss: 1.1451 - val_categorical_accuracy: 0.5774 - val_top_k_categorical_accuracy: 0.9524\n",
      "Model training is completed.\n",
      "_________________________________________________________________\n",
      "Layer (type)                 Output Shape              Param #   \n",
      "=================================================================\n",
      "dense_1 (Dense)              (None, 1024)              4195328   \n",
      "_________________________________________________________________\n",
      "batch_normalization_1 (Batch (None, 1024)              4096      \n",
      "_________________________________________________________________\n",
      "dropout_1 (Dropout)          (None, 1024)              0         \n",
      "_________________________________________________________________\n",
      "dense_2 (Dense)              (None, 512)               524800    \n",
      "_________________________________________________________________\n",
      "dropout_2 (Dropout)          (None, 512)               0         \n",
      "_________________________________________________________________\n",
      "dense_3 (Dense)              (None, 256)               131328    \n",
      "_________________________________________________________________\n",
      "dense_4 (Dense)              (None, 300)               77100     \n",
      "_________________________________________________________________\n",
      "dense_5 (Dense)              (None, 15)                4515      \n",
      "=================================================================\n",
      "Total params: 4,937,167\n",
      "Trainable params: 4,930,604\n",
      "Non-trainable params: 6,563\n",
      "_________________________________________________________________\n",
      "None\n",
      "_________________________________________________________________\n",
      "Layer (type)                 Output Shape              Param #   \n",
      "=================================================================\n",
      "dense_1_input (InputLayer)   (None, 4096)              0         \n",
      "_________________________________________________________________\n",
      "dense_1 (Dense)              (None, 1024)              4195328   \n",
      "_________________________________________________________________\n",
      "batch_normalization_1 (Batch (None, 1024)              4096      \n",
      "_________________________________________________________________\n",
      "dropout_1 (Dropout)          (None, 1024)              0         \n",
      "_________________________________________________________________\n",
      "dense_2 (Dense)              (None, 512)               524800    \n",
      "_________________________________________________________________\n",
      "dropout_2 (Dropout)          (None, 512)               0         \n",
      "_________________________________________________________________\n",
      "dense_3 (Dense)              (None, 256)               131328    \n",
      "_________________________________________________________________\n",
      "dense_4 (Dense)              (None, 300)               77100     \n",
      "=================================================================\n",
      "Total params: 4,932,652\n",
      "Trainable params: 4,930,604\n",
      "Non-trainable params: 2,048\n",
      "_________________________________________________________________\n",
      "None\n",
      "ZSL model is saved.\n",
      "# --------------------------\n",
      "# Zero-Shot Learning Score:\n",
      "# --------------------------\n",
      "Top-5 Accuracy: 69.83%\n",
      "Top-3 Accuracy: 21.11%\n",
      "Top-1 Accuracy: 8.30%\n"
     ]
    }
   ],
   "source": [
    "if __name__ == '__main__':\n",
    "    history = main()"
   ]
  },
  {
   "cell_type": "code",
   "execution_count": 15,
   "metadata": {},
   "outputs": [
    {
     "data": {
      "image/png": "[encoded data removed]",
      "text/plain": [
       "<matplotlib.figure.Figure at 0x114f6d240>"
      ]
     },
     "metadata": {},
     "output_type": "display_data"
    }
   ],
   "source": [
    "plt.figure(figsize=(10,5))\n",
    "plt.title(\"Train & Valid Loss of ZSL Network\")\n",
    "plt.plot(history.history['loss'], label=\"Train Loss\")\n",
    "plt.plot(history.history['val_loss'], label=\"Valid Loss\")\n",
    "plt.xlabel(\"Epoch\")\n",
    "plt.ylabel(\"Loss\")\n",
    "plt.legend()\n",
    "\n",
    "if not os.path.exists('./images/'): os.makedirs('./images/')\n",
    "plt.savefig('./images/final_loss.png')\n",
    "plt.show()"
   ]
  },
  {
   "cell_type": "code",
   "execution_count": 16,
   "metadata": {},
   "outputs": [
    {
     "data": {
      "image/png": "[encoded data removed]",
      "text/plain": [
       "<matplotlib.figure.Figure at 0x1a276a2358>"
      ]
     },
     "metadata": {},
     "output_type": "display_data"
    }
   ],
   "source": [
    "plt.figure(figsize=(10,5))\n",
    "plt.title(\"Train & Valid Accuracy of ZSL Network\")\n",
    "plt.plot(history.history['categorical_accuracy'], label=\"Train Accuracy\")\n",
    "plt.plot(history.history['val_categorical_accuracy'], label=\"Valid Accuracy\")\n",
    "plt.xlabel(\"Epoch\")\n",
    "plt.ylabel(\"Accuracy\")\n",
    "plt.legend()\n",
    "\n",
    "if not os.path.exists('./images/'): os.makedirs('./images/')\n",
    "plt.savefig('./images/final_categorical_accuracy.png')\n",
    "plt.show()"
   ]
  },
  {
   "cell_type": "code",
   "execution_count": 17,
   "metadata": {},
   "outputs": [
    {
     "data": {
      "image/png": "[encoded data removed]",
      "text/plain": [
       "<matplotlib.figure.Figure at 0x114f92f28>"
      ]
     },
     "metadata": {},
     "output_type": "display_data"
    }
   ],
   "source": [
    "plt.figure(figsize=(10,5))\n",
    "plt.title(\"Train & Valid Top-K Accuracy of ZSL Network\")\n",
    "plt.plot(history.history['top_k_categorical_accuracy'], label=\"Train Accuracy\")\n",
    "plt.plot(history.history['val_top_k_categorical_accuracy'], label=\"Valid Accuracy\")\n",
    "plt.xlabel(\"Epoch\")\n",
    "plt.ylabel(\"Accuracy\")\n",
    "plt.legend()\n",
    "\n",
    "if not os.path.exists('./images/'): os.makedirs('./images/')\n",
    "plt.savefig('./images/final_categorical_top_k_accuracy.png')\n",
    "plt.show()"
   ]
  },
  {
   "cell_type": "markdown",
   "metadata": {},
   "source": [
    "---"
   ]
  }
 ],
 "metadata": {
  "kernelspec": {
   "display_name": "Python 3",
   "language": "python",
   "name": "python3"
  },
  "language_info": {
   "codemirror_mode": {
    "name": "ipython",
    "version": 3
   },
   "file_extension": ".py",
   "mimetype": "text/x-python",
   "name": "python",
   "nbconvert_exporter": "python",
   "pygments_lexer": "ipython3",
   "version": "3.6.3"
  }
 },
 "nbformat": 4,
 "nbformat_minor": 2
}
