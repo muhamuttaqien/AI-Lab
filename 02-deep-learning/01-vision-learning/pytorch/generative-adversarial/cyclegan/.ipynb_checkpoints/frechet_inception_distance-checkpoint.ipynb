{
 "cells": [
  {
   "cell_type": "markdown",
   "metadata": {},
   "source": [
    "# GAN Evaluation - Frechet Inception Distance (FID) Score"
   ]
  },
  {
   "cell_type": "markdown",
   "metadata": {},
   "source": [
    "## Basic [Concept](https://machinelearningmastery.com/how-to-implement-the-frechet-inception-distance-fid-from-scratch/)"
   ]
  },
  {
   "cell_type": "code",
   "execution_count": 1,
   "metadata": {},
   "outputs": [],
   "source": [
    "import numpy as np\n",
    "from numpy import cov\n",
    "from numpy import trace\n",
    "from numpy import iscomplexobj\n",
    "from numpy.random import random\n",
    "\n",
    "from scipy.linalg import sqrtm"
   ]
  },
  {
   "cell_type": "code",
   "execution_count": 2,
   "metadata": {},
   "outputs": [],
   "source": [
    "def calculate_fid_score(fvector1, fvector2):\n",
    "    # calculate mean and covariance statistics\n",
    "    mean1, sigma1 = fvector1.mean(axis=0), cov(fvector1, rowvar=False)\n",
    "    mean2, sigma2 = fvector2.mean(axis=0), cov(fvector2, rowvar=False)\n",
    "    \n",
    "    # calculate sum squared difference between two mean vectors\n",
    "    ssdiff = np.sum((mean1 - mean2) ** 2.0)\n",
    "    \n",
    "    # calculate sqrt of product between two covariance metrics\n",
    "    covmean = sqrtm(sigma1.dot(sigma2))\n",
    "    \n",
    "    # some elements in the resulting matrix may be imaginary\n",
    "    # check and correct imaginary numbers from sqrt\n",
    "    if iscomplexobj(covmean):\n",
    "        covmean = covmean.real\n",
    "        \n",
    "    # calculate score\n",
    "    fid = ssdiff + trace(sigma1 + sigma2 - 2.0 * covmean)\n",
    "    return fid"
   ]
  },
  {
   "cell_type": "code",
   "execution_count": 3,
   "metadata": {},
   "outputs": [],
   "source": [
    "# define two collections of activations\n",
    "fvector1 = random(10*2048)\n",
    "fvector1 = fvector1.reshape((10,2048))\n",
    "fvector2 = random(10*2048)\n",
    "fvector2 = fvector2.reshape((10,2048))"
   ]
  },
  {
   "cell_type": "code",
   "execution_count": 4,
   "metadata": {},
   "outputs": [
    {
     "name": "stdout",
     "output_type": "stream",
     "text": [
      "FID (identical feature vectors): -0.000\n"
     ]
    }
   ],
   "source": [
    "# fid between act1 and act1\n",
    "fid = calculate_fid_score(fvector1, fvector1)\n",
    "print('FID (identical feature vectors): %.3f' % fid)"
   ]
  },
  {
   "cell_type": "code",
   "execution_count": 5,
   "metadata": {},
   "outputs": [
    {
     "name": "stdout",
     "output_type": "stream",
     "text": [
      "FID (different feature vectors): 356.899\n"
     ]
    }
   ],
   "source": [
    "# fid between act1 and act2\n",
    "fid = calculate_fid_score(fvector1, fvector2)\n",
    "print('FID (different feature vectors): %.3f' % fid)"
   ]
  },
  {
   "cell_type": "markdown",
   "metadata": {},
   "source": [
    "## FID in Pytorch"
   ]
  },
  {
   "cell_type": "code",
   "execution_count": 6,
   "metadata": {},
   "outputs": [],
   "source": [
    "import torch\n",
    "from torch import nn\n",
    "from torch.autograd import Variable\n",
    "from torch.nn import functional as F\n",
    "import torch.utils.data\n",
    "from torch.utils.data import Dataset\n",
    "\n",
    "from torchvision.models.inception import inception_v3"
   ]
  },
  {
   "cell_type": "code",
   "execution_count": 7,
   "metadata": {},
   "outputs": [],
   "source": [
    "def calculate_fid_score(real_images, fake_images, batch_size=8, resize=False, cuda=False):\n",
    "       \n",
    "    N_real = len(real_images)\n",
    "    N_fake = len(fake_images)\n",
    "    \n",
    "    assert batch_size > 0\n",
    "    assert N_real > batch_size\n",
    "    assert N_fake > batch_size\n",
    "    \n",
    "    # set up dtype for inception v3 model\n",
    "    if cuda:\n",
    "        dtype = torch.cuda.FloatTensor\n",
    "    else:\n",
    "        if torch.cuda.is_available():\n",
    "            print(\"WARNING: You have a CUDA device, so you should probably set cuda=True\")\n",
    "        dtype = torch.FloatTensor\n",
    "        \n",
    "    # set up dataloader\n",
    "    dl_real = torch.utils.data.DataLoader(real_images, batch_size=batch_size)\n",
    "    dl_fake = torch.utils.data.DataLoader(fake_images, batch_size=batch_size)\n",
    "    \n",
    "    # load inception model\n",
    "    print(\"Loading Inception V3 model...\")\n",
    "    inception_model = inception_v3(pretrained=True, transform_input=False).type(dtype)\n",
    "    \n",
    "    # exclude top layer (not sure the way to exclude the layer, please figure out later)\n",
    "    without_top_layer = list(inception_model.children())[:-4]\n",
    "    inception_model = nn.Sequential(*without_top_layer)\n",
    "    \n",
    "    inception_model.eval()\n",
    "    \n",
    "    up = nn.Upsample(size=(299, 299), mode='bilinear', align_corners=False).type(dtype)\n",
    "    def get_feature_vectores(x1, x2):\n",
    "        if resize:\n",
    "            x1 = up(x1)\n",
    "            x2 = up(x2)\n",
    "        fvector1 = inception_model(x1)\n",
    "        fvector2 = inception_model(x2)\n",
    "        return fvector1.data.cpu().numpy(), fvector2.data.cpu().numpy()\n",
    "    \n",
    "    # get feature vectores of real and fake images\n",
    "    print(\"Getting feature vectores of real and fake images...\")\n",
    "    \n",
    "    fid_scores = []\n",
    "    for i, (images) in enumerate(zip(dl_real, dl_fake)):\n",
    "\n",
    "        # limit images batches to compare with\n",
    "        if i == 20: break\n",
    "            \n",
    "        images_real = images[0].type(dtype)\n",
    "        images_fake = images[1].type(dtype)\n",
    "        \n",
    "        images_realv = Variable(images_real)\n",
    "        images_fakev = Variable(images_fake)\n",
    "\n",
    "        fvector1, fvector2 = get_feature_vectores(images_realv, images_fakev)\n",
    "        \n",
    "        # calculate mean and covariance statistics\n",
    "        mean1, sigma1 = fvector1.mean(axis=0), cov(fvector1, rowvar=False)\n",
    "        mean2, sigma2 = fvector2.mean(axis=0), cov(fvector2, rowvar=False)\n",
    "\n",
    "        # calculate sum squared difference between two mean vectors\n",
    "        ssdiff = np.sum((mean1 - mean2) ** 2.0)\n",
    "        \n",
    "        # calculate sqrt of product between two covariance metrics\n",
    "        covmean = sqrtm(sigma1.dot(sigma2))\n",
    "        \n",
    "        # some elements in the resulting matrix may be imaginary\n",
    "        # check and correct imaginary numbers from sqrt\n",
    "        if iscomplexobj(covmean):\n",
    "            covmean = covmean.real\n",
    "\n",
    "        # calculate score\n",
    "        fid = ssdiff + trace(sigma1 + sigma2 - 2.0 * covmean)\n",
    "        fid_scores.append(fid)\n",
    "        \n",
    "    return np.mean(fid_scores)"
   ]
  },
  {
   "cell_type": "code",
   "execution_count": 8,
   "metadata": {},
   "outputs": [
    {
     "name": "stdout",
     "output_type": "stream",
     "text": [
      "Files already downloaded and verified\n"
     ]
    }
   ],
   "source": [
    "import torchvision.datasets as dset\n",
    "import torchvision.transforms as transforms\n",
    "\n",
    "cifar = dset.CIFAR10(root='data/', download=True,\n",
    "                         transform=transforms.Compose([\n",
    "                             transforms.Resize(32),\n",
    "                             transforms.ToTensor(),\n",
    "                             transforms.Normalize((0.5, 0.5, 0.5), (0.5, 0.5, 0.5))\n",
    "                         ])\n",
    ")\n",
    "\n",
    "class IgnoreLabelDataset(torch.utils.data.Dataset):\n",
    "    def __init__(self, orig):\n",
    "        self.orig = orig\n",
    "\n",
    "    def __getitem__(self, index):\n",
    "        return self.orig[index][0]\n",
    "\n",
    "    def __len__(self):\n",
    "        return len(self.orig)"
   ]
  },
  {
   "cell_type": "code",
   "execution_count": 9,
   "metadata": {},
   "outputs": [
    {
     "name": "stdout",
     "output_type": "stream",
     "text": [
      "Calculating Inception Score...\n",
      "Loading Inception V3 model...\n",
      "Getting feature vectores of real and fake images...\n",
      "FID score: -0.00028930964644207355\n"
     ]
    }
   ],
   "source": [
    "print(\"Calculating Inception Score...\")\n",
    "fid_score = calculate_fid_score(real_images=IgnoreLabelDataset(cifar), \n",
    "                                fake_images=IgnoreLabelDataset(cifar), \n",
    "                                batch_size=4, resize=True, cuda=True)\n",
    "print(\"FID score:\",fid_score)"
   ]
  },
  {
   "cell_type": "markdown",
   "metadata": {},
   "source": [
    "## *Experiments with Inception Model"
   ]
  },
  {
   "cell_type": "code",
   "execution_count": null,
   "metadata": {},
   "outputs": [],
   "source": [
    "from numpy.random import randint\n",
    "\n",
    "# define two fake collections of images\n",
    "images1 = randint(0, 255, 10*299*299*3)\n",
    "images1 = images1.reshape((10,3,299,299))\n",
    "images1 = torch.from_numpy(images1)\n",
    "images1 = images1.type(torch.cuda.FloatTensor)\n",
    "images1 = Variable(images1)\n",
    "\n",
    "print(\"Loading Inception V3 model...\")\n",
    "inception_model = inception_v3(pretrained=True, transform_input=False).type(torch.cuda.FloatTensor)\n",
    "\n",
    "# exclude top layer\n",
    "without_top_layer = list(inception_model.children())[:-4]\n",
    "inception_model = nn.Sequential(*without_top_layer)\n",
    "inception_model.eval()\n",
    "fvector1 = inception_model(images1)"
   ]
  },
  {
   "cell_type": "markdown",
   "metadata": {},
   "source": [
    "---"
   ]
  }
 ],
 "metadata": {
  "kernelspec": {
   "display_name": "Python 3",
   "language": "python",
   "name": "python3"
  },
  "language_info": {
   "codemirror_mode": {
    "name": "ipython",
    "version": 3
   },
   "file_extension": ".py",
   "mimetype": "text/x-python",
   "name": "python",
   "nbconvert_exporter": "python",
   "pygments_lexer": "ipython3",
   "version": "3.7.3"
  }
 },
 "nbformat": 4,
 "nbformat_minor": 2
}
