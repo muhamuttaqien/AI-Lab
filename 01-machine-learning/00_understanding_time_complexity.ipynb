{
 "cells": [
  {
   "cell_type": "code",
   "execution_count": 1,
   "metadata": {
    "collapsed": true
   },
   "outputs": [],
   "source": [
    "import time"
   ]
  },
  {
   "cell_type": "markdown",
   "metadata": {},
   "source": [
    "## Constant Time — O(1)"
   ]
  },
  {
   "cell_type": "code",
   "execution_count": 2,
   "metadata": {
    "collapsed": true
   },
   "outputs": [],
   "source": [
    "def get_first(data):\n",
    "    return data[0]"
   ]
  },
  {
   "cell_type": "code",
   "execution_count": 3,
   "metadata": {},
   "outputs": [
    {
     "name": "stdout",
     "output_type": "stream",
     "text": [
      "Result: 1\n",
      "Runtime: 0.000\n"
     ]
    }
   ],
   "source": [
    "data = [1, 2, 9, 8, 3, 4, 7, 6, 5]\n",
    "\n",
    "tick = time.time()\n",
    "result = get_first(data)\n",
    "print(f'Result: {result}')\n",
    "tock = time.time()\n",
    "\n",
    "print(f'Runtime: {tock-tick:.3f}')"
   ]
  },
  {
   "cell_type": "code",
   "execution_count": 4,
   "metadata": {},
   "outputs": [
    {
     "name": "stdout",
     "output_type": "stream",
     "text": [
      "Result: 1\n",
      "Runtime: 0.001\n"
     ]
    }
   ],
   "source": [
    "data = data = [1, 2, 9, 8, 3, 4, 7, 6, 5, 1, 2, 9, 8, 3, 4, 7, 6, 5]\n",
    "\n",
    "tick = time.time()\n",
    "result = get_first(data)\n",
    "print(f'Result: {result}')\n",
    "tock = time.time()\n",
    "\n",
    "print(f'Runtime: {tock-tick:.3f}')"
   ]
  },
  {
   "cell_type": "markdown",
   "metadata": {},
   "source": [
    "## Logarithmic Time — O(log n)"
   ]
  },
  {
   "cell_type": "code",
   "execution_count": 5,
   "metadata": {
    "collapsed": true
   },
   "outputs": [],
   "source": [
    "def binary_search(data, value):\n",
    "    \n",
    "    length = len(data)\n",
    "    left = 0\n",
    "    right = length - 1\n",
    "    \n",
    "    while left <= right:\n",
    "        middle = (left + right) // 2\n",
    "        if value < data[middle]:\n",
    "            right = middle - 1\n",
    "        elif value > data[middle]:\n",
    "            left = middle + 1\n",
    "        else:\n",
    "            return middle\n",
    "\n",
    "    return 'Value is not in the list.'"
   ]
  },
  {
   "cell_type": "code",
   "execution_count": 6,
   "metadata": {},
   "outputs": [
    {
     "name": "stdout",
     "output_type": "stream",
     "text": [
      "Result: Value is not in the list.\n",
      "Runtime: 0.00103\n"
     ]
    }
   ],
   "source": [
    "data = [1, 2, 9, 8, 3, 4, 7, 6, 5]\n",
    "\n",
    "tick = time.time()\n",
    "result = binary_search(data, 10)\n",
    "print(f'Result: {result}')\n",
    "tock = time.time()\n",
    "\n",
    "print(f'Runtime: {tock-tick:.5f}')"
   ]
  },
  {
   "cell_type": "code",
   "execution_count": 7,
   "metadata": {},
   "outputs": [
    {
     "name": "stdout",
     "output_type": "stream",
     "text": [
      "Result: Value is not in the list.\n",
      "Runtime: 0.00081\n"
     ]
    }
   ],
   "source": [
    "data = [1, 2, 9, 8, 3, 4, 7, 6, 5, 1, 2, 9, 8, 3, 4, 7, 6, 5]\n",
    "\n",
    "tick = time.time()\n",
    "result = binary_search(data, 10)\n",
    "print(f'Result: {result}')\n",
    "tock = time.time()\n",
    "\n",
    "print(f'Runtime: {tock-tick:.5f}')"
   ]
  },
  {
   "cell_type": "markdown",
   "metadata": {},
   "source": [
    "## Linear Time — O(n)"
   ]
  },
  {
   "cell_type": "code",
   "execution_count": 8,
   "metadata": {
    "collapsed": true
   },
   "outputs": [],
   "source": [
    "def linear_search(data, value):\n",
    "    \n",
    "    for index in range(len(data)):\n",
    "        if value == data[index]:\n",
    "            return index\n",
    "        \n",
    "    return 'Value is not in the list.'"
   ]
  },
  {
   "cell_type": "code",
   "execution_count": 9,
   "metadata": {},
   "outputs": [
    {
     "name": "stdout",
     "output_type": "stream",
     "text": [
      "Result: 8\n",
      "Runtime: 0.00030\n"
     ]
    }
   ],
   "source": [
    "data = [1, 2, 9, 8, 3, 4, 7, 6, 5]\n",
    "\n",
    "tick = time.time()\n",
    "result = linear_search(data, 5)\n",
    "print(f'Result: {result}')\n",
    "tock = time.time()\n",
    "\n",
    "print(f'Runtime: {tock-tick:.5f}')"
   ]
  },
  {
   "cell_type": "code",
   "execution_count": 10,
   "metadata": {},
   "outputs": [
    {
     "name": "stdout",
     "output_type": "stream",
     "text": [
      "Result: 17\n",
      "Runtime: 0.00052\n"
     ]
    }
   ],
   "source": [
    "data = [1, 2, 9, 8, 3, 4, 7, 6, 4, 1, 2, 9, 8, 3, 4, 7, 6, 5]\n",
    "\n",
    "tick = time.time()\n",
    "result = linear_search(data, 5)\n",
    "print(f'Result: {result}')\n",
    "tock = time.time()\n",
    "\n",
    "print(f'Runtime: {tock-tick:.5f}')"
   ]
  },
  {
   "cell_type": "markdown",
   "metadata": {},
   "source": [
    "---"
   ]
  }
 ],
 "metadata": {
  "kernelspec": {
   "display_name": "Python 3",
   "language": "python",
   "name": "python3"
  },
  "language_info": {
   "codemirror_mode": {
    "name": "ipython",
    "version": 3
   },
   "file_extension": ".py",
   "mimetype": "text/x-python",
   "name": "python",
   "nbconvert_exporter": "python",
   "pygments_lexer": "ipython3",
   "version": "3.6.7"
  }
 },
 "nbformat": 4,
 "nbformat_minor": 2
}
