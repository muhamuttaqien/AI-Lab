{
 "cells": [
  {
   "cell_type": "code",
   "execution_count": 1,
   "metadata": {},
   "outputs": [],
   "source": [
    "import os\n",
    "import smtplib\n",
    "from email.message import EmailMessage"
   ]
  },
  {
   "cell_type": "markdown",
   "metadata": {},
   "source": [
    "## Send E-Mail!"
   ]
  },
  {
   "cell_type": "code",
   "execution_count": 2,
   "metadata": {},
   "outputs": [],
   "source": [
    "RECIPIENT_EMAIL = ['muha.muttaqien@gmail.com', 'rowiealfata@gmail.com', 'fmardadi@gmail.com']"
   ]
  },
  {
   "cell_type": "code",
   "execution_count": 3,
   "metadata": {},
   "outputs": [
    {
     "name": "stdout",
     "output_type": "stream",
     "text": [
      "Send to muha.muttaqien@gmail.com...\n",
      "Send to rowiealfata@gmail.com...\n",
      "Send to fmardadi@gmail.com...\n"
     ]
    }
   ],
   "source": [
    "for email in RECIPIENT_EMAIL:\n",
    "    \n",
    "    print(f'Send to {email}...')\n",
    "    msg = EmailMessage()\n",
    "    msg['Subject'] = 'Salaam!'\n",
    "    msg['From'] = 'indonesiadotai@gmail.com'\n",
    "    msg['To'] = email\n",
    "\n",
    "    msg.set_content('Assalamualaikum...')\n",
    "\n",
    "    msg.add_alternative(\"\"\"\\\n",
    "    <!DOCTYPE html>\n",
    "    <html>\n",
    "        <body>\n",
    "            <h1 style=\"color:SlateGray;\">Assalamualaikum...</h1>\n",
    "        </body>\n",
    "    </html>\n",
    "    \"\"\", subtype='html')\n",
    "    \n",
    "    with smtplib.SMTP_SSL('smtp.gmail.com', 465) as smtp:\n",
    "        smtp.login('indonesiadotai@gmail.com', '@17Gga228840')\n",
    "        smtp.send_message(msg)"
   ]
  },
  {
   "cell_type": "markdown",
   "metadata": {},
   "source": [
    "---"
   ]
  }
 ],
 "metadata": {
  "kernelspec": {
   "display_name": "Python 3",
   "language": "python",
   "name": "python3"
  },
  "language_info": {
   "codemirror_mode": {
    "name": "ipython",
    "version": 3
   },
   "file_extension": ".py",
   "mimetype": "text/x-python",
   "name": "python",
   "nbconvert_exporter": "python",
   "pygments_lexer": "ipython3",
   "version": "3.7.3"
  }
 },
 "nbformat": 4,
 "nbformat_minor": 2
}
