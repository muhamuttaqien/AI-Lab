{
 "cells": [
  {
   "cell_type": "markdown",
   "metadata": {},
   "source": [
    "# Recurrent Neural Networks (RNN)"
   ]
  },
  {
   "cell_type": "code",
   "execution_count": 1,
   "metadata": {
    "collapsed": true
   },
   "outputs": [],
   "source": [
    "import os\n",
    "import numpy as np\n",
    "import matplotlib.pyplot as plt\n",
    "\n",
    "import torch\n",
    "import torch.nn as nn"
   ]
  },
  {
   "cell_type": "markdown",
   "metadata": {},
   "source": [
    "## Create Dictionary"
   ]
  },
  {
   "cell_type": "code",
   "execution_count": 2,
   "metadata": {},
   "outputs": [],
   "source": [
    "text = ['hey how are you', 'good i am fine', 'have a nice day']\n",
    "\n",
    "# join all the sentences together and extract the unique characters from the combined sentences\n",
    "chars = set(' '.join(text))\n",
    "\n",
    "# creating a dictionary that maps integers to the characters\n",
    "int2char = dict(enumerate(chars))\n",
    "\n",
    "# creating another dictionary that maps characters to integers\n",
    "char2int = { char: idx for idx, char in int2char.items() }"
   ]
  },
  {
   "cell_type": "markdown",
   "metadata": {},
   "source": [
    "## Pad Inputs"
   ]
  },
  {
   "cell_type": "code",
   "execution_count": 3,
   "metadata": {
    "collapsed": true
   },
   "outputs": [],
   "source": [
    "# finding the length of the longest string in our data\n",
    "len_max = len(max(text, key=len))"
   ]
  },
  {
   "cell_type": "code",
   "execution_count": 4,
   "metadata": {
    "collapsed": true
   },
   "outputs": [],
   "source": [
    "# a simple loop that loops through the list of sentences and adds a ' ' whitespace\n",
    "# until the length of the sentence mathces the length of the longest sentence\n",
    "for i in range(len(text)):\n",
    "    while len(text[i]) < len_max:\n",
    "        text[i] += ' '"
   ]
  },
  {
   "cell_type": "markdown",
   "metadata": {},
   "source": [
    "## Create inputs-outputs in sequences"
   ]
  },
  {
   "cell_type": "code",
   "execution_count": 5,
   "metadata": {},
   "outputs": [
    {
     "name": "stdout",
     "output_type": "stream",
     "text": [
      "1. Input Sequence: hey how are yo | Target Sequence: ey how are you\n",
      "2. Input Sequence: good i am fine | Target Sequence: ood i am fine \n",
      "3. Input Sequence: have a nice da | Target Sequence: ave a nice day\n"
     ]
    }
   ],
   "source": [
    "# creating lists that will hold our input and target sequences\n",
    "seq_input = []\n",
    "seq_target = []\n",
    "\n",
    "for i in range(len(text)):\n",
    "    # remove last character for input sequence\n",
    "    seq_input.append(text[i][:-1])\n",
    "    \n",
    "    # remove first character for target sequence\n",
    "    seq_target.append(text[i][1:])\n",
    "    print(\"{}. Input Sequence: {} | Target Sequence: {}\".format(i+1, seq_input[i], seq_target[i]))"
   ]
  },
  {
   "cell_type": "markdown",
   "metadata": {},
   "source": [
    "## Convert Inputs (char2int)"
   ]
  },
  {
   "cell_type": "code",
   "execution_count": 6,
   "metadata": {
    "collapsed": true
   },
   "outputs": [],
   "source": [
    "for i in range(len(text)):\n",
    "    seq_input[i] = [char2int[character] for character in seq_input[i]]\n",
    "    seq_target[i] = [char2int[character] for character in seq_target[i]]"
   ]
  },
  {
   "cell_type": "markdown",
   "metadata": {},
   "source": [
    "## One-hot-encode Inputs"
   ]
  },
  {
   "cell_type": "code",
   "execution_count": 7,
   "metadata": {
    "collapsed": true
   },
   "outputs": [],
   "source": [
    "dict_size = len(char2int)\n",
    "seq_len = len_max - 1\n",
    "batch_size = len(text)\n",
    "\n",
    "def one_hot_encode(sequence, dict_size, seq_len, batch_size):\n",
    "    # creating a multi-dimensional array of zeros with the desired output shape\n",
    "    features = np.zeros((batch_size, seq_len, dict_size), dtype=np.float32)\n",
    "    \n",
    "    # replacing the 0 at the relevant character index with a 1 to represent that character\n",
    "    for i in range(batch_size):\n",
    "        for u in range(seq_len):\n",
    "            features[i, u, sequence[i][u]] = 1\n",
    "    return features"
   ]
  },
  {
   "cell_type": "code",
   "execution_count": 8,
   "metadata": {},
   "outputs": [],
   "source": [
    "seq_input = one_hot_encode(seq_input, dict_size, seq_len, batch_size)"
   ]
  },
  {
   "cell_type": "markdown",
   "metadata": {},
   "source": [
    "## Convert To Tensers"
   ]
  },
  {
   "cell_type": "code",
   "execution_count": 9,
   "metadata": {
    "collapsed": true
   },
   "outputs": [],
   "source": [
    "seq_input = torch.from_numpy(seq_input)\n",
    "seq_target = torch.Tensor(seq_target)"
   ]
  },
  {
   "cell_type": "markdown",
   "metadata": {},
   "source": [
    "## Set Configs"
   ]
  },
  {
   "cell_type": "code",
   "execution_count": 10,
   "metadata": {
    "collapsed": true
   },
   "outputs": [],
   "source": [
    "N_EPOCHS = 100\n",
    "LR = 0.01"
   ]
  },
  {
   "cell_type": "code",
   "execution_count": 11,
   "metadata": {
    "collapsed": true
   },
   "outputs": [],
   "source": [
    "is_cuda = torch.cuda.is_available()\n",
    "\n",
    "if is_cuda: device = torch.device('cuda')\n",
    "else: device = torch.device('cpu')"
   ]
  },
  {
   "cell_type": "markdown",
   "metadata": {},
   "source": [
    "## Build RNN Network"
   ]
  },
  {
   "cell_type": "code",
   "execution_count": 12,
   "metadata": {},
   "outputs": [],
   "source": [
    "class RNN(nn.Module):\n",
    "    \n",
    "    def __init__(self, input_size, output_size, hidden_dim, n_layers):\n",
    "        super(RNN, self).__init__()\n",
    "        \n",
    "        # defining some parameters\n",
    "        self.hidden_dim = hidden_dim\n",
    "        self.n_layers = n_layers\n",
    "        \n",
    "        # defining the layers (rnn for one-to-one or many-to-one)\n",
    "        self.rnn_cell = nn.RNN(input_size, hidden_dim, n_layers, batch_first=True)\n",
    "        self.fc_layer = nn.Linear(hidden_dim, output_size)\n",
    "        \n",
    "    def init_hidden(self, batch_size):\n",
    "        hidden = torch.zeros(self.n_layers, batch_size, self.hidden_dim)\n",
    "        return hidden\n",
    "    \n",
    "    def forward(self, x):\n",
    "        \n",
    "        batch_size = x.size(0)\n",
    "        \n",
    "        h = self.init_hidden(batch_size)\n",
    "        x, h = self.rnn_cell(x, h)\n",
    "        x = x.contiguous().view(-1, self.hidden_dim) # reshape the outputs\n",
    "        output = self.fc_layer(x)\n",
    "        \n",
    "        return output, h"
   ]
  },
  {
   "cell_type": "markdown",
   "metadata": {},
   "source": [
    "#### Initialize RNN Network with hyper-parameters"
   ]
  },
  {
   "cell_type": "code",
   "execution_count": 13,
   "metadata": {},
   "outputs": [
    {
     "data": {
      "text/plain": [
       "RNN(\n",
       "  (rnn_cell): RNN(17, 12, batch_first=True)\n",
       "  (fc_layer): Linear(in_features=12, out_features=17, bias=True)\n",
       ")"
      ]
     },
     "execution_count": 13,
     "metadata": {},
     "output_type": "execute_result"
    }
   ],
   "source": [
    "rnn = RNN(input_size=dict_size, output_size=dict_size, hidden_dim=12, n_layers=1)\n",
    "rnn.to(device)"
   ]
  },
  {
   "cell_type": "markdown",
   "metadata": {},
   "source": [
    "## Set Loss Function"
   ]
  },
  {
   "cell_type": "code",
   "execution_count": 14,
   "metadata": {
    "collapsed": true
   },
   "outputs": [],
   "source": [
    "CELoss = nn.CrossEntropyLoss()"
   ]
  },
  {
   "cell_type": "markdown",
   "metadata": {},
   "source": [
    "## Set Optimizers"
   ]
  },
  {
   "cell_type": "code",
   "execution_count": 15,
   "metadata": {
    "collapsed": true
   },
   "outputs": [],
   "source": [
    "optimizer = torch.optim.Adam(rnn.parameters(), lr=LR)"
   ]
  },
  {
   "cell_type": "markdown",
   "metadata": {},
   "source": [
    "## Train [RNN](https://arxiv.org/pdf/1808.03314.pdf) Network"
   ]
  },
  {
   "cell_type": "code",
   "execution_count": 16,
   "metadata": {},
   "outputs": [
    {
     "name": "stdout",
     "output_type": "stream",
     "text": [
      "Epoch: 1/100................. Loss: 2.7991\n",
      "Epoch: 10/100................. Loss: 2.4150\n",
      "Epoch: 19/100................. Loss: 2.1907\n",
      "Epoch: 28/100................. Loss: 1.8909\n",
      "Epoch: 37/100................. Loss: 1.5479\n",
      "Epoch: 46/100................. Loss: 1.2249\n",
      "Epoch: 55/100................. Loss: 0.9428\n",
      "Epoch: 64/100................. Loss: 0.7020\n",
      "Epoch: 73/100................. Loss: 0.5106\n",
      "Epoch: 82/100................. Loss: 0.3702\n",
      "Epoch: 91/100................. Loss: 0.2741\n",
      "Epoch: 100/100................. Loss: 0.2112\n"
     ]
    }
   ],
   "source": [
    "train_loss_history = []\n",
    "for epoch in range(N_EPOCHS):\n",
    "    \n",
    "    optimizer.zero_grad()\n",
    "    seq_input.to(device)\n",
    "    output, hidden = rnn(seq_input)\n",
    "    loss = CELoss(output, seq_target.view(-1).long())\n",
    "    \n",
    "    loss.backward()\n",
    "    optimizer.step()\n",
    "\n",
    "    train_loss = loss.item()\n",
    "    train_loss_history.append(train_loss)\n",
    "    \n",
    "    if epoch%9 == 0:\n",
    "        print('Epoch: {}/{}.................'.format(epoch+1, N_EPOCHS), end=' ')\n",
    "        print('Loss: {:.4f}'.format(train_loss))"
   ]
  },
  {
   "cell_type": "code",
   "execution_count": 17,
   "metadata": {},
   "outputs": [
    {
     "data": {
      "image/png": "[encoded data removed]",
      "text/plain": [
       "<matplotlib.figure.Figure at 0x10e765390>"
      ]
     },
     "metadata": {},
     "output_type": "display_data"
    }
   ],
   "source": [
    "plt.figure(figsize=(10,5))\n",
    "plt.title(\"Train Loss of RNN Network\")\n",
    "plt.plot(train_loss_history, label=\"Train Loss\", color=\"green\")\n",
    "plt.xlabel(\"Epoch\")\n",
    "plt.ylabel(\"Loss\")\n",
    "plt.legend()\n",
    "\n",
    "if not os.path.exists('./images/'): os.makedirs('./images/')\n",
    "plt.savefig('./images/RNN_final_train_loss.png')\n",
    "plt.show()"
   ]
  },
  {
   "cell_type": "markdown",
   "metadata": {},
   "source": [
    "## Test RNN Network"
   ]
  },
  {
   "cell_type": "code",
   "execution_count": 18,
   "metadata": {
    "collapsed": true
   },
   "outputs": [],
   "source": [
    "def predict(model, character):\n",
    "    # one-hot-encode the input to fit into the model\n",
    "    character = np.array([[char2int[char] for char in character]])\n",
    "    character = one_hot_encode(character, dict_size, character.shape[1], 1)\n",
    "    character = torch.from_numpy(character)\n",
    "    character.to(device)\n",
    "    \n",
    "    output, hidden = rnn(character)\n",
    "    \n",
    "    prob = nn.functional.softmax(output[-1], dim=0).data\n",
    "    char_idx = torch.max(prob, dim=0)[1].item()\n",
    "    \n",
    "    return int2char[char_idx], hidden"
   ]
  },
  {
   "cell_type": "code",
   "execution_count": 27,
   "metadata": {
    "collapsed": true
   },
   "outputs": [],
   "source": [
    "def reproduce_sentence(model, output_len, start='hey'):\n",
    "    rnn.eval()\n",
    "    start = start.lower()\n",
    "    \n",
    "    chars = [ch for ch in start]\n",
    "    size = output_len - len(chars)\n",
    "    for ii in range(size):\n",
    "        char, hidden = predict(rnn, chars)\n",
    "        chars.append(char)\n",
    "        \n",
    "    return ''.join(chars)"
   ]
  },
  {
   "cell_type": "markdown",
   "metadata": {},
   "source": [
    "## Let's Play!"
   ]
  },
  {
   "cell_type": "code",
   "execution_count": 28,
   "metadata": {},
   "outputs": [
    {
     "data": {
      "text/plain": [
       "'hey how are you'"
      ]
     },
     "execution_count": 28,
     "metadata": {},
     "output_type": "execute_result"
    }
   ],
   "source": [
    "reproduce_sentence(rnn, len_max, 'hey')"
   ]
  },
  {
   "cell_type": "code",
   "execution_count": 21,
   "metadata": {},
   "outputs": [
    {
     "data": {
      "text/plain": [
       "'good i am fine '"
      ]
     },
     "execution_count": 21,
     "metadata": {},
     "output_type": "execute_result"
    }
   ],
   "source": [
    "reproduce_sentence(rnn, len_max, 'good')"
   ]
  },
  {
   "cell_type": "code",
   "execution_count": 22,
   "metadata": {},
   "outputs": [
    {
     "data": {
      "text/plain": [
       "'have a nice day'"
      ]
     },
     "execution_count": 22,
     "metadata": {},
     "output_type": "execute_result"
    }
   ],
   "source": [
    "reproduce_sentence(rnn, len_max, 'have')"
   ]
  },
  {
   "cell_type": "markdown",
   "metadata": {},
   "source": [
    "---"
   ]
  }
 ],
 "metadata": {
  "kernelspec": {
   "display_name": "Python 3",
   "language": "python",
   "name": "python3"
  },
  "language_info": {
   "codemirror_mode": {
    "name": "ipython",
    "version": 3
   },
   "file_extension": ".py",
   "mimetype": "text/x-python",
   "name": "python",
   "nbconvert_exporter": "python",
   "pygments_lexer": "ipython3",
   "version": "3.6.3"
  }
 },
 "nbformat": 4,
 "nbformat_minor": 2
}
