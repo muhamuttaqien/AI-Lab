{
 "cells": [
  {
   "cell_type": "markdown",
   "metadata": {},
   "source": [
    "# Sequence To Sequence (Seq2seq), Machine Translation"
   ]
  },
  {
   "cell_type": "code",
   "execution_count": 1,
   "metadata": {
    "collapsed": true
   },
   "outputs": [],
   "source": [
    "import os\n",
    "import re\n",
    "import time\n",
    "import math\n",
    "import random\n",
    "import unicodedata\n",
    "import numpy as np\n",
    "import pandas as pd\n",
    "import matplotlib.pyplot as plt\n",
    "import matplotlib.ticker as ticker"
   ]
  },
  {
   "cell_type": "code",
   "execution_count": 2,
   "metadata": {
    "collapsed": true
   },
   "outputs": [],
   "source": [
    "import torch\n",
    "import torch.nn as nn\n",
    "import torch.nn.functional as F"
   ]
  },
  {
   "cell_type": "markdown",
   "metadata": {},
   "source": [
    "## Set Configs"
   ]
  },
  {
   "cell_type": "code",
   "execution_count": 3,
   "metadata": {
    "collapsed": true
   },
   "outputs": [],
   "source": [
    "SOS_token = 0\n",
    "EOS_token = 1\n",
    "MAX_LENGTH = 10\n",
    "\n",
    "LR = 0.01\n",
    "HIDDEN_DIM = 256\n",
    "DROPOUT = 0.1\n",
    "N_EPOCHS = 75000\n",
    "TEACHER_FORCING_ratio = 0.5"
   ]
  },
  {
   "cell_type": "code",
   "execution_count": 4,
   "metadata": {
    "collapsed": true
   },
   "outputs": [],
   "source": [
    "is_cuda = torch.cuda.is_available()\n",
    "\n",
    "if is_cuda: device = torch.device('cuda')\n",
    "else: device = torch.device('cpu')"
   ]
  },
  {
   "cell_type": "markdown",
   "metadata": {},
   "source": [
    "## Set Helpers"
   ]
  },
  {
   "cell_type": "code",
   "execution_count": 5,
   "metadata": {
    "collapsed": true
   },
   "outputs": [],
   "source": [
    "class Language:\n",
    "    \n",
    "    def __init__(self, name):\n",
    "        super(Language, self).__init__()\n",
    "        \n",
    "        self.name = name\n",
    "        self.word2count = {}\n",
    "        self.word2index = {}\n",
    "        self.index2word = {0: 'SOS', 1: 'EOS'}\n",
    "        self.n_words = 2\n",
    "    \n",
    "    def add_sentence(self, sentence):\n",
    "        for word in sentence.split(' '):\n",
    "            self.add_word(word)\n",
    "            \n",
    "    def add_word(self, word):\n",
    "        if word not in self.word2index:\n",
    "            self.word2index[word] = self.n_words\n",
    "            self.word2count[word] = 1\n",
    "            self.index2word[self.n_words] = word\n",
    "            self.n_words += 1\n",
    "        else:\n",
    "            self.word2count[word] += 1"
   ]
  },
  {
   "cell_type": "code",
   "execution_count": 6,
   "metadata": {
    "collapsed": true
   },
   "outputs": [],
   "source": [
    "def unicode_to_ascii(s):\n",
    "    return ''.join(c for c in unicodedata.normalize('NFD', s) if unicodedata.category(c) != 'Mn')"
   ]
  },
  {
   "cell_type": "code",
   "execution_count": 7,
   "metadata": {
    "collapsed": true
   },
   "outputs": [],
   "source": [
    "def normalize_string(s):\n",
    "    s = unicode_to_ascii(s.lower().strip())\n",
    "    s = re.sub(r'([.!?])', r' \\1', s)\n",
    "    s = re.sub(r'[^a-zA-Z.!?]+', r' ', s)\n",
    "    \n",
    "    return s"
   ]
  },
  {
   "cell_type": "code",
   "execution_count": 8,
   "metadata": {
    "collapsed": true
   },
   "outputs": [],
   "source": [
    "def read_languages(lang1, lang2, reverse=False):\n",
    "    print('Reading lines...')\n",
    "    \n",
    "    # read the file and split into lines\n",
    "    lines = open('data/%s-%s.txt' % (lang1, lang2), encoding='utf-8').read().strip().split('\\n')\n",
    "    \n",
    "    # split every line into pairs and normalize\n",
    "    pairs = [[normalize_string(s) for s in l.split('\\t')] for l in lines]\n",
    "    \n",
    "    # reverse pairs, make language instances\n",
    "    if reverse:\n",
    "        pairs = [list(reversed(p)) for p in pairs]\n",
    "        input_lang = Language(lang2)\n",
    "        target_lang = Language(lang1)\n",
    "    else:\n",
    "        input_lang = Language(lang1)\n",
    "        target_lang = Language(lang2)\n",
    "    \n",
    "    return input_lang, target_lang, pairs"
   ]
  },
  {
   "cell_type": "code",
   "execution_count": 9,
   "metadata": {
    "collapsed": true
   },
   "outputs": [],
   "source": [
    "eng_prefixes = (\n",
    "    \"i am \", \"i m \",\n",
    "    \"he is\", \"he s \",\n",
    "    \"she is\", \"she s \",\n",
    "    \"you are\", \"you re \",\n",
    "    \"we are\", \"we re \",\n",
    "    \"they are\", \"they re \"\n",
    ")\n",
    "\n",
    "def filter_pair(p):\n",
    "    return len(p[0].split(' ')) < MAX_LENGTH and \\\n",
    "           len(p[1].split(' ')) < MAX_LENGTH and \\\n",
    "           p[1].startswith(eng_prefixes)"
   ]
  },
  {
   "cell_type": "code",
   "execution_count": 10,
   "metadata": {
    "collapsed": true
   },
   "outputs": [],
   "source": [
    "def filter_pairs(pairs):\n",
    "    return [pair for pair in pairs if filter_pair(pair)]"
   ]
  },
  {
   "cell_type": "code",
   "execution_count": 11,
   "metadata": {
    "collapsed": true
   },
   "outputs": [],
   "source": [
    "def prepare_data(lang1, lang2, reverse=False):\n",
    "    input_lang, target_lang, pairs = read_languages(lang1, lang2, reverse)\n",
    "    \n",
    "    print('Read %s sentence pairs.' % len(pairs))\n",
    "    pairs = filter_pairs(pairs)\n",
    "    print('Trimmed to %s sentence pairs.' % len(pairs))\n",
    "    \n",
    "    print('Counting words...')\n",
    "    for pair in pairs:\n",
    "        input_lang.add_sentence(pair[0])\n",
    "        target_lang.add_sentence(pair[1])\n",
    "        \n",
    "    print('Counted words:')\n",
    "    print(input_lang.name, input_lang.n_words)\n",
    "    print(target_lang.name, target_lang.n_words)\n",
    "    \n",
    "    return input_lang, target_lang, pairs"
   ]
  },
  {
   "cell_type": "code",
   "execution_count": 12,
   "metadata": {
    "collapsed": true
   },
   "outputs": [],
   "source": [
    "def indexes_from_sentence(lang, sentence):\n",
    "    return [lang.word2index[word] for word in sentence.split(' ')]"
   ]
  },
  {
   "cell_type": "code",
   "execution_count": 13,
   "metadata": {
    "collapsed": true
   },
   "outputs": [],
   "source": [
    "def tensor_from_sentence(lang, sentence):\n",
    "    indexes = indexes_from_sentence(lang, sentence)\n",
    "    indexes.append(EOS_token)\n",
    "    \n",
    "    return torch.tensor(indexes, dtype=torch.long, device=device).view(-1, 1)"
   ]
  },
  {
   "cell_type": "code",
   "execution_count": 14,
   "metadata": {
    "collapsed": true
   },
   "outputs": [],
   "source": [
    "def tensor_from_pair(pair):\n",
    "    input_tensor = tensor_from_sentence(input_lang, pair[0])\n",
    "    target_tensor = tensor_from_sentence(target_lang, pair[1])\n",
    "    \n",
    "    return (input_tensor, target_tensor)"
   ]
  },
  {
   "cell_type": "code",
   "execution_count": 15,
   "metadata": {
    "collapsed": true
   },
   "outputs": [],
   "source": [
    "def as_minutes(s):\n",
    "    m = math.floor(s / 60)\n",
    "    s -= m * 60\n",
    "    return '%dm %ds' %(m, s)"
   ]
  },
  {
   "cell_type": "code",
   "execution_count": 16,
   "metadata": {
    "collapsed": true
   },
   "outputs": [],
   "source": [
    "def time_since(since, percent):\n",
    "    now = time.time()\n",
    "    s = now - since\n",
    "    es = s / (percent)\n",
    "    rs = es - s\n",
    "    return '%s (- %s)' % (as_minutes(s), as_minutes(rs))"
   ]
  },
  {
   "cell_type": "code",
   "execution_count": 17,
   "metadata": {
    "collapsed": true
   },
   "outputs": [],
   "source": [
    "def moving_average(a, n=3):\n",
    "    ret = np.cumsum(a, dtype=float)\n",
    "    ret[n:] = ret[n:] - ret[:-n]\n",
    "    \n",
    "    return ret[n - 1:] / n"
   ]
  },
  {
   "cell_type": "code",
   "execution_count": 18,
   "metadata": {
    "collapsed": true
   },
   "outputs": [],
   "source": [
    "def show_plot_evaluation(points, n):\n",
    "    \n",
    "    points = moving_average(points, n)\n",
    "    \n",
    "    plt.figure(figsize=(10, 6))\n",
    "    plt.plot(points)\n",
    "    plt.savefig('./images/plot_evaluation_of_network.png')\n",
    "    plt.show()"
   ]
  },
  {
   "cell_type": "markdown",
   "metadata": {},
   "source": [
    "## Pre-process Data"
   ]
  },
  {
   "cell_type": "code",
   "execution_count": 19,
   "metadata": {},
   "outputs": [
    {
     "name": "stdout",
     "output_type": "stream",
     "text": [
      "Reading lines...\n",
      "Read 135842 sentence pairs.\n",
      "Trimmed to 10599 sentence pairs.\n",
      "Counting words...\n",
      "Counted words:\n",
      "fra 4345\n",
      "eng 2803\n"
     ]
    }
   ],
   "source": [
    "input_lang, target_lang, pairs = prepare_data('eng', 'fra', True)"
   ]
  },
  {
   "cell_type": "markdown",
   "metadata": {},
   "source": [
    "## Build [Seq2seq](https://arxiv.org/pdf/1409.3215.pdf) Network"
   ]
  },
  {
   "cell_type": "code",
   "execution_count": 20,
   "metadata": {
    "collapsed": true
   },
   "outputs": [],
   "source": [
    "class Encoder(nn.Module):\n",
    "    \n",
    "    def __init__(self, input_size, hidden_dim):\n",
    "        super(Encoder, self).__init__()\n",
    "        \n",
    "        self.hidden_dim = hidden_dim\n",
    "        self.embedding_layer = nn.Embedding(input_size, hidden_dim)\n",
    "        self.gru_layer = nn.GRU(hidden_dim, hidden_dim)\n",
    "        \n",
    "    def init_hidden(self):\n",
    "        hidden = torch.zeros(1, 1, self.hidden_dim, device=device)\n",
    "        return hidden\n",
    "    \n",
    "    def forward(self, x, hidden):\n",
    "        \n",
    "        x = x.long()\n",
    "        embeds = self.embedding_layer(x).view(1, 1, -1)\n",
    "        gru_out, hidden = self.gru_layer(embeds, hidden)\n",
    "        \n",
    "        return gru_out, hidden"
   ]
  },
  {
   "cell_type": "code",
   "execution_count": 21,
   "metadata": {
    "collapsed": true
   },
   "outputs": [],
   "source": [
    "class Decoder(nn.Module):\n",
    "    \n",
    "    def __init__(self, hidden_dim, output_size):\n",
    "        super(Decoder, self).__init__()\n",
    "        \n",
    "        self.hidden_dim = hidden_dim\n",
    "        self.embedding_layer = nn.Embedding(output_size, hidden_dim)\n",
    "        self.gru_layer = nn.GRU(hidden_dim, hidden_dim)\n",
    "        self.fc_layer = nn.Linear(hidden_dim, output_size)\n",
    "        self.softmax = nn.LogSoftmax(dim=1)\n",
    "        \n",
    "    def init_hidden(self):\n",
    "        hidden = torch.zeros(1, 1, self.hidden_dim, device=device)\n",
    "        return hidden\n",
    "    \n",
    "    def forward(self, x, hidden):\n",
    "        \n",
    "        batch_size = x.size(0)\n",
    "        \n",
    "        x = x.long()\n",
    "        embeds = self.embedding_layer(x).view(1, 1, -1)\n",
    "        gru_out, hidden = self.gru_layer(F.relu(embeds), hidden)\n",
    "        gru_out = self.softmax(self.fc_layer(gru_out[0]))\n",
    "        \n",
    "        return gru_out, hidden"
   ]
  },
  {
   "cell_type": "markdown",
   "metadata": {},
   "source": [
    "## Build [Attention](https://arxiv.org/pdf/1706.03762.pdf) Network"
   ]
  },
  {
   "cell_type": "code",
   "execution_count": 22,
   "metadata": {
    "collapsed": true
   },
   "outputs": [],
   "source": [
    "class AttentionDecoder(nn.Module):\n",
    "    \n",
    "    def __init__(self, hidden_dim, output_size, dropout=0.1, max_length=MAX_LENGTH):\n",
    "        super(AttentionDecoder, self).__init__()\n",
    "        \n",
    "        self.hidden_dim = hidden_dim\n",
    "        self.output_size = output_size\n",
    "        self.dropout = dropout\n",
    "        self.max_length = max_length\n",
    "        \n",
    "        self.embedding_layer = nn.Embedding(self.output_size, self.hidden_dim)\n",
    "        self.attention_layer = nn.Linear(self.hidden_dim * 2, self.max_length)\n",
    "        self.attention_combine_layer = nn.Linear(self.hidden_dim * 2, self.hidden_dim)\n",
    "        self.dropout = nn.Dropout(self.dropout)\n",
    "        self.gru_layer = nn.GRU(self.hidden_dim, self.hidden_dim)\n",
    "        self.fc_layer = nn.Linear(self.hidden_dim, self.output_size)\n",
    "    \n",
    "    def init_hidden(self):\n",
    "        hidden = torch.zeros(1, 1, self.hidden_dim, device=device)\n",
    "        return hidden\n",
    "        \n",
    "    def forward(self, x, hidden, encoder_outputs):\n",
    "        \n",
    "        x = x.long()\n",
    "        embeds = self.embedding_layer(x).view(1, 1, -1)\n",
    "        embeds = self.dropout(embeds)\n",
    "        \n",
    "        attention_weights = F.softmax(self.attention_layer(torch.cat((embeds[0], hidden[0]), 1)), dim=1)\n",
    "        attention_applied = torch.bmm(attention_weights.unsqueeze(0),\n",
    "                                      encoder_outputs.unsqueeze(0))\n",
    "        \n",
    "        attention_out = torch.cat((embeds[0], attention_applied[0]), 1)\n",
    "        attention_out = self.attention_combine_layer(attention_out).unsqueeze(0)\n",
    "        \n",
    "        attention_out = F.relu(attention_out)\n",
    "        gru_out, hidden = self.gru_layer(attention_out, hidden)\n",
    "        \n",
    "        gru_out = F.log_softmax(self.fc_layer(gru_out[0]), dim=1)\n",
    "        \n",
    "        return gru_out, hidden, attention_weights"
   ]
  },
  {
   "cell_type": "markdown",
   "metadata": {},
   "source": [
    "#### Initialize Seq2seq Network"
   ]
  },
  {
   "cell_type": "code",
   "execution_count": 23,
   "metadata": {},
   "outputs": [
    {
     "data": {
      "text/plain": [
       "Encoder(\n",
       "  (embedding_layer): Embedding(4345, 256)\n",
       "  (gru_layer): GRU(256, 256)\n",
       ")"
      ]
     },
     "execution_count": 23,
     "metadata": {},
     "output_type": "execute_result"
    }
   ],
   "source": [
    "encoder = Encoder(input_lang.n_words, HIDDEN_DIM)\n",
    "encoder.to(device)"
   ]
  },
  {
   "cell_type": "code",
   "execution_count": 24,
   "metadata": {
    "scrolled": true
   },
   "outputs": [
    {
     "data": {
      "text/plain": [
       "Decoder(\n",
       "  (embedding_layer): Embedding(2803, 256)\n",
       "  (gru_layer): GRU(256, 256)\n",
       "  (fc_layer): Linear(in_features=256, out_features=2803, bias=True)\n",
       "  (softmax): LogSoftmax()\n",
       ")"
      ]
     },
     "execution_count": 24,
     "metadata": {},
     "output_type": "execute_result"
    }
   ],
   "source": [
    "decoder = Decoder(HIDDEN_DIM, target_lang.n_words)\n",
    "decoder.to(device)"
   ]
  },
  {
   "cell_type": "markdown",
   "metadata": {},
   "source": [
    "#### Initialize Attention Network"
   ]
  },
  {
   "cell_type": "code",
   "execution_count": 25,
   "metadata": {},
   "outputs": [
    {
     "data": {
      "text/plain": [
       "AttentionDecoder(\n",
       "  (embedding_layer): Embedding(2803, 256)\n",
       "  (attention_layer): Linear(in_features=512, out_features=10, bias=True)\n",
       "  (attention_combine_layer): Linear(in_features=512, out_features=256, bias=True)\n",
       "  (dropout): Dropout(p=0.1, inplace=False)\n",
       "  (gru_layer): GRU(256, 256)\n",
       "  (fc_layer): Linear(in_features=256, out_features=2803, bias=True)\n",
       ")"
      ]
     },
     "execution_count": 25,
     "metadata": {},
     "output_type": "execute_result"
    }
   ],
   "source": [
    "attention_decoder = AttentionDecoder(HIDDEN_DIM, target_lang.n_words, dropout=DROPOUT)\n",
    "attention_decoder.to(device)"
   ]
  },
  {
   "cell_type": "markdown",
   "metadata": {},
   "source": [
    "## Set Loss Function"
   ]
  },
  {
   "cell_type": "code",
   "execution_count": 26,
   "metadata": {
    "collapsed": true
   },
   "outputs": [],
   "source": [
    "nll_loss = nn.NLLLoss()"
   ]
  },
  {
   "cell_type": "markdown",
   "metadata": {},
   "source": [
    "## Set Optimizer"
   ]
  },
  {
   "cell_type": "code",
   "execution_count": 27,
   "metadata": {
    "collapsed": true
   },
   "outputs": [],
   "source": [
    "encoder_optimizer = torch.optim.SGD(encoder.parameters(), lr=LR)\n",
    "\n",
    "def init_decoder_optimizer(decoder): return torch.optim.SGD(decoder.parameters(), lr=LR)\n",
    "decoder_optimizer = init_decoder_optimizer(decoder)\n",
    "attention_decoder_optimizer = init_decoder_optimizer(attention_decoder)"
   ]
  },
  {
   "cell_type": "markdown",
   "metadata": {},
   "source": [
    "## Train Seq2seq Network"
   ]
  },
  {
   "cell_type": "code",
   "execution_count": 28,
   "metadata": {},
   "outputs": [
    {
     "name": "stdout",
     "output_type": "stream",
     "text": [
      "Training the network...\n",
      "5000 | 75000 epochs, Average Loss: 20.8322, Times Taken: 1m 14s (- 17m 23s)\n",
      "10000 | 75000 epochs, Average Loss: 16.8106, Times Taken: 2m 25s (- 15m 45s)\n",
      "15000 | 75000 epochs, Average Loss: 14.4783, Times Taken: 3m 38s (- 14m 34s)\n",
      "20000 | 75000 epochs, Average Loss: 12.7815, Times Taken: 4m 52s (- 13m 23s)\n",
      "25000 | 75000 epochs, Average Loss: 11.2416, Times Taken: 6m 7s (- 12m 15s)\n",
      "30000 | 75000 epochs, Average Loss: 10.0669, Times Taken: 7m 21s (- 11m 2s)\n",
      "35000 | 75000 epochs, Average Loss: 8.9463, Times Taken: 8m 36s (- 9m 50s)\n",
      "40000 | 75000 epochs, Average Loss: 8.1488, Times Taken: 9m 51s (- 8m 37s)\n",
      "45000 | 75000 epochs, Average Loss: 7.1714, Times Taken: 11m 6s (- 7m 24s)\n",
      "50000 | 75000 epochs, Average Loss: 6.4137, Times Taken: 12m 22s (- 6m 11s)\n",
      "55000 | 75000 epochs, Average Loss: 5.6919, Times Taken: 13m 37s (- 4m 57s)\n",
      "60000 | 75000 epochs, Average Loss: 5.2151, Times Taken: 14m 52s (- 3m 43s)\n",
      "65000 | 75000 epochs, Average Loss: 5.0109, Times Taken: 16m 7s (- 2m 28s)\n",
      "70000 | 75000 epochs, Average Loss: 4.4157, Times Taken: 17m 22s (- 1m 14s)\n",
      "75000 | 75000 epochs, Average Loss: 3.9914, Times Taken: 18m 36s (- 0m 0s)\n"
     ]
    }
   ],
   "source": [
    "tick = time.time()\n",
    "losses_history = []\n",
    "loss_total_print = 0\n",
    "loss_total_plot = 0\n",
    "\n",
    "print_every = 5000\n",
    "plot_every = 100\n",
    "\n",
    "training_pairs = [tensor_from_pair(random.choice(pairs)) for _ in range(N_EPOCHS)]\n",
    "\n",
    "print('Training the network...')\n",
    "for epoch in range(1, N_EPOCHS+1):\n",
    "    \n",
    "    training_pair = training_pairs[epoch - 1]\n",
    "    \n",
    "    input_seq = training_pair[0]\n",
    "    input_length = input_seq.size(0)\n",
    "    \n",
    "    target_seq = training_pair[1]\n",
    "    target_length = target_seq.size(0)\n",
    "    \n",
    "    encoder_hidden = encoder.init_hidden()\n",
    "    \n",
    "    encoder_optimizer.zero_grad()\n",
    "    attention_decoder_optimizer.zero_grad()\n",
    "    \n",
    "    encoder_outputs = torch.zeros(MAX_LENGTH, encoder.hidden_dim, device=device)\n",
    "    \n",
    "    loss = 0\n",
    "    \n",
    "    for ei in range(input_length):\n",
    "        encoder_output, encoder_hidden = encoder(input_seq[ei], encoder_hidden)\n",
    "        encoder_outputs[ei] = encoder_output[0, 0]\n",
    "        \n",
    "    decoder_input = torch.tensor([[SOS_token]], device=device)\n",
    "    decoder_hidden = encoder_hidden\n",
    "    \n",
    "    USE_TEACHER_FORCING = True if random.random() < TEACHER_FORCING_ratio else False\n",
    "    \n",
    "    if USE_TEACHER_FORCING:\n",
    "\n",
    "        # teacher forcing: feed the target as the next input\n",
    "        for di in range(target_length):\n",
    "            decoder_output, decoder_hidden, decoder_attention = attention_decoder(decoder_input, \n",
    "                                                                                  decoder_hidden, encoder_outputs)\n",
    "            decoder_input = target_seq[di] # teacher forcing\n",
    "            loss += nll_loss(decoder_output, target_seq[di])\n",
    "    else:\n",
    "        \n",
    "        # without teacher forcing: use its own predictions as the next input\n",
    "        for di in range(target_length):\n",
    "            decoder_output, decoder_hidden, decoder_attention = attention_decoder(decoder_input, \n",
    "                                                                                  decoder_hidden, encoder_outputs)\n",
    "            top_value, top_index = decoder_output.topk(1)\n",
    "            decoder_input = top_index.squeeze().detach() # detach from history as input                \n",
    "            loss += nll_loss(decoder_output, target_seq[di])\n",
    "            \n",
    "            if decoder_input.item() == EOS_token:\n",
    "                break\n",
    "                \n",
    "    loss.backward()\n",
    "    encoder_optimizer.step()\n",
    "    attention_decoder_optimizer.step()\n",
    "    \n",
    "    loss = loss.item()\n",
    "    loss_total_print += loss\n",
    "    loss_total_plot += loss\n",
    "    \n",
    "    if epoch % print_every == 0:\n",
    "        loss_avg_print = loss_total_print / print_every\n",
    "        loss_total_print = 0\n",
    "        print('%d | %d epochs, Average Loss: %.4f, Times Taken: %s' % (epoch, N_EPOCHS, loss_avg_print,\n",
    "                                                                        time_since(tick, epoch / N_EPOCHS)))\n",
    "        \n",
    "    if epoch & plot_every == 0:\n",
    "        loss_avg_plot = loss_total_plot / plot_every\n",
    "        losses_history.append(loss_avg_plot)\n",
    "        loss_total_plot = 0"
   ]
  },
  {
   "cell_type": "code",
   "execution_count": 29,
   "metadata": {},
   "outputs": [
    {
     "data": {
      "image/png": "[encoded data removed]",
      "text/plain": [
       "<Figure size 720x432 with 1 Axes>"
      ]
     },
     "metadata": {
      "needs_background": "light"
     },
     "output_type": "display_data"
    }
   ],
   "source": [
    "show_plot_evaluation(losses_history, 10)"
   ]
  },
  {
   "cell_type": "markdown",
   "metadata": {},
   "source": [
    "## Evaluate The Network"
   ]
  },
  {
   "cell_type": "code",
   "execution_count": 30,
   "metadata": {
    "collapsed": true
   },
   "outputs": [],
   "source": [
    "def evaluate_network(encoder, decoder, sentence, max_length=MAX_LENGTH):\n",
    "    \n",
    "    print('Evaluating the network...')\n",
    "    with torch.no_grad():\n",
    "        input_seq = tensor_from_sentence(input_lang, sentence)\n",
    "        input_length = input_seq.size()[0]\n",
    "        encoder_hidden = encoder.init_hidden()\n",
    "        \n",
    "        encoder_outputs = torch.zeros(max_length, encoder.hidden_dim, device=device)\n",
    "        \n",
    "        for ei in range(input_length):\n",
    "            encoder_output, encoder_hidden = encoder(input_seq[ei], encoder_hidden)\n",
    "            encoder_outputs[ei] += encoder_output[0, 0]\n",
    "            \n",
    "        decoder_input = torch.tensor([[SOS_token]], device=device)\n",
    "        decoder_hidden = encoder_hidden\n",
    "        \n",
    "        decoded_words = []\n",
    "        decoder_attentions = torch.zeros(max_length, max_length)\n",
    "        \n",
    "        for di in range(max_length):\n",
    "            decoder_output, decoder_hidden, decoder_attention = decoder(decoder_input,\n",
    "                                                                        decoder_hidden,\n",
    "                                                                        encoder_outputs)\n",
    "            decoder_attentions[di] = decoder_attention.data\n",
    "            top_value, top_index = decoder_output.data.topk(1)\n",
    "            \n",
    "            if top_index.item() == EOS_token:\n",
    "                decoded_words.append('<EOS>')\n",
    "            else:\n",
    "                decoded_words.append(target_lang.index2word[top_index.item()])\n",
    "                \n",
    "            decoder_input = top_index.squeeze().detach()\n",
    "            \n",
    "        return decoded_words, decoder_attentions[:di+1]"
   ]
  },
  {
   "cell_type": "code",
   "execution_count": 31,
   "metadata": {
    "collapsed": true
   },
   "outputs": [],
   "source": [
    "def evaluate_network_randomly(encoder, decoder, n_sentences=10):\n",
    "    for i in range(n_sentences):\n",
    "        pair = random.choice(pairs)\n",
    "        print('Input:', pair[0])\n",
    "        print('Target:', pair[1])\n",
    "        output_words, attentions = evaluate_network(encoder, decoder, pair[0])\n",
    "        output_sentences = ' '.join(output_words)\n",
    "        \n",
    "        print('Network Output:', output_sentences)\n",
    "        print('')"
   ]
  },
  {
   "cell_type": "code",
   "execution_count": 32,
   "metadata": {},
   "outputs": [
    {
     "name": "stdout",
     "output_type": "stream",
     "text": [
      "Input: je ne suis pas du matin .\n",
      "Target: i m not a morning person .\n",
      "Evaluating the network...\n",
      "Network Output: i m not a morning . <EOS> <EOS> . <EOS>\n",
      "\n",
      "Input: vous le faites comme il faut .\n",
      "Target: you re doing it right .\n",
      "Evaluating the network...\n",
      "Network Output: you re doing it right . <EOS> . <EOS> <EOS>\n",
      "\n",
      "Input: je ne suis pas triste .\n",
      "Target: i m not sad .\n",
      "Evaluating the network...\n",
      "Network Output: i m not sad . <EOS> . <EOS> <EOS> .\n",
      "\n",
      "Input: nous en avons presque fini .\n",
      "Target: we re nearly finished .\n",
      "Evaluating the network...\n",
      "Network Output: we re nearly finished . <EOS> . <EOS> . <EOS>\n",
      "\n",
      "Input: ils collectent des dons pour l eglise .\n",
      "Target: they are collecting contributions for the church .\n",
      "Evaluating the network...\n",
      "Network Output: they are collecting contributions for the inconvenience . <EOS> .\n",
      "\n",
      "Input: vous etes brillantes .\n",
      "Target: you re bright .\n",
      "Evaluating the network...\n",
      "Network Output: you re bright . <EOS> <EOS> <EOS> <EOS> <EOS> <EOS>\n",
      "\n",
      "Input: je me rejouis de te revoir .\n",
      "Target: i am looking forward to seeing you again .\n",
      "Evaluating the network...\n",
      "Network Output: i m looking forward to seeing you again . <EOS>\n",
      "\n",
      "Input: elle se plaint toujours de son travail .\n",
      "Target: she is always complaining of her job .\n",
      "Evaluating the network...\n",
      "Network Output: she s always complaining about her job . <EOS> .\n",
      "\n",
      "Input: tu es tout a fait attirant .\n",
      "Target: you re quite attractive .\n",
      "Evaluating the network...\n",
      "Network Output: you are quite attractive . <EOS> . <EOS> <EOS> <EOS>\n",
      "\n",
      "Input: vous etes fort craintif .\n",
      "Target: you re very timid .\n",
      "Evaluating the network...\n",
      "Network Output: you re very timid . <EOS> <EOS> <EOS> <EOS> <EOS>\n",
      "\n"
     ]
    }
   ],
   "source": [
    "evaluate_network_randomly(encoder, attention_decoder)"
   ]
  },
  {
   "cell_type": "markdown",
   "metadata": {},
   "source": [
    "## Visualize Network Attention"
   ]
  },
  {
   "cell_type": "code",
   "execution_count": 33,
   "metadata": {},
   "outputs": [
    {
     "name": "stdout",
     "output_type": "stream",
     "text": [
      "Evaluating the network...\n"
     ]
    },
    {
     "data": {
      "image/png": "[encoded data removed]",
      "text/plain": [
       "<Figure size 432x432 with 1 Axes>"
      ]
     },
     "metadata": {
      "needs_background": "light"
     },
     "output_type": "display_data"
    }
   ],
   "source": [
    "output_words, attentions = evaluate_network(encoder, attention_decoder, 'je suis trop froid .')\n",
    "plt.figure(figsize=(6, 6))\n",
    "plt.imshow(attentions.numpy())\n",
    "plt.title('Visualization of Network Attention')\n",
    "if not os.path.exists('./images/'): os.makedirs('./images/')\n",
    "plt.savefig('./images/visualization_of_network_attention.png')\n",
    "\n",
    "plt.show()"
   ]
  },
  {
   "cell_type": "markdown",
   "metadata": {},
   "source": [
    "#### Evaluate & Show The Attention"
   ]
  },
  {
   "cell_type": "code",
   "execution_count": 34,
   "metadata": {
    "collapsed": true
   },
   "outputs": [],
   "source": [
    "def show_attention(input_seq, output_words, attentions):\n",
    "    \n",
    "    # set up figure with color bar\n",
    "    fig = plt.figure(figsize=(6, 6))\n",
    "    ax = fig.add_subplot(111)\n",
    "    cax = ax.imshow(attentions.numpy(), cmap='bone')\n",
    "    fig.colorbar(cax)\n",
    "    \n",
    "    # set up axes\n",
    "    ax.set_xticklabels([''] + input_seq.split(' ') + ['<EOS>'], rotation=90)\n",
    "    ax.set_yticklabels([''] + output_words)\n",
    "    \n",
    "    # show label at every tick\n",
    "    ax.xaxis.set_major_locator(ticker.MultipleLocator(1))\n",
    "    ax.yaxis.set_major_locator(ticker.MultipleLocator(1))\n",
    "    plt.savefig('./images/visualization_of_network_attention_exp.png')\n",
    "    \n",
    "    plt.show()"
   ]
  },
  {
   "cell_type": "code",
   "execution_count": 35,
   "metadata": {
    "collapsed": true
   },
   "outputs": [],
   "source": [
    "def evaluate_and_show_attention(input_seq):\n",
    "    output_words, attentions = evaluate_network(encoder, attention_decoder, input_seq)\n",
    "    print('Input:', input_seq)\n",
    "    print('Networ Output:', ' '.join(output_words))\n",
    "    \n",
    "    show_attention(input_seq, output_words, attentions)"
   ]
  },
  {
   "cell_type": "code",
   "execution_count": 36,
   "metadata": {},
   "outputs": [
    {
     "name": "stdout",
     "output_type": "stream",
     "text": [
      "Evaluating the network...\n",
      "Input: elle a cinq ans de moins que moi .\n",
      "Networ Output: she s five years younger than me . <EOS> .\n"
     ]
    },
    {
     "data": {
      "image/png": "[encoded data removed]",
      "text/plain": [
       "<Figure size 432x432 with 2 Axes>"
      ]
     },
     "metadata": {
      "needs_background": "light"
     },
     "output_type": "display_data"
    }
   ],
   "source": [
    "evaluate_and_show_attention(\"elle a cinq ans de moins que moi .\")"
   ]
  },
  {
   "cell_type": "code",
   "execution_count": 37,
   "metadata": {},
   "outputs": [
    {
     "name": "stdout",
     "output_type": "stream",
     "text": [
      "Evaluating the network...\n",
      "Input: elle est trop petit .\n",
      "Networ Output: she is too short . <EOS> . <EOS> . <EOS>\n"
     ]
    },
    {
     "data": {
      "image/png": "[encoded data removed]",
      "text/plain": [
       "<Figure size 432x432 with 2 Axes>"
      ]
     },
     "metadata": {
      "needs_background": "light"
     },
     "output_type": "display_data"
    }
   ],
   "source": [
    "evaluate_and_show_attention(\"elle est trop petit .\")"
   ]
  },
  {
   "cell_type": "code",
   "execution_count": 38,
   "metadata": {},
   "outputs": [
    {
     "name": "stdout",
     "output_type": "stream",
     "text": [
      "Evaluating the network...\n",
      "Input: je ne crains pas de mourir .\n",
      "Networ Output: i m not scared to die . <EOS> . <EOS>\n"
     ]
    },
    {
     "data": {
      "image/png": "[encoded data removed]",
      "text/plain": [
       "<Figure size 432x432 with 2 Axes>"
      ]
     },
     "metadata": {
      "needs_background": "light"
     },
     "output_type": "display_data"
    }
   ],
   "source": [
    "evaluate_and_show_attention(\"je ne crains pas de mourir .\")"
   ]
  },
  {
   "cell_type": "code",
   "execution_count": 39,
   "metadata": {},
   "outputs": [
    {
     "name": "stdout",
     "output_type": "stream",
     "text": [
      "Evaluating the network...\n",
      "Input: c est un jeune directeur plein de talent .\n",
      "Networ Output: he s a talented young director . <EOS> . <EOS>\n"
     ]
    },
    {
     "data": {
      "image/png": "[encoded data removed]",
      "text/plain": [
       "<Figure size 432x432 with 2 Axes>"
      ]
     },
     "metadata": {
      "needs_background": "light"
     },
     "output_type": "display_data"
    }
   ],
   "source": [
    "evaluate_and_show_attention(\"c est un jeune directeur plein de talent .\")"
   ]
  },
  {
   "cell_type": "markdown",
   "metadata": {},
   "source": [
    "---"
   ]
  }
 ],
 "metadata": {
  "kernelspec": {
   "display_name": "Python 3",
   "language": "python",
   "name": "python3"
  },
  "language_info": {
   "codemirror_mode": {
    "name": "ipython",
    "version": 3
   },
   "file_extension": ".py",
   "mimetype": "text/x-python",
   "name": "python",
   "nbconvert_exporter": "python",
   "pygments_lexer": "ipython3",
   "version": "3.6.3"
  }
 },
 "nbformat": 4,
 "nbformat_minor": 2
}
