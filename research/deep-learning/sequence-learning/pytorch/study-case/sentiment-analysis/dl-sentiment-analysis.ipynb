{
 "cells": [
  {
   "cell_type": "markdown",
   "metadata": {},
   "source": [
    "# Deep Learning for Sentiment Analysis, LSTM"
   ]
  },
  {
   "cell_type": "code",
   "execution_count": 1,
   "metadata": {},
   "outputs": [],
   "source": [
    "import os\n",
    "import numpy as np\n",
    "from matplotlib import pyplot as plt"
   ]
  },
  {
   "cell_type": "code",
   "execution_count": 2,
   "metadata": {},
   "outputs": [],
   "source": [
    "import torch\n",
    "import torch.nn as nn\n",
    "from torch.utils.data import DataLoader, TensorDataset"
   ]
  },
  {
   "cell_type": "markdown",
   "metadata": {},
   "source": [
    "## Load Datasets"
   ]
  },
  {
   "cell_type": "code",
   "execution_count": 3,
   "metadata": {},
   "outputs": [],
   "source": [
    "with open('datasets/reviews.txt', 'r') as f: reviews = f.readlines()"
   ]
  },
  {
   "cell_type": "code",
   "execution_count": 4,
   "metadata": {},
   "outputs": [],
   "source": [
    "with open('datasets/labels.txt', 'r') as f: labels = f.readlines()"
   ]
  },
  {
   "cell_type": "markdown",
   "metadata": {},
   "source": [
    "## Preprocess Datasets"
   ]
  },
  {
   "cell_type": "markdown",
   "metadata": {},
   "source": [
    "#### 1) Removing punctuations"
   ]
  },
  {
   "cell_type": "code",
   "execution_count": 5,
   "metadata": {},
   "outputs": [],
   "source": [
    "from string import punctuation"
   ]
  },
  {
   "cell_type": "code",
   "execution_count": 6,
   "metadata": {},
   "outputs": [],
   "source": [
    "def get_words(corpus):\n",
    "    \n",
    "    cleaned_reviews = list()\n",
    "\n",
    "    for text in reviews:\n",
    "        text = text.lower()\n",
    "        text = ''.join([char for char in text if char not in punctuation])\n",
    "\n",
    "        cleaned_reviews.append(text)\n",
    "\n",
    "    words = ' '.join(cleaned_reviews).split()\n",
    "\n",
    "    return words, cleaned_reviews"
   ]
  },
  {
   "cell_type": "code",
   "execution_count": 7,
   "metadata": {},
   "outputs": [],
   "source": [
    "words, cleaned_reviews = get_words(reviews)"
   ]
  },
  {
   "cell_type": "markdown",
   "metadata": {},
   "source": [
    "#### 2) Counting all the words and sort it based on counts"
   ]
  },
  {
   "cell_type": "code",
   "execution_count": 8,
   "metadata": {},
   "outputs": [],
   "source": [
    "from collections import Counter "
   ]
  },
  {
   "cell_type": "code",
   "execution_count": 9,
   "metadata": {},
   "outputs": [
    {
     "name": "stdout",
     "output_type": "stream",
     "text": [
      "Top 5-occuring words:\n",
      "[('the', 336713), ('and', 164107), ('a', 163009), ('of', 145864), ('to', 135720)]\n"
     ]
    }
   ],
   "source": [
    "count_words = Counter(words)\n",
    "total_words = len(words)\n",
    "sorted_words = count_words.most_common(total_words)\n",
    "\n",
    "print('Top 5-occuring words:')\n",
    "print(sorted_words[:5])"
   ]
  },
  {
   "cell_type": "markdown",
   "metadata": {},
   "source": [
    "#### 3) Creating a dictionary and encoding the corresponding words"
   ]
  },
  {
   "cell_type": "code",
   "execution_count": 10,
   "metadata": {},
   "outputs": [],
   "source": [
    "word2index = { w:i+1 for i, (w,c) in enumerate(sorted_words) }"
   ]
  },
  {
   "cell_type": "code",
   "execution_count": 11,
   "metadata": {},
   "outputs": [],
   "source": [
    "encoded_reviews = list()\n",
    "\n",
    "for review in cleaned_reviews:\n",
    "    \n",
    "    encoded_review = list()\n",
    "    for word in review.split():\n",
    "        if word not in word2index.keys():\n",
    "            # if word is not available in word2index put 0 in that place\n",
    "            encoded_review.append(0)\n",
    "        else:\n",
    "            encoded_review.append(word2index[word])\n",
    "    \n",
    "    encoded_reviews.append(encoded_review)"
   ]
  },
  {
   "cell_type": "code",
   "execution_count": 12,
   "metadata": {},
   "outputs": [],
   "source": [
    "# making encoded review in the same length\n",
    "sequence_length = 250\n",
    "\n",
    "features = np.zeros((len(encoded_reviews), sequence_length), dtype=int)\n",
    "for i, review in enumerate(encoded_reviews):\n",
    "    \n",
    "    review_len = len(review)\n",
    "    if (review_len <= sequence_length):\n",
    "        zeros = list(np.zeros(sequence_length-review_len))\n",
    "        new = zeros + review\n",
    "    else:\n",
    "        new = review[:sequence_length]\n",
    "    \n",
    "    features[i,:] = np.array(new)"
   ]
  },
  {
   "cell_type": "markdown",
   "metadata": {},
   "source": [
    "#### 4) One-hot-encoding labels"
   ]
  },
  {
   "cell_type": "code",
   "execution_count": 13,
   "metadata": {},
   "outputs": [],
   "source": [
    "labels = [1 if label.strip() == 'positive' else 0 for label in labels]"
   ]
  },
  {
   "cell_type": "markdown",
   "metadata": {},
   "source": [
    "## Build Data Loader"
   ]
  },
  {
   "cell_type": "markdown",
   "metadata": {},
   "source": [
    "#### 1) Splitting dataset into training, valid and test dataset"
   ]
  },
  {
   "cell_type": "code",
   "execution_count": 14,
   "metadata": {},
   "outputs": [],
   "source": [
    "train_size, valid_size, test_size = 0.8, 0.1, 0.1"
   ]
  },
  {
   "cell_type": "code",
   "execution_count": 15,
   "metadata": {},
   "outputs": [],
   "source": [
    "X_train = features[:int(train_size * len(features))]\n",
    "y_train = labels[:int(train_size * len(features))]\n",
    "\n",
    "X_valid = features[int(train_size * len(features)):int( (train_size+valid_size) * len(features))]\n",
    "y_valid = labels[int(train_size * len(features)):int( (train_size+valid_size) * len(features))]\n",
    "\n",
    "X_test = features[int( (train_size+valid_size) * len(features)):]\n",
    "y_test = labels[int( (train_size+valid_size) * len(features)):]"
   ]
  },
  {
   "cell_type": "markdown",
   "metadata": {},
   "source": [
    "#### 2) Creating Tensor Dataset"
   ]
  },
  {
   "cell_type": "code",
   "execution_count": 16,
   "metadata": {},
   "outputs": [],
   "source": [
    "train_data = TensorDataset(torch.LongTensor(X_train), torch.FloatTensor(y_train))\n",
    "valid_data = TensorDataset(torch.LongTensor(X_valid), torch.FloatTensor(y_valid))\n",
    "test_data = TensorDataset(torch.LongTensor(X_test), torch.FloatTensor(y_test))"
   ]
  },
  {
   "cell_type": "markdown",
   "metadata": {},
   "source": [
    "#### 3) Creating Data Loader"
   ]
  },
  {
   "cell_type": "code",
   "execution_count": 17,
   "metadata": {},
   "outputs": [],
   "source": [
    "BATCH_SIZE = 50"
   ]
  },
  {
   "cell_type": "code",
   "execution_count": 18,
   "metadata": {},
   "outputs": [],
   "source": [
    "train_loader = DataLoader(train_data, batch_size=BATCH_SIZE, shuffle=True)\n",
    "valid_loader = DataLoader(valid_data, batch_size=BATCH_SIZE, shuffle=True)\n",
    "test_loader = DataLoader(test_data, batch_size=BATCH_SIZE, shuffle=True)"
   ]
  },
  {
   "cell_type": "code",
   "execution_count": 19,
   "metadata": {},
   "outputs": [
    {
     "name": "stdout",
     "output_type": "stream",
     "text": [
      "Sample input size: torch.Size([50, 250])\n",
      "Sample label size: torch.Size([50])\n"
     ]
    }
   ],
   "source": [
    "# obtaining one batch of training data\n",
    "data_iter = iter(train_loader)\n",
    "X_sample, y_sample = data_iter.next()\n",
    "\n",
    "print('Sample input size:', X_sample.size())\n",
    "print('Sample label size:', y_sample.size())"
   ]
  },
  {
   "cell_type": "markdown",
   "metadata": {},
   "source": [
    "## Build LSTM Network"
   ]
  },
  {
   "cell_type": "code",
   "execution_count": 20,
   "metadata": {},
   "outputs": [],
   "source": [
    "VOCAB_SIZE = len(word2index)+1\n",
    "OUTPUT_SIZE = 1\n",
    "EMBEDDING_DIM = 400\n",
    "HIDDEN_DIM = 256\n",
    "N_LAYERS = 2\n",
    "\n",
    "LR = 0.001\n",
    "N_EPOCHS = 5"
   ]
  },
  {
   "cell_type": "code",
   "execution_count": 21,
   "metadata": {},
   "outputs": [],
   "source": [
    "is_cuda = torch.cuda.is_available()\n",
    "\n",
    "if is_cuda: device = torch.device('cuda')\n",
    "else: device = torch.device('cpu')"
   ]
  },
  {
   "cell_type": "code",
   "execution_count": 22,
   "metadata": {},
   "outputs": [],
   "source": [
    "class SentimentalLSTM(nn.Module):\n",
    "    \"\"\"\n",
    "    The LSTM-based model that will be used to perform sentiment analysis task.\n",
    "    \"\"\"\n",
    "    \n",
    "    def __init__(self, vocab_size, output_size, embedding_dim, hidden_dim, n_layers, drop_prob=0.5):\n",
    "        super(SentimentalLSTM, self).__init__()\n",
    "        \n",
    "        self.output_size = output_size\n",
    "        self.hidden_dim = hidden_dim\n",
    "        self.n_layers = n_layers\n",
    "        \n",
    "        # create model layers\n",
    "        self.embedding_layer = nn.Embedding(vocab_size, embedding_dim)\n",
    "        self.lstm_layer = nn.LSTM(embedding_dim, hidden_dim, n_layers, dropout=drop_prob, batch_first=True)\n",
    "        self.dropout = nn.Dropout(0.3)\n",
    "        \n",
    "        self.fc1_layer = nn.Linear(hidden_dim, 64)\n",
    "        self.fc2_layer = nn.Linear(64, 16)\n",
    "        self.fc3_layer = nn.Linear(16, output_size)\n",
    "        self.sigmoid = nn.Sigmoid()\n",
    "    \n",
    "    def init_hidden(self, batch_size, device):\n",
    "        \n",
    "        weight = next(self.parameters()).data\n",
    "        \n",
    "        hidden = (weight.new(self.n_layers, batch_size, self.hidden_dim).zero_().to(device),\n",
    "                  weight.new(self.n_layers, batch_size, self.hidden_dim).zero_().to(device))\n",
    "        \n",
    "        return hidden\n",
    "        \n",
    "    def forward(self, x, hidden):\n",
    "        \n",
    "        batch_size = x.size()\n",
    "        \n",
    "        embeds = self.embedding_layer(x)\n",
    "        lstm_out, hidden = self.lstm_layer(embeds, hidden)\n",
    "        lstm_out = lstm_out.contiguous().view(-1, self.hidden_dim) # stack up the lstm output\n",
    "        \n",
    "        # layers act as classifier\n",
    "        output = self.dropout(lstm_out)\n",
    "        output = self.fc1_layer(output)\n",
    "        \n",
    "        output = self.dropout(output)\n",
    "        output = self.fc2_layer(output)\n",
    "        \n",
    "        output = self.dropout(output)\n",
    "        output = self.fc3_layer(output)\n",
    "        output = self.sigmoid(output)\n",
    "        \n",
    "        output = output.view(batch_size, -1)\n",
    "        output = output[:, -1]\n",
    "        \n",
    "        return output, hidden"
   ]
  },
  {
   "cell_type": "markdown",
   "metadata": {},
   "source": [
    "#### Initialize Sentimental LSTM Model"
   ]
  },
  {
   "cell_type": "code",
   "execution_count": 23,
   "metadata": {},
   "outputs": [
    {
     "data": {
      "text/plain": [
       "SentimentalLSTM(\n",
       "  (embedding_layer): Embedding(74073, 400)\n",
       "  (lstm_layer): LSTM(400, 256, num_layers=2, batch_first=True, dropout=0.5)\n",
       "  (dropout): Dropout(p=0.3, inplace=False)\n",
       "  (fc1_layer): Linear(in_features=256, out_features=64, bias=True)\n",
       "  (fc2_layer): Linear(in_features=64, out_features=16, bias=True)\n",
       "  (fc3_layer): Linear(in_features=16, out_features=1, bias=True)\n",
       "  (sigmoid): Sigmoid()\n",
       ")"
      ]
     },
     "execution_count": 23,
     "metadata": {},
     "output_type": "execute_result"
    }
   ],
   "source": [
    "lstm_net = SentimentalLSTM(VOCAB_SIZE, OUTPUT_SIZE, EMBEDDING_DIM, HIDDEN_DIM, N_LAYERS)\n",
    "lstm_net.to(device)"
   ]
  },
  {
   "cell_type": "markdown",
   "metadata": {},
   "source": [
    "## Set Loss Function"
   ]
  },
  {
   "cell_type": "code",
   "execution_count": 24,
   "metadata": {},
   "outputs": [],
   "source": [
    "bce_loss = nn.BCELoss()"
   ]
  },
  {
   "cell_type": "markdown",
   "metadata": {},
   "source": [
    "## Set Optimizer"
   ]
  },
  {
   "cell_type": "code",
   "execution_count": 25,
   "metadata": {},
   "outputs": [],
   "source": [
    "optimizer = torch.optim.Adam(lstm_net.parameters(), lr=LR)"
   ]
  },
  {
   "cell_type": "markdown",
   "metadata": {},
   "source": [
    "## Train The Network"
   ]
  },
  {
   "cell_type": "code",
   "execution_count": 26,
   "metadata": {},
   "outputs": [],
   "source": [
    "counter = 0\n",
    "print_every = 100\n",
    "clip = 5"
   ]
  },
  {
   "cell_type": "code",
   "execution_count": 27,
   "metadata": {},
   "outputs": [
    {
     "name": "stdout",
     "output_type": "stream",
     "text": [
      "Epoch: 1/5... Step: 100... Loss: 0.695936... Valid Loss: 0.652171\n",
      "Epoch: 1/5... Step: 200... Loss: 0.653189... Valid Loss: 0.635135\n",
      "Epoch: 1/5... Step: 300... Loss: 0.595953... Valid Loss: 0.591437\n",
      "Epoch: 1/5... Step: 400... Loss: 0.522252... Valid Loss: 0.539861\n",
      "Epoch: 2/5... Step: 500... Loss: 0.424537... Valid Loss: 0.545904\n",
      "Epoch: 2/5... Step: 600... Loss: 0.367605... Valid Loss: 0.532339\n",
      "Epoch: 2/5... Step: 700... Loss: 0.467702... Valid Loss: 0.503054\n",
      "Epoch: 2/5... Step: 800... Loss: 0.616933... Valid Loss: 0.531863\n",
      "Epoch: 3/5... Step: 900... Loss: 0.409398... Valid Loss: 0.499556\n",
      "Epoch: 3/5... Step: 1000... Loss: 0.272488... Valid Loss: 0.596831\n",
      "Epoch: 3/5... Step: 1100... Loss: 0.481810... Valid Loss: 0.417055\n",
      "Epoch: 3/5... Step: 1200... Loss: 0.334764... Valid Loss: 0.426923\n",
      "Epoch: 4/5... Step: 1300... Loss: 0.192200... Valid Loss: 0.451102\n",
      "Epoch: 4/5... Step: 1400... Loss: 0.420731... Valid Loss: 0.561896\n",
      "Epoch: 4/5... Step: 1500... Loss: 0.357495... Valid Loss: 0.504912\n",
      "Epoch: 4/5... Step: 1600... Loss: 0.402611... Valid Loss: 0.442872\n",
      "Epoch: 5/5... Step: 1700... Loss: 0.111415... Valid Loss: 0.570563\n",
      "Epoch: 5/5... Step: 1800... Loss: 0.250482... Valid Loss: 0.521314\n",
      "Epoch: 5/5... Step: 1900... Loss: 0.075458... Valid Loss: 0.480155\n",
      "Epoch: 5/5... Step: 2000... Loss: 0.145821... Valid Loss: 0.473061\n"
     ]
    }
   ],
   "source": [
    "train_losses = []\n",
    "\n",
    "lstm_net.train()\n",
    "for epoch in range(1, N_EPOCHS+1):\n",
    "    \n",
    "    hidden = lstm_net.init_hidden(BATCH_SIZE, device)\n",
    "    \n",
    "    for inputs, labels in train_loader:\n",
    "        counter += 1\n",
    "        \n",
    "        hidden = tuple([each.data for each in hidden])\n",
    "        \n",
    "        inputs, labels = inputs.to(device), labels.to(device)\n",
    "                \n",
    "        optimizer.zero_grad()\n",
    "        lstm_out, hidden = lstm_net(inputs, hidden)\n",
    "        loss = bce_loss(lstm_out.squeeze(), labels.float())\n",
    "        \n",
    "        loss.backward()\n",
    "        nn.utils.clip_grad_norm_(lstm_net.parameters(), clip)\n",
    "        optimizer.step()\n",
    "        \n",
    "        if counter % print_every == 0:\n",
    "            \n",
    "            valid_hidden = lstm_net.init_hidden(BATCH_SIZE, device)\n",
    "            valid_losses = []\n",
    "            \n",
    "            lstm_net.eval()\n",
    "            for inputs, labels in valid_loader:\n",
    "                \n",
    "                valid_hidden = tuple([each.data for each in valid_hidden])\n",
    "                \n",
    "                inputs, labels = inputs.to(device), labels.to(device)\n",
    "                lstm_out, valid_hidden = lstm_net(inputs, valid_hidden)\n",
    "                valid_loss = bce_loss(lstm_out.squeeze(), labels.float())\n",
    "                \n",
    "                valid_losses.append(valid_loss.item())\n",
    "                \n",
    "            lstm_net.train()\n",
    "            print(f'Epoch: {epoch}/{N_EPOCHS}...',\n",
    "                  f'Step: {counter}...',\n",
    "                  f'Loss: {loss.item():.6f}...',\n",
    "                  f'Valid Loss: {np.mean(valid_losses):.6f}')\n",
    "            \n",
    "            train_losses.append(loss.item())"
   ]
  },
  {
   "cell_type": "code",
   "execution_count": 33,
   "metadata": {},
   "outputs": [
    {
     "data": {
      "image/png": "[encoded data removed]",
      "text/plain": [
       "<Figure size 720x360 with 1 Axes>"
      ]
     },
     "metadata": {
      "needs_background": "light"
     },
     "output_type": "display_data"
    }
   ],
   "source": [
    "plt.figure(figsize=(10,5))\n",
    "plt.title(\"Train Loss of LSTM Network\")\n",
    "plt.plot(train_losses, label=\"Train Loss\")\n",
    "plt.xlabel(\"Epoch\")\n",
    "plt.ylabel(\"Loss\")\n",
    "plt.legend()\n",
    "\n",
    "if not os.path.exists('./images/'): os.makedirs('./images/')\n",
    "plt.savefig('./images/LSTM_final_train_loss.png')\n",
    "plt.show()"
   ]
  },
  {
   "cell_type": "markdown",
   "metadata": {},
   "source": [
    "## Test The Network"
   ]
  },
  {
   "cell_type": "code",
   "execution_count": 29,
   "metadata": {},
   "outputs": [],
   "source": [
    "test_losses = []\n",
    "num_correct = 0\n",
    "\n",
    "# init hidden state\n",
    "hidden = lstm_net.init_hidden(BATCH_SIZE, device)\n",
    "\n",
    "lstm_net.eval()\n",
    "for inputs, labels in test_loader:\n",
    "    \n",
    "    hidden = tuple([each.data for each in hidden])\n",
    "    \n",
    "    inputs, labels = inputs.to(device), labels.to(device)\n",
    "    lstm_out, hidden = lstm_net(inputs, hidden)\n",
    "    \n",
    "    # calculate loss\n",
    "    test_loss = bce_loss(lstm_out.squeeze(), labels.float())\n",
    "    test_losses.append(test_loss.item())\n",
    "    \n",
    "    # convert output probabilities to predicted class whether positive or negative\n",
    "    prediction = torch.round(lstm_out.squeeze())\n",
    "    correct_tensor = prediction.eq(labels.float().view_as(prediction))\n",
    "    \n",
    "    if device.type == 'cpu': correct = np.squeeze(correct_tensor.numpy())\n",
    "    else: correct = np.squeeze(correct_tensor.cpu().numpy())\n",
    "    \n",
    "    num_correct += np.sum(correct)"
   ]
  },
  {
   "cell_type": "code",
   "execution_count": 30,
   "metadata": {},
   "outputs": [
    {
     "name": "stdout",
     "output_type": "stream",
     "text": [
      "Test Loss: 0.457503\n",
      "Test Accuracy: 80.48%\n"
     ]
    }
   ],
   "source": [
    "print(f'Test Loss: {np.mean(test_losses):.6f}')\n",
    "\n",
    "test_accuracy = num_correct/ len(test_loader.dataset)\n",
    "print(f'Test Accuracy: {test_accuracy*100:.2f}%')"
   ]
  },
  {
   "cell_type": "markdown",
   "metadata": {},
   "source": [
    "---"
   ]
  }
 ],
 "metadata": {
  "kernelspec": {
   "display_name": "Python 3",
   "language": "python",
   "name": "python3"
  },
  "language_info": {
   "codemirror_mode": {
    "name": "ipython",
    "version": 3
   },
   "file_extension": ".py",
   "mimetype": "text/x-python",
   "name": "python",
   "nbconvert_exporter": "python",
   "pygments_lexer": "ipython3",
   "version": "3.6.7"
  }
 },
 "nbformat": 4,
 "nbformat_minor": 2
}
