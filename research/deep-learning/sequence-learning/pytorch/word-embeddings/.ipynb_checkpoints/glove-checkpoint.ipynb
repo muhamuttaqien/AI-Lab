{
 "cells": [
  {
   "cell_type": "markdown",
   "metadata": {},
   "source": [
    "# Global Vectors for Word Representation"
   ]
  },
  {
   "cell_type": "code",
   "execution_count": null,
   "metadata": {
    "collapsed": true
   },
   "outputs": [],
   "source": [
    "import os\n",
    "import numpy as np\n",
    "import matplotlib.pyplot as plt\n",
    "from collections import Counter, defaultdict"
   ]
  },
  {
   "cell_type": "code",
   "execution_count": null,
   "metadata": {
    "collapsed": true
   },
   "outputs": [],
   "source": [
    "import torch\n",
    "import torch.nn as nn\n",
    "import torch.nn.functional as F"
   ]
  },
  {
   "cell_type": "markdown",
   "metadata": {},
   "source": [
    "## Load Datasets"
   ]
  },
  {
   "cell_type": "code",
   "execution_count": null,
   "metadata": {
    "collapsed": true
   },
   "outputs": [],
   "source": [
    "class GloveDataset:\n",
    "    \n",
    "    def __init__(self, text, n_words=200000, window_size=5):\n",
    "        \n",
    "        self._window_size = window_size\n",
    "        self._tokens = text.split(' ')[:n_words]\n",
    "        word_counter = Counter()\n",
    "        word_counter.update(self._tokens)\n",
    "        \n",
    "        self._word2idx = {w:i for i, (w, _) in enumerate(word_counter.most_common())}\n",
    "        self._idx2word = {i:w for w, i in self._word2idx.items()}\n",
    "        self._vocab_len = len(self._word2idx)\n",
    "        self._id_tokens = [self._word2idx[w] for w in self._tokens]\n",
    "        self._create_coocurrence_matrix()\n",
    "        \n",
    "        print('Total of words: {}'.format(len(self._tokens)))\n",
    "        print('Vocabulary length: {}'.format(self._vocab_len))\n",
    "        \n",
    "    def _create_coocurrence_matrix(self):\n",
    "        \n",
    "        co_matrix = defaultdict(Counter)\n",
    "        for i, w in enumerate(self._id_tokens):\n",
    "            start_i = max(i - self._window_size, 0)\n",
    "            end_i = min(i + self._window_size + 1, len(self._id_tokens))\n",
    "            for j in range(start_i, end_i):\n",
    "                if i != j:\n",
    "                    c = self._id_tokens[j]\n",
    "                    co_matrix[w][c] += 1 / abs(j-i)\n",
    "        \n",
    "        self._i_idx = list()\n",
    "        self._j_idx = list()\n",
    "        self._xij = list()\n",
    "        \n",
    "        # create indexes and x values tensors\n",
    "        for w, co in co_matrix.items():\n",
    "            for c, v in co.items():\n",
    "                self._i_idx.append(w)\n",
    "                self._j_idx.append(c)\n",
    "                self._xij.append(v)\n",
    "        \n",
    "        self._i_idx = torch.LongTensor(self._i_idx)\n",
    "        self._j_idx = torch.LongTensor(self._j_idx)\n",
    "        self._xij = torch.FloatTensor(self._xij)\n",
    "    \n",
    "    def get_batches(self, batch_size):\n",
    "        # generate random idx\n",
    "        random_idx = torch.LongTensor(np.random.choice(len(self._xij), len(self._xij), replace=False))\n",
    "        \n",
    "        for p in range(0, len(random_idx), batch_size):\n",
    "            batch_idx = random_idx[p:p+batch_size]\n",
    "            yield self._xij[batch_idx], self._i_idx[batch_idx], self._j_idx[batch_idx]"
   ]
  },
  {
   "cell_type": "code",
   "execution_count": null,
   "metadata": {},
   "outputs": [],
   "source": [
    "datasets = GloveDataset(open('./datasets/text8').read(), 10000000)"
   ]
  },
  {
   "cell_type": "markdown",
   "metadata": {},
   "source": [
    "## Set Configs"
   ]
  },
  {
   "cell_type": "code",
   "execution_count": null,
   "metadata": {
    "collapsed": true
   },
   "outputs": [],
   "source": [
    "LR = 0.05\n",
    "N_EPOCHS = 1 # try 100 to get much better results\n",
    "\n",
    "BATCH_SIZE = 2048\n",
    "EMBEDDING_DIM = 300\n",
    "X_MAX = 100\n",
    "ALPHA = 0.75"
   ]
  },
  {
   "cell_type": "code",
   "execution_count": null,
   "metadata": {
    "collapsed": true
   },
   "outputs": [],
   "source": [
    "is_cuda = torch.cuda.is_available()\n",
    "\n",
    "if is_cuda: device = torch.device('cuda')\n",
    "else: device = torch.device('cpu')"
   ]
  },
  {
   "cell_type": "markdown",
   "metadata": {},
   "source": [
    "## Build [Glove](https://nlp.stanford.edu/pubs/glove.pdf) Network"
   ]
  },
  {
   "cell_type": "code",
   "execution_count": null,
   "metadata": {
    "collapsed": true
   },
   "outputs": [],
   "source": [
    "class Glove(nn.Module):\n",
    "    \n",
    "    def __init__(self, input_size, embedding_dim):\n",
    "        super(Glove, self).__init__()\n",
    "        \n",
    "        self.vocab_size = input_size\n",
    "        \n",
    "        self.wi = nn.Embedding(self.vocab_size, embedding_dim)\n",
    "        self.wj = nn.Embedding(self.vocab_size, embedding_dim)\n",
    "        self.bi = nn.Embedding(self.vocab_size, 1)\n",
    "        self.bj = nn.Embedding(self.vocab_size, 1)\n",
    "        \n",
    "        self.wi.weight.data.uniform_(-1, 1)\n",
    "        self.wj.weight.data.uniform_(-1, 1)\n",
    "        self.bi.weight.data.zero_()\n",
    "        self.bj.weight.data.zero_()\n",
    "        \n",
    "    def forward(self, i_indices, j_indices):\n",
    "        w_i = self.wi(i_indices)\n",
    "        w_j = self.wj(j_indices)\n",
    "        b_i = self.bi(i_indices).squeeze()\n",
    "        b_j = self.bj(j_indices).squeeze()\n",
    "        \n",
    "        x = torch.sum(w_i * w_j, dim=1) + b_i + b_j\n",
    "        \n",
    "        return x"
   ]
  },
  {
   "cell_type": "markdown",
   "metadata": {},
   "source": [
    "#### Initialize Glove Network"
   ]
  },
  {
   "cell_type": "code",
   "execution_count": null,
   "metadata": {},
   "outputs": [],
   "source": [
    "glove = Glove(datasets._vocab_len, EMBEDDING_DIM)\n",
    "glove.to(device)"
   ]
  },
  {
   "cell_type": "markdown",
   "metadata": {},
   "source": [
    "## Set Loss Function"
   ]
  },
  {
   "cell_type": "code",
   "execution_count": null,
   "metadata": {
    "collapsed": true
   },
   "outputs": [],
   "source": [
    "def wmse_loss(weights, inputs, targets):\n",
    "    loss = weights * F.mse_loss(inputs, targets, reduction='none')\n",
    "    loss = torch.mean(loss)\n",
    "    \n",
    "    return loss"
   ]
  },
  {
   "cell_type": "code",
   "execution_count": null,
   "metadata": {
    "collapsed": true
   },
   "outputs": [],
   "source": [
    "def weight_loss(x, x_max, alpha):\n",
    "    wx = (x/x_max) ** alpha\n",
    "    wx = torch.min(wx, torch.ones_like(wx))\n",
    "    \n",
    "    return wx"
   ]
  },
  {
   "cell_type": "markdown",
   "metadata": {},
   "source": [
    "## Set Optimizer"
   ]
  },
  {
   "cell_type": "code",
   "execution_count": null,
   "metadata": {},
   "outputs": [],
   "source": [
    "optimizer = torch.optim.Adagrad(glove.parameters(), lr=LR)"
   ]
  },
  {
   "cell_type": "markdown",
   "metadata": {},
   "source": [
    "## Train Glove Network"
   ]
  },
  {
   "cell_type": "code",
   "execution_count": null,
   "metadata": {},
   "outputs": [],
   "source": [
    "print_every = 100\n",
    "train_losses = []\n",
    "\n",
    "glove.train()\n",
    "for epoch in range(N_EPOCHS):\n",
    "    \n",
    "    batch_i = 0\n",
    "    for x_ij, i_idx, j_idx in datasets.get_batches(BATCH_SIZE):\n",
    "        \n",
    "        batch_i += 1\n",
    "        \n",
    "        x_ij = x_ij.to(device)\n",
    "        i_idx = i_idx.to(device)\n",
    "        j_idx = j_idx.to(device)\n",
    "\n",
    "        optimizer.zero_grad()\n",
    "        outputs = glove(i_idx, j_idx)\n",
    "        weights = weight_loss(x_ij, X_MAX, ALPHA)\n",
    "        loss = wmse_loss(weights, outputs, torch.log(x_ij))\n",
    "        \n",
    "        loss.backward()\n",
    "        optimizer.step()\n",
    "        \n",
    "        train_losses.append(loss.item())\n",
    "        \n",
    "        if batch_i % print_every == 0:\n",
    "            print('Epoch: {}/{}, '.format(epoch, N_EPOCHS),\n",
    "                  'Batch: {}/{}, '.format(batch_i, int(len(datasets._xij) / BATCH_SIZE)),\n",
    "                  'Train Loss: {}'.format(np.mean(train_losses[-20:])))\n",
    "    \n",
    "    print('Saving model...')\n",
    "    if not os.path.exists('./weights/'): os.makedirs('./weights/')\n",
    "    torch.save(glove.state_dict(), 'weights/glove_text8.pt')"
   ]
  },
  {
   "cell_type": "code",
   "execution_count": null,
   "metadata": {},
   "outputs": [],
   "source": [
    "plt.figure(figsize=(10,5))\n",
    "plt.title(\"Train Loss of Glove Network\")\n",
    "plt.plot(train_losses, label=\"Train Loss\", color=\"green\")\n",
    "plt.xlabel(\"Epoch\")\n",
    "plt.ylabel(\"Loss\")\n",
    "plt.legend()\n",
    "\n",
    "if not os.path.exists('./images/'): os.makedirs('./images/')\n",
    "plt.savefig('./images/glove_final_train_loss.png')\n",
    "plt.show()"
   ]
  },
  {
   "cell_type": "markdown",
   "metadata": {},
   "source": [
    "## Plot Word Vectors Using PCA"
   ]
  },
  {
   "cell_type": "code",
   "execution_count": null,
   "metadata": {
    "collapsed": true
   },
   "outputs": [],
   "source": [
    "from sklearn.decomposition import PCA"
   ]
  },
  {
   "cell_type": "code",
   "execution_count": null,
   "metadata": {
    "collapsed": true
   },
   "outputs": [],
   "source": [
    "embeds_i = glove.wi.weight.cpu().data.numpy()\n",
    "embeds_j = glove.wj.weight.cpu().data.numpy()\n",
    "embeds = embeds_i + embeds_j\n",
    "\n",
    "top_k = 300"
   ]
  },
  {
   "cell_type": "code",
   "execution_count": null,
   "metadata": {},
   "outputs": [],
   "source": [
    "pca = PCA(n_components=2)\n",
    "embeds_pca = pca.fit_transform(embeds[:top_k, :])\n",
    "\n",
    "plt.figure(figsize=(20,20))\n",
    "plt.scatter(embeds_pca[:, 0], embeds_pca[:, 1])\n",
    "for i in range(top_k):\n",
    "    plt.annotate(datasets._idx2word[i], xy=(embeds_pca[i, 0], embeds_pca[i, 1]))\n",
    "\n",
    "if not os.path.exists('./images/'): os.makedirs('./images/')\n",
    "plt.savefig('./images/glove_pca_word_vectors.png')\n",
    "plt.show()"
   ]
  },
  {
   "cell_type": "markdown",
   "metadata": {},
   "source": [
    "## Plot Word Vectors Using TSNE"
   ]
  },
  {
   "cell_type": "code",
   "execution_count": null,
   "metadata": {
    "collapsed": true
   },
   "outputs": [],
   "source": [
    "from sklearn.manifold import TSNE"
   ]
  },
  {
   "cell_type": "code",
   "execution_count": null,
   "metadata": {},
   "outputs": [],
   "source": [
    "tsne = TSNE(metric='cosine', random_state=9)\n",
    "embeds_tsne = tsne.fit_transform(embeds[:top_k, :])\n",
    "fig, ax = plt.subplots(figsize=(20,20))\n",
    "for idx in range(top_k):\n",
    "    plt.scatter(*embedding_tsne[idx, :], color='steelblue')\n",
    "    plt.annotate(datasets._idx2word[idx], (embedding_tsne[idx, 0], embedding_tsne[idx, 1]), alpha=0.7)\n",
    "    \n",
    "plt.savefig('./images/glove_tsne_word_vectors.png')\n",
    "plt.show()"
   ]
  },
  {
   "cell_type": "markdown",
   "metadata": {},
   "source": [
    "---"
   ]
  }
 ],
 "metadata": {
  "kernelspec": {
   "display_name": "Python 3",
   "language": "python",
   "name": "python3"
  },
  "language_info": {
   "codemirror_mode": {
    "name": "ipython",
    "version": 3
   },
   "file_extension": ".py",
   "mimetype": "text/x-python",
   "name": "python",
   "nbconvert_exporter": "python",
   "pygments_lexer": "ipython3",
   "version": "3.6.3"
  }
 },
 "nbformat": 4,
 "nbformat_minor": 2
}
