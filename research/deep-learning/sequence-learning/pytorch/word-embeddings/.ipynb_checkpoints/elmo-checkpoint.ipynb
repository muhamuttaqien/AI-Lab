{
 "cells": [
  {
   "cell_type": "markdown",
   "metadata": {},
   "source": [
    "# Embeddings from Language Models (ELMo)"
   ]
  },
  {
   "cell_type": "code",
   "execution_count": 1,
   "metadata": {},
   "outputs": [],
   "source": [
    "import os\n",
    "import numpy as np\n",
    "from allennlp.modules.elmo import Elmo as allennlp_Elmo"
   ]
  },
  {
   "cell_type": "code",
   "execution_count": 2,
   "metadata": {
    "collapsed": true
   },
   "outputs": [],
   "source": [
    "import torch\n",
    "import torch.nn as nn\n",
    "import torch.nn.functional as F\n",
    "from torch.nn.utils.rnn import pack_padded_sequence, pad_packed_sequence"
   ]
  },
  {
   "cell_type": "markdown",
   "metadata": {},
   "source": [
    "## Set Utils"
   ]
  },
  {
   "cell_type": "code",
   "execution_count": 3,
   "metadata": {
    "collapsed": true
   },
   "outputs": [],
   "source": [
    "def count_parameters(model):\n",
    "    return sum(p.numel() for p in model.parameters() if p.requires_grad)"
   ]
  },
  {
   "cell_type": "markdown",
   "metadata": {},
   "source": [
    "## Set Configs"
   ]
  },
  {
   "cell_type": "code",
   "execution_count": 4,
   "metadata": {
    "collapsed": true
   },
   "outputs": [],
   "source": [
    "OUTPUT_SIZE = 1\n",
    "DROPOUT = 0.5\n",
    "LR = 2e-4\n",
    "WEIGHT_DECAY = 1e-4\n",
    "STEP_SIZE = 1\n",
    "GAMMA = 0.9\n",
    "\n",
    "options_file = 'elmo_2x4096_512_2048cnn_2xhighway_options.json'\n",
    "weight_file = 'elmo_2x4096_512_2048cnn_2xhighway_weights.hdf5'"
   ]
  },
  {
   "cell_type": "code",
   "execution_count": 5,
   "metadata": {
    "collapsed": true
   },
   "outputs": [],
   "source": [
    "is_cuda = torch.cuda.is_available()\n",
    "\n",
    "if is_cuda: device = torch.device('cuda')\n",
    "else: device = torch.device('cpu')"
   ]
  },
  {
   "cell_type": "markdown",
   "metadata": {},
   "source": [
    "## Build ELMo Network"
   ]
  },
  {
   "cell_type": "markdown",
   "metadata": {},
   "source": [
    "<img src='images/elmo-architecture.png' width=50% />"
   ]
  },
  {
   "cell_type": "code",
   "execution_count": 6,
   "metadata": {
    "collapsed": true
   },
   "outputs": [],
   "source": [
    "class Elmo(nn.Module):\n",
    "    \n",
    "    def __init__(self, output_size, dropout=0.5, \n",
    "                       options_file='elmo_2x4096_512_2048cnn_2xhighway_options.json', \n",
    "                       weight_file='elmo_2x4096_512_2048cnn_2xhighway_weights.hdf5'):\n",
    "        super(Elmo, self).__init__()\n",
    "        \n",
    "        self.dropout = dropout\n",
    "        self.options_file = options_file\n",
    "        self.weight_file = weight_file\n",
    "        \n",
    "        # use ELMo, deep bi-directional LSTM, for extracting sentence/ contextualized word embeddings\n",
    "        self.elmo = allennlp_Elmo(options_file, weight_file, 1, dropout, do_layer_norm=False)\n",
    "        self.conv_layer = nn.Conv1d(1024, 16, 3)\n",
    "        self.pool_layer = nn.AdaptiveMaxPool1d(128)\n",
    "        self.relu = nn.ReLU6()\n",
    "        self.dropout = nn.Dropout(dropout)\n",
    "        self.fc_layer = nn.Linear(2048, output_size)\n",
    "        \n",
    "    def init_weights(self):\n",
    "        \n",
    "        for name, param in self.fc_layer.named_parameters():\n",
    "            if 'bias' in name:\n",
    "                nn.init.constant_(param, 0.0)\n",
    "            elif 'weight' in name:\n",
    "                nn.init.xavier_uniform_(param)\n",
    "        for name, param in self.conv_layer.named_parameters():\n",
    "            if 'bias' in name:\n",
    "                nn.init.constant_(param, 0.0)\n",
    "            elif 'weight' in name:\n",
    "                nn.init.xavier_uniform_(param)\n",
    "                \n",
    "    def forward(self, sentences):\n",
    "        \n",
    "        elmo_out = self.elmo(sentences)\n",
    "        x = elmo_out['elmo_representations'][0]\n",
    "        x = x.transpose(1,2)\n",
    "        x = self.conv_layer(x)\n",
    "        x = self.relu(x)\n",
    "        x = self.pool_layer(x)\n",
    "        x = x.view(-1, 2048)\n",
    "        x = self.dropout(x)\n",
    "        output = self.fc_layer(x)\n",
    "        \n",
    "        return output"
   ]
  },
  {
   "cell_type": "markdown",
   "metadata": {},
   "source": [
    "#### Initialize ELMo Network"
   ]
  },
  {
   "cell_type": "code",
   "execution_count": null,
   "metadata": {
    "collapsed": true
   },
   "outputs": [],
   "source": [
    "elmo = Elmo(OUTPUT_SIZE, DROPOUT, options_file, weight_file)\n",
    "elmo.to(device)"
   ]
  },
  {
   "cell_type": "code",
   "execution_count": null,
   "metadata": {
    "collapsed": true
   },
   "outputs": [],
   "source": [
    "print(\"Number of params:\", count_parameters(elmo))"
   ]
  },
  {
   "cell_type": "markdown",
   "metadata": {},
   "source": [
    "## Set Loss Function"
   ]
  },
  {
   "cell_type": "code",
   "execution_count": null,
   "metadata": {
    "collapsed": true
   },
   "outputs": [],
   "source": [
    "ce_loss = nn.CrossEntropyLoss()"
   ]
  },
  {
   "cell_type": "markdown",
   "metadata": {},
   "source": [
    "## Set Optimizer"
   ]
  },
  {
   "cell_type": "code",
   "execution_count": null,
   "metadata": {
    "collapsed": true
   },
   "outputs": [],
   "source": [
    "optimizer = torch.optim.Adam(elmo.parameters(), lr=LR, weight_decay=WEIGHT_DECAY)\n",
    "lr_scheduler = torch.optim.lr_scheduler.StepLR(optimizer, step_size=STEP_SIZE, gamma=GAMMA)"
   ]
  },
  {
   "cell_type": "markdown",
   "metadata": {},
   "source": [
    "---"
   ]
  }
 ],
 "metadata": {
  "kernelspec": {
   "display_name": "Python 3",
   "language": "python",
   "name": "python3"
  },
  "language_info": {
   "codemirror_mode": {
    "name": "ipython",
    "version": 3
   },
   "file_extension": ".py",
   "mimetype": "text/x-python",
   "name": "python",
   "nbconvert_exporter": "python",
   "pygments_lexer": "ipython3",
   "version": "3.6.3"
  }
 },
 "nbformat": 4,
 "nbformat_minor": 2
}
