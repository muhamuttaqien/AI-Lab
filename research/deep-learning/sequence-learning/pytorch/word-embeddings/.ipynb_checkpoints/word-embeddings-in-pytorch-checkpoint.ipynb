{
 "cells": [
  {
   "cell_type": "markdown",
   "metadata": {},
   "source": [
    "# Pre-trained Word Embeddings in PyTorch"
   ]
  },
  {
   "cell_type": "code",
   "execution_count": 1,
   "metadata": {
    "collapsed": true
   },
   "outputs": [],
   "source": [
    "import torch\n",
    "import torch.nn as nn"
   ]
  },
  {
   "cell_type": "code",
   "execution_count": 3,
   "metadata": {
    "collapsed": true
   },
   "outputs": [],
   "source": [
    "def create_embedding_layer(weights_matrix, non_trainable=False):\n",
    "    \n",
    "    n_embeddings, embedding_dim = weights_matrix.size()\n",
    "    embedding_layer = nn.Embedding(n_embeddings, embedding_dim)\n",
    "    embedding_layer.load_state_dict({'weight': weights_matrix})\n",
    "    \n",
    "    if non_trainable:\n",
    "        embedding_layer.weight.requires_grad = False\n",
    "        \n",
    "    return embedding_layer, n_embeddings, embedding_dim"
   ]
  },
  {
   "cell_type": "code",
   "execution_count": 4,
   "metadata": {
    "collapsed": true
   },
   "outputs": [],
   "source": [
    "class GRU(nn.Module):\n",
    "    \n",
    "    def __init__(self, weights_matrix, hidden_dim, n_layers):\n",
    "        super(model, self).__init__()\n",
    "        self.hidden_dim = hidden_dim\n",
    "        self.n_layers = n_layers\n",
    "        \n",
    "        self.embedding_layer, self.n_embeddings, self.embedding_dim = create_embedding_layer(weights_matrix, True)        \n",
    "        self.gru_layer = nn.GRU(embedding_dim, hidden_dim, n_layers, batch_first=True)\n",
    "        self.relu = nn.ReLU()\n",
    "        self.fc_layer = nn.Linear(hidden_dim, output_size)\n",
    "        \n",
    "    def init_hidden(self, batch_size):\n",
    "        hidden = torch.zeros(self.n_layers, batch_size, self.hidden_dim)\n",
    "        return Variable(hidden)\n",
    "    \n",
    "    def forward(self, x, hidden):\n",
    "        embeds = self.embedding_layer(x)\n",
    "        gru_out, hidden = self.gru_layer(embeds, hidden)\n",
    "        output = self.fc_layer(self.relu(gru_out[:,-1]))\n",
    "        \n",
    "        return output, hidden"
   ]
  },
  {
   "cell_type": "markdown",
   "metadata": {},
   "source": [
    "---"
   ]
  }
 ],
 "metadata": {
  "kernelspec": {
   "display_name": "Python 3",
   "language": "python",
   "name": "python3"
  },
  "language_info": {
   "codemirror_mode": {
    "name": "ipython",
    "version": 3
   },
   "file_extension": ".py",
   "mimetype": "text/x-python",
   "name": "python",
   "nbconvert_exporter": "python",
   "pygments_lexer": "ipython3",
   "version": "3.6.3"
  }
 },
 "nbformat": 4,
 "nbformat_minor": 2
}
