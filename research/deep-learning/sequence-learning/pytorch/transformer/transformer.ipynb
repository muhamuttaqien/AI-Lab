{
 "cells": [
  {
   "cell_type": "markdown",
   "metadata": {},
   "source": [
    "# Transformer: A Novel [Google](https://ai.googleblog.com/2017/08/transformer-novel-neural-network.html) Language Understanding"
   ]
  },
  {
   "cell_type": "code",
   "execution_count": 1,
   "metadata": {},
   "outputs": [],
   "source": [
    "import os\n",
    "import time\n",
    "import copy\n",
    "import numpy as np\n",
    "import pandas as pd\n",
    "import pickle"
   ]
  },
  {
   "cell_type": "code",
   "execution_count": 2,
   "metadata": {},
   "outputs": [],
   "source": [
    "import torch\n",
    "import torch.nn as nn\n",
    "import torch.nn.functional as F\n",
    "from torchtext import data"
   ]
  },
  {
   "cell_type": "code",
   "execution_count": 3,
   "metadata": {},
   "outputs": [],
   "source": [
    "from utils import create_masks, show_plot_evaluation, translate_text"
   ]
  },
  {
   "cell_type": "code",
   "execution_count": 4,
   "metadata": {},
   "outputs": [],
   "source": [
    "from Iterator import batch_size_fn, Iterator\n",
    "from Tokenizer import Tokenizer\n",
    "from Embedder import Embedder\n",
    "from PositionalEncoder import PositionalEncoder\n",
    "from Sublayers import Norm, MultiHeadSelfAttention, FeedForward\n",
    "from Layers import EncoderLayer, DecoderLayer\n",
    "from Scheduler import CosineWithRestarts"
   ]
  },
  {
   "cell_type": "markdown",
   "metadata": {},
   "source": [
    "## Set Configs"
   ]
  },
  {
   "cell_type": "code",
   "execution_count": 5,
   "metadata": {},
   "outputs": [],
   "source": [
    "N_EPOCHS = 50\n",
    "N_LAYERS = 6\n",
    "N_HEADS = 8\n",
    "D_MODEL = EMBEDDING_DIM = 512\n",
    "MAX_LENGTH = 80\n",
    "\n",
    "DROPOUT = 0.1\n",
    "BATCH_SIZE = 1500\n",
    "LR = 0.0001\n",
    "\n",
    "BETA1 = 0.9\n",
    "BETA2 = 0.98\n",
    "EPS = 1e-9"
   ]
  },
  {
   "cell_type": "code",
   "execution_count": 6,
   "metadata": {},
   "outputs": [],
   "source": [
    "is_cuda = torch.cuda.is_available()\n",
    "\n",
    "if is_cuda: device = torch.device('cuda')\n",
    "else: device = torch.device('cpu')"
   ]
  },
  {
   "cell_type": "markdown",
   "metadata": {},
   "source": [
    "## Load Datasets"
   ]
  },
  {
   "cell_type": "code",
   "execution_count": 7,
   "metadata": {},
   "outputs": [],
   "source": [
    "SOURCE_LANG = 'en'\n",
    "TARGET_LANG = 'fr'\n",
    "\n",
    "SOURCE_DATA = open('./datasets/english.txt').read().strip().split('\\n')\n",
    "TARGET_DATA = open('./datasets/french.txt').read().strip().split('\\n')"
   ]
  },
  {
   "cell_type": "markdown",
   "metadata": {},
   "source": [
    "## Pre-process Datasets"
   ]
  },
  {
   "cell_type": "code",
   "execution_count": 8,
   "metadata": {},
   "outputs": [],
   "source": [
    "token_source = Tokenizer(SOURCE_LANG)\n",
    "token_target = Tokenizer(TARGET_LANG)\n",
    "\n",
    "SOURCE_FIELD = data.Field(lower=True, tokenize=token_source.tokenize)\n",
    "TARGET_FIELD = data.Field(lower=True, tokenize=token_target.tokenize, init_token='<SOS>', eos_token='<EOS>')"
   ]
  },
  {
   "cell_type": "code",
   "execution_count": 9,
   "metadata": {},
   "outputs": [
    {
     "data": {
      "text/html": [
       "<div>\n",
       "<style scoped>\n",
       "    .dataframe tbody tr th:only-of-type {\n",
       "        vertical-align: middle;\n",
       "    }\n",
       "\n",
       "    .dataframe tbody tr th {\n",
       "        vertical-align: top;\n",
       "    }\n",
       "\n",
       "    .dataframe thead th {\n",
       "        text-align: right;\n",
       "    }\n",
       "</style>\n",
       "<table border=\"1\" class=\"dataframe\">\n",
       "  <thead>\n",
       "    <tr style=\"text-align: right;\">\n",
       "      <th></th>\n",
       "      <th>SOURCE</th>\n",
       "      <th>TARGET</th>\n",
       "    </tr>\n",
       "  </thead>\n",
       "  <tbody>\n",
       "    <tr>\n",
       "      <th>0</th>\n",
       "      <td>Go.</td>\n",
       "      <td>Va !</td>\n",
       "    </tr>\n",
       "    <tr>\n",
       "      <th>1</th>\n",
       "      <td>Run!</td>\n",
       "      <td>Cours !</td>\n",
       "    </tr>\n",
       "    <tr>\n",
       "      <th>2</th>\n",
       "      <td>Run!</td>\n",
       "      <td>Courez !</td>\n",
       "    </tr>\n",
       "    <tr>\n",
       "      <th>3</th>\n",
       "      <td>Fire!</td>\n",
       "      <td>Au feu !</td>\n",
       "    </tr>\n",
       "    <tr>\n",
       "      <th>4</th>\n",
       "      <td>Help!</td>\n",
       "      <td>À l'aide !</td>\n",
       "    </tr>\n",
       "  </tbody>\n",
       "</table>\n",
       "</div>"
      ],
      "text/plain": [
       "  SOURCE      TARGET\n",
       "0    Go.        Va !\n",
       "1   Run!     Cours !\n",
       "2   Run!    Courez !\n",
       "3  Fire!    Au feu !\n",
       "4  Help!  À l'aide !"
      ]
     },
     "execution_count": 9,
     "metadata": {},
     "output_type": "execute_result"
    }
   ],
   "source": [
    "raw_data = {'SOURCE': [line for line in SOURCE_DATA], 'TARGET': [line for line in TARGET_DATA]}\n",
    "df_datasets = pd.DataFrame(raw_data, columns=['SOURCE', 'TARGET'])\n",
    "df_datasets.head()"
   ]
  },
  {
   "cell_type": "code",
   "execution_count": 10,
   "metadata": {},
   "outputs": [],
   "source": [
    "mask = (df_datasets['SOURCE'].str.count(' ') < MAX_LENGTH) & (df_datasets['TARGET'].str.count(' ') < MAX_LENGTH)\n",
    "df_datasets = df_datasets.loc[mask]\n",
    "\n",
    "df_datasets.to_csv('./datasets/translate_transformer_temp.csv', index=False)\n",
    "data_fields = [('SOURCE', SOURCE_FIELD), ('TARGET', TARGET_FIELD)]\n",
    "train = data.TabularDataset('./datasets/translate_transformer_temp.csv', format='csv', fields=data_fields)\n",
    "train_iter = Iterator(train, batch_size=BATCH_SIZE, device=device, repeat=False, \n",
    "                      sort_key=lambda x: (len(x.SOURCE), len(x.TARGET)),\n",
    "                      batch_size_fn=batch_size_fn, train=True, shuffle=True)"
   ]
  },
  {
   "cell_type": "code",
   "execution_count": 11,
   "metadata": {},
   "outputs": [],
   "source": [
    "SOURCE_FIELD.build_vocab(train)\n",
    "TARGET_FIELD.build_vocab(train)\n",
    "\n",
    "pickle.dump(SOURCE_FIELD, open('datasets/SOURCE.pkl', 'wb'))\n",
    "pickle.dump(TARGET_FIELD, open('datasets/TARGET.pkl', 'wb'))\n",
    "\n",
    "SOURCE_PAD = SOURCE_FIELD.vocab.stoi['<PAD>']\n",
    "TARGET_PAD = TARGET_FIELD.vocab.stoi['<PAD>']\n",
    "\n",
    "for i, b in enumerate(train_iter): \n",
    "    TRAIN_LENGTH = i\n",
    "    pass"
   ]
  },
  {
   "cell_type": "code",
   "execution_count": 12,
   "metadata": {},
   "outputs": [],
   "source": [
    "source_vocab_size = len(SOURCE_FIELD.vocab)\n",
    "target_vocab_size = len(TARGET_FIELD.vocab)"
   ]
  },
  {
   "cell_type": "markdown",
   "metadata": {},
   "source": [
    "## Build [Transformer](https://arxiv.org/pdf/1706.03762.pdf) Network"
   ]
  },
  {
   "cell_type": "code",
   "execution_count": 13,
   "metadata": {},
   "outputs": [],
   "source": [
    "class Encoder(nn.Module):\n",
    "    \n",
    "    def __init__(self, vocab_size, d_model, N, heads, dropout):\n",
    "        super(Encoder, self).__init__()\n",
    "            \n",
    "        def get_clones(module, N):\n",
    "            return nn.ModuleList([copy.deepcopy(module) for i in range(N)])\n",
    "\n",
    "        self.N = N\n",
    "        self.embedding_layer = Embedder(vocab_size, d_model)\n",
    "        self.pe = PositionalEncoder(d_model, dropout=dropout)\n",
    "        self.encoder_layer = get_clones(EncoderLayer(d_model, heads, dropout), N)\n",
    "        self.norm = Norm(d_model)\n",
    "    \n",
    "    def forward(self, source_seq, mask):\n",
    "        \n",
    "        source_seq = source_seq.to(device)\n",
    "        \n",
    "        x = self.embedding_layer(source_seq)\n",
    "        x = self.pe(x)\n",
    "        for i in range(self.N):\n",
    "            x = self.encoder_layer[i](x, mask, device)\n",
    "            \n",
    "        x = self.norm(x)\n",
    "        return x"
   ]
  },
  {
   "cell_type": "code",
   "execution_count": 14,
   "metadata": {},
   "outputs": [],
   "source": [
    "class Decoder(nn.Module):\n",
    "    \n",
    "    def __init__(self, vocab_size, d_model, N, heads, dropout):\n",
    "        super(Decoder, self).__init__()\n",
    "        \n",
    "        def get_clones(module, N):\n",
    "            return nn.ModuleList([copy.deepcopy(module) for i in range(N)])\n",
    "        \n",
    "        self.N = N\n",
    "        self.embedding_layer = Embedder(vocab_size, d_model)\n",
    "        self.pe = PositionalEncoder(d_model, dropout=dropout)\n",
    "        self.decoder_layer = get_clones(DecoderLayer(d_model, heads, dropout), N)\n",
    "        self.norm = Norm(d_model)\n",
    "        \n",
    "    def forward(self, target_seq, encoder_outputs, source_mask, target_mask):\n",
    "        \n",
    "        target_seq = target_seq.to(device)\n",
    "        \n",
    "        x = self.embedding_layer(target_seq)\n",
    "        x = self.pe(x)\n",
    "        for i in range(self.N):\n",
    "            x = self.decoder_layer[i](x, encoder_outputs, source_mask, target_mask, device)\n",
    "            \n",
    "        x = self.norm(x)\n",
    "        return x"
   ]
  },
  {
   "cell_type": "code",
   "execution_count": 15,
   "metadata": {},
   "outputs": [],
   "source": [
    "class Transformer(nn.Module):\n",
    "    \n",
    "    def __init__(self, source_vocab, target_vocab, d_model, N, heads, dropout):\n",
    "        super(Transformer, self).__init__()\n",
    "        \n",
    "        self.encoder = Encoder(source_vocab, d_model, N, heads, dropout)\n",
    "        self.decoder = Decoder(target_vocab, d_model, N, heads, dropout)\n",
    "        self.fc_layer = nn.Linear(d_model, target_vocab)\n",
    "        \n",
    "    def forward(self, source_seq, target_seq, source_mask, target_mask):\n",
    "        \n",
    "        encoder_outputs = self.encoder(source_seq, source_mask)\n",
    "        decoder_output = self.decoder(target_seq, encoder_outputs, source_mask, target_mask)\n",
    "        output = self.fc_layer(decoder_output)\n",
    "        \n",
    "        return output"
   ]
  },
  {
   "cell_type": "markdown",
   "metadata": {},
   "source": [
    "#### Initialize Transformer Network"
   ]
  },
  {
   "cell_type": "code",
   "execution_count": 16,
   "metadata": {},
   "outputs": [],
   "source": [
    "transformer = Transformer(source_vocab_size, target_vocab_size, D_MODEL, N_LAYERS, N_HEADS, DROPOUT)\n",
    "transformer.to(device)\n",
    "for p in transformer.parameters(): \n",
    "    if p.dim() > 1: nn.init.xavier_uniform_(p)      "
   ]
  },
  {
   "cell_type": "markdown",
   "metadata": {},
   "source": [
    "## Set Loss Function"
   ]
  },
  {
   "cell_type": "code",
   "execution_count": 17,
   "metadata": {},
   "outputs": [],
   "source": [
    "def ce_loss(predictions, labels, ignore_index):\n",
    "    \n",
    "    loss = F.cross_entropy(predictions.view(-1, predictions.size(-1)), labels, ignore_index=ignore_index)\n",
    "    return loss"
   ]
  },
  {
   "cell_type": "markdown",
   "metadata": {},
   "source": [
    "## Set Optimizer"
   ]
  },
  {
   "cell_type": "code",
   "execution_count": 18,
   "metadata": {},
   "outputs": [],
   "source": [
    "optimizer = torch.optim.Adam(transformer.parameters(), lr=LR, betas=(BETA1, BETA2), eps=EPS)"
   ]
  },
  {
   "cell_type": "markdown",
   "metadata": {},
   "source": [
    "## Set Scheduler"
   ]
  },
  {
   "cell_type": "code",
   "execution_count": 19,
   "metadata": {},
   "outputs": [],
   "source": [
    "scheduler = CosineWithRestarts(optimizer=optimizer, T_max=TRAIN_LENGTH)"
   ]
  },
  {
   "cell_type": "markdown",
   "metadata": {},
   "source": [
    "## Train Transformer Network"
   ]
  },
  {
   "cell_type": "code",
   "execution_count": 20,
   "metadata": {
    "scrolled": true
   },
   "outputs": [
    {
     "name": "stdout",
     "output_type": "stream",
     "text": [
      "Training the network...\n",
      "Time: 2m, Epoch: 1 [####################] 100%, Loss = 4.421\n",
      "Epoch 1 complete, Loss: 4.421\n",
      "Time: 4m, Epoch: 2 [####################] 100%, Loss = 3.837\n",
      "Epoch 2 complete, Loss: 3.837\n",
      "Time: 6m, Epoch: 3 [####################] 100%, Loss = 3.275\n",
      "Epoch 3 complete, Loss: 3.275\n",
      "Time: 9m, Epoch: 4 [####################] 100%, Loss = 3.013\n",
      "Epoch 4 complete, Loss: 3.013\n",
      "Time: 11m, Epoch: 5 [####################] 100%, Loss = 2.798\n",
      "Epoch 5 complete, Loss: 2.798\n",
      "Time: 13m, Epoch: 6 [####################] 100%, Loss = 2.508\n",
      "Epoch 6 complete, Loss: 2.508\n",
      "Time: 16m, Epoch: 7 [####################] 100%, Loss = 2.360\n",
      "Epoch 7 complete, Loss: 2.360\n",
      "Time: 18m, Epoch: 8 [####################] 100%, Loss = 2.180\n",
      "Epoch 8 complete, Loss: 2.180\n",
      "Time: 20m, Epoch: 9 [####################] 100%, Loss = 2.025\n",
      "Epoch 9 complete, Loss: 2.025\n",
      "Time: 23m, Epoch: 10 [####################] 100%, Loss = 1.912\n",
      "Epoch 10 complete, Loss: 1.912\n",
      "Time: 25m, Epoch: 11 [####################] 100%, Loss = 1.788\n",
      "Epoch 11 complete, Loss: 1.788\n",
      "Time: 27m, Epoch: 12 [####################] 100%, Loss = 1.681\n",
      "Epoch 12 complete, Loss: 1.681\n",
      "Time: 30m, Epoch: 13 [####################] 100%, Loss = 1.591\n",
      "Epoch 13 complete, Loss: 1.591\n",
      "Time: 32m, Epoch: 14 [####################] 100%, Loss = 1.508\n",
      "Epoch 14 complete, Loss: 1.508\n",
      "Time: 34m, Epoch: 15 [####################] 100%, Loss = 1.446\n",
      "Epoch 15 complete, Loss: 1.446\n",
      "Time: 37m, Epoch: 16 [####################] 100%, Loss = 1.329\n",
      "Epoch 16 complete, Loss: 1.329\n",
      "Time: 39m, Epoch: 17 [####################] 100%, Loss = 1.325\n",
      "Epoch 17 complete, Loss: 1.325\n",
      "Time: 41m, Epoch: 18 [####################] 100%, Loss = 1.174\n",
      "Epoch 18 complete, Loss: 1.174\n",
      "Time: 44m, Epoch: 19 [####################] 100%, Loss = 1.261\n",
      "Epoch 19 complete, Loss: 1.261\n",
      "Time: 46m, Epoch: 20 [####################] 100%, Loss = 1.169\n",
      "Epoch 20 complete, Loss: 1.169\n",
      "Time: 48m, Epoch: 21 [####################] 100%, Loss = 1.175\n",
      "Epoch 21 complete, Loss: 1.175\n",
      "Time: 51m, Epoch: 22 [####################] 100%, Loss = 1.088\n",
      "Epoch 22 complete, Loss: 1.088\n",
      "Time: 53m, Epoch: 23 [####################] 100%, Loss = 1.041\n",
      "Epoch 23 complete, Loss: 1.041\n",
      "Time: 56m, Epoch: 24 [####################] 100%, Loss = 0.980\n",
      "Epoch 24 complete, Loss: 0.980\n",
      "Time: 58m, Epoch: 25 [####################] 100%, Loss = 0.978\n",
      "Epoch 25 complete, Loss: 0.978\n",
      "Time: 60m, Epoch: 26 [####################] 100%, Loss = 0.994\n",
      "Epoch 26 complete, Loss: 0.994\n",
      "Time: 63m, Epoch: 27 [####################] 100%, Loss = 0.903\n",
      "Epoch 27 complete, Loss: 0.903\n",
      "Time: 65m, Epoch: 28 [####################] 100%, Loss = 0.884\n",
      "Epoch 28 complete, Loss: 0.884\n",
      "Time: 67m, Epoch: 29 [####################] 100%, Loss = 0.838\n",
      "Epoch 29 complete, Loss: 0.838\n",
      "Time: 70m, Epoch: 30 [####################] 100%, Loss = 0.839\n",
      "Epoch 30 complete, Loss: 0.839\n",
      "Time: 72m, Epoch: 31 [####################] 100%, Loss = 0.806\n",
      "Epoch 31 complete, Loss: 0.806\n",
      "Time: 74m, Epoch: 32 [####################] 100%, Loss = 0.759\n",
      "Epoch 32 complete, Loss: 0.759\n",
      "Time: 77m, Epoch: 33 [####################] 100%, Loss = 0.747\n",
      "Epoch 33 complete, Loss: 0.747\n",
      "Time: 79m, Epoch: 34 [####################] 100%, Loss = 0.714\n",
      "Epoch 34 complete, Loss: 0.714\n",
      "Time: 81m, Epoch: 35 [####################] 100%, Loss = 0.737\n",
      "Epoch 35 complete, Loss: 0.737\n",
      "Time: 84m, Epoch: 36 [####################] 100%, Loss = 0.695\n",
      "Epoch 36 complete, Loss: 0.695\n",
      "Time: 86m, Epoch: 37 [####################] 100%, Loss = 0.692\n",
      "Epoch 37 complete, Loss: 0.692\n",
      "Time: 88m, Epoch: 38 [####################] 100%, Loss = 0.647\n",
      "Epoch 38 complete, Loss: 0.647\n",
      "Time: 91m, Epoch: 39 [####################] 100%, Loss = 0.690\n",
      "Epoch 39 complete, Loss: 0.690\n",
      "Time: 93m, Epoch: 40 [####################] 100%, Loss = 0.653\n",
      "Epoch 40 complete, Loss: 0.653\n",
      "Time: 95m, Epoch: 41 [####################] 100%, Loss = 0.626\n",
      "Epoch 41 complete, Loss: 0.626\n",
      "Time: 98m, Epoch: 42 [####################] 100%, Loss = 0.617\n",
      "Epoch 42 complete, Loss: 0.617\n",
      "Time: 100m, Epoch: 43 [####################] 100%, Loss = 0.581\n",
      "Epoch 43 complete, Loss: 0.581\n",
      "Time: 102m, Epoch: 44 [####################] 100%, Loss = 0.580\n",
      "Epoch 44 complete, Loss: 0.580\n",
      "Time: 105m, Epoch: 45 [####################] 100%, Loss = 0.560\n",
      "Epoch 45 complete, Loss: 0.560\n",
      "Time: 107m, Epoch: 46 [####################] 100%, Loss = 0.569\n",
      "Epoch 46 complete, Loss: 0.569\n",
      "Time: 109m, Epoch: 47 [####################] 100%, Loss = 0.570\n",
      "Epoch 47 complete, Loss: 0.570\n",
      "Time: 112m, Epoch: 48 [####################] 100%, Loss = 0.559\n",
      "Epoch 48 complete, Loss: 0.559\n",
      "Time: 114m, Epoch: 49 [####################] 100%, Loss = 0.525\n",
      "Epoch 49 complete, Loss: 0.525\n",
      "Time: 116m, Epoch: 50 [####################] 100%, Loss = 0.533\n",
      "Epoch 50 complete, Loss: 0.533\n"
     ]
    }
   ],
   "source": [
    "temp = tick = time.time()\n",
    "\n",
    "losses_history = []\n",
    "print_every = 100\n",
    "\n",
    "print('Training the network...')\n",
    "transformer.train()\n",
    "\n",
    "for epoch in range(1, N_EPOCHS+1):\n",
    "    \n",
    "    total_loss = 0\n",
    "    for i, batch in enumerate(train_iter):\n",
    "        \n",
    "        source = batch.SOURCE.transpose(0,1)\n",
    "        target = batch.TARGET.transpose(0,1)\n",
    "        target_input = target[:, :-1]\n",
    "        source_mask, target_mask = create_masks(source, target_input, SOURCE_PAD, TARGET_PAD, device)\n",
    "        \n",
    "        optimizer.zero_grad()\n",
    "        \n",
    "        predictions = transformer(source, target_input, source_mask, target_mask)\n",
    "        labels = target[:, 1:].contiguous().view(-1)\n",
    "        loss = ce_loss(predictions, labels, ignore_index=TARGET_PAD)\n",
    "        \n",
    "        loss.backward()\n",
    "        optimizer.step()\n",
    "        scheduler.step()\n",
    "        \n",
    "        total_loss += loss.item()\n",
    "        \n",
    "        if i % print_every == 0:\n",
    "            p = int(100 * i / TRAIN_LENGTH)\n",
    "            avg_loss = total_loss/ print_every\n",
    "            print('Time: %dm, Epoch: %d [%s%s] %d%%, Loss = %.3f' %\\\n",
    "                  ((time.time() - tick)//60, epoch, ''.join('#'*(p//5)), ''.join(' '*(20-(p//5))), p, avg_loss), end='\\r')\n",
    "            \n",
    "            total_loss = 0\n",
    "    \n",
    "    # plot average loss for evaluation\n",
    "    losses_history.append(avg_loss)\n",
    "    print('Time: %dm, Epoch: %d [%s%s] %d%%, Loss = %.3f\\nEpoch %d complete, Loss: %.03f' %\\\n",
    "        ((time.time() - tick)//60, epoch, ''.join('#'*(100//5)), ''.join(' '*(20-(100//5))), 100, avg_loss, epoch, avg_loss))\n",
    "          \n",
    "    # save models per each epoch\n",
    "    if not os.path.exists('./weights/'): os.makedirs('./weights/')\n",
    "    torch.save(transformer.state_dict(), 'weights/transformer')\n",
    "    "
   ]
  },
  {
   "cell_type": "code",
   "execution_count": 21,
   "metadata": {
    "scrolled": true
   },
   "outputs": [
    {
     "data": {
      "image/png": "[encoded data removed]",
      "text/plain": [
       "<Figure size 720x432 with 1 Axes>"
      ]
     },
     "metadata": {
      "needs_background": "light"
     },
     "output_type": "display_data"
    }
   ],
   "source": [
    "show_plot_evaluation(losses_history, 1)"
   ]
  },
  {
   "cell_type": "markdown",
   "metadata": {},
   "source": [
    "## Evaluate The Network"
   ]
  },
  {
   "cell_type": "code",
   "execution_count": 22,
   "metadata": {
    "scrolled": false
   },
   "outputs": [
    {
     "name": "stdout",
     "output_type": "stream",
     "text": [
      "> À quoi pensiez vous?\n",
      "\n"
     ]
    }
   ],
   "source": [
    "text = 'what are you thinking?'\n",
    "\n",
    "phrase = translate_text(text, transformer, SOURCE_FIELD, TARGET_FIELD, MAX_LENGTH, device)\n",
    "print('> ' + phrase + '\\n')"
   ]
  },
  {
   "cell_type": "code",
   "execution_count": 23,
   "metadata": {},
   "outputs": [
    {
     "name": "stdout",
     "output_type": "stream",
     "text": [
      "> Est ce une idée raisonnable?\n",
      "\n"
     ]
    }
   ],
   "source": [
    "text = 'is it a reasonable idea?'\n",
    "\n",
    "phrase = translate_text(text, transformer, SOURCE_FIELD, TARGET_FIELD, MAX_LENGTH, device)\n",
    "print('> ' + phrase + '\\n')"
   ]
  },
  {
   "cell_type": "code",
   "execution_count": 24,
   "metadata": {},
   "outputs": [
    {
     "name": "stdout",
     "output_type": "stream",
     "text": [
      "> Si nous avions envie de voyager, pourrions nous acheter les places du jardin  ?\n",
      "\n"
     ]
    }
   ],
   "source": [
    "text = 'If we wanted to travel around the world, could we buy the tickets tomorrow?'\n",
    "\n",
    "phrase = translate_text(text, transformer, SOURCE_FIELD, TARGET_FIELD, MAX_LENGTH, device)\n",
    "print('> ' + phrase + '\\n')"
   ]
  },
  {
   "cell_type": "markdown",
   "metadata": {},
   "source": [
    "---"
   ]
  }
 ],
 "metadata": {
  "kernelspec": {
   "display_name": "Python 3",
   "language": "python",
   "name": "python3"
  },
  "language_info": {
   "codemirror_mode": {
    "name": "ipython",
    "version": 3
   },
   "file_extension": ".py",
   "mimetype": "text/x-python",
   "name": "python",
   "nbconvert_exporter": "python",
   "pygments_lexer": "ipython3",
   "version": "3.6.7"
  }
 },
 "nbformat": 4,
 "nbformat_minor": 2
}
