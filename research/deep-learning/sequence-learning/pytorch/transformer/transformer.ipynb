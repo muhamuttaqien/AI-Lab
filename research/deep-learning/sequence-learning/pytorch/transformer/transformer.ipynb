{
 "cells": [
  {
   "cell_type": "markdown",
   "metadata": {},
   "source": [
    "# Transformer: A Novel [Google](https://ai.googleblog.com/2017/08/transformer-novel-neural-network.html) Language Understanding"
   ]
  },
  {
   "cell_type": "code",
   "execution_count": 1,
   "metadata": {
    "collapsed": true
   },
   "outputs": [],
   "source": [
    "import os\n",
    "import time\n",
    "import copy\n",
    "import numpy as np\n",
    "import pandas as pd\n",
    "import pickle"
   ]
  },
  {
   "cell_type": "code",
   "execution_count": 2,
   "metadata": {
    "collapsed": true
   },
   "outputs": [],
   "source": [
    "import torch\n",
    "import torch.nn as nn\n",
    "import torch.nn.functional as F\n",
    "from torchtext import data"
   ]
  },
  {
   "cell_type": "code",
   "execution_count": 3,
   "metadata": {
    "collapsed": true
   },
   "outputs": [],
   "source": [
    "from utils import create_masks, show_plot_evaluation, translate_text"
   ]
  },
  {
   "cell_type": "code",
   "execution_count": 4,
   "metadata": {
    "collapsed": true
   },
   "outputs": [],
   "source": [
    "from Iterator import batch_size_fn, Iterator\n",
    "from Tokenizer import Tokenizer\n",
    "from Embedder import Embedder\n",
    "from PositionalEncoder import PositionalEncoder\n",
    "from Sublayers import Norm, MultiHeadSelfAttention, FeedForward\n",
    "from Layers import EncoderLayer, DecoderLayer\n",
    "from Scheduler import CosineWithRestarts"
   ]
  },
  {
   "cell_type": "markdown",
   "metadata": {},
   "source": [
    "## Set Configs"
   ]
  },
  {
   "cell_type": "code",
   "execution_count": 5,
   "metadata": {
    "collapsed": true
   },
   "outputs": [],
   "source": [
    "N_EPOCHS = 100\n",
    "N_LAYERS = 6\n",
    "N_HEADS = 8\n",
    "D_MODEL = EMBEDDING_DIM = 512 # this can be the length of the longest sentence in our training dataset\n",
    "MAX_LENGTH = 80\n",
    "\n",
    "DROPOUT = 0.1\n",
    "BATCH_SIZE = 1500\n",
    "LR = 0.0001\n",
    "\n",
    "BETA1 = 0.9\n",
    "BETA2 = 0.98\n",
    "EPS = 1e-9"
   ]
  },
  {
   "cell_type": "code",
   "execution_count": 6,
   "metadata": {
    "collapsed": true
   },
   "outputs": [],
   "source": [
    "is_cuda = torch.cuda.is_available()\n",
    "\n",
    "if is_cuda: device = torch.device('cuda')\n",
    "else: device = torch.device('cpu')"
   ]
  },
  {
   "cell_type": "markdown",
   "metadata": {},
   "source": [
    "## Load Datasets"
   ]
  },
  {
   "cell_type": "code",
   "execution_count": 7,
   "metadata": {
    "collapsed": true
   },
   "outputs": [],
   "source": [
    "SOURCE_LANG = 'en'\n",
    "TARGET_LANG = 'fr'\n",
    "\n",
    "SOURCE_DATA = open('./datasets/english.txt').read().strip().split('\\n')\n",
    "TARGET_DATA = open('./datasets/french.txt').read().strip().split('\\n')"
   ]
  },
  {
   "cell_type": "markdown",
   "metadata": {},
   "source": [
    "## Pre-process Datasets"
   ]
  },
  {
   "cell_type": "code",
   "execution_count": 8,
   "metadata": {
    "collapsed": true
   },
   "outputs": [],
   "source": [
    "token_source = Tokenizer(SOURCE_LANG)\n",
    "token_target = Tokenizer(TARGET_LANG)\n",
    "\n",
    "SOURCE_FIELD = data.Field(lower=True, tokenize=token_source.tokenize)\n",
    "TARGET_FIELD = data.Field(lower=True, tokenize=token_target.tokenize, init_token='<SOS>', eos_token='<EOS>')"
   ]
  },
  {
   "cell_type": "code",
   "execution_count": 9,
   "metadata": {},
   "outputs": [
    {
     "data": {
      "text/html": [
       "<div>\n",
       "<style scoped>\n",
       "    .dataframe tbody tr th:only-of-type {\n",
       "        vertical-align: middle;\n",
       "    }\n",
       "\n",
       "    .dataframe tbody tr th {\n",
       "        vertical-align: top;\n",
       "    }\n",
       "\n",
       "    .dataframe thead th {\n",
       "        text-align: right;\n",
       "    }\n",
       "</style>\n",
       "<table border=\"1\" class=\"dataframe\">\n",
       "  <thead>\n",
       "    <tr style=\"text-align: right;\">\n",
       "      <th></th>\n",
       "      <th>SOURCE</th>\n",
       "      <th>TARGET</th>\n",
       "    </tr>\n",
       "  </thead>\n",
       "  <tbody>\n",
       "    <tr>\n",
       "      <th>0</th>\n",
       "      <td>Go.</td>\n",
       "      <td>Va !</td>\n",
       "    </tr>\n",
       "    <tr>\n",
       "      <th>1</th>\n",
       "      <td>Run!</td>\n",
       "      <td>Cours !</td>\n",
       "    </tr>\n",
       "    <tr>\n",
       "      <th>2</th>\n",
       "      <td>Run!</td>\n",
       "      <td>Courez !</td>\n",
       "    </tr>\n",
       "    <tr>\n",
       "      <th>3</th>\n",
       "      <td>Fire!</td>\n",
       "      <td>Au feu !</td>\n",
       "    </tr>\n",
       "    <tr>\n",
       "      <th>4</th>\n",
       "      <td>Help!</td>\n",
       "      <td>À l'aide !</td>\n",
       "    </tr>\n",
       "  </tbody>\n",
       "</table>\n",
       "</div>"
      ],
      "text/plain": [
       "  SOURCE      TARGET\n",
       "0    Go.        Va !\n",
       "1   Run!     Cours !\n",
       "2   Run!    Courez !\n",
       "3  Fire!    Au feu !\n",
       "4  Help!  À l'aide !"
      ]
     },
     "execution_count": 9,
     "metadata": {},
     "output_type": "execute_result"
    }
   ],
   "source": [
    "raw_data = {'SOURCE': [line for line in SOURCE_DATA], 'TARGET': [line for line in TARGET_DATA]}\n",
    "df_datasets = pd.DataFrame(raw_data, columns=['SOURCE', 'TARGET'])\n",
    "df_datasets.head()"
   ]
  },
  {
   "cell_type": "code",
   "execution_count": 10,
   "metadata": {
    "collapsed": true
   },
   "outputs": [],
   "source": [
    "mask = (df_datasets['SOURCE'].str.count(' ') < MAX_LENGTH) & (df_datasets['TARGET'].str.count(' ') < MAX_LENGTH)\n",
    "df_datasets = df_datasets.loc[mask]\n",
    "\n",
    "df_datasets.to_csv('./datasets/translate_transformer_temp.csv', index=False)\n",
    "data_fields = [('SOURCE', SOURCE_FIELD), ('TARGET', TARGET_FIELD)]\n",
    "train = data.TabularDataset('./datasets/translate_transformer_temp.csv', format='csv', fields=data_fields)\n",
    "train_iter = Iterator(train, batch_size=BATCH_SIZE, device=device, repeat=False, \n",
    "                      sort_key=lambda x: (len(x.SOURCE), len(x.TARGET)),\n",
    "                      batch_size_fn=batch_size_fn, train=True, shuffle=True)"
   ]
  },
  {
   "cell_type": "code",
   "execution_count": 11,
   "metadata": {
    "collapsed": true
   },
   "outputs": [],
   "source": [
    "SOURCE_FIELD.build_vocab(train)\n",
    "TARGET_FIELD.build_vocab(train)\n",
    "\n",
    "pickle.dump(SOURCE_FIELD, open('datasets/SOURCE.pkl', 'wb'))\n",
    "pickle.dump(TARGET_FIELD, open('datasets/TARGET.pkl', 'wb'))\n",
    "\n",
    "SOURCE_PAD = SOURCE_FIELD.vocab.stoi['<PAD>']\n",
    "TARGET_PAD = TARGET_FIELD.vocab.stoi['<PAD>']\n",
    "\n",
    "for i, b in enumerate(train_iter): \n",
    "    TRAIN_LENGTH = i\n",
    "    pass"
   ]
  },
  {
   "cell_type": "code",
   "execution_count": 12,
   "metadata": {
    "collapsed": true
   },
   "outputs": [],
   "source": [
    "source_vocab_size = len(SOURCE_FIELD.vocab)\n",
    "target_vocab_size = len(TARGET_FIELD.vocab)"
   ]
  },
  {
   "cell_type": "markdown",
   "metadata": {},
   "source": [
    "## Build [Transformer](https://arxiv.org/pdf/1706.03762.pdf) Network"
   ]
  },
  {
   "cell_type": "code",
   "execution_count": 13,
   "metadata": {
    "collapsed": true
   },
   "outputs": [],
   "source": [
    "class Encoder(nn.Module):\n",
    "    \n",
    "    def __init__(self, vocab_size, d_model, N, heads, dropout):\n",
    "        super(Encoder, self).__init__()\n",
    "            \n",
    "        # function for duplicating encoder layers\n",
    "        def get_clones(module, N):\n",
    "            return nn.ModuleList([copy.deepcopy(module) for i in range(N)])\n",
    "\n",
    "        self.N = N\n",
    "        self.embedding_layer = Embedder(vocab_size, d_model)\n",
    "        self.pe = PositionalEncoder(d_model, dropout=dropout)\n",
    "        self.encoder_layer = get_clones(EncoderLayer(d_model, heads, dropout), N)\n",
    "        self.norm = Norm(d_model)\n",
    "    \n",
    "    def forward(self, source_seq, mask):\n",
    "        \n",
    "        source_seq = source_seq.to(device)\n",
    "        \n",
    "        x = self.embedding_layer(source_seq)\n",
    "        x = self.pe(x)\n",
    "        for i in range(self.N):\n",
    "            x = self.encoder_layer[i](x, mask, device)\n",
    "            \n",
    "        x = self.norm(x)\n",
    "        return x"
   ]
  },
  {
   "cell_type": "code",
   "execution_count": 14,
   "metadata": {
    "collapsed": true
   },
   "outputs": [],
   "source": [
    "class Decoder(nn.Module):\n",
    "    \n",
    "    def __init__(self, vocab_size, d_model, N, heads, dropout):\n",
    "        super(Decoder, self).__init__()\n",
    "        \n",
    "        # function for duplicating decoder layers\n",
    "        def get_clones(module, N):\n",
    "            return nn.ModuleList([copy.deepcopy(module) for i in range(N)])\n",
    "        \n",
    "        self.N = N\n",
    "        self.embedding_layer = Embedder(vocab_size, d_model)\n",
    "        self.pe = PositionalEncoder(d_model, dropout=dropout)\n",
    "        self.decoder_layer = get_clones(DecoderLayer(d_model, heads, dropout), N)\n",
    "        self.norm = Norm(d_model)\n",
    "        \n",
    "    def forward(self, target_seq, encoder_outputs, source_mask, target_mask):\n",
    "        \n",
    "        target_seq = target_seq.to(device)\n",
    "        \n",
    "        x = self.embedding_layer(target_seq)\n",
    "        x = self.pe(x)\n",
    "        for i in range(self.N):\n",
    "            x = self.decoder_layer[i](x, encoder_outputs, source_mask, target_mask, device)\n",
    "            \n",
    "        x = self.norm(x)\n",
    "        return x"
   ]
  },
  {
   "cell_type": "code",
   "execution_count": 15,
   "metadata": {
    "collapsed": true
   },
   "outputs": [],
   "source": [
    "class Transformer(nn.Module):\n",
    "    \n",
    "    def __init__(self, source_vocab, target_vocab, d_model, N, heads, dropout):\n",
    "        super(Transformer, self).__init__()\n",
    "        \n",
    "        self.encoder = Encoder(source_vocab, d_model, N, heads, dropout)\n",
    "        self.decoder = Decoder(target_vocab, d_model, N, heads, dropout)\n",
    "        self.fc_layer = nn.Linear(d_model, target_vocab)\n",
    "        \n",
    "    # this transformer don't perform softmax on the output\n",
    "    # the process will be handled automatically by our loss function\n",
    "    def forward(self, source_seq, target_seq, source_mask, target_mask):\n",
    "        \n",
    "        encoder_outputs = self.encoder(source_seq, source_mask)\n",
    "        decoder_output = self.decoder(target_seq, encoder_outputs, source_mask, target_mask)\n",
    "        output = self.fc_layer(decoder_output)\n",
    "        \n",
    "        return output"
   ]
  },
  {
   "cell_type": "markdown",
   "metadata": {},
   "source": [
    "#### Initialize Transformer Network"
   ]
  },
  {
   "cell_type": "code",
   "execution_count": 16,
   "metadata": {
    "collapsed": true
   },
   "outputs": [],
   "source": [
    "transformer = Transformer(source_vocab_size, target_vocab_size, D_MODEL, N_LAYERS, N_HEADS, DROPOUT)\n",
    "transformer.to(device)\n",
    "for p in transformer.parameters(): \n",
    "    if p.dim() > 1: nn.init.xavier_uniform_(p)      "
   ]
  },
  {
   "cell_type": "markdown",
   "metadata": {},
   "source": [
    "## Set Loss Function"
   ]
  },
  {
   "cell_type": "code",
   "execution_count": 17,
   "metadata": {
    "collapsed": true
   },
   "outputs": [],
   "source": [
    "def ce_loss(predictions, labels, ignore_index):\n",
    "    \n",
    "    loss = F.cross_entropy(predictions.view(-1, predictions.size(-1)), labels, ignore_index=ignore_index)\n",
    "    return loss"
   ]
  },
  {
   "cell_type": "markdown",
   "metadata": {},
   "source": [
    "## Set Optimizer"
   ]
  },
  {
   "cell_type": "code",
   "execution_count": 18,
   "metadata": {
    "collapsed": true
   },
   "outputs": [],
   "source": [
    "optimizer = torch.optim.Adam(transformer.parameters(), lr=LR, betas=(BETA1, BETA2), eps=EPS)"
   ]
  },
  {
   "cell_type": "markdown",
   "metadata": {},
   "source": [
    "## Set Scheduler"
   ]
  },
  {
   "cell_type": "code",
   "execution_count": 19,
   "metadata": {
    "collapsed": true
   },
   "outputs": [],
   "source": [
    "scheduler = CosineWithRestarts(optimizer=optimizer, T_max=TRAIN_LENGTH)"
   ]
  },
  {
   "cell_type": "markdown",
   "metadata": {},
   "source": [
    "## Train Transformer Network"
   ]
  },
  {
   "cell_type": "code",
   "execution_count": 20,
   "metadata": {
    "scrolled": true
   },
   "outputs": [
    {
     "name": "stdout",
     "output_type": "stream",
     "text": [
      "Training the network...\n",
      "Time: 2m, Epoch: 1 [####################] 100%, Loss = 5.148\n",
      "Epoch 1 complete, Loss: 5.148\n",
      "Time: 4m, Epoch: 2 [####################] 100%, Loss = 4.620\n",
      "Epoch 2 complete, Loss: 4.620\n",
      "Time: 6m, Epoch: 3 [####################] 100%, Loss = 4.121\n",
      "Epoch 3 complete, Loss: 4.121\n",
      "Time: 9m, Epoch: 4 [####################] 100%, Loss = 3.681\n",
      "Epoch 4 complete, Loss: 3.681\n",
      "Time: 11m, Epoch: 5 [####################] 100%, Loss = 3.494\n",
      "Epoch 5 complete, Loss: 3.494\n",
      "Time: 13m, Epoch: 6 [####################] 100%, Loss = 3.249\n",
      "Epoch 6 complete, Loss: 3.249\n",
      "Time: 16m, Epoch: 7 [####################] 100%, Loss = 3.063\n",
      "Epoch 7 complete, Loss: 3.063\n",
      "Time: 18m, Epoch: 8 [####################] 100%, Loss = 2.865\n",
      "Epoch 8 complete, Loss: 2.865\n",
      "Time: 20m, Epoch: 9 [####################] 100%, Loss = 2.594\n",
      "Epoch 9 complete, Loss: 2.594\n",
      "Time: 23m, Epoch: 10 [####################] 100%, Loss = 2.411\n",
      "Epoch 10 complete, Loss: 2.411\n",
      "Time: 25m, Epoch: 11 [####################] 100%, Loss = 2.263\n",
      "Epoch 11 complete, Loss: 2.263\n",
      "Time: 27m, Epoch: 12 [####################] 100%, Loss = 2.186\n",
      "Epoch 12 complete, Loss: 2.186\n",
      "Time: 30m, Epoch: 13 [####################] 100%, Loss = 2.036\n",
      "Epoch 13 complete, Loss: 2.036\n",
      "Time: 32m, Epoch: 14 [####################] 100%, Loss = 1.956\n",
      "Epoch 14 complete, Loss: 1.956\n",
      "Time: 34m, Epoch: 15 [####################] 100%, Loss = 1.762\n",
      "Epoch 15 complete, Loss: 1.762\n",
      "Time: 37m, Epoch: 16 [####################] 100%, Loss = 1.722\n",
      "Epoch 16 complete, Loss: 1.722\n",
      "Time: 39m, Epoch: 17 [####################] 100%, Loss = 1.651\n",
      "Epoch 17 complete, Loss: 1.651\n",
      "Time: 41m, Epoch: 18 [####################] 100%, Loss = 1.559\n",
      "Epoch 18 complete, Loss: 1.559\n",
      "Time: 44m, Epoch: 19 [####################] 100%, Loss = 1.493\n",
      "Epoch 19 complete, Loss: 1.493\n",
      "Time: 46m, Epoch: 20 [####################] 100%, Loss = 1.435\n",
      "Epoch 20 complete, Loss: 1.435\n",
      "Time: 48m, Epoch: 21 [####################] 100%, Loss = 1.396\n",
      "Epoch 21 complete, Loss: 1.396\n",
      "Time: 51m, Epoch: 22 [####################] 100%, Loss = 1.299\n",
      "Epoch 22 complete, Loss: 1.299\n",
      "Time: 53m, Epoch: 23 [####################] 100%, Loss = 1.184\n",
      "Epoch 23 complete, Loss: 1.184\n",
      "Time: 55m, Epoch: 24 [####################] 100%, Loss = 1.225\n",
      "Epoch 24 complete, Loss: 1.225\n",
      "Time: 58m, Epoch: 25 [####################] 100%, Loss = 1.140\n",
      "Epoch 25 complete, Loss: 1.140\n",
      "Time: 60m, Epoch: 26 [####################] 100%, Loss = 1.146\n",
      "Epoch 26 complete, Loss: 1.146\n",
      "Time: 62m, Epoch: 27 [####################] 100%, Loss = 1.089\n",
      "Epoch 27 complete, Loss: 1.089\n",
      "Time: 65m, Epoch: 28 [####################] 100%, Loss = 1.006\n",
      "Epoch 28 complete, Loss: 1.006\n",
      "Time: 67m, Epoch: 29 [####################] 100%, Loss = 0.970\n",
      "Epoch 29 complete, Loss: 0.970\n",
      "Time: 69m, Epoch: 30 [####################] 100%, Loss = 0.980\n",
      "Epoch 30 complete, Loss: 0.980\n",
      "Time: 72m, Epoch: 31 [####################] 100%, Loss = 0.921\n",
      "Epoch 31 complete, Loss: 0.921\n",
      "Time: 74m, Epoch: 32 [####################] 100%, Loss = 0.944\n",
      "Epoch 32 complete, Loss: 0.944\n",
      "Time: 76m, Epoch: 33 [####################] 100%, Loss = 0.897\n",
      "Epoch 33 complete, Loss: 0.897\n",
      "Time: 79m, Epoch: 34 [####################] 100%, Loss = 0.833\n",
      "Epoch 34 complete, Loss: 0.833\n",
      "Time: 81m, Epoch: 35 [####################] 100%, Loss = 0.855\n",
      "Epoch 35 complete, Loss: 0.855\n",
      "Time: 84m, Epoch: 36 [####################] 100%, Loss = 0.782\n",
      "Epoch 36 complete, Loss: 0.782\n",
      "Time: 86m, Epoch: 37 [####################] 100%, Loss = 0.821\n",
      "Epoch 37 complete, Loss: 0.821\n",
      "Time: 88m, Epoch: 38 [####################] 100%, Loss = 0.798\n",
      "Epoch 38 complete, Loss: 0.798\n",
      "Time: 91m, Epoch: 39 [####################] 100%, Loss = 0.742\n",
      "Epoch 39 complete, Loss: 0.742\n",
      "Time: 93m, Epoch: 40 [####################] 100%, Loss = 0.705\n",
      "Epoch 40 complete, Loss: 0.705\n",
      "Time: 95m, Epoch: 41 [####################] 100%, Loss = 0.731\n",
      "Epoch 41 complete, Loss: 0.731\n",
      "Time: 98m, Epoch: 42 [####################] 100%, Loss = 0.705\n",
      "Epoch 42 complete, Loss: 0.705\n",
      "Time: 100m, Epoch: 43 [####################] 100%, Loss = 0.738\n",
      "Epoch 43 complete, Loss: 0.738\n",
      "Time: 102m, Epoch: 44 [####################] 100%, Loss = 0.650\n",
      "Epoch 44 complete, Loss: 0.650\n",
      "Time: 105m, Epoch: 45 [####################] 100%, Loss = 0.665\n",
      "Epoch 45 complete, Loss: 0.665\n",
      "Time: 107m, Epoch: 46 [####################] 100%, Loss = 0.666\n",
      "Epoch 46 complete, Loss: 0.666\n",
      "Time: 109m, Epoch: 47 [####################] 100%, Loss = 0.646\n",
      "Epoch 47 complete, Loss: 0.646\n",
      "Time: 112m, Epoch: 48 [####################] 100%, Loss = 0.601\n",
      "Epoch 48 complete, Loss: 0.601\n",
      "Time: 114m, Epoch: 49 [####################] 100%, Loss = 0.621\n",
      "Epoch 49 complete, Loss: 0.621\n",
      "Time: 116m, Epoch: 50 [####################] 100%, Loss = 0.593\n",
      "Epoch 50 complete, Loss: 0.593\n",
      "Time: 119m, Epoch: 51 [####################] 100%, Loss = 0.561\n",
      "Epoch 51 complete, Loss: 0.561\n",
      "Time: 121m, Epoch: 52 [####################] 100%, Loss = 0.560\n",
      "Epoch 52 complete, Loss: 0.560\n",
      "Time: 123m, Epoch: 53 [####################] 100%, Loss = 0.578\n",
      "Epoch 53 complete, Loss: 0.578\n",
      "Time: 126m, Epoch: 54 [####################] 100%, Loss = 0.579\n",
      "Epoch 54 complete, Loss: 0.579\n",
      "Time: 128m, Epoch: 55 [####################] 100%, Loss = 0.548\n",
      "Epoch 55 complete, Loss: 0.548\n",
      "Time: 131m, Epoch: 56 [####################] 100%, Loss = 0.532\n",
      "Epoch 56 complete, Loss: 0.532\n",
      "Time: 133m, Epoch: 57 [####################] 100%, Loss = 0.537\n",
      "Epoch 57 complete, Loss: 0.537\n",
      "Time: 135m, Epoch: 58 [####################] 100%, Loss = 0.526\n",
      "Epoch 58 complete, Loss: 0.526\n",
      "Time: 138m, Epoch: 59 [####################] 100%, Loss = 0.485\n",
      "Epoch 59 complete, Loss: 0.485\n",
      "Time: 140m, Epoch: 60 [####################] 100%, Loss = 0.504\n",
      "Epoch 60 complete, Loss: 0.504\n",
      "Time: 142m, Epoch: 61 [####################] 100%, Loss = 0.490\n",
      "Epoch 61 complete, Loss: 0.490\n",
      "Time: 145m, Epoch: 62 [####################] 100%, Loss = 0.497\n",
      "Epoch 62 complete, Loss: 0.497\n",
      "Time: 147m, Epoch: 63 [####################] 100%, Loss = 0.483\n",
      "Epoch 63 complete, Loss: 0.483\n",
      "Time: 149m, Epoch: 64 [####################] 100%, Loss = 0.470\n",
      "Epoch 64 complete, Loss: 0.470\n",
      "Time: 151m, Epoch: 65 [####################] 100%, Loss = 0.479\n",
      "Epoch 65 complete, Loss: 0.479\n",
      "Time: 154m, Epoch: 66 [####################] 100%, Loss = 0.478\n",
      "Epoch 66 complete, Loss: 0.478\n",
      "Time: 156m, Epoch: 67 [####################] 100%, Loss = 0.456\n",
      "Epoch 67 complete, Loss: 0.456\n",
      "Time: 158m, Epoch: 68 [####################] 100%, Loss = 0.460\n",
      "Epoch 68 complete, Loss: 0.460\n",
      "Time: 161m, Epoch: 69 [####################] 100%, Loss = 0.443\n",
      "Epoch 69 complete, Loss: 0.443\n",
      "Time: 163m, Epoch: 70 [####################] 100%, Loss = 0.428\n",
      "Epoch 70 complete, Loss: 0.428\n",
      "Time: 165m, Epoch: 71 [####################] 100%, Loss = 0.429\n",
      "Epoch 71 complete, Loss: 0.429\n",
      "Time: 168m, Epoch: 72 [####################] 100%, Loss = 0.428\n",
      "Epoch 72 complete, Loss: 0.428\n",
      "Time: 172m, Epoch: 74 [####################] 100%, Loss = 0.410\n",
      "Epoch 74 complete, Loss: 0.410\n",
      "Time: 175m, Epoch: 75 [####################] 100%, Loss = 0.430\n",
      "Epoch 75 complete, Loss: 0.430\n",
      "Time: 177m, Epoch: 76 [####################] 100%, Loss = 0.423\n",
      "Epoch 76 complete, Loss: 0.423\n",
      "Time: 179m, Epoch: 77 [####################] 100%, Loss = 0.412\n",
      "Epoch 77 complete, Loss: 0.412\n",
      "Time: 182m, Epoch: 78 [####################] 100%, Loss = 0.414\n",
      "Epoch 78 complete, Loss: 0.414\n",
      "Time: 184m, Epoch: 79 [####################] 100%, Loss = 0.406\n",
      "Epoch 79 complete, Loss: 0.406\n",
      "Time: 186m, Epoch: 80 [####################] 100%, Loss = 0.406\n",
      "Epoch 80 complete, Loss: 0.406\n",
      "Time: 188m, Epoch: 81 [####################] 100%, Loss = 0.382\n",
      "Epoch 81 complete, Loss: 0.382\n",
      "Time: 191m, Epoch: 82 [####################] 100%, Loss = 0.393\n",
      "Epoch 82 complete, Loss: 0.393\n",
      "Time: 193m, Epoch: 83 [####################] 100%, Loss = 0.384\n",
      "Epoch 83 complete, Loss: 0.384\n",
      "Time: 195m, Epoch: 84 [####################] 100%, Loss = 0.406\n",
      "Epoch 84 complete, Loss: 0.406\n",
      "Time: 198m, Epoch: 85 [####################] 100%, Loss = 0.397\n",
      "Epoch 85 complete, Loss: 0.397\n",
      "Time: 200m, Epoch: 86 [####################] 100%, Loss = 0.397\n",
      "Epoch 86 complete, Loss: 0.397\n",
      "Time: 202m, Epoch: 87 [####################] 100%, Loss = 0.386\n",
      "Epoch 87 complete, Loss: 0.386\n",
      "Time: 205m, Epoch: 88 [####################] 100%, Loss = 0.369\n",
      "Epoch 88 complete, Loss: 0.369\n",
      "Time: 207m, Epoch: 89 [####################] 100%, Loss = 0.380\n",
      "Epoch 89 complete, Loss: 0.380\n",
      "Time: 209m, Epoch: 90 [####################] 100%, Loss = 0.376\n",
      "Epoch 90 complete, Loss: 0.376\n",
      "Time: 212m, Epoch: 91 [####################] 100%, Loss = 0.366\n",
      "Epoch 91 complete, Loss: 0.366\n",
      "Time: 214m, Epoch: 92 [####################] 100%, Loss = 0.371\n",
      "Epoch 92 complete, Loss: 0.371\n",
      "Time: 216m, Epoch: 93 [####################] 100%, Loss = 0.371\n",
      "Epoch 93 complete, Loss: 0.371\n",
      "Time: 219m, Epoch: 94 [####################] 100%, Loss = 0.374\n",
      "Epoch 94 complete, Loss: 0.374\n",
      "Time: 221m, Epoch: 95 [####################] 100%, Loss = 0.361\n",
      "Epoch 95 complete, Loss: 0.361\n",
      "Time: 223m, Epoch: 96 [####################] 100%, Loss = 0.370\n",
      "Epoch 96 complete, Loss: 0.370\n",
      "Time: 226m, Epoch: 97 [####################] 100%, Loss = 0.360\n",
      "Epoch 97 complete, Loss: 0.360\n",
      "Time: 228m, Epoch: 98 [####################] 100%, Loss = 0.362\n",
      "Epoch 98 complete, Loss: 0.362\n",
      "Time: 230m, Epoch: 99 [####################] 100%, Loss = 0.358\n",
      "Epoch 99 complete, Loss: 0.358\n",
      "Time: 232m, Epoch: 100 [####################] 100%, Loss = 0.372\n",
      "Epoch 100 complete, Loss: 0.372\n"
     ]
    }
   ],
   "source": [
    "temp = tick = time.time()\n",
    "\n",
    "losses_history = []\n",
    "print_every = 100\n",
    "\n",
    "print('Training the network...')\n",
    "transformer.train()\n",
    "\n",
    "for epoch in range(1, N_EPOCHS+1):\n",
    "    \n",
    "    total_loss = 0\n",
    "    for i, batch in enumerate(train_iter):\n",
    "        \n",
    "        source = batch.SOURCE.transpose(0,1)\n",
    "        target = batch.TARGET.transpose(0,1)\n",
    "        target_input = target[:, :-1]\n",
    "        source_mask, target_mask = create_masks(source, target_input, SOURCE_PAD, TARGET_PAD, device)\n",
    "        \n",
    "        optimizer.zero_grad()\n",
    "        \n",
    "        predictions = transformer(source, target_input, source_mask, target_mask)\n",
    "        labels = target[:, 1:].contiguous().view(-1)\n",
    "        loss = ce_loss(predictions, labels, ignore_index=TARGET_PAD)\n",
    "        \n",
    "        loss.backward()\n",
    "        optimizer.step()\n",
    "        scheduler.step()\n",
    "        \n",
    "        total_loss += loss.item()\n",
    "        \n",
    "        if i % print_every == 0:\n",
    "            p = int(100 * i / TRAIN_LENGTH)\n",
    "            avg_loss = total_loss/ print_every\n",
    "            print('Time: %dm, Epoch: %d [%s%s] %d%%, Loss = %.3f' %\\\n",
    "                  ((time.time() - tick)//60, epoch, ''.join('#'*(p//5)), ''.join(' '*(20-(p//5))), p, avg_loss), end='\\r')\n",
    "            \n",
    "            total_loss = 0\n",
    "    \n",
    "    # plot average loss for evaluation\n",
    "    losses_history.append(avg_loss)\n",
    "    print('Time: %dm, Epoch: %d [%s%s] %d%%, Loss = %.3f\\nEpoch %d complete, Loss: %.03f' %\\\n",
    "        ((time.time() - tick)//60, epoch, ''.join('#'*(100//5)), ''.join(' '*(20-(100//5))), 100, avg_loss, epoch, avg_loss))\n",
    "          \n",
    "    # save models per each epoch\n",
    "    if not os.path.exists('./weights/'): os.makedirs('./weights/')\n",
    "    torch.save(transformer.state_dict(), 'weights/transformer.hdf5')\n",
    "    "
   ]
  },
  {
   "cell_type": "code",
   "execution_count": 21,
   "metadata": {
    "scrolled": true
   },
   "outputs": [
    {
     "data": {
      "image/png": "[encoded data removed]",
      "text/plain": [
       "<Figure size 720x432 with 1 Axes>"
      ]
     },
     "metadata": {
      "needs_background": "light"
     },
     "output_type": "display_data"
    }
   ],
   "source": [
    "show_plot_evaluation(losses_history, 1)"
   ]
  },
  {
   "cell_type": "markdown",
   "metadata": {},
   "source": [
    "## Evaluate The Network"
   ]
  },
  {
   "cell_type": "code",
   "execution_count": 32,
   "metadata": {
    "scrolled": false
   },
   "outputs": [
    {
     "name": "stdout",
     "output_type": "stream",
     "text": [
      "> À quoi penses tu?\n",
      "\n"
     ]
    }
   ],
   "source": [
    "text = 'what are you thinking?'\n",
    "\n",
    "phrase = translate_text(text, transformer, SOURCE_FIELD, TARGET_FIELD, MAX_LENGTH, device)\n",
    "print('> ' + phrase + '\\n')"
   ]
  },
  {
   "cell_type": "code",
   "execution_count": 33,
   "metadata": {},
   "outputs": [
    {
     "name": "stdout",
     "output_type": "stream",
     "text": [
      "> J'adore l'intelligence artificielle.\n",
      "\n"
     ]
    }
   ],
   "source": [
    "text = 'i love artificial intelligence'\n",
    "\n",
    "phrase = translate_text(text, transformer, SOURCE_FIELD, TARGET_FIELD, MAX_LENGTH, device)\n",
    "print('> ' + phrase + '\\n')"
   ]
  },
  {
   "cell_type": "code",
   "execution_count": 34,
   "metadata": {},
   "outputs": [
    {
     "name": "stdout",
     "output_type": "stream",
     "text": [
      "> Vous êtes merveilleux.\n",
      "\n"
     ]
    }
   ],
   "source": [
    "text = 'you are wonderful!'\n",
    "\n",
    "phrase = translate_text(text, transformer, SOURCE_FIELD, TARGET_FIELD, MAX_LENGTH, device)\n",
    "print('> ' + phrase + '\\n')"
   ]
  },
  {
   "cell_type": "code",
   "execution_count": 35,
   "metadata": {},
   "outputs": [
    {
     "name": "stdout",
     "output_type": "stream",
     "text": [
      "> Nombre pour l'avenir sont brillant.\n",
      "\n"
     ]
    }
   ],
   "source": [
    "text = 'for the brighter future!'\n",
    "\n",
    "phrase = translate_text(text, transformer, SOURCE_FIELD, TARGET_FIELD, MAX_LENGTH, device)\n",
    "print('> ' + phrase + '\\n')"
   ]
  },
  {
   "cell_type": "code",
   "execution_count": 36,
   "metadata": {},
   "outputs": [
    {
     "name": "stdout",
     "output_type": "stream",
     "text": [
      "> Si nous étions en mesure de voyager autour des gens, le peuvent bien acheter le week end dernier?\n",
      "\n"
     ]
    }
   ],
   "source": [
    "text = 'If we wanted to travel around the world, could we buy the tickets tomorrow?'\n",
    "\n",
    "phrase = translate_text(text, transformer, SOURCE_FIELD, TARGET_FIELD, MAX_LENGTH, device)\n",
    "print('> ' + phrase + '\\n')"
   ]
  },
  {
   "cell_type": "markdown",
   "metadata": {},
   "source": [
    "---"
   ]
  }
 ],
 "metadata": {
  "kernelspec": {
   "display_name": "Python 3",
   "language": "python",
   "name": "python3"
  },
  "language_info": {
   "codemirror_mode": {
    "name": "ipython",
    "version": 3
   },
   "file_extension": ".py",
   "mimetype": "text/x-python",
   "name": "python",
   "nbconvert_exporter": "python",
   "pygments_lexer": "ipython3",
   "version": "3.6.3"
  }
 },
 "nbformat": 4,
 "nbformat_minor": 2
}
