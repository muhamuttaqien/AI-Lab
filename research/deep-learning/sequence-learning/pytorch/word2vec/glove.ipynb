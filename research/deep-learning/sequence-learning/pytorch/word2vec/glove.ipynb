{
 "cells": [
  {
   "cell_type": "markdown",
   "metadata": {},
   "source": [
    "# Global Vectors for Word Representation"
   ]
  },
  {
   "cell_type": "code",
   "execution_count": 1,
   "metadata": {
    "collapsed": true
   },
   "outputs": [],
   "source": [
    "import os\n",
    "import numpy as np\n",
    "import matplotlib.pyplot as plt\n",
    "from sklearn.manifold import TSNE\n",
    "from collections import Counter, defaultdict"
   ]
  },
  {
   "cell_type": "code",
   "execution_count": 2,
   "metadata": {
    "collapsed": true
   },
   "outputs": [],
   "source": [
    "import torch\n",
    "import torch.nn as nn\n",
    "import torch.nn.functional as F"
   ]
  },
  {
   "cell_type": "markdown",
   "metadata": {},
   "source": [
    "## Load Datasets"
   ]
  },
  {
   "cell_type": "code",
   "execution_count": 3,
   "metadata": {
    "collapsed": true
   },
   "outputs": [],
   "source": [
    "class GloveDataset:\n",
    "    \n",
    "    def __init__(self, text, n_words=200000, window_size=5):\n",
    "        \n",
    "        self._window_size = window_size\n",
    "        self._tokens = text.split(' ')[:n_words]\n",
    "        word_counter = Counter()\n",
    "        word_counter.update(self._tokens)\n",
    "        \n",
    "        self._word2idx = {w:i for i, (w, _) in enumerate(word_counter.most_common())}\n",
    "        self._idx2word = {i:w for w, i in self._word2idx.items()}\n",
    "        self._vocab_len = len(self._word2idx)\n",
    "        self._id_tokens = [self._word2idx[w] for w in self._tokens]\n",
    "        self._create_coocurrence_matrix()\n",
    "        \n",
    "        print('Total of words: {}'.format(len(self._tokens)))\n",
    "        print('Vocabulary length: {}'.format(self._vocab_len))\n",
    "        \n",
    "    def _create_coocurrence_matrix(self):\n",
    "        \n",
    "        co_matrix = defaultdict(Counter)\n",
    "        for i, w in enumerate(self._id_tokens):\n",
    "            start_i = max(i - self._window_size, 0)\n",
    "            end_i = min(i + self._window_size + 1, len(self._id_tokens))\n",
    "            for j in range(start_i, end_i):\n",
    "                if i != j:\n",
    "                    c = self._id_tokens[j]\n",
    "                    co_matrix[w][c] += 1 / abs(j-i)\n",
    "        \n",
    "        self._i_idx = list()\n",
    "        self._j_idx = list()\n",
    "        self._xij = list()\n",
    "        \n",
    "        # create indexes and x values tensors\n",
    "        for w, co in co_matrix.items():\n",
    "            for c, v in co.items():\n",
    "                self._i_idx.append(w)\n",
    "                self._j_idx.append(c)\n",
    "                self._xij.append(v)\n",
    "        \n",
    "        self._i_idx = torch.LongTensor(self._i_idx)\n",
    "        self._j_idx = torch.LongTensor(self._j_idx)\n",
    "        self._xij = torch.FloatTensor(self._xij)\n",
    "    \n",
    "    def get_batches(self, batch_size):\n",
    "        # generate random idx\n",
    "        random_idx = torch.LongTensor(np.random.choice(len(self._xij), len(self._xij), replace=False))\n",
    "        \n",
    "        for p in range(0, len(random_idx), batch_size):\n",
    "            batch_idx = random_idx[p:p+batch_size]\n",
    "            yield self._xij[batch_idx], self._i_idx[batch_idx], self._j_idx[batch_idx]"
   ]
  },
  {
   "cell_type": "code",
   "execution_count": 4,
   "metadata": {},
   "outputs": [
    {
     "name": "stdout",
     "output_type": "stream",
     "text": [
      "Total of words: 10000000\n",
      "Vocabulary length: 189075\n"
     ]
    }
   ],
   "source": [
    "datasets = GloveDataset(open('./datasets/text8').read(), 10000000)"
   ]
  },
  {
   "cell_type": "markdown",
   "metadata": {},
   "source": [
    "## Set Configs"
   ]
  },
  {
   "cell_type": "code",
   "execution_count": 5,
   "metadata": {
    "collapsed": true
   },
   "outputs": [],
   "source": [
    "LR = 0.05\n",
    "N_EPOCHS = 100\n",
    "\n",
    "BATCH_SIZE = 2048\n",
    "EMBEDDING_DIM = 300\n",
    "X_MAX = 100\n",
    "ALPHA = 0.75"
   ]
  },
  {
   "cell_type": "code",
   "execution_count": 6,
   "metadata": {
    "collapsed": true
   },
   "outputs": [],
   "source": [
    "is_cuda = torch.cuda.is_available()\n",
    "\n",
    "if is_cuda: device = torch.device('cuda')\n",
    "else: device = torch.device('cpu')"
   ]
  },
  {
   "cell_type": "markdown",
   "metadata": {},
   "source": [
    "## Build [Glove](https://nlp.stanford.edu/pubs/glove.pdf) Network"
   ]
  },
  {
   "cell_type": "code",
   "execution_count": 7,
   "metadata": {
    "collapsed": true
   },
   "outputs": [],
   "source": [
    "class Glove(nn.Module):\n",
    "    \n",
    "    def __init__(self, input_size, embedding_dim):\n",
    "        super(Glove, self).__init__()\n",
    "        \n",
    "        self.vocab_size = input_size\n",
    "        \n",
    "        self.wi = nn.Embedding(self.vocab_size, embedding_dim)\n",
    "        self.wj = nn.Embedding(self.vocab_size, embedding_dim)\n",
    "        self.bi = nn.Embedding(self.vocab_size, 1)\n",
    "        self.bj = nn.Embedding(self.vocab_size, 1)\n",
    "        \n",
    "        self.wi.weight.data.uniform_(-1, 1)\n",
    "        self.wj.weight.data.uniform_(-1, 1)\n",
    "        self.bi.weight.data.zero_()\n",
    "        self.bj.weight.data.zero_()\n",
    "        \n",
    "    def forward(self, i_indices, h_indices):\n",
    "        w_i = self.wi(i_indices)\n",
    "        w_j = self.wj(j_indices)\n",
    "        b_i = self.bi(i_indices).squeeze()\n",
    "        b_j = self.bj(j_indices).squeeze()\n",
    "        \n",
    "        x = torch.sum(w_i * w_j, dim=1) + b_i + b_j\n",
    "        \n",
    "        return x"
   ]
  },
  {
   "cell_type": "markdown",
   "metadata": {},
   "source": [
    "#### Initialize Glove Network"
   ]
  },
  {
   "cell_type": "code",
   "execution_count": 8,
   "metadata": {},
   "outputs": [
    {
     "data": {
      "text/plain": [
       "Glove(\n",
       "  (wi): Embedding(189075, 300)\n",
       "  (wj): Embedding(189075, 300)\n",
       "  (bi): Embedding(189075, 1)\n",
       "  (bj): Embedding(189075, 1)\n",
       ")"
      ]
     },
     "execution_count": 8,
     "metadata": {},
     "output_type": "execute_result"
    }
   ],
   "source": [
    "glove = Glove(datasets._vocab_len, EMBEDDING_DIM)\n",
    "glove.to(device)"
   ]
  },
  {
   "cell_type": "markdown",
   "metadata": {},
   "source": [
    "## Set Loss Function"
   ]
  },
  {
   "cell_type": "code",
   "execution_count": 9,
   "metadata": {
    "collapsed": true
   },
   "outputs": [],
   "source": [
    "def wmse_loss(weights, inputs, targets):\n",
    "    loss = weights * F.mse_loss(inputs, targets, reduction='none')\n",
    "    loss = torch.mean(loss)\n",
    "    \n",
    "    return loss"
   ]
  },
  {
   "cell_type": "code",
   "execution_count": 12,
   "metadata": {
    "collapsed": true
   },
   "outputs": [],
   "source": [
    "def weight_loss(x, x_max, alpha):\n",
    "    wx = (x/x_max) ** alpha\n",
    "    wx = torch.min(wx, torch.ones_like(wx))\n",
    "    \n",
    "    return wx"
   ]
  },
  {
   "cell_type": "markdown",
   "metadata": {},
   "source": [
    "## Set Optimizer"
   ]
  },
  {
   "cell_type": "code",
   "execution_count": 10,
   "metadata": {},
   "outputs": [],
   "source": [
    "optimizer = torch.optim.Adagrad(glove.parameters(), lr=LR)"
   ]
  },
  {
   "cell_type": "markdown",
   "metadata": {},
   "source": [
    "## Train Glove Network"
   ]
  },
  {
   "cell_type": "code",
   "execution_count": null,
   "metadata": {
    "collapsed": true
   },
   "outputs": [],
   "source": []
  },
  {
   "cell_type": "markdown",
   "metadata": {},
   "source": [
    "---"
   ]
  }
 ],
 "metadata": {
  "kernelspec": {
   "display_name": "Python 3",
   "language": "python",
   "name": "python3"
  },
  "language_info": {
   "codemirror_mode": {
    "name": "ipython",
    "version": 3
   },
   "file_extension": ".py",
   "mimetype": "text/x-python",
   "name": "python",
   "nbconvert_exporter": "python",
   "pygments_lexer": "ipython3",
   "version": "3.6.3"
  }
 },
 "nbformat": 4,
 "nbformat_minor": 2
}
