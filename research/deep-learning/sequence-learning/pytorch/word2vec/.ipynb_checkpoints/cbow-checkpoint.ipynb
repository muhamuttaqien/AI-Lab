{
 "cells": [
  {
   "cell_type": "markdown",
   "metadata": {},
   "source": [
    "# Continuous Bag-of-Word Model"
   ]
  },
  {
   "cell_type": "code",
   "execution_count": 1,
   "metadata": {
    "collapsed": true
   },
   "outputs": [],
   "source": [
    "import torch\n",
    "import torch.nn as nn\n",
    "import torch.optim as optim\n",
    "from torch.autograd import Variable"
   ]
  },
  {
   "cell_type": "markdown",
   "metadata": {},
   "source": [
    "## Load Corpus"
   ]
  },
  {
   "cell_type": "code",
   "execution_count": 8,
   "metadata": {},
   "outputs": [],
   "source": [
    "corpus = \"\"\"\n",
    "As the eight strange beings applauded, one of them even cupping a hand over her lipsticked mouth to cheer, \n",
    "Joel tried to grasp what was happening. The nine of them sat in a fire rimmed cavern around a conference \n",
    "table shaped from warm volcanic rock. A chandelier of human bones dangled from the cavern’s ceiling, and it \n",
    "rattled around at random like wind chimes. A massive goat-man with reddish-black skin and wicked horns on his \n",
    "head towered above the seven others, who flanked him to either side. They looked like pure stereotype. A fat slob \n",
    "with sixteen chins, a used car saleman looking guy with gold and silver jewelry all over him, a sultry dominatrix \n",
    "in skin tight leather. On the other side a disheveled looking college drop out, a pretty boy staring in a mirror, \n",
    "a bald, muscular dude who looked like someone’s pissed off step-dad and a sour faced woman glancing jealously \n",
    "around the room. Just where the hell was he? Joel concentrated on his last memory. He remembered highlighting \n",
    "pages as his private jet, “The Holy Gust,” flew over the sapphire waters of the Bahamas. He had been reviewing \n",
    "his sermon for Sunday – dotting the I’s and crossing the crosses, a little god humor there, praise him – and the \n",
    "pilot’s voice had crackled over the intercom about turbulence. Kimberly, his personal assistant, had taken his \n",
    "plow out of her mouth and put on her seat belt. The plane had shook and then...\"\"\""
   ]
  },
  {
   "cell_type": "code",
   "execution_count": 11,
   "metadata": {},
   "outputs": [],
   "source": [
    "tokens = corpus.lower().split()"
   ]
  },
  {
   "cell_type": "markdown",
   "metadata": {},
   "source": [
    "---"
   ]
  }
 ],
 "metadata": {
  "kernelspec": {
   "display_name": "Python 3",
   "language": "python",
   "name": "python3"
  },
  "language_info": {
   "codemirror_mode": {
    "name": "ipython",
    "version": 3
   },
   "file_extension": ".py",
   "mimetype": "text/x-python",
   "name": "python",
   "nbconvert_exporter": "python",
   "pygments_lexer": "ipython3",
   "version": "3.6.3"
  }
 },
 "nbformat": 4,
 "nbformat_minor": 2
}
