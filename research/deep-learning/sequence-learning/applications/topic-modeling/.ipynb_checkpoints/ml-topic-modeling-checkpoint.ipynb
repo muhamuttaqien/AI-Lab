{
 "cells": [
  {
   "cell_type": "markdown",
   "metadata": {},
   "source": [
    "# Sentence-level Topic Modeling, LDA & LDA Mallet"
   ]
  },
  {
   "cell_type": "code",
   "execution_count": 1,
   "metadata": {},
   "outputs": [],
   "source": [
    "import re\n",
    "import numpy as np\n",
    "import pandas as pd\n",
    "from pprint import pprint\n",
    "from tqdm import tqdm_notebook\n",
    "\n",
    "import nltk\n",
    "import spacy\n",
    "\n",
    "import gensim\n",
    "from gensim.models import CoherenceModel\n",
    "\n",
    "import pyLDAvis\n",
    "import pyLDAvis.gensim\n",
    "import matplotlib.pyplot as plt\n",
    "import seaborn as sns"
   ]
  },
  {
   "cell_type": "code",
   "execution_count": 2,
   "metadata": {
    "collapsed": true
   },
   "outputs": [],
   "source": [
    "plt.style.use('ggplot')"
   ]
  },
  {
   "cell_type": "code",
   "execution_count": 3,
   "metadata": {
    "collapsed": true
   },
   "outputs": [],
   "source": [
    "import warnings\n",
    "warnings.filterwarnings(\"ignore\", category=DeprecationWarning)"
   ]
  },
  {
   "cell_type": "markdown",
   "metadata": {},
   "source": [
    "## Load Datasets"
   ]
  },
  {
   "cell_type": "code",
   "execution_count": 4,
   "metadata": {},
   "outputs": [
    {
     "data": {
      "text/html": [
       "<div>\n",
       "<style>\n",
       "    .dataframe thead tr:only-child th {\n",
       "        text-align: right;\n",
       "    }\n",
       "\n",
       "    .dataframe thead th {\n",
       "        text-align: left;\n",
       "    }\n",
       "\n",
       "    .dataframe tbody tr th {\n",
       "        vertical-align: top;\n",
       "    }\n",
       "</style>\n",
       "<table border=\"1\" class=\"dataframe\">\n",
       "  <thead>\n",
       "    <tr style=\"text-align: right;\">\n",
       "      <th></th>\n",
       "      <th>content</th>\n",
       "      <th>target</th>\n",
       "      <th>target_names</th>\n",
       "    </tr>\n",
       "  </thead>\n",
       "  <tbody>\n",
       "    <tr>\n",
       "      <th>0</th>\n",
       "      <td>From: lerxst@wam.umd.edu (where's my thing)\\nS...</td>\n",
       "      <td>7</td>\n",
       "      <td>rec.autos</td>\n",
       "    </tr>\n",
       "    <tr>\n",
       "      <th>1</th>\n",
       "      <td>From: guykuo@carson.u.washington.edu (Guy Kuo)...</td>\n",
       "      <td>4</td>\n",
       "      <td>comp.sys.mac.hardware</td>\n",
       "    </tr>\n",
       "    <tr>\n",
       "      <th>10</th>\n",
       "      <td>From: irwin@cmptrc.lonestar.org (Irwin Arnstei...</td>\n",
       "      <td>8</td>\n",
       "      <td>rec.motorcycles</td>\n",
       "    </tr>\n",
       "    <tr>\n",
       "      <th>100</th>\n",
       "      <td>From: tchen@magnus.acs.ohio-state.edu (Tsung-K...</td>\n",
       "      <td>6</td>\n",
       "      <td>misc.forsale</td>\n",
       "    </tr>\n",
       "    <tr>\n",
       "      <th>1000</th>\n",
       "      <td>From: dabl2@nlm.nih.gov (Don A.B. Lindbergh)\\n...</td>\n",
       "      <td>2</td>\n",
       "      <td>comp.os.ms-windows.misc</td>\n",
       "    </tr>\n",
       "  </tbody>\n",
       "</table>\n",
       "</div>"
      ],
      "text/plain": [
       "                                                content  target  \\\n",
       "0     From: lerxst@wam.umd.edu (where's my thing)\\nS...       7   \n",
       "1     From: guykuo@carson.u.washington.edu (Guy Kuo)...       4   \n",
       "10    From: irwin@cmptrc.lonestar.org (Irwin Arnstei...       8   \n",
       "100   From: tchen@magnus.acs.ohio-state.edu (Tsung-K...       6   \n",
       "1000  From: dabl2@nlm.nih.gov (Don A.B. Lindbergh)\\n...       2   \n",
       "\n",
       "                 target_names  \n",
       "0                   rec.autos  \n",
       "1       comp.sys.mac.hardware  \n",
       "10            rec.motorcycles  \n",
       "100              misc.forsale  \n",
       "1000  comp.os.ms-windows.misc  "
      ]
     },
     "execution_count": 4,
     "metadata": {},
     "output_type": "execute_result"
    }
   ],
   "source": [
    "df_news = pd.read_json('./datasets/news_groups.json') # grasp from https://raw.githubusercontent.com/selva86/datasets/master/newsgroups.json\n",
    "df_news.head()"
   ]
  },
  {
   "cell_type": "code",
   "execution_count": 5,
   "metadata": {},
   "outputs": [
    {
     "name": "stdout",
     "output_type": "stream",
     "text": [
      "TOPIC EXAMPLES (20 Topics):\n",
      "\n",
      "rec.autos, comp.sys.mac.hardware, rec.motorcycles, misc.forsale, comp.os.ms-windows.misc, alt.atheism, comp.graphics, rec.sport.baseball, rec.sport.hockey, sci.electronics, sci.space, talk.politics.misc, sci.med, talk.politics.mideast, soc.religion.christian, comp.windows.x, comp.sys.ibm.pc.hardware, talk.politics.guns, talk.religion.misc, sci.crypt\n"
     ]
    }
   ],
   "source": [
    "print(f'TOPIC EXAMPLES ({len(df_news.target_names.unique())} Topics):\\n')\n",
    "print(', '.join(df_news.target_names.unique()))"
   ]
  },
  {
   "cell_type": "markdown",
   "metadata": {},
   "source": [
    "## Preprocess Datasets"
   ]
  },
  {
   "cell_type": "code",
   "execution_count": 6,
   "metadata": {
    "collapsed": true
   },
   "outputs": [],
   "source": [
    "from nltk.corpus import stopwords"
   ]
  },
  {
   "cell_type": "code",
   "execution_count": 7,
   "metadata": {
    "collapsed": true
   },
   "outputs": [],
   "source": [
    "stop_words = stopwords.words('english')\n",
    "stop_words.extend(['from', 'subject', 're', 'edu', 'use'])"
   ]
  },
  {
   "cell_type": "markdown",
   "metadata": {},
   "source": [
    "#### 1) Removing e-mails, new line characters and single quotes"
   ]
  },
  {
   "cell_type": "code",
   "execution_count": 8,
   "metadata": {
    "collapsed": true
   },
   "outputs": [],
   "source": [
    "content = df_news['content'].values.tolist()\n",
    "\n",
    "# removing e-mails\n",
    "cleaned_content = [re.sub('\\S*@\\S*\\s?', '', sentence) for sentence in content]\n",
    "\n",
    "# removing new line characters\n",
    "cleaned_content = [re.sub('\\s+', ' ', sentence) for sentence in cleaned_content]\n",
    "\n",
    "# removing single quotes\n",
    "cleaned_content = [re.sub(\"\\'\", \"\", sentence) for sentence in cleaned_content]"
   ]
  },
  {
   "cell_type": "code",
   "execution_count": 9,
   "metadata": {},
   "outputs": [
    {
     "data": {
      "text/html": [
       "<div>\n",
       "<style>\n",
       "    .dataframe thead tr:only-child th {\n",
       "        text-align: right;\n",
       "    }\n",
       "\n",
       "    .dataframe thead th {\n",
       "        text-align: left;\n",
       "    }\n",
       "\n",
       "    .dataframe tbody tr th {\n",
       "        vertical-align: top;\n",
       "    }\n",
       "</style>\n",
       "<table border=\"1\" class=\"dataframe\">\n",
       "  <thead>\n",
       "    <tr style=\"text-align: right;\">\n",
       "      <th></th>\n",
       "      <th>content</th>\n",
       "      <th>cleaned_content</th>\n",
       "    </tr>\n",
       "  </thead>\n",
       "  <tbody>\n",
       "    <tr>\n",
       "      <th>0</th>\n",
       "      <td>From: lerxst@wam.umd.edu (where's my thing)\\nS...</td>\n",
       "      <td>From: (wheres my thing) Subject: WHAT car is t...</td>\n",
       "    </tr>\n",
       "    <tr>\n",
       "      <th>1</th>\n",
       "      <td>From: guykuo@carson.u.washington.edu (Guy Kuo)...</td>\n",
       "      <td>From: (Guy Kuo) Subject: SI Clock Poll - Final...</td>\n",
       "    </tr>\n",
       "    <tr>\n",
       "      <th>10</th>\n",
       "      <td>From: irwin@cmptrc.lonestar.org (Irwin Arnstei...</td>\n",
       "      <td>From: (Irwin Arnstein) Subject: Re: Recommenda...</td>\n",
       "    </tr>\n",
       "    <tr>\n",
       "      <th>100</th>\n",
       "      <td>From: tchen@magnus.acs.ohio-state.edu (Tsung-K...</td>\n",
       "      <td>From: (Tsung-Kun Chen) Subject: ** Software fo...</td>\n",
       "    </tr>\n",
       "    <tr>\n",
       "      <th>1000</th>\n",
       "      <td>From: dabl2@nlm.nih.gov (Don A.B. Lindbergh)\\n...</td>\n",
       "      <td>From: (Don A.B. Lindbergh) Subject: Diamond SS...</td>\n",
       "    </tr>\n",
       "  </tbody>\n",
       "</table>\n",
       "</div>"
      ],
      "text/plain": [
       "                                                content  \\\n",
       "0     From: lerxst@wam.umd.edu (where's my thing)\\nS...   \n",
       "1     From: guykuo@carson.u.washington.edu (Guy Kuo)...   \n",
       "10    From: irwin@cmptrc.lonestar.org (Irwin Arnstei...   \n",
       "100   From: tchen@magnus.acs.ohio-state.edu (Tsung-K...   \n",
       "1000  From: dabl2@nlm.nih.gov (Don A.B. Lindbergh)\\n...   \n",
       "\n",
       "                                        cleaned_content  \n",
       "0     From: (wheres my thing) Subject: WHAT car is t...  \n",
       "1     From: (Guy Kuo) Subject: SI Clock Poll - Final...  \n",
       "10    From: (Irwin Arnstein) Subject: Re: Recommenda...  \n",
       "100   From: (Tsung-Kun Chen) Subject: ** Software fo...  \n",
       "1000  From: (Don A.B. Lindbergh) Subject: Diamond SS...  "
      ]
     },
     "execution_count": 9,
     "metadata": {},
     "output_type": "execute_result"
    }
   ],
   "source": [
    "df_news['cleaned_content'] = cleaned_content\n",
    "df_news[['content', 'cleaned_content']].head()"
   ]
  },
  {
   "cell_type": "markdown",
   "metadata": {},
   "source": [
    "#### 2) Tokenizing each sentence and removing punctuations, unnecessary characters also stop words"
   ]
  },
  {
   "cell_type": "code",
   "execution_count": 10,
   "metadata": {
    "collapsed": true
   },
   "outputs": [],
   "source": [
    "from gensim.utils import simple_preprocess"
   ]
  },
  {
   "cell_type": "code",
   "execution_count": 11,
   "metadata": {
    "collapsed": true
   },
   "outputs": [],
   "source": [
    "def tokenize_sentences(sentences):\n",
    "    for sentence in tqdm_notebook(sentences):\n",
    "        tokenized_sentence = simple_preprocess(str(sentence), deacc=True)\n",
    "        tokenized_sentence = [word for word in tokenized_sentence if word not in stop_words]\n",
    "        yield(tokenized_sentence) # true means removing punctuations"
   ]
  },
  {
   "cell_type": "code",
   "execution_count": 12,
   "metadata": {},
   "outputs": [
    {
     "data": {
      "application/vnd.jupyter.widget-view+json": {
       "model_id": "0bda3f6a34984ad293e25b242ed3eeca",
       "version_major": 2,
       "version_minor": 0
      },
      "text/plain": [
       "A Jupyter Widget"
      ]
     },
     "metadata": {},
     "output_type": "display_data"
    },
    {
     "name": "stdout",
     "output_type": "stream",
     "text": [
      "\n"
     ]
    }
   ],
   "source": [
    "tokenized_sentences = list(tokenize_sentences(cleaned_content))"
   ]
  },
  {
   "cell_type": "code",
   "execution_count": 13,
   "metadata": {},
   "outputs": [
    {
     "data": {
      "text/html": [
       "<div>\n",
       "<style>\n",
       "    .dataframe thead tr:only-child th {\n",
       "        text-align: right;\n",
       "    }\n",
       "\n",
       "    .dataframe thead th {\n",
       "        text-align: left;\n",
       "    }\n",
       "\n",
       "    .dataframe tbody tr th {\n",
       "        vertical-align: top;\n",
       "    }\n",
       "</style>\n",
       "<table border=\"1\" class=\"dataframe\">\n",
       "  <thead>\n",
       "    <tr style=\"text-align: right;\">\n",
       "      <th></th>\n",
       "      <th>content</th>\n",
       "      <th>tokenized_content</th>\n",
       "    </tr>\n",
       "  </thead>\n",
       "  <tbody>\n",
       "    <tr>\n",
       "      <th>0</th>\n",
       "      <td>From: lerxst@wam.umd.edu (where's my thing)\\nS...</td>\n",
       "      <td>[wheres, thing, car, nntp, posting, host, rac,...</td>\n",
       "    </tr>\n",
       "    <tr>\n",
       "      <th>1</th>\n",
       "      <td>From: guykuo@carson.u.washington.edu (Guy Kuo)...</td>\n",
       "      <td>[guy, kuo, si, clock, poll, final, call, summa...</td>\n",
       "    </tr>\n",
       "    <tr>\n",
       "      <th>10</th>\n",
       "      <td>From: irwin@cmptrc.lonestar.org (Irwin Arnstei...</td>\n",
       "      <td>[irwin, arnstein, recommendation, duc, summary...</td>\n",
       "    </tr>\n",
       "    <tr>\n",
       "      <th>100</th>\n",
       "      <td>From: tchen@magnus.acs.ohio-state.edu (Tsung-K...</td>\n",
       "      <td>[tsung, kun, chen, software, forsale, lots, nn...</td>\n",
       "    </tr>\n",
       "    <tr>\n",
       "      <th>1000</th>\n",
       "      <td>From: dabl2@nlm.nih.gov (Don A.B. Lindbergh)\\n...</td>\n",
       "      <td>[lindbergh, diamond, ss, win, mouse, cursor, o...</td>\n",
       "    </tr>\n",
       "  </tbody>\n",
       "</table>\n",
       "</div>"
      ],
      "text/plain": [
       "                                                content  \\\n",
       "0     From: lerxst@wam.umd.edu (where's my thing)\\nS...   \n",
       "1     From: guykuo@carson.u.washington.edu (Guy Kuo)...   \n",
       "10    From: irwin@cmptrc.lonestar.org (Irwin Arnstei...   \n",
       "100   From: tchen@magnus.acs.ohio-state.edu (Tsung-K...   \n",
       "1000  From: dabl2@nlm.nih.gov (Don A.B. Lindbergh)\\n...   \n",
       "\n",
       "                                      tokenized_content  \n",
       "0     [wheres, thing, car, nntp, posting, host, rac,...  \n",
       "1     [guy, kuo, si, clock, poll, final, call, summa...  \n",
       "10    [irwin, arnstein, recommendation, duc, summary...  \n",
       "100   [tsung, kun, chen, software, forsale, lots, nn...  \n",
       "1000  [lindbergh, diamond, ss, win, mouse, cursor, o...  "
      ]
     },
     "execution_count": 13,
     "metadata": {},
     "output_type": "execute_result"
    }
   ],
   "source": [
    "df_news['tokenized_content'] = tokenized_sentences\n",
    "df_news[['content', 'tokenized_content']].head()"
   ]
  },
  {
   "cell_type": "markdown",
   "metadata": {},
   "source": [
    "#### 3) Making Bigram & Tigram Words"
   ]
  },
  {
   "cell_type": "code",
   "execution_count": 14,
   "metadata": {},
   "outputs": [
    {
     "name": "stderr",
     "output_type": "stream",
     "text": [
      "/anaconda3/lib/python3.6/site-packages/gensim/models/phrases.py:494: UserWarning: For a faster implementation, use the gensim.models.phrases.Phraser class\n",
      "  warnings.warn(\"For a faster implementation, use the gensim.models.phrases.Phraser class\")\n"
     ]
    }
   ],
   "source": [
    "# create the model first\n",
    "bigram = gensim.models.Phrases(tokenized_sentences, min_count=5, threshold=100) # higher threshold fewer phrases\n",
    "trigram = gensim.models.Phrases(bigram[tokenized_sentences], threshold=100)\n",
    "\n",
    "bigram_model = gensim.models.phrases.Phraser(bigram)\n",
    "trigram_model = gensim.models.phrases.Phraser(trigram)"
   ]
  },
  {
   "cell_type": "code",
   "execution_count": 15,
   "metadata": {
    "collapsed": true
   },
   "outputs": [],
   "source": [
    "def make_bigram_words(text): return [bigram_model[word] for word in tqdm_notebook(text)]\n",
    "def make_trigram_words(text): return [trigram_model[bigram_model[word]] for word in tqdm_notebook(text)]"
   ]
  },
  {
   "cell_type": "code",
   "execution_count": 16,
   "metadata": {},
   "outputs": [
    {
     "data": {
      "application/vnd.jupyter.widget-view+json": {
       "model_id": "c63fb108c5c445daa6ef0588ba2b2887",
       "version_major": 2,
       "version_minor": 0
      },
      "text/plain": [
       "A Jupyter Widget"
      ]
     },
     "metadata": {},
     "output_type": "display_data"
    },
    {
     "name": "stdout",
     "output_type": "stream",
     "text": [
      "\n",
      "BIGRAM EXAMPLES:\n",
      "\n",
      "wheres, thing, car, nntp_posting, host, rac_wam, umd, organization, university, maryland_college, park, lines, wondering, anyone, could, enlighten, car, saw, day, door, sports, car, looked, late, early, called, bricklin, doors, really, small, addition, front_bumper, separate, rest, body, know, anyone, tellme, model, name, engine, specs, years, production, car, made, history, whatever, info, funky, looking, car, please, mail, thanks, il, brought, neighborhood, lerxst\n"
     ]
    }
   ],
   "source": [
    "bigram_words = make_bigram_words(tokenized_sentences)\n",
    "\n",
    "print('BIGRAM EXAMPLES:\\n')\n",
    "print(', '.join(bigram_words[0]))"
   ]
  },
  {
   "cell_type": "code",
   "execution_count": 17,
   "metadata": {},
   "outputs": [
    {
     "data": {
      "application/vnd.jupyter.widget-view+json": {
       "model_id": "b2c7da3a96a943c9b01ea61116c7dc72",
       "version_major": 2,
       "version_minor": 0
      },
      "text/plain": [
       "A Jupyter Widget"
      ]
     },
     "metadata": {},
     "output_type": "display_data"
    },
    {
     "name": "stdout",
     "output_type": "stream",
     "text": [
      "\n",
      "TRIGRAM EXAMPLES:\n",
      "\n",
      "wheres, thing, car, nntp_posting_host, rac_wam_umd, organization, university_maryland_college, park, lines, wondering, anyone, could, enlighten, car, saw, day, door, sports, car, looked, late, early, called, bricklin, doors, really, small, addition, front_bumper, separate, rest, body, know, anyone, tellme, model, name, engine, specs, years, production, car, made, history, whatever, info, funky, looking, car, please, mail, thanks, il, brought, neighborhood, lerxst\n"
     ]
    }
   ],
   "source": [
    "trigram_words = make_trigram_words(tokenized_sentences)\n",
    "\n",
    "print('TRIGRAM EXAMPLES:\\n')\n",
    "print(', '.join(trigram_words[0]))"
   ]
  },
  {
   "cell_type": "markdown",
   "metadata": {},
   "source": [
    "#### 4) Lemmatizing Words"
   ]
  },
  {
   "cell_type": "code",
   "execution_count": 18,
   "metadata": {
    "collapsed": true
   },
   "outputs": [],
   "source": [
    "def lemmatize_words(text, allowed_postags=['NOUN', 'ADJ', 'VERB', 'ADV']):\n",
    "    \n",
    "    nlp = spacy.load('en', disable=['parser', 'ner'])\n",
    "        \n",
    "    lemmatized_words = []\n",
    "    \n",
    "    for sentence in tqdm_notebook(text):\n",
    "        doc = nlp(' '.join(sentence))\n",
    "        lemmatized_words.append([word.lemma_ for word in doc if word.pos_ in allowed_postags])\n",
    "        \n",
    "    return lemmatized_words"
   ]
  },
  {
   "cell_type": "code",
   "execution_count": 19,
   "metadata": {},
   "outputs": [
    {
     "data": {
      "application/vnd.jupyter.widget-view+json": {
       "model_id": "e975b7b61ea646e49981345e8405fe48",
       "version_major": 2,
       "version_minor": 0
      },
      "text/plain": [
       "A Jupyter Widget"
      ]
     },
     "metadata": {},
     "output_type": "display_data"
    },
    {
     "name": "stdout",
     "output_type": "stream",
     "text": [
      "\n"
     ]
    }
   ],
   "source": [
    "lemmatized_words = lemmatize_words(bigram_words)"
   ]
  },
  {
   "cell_type": "code",
   "execution_count": 20,
   "metadata": {},
   "outputs": [
    {
     "name": "stdout",
     "output_type": "stream",
     "text": [
      "LEMMATIZATION EXAMPLES:\n",
      "\n",
      "where, s, thing, car, nntp_posting, host, line, wonder, enlighten, car, see, day, door, sport, car, look, late, early, call, door, really, small, addition, front_bumper, separate, rest, body, know, year, production, car, make, history, info, funky, look, car, mail, thank, bring, neighborhood, lerxst\n"
     ]
    }
   ],
   "source": [
    "print('LEMMATIZATION EXAMPLES:\\n')\n",
    "print(', '.join(lemmatized_words[0]))"
   ]
  },
  {
   "cell_type": "markdown",
   "metadata": {},
   "source": [
    "#### 5) Creating the dictionary and corpus"
   ]
  },
  {
   "cell_type": "code",
   "execution_count": 21,
   "metadata": {
    "collapsed": true
   },
   "outputs": [],
   "source": [
    "import gensim.corpora as corpora"
   ]
  },
  {
   "cell_type": "code",
   "execution_count": 22,
   "metadata": {
    "collapsed": true
   },
   "outputs": [],
   "source": [
    "id2word = corpora.Dictionary(lemmatized_words)"
   ]
  },
  {
   "cell_type": "markdown",
   "metadata": {},
   "source": [
    "#### 6) Preparing text features using bag of words"
   ]
  },
  {
   "cell_type": "code",
   "execution_count": 23,
   "metadata": {},
   "outputs": [
    {
     "data": {
      "application/vnd.jupyter.widget-view+json": {
       "model_id": "9e4f1d143ace4afb83343b4d4d47743f",
       "version_major": 2,
       "version_minor": 0
      },
      "text/plain": [
       "A Jupyter Widget"
      ]
     },
     "metadata": {},
     "output_type": "display_data"
    },
    {
     "name": "stdout",
     "output_type": "stream",
     "text": [
      "\n"
     ]
    }
   ],
   "source": [
    "corpus = [id2word.doc2bow(text) for text in tqdm_notebook(lemmatized_words)]"
   ]
  },
  {
   "cell_type": "code",
   "execution_count": 24,
   "metadata": {},
   "outputs": [
    {
     "name": "stdout",
     "output_type": "stream",
     "text": [
      "addition 1, body 1, bring 1, call 1, car 5, day 1, door 2, early 1, enlighten 1, front_bumper 1\n"
     ]
    }
   ],
   "source": [
    "corpus_look = []\n",
    "for index, frequency in corpus[:1][0][:10]: corpus_look.append(f'{id2word[index]} {frequency}')\n",
    "print(', '.join(corpus_look))"
   ]
  },
  {
   "cell_type": "markdown",
   "metadata": {},
   "source": [
    "## Build Model"
   ]
  },
  {
   "cell_type": "markdown",
   "metadata": {},
   "source": [
    "#### 1) LDA Model"
   ]
  },
  {
   "cell_type": "code",
   "execution_count": 25,
   "metadata": {
    "collapsed": true
   },
   "outputs": [],
   "source": [
    "from gensim.models.ldamodel import LdaModel"
   ]
  },
  {
   "cell_type": "code",
   "execution_count": 26,
   "metadata": {
    "collapsed": true
   },
   "outputs": [],
   "source": [
    "# official documentation of the LdaModel: https://radimrehurek.com/gensim/models/ldamodel.html\n",
    "lda_model = LdaModel(corpus=corpus, id2word=id2word, num_topics=20, chunksize=100, \n",
    "                     passes=10, update_every=1, per_word_topics=True, alpha='auto', random_state=10)"
   ]
  },
  {
   "cell_type": "markdown",
   "metadata": {},
   "source": [
    "#### 2) LDA Mallet Model"
   ]
  },
  {
   "cell_type": "code",
   "execution_count": 27,
   "metadata": {
    "collapsed": true
   },
   "outputs": [],
   "source": [
    "from gensim.models.wrappers import LdaMallet"
   ]
  },
  {
   "cell_type": "code",
   "execution_count": 28,
   "metadata": {},
   "outputs": [],
   "source": [
    "# official documentation of the LdaMallet: https://radimrehurek.com/gensim/models/wrappers/ldamallet.html\n",
    "# download weight here: http://mallet.cs.umass.edu/dist/mallet-2.0.8.zip\n",
    "ldamallet_path = './weights/mallet-2.0.8/bin/mallet'\n",
    "ldamallet_model = LdaMallet(ldamallet_path, corpus=corpus, id2word=id2word, num_topics=20)"
   ]
  },
  {
   "cell_type": "markdown",
   "metadata": {},
   "source": [
    "## View The Topics in LDA Model"
   ]
  },
  {
   "cell_type": "markdown",
   "metadata": {},
   "source": [
    "#### 1) LDA Model"
   ]
  },
  {
   "cell_type": "code",
   "execution_count": 29,
   "metadata": {},
   "outputs": [
    {
     "name": "stdout",
     "output_type": "stream",
     "text": [
      "[(0,\n",
      "  '0.027*\"armenian\" + 0.020*\"fire\" + 0.011*\"attack\" + 0.010*\"turkish\" + '\n",
      "  '0.009*\"people\" + 0.009*\"kill\" + 0.009*\"land\" + 0.008*\"burn\" + 0.008*\"dead\" '\n",
      "  '+ 0.008*\"building\"'),\n",
      " (1,\n",
      "  '0.042*\"team\" + 0.037*\"year\" + 0.037*\"game\" + 0.027*\"play\" + 0.024*\"player\" '\n",
      "  '+ 0.022*\"lose\" + 0.021*\"win\" + 0.016*\"season\" + 0.015*\"hit\" + 0.014*\"last\"'),\n",
      " (2,\n",
      "  '0.046*\"file\" + 0.040*\"window\" + 0.039*\"program\" + 0.021*\"version\" + '\n",
      "  '0.020*\"run\" + 0.018*\"software\" + 0.017*\"format\" + 0.016*\"application\" + '\n",
      "  '0.016*\"server\" + 0.016*\"disk\"'),\n",
      " (3,\n",
      "  '0.041*\"space\" + 0.035*\"image\" + 0.019*\"science\" + 0.017*\"launch\" + '\n",
      "  '0.014*\"object\" + 0.012*\"language\" + 0.012*\"orbit\" + 0.011*\"satellite\" + '\n",
      "  '0.011*\"project\" + 0.010*\"reference\"'),\n",
      " (4,\n",
      "  '0.027*\"kid\" + 0.020*\"hockey\" + 0.019*\"room\" + 0.018*\"page\" + '\n",
      "  '0.017*\"israeli\" + 0.014*\"night\" + 0.014*\"could\" + 0.014*\"student\" + '\n",
      "  '0.014*\"door\" + 0.012*\"soldier\"'),\n",
      " (5,\n",
      "  '0.078*\"car\" + 0.029*\"price\" + 0.026*\"pay\" + 0.024*\"option\" + 0.021*\"buy\" + '\n",
      "  '0.020*\"engine\" + 0.016*\"dealer\" + 0.016*\"homeopathy\" + 0.016*\"insurance\" + '\n",
      "  '0.012*\"vehicle\"'),\n",
      " (6,\n",
      "  '0.026*\"chip\" + 0.018*\"low\" + 0.016*\"test\" + 0.015*\"effect\" + 0.015*\"ground\" '\n",
      "  '+ 0.015*\"machine\" + 0.012*\"food\" + 0.012*\"normal\" + 0.011*\"cause\" + '\n",
      "  '0.010*\"extra\"'),\n",
      " (7,\n",
      "  '0.026*\"day\" + 0.024*\"religion\" + 0.015*\"hour\" + 0.015*\"quote\" + 0.015*\"fan\" '\n",
      "  '+ 0.014*\"second\" + 0.013*\"stand\" + 0.012*\"final\" + 0.011*\"total\" + '\n",
      "  '0.011*\"baseball\"'),\n",
      " (8,\n",
      "  '0.035*\"write\" + 0.032*\"line\" + 0.024*\"know\" + 0.024*\"article\" + 0.022*\"be\" '\n",
      "  '+ 0.022*\"go\" + 0.017*\"get\" + 0.016*\"time\" + 0.015*\"say\" + 0.015*\"think\"'),\n",
      " (9,\n",
      "  '0.018*\"say\" + 0.014*\"believe\" + 0.014*\"people\" + 0.010*\"fact\" + '\n",
      "  '0.010*\"claim\" + 0.010*\"word\" + 0.009*\"life\" + 0.009*\"mean\" + 0.008*\"think\" '\n",
      "  '+ 0.008*\"make\"'),\n",
      " (10,\n",
      "  '0.015*\"receive\" + 0.014*\"appear\" + 0.014*\"return\" + 0.012*\"publish\" + '\n",
      "  '0.012*\"include\" + 0.012*\"follow\" + 0.011*\"display\" + 0.010*\"group\" + '\n",
      "  '0.010*\"plan\" + 0.010*\"issue\"'),\n",
      " (11,\n",
      "  '0.024*\"use\" + 0.018*\"new\" + 0.017*\"system\" + 0.012*\"also\" + 0.011*\"key\" + '\n",
      "  '0.009*\"need\" + 0.008*\"bit\" + 0.008*\"part\" + 0.007*\"large\" + 0.007*\"make\"'),\n",
      " (12,\n",
      "  '0.404*\"ax\" + 0.018*\"trade\" + 0.016*\"blue\" + 0.012*\"air\" + 0.011*\"shop\" + '\n",
      "  '0.008*\"cap\" + 0.007*\"hard_drive\" + 0.007*\"pool\" + 0.007*\"ranger\" + '\n",
      "  '0.007*\"prior\"'),\n",
      " (13,\n",
      "  '0.029*\"contact\" + 0.018*\"font\" + 0.017*\"character\" + 0.015*\"neutral\" + '\n",
      "  '0.013*\"excellent\" + 0.012*\"middle\" + 0.011*\"policy\" + 0.010*\"motif\" + '\n",
      "  '0.009*\"art\" + 0.009*\"copyright\"'),\n",
      " (14,\n",
      "  '0.034*\"card\" + 0.030*\"drive\" + 0.022*\"use\" + 0.016*\"driver\" + '\n",
      "  '0.015*\"problem\" + 0.014*\"speed\" + 0.014*\"color\" + 0.013*\"system\" + '\n",
      "  '0.012*\"computer\" + 0.011*\"memory\"'),\n",
      " (15,\n",
      "  '0.031*\"information\" + 0.031*\"mail\" + 0.027*\"available\" + 0.026*\"send\" + '\n",
      "  '0.020*\"post\" + 0.020*\"list\" + 0.019*\"number\" + 0.019*\"message\" + '\n",
      "  '0.019*\"info\" + 0.017*\"email\"'),\n",
      " (16,\n",
      "  '0.041*\"monitor\" + 0.037*\"specifically\" + 0.035*\"bus\" + 0.023*\"brother\" + '\n",
      "  '0.020*\"cleveland_ohio\" + 0.020*\"conference\" + 0.020*\"reserve_university\" + '\n",
      "  '0.019*\"crash\" + 0.013*\"entry\" + 0.009*\"_\"'),\n",
      " (17,\n",
      "  '0.018*\"rate\" + 0.018*\"face\" + 0.014*\"head\" + 0.012*\"minute\" + 0.012*\"move\" '\n",
      "  '+ 0.012*\"pull\" + 0.011*\"notice\" + 0.011*\"black\" + 0.010*\"show\" + '\n",
      "  '0.010*\"ice\"'),\n",
      " (18,\n",
      "  '0.033*\"government\" + 0.024*\"gun\" + 0.023*\"state\" + 0.022*\"law\" + '\n",
      "  '0.018*\"right\" + 0.014*\"country\" + 0.013*\"public\" + 0.012*\"people\" + '\n",
      "  '0.010*\"criminal\" + 0.008*\"pay\"'),\n",
      " (19,\n",
      "  '0.024*\"child\" + 0.018*\"people\" + 0.018*\"man\" + 0.016*\"kill\" + 0.014*\"spank\" '\n",
      "  '+ 0.012*\"president\" + 0.012*\"murder\" + 0.010*\"woman\" + 0.010*\"jewish\" + '\n",
      "  '0.009*\"parent\"')]\n"
     ]
    }
   ],
   "source": [
    "pprint(lda_model.print_topics(num_words=10))\n",
    "doc_lda = lda_model[corpus]"
   ]
  },
  {
   "cell_type": "markdown",
   "metadata": {},
   "source": [
    "#### 2) LDA Mallet Model"
   ]
  },
  {
   "cell_type": "code",
   "execution_count": 30,
   "metadata": {},
   "outputs": [
    {
     "name": "stdout",
     "output_type": "stream",
     "text": [
      "[(0,\n",
      "  '0.359*\"ax\" + 0.146*\"line\" + 0.076*\"host\" + 0.040*\"organization\" + '\n",
      "  '0.026*\"reply\" + 0.026*\"nntp_posting\" + 0.008*\"keyword\" + 0.007*\"email\" + '\n",
      "  '0.007*\"originator\" + 0.006*\"_\"'),\n",
      " (1,\n",
      "  '0.020*\"question\" + 0.016*\"exist\" + 0.015*\"true\" + 0.015*\"reason\" + '\n",
      "  '0.014*\"claim\" + 0.012*\"evidence\" + 0.011*\"argument\" + 0.010*\"human\" + '\n",
      "  '0.010*\"answer\" + 0.009*\"thing\"'),\n",
      " (2,\n",
      "  '0.032*\"number\" + 0.025*\"point\" + 0.024*\"time\" + 0.022*\"problem\" + '\n",
      "  '0.016*\"give\" + 0.016*\"find\" + 0.015*\"high\" + 0.014*\"rate\" + 0.013*\"large\" + '\n",
      "  '0.011*\"report\"'),\n",
      " (3,\n",
      "  '0.012*\"problem\" + 0.010*\"day\" + 0.009*\"study\" + 0.009*\"food\" + '\n",
      "  '0.009*\"doctor\" + 0.009*\"effect\" + 0.008*\"time\" + 0.008*\"patient\" + '\n",
      "  '0.007*\"eat\" + 0.007*\"find\"'),\n",
      " (4,\n",
      "  '0.013*\"word\" + 0.010*\"book\" + 0.010*\"religion\" + 0.009*\"christian\" + '\n",
      "  '0.009*\"church\" + 0.009*\"people\" + 0.008*\"love\" + 0.008*\"time\" + 0.008*\"man\" '\n",
      "  '+ 0.008*\"make\"'),\n",
      " (5,\n",
      "  '0.030*\"drive\" + 0.028*\"card\" + 0.026*\"problem\" + 0.022*\"system\" + '\n",
      "  '0.020*\"driver\" + 0.016*\"work\" + 0.016*\"run\" + 0.015*\"bit\" + 0.015*\"disk\" + '\n",
      "  '0.013*\"memory\"'),\n",
      " (6,\n",
      "  '0.021*\"line\" + 0.019*\"work\" + 0.014*\"power\" + 0.012*\"current\" + '\n",
      "  '0.011*\"sound\" + 0.010*\"ground\" + 0.009*\"wire\" + 0.008*\"light\" + 0.008*\"box\" '\n",
      "  '+ 0.008*\"cable\"'),\n",
      " (7,\n",
      "  '0.255*\"write\" + 0.175*\"article\" + 0.101*\"line\" + 0.046*\"organization\" + '\n",
      "  '0.019*\"hear\" + 0.018*\"read\" + 0.011*\"post\" + 0.009*\"question\" + '\n",
      "  '0.009*\"guess\" + 0.008*\"remember\"'),\n",
      " (8,\n",
      "  '0.055*\"people\" + 0.031*\"make\" + 0.019*\"thing\" + 0.014*\"good\" + 0.014*\"post\" '\n",
      "  '+ 0.014*\"opinion\" + 0.012*\"bad\" + 0.012*\"feel\" + 0.012*\"point\" + '\n",
      "  '0.010*\"group\"'),\n",
      " (9,\n",
      "  '0.027*\"gun\" + 0.023*\"law\" + 0.018*\"state\" + 0.016*\"people\" + 0.010*\"crime\" '\n",
      "  '+ 0.010*\"weapon\" + 0.008*\"case\" + 0.008*\"government\" + 0.008*\"firearm\" + '\n",
      "  '0.008*\"kill\"'),\n",
      " (10,\n",
      "  '0.018*\"make\" + 0.016*\"work\" + 0.012*\"job\" + 0.011*\"money\" + '\n",
      "  '0.010*\"government\" + 0.010*\"year\" + 0.009*\"people\" + 0.009*\"support\" + '\n",
      "  '0.008*\"pay\" + 0.007*\"time\"'),\n",
      " (11,\n",
      "  '0.017*\"time\" + 0.017*\"start\" + 0.016*\"happen\" + 0.016*\"people\" + '\n",
      "  '0.013*\"day\" + 0.013*\"leave\" + 0.010*\"hear\" + 0.010*\"back\" + 0.010*\"live\" + '\n",
      "  '0.009*\"thing\"'),\n",
      " (12,\n",
      "  '0.015*\"bike\" + 0.011*\"ride\" + 0.011*\"turn\" + 0.011*\"make\" + 0.010*\"back\" + '\n",
      "  '0.010*\"big\" + 0.010*\"water\" + 0.009*\"side\" + 0.009*\"thing\" + 0.009*\"leave\"'),\n",
      " (13,\n",
      "  '0.031*\"game\" + 0.030*\"team\" + 0.025*\"year\" + 0.025*\"play\" + 0.019*\"good\" + '\n",
      "  '0.019*\"player\" + 0.017*\"win\" + 0.012*\"season\" + 0.010*\"run\" + 0.010*\"hit\"'),\n",
      " (14,\n",
      "  '0.019*\"space\" + 0.011*\"system\" + 0.010*\"launch\" + 0.008*\"project\" + '\n",
      "  '0.007*\"design\" + 0.007*\"cost\" + 0.007*\"technology\" + 0.007*\"satellite\" + '\n",
      "  '0.006*\"earth\" + 0.006*\"year\"'),\n",
      " (15,\n",
      "  '0.040*\"key\" + 0.018*\"system\" + 0.015*\"encryption\" + 0.013*\"chip\" + '\n",
      "  '0.012*\"bit\" + 0.011*\"public\" + 0.011*\"technology\" + 0.010*\"phone\" + '\n",
      "  '0.010*\"government\" + 0.009*\"information\"'),\n",
      " (16,\n",
      "  '0.019*\"window\" + 0.017*\"file\" + 0.017*\"image\" + 0.016*\"program\" + '\n",
      "  '0.013*\"display\" + 0.012*\"application\" + 0.012*\"software\" + 0.012*\"version\" '\n",
      "  '+ 0.011*\"server\" + 0.010*\"color\"'),\n",
      " (17,\n",
      "  '0.030*\"file\" + 0.028*\"send\" + 0.024*\"mail\" + 0.018*\"post\" + '\n",
      "  '0.017*\"information\" + 0.017*\"list\" + 0.016*\"address\" + 0.014*\"line\" + '\n",
      "  '0.013*\"include\" + 0.012*\"email\"'),\n",
      " (18,\n",
      "  '0.043*\"car\" + 0.040*\"good\" + 0.029*\"buy\" + 0.025*\"price\" + 0.023*\"sell\" + '\n",
      "  '0.016*\"line\" + 0.014*\"sale\" + 0.012*\"pay\" + 0.012*\"cost\" + 0.011*\"mail\"'),\n",
      " (19,\n",
      "  '0.014*\"armenian\" + 0.013*\"people\" + 0.010*\"israeli\" + 0.010*\"attack\" + '\n",
      "  '0.009*\"kill\" + 0.009*\"war\" + 0.009*\"government\" + 0.008*\"state\" + '\n",
      "  '0.008*\"turkish\" + 0.007*\"land\"')]\n"
     ]
    }
   ],
   "source": [
    "pprint(ldamallet_model.print_topics(num_words=10))\n",
    "doc_ldamallet = ldamallet_model[corpus]"
   ]
  },
  {
   "cell_type": "markdown",
   "metadata": {},
   "source": [
    "## Evaluate By Model Perplexity and Coherence Score"
   ]
  },
  {
   "cell_type": "markdown",
   "metadata": {},
   "source": [
    "#### 1) LDA Model"
   ]
  },
  {
   "cell_type": "code",
   "execution_count": 31,
   "metadata": {},
   "outputs": [
    {
     "name": "stdout",
     "output_type": "stream",
     "text": [
      "\n",
      "Perplexity Score: -8.490488\n",
      "\n",
      "Coherence Score: 0.464586\n"
     ]
    }
   ],
   "source": [
    "# computing Perplexity\n",
    "perplexity_score = lda_model.log_perplexity(corpus)\n",
    "print(f'\\nPerplexity Score: {perplexity_score:6f}') # lower the better\n",
    "\n",
    "# computing Coherence Score\n",
    "coherence_model_lda = CoherenceModel(model=lda_model, texts=lemmatized_words, dictionary=id2word, coherence='c_v')\n",
    "coherence_score = coherence_model_lda.get_coherence()\n",
    "print(f'\\nCoherence Score: {coherence_score:6f}') # higher the better"
   ]
  },
  {
   "cell_type": "markdown",
   "metadata": {},
   "source": [
    "#### 2) LDA Mallet Model"
   ]
  },
  {
   "cell_type": "code",
   "execution_count": 32,
   "metadata": {},
   "outputs": [
    {
     "name": "stdout",
     "output_type": "stream",
     "text": [
      "\n",
      "Coherence Score: 0.536312\n"
     ]
    }
   ],
   "source": [
    "# computing Coherence Score\n",
    "coherence_model_ldamallet = CoherenceModel(model=ldamallet_model, texts=lemmatized_words, dictionary=id2word, coherence='c_v')\n",
    "coherence_score = coherence_model_ldamallet.get_coherence()\n",
    "print(f'\\nCoherence Score: {coherence_score:6f}') # higher the better"
   ]
  },
  {
   "cell_type": "markdown",
   "metadata": {},
   "source": [
    "## Visualize The Topics in LDA Model"
   ]
  },
  {
   "cell_type": "code",
   "execution_count": 33,
   "metadata": {
    "collapsed": true
   },
   "outputs": [],
   "source": [
    "# visualize_the_topics = pyLDAvis.gensim.prepare(ldamallet_model, corpus, id2word)\n",
    "# visualize_the_topics.display()"
   ]
  },
  {
   "cell_type": "markdown",
   "metadata": {},
   "source": [
    "## Find Optimal Number of Topics for LDA Model"
   ]
  },
  {
   "cell_type": "code",
   "execution_count": 36,
   "metadata": {
    "collapsed": true
   },
   "outputs": [],
   "source": [
    "def find_optimal_number_of_topics(dictionary, corpus, texts, end, start=2, step=3):\n",
    "    \n",
    "    model_list = []\n",
    "    coherence_scores = []\n",
    "    \n",
    "    for num_topics in tqdm_notebook(range(start, end, step)):\n",
    "        model = LdaMallet(ldamallet_path, corpus=corpus, id2word=id2word, num_topics=num_topics)\n",
    "        coherence_model = CoherenceModel(model=model, texts=texts, dictionary=dictionary, coherence='c_v')\n",
    "        \n",
    "        model_list.append(model)\n",
    "        coherence_scores.append(coherence_model.get_coherence())\n",
    "        \n",
    "        print(f'Number of Topics: {num_topics}, Coherence Score: {coherence_model.get_coherence():.4f}')\n",
    "        \n",
    "    return model_list, coherence_scores"
   ]
  },
  {
   "cell_type": "code",
   "execution_count": 37,
   "metadata": {},
   "outputs": [
    {
     "data": {
      "application/vnd.jupyter.widget-view+json": {
       "model_id": "98c2c490e9054218b728ba357d959871",
       "version_major": 2,
       "version_minor": 0
      },
      "text/plain": [
       "A Jupyter Widget"
      ]
     },
     "metadata": {},
     "output_type": "display_data"
    },
    {
     "name": "stdout",
     "output_type": "stream",
     "text": [
      "Number of Topics: 2, Coherence Score: 0.4370\n",
      "Number of Topics: 8, Coherence Score: 0.4459\n",
      "Number of Topics: 14, Coherence Score: 0.5240\n",
      "Number of Topics: 20, Coherence Score: 0.5418\n",
      "Number of Topics: 26, Coherence Score: 0.5332\n",
      "Number of Topics: 32, Coherence Score: 0.5377\n",
      "Number of Topics: 38, Coherence Score: 0.5263\n",
      "Number of Topics: 44, Coherence Score: 0.5351\n",
      "\n"
     ]
    }
   ],
   "source": [
    "start=2; end=50; step=6;\n",
    "model_list, coherence_scores = find_optimal_number_of_topics(dictionary=id2word, corpus=corpus, texts=lemmatized_words, start=start, end=end, step=step)"
   ]
  },
  {
   "cell_type": "code",
   "execution_count": 38,
   "metadata": {},
   "outputs": [
    {
     "data": {
      "image/png": "[encoded data removed]",
      "text/plain": [
       "<matplotlib.figure.Figure at 0x1a4da0fcf8>"
      ]
     },
     "metadata": {},
     "output_type": "display_data"
    }
   ],
   "source": [
    "x = range(start, end, step)\n",
    "plt.plot(x, coherence_scores, color='green')\n",
    "plt.xlabel('Number of Topics')\n",
    "plt.ylabel('Coherence Scores')\n",
    "plt.legend(('coherence_scores'), loc='best')\n",
    "plt.savefig('./images/plot_optimal_number_of_topics.png')\n",
    "plt.show()"
   ]
  },
  {
   "cell_type": "markdown",
   "metadata": {},
   "source": [
    "## View The Topics in Optimal LDA Model"
   ]
  },
  {
   "cell_type": "code",
   "execution_count": 39,
   "metadata": {
    "collapsed": true
   },
   "outputs": [],
   "source": [
    "number_of_model = 5"
   ]
  },
  {
   "cell_type": "code",
   "execution_count": 40,
   "metadata": {
    "collapsed": true
   },
   "outputs": [],
   "source": [
    "optimal_lda_model = model_list[number_of_model]\n",
    "optimal_lda_model.save('./weights/optimal_ldamallet_model.hdf5')"
   ]
  },
  {
   "cell_type": "code",
   "execution_count": 41,
   "metadata": {},
   "outputs": [
    {
     "name": "stdout",
     "output_type": "stream",
     "text": [
      "[(23,\n",
      "  '0.021*\"power\" + 0.016*\"ground\" + 0.013*\"wire\" + 0.013*\"current\" + '\n",
      "  '0.011*\"line\" + 0.009*\"work\" + 0.009*\"light\" + 0.009*\"high\" + 0.009*\"cable\" '\n",
      "  '+ 0.009*\"signal\"'),\n",
      " (10,\n",
      "  '0.036*\"people\" + 0.029*\"life\" + 0.026*\"man\" + 0.026*\"child\" + 0.020*\"make\" '\n",
      "  '+ 0.019*\"love\" + 0.018*\"time\" + 0.017*\"die\" + 0.016*\"live\" + 0.014*\"woman\"'),\n",
      " (14,\n",
      "  '0.018*\"israeli\" + 0.014*\"state\" + 0.013*\"war\" + 0.013*\"attack\" + '\n",
      "  '0.011*\"give\" + 0.011*\"country\" + 0.010*\"land\" + 0.010*\"jewish\" + '\n",
      "  '0.010*\"peace\" + 0.008*\"people\"'),\n",
      " (21,\n",
      "  '0.079*\"time\" + 0.034*\"point\" + 0.023*\"find\" + 0.019*\"problem\" + '\n",
      "  '0.017*\"number\" + 0.016*\"change\" + 0.015*\"give\" + 0.015*\"call\" + '\n",
      "  '0.014*\"work\" + 0.011*\"start\"'),\n",
      " (22,\n",
      "  '0.015*\"word\" + 0.014*\"christian\" + 0.014*\"church\" + 0.012*\"religion\" + '\n",
      "  '0.011*\"faith\" + 0.011*\"day\" + 0.011*\"sin\" + 0.008*\"people\" + 0.008*\"speak\" '\n",
      "  '+ 0.007*\"scripture\"'),\n",
      " (17,\n",
      "  '0.028*\"space\" + 0.014*\"launch\" + 0.010*\"system\" + 0.010*\"satellite\" + '\n",
      "  '0.009*\"project\" + 0.009*\"earth\" + 0.009*\"mission\" + 0.008*\"technology\" + '\n",
      "  '0.008*\"orbit\" + 0.007*\"design\"'),\n",
      " (13,\n",
      "  '0.046*\"gun\" + 0.019*\"kill\" + 0.018*\"fire\" + 0.016*\"weapon\" + 0.016*\"crime\" '\n",
      "  '+ 0.011*\"criminal\" + 0.010*\"firearm\" + 0.010*\"shoot\" + 0.009*\"people\" + '\n",
      "  '0.008*\"police\"'),\n",
      " (28,\n",
      "  '0.035*\"people\" + 0.021*\"government\" + 0.018*\"case\" + 0.014*\"make\" + '\n",
      "  '0.013*\"write\" + 0.012*\"drug\" + 0.010*\"fact\" + 0.009*\"freedom\" + '\n",
      "  '0.008*\"article\" + 0.008*\"organization\"'),\n",
      " (6,\n",
      "  '0.072*\"problem\" + 0.044*\"card\" + 0.038*\"work\" + 0.035*\"driver\" + '\n",
      "  '0.030*\"window\" + 0.027*\"line\" + 0.022*\"monitor\" + 0.019*\"video\" + '\n",
      "  '0.018*\"run\" + 0.018*\"color\"'),\n",
      " (15,\n",
      "  '0.034*\"year\" + 0.033*\"pay\" + 0.028*\"cost\" + 0.027*\"money\" + 0.023*\"buy\" + '\n",
      "  '0.016*\"make\" + 0.015*\"price\" + 0.014*\"company\" + 0.014*\"market\" + '\n",
      "  '0.013*\"service\"'),\n",
      " (27,\n",
      "  '0.028*\"work\" + 0.025*\"make\" + 0.020*\"job\" + 0.018*\"people\" + 0.014*\"time\" + '\n",
      "  '0.013*\"talk\" + 0.011*\"today\" + 0.009*\"year\" + 0.009*\"question\" + '\n",
      "  '0.009*\"president\"'),\n",
      " (7,\n",
      "  '0.031*\"window\" + 0.022*\"application\" + 0.020*\"set\" + 0.019*\"run\" + '\n",
      "  '0.018*\"server\" + 0.015*\"display\" + 0.013*\"call\" + 0.012*\"widget\" + '\n",
      "  '0.010*\"program\" + 0.010*\"client\"'),\n",
      " (9,\n",
      "  '0.026*\"exist\" + 0.017*\"atheist\" + 0.016*\"human\" + 0.014*\"system\" + '\n",
      "  '0.014*\"moral\" + 0.014*\"people\" + 0.011*\"science\" + 0.011*\"existence\" + '\n",
      "  '0.010*\"religion\" + 0.008*\"thing\"'),\n",
      " (4,\n",
      "  '0.020*\"leave\" + 0.017*\"start\" + 0.016*\"people\" + 0.015*\"happen\" + '\n",
      "  '0.014*\"time\" + 0.014*\"day\" + 0.013*\"back\" + 0.013*\"home\" + 0.011*\"hear\" + '\n",
      "  '0.010*\"face\"'),\n",
      " (16,\n",
      "  '0.018*\"high\" + 0.017*\"water\" + 0.013*\"food\" + 0.012*\"eat\" + 0.012*\"report\" '\n",
      "  '+ 0.010*\"increase\" + 0.010*\"time\" + 0.009*\"day\" + 0.009*\"low\" + '\n",
      "  '0.008*\"make\"'),\n",
      " (1,\n",
      "  '0.048*\"drive\" + 0.028*\"system\" + 0.022*\"disk\" + 0.020*\"speed\" + 0.018*\"bit\" '\n",
      "  '+ 0.014*\"chip\" + 0.014*\"pc\" + 0.013*\"memory\" + 0.012*\"fast\" + 0.012*\"run\"'),\n",
      " (3,\n",
      "  '0.041*\"question\" + 0.029*\"claim\" + 0.026*\"true\" + 0.021*\"reason\" + '\n",
      "  '0.020*\"answer\" + 0.019*\"argument\" + 0.015*\"make\" + 0.015*\"evidence\" + '\n",
      "  '0.014*\"truth\" + 0.014*\"fact\"'),\n",
      " (30,\n",
      "  '0.091*\"line\" + 0.029*\"sell\" + 0.028*\"mail\" + 0.027*\"price\" + '\n",
      "  '0.025*\"interested\" + 0.021*\"sale\" + 0.020*\"phone\" + 0.017*\"find\" + '\n",
      "  '0.016*\"offer\" + 0.014*\"call\"'),\n",
      " (5,\n",
      "  '0.055*\"key\" + 0.021*\"encryption\" + 0.017*\"system\" + 0.016*\"chip\" + '\n",
      "  '0.014*\"government\" + 0.013*\"bit\" + 0.012*\"security\" + 0.012*\"public\" + '\n",
      "  '0.012*\"technology\" + 0.010*\"secure\"'),\n",
      " (18,\n",
      "  '0.042*\"post\" + 0.036*\"mail\" + 0.027*\"send\" + 0.023*\"information\" + '\n",
      "  '0.023*\"message\" + 0.023*\"list\" + 0.022*\"address\" + 0.022*\"group\" + '\n",
      "  '0.020*\"internet\" + 0.018*\"network\"')]\n"
     ]
    }
   ],
   "source": [
    "optimal_lda_model_topics = optimal_lda_model.show_topics(formatted=False)\n",
    "pprint(optimal_lda_model.print_topics(num_words=10))\n",
    "doc_optimal_lda = optimal_lda_model[corpus]"
   ]
  },
  {
   "cell_type": "markdown",
   "metadata": {},
   "source": [
    "## Apply The Model"
   ]
  },
  {
   "cell_type": "markdown",
   "metadata": {},
   "source": [
    "#### 1) Finding the dominant topic in each sentence"
   ]
  },
  {
   "cell_type": "code",
   "execution_count": 53,
   "metadata": {},
   "outputs": [],
   "source": [
    "def find_the_dominant_topic_in_each_sentence(lda_model=lda_model, corpus=corpus, texts=cleaned_content):\n",
    "    \n",
    "    # init dataframe\n",
    "    df_dominant_topic = pd.DataFrame()\n",
    "    \n",
    "    # get main topic in each document\n",
    "    for i, row in enumerate(tqdm_notebook(lda_model[corpus])):\n",
    "        row = sorted(row, key=lambda x: (x[1]), reverse=True)\n",
    "        \n",
    "        # get the dominant topic, percentage of contribution and keywords for each document\n",
    "        for j, (topic_num, prop_topic) in enumerate(row):\n",
    "            if j == 0:\n",
    "                wp = lda_model.show_topic(topic_num)\n",
    "                topic_keywords = ', '.join([word for word, prop in wp])\n",
    "                df_dominant_topic = df_dominant_topic.append(pd.Series([int(topic_num), round(prop_topic, 4), topic_keywords]), ignore_index=True)\n",
    "            else: break\n",
    "    \n",
    "    # add original text to the end of the output\n",
    "    contents = pd.Series(texts)\n",
    "    df_dominant_topic = pd.concat([df_dominant_topic, contents], axis=1)\n",
    "    \n",
    "    # reset and change dataframe index\n",
    "    df_dominant_topic = df_dominant_topic.reset_index(drop=True)\n",
    "    df_dominant_topic.columns = ['Number of Document', 'Dominant Topic', '(Topic) Percentage', 'Keywords', 'Text']\n",
    "\n",
    "    # save dataframe\n",
    "    df_dominant_topic.to_csv('./results/df_dominant_topic.csv')\n",
    "    \n",
    "    return (df_dominant_topic)"
   ]
  },
  {
   "cell_type": "code",
   "execution_count": 55,
   "metadata": {},
   "outputs": [
    {
     "data": {
      "application/vnd.jupyter.widget-view+json": {
       "model_id": "5b5545b43ba84b25ad5ae33d52e031f1",
       "version_major": 2,
       "version_minor": 0
      },
      "text/plain": [
       "A Jupyter Widget"
      ]
     },
     "metadata": {},
     "output_type": "display_data"
    },
    {
     "data": {
      "text/html": [
       "<div>\n",
       "<style>\n",
       "    .dataframe thead tr:only-child th {\n",
       "        text-align: right;\n",
       "    }\n",
       "\n",
       "    .dataframe thead th {\n",
       "        text-align: left;\n",
       "    }\n",
       "\n",
       "    .dataframe tbody tr th {\n",
       "        vertical-align: top;\n",
       "    }\n",
       "</style>\n",
       "<table border=\"1\" class=\"dataframe\">\n",
       "  <thead>\n",
       "    <tr style=\"text-align: right;\">\n",
       "      <th></th>\n",
       "      <th>Number of Document</th>\n",
       "      <th>Dominant Topic</th>\n",
       "      <th>(Topic) Percentage</th>\n",
       "      <th>Keywords</th>\n",
       "      <th>Text</th>\n",
       "    </tr>\n",
       "  </thead>\n",
       "  <tbody>\n",
       "    <tr>\n",
       "      <th>0</th>\n",
       "      <td>0</td>\n",
       "      <td>12.0</td>\n",
       "      <td>0.1139</td>\n",
       "      <td>car, bike, ride, drive, engine, road, mile, sp...</td>\n",
       "      <td>From: (wheres my thing) Subject: WHAT car is t...</td>\n",
       "    </tr>\n",
       "    <tr>\n",
       "      <th>1</th>\n",
       "      <td>1</td>\n",
       "      <td>1.0</td>\n",
       "      <td>0.1621</td>\n",
       "      <td>drive, system, disk, speed, bit, chip, pc, mem...</td>\n",
       "      <td>From: (Guy Kuo) Subject: SI Clock Poll - Final...</td>\n",
       "    </tr>\n",
       "    <tr>\n",
       "      <th>2</th>\n",
       "      <td>2</td>\n",
       "      <td>12.0</td>\n",
       "      <td>0.1290</td>\n",
       "      <td>car, bike, ride, drive, engine, road, mile, sp...</td>\n",
       "      <td>From: (Irwin Arnstein) Subject: Re: Recommenda...</td>\n",
       "    </tr>\n",
       "    <tr>\n",
       "      <th>3</th>\n",
       "      <td>3</td>\n",
       "      <td>25.0</td>\n",
       "      <td>0.1764</td>\n",
       "      <td>image, software, file, program, version, packa...</td>\n",
       "      <td>From: (Tsung-Kun Chen) Subject: ** Software fo...</td>\n",
       "    </tr>\n",
       "    <tr>\n",
       "      <th>4</th>\n",
       "      <td>4</td>\n",
       "      <td>6.0</td>\n",
       "      <td>0.1796</td>\n",
       "      <td>problem, card, work, driver, window, line, mon...</td>\n",
       "      <td>From: (Don A.B. Lindbergh) Subject: Diamond SS...</td>\n",
       "    </tr>\n",
       "    <tr>\n",
       "      <th>5</th>\n",
       "      <td>5</td>\n",
       "      <td>12.0</td>\n",
       "      <td>0.3574</td>\n",
       "      <td>car, bike, ride, drive, engine, road, mile, sp...</td>\n",
       "      <td>From: (Robert Loper) Subject: Re: SHO and SC N...</td>\n",
       "    </tr>\n",
       "    <tr>\n",
       "      <th>6</th>\n",
       "      <td>6</td>\n",
       "      <td>30.0</td>\n",
       "      <td>0.1005</td>\n",
       "      <td>line, sell, mail, price, interested, sale, pho...</td>\n",
       "      <td>From: (Kim Richard Man) Subject: SyQuest 44M c...</td>\n",
       "    </tr>\n",
       "    <tr>\n",
       "      <th>7</th>\n",
       "      <td>7</td>\n",
       "      <td>25.0</td>\n",
       "      <td>0.1444</td>\n",
       "      <td>image, software, file, program, version, packa...</td>\n",
       "      <td>From: (Kirtley Wilson) Subject: Mirosoft Offic...</td>\n",
       "    </tr>\n",
       "    <tr>\n",
       "      <th>8</th>\n",
       "      <td>8</td>\n",
       "      <td>31.0</td>\n",
       "      <td>0.0901</td>\n",
       "      <td>write, article, line, read, organization, post...</td>\n",
       "      <td>Subject: Re: Dont more innocents die without t...</td>\n",
       "    </tr>\n",
       "    <tr>\n",
       "      <th>9</th>\n",
       "      <td>9</td>\n",
       "      <td>9.0</td>\n",
       "      <td>0.2046</td>\n",
       "      <td>exist, atheist, human, system, moral, people, ...</td>\n",
       "      <td>From: (Jon Livesey) Subject: Re: Genocide is C...</td>\n",
       "    </tr>\n",
       "  </tbody>\n",
       "</table>\n",
       "</div>"
      ],
      "text/plain": [
       "   Number of Document  Dominant Topic  (Topic) Percentage  \\\n",
       "0                   0            12.0              0.1139   \n",
       "1                   1             1.0              0.1621   \n",
       "2                   2            12.0              0.1290   \n",
       "3                   3            25.0              0.1764   \n",
       "4                   4             6.0              0.1796   \n",
       "5                   5            12.0              0.3574   \n",
       "6                   6            30.0              0.1005   \n",
       "7                   7            25.0              0.1444   \n",
       "8                   8            31.0              0.0901   \n",
       "9                   9             9.0              0.2046   \n",
       "\n",
       "                                            Keywords  \\\n",
       "0  car, bike, ride, drive, engine, road, mile, sp...   \n",
       "1  drive, system, disk, speed, bit, chip, pc, mem...   \n",
       "2  car, bike, ride, drive, engine, road, mile, sp...   \n",
       "3  image, software, file, program, version, packa...   \n",
       "4  problem, card, work, driver, window, line, mon...   \n",
       "5  car, bike, ride, drive, engine, road, mile, sp...   \n",
       "6  line, sell, mail, price, interested, sale, pho...   \n",
       "7  image, software, file, program, version, packa...   \n",
       "8  write, article, line, read, organization, post...   \n",
       "9  exist, atheist, human, system, moral, people, ...   \n",
       "\n",
       "                                                Text  \n",
       "0  From: (wheres my thing) Subject: WHAT car is t...  \n",
       "1  From: (Guy Kuo) Subject: SI Clock Poll - Final...  \n",
       "2  From: (Irwin Arnstein) Subject: Re: Recommenda...  \n",
       "3  From: (Tsung-Kun Chen) Subject: ** Software fo...  \n",
       "4  From: (Don A.B. Lindbergh) Subject: Diamond SS...  \n",
       "5  From: (Robert Loper) Subject: Re: SHO and SC N...  \n",
       "6  From: (Kim Richard Man) Subject: SyQuest 44M c...  \n",
       "7  From: (Kirtley Wilson) Subject: Mirosoft Offic...  \n",
       "8  Subject: Re: Dont more innocents die without t...  \n",
       "9  From: (Jon Livesey) Subject: Re: Genocide is C...  "
      ]
     },
     "execution_count": 55,
     "metadata": {},
     "output_type": "execute_result"
    }
   ],
   "source": [
    "df_dominant_topic = find_the_dominant_topic_in_each_sentence(lda_model = optimal_lda_model, corpus=corpus, texts=cleaned_content)\n",
    "df_dominant_topic.head(10)"
   ]
  },
  {
   "cell_type": "markdown",
   "metadata": {},
   "source": [
    "#### 2) Finding the most representative document for each topic"
   ]
  },
  {
   "cell_type": "code",
   "execution_count": 78,
   "metadata": {
    "collapsed": true
   },
   "outputs": [],
   "source": [
    "def find_the_most_representative_document_for_each_topic(df_dominant_topic):\n",
    "\n",
    "    # init dataframe\n",
    "    df_representative_document = pd.DataFrame()\n",
    "\n",
    "    for i, group in tqdm_notebook(df_dominant_topic.groupby('Dominant Topic')):\n",
    "        \n",
    "        group = group[['Dominant Topic', '(Topic) Percentage', 'Keywords', 'Text']]\n",
    "        df_representative_document = pd.concat([df_representative_document, \n",
    "                                                group.sort_values(['(Topic) Percentage'], ascending=[0]).head(1)], axis=0)\n",
    "        \n",
    "    # reset and change dataframe index\n",
    "    df_representative_document = df_representative_document.reset_index(drop=True)\n",
    "    df_representative_document.columns = ['Number of Topic', '(Topic) Percentage', 'Keywords', 'Text']\n",
    "    \n",
    "    # save dataframe\n",
    "    df_representative_document.to_csv('./results/df_representative_document.csv')\n",
    "    \n",
    "    return (df_representative_document)"
   ]
  },
  {
   "cell_type": "code",
   "execution_count": 79,
   "metadata": {},
   "outputs": [
    {
     "data": {
      "application/vnd.jupyter.widget-view+json": {
       "model_id": "7cf1b479e17c483dba14663dc05e0426",
       "version_major": 2,
       "version_minor": 0
      },
      "text/plain": [
       "A Jupyter Widget"
      ]
     },
     "metadata": {},
     "output_type": "display_data"
    },
    {
     "data": {
      "text/html": [
       "<div>\n",
       "<style>\n",
       "    .dataframe thead tr:only-child th {\n",
       "        text-align: right;\n",
       "    }\n",
       "\n",
       "    .dataframe thead th {\n",
       "        text-align: left;\n",
       "    }\n",
       "\n",
       "    .dataframe tbody tr th {\n",
       "        vertical-align: top;\n",
       "    }\n",
       "</style>\n",
       "<table border=\"1\" class=\"dataframe\">\n",
       "  <thead>\n",
       "    <tr style=\"text-align: right;\">\n",
       "      <th></th>\n",
       "      <th>Number of Topic</th>\n",
       "      <th>(Topic) Percentage</th>\n",
       "      <th>Keywords</th>\n",
       "      <th>Text</th>\n",
       "    </tr>\n",
       "  </thead>\n",
       "  <tbody>\n",
       "    <tr>\n",
       "      <th>0</th>\n",
       "      <td>0.0</td>\n",
       "      <td>0.5027</td>\n",
       "      <td>good, thing, make, bad, lot, pretty, hear, har...</td>\n",
       "      <td>From: (Mike Littau) Subject: Final Public Drag...</td>\n",
       "    </tr>\n",
       "    <tr>\n",
       "      <th>1</th>\n",
       "      <td>1.0</td>\n",
       "      <td>0.8138</td>\n",
       "      <td>drive, system, disk, speed, bit, chip, pc, mem...</td>\n",
       "      <td>From: (D. Keith Rice) Subject: Re: Drive/Contr...</td>\n",
       "    </tr>\n",
       "    <tr>\n",
       "      <th>2</th>\n",
       "      <td>2.0</td>\n",
       "      <td>0.2576</td>\n",
       "      <td>line, host, organization, write, nntp_posting,...</td>\n",
       "      <td>From: (Neil A. McGlynn) Subject: British Champ...</td>\n",
       "    </tr>\n",
       "    <tr>\n",
       "      <th>3</th>\n",
       "      <td>3.0</td>\n",
       "      <td>0.5592</td>\n",
       "      <td>question, claim, true, reason, answer, argumen...</td>\n",
       "      <td>From: mathew Subject: Alt.Atheism FAQ: Constru...</td>\n",
       "    </tr>\n",
       "    <tr>\n",
       "      <th>4</th>\n",
       "      <td>4.0</td>\n",
       "      <td>0.7822</td>\n",
       "      <td>leave, start, people, happen, time, day, back,...</td>\n",
       "      <td>From: (David Davidian) Subject: Accounts of An...</td>\n",
       "    </tr>\n",
       "    <tr>\n",
       "      <th>5</th>\n",
       "      <td>5.0</td>\n",
       "      <td>0.8817</td>\n",
       "      <td>key, encryption, system, chip, government, bit...</td>\n",
       "      <td>From: (Jim Gillogly) Subject: Clipper Chip and...</td>\n",
       "    </tr>\n",
       "    <tr>\n",
       "      <th>6</th>\n",
       "      <td>6.0</td>\n",
       "      <td>0.4707</td>\n",
       "      <td>problem, card, work, driver, window, line, mon...</td>\n",
       "      <td>From: (Daniel M. Coleman) Subject: Re: Do the ...</td>\n",
       "    </tr>\n",
       "    <tr>\n",
       "      <th>7</th>\n",
       "      <td>7.0</td>\n",
       "      <td>0.6584</td>\n",
       "      <td>window, application, set, run, server, display...</td>\n",
       "      <td>From: (Peter Ware) Subject: comp.windows.x.int...</td>\n",
       "    </tr>\n",
       "    <tr>\n",
       "      <th>8</th>\n",
       "      <td>8.0</td>\n",
       "      <td>0.7026</td>\n",
       "      <td>law, state, people, person, public, vote, gove...</td>\n",
       "      <td>From: (Charles Scripter) Subject: Re: Some mor...</td>\n",
       "    </tr>\n",
       "    <tr>\n",
       "      <th>9</th>\n",
       "      <td>9.0</td>\n",
       "      <td>0.5508</td>\n",
       "      <td>exist, atheist, human, system, moral, people, ...</td>\n",
       "      <td>From: (Keith Allan Schneider) Subject: Re: &lt;Po...</td>\n",
       "    </tr>\n",
       "  </tbody>\n",
       "</table>\n",
       "</div>"
      ],
      "text/plain": [
       "   Number of Topic  (Topic) Percentage  \\\n",
       "0              0.0              0.5027   \n",
       "1              1.0              0.8138   \n",
       "2              2.0              0.2576   \n",
       "3              3.0              0.5592   \n",
       "4              4.0              0.7822   \n",
       "5              5.0              0.8817   \n",
       "6              6.0              0.4707   \n",
       "7              7.0              0.6584   \n",
       "8              8.0              0.7026   \n",
       "9              9.0              0.5508   \n",
       "\n",
       "                                            Keywords  \\\n",
       "0  good, thing, make, bad, lot, pretty, hear, har...   \n",
       "1  drive, system, disk, speed, bit, chip, pc, mem...   \n",
       "2  line, host, organization, write, nntp_posting,...   \n",
       "3  question, claim, true, reason, answer, argumen...   \n",
       "4  leave, start, people, happen, time, day, back,...   \n",
       "5  key, encryption, system, chip, government, bit...   \n",
       "6  problem, card, work, driver, window, line, mon...   \n",
       "7  window, application, set, run, server, display...   \n",
       "8  law, state, people, person, public, vote, gove...   \n",
       "9  exist, atheist, human, system, moral, people, ...   \n",
       "\n",
       "                                                Text  \n",
       "0  From: (Mike Littau) Subject: Final Public Drag...  \n",
       "1  From: (D. Keith Rice) Subject: Re: Drive/Contr...  \n",
       "2  From: (Neil A. McGlynn) Subject: British Champ...  \n",
       "3  From: mathew Subject: Alt.Atheism FAQ: Constru...  \n",
       "4  From: (David Davidian) Subject: Accounts of An...  \n",
       "5  From: (Jim Gillogly) Subject: Clipper Chip and...  \n",
       "6  From: (Daniel M. Coleman) Subject: Re: Do the ...  \n",
       "7  From: (Peter Ware) Subject: comp.windows.x.int...  \n",
       "8  From: (Charles Scripter) Subject: Re: Some mor...  \n",
       "9  From: (Keith Allan Schneider) Subject: Re: <Po...  "
      ]
     },
     "execution_count": 79,
     "metadata": {},
     "output_type": "execute_result"
    }
   ],
   "source": [
    "df_representative_document = find_the_most_representative_document_for_each_topic(df_dominant_topic)\n",
    "df_representative_document.head(10)"
   ]
  },
  {
   "cell_type": "markdown",
   "metadata": {},
   "source": [
    "#### 3) Finding topic distribution across documents "
   ]
  },
  {
   "cell_type": "code",
   "execution_count": 88,
   "metadata": {
    "collapsed": true
   },
   "outputs": [],
   "source": [
    "def find_topic_distribution_across_documents(df_dominant_topic):\n",
    "\n",
    "    # init dataframe\n",
    "    df_topic_distribution = pd.DataFrame()\n",
    "\n",
    "    # number of documents for each topic\n",
    "    topic_counts = df_dominant_topic['Dominant Topic'].value_counts()\n",
    "\n",
    "    # percentage of documents for each topic\n",
    "    topic_contribution = round(topic_counts/ topic_counts.sum(), 4)\n",
    "\n",
    "    # topic number and keywords\n",
    "    topic_keywords = df_dominant_topic[['Dominant Topic', 'Keywords']]\n",
    "\n",
    "    # concatenate column wise\n",
    "    df_topic_distribution = pd.concat([topic_keywords, topic_counts, topic_contribution], axis=1)\n",
    "\n",
    "    # change column names\n",
    "    df_topic_distribution.columns = ['Dominant Topic', 'Keywords', 'Number of Documents', '(Doc) Percentage']\n",
    "    \n",
    "    # save dataframe\n",
    "    df_topic_distribution.to_csv('./results/df_topic_distribution.csv')\n",
    "    \n",
    "    return (df_topic_distribution)"
   ]
  },
  {
   "cell_type": "code",
   "execution_count": 89,
   "metadata": {},
   "outputs": [
    {
     "data": {
      "text/html": [
       "<div>\n",
       "<style>\n",
       "    .dataframe thead tr:only-child th {\n",
       "        text-align: right;\n",
       "    }\n",
       "\n",
       "    .dataframe thead th {\n",
       "        text-align: left;\n",
       "    }\n",
       "\n",
       "    .dataframe tbody tr th {\n",
       "        vertical-align: top;\n",
       "    }\n",
       "</style>\n",
       "<table border=\"1\" class=\"dataframe\">\n",
       "  <thead>\n",
       "    <tr style=\"text-align: right;\">\n",
       "      <th></th>\n",
       "      <th>Dominant Topic</th>\n",
       "      <th>Keywords</th>\n",
       "      <th>Number of Documents</th>\n",
       "      <th>(Doc) Percentage</th>\n",
       "    </tr>\n",
       "  </thead>\n",
       "  <tbody>\n",
       "    <tr>\n",
       "      <th>0</th>\n",
       "      <td>12.0</td>\n",
       "      <td>car, bike, ride, drive, engine, road, mile, sp...</td>\n",
       "      <td>171.0</td>\n",
       "      <td>0.0151</td>\n",
       "    </tr>\n",
       "    <tr>\n",
       "      <th>1</th>\n",
       "      <td>1.0</td>\n",
       "      <td>drive, system, disk, speed, bit, chip, pc, mem...</td>\n",
       "      <td>697.0</td>\n",
       "      <td>0.0616</td>\n",
       "    </tr>\n",
       "    <tr>\n",
       "      <th>2</th>\n",
       "      <td>12.0</td>\n",
       "      <td>car, bike, ride, drive, engine, road, mile, sp...</td>\n",
       "      <td>504.0</td>\n",
       "      <td>0.0445</td>\n",
       "    </tr>\n",
       "    <tr>\n",
       "      <th>3</th>\n",
       "      <td>25.0</td>\n",
       "      <td>image, software, file, program, version, packa...</td>\n",
       "      <td>175.0</td>\n",
       "      <td>0.0155</td>\n",
       "    </tr>\n",
       "    <tr>\n",
       "      <th>4</th>\n",
       "      <td>6.0</td>\n",
       "      <td>problem, card, work, driver, window, line, mon...</td>\n",
       "      <td>156.0</td>\n",
       "      <td>0.0138</td>\n",
       "    </tr>\n",
       "    <tr>\n",
       "      <th>5</th>\n",
       "      <td>12.0</td>\n",
       "      <td>car, bike, ride, drive, engine, road, mile, sp...</td>\n",
       "      <td>453.0</td>\n",
       "      <td>0.0400</td>\n",
       "    </tr>\n",
       "    <tr>\n",
       "      <th>6</th>\n",
       "      <td>30.0</td>\n",
       "      <td>line, sell, mail, price, interested, sale, pho...</td>\n",
       "      <td>675.0</td>\n",
       "      <td>0.0597</td>\n",
       "    </tr>\n",
       "    <tr>\n",
       "      <th>7</th>\n",
       "      <td>25.0</td>\n",
       "      <td>image, software, file, program, version, packa...</td>\n",
       "      <td>497.0</td>\n",
       "      <td>0.0439</td>\n",
       "    </tr>\n",
       "    <tr>\n",
       "      <th>8</th>\n",
       "      <td>31.0</td>\n",
       "      <td>write, article, line, read, organization, post...</td>\n",
       "      <td>211.0</td>\n",
       "      <td>0.0186</td>\n",
       "    </tr>\n",
       "    <tr>\n",
       "      <th>9</th>\n",
       "      <td>9.0</td>\n",
       "      <td>exist, atheist, human, system, moral, people, ...</td>\n",
       "      <td>339.0</td>\n",
       "      <td>0.0300</td>\n",
       "    </tr>\n",
       "  </tbody>\n",
       "</table>\n",
       "</div>"
      ],
      "text/plain": [
       "   Dominant Topic                                           Keywords  \\\n",
       "0            12.0  car, bike, ride, drive, engine, road, mile, sp...   \n",
       "1             1.0  drive, system, disk, speed, bit, chip, pc, mem...   \n",
       "2            12.0  car, bike, ride, drive, engine, road, mile, sp...   \n",
       "3            25.0  image, software, file, program, version, packa...   \n",
       "4             6.0  problem, card, work, driver, window, line, mon...   \n",
       "5            12.0  car, bike, ride, drive, engine, road, mile, sp...   \n",
       "6            30.0  line, sell, mail, price, interested, sale, pho...   \n",
       "7            25.0  image, software, file, program, version, packa...   \n",
       "8            31.0  write, article, line, read, organization, post...   \n",
       "9             9.0  exist, atheist, human, system, moral, people, ...   \n",
       "\n",
       "   Number of Documents  (Doc) Percentage  \n",
       "0                171.0            0.0151  \n",
       "1                697.0            0.0616  \n",
       "2                504.0            0.0445  \n",
       "3                175.0            0.0155  \n",
       "4                156.0            0.0138  \n",
       "5                453.0            0.0400  \n",
       "6                675.0            0.0597  \n",
       "7                497.0            0.0439  \n",
       "8                211.0            0.0186  \n",
       "9                339.0            0.0300  "
      ]
     },
     "execution_count": 89,
     "metadata": {},
     "output_type": "execute_result"
    }
   ],
   "source": [
    "df_topic_distribution = find_topic_distribution_across_documents(df_dominant_topic)\n",
    "df_topic_distribution.head(10)"
   ]
  },
  {
   "cell_type": "markdown",
   "metadata": {},
   "source": [
    "---"
   ]
  }
 ],
 "metadata": {
  "kernelspec": {
   "display_name": "Python 3",
   "language": "python",
   "name": "python3"
  },
  "language_info": {
   "codemirror_mode": {
    "name": "ipython",
    "version": 3
   },
   "file_extension": ".py",
   "mimetype": "text/x-python",
   "name": "python",
   "nbconvert_exporter": "python",
   "pygments_lexer": "ipython3",
   "version": "3.6.3"
  }
 },
 "nbformat": 4,
 "nbformat_minor": 2
}
