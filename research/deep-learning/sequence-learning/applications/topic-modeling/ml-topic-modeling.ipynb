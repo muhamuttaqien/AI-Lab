{
 "cells": [
  {
   "cell_type": "markdown",
   "metadata": {},
   "source": [
    "# Document-level Topic Modeling, LDA & LDA Mallet"
   ]
  },
  {
   "cell_type": "code",
   "execution_count": 1,
   "metadata": {},
   "outputs": [],
   "source": [
    "import re\n",
    "import numpy as np\n",
    "import pandas as pd\n",
    "from pprint import pprint\n",
    "from tqdm import tqdm_notebook\n",
    "\n",
    "import nltk\n",
    "import spacy\n",
    "\n",
    "import gensim\n",
    "from gensim.models import CoherenceModel\n",
    "\n",
    "import pyLDAvis\n",
    "import pyLDAvis.gensim\n",
    "import matplotlib.pyplot as plt\n",
    "import seaborn as sns"
   ]
  },
  {
   "cell_type": "code",
   "execution_count": 2,
   "metadata": {},
   "outputs": [],
   "source": [
    "plt.style.use('ggplot')"
   ]
  },
  {
   "cell_type": "code",
   "execution_count": 3,
   "metadata": {},
   "outputs": [],
   "source": [
    "import logging\n",
    "logging.basicConfig(filename='./logs/gensim.log',\n",
    "                    format=\"%(asctime)s:%(levelname)s:%(message)s\",\n",
    "                    level=logging.INFO)"
   ]
  },
  {
   "cell_type": "code",
   "execution_count": 4,
   "metadata": {},
   "outputs": [],
   "source": [
    "import warnings\n",
    "warnings.filterwarnings(\"ignore\", category=DeprecationWarning)"
   ]
  },
  {
   "cell_type": "markdown",
   "metadata": {},
   "source": [
    "## Load Datasets"
   ]
  },
  {
   "cell_type": "code",
   "execution_count": 5,
   "metadata": {},
   "outputs": [
    {
     "data": {
      "text/html": [
       "<div>\n",
       "<style scoped>\n",
       "    .dataframe tbody tr th:only-of-type {\n",
       "        vertical-align: middle;\n",
       "    }\n",
       "\n",
       "    .dataframe tbody tr th {\n",
       "        vertical-align: top;\n",
       "    }\n",
       "\n",
       "    .dataframe thead th {\n",
       "        text-align: right;\n",
       "    }\n",
       "</style>\n",
       "<table border=\"1\" class=\"dataframe\">\n",
       "  <thead>\n",
       "    <tr style=\"text-align: right;\">\n",
       "      <th></th>\n",
       "      <th>content</th>\n",
       "      <th>target</th>\n",
       "      <th>target_names</th>\n",
       "    </tr>\n",
       "  </thead>\n",
       "  <tbody>\n",
       "    <tr>\n",
       "      <th>0</th>\n",
       "      <td>From: lerxst@wam.umd.edu (where's my thing)\\nS...</td>\n",
       "      <td>7</td>\n",
       "      <td>rec.autos</td>\n",
       "    </tr>\n",
       "    <tr>\n",
       "      <th>1</th>\n",
       "      <td>From: guykuo@carson.u.washington.edu (Guy Kuo)...</td>\n",
       "      <td>4</td>\n",
       "      <td>comp.sys.mac.hardware</td>\n",
       "    </tr>\n",
       "    <tr>\n",
       "      <th>10</th>\n",
       "      <td>From: irwin@cmptrc.lonestar.org (Irwin Arnstei...</td>\n",
       "      <td>8</td>\n",
       "      <td>rec.motorcycles</td>\n",
       "    </tr>\n",
       "    <tr>\n",
       "      <th>100</th>\n",
       "      <td>From: tchen@magnus.acs.ohio-state.edu (Tsung-K...</td>\n",
       "      <td>6</td>\n",
       "      <td>misc.forsale</td>\n",
       "    </tr>\n",
       "    <tr>\n",
       "      <th>1000</th>\n",
       "      <td>From: dabl2@nlm.nih.gov (Don A.B. Lindbergh)\\n...</td>\n",
       "      <td>2</td>\n",
       "      <td>comp.os.ms-windows.misc</td>\n",
       "    </tr>\n",
       "  </tbody>\n",
       "</table>\n",
       "</div>"
      ],
      "text/plain": [
       "                                                content  target  \\\n",
       "0     From: lerxst@wam.umd.edu (where's my thing)\\nS...       7   \n",
       "1     From: guykuo@carson.u.washington.edu (Guy Kuo)...       4   \n",
       "10    From: irwin@cmptrc.lonestar.org (Irwin Arnstei...       8   \n",
       "100   From: tchen@magnus.acs.ohio-state.edu (Tsung-K...       6   \n",
       "1000  From: dabl2@nlm.nih.gov (Don A.B. Lindbergh)\\n...       2   \n",
       "\n",
       "                 target_names  \n",
       "0                   rec.autos  \n",
       "1       comp.sys.mac.hardware  \n",
       "10            rec.motorcycles  \n",
       "100              misc.forsale  \n",
       "1000  comp.os.ms-windows.misc  "
      ]
     },
     "execution_count": 5,
     "metadata": {},
     "output_type": "execute_result"
    }
   ],
   "source": [
    "df_news = pd.read_json('./datasets/news_groups.json') # grasp from https://raw.githubusercontent.com/selva86/datasets/master/newsgroups.json\n",
    "df_news.head()"
   ]
  },
  {
   "cell_type": "code",
   "execution_count": 6,
   "metadata": {},
   "outputs": [
    {
     "name": "stdout",
     "output_type": "stream",
     "text": [
      "TOPIC EXAMPLES (20 Topics):\n",
      "\n",
      "rec.autos, comp.sys.mac.hardware, rec.motorcycles, misc.forsale, comp.os.ms-windows.misc, alt.atheism, comp.graphics, rec.sport.baseball, rec.sport.hockey, sci.electronics, sci.space, talk.politics.misc, sci.med, talk.politics.mideast, soc.religion.christian, comp.windows.x, comp.sys.ibm.pc.hardware, talk.politics.guns, talk.religion.misc, sci.crypt\n"
     ]
    }
   ],
   "source": [
    "print(f'TOPIC EXAMPLES ({len(df_news.target_names.unique())} Topics):\\n')\n",
    "print(', '.join(df_news.target_names.unique()))"
   ]
  },
  {
   "cell_type": "markdown",
   "metadata": {},
   "source": [
    "## Preprocess Datasets"
   ]
  },
  {
   "cell_type": "code",
   "execution_count": 7,
   "metadata": {},
   "outputs": [],
   "source": [
    "from nltk.corpus import stopwords"
   ]
  },
  {
   "cell_type": "code",
   "execution_count": 8,
   "metadata": {},
   "outputs": [],
   "source": [
    "stop_words = stopwords.words('english')\n",
    "stop_words.extend(['from', 'subject', 're', 'edu', 'use'])"
   ]
  },
  {
   "cell_type": "markdown",
   "metadata": {},
   "source": [
    "#### 1) Removing e-mails, new line characters and single quotes"
   ]
  },
  {
   "cell_type": "code",
   "execution_count": 9,
   "metadata": {},
   "outputs": [],
   "source": [
    "content = df_news['content'].values.tolist()\n",
    "\n",
    "# removing e-mails\n",
    "cleaned_content = [re.sub('\\S*@\\S*\\s?', '', sentence) for sentence in content]\n",
    "\n",
    "# removing new line characters\n",
    "cleaned_content = [re.sub('\\s+', ' ', sentence) for sentence in cleaned_content]\n",
    "\n",
    "# removing single quotes\n",
    "cleaned_content = [re.sub(\"\\'\", \"\", sentence) for sentence in cleaned_content]"
   ]
  },
  {
   "cell_type": "code",
   "execution_count": 10,
   "metadata": {},
   "outputs": [
    {
     "data": {
      "text/html": [
       "<div>\n",
       "<style scoped>\n",
       "    .dataframe tbody tr th:only-of-type {\n",
       "        vertical-align: middle;\n",
       "    }\n",
       "\n",
       "    .dataframe tbody tr th {\n",
       "        vertical-align: top;\n",
       "    }\n",
       "\n",
       "    .dataframe thead th {\n",
       "        text-align: right;\n",
       "    }\n",
       "</style>\n",
       "<table border=\"1\" class=\"dataframe\">\n",
       "  <thead>\n",
       "    <tr style=\"text-align: right;\">\n",
       "      <th></th>\n",
       "      <th>content</th>\n",
       "      <th>cleaned_content</th>\n",
       "    </tr>\n",
       "  </thead>\n",
       "  <tbody>\n",
       "    <tr>\n",
       "      <th>0</th>\n",
       "      <td>From: lerxst@wam.umd.edu (where's my thing)\\nS...</td>\n",
       "      <td>From: (wheres my thing) Subject: WHAT car is t...</td>\n",
       "    </tr>\n",
       "    <tr>\n",
       "      <th>1</th>\n",
       "      <td>From: guykuo@carson.u.washington.edu (Guy Kuo)...</td>\n",
       "      <td>From: (Guy Kuo) Subject: SI Clock Poll - Final...</td>\n",
       "    </tr>\n",
       "    <tr>\n",
       "      <th>10</th>\n",
       "      <td>From: irwin@cmptrc.lonestar.org (Irwin Arnstei...</td>\n",
       "      <td>From: (Irwin Arnstein) Subject: Re: Recommenda...</td>\n",
       "    </tr>\n",
       "    <tr>\n",
       "      <th>100</th>\n",
       "      <td>From: tchen@magnus.acs.ohio-state.edu (Tsung-K...</td>\n",
       "      <td>From: (Tsung-Kun Chen) Subject: ** Software fo...</td>\n",
       "    </tr>\n",
       "    <tr>\n",
       "      <th>1000</th>\n",
       "      <td>From: dabl2@nlm.nih.gov (Don A.B. Lindbergh)\\n...</td>\n",
       "      <td>From: (Don A.B. Lindbergh) Subject: Diamond SS...</td>\n",
       "    </tr>\n",
       "  </tbody>\n",
       "</table>\n",
       "</div>"
      ],
      "text/plain": [
       "                                                content  \\\n",
       "0     From: lerxst@wam.umd.edu (where's my thing)\\nS...   \n",
       "1     From: guykuo@carson.u.washington.edu (Guy Kuo)...   \n",
       "10    From: irwin@cmptrc.lonestar.org (Irwin Arnstei...   \n",
       "100   From: tchen@magnus.acs.ohio-state.edu (Tsung-K...   \n",
       "1000  From: dabl2@nlm.nih.gov (Don A.B. Lindbergh)\\n...   \n",
       "\n",
       "                                        cleaned_content  \n",
       "0     From: (wheres my thing) Subject: WHAT car is t...  \n",
       "1     From: (Guy Kuo) Subject: SI Clock Poll - Final...  \n",
       "10    From: (Irwin Arnstein) Subject: Re: Recommenda...  \n",
       "100   From: (Tsung-Kun Chen) Subject: ** Software fo...  \n",
       "1000  From: (Don A.B. Lindbergh) Subject: Diamond SS...  "
      ]
     },
     "execution_count": 10,
     "metadata": {},
     "output_type": "execute_result"
    }
   ],
   "source": [
    "df_news['cleaned_content'] = cleaned_content\n",
    "df_news[['content', 'cleaned_content']].head()"
   ]
  },
  {
   "cell_type": "markdown",
   "metadata": {},
   "source": [
    "#### 2) Tokenizing each sentence and removing punctuations, unnecessary characters also stop words"
   ]
  },
  {
   "cell_type": "code",
   "execution_count": 11,
   "metadata": {},
   "outputs": [],
   "source": [
    "from gensim.utils import simple_preprocess"
   ]
  },
  {
   "cell_type": "code",
   "execution_count": 12,
   "metadata": {},
   "outputs": [],
   "source": [
    "def tokenize_sentences(sentences):\n",
    "    for sentence in tqdm_notebook(sentences):\n",
    "        tokenized_sentence = simple_preprocess(str(sentence), deacc=True)\n",
    "        tokenized_sentence = [word for word in tokenized_sentence if word not in stop_words]\n",
    "        yield(tokenized_sentence) # true means removing punctuations"
   ]
  },
  {
   "cell_type": "code",
   "execution_count": 13,
   "metadata": {},
   "outputs": [
    {
     "data": {
      "application/vnd.jupyter.widget-view+json": {
       "model_id": "2b63cafd0ce84af5aa31912dd5c42b47",
       "version_major": 2,
       "version_minor": 0
      },
      "text/plain": [
       "HBox(children=(IntProgress(value=0, max=11314), HTML(value='')))"
      ]
     },
     "metadata": {},
     "output_type": "display_data"
    },
    {
     "name": "stdout",
     "output_type": "stream",
     "text": [
      "\n"
     ]
    }
   ],
   "source": [
    "tokenized_sentences = list(tokenize_sentences(cleaned_content))"
   ]
  },
  {
   "cell_type": "code",
   "execution_count": 14,
   "metadata": {},
   "outputs": [
    {
     "data": {
      "text/html": [
       "<div>\n",
       "<style scoped>\n",
       "    .dataframe tbody tr th:only-of-type {\n",
       "        vertical-align: middle;\n",
       "    }\n",
       "\n",
       "    .dataframe tbody tr th {\n",
       "        vertical-align: top;\n",
       "    }\n",
       "\n",
       "    .dataframe thead th {\n",
       "        text-align: right;\n",
       "    }\n",
       "</style>\n",
       "<table border=\"1\" class=\"dataframe\">\n",
       "  <thead>\n",
       "    <tr style=\"text-align: right;\">\n",
       "      <th></th>\n",
       "      <th>content</th>\n",
       "      <th>tokenized_content</th>\n",
       "    </tr>\n",
       "  </thead>\n",
       "  <tbody>\n",
       "    <tr>\n",
       "      <th>0</th>\n",
       "      <td>From: lerxst@wam.umd.edu (where's my thing)\\nS...</td>\n",
       "      <td>[wheres, thing, car, nntp, posting, host, rac,...</td>\n",
       "    </tr>\n",
       "    <tr>\n",
       "      <th>1</th>\n",
       "      <td>From: guykuo@carson.u.washington.edu (Guy Kuo)...</td>\n",
       "      <td>[guy, kuo, si, clock, poll, final, call, summa...</td>\n",
       "    </tr>\n",
       "    <tr>\n",
       "      <th>10</th>\n",
       "      <td>From: irwin@cmptrc.lonestar.org (Irwin Arnstei...</td>\n",
       "      <td>[irwin, arnstein, recommendation, duc, summary...</td>\n",
       "    </tr>\n",
       "    <tr>\n",
       "      <th>100</th>\n",
       "      <td>From: tchen@magnus.acs.ohio-state.edu (Tsung-K...</td>\n",
       "      <td>[tsung, kun, chen, software, forsale, lots, nn...</td>\n",
       "    </tr>\n",
       "    <tr>\n",
       "      <th>1000</th>\n",
       "      <td>From: dabl2@nlm.nih.gov (Don A.B. Lindbergh)\\n...</td>\n",
       "      <td>[lindbergh, diamond, ss, win, mouse, cursor, o...</td>\n",
       "    </tr>\n",
       "  </tbody>\n",
       "</table>\n",
       "</div>"
      ],
      "text/plain": [
       "                                                content  \\\n",
       "0     From: lerxst@wam.umd.edu (where's my thing)\\nS...   \n",
       "1     From: guykuo@carson.u.washington.edu (Guy Kuo)...   \n",
       "10    From: irwin@cmptrc.lonestar.org (Irwin Arnstei...   \n",
       "100   From: tchen@magnus.acs.ohio-state.edu (Tsung-K...   \n",
       "1000  From: dabl2@nlm.nih.gov (Don A.B. Lindbergh)\\n...   \n",
       "\n",
       "                                      tokenized_content  \n",
       "0     [wheres, thing, car, nntp, posting, host, rac,...  \n",
       "1     [guy, kuo, si, clock, poll, final, call, summa...  \n",
       "10    [irwin, arnstein, recommendation, duc, summary...  \n",
       "100   [tsung, kun, chen, software, forsale, lots, nn...  \n",
       "1000  [lindbergh, diamond, ss, win, mouse, cursor, o...  "
      ]
     },
     "execution_count": 14,
     "metadata": {},
     "output_type": "execute_result"
    }
   ],
   "source": [
    "df_news['tokenized_content'] = tokenized_sentences\n",
    "df_news[['content', 'tokenized_content']].head()"
   ]
  },
  {
   "cell_type": "markdown",
   "metadata": {},
   "source": [
    "#### 3) Making Bigram & Tigram Words"
   ]
  },
  {
   "cell_type": "code",
   "execution_count": 15,
   "metadata": {},
   "outputs": [],
   "source": [
    "# create the model first\n",
    "bigram = gensim.models.Phrases(tokenized_sentences, min_count=5, threshold=100) # higher threshold fewer phrases\n",
    "trigram = gensim.models.Phrases(bigram[tokenized_sentences], threshold=100)\n",
    "\n",
    "bigram_model = gensim.models.phrases.Phraser(bigram)\n",
    "trigram_model = gensim.models.phrases.Phraser(trigram)"
   ]
  },
  {
   "cell_type": "code",
   "execution_count": 16,
   "metadata": {},
   "outputs": [],
   "source": [
    "def make_bigram_words(text): return [bigram_model[word] for word in tqdm_notebook(text)]\n",
    "def make_trigram_words(text): return [trigram_model[bigram_model[word]] for word in tqdm_notebook(text)]"
   ]
  },
  {
   "cell_type": "code",
   "execution_count": 17,
   "metadata": {},
   "outputs": [
    {
     "data": {
      "application/vnd.jupyter.widget-view+json": {
       "model_id": "6a2605105c9e49ba855ac20bb6512ec7",
       "version_major": 2,
       "version_minor": 0
      },
      "text/plain": [
       "HBox(children=(IntProgress(value=0, max=11314), HTML(value='')))"
      ]
     },
     "metadata": {},
     "output_type": "display_data"
    },
    {
     "name": "stdout",
     "output_type": "stream",
     "text": [
      "\n",
      "BIGRAM EXAMPLES:\n",
      "\n",
      "wheres, thing, car, nntp_posting, host, rac_wam, umd, organization, university, maryland_college, park, lines, wondering, anyone, could, enlighten, car, saw, day, door, sports, car, looked, late, early, called, bricklin, doors, really, small, addition, front_bumper, separate, rest, body, know, anyone, tellme, model, name, engine, specs, years, production, car, made, history, whatever, info, funky, looking, car, please, mail, thanks, il, brought, neighborhood, lerxst\n"
     ]
    }
   ],
   "source": [
    "bigram_words = make_bigram_words(tokenized_sentences)\n",
    "\n",
    "print('BIGRAM EXAMPLES:\\n')\n",
    "print(', '.join(bigram_words[0]))"
   ]
  },
  {
   "cell_type": "code",
   "execution_count": 18,
   "metadata": {},
   "outputs": [
    {
     "data": {
      "application/vnd.jupyter.widget-view+json": {
       "model_id": "be82e2c22d4246b3ac95d3b61764b5ae",
       "version_major": 2,
       "version_minor": 0
      },
      "text/plain": [
       "HBox(children=(IntProgress(value=0, max=11314), HTML(value='')))"
      ]
     },
     "metadata": {},
     "output_type": "display_data"
    },
    {
     "name": "stdout",
     "output_type": "stream",
     "text": [
      "\n",
      "TRIGRAM EXAMPLES:\n",
      "\n",
      "wheres, thing, car, nntp_posting_host, rac_wam_umd, organization, university_maryland_college, park, lines, wondering, anyone, could, enlighten, car, saw, day, door, sports, car, looked, late, early, called, bricklin, doors, really, small, addition, front_bumper, separate, rest, body, know, anyone, tellme, model, name, engine, specs, years, production, car, made, history, whatever, info, funky, looking, car, please, mail, thanks, il, brought, neighborhood, lerxst\n"
     ]
    }
   ],
   "source": [
    "trigram_words = make_trigram_words(tokenized_sentences)\n",
    "\n",
    "print('TRIGRAM EXAMPLES:\\n')\n",
    "print(', '.join(trigram_words[0]))"
   ]
  },
  {
   "cell_type": "markdown",
   "metadata": {},
   "source": [
    "#### 4) Lemmatizing Words"
   ]
  },
  {
   "cell_type": "code",
   "execution_count": 19,
   "metadata": {},
   "outputs": [],
   "source": [
    "def lemmatize_words(text, allowed_postags=['NOUN', 'ADJ', 'VERB', 'ADV']):\n",
    "    \n",
    "    nlp = spacy.load('en', disable=['parser', 'ner'])\n",
    "        \n",
    "    lemmatized_words = []\n",
    "    \n",
    "    for sentence in tqdm_notebook(text):\n",
    "        doc = nlp(' '.join(sentence))\n",
    "        lemmatized_words.append([word.lemma_ for word in doc if word.pos_ in allowed_postags])\n",
    "        \n",
    "    return lemmatized_words"
   ]
  },
  {
   "cell_type": "code",
   "execution_count": 20,
   "metadata": {},
   "outputs": [
    {
     "data": {
      "application/vnd.jupyter.widget-view+json": {
       "model_id": "cf1b754f015d4fab9a35cb461f2d65ee",
       "version_major": 2,
       "version_minor": 0
      },
      "text/plain": [
       "HBox(children=(IntProgress(value=0, max=11314), HTML(value='')))"
      ]
     },
     "metadata": {},
     "output_type": "display_data"
    },
    {
     "name": "stdout",
     "output_type": "stream",
     "text": [
      "\n"
     ]
    }
   ],
   "source": [
    "lemmatized_words = lemmatize_words(bigram_words)"
   ]
  },
  {
   "cell_type": "code",
   "execution_count": 21,
   "metadata": {},
   "outputs": [
    {
     "name": "stdout",
     "output_type": "stream",
     "text": [
      "LEMMATIZATION EXAMPLES:\n",
      "\n",
      "where, s, thing, car, nntp_posting, host, line, wonder, enlighten, car, see, day, door, sport, car, look, late, early, call, door, really, small, addition, front_bumper, separate, rest, body, know, year, production, car, make, history, info, funky, look, car, mail, thank, bring, neighborhood, lerxst\n"
     ]
    }
   ],
   "source": [
    "print('LEMMATIZATION EXAMPLES:\\n')\n",
    "print(', '.join(lemmatized_words[0]))"
   ]
  },
  {
   "cell_type": "markdown",
   "metadata": {},
   "source": [
    "#### 5) Creating the dictionary and corpus"
   ]
  },
  {
   "cell_type": "code",
   "execution_count": 22,
   "metadata": {},
   "outputs": [],
   "source": [
    "import gensim.corpora as corpora"
   ]
  },
  {
   "cell_type": "code",
   "execution_count": 23,
   "metadata": {},
   "outputs": [],
   "source": [
    "id2word = corpora.Dictionary(lemmatized_words)"
   ]
  },
  {
   "cell_type": "markdown",
   "metadata": {},
   "source": [
    "#### 6) Preparing text features using bag of words"
   ]
  },
  {
   "cell_type": "code",
   "execution_count": 24,
   "metadata": {},
   "outputs": [
    {
     "data": {
      "application/vnd.jupyter.widget-view+json": {
       "model_id": "123410a6d3d3444188c73bfeb4fc4a4e",
       "version_major": 2,
       "version_minor": 0
      },
      "text/plain": [
       "HBox(children=(IntProgress(value=0, max=11314), HTML(value='')))"
      ]
     },
     "metadata": {},
     "output_type": "display_data"
    },
    {
     "name": "stdout",
     "output_type": "stream",
     "text": [
      "\n"
     ]
    }
   ],
   "source": [
    "corpus = [id2word.doc2bow(text) for text in tqdm_notebook(lemmatized_words)]"
   ]
  },
  {
   "cell_type": "code",
   "execution_count": 25,
   "metadata": {},
   "outputs": [
    {
     "name": "stdout",
     "output_type": "stream",
     "text": [
      "addition 1, body 1, bring 1, call 1, car 5, day 1, door 2, early 1, enlighten 1, front_bumper 1\n"
     ]
    }
   ],
   "source": [
    "corpus_look = []\n",
    "for index, frequency in corpus[:1][0][:10]: corpus_look.append(f'{id2word[index]} {frequency}')\n",
    "print(', '.join(corpus_look))"
   ]
  },
  {
   "cell_type": "markdown",
   "metadata": {},
   "source": [
    "## Build Model"
   ]
  },
  {
   "cell_type": "markdown",
   "metadata": {},
   "source": [
    "#### 1) LDA Model"
   ]
  },
  {
   "cell_type": "code",
   "execution_count": 26,
   "metadata": {},
   "outputs": [],
   "source": [
    "from gensim.models.ldamodel import LdaModel"
   ]
  },
  {
   "cell_type": "code",
   "execution_count": 27,
   "metadata": {},
   "outputs": [],
   "source": [
    "# official documentation of the LdaModel: https://radimrehurek.com/gensim/models/ldamodel.html\n",
    "lda_model = LdaModel(corpus=corpus, id2word=id2word, num_topics=20, chunksize=100, \n",
    "                     passes=10, eval_every=1, update_every=1, per_word_topics=True, alpha='auto', random_state=10)"
   ]
  },
  {
   "cell_type": "code",
   "execution_count": 28,
   "metadata": {},
   "outputs": [
    {
     "data": {
      "image/png": "[encoded data removed]",
      "text/plain": [
       "<Figure size 720x360 with 1 Axes>"
      ]
     },
     "metadata": {},
     "output_type": "display_data"
    }
   ],
   "source": [
    "p = re.compile(\"(-*\\d+\\.\\d+) per-word .* (\\d+\\.\\d+) perplexity\")\n",
    "matches = [p.findall(l) for l in open('./logs/gensim.log')]\n",
    "matches = [m for m in matches if len(m) > 0]\n",
    "\n",
    "tuples = [t[0] for t in matches]\n",
    "perplexity = [float(t[1]) for t in tuples]\n",
    "likelihood = [float(t[0]) for t in tuples]\n",
    "iteration = list(range(0,len(tuples)*10,10))\n",
    "plt.figure(figsize=(10,5))\n",
    "plt.plot(iteration[:100], likelihood[:100], c=\"blue\")\n",
    "plt.ylabel(\"log likelihood\")\n",
    "plt.xlabel(\"iteration\")\n",
    "plt.title(\"Topic Model Convergence\")\n",
    "plt.show()"
   ]
  },
  {
   "cell_type": "markdown",
   "metadata": {},
   "source": [
    "#### 2) LDA Mallet Model"
   ]
  },
  {
   "cell_type": "code",
   "execution_count": 29,
   "metadata": {},
   "outputs": [],
   "source": [
    "from gensim.models.wrappers import LdaMallet"
   ]
  },
  {
   "cell_type": "code",
   "execution_count": 30,
   "metadata": {},
   "outputs": [],
   "source": [
    "# official documentation of the LdaMallet: https://radimrehurek.com/gensim/models/wrappers/ldamallet.html\n",
    "# download weight here: http://mallet.cs.umass.edu/dist/mallet-2.0.8.zip\n",
    "ldamallet_path = './weights/mallet-2.0.8/bin/mallet'\n",
    "ldamallet_model = LdaMallet(ldamallet_path, corpus=corpus, id2word=id2word, num_topics=20)"
   ]
  },
  {
   "cell_type": "markdown",
   "metadata": {},
   "source": [
    "## View The Topics in LDA Model"
   ]
  },
  {
   "cell_type": "markdown",
   "metadata": {},
   "source": [
    "#### 1) LDA Model"
   ]
  },
  {
   "cell_type": "code",
   "execution_count": 31,
   "metadata": {},
   "outputs": [
    {
     "name": "stdout",
     "output_type": "stream",
     "text": [
      "[(0,\n",
      "  '0.255*\"image\" + 0.032*\"shadow\" + 0.023*\"atmosphere\" + 0.022*\"sun\" + '\n",
      "  '0.019*\"cycle\" + 0.013*\"neighborhood\" + 0.011*\"mapping\" + 0.010*\"permanent\" '\n",
      "  '+ 0.006*\"observatory\" + 0.005*\"sunlight\"'),\n",
      " (1,\n",
      "  '0.143*\"nntp_posting\" + 0.118*\"package\" + 0.073*\"quality\" + 0.057*\"purchase\" '\n",
      "  '+ 0.051*\"advance\" + 0.027*\"presentation\" + 0.026*\"street\" + 0.021*\"pack\" + '\n",
      "  '0.005*\"prohibition\" + 0.004*\"precision\"'),\n",
      " (2,\n",
      "  '0.121*\"law\" + 0.042*\"moral\" + 0.037*\"punishment\" + 0.036*\"relate\" + '\n",
      "  '0.028*\"fund\" + 0.027*\"establish\" + 0.024*\"court\" + 0.023*\"deny\" + '\n",
      "  '0.023*\"recognize\" + 0.021*\"minority\"'),\n",
      " (3,\n",
      "  '0.038*\"space\" + 0.037*\"cost\" + 0.035*\"chip\" + 0.033*\"low\" + 0.024*\"year\" + '\n",
      "  '0.023*\"rate\" + 0.023*\"company\" + 0.023*\"phone\" + 0.022*\"high\" + '\n",
      "  '0.019*\"hockey\"'),\n",
      " (4,\n",
      "  '0.064*\"system\" + 0.028*\"key\" + 0.021*\"message\" + 0.020*\"standard\" + '\n",
      "  '0.016*\"bit\" + 0.016*\"technology\" + 0.015*\"provide\" + 0.014*\"access\" + '\n",
      "  '0.014*\"new\" + 0.013*\"obvious\"'),\n",
      " (5,\n",
      "  '0.092*\"mail\" + 0.064*\"send\" + 0.059*\"software\" + 0.059*\"computer\" + '\n",
      "  '0.056*\"info\" + 0.050*\"email\" + 0.030*\"display\" + 0.028*\"box\" + 0.025*\"size\" '\n",
      "  '+ 0.025*\"thanks_advance\"'),\n",
      " (6,\n",
      "  '0.133*\"religion\" + 0.073*\"prove\" + 0.065*\"extra\" + 0.052*\"water\" + '\n",
      "  '0.045*\"announce\" + 0.026*\"taxis\" + 0.024*\"remind\" + 0.023*\"essentially\" + '\n",
      "  '0.022*\"seal\" + 0.020*\"ridiculous\"'),\n",
      " (7,\n",
      "  '0.036*\"say\" + 0.025*\"day\" + 0.020*\"come\" + 0.018*\"go\" + 0.017*\"people\" + '\n",
      "  '0.015*\"take\" + 0.014*\"child\" + 0.014*\"live\" + 0.013*\"leave\" + 0.012*\"man\"'),\n",
      " (8,\n",
      "  '0.046*\"government\" + 0.042*\"state\" + 0.033*\"right\" + 0.031*\"gun\" + '\n",
      "  '0.025*\"people\" + 0.022*\"country\" + 0.018*\"job\" + 0.016*\"murder\" + '\n",
      "  '0.014*\"law\" + 0.013*\"criminal\"'),\n",
      " (9,\n",
      "  '0.173*\"card\" + 0.135*\"window\" + 0.072*\"color\" + 0.063*\"driver\" + '\n",
      "  '0.058*\"memory\" + 0.047*\"screen\" + 0.041*\"mode\" + 0.032*\"font\" + '\n",
      "  '0.025*\"problem\" + 0.023*\"bit\"'),\n",
      " (10,\n",
      "  '0.113*\"com\" + 0.096*\"fan\" + 0.057*\"sport\" + 0.052*\"command\" + 0.041*\"dog\" + '\n",
      "  '0.028*\"case_western\" + 0.027*\"byte\" + 0.024*\"instruction\" + 0.023*\"chain\" + '\n",
      "  '0.019*\"exit\"'),\n",
      " (11,\n",
      "  '0.065*\"drive\" + 0.057*\"car\" + 0.045*\"buy\" + 0.039*\"price\" + 0.029*\"sell\" + '\n",
      "  '0.028*\"speed\" + 0.023*\"bike\" + 0.021*\"head\" + 0.019*\"contact\" + '\n",
      "  '0.016*\"sale\"'),\n",
      " (12,\n",
      "  '0.074*\"baseball\" + 0.049*\"band\" + 0.045*\"stupid\" + 0.038*\"liberal\" + '\n",
      "  '0.036*\"button\" + 0.036*\"drink\" + 0.034*\"red\" + 0.028*\"logo\" + 0.026*\"shell\" '\n",
      "  '+ 0.025*\"talent\"'),\n",
      " (13,\n",
      "  '0.096*\"team\" + 0.084*\"game\" + 0.062*\"play\" + 0.056*\"player\" + 0.052*\"win\" + '\n",
      "  '0.050*\"year\" + 0.037*\"season\" + 0.024*\"score\" + 0.021*\"division\" + '\n",
      "  '0.019*\"specifically\"'),\n",
      " (14,\n",
      "  '0.041*\"use\" + 0.027*\"also\" + 0.025*\"include\" + 0.023*\"information\" + '\n",
      "  '0.020*\"program\" + 0.020*\"available\" + 0.020*\"number\" + 0.018*\"run\" + '\n",
      "  '0.018*\"set\" + 0.017*\"support\"'),\n",
      " (15,\n",
      "  '0.022*\"say\" + 0.021*\"people\" + 0.016*\"believe\" + 0.015*\"mean\" + '\n",
      "  '0.012*\"fact\" + 0.012*\"point\" + 0.011*\"question\" + 0.011*\"word\" + '\n",
      "  '0.011*\"claim\" + 0.011*\"make\"'),\n",
      " (16,\n",
      "  '0.333*\"file\" + 0.118*\"server\" + 0.053*\"update\" + 0.024*\"expose\" + '\n",
      "  '0.018*\"copy\" + 0.011*\"monthly\" + 0.007*\"render\" + 0.004*\"suspicious\" + '\n",
      "  '0.002*\"excel\" + 0.000*\"client\"'),\n",
      " (17,\n",
      "  '0.035*\"line\" + 0.035*\"write\" + 0.024*\"know\" + 0.023*\"article\" + 0.022*\"be\" '\n",
      "  '+ 0.017*\"get\" + 0.017*\"go\" + 0.016*\"good\" + 0.015*\"make\" + 0.015*\"time\"'),\n",
      " (18,\n",
      "  '0.080*\"study\" + 0.068*\"drug\" + 0.045*\"doctor\" + 0.045*\"treat\" + '\n",
      "  '0.043*\"language\" + 0.032*\"meeting\" + 0.032*\"vote\" + 0.032*\"medical\" + '\n",
      "  '0.031*\"patient\" + 0.024*\"treatment\"'),\n",
      " (19,\n",
      "  '0.112*\"science\" + 0.080*\"atheist\" + 0.055*\"pin\" + 0.046*\"quick\" + '\n",
      "  '0.042*\"planet\" + 0.036*\"scientific\" + 0.027*\"capture\" + 0.021*\"atheism\" + '\n",
      "  '0.020*\"federal_government\" + 0.017*\"scientist\"')]\n"
     ]
    }
   ],
   "source": [
    "pprint(lda_model.print_topics(num_words=10))\n",
    "doc_lda = lda_model[corpus]"
   ]
  },
  {
   "cell_type": "markdown",
   "metadata": {},
   "source": [
    "#### 2) LDA Mallet Model"
   ]
  },
  {
   "cell_type": "code",
   "execution_count": 32,
   "metadata": {},
   "outputs": [
    {
     "name": "stdout",
     "output_type": "stream",
     "text": [
      "[(0,\n",
      "  '0.031*\"gun\" + 0.014*\"people\" + 0.014*\"make\" + 0.011*\"kill\" + 0.011*\"crime\" '\n",
      "  '+ 0.011*\"weapon\" + 0.009*\"firearm\" + 0.008*\"drug\" + 0.008*\"fire\" + '\n",
      "  '0.008*\"problem\"'),\n",
      " (1,\n",
      "  '0.044*\"file\" + 0.021*\"program\" + 0.018*\"image\" + 0.016*\"include\" + '\n",
      "  '0.014*\"software\" + 0.013*\"version\" + 0.011*\"source\" + 0.010*\"information\" + '\n",
      "  '0.009*\"format\" + 0.009*\"number\"'),\n",
      " (2,\n",
      "  '0.035*\"line\" + 0.026*\"price\" + 0.022*\"buy\" + 0.022*\"sell\" + 0.019*\"good\" + '\n",
      "  '0.014*\"sale\" + 0.012*\"offer\" + 0.011*\"cheap\" + 0.011*\"company\" + '\n",
      "  '0.010*\"high\"'),\n",
      " (3,\n",
      "  '0.018*\"space\" + 0.011*\"system\" + 0.009*\"launch\" + 0.008*\"project\" + '\n",
      "  '0.007*\"design\" + 0.007*\"year\" + 0.007*\"technology\" + 0.007*\"base\" + '\n",
      "  '0.006*\"satellite\" + 0.006*\"earth\"'),\n",
      " (4,\n",
      "  '0.032*\"drive\" + 0.028*\"card\" + 0.026*\"system\" + 0.025*\"problem\" + '\n",
      "  '0.020*\"driver\" + 0.019*\"work\" + 0.015*\"bit\" + 0.015*\"run\" + 0.014*\"disk\" + '\n",
      "  '0.013*\"speed\"'),\n",
      " (5,\n",
      "  '0.016*\"people\" + 0.014*\"armenian\" + 0.010*\"israeli\" + 0.009*\"attack\" + '\n",
      "  '0.009*\"war\" + 0.008*\"turkish\" + 0.008*\"land\" + 0.008*\"kill\" + 0.007*\"give\" '\n",
      "  '+ 0.007*\"government\"'),\n",
      " (6,\n",
      "  '0.031*\"game\" + 0.029*\"team\" + 0.026*\"year\" + 0.024*\"play\" + 0.019*\"player\" '\n",
      "  '+ 0.017*\"win\" + 0.013*\"good\" + 0.012*\"season\" + 0.010*\"hit\" + 0.009*\"lose\"'),\n",
      " (7,\n",
      "  '0.049*\"post\" + 0.032*\"mail\" + 0.028*\"send\" + 0.028*\"question\" + '\n",
      "  '0.024*\"read\" + 0.023*\"list\" + 0.022*\"group\" + 0.018*\"address\" + '\n",
      "  '0.016*\"line\" + 0.015*\"information\"'),\n",
      " (8,\n",
      "  '0.033*\"window\" + 0.021*\"problem\" + 0.017*\"application\" + 0.017*\"set\" + '\n",
      "  '0.016*\"run\" + 0.015*\"call\" + 0.015*\"display\" + 0.013*\"server\" + '\n",
      "  '0.013*\"work\" + 0.012*\"screen\"'),\n",
      " (9,\n",
      "  '0.245*\"write\" + 0.175*\"article\" + 0.104*\"line\" + 0.042*\"organization\" + '\n",
      "  '0.011*\"man\" + 0.010*\"number\" + 0.008*\"wrong\" + 0.007*\"read\" + 0.006*\"show\" '\n",
      "  '+ 0.006*\"care\"'),\n",
      " (10,\n",
      "  '0.017*\"claim\" + 0.016*\"question\" + 0.016*\"exist\" + 0.013*\"reason\" + '\n",
      "  '0.013*\"true\" + 0.012*\"point\" + 0.011*\"evidence\" + 0.010*\"make\" + '\n",
      "  '0.010*\"argument\" + 0.010*\"human\"'),\n",
      " (11,\n",
      "  '0.017*\"people\" + 0.016*\"start\" + 0.014*\"leave\" + 0.013*\"day\" + '\n",
      "  '0.012*\"happen\" + 0.012*\"time\" + 0.011*\"child\" + 0.009*\"hear\" + 0.009*\"live\" '\n",
      "  '+ 0.009*\"woman\"'),\n",
      " (12,\n",
      "  '0.040*\"key\" + 0.017*\"system\" + 0.015*\"encryption\" + 0.013*\"bit\" + '\n",
      "  '0.012*\"chip\" + 0.011*\"public\" + 0.010*\"technology\" + 0.010*\"security\" + '\n",
      "  '0.009*\"government\" + 0.009*\"phone\"'),\n",
      " (13,\n",
      "  '0.024*\"make\" + 0.021*\"work\" + 0.018*\"year\" + 0.017*\"money\" + 0.014*\"pay\" + '\n",
      "  '0.013*\"job\" + 0.012*\"people\" + 0.009*\"talk\" + 0.008*\"time\" + '\n",
      "  '0.008*\"program\"'),\n",
      " (14,\n",
      "  '0.010*\"study\" + 0.010*\"problem\" + 0.009*\"effect\" + 0.008*\"food\" + '\n",
      "  '0.008*\"doctor\" + 0.007*\"patient\" + 0.007*\"result\" + 0.007*\"day\" + '\n",
      "  '0.007*\"test\" + 0.007*\"eat\"'),\n",
      " (15,\n",
      "  '0.017*\"people\" + 0.013*\"word\" + 0.010*\"man\" + 0.009*\"life\" + '\n",
      "  '0.009*\"christian\" + 0.009*\"church\" + 0.009*\"religion\" + 0.008*\"love\" + '\n",
      "  '0.008*\"time\" + 0.008*\"find\"'),\n",
      " (16,\n",
      "  '0.029*\"law\" + 0.025*\"state\" + 0.021*\"people\" + 0.017*\"government\" + '\n",
      "  '0.011*\"case\" + 0.009*\"power\" + 0.008*\"person\" + 0.007*\"public\" + '\n",
      "  '0.007*\"issue\" + 0.006*\"free\"'),\n",
      " (17,\n",
      "  '0.359*\"ax\" + 0.138*\"line\" + 0.079*\"host\" + 0.048*\"organization\" + '\n",
      "  '0.026*\"nntp_posting\" + 0.017*\"reply\" + 0.008*\"keyword\" + 0.007*\"part\" + '\n",
      "  '0.006*\"_\" + 0.006*\"originator\"'),\n",
      " (18,\n",
      "  '0.055*\"good\" + 0.046*\"thing\" + 0.043*\"make\" + 0.029*\"time\" + 0.026*\"lot\" + '\n",
      "  '0.025*\"bad\" + 0.022*\"write\" + 0.021*\"hear\" + 0.017*\"give\" + 0.016*\"put\"'),\n",
      " (19,\n",
      "  '0.036*\"car\" + 0.013*\"bike\" + 0.010*\"ride\" + 0.009*\"power\" + 0.009*\"light\" + '\n",
      "  '0.008*\"ground\" + 0.008*\"turn\" + 0.008*\"drive\" + 0.008*\"wire\" + '\n",
      "  '0.008*\"engine\"')]\n"
     ]
    }
   ],
   "source": [
    "pprint(ldamallet_model.print_topics(num_words=10))\n",
    "doc_ldamallet = ldamallet_model[corpus]"
   ]
  },
  {
   "cell_type": "markdown",
   "metadata": {},
   "source": [
    "## Evaluate By Model Perplexity and Coherence Score"
   ]
  },
  {
   "cell_type": "markdown",
   "metadata": {},
   "source": [
    "#### 1) LDA Model"
   ]
  },
  {
   "cell_type": "code",
   "execution_count": 33,
   "metadata": {},
   "outputs": [
    {
     "name": "stdout",
     "output_type": "stream",
     "text": [
      "\n",
      "Perplexity Score: -14.198199\n",
      "\n",
      "Coherence Score: 0.462291\n"
     ]
    }
   ],
   "source": [
    "# computing Perplexity\n",
    "perplexity_score = lda_model.log_perplexity(corpus)\n",
    "print(f'\\nPerplexity Score: {perplexity_score:6f}') # lower the better\n",
    "\n",
    "# computing Coherence Score\n",
    "coherence_model_lda = CoherenceModel(model=lda_model, texts=lemmatized_words, dictionary=id2word, coherence='c_v')\n",
    "coherence_score = coherence_model_lda.get_coherence()\n",
    "print(f'\\nCoherence Score: {coherence_score:6f}') # higher the better"
   ]
  },
  {
   "cell_type": "markdown",
   "metadata": {},
   "source": [
    "#### 2) LDA Mallet Model"
   ]
  },
  {
   "cell_type": "code",
   "execution_count": 34,
   "metadata": {},
   "outputs": [
    {
     "name": "stdout",
     "output_type": "stream",
     "text": [
      "\n",
      "Coherence Score: 0.529833\n"
     ]
    }
   ],
   "source": [
    "# computing Coherence Score\n",
    "coherence_model_ldamallet = CoherenceModel(model=ldamallet_model, texts=lemmatized_words, dictionary=id2word, coherence='c_v')\n",
    "coherence_score = coherence_model_ldamallet.get_coherence()\n",
    "print(f'\\nCoherence Score: {coherence_score:6f}') # higher the better"
   ]
  },
  {
   "cell_type": "markdown",
   "metadata": {},
   "source": [
    "## Find Optimal Number of Topics for LDA Model"
   ]
  },
  {
   "cell_type": "code",
   "execution_count": 35,
   "metadata": {},
   "outputs": [],
   "source": [
    "def find_optimal_number_of_topics(dictionary, corpus, texts, end, start=2, step=3):\n",
    "    \n",
    "    model_list = []\n",
    "    coherence_scores = []\n",
    "    \n",
    "    for num_topics in tqdm_notebook(range(start, end, step)):\n",
    "        model = LdaMallet(ldamallet_path, corpus=corpus, id2word=id2word, num_topics=num_topics)\n",
    "        coherence_model = CoherenceModel(model=model, texts=texts, dictionary=dictionary, coherence='c_v')\n",
    "        \n",
    "        model_list.append(model)\n",
    "        coherence_scores.append(coherence_model.get_coherence())\n",
    "        \n",
    "        print(f'Number of Topics: {num_topics}, Coherence Score: {coherence_model.get_coherence():.4f}')\n",
    "        \n",
    "    return model_list, coherence_scores"
   ]
  },
  {
   "cell_type": "code",
   "execution_count": 36,
   "metadata": {},
   "outputs": [
    {
     "data": {
      "application/vnd.jupyter.widget-view+json": {
       "model_id": "63ad8be4c5f84c76a703a28dfc4b3234",
       "version_major": 2,
       "version_minor": 0
      },
      "text/plain": [
       "HBox(children=(IntProgress(value=0, max=8), HTML(value='')))"
      ]
     },
     "metadata": {},
     "output_type": "display_data"
    },
    {
     "name": "stdout",
     "output_type": "stream",
     "text": [
      "Number of Topics: 2, Coherence Score: 0.4046\n",
      "Number of Topics: 8, Coherence Score: 0.4579\n",
      "Number of Topics: 14, Coherence Score: 0.5075\n",
      "Number of Topics: 20, Coherence Score: 0.5363\n",
      "Number of Topics: 26, Coherence Score: 0.5481\n",
      "Number of Topics: 32, Coherence Score: 0.5300\n",
      "Number of Topics: 38, Coherence Score: 0.5292\n",
      "Number of Topics: 44, Coherence Score: 0.5391\n",
      "\n"
     ]
    }
   ],
   "source": [
    "start=2; end=50; step=6;\n",
    "model_list, coherence_scores = find_optimal_number_of_topics(dictionary=id2word, corpus=corpus, texts=lemmatized_words, start=start, end=end, step=step)"
   ]
  },
  {
   "cell_type": "code",
   "execution_count": 37,
   "metadata": {},
   "outputs": [
    {
     "data": {
      "image/png": "[encoded data removed]",
      "text/plain": [
       "<Figure size 432x288 with 1 Axes>"
      ]
     },
     "metadata": {},
     "output_type": "display_data"
    }
   ],
   "source": [
    "x = range(start, end, step)\n",
    "plt.plot(x, coherence_scores, color='green')\n",
    "plt.xlabel('Number of Topics')\n",
    "plt.ylabel('Coherence Scores')\n",
    "plt.legend(('coherence_scores'), loc='best')\n",
    "plt.savefig('./images/plot_optimal_number_of_topics.png')\n",
    "plt.show()"
   ]
  },
  {
   "cell_type": "markdown",
   "metadata": {},
   "source": [
    "## View The Topics in Optimal LDA Model"
   ]
  },
  {
   "cell_type": "code",
   "execution_count": 38,
   "metadata": {},
   "outputs": [],
   "source": [
    "number_of_model = 4"
   ]
  },
  {
   "cell_type": "code",
   "execution_count": 39,
   "metadata": {},
   "outputs": [],
   "source": [
    "optimal_lda_model = model_list[number_of_model]\n",
    "optimal_lda_model.save('./weights/optimal_ldamallet_model.hdf5')"
   ]
  },
  {
   "cell_type": "code",
   "execution_count": 40,
   "metadata": {},
   "outputs": [
    {
     "name": "stdout",
     "output_type": "stream",
     "text": [
      "[(18,\n",
      "  '0.051*\"drive\" + 0.037*\"line\" + 0.035*\"buy\" + 0.032*\"price\" + 0.028*\"sell\" + '\n",
      "  '0.018*\"sale\" + 0.013*\"offer\" + 0.012*\"cheap\" + 0.012*\"include\" + '\n",
      "  '0.012*\"disk\"'),\n",
      " (17,\n",
      "  '0.048*\"key\" + 0.018*\"encryption\" + 0.017*\"system\" + 0.014*\"government\" + '\n",
      "  '0.014*\"bit\" + 0.013*\"chip\" + 0.013*\"public\" + 0.012*\"phone\" + '\n",
      "  '0.011*\"security\" + 0.011*\"technology\"'),\n",
      " (4,\n",
      "  '0.028*\"people\" + 0.015*\"system\" + 0.015*\"write\" + 0.014*\"man\" + '\n",
      "  '0.013*\"person\" + 0.013*\"moral\" + 0.011*\"human\" + 0.010*\"life\" + '\n",
      "  '0.009*\"opinion\" + 0.009*\"society\"'),\n",
      " (23,\n",
      "  '0.051*\"time\" + 0.036*\"find\" + 0.034*\"point\" + 0.028*\"problem\" + '\n",
      "  '0.024*\"book\" + 0.023*\"give\" + 0.021*\"work\" + 0.018*\"call\" + 0.017*\"line\" + '\n",
      "  '0.015*\"read\"'),\n",
      " (2,\n",
      "  '0.044*\"year\" + 0.039*\"good\" + 0.021*\"run\" + 0.019*\"hit\" + 0.016*\"win\" + '\n",
      "  '0.014*\"game\" + 0.014*\"lose\" + 0.012*\"player\" + 0.011*\"baseball\" + '\n",
      "  '0.010*\"team\"'),\n",
      " (22,\n",
      "  '0.052*\"post\" + 0.037*\"mail\" + 0.028*\"send\" + 0.025*\"group\" + 0.022*\"list\" + '\n",
      "  '0.021*\"information\" + 0.020*\"address\" + 0.018*\"internet\" + 0.018*\"email\" + '\n",
      "  '0.017*\"message\"'),\n",
      " (12,\n",
      "  '0.018*\"line\" + 0.016*\"power\" + 0.014*\"work\" + 0.013*\"current\" + '\n",
      "  '0.013*\"ground\" + 0.012*\"wire\" + 0.009*\"switch\" + 0.008*\"make\" + '\n",
      "  '0.008*\"cable\" + 0.008*\"signal\"'),\n",
      " (1,\n",
      "  '0.014*\"word\" + 0.011*\"church\" + 0.010*\"christian\" + 0.009*\"people\" + '\n",
      "  '0.009*\"religion\" + 0.009*\"love\" + 0.009*\"sin\" + 0.008*\"man\" + 0.008*\"law\" + '\n",
      "  '0.008*\"day\"'),\n",
      " (3,\n",
      "  '0.021*\"state\" + 0.015*\"israeli\" + 0.013*\"people\" + 0.009*\"write\" + '\n",
      "  '0.009*\"give\" + 0.009*\"land\" + 0.009*\"country\" + 0.008*\"live\" + '\n",
      "  '0.008*\"question\" + 0.008*\"peace\"'),\n",
      " (7,\n",
      "  '0.016*\"people\" + 0.015*\"start\" + 0.015*\"time\" + 0.014*\"day\" + 0.014*\"leave\" '\n",
      "  '+ 0.012*\"happen\" + 0.011*\"fire\" + 0.010*\"hear\" + 0.009*\"child\" + '\n",
      "  '0.009*\"woman\"'),\n",
      " (25,\n",
      "  '0.026*\"image\" + 0.022*\"software\" + 0.020*\"include\" + 0.016*\"version\" + '\n",
      "  '0.016*\"program\" + 0.015*\"file\" + 0.014*\"system\" + 0.013*\"package\" + '\n",
      "  '0.012*\"graphic\" + 0.011*\"format\"'),\n",
      " (21,\n",
      "  '0.050*\"car\" + 0.017*\"bike\" + 0.014*\"ride\" + 0.010*\"engine\" + 0.009*\"road\" + '\n",
      "  '0.008*\"turn\" + 0.008*\"speed\" + 0.008*\"front\" + 0.008*\"mile\" + '\n",
      "  '0.007*\"drive\"'),\n",
      " (13,\n",
      "  '0.022*\"question\" + 0.020*\"exist\" + 0.019*\"claim\" + 0.015*\"reason\" + '\n",
      "  '0.015*\"true\" + 0.014*\"evidence\" + 0.013*\"argument\" + 0.012*\"make\" + '\n",
      "  '0.012*\"atheist\" + 0.011*\"science\"'),\n",
      " (14,\n",
      "  '0.050*\"people\" + 0.047*\"thing\" + 0.041*\"make\" + 0.040*\"good\" + 0.021*\"bad\" '\n",
      "  '+ 0.015*\"put\" + 0.015*\"write\" + 0.014*\"happen\" + 0.014*\"lot\" + '\n",
      "  '0.012*\"real\"'),\n",
      " (6,\n",
      "  '0.036*\"team\" + 0.034*\"game\" + 0.029*\"play\" + 0.017*\"player\" + 0.015*\"line\" '\n",
      "  '+ 0.013*\"season\" + 0.012*\"point\" + 0.011*\"goal\" + 0.011*\"win\" + '\n",
      "  '0.011*\"year\"'),\n",
      " (15,\n",
      "  '0.020*\"armenian\" + 0.018*\"people\" + 0.011*\"turkish\" + 0.010*\"history\" + '\n",
      "  '0.010*\"kill\" + 0.010*\"government\" + 0.008*\"war\" + 0.007*\"world\" + '\n",
      "  '0.006*\"force\" + 0.006*\"german\"'),\n",
      " (20,\n",
      "  '0.012*\"study\" + 0.011*\"doctor\" + 0.010*\"food\" + 0.010*\"effect\" + '\n",
      "  '0.009*\"problem\" + 0.009*\"patient\" + 0.009*\"eat\" + 0.008*\"day\" + '\n",
      "  '0.008*\"treatment\" + 0.008*\"disease\"'),\n",
      " (5,\n",
      "  '0.033*\"high\" + 0.022*\"large\" + 0.018*\"number\" + 0.017*\"low\" + 0.016*\"rate\" '\n",
      "  '+ 0.015*\"level\" + 0.013*\"small\" + 0.012*\"report\" + 0.012*\"difference\" + '\n",
      "  '0.011*\"water\"'),\n",
      " (19,\n",
      "  '0.035*\"card\" + 0.030*\"problem\" + 0.023*\"system\" + 0.022*\"driver\" + '\n",
      "  '0.019*\"run\" + 0.018*\"bit\" + 0.016*\"memory\" + 0.015*\"work\" + 0.015*\"speed\" + '\n",
      "  '0.014*\"machine\"'),\n",
      " (0,\n",
      "  '0.033*\"gun\" + 0.021*\"law\" + 0.017*\"state\" + 0.012*\"crime\" + 0.011*\"weapon\" '\n",
      "  '+ 0.011*\"case\" + 0.010*\"people\" + 0.010*\"firearm\" + 0.009*\"police\" + '\n",
      "  '0.009*\"kill\"')]\n"
     ]
    }
   ],
   "source": [
    "optimal_lda_model_topics = optimal_lda_model.show_topics(formatted=False)\n",
    "pprint(optimal_lda_model.print_topics(num_words=10))\n",
    "doc_optimal_lda = optimal_lda_model[corpus]"
   ]
  },
  {
   "cell_type": "markdown",
   "metadata": {},
   "source": [
    "## Understand The Topics"
   ]
  },
  {
   "cell_type": "markdown",
   "metadata": {},
   "source": [
    "#### 1) Finding the dominant topic in each document"
   ]
  },
  {
   "cell_type": "code",
   "execution_count": 43,
   "metadata": {},
   "outputs": [],
   "source": [
    "def find_the_dominant_topic_in_each_sentence(lda_model=lda_model, corpus=corpus, texts=cleaned_content):\n",
    "    \n",
    "    # init dataframe\n",
    "    df_dominant_topic = pd.DataFrame()\n",
    "    \n",
    "    # get main topic in each document\n",
    "    for i, row in enumerate(tqdm_notebook(lda_model[corpus])):\n",
    "        row = sorted(row, key=lambda x: (x[1]), reverse=True)\n",
    "        \n",
    "        # get the dominant topic, percentage of contribution and keywords for each document\n",
    "        for j, (topic_number, topic_percentage) in enumerate(row):\n",
    "            if j == 0:\n",
    "                wp = lda_model.show_topic(topic_number)\n",
    "                topic_keywords = ', '.join([word for word, probability in wp])\n",
    "                df_dominant_topic = df_dominant_topic.append(pd.Series([int(topic_number), round(topic_percentage, 4), topic_keywords]), ignore_index=True)\n",
    "            else: break\n",
    "    \n",
    "    # add original text to the end of the output\n",
    "    contents = pd.Series(texts)\n",
    "    df_dominant_topic = pd.concat([df_dominant_topic, contents], axis=1)\n",
    "    \n",
    "    # reset and change dataframe index\n",
    "    df_dominant_topic = df_dominant_topic.reset_index(drop=True)\n",
    "    df_dominant_topic.columns = ['Dominant Topic', '(Topic) Percentage', 'Keywords', 'Documents']\n",
    "\n",
    "    # save dataframe\n",
    "    df_dominant_topic.to_csv('./results/df_dominant_topic.csv')\n",
    "    \n",
    "    return (df_dominant_topic)"
   ]
  },
  {
   "cell_type": "code",
   "execution_count": 44,
   "metadata": {},
   "outputs": [
    {
     "data": {
      "application/vnd.jupyter.widget-view+json": {
       "model_id": "5b47cb68dbca46ecae2e3d6e2ba56d75",
       "version_major": 2,
       "version_minor": 0
      },
      "text/plain": [
       "HBox(children=(IntProgress(value=0, max=11314), HTML(value='')))"
      ]
     },
     "metadata": {},
     "output_type": "display_data"
    },
    {
     "name": "stdout",
     "output_type": "stream",
     "text": [
      "\n"
     ]
    },
    {
     "data": {
      "text/html": [
       "<div>\n",
       "<style scoped>\n",
       "    .dataframe tbody tr th:only-of-type {\n",
       "        vertical-align: middle;\n",
       "    }\n",
       "\n",
       "    .dataframe tbody tr th {\n",
       "        vertical-align: top;\n",
       "    }\n",
       "\n",
       "    .dataframe thead th {\n",
       "        text-align: right;\n",
       "    }\n",
       "</style>\n",
       "<table border=\"1\" class=\"dataframe\">\n",
       "  <thead>\n",
       "    <tr style=\"text-align: right;\">\n",
       "      <th></th>\n",
       "      <th>Dominant Topic</th>\n",
       "      <th>(Topic) Percentage</th>\n",
       "      <th>Keywords</th>\n",
       "      <th>Documents</th>\n",
       "    </tr>\n",
       "  </thead>\n",
       "  <tbody>\n",
       "    <tr>\n",
       "      <th>0</th>\n",
       "      <td>21.0</td>\n",
       "      <td>0.1209</td>\n",
       "      <td>car, bike, ride, engine, road, turn, speed, fr...</td>\n",
       "      <td>From: (wheres my thing) Subject: WHAT car is t...</td>\n",
       "    </tr>\n",
       "    <tr>\n",
       "      <th>1</th>\n",
       "      <td>19.0</td>\n",
       "      <td>0.1369</td>\n",
       "      <td>card, problem, system, driver, run, bit, memor...</td>\n",
       "      <td>From: (Guy Kuo) Subject: SI Clock Poll - Final...</td>\n",
       "    </tr>\n",
       "    <tr>\n",
       "      <th>2</th>\n",
       "      <td>21.0</td>\n",
       "      <td>0.1382</td>\n",
       "      <td>car, bike, ride, engine, road, turn, speed, fr...</td>\n",
       "      <td>From: (Irwin Arnstein) Subject: Re: Recommenda...</td>\n",
       "    </tr>\n",
       "    <tr>\n",
       "      <th>3</th>\n",
       "      <td>10.0</td>\n",
       "      <td>0.1272</td>\n",
       "      <td>window, set, application, display, server, run...</td>\n",
       "      <td>From: (Tsung-Kun Chen) Subject: ** Software fo...</td>\n",
       "    </tr>\n",
       "    <tr>\n",
       "      <th>4</th>\n",
       "      <td>19.0</td>\n",
       "      <td>0.1612</td>\n",
       "      <td>card, problem, system, driver, run, bit, memor...</td>\n",
       "      <td>From: (Don A.B. Lindbergh) Subject: Diamond SS...</td>\n",
       "    </tr>\n",
       "    <tr>\n",
       "      <th>5</th>\n",
       "      <td>21.0</td>\n",
       "      <td>0.3839</td>\n",
       "      <td>car, bike, ride, engine, road, turn, speed, fr...</td>\n",
       "      <td>From: (Robert Loper) Subject: Re: SHO and SC N...</td>\n",
       "    </tr>\n",
       "    <tr>\n",
       "      <th>6</th>\n",
       "      <td>18.0</td>\n",
       "      <td>0.1332</td>\n",
       "      <td>drive, line, buy, price, sell, sale, offer, ch...</td>\n",
       "      <td>From: (Kim Richard Man) Subject: SyQuest 44M c...</td>\n",
       "    </tr>\n",
       "    <tr>\n",
       "      <th>7</th>\n",
       "      <td>25.0</td>\n",
       "      <td>0.1415</td>\n",
       "      <td>image, software, include, version, program, fi...</td>\n",
       "      <td>From: (Kirtley Wilson) Subject: Mirosoft Offic...</td>\n",
       "    </tr>\n",
       "    <tr>\n",
       "      <th>8</th>\n",
       "      <td>0.0</td>\n",
       "      <td>0.1208</td>\n",
       "      <td>gun, law, state, crime, weapon, case, people, ...</td>\n",
       "      <td>Subject: Re: Dont more innocents die without t...</td>\n",
       "    </tr>\n",
       "    <tr>\n",
       "      <th>9</th>\n",
       "      <td>13.0</td>\n",
       "      <td>0.2688</td>\n",
       "      <td>question, exist, claim, reason, true, evidence...</td>\n",
       "      <td>From: (Jon Livesey) Subject: Re: Genocide is C...</td>\n",
       "    </tr>\n",
       "  </tbody>\n",
       "</table>\n",
       "</div>"
      ],
      "text/plain": [
       "   Dominant Topic  (Topic) Percentage  \\\n",
       "0            21.0              0.1209   \n",
       "1            19.0              0.1369   \n",
       "2            21.0              0.1382   \n",
       "3            10.0              0.1272   \n",
       "4            19.0              0.1612   \n",
       "5            21.0              0.3839   \n",
       "6            18.0              0.1332   \n",
       "7            25.0              0.1415   \n",
       "8             0.0              0.1208   \n",
       "9            13.0              0.2688   \n",
       "\n",
       "                                            Keywords  \\\n",
       "0  car, bike, ride, engine, road, turn, speed, fr...   \n",
       "1  card, problem, system, driver, run, bit, memor...   \n",
       "2  car, bike, ride, engine, road, turn, speed, fr...   \n",
       "3  window, set, application, display, server, run...   \n",
       "4  card, problem, system, driver, run, bit, memor...   \n",
       "5  car, bike, ride, engine, road, turn, speed, fr...   \n",
       "6  drive, line, buy, price, sell, sale, offer, ch...   \n",
       "7  image, software, include, version, program, fi...   \n",
       "8  gun, law, state, crime, weapon, case, people, ...   \n",
       "9  question, exist, claim, reason, true, evidence...   \n",
       "\n",
       "                                           Documents  \n",
       "0  From: (wheres my thing) Subject: WHAT car is t...  \n",
       "1  From: (Guy Kuo) Subject: SI Clock Poll - Final...  \n",
       "2  From: (Irwin Arnstein) Subject: Re: Recommenda...  \n",
       "3  From: (Tsung-Kun Chen) Subject: ** Software fo...  \n",
       "4  From: (Don A.B. Lindbergh) Subject: Diamond SS...  \n",
       "5  From: (Robert Loper) Subject: Re: SHO and SC N...  \n",
       "6  From: (Kim Richard Man) Subject: SyQuest 44M c...  \n",
       "7  From: (Kirtley Wilson) Subject: Mirosoft Offic...  \n",
       "8  Subject: Re: Dont more innocents die without t...  \n",
       "9  From: (Jon Livesey) Subject: Re: Genocide is C...  "
      ]
     },
     "execution_count": 44,
     "metadata": {},
     "output_type": "execute_result"
    }
   ],
   "source": [
    "df_dominant_topic = find_the_dominant_topic_in_each_sentence(lda_model = optimal_lda_model, corpus=corpus, texts=cleaned_content)\n",
    "df_dominant_topic.head(10)"
   ]
  },
  {
   "cell_type": "markdown",
   "metadata": {},
   "source": [
    "#### 2) Finding the top representative document for each topic"
   ]
  },
  {
   "cell_type": "code",
   "execution_count": 47,
   "metadata": {},
   "outputs": [],
   "source": [
    "def find_the_most_representative_document_for_each_topic(df_dominant_topic):\n",
    "\n",
    "    # init dataframe\n",
    "    df_representative_document = pd.DataFrame()\n",
    "\n",
    "    for i, group in tqdm_notebook(df_dominant_topic.groupby('Dominant Topic')):\n",
    "        \n",
    "        group = group[['Dominant Topic', '(Topic) Percentage', 'Keywords', 'Documents']]\n",
    "        df_representative_document = pd.concat([df_representative_document, \n",
    "                                                group.sort_values(['(Topic) Percentage'], ascending=[0]).head(1)], axis=0)\n",
    "        \n",
    "    # reset and change dataframe index\n",
    "    df_representative_document = df_representative_document.reset_index(drop=True)\n",
    "    df_representative_document.columns = ['Number of Topic', '(Topic) Percentage', 'Keywords', 'Top Documents']\n",
    "    \n",
    "    # save dataframe\n",
    "    df_representative_document.to_csv('./results/df_representative_document.csv')\n",
    "    \n",
    "    return (df_representative_document)"
   ]
  },
  {
   "cell_type": "code",
   "execution_count": 48,
   "metadata": {},
   "outputs": [
    {
     "data": {
      "application/vnd.jupyter.widget-view+json": {
       "model_id": "6b8190d34fc44210b7dc4a4a2b5eff02",
       "version_major": 2,
       "version_minor": 0
      },
      "text/plain": [
       "HBox(children=(IntProgress(value=0, max=26), HTML(value='')))"
      ]
     },
     "metadata": {},
     "output_type": "display_data"
    },
    {
     "name": "stdout",
     "output_type": "stream",
     "text": [
      "\n"
     ]
    },
    {
     "data": {
      "text/html": [
       "<div>\n",
       "<style scoped>\n",
       "    .dataframe tbody tr th:only-of-type {\n",
       "        vertical-align: middle;\n",
       "    }\n",
       "\n",
       "    .dataframe tbody tr th {\n",
       "        vertical-align: top;\n",
       "    }\n",
       "\n",
       "    .dataframe thead th {\n",
       "        text-align: right;\n",
       "    }\n",
       "</style>\n",
       "<table border=\"1\" class=\"dataframe\">\n",
       "  <thead>\n",
       "    <tr style=\"text-align: right;\">\n",
       "      <th></th>\n",
       "      <th>Number of Topic</th>\n",
       "      <th>(Topic) Percentage</th>\n",
       "      <th>Keywords</th>\n",
       "      <th>Top Documents</th>\n",
       "    </tr>\n",
       "  </thead>\n",
       "  <tbody>\n",
       "    <tr>\n",
       "      <th>0</th>\n",
       "      <td>0.0</td>\n",
       "      <td>0.6335</td>\n",
       "      <td>gun, law, state, crime, weapon, case, people, ...</td>\n",
       "      <td>From: (Larry Cipriani) Subject: Ohio House Bil...</td>\n",
       "    </tr>\n",
       "    <tr>\n",
       "      <th>1</th>\n",
       "      <td>1.0</td>\n",
       "      <td>0.6670</td>\n",
       "      <td>word, church, christian, people, religion, lov...</td>\n",
       "      <td>From: (Robert Weiss) Subject: [lds] Ricks repl...</td>\n",
       "    </tr>\n",
       "    <tr>\n",
       "      <th>2</th>\n",
       "      <td>2.0</td>\n",
       "      <td>0.6508</td>\n",
       "      <td>year, good, run, hit, win, game, lose, player,...</td>\n",
       "      <td>From: (Edward [Ted] Fischer) Subject: Old Pred...</td>\n",
       "    </tr>\n",
       "    <tr>\n",
       "      <th>3</th>\n",
       "      <td>3.0</td>\n",
       "      <td>0.7493</td>\n",
       "      <td>state, israeli, people, write, give, land, cou...</td>\n",
       "      <td>From: Center for Policy Research Subject: Fina...</td>\n",
       "    </tr>\n",
       "    <tr>\n",
       "      <th>4</th>\n",
       "      <td>4.0</td>\n",
       "      <td>0.5505</td>\n",
       "      <td>people, system, write, man, person, moral, hum...</td>\n",
       "      <td>From: (Keith Allan Schneider) Subject: Re: Obj...</td>\n",
       "    </tr>\n",
       "    <tr>\n",
       "      <th>5</th>\n",
       "      <td>5.0</td>\n",
       "      <td>0.6627</td>\n",
       "      <td>high, large, number, low, rate, level, small, ...</td>\n",
       "      <td>From: (John De Armond) Subject: Re: What do Nu...</td>\n",
       "    </tr>\n",
       "    <tr>\n",
       "      <th>6</th>\n",
       "      <td>6.0</td>\n",
       "      <td>0.7390</td>\n",
       "      <td>team, game, play, player, line, season, point,...</td>\n",
       "      <td>From: (bryan.k.strouse) Subject: NHL RESULTS F...</td>\n",
       "    </tr>\n",
       "    <tr>\n",
       "      <th>7</th>\n",
       "      <td>7.0</td>\n",
       "      <td>0.8229</td>\n",
       "      <td>people, start, time, day, leave, happen, fire,...</td>\n",
       "      <td>From: (David Davidian) Subject: Accounts of An...</td>\n",
       "    </tr>\n",
       "    <tr>\n",
       "      <th>8</th>\n",
       "      <td>8.0</td>\n",
       "      <td>0.9720</td>\n",
       "      <td>ax, line, host, nntp_posting, reply, _, part, ...</td>\n",
       "      <td>Subject: roman.bmp 12/14 From: (Cliff) Reply-T...</td>\n",
       "    </tr>\n",
       "    <tr>\n",
       "      <th>9</th>\n",
       "      <td>9.0</td>\n",
       "      <td>0.7827</td>\n",
       "      <td>make, work, government, money, year, pay, job,...</td>\n",
       "      <td>From: (Clinton/Gore 92) Subject: CLINTON: Back...</td>\n",
       "    </tr>\n",
       "    <tr>\n",
       "      <th>10</th>\n",
       "      <td>10.0</td>\n",
       "      <td>0.6422</td>\n",
       "      <td>window, set, application, display, server, run...</td>\n",
       "      <td>From: (David B. Lewis) Subject: comp.windows.x...</td>\n",
       "    </tr>\n",
       "    <tr>\n",
       "      <th>11</th>\n",
       "      <td>11.0</td>\n",
       "      <td>0.7194</td>\n",
       "      <td>space, launch, system, project, satellite, yea...</td>\n",
       "      <td>From: (Jon Leech) Subject: Space FAQ 11/15 - U...</td>\n",
       "    </tr>\n",
       "    <tr>\n",
       "      <th>12</th>\n",
       "      <td>12.0</td>\n",
       "      <td>0.7266</td>\n",
       "      <td>line, power, work, current, ground, wire, swit...</td>\n",
       "      <td>From: Subject: Grounding power wiring, was Re:...</td>\n",
       "    </tr>\n",
       "    <tr>\n",
       "      <th>13</th>\n",
       "      <td>13.0</td>\n",
       "      <td>0.6951</td>\n",
       "      <td>question, exist, claim, reason, true, evidence...</td>\n",
       "      <td>From: (Petri Pihko) Subject: Re: Atheists view...</td>\n",
       "    </tr>\n",
       "    <tr>\n",
       "      <th>14</th>\n",
       "      <td>14.0</td>\n",
       "      <td>0.3658</td>\n",
       "      <td>people, thing, make, good, bad, put, write, ha...</td>\n",
       "      <td>From: (vlasis theodore) Subject: Re: WARNING.....</td>\n",
       "    </tr>\n",
       "    <tr>\n",
       "      <th>15</th>\n",
       "      <td>15.0</td>\n",
       "      <td>0.7014</td>\n",
       "      <td>armenian, people, turkish, history, kill, gove...</td>\n",
       "      <td>From: (Serdar Argic) Subject: Muslims were one...</td>\n",
       "    </tr>\n",
       "    <tr>\n",
       "      <th>16</th>\n",
       "      <td>16.0</td>\n",
       "      <td>0.2592</td>\n",
       "      <td>write, article, line, organization, host, hear...</td>\n",
       "      <td>From: (Red Herring) Subject: Re: Clintons immu...</td>\n",
       "    </tr>\n",
       "    <tr>\n",
       "      <th>17</th>\n",
       "      <td>17.0</td>\n",
       "      <td>0.8791</td>\n",
       "      <td>key, encryption, system, government, bit, chip...</td>\n",
       "      <td>From: (Jim Gillogly) Subject: Clipper Chip and...</td>\n",
       "    </tr>\n",
       "    <tr>\n",
       "      <th>18</th>\n",
       "      <td>18.0</td>\n",
       "      <td>0.5659</td>\n",
       "      <td>drive, line, buy, price, sell, sale, offer, ch...</td>\n",
       "      <td>From: (Carsten Grammes) Subject: List of IDE H...</td>\n",
       "    </tr>\n",
       "    <tr>\n",
       "      <th>19</th>\n",
       "      <td>19.0</td>\n",
       "      <td>0.5387</td>\n",
       "      <td>card, problem, system, driver, run, bit, memor...</td>\n",
       "      <td>From: (GRUBB) Subject: Re: IDE vs SCSI Organiz...</td>\n",
       "    </tr>\n",
       "    <tr>\n",
       "      <th>20</th>\n",
       "      <td>20.0</td>\n",
       "      <td>0.6659</td>\n",
       "      <td>study, doctor, food, effect, problem, patient,...</td>\n",
       "      <td>From: Subject: Candida(yeast) Bloom, Fact or F...</td>\n",
       "    </tr>\n",
       "    <tr>\n",
       "      <th>21</th>\n",
       "      <td>21.0</td>\n",
       "      <td>0.5071</td>\n",
       "      <td>car, bike, ride, engine, road, turn, speed, fr...</td>\n",
       "      <td>From: (richard welty) Subject: rec.autos: Freq...</td>\n",
       "    </tr>\n",
       "    <tr>\n",
       "      <th>22</th>\n",
       "      <td>22.0</td>\n",
       "      <td>0.5264</td>\n",
       "      <td>post, mail, send, group, list, information, ad...</td>\n",
       "      <td>From: (Peter Kaminski) Subject: Re: Need to fi...</td>\n",
       "    </tr>\n",
       "    <tr>\n",
       "      <th>23</th>\n",
       "      <td>23.0</td>\n",
       "      <td>0.6097</td>\n",
       "      <td>time, find, point, problem, book, give, work, ...</td>\n",
       "      <td>From: (Alan Christiansen) Subject: Re: Sphere ...</td>\n",
       "    </tr>\n",
       "    <tr>\n",
       "      <th>24</th>\n",
       "      <td>24.0</td>\n",
       "      <td>0.9638</td>\n",
       "      <td>file, line, program, read, copy, change, entry...</td>\n",
       "      <td>From: (Landon C. Noll) Subject: Reposting: 10t...</td>\n",
       "    </tr>\n",
       "    <tr>\n",
       "      <th>25</th>\n",
       "      <td>25.0</td>\n",
       "      <td>0.6590</td>\n",
       "      <td>image, software, include, version, program, fi...</td>\n",
       "      <td>From: (Marc Conrad) Subject: Re: List of large...</td>\n",
       "    </tr>\n",
       "  </tbody>\n",
       "</table>\n",
       "</div>"
      ],
      "text/plain": [
       "    Number of Topic  (Topic) Percentage  \\\n",
       "0               0.0              0.6335   \n",
       "1               1.0              0.6670   \n",
       "2               2.0              0.6508   \n",
       "3               3.0              0.7493   \n",
       "4               4.0              0.5505   \n",
       "5               5.0              0.6627   \n",
       "6               6.0              0.7390   \n",
       "7               7.0              0.8229   \n",
       "8               8.0              0.9720   \n",
       "9               9.0              0.7827   \n",
       "10             10.0              0.6422   \n",
       "11             11.0              0.7194   \n",
       "12             12.0              0.7266   \n",
       "13             13.0              0.6951   \n",
       "14             14.0              0.3658   \n",
       "15             15.0              0.7014   \n",
       "16             16.0              0.2592   \n",
       "17             17.0              0.8791   \n",
       "18             18.0              0.5659   \n",
       "19             19.0              0.5387   \n",
       "20             20.0              0.6659   \n",
       "21             21.0              0.5071   \n",
       "22             22.0              0.5264   \n",
       "23             23.0              0.6097   \n",
       "24             24.0              0.9638   \n",
       "25             25.0              0.6590   \n",
       "\n",
       "                                             Keywords  \\\n",
       "0   gun, law, state, crime, weapon, case, people, ...   \n",
       "1   word, church, christian, people, religion, lov...   \n",
       "2   year, good, run, hit, win, game, lose, player,...   \n",
       "3   state, israeli, people, write, give, land, cou...   \n",
       "4   people, system, write, man, person, moral, hum...   \n",
       "5   high, large, number, low, rate, level, small, ...   \n",
       "6   team, game, play, player, line, season, point,...   \n",
       "7   people, start, time, day, leave, happen, fire,...   \n",
       "8   ax, line, host, nntp_posting, reply, _, part, ...   \n",
       "9   make, work, government, money, year, pay, job,...   \n",
       "10  window, set, application, display, server, run...   \n",
       "11  space, launch, system, project, satellite, yea...   \n",
       "12  line, power, work, current, ground, wire, swit...   \n",
       "13  question, exist, claim, reason, true, evidence...   \n",
       "14  people, thing, make, good, bad, put, write, ha...   \n",
       "15  armenian, people, turkish, history, kill, gove...   \n",
       "16  write, article, line, organization, host, hear...   \n",
       "17  key, encryption, system, government, bit, chip...   \n",
       "18  drive, line, buy, price, sell, sale, offer, ch...   \n",
       "19  card, problem, system, driver, run, bit, memor...   \n",
       "20  study, doctor, food, effect, problem, patient,...   \n",
       "21  car, bike, ride, engine, road, turn, speed, fr...   \n",
       "22  post, mail, send, group, list, information, ad...   \n",
       "23  time, find, point, problem, book, give, work, ...   \n",
       "24  file, line, program, read, copy, change, entry...   \n",
       "25  image, software, include, version, program, fi...   \n",
       "\n",
       "                                        Top Documents  \n",
       "0   From: (Larry Cipriani) Subject: Ohio House Bil...  \n",
       "1   From: (Robert Weiss) Subject: [lds] Ricks repl...  \n",
       "2   From: (Edward [Ted] Fischer) Subject: Old Pred...  \n",
       "3   From: Center for Policy Research Subject: Fina...  \n",
       "4   From: (Keith Allan Schneider) Subject: Re: Obj...  \n",
       "5   From: (John De Armond) Subject: Re: What do Nu...  \n",
       "6   From: (bryan.k.strouse) Subject: NHL RESULTS F...  \n",
       "7   From: (David Davidian) Subject: Accounts of An...  \n",
       "8   Subject: roman.bmp 12/14 From: (Cliff) Reply-T...  \n",
       "9   From: (Clinton/Gore 92) Subject: CLINTON: Back...  \n",
       "10  From: (David B. Lewis) Subject: comp.windows.x...  \n",
       "11  From: (Jon Leech) Subject: Space FAQ 11/15 - U...  \n",
       "12  From: Subject: Grounding power wiring, was Re:...  \n",
       "13  From: (Petri Pihko) Subject: Re: Atheists view...  \n",
       "14  From: (vlasis theodore) Subject: Re: WARNING.....  \n",
       "15  From: (Serdar Argic) Subject: Muslims were one...  \n",
       "16  From: (Red Herring) Subject: Re: Clintons immu...  \n",
       "17  From: (Jim Gillogly) Subject: Clipper Chip and...  \n",
       "18  From: (Carsten Grammes) Subject: List of IDE H...  \n",
       "19  From: (GRUBB) Subject: Re: IDE vs SCSI Organiz...  \n",
       "20  From: Subject: Candida(yeast) Bloom, Fact or F...  \n",
       "21  From: (richard welty) Subject: rec.autos: Freq...  \n",
       "22  From: (Peter Kaminski) Subject: Re: Need to fi...  \n",
       "23  From: (Alan Christiansen) Subject: Re: Sphere ...  \n",
       "24  From: (Landon C. Noll) Subject: Reposting: 10t...  \n",
       "25  From: (Marc Conrad) Subject: Re: List of large...  "
      ]
     },
     "execution_count": 48,
     "metadata": {},
     "output_type": "execute_result"
    }
   ],
   "source": [
    "df_representative_document = find_the_most_representative_document_for_each_topic(df_dominant_topic)\n",
    "df_representative_document"
   ]
  },
  {
   "cell_type": "markdown",
   "metadata": {},
   "source": [
    "#### 3) Finding topic distribution across documents "
   ]
  },
  {
   "cell_type": "code",
   "execution_count": 49,
   "metadata": {},
   "outputs": [],
   "source": [
    "def find_topic_distribution_across_documents(df_dominant_topic):\n",
    "\n",
    "    # init dataframe\n",
    "    df_topic_distribution = pd.DataFrame()\n",
    "\n",
    "    # number of documents for each topic\n",
    "    topic_counts = df_dominant_topic['Dominant Topic'].value_counts()\n",
    "\n",
    "    # percentage of documents for each topic\n",
    "    topic_contribution = round(topic_counts/ topic_counts.sum(), 4)\n",
    "\n",
    "    # topic number and keywords\n",
    "    topic_keywords = df_dominant_topic[['Dominant Topic', 'Keywords']]\n",
    "\n",
    "    # concatenate column wise\n",
    "    df_topic_distribution = pd.concat([topic_keywords, topic_counts, topic_contribution], axis=1)\n",
    "\n",
    "    # change column names\n",
    "    df_topic_distribution.columns = ['Dominant Topic', 'Keywords', 'Number of Documents', '(Doc) Percentage']\n",
    "    \n",
    "    # save dataframe\n",
    "    df_topic_distribution.to_csv('./results/df_topic_distribution.csv')\n",
    "    \n",
    "    return (df_topic_distribution)"
   ]
  },
  {
   "cell_type": "code",
   "execution_count": 50,
   "metadata": {},
   "outputs": [
    {
     "data": {
      "text/html": [
       "<div>\n",
       "<style scoped>\n",
       "    .dataframe tbody tr th:only-of-type {\n",
       "        vertical-align: middle;\n",
       "    }\n",
       "\n",
       "    .dataframe tbody tr th {\n",
       "        vertical-align: top;\n",
       "    }\n",
       "\n",
       "    .dataframe thead th {\n",
       "        text-align: right;\n",
       "    }\n",
       "</style>\n",
       "<table border=\"1\" class=\"dataframe\">\n",
       "  <thead>\n",
       "    <tr style=\"text-align: right;\">\n",
       "      <th></th>\n",
       "      <th>Dominant Topic</th>\n",
       "      <th>Keywords</th>\n",
       "      <th>Number of Documents</th>\n",
       "      <th>(Doc) Percentage</th>\n",
       "    </tr>\n",
       "  </thead>\n",
       "  <tbody>\n",
       "    <tr>\n",
       "      <th>0</th>\n",
       "      <td>21.0</td>\n",
       "      <td>car, bike, ride, engine, road, turn, speed, fr...</td>\n",
       "      <td>501.0</td>\n",
       "      <td>0.0443</td>\n",
       "    </tr>\n",
       "    <tr>\n",
       "      <th>1</th>\n",
       "      <td>19.0</td>\n",
       "      <td>card, problem, system, driver, run, bit, memor...</td>\n",
       "      <td>568.0</td>\n",
       "      <td>0.0502</td>\n",
       "    </tr>\n",
       "    <tr>\n",
       "      <th>2</th>\n",
       "      <td>21.0</td>\n",
       "      <td>car, bike, ride, engine, road, turn, speed, fr...</td>\n",
       "      <td>490.0</td>\n",
       "      <td>0.0433</td>\n",
       "    </tr>\n",
       "    <tr>\n",
       "      <th>3</th>\n",
       "      <td>10.0</td>\n",
       "      <td>window, set, application, display, server, run...</td>\n",
       "      <td>321.0</td>\n",
       "      <td>0.0284</td>\n",
       "    </tr>\n",
       "    <tr>\n",
       "      <th>4</th>\n",
       "      <td>19.0</td>\n",
       "      <td>card, problem, system, driver, run, bit, memor...</td>\n",
       "      <td>327.0</td>\n",
       "      <td>0.0289</td>\n",
       "    </tr>\n",
       "    <tr>\n",
       "      <th>5</th>\n",
       "      <td>21.0</td>\n",
       "      <td>car, bike, ride, engine, road, turn, speed, fr...</td>\n",
       "      <td>115.0</td>\n",
       "      <td>0.0102</td>\n",
       "    </tr>\n",
       "    <tr>\n",
       "      <th>6</th>\n",
       "      <td>18.0</td>\n",
       "      <td>drive, line, buy, price, sell, sale, offer, ch...</td>\n",
       "      <td>597.0</td>\n",
       "      <td>0.0528</td>\n",
       "    </tr>\n",
       "    <tr>\n",
       "      <th>7</th>\n",
       "      <td>25.0</td>\n",
       "      <td>image, software, include, version, program, fi...</td>\n",
       "      <td>253.0</td>\n",
       "      <td>0.0224</td>\n",
       "    </tr>\n",
       "    <tr>\n",
       "      <th>8</th>\n",
       "      <td>0.0</td>\n",
       "      <td>gun, law, state, crime, weapon, case, people, ...</td>\n",
       "      <td>155.0</td>\n",
       "      <td>0.0137</td>\n",
       "    </tr>\n",
       "    <tr>\n",
       "      <th>9</th>\n",
       "      <td>13.0</td>\n",
       "      <td>question, exist, claim, reason, true, evidence...</td>\n",
       "      <td>268.0</td>\n",
       "      <td>0.0237</td>\n",
       "    </tr>\n",
       "  </tbody>\n",
       "</table>\n",
       "</div>"
      ],
      "text/plain": [
       "   Dominant Topic                                           Keywords  \\\n",
       "0            21.0  car, bike, ride, engine, road, turn, speed, fr...   \n",
       "1            19.0  card, problem, system, driver, run, bit, memor...   \n",
       "2            21.0  car, bike, ride, engine, road, turn, speed, fr...   \n",
       "3            10.0  window, set, application, display, server, run...   \n",
       "4            19.0  card, problem, system, driver, run, bit, memor...   \n",
       "5            21.0  car, bike, ride, engine, road, turn, speed, fr...   \n",
       "6            18.0  drive, line, buy, price, sell, sale, offer, ch...   \n",
       "7            25.0  image, software, include, version, program, fi...   \n",
       "8             0.0  gun, law, state, crime, weapon, case, people, ...   \n",
       "9            13.0  question, exist, claim, reason, true, evidence...   \n",
       "\n",
       "   Number of Documents  (Doc) Percentage  \n",
       "0                501.0            0.0443  \n",
       "1                568.0            0.0502  \n",
       "2                490.0            0.0433  \n",
       "3                321.0            0.0284  \n",
       "4                327.0            0.0289  \n",
       "5                115.0            0.0102  \n",
       "6                597.0            0.0528  \n",
       "7                253.0            0.0224  \n",
       "8                155.0            0.0137  \n",
       "9                268.0            0.0237  "
      ]
     },
     "execution_count": 50,
     "metadata": {},
     "output_type": "execute_result"
    }
   ],
   "source": [
    "df_topic_distribution = find_topic_distribution_across_documents(df_dominant_topic)\n",
    "df_topic_distribution.head(10)"
   ]
  },
  {
   "cell_type": "markdown",
   "metadata": {},
   "source": [
    "## [Visualize](https://www.machinelearningplus.com/nlp/topic-modeling-visualization-how-to-present-results-lda-models/) The Topics in LDA Model"
   ]
  },
  {
   "cell_type": "code",
   "execution_count": null,
   "metadata": {},
   "outputs": [],
   "source": [
    "visualize_the_topics = pyLDAvis.gensim.prepare(optimal_lda_model, corpus, id2word)\n",
    "visualize_the_topics.display()"
   ]
  },
  {
   "cell_type": "markdown",
   "metadata": {},
   "source": [
    "---"
   ]
  }
 ],
 "metadata": {
  "kernelspec": {
   "display_name": "Python 3",
   "language": "python",
   "name": "python3"
  },
  "language_info": {
   "codemirror_mode": {
    "name": "ipython",
    "version": 3
   },
   "file_extension": ".py",
   "mimetype": "text/x-python",
   "name": "python",
   "nbconvert_exporter": "python",
   "pygments_lexer": "ipython3",
   "version": "3.7.3"
  }
 },
 "nbformat": 4,
 "nbformat_minor": 2
}
