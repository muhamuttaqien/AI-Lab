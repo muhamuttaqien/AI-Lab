{
 "cells": [
  {
   "cell_type": "markdown",
   "metadata": {},
   "source": [
    "# Ruled-Based Text Summarization Using Words Frequency Scoring"
   ]
  },
  {
   "cell_type": "code",
   "execution_count": 1,
   "metadata": {
    "collapsed": true
   },
   "outputs": [],
   "source": [
    "import re\n",
    "import random\n",
    "import urllib\n",
    "import bs4 as BeautifulSoup\n",
    "import pandas as pd\n",
    "\n",
    "import nltk\n",
    "from nltk.corpus import stopwords\n",
    "from nltk.stem import PorterStemmer\n",
    "from nltk.tokenize import word_tokenize, sent_tokenize"
   ]
  },
  {
   "cell_type": "markdown",
   "metadata": {},
   "source": [
    "## Grasp Text Corpus From Internet (optional)"
   ]
  },
  {
   "cell_type": "code",
   "execution_count": 2,
   "metadata": {
    "collapsed": true
   },
   "outputs": [],
   "source": [
    "# fetching the content from the URL\n",
    "fetched_data = urllib.request.urlopen('https://en.wikipedia.org/wiki/20th_century')"
   ]
  },
  {
   "cell_type": "code",
   "execution_count": 3,
   "metadata": {
    "collapsed": true
   },
   "outputs": [],
   "source": [
    "# parsing the URL content and storing in a variable\n",
    "article_read = fetched_data.read()\n",
    "article_parsed = BeautifulSoup.BeautifulSoup(article_read,'html.parser')\n",
    "\n",
    "# returning <p> tags\n",
    "paragraphs = article_parsed.find_all('p')\n",
    "\n",
    "article_content = ''\n",
    "\n",
    "# looping through the paragraphs and adding them to the variable\n",
    "for p in paragraphs:  \n",
    "    article_content += p.text + '\\n'"
   ]
  },
  {
   "cell_type": "code",
   "execution_count": 4,
   "metadata": {},
   "outputs": [
    {
     "name": "stdout",
     "output_type": "stream",
     "text": [
      "The 20th (twentieth) century was a century that began on\n",
      "January 1, 1901[1] and ended on December 31, 2000.[2] It was the tenth and final century of the 2nd millennium. It is distinct from the century known as the 1900s which began on January 1, 1900, and ended on December 31, 1999.\n",
      "\n",
      "The 20th century was dominated by a chain of events that heralded significant changes in world history as to redefine the era: flu pandemic, World War I and World War II, nuclear power and space exploration, nationalism and decolonization, the Cold War and post-Cold War conflicts; intergovernmental organizations and cultural homogenization through developments in emerging transportation and communications technology; poverty reduction and world population growth, awareness of environmental degradation, ecological extinction;[3][4] and the birth of the Digital Revolution, enabled by the wide adoption of MOS transistors and integrated circuits. It saw great advances in communication and medical technology that by the late 1980s allowed for near-instantaneous worldwide computer communication and genetic modification of life.\n",
      "\n",
      "The 20th century saw the largest transformation of the world order since the Fall of Rome: global total fertility rates, sea level rise and ecological collapses increased; the resulting competition for land and dwindling resources accelerated deforestation, water depletion, and the mass extinction of many of the world's species and decline in the population of others; consequences which are now being dealt with. The average global temperature on Earth has increased by about 0.8° Celsius (1.4° Fahrenheit) since 1880; Two-thirds of the warming has occurred since 1975, at a rate of roughly 0.15-0.20 °C per decade.[5]\n",
      "\n",
      "The repercussions of the World Wars, Cold War and Globalization crafted a world where people are more united than any previous time in human history, as exemplified by the establishment of international law, international aid, and the United Nations. The Marshall Plan—which spent $13 billion ($100 billion in 2018 US dollars)[6] to rebuild the economies of post-war nations—launched \"Pax Americana\". For decades, the United States shouldered the burden of protecting other nations so as to limit threat of nuclear proliferation, and this global stabilizing hegemony influence impeded the expansion of communism while allowing for democratic proliferation to more than half of the existing countries. Open warfare amongst large armies disappeared; an unprecedented historical period, dubbed the \"Long Peace\", occurred after the World Wars, in which the world transitioned from active wars between nation states to internal civil wars or local insurgency conflicts.\n",
      "\n",
      "It took over two-hundred thousand years of human history up to 1804 for the world's population to reach 1 billion;[7] world population reached an estimated 2 billion in 1927; by late 1999, the global population reached 6 billion.[8] Global literacy averaged 80%. Up until a couple hundred years ago, life expectancy was about thirty in most populations; global lifespan-averages exceeded 40+ years for the first time in history, with over half achieving 70+ years (three decades longer than it was a century ago).[9]\n",
      "\n",
      "The century had the first global-scale total wars between world powers across continents and oceans in World War I and World War II. Nationalism became a major political issue in the world in the 20th century, acknowledged in international law along with the right of nations to self-determination, official decolonization in the mid-century, and related regional conflicts.\n",
      "\n",
      "The century saw a major shift in the way that many people lived, with changes in politics, ideology, economics, society, culture, science, technology, and medicine. The 20th century may have seen more technological and scientific progress than all the other centuries combined since the dawn of civilization. Terms like ideology, world war, genocide, and nuclear war entered common usage. Scientific discoveries, such as the theory of relativity and quantum physics, profoundly changed the foundational models of physical science, forcing scientists to realize that the universe was more complex than previously believed, and dashing the hopes (or fears) at the end of the 19th century that the last few details of scientific knowledge were about to be filled in. It was a century that started with horses, simple automobiles, and freighters but ended with high-speed rail, cruise ships, global commercial air travel and the Space Shuttle. Horses, Western society's basic form of personal transportation for thousands of years, were replaced by automobiles and buses within a few decades. These developments were made possible by the exploitation of fossil fuel resources, which offered energy in an easily portable form, but also caused concern about pollution and long-term impact on the environment. Humans explored space for the first time, taking their first footsteps on the Moon.\n",
      "\n",
      "Mass media, telecommunications, and information technology (especially computers, paperback books, public education, and the Internet) made the world's knowledge more widely available. Advancements in medical technology also improved the health of many people: the global life expectancy increased from 35 years to 65 years. Rapid technological advancements, however, also allowed warfare to reach unprecedented levels of destruction. World War II alone killed over 60 million people, while nuclear weapons gave humankind the means to annihilate itself in a short time. However, these same wars resulted in the destruction of the imperial system. For the first time in human history, empires and their wars of expansion and colonization ceased to be a factor in international affairs, resulting in a far more globalized and cooperative world. The last time major powers clashed openly was in 1945, and since then, violence has seen an unprecedented decline.[10]\n",
      "\n",
      "The world also became more culturally homogenized than ever with developments in transportation and communications technology, popular music and other influences of Western culture, international corporations, and what was arguably a truly global economy by the end of the 20th century.\n",
      "\n",
      "Technological advancements during World War I changed the way war was fought, as new inventions such as tanks, chemical weapons, and aircraft modified tactics and strategy.  After more than four years of trench warfare in Western Europe, and 20 million dead, the powers that had formed the Triple Entente (France, Britain, and Russia, later replaced by the United States and joined by Italy and Romania) emerged victorious over the Central Powers (Germany, Austria-Hungary, the Ottoman Empire and Bulgaria). In addition to annexing many of the colonial possessions of the vanquished states, the Triple Entente exacted punitive restitution payments from them, plunging Germany in particular into economic depression. The Austro-Hungarian and Ottoman empires were dismantled at the war's conclusion. The Russian Revolution resulted in the overthrow of the Tsarist regime of Nicholas II and the onset of the Russian Civil War. The victorious Bolsheviks then established the Soviet Union, the world's first communist state.\n",
      "\n",
      "At the beginning of the period, the British Empire was the world's most powerful nation,[12] having acted as the world's policeman for the past century. Fascism, a movement which grew out of post-war angst and which accelerated during the Great Depression of the 1930s, gained momentum in Italy, Germany, and Spain in the 1920s and 1930s, culminating in World War II, sparked by Nazi Germany's aggressive expansion at the expense of its neighbors. Meanwhile, Japan had rapidly transformed itself into a technologically advanced industrial power and, along with Germany and Italy, formed the Axis powers. Japan's military expansionism in East Asia and the Pacific Ocean brought it into conflict with the United States, culminating in a surprise attack which drew the US into World War II.  After some years of dramatic military success, Germany was defeated in 1945, having been invaded by the Soviet Union and Poland from the East and by the United States, the United Kingdom, Canada, and France from the West. After the victory of the Allies in Europe, the war in Asia ended with the dropping of two atomic bombs on Japan by the US, the first nation to develop and use nuclear weapons. In total, World War II left some 60 million people dead. After the war, Germany was occupied and divided between the Western powers and the Soviet Union. East Germany and the rest of Eastern Europe became Soviet puppet states under communist rule. Western Europe was rebuilt with the aid of the American Marshall Plan, resulting in a major post-war economic boom, and many of the affected nations became close allies of the United States.\n",
      "\n",
      "With the Axis defeated and Britain and France rebuilding, the United States and the Soviet Union were left standing as the world's only superpowers. Allies during the war, they soon became hostile to one another as their competing ideologies of communism and democratic capitalism proliferated in Europe, which became divided by the Iron Curtain and the Berlin Wall. They formed competing military alliances (NATO and the Warsaw Pact) which engaged in a decades-long standoff known as the Cold War. The period was marked by a new arms race as the USSR became the second nation to develop nuclear weapons, which were produced by both sides in sufficient numbers to end most human life on the planet had a large-scale nuclear exchange ever occurred. Mutually assured destruction is credited by many historians as having prevented such an exchange, each side being unable to strike first at the other without ensuring an equally devastating retaliatory strike. Unable to engage one another directly, the conflict played out in a series of proxy wars around the world–particularly in China, Korea, Cuba, Vietnam, and Afghanistan–as the USSR sought to export communism while the US attempted to contain it. The technological competition between the two sides led to substantial investment in research and development which produced innovations that reached far beyond the battlefield, such as space exploration and the Internet.\n",
      "\n",
      "In the latter half of the century, most of the European-colonized world in Africa and Asia gained independence in a process of decolonization. Meanwhile, globalization opened the door for several nations to exert a strong influence over many world affairs. The US's global military presence spread American culture around the world with the advent of the Hollywood motion picture industry, Broadway, rock and roll, pop music, fast food, big-box stores, and the hip-hop lifestyle. Britain also continued to influence world culture, including the \"British Invasion\" into American music, leading many rock bands from other countries (such as Swedish ABBA) to sing in English. After the Soviet Union collapsed under internal pressure in 1991, most of the communist governments it had supported around the world were dismantled—with the notable exceptions of China, North Korea, Cuba, Vietnam, and Laos—followed by awkward transitions into market economies.\n",
      "\n",
      "Following World War II, the United Nations, successor to the League of Nations, was established as an international forum in which the world's nations could discuss issues diplomatically. It enacted resolutions on such topics as the conduct of warfare, environmental protection, international sovereignty, and human rights. Peacekeeping forces consisting of troops provided by various countries, with various United Nations and other aid agencies, helped to relieve famine, disease, and poverty, and to suppress some local armed conflicts. Europe slowly united, economically and, in some ways, politically, to form the European Union, which consisted of 15 European countries by the end of the 20th century.\n",
      "\n",
      "\n",
      "In the last third of the century, concern about humankind's impact on the Earth's environment made environmentalism popular. In many countries, especially in Europe, the movement was channeled into politics through Green parties. Increasing awareness of global warming began in the 1980s, commencing decades of social and political debate.\n",
      "Due to continuing industrialization and expanding trade, many significant changes of the century were, directly or indirectly, economic and technological in nature. Inventions such as the light bulb, the automobile, and the telephone in the late 19th century, followed by supertankers, airliners, motorways, radio, television, antibiotics, nuclear power, frozen food, computers and microcomputers, the Internet, and mobile telephones affected people's quality of life across the developed world. Scientific research, engineering professionalization and technological development—much of it motivated by the Cold War arms race—drove changes in everyday life.\n",
      "\n",
      "At the beginning of the century, strong discrimination based on race and sex was significant in general society. Although the Atlantic slave trade had ended in the 19th century, the fight for equality for non-white people in the white-dominated societies of North America, Europe, and South Africa continued. During the century, the social taboo of sexism fell. By the end of the 20th century, women had the same legal rights as men in many parts of the world, and racism had come to be seen as abhorrent.[13] Attitudes towards homosexuality also began to change in the later part of the century.\n",
      "\n",
      "Communications and information technology, transportation technology, and medical advances had radically altered daily lives. Europe appeared to be at a sustainable peace for the first time in recorded history. The people of the Indian subcontinent, a sixth of the world population at the end of the 20th century, had attained an indigenous independence for the first time in centuries. China, an ancient nation comprising a fifth of the world population, was finally open to the world, creating a new state after the near-complete destruction of the old cultural order. With the end of colonialism and the Cold War, nearly a billion people in Africa were left in new nation states after centuries of foreign domination.\n",
      "\n",
      "The world was undergoing its second major period of globalization; the first, which started in the 18th century, having been terminated by World War I. Since the US was in a dominant position, a major part of the process was Americanization. The influence of China and India was also rising, as the world's largest populations were rapidly integrating with the world economy.\n",
      "\n",
      "Terrorism, dictatorship, and the spread of nuclear weapons were pressing global issues. The world was still blighted by small-scale wars and other violent conflicts, fueled by competition over resources and by ethnic conflicts. Despots such as Kim Jong-il of North Korea continued to lead their nations toward the development of nuclear weapons.\n",
      "\n",
      "Disease threatened to destabilize many regions of the world.  New viruses such as SARS and West Nile continued to spread. Malaria and other diseases affected large populations.  Millions were infected with HIV, the virus which causes AIDS.  The virus was becoming an epidemic in southern Africa.\n",
      "\n",
      "Based on research done by climate scientists, the majority of the scientific community consider that in the long term environmental problems may threaten the planet's habitability.[14]  One argument is that of global warming occurring due to human-caused emission of greenhouse gases, particularly carbon dioxide produced by the burning of fossil fuels.[15]  This prompted many nations to negotiate and sign the Kyoto treaty, which set mandatory limits on carbon dioxide emissions.\n",
      "\n",
      "World population increased from about 1.6 billion people in 1901 to 6.1 billion at the century's end.[16][17]\n",
      "\n",
      "The number of people killed during the century by government actions was in the hundreds of millions. This includes deaths caused by wars, genocide, politicide and mass murders. The deaths from acts of war during the two world wars alone have been estimated at between 50 and 80 million[citation needed]. Political scientist Rudolph Rummel estimated 262,000,000 deaths caused by democide, which excludes those killed in war battles, civilians unintentionally killed in war and killings of rioting mobs.[18] According to Charles Tilly, \"Altogether, about 100 million people died as a direct result of action by organized military units backed by one government or another over the course of the century. Most likely a comparable number of civilians died of war-induced disease and other indirect effects.\"[19] It is estimated that approximately 70 million Europeans died through war, violence and famine between 1914 and 1945.[20]\n",
      "\n",
      "The invention of music recording technologies such as the phonograph record, and dissemination technologies such as radio broadcasting, massively expanded the audience for music.  Prior to the 20th century, music was generally only experienced in live performances.  Many new genres of music were established during the 20th century.\n",
      "\n",
      "The world's most popular / famous / revered music artists of the 20th century include : Louis Armstrong, Little Richard, Igor Stravinsky, Gustav Mahler, George Gershwin, Sergei Prokofiev, Benjamin Britten, Maurice Ravel, Arnold Schoenberg, Dmitri Shostakovich, Aaron Copland, Béla Bartók, Ernesto Lecuona, Sergei Rachmaninoff, Richard Strauss, Thelonious Monk, Ella Fitzgerald, Duke Ellington, Bing Crosby, ABBA, The Beach Boys, The Beatles, Harry Belafonte, Chuck Berry, James Brown, Miles Davis, Bob Dylan, Jimi Hendrix, Eagles, Michael Jackson, Elton John, Bee Gees, Barbra Streisand, Cher, Nat \"King\" Cole, Robert Johnson, Led Zeppelin, Leonard Cohen, Queen, Madonna, Bob Marley, Metallica, Charlie Parker, Pink Floyd, Elvis Presley, The Rolling Stones, Frank Sinatra, Stevie Wonder, Aretha Franklin, Tupac Shakur, Nirvana (band), The Notorious B.I.G., Amr Diab, Fairuz, Umm Kulthum, Abdel Halim Hafez, Randy Newman and many more.\n",
      "\n",
      "Film as an artistic medium was created in the 20th century.  The first modern movie theatre was established in Pittsburgh in 1905.[26] Hollywood developed as the center of American film production.  While the first films were in black and white, technicolor was developed in the 1920s to allow for color films. Sound films were developed, with the first full-length feature film, The Jazz Singer, released in 1927.  The Academy Awards were established in 1929.\n",
      "\n",
      "Video games—due to the great technological steps forward in computing since the second post-war period—are the new form of entertainment emerged in the 20th century alongside films.\n",
      "\n",
      "Multiple new fields of mathematics were developed in the 20th century.  In the first part of the 20th century, measure theory, functional analysis, and topology were established, and significant developments were made in fields such as abstract algebra and probability.  The development of set theory and formal logic led to Gödel's incompleteness theorems.\n",
      "\n",
      "Later in the 20th century, the development of computers led to the establishment of a theory of computation.[30]  Other computationally-intense results include the study of fractals[31] and a proof of the four color theorem in 1976.[32]\n",
      "\n",
      "One of the prominent traits of the 20th century was the dramatic growth of technology. Organized research and practice of science led to advancement in the fields of communication, electronics, engineering, travel, medicine, and war.\n",
      "\n",
      "A technological revolution began in the late 20th century, variously called the Digital Revolution, the information revolution,[37][38][39][40] the electronics revolution,[41] the microelectronic revolution,[42] the Information Age,[43] the silicon revolution,[44][45] the Silicon Age,[44][45][46] and/or the third industrial revolution.[47]\n",
      "\n",
      "\n"
     ]
    }
   ],
   "source": [
    "print(article_content)"
   ]
  },
  {
   "cell_type": "markdown",
   "metadata": {},
   "source": [
    "## Load Text Corpus"
   ]
  },
  {
   "cell_type": "code",
   "execution_count": 5,
   "metadata": {
    "collapsed": true
   },
   "outputs": [],
   "source": [
    "text_corpus = []\n",
    "f = open('./datasets/text_corpus.txt')\n",
    "\n",
    "for text in f:\n",
    "    text_corpus.append(text)\n",
    "\n",
    "f.close()"
   ]
  },
  {
   "cell_type": "code",
   "execution_count": 6,
   "metadata": {},
   "outputs": [
    {
     "name": "stdout",
     "output_type": "stream",
     "text": [
      "Those Who Are Resilient Stay In The Game Longer “On the mountains of truth you can never climb in vain: either you will reach a point higher up today, or you will be training your powers so that you will be able to climb higher tomorrow.” — Friedrich Nietzsche Challenges and setbacks are not meant to defeat you, but promote you. However, I realise after many years of defeats, it can crush your spirit and it is easier to give up than risk further setbacks and disappointments. Have you experienced this before? To be honest, I don’t have the answers. I can’t tell you what the right course of action is; only you will know. However, it’s important not to be discouraged by failure when pursuing a goal or a dream, since failure itself means different things to different people. To a person with a Fixed Mindset failure is a blow to their self-esteem, yet to a person with a Growth Mindset, it’s an opportunity to improve and find new ways to overcome their obstacles. Same failure, yet different responses. Who is right and who is wrong? Neither. Each person has a different mindset that decides their outcome. Those who are resilient stay in the game longer and draw on their inner means to succeed.\n",
      "\n",
      "\n",
      "I’ve coached many clients who gave up after many years toiling away at their respective goal or dream. It was at that point their biggest breakthrough came. Perhaps all those years of perseverance finally paid off. It was the 19th Century’s minister Henry Ward Beecher who once said: “One’s best success comes after their greatest disappointments.” No one knows what the future holds, so your only guide is whether you can endure repeated defeats and disappointments and still pursue your dream. Consider the advice from the American academic and psychologist Angela Duckworth who writes in Grit: The Power of Passion and Perseverance: “Many of us, it seems, quit what we start far too early and far too often. Even more than the effort a gritty person puts in on a single day, what matters is that they wake up the next day, and the next, ready to get on that treadmill and keep going.\n",
      "\n",
      "\n",
      "I know one thing for certain: don’t settle for less than what you’re capable of, but strive for something bigger. Some of you reading this might identify with this message because it resonates with you on a deeper level. For others, at the end of their tether the message might be nothing more than a trivial pep talk. What I wish to convey irrespective of where you are in your journey is: NEVER settle for less. If you settle for less, you will receive less than you deserve and convince yourself you are justified to receive it.\n",
      "\n",
      "\n",
      "“Two people on a precipice over Yosemite Valley” by Nathan Shipps on Unsplash Develop A Powerful Vision Of What You Want “Your problem is to bridge the gap which exists between where you are now and the goal you intend to reach.” — Earl Nightingale I recall a passage my father often used growing up in 1990s: “Don’t tell me your problems unless you’ve spent weeks trying to solve them yourself.” That advice has echoed in my mind for decades and became my motivator. Don’t leave it to other people or outside circumstances to motivate you because you will be let down every time. It must come from within you. Gnaw away at your problems until you solve them or find a solution. Problems are not stop signs, they are advising you that more work is required to overcome them. Most times, problems help you gain a skill or develop the resources to succeed later. So embrace your challenges and develop the grit to push past them instead of retreat in resignation. Where are you settling in your life right now? Could you be you playing for bigger stakes than you are? Are you willing to play bigger even if it means repeated failures and setbacks? You should ask yourself these questions to decide whether you’re willing to put yourself on the line or settle for less. And that’s fine if you’re content to receive less, as long as you’re not regretful later.\n",
      "\n",
      "\n",
      "If you have not achieved the success you deserve and are considering giving up, will you regret it in a few years or decades from now? Only you can answer that, but you should carve out time to discover your motivation for pursuing your goals. It’s a fact, if you don’t know what you want you’ll get what life hands you and it may not be in your best interest, affirms author Larry Weidel: “Winners know that if you don’t figure out what you want, you’ll get whatever life hands you.” The key is to develop a powerful vision of what you want and hold that image in your mind. Nurture it daily and give it life by taking purposeful action towards it.\n",
      "\n",
      "\n",
      "Vision + desire + dedication + patience + daily action leads to astonishing success. Are you willing to commit to this way of life or jump ship at the first sign of failure? I’m amused when I read questions written by millennials on Quora who ask how they can become rich and famous or the next Elon Musk. Success is a fickle and long game with highs and lows. Similarly, there are no assurances even if you’re an overnight sensation, to sustain it for long, particularly if you don’t have the mental and emotional means to endure it. This means you must rely on the one true constant in your favour: your personal development. The more you grow, the more you gain in terms of financial resources, status, success — simple. If you leave it to outside conditions to dictate your circumstances, you are rolling the dice on your future.\n",
      "\n",
      "\n",
      "So become intentional on what you want out of life. Commit to it. Nurture your dreams. Focus on your development and if you want to give up, know what’s involved before you take the plunge. Because I assure you, someone out there right now is working harder than you, reading more books, sleeping less and sacrificing all they have to realise their dreams and it may contest with yours. Don’t leave your dreams to chance.\n",
      "\n"
     ]
    }
   ],
   "source": [
    "text_corpus = '\\n\\n'.join(text_corpus)\n",
    "print(text_corpus)"
   ]
  },
  {
   "cell_type": "markdown",
   "metadata": {},
   "source": [
    "## Calculate Frequency of Words"
   ]
  },
  {
   "cell_type": "code",
   "execution_count": 7,
   "metadata": {
    "collapsed": true
   },
   "outputs": [],
   "source": [
    "def create_frequency_table(text):\n",
    "    \n",
    "    stop_words = set(stopwords.words('english'))\n",
    "    words = word_tokenize(text_corpus)\n",
    "    ps = PorterStemmer()\n",
    "    \n",
    "    frequency_table = dict()\n",
    "    for word in words:\n",
    "        word = ps.stem(word)\n",
    "        \n",
    "        # filter stop words and non-alphanumeric\n",
    "        if word not in stop_words and re.match('^\\w+$', word):\n",
    "            if word in frequency_table:\n",
    "                frequency_table[word] += 1\n",
    "            else:\n",
    "                frequency_table[word] = 1\n",
    "    \n",
    "    all_word = []\n",
    "    all_freq = []\n",
    "    for word in frequency_table:\n",
    "        all_word.append(word)\n",
    "        all_freq.append(frequency_table[word])    \n",
    "\n",
    "    frequency_table = pd.DataFrame(data={'Words': all_word, 'Frequency': all_freq})\n",
    "    frequency_table.index += 1 \n",
    "    \n",
    "    return frequency_table"
   ]
  },
  {
   "cell_type": "code",
   "execution_count": 8,
   "metadata": {},
   "outputs": [
    {
     "data": {
      "text/html": [
       "<div>\n",
       "<style>\n",
       "    .dataframe thead tr:only-child th {\n",
       "        text-align: right;\n",
       "    }\n",
       "\n",
       "    .dataframe thead th {\n",
       "        text-align: left;\n",
       "    }\n",
       "\n",
       "    .dataframe tbody tr th {\n",
       "        vertical-align: top;\n",
       "    }\n",
       "</style>\n",
       "<table border=\"1\" class=\"dataframe\">\n",
       "  <thead>\n",
       "    <tr style=\"text-align: right;\">\n",
       "      <th></th>\n",
       "      <th>Frequency</th>\n",
       "      <th>Words</th>\n",
       "    </tr>\n",
       "  </thead>\n",
       "  <tbody>\n",
       "    <tr>\n",
       "      <th>1</th>\n",
       "      <td>2</td>\n",
       "      <td>resili</td>\n",
       "    </tr>\n",
       "    <tr>\n",
       "      <th>2</th>\n",
       "      <td>2</td>\n",
       "      <td>stay</td>\n",
       "    </tr>\n",
       "    <tr>\n",
       "      <th>3</th>\n",
       "      <td>1</td>\n",
       "      <td>In</td>\n",
       "    </tr>\n",
       "    <tr>\n",
       "      <th>4</th>\n",
       "      <td>3</td>\n",
       "      <td>game</td>\n",
       "    </tr>\n",
       "    <tr>\n",
       "      <th>5</th>\n",
       "      <td>2</td>\n",
       "      <td>longer</td>\n",
       "    </tr>\n",
       "  </tbody>\n",
       "</table>\n",
       "</div>"
      ],
      "text/plain": [
       "   Frequency   Words\n",
       "1          2  resili\n",
       "2          2    stay\n",
       "3          1      In\n",
       "4          3    game\n",
       "5          2  longer"
      ]
     },
     "execution_count": 8,
     "metadata": {},
     "output_type": "execute_result"
    }
   ],
   "source": [
    "frequency_table = create_frequency_table(text_corpus)\n",
    "frequency_table.head()"
   ]
  },
  {
   "cell_type": "markdown",
   "metadata": {},
   "source": [
    "## Tokenize The Sentences"
   ]
  },
  {
   "cell_type": "code",
   "execution_count": 9,
   "metadata": {
    "scrolled": true
   },
   "outputs": [
    {
     "name": "stdout",
     "output_type": "stream",
     "text": [
      "Those Who Are Resilient Stay In The Game Longer “On the mountains of truth you can never climb in vain: either you will reach a point higher up today, or you will be training your powers so that you will be able to climb higher tomorrow.” — Friedrich Nietzsche Challenges and setbacks are not meant to defeat you, but promote you.\n"
     ]
    }
   ],
   "source": [
    "sentences = sent_tokenize(text_corpus)\n",
    "print(sentences[0])"
   ]
  },
  {
   "cell_type": "markdown",
   "metadata": {},
   "source": [
    "## Score The Sentences Using Term Frequency"
   ]
  },
  {
   "cell_type": "code",
   "execution_count": 10,
   "metadata": {
    "collapsed": true
   },
   "outputs": [],
   "source": [
    "def score_sentences(sentences, frequency_table):\n",
    "    \n",
    "    sentences_with_score = dict()\n",
    "    \n",
    "    for sentence in sentences:\n",
    "        \n",
    "        word_count_in_sentence = (len(word_tokenize(sentence)))\n",
    "        \n",
    "        for word in frequency_table['Words']:    \n",
    "            if word in sentence.lower():\n",
    "                \n",
    "                word_frequency = frequency_table['Frequency'][frequency_table['Words'] == word].item()\n",
    "                \n",
    "                if sentence in sentences_with_score:\n",
    "                    sentences_with_score[sentence] += word_frequency\n",
    "                else:\n",
    "                    sentences_with_score[sentence] = word_frequency\n",
    "        \n",
    "        # normalizing score by dividing with each sentence length\n",
    "        sentences_with_score[sentence] = sentences_with_score[sentence] / word_count_in_sentence\n",
    "        \n",
    "    return sentences_with_score"
   ]
  },
  {
   "cell_type": "code",
   "execution_count": 11,
   "metadata": {
    "collapsed": true
   },
   "outputs": [],
   "source": [
    "sentences_with_score = score_sentences(sentences, frequency_table)"
   ]
  },
  {
   "cell_type": "code",
   "execution_count": 12,
   "metadata": {},
   "outputs": [
    {
     "name": "stdout",
     "output_type": "stream",
     "text": [
      "Sentence: It’s a fact, if you don’t know what you want you’ll get what life hands you and it may not be in your best interest, affirms author Larry Weidel: “Winners know that if you don’t figure out what you want, you’ll get whatever life hands you.” The key is to develop a powerful vision of what you want and hold that image in your mind.\n",
      "Score: 0.7195121951219512\n"
     ]
    }
   ],
   "source": [
    "sentence, score = random.choice(list(sentences_with_score.items()))\n",
    "print('Sentence:', sentence)\n",
    "print('Score:', score)"
   ]
  },
  {
   "cell_type": "markdown",
   "metadata": {},
   "source": [
    "## Get Threshold"
   ]
  },
  {
   "cell_type": "code",
   "execution_count": 13,
   "metadata": {
    "collapsed": true
   },
   "outputs": [],
   "source": [
    "def get_threshold_by_average_score(sentences):\n",
    "    \n",
    "    sum_scores = 0\n",
    "    for _, score in sentences.items():\n",
    "        sum_scores += score\n",
    "        \n",
    "    # calculating average value of a sentence from original text\n",
    "    average = round(sum_scores / len(sentences), 2)\n",
    "    return average"
   ]
  },
  {
   "cell_type": "code",
   "execution_count": 14,
   "metadata": {},
   "outputs": [
    {
     "name": "stdout",
     "output_type": "stream",
     "text": [
      "Threshold Score: 1.13\n"
     ]
    }
   ],
   "source": [
    "threshold = get_threshold_by_average_score(sentences_with_score)\n",
    "print('Threshold Score:', threshold)"
   ]
  },
  {
   "cell_type": "markdown",
   "metadata": {},
   "source": [
    "## Get Final Summary"
   ]
  },
  {
   "cell_type": "code",
   "execution_count": 15,
   "metadata": {
    "collapsed": true
   },
   "outputs": [],
   "source": [
    "def generate_summary(sentences, threshold):\n",
    "    \n",
    "    sentence_count = 0\n",
    "    text_summary = ''\n",
    "    \n",
    "    for sentence, score in sentences.items():\n",
    "        if score > (threshold):\n",
    "            text_summary += ' ' + sentence.strip()\n",
    "        sentence_count += 1\n",
    "    \n",
    "    return text_summary, sentence_count"
   ]
  },
  {
   "cell_type": "code",
   "execution_count": 16,
   "metadata": {
    "collapsed": true,
    "scrolled": true
   },
   "outputs": [],
   "source": [
    "text_summary, sentence_count = generate_summary(sentences_with_score, threshold)"
   ]
  },
  {
   "cell_type": "code",
   "execution_count": 17,
   "metadata": {},
   "outputs": [
    {
     "name": "stdout",
     "output_type": "stream",
     "text": [
      "AWESOME, NEAT & CONCISE TEXT SUMMARY (53 SENTENCES):\n",
      "\n",
      "Have you experienced this before? However, it’s important not to be discouraged by failure when pursuing a goal or a dream, since failure itself means different things to different people. Same failure, yet different responses. Each person has a different mindset that decides their outcome. Those who are resilient stay in the game longer and draw on their inner means to succeed. I’ve coached many clients who gave up after many years toiling away at their respective goal or dream. I know one thing for certain: don’t settle for less than what you’re capable of, but strive for something bigger. It must come from within you. Gnaw away at your problems until you solve them or find a solution. Most times, problems help you gain a skill or develop the resources to succeed later. So embrace your challenges and develop the grit to push past them instead of retreat in resignation. Where are you settling in your life right now? Are you willing to play bigger even if it means repeated failures and setbacks? Nurture it daily and give it life by taking purposeful action towards it. Are you willing to commit to this way of life or jump ship at the first sign of failure? Success is a fickle and long game with highs and lows. This means you must rely on the one true constant in your favour: your personal development. So become intentional on what you want out of life. Nurture your dreams. Focus on your development and if you want to give up, know what’s involved before you take the plunge. Because I assure you, someone out there right now is working harder than you, reading more books, sleeping less and sacrificing all they have to realise their dreams and it may contest with yours. Don’t leave your dreams to chance.\n"
     ]
    }
   ],
   "source": [
    "print(f'AWESOME, NEAT & CONCISE TEXT SUMMARY ({sentence_count} SENTENCES):\\n')\n",
    "print(text_summary.strip())"
   ]
  },
  {
   "cell_type": "markdown",
   "metadata": {},
   "source": [
    "---"
   ]
  }
 ],
 "metadata": {
  "kernelspec": {
   "display_name": "Python 3",
   "language": "python",
   "name": "python3"
  },
  "language_info": {
   "codemirror_mode": {
    "name": "ipython",
    "version": 3
   },
   "file_extension": ".py",
   "mimetype": "text/x-python",
   "name": "python",
   "nbconvert_exporter": "python",
   "pygments_lexer": "ipython3",
   "version": "3.6.3"
  }
 },
 "nbformat": 4,
 "nbformat_minor": 2
}
