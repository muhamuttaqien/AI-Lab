{
 "cells": [
  {
   "cell_type": "code",
   "execution_count": 1,
   "metadata": {
    "collapsed": true
   },
   "outputs": [],
   "source": [
    "import numpy as np\n",
    "from utils import plot_values\n",
    "from gridworld import GridworldEnv"
   ]
  },
  {
   "cell_type": "code",
   "execution_count": 18,
   "metadata": {
    "collapsed": true
   },
   "outputs": [],
   "source": [
    "# init the environment\n",
    "env = GridworldEnv(shape=[8,8])"
   ]
  },
  {
   "cell_type": "code",
   "execution_count": 19,
   "metadata": {},
   "outputs": [
    {
     "name": "stdout",
     "output_type": "stream",
     "text": [
      "Number of states in the environment: 64\n",
      "Number of actions in the environment: 4\n",
      "\n",
      "Env:\n",
      "T  o  o  o  o  o  o  o\n",
      "o  o  o  o  o  o  o  x\n",
      "o  o  o  o  o  o  o  o\n",
      "o  o  o  o  o  o  o  o\n",
      "o  o  o  o  o  o  o  o\n",
      "o  o  o  o  o  o  o  o\n",
      "o  o  o  o  o  o  o  o\n",
      "o  o  o  o  o  o  o  T\n"
     ]
    }
   ],
   "source": [
    "# check number of states and actions\n",
    "print('Number of states in the environment:', env.nS)\n",
    "print('Number of actions in the environment:', env.nA)\n",
    "\n",
    "print('\\nEnv:')\n",
    "env._render(mode='human', close=False)"
   ]
  },
  {
   "cell_type": "code",
   "execution_count": 20,
   "metadata": {
    "collapsed": true
   },
   "outputs": [],
   "source": [
    "def eval_policy(policy, env, discount_factor=1.0, epsilon=1e-5):\n",
    "    \n",
    "    # start with a random (all 0) value function\n",
    "    V_old = np.zeros(env.nS)\n",
    "    \n",
    "    while True:\n",
    "        \n",
    "        # init new value function which is initially zeros\n",
    "        V_new = np.zeros(env.nS)\n",
    "        \n",
    "        # stop condition\n",
    "        delta = 0\n",
    "        \n",
    "        # loop over state space:\n",
    "        for s in range(env.nS):\n",
    "            \n",
    "            # to accumulate Bellman expectation equation\n",
    "            v_fn = 0\n",
    "            \n",
    "            # get probability distribution over actions\n",
    "            action_probs = policy[s]\n",
    "            \n",
    "            # loop over possible actions\n",
    "            for a in range(env.nA):\n",
    "                \n",
    "                # get transitions\n",
    "                [(prob, next_state, reward, done)]  = env.P[s][a]\n",
    "                \n",
    "                # apply iterative update to every single state using Bellman expectation equation\n",
    "                v_fn += action_probs[a] * (reward + discount_factor * V_old[next_state])\n",
    "            \n",
    "            # get the biggest difference over state space\n",
    "            delta = max(delta, abs(v_fn - V_old[s]))\n",
    "            \n",
    "            # update state-value\n",
    "            V_new[s] = v_fn\n",
    "            \n",
    "        # set the new value function\n",
    "        V_old = V_new\n",
    "        \n",
    "        # if true value function\n",
    "        if (delta < epsilon): break\n",
    "            \n",
    "    return np.array(V_old)"
   ]
  },
  {
   "cell_type": "code",
   "execution_count": 21,
   "metadata": {
    "collapsed": true
   },
   "outputs": [],
   "source": [
    "def improve_policy(env, discount_factor=1.0, policy_eval_fn=eval_policy):\n",
    "    \"\"\"\n",
    "    Policy Improvement Algorithm. Iteratively evaluates and improves a policy\n",
    "    until an optimal policy is found.\n",
    "    \n",
    "    Args:\n",
    "        env: The OpenAI envrionment.\n",
    "        policy_eval_fn: Policy Evaluation function that takes 3 arguments:\n",
    "            policy, env, discount_factor.\n",
    "        discount_factor: gamma discount factor.\n",
    "        \n",
    "    Returns:\n",
    "        A tuple (policy, V). \n",
    "        policy is the optimal policy, a matrix of shape [S, A] where each state s\n",
    "        contains a valid probability distribution over actions.\n",
    "        V is the value function for the optimal policy.\n",
    "       \n",
    "    \"\"\"\n",
    "    \n",
    "    def one_step_lookahed(s, value_fn):\n",
    "        \n",
    "        actions = np.zeros(env.nA)\n",
    "        \n",
    "        for a in range(env.nA):\n",
    "            \n",
    "            [(prob, next_state, reward, done)] = env.P[s][a]\n",
    "            actions[a] = prob * (reward + discount_factor * value_fn[next_state])\n",
    "            \n",
    "        return actions\n",
    "    \n",
    "    # start with a random policy\n",
    "    policy = np.ones([env.nS, env.nA]) / env.nA\n",
    "    actions_values = np.zeros(env.nA)\n",
    "    \n",
    "    # calculate iteration needed to find the optimal policy\n",
    "    iteration = 0\n",
    "    \n",
    "    while True:\n",
    "        \n",
    "        # evaluate the current policy\n",
    "        value_fn = policy_eval_fn(policy, env)\n",
    "        \n",
    "        policy_stable = True\n",
    "        \n",
    "        # loop over state space\n",
    "        for s in range(env.nS):\n",
    "            \n",
    "            # perform one step lookahead\n",
    "            actions_values = one_step_lookahed(s, value_fn)\n",
    "            \n",
    "            # maximize over possible actions\n",
    "            best_action = np.argmax(actions_values)\n",
    "            \n",
    "            # best action on current policy\n",
    "            chosen_action = np.argmax(policy[s])\n",
    "            \n",
    "            # if Bellman optimality equation not satisfied\n",
    "            if (best_action != chosen_action):\n",
    "                policy_stable = False\n",
    "                \n",
    "            # the new policy after acting greedily w.r.t value function\n",
    "            policy[s] = np.eye(env.nA)[best_action]\n",
    "            \n",
    "        iteration+=1\n",
    "            \n",
    "        # if Bellman optimality equation is satisfied\n",
    "        if (policy_stable):\n",
    "            return policy, value_fn, iteration"
   ]
  },
  {
   "cell_type": "code",
   "execution_count": 22,
   "metadata": {},
   "outputs": [
    {
     "name": "stdout",
     "output_type": "stream",
     "text": [
      "Policy Probability Distribution (after iteration 3):\n",
      "[[1. 0. 0. 0.]\n",
      " [0. 0. 0. 1.]\n",
      " [0. 0. 0. 1.]\n",
      " [0. 0. 0. 1.]\n",
      " [0. 0. 0. 1.]\n",
      " [0. 0. 0. 1.]\n",
      " [0. 0. 0. 1.]\n",
      " [0. 0. 1. 0.]\n",
      " [1. 0. 0. 0.]\n",
      " [1. 0. 0. 0.]\n",
      " [1. 0. 0. 0.]\n",
      " [1. 0. 0. 0.]\n",
      " [1. 0. 0. 0.]\n",
      " [1. 0. 0. 0.]\n",
      " [1. 0. 0. 0.]\n",
      " [0. 0. 1. 0.]\n",
      " [1. 0. 0. 0.]\n",
      " [1. 0. 0. 0.]\n",
      " [1. 0. 0. 0.]\n",
      " [1. 0. 0. 0.]\n",
      " [1. 0. 0. 0.]\n",
      " [1. 0. 0. 0.]\n",
      " [0. 1. 0. 0.]\n",
      " [0. 0. 1. 0.]\n",
      " [1. 0. 0. 0.]\n",
      " [1. 0. 0. 0.]\n",
      " [1. 0. 0. 0.]\n",
      " [1. 0. 0. 0.]\n",
      " [1. 0. 0. 0.]\n",
      " [0. 1. 0. 0.]\n",
      " [0. 1. 0. 0.]\n",
      " [0. 0. 1. 0.]\n",
      " [1. 0. 0. 0.]\n",
      " [1. 0. 0. 0.]\n",
      " [1. 0. 0. 0.]\n",
      " [1. 0. 0. 0.]\n",
      " [0. 1. 0. 0.]\n",
      " [0. 1. 0. 0.]\n",
      " [0. 1. 0. 0.]\n",
      " [0. 0. 1. 0.]\n",
      " [1. 0. 0. 0.]\n",
      " [1. 0. 0. 0.]\n",
      " [1. 0. 0. 0.]\n",
      " [0. 1. 0. 0.]\n",
      " [0. 1. 0. 0.]\n",
      " [0. 1. 0. 0.]\n",
      " [0. 1. 0. 0.]\n",
      " [0. 0. 1. 0.]\n",
      " [1. 0. 0. 0.]\n",
      " [1. 0. 0. 0.]\n",
      " [0. 1. 0. 0.]\n",
      " [0. 1. 0. 0.]\n",
      " [0. 1. 0. 0.]\n",
      " [0. 1. 0. 0.]\n",
      " [0. 1. 0. 0.]\n",
      " [0. 0. 1. 0.]\n",
      " [1. 0. 0. 0.]\n",
      " [0. 1. 0. 0.]\n",
      " [0. 1. 0. 0.]\n",
      " [0. 1. 0. 0.]\n",
      " [0. 1. 0. 0.]\n",
      " [0. 1. 0. 0.]\n",
      " [0. 1. 0. 0.]\n",
      " [1. 0. 0. 0.]]\n"
     ]
    }
   ],
   "source": [
    "policy, v, iteration = improve_policy(env)\n",
    "print(f'Policy Probability Distribution (after iteration {iteration}):')\n",
    "print(policy)"
   ]
  },
  {
   "cell_type": "code",
   "execution_count": 23,
   "metadata": {},
   "outputs": [
    {
     "name": "stdout",
     "output_type": "stream",
     "text": [
      "Reshaped Grid Policy (0=up, 1=right, 2=down, 3=left):\n"
     ]
    },
    {
     "data": {
      "image/png": "[encoded data removed]",
      "text/plain": [
       "<matplotlib.figure.Figure at 0x1a1697a588>"
      ]
     },
     "metadata": {},
     "output_type": "display_data"
    }
   ],
   "source": [
    "print('Reshaped Grid Policy (0=up, 1=right, 2=down, 3=left):')\n",
    "plot_values(np.reshape(np.argmax(policy, axis=1), env.shape), name='Policy', shape=(8,8))"
   ]
  },
  {
   "cell_type": "code",
   "execution_count": 24,
   "metadata": {},
   "outputs": [
    {
     "name": "stdout",
     "output_type": "stream",
     "text": [
      "Value Function:\n",
      "[ 0. -1. -2. -3. -4. -5. -6. -7. -1. -2. -3. -4. -5. -6. -7. -6. -2. -3.\n",
      " -4. -5. -6. -7. -6. -5. -3. -4. -5. -6. -7. -6. -5. -4. -4. -5. -6. -7.\n",
      " -6. -5. -4. -3. -5. -6. -7. -6. -5. -4. -3. -2. -6. -7. -6. -5. -4. -3.\n",
      " -2. -1. -7. -6. -5. -4. -3. -2. -1.  0.]\n"
     ]
    }
   ],
   "source": [
    "print('Value Function:')\n",
    "print(v)"
   ]
  },
  {
   "cell_type": "code",
   "execution_count": 25,
   "metadata": {},
   "outputs": [
    {
     "name": "stdout",
     "output_type": "stream",
     "text": [
      "Reshaped Grid State-Value Function:\n"
     ]
    },
    {
     "data": {
      "image/png": "[encoded data removed]",
      "text/plain": [
       "<matplotlib.figure.Figure at 0x1a16970470>"
      ]
     },
     "metadata": {},
     "output_type": "display_data"
    }
   ],
   "source": [
    "print('Reshaped Grid State-Value Function:')\n",
    "plot_values(v.reshape(env.shape), name='State-Value', shape=(8,8))"
   ]
  },
  {
   "cell_type": "markdown",
   "metadata": {},
   "source": [
    "---"
   ]
  }
 ],
 "metadata": {
  "kernelspec": {
   "display_name": "Python 3",
   "language": "python",
   "name": "python3"
  },
  "language_info": {
   "codemirror_mode": {
    "name": "ipython",
    "version": 3
   },
   "file_extension": ".py",
   "mimetype": "text/x-python",
   "name": "python",
   "nbconvert_exporter": "python",
   "pygments_lexer": "ipython3",
   "version": "3.6.3"
  }
 },
 "nbformat": 4,
 "nbformat_minor": 2
}
