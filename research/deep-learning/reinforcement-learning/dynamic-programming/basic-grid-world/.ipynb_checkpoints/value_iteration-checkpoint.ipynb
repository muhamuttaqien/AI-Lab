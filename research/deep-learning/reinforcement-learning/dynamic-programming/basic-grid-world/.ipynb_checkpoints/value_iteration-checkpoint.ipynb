{
 "cells": [
  {
   "cell_type": "code",
   "execution_count": 1,
   "metadata": {
    "collapsed": true
   },
   "outputs": [],
   "source": [
    "import numpy as np\n",
    "from utils import plot_values\n",
    "from gridworld import GridworldEnv"
   ]
  },
  {
   "cell_type": "code",
   "execution_count": 2,
   "metadata": {
    "collapsed": true
   },
   "outputs": [],
   "source": [
    "# init the environment\n",
    "env = GridworldEnv(shape=[4,4])"
   ]
  },
  {
   "cell_type": "code",
   "execution_count": 3,
   "metadata": {},
   "outputs": [
    {
     "name": "stdout",
     "output_type": "stream",
     "text": [
      "Number of states in the environment: 16\n",
      "Number of actions in the environment: 4\n",
      "\n",
      "Env:\n",
      "T  o  o  o\n",
      "o  o  o  o\n",
      "o  x  o  o\n",
      "o  o  o  T\n"
     ]
    }
   ],
   "source": [
    "# check number of states and actions\n",
    "print('Number of states in the environment:', env.nS)\n",
    "print('Number of actions in the environment:', env.nA)\n",
    "\n",
    "print('\\nEnv:')\n",
    "env._render(mode='human', close=False)"
   ]
  },
  {
   "cell_type": "code",
   "execution_count": 4,
   "metadata": {
    "collapsed": true
   },
   "outputs": [],
   "source": [
    "def iterate_value(env, threshold=1e-4, discount_factor=1.0):\n",
    "    \"\"\"\n",
    "    Value Iteration Algorithm.\n",
    "    \n",
    "    Args:\n",
    "        env: OpenAI env. env.P represents the transition probabilities of the environment.\n",
    "            env.P[s][a] is a list of transition tuples (prob, next_state, reward, done).\n",
    "            env.nS is a number of states in the environment. \n",
    "            env.nA is a number of actions in the environment.\n",
    "        theta: We stop evaluation once our value function change is less than theta for all states.\n",
    "        discount_factor: Gamma discount factor.\n",
    "        \n",
    "    Returns:\n",
    "        A tuple (policy, V) of the optimal policy and the optimal value function.        \n",
    "    \"\"\"\n",
    "    \n",
    "    def one_step_lookahed(V, a, s):\n",
    "        \n",
    "        [(prob, next_state, reward, done)] = env.P[s][a]\n",
    "        v = prob * (reward + discount_factor * V[next_state])\n",
    "        \n",
    "        return v\n",
    "    \n",
    "    # start with initial value function and initial policy\n",
    "    V = np.zeros(env.nS)\n",
    "    policy = np.zeros([env.nS, env.nA])\n",
    "    \n",
    "    # while not the optimal policy\n",
    "    while True:\n",
    "        \n",
    "        # for stopping condition\n",
    "        delta = 0\n",
    "        \n",
    "        # loop over state space\n",
    "        for s in range(env.nS):\n",
    "            \n",
    "            actions_values = np.zeros(env.nA)\n",
    "            \n",
    "            # loop over possible actions\n",
    "            for a in range(env.nA):\n",
    "                \n",
    "                # apply Bellman expectation equation to get action values\n",
    "                actions_values[a] = one_step_lookahed(V, a, s)\n",
    "                \n",
    "            # pick the best action\n",
    "            best_action_value = max(actions_values)\n",
    "            \n",
    "            # get the biggest difference between best action value and our old value function\n",
    "            delta = max(delta, abs(best_action_value - V[s]))\n",
    "            \n",
    "            # apply Bellman optimality equation\n",
    "            V[s] = best_action_value\n",
    "            \n",
    "            # to update the policy\n",
    "            best_action = np.argmax(actions_values)\n",
    "            \n",
    "            # update the policy\n",
    "            policy[s] = np.eye(env.nA)[best_action]\n",
    "            \n",
    "        # if optimal value function\n",
    "        if (delta < threshold):\n",
    "            break\n",
    "            \n",
    "    return policy, V"
   ]
  },
  {
   "cell_type": "code",
   "execution_count": 5,
   "metadata": {
    "collapsed": true
   },
   "outputs": [],
   "source": [
    "policy, V = iterate_value(env)"
   ]
  },
  {
   "cell_type": "code",
   "execution_count": 6,
   "metadata": {},
   "outputs": [
    {
     "name": "stdout",
     "output_type": "stream",
     "text": [
      "Policy Probability Distribution:\n",
      "[[1. 0. 0. 0.]\n",
      " [0. 0. 0. 1.]\n",
      " [0. 0. 0. 1.]\n",
      " [0. 0. 1. 0.]\n",
      " [1. 0. 0. 0.]\n",
      " [1. 0. 0. 0.]\n",
      " [1. 0. 0. 0.]\n",
      " [0. 0. 1. 0.]\n",
      " [1. 0. 0. 0.]\n",
      " [1. 0. 0. 0.]\n",
      " [0. 1. 0. 0.]\n",
      " [0. 0. 1. 0.]\n",
      " [1. 0. 0. 0.]\n",
      " [0. 1. 0. 0.]\n",
      " [0. 1. 0. 0.]\n",
      " [1. 0. 0. 0.]]\n"
     ]
    }
   ],
   "source": [
    "print('Policy Probability Distribution:')\n",
    "print(policy)"
   ]
  },
  {
   "cell_type": "code",
   "execution_count": 7,
   "metadata": {},
   "outputs": [
    {
     "name": "stdout",
     "output_type": "stream",
     "text": [
      "Reshaped Grid Policy (0=up, 1=right, 2=down, 3=left):\n"
     ]
    },
    {
     "data": {
      "image/png": "[encoded data removed]",
      "text/plain": [
       "<matplotlib.figure.Figure at 0x1142da9b0>"
      ]
     },
     "metadata": {},
     "output_type": "display_data"
    }
   ],
   "source": [
    "print('Reshaped Grid Policy (0=up, 1=right, 2=down, 3=left):')\n",
    "plot_values(np.reshape(np.argmax(policy, axis=1), env.shape), name='Policy', shape=(4,4))"
   ]
  },
  {
   "cell_type": "code",
   "execution_count": 8,
   "metadata": {},
   "outputs": [
    {
     "name": "stdout",
     "output_type": "stream",
     "text": [
      "Value Function:\n",
      "[ 0. -1. -2. -3. -1. -2. -3. -2. -2. -3. -2. -1. -3. -2. -1.  0.]\n"
     ]
    }
   ],
   "source": [
    "print('Value Function:')\n",
    "print(V)"
   ]
  },
  {
   "cell_type": "code",
   "execution_count": 9,
   "metadata": {},
   "outputs": [
    {
     "name": "stdout",
     "output_type": "stream",
     "text": [
      "Reshaped Grid State-Value Function:\n"
     ]
    },
    {
     "data": {
      "image/png": "[encoded data removed]",
      "text/plain": [
       "<matplotlib.figure.Figure at 0x11430ac18>"
      ]
     },
     "metadata": {},
     "output_type": "display_data"
    }
   ],
   "source": [
    "print('Reshaped Grid State-Value Function:')\n",
    "plot_values(V.reshape(env.shape), name='State-Value', shape=(4,4))"
   ]
  },
  {
   "cell_type": "markdown",
   "metadata": {},
   "source": [
    "---"
   ]
  }
 ],
 "metadata": {
  "kernelspec": {
   "display_name": "Python 3",
   "language": "python",
   "name": "python3"
  },
  "language_info": {
   "codemirror_mode": {
    "name": "ipython",
    "version": 3
   },
   "file_extension": ".py",
   "mimetype": "text/x-python",
   "name": "python",
   "nbconvert_exporter": "python",
   "pygments_lexer": "ipython3",
   "version": "3.6.3"
  }
 },
 "nbformat": 4,
 "nbformat_minor": 2
}
