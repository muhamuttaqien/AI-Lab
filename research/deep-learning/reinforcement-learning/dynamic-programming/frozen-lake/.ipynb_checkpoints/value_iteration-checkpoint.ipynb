{
 "cells": [
  {
   "cell_type": "code",
   "execution_count": 1,
   "metadata": {},
   "outputs": [],
   "source": [
    "import numpy as np\n",
    "from utils import plot_values\n",
    "from frozenlake import FrozenLakeEnv"
   ]
  },
  {
   "cell_type": "code",
   "execution_count": 2,
   "metadata": {},
   "outputs": [],
   "source": [
    "# init the environment\n",
    "env = FrozenLakeEnv(map_name=\"4x4\", is_slippery=True)"
   ]
  },
  {
   "cell_type": "code",
   "execution_count": 3,
   "metadata": {},
   "outputs": [
    {
     "name": "stdout",
     "output_type": "stream",
     "text": [
      "State space: 16\n",
      "Action space: 4\n"
     ]
    }
   ],
   "source": [
    "# print the state space and action space\n",
    "# check number of states and actions\n",
    "nb_states = env.observation_space.n\n",
    "nb_actions = env.action_space.n\n",
    "\n",
    "print('State space:', nb_states)\n",
    "print('Action space:', nb_actions)"
   ]
  },
  {
   "cell_type": "code",
   "execution_count": 4,
   "metadata": {},
   "outputs": [],
   "source": [
    "def iterate_value(env, nb_iterations, discount_factor=1.0, threshold=1e-30):\n",
    "    \n",
    "    # initialize value table randomly\n",
    "    value_table = np.zeros((nb_states, 1))\n",
    "\n",
    "    for i in range(nb_iterations):\n",
    "        \n",
    "        new_value_table = np.copy(value_table)\n",
    "        for state in range(nb_states):\n",
    "            \n",
    "            q_value = []\n",
    "            for action in range(nb_actions):\n",
    "                \n",
    "                next_state_reward = []\n",
    "                for next_state_parameters in env.P[state][action]:\n",
    "                    \n",
    "                    transition_prob, next_state, reward_prob, _ = next_state_parameters\n",
    "                    # apply Bellman equation\n",
    "                    reward = transition_prob * (reward_prob + discount_factor * new_value_table[next_state])\n",
    "                    \n",
    "                    next_state_reward.append(reward)\n",
    "                    \n",
    "                q_value.append((np.sum(next_state_reward)))\n",
    "                \n",
    "            value_table[state] = max(q_value)\n",
    "            \n",
    "        if (np.sum(np.fabs(new_value_table - value_table)) <= threshold): break\n",
    "            \n",
    "    return value_table"
   ]
  },
  {
   "cell_type": "code",
   "execution_count": 5,
   "metadata": {},
   "outputs": [],
   "source": [
    "def extract_policy(value_table, discount_factor=1.0):\n",
    "    \n",
    "    # initialize policy randomly\n",
    "    policy = np.zeros(env.observation_space.n)\n",
    "    for state in range(env.observation_space.n):\n",
    "        \n",
    "        Q_table = np.zeros(env.action_space.n)\n",
    "        for action in range(env.action_space.n):\n",
    "            \n",
    "            for next_state_parameters in env.P[state][action]:\n",
    "                transition_prob, next_state, reward_prob, _ = next_state_parameters\n",
    "                # apply Bellman equation\n",
    "                Q_table[action] += (transition_prob * (reward_prob + discount_factor * value_table[next_state]))\n",
    "        \n",
    "        policy[state] = np.argmax(Q_table)\n",
    "        \n",
    "    return policy"
   ]
  },
  {
   "cell_type": "code",
   "execution_count": 6,
   "metadata": {},
   "outputs": [],
   "source": [
    "NB_ITERATIONS = 10000"
   ]
  },
  {
   "cell_type": "code",
   "execution_count": 7,
   "metadata": {},
   "outputs": [],
   "source": [
    "value_table = iterate_value(env, NB_ITERATIONS)\n",
    "policy = extract_policy(value_table)"
   ]
  },
  {
   "cell_type": "code",
   "execution_count": 8,
   "metadata": {},
   "outputs": [
    {
     "name": "stdout",
     "output_type": "stream",
     "text": [
      "Environment Display:\n",
      "\n",
      "\u001b[41mS\u001b[0mFFF\n",
      "FHFH\n",
      "FFFH\n",
      "HFFG\n"
     ]
    }
   ],
   "source": [
    "print('Environment Display:')\n",
    "env.render()"
   ]
  },
  {
   "cell_type": "code",
   "execution_count": 10,
   "metadata": {},
   "outputs": [
    {
     "name": "stdout",
     "output_type": "stream",
     "text": [
      "Reshaped Grid Policy (0=up, 1=right, 2=down, 3=left):\n"
     ]
    },
    {
     "data": {
      "image/png": "[encoded data removed]",
      "text/plain": [
       "<Figure size 432x432 with 1 Axes>"
      ]
     },
     "metadata": {},
     "output_type": "display_data"
    }
   ],
   "source": [
    "print('Reshaped Grid Policy (0=up, 1=right, 2=down, 3=left):')\n",
    "plot_values(np.reshape(policy, (env.action_space.n, -1)), name='Policy', shape=(4,4))"
   ]
  },
  {
   "cell_type": "markdown",
   "metadata": {},
   "source": [
    "---"
   ]
  }
 ],
 "metadata": {
  "kernelspec": {
   "display_name": "Python 3",
   "language": "python",
   "name": "python3"
  },
  "language_info": {
   "codemirror_mode": {
    "name": "ipython",
    "version": 3
   },
   "file_extension": ".py",
   "mimetype": "text/x-python",
   "name": "python",
   "nbconvert_exporter": "python",
   "pygments_lexer": "ipython3",
   "version": "3.7.3"
  }
 },
 "nbformat": 4,
 "nbformat_minor": 2
}
