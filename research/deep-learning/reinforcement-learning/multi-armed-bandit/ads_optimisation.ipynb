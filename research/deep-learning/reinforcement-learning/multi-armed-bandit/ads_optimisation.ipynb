{
 "cells": [
  {
   "cell_type": "markdown",
   "metadata": {},
   "source": [
    "# Multi Armed Bandit Problem Using UCB Method"
   ]
  },
  {
   "cell_type": "code",
   "execution_count": 1,
   "metadata": {
    "collapsed": true
   },
   "outputs": [],
   "source": [
    "import numpy as np\n",
    "import pandas as pd\n",
    "import matplotlib.pyplot as plt\n",
    "\n",
    "import math\n",
    "import random; random.seed(90)"
   ]
  },
  {
   "cell_type": "markdown",
   "metadata": {},
   "source": [
    "## Import Datasets"
   ]
  },
  {
   "cell_type": "code",
   "execution_count": 2,
   "metadata": {},
   "outputs": [
    {
     "data": {
      "text/html": [
       "<div>\n",
       "<style>\n",
       "    .dataframe thead tr:only-child th {\n",
       "        text-align: right;\n",
       "    }\n",
       "\n",
       "    .dataframe thead th {\n",
       "        text-align: left;\n",
       "    }\n",
       "\n",
       "    .dataframe tbody tr th {\n",
       "        vertical-align: top;\n",
       "    }\n",
       "</style>\n",
       "<table border=\"1\" class=\"dataframe\">\n",
       "  <thead>\n",
       "    <tr style=\"text-align: right;\">\n",
       "      <th></th>\n",
       "      <th>Ad 1</th>\n",
       "      <th>Ad 2</th>\n",
       "      <th>Ad 3</th>\n",
       "      <th>Ad 4</th>\n",
       "      <th>Ad 5</th>\n",
       "      <th>Ad 6</th>\n",
       "      <th>Ad 7</th>\n",
       "      <th>Ad 8</th>\n",
       "      <th>Ad 9</th>\n",
       "      <th>Ad 10</th>\n",
       "    </tr>\n",
       "  </thead>\n",
       "  <tbody>\n",
       "    <tr>\n",
       "      <th>0</th>\n",
       "      <td>1</td>\n",
       "      <td>0</td>\n",
       "      <td>0</td>\n",
       "      <td>0</td>\n",
       "      <td>1</td>\n",
       "      <td>0</td>\n",
       "      <td>0</td>\n",
       "      <td>0</td>\n",
       "      <td>1</td>\n",
       "      <td>0</td>\n",
       "    </tr>\n",
       "    <tr>\n",
       "      <th>1</th>\n",
       "      <td>0</td>\n",
       "      <td>0</td>\n",
       "      <td>0</td>\n",
       "      <td>0</td>\n",
       "      <td>0</td>\n",
       "      <td>0</td>\n",
       "      <td>0</td>\n",
       "      <td>0</td>\n",
       "      <td>1</td>\n",
       "      <td>0</td>\n",
       "    </tr>\n",
       "    <tr>\n",
       "      <th>2</th>\n",
       "      <td>0</td>\n",
       "      <td>0</td>\n",
       "      <td>0</td>\n",
       "      <td>0</td>\n",
       "      <td>0</td>\n",
       "      <td>0</td>\n",
       "      <td>0</td>\n",
       "      <td>0</td>\n",
       "      <td>0</td>\n",
       "      <td>0</td>\n",
       "    </tr>\n",
       "    <tr>\n",
       "      <th>3</th>\n",
       "      <td>0</td>\n",
       "      <td>1</td>\n",
       "      <td>0</td>\n",
       "      <td>0</td>\n",
       "      <td>0</td>\n",
       "      <td>0</td>\n",
       "      <td>0</td>\n",
       "      <td>1</td>\n",
       "      <td>0</td>\n",
       "      <td>0</td>\n",
       "    </tr>\n",
       "    <tr>\n",
       "      <th>4</th>\n",
       "      <td>0</td>\n",
       "      <td>0</td>\n",
       "      <td>0</td>\n",
       "      <td>0</td>\n",
       "      <td>0</td>\n",
       "      <td>0</td>\n",
       "      <td>0</td>\n",
       "      <td>0</td>\n",
       "      <td>0</td>\n",
       "      <td>0</td>\n",
       "    </tr>\n",
       "  </tbody>\n",
       "</table>\n",
       "</div>"
      ],
      "text/plain": [
       "   Ad 1  Ad 2  Ad 3  Ad 4  Ad 5  Ad 6  Ad 7  Ad 8  Ad 9  Ad 10\n",
       "0     1     0     0     0     1     0     0     0     1      0\n",
       "1     0     0     0     0     0     0     0     0     1      0\n",
       "2     0     0     0     0     0     0     0     0     0      0\n",
       "3     0     1     0     0     0     0     0     1     0      0\n",
       "4     0     0     0     0     0     0     0     0     0      0"
      ]
     },
     "execution_count": 2,
     "metadata": {},
     "output_type": "execute_result"
    }
   ],
   "source": [
    "datasets = pd.read_csv('./data/ads_clicks.csv')\n",
    "datasets.head()"
   ]
  },
  {
   "cell_type": "code",
   "execution_count": 3,
   "metadata": {},
   "outputs": [
    {
     "name": "stdout",
     "output_type": "stream",
     "text": [
      "Click rates of Ad 1: 0.1703\n",
      "Click rates of Ad 2: 0.1295\n",
      "Click rates of Ad 3: 0.0728\n",
      "Click rates of Ad 4: 0.1196\n",
      "Click rates of Ad 5: 0.2695 (The Best One!)\n",
      "Click rates of Ad 6: 0.0126\n",
      "Click rates of Ad 7: 0.1112\n",
      "Click rates of Ad 8: 0.2091\n",
      "Click rates of Ad 9: 0.0952\n",
      "Click rates of Ad 10: 0.0489\n"
     ]
    }
   ],
   "source": [
    "ad1_rates = datasets['Ad 1'].sum() / len(datasets['Ad 1']); print(f'Click rates of Ad 1: {ad1_rates:.4f}')\n",
    "ad2_rates = datasets['Ad 2'].sum() / len(datasets['Ad 2']); print(f'Click rates of Ad 2: {ad2_rates:.4f}')\n",
    "ad3_rates = datasets['Ad 3'].sum() / len(datasets['Ad 3']); print(f'Click rates of Ad 3: {ad3_rates:.4f}')\n",
    "ad4_rates = datasets['Ad 4'].sum() / len(datasets['Ad 4']); print(f'Click rates of Ad 4: {ad4_rates:.4f}')\n",
    "ad5_rates = datasets['Ad 5'].sum() / len(datasets['Ad 5']); print(f'Click rates of Ad 5: {ad5_rates:.4f} (The Best One!)')\n",
    "ad6_rates = datasets['Ad 6'].sum() / len(datasets['Ad 6']); print(f'Click rates of Ad 6: {ad6_rates:.4f}')\n",
    "ad7_rates = datasets['Ad 7'].sum() / len(datasets['Ad 7']); print(f'Click rates of Ad 7: {ad7_rates:.4f}')\n",
    "ad8_rates = datasets['Ad 8'].sum() / len(datasets['Ad 8']); print(f'Click rates of Ad 8: {ad8_rates:.4f}')\n",
    "ad9_rates = datasets['Ad 9'].sum() / len(datasets['Ad 9']); print(f'Click rates of Ad 9: {ad9_rates:.4f}')\n",
    "ad10_rates = datasets['Ad 10'].sum() / len(datasets['Ad 10']); print(f'Click rates of Ad 10: {ad10_rates:.4f}')"
   ]
  },
  {
   "cell_type": "markdown",
   "metadata": {},
   "source": [
    "## Random Selection Method"
   ]
  },
  {
   "cell_type": "code",
   "execution_count": 4,
   "metadata": {
    "collapsed": true
   },
   "outputs": [],
   "source": [
    "N = len(datasets) # 10000\n",
    "total_ads = len(datasets.columns) # 10\n",
    "ads_selected = []\n",
    "total_rewards = 0"
   ]
  },
  {
   "cell_type": "code",
   "execution_count": 5,
   "metadata": {
    "collapsed": true
   },
   "outputs": [],
   "source": [
    "for n in range(0, N):\n",
    "    ad = random.randrange(total_ads)\n",
    "    ads_selected.append(ad)\n",
    "    reward = datasets.values[n, ad]\n",
    "    total_rewards = total_rewards + reward"
   ]
  },
  {
   "cell_type": "code",
   "execution_count": 6,
   "metadata": {},
   "outputs": [
    {
     "name": "stdout",
     "output_type": "stream",
     "text": [
      "Total rewards achieved by 10000 random selections: 1268\n"
     ]
    }
   ],
   "source": [
    "print(f'Total rewards achieved by {N} random selections: {total_rewards}')"
   ]
  },
  {
   "cell_type": "code",
   "execution_count": 7,
   "metadata": {},
   "outputs": [
    {
     "name": "stdout",
     "output_type": "stream",
     "text": [
      "The policy of the most displayed ad is: (2, 6, 1) (Wrong!)\n"
     ]
    }
   ],
   "source": [
    "optimal_policy = pd.Series(ads_selected).value_counts(normalize=True).sort_values(ascending=False)\n",
    "optimal_policy.index += 1 \n",
    "\n",
    "print(f'The policy of the most displayed ad is: {optimal_policy.index[0], optimal_policy.index[1], optimal_policy.index[2]} (Wrong!)')"
   ]
  },
  {
   "cell_type": "markdown",
   "metadata": {},
   "source": [
    "## Upper Confidence Bound Method"
   ]
  },
  {
   "cell_type": "code",
   "execution_count": 8,
   "metadata": {
    "collapsed": true
   },
   "outputs": [],
   "source": [
    "N = len(datasets) # 10000\n",
    "total_ads = len(datasets.columns) # 10\n",
    "ads_selected = []\n",
    "numbers_of_selections = [0] * total_ads\n",
    "sums_of_reward = [0] * total_ads\n",
    "total_rewards = 0"
   ]
  },
  {
   "cell_type": "code",
   "execution_count": 9,
   "metadata": {
    "collapsed": true
   },
   "outputs": [],
   "source": [
    "for n in range(0, N):\n",
    "    \n",
    "    ad = 0\n",
    "    max_upper_bound = 0\n",
    "    for i in range(0, total_ads):\n",
    "        if (numbers_of_selections[i] > 0):\n",
    "            average_reward = sums_of_reward[i] / numbers_of_selections[i]\n",
    "            delta_i = math.sqrt(2 * math.log(n+1) / numbers_of_selections[i])\n",
    "            upper_bound = average_reward + delta_i\n",
    "        else:\n",
    "            upper_bound = 1e400\n",
    "        \n",
    "        if upper_bound > max_upper_bound:\n",
    "            max_upper_bound = upper_bound\n",
    "            ad = i\n",
    "    \n",
    "    ads_selected.append(ad)\n",
    "    numbers_of_selections[ad] += 1\n",
    "    reward = datasets.values[n, ad]\n",
    "    sums_of_reward[ad] += reward\n",
    "    total_rewards = total_rewards + reward"
   ]
  },
  {
   "cell_type": "code",
   "execution_count": 10,
   "metadata": {},
   "outputs": [
    {
     "name": "stdout",
     "output_type": "stream",
     "text": [
      "Total rewards achieved by 10000 UCB methods: 2125 (much better cummulative rewards)\n"
     ]
    }
   ],
   "source": [
    "print(f'Total rewards achieved by {N} UCB methods: {total_rewards} (much better cummulative rewards)')"
   ]
  },
  {
   "cell_type": "code",
   "execution_count": 11,
   "metadata": {},
   "outputs": [
    {
     "name": "stdout",
     "output_type": "stream",
     "text": [
      "The policy of the most displayed ads is: (5, 8, 7) (Correct!)\n"
     ]
    }
   ],
   "source": [
    "optimal_policy = pd.Series(ads_selected).value_counts(normalize=True).sort_values(ascending=False)\n",
    "optimal_policy.index += 1 \n",
    "\n",
    "print(f'The policy of the most displayed ads is: {optimal_policy.index[0], optimal_policy.index[1], optimal_policy.index[3]} (Correct!)')"
   ]
  },
  {
   "cell_type": "markdown",
   "metadata": {},
   "source": [
    "---"
   ]
  }
 ],
 "metadata": {
  "kernelspec": {
   "display_name": "Python 3",
   "language": "python",
   "name": "python3"
  },
  "language_info": {
   "codemirror_mode": {
    "name": "ipython",
    "version": 3
   },
   "file_extension": ".py",
   "mimetype": "text/x-python",
   "name": "python",
   "nbconvert_exporter": "python",
   "pygments_lexer": "ipython3",
   "version": "3.6.3"
  }
 },
 "nbformat": 4,
 "nbformat_minor": 2
}
