{
 "cells": [
  {
   "cell_type": "code",
   "execution_count": 1,
   "metadata": {},
   "outputs": [],
   "source": [
    "import numpy as np\n",
    "import gym.spaces\n",
    "from gridworld import GridworldEnv"
   ]
  },
  {
   "cell_type": "code",
   "execution_count": 2,
   "metadata": {},
   "outputs": [
    {
     "name": "stdout",
     "output_type": "stream",
     "text": [
      "Number of states in the environment: 16\n",
      "Number of actions in the environment: 4\n"
     ]
    }
   ],
   "source": [
    "env = GridworldEnv()\n",
    "print('Number of states in the environment:', env.nS)\n",
    "print('Number of actions in the environment:', env.nA)"
   ]
  },
  {
   "cell_type": "code",
   "execution_count": 3,
   "metadata": {},
   "outputs": [],
   "source": [
    "def eval_policy(policy, env, discount_factor=1.0, epsilon=1e-5):\n",
    "    \"\"\"\n",
    "    Evaluate a policy given an environment and a full description of the environment's dynamics.\n",
    "    \n",
    "    Args:\n",
    "        policy: [S, A] shaped matrix representing the policy.\n",
    "        env: OpenAI env. env.P represents the transition probabilities of the environment.\n",
    "            env.P[s][a] is a list of transition tuples (prob, next_state, reward, done).\n",
    "            env.nS is a number of states in the environment. \n",
    "            env.nA is a number of actions in the environment.\n",
    "        theta: We stop evaluation once our value function change is less than theta for all states.\n",
    "        discount_factor: Gamma discount factor.\n",
    "    \n",
    "    Returns:\n",
    "        Vector of length env.nS representing the value function.\n",
    "    \"\"\"\n",
    "    \n",
    "    # start with a random (all 0) value function\n",
    "    V_old = np.zeros(env.nS)\n",
    "    \n",
    "    while True:\n",
    "        \n",
    "        # new value function\n",
    "        V_new = np.zeros(env.nS)\n",
    "        \n",
    "        # stop condition\n",
    "        delta = 0\n",
    "        \n",
    "        # loop over state space:\n",
    "        for s in range(env.nS):\n",
    "            \n",
    "            # to accumulate bellman expectation equation\n",
    "            v_fn = 0\n",
    "            \n",
    "            # get probability distribution over actions\n",
    "            action_probs = policy[s]\n",
    "            \n",
    "            # loop over possible actions\n",
    "            for a in range(env.nA):\n",
    "                \n",
    "                # get transitions\n",
    "                [(prob, next_state, reward, done)]  = env.P[s][a]\n",
    "                \n",
    "                # apply bellman expectation equation\n",
    "                v_fn += action_probs[a] * (reward + discount_factor * V_old[next_state])\n",
    "            \n",
    "            # get the biggest difference over state space\n",
    "            delta = max(delta, abs(v_fn - V_old[s]))\n",
    "            \n",
    "            # update state-value\n",
    "            V_new[s] = v_fn\n",
    "            \n",
    "        # set the new value function\n",
    "        V_old = V_new\n",
    "        \n",
    "        # if true value function\n",
    "        if (delta < epsilon): break\n",
    "            \n",
    "    return np.array(V_old)"
   ]
  },
  {
   "cell_type": "code",
   "execution_count": 4,
   "metadata": {},
   "outputs": [],
   "source": [
    "random_policy = np.ones([env.nS, env.nA]) / env.nA\n",
    "v = eval_policy(random_policy, env)"
   ]
  },
  {
   "cell_type": "code",
   "execution_count": 5,
   "metadata": {},
   "outputs": [],
   "source": [
    "expected_v = np.array([0, -14, -20, -22, -14, -18, -20, -20, -20, -20, -18, -14, -22, -20, -14, 0])\n",
    "np.testing.assert_array_almost_equal(v, expected_v, decimal=2)"
   ]
  },
  {
   "cell_type": "code",
   "execution_count": 6,
   "metadata": {},
   "outputs": [
    {
     "name": "stdout",
     "output_type": "stream",
     "text": [
      "[  0.         -13.99989315 -19.99984167 -21.99982282 -13.99989315\n",
      " -17.99986052 -19.99984273 -19.99984167 -19.99984167 -19.99984273\n",
      " -17.99986052 -13.99989315 -21.99982282 -19.99984167 -13.99989315\n",
      "   0.        ]\n"
     ]
    }
   ],
   "source": [
    "print(v)"
   ]
  },
  {
   "cell_type": "code",
   "execution_count": 7,
   "metadata": {},
   "outputs": [
    {
     "name": "stdout",
     "output_type": "stream",
     "text": [
      "[  0 -14 -20 -22 -14 -18 -20 -20 -20 -20 -18 -14 -22 -20 -14   0]\n"
     ]
    }
   ],
   "source": [
    "print(expected_v)"
   ]
  },
  {
   "cell_type": "markdown",
   "metadata": {},
   "source": [
    "---"
   ]
  }
 ],
 "metadata": {
  "kernelspec": {
   "display_name": "Python 3",
   "language": "python",
   "name": "python3"
  },
  "language_info": {
   "codemirror_mode": {
    "name": "ipython",
    "version": 3
   },
   "file_extension": ".py",
   "mimetype": "text/x-python",
   "name": "python",
   "nbconvert_exporter": "python",
   "pygments_lexer": "ipython3",
   "version": "3.7.3"
  }
 },
 "nbformat": 4,
 "nbformat_minor": 2
}
