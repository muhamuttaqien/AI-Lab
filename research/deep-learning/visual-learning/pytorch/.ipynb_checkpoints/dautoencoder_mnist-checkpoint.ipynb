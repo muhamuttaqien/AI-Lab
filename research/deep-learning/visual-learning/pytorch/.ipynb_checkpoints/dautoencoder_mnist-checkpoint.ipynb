{
 "cells": [
  {
   "cell_type": "markdown",
   "metadata": {},
   "source": [
    "# Denoising Autoencoder Neural Network, MNIST"
   ]
  },
  {
   "cell_type": "code",
   "execution_count": 43,
   "metadata": {},
   "outputs": [],
   "source": [
    "import os\n",
    "import numpy as np\n",
    "import matplotlib.pyplot as plt\n",
    "import datetime\n",
    "import time"
   ]
  },
  {
   "cell_type": "code",
   "execution_count": 2,
   "metadata": {},
   "outputs": [],
   "source": [
    "import torch\n",
    "import torchvision\n",
    "import torchvision.transforms as transforms\n",
    "import torch.nn as nn\n",
    "import torch.nn.functional as F\n",
    "\n",
    "from torch.autograd import Variable\n",
    "from torchvision.utils import save_image"
   ]
  },
  {
   "cell_type": "markdown",
   "metadata": {},
   "source": [
    "## Set Configs"
   ]
  },
  {
   "cell_type": "code",
   "execution_count": 3,
   "metadata": {},
   "outputs": [],
   "source": [
    "# number of epochs\n",
    "num_epochs = 10\n",
    "\n",
    "# images per batch\n",
    "batch_size = 16\n",
    "\n",
    "# learning rate for optimizer of autoencoder model\n",
    "learning_rate = 0.0005\n",
    "\n",
    "# number of GPUs availabele\n",
    "n_gpu = 1"
   ]
  },
  {
   "cell_type": "markdown",
   "metadata": {},
   "source": [
    "## Configure Data Loader"
   ]
  },
  {
   "cell_type": "code",
   "execution_count": 4,
   "metadata": {},
   "outputs": [],
   "source": [
    "transform = transforms.Compose([\n",
    "                            transforms.ToTensor(),\n",
    "])"
   ]
  },
  {
   "cell_type": "code",
   "execution_count": 5,
   "metadata": {},
   "outputs": [],
   "source": [
    "train_loader = torch.utils.data.DataLoader(torchvision.datasets.MNIST(root=\"./data\", train=True, download=True, transform=transform),\n",
    "                                           batch_size=batch_size, shuffle=False)"
   ]
  },
  {
   "cell_type": "code",
   "execution_count": 6,
   "metadata": {},
   "outputs": [],
   "source": [
    "test_loader = torch.utils.data.DataLoader(torchvision.datasets.MNIST(root=\"./data\", train=False, download=True, transform=transform),\n",
    "                                           batch_size=4, shuffle=False)"
   ]
  },
  {
   "cell_type": "code",
   "execution_count": 7,
   "metadata": {},
   "outputs": [],
   "source": [
    "# decide which device we want to run on\n",
    "device = torch.device('cuda:0' if (torch.cuda.is_available() and n_gpu > 0) else 'cpu')"
   ]
  },
  {
   "cell_type": "markdown",
   "metadata": {},
   "source": [
    "## Build Autoencoder Architecture"
   ]
  },
  {
   "cell_type": "markdown",
   "metadata": {},
   "source": [
    "<img src='images/autoencoder-architecture.png' width='75%'/>"
   ]
  },
  {
   "cell_type": "code",
   "execution_count": 8,
   "metadata": {},
   "outputs": [],
   "source": [
    "class Encoder(nn.Module):\n",
    "    \n",
    "    def __init__(self):\n",
    "        super(Encoder, self).__init__()\n",
    "        \n",
    "        self.conv_layer = nn.Sequential(\n",
    "                        nn.Conv2d(1,32,3,padding=1),\n",
    "                        nn.ReLU(),\n",
    "                        nn.BatchNorm2d(32),\n",
    "            \n",
    "                        nn.Conv2d(32,32,3,padding=1),\n",
    "                        nn.ReLU(),\n",
    "                        nn.BatchNorm2d(32),\n",
    "            \n",
    "                        nn.Conv2d(32,64,3,padding=1),\n",
    "                        nn.ReLU(),\n",
    "                        nn.BatchNorm2d(64),\n",
    "            \n",
    "                        nn.Conv2d(64,64,3,padding=1),\n",
    "                        nn.ReLU(),\n",
    "                        nn.BatchNorm2d(64),\n",
    "                        nn.MaxPool2d(2,2),\n",
    "            \n",
    "                        nn.Conv2d(64,128,3,padding=1),\n",
    "                        nn.ReLU(),\n",
    "                        nn.BatchNorm2d(128),\n",
    "            \n",
    "                        nn.Conv2d(128,128,3,padding=1),\n",
    "                        nn.ReLU(),\n",
    "                        nn.BatchNorm2d(128),\n",
    "                        nn.MaxPool2d(2,2),\n",
    "            \n",
    "                        nn.Conv2d(128,256,3,padding=1),\n",
    "                        nn.ReLU()\n",
    "        )\n",
    "        \n",
    "    def forward(self, x):\n",
    "        out = self.conv_layer(x)\n",
    "        out = out.view(batch_size,-1)\n",
    "        \n",
    "        return out"
   ]
  },
  {
   "cell_type": "code",
   "execution_count": 9,
   "metadata": {},
   "outputs": [],
   "source": [
    "class Decoder(nn.Module):\n",
    "    \n",
    "    def __init__(self):\n",
    "        super(Decoder, self).__init__()\n",
    "\n",
    "        self.deconv_layer = nn.Sequential(\n",
    "                                nn.ConvTranspose2d(256,128,3,2,1,1),\n",
    "                                nn.ReLU(),\n",
    "                                nn.BatchNorm2d(128),\n",
    "            \n",
    "                                nn.ConvTranspose2d(128,128,3,1,1),\n",
    "                                nn.ReLU(),\n",
    "                                nn.BatchNorm2d(128),\n",
    "            \n",
    "                                nn.ConvTranspose2d(128,64,3,1,1),\n",
    "                                nn.ReLU(),\n",
    "                                nn.BatchNorm2d(64),\n",
    "            \n",
    "                                nn.ConvTranspose2d(64,64,3,1,1),\n",
    "                                nn.ReLU(),\n",
    "                                nn.BatchNorm2d(64),\n",
    "            \n",
    "                                nn.ConvTranspose2d(64,32,3,1,1),\n",
    "                                nn.ReLU(),\n",
    "                                nn.BatchNorm2d(32),\n",
    "            \n",
    "                                nn.ConvTranspose2d(32,1,3,2,1,1),\n",
    "                                nn.ReLU()\n",
    "        )\n",
    "        \n",
    "    def forward(self, x):\n",
    "        out = x.view(batch_size,256,7,7)\n",
    "        out = self.deconv_layer(out)\n",
    "        \n",
    "        return out"
   ]
  },
  {
   "cell_type": "markdown",
   "metadata": {},
   "source": [
    "#### Initialize Autoencoder"
   ]
  },
  {
   "cell_type": "code",
   "execution_count": 10,
   "metadata": {},
   "outputs": [],
   "source": [
    "encoder = Encoder().to(device)\n",
    "decoder = Decoder().to(device)"
   ]
  },
  {
   "cell_type": "markdown",
   "metadata": {},
   "source": [
    "## Create A Noise"
   ]
  },
  {
   "cell_type": "code",
   "execution_count": 11,
   "metadata": {},
   "outputs": [
    {
     "name": "stdout",
     "output_type": "stream",
     "text": [
      "torch.Size([16, 1, 28, 28])\n"
     ]
    }
   ],
   "source": [
    "# check output size of autoencoder network\n",
    "for i, (images, _) in enumerate(train_loader):\n",
    "    \n",
    "    image = Variable(images).to(device)\n",
    "    \n",
    "    reconstruction = encoder(image)\n",
    "    results = decoder(reconstruction)\n",
    "    \n",
    "    print(results.size())\n",
    "    break"
   ]
  },
  {
   "cell_type": "code",
   "execution_count": 12,
   "metadata": {},
   "outputs": [
    {
     "data": {
      "text/plain": [
       "torch.Size([16, 1, 28, 28])"
      ]
     },
     "execution_count": 12,
     "metadata": {},
     "output_type": "execute_result"
    }
   ],
   "source": [
    "# create random noise\n",
    "noise = torch.rand(batch_size,1,28,28)\n",
    "noise.shape"
   ]
  },
  {
   "cell_type": "markdown",
   "metadata": {},
   "source": [
    "## Loss Function"
   ]
  },
  {
   "cell_type": "code",
   "execution_count": 13,
   "metadata": {},
   "outputs": [],
   "source": [
    "reconstruction_loss = nn.MSELoss()\n",
    "if (device.type == 'cuda'): reconstruction_loss.to(device)"
   ]
  },
  {
   "cell_type": "markdown",
   "metadata": {},
   "source": [
    "## Optimizer"
   ]
  },
  {
   "cell_type": "code",
   "execution_count": 14,
   "metadata": {},
   "outputs": [],
   "source": [
    "all_parameters = list(encoder.parameters()) + list(decoder.parameters())\n",
    "optimizer = torch.optim.Adam(all_parameters, lr=learning_rate)"
   ]
  },
  {
   "cell_type": "markdown",
   "metadata": {},
   "source": [
    "## Train The Network"
   ]
  },
  {
   "cell_type": "code",
   "execution_count": 15,
   "metadata": {},
   "outputs": [
    {
     "name": "stdout",
     "output_type": "stream",
     "text": [
      "epoch [1/10], reconstruction loss: 0.0089, ETA: 0:05:58.576372\n",
      "epoch [2/10], reconstruction loss: 0.0059, ETA: 0:05:33.542021\n",
      "epoch [3/10], reconstruction loss: 0.0047, ETA: 0:05:00.562804\n",
      "epoch [4/10], reconstruction loss: 0.0031, ETA: 0:04:14.397373\n",
      "epoch [5/10], reconstruction loss: 0.0023, ETA: 0:03:41.937810\n",
      "epoch [6/10], reconstruction loss: 0.0020, ETA: 0:02:40.936117\n",
      "epoch [7/10], reconstruction loss: 0.0017, ETA: 0:02:57.403661\n",
      "epoch [8/10], reconstruction loss: 0.0015, ETA: 0:01:19.775955\n",
      "epoch [9/10], reconstruction loss: 0.0013, ETA: 0:00:46.308167\n",
      "epoch [10/10], reconstruction loss: 0.0012, ETA: 0:00:00.011798\n",
      "D-Autoencoder Model saved.\n"
     ]
    },
    {
     "name": "stderr",
     "output_type": "stream",
     "text": [
      "/usr/local/lib/python3.6/dist-packages/torch/serialization.py:256: UserWarning: Couldn't retrieve source code for container of type Encoder. It won't be checked for correctness upon loading.\n",
      "  \"type \" + obj.__name__ + \". It won't be checked \"\n",
      "/usr/local/lib/python3.6/dist-packages/torch/serialization.py:256: UserWarning: Couldn't retrieve source code for container of type Decoder. It won't be checked for correctness upon loading.\n",
      "  \"type \" + obj.__name__ + \". It won't be checked \"\n"
     ]
    }
   ],
   "source": [
    "r_loss_to_display = []\n",
    "prev_time = time.time()\n",
    "for epoch in range(num_epochs):\n",
    "    \n",
    "    r_loss = []\n",
    "    for i, (images, _) in enumerate(train_loader):\n",
    "        \n",
    "        noisy_images = torch.mul(images+0.25, 0.1 * noise)\n",
    "        noisy_images = Variable(noisy_images).to(device)\n",
    "        images = Variable(images).to(device)\n",
    "        \n",
    "        optimizer.zero_grad()\n",
    "        \n",
    "        reconstruction = encoder(noisy_images)\n",
    "        results = decoder(reconstruction)\n",
    "        loss = reconstruction_loss(results, images)\n",
    "        r_loss.append(loss)\n",
    "        \n",
    "        loss.backward()\n",
    "        optimizer.step()\n",
    "        \n",
    "        # determine approximate time left\n",
    "        batches_done = epoch * len(train_loader) + i\n",
    "        batches_left = num_epochs * len(train_loader) - batches_done\n",
    "        time_left = datetime.timedelta(seconds=batches_left * (time.time() - prev_time))\n",
    "        prev_time = time.time()\n",
    "        \n",
    "    r_loss_to_display.append(sum(r_loss)/len(r_loss))\n",
    "    print('epoch [{}/{}], reconstruction loss: {:.4f}, ETA: {}'.format(epoch+1, num_epochs, loss.data.cpu().numpy(), time_left, ))\n",
    "\n",
    "if not os.path.exists('./weights/'): os.makedirs('./weights/')\n",
    "torch.save([encoder,decoder],'./weights/dautoencoder_mnist.pkl')\n",
    "print('\\nD-Autoencoder Model saved.')"
   ]
  },
  {
   "cell_type": "markdown",
   "metadata": {},
   "source": [
    "## Evaluate The Network"
   ]
  },
  {
   "cell_type": "code",
   "execution_count": 42,
   "metadata": {},
   "outputs": [
    {
     "data": {
      "image/png": "[encoded data removed]",
      "text/plain": [
       "<matplotlib.figure.Figure at 0x7f99dc2d5da0>"
      ]
     },
     "metadata": {
      "needs_background": "light"
     },
     "output_type": "display_data"
    }
   ],
   "source": [
    "plt.figure(figsize=(10,5))\n",
    "plt.title(\"Reconstruction Loss of D-Autoencoder During Training\")\n",
    "plt.plot(r_loss_to_display, label=\"Reconstruction Loss\")\n",
    "plt.xlabel(\"Epoch\")\n",
    "plt.ylabel(\"Loss\")\n",
    "plt.legend()\n",
    "\n",
    "if not os.path.exists('./images/dautoencoder'): os.makedirs('./images/dautoencoder')\n",
    "plt.savefig('./images/dautoencoder/final_loss.png')\n",
    "plt.show()"
   ]
  },
  {
   "cell_type": "code",
   "execution_count": 50,
   "metadata": {},
   "outputs": [
    {
     "data": {
      "image/png": "[encoded data removed]",
      "text/plain": [
       "<matplotlib.figure.Figure at 0x7f99d02a3cc0>"
      ]
     },
     "metadata": {
      "needs_background": "light"
     },
     "output_type": "display_data"
    },
    {
     "data": {
      "text/plain": [
       "<matplotlib.figure.Figure at 0x7f99d02f8eb8>"
      ]
     },
     "metadata": {},
     "output_type": "display_data"
    }
   ],
   "source": [
    "image = images[1].cpu()\n",
    "noisy_image = noisy_images[1].cpu()\n",
    "result = results[1].cpu()\n",
    "\n",
    "fig, axarr = plt.subplots(1,3)\n",
    "fig.suptitle(\"Real, Noisy vs Reconstructed Images\", fontsize=16)\n",
    "fig.set_size_inches(10, 5, forward=True)\n",
    "\n",
    "axarr[0].set_title('Real Image')\n",
    "axarr[0].imshow(image[0], cmap='gray')\n",
    "\n",
    "axarr[1].set_title('Noisy Image')\n",
    "axarr[1].imshow(noisy_image[0], cmap='gray')\n",
    "\n",
    "axarr[2].set_title('Reconstructed Image')\n",
    "axarr[2].imshow(result.cpu().detach().numpy()[0], cmap='gray')\n",
    "\n",
    "fig.tight_layout()\n",
    "plt.figure(figsize=(10, 10))\n",
    "plt.savefig('./images/dautoencoder/real_noisy_vs_recons{}.png'.format(i+1))\n",
    "\n",
    "plt.show()"
   ]
  },
  {
   "cell_type": "markdown",
   "metadata": {},
   "source": [
    "---"
   ]
  }
 ],
 "metadata": {
  "kernelspec": {
   "display_name": "Python 3",
   "language": "python",
   "name": "python3"
  },
  "language_info": {
   "codemirror_mode": {
    "name": "ipython",
    "version": 3
   },
   "file_extension": ".py",
   "mimetype": "text/x-python",
   "name": "python",
   "nbconvert_exporter": "python",
   "pygments_lexer": "ipython3",
   "version": "3.7.3"
  }
 },
 "nbformat": 4,
 "nbformat_minor": 2
}
