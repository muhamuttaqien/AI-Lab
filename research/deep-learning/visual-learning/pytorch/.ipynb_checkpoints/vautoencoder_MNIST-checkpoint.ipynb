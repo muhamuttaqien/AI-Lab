{
 "cells": [
  {
   "cell_type": "markdown",
   "metadata": {},
   "source": [
    "# Variational Autoencoder Neural Network, MNIST"
   ]
  },
  {
   "cell_type": "code",
   "execution_count": 1,
   "metadata": {
    "collapsed": true
   },
   "outputs": [],
   "source": [
    "import os\n",
    "import numpy as np\n",
    "import matplotlib.pyplot as plt\n",
    "import datetime\n",
    "import time"
   ]
  },
  {
   "cell_type": "code",
   "execution_count": 2,
   "metadata": {
    "collapsed": true
   },
   "outputs": [],
   "source": [
    "import torch\n",
    "import torch.nn as nn\n",
    "import torch.nn.functional as F\n",
    "import torch.optim as optim\n",
    "from torch.utils.data import DataLoader\n",
    "from torchvision import datasets, transforms"
   ]
  },
  {
   "cell_type": "code",
   "execution_count": 3,
   "metadata": {
    "collapsed": true
   },
   "outputs": [],
   "source": [
    "device = torch.device('cuda:0' if torch.cuda.is_available() else 'cpu')"
   ]
  },
  {
   "cell_type": "markdown",
   "metadata": {},
   "source": [
    "## Set Params"
   ]
  },
  {
   "cell_type": "code",
   "execution_count": 4,
   "metadata": {
    "collapsed": true
   },
   "outputs": [],
   "source": [
    "BATCH_SIZE = 64 # number of data points in each batch\n",
    "N_EPOCHS = 10 # times to run the model on complete data\n",
    "INPUT_DIM = 28*28 # size of each input\n",
    "HIDDEN_DIM = 256 # hidden dimension\n",
    "LATENT_DIM = 20 # latent vector dimension\n",
    "lr = 1e-3 # learning rate"
   ]
  },
  {
   "cell_type": "markdown",
   "metadata": {},
   "source": [
    "## Configure Data Loader"
   ]
  },
  {
   "cell_type": "code",
   "execution_count": 5,
   "metadata": {
    "collapsed": true
   },
   "outputs": [],
   "source": [
    "transform = transforms.Compose([transforms.ToTensor()])"
   ]
  },
  {
   "cell_type": "code",
   "execution_count": 6,
   "metadata": {
    "collapsed": true
   },
   "outputs": [],
   "source": [
    "train_dataset = datasets.MNIST('./data', train=True, download=True, transform=transform)\n",
    "test_dataset = datasets.MNIST('./data', train=False, download=True, transform=transform)"
   ]
  },
  {
   "cell_type": "code",
   "execution_count": 7,
   "metadata": {
    "collapsed": true
   },
   "outputs": [],
   "source": [
    "train_loader = DataLoader(train_dataset, batch_size=BATCH_SIZE, shuffle=True)\n",
    "test_loader = DataLoader(test_dataset, batch_size=BATCH_SIZE)"
   ]
  },
  {
   "cell_type": "markdown",
   "metadata": {},
   "source": [
    "## Build Autoencoder Architecture"
   ]
  },
  {
   "cell_type": "markdown",
   "metadata": {},
   "source": [
    "<img src='images/autoencoder-architecture.png' width='75%'/>"
   ]
  },
  {
   "cell_type": "code",
   "execution_count": 8,
   "metadata": {
    "collapsed": true
   },
   "outputs": [],
   "source": [
    "class Encoder(nn.Module):\n",
    "    ''' This is the encoder part of VAE. '''\n",
    "    \n",
    "    def __init__(self, input_dim, hidden_dim, z_dim):\n",
    "        '''\n",
    "        Args:\n",
    "            input_dim: An integer indicating the size of input (in case of MNIST 28*28).\n",
    "            hidden_dim: An integer indicating the size of hidden dimension.\n",
    "            z_dim: An integer indicating the latent dimension.\n",
    "        '''\n",
    "        \n",
    "        super(Encoder, self).__init__()\n",
    "        \n",
    "        self.linear = nn.Linear(input_dim, hidden_dim)\n",
    "        self.mu = nn.Linear(hidden_dim, z_dim)\n",
    "        self.var = nn.Linear(hidden_dim, z_dim)\n",
    "        \n",
    "    def forward(self, x):\n",
    "        \n",
    "        hidden = F.relu(self.linear(x))\n",
    "        z_mu = self.mu(hidden)\n",
    "        z_var = self.var(hidden)\n",
    "        \n",
    "        # outputing μ and σ of the latent parameters of distribution\n",
    "        return z_mu, z_var"
   ]
  },
  {
   "cell_type": "code",
   "execution_count": 9,
   "metadata": {
    "collapsed": true
   },
   "outputs": [],
   "source": [
    "class Decoder(nn.Module):\n",
    "    ''' This is the decoder part of VAE. '''\n",
    "    \n",
    "    def __init__(self, z_dim, hidden_dim, output_dim):\n",
    "        '''\n",
    "        Args:\n",
    "            z_dim: An integer indicating the latent size.\n",
    "            hidden_dim: An integer indicating the size of hidden dimension.\n",
    "            output_dim: An integer indicating the output dimension (in case of MNIST it is 28*28).\n",
    "        '''\n",
    "        super(Decoder, self).__init__()\n",
    "        \n",
    "        self.linear = nn.Linear(z_dim, hidden_dim)\n",
    "        self.output = nn.Sequential(\n",
    "                nn.Linear(hidden_dim, output_dim),\n",
    "                nn.Sigmoid())\n",
    "        \n",
    "    def forward(self, x):\n",
    "        \n",
    "        hidden = F.relu(self.linear(x))\n",
    "        x = self.output(hidden)\n",
    "        \n",
    "        # outputing reconstructed X \n",
    "        return x"
   ]
  },
  {
   "cell_type": "code",
   "execution_count": 10,
   "metadata": {},
   "outputs": [],
   "source": [
    "class VAE(nn.Module):\n",
    "    ''' This is the VAE, which takes an encoder and decoder. '''\n",
    "    \n",
    "    def __init__(self, encoder, decoder):\n",
    "        super(VAE, self).__init__()\n",
    "        \n",
    "        self.encoder = encoder\n",
    "        self.decoder = decoder\n",
    "        \n",
    "    def forward(self, x):\n",
    "        \n",
    "        # -------------\n",
    "        # Encoder\n",
    "        # -------------\n",
    "        z_mu, z_var = self.encoder(x)\n",
    "        \n",
    "        # sampling from the distribution having latent parameters z_mu and z_var\n",
    "        # reparameterize\n",
    "        std = torch.exp(z_var / 2)\n",
    "        eps = torch.randn_like(std)\n",
    "        x_sample = eps.mul(std).add_(z_mu)\n",
    "        \n",
    "        # -------------\n",
    "        # Decoder\n",
    "        # -------------\n",
    "        x_sample = self.decoder(x_sample)\n",
    "        return x_sample, z_mu, z_var"
   ]
  },
  {
   "cell_type": "markdown",
   "metadata": {},
   "source": [
    "#### Initialize Autoencoder"
   ]
  },
  {
   "cell_type": "code",
   "execution_count": 11,
   "metadata": {},
   "outputs": [],
   "source": [
    "encoder = Encoder(INPUT_DIM, HIDDEN_DIM, LATENT_DIM)\n",
    "decoder = Decoder(LATENT_DIM, HIDDEN_DIM, INPUT_DIM)\n",
    "vae = VAE(encoder, decoder).to(device)"
   ]
  },
  {
   "cell_type": "markdown",
   "metadata": {},
   "source": [
    "## Loss Function"
   ]
  },
  {
   "cell_type": "code",
   "execution_count": 12,
   "metadata": {
    "collapsed": true
   },
   "outputs": [],
   "source": [
    "def reconstruction_loss(x_sample, x, reduction='sum'):\n",
    "    return F.binary_cross_entropy(x_sample, x, reduction=reduction)"
   ]
  },
  {
   "cell_type": "code",
   "execution_count": 13,
   "metadata": {
    "collapsed": true
   },
   "outputs": [],
   "source": [
    "def kl_divergence_loss(z_mu, z_var):\n",
    "    return 0.5 * torch.sum(torch.exp(z_var) + z_mu**2 - 1.0 - z_var)"
   ]
  },
  {
   "cell_type": "markdown",
   "metadata": {},
   "source": [
    "## Optimizer"
   ]
  },
  {
   "cell_type": "code",
   "execution_count": 14,
   "metadata": {
    "collapsed": true
   },
   "outputs": [],
   "source": [
    "optimizer = optim.Adam(vae.parameters(), lr=lr)"
   ]
  },
  {
   "cell_type": "markdown",
   "metadata": {},
   "source": [
    "## Train The Network"
   ]
  },
  {
   "cell_type": "code",
   "execution_count": 15,
   "metadata": {},
   "outputs": [
    {
     "name": "stdout",
     "output_type": "stream",
     "text": [
      "epoch [1/10], Train loss: 155.7536, Test loss: 125.3549\n",
      "epoch [2/10], Train loss: 119.9865, Test loss: 114.8039\n",
      "epoch [3/10], Train loss: 113.9051, Test loss: 111.2984\n",
      "epoch [4/10], Train loss: 111.2576, Test loss: 109.6492\n",
      "epoch [5/10], Train loss: 109.7745, Test loss: 108.7897\n",
      "epoch [6/10], Train loss: 108.7841, Test loss: 107.7470\n",
      "epoch [7/10], Train loss: 108.0422, Test loss: 107.0765\n",
      "epoch [8/10], Train loss: 107.5484, Test loss: 106.7482\n",
      "epoch [9/10], Train loss: 107.0951, Test loss: 106.4598\n",
      "epoch [10/10], Train loss: 106.7305, Test loss: 106.1719\n"
     ]
    }
   ],
   "source": [
    "best_loss = float('inf')\n",
    "train_loss_to_display = []\n",
    "test_loss_to_display = []\n",
    "\n",
    "for epoch in range (N_EPOCHS):\n",
    "        \n",
    "    vae.train()\n",
    "    train_loss = 0\n",
    "    for i, (images, _) in enumerate(train_loader):\n",
    "        x = images.view(-1, 28*28)\n",
    "        x = x.to(device)\n",
    "        \n",
    "        optimizer.zero_grad()\n",
    "        \n",
    "        x_sample, z_mu, z_var = vae(x)\n",
    "        \n",
    "        r_loss = reconstruction_loss(x_sample, x, reduction='sum')\n",
    "        kld_loss = kl_divergence_loss(z_mu, z_var)\n",
    "        loss = r_loss + kld_loss\n",
    "        \n",
    "        loss.backward()\n",
    "        train_loss += loss.item()\n",
    "        optimizer.step()\n",
    "        \n",
    "    vae.eval()\n",
    "    test_loss = 0\n",
    "    with torch.no_grad():\n",
    "        for i, (images, _) in enumerate(test_loader):\n",
    "            x = images.view(-1, 28*28)\n",
    "            x = x.to(device)\n",
    "\n",
    "            x_sample, z_mu, z_var = vae(x)\n",
    "\n",
    "            r_loss = reconstruction_loss(x_sample, x, reduction='sum')\n",
    "            kld_loss = kl_divergence_loss(z_mu, z_var)\n",
    "            loss = r_loss + kld_loss\n",
    "            test_loss += loss.item()\n",
    "                \n",
    "    train_loss /= len(train_dataset)\n",
    "    train_loss_to_display.append(train_loss)\n",
    "    test_loss /= len(test_dataset)\n",
    "    test_loss_to_display.append(test_loss)\n",
    "    \n",
    "    print('epoch [{}/{}], Train loss: {:.4f}, Test loss: {:.4f}'.format(epoch+1, N_EPOCHS, train_loss, test_loss))\n",
    "    \n",
    "    if test_loss < best_loss:\n",
    "        best_loss = test_loss\n",
    "        if not os.path.exists('./weights/'): os.makedirs('./weights/')\n",
    "        torch.save({'state_dict': vae.state_dict()}, './weights/vautoencoder_mnist.pth')"
   ]
  },
  {
   "cell_type": "markdown",
   "metadata": {},
   "source": [
    "## Evaluate The Network"
   ]
  },
  {
   "cell_type": "code",
   "execution_count": 18,
   "metadata": {},
   "outputs": [
    {
     "data": {
      "image/png": "[encoded data removed]",
      "text/plain": [
       "<matplotlib.figure.Figure at 0x11cfe3cc0>"
      ]
     },
     "metadata": {},
     "output_type": "display_data"
    }
   ],
   "source": [
    "plt.figure(figsize=(10,5))\n",
    "plt.title(\"Train vs Test Loss of Variational Autoencoder During Training\")\n",
    "plt.plot(train_loss_to_display, label=\"Train Loss\")\n",
    "plt.plot(test_loss_to_display, label=\"Test Loss\")\n",
    "plt.xlabel(\"Epoch\")\n",
    "plt.ylabel(\"Loss\")\n",
    "plt.legend()\n",
    "\n",
    "if not os.path.exists('./images/vautoencoder'): os.makedirs('./images/vautoencoder')\n",
    "plt.savefig('./images/vautoencoder/final_loss.png')\n",
    "plt.show()"
   ]
  },
  {
   "cell_type": "code",
   "execution_count": 27,
   "metadata": {},
   "outputs": [
    {
     "data": {
      "image/png": "[encoded data removed]",
      "text/plain": [
       "<matplotlib.figure.Figure at 0x1258746d8>"
      ]
     },
     "metadata": {},
     "output_type": "display_data"
    },
    {
     "data": {
      "image/png": "[encoded data removed]",
      "text/plain": [
       "<matplotlib.figure.Figure at 0x125df0b38>"
      ]
     },
     "metadata": {},
     "output_type": "display_data"
    },
    {
     "data": {
      "image/png": "[encoded data removed]",
      "text/plain": [
       "<matplotlib.figure.Figure at 0x125f50d30>"
      ]
     },
     "metadata": {},
     "output_type": "display_data"
    },
    {
     "data": {
      "image/png": "[encoded data removed]",
      "text/plain": [
       "<matplotlib.figure.Figure at 0x125f50908>"
      ]
     },
     "metadata": {},
     "output_type": "display_data"
    },
    {
     "data": {
      "image/png": "[encoded data removed]",
      "text/plain": [
       "<matplotlib.figure.Figure at 0x125cc0eb8>"
      ]
     },
     "metadata": {},
     "output_type": "display_data"
    },
    {
     "data": {
      "image/png": "[encoded data removed]",
      "text/plain": [
       "<matplotlib.figure.Figure at 0x125e937b8>"
      ]
     },
     "metadata": {},
     "output_type": "display_data"
    },
    {
     "data": {
      "image/png": "[encoded data removed]",
      "text/plain": [
       "<matplotlib.figure.Figure at 0x1194a5c50>"
      ]
     },
     "metadata": {},
     "output_type": "display_data"
    },
    {
     "data": {
      "image/png": "[encoded data removed]",
      "text/plain": [
       "<matplotlib.figure.Figure at 0x125b01438>"
      ]
     },
     "metadata": {},
     "output_type": "display_data"
    },
    {
     "data": {
      "image/png": "[encoded data removed]",
      "text/plain": [
       "<matplotlib.figure.Figure at 0x119196dd8>"
      ]
     },
     "metadata": {},
     "output_type": "display_data"
    },
    {
     "data": {
      "image/png": "[encoded data removed]",
      "text/plain": [
       "<matplotlib.figure.Figure at 0x11948a710>"
      ]
     },
     "metadata": {},
     "output_type": "display_data"
    }
   ],
   "source": [
    "for i in range(10):\n",
    "\n",
    "    # sample and generate an image\n",
    "    z = torch.randn(1, LATENT_DIM).to(device)\n",
    "\n",
    "    result = vae.decoder(z)\n",
    "    result = result.view(28, 28).data\n",
    "\n",
    "    plt.imshow(result, cmap='gray')\n",
    "\n",
    "    plt.savefig('./images/vautoencoder/generated_mnist{}.png'.format(i+1))\n",
    "    plt.show()"
   ]
  },
  {
   "cell_type": "markdown",
   "metadata": {},
   "source": [
    "---"
   ]
  }
 ],
 "metadata": {
  "kernelspec": {
   "display_name": "Python 3",
   "language": "python",
   "name": "python3"
  },
  "language_info": {
   "codemirror_mode": {
    "name": "ipython",
    "version": 3
   },
   "file_extension": ".py",
   "mimetype": "text/x-python",
   "name": "python",
   "nbconvert_exporter": "python",
   "pygments_lexer": "ipython3",
   "version": "3.6.3"
  }
 },
 "nbformat": 4,
 "nbformat_minor": 2
}
