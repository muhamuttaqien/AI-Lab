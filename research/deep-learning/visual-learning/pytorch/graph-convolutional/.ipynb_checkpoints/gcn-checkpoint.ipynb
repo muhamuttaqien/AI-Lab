{
 "cells": [
  {
   "cell_type": "markdown",
   "metadata": {},
   "source": [
    "# Graph Convolutional Networks"
   ]
  },
  {
   "cell_type": "code",
   "execution_count": 1,
   "metadata": {},
   "outputs": [],
   "source": [
    "import os\n",
    "import math\n",
    "import time\n",
    "import numpy as np\n",
    "import scipy.sparse as sp\n",
    "import matplotlib.pyplot as plt"
   ]
  },
  {
   "cell_type": "code",
   "execution_count": 2,
   "metadata": {},
   "outputs": [],
   "source": [
    "import torch\n",
    "import torch.nn as nn\n",
    "import torch.nn.functional as F\n",
    "from torch.nn.parameter import Parameter\n",
    "from torch.nn.modules.module import Module"
   ]
  },
  {
   "cell_type": "markdown",
   "metadata": {},
   "source": [
    "## Set Configs"
   ]
  },
  {
   "cell_type": "code",
   "execution_count": 3,
   "metadata": {},
   "outputs": [],
   "source": [
    "torch.manual_seed(10)\n",
    "np.random.seed(9)"
   ]
  },
  {
   "cell_type": "code",
   "execution_count": 4,
   "metadata": {},
   "outputs": [],
   "source": [
    "N_EPOCHS = 250\n",
    "LR = 0.01\n",
    "WEIGHT_DECAY = 5e-4\n",
    "N_HIDDEN = 16\n",
    "DROPOUT = 0.5"
   ]
  },
  {
   "cell_type": "code",
   "execution_count": 5,
   "metadata": {},
   "outputs": [],
   "source": [
    "# decide which device we want to run on\n",
    "device = torch.device('cuda:0' if (torch.cuda.is_available() and n_gpu > 0) else 'cpu')"
   ]
  },
  {
   "cell_type": "markdown",
   "metadata": {},
   "source": [
    "## Set Helpers"
   ]
  },
  {
   "cell_type": "code",
   "execution_count": 6,
   "metadata": {},
   "outputs": [],
   "source": [
    "def one_hot_encode(labels):\n",
    "    \n",
    "    classes = set(labels)\n",
    "    classes_dict = { c: np.identity(len(classes))[i, :] for i, c in enumerate(classes) }\n",
    "    labels_one_hot = np.array(list(map(classes_dict.get, labels)), dtype=np.int32)\n",
    "    \n",
    "    return labels_one_hot"
   ]
  },
  {
   "cell_type": "code",
   "execution_count": 7,
   "metadata": {},
   "outputs": [],
   "source": [
    "def normalize(matrix):\n",
    "    \n",
    "    row_sum = np.array(matrix.sum(1))\n",
    "    r_inv = np.power(row_sum, -1).flatten()\n",
    "    r_inv[np.isinf(r_inv)] = 0.\n",
    "    r_mat_inv = sp.diags(r_inv)\n",
    "    matrix = r_mat_inv.dot(matrix)\n",
    "    \n",
    "    return matrix"
   ]
  },
  {
   "cell_type": "code",
   "execution_count": 8,
   "metadata": {},
   "outputs": [],
   "source": [
    "def calculate_accuracy(output, labels):\n",
    "    \n",
    "    predictions = output.max(1)[1].type_as(labels)\n",
    "    corrects = predictions.eq(labels).double()\n",
    "    corrects = corrects.sum()\n",
    "    \n",
    "    return corrects / len(labels)"
   ]
  },
  {
   "cell_type": "code",
   "execution_count": 9,
   "metadata": {},
   "outputs": [],
   "source": [
    "def sparse_matrix_to_sparse_tensor(sparse_matrix):\n",
    "    \n",
    "    sparse_matrix = sparse_matrix.tocoo().astype(np.float32)\n",
    "    indices = torch.from_numpy(np.vstack((sparse_matrix.row, sparse_matrix.col)).astype(np.int64))\n",
    "    values = torch.from_numpy(sparse_matrix.data)\n",
    "    shape = torch.Size(sparse_matrix.shape)\n",
    "    \n",
    "    return torch.sparse.FloatTensor(indices, values, shape)"
   ]
  },
  {
   "cell_type": "code",
   "execution_count": 10,
   "metadata": {},
   "outputs": [],
   "source": [
    "def load_data(path=\"./datasets/cora/\", dataset=\"cora\"):\n",
    "    \n",
    "    print('Loading {} datasets...'.format(dataset))\n",
    "\n",
    "    idx_features_labels = np.genfromtxt(\"{}{}.content\".format(path, dataset), dtype=np.dtype(str))\n",
    "    features = sp.csr_matrix(idx_features_labels[:, 1:-1], dtype=np.float32)\n",
    "    labels = one_hot_encode(idx_features_labels[:, -1])\n",
    "\n",
    "    # build graph\n",
    "    idx = np.array(idx_features_labels[:, 0], dtype=np.int32)\n",
    "    idx_map = { j: i for i, j in enumerate(idx) }\n",
    "    edges_unordered = np.genfromtxt(\"{}{}.cites\".format(path, dataset),dtype=np.int32)\n",
    "    \n",
    "    edges = np.array(list(map(idx_map.get, edges_unordered.flatten())),\n",
    "                     dtype=np.int32).reshape(edges_unordered.shape)\n",
    "    adjacency = sp.coo_matrix((np.ones(edges.shape[0]), (edges[:, 0], edges[:, 1])),\n",
    "                         shape=(labels.shape[0], labels.shape[0]),\n",
    "                         dtype=np.float32)\n",
    "\n",
    "    # build symmetric adjacency matrix\n",
    "    adjacency = adjacency + adjacency.T.multiply(adjacency.T > adjacency) - adjacency.multiply(adjacency.T > adjacency)\n",
    "\n",
    "    features = normalize(features)\n",
    "    adjacency = normalize(adjacency + sp.eye(adjacency.shape[0]))\n",
    "\n",
    "    idx_train = range(140)\n",
    "    idx_valid = range(200, 500)\n",
    "    idx_test = range(500, 1500)\n",
    "    \n",
    "    idx_train = torch.LongTensor(idx_train)\n",
    "    idx_valid = torch.LongTensor(idx_valid)\n",
    "    idx_test = torch.LongTensor(idx_test)\n",
    "\n",
    "    features = torch.FloatTensor(np.array(features.todense()))\n",
    "    labels = torch.LongTensor(np.where(labels)[1])\n",
    "    adjacency = sparse_matrix_to_sparse_tensor(adjacency)\n",
    "\n",
    "    return adjacency, features, labels, idx_train, idx_valid, idx_test"
   ]
  },
  {
   "cell_type": "markdown",
   "metadata": {},
   "source": [
    "## Load Data"
   ]
  },
  {
   "cell_type": "code",
   "execution_count": 11,
   "metadata": {},
   "outputs": [
    {
     "name": "stdout",
     "output_type": "stream",
     "text": [
      "Loading cora datasets...\n"
     ]
    }
   ],
   "source": [
    "adjacency, features, labels, idx_train, idx_valid, idx_test = load_data()"
   ]
  },
  {
   "cell_type": "markdown",
   "metadata": {},
   "source": [
    "## Build [Graph](https://arxiv.org/pdf/1609.02907.pdf) Convolution Networks Architecture"
   ]
  },
  {
   "cell_type": "code",
   "execution_count": 12,
   "metadata": {},
   "outputs": [],
   "source": [
    "class GraphConvolution(Module):\n",
    "\n",
    "    def __init__(self, in_features, out_features, bias=True):\n",
    "        super(GraphConvolution, self).__init__()\n",
    "        self.in_features = in_features\n",
    "        self.out_features = out_features\n",
    "        self.weight = Parameter(torch.FloatTensor(in_features, out_features))\n",
    "        if bias:\n",
    "            self.bias = Parameter(torch.FloatTensor(out_features))\n",
    "        else:\n",
    "            self.register_parameter('bias', None)\n",
    "        self.reset_parameters()\n",
    "\n",
    "    def reset_parameters(self):\n",
    "        stdv = 1. / math.sqrt(self.weight.size(1))\n",
    "        self.weight.data.uniform_(-stdv, stdv)\n",
    "        if self.bias is not None:\n",
    "            self.bias.data.uniform_(-stdv, stdv)\n",
    "\n",
    "    def forward(self, input, adjacency):\n",
    "        support = torch.mm(input, self.weight)\n",
    "        output = torch.spmm(adjacency, support)\n",
    "        if self.bias is not None:\n",
    "            return output + self.bias\n",
    "        else:\n",
    "            return output\n",
    "\n",
    "    def __repr__(self):\n",
    "        return self.__class__.__name__ + ' (' + str(self.in_features) + ' -> ' + str(self.out_features) + ')'"
   ]
  },
  {
   "cell_type": "code",
   "execution_count": 13,
   "metadata": {},
   "outputs": [],
   "source": [
    "class GCN(nn.Module):\n",
    "    \n",
    "    def __init__(self, n_features, n_hidden, n_class, dropout):\n",
    "        super(GCN, self).__init__()\n",
    "\n",
    "        self.gc1_layer = GraphConvolution(n_features, n_hidden)\n",
    "        self.gc2_layer = GraphConvolution(n_hidden, n_class)\n",
    "        self.dropout = dropout\n",
    "\n",
    "    def forward(self, x, adjacency):\n",
    "        x = F.relu(self.gc1_layer(x, adjacency))\n",
    "        x = F.dropout(x, self.dropout, training=self.training)\n",
    "        x = F.log_softmax(self.gc2_layer(x, adjacency), dim=1)\n",
    "        return x"
   ]
  },
  {
   "cell_type": "markdown",
   "metadata": {},
   "source": [
    "#### Initialize GCN Network"
   ]
  },
  {
   "cell_type": "code",
   "execution_count": 14,
   "metadata": {},
   "outputs": [],
   "source": [
    "gcn = GCN(n_features = features.shape[1],\n",
    "            n_hidden = N_HIDDEN,\n",
    "            n_class = labels.max().item() + 1,\n",
    "            dropout = DROPOUT)"
   ]
  },
  {
   "cell_type": "markdown",
   "metadata": {},
   "source": [
    "## Set Optimizer"
   ]
  },
  {
   "cell_type": "code",
   "execution_count": 15,
   "metadata": {},
   "outputs": [],
   "source": [
    "optimizer = torch.optim.Adam(gcn.parameters(), lr=LR, weight_decay=WEIGHT_DECAY)\n",
    "\n",
    "if device.type != 'cpu':\n",
    "    adjacency = adjacency.cuda()\n",
    "    features = features.cuda()\n",
    "    labels = labels.cuda()\n",
    "    idx_train = idx_train.cuda()\n",
    "    idx_valid = idx_valid.cuda()\n",
    "    idx_test = idx_test.cuda()\n",
    "    gcn = gcn.cuda()"
   ]
  },
  {
   "cell_type": "markdown",
   "metadata": {},
   "source": [
    "## Train The Network"
   ]
  },
  {
   "cell_type": "code",
   "execution_count": 16,
   "metadata": {},
   "outputs": [
    {
     "name": "stdout",
     "output_type": "stream",
     "text": [
      "Epoch: 0001 Train Loss: 2.0019 Train Accuracy: 0.2000 Valid Loss: 2.0040 Valid Accuracy: 0.1567 Time: 0.0258s\n",
      "Epoch: 0002 Train Loss: 1.9837 Train Accuracy: 0.2000 Valid Loss: 1.9877 Valid Accuracy: 0.1567 Time: 0.0458s\n",
      "Epoch: 0003 Train Loss: 1.9684 Train Accuracy: 0.2000 Valid Loss: 1.9729 Valid Accuracy: 0.1567 Time: 0.0620s\n",
      "Epoch: 0004 Train Loss: 1.9543 Train Accuracy: 0.2000 Valid Loss: 1.9593 Valid Accuracy: 0.1567 Time: 0.0760s\n",
      "Epoch: 0005 Train Loss: 1.9413 Train Accuracy: 0.2000 Valid Loss: 1.9465 Valid Accuracy: 0.1567 Time: 0.0911s\n",
      "Epoch: 0006 Train Loss: 1.9288 Train Accuracy: 0.2000 Valid Loss: 1.9342 Valid Accuracy: 0.1567 Time: 0.1050s\n",
      "Epoch: 0007 Train Loss: 1.9166 Train Accuracy: 0.2000 Valid Loss: 1.9224 Valid Accuracy: 0.1567 Time: 0.1201s\n",
      "Epoch: 0008 Train Loss: 1.9046 Train Accuracy: 0.2000 Valid Loss: 1.9108 Valid Accuracy: 0.1567 Time: 0.1348s\n",
      "Epoch: 0009 Train Loss: 1.8928 Train Accuracy: 0.2000 Valid Loss: 1.8994 Valid Accuracy: 0.1567 Time: 0.1495s\n",
      "Epoch: 0010 Train Loss: 1.8810 Train Accuracy: 0.2000 Valid Loss: 1.8881 Valid Accuracy: 0.1567 Time: 0.1729s\n",
      "Epoch: 0011 Train Loss: 1.8692 Train Accuracy: 0.2000 Valid Loss: 1.8770 Valid Accuracy: 0.1567 Time: 0.1860s\n",
      "Epoch: 0012 Train Loss: 1.8575 Train Accuracy: 0.2000 Valid Loss: 1.8660 Valid Accuracy: 0.1567 Time: 0.2041s\n",
      "Epoch: 0013 Train Loss: 1.8458 Train Accuracy: 0.2000 Valid Loss: 1.8552 Valid Accuracy: 0.1600 Time: 0.2206s\n",
      "Epoch: 0014 Train Loss: 1.8342 Train Accuracy: 0.2214 Valid Loss: 1.8446 Valid Accuracy: 0.1933 Time: 0.2408s\n",
      "Epoch: 0015 Train Loss: 1.8229 Train Accuracy: 0.2786 Valid Loss: 1.8342 Valid Accuracy: 0.3633 Time: 0.2573s\n",
      "Epoch: 0016 Train Loss: 1.8117 Train Accuracy: 0.4071 Valid Loss: 1.8239 Valid Accuracy: 0.4367 Time: 0.2794s\n",
      "Epoch: 0017 Train Loss: 1.8006 Train Accuracy: 0.4714 Valid Loss: 1.8137 Valid Accuracy: 0.4767 Time: 0.2934s\n",
      "Epoch: 0018 Train Loss: 1.7895 Train Accuracy: 0.4786 Valid Loss: 1.8036 Valid Accuracy: 0.4367 Time: 0.3127s\n",
      "Epoch: 0019 Train Loss: 1.7785 Train Accuracy: 0.4714 Valid Loss: 1.7935 Valid Accuracy: 0.4100 Time: 0.3254s\n",
      "Epoch: 0020 Train Loss: 1.7676 Train Accuracy: 0.4429 Valid Loss: 1.7836 Valid Accuracy: 0.4000 Time: 0.3367s\n",
      "Epoch: 0021 Train Loss: 1.7568 Train Accuracy: 0.4286 Valid Loss: 1.7739 Valid Accuracy: 0.3833 Time: 0.3476s\n",
      "Epoch: 0022 Train Loss: 1.7462 Train Accuracy: 0.4214 Valid Loss: 1.7644 Valid Accuracy: 0.3733 Time: 0.3585s\n",
      "Epoch: 0023 Train Loss: 1.7357 Train Accuracy: 0.4071 Valid Loss: 1.7551 Valid Accuracy: 0.3700 Time: 0.3721s\n",
      "Epoch: 0024 Train Loss: 1.7253 Train Accuracy: 0.4000 Valid Loss: 1.7460 Valid Accuracy: 0.3700 Time: 0.3829s\n",
      "Epoch: 0025 Train Loss: 1.7150 Train Accuracy: 0.3857 Valid Loss: 1.7372 Valid Accuracy: 0.3700 Time: 0.3960s\n",
      "Epoch: 0026 Train Loss: 1.7049 Train Accuracy: 0.3786 Valid Loss: 1.7285 Valid Accuracy: 0.3700 Time: 0.4065s\n",
      "Epoch: 0027 Train Loss: 1.6947 Train Accuracy: 0.3786 Valid Loss: 1.7202 Valid Accuracy: 0.3700 Time: 0.4172s\n",
      "Epoch: 0028 Train Loss: 1.6846 Train Accuracy: 0.3786 Valid Loss: 1.7120 Valid Accuracy: 0.3700 Time: 0.4279s\n",
      "Epoch: 0029 Train Loss: 1.6745 Train Accuracy: 0.3786 Valid Loss: 1.7041 Valid Accuracy: 0.3700 Time: 0.4385s\n",
      "Epoch: 0030 Train Loss: 1.6642 Train Accuracy: 0.3857 Valid Loss: 1.6963 Valid Accuracy: 0.3700 Time: 0.4526s\n",
      "Epoch: 0031 Train Loss: 1.6538 Train Accuracy: 0.3857 Valid Loss: 1.6886 Valid Accuracy: 0.3700 Time: 0.4687s\n",
      "Epoch: 0032 Train Loss: 1.6431 Train Accuracy: 0.3929 Valid Loss: 1.6810 Valid Accuracy: 0.3700 Time: 0.4827s\n",
      "Epoch: 0033 Train Loss: 1.6321 Train Accuracy: 0.4071 Valid Loss: 1.6734 Valid Accuracy: 0.3733 Time: 0.4942s\n",
      "Epoch: 0034 Train Loss: 1.6208 Train Accuracy: 0.4071 Valid Loss: 1.6658 Valid Accuracy: 0.3733 Time: 0.5089s\n",
      "Epoch: 0035 Train Loss: 1.6091 Train Accuracy: 0.4143 Valid Loss: 1.6580 Valid Accuracy: 0.3733 Time: 0.5201s\n",
      "Epoch: 0036 Train Loss: 1.5969 Train Accuracy: 0.4286 Valid Loss: 1.6502 Valid Accuracy: 0.3800 Time: 0.5314s\n",
      "Epoch: 0037 Train Loss: 1.5844 Train Accuracy: 0.4286 Valid Loss: 1.6421 Valid Accuracy: 0.3900 Time: 0.5424s\n",
      "Epoch: 0038 Train Loss: 1.5715 Train Accuracy: 0.4357 Valid Loss: 1.6339 Valid Accuracy: 0.4067 Time: 0.5534s\n",
      "Epoch: 0039 Train Loss: 1.5581 Train Accuracy: 0.4357 Valid Loss: 1.6254 Valid Accuracy: 0.4100 Time: 0.5782s\n",
      "Epoch: 0040 Train Loss: 1.5442 Train Accuracy: 0.4500 Valid Loss: 1.6167 Valid Accuracy: 0.4100 Time: 0.5924s\n",
      "Epoch: 0041 Train Loss: 1.5299 Train Accuracy: 0.4500 Valid Loss: 1.6076 Valid Accuracy: 0.4167 Time: 0.6086s\n",
      "Epoch: 0042 Train Loss: 1.5152 Train Accuracy: 0.4571 Valid Loss: 1.5983 Valid Accuracy: 0.4200 Time: 0.6257s\n",
      "Epoch: 0043 Train Loss: 1.5000 Train Accuracy: 0.4643 Valid Loss: 1.5885 Valid Accuracy: 0.4300 Time: 0.6470s\n",
      "Epoch: 0044 Train Loss: 1.4846 Train Accuracy: 0.4786 Valid Loss: 1.5783 Valid Accuracy: 0.4367 Time: 0.6673s\n",
      "Epoch: 0045 Train Loss: 1.4688 Train Accuracy: 0.4857 Valid Loss: 1.5677 Valid Accuracy: 0.4467 Time: 0.6822s\n",
      "Epoch: 0046 Train Loss: 1.4526 Train Accuracy: 0.4857 Valid Loss: 1.5566 Valid Accuracy: 0.4467 Time: 0.7021s\n",
      "Epoch: 0047 Train Loss: 1.4361 Train Accuracy: 0.4857 Valid Loss: 1.5450 Valid Accuracy: 0.4567 Time: 0.7304s\n",
      "Epoch: 0048 Train Loss: 1.4193 Train Accuracy: 0.4857 Valid Loss: 1.5330 Valid Accuracy: 0.4567 Time: 0.7472s\n",
      "Epoch: 0049 Train Loss: 1.4021 Train Accuracy: 0.4929 Valid Loss: 1.5205 Valid Accuracy: 0.4567 Time: 0.7639s\n",
      "Epoch: 0050 Train Loss: 1.3845 Train Accuracy: 0.5071 Valid Loss: 1.5077 Valid Accuracy: 0.4600 Time: 0.7810s\n",
      "Epoch: 0051 Train Loss: 1.3667 Train Accuracy: 0.5143 Valid Loss: 1.4947 Valid Accuracy: 0.4633 Time: 0.7974s\n",
      "Epoch: 0052 Train Loss: 1.3486 Train Accuracy: 0.5143 Valid Loss: 1.4813 Valid Accuracy: 0.4700 Time: 0.8164s\n",
      "Epoch: 0053 Train Loss: 1.3302 Train Accuracy: 0.5214 Valid Loss: 1.4677 Valid Accuracy: 0.4733 Time: 0.8319s\n",
      "Epoch: 0054 Train Loss: 1.3114 Train Accuracy: 0.5357 Valid Loss: 1.4539 Valid Accuracy: 0.4733 Time: 0.8484s\n",
      "Epoch: 0055 Train Loss: 1.2924 Train Accuracy: 0.5357 Valid Loss: 1.4398 Valid Accuracy: 0.4800 Time: 0.8650s\n",
      "Epoch: 0056 Train Loss: 1.2731 Train Accuracy: 0.5571 Valid Loss: 1.4256 Valid Accuracy: 0.4900 Time: 0.8855s\n",
      "Epoch: 0057 Train Loss: 1.2537 Train Accuracy: 0.5714 Valid Loss: 1.4112 Valid Accuracy: 0.5133 Time: 0.9026s\n",
      "Epoch: 0058 Train Loss: 1.2341 Train Accuracy: 0.6071 Valid Loss: 1.3966 Valid Accuracy: 0.5333 Time: 0.9167s\n",
      "Epoch: 0059 Train Loss: 1.2143 Train Accuracy: 0.6143 Valid Loss: 1.3819 Valid Accuracy: 0.5567 Time: 0.9285s\n",
      "Epoch: 0060 Train Loss: 1.1945 Train Accuracy: 0.6357 Valid Loss: 1.3672 Valid Accuracy: 0.5800 Time: 0.9402s\n",
      "Epoch: 0061 Train Loss: 1.1746 Train Accuracy: 0.6500 Valid Loss: 1.3524 Valid Accuracy: 0.6033 Time: 0.9511s\n",
      "Epoch: 0062 Train Loss: 1.1547 Train Accuracy: 0.6857 Valid Loss: 1.3377 Valid Accuracy: 0.6233 Time: 0.9617s\n",
      "Epoch: 0063 Train Loss: 1.1348 Train Accuracy: 0.7143 Valid Loss: 1.3230 Valid Accuracy: 0.6467 Time: 0.9729s\n",
      "Epoch: 0064 Train Loss: 1.1150 Train Accuracy: 0.7571 Valid Loss: 1.3081 Valid Accuracy: 0.6500 Time: 0.9843s\n",
      "Epoch: 0065 Train Loss: 1.0952 Train Accuracy: 0.7643 Valid Loss: 1.2933 Valid Accuracy: 0.6667 Time: 0.9952s\n",
      "Epoch: 0066 Train Loss: 1.0755 Train Accuracy: 0.7929 Valid Loss: 1.2785 Valid Accuracy: 0.6867 Time: 1.0128s\n",
      "Epoch: 0067 Train Loss: 1.0559 Train Accuracy: 0.8071 Valid Loss: 1.2637 Valid Accuracy: 0.7000 Time: 1.0260s\n",
      "Epoch: 0068 Train Loss: 1.0365 Train Accuracy: 0.8214 Valid Loss: 1.2490 Valid Accuracy: 0.7167 Time: 1.0387s\n",
      "Epoch: 0069 Train Loss: 1.0172 Train Accuracy: 0.8357 Valid Loss: 1.2344 Valid Accuracy: 0.7200 Time: 1.0494s\n",
      "Epoch: 0070 Train Loss: 0.9982 Train Accuracy: 0.8429 Valid Loss: 1.2199 Valid Accuracy: 0.7300 Time: 1.0619s\n",
      "Epoch: 0071 Train Loss: 0.9795 Train Accuracy: 0.8429 Valid Loss: 1.2055 Valid Accuracy: 0.7333 Time: 1.0752s\n",
      "Epoch: 0072 Train Loss: 0.9611 Train Accuracy: 0.8429 Valid Loss: 1.1913 Valid Accuracy: 0.7433 Time: 1.0877s\n",
      "Epoch: 0073 Train Loss: 0.9430 Train Accuracy: 0.8500 Valid Loss: 1.1773 Valid Accuracy: 0.7500 Time: 1.1088s\n",
      "Epoch: 0074 Train Loss: 0.9251 Train Accuracy: 0.8571 Valid Loss: 1.1634 Valid Accuracy: 0.7500 Time: 1.1251s\n",
      "Epoch: 0075 Train Loss: 0.9076 Train Accuracy: 0.8571 Valid Loss: 1.1498 Valid Accuracy: 0.7600 Time: 1.1395s\n",
      "Epoch: 0076 Train Loss: 0.8905 Train Accuracy: 0.8571 Valid Loss: 1.1363 Valid Accuracy: 0.7700 Time: 1.1536s\n",
      "Epoch: 0077 Train Loss: 0.8736 Train Accuracy: 0.8643 Valid Loss: 1.1231 Valid Accuracy: 0.7767 Time: 1.1657s\n",
      "Epoch: 0078 Train Loss: 0.8571 Train Accuracy: 0.8643 Valid Loss: 1.1100 Valid Accuracy: 0.7767 Time: 1.1769s\n",
      "Epoch: 0079 Train Loss: 0.8408 Train Accuracy: 0.8786 Valid Loss: 1.0970 Valid Accuracy: 0.7867 Time: 1.1884s\n",
      "Epoch: 0080 Train Loss: 0.8249 Train Accuracy: 0.8857 Valid Loss: 1.0843 Valid Accuracy: 0.7900 Time: 1.2004s\n",
      "Epoch: 0081 Train Loss: 0.8094 Train Accuracy: 0.8929 Valid Loss: 1.0718 Valid Accuracy: 0.8000 Time: 1.2197s\n",
      "Epoch: 0082 Train Loss: 0.7942 Train Accuracy: 0.9000 Valid Loss: 1.0597 Valid Accuracy: 0.8033 Time: 1.2410s\n",
      "Epoch: 0083 Train Loss: 0.7793 Train Accuracy: 0.9000 Valid Loss: 1.0478 Valid Accuracy: 0.8067 Time: 1.2552s\n",
      "Epoch: 0084 Train Loss: 0.7647 Train Accuracy: 0.9071 Valid Loss: 1.0363 Valid Accuracy: 0.8133 Time: 1.2691s\n",
      "Epoch: 0085 Train Loss: 0.7505 Train Accuracy: 0.9214 Valid Loss: 1.0250 Valid Accuracy: 0.8133 Time: 1.2808s\n"
     ]
    },
    {
     "name": "stdout",
     "output_type": "stream",
     "text": [
      "Epoch: 0086 Train Loss: 0.7366 Train Accuracy: 0.9286 Valid Loss: 1.0140 Valid Accuracy: 0.8100 Time: 1.3017s\n",
      "Epoch: 0087 Train Loss: 0.7231 Train Accuracy: 0.9357 Valid Loss: 1.0033 Valid Accuracy: 0.8100 Time: 1.3316s\n",
      "Epoch: 0088 Train Loss: 0.7099 Train Accuracy: 0.9357 Valid Loss: 0.9928 Valid Accuracy: 0.8133 Time: 1.3442s\n",
      "Epoch: 0089 Train Loss: 0.6971 Train Accuracy: 0.9357 Valid Loss: 0.9827 Valid Accuracy: 0.8100 Time: 1.3580s\n",
      "Epoch: 0090 Train Loss: 0.6846 Train Accuracy: 0.9357 Valid Loss: 0.9728 Valid Accuracy: 0.8133 Time: 1.3710s\n",
      "Epoch: 0091 Train Loss: 0.6724 Train Accuracy: 0.9357 Valid Loss: 0.9632 Valid Accuracy: 0.8167 Time: 1.3830s\n",
      "Epoch: 0092 Train Loss: 0.6605 Train Accuracy: 0.9357 Valid Loss: 0.9539 Valid Accuracy: 0.8200 Time: 1.3951s\n",
      "Epoch: 0093 Train Loss: 0.6490 Train Accuracy: 0.9357 Valid Loss: 0.9447 Valid Accuracy: 0.8267 Time: 1.4061s\n",
      "Epoch: 0094 Train Loss: 0.6378 Train Accuracy: 0.9429 Valid Loss: 0.9359 Valid Accuracy: 0.8233 Time: 1.4166s\n",
      "Epoch: 0095 Train Loss: 0.6269 Train Accuracy: 0.9429 Valid Loss: 0.9274 Valid Accuracy: 0.8267 Time: 1.4287s\n",
      "Epoch: 0096 Train Loss: 0.6164 Train Accuracy: 0.9429 Valid Loss: 0.9192 Valid Accuracy: 0.8300 Time: 1.4423s\n",
      "Epoch: 0097 Train Loss: 0.6062 Train Accuracy: 0.9429 Valid Loss: 0.9113 Valid Accuracy: 0.8267 Time: 1.4538s\n",
      "Epoch: 0098 Train Loss: 0.5964 Train Accuracy: 0.9429 Valid Loss: 0.9037 Valid Accuracy: 0.8233 Time: 1.4661s\n",
      "Epoch: 0099 Train Loss: 0.5869 Train Accuracy: 0.9429 Valid Loss: 0.8963 Valid Accuracy: 0.8200 Time: 1.4791s\n",
      "Epoch: 0100 Train Loss: 0.5776 Train Accuracy: 0.9429 Valid Loss: 0.8892 Valid Accuracy: 0.8200 Time: 1.4907s\n",
      "Epoch: 0101 Train Loss: 0.5687 Train Accuracy: 0.9429 Valid Loss: 0.8823 Valid Accuracy: 0.8233 Time: 1.5072s\n",
      "Epoch: 0102 Train Loss: 0.5601 Train Accuracy: 0.9429 Valid Loss: 0.8757 Valid Accuracy: 0.8233 Time: 1.5240s\n",
      "Epoch: 0103 Train Loss: 0.5518 Train Accuracy: 0.9429 Valid Loss: 0.8695 Valid Accuracy: 0.8200 Time: 1.5393s\n",
      "Epoch: 0104 Train Loss: 0.5438 Train Accuracy: 0.9429 Valid Loss: 0.8634 Valid Accuracy: 0.8233 Time: 1.5568s\n",
      "Epoch: 0105 Train Loss: 0.5360 Train Accuracy: 0.9500 Valid Loss: 0.8575 Valid Accuracy: 0.8233 Time: 1.5710s\n",
      "Epoch: 0106 Train Loss: 0.5284 Train Accuracy: 0.9500 Valid Loss: 0.8519 Valid Accuracy: 0.8200 Time: 1.5846s\n",
      "Epoch: 0107 Train Loss: 0.5212 Train Accuracy: 0.9500 Valid Loss: 0.8465 Valid Accuracy: 0.8200 Time: 1.5972s\n",
      "Epoch: 0108 Train Loss: 0.5141 Train Accuracy: 0.9500 Valid Loss: 0.8414 Valid Accuracy: 0.8233 Time: 1.6101s\n",
      "Epoch: 0109 Train Loss: 0.5073 Train Accuracy: 0.9571 Valid Loss: 0.8365 Valid Accuracy: 0.8200 Time: 1.6213s\n",
      "Epoch: 0110 Train Loss: 0.5007 Train Accuracy: 0.9571 Valid Loss: 0.8316 Valid Accuracy: 0.8200 Time: 1.6336s\n",
      "Epoch: 0111 Train Loss: 0.4943 Train Accuracy: 0.9571 Valid Loss: 0.8268 Valid Accuracy: 0.8200 Time: 1.6470s\n",
      "Epoch: 0112 Train Loss: 0.4880 Train Accuracy: 0.9571 Valid Loss: 0.8222 Valid Accuracy: 0.8200 Time: 1.6600s\n",
      "Epoch: 0113 Train Loss: 0.4820 Train Accuracy: 0.9571 Valid Loss: 0.8177 Valid Accuracy: 0.8200 Time: 1.6717s\n",
      "Epoch: 0114 Train Loss: 0.4761 Train Accuracy: 0.9571 Valid Loss: 0.8134 Valid Accuracy: 0.8200 Time: 1.6835s\n",
      "Epoch: 0115 Train Loss: 0.4704 Train Accuracy: 0.9571 Valid Loss: 0.8092 Valid Accuracy: 0.8200 Time: 1.6951s\n",
      "Epoch: 0116 Train Loss: 0.4649 Train Accuracy: 0.9571 Valid Loss: 0.8051 Valid Accuracy: 0.8233 Time: 1.7061s\n",
      "Epoch: 0117 Train Loss: 0.4595 Train Accuracy: 0.9571 Valid Loss: 0.8013 Valid Accuracy: 0.8233 Time: 1.7183s\n",
      "Epoch: 0118 Train Loss: 0.4543 Train Accuracy: 0.9571 Valid Loss: 0.7976 Valid Accuracy: 0.8200 Time: 1.7324s\n",
      "Epoch: 0119 Train Loss: 0.4492 Train Accuracy: 0.9571 Valid Loss: 0.7941 Valid Accuracy: 0.8200 Time: 1.7491s\n",
      "Epoch: 0120 Train Loss: 0.4443 Train Accuracy: 0.9643 Valid Loss: 0.7906 Valid Accuracy: 0.8200 Time: 1.7628s\n",
      "Epoch: 0121 Train Loss: 0.4395 Train Accuracy: 0.9643 Valid Loss: 0.7871 Valid Accuracy: 0.8200 Time: 1.7758s\n",
      "Epoch: 0122 Train Loss: 0.4349 Train Accuracy: 0.9714 Valid Loss: 0.7838 Valid Accuracy: 0.8200 Time: 1.7874s\n",
      "Epoch: 0123 Train Loss: 0.4303 Train Accuracy: 0.9714 Valid Loss: 0.7806 Valid Accuracy: 0.8233 Time: 1.8032s\n",
      "Epoch: 0124 Train Loss: 0.4259 Train Accuracy: 0.9714 Valid Loss: 0.7776 Valid Accuracy: 0.8233 Time: 1.8152s\n",
      "Epoch: 0125 Train Loss: 0.4216 Train Accuracy: 0.9714 Valid Loss: 0.7747 Valid Accuracy: 0.8233 Time: 1.8274s\n",
      "Epoch: 0126 Train Loss: 0.4174 Train Accuracy: 0.9714 Valid Loss: 0.7719 Valid Accuracy: 0.8233 Time: 1.8383s\n",
      "Epoch: 0127 Train Loss: 0.4133 Train Accuracy: 0.9714 Valid Loss: 0.7690 Valid Accuracy: 0.8233 Time: 1.8496s\n",
      "Epoch: 0128 Train Loss: 0.4093 Train Accuracy: 0.9714 Valid Loss: 0.7663 Valid Accuracy: 0.8233 Time: 1.8600s\n",
      "Epoch: 0129 Train Loss: 0.4054 Train Accuracy: 0.9714 Valid Loss: 0.7638 Valid Accuracy: 0.8200 Time: 1.8709s\n",
      "Epoch: 0130 Train Loss: 0.4016 Train Accuracy: 0.9714 Valid Loss: 0.7613 Valid Accuracy: 0.8200 Time: 1.8821s\n",
      "Epoch: 0131 Train Loss: 0.3979 Train Accuracy: 0.9714 Valid Loss: 0.7587 Valid Accuracy: 0.8200 Time: 1.8946s\n",
      "Epoch: 0132 Train Loss: 0.3943 Train Accuracy: 0.9714 Valid Loss: 0.7562 Valid Accuracy: 0.8200 Time: 1.9067s\n",
      "Epoch: 0133 Train Loss: 0.3907 Train Accuracy: 0.9714 Valid Loss: 0.7539 Valid Accuracy: 0.8200 Time: 1.9170s\n",
      "Epoch: 0134 Train Loss: 0.3873 Train Accuracy: 0.9714 Valid Loss: 0.7517 Valid Accuracy: 0.8200 Time: 1.9332s\n",
      "Epoch: 0135 Train Loss: 0.3839 Train Accuracy: 0.9714 Valid Loss: 0.7495 Valid Accuracy: 0.8200 Time: 1.9462s\n",
      "Epoch: 0136 Train Loss: 0.3805 Train Accuracy: 0.9714 Valid Loss: 0.7473 Valid Accuracy: 0.8200 Time: 1.9577s\n",
      "Epoch: 0137 Train Loss: 0.3773 Train Accuracy: 0.9714 Valid Loss: 0.7452 Valid Accuracy: 0.8200 Time: 1.9687s\n",
      "Epoch: 0138 Train Loss: 0.3741 Train Accuracy: 0.9714 Valid Loss: 0.7433 Valid Accuracy: 0.8200 Time: 1.9798s\n",
      "Epoch: 0139 Train Loss: 0.3709 Train Accuracy: 0.9714 Valid Loss: 0.7413 Valid Accuracy: 0.8200 Time: 1.9913s\n",
      "Epoch: 0140 Train Loss: 0.3678 Train Accuracy: 0.9714 Valid Loss: 0.7395 Valid Accuracy: 0.8167 Time: 2.0025s\n",
      "Epoch: 0141 Train Loss: 0.3648 Train Accuracy: 0.9714 Valid Loss: 0.7376 Valid Accuracy: 0.8167 Time: 2.0136s\n",
      "Epoch: 0142 Train Loss: 0.3618 Train Accuracy: 0.9714 Valid Loss: 0.7357 Valid Accuracy: 0.8167 Time: 2.0244s\n",
      "Epoch: 0143 Train Loss: 0.3588 Train Accuracy: 0.9714 Valid Loss: 0.7337 Valid Accuracy: 0.8167 Time: 2.0359s\n",
      "Epoch: 0144 Train Loss: 0.3559 Train Accuracy: 0.9714 Valid Loss: 0.7318 Valid Accuracy: 0.8200 Time: 2.0474s\n",
      "Epoch: 0145 Train Loss: 0.3530 Train Accuracy: 0.9714 Valid Loss: 0.7301 Valid Accuracy: 0.8167 Time: 2.0602s\n",
      "Epoch: 0146 Train Loss: 0.3502 Train Accuracy: 0.9714 Valid Loss: 0.7285 Valid Accuracy: 0.8167 Time: 2.0715s\n",
      "Epoch: 0147 Train Loss: 0.3474 Train Accuracy: 0.9714 Valid Loss: 0.7269 Valid Accuracy: 0.8167 Time: 2.0829s\n",
      "Epoch: 0148 Train Loss: 0.3447 Train Accuracy: 0.9714 Valid Loss: 0.7252 Valid Accuracy: 0.8167 Time: 2.0944s\n",
      "Epoch: 0149 Train Loss: 0.3420 Train Accuracy: 0.9714 Valid Loss: 0.7235 Valid Accuracy: 0.8200 Time: 2.1109s\n",
      "Epoch: 0150 Train Loss: 0.3393 Train Accuracy: 0.9714 Valid Loss: 0.7219 Valid Accuracy: 0.8200 Time: 2.1259s\n",
      "Epoch: 0151 Train Loss: 0.3366 Train Accuracy: 0.9714 Valid Loss: 0.7203 Valid Accuracy: 0.8133 Time: 2.1413s\n",
      "Epoch: 0152 Train Loss: 0.3340 Train Accuracy: 0.9714 Valid Loss: 0.7188 Valid Accuracy: 0.8133 Time: 2.1649s\n",
      "Epoch: 0153 Train Loss: 0.3315 Train Accuracy: 0.9714 Valid Loss: 0.7173 Valid Accuracy: 0.8133 Time: 2.1824s\n",
      "Epoch: 0154 Train Loss: 0.3289 Train Accuracy: 0.9714 Valid Loss: 0.7157 Valid Accuracy: 0.8167 Time: 2.2004s\n",
      "Epoch: 0155 Train Loss: 0.3265 Train Accuracy: 0.9714 Valid Loss: 0.7143 Valid Accuracy: 0.8167 Time: 2.2143s\n",
      "Epoch: 0156 Train Loss: 0.3240 Train Accuracy: 0.9714 Valid Loss: 0.7130 Valid Accuracy: 0.8167 Time: 2.2310s\n",
      "Epoch: 0157 Train Loss: 0.3216 Train Accuracy: 0.9714 Valid Loss: 0.7116 Valid Accuracy: 0.8167 Time: 2.2510s\n",
      "Epoch: 0158 Train Loss: 0.3192 Train Accuracy: 0.9714 Valid Loss: 0.7101 Valid Accuracy: 0.8167 Time: 2.2680s\n",
      "Epoch: 0159 Train Loss: 0.3168 Train Accuracy: 0.9714 Valid Loss: 0.7088 Valid Accuracy: 0.8167 Time: 2.2843s\n",
      "Epoch: 0160 Train Loss: 0.3145 Train Accuracy: 0.9714 Valid Loss: 0.7076 Valid Accuracy: 0.8167 Time: 2.3091s\n",
      "Epoch: 0161 Train Loss: 0.3122 Train Accuracy: 0.9714 Valid Loss: 0.7062 Valid Accuracy: 0.8167 Time: 2.3275s\n"
     ]
    },
    {
     "name": "stdout",
     "output_type": "stream",
     "text": [
      "Epoch: 0162 Train Loss: 0.3100 Train Accuracy: 0.9714 Valid Loss: 0.7049 Valid Accuracy: 0.8167 Time: 2.3462s\n",
      "Epoch: 0163 Train Loss: 0.3077 Train Accuracy: 0.9714 Valid Loss: 0.7038 Valid Accuracy: 0.8167 Time: 2.3618s\n",
      "Epoch: 0164 Train Loss: 0.3055 Train Accuracy: 0.9714 Valid Loss: 0.7027 Valid Accuracy: 0.8167 Time: 2.3816s\n",
      "Epoch: 0165 Train Loss: 0.3034 Train Accuracy: 0.9714 Valid Loss: 0.7015 Valid Accuracy: 0.8200 Time: 2.3980s\n",
      "Epoch: 0166 Train Loss: 0.3012 Train Accuracy: 0.9714 Valid Loss: 0.7004 Valid Accuracy: 0.8200 Time: 2.4150s\n",
      "Epoch: 0167 Train Loss: 0.2991 Train Accuracy: 0.9786 Valid Loss: 0.6993 Valid Accuracy: 0.8200 Time: 2.4340s\n",
      "Epoch: 0168 Train Loss: 0.2970 Train Accuracy: 0.9786 Valid Loss: 0.6982 Valid Accuracy: 0.8167 Time: 2.4514s\n",
      "Epoch: 0169 Train Loss: 0.2950 Train Accuracy: 0.9786 Valid Loss: 0.6970 Valid Accuracy: 0.8167 Time: 2.4685s\n",
      "Epoch: 0170 Train Loss: 0.2930 Train Accuracy: 0.9786 Valid Loss: 0.6961 Valid Accuracy: 0.8167 Time: 2.4848s\n",
      "Epoch: 0171 Train Loss: 0.2910 Train Accuracy: 0.9786 Valid Loss: 0.6951 Valid Accuracy: 0.8167 Time: 2.5009s\n",
      "Epoch: 0172 Train Loss: 0.2890 Train Accuracy: 0.9786 Valid Loss: 0.6940 Valid Accuracy: 0.8167 Time: 2.5171s\n",
      "Epoch: 0173 Train Loss: 0.2870 Train Accuracy: 0.9786 Valid Loss: 0.6932 Valid Accuracy: 0.8167 Time: 2.5465s\n",
      "Epoch: 0174 Train Loss: 0.2851 Train Accuracy: 0.9786 Valid Loss: 0.6922 Valid Accuracy: 0.8167 Time: 2.5666s\n",
      "Epoch: 0175 Train Loss: 0.2832 Train Accuracy: 0.9786 Valid Loss: 0.6913 Valid Accuracy: 0.8133 Time: 2.5838s\n",
      "Epoch: 0176 Train Loss: 0.2813 Train Accuracy: 0.9786 Valid Loss: 0.6904 Valid Accuracy: 0.8100 Time: 2.6004s\n",
      "Epoch: 0177 Train Loss: 0.2794 Train Accuracy: 0.9786 Valid Loss: 0.6894 Valid Accuracy: 0.8100 Time: 2.6273s\n",
      "Epoch: 0178 Train Loss: 0.2776 Train Accuracy: 0.9786 Valid Loss: 0.6887 Valid Accuracy: 0.8100 Time: 2.6419s\n",
      "Epoch: 0179 Train Loss: 0.2757 Train Accuracy: 0.9786 Valid Loss: 0.6873 Valid Accuracy: 0.8100 Time: 2.6579s\n",
      "Epoch: 0180 Train Loss: 0.2739 Train Accuracy: 0.9786 Valid Loss: 0.6878 Valid Accuracy: 0.8100 Time: 2.6744s\n",
      "Epoch: 0181 Train Loss: 0.2721 Train Accuracy: 0.9786 Valid Loss: 0.6857 Valid Accuracy: 0.8100 Time: 2.6909s\n",
      "Epoch: 0182 Train Loss: 0.2704 Train Accuracy: 0.9786 Valid Loss: 0.6850 Valid Accuracy: 0.8100 Time: 2.7044s\n",
      "Epoch: 0183 Train Loss: 0.2686 Train Accuracy: 0.9786 Valid Loss: 0.6848 Valid Accuracy: 0.8100 Time: 2.7208s\n",
      "Epoch: 0184 Train Loss: 0.2669 Train Accuracy: 0.9786 Valid Loss: 0.6836 Valid Accuracy: 0.8100 Time: 2.7366s\n",
      "Epoch: 0185 Train Loss: 0.2652 Train Accuracy: 0.9786 Valid Loss: 0.6830 Valid Accuracy: 0.8100 Time: 2.7516s\n",
      "Epoch: 0186 Train Loss: 0.2634 Train Accuracy: 0.9786 Valid Loss: 0.6822 Valid Accuracy: 0.8100 Time: 2.7669s\n",
      "Epoch: 0187 Train Loss: 0.2618 Train Accuracy: 0.9786 Valid Loss: 0.6814 Valid Accuracy: 0.8100 Time: 2.7859s\n",
      "Epoch: 0188 Train Loss: 0.2601 Train Accuracy: 0.9786 Valid Loss: 0.6815 Valid Accuracy: 0.8100 Time: 2.7998s\n",
      "Epoch: 0189 Train Loss: 0.2585 Train Accuracy: 0.9786 Valid Loss: 0.6799 Valid Accuracy: 0.8067 Time: 2.8156s\n",
      "Epoch: 0190 Train Loss: 0.2569 Train Accuracy: 0.9786 Valid Loss: 0.6793 Valid Accuracy: 0.8067 Time: 2.8329s\n",
      "Epoch: 0191 Train Loss: 0.2553 Train Accuracy: 0.9786 Valid Loss: 0.6795 Valid Accuracy: 0.8067 Time: 2.8487s\n",
      "Epoch: 0192 Train Loss: 0.2537 Train Accuracy: 0.9786 Valid Loss: 0.6782 Valid Accuracy: 0.8067 Time: 2.8643s\n",
      "Epoch: 0193 Train Loss: 0.2522 Train Accuracy: 0.9786 Valid Loss: 0.6773 Valid Accuracy: 0.8067 Time: 2.8775s\n",
      "Epoch: 0194 Train Loss: 0.2506 Train Accuracy: 0.9786 Valid Loss: 0.6773 Valid Accuracy: 0.8067 Time: 2.8902s\n",
      "Epoch: 0195 Train Loss: 0.2491 Train Accuracy: 0.9786 Valid Loss: 0.6765 Valid Accuracy: 0.8067 Time: 2.9019s\n",
      "Epoch: 0196 Train Loss: 0.2476 Train Accuracy: 0.9786 Valid Loss: 0.6760 Valid Accuracy: 0.8100 Time: 2.9161s\n",
      "Epoch: 0197 Train Loss: 0.2461 Train Accuracy: 0.9786 Valid Loss: 0.6751 Valid Accuracy: 0.8067 Time: 2.9312s\n",
      "Epoch: 0198 Train Loss: 0.2447 Train Accuracy: 0.9786 Valid Loss: 0.6749 Valid Accuracy: 0.8100 Time: 2.9434s\n",
      "Epoch: 0199 Train Loss: 0.2432 Train Accuracy: 0.9786 Valid Loss: 0.6748 Valid Accuracy: 0.8100 Time: 2.9568s\n",
      "Epoch: 0200 Train Loss: 0.2418 Train Accuracy: 0.9786 Valid Loss: 0.6734 Valid Accuracy: 0.8067 Time: 2.9683s\n",
      "Epoch: 0201 Train Loss: 0.2405 Train Accuracy: 0.9786 Valid Loss: 0.6736 Valid Accuracy: 0.8100 Time: 2.9812s\n",
      "Epoch: 0202 Train Loss: 0.2391 Train Accuracy: 0.9786 Valid Loss: 0.6732 Valid Accuracy: 0.8100 Time: 2.9943s\n",
      "Epoch: 0203 Train Loss: 0.2377 Train Accuracy: 0.9786 Valid Loss: 0.6723 Valid Accuracy: 0.8100 Time: 3.0055s\n",
      "Epoch: 0204 Train Loss: 0.2364 Train Accuracy: 0.9786 Valid Loss: 0.6717 Valid Accuracy: 0.8100 Time: 3.0198s\n",
      "Epoch: 0205 Train Loss: 0.2351 Train Accuracy: 0.9786 Valid Loss: 0.6719 Valid Accuracy: 0.8100 Time: 3.0325s\n",
      "Epoch: 0206 Train Loss: 0.2338 Train Accuracy: 0.9786 Valid Loss: 0.6710 Valid Accuracy: 0.8100 Time: 3.0446s\n",
      "Epoch: 0207 Train Loss: 0.2325 Train Accuracy: 0.9857 Valid Loss: 0.6709 Valid Accuracy: 0.8100 Time: 3.0568s\n",
      "Epoch: 0208 Train Loss: 0.2313 Train Accuracy: 0.9786 Valid Loss: 0.6702 Valid Accuracy: 0.8100 Time: 3.0675s\n",
      "Epoch: 0209 Train Loss: 0.2301 Train Accuracy: 0.9857 Valid Loss: 0.6703 Valid Accuracy: 0.8067 Time: 3.0805s\n",
      "Epoch: 0210 Train Loss: 0.2289 Train Accuracy: 0.9857 Valid Loss: 0.6696 Valid Accuracy: 0.8067 Time: 3.0923s\n",
      "Epoch: 0211 Train Loss: 0.2277 Train Accuracy: 0.9857 Valid Loss: 0.6687 Valid Accuracy: 0.8067 Time: 3.1074s\n",
      "Epoch: 0212 Train Loss: 0.2265 Train Accuracy: 0.9857 Valid Loss: 0.6689 Valid Accuracy: 0.8067 Time: 3.1210s\n",
      "Epoch: 0213 Train Loss: 0.2253 Train Accuracy: 0.9857 Valid Loss: 0.6684 Valid Accuracy: 0.8067 Time: 3.1337s\n",
      "Epoch: 0214 Train Loss: 0.2242 Train Accuracy: 0.9857 Valid Loss: 0.6682 Valid Accuracy: 0.8033 Time: 3.1448s\n",
      "Epoch: 0215 Train Loss: 0.2230 Train Accuracy: 0.9857 Valid Loss: 0.6678 Valid Accuracy: 0.8033 Time: 3.1561s\n",
      "Epoch: 0216 Train Loss: 0.2220 Train Accuracy: 0.9857 Valid Loss: 0.6676 Valid Accuracy: 0.8033 Time: 3.1668s\n",
      "Epoch: 0217 Train Loss: 0.2209 Train Accuracy: 0.9857 Valid Loss: 0.6670 Valid Accuracy: 0.8033 Time: 3.1827s\n",
      "Epoch: 0218 Train Loss: 0.2198 Train Accuracy: 0.9857 Valid Loss: 0.6668 Valid Accuracy: 0.8033 Time: 3.1960s\n",
      "Epoch: 0219 Train Loss: 0.2188 Train Accuracy: 0.9857 Valid Loss: 0.6661 Valid Accuracy: 0.8033 Time: 3.2068s\n",
      "Epoch: 0220 Train Loss: 0.2177 Train Accuracy: 0.9857 Valid Loss: 0.6668 Valid Accuracy: 0.8033 Time: 3.2181s\n",
      "Epoch: 0221 Train Loss: 0.2167 Train Accuracy: 0.9857 Valid Loss: 0.6652 Valid Accuracy: 0.8033 Time: 3.2293s\n",
      "Epoch: 0222 Train Loss: 0.2157 Train Accuracy: 0.9857 Valid Loss: 0.6666 Valid Accuracy: 0.7967 Time: 3.2401s\n",
      "Epoch: 0223 Train Loss: 0.2147 Train Accuracy: 0.9929 Valid Loss: 0.6651 Valid Accuracy: 0.8033 Time: 3.2512s\n",
      "Epoch: 0224 Train Loss: 0.2137 Train Accuracy: 0.9857 Valid Loss: 0.6651 Valid Accuracy: 0.8033 Time: 3.2628s\n",
      "Epoch: 0225 Train Loss: 0.2127 Train Accuracy: 0.9929 Valid Loss: 0.6654 Valid Accuracy: 0.8033 Time: 3.2734s\n",
      "Epoch: 0226 Train Loss: 0.2118 Train Accuracy: 0.9929 Valid Loss: 0.6639 Valid Accuracy: 0.8033 Time: 3.2843s\n",
      "Epoch: 0227 Train Loss: 0.2108 Train Accuracy: 0.9857 Valid Loss: 0.6648 Valid Accuracy: 0.7967 Time: 3.2951s\n",
      "Epoch: 0228 Train Loss: 0.2099 Train Accuracy: 0.9929 Valid Loss: 0.6641 Valid Accuracy: 0.8033 Time: 3.3059s\n",
      "Epoch: 0229 Train Loss: 0.2090 Train Accuracy: 0.9929 Valid Loss: 0.6639 Valid Accuracy: 0.8033 Time: 3.3167s\n",
      "Epoch: 0230 Train Loss: 0.2081 Train Accuracy: 0.9929 Valid Loss: 0.6645 Valid Accuracy: 0.8033 Time: 3.3273s\n",
      "Epoch: 0231 Train Loss: 0.2072 Train Accuracy: 0.9929 Valid Loss: 0.6631 Valid Accuracy: 0.8033 Time: 3.3382s\n",
      "Epoch: 0232 Train Loss: 0.2063 Train Accuracy: 0.9929 Valid Loss: 0.6632 Valid Accuracy: 0.8033 Time: 3.3489s\n",
      "Epoch: 0233 Train Loss: 0.2055 Train Accuracy: 0.9929 Valid Loss: 0.6638 Valid Accuracy: 0.8033 Time: 3.3599s\n",
      "Epoch: 0234 Train Loss: 0.2046 Train Accuracy: 0.9929 Valid Loss: 0.6626 Valid Accuracy: 0.8033 Time: 3.3713s\n",
      "Epoch: 0235 Train Loss: 0.2038 Train Accuracy: 0.9929 Valid Loss: 0.6630 Valid Accuracy: 0.8033 Time: 3.3825s\n",
      "Epoch: 0236 Train Loss: 0.2030 Train Accuracy: 0.9929 Valid Loss: 0.6625 Valid Accuracy: 0.8033 Time: 3.3988s\n",
      "Epoch: 0237 Train Loss: 0.2021 Train Accuracy: 0.9929 Valid Loss: 0.6623 Valid Accuracy: 0.8033 Time: 3.4108s\n",
      "Epoch: 0238 Train Loss: 0.2013 Train Accuracy: 0.9929 Valid Loss: 0.6628 Valid Accuracy: 0.8033 Time: 3.4220s\n",
      "Epoch: 0239 Train Loss: 0.2006 Train Accuracy: 0.9929 Valid Loss: 0.6617 Valid Accuracy: 0.8033 Time: 3.4327s\n",
      "Epoch: 0240 Train Loss: 0.1998 Train Accuracy: 0.9929 Valid Loss: 0.6622 Valid Accuracy: 0.8033 Time: 3.4433s\n",
      "Epoch: 0241 Train Loss: 0.1990 Train Accuracy: 0.9929 Valid Loss: 0.6620 Valid Accuracy: 0.8033 Time: 3.4562s\n",
      "Epoch: 0242 Train Loss: 0.1983 Train Accuracy: 0.9929 Valid Loss: 0.6614 Valid Accuracy: 0.8033 Time: 3.4714s\n",
      "Epoch: 0243 Train Loss: 0.1975 Train Accuracy: 0.9929 Valid Loss: 0.6616 Valid Accuracy: 0.8033 Time: 3.4866s\n",
      "Epoch: 0244 Train Loss: 0.1968 Train Accuracy: 0.9929 Valid Loss: 0.6611 Valid Accuracy: 0.8033 Time: 3.5069s\n",
      "Epoch: 0245 Train Loss: 0.1960 Train Accuracy: 0.9929 Valid Loss: 0.6613 Valid Accuracy: 0.8033 Time: 3.5182s\n",
      "Epoch: 0246 Train Loss: 0.1953 Train Accuracy: 0.9929 Valid Loss: 0.6614 Valid Accuracy: 0.8033 Time: 3.5334s\n",
      "Epoch: 0247 Train Loss: 0.1946 Train Accuracy: 0.9929 Valid Loss: 0.6607 Valid Accuracy: 0.8033 Time: 3.5532s\n",
      "Epoch: 0248 Train Loss: 0.1939 Train Accuracy: 0.9929 Valid Loss: 0.6613 Valid Accuracy: 0.8033 Time: 3.5680s\n",
      "Epoch: 0249 Train Loss: 0.1932 Train Accuracy: 0.9929 Valid Loss: 0.6603 Valid Accuracy: 0.8033 Time: 3.5802s\n",
      "Epoch: 0250 Train Loss: 0.1926 Train Accuracy: 0.9929 Valid Loss: 0.6607 Valid Accuracy: 0.8033 Time: 3.5928s\n"
     ]
    }
   ],
   "source": [
    "tic = time.time()\n",
    "train_loss_history = []\n",
    "valid_loss_history = []\n",
    "train_accuracy_history = []\n",
    "valid_accuracy_history = []\n",
    "\n",
    "gcn.train()\n",
    "\n",
    "for epoch in range(N_EPOCHS):\n",
    "\n",
    "    optimizer.zero_grad()\n",
    "    \n",
    "    results = gcn(features, adjacency)\n",
    "    train_loss = F.nll_loss(results[idx_train], labels[idx_train])\n",
    "    train_accuracy = calculate_accuracy(results[idx_train], labels[idx_train])\n",
    "    \n",
    "    train_loss.backward()\n",
    "    optimizer.step()\n",
    "\n",
    "    train_loss_history.append(train_loss.item())\n",
    "    train_accuracy_history.append(train_accuracy.item())\n",
    "    \n",
    "    # validate the network\n",
    "    gcn.eval()\n",
    "    results = gcn(features, adjacency)\n",
    "\n",
    "    valid_loss = F.nll_loss(results[idx_valid], labels[idx_valid])\n",
    "    valid_accuracy = calculate_accuracy(results[idx_valid], labels[idx_valid])\n",
    "    \n",
    "    valid_loss_history.append(valid_loss.item())\n",
    "    valid_accuracy_history.append(valid_accuracy.item())\n",
    "    \n",
    "    toc = time.time() - tic\n",
    "    print('Epoch: {:04d}'.format(epoch+1), 'Train Loss: {:.4f}'.format(train_loss.item()), 'Train Accuracy: {:.4f}'.format(train_accuracy.item()),\n",
    "          'Valid Loss: {:.4f}'.format(valid_loss.item()), 'Valid Accuracy: {:.4f}'.format(valid_accuracy.item()), 'Time: {:.4f}s'.format(toc))"
   ]
  },
  {
   "cell_type": "code",
   "execution_count": 17,
   "metadata": {},
   "outputs": [
    {
     "data": {
      "image/png": "[encoded data removed]",
      "text/plain": [
       "<Figure size 720x360 with 1 Axes>"
      ]
     },
     "metadata": {
      "needs_background": "light"
     },
     "output_type": "display_data"
    }
   ],
   "source": [
    "plt.figure(figsize=(10,5))\n",
    "plt.title(\"Loss of Graph Convolutional Network\")\n",
    "plt.plot(train_loss_history, label=\"Train Loss\")\n",
    "plt.plot(valid_loss_history, label=\"Valid Loss\")\n",
    "plt.xlabel(\"Epoch\")\n",
    "plt.ylabel(\"Loss\")\n",
    "plt.legend()\n",
    "\n",
    "if not os.path.exists('./images/'): os.makedirs('./images/')\n",
    "plt.savefig('./images/final_loss_gcn.png')\n",
    "plt.show()"
   ]
  },
  {
   "cell_type": "code",
   "execution_count": 18,
   "metadata": {},
   "outputs": [
    {
     "data": {
      "image/png": "[encoded data removed]",
      "text/plain": [
       "<Figure size 720x360 with 1 Axes>"
      ]
     },
     "metadata": {
      "needs_background": "light"
     },
     "output_type": "display_data"
    }
   ],
   "source": [
    "plt.figure(figsize=(10,5))\n",
    "plt.title(\"Accuracy of Graph Convolutional Network\")\n",
    "plt.plot(train_accuracy_history, label=\"Train Accuracy\")\n",
    "plt.plot(valid_accuracy_history, label=\"Valid Accuracy\")\n",
    "plt.xlabel(\"Epoch\")\n",
    "plt.ylabel(\"Loss\")\n",
    "plt.legend()\n",
    "\n",
    "if not os.path.exists('./images/'): os.makedirs('./images/')\n",
    "plt.savefig('./images/final_accuracy_gcn.png')\n",
    "plt.show()"
   ]
  },
  {
   "cell_type": "markdown",
   "metadata": {},
   "source": [
    "## Test The Network"
   ]
  },
  {
   "cell_type": "code",
   "execution_count": 19,
   "metadata": {},
   "outputs": [
    {
     "name": "stdout",
     "output_type": "stream",
     "text": [
      "Test Results | Test Loss= 64.00%,  Test Accuracy= 82.60%\n"
     ]
    }
   ],
   "source": [
    "gcn.eval()\n",
    "results = gcn(features, adjacency)\n",
    "test_loss = F.nll_loss(results[idx_test], labels[idx_test])\n",
    "test_accuracy = calculate_accuracy(results[idx_test], labels[idx_test])\n",
    "print(\"Test Results |\", \"Test Loss= {:.2f}%, \".format(test_loss.item() * 100), \n",
    "                        \"Test Accuracy= {:.2f}%\".format(test_accuracy.item() * 100))"
   ]
  },
  {
   "cell_type": "markdown",
   "metadata": {},
   "source": [
    "---"
   ]
  }
 ],
 "metadata": {
  "kernelspec": {
   "display_name": "Python 3",
   "language": "python",
   "name": "python3"
  },
  "language_info": {
   "codemirror_mode": {
    "name": "ipython",
    "version": 3
   },
   "file_extension": ".py",
   "mimetype": "text/x-python",
   "name": "python",
   "nbconvert_exporter": "python",
   "pygments_lexer": "ipython3",
   "version": "3.7.3"
  }
 },
 "nbformat": 4,
 "nbformat_minor": 2
}
