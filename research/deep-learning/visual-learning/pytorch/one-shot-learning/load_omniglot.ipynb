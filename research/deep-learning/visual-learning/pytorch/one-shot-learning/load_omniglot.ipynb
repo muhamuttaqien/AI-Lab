{
 "cells": [
  {
   "cell_type": "code",
   "execution_count": 1,
   "metadata": {
    "collapsed": true
   },
   "outputs": [],
   "source": [
    "import os\n",
    "import numpy as np\n",
    "from skimage import io"
   ]
  },
  {
   "cell_type": "code",
   "execution_count": 2,
   "metadata": {
    "collapsed": true
   },
   "outputs": [],
   "source": [
    "train_path = 'datasets/omniglot/images_background/'"
   ]
  },
  {
   "cell_type": "code",
   "execution_count": 3,
   "metadata": {
    "collapsed": true
   },
   "outputs": [],
   "source": [
    "def load_datasets(train_path, n=0):\n",
    "    \n",
    "    X=[]\n",
    "    y = []\n",
    "    cat_dict = {}\n",
    "    lang_dict = {}\n",
    "    curr_y = n\n",
    "\n",
    "    for alphabet in os.listdir(train_path):\n",
    "        print(\"Loading alphanbet: \" + alphabet)\n",
    "        lang_dict[alphabet] = [curr_y, None]\n",
    "        alphabet_path = os.path.join(train_path, alphabet)\n",
    "\n",
    "        for letter in os.listdir(alphabet_path):\n",
    "            cat_dict[curr_y] = (alphabet, letter)\n",
    "            category_images=[]\n",
    "            letter_path = os.path.join(alphabet_path, letter)\n",
    "\n",
    "            for filename in os.listdir(letter_path):\n",
    "                image_path = os.path.join(letter_path, filename)\n",
    "                image = io.imread(image_path)\n",
    "                category_images.append(image)\n",
    "                y.append(curr_y)\n",
    "            try:\n",
    "                X.append(np.stack(category_images))\n",
    "            except ValueError as e:\n",
    "                print(e)\n",
    "                print(\"error - category_images:\", category_images)\n",
    "\n",
    "            curr_y += 1\n",
    "            lang_dict[alphabet][1] = curr_y - 1\n",
    "\n",
    "    y = np.vstack(y)\n",
    "    X = np.stack(X)\n",
    "    \n",
    "    return X, y, lang_dict"
   ]
  },
  {
   "cell_type": "code",
   "execution_count": 4,
   "metadata": {
    "scrolled": false
   },
   "outputs": [
    {
     "name": "stdout",
     "output_type": "stream",
     "text": [
      "Loading alphanbet: Gujarati\n",
      "Loading alphanbet: Korean\n",
      "Loading alphanbet: Arcadian\n",
      "Loading alphanbet: Malay_(Jawi_-_Arabic)\n",
      "Loading alphanbet: Grantha\n",
      "Loading alphanbet: Blackfoot_(Canadian_Aboriginal_Syllabics)\n",
      "Loading alphanbet: Balinese\n",
      "Loading alphanbet: Futurama\n",
      "Loading alphanbet: N_Ko\n",
      "Loading alphanbet: Burmese_(Myanmar)\n",
      "Loading alphanbet: Anglo-Saxon_Futhorc\n",
      "Loading alphanbet: Mkhedruli_(Georgian)\n",
      "Loading alphanbet: Latin\n",
      "Loading alphanbet: Braille\n",
      "Loading alphanbet: Sanskrit\n",
      "Loading alphanbet: Japanese_(hiragana)\n",
      "Loading alphanbet: Tagalog\n",
      "Loading alphanbet: Greek\n",
      "Loading alphanbet: Ojibwe_(Canadian_Aboriginal_Syllabics)\n",
      "Loading alphanbet: Japanese_(katakana)\n",
      "Loading alphanbet: Early_Aramaic\n",
      "Loading alphanbet: Hebrew\n",
      "Loading alphanbet: Tifinagh\n",
      "Loading alphanbet: Asomtavruli_(Georgian)\n",
      "Loading alphanbet: Armenian\n",
      "Loading alphanbet: Syriac_(Estrangelo)\n",
      "Loading alphanbet: Alphabet_of_the_Magi\n",
      "Loading alphanbet: Cyrillic\n",
      "Loading alphanbet: Bengali\n",
      "Loading alphanbet: Inuktitut_(Canadian_Aboriginal_Syllabics)\n"
     ]
    }
   ],
   "source": [
    "X, y, c = load_datasets(train_path)"
   ]
  },
  {
   "cell_type": "code",
   "execution_count": 5,
   "metadata": {},
   "outputs": [
    {
     "name": "stdout",
     "output_type": "stream",
     "text": [
      "X_shape: (964, 20, 105, 105)\n"
     ]
    }
   ],
   "source": [
    "print('X_shape:', X.shape)"
   ]
  },
  {
   "cell_type": "markdown",
   "metadata": {},
   "source": [
    ">This means we have 964 characters (or letters or categories) spanning across 30 different alphabets.\n",
    "For each of this character, we have 20 images, and each image is a gray scale image of resolution 105x105."
   ]
  },
  {
   "cell_type": "code",
   "execution_count": 6,
   "metadata": {},
   "outputs": [
    {
     "name": "stdout",
     "output_type": "stream",
     "text": [
      "y_shape: (19280, 1)\n"
     ]
    }
   ],
   "source": [
    "print('y_shape:', y.shape)"
   ]
  },
  {
   "cell_type": "markdown",
   "metadata": {},
   "source": [
    ">Total number of images = 964 * 20 = 19280. All the images for one letter have the same label., i.e. The first 20 images have the label 0, the next 20 have the label 1, and so on, … the last 20 images have the label 963."
   ]
  },
  {
   "cell_type": "markdown",
   "metadata": {},
   "source": [
    "---"
   ]
  }
 ],
 "metadata": {
  "kernelspec": {
   "display_name": "Python 3",
   "language": "python",
   "name": "python3"
  },
  "language_info": {
   "codemirror_mode": {
    "name": "ipython",
    "version": 3
   },
   "file_extension": ".py",
   "mimetype": "text/x-python",
   "name": "python",
   "nbconvert_exporter": "python",
   "pygments_lexer": "ipython3",
   "version": "3.6.3"
  }
 },
 "nbformat": 4,
 "nbformat_minor": 2
}
