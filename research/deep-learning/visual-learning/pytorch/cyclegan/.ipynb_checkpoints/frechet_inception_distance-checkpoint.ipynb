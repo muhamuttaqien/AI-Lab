{
 "cells": [
  {
   "cell_type": "markdown",
   "metadata": {},
   "source": [
    "# GAN Evaluation - Frechet Inception Distance (FID) Score"
   ]
  },
  {
   "cell_type": "markdown",
   "metadata": {},
   "source": [
    "## Basic [Concept](https://machinelearningmastery.com/how-to-implement-the-frechet-inception-distance-fid-from-scratch/)"
   ]
  },
  {
   "cell_type": "code",
   "execution_count": 1,
   "metadata": {
    "collapsed": true
   },
   "outputs": [],
   "source": [
    "import numpy as np\n",
    "from numpy import cov\n",
    "from numpy import trace\n",
    "from numpy import iscomplexobj\n",
    "from numpy.random import random\n",
    "\n",
    "from scipy.linalg import sqrtm"
   ]
  },
  {
   "cell_type": "code",
   "execution_count": 9,
   "metadata": {
    "collapsed": true
   },
   "outputs": [],
   "source": [
    "def calculate_fid_score(fvector1, fvector2):\n",
    "    # calculate mean and covariance statistics\n",
    "    mean1, sigma1 = fvector1.mean(axis=0), cov(fvector1, rowvar=False)\n",
    "    mean2, sigma2 = fvector2.mean(axis=0), cov(fvector2, rowvar=False)\n",
    "    \n",
    "    # calculate sum squared difference between two mean vectors\n",
    "    ssdiff = np.sum((mean1 - mean2) ** 2.0)\n",
    "    \n",
    "    # calculate sqrt of product between two covariance metrics\n",
    "    covmean = sqrtm(sigma1.dot(sigma2))\n",
    "    \n",
    "    # some elements in the resulting matrix may be imaginary\n",
    "    # check and correct imaginary numbers from sqrt\n",
    "    if iscomplexobj(covmean):\n",
    "        covmean = covmean.real\n",
    "        \n",
    "    # calculate score\n",
    "    fid = ssdiff + trace(sigma1 + sigma2 - 2.0 * covmean)\n",
    "    return fid"
   ]
  },
  {
   "cell_type": "code",
   "execution_count": 10,
   "metadata": {
    "collapsed": true
   },
   "outputs": [],
   "source": [
    "# define two collections of activations\n",
    "fvector1 = random(10*2048)\n",
    "fvector1 = fvector1.reshape((10,2048))\n",
    "fvector2 = random(10*2048)\n",
    "fvector2 = fvector2.reshape((10,2048))"
   ]
  },
  {
   "cell_type": "code",
   "execution_count": 11,
   "metadata": {},
   "outputs": [
    {
     "name": "stdout",
     "output_type": "stream",
     "text": [
      "FID (identical feature vectors): -0.000\n"
     ]
    }
   ],
   "source": [
    "# fid between act1 and act1\n",
    "fid = calculate_fid_score(fvector1, fvector1)\n",
    "print('FID (identical feature vectors): %.3f' % fid)"
   ]
  },
  {
   "cell_type": "code",
   "execution_count": 13,
   "metadata": {},
   "outputs": [
    {
     "name": "stdout",
     "output_type": "stream",
     "text": [
      "FID (different feature vectors): 354.907\n"
     ]
    }
   ],
   "source": [
    "# fid between act1 and act2\n",
    "fid = calculate_fid_score(fvector1, fvector2)\n",
    "print('FID (different feature vectors): %.3f' % fid)"
   ]
  },
  {
   "cell_type": "markdown",
   "metadata": {},
   "source": [
    "## FID in Pytorch"
   ]
  },
  {
   "cell_type": "code",
   "execution_count": 5,
   "metadata": {
    "collapsed": true
   },
   "outputs": [],
   "source": [
    "import torch\n",
    "from torch import nn\n",
    "from torch.autograd import Variable\n",
    "from torch.nn import functional as F\n",
    "import torch.utils.data\n",
    "\n",
    "from torchvision.models.inception import inception_v3"
   ]
  },
  {
   "cell_type": "code",
   "execution_count": null,
   "metadata": {
    "collapsed": true
   },
   "outputs": [],
   "source": [
    "def calculate_fid_score(images, batch_size=32, resize=False, cuda=False):\n",
    "    pass"
   ]
  },
  {
   "cell_type": "code",
   "execution_count": 11,
   "metadata": {},
   "outputs": [
    {
     "name": "stdout",
     "output_type": "stream",
     "text": [
      "Files already downloaded and verified\n"
     ]
    }
   ],
   "source": [
    "import torchvision.datasets as dset\n",
    "import torchvision.transforms as transforms\n",
    "\n",
    "cifar = dset.CIFAR10(root='data/', download=True,\n",
    "                         transform=transforms.Compose([\n",
    "                             transforms.Resize(32),\n",
    "                             transforms.ToTensor(),\n",
    "                             transforms.Normalize((0.5, 0.5, 0.5), (0.5, 0.5, 0.5))\n",
    "                         ])\n",
    ")"
   ]
  },
  {
   "cell_type": "code",
   "execution_count": null,
   "metadata": {
    "collapsed": true
   },
   "outputs": [],
   "source": [
    "class IgnoreLabelDataset(torch.utils.data.Dataset):\n",
    "    def __init__(self, orig):\n",
    "        self.orig = orig\n",
    "\n",
    "    def __getitem__(self, index):\n",
    "        return self.orig[index][0]\n",
    "\n",
    "    def __len__(self):\n",
    "        return len(self.orig)\n",
    "\n",
    "print(\"Calculating Inception Score...\")\n",
    "fid_score = calculate_fid_score(IgnoreLabelDataset(cifar), batch_size=32, resize=True, cuda=True)\n",
    "print(\"FID score:\",fid_score)"
   ]
  },
  {
   "cell_type": "markdown",
   "metadata": {},
   "source": [
    "---"
   ]
  }
 ],
 "metadata": {
  "kernelspec": {
   "display_name": "Python 3",
   "language": "python",
   "name": "python3"
  },
  "language_info": {
   "codemirror_mode": {
    "name": "ipython",
    "version": 3
   },
   "file_extension": ".py",
   "mimetype": "text/x-python",
   "name": "python",
   "nbconvert_exporter": "python",
   "pygments_lexer": "ipython3",
   "version": "3.6.3"
  }
 },
 "nbformat": 4,
 "nbformat_minor": 2
}
