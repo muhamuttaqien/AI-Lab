{
 "cells": [
  {
   "cell_type": "markdown",
   "metadata": {},
   "source": [
    "# GAN Evaluation - Inception Score (IS)"
   ]
  },
  {
   "cell_type": "markdown",
   "metadata": {},
   "source": [
    "## Basic [Concept](https://machinelearningmastery.com/how-to-implement-the-inception-score-from-scratch-for-evaluating-generated-images/)"
   ]
  },
  {
   "cell_type": "code",
   "execution_count": 1,
   "metadata": {
    "collapsed": true
   },
   "outputs": [],
   "source": [
    "import numpy as np\n",
    "from numpy import asarray\n",
    "from numpy import expand_dims\n",
    "from numpy import log\n",
    "from numpy import mean\n",
    "from numpy import exp\n",
    "\n",
    "from scipy.stats import entropy"
   ]
  },
  {
   "cell_type": "code",
   "execution_count": 2,
   "metadata": {
    "collapsed": true
   },
   "outputs": [],
   "source": [
    "def calculate_inception_score(p_yx, eps=1E-16): # an epsilon used to avoid blowing up when trying to calculate the log of a zero probability\n",
    "    # calculate p(y) as marginal probability\n",
    "    p_y = expand_dims(p_yx.mean(axis=0), 0)\n",
    "    \n",
    "    # KL divergence for each image => p(y|x) * (log(p(y|x)) – log(p(y)))\n",
    "    kl_d = p_yx * (log(p_yx + eps) - log(p_y + eps))\n",
    "    \n",
    "    # sum over classes\n",
    "    sum_kl_d = kl_d.sum(axis=1)\n",
    "    \n",
    "    # average over images\n",
    "    avg_kl_d = mean(sum_kl_d)\n",
    "    \n",
    "    # undo the logs\n",
    "    is_score = exp(avg_kl_d)\n",
    "    \n",
    "    return is_score"
   ]
  },
  {
   "cell_type": "code",
   "execution_count": 3,
   "metadata": {},
   "outputs": [
    {
     "name": "stdout",
     "output_type": "stream",
     "text": [
      "IS Score: 2.999999999999999\n"
     ]
    }
   ],
   "source": [
    "# conditional probabilities for high quality images of 3 classes\n",
    "p_yx = asarray([[1.0, 0.0, 0.0], [0.0, 1.0, 0.0], [0.0, 0.0, 1.0]])\n",
    "IS_score = calculate_inception_score(p_yx)\n",
    "print('IS Score:',IS_score)"
   ]
  },
  {
   "cell_type": "code",
   "execution_count": 4,
   "metadata": {},
   "outputs": [
    {
     "name": "stdout",
     "output_type": "stream",
     "text": [
      "IS Score: 1.0\n"
     ]
    }
   ],
   "source": [
    "# conditional probabilities for low quality images\n",
    "p_yx = asarray([[0.5, 0.5, 0.5], [0.5, 0.5, 0.5], [0.5, 0.5, 0.5]])\n",
    "IS_score = calculate_inception_score(p_yx)\n",
    "print('IS Score:',IS_score)"
   ]
  },
  {
   "cell_type": "markdown",
   "metadata": {},
   "source": [
    "## IS in Pytorch"
   ]
  },
  {
   "cell_type": "code",
   "execution_count": 6,
   "metadata": {
    "collapsed": true
   },
   "outputs": [],
   "source": [
    "import torch\n",
    "from torch import nn\n",
    "from torch.autograd import Variable\n",
    "from torch.nn import functional as F\n",
    "import torch.utils.data\n",
    "\n",
    "from torchvision.models.inception import inception_v3"
   ]
  },
  {
   "cell_type": "code",
   "execution_count": 10,
   "metadata": {
    "collapsed": true
   },
   "outputs": [],
   "source": [
    "def calculate_inception_score(images, n_split=1, eps=1E-16, batch_size=32, resize=False, cuda=False):\n",
    "    \n",
    "    N = len(images)\n",
    "    \n",
    "    assert batch_size > 0\n",
    "    assert N > batch_size\n",
    "    \n",
    "    # set up dtype for inception v3 model\n",
    "    if cuda:\n",
    "        dtype = torch.cuda.FloatTensor\n",
    "    else:\n",
    "        if torch.cuda.is_available():\n",
    "            print(\"WARNING: You have a CUDA device, so you should probably set cuda=True\")\n",
    "        dtype = torch.FloatTensor\n",
    "        \n",
    "    # set up dataloader\n",
    "    data_loader = torch.utils.data.DataLoader(images, batch_size=batch_size)\n",
    "    \n",
    "    # load inception model\n",
    "    print(\"Loading Inception V3 model...\")\n",
    "    inception_model = inception_v3(pretrained=True, transform_input=False).type(dtype)\n",
    "    inception_model.eval()\n",
    "    \n",
    "    up = nn.Upsample(size=(299, 299), mode='bilinear', align_corners=False).type(dtype)\n",
    "    def get_yhats(x):\n",
    "        if resize:\n",
    "            x = up(x)\n",
    "        x = inception_model(x)\n",
    "        return F.softmax(x, dim=1).data.cpu().numpy()\n",
    "\n",
    "    # get predictions\n",
    "    print(\"Predicting class probabilities for images per batch...\")\n",
    "    yhats = np.zeros((N, 1000))\n",
    "\n",
    "    for i, batch in enumerate(data_loader, 0):\n",
    "        batch = batch.type(dtype)\n",
    "        batchv = Variable(batch)\n",
    "        batch_size_i = batch.size()[0]\n",
    "\n",
    "        yhats[i*batch_size:i*batch_size + batch_size_i] = get_yhats(batchv)\n",
    "\n",
    "    # compute the mean kl-div\n",
    "    print(\"Computing the mean kl-div...\")\n",
    "    split_scores = []\n",
    "\n",
    "    for k in range(n_split):\n",
    "        \n",
    "        # retrieve p(y|x)\n",
    "        yhats_ = yhats[k * (N // n_split): (k+1) * (N // n_split), :]\n",
    "        \n",
    "        # calculate p(y)\n",
    "        p_y = np.mean(yhats_, axis=0)\n",
    "        scores = []\n",
    "        \n",
    "        for i in range(yhats_.shape[0]):\n",
    "            # conditional probability for each image (p(y|x))\n",
    "            p_yx = yhats_[i, :]\n",
    "            \n",
    "            # KL divergence = p(y|x) * (log(p(y|x)) – log(p(y)))\n",
    "            kl_d = p_yx * (log(p_yx + eps) - log(p_y + eps))\n",
    "            kl_d = kl_d.sum(axis=0)\n",
    "            \n",
    "            # variation of calculating KL divergence from entropy of conditional & marginal probabilities\n",
    "            # kl_d = entropy(p_yx, p_y) # formula: -sum(p_i * log(p_i))\n",
    "            \n",
    "            scores.append(kl_d)\n",
    "            \n",
    "        # collect INCEPTION SCOREs for each group of images\n",
    "        split_scores.append(np.exp(np.mean(scores)))\n",
    "\n",
    "    print(\"\\nInception Score: \")\n",
    "    return np.mean(split_scores), np.std(split_scores)"
   ]
  },
  {
   "cell_type": "code",
   "execution_count": 11,
   "metadata": {},
   "outputs": [
    {
     "name": "stdout",
     "output_type": "stream",
     "text": [
      "Files already downloaded and verified\n"
     ]
    }
   ],
   "source": [
    "import torchvision.datasets as dset\n",
    "import torchvision.transforms as transforms\n",
    "\n",
    "cifar = dset.CIFAR10(root='data/', download=True,\n",
    "                         transform=transforms.Compose([\n",
    "                             transforms.Resize(32),\n",
    "                             transforms.ToTensor(),\n",
    "                             transforms.Normalize((0.5, 0.5, 0.5), (0.5, 0.5, 0.5))\n",
    "                         ])\n",
    ")\n",
    "\n",
    "class IgnoreLabelDataset(torch.utils.data.Dataset):\n",
    "    def __init__(self, orig):\n",
    "        self.orig = orig\n",
    "\n",
    "    def __getitem__(self, index):\n",
    "        return self.orig[index][0]\n",
    "\n",
    "    def __len__(self):\n",
    "        return len(self.orig)"
   ]
  },
  {
   "cell_type": "code",
   "execution_count": 12,
   "metadata": {
    "scrolled": true
   },
   "outputs": [
    {
     "name": "stdout",
     "output_type": "stream",
     "text": [
      "Calculating Inception Score...\n",
      "Loading Inception V3 model...\n",
      "Predicting class probabilities for images per batch...\n",
      "Computing the mean kl-div...\n",
      "\n",
      "Inception Score: \n",
      "IS Mean score: 9.672780714173985\n",
      "IS Std score: 0.14991599423569926\n"
     ]
    }
   ],
   "source": [
    "print(\"Calculating Inception Score...\")\n",
    "mean_score, std_score = calculate_inception_score(IgnoreLabelDataset(cifar), n_split=10, batch_size=32, resize=True, cuda=True)\n",
    "print(\"IS Mean score:\",mean_score)\n",
    "print(\"IS Std score:\",std_score)"
   ]
  },
  {
   "cell_type": "markdown",
   "metadata": {},
   "source": [
    "---"
   ]
  }
 ],
 "metadata": {
  "kernelspec": {
   "display_name": "Python 3",
   "language": "python",
   "name": "python3"
  },
  "language_info": {
   "codemirror_mode": {
    "name": "ipython",
    "version": 3
   },
   "file_extension": ".py",
   "mimetype": "text/x-python",
   "name": "python",
   "nbconvert_exporter": "python",
   "pygments_lexer": "ipython3",
   "version": "3.7.3"
  }
 },
 "nbformat": 4,
 "nbformat_minor": 2
}
