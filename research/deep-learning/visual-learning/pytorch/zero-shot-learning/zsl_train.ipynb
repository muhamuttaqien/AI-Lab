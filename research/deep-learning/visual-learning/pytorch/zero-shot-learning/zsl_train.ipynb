{
 "cells": [
  {
   "cell_type": "markdown",
   "metadata": {},
   "source": [
    "# Zero-Shot-Learning Network (Train)"
   ]
  },
  {
   "cell_type": "code",
   "execution_count": 1,
   "metadata": {
    "collapsed": true
   },
   "outputs": [],
   "source": [
    "import os\n",
    "import numpy as np\n",
    "import matplotlib.pyplot as plt\n",
    "import gzip\n",
    "import _pickle as cPikle\n",
    "from collections import Counter"
   ]
  },
  {
   "cell_type": "code",
   "execution_count": 2,
   "metadata": {
    "collapsed": true
   },
   "outputs": [],
   "source": [
    "from sklearn.preprocessing import LabelEncoder, normalize\n",
    "from sklearn.neighbors import KDTree"
   ]
  },
  {
   "cell_type": "code",
   "execution_count": 3,
   "metadata": {},
   "outputs": [
    {
     "name": "stderr",
     "output_type": "stream",
     "text": [
      "/anaconda3/lib/python3.6/site-packages/h5py/__init__.py:34: FutureWarning: Conversion of the second argument of issubdtype from `float` to `np.floating` is deprecated. In future, it will be treated as `np.float64 == np.dtype(float).type`.\n",
      "  from ._conv import register_converters as _register_converters\n",
      "Using TensorFlow backend.\n"
     ]
    }
   ],
   "source": [
    "import keras\n",
    "from keras import backend as K\n",
    "from keras.preprocessing import image\n",
    "from keras.models import Sequential, Model, model_from_json\n",
    "from keras.layers import Dense, Dropout\n",
    "from keras.layers import BatchNormalization\n",
    "from keras.optimizers import Adam\n",
    "from keras.utils import to_categorical"
   ]
  },
  {
   "cell_type": "markdown",
   "metadata": {},
   "source": [
    "## Set Configs"
   ]
  },
  {
   "cell_type": "code",
   "execution_count": 4,
   "metadata": {
    "collapsed": true
   },
   "outputs": [],
   "source": [
    "WORD2VEC_PATH = \"./datasets/class_vectors.npy\"\n",
    "DATASETS_PATH = \"./datasets/zero_shot_data.pkl\"\n",
    "MODEL_PATH = \"./weights/\""
   ]
  },
  {
   "cell_type": "code",
   "execution_count": 5,
   "metadata": {
    "collapsed": true
   },
   "outputs": [],
   "source": [
    "NUM_CLASSES = 15\n",
    "NUM_ATTRS = 300\n",
    "BATCH_SIZE = 128\n",
    "LR = 5e-5\n",
    "N_EPOCHS = 50\n",
    "TRAIN_SIZE_PER_CLASS = 300"
   ]
  },
  {
   "cell_type": "code",
   "execution_count": 6,
   "metadata": {},
   "outputs": [
    {
     "name": "stdout",
     "output_type": "stream",
     "text": [
      "Total class: 20\n",
      "Word2vec dimension: 300\n",
      "Total datasets: 7992\n"
     ]
    }
   ],
   "source": [
    "print(\"Total class:\", len(np.load(WORD2VEC_PATH)))\n",
    "print(\"Word2vec dimension:\",np.load(WORD2VEC_PATH)[0][1].shape[0])\n",
    "with gzip.GzipFile(DATASETS_PATH, 'rb') as infile: data = cPikle.load(infile)\n",
    "print(\"Total datasets:\", len(data))"
   ]
  },
  {
   "cell_type": "markdown",
   "metadata": {},
   "source": [
    "## Set Helpers"
   ]
  },
  {
   "cell_type": "code",
   "execution_count": 7,
   "metadata": {
    "collapsed": true
   },
   "outputs": [],
   "source": [
    "def save_model(model, model_path):\n",
    "    if not os.path.exists(model_path):\n",
    "        os.makedirs(model_path)\n",
    "        \n",
    "    model_json = model.to_json()\n",
    "    with open(model_path + 'zsl_model.json', 'w') as json_file:\n",
    "        json_file.write(model_json)\n",
    "        \n",
    "    model.save_weights(model_path + 'zsl_model.h5')\n",
    "    print(\"ZSL model is saved.\")\n",
    "    return"
   ]
  },
  {
   "cell_type": "code",
   "execution_count": 8,
   "metadata": {
    "collapsed": true
   },
   "outputs": [],
   "source": [
    "def load_data():\n",
    "    \n",
    "    # load datasets in pickle format\n",
    "    with gzip.GzipFile(DATASETS_PATH, 'rb') as infile:\n",
    "        data = cPikle.load(infile)\n",
    "            \n",
    "    # split data for model training process including zero-shot-data as well\n",
    "    not_splitted_train_data = [instance for instance in data if instance[0] in train_classes]\n",
    "    zero_shot_data = [instance for instance in data if instance[0] not in train_classes]\n",
    "    np.random.shuffle(not_splitted_train_data)\n",
    "    \n",
    "    train_size = TRAIN_SIZE_PER_CLASS\n",
    "    train_data = list()\n",
    "    valid_data = list()\n",
    "    \n",
    "    for class_label in train_classes: # consists 15 training classes\n",
    "        ct = 0\n",
    "        for instance in not_splitted_train_data:\n",
    "            if instance[0] == class_label:\n",
    "                if ct < train_size:\n",
    "                    train_data.append(instance)\n",
    "                    ct += 1\n",
    "                    continue\n",
    "                valid_data.append(instance)\n",
    "                \n",
    "    np.random.shuffle(train_data) # shuffle 15*300 train data\n",
    "    np.random.shuffle(valid_data) # shuffle 5*300 valid data\n",
    "    \n",
    "    # one-hot encode label data\n",
    "    label_encoder = LabelEncoder()\n",
    "    label_encoder.fit(train_classes)\n",
    "    \n",
    "    train_data = [(instance[1], to_categorical(label_encoder.transform([instance[0]]), num_classes=NUM_CLASSES)) for instance in train_data]\n",
    "    valid_data = [(instance[1], to_categorical(label_encoder.transform([instance[0]]), num_classes=NUM_CLASSES)) for instance in valid_data]\n",
    "    \n",
    "    # prepare train data\n",
    "    x_train, y_train = zip(*train_data)\n",
    "    x_train, y_train = np.squeeze(np.asarray(x_train)), np.squeeze(np.asarray(y_train))\n",
    "    x_train = normalize(x_train, norm='l2')\n",
    "    \n",
    "    # prepare valid data\n",
    "    x_valid, y_valid = zip(*valid_data)\n",
    "    x_valid, y_valid = np.squeeze(np.asarray(x_valid)), np.squeeze(np.asarray(y_valid))    \n",
    "    x_valid = normalize(x_valid, norm='l2')\n",
    "    \n",
    "    # prepare zero-shot-data\n",
    "    y_zsl, x_zsl = zip(*zero_shot_data)\n",
    "    x_zsl, y_zsl = np.squeeze(np.asarray(x_zsl)), np.squeeze(np.asarray(y_zsl))\n",
    "    x_zsl = normalize(x_zsl, norm='l2')\n",
    "    \n",
    "    print(\"Data loading is completed.\")\n",
    "    return (x_train, x_valid, x_zsl), (y_train, y_valid, y_zsl)"
   ]
  },
  {
   "cell_type": "code",
   "execution_count": 9,
   "metadata": {
    "collapsed": true
   },
   "outputs": [],
   "source": [
    "def custom_kernel_init(shape):\n",
    "    class_vectors = np.load(WORD2VEC_PATH)\n",
    "    # load training vectors 15*300\n",
    "    training_vectors = sorted([(label, vector) for (label, vector) in class_vectors if label in train_classes], key=lambda x: x[0])\n",
    "    _, vectors = zip(*training_vectors)\n",
    "    vectors = np.asarray(vectors, dtype=np.float)\n",
    "    # transpose into 300*15\n",
    "    vectors = vectors.T\n",
    "    \n",
    "    return vectors"
   ]
  },
  {
   "cell_type": "code",
   "execution_count": 10,
   "metadata": {
    "collapsed": true
   },
   "outputs": [],
   "source": [
    "def build_model():\n",
    "    \n",
    "    model = Sequential()\n",
    "    model.add(Dense(1024, input_shape=(4096,), activation='relu'))\n",
    "    model.add(BatchNormalization())\n",
    "    model.add(Dropout(0.8))\n",
    "    \n",
    "    model.add(Dense(512, activation='relu'))\n",
    "    model.add(Dropout(0.5))\n",
    "    \n",
    "    model.add(Dense(256, activation='relu'))\n",
    "    model.add(Dense(NUM_ATTRS, activation='relu'))\n",
    "    model.add(Dense(NUM_CLASSES, activation='softmax', trainable=False, kernel_initializer=custom_kernel_init))\n",
    "    \n",
    "    print(\"Model is built.\")\n",
    "    return model"
   ]
  },
  {
   "cell_type": "code",
   "execution_count": 11,
   "metadata": {
    "collapsed": true
   },
   "outputs": [],
   "source": [
    "def train_model(model, train_data, valid_data):\n",
    "    \n",
    "    x_train, y_train = train_data\n",
    "    x_valid, y_valid = valid_data\n",
    "    adam = Adam(lr=LR)\n",
    "    model.compile(loss = 'categorical_crossentropy',\n",
    "                  optimizer = adam,\n",
    "                  metrics = ['categorical_accuracy', 'top_k_categorical_accuracy'])\n",
    "    \n",
    "    history = model.fit(x_train, y_train,\n",
    "                        validation_data = (x_valid, y_valid),\n",
    "                        verbose = 2,\n",
    "                        epochs = N_EPOCHS,\n",
    "                        batch_size = BATCH_SIZE,\n",
    "                        shuffle = True)\n",
    "    \n",
    "    print(\"Model training is completed.\")\n",
    "    return history"
   ]
  },
  {
   "cell_type": "code",
   "execution_count": 12,
   "metadata": {
    "collapsed": true
   },
   "outputs": [],
   "source": [
    "def main():\n",
    "    \n",
    "    global train_classes\n",
    "    with open('./classes/train_classes.txt', 'r') as infile:\n",
    "        train_classes = [str.strip(line) for line in infile]\n",
    "        \n",
    "    global zsl_classes\n",
    "    with open('./classes/zsl_classes.txt', 'r') as infile:\n",
    "        zsl_classes = [str.strip(line) for line in infile]\n",
    "    \n",
    "    # -----------------\n",
    "    # Training Process\n",
    "    # -----------------\n",
    "    (x_train, x_valid, x_zsl), (y_train, y_valid, y_zsl) = load_data()\n",
    "    model = build_model()\n",
    "    history = train_model(model, (x_train, y_train), (x_valid, y_valid))\n",
    "    print(model.summary())\n",
    "    \n",
    "    # --------------------------\n",
    "    # Create and save ZSL model\n",
    "    # --------------------------\n",
    "    model_input = model.input\n",
    "    model_output = model.layers[-2].output\n",
    "    zsl_model = Model(model_input, model_output)\n",
    "    print(zsl_model.summary())\n",
    "    save_model(zsl_model, model_path=MODEL_PATH)\n",
    "    \n",
    "    # -------------------------\n",
    "    # Evaluate ZSL performance\n",
    "    # -------------------------\n",
    "    class_vectors = sorted(np.load(WORD2VEC_PATH), key=lambda x: x[0])\n",
    "    class_names, vectors = zip(*class_vectors)\n",
    "    class_names = list(class_names)\n",
    "    vectors = np.asarray(vectors, dtype=np.float)\n",
    "    \n",
    "    tree = KDTree(vectors)\n",
    "    zsl_prediction = zsl_model.predict(x_zsl)\n",
    "    \n",
    "    top5, top3, top1 = 0, 0, 0\n",
    "    for i, prediction in enumerate(zsl_prediction):\n",
    "        prediction = np.expand_dims(prediction, axis=0)\n",
    "        dist_5, index_5 = tree.query(prediction, k=5)\n",
    "        prediction_labels = [class_names[index] for index in index_5[0]]\n",
    "        true_label = y_zsl[i]\n",
    "        if true_label in prediction_labels:\n",
    "            top5 += 1\n",
    "        if true_label in prediction_labels[3]:\n",
    "            top3 += 1\n",
    "        if true_label in prediction_labels[0]:\n",
    "            top1 += 1\n",
    "            \n",
    "    print(\"# --------------------------\")\n",
    "    print(\"# Zero-Shot Learning Score:\")\n",
    "    print(\"# --------------------------\")\n",
    "    print(\"Top-5 Accuracy: %.2f%%\" % (100. * top5/ float(len(x_zsl))))\n",
    "    print(\"Top-3 Accuracy: %.2f%%\" % (100. * top3/ float(len(x_zsl))))\n",
    "    print(\"Top-1 Accuracy: %.2f%%\" % (100. * top1/ float(len(x_zsl))))\n",
    "    return history"
   ]
  },
  {
   "cell_type": "code",
   "execution_count": 13,
   "metadata": {
    "scrolled": false
   },
   "outputs": [
    {
     "name": "stdout",
     "output_type": "stream",
     "text": [
      "Data loading is completed.\n",
      "Model is built.\n",
      "Train on 4500 samples, validate on 1493 samples\n",
      "Epoch 1/50\n",
      " - 6s - loss: 2.9536 - categorical_accuracy: 0.0902 - top_k_categorical_accuracy: 0.3882 - val_loss: 2.4686 - val_categorical_accuracy: 0.2532 - val_top_k_categorical_accuracy: 0.6932\n",
      "Epoch 2/50\n",
      " - 5s - loss: 2.6148 - categorical_accuracy: 0.1420 - top_k_categorical_accuracy: 0.5153 - val_loss: 2.2665 - val_categorical_accuracy: 0.3342 - val_top_k_categorical_accuracy: 0.8084\n",
      "Epoch 3/50\n",
      " - 5s - loss: 2.4206 - categorical_accuracy: 0.2067 - top_k_categorical_accuracy: 0.6151 - val_loss: 2.0742 - val_categorical_accuracy: 0.3717 - val_top_k_categorical_accuracy: 0.8607\n",
      "Epoch 4/50\n",
      " - 5s - loss: 2.2475 - categorical_accuracy: 0.2424 - top_k_categorical_accuracy: 0.6882 - val_loss: 1.9136 - val_categorical_accuracy: 0.3985 - val_top_k_categorical_accuracy: 0.8774\n",
      "Epoch 5/50\n",
      " - 6s - loss: 2.1058 - categorical_accuracy: 0.2822 - top_k_categorical_accuracy: 0.7418 - val_loss: 1.7851 - val_categorical_accuracy: 0.4052 - val_top_k_categorical_accuracy: 0.8948\n",
      "Epoch 6/50\n",
      " - 5s - loss: 1.9683 - categorical_accuracy: 0.3118 - top_k_categorical_accuracy: 0.7842 - val_loss: 1.6809 - val_categorical_accuracy: 0.4220 - val_top_k_categorical_accuracy: 0.9015\n",
      "Epoch 7/50\n",
      " - 6s - loss: 1.8750 - categorical_accuracy: 0.3467 - top_k_categorical_accuracy: 0.8056 - val_loss: 1.6062 - val_categorical_accuracy: 0.4287 - val_top_k_categorical_accuracy: 0.9076\n",
      "Epoch 8/50\n",
      " - 5s - loss: 1.8140 - categorical_accuracy: 0.3598 - top_k_categorical_accuracy: 0.8236 - val_loss: 1.5465 - val_categorical_accuracy: 0.4401 - val_top_k_categorical_accuracy: 0.9156\n",
      "Epoch 9/50\n",
      " - 5s - loss: 1.7330 - categorical_accuracy: 0.3784 - top_k_categorical_accuracy: 0.8496 - val_loss: 1.5009 - val_categorical_accuracy: 0.4414 - val_top_k_categorical_accuracy: 0.9230\n",
      "Epoch 10/50\n",
      " - 5s - loss: 1.6971 - categorical_accuracy: 0.3831 - top_k_categorical_accuracy: 0.8620 - val_loss: 1.4558 - val_categorical_accuracy: 0.4568 - val_top_k_categorical_accuracy: 0.9257\n",
      "Epoch 11/50\n",
      " - 5s - loss: 1.6346 - categorical_accuracy: 0.3984 - top_k_categorical_accuracy: 0.8700 - val_loss: 1.4231 - val_categorical_accuracy: 0.4695 - val_top_k_categorical_accuracy: 0.9303\n",
      "Epoch 12/50\n",
      " - 5s - loss: 1.6021 - categorical_accuracy: 0.4076 - top_k_categorical_accuracy: 0.8758 - val_loss: 1.3974 - val_categorical_accuracy: 0.4796 - val_top_k_categorical_accuracy: 0.9317\n",
      "Epoch 13/50\n",
      " - 5s - loss: 1.5712 - categorical_accuracy: 0.4184 - top_k_categorical_accuracy: 0.8920 - val_loss: 1.3767 - val_categorical_accuracy: 0.4869 - val_top_k_categorical_accuracy: 0.9377\n",
      "Epoch 14/50\n",
      " - 6s - loss: 1.5068 - categorical_accuracy: 0.4353 - top_k_categorical_accuracy: 0.9000 - val_loss: 1.3506 - val_categorical_accuracy: 0.4956 - val_top_k_categorical_accuracy: 0.9364\n",
      "Epoch 15/50\n",
      " - 6s - loss: 1.4810 - categorical_accuracy: 0.4589 - top_k_categorical_accuracy: 0.8998 - val_loss: 1.3222 - val_categorical_accuracy: 0.5084 - val_top_k_categorical_accuracy: 0.9364\n",
      "Epoch 16/50\n",
      " - 5s - loss: 1.4795 - categorical_accuracy: 0.4611 - top_k_categorical_accuracy: 0.9031 - val_loss: 1.3029 - val_categorical_accuracy: 0.5111 - val_top_k_categorical_accuracy: 0.9377\n",
      "Epoch 17/50\n",
      " - 5s - loss: 1.4348 - categorical_accuracy: 0.4660 - top_k_categorical_accuracy: 0.9109 - val_loss: 1.2875 - val_categorical_accuracy: 0.5231 - val_top_k_categorical_accuracy: 0.9364\n",
      "Epoch 18/50\n",
      " - 5s - loss: 1.4241 - categorical_accuracy: 0.4638 - top_k_categorical_accuracy: 0.9120 - val_loss: 1.2748 - val_categorical_accuracy: 0.5218 - val_top_k_categorical_accuracy: 0.9390\n",
      "Epoch 19/50\n",
      " - 5s - loss: 1.3793 - categorical_accuracy: 0.4947 - top_k_categorical_accuracy: 0.9118 - val_loss: 1.2644 - val_categorical_accuracy: 0.5224 - val_top_k_categorical_accuracy: 0.9404\n",
      "Epoch 20/50\n",
      " - 5s - loss: 1.3829 - categorical_accuracy: 0.4904 - top_k_categorical_accuracy: 0.9180 - val_loss: 1.2558 - val_categorical_accuracy: 0.5291 - val_top_k_categorical_accuracy: 0.9417\n",
      "Epoch 21/50\n",
      " - 5s - loss: 1.3426 - categorical_accuracy: 0.4996 - top_k_categorical_accuracy: 0.9227 - val_loss: 1.2402 - val_categorical_accuracy: 0.5345 - val_top_k_categorical_accuracy: 0.9431\n",
      "Epoch 22/50\n",
      " - 5s - loss: 1.3160 - categorical_accuracy: 0.5180 - top_k_categorical_accuracy: 0.9269 - val_loss: 1.2312 - val_categorical_accuracy: 0.5332 - val_top_k_categorical_accuracy: 0.9451\n",
      "Epoch 23/50\n",
      " - 6s - loss: 1.2999 - categorical_accuracy: 0.5233 - top_k_categorical_accuracy: 0.9264 - val_loss: 1.2214 - val_categorical_accuracy: 0.5318 - val_top_k_categorical_accuracy: 0.9424\n",
      "Epoch 24/50\n",
      " - 5s - loss: 1.2964 - categorical_accuracy: 0.5142 - top_k_categorical_accuracy: 0.9358 - val_loss: 1.2105 - val_categorical_accuracy: 0.5372 - val_top_k_categorical_accuracy: 0.9424\n",
      "Epoch 25/50\n",
      " - 5s - loss: 1.2560 - categorical_accuracy: 0.5380 - top_k_categorical_accuracy: 0.9333 - val_loss: 1.2069 - val_categorical_accuracy: 0.5385 - val_top_k_categorical_accuracy: 0.9417\n",
      "Epoch 26/50\n",
      " - 5s - loss: 1.2427 - categorical_accuracy: 0.5409 - top_k_categorical_accuracy: 0.9344 - val_loss: 1.2002 - val_categorical_accuracy: 0.5392 - val_top_k_categorical_accuracy: 0.9437\n",
      "Epoch 27/50\n",
      " - 5s - loss: 1.2071 - categorical_accuracy: 0.5476 - top_k_categorical_accuracy: 0.9413 - val_loss: 1.1900 - val_categorical_accuracy: 0.5439 - val_top_k_categorical_accuracy: 0.9431\n",
      "Epoch 28/50\n",
      " - 6s - loss: 1.2258 - categorical_accuracy: 0.5504 - top_k_categorical_accuracy: 0.9407 - val_loss: 1.1810 - val_categorical_accuracy: 0.5492 - val_top_k_categorical_accuracy: 0.9457\n",
      "Epoch 29/50\n",
      " - 5s - loss: 1.1907 - categorical_accuracy: 0.5540 - top_k_categorical_accuracy: 0.9484 - val_loss: 1.1748 - val_categorical_accuracy: 0.5573 - val_top_k_categorical_accuracy: 0.9444\n",
      "Epoch 30/50\n",
      " - 6s - loss: 1.1826 - categorical_accuracy: 0.5689 - top_k_categorical_accuracy: 0.9416 - val_loss: 1.1718 - val_categorical_accuracy: 0.5573 - val_top_k_categorical_accuracy: 0.9457\n",
      "Epoch 31/50\n",
      " - 5s - loss: 1.1638 - categorical_accuracy: 0.5698 - top_k_categorical_accuracy: 0.9473 - val_loss: 1.1673 - val_categorical_accuracy: 0.5593 - val_top_k_categorical_accuracy: 0.9457\n",
      "Epoch 32/50\n",
      " - 5s - loss: 1.1515 - categorical_accuracy: 0.5722 - top_k_categorical_accuracy: 0.9436 - val_loss: 1.1549 - val_categorical_accuracy: 0.5573 - val_top_k_categorical_accuracy: 0.9464\n",
      "Epoch 33/50\n",
      " - 5s - loss: 1.1206 - categorical_accuracy: 0.5876 - top_k_categorical_accuracy: 0.9511 - val_loss: 1.1487 - val_categorical_accuracy: 0.5599 - val_top_k_categorical_accuracy: 0.9471\n",
      "Epoch 34/50\n",
      " - 5s - loss: 1.1143 - categorical_accuracy: 0.5858 - top_k_categorical_accuracy: 0.9502 - val_loss: 1.1496 - val_categorical_accuracy: 0.5593 - val_top_k_categorical_accuracy: 0.9471\n",
      "Epoch 35/50\n",
      " - 5s - loss: 1.1090 - categorical_accuracy: 0.5747 - top_k_categorical_accuracy: 0.9556 - val_loss: 1.1437 - val_categorical_accuracy: 0.5653 - val_top_k_categorical_accuracy: 0.9491\n",
      "Epoch 36/50\n",
      " - 5s - loss: 1.0862 - categorical_accuracy: 0.5973 - top_k_categorical_accuracy: 0.9569 - val_loss: 1.1409 - val_categorical_accuracy: 0.5687 - val_top_k_categorical_accuracy: 0.9491\n",
      "Epoch 37/50\n",
      " - 5s - loss: 1.0707 - categorical_accuracy: 0.5980 - top_k_categorical_accuracy: 0.9584 - val_loss: 1.1418 - val_categorical_accuracy: 0.5573 - val_top_k_categorical_accuracy: 0.9504\n",
      "Epoch 38/50\n",
      " - 5s - loss: 1.0516 - categorical_accuracy: 0.6113 - top_k_categorical_accuracy: 0.9624 - val_loss: 1.1383 - val_categorical_accuracy: 0.5620 - val_top_k_categorical_accuracy: 0.9478\n",
      "Epoch 39/50\n",
      " - 5s - loss: 1.0590 - categorical_accuracy: 0.6071 - top_k_categorical_accuracy: 0.9558 - val_loss: 1.1382 - val_categorical_accuracy: 0.5613 - val_top_k_categorical_accuracy: 0.9498\n",
      "Epoch 40/50\n",
      " - 5s - loss: 1.0327 - categorical_accuracy: 0.6167 - top_k_categorical_accuracy: 0.9596 - val_loss: 1.1325 - val_categorical_accuracy: 0.5713 - val_top_k_categorical_accuracy: 0.9491\n",
      "Epoch 41/50\n",
      " - 5s - loss: 1.0505 - categorical_accuracy: 0.6098 - top_k_categorical_accuracy: 0.9598 - val_loss: 1.1283 - val_categorical_accuracy: 0.5660 - val_top_k_categorical_accuracy: 0.9484\n",
      "Epoch 42/50\n",
      " - 5s - loss: 1.0183 - categorical_accuracy: 0.6282 - top_k_categorical_accuracy: 0.9598 - val_loss: 1.1269 - val_categorical_accuracy: 0.5754 - val_top_k_categorical_accuracy: 0.9524\n"
     ]
    },
    {
     "name": "stdout",
     "output_type": "stream",
     "text": [
      "Epoch 43/50\n",
      " - 5s - loss: 1.0054 - categorical_accuracy: 0.6233 - top_k_categorical_accuracy: 0.9627 - val_loss: 1.1250 - val_categorical_accuracy: 0.5673 - val_top_k_categorical_accuracy: 0.9524\n",
      "Epoch 44/50\n",
      " - 5s - loss: 0.9797 - categorical_accuracy: 0.6389 - top_k_categorical_accuracy: 0.9633 - val_loss: 1.1229 - val_categorical_accuracy: 0.5633 - val_top_k_categorical_accuracy: 0.9538\n",
      "Epoch 45/50\n",
      " - 5s - loss: 0.9708 - categorical_accuracy: 0.6333 - top_k_categorical_accuracy: 0.9653 - val_loss: 1.1163 - val_categorical_accuracy: 0.5800 - val_top_k_categorical_accuracy: 0.9565\n",
      "Epoch 46/50\n",
      " - 5s - loss: 0.9474 - categorical_accuracy: 0.6431 - top_k_categorical_accuracy: 0.9660 - val_loss: 1.1251 - val_categorical_accuracy: 0.5754 - val_top_k_categorical_accuracy: 0.9524\n",
      "Epoch 47/50\n",
      " - 5s - loss: 0.9445 - categorical_accuracy: 0.6560 - top_k_categorical_accuracy: 0.9627 - val_loss: 1.1099 - val_categorical_accuracy: 0.5834 - val_top_k_categorical_accuracy: 0.9518\n",
      "Epoch 48/50\n",
      " - 5s - loss: 0.9334 - categorical_accuracy: 0.6578 - top_k_categorical_accuracy: 0.9682 - val_loss: 1.1183 - val_categorical_accuracy: 0.5774 - val_top_k_categorical_accuracy: 0.9518\n",
      "Epoch 49/50\n",
      " - 5s - loss: 0.9167 - categorical_accuracy: 0.6567 - top_k_categorical_accuracy: 0.9687 - val_loss: 1.1109 - val_categorical_accuracy: 0.5787 - val_top_k_categorical_accuracy: 0.9511\n",
      "Epoch 50/50\n",
      " - 5s - loss: 0.9056 - categorical_accuracy: 0.6704 - top_k_categorical_accuracy: 0.9702 - val_loss: 1.1088 - val_categorical_accuracy: 0.5834 - val_top_k_categorical_accuracy: 0.9518\n",
      "Model training is completed.\n",
      "_________________________________________________________________\n",
      "Layer (type)                 Output Shape              Param #   \n",
      "=================================================================\n",
      "dense_1 (Dense)              (None, 1024)              4195328   \n",
      "_________________________________________________________________\n",
      "batch_normalization_1 (Batch (None, 1024)              4096      \n",
      "_________________________________________________________________\n",
      "dropout_1 (Dropout)          (None, 1024)              0         \n",
      "_________________________________________________________________\n",
      "dense_2 (Dense)              (None, 512)               524800    \n",
      "_________________________________________________________________\n",
      "dropout_2 (Dropout)          (None, 512)               0         \n",
      "_________________________________________________________________\n",
      "dense_3 (Dense)              (None, 256)               131328    \n",
      "_________________________________________________________________\n",
      "dense_4 (Dense)              (None, 300)               77100     \n",
      "_________________________________________________________________\n",
      "dense_5 (Dense)              (None, 15)                4515      \n",
      "=================================================================\n",
      "Total params: 4,937,167\n",
      "Trainable params: 4,930,604\n",
      "Non-trainable params: 6,563\n",
      "_________________________________________________________________\n",
      "None\n",
      "_________________________________________________________________\n",
      "Layer (type)                 Output Shape              Param #   \n",
      "=================================================================\n",
      "dense_1_input (InputLayer)   (None, 4096)              0         \n",
      "_________________________________________________________________\n",
      "dense_1 (Dense)              (None, 1024)              4195328   \n",
      "_________________________________________________________________\n",
      "batch_normalization_1 (Batch (None, 1024)              4096      \n",
      "_________________________________________________________________\n",
      "dropout_1 (Dropout)          (None, 1024)              0         \n",
      "_________________________________________________________________\n",
      "dense_2 (Dense)              (None, 512)               524800    \n",
      "_________________________________________________________________\n",
      "dropout_2 (Dropout)          (None, 512)               0         \n",
      "_________________________________________________________________\n",
      "dense_3 (Dense)              (None, 256)               131328    \n",
      "_________________________________________________________________\n",
      "dense_4 (Dense)              (None, 300)               77100     \n",
      "=================================================================\n",
      "Total params: 4,932,652\n",
      "Trainable params: 4,930,604\n",
      "Non-trainable params: 2,048\n",
      "_________________________________________________________________\n",
      "None\n",
      "ZSL model is saved.\n",
      "# --------------------------\n",
      "# Zero-Shot Learning Score:\n",
      "# --------------------------\n",
      "Top-5 Accuracy: 76.74%\n",
      "Top-3 Accuracy: 26.91%\n",
      "Top-1 Accuracy: 9.00%\n"
     ]
    }
   ],
   "source": [
    "if __name__ == '__main__':\n",
    "    history = main()"
   ]
  },
  {
   "cell_type": "code",
   "execution_count": 14,
   "metadata": {},
   "outputs": [
    {
     "data": {
      "image/png": "[encoded data removed]",
      "text/plain": [
       "<matplotlib.figure.Figure at 0x1a2a3b5710>"
      ]
     },
     "metadata": {},
     "output_type": "display_data"
    }
   ],
   "source": [
    "plt.figure(figsize=(10,5))\n",
    "plt.title(\"Train & Valid Loss of ZSL Network\")\n",
    "plt.plot(history.history['loss'], label=\"Train Loss\")\n",
    "plt.plot(history.history['val_loss'], label=\"Valid Loss\")\n",
    "plt.xlabel(\"Epoch\")\n",
    "plt.ylabel(\"Loss\")\n",
    "plt.legend()\n",
    "\n",
    "if not os.path.exists('./images/'): os.makedirs('./images/')\n",
    "plt.savefig('./images/final_loss.png')\n",
    "plt.show()"
   ]
  },
  {
   "cell_type": "code",
   "execution_count": 15,
   "metadata": {},
   "outputs": [
    {
     "data": {
      "image/png": "[encoded data removed]",
      "text/plain": [
       "<matplotlib.figure.Figure at 0x1a2a3bd5c0>"
      ]
     },
     "metadata": {},
     "output_type": "display_data"
    }
   ],
   "source": [
    "plt.figure(figsize=(10,5))\n",
    "plt.title(\"Train & Valid Accuracy of ZSL Network\")\n",
    "plt.plot(history.history['categorical_accuracy'], label=\"Train Accuracy\")\n",
    "plt.plot(history.history['val_categorical_accuracy'], label=\"Valid Accuracy\")\n",
    "plt.xlabel(\"Epoch\")\n",
    "plt.ylabel(\"Accuracy\")\n",
    "plt.legend()\n",
    "\n",
    "if not os.path.exists('./images/'): os.makedirs('./images/')\n",
    "plt.savefig('./images/final_categorical_accuracy.png')\n",
    "plt.show()"
   ]
  },
  {
   "cell_type": "code",
   "execution_count": 16,
   "metadata": {},
   "outputs": [
    {
     "data": {
      "image/png": "[encoded data removed]",
      "text/plain": [
       "<matplotlib.figure.Figure at 0x1a2a3b9550>"
      ]
     },
     "metadata": {},
     "output_type": "display_data"
    }
   ],
   "source": [
    "plt.figure(figsize=(10,5))\n",
    "plt.title(\"Train & Valid Top-K Accuracy of ZSL Network\")\n",
    "plt.plot(history.history['top_k_categorical_accuracy'], label=\"Train Accuracy\")\n",
    "plt.plot(history.history['val_top_k_categorical_accuracy'], label=\"Valid Accuracy\")\n",
    "plt.xlabel(\"Epoch\")\n",
    "plt.ylabel(\"Accuracy\")\n",
    "plt.legend()\n",
    "\n",
    "if not os.path.exists('./images/'): os.makedirs('./images/')\n",
    "plt.savefig('./images/final_categorical_top_k_accuracy.png')\n",
    "plt.show()"
   ]
  },
  {
   "cell_type": "markdown",
   "metadata": {},
   "source": [
    "---"
   ]
  }
 ],
 "metadata": {
  "kernelspec": {
   "display_name": "Python 3",
   "language": "python",
   "name": "python3"
  },
  "language_info": {
   "codemirror_mode": {
    "name": "ipython",
    "version": 3
   },
   "file_extension": ".py",
   "mimetype": "text/x-python",
   "name": "python",
   "nbconvert_exporter": "python",
   "pygments_lexer": "ipython3",
   "version": "3.6.3"
  }
 },
 "nbformat": 4,
 "nbformat_minor": 2
}
