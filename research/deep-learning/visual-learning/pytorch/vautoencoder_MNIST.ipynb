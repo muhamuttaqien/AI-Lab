{
 "cells": [
  {
   "cell_type": "markdown",
   "metadata": {},
   "source": [
    "# Variational Autoencoder, MNIST"
   ]
  },
  {
   "cell_type": "code",
   "execution_count": 1,
   "metadata": {
    "collapsed": true
   },
   "outputs": [],
   "source": [
    "import os\n",
    "import numpy as np\n",
    "import matplotlib.pyplot as plt\n",
    "import datetime\n",
    "import time"
   ]
  },
  {
   "cell_type": "code",
   "execution_count": 2,
   "metadata": {
    "collapsed": true
   },
   "outputs": [],
   "source": [
    "import torch\n",
    "import torch.nn as nn\n",
    "import torch.nn.functional as F\n",
    "import torch.optim as optim\n",
    "from torch.utils.data import DataLoader\n",
    "from torchvision import datasets, transforms"
   ]
  },
  {
   "cell_type": "code",
   "execution_count": 3,
   "metadata": {
    "collapsed": true
   },
   "outputs": [],
   "source": [
    "device = torch.device('cuda:0' if torch.cuda.is_available() else 'cpu')"
   ]
  },
  {
   "cell_type": "markdown",
   "metadata": {},
   "source": [
    "## Set Params"
   ]
  },
  {
   "cell_type": "code",
   "execution_count": 4,
   "metadata": {
    "collapsed": true
   },
   "outputs": [],
   "source": [
    "BATCH_SIZE = 64 # number of data points in each batch\n",
    "N_EPOCHS = 20 # times to run the model on complete data\n",
    "INPUT_DIM = 28*28 # size of each input\n",
    "HIDDEN_DIM = 256 # hidden dimension\n",
    "LATENT_DIM = 20 # latent vector dimension\n",
    "LR = 1e-3 # learning rate"
   ]
  },
  {
   "cell_type": "markdown",
   "metadata": {},
   "source": [
    "## Configure Data Loader"
   ]
  },
  {
   "cell_type": "code",
   "execution_count": 5,
   "metadata": {
    "collapsed": true
   },
   "outputs": [],
   "source": [
    "transform = transforms.Compose([transforms.ToTensor()])"
   ]
  },
  {
   "cell_type": "code",
   "execution_count": 6,
   "metadata": {
    "collapsed": true
   },
   "outputs": [],
   "source": [
    "train_dataset = datasets.MNIST('./data', train=True, download=True, transform=transform)\n",
    "test_dataset = datasets.MNIST('./data', train=False, download=True, transform=transform)"
   ]
  },
  {
   "cell_type": "code",
   "execution_count": 7,
   "metadata": {
    "collapsed": true
   },
   "outputs": [],
   "source": [
    "train_loader = DataLoader(train_dataset, batch_size=BATCH_SIZE, shuffle=True)\n",
    "test_loader = DataLoader(test_dataset, batch_size=BATCH_SIZE)"
   ]
  },
  {
   "cell_type": "markdown",
   "metadata": {},
   "source": [
    "## Build Variational Autoencoder Architecture"
   ]
  },
  {
   "cell_type": "markdown",
   "metadata": {},
   "source": [
    "<img src='images/vautoencoder-architecture.png' width='50%'/>"
   ]
  },
  {
   "cell_type": "code",
   "execution_count": 8,
   "metadata": {
    "collapsed": true
   },
   "outputs": [],
   "source": [
    "class Encoder(nn.Module):\n",
    "    ''' This is the encoder part of VAE. '''\n",
    "    \n",
    "    def __init__(self, input_dim, hidden_dim, z_dim):\n",
    "        '''\n",
    "        Args:\n",
    "            input_dim: An integer indicating the size of input (in case of MNIST 28*28).\n",
    "            hidden_dim: An integer indicating the size of hidden dimension.\n",
    "            z_dim: An integer indicating the latent dimension.\n",
    "        '''\n",
    "        \n",
    "        super(Encoder, self).__init__()\n",
    "        \n",
    "        self.linear = nn.Linear(input_dim, hidden_dim)\n",
    "        self.mu = nn.Linear(hidden_dim, z_dim)\n",
    "        self.var = nn.Linear(hidden_dim, z_dim)\n",
    "        \n",
    "    def forward(self, x):\n",
    "        \n",
    "        hidden = F.relu(self.linear(x))\n",
    "        z_mu = self.mu(hidden)\n",
    "        z_var = self.var(hidden)\n",
    "        \n",
    "        # outputing μ (a vector of means) \n",
    "        # and σ (a vector of standard deviations) of the latent parameters of distribution\n",
    "        return z_mu, z_var"
   ]
  },
  {
   "cell_type": "code",
   "execution_count": 9,
   "metadata": {
    "collapsed": true
   },
   "outputs": [],
   "source": [
    "class Decoder(nn.Module):\n",
    "    ''' This is the decoder part of VAE. '''\n",
    "    \n",
    "    def __init__(self, z_dim, hidden_dim, output_dim):\n",
    "        '''\n",
    "        Args:\n",
    "            z_dim: An integer indicating the latent size.\n",
    "            hidden_dim: An integer indicating the size of hidden dimension.\n",
    "            output_dim: An integer indicating the output dimension (in case of MNIST it is 28*28).\n",
    "        '''\n",
    "        super(Decoder, self).__init__()\n",
    "        \n",
    "        self.linear = nn.Linear(z_dim, hidden_dim)\n",
    "        self.output = nn.Sequential(\n",
    "                            nn.Linear(hidden_dim, output_dim),\n",
    "                            nn.Sigmoid())\n",
    "        \n",
    "    def forward(self, x):\n",
    "        \n",
    "        hidden = F.relu(self.linear(x))\n",
    "        x = self.output(hidden)\n",
    "        \n",
    "        # outputing reconstructed X \n",
    "        return x"
   ]
  },
  {
   "cell_type": "code",
   "execution_count": 10,
   "metadata": {},
   "outputs": [],
   "source": [
    "class VAE(nn.Module):\n",
    "    ''' This is the VAE, which takes an encoder and decoder. '''\n",
    "    \n",
    "    def __init__(self, encoder, decoder):\n",
    "        super(VAE, self).__init__()\n",
    "        \n",
    "        self.encoder = encoder\n",
    "        self.decoder = decoder\n",
    "        \n",
    "    def forward(self, x):\n",
    "        \n",
    "        # -------------\n",
    "        # Encoder\n",
    "        # -------------\n",
    "        z_mu, z_var = self.encoder(x)\n",
    "        \n",
    "        # sampling from the distribution having latent parameters z_mu and z_var\n",
    "        # this will helps decoder to do random sampling\n",
    "        std = torch.exp(z_var / 2)\n",
    "        eps = torch.randn_like(std) # stochastically generating encoding vectors\n",
    "        x_sample = eps.mul(std).add_(z_mu)\n",
    "        \n",
    "        # -------------\n",
    "        # Decoder\n",
    "        # -------------\n",
    "        x_sample = self.decoder(x_sample)\n",
    "        \n",
    "        return x_sample, z_mu, z_var"
   ]
  },
  {
   "cell_type": "markdown",
   "metadata": {},
   "source": [
    "<img src='images/vautoencoder-distribution.png' width='75%'/>"
   ]
  },
  {
   "cell_type": "markdown",
   "metadata": {},
   "source": [
    "#### Initialize Autoencoder"
   ]
  },
  {
   "cell_type": "code",
   "execution_count": 11,
   "metadata": {},
   "outputs": [],
   "source": [
    "encoder = Encoder(INPUT_DIM, HIDDEN_DIM, LATENT_DIM)\n",
    "decoder = Decoder(LATENT_DIM, HIDDEN_DIM, INPUT_DIM)\n",
    "vae = VAE(encoder, decoder).to(device)"
   ]
  },
  {
   "cell_type": "markdown",
   "metadata": {},
   "source": [
    "## Define Loss Function"
   ]
  },
  {
   "cell_type": "code",
   "execution_count": 12,
   "metadata": {
    "collapsed": true
   },
   "outputs": [],
   "source": [
    "# this loss will maintains the similarity of nearby encodings on the local scale via clustering\n",
    "def reconstruction_loss(x_sample, x, reduction='sum'):\n",
    "    return F.binary_cross_entropy(x_sample, x, reduction=reduction)"
   ]
  },
  {
   "cell_type": "code",
   "execution_count": 13,
   "metadata": {
    "collapsed": true
   },
   "outputs": [],
   "source": [
    "# this loss will helps decoder performs smooth interpolation\n",
    "# by optimizing the probability distribution parameters of μ and σ to closely resemble that of the target distribution\n",
    "def kl_divergence_loss(z_mu, z_var):\n",
    "    return 0.5 * torch.sum(torch.exp(z_var) + z_mu**2 - z_var - 1.0)"
   ]
  },
  {
   "cell_type": "markdown",
   "metadata": {},
   "source": [
    "## Set Optimizer"
   ]
  },
  {
   "cell_type": "code",
   "execution_count": 14,
   "metadata": {
    "collapsed": true
   },
   "outputs": [],
   "source": [
    "optimizer = optim.Adam(vae.parameters(), lr=LR)"
   ]
  },
  {
   "cell_type": "markdown",
   "metadata": {},
   "source": [
    "## Train The Network"
   ]
  },
  {
   "cell_type": "code",
   "execution_count": 15,
   "metadata": {},
   "outputs": [
    {
     "name": "stdout",
     "output_type": "stream",
     "text": [
      "epoch [1/20], Train loss: 155.2653, Test loss: 124.0270\n",
      "epoch [2/20], Train loss: 119.2124, Test loss: 114.2376\n",
      "epoch [3/20], Train loss: 113.4419, Test loss: 111.1475\n",
      "epoch [4/20], Train loss: 111.0224, Test loss: 109.5105\n",
      "epoch [5/20], Train loss: 109.6629, Test loss: 108.7665\n",
      "epoch [6/20], Train loss: 108.7591, Test loss: 107.7119\n",
      "epoch [7/20], Train loss: 108.0728, Test loss: 107.1685\n",
      "epoch [8/20], Train loss: 107.5522, Test loss: 106.6975\n",
      "epoch [9/20], Train loss: 107.1371, Test loss: 106.6191\n",
      "epoch [10/20], Train loss: 106.7759, Test loss: 106.1028\n",
      "epoch [11/20], Train loss: 106.4379, Test loss: 106.0788\n",
      "epoch [12/20], Train loss: 106.2064, Test loss: 106.1385\n",
      "epoch [13/20], Train loss: 106.0233, Test loss: 105.5491\n",
      "epoch [14/20], Train loss: 105.7559, Test loss: 105.2825\n",
      "epoch [15/20], Train loss: 105.5862, Test loss: 105.6025\n",
      "epoch [16/20], Train loss: 105.4434, Test loss: 104.7947\n",
      "epoch [17/20], Train loss: 105.2751, Test loss: 104.9505\n",
      "epoch [18/20], Train loss: 105.0974, Test loss: 104.7758\n",
      "epoch [19/20], Train loss: 105.0385, Test loss: 105.0242\n",
      "epoch [20/20], Train loss: 104.9064, Test loss: 104.6519\n"
     ]
    }
   ],
   "source": [
    "best_loss = float('inf')\n",
    "train_loss_to_display = []\n",
    "test_loss_to_display = []\n",
    "\n",
    "for epoch in range (N_EPOCHS):\n",
    "        \n",
    "    vae.train()\n",
    "    train_loss = 0\n",
    "    for i, (images, _) in enumerate(train_loader):\n",
    "        x = images.view(-1, 28*28)\n",
    "        x = x.to(device)\n",
    "        \n",
    "        optimizer.zero_grad()\n",
    "        \n",
    "        x_sample, z_mu, z_var = vae(x)\n",
    "        \n",
    "        r_loss = reconstruction_loss(x_sample, x, reduction='sum')\n",
    "        kld_loss = kl_divergence_loss(z_mu, z_var)\n",
    "        loss = r_loss + kld_loss\n",
    "        \n",
    "        loss.backward()\n",
    "        train_loss += loss.item()\n",
    "        optimizer.step()\n",
    "        \n",
    "    vae.eval()\n",
    "    test_loss = 0\n",
    "    with torch.no_grad():\n",
    "        for i, (images, _) in enumerate(test_loader):\n",
    "            x = images.view(-1, 28*28)\n",
    "            x = x.to(device)\n",
    "\n",
    "            x_sample, z_mu, z_var = vae(x)\n",
    "\n",
    "            r_loss = reconstruction_loss(x_sample, x, reduction='sum')\n",
    "            kld_loss = kl_divergence_loss(z_mu, z_var)\n",
    "            loss = r_loss + kld_loss\n",
    "            test_loss += loss.item()\n",
    "                \n",
    "    train_loss /= len(train_dataset)\n",
    "    train_loss_to_display.append(train_loss)\n",
    "    test_loss /= len(test_dataset)\n",
    "    test_loss_to_display.append(test_loss)\n",
    "    \n",
    "    print('epoch [{}/{}], Train loss: {:.4f}, Test loss: {:.4f}'.format(epoch+1, N_EPOCHS, train_loss, test_loss))\n",
    "    \n",
    "    if test_loss < best_loss:\n",
    "        best_loss = test_loss\n",
    "        if not os.path.exists('./weights/'): os.makedirs('./weights/')\n",
    "        torch.save({'state_dict': vae.state_dict()}, './weights/vautoencoder_mnist.pth')"
   ]
  },
  {
   "cell_type": "markdown",
   "metadata": {},
   "source": [
    "## Evaluate The Network"
   ]
  },
  {
   "cell_type": "code",
   "execution_count": 16,
   "metadata": {},
   "outputs": [
    {
     "data": {
      "image/png": "[encoded data removed]",
      "text/plain": [
       "<matplotlib.figure.Figure at 0x11a8ed320>"
      ]
     },
     "metadata": {},
     "output_type": "display_data"
    }
   ],
   "source": [
    "plt.figure(figsize=(10,5))\n",
    "plt.title(\"Train vs Test Loss of Variational Autoencoder During Training\")\n",
    "plt.plot(train_loss_to_display, label=\"Train Loss\")\n",
    "plt.plot(test_loss_to_display, label=\"Test Loss\")\n",
    "plt.xlabel(\"Epoch\")\n",
    "plt.ylabel(\"Loss\")\n",
    "plt.legend()\n",
    "\n",
    "if not os.path.exists('./images/vautoencoder'): os.makedirs('./images/vautoencoder')\n",
    "plt.savefig('./images/vautoencoder/final_loss.png')\n",
    "plt.show()"
   ]
  },
  {
   "cell_type": "code",
   "execution_count": 17,
   "metadata": {},
   "outputs": [
    {
     "data": {
      "image/png": "[encoded data removed]",
      "text/plain": [
       "<matplotlib.figure.Figure at 0x11a233c18>"
      ]
     },
     "metadata": {},
     "output_type": "display_data"
    },
    {
     "data": {
      "image/png": "[encoded data removed]",
      "text/plain": [
       "<matplotlib.figure.Figure at 0x11e82bda0>"
      ]
     },
     "metadata": {},
     "output_type": "display_data"
    },
    {
     "data": {
      "image/png": "[encoded data removed]",
      "text/plain": [
       "<matplotlib.figure.Figure at 0x11e83f978>"
      ]
     },
     "metadata": {},
     "output_type": "display_data"
    },
    {
     "data": {
      "image/png": "[encoded data removed]",
      "text/plain": [
       "<matplotlib.figure.Figure at 0x11e79e898>"
      ]
     },
     "metadata": {},
     "output_type": "display_data"
    },
    {
     "data": {
      "image/png": "[encoded data removed]",
      "text/plain": [
       "<matplotlib.figure.Figure at 0x11accb470>"
      ]
     },
     "metadata": {},
     "output_type": "display_data"
    },
    {
     "data": {
      "image/png": "[encoded data removed]",
      "text/plain": [
       "<matplotlib.figure.Figure at 0x11e79edd8>"
      ]
     },
     "metadata": {},
     "output_type": "display_data"
    },
    {
     "data": {
      "image/png": "[encoded data removed]",
      "text/plain": [
       "<matplotlib.figure.Figure at 0x126ef30b8>"
      ]
     },
     "metadata": {},
     "output_type": "display_data"
    },
    {
     "data": {
      "image/png": "[encoded data removed]",
      "text/plain": [
       "<matplotlib.figure.Figure at 0x126fea0b8>"
      ]
     },
     "metadata": {},
     "output_type": "display_data"
    },
    {
     "data": {
      "image/png": "[encoded data removed]",
      "text/plain": [
       "<matplotlib.figure.Figure at 0x126ef9a58>"
      ]
     },
     "metadata": {},
     "output_type": "display_data"
    },
    {
     "data": {
      "image/png": "[encoded data removed]",
      "text/plain": [
       "<matplotlib.figure.Figure at 0x126fe3940>"
      ]
     },
     "metadata": {},
     "output_type": "display_data"
    }
   ],
   "source": [
    "for i in range(10):\n",
    "\n",
    "    # sample and generate an image\n",
    "    z = torch.randn(1, LATENT_DIM).to(device)\n",
    "\n",
    "    result = vae.decoder(z)\n",
    "    result = result.view(28, 28).data\n",
    "\n",
    "    plt.imshow(result, cmap='gray')\n",
    "\n",
    "    plt.savefig('./images/vautoencoder/generated_mnist{}.png'.format(i+1))\n",
    "    plt.show()"
   ]
  },
  {
   "cell_type": "markdown",
   "metadata": {},
   "source": [
    "---"
   ]
  }
 ],
 "metadata": {
  "kernelspec": {
   "display_name": "Python 3",
   "language": "python",
   "name": "python3"
  },
  "language_info": {
   "codemirror_mode": {
    "name": "ipython",
    "version": 3
   },
   "file_extension": ".py",
   "mimetype": "text/x-python",
   "name": "python",
   "nbconvert_exporter": "python",
   "pygments_lexer": "ipython3",
   "version": "3.7.3"
  }
 },
 "nbformat": 4,
 "nbformat_minor": 2
}
