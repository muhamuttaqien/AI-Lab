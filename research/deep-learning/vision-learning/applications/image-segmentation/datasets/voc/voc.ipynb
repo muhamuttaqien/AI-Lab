{
 "cells": [
  {
   "cell_type": "markdown",
   "metadata": {},
   "source": [
    "# Pascal Visual Object Class ([VOC](http://host.robots.ox.ac.uk/pascal/VOC/))"
   ]
  },
  {
   "cell_type": "code",
   "execution_count": 1,
   "metadata": {},
   "outputs": [],
   "source": [
    "import torch\n",
    "import torch.nn as nn\n",
    "import torchvision.transforms as transforms"
   ]
  },
  {
   "cell_type": "code",
   "execution_count": null,
   "metadata": {},
   "outputs": [],
   "source": [
    "class VOC(torch.utils.data.Dataset):\n",
    "    \n",
    "    \"\"\"\n",
    "    Pascal VOC datasets from http://host.robots.ox.ac.uk/pascal/VOC/voc2007/index.html\n",
    "    \"\"\"\n",
    "    \n",
    "    # training dataset root directories\n",
    "    train_dir = 'JPEGImages'\n",
    "    train_label_dir = 'SegmentationClass'\n",
    "    \n",
    "    # images extension\n",
    "    img_extension = '.png'\n",
    "    label_extension = '.jpg'\n",
    "    \n",
    "    def __init__(self, \n",
    "                 root_dir, \n",
    "                 mode='train', \n",
    "                 data_transform=None,  \n",
    "                 label_transform=None):\n",
    "        \n",
    "        self.root_dir = root_dir\n",
    "        self.mode = mode\n",
    "        self.data_transform = data_transform\n",
    "        self.label_transform = label_transform\n",
    "        \n",
    "        # get the training data and labels filepaths\n",
    "        if self.mode.lower() == 'train': pass\n",
    "        \n",
    "        # get the validation data and labels filepaths\n",
    "        elif self.mode.lower() == 'valid': pass\n",
    "            \n",
    "        # get the test data and labels filepaths\n",
    "        elif self.mode.lower() == 'test': pass\n",
    "        \n",
    "    def __getitem__(self, index): pass\n",
    "    \n",
    "    def __len__(self): pass"
   ]
  },
  {
   "cell_type": "code",
   "execution_count": null,
   "metadata": {},
   "outputs": [],
   "source": []
  },
  {
   "cell_type": "markdown",
   "metadata": {},
   "source": [
    "---"
   ]
  }
 ],
 "metadata": {
  "kernelspec": {
   "display_name": "Python 3",
   "language": "python",
   "name": "python3"
  },
  "language_info": {
   "codemirror_mode": {
    "name": "ipython",
    "version": 3
   },
   "file_extension": ".py",
   "mimetype": "text/x-python",
   "name": "python",
   "nbconvert_exporter": "python",
   "pygments_lexer": "ipython3",
   "version": "3.7.3"
  }
 },
 "nbformat": 4,
 "nbformat_minor": 2
}
