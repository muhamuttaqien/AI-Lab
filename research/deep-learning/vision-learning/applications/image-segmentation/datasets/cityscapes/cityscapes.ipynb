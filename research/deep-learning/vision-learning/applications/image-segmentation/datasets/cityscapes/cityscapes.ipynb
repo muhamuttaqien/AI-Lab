{
 "cells": [
  {
   "cell_type": "markdown",
   "metadata": {},
   "source": [
    "# Cityscapes"
   ]
  },
  {
   "cell_type": "code",
   "execution_count": 1,
   "metadata": {},
   "outputs": [],
   "source": [
    "import os\n",
    "import matplotlib.pyplot as plt\n",
    "\n",
    "import torch\n",
    "import torch.nn as nn\n",
    "import torchvision.transforms as transforms"
   ]
  },
  {
   "cell_type": "code",
   "execution_count": 2,
   "metadata": {},
   "outputs": [],
   "source": [
    "import utils"
   ]
  },
  {
   "cell_type": "code",
   "execution_count": 3,
   "metadata": {},
   "outputs": [],
   "source": [
    "class CityScapes(torch.utils.data.Dataset):\n",
    "    \"\"\"\n",
    "    Cityscapes dataset from https://www.cityscapes-dataset.com/\n",
    "    \"\"\"\n",
    "    \n",
    "    # training dataset root directories\n",
    "    train_dir = 'leftImg8bit_trainvaltest/leftImg8bit/train'\n",
    "    train_label_dir = 'gtFine_trainvaltest/gtFine/train'\n",
    "    \n",
    "    # validation dataset root directories\n",
    "    valid_dir = 'leftImg8bit_trainvaltest/leftImg8bit/val'\n",
    "    valid_label_dir = 'gtFine_trainvaltest/gtFine/val'\n",
    "    \n",
    "    # test dataset root directories\n",
    "    test_dir = 'leftImg8bit_trainvaltest/leftImg8bit/test'\n",
    "    test_label_dir = 'gtFine_trainvaltest/gtFine/test'\n",
    "    \n",
    "    # images extension\n",
    "    img_extension = '.png'\n",
    "    label_name_filter = 'labelIds'\n",
    "    \n",
    "    # the values associated with the 35 classes\n",
    "    full_classes = (0, 1, 2, 3, 4, 5, 6, 7, 8, 9, 10, 11, 12, 13, 14, 15, 16,\n",
    "                    17, 18, 19, 20, 21, 22, 23, 24, 25, 26, 27, 28, 29, 30, 31,\n",
    "                    32, 33, -1)\n",
    "\n",
    "    # the values above are remapped to the following\n",
    "    new_classes = (0, 0, 0, 0, 0, 0, 0, 1, 2, 0, 0, 3, 4, 5, 0, 0, 0, 6, 0, 7,\n",
    "                   8, 9, 10, 11, 12, 13, 14, 15, 16, 0, 0, 17, 18, 19, 0)\n",
    "    \n",
    "    # default encoding for pixel value, class name and class color\n",
    "    from collections import OrderedDict\n",
    "    \n",
    "    color_encoding = OrderedDict([\n",
    "        ('unlabeled', (0, 0, 0)),\n",
    "        ('road', (128, 64, 128)),\n",
    "        ('sidewalk', (244, 35, 232)),\n",
    "        ('building', (70, 70, 70)),\n",
    "        ('wall', (102, 102, 156)),\n",
    "        ('fence', (190, 153, 153)),\n",
    "        ('pole', (153, 153, 153)),\n",
    "        ('traffic_light', (250, 170, 30)),\n",
    "        ('traffic_sign', (220, 220, 0)),\n",
    "        ('vegetation', (107, 142, 35)),\n",
    "        ('terrain', (152, 251, 152)),\n",
    "        ('sky', (70, 130, 180)),\n",
    "        ('person', (220, 20, 60)),\n",
    "        ('rider', (255, 0, 0)),\n",
    "        ('car', (0, 0, 142)),\n",
    "        ('truck', (0, 0, 70)),\n",
    "        ('bus', (0, 60, 100)),\n",
    "        ('train', (0, 80, 100)),\n",
    "        ('motorcycle', (0, 0, 230)),\n",
    "        ('bicycle', (119, 11, 32))\n",
    "    ])\n",
    "    \n",
    "    def __init__(self, \n",
    "                 root_dir, \n",
    "                 mode='train', \n",
    "                 data_transform=None, \n",
    "                 label_transform=None, \n",
    "                 loader=utils.pil_loader):\n",
    "        pass"
   ]
  },
  {
   "cell_type": "markdown",
   "metadata": {},
   "source": [
    "---"
   ]
  }
 ],
 "metadata": {
  "kernelspec": {
   "display_name": "Python 3",
   "language": "python",
   "name": "python3"
  },
  "language_info": {
   "codemirror_mode": {
    "name": "ipython",
    "version": 3
   },
   "file_extension": ".py",
   "mimetype": "text/x-python",
   "name": "python",
   "nbconvert_exporter": "python",
   "pygments_lexer": "ipython3",
   "version": "3.7.3"
  }
 },
 "nbformat": 4,
 "nbformat_minor": 2
}
