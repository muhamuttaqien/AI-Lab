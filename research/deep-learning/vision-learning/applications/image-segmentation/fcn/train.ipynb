{
 "cells": [
  {
   "cell_type": "code",
   "execution_count": 1,
   "metadata": {},
   "outputs": [],
   "source": [
    "import os\n",
    "import sys\n",
    "import time\n",
    "import numpy as np\n",
    "from PIL import Image\n",
    "from matplotlib import pyplot as plt\n",
    "\n",
    "import torch\n",
    "import torch.nn as nn\n",
    "import torch.optim as optim\n",
    "import torchvision.transforms as transforms\n",
    "from torch.optim import lr_scheduler\n",
    "from torch.autograd import Variable\n",
    "from torch.utils.data import Dataset, DataLoader"
   ]
  },
  {
   "cell_type": "code",
   "execution_count": 2,
   "metadata": {},
   "outputs": [],
   "source": [
    "from vgg import VGGNet\n",
    "from fcn import FCNs, FCN8s, FCN16s, FCN32s"
   ]
  },
  {
   "cell_type": "code",
   "execution_count": 3,
   "metadata": {},
   "outputs": [],
   "source": [
    "from utils import calculate_iou, calculate_acc\n",
    "from camvid import CamVid"
   ]
  },
  {
   "cell_type": "markdown",
   "metadata": {},
   "source": [
    "## Set Configs"
   ]
  },
  {
   "cell_type": "code",
   "execution_count": 4,
   "metadata": {},
   "outputs": [],
   "source": [
    "BATCH_SIZE = 6\n",
    "LR = 1e-4\n",
    "MOMENTUM = 0\n",
    "WEIGHT_DECAY = 1e-5\n",
    "STEP_SIZE = 50\n",
    "GAMMA = 0.5\n",
    "\n",
    "N_EPOCHS = 500"
   ]
  },
  {
   "cell_type": "code",
   "execution_count": 5,
   "metadata": {},
   "outputs": [],
   "source": [
    "is_cuda = torch.cuda.is_available()\n",
    "\n",
    "if is_cuda: device = torch.device('cuda')\n",
    "else: device = torch.device('cpu')"
   ]
  },
  {
   "cell_type": "markdown",
   "metadata": {},
   "source": [
    "## Set Data Loader"
   ]
  },
  {
   "cell_type": "code",
   "execution_count": 6,
   "metadata": {},
   "outputs": [],
   "source": [
    "DATASET_DIR = '../datasets/camvid/data'\n",
    "HEIGHT, WIDTH = 224, 224\n",
    "BATCH_SIZE = 10\n",
    "WORKERS = 4"
   ]
  },
  {
   "cell_type": "code",
   "execution_count": 7,
   "metadata": {},
   "outputs": [],
   "source": [
    "data_transform = transforms.Compose([transforms.Resize((HEIGHT, WIDTH)), \n",
    "                                     transforms.ToTensor()])\n",
    "\n",
    "label_transform = transforms.Compose([transforms.Resize((HEIGHT, WIDTH), Image.NEAREST),\n",
    "                                      transforms.ToTensor()])"
   ]
  },
  {
   "cell_type": "code",
   "execution_count": 8,
   "metadata": {},
   "outputs": [],
   "source": [
    "train_set = CamVid(DATASET_DIR, mode='train', \n",
    "                   data_transform=data_transform, label_transform=label_transform)\n",
    "\n",
    "train_loader = torch.utils.data.DataLoader(train_set, batch_size=BATCH_SIZE, shuffle=True, num_workers=WORKERS)"
   ]
  },
  {
   "cell_type": "code",
   "execution_count": 9,
   "metadata": {},
   "outputs": [],
   "source": [
    "valid_set = CamVid(DATASET_DIR, mode='valid', \n",
    "                   data_transform=data_transform, label_transform=label_transform)\n",
    "\n",
    "valid_loader = torch.utils.data.DataLoader(valid_set, batch_size=BATCH_SIZE, shuffle=True, num_workers=WORKERS)"
   ]
  },
  {
   "cell_type": "code",
   "execution_count": 10,
   "metadata": {},
   "outputs": [],
   "source": [
    "test_set = CamVid(DATASET_DIR, mode='valid', \n",
    "                  data_transform=data_transform, label_transform=label_transform)\n",
    "\n",
    "test_loader = torch.utils.data.DataLoader(test_set, batch_size=1, shuffle=True, num_workers=WORKERS)"
   ]
  },
  {
   "cell_type": "code",
   "execution_count": 11,
   "metadata": {},
   "outputs": [],
   "source": [
    "N_CLASS = len(CamVid.color_encoding)"
   ]
  },
  {
   "cell_type": "markdown",
   "metadata": {},
   "source": [
    "## Init VGG Model"
   ]
  },
  {
   "cell_type": "code",
   "execution_count": 12,
   "metadata": {},
   "outputs": [],
   "source": [
    "vgg_model = VGGNet(requires_grad=True, remove_fc=True); vgg_model.to(device);"
   ]
  },
  {
   "cell_type": "markdown",
   "metadata": {},
   "source": [
    "## Init FCN Model"
   ]
  },
  {
   "cell_type": "code",
   "execution_count": 13,
   "metadata": {},
   "outputs": [],
   "source": [
    "fcn_model = FCNs(pretrained_net=vgg_model, n_class=N_CLASS); fcn_model.to(device);"
   ]
  },
  {
   "cell_type": "markdown",
   "metadata": {},
   "source": [
    "## Set Loss Function"
   ]
  },
  {
   "cell_type": "code",
   "execution_count": 14,
   "metadata": {},
   "outputs": [
    {
     "data": {
      "text/plain": [
       "BCEWithLogitsLoss()"
      ]
     },
     "execution_count": 14,
     "metadata": {},
     "output_type": "execute_result"
    }
   ],
   "source": [
    "bce_loss = nn.BCEWithLogitsLoss()\n",
    "bce_loss.to(device)"
   ]
  },
  {
   "cell_type": "markdown",
   "metadata": {},
   "source": [
    "## Set Optimizer"
   ]
  },
  {
   "cell_type": "code",
   "execution_count": 15,
   "metadata": {},
   "outputs": [],
   "source": [
    "optimizer = torch.optim.RMSprop(fcn_model.parameters(), lr=LR, momentum=MOMENTUM, weight_decay=WEIGHT_DECAY)"
   ]
  },
  {
   "cell_type": "code",
   "execution_count": 16,
   "metadata": {},
   "outputs": [],
   "source": [
    "scheduler = lr_scheduler.StepLR(optimizer, step_size=STEP_SIZE, gamma=GAMMA) # decay LR by a factor of 0.5 every 30 epochs"
   ]
  },
  {
   "cell_type": "markdown",
   "metadata": {},
   "source": [
    "## Train [FCN](https://arxiv.org/pdf/1605.06211.pdf) Network"
   ]
  },
  {
   "cell_type": "code",
   "execution_count": null,
   "metadata": {},
   "outputs": [
    {
     "name": "stdout",
     "output_type": "stream",
     "text": [
      "0\n",
      "1\n",
      "2\n",
      "3\n",
      "4\n"
     ]
    }
   ],
   "source": [
    "for epoch in range(1, N_EPOCHS+1):\n",
    "    \n",
    "    tick = time.time()\n",
    "    train_loss = []; valid_loss = []; best_loss = np.inf\n",
    "    \n",
    "    for i, batch in enumerate(train_loader):\n",
    "        print(i)\n",
    "        optimizer.zero_grad()\n",
    "        \n",
    "        inputs = Variable(batch[0]); inputs.to(device);\n",
    "        labels = Variable(batch[2]); labels.to(device);\n",
    "        \n",
    "        outputs = fcn_model(inputs)\n",
    "        loss = bce_loss(outputs, labels)\n",
    "        loss.backward()\n",
    "        \n",
    "        optimizer.step()\n",
    "        scheduler.step()\n",
    "        \n",
    "        train_loss.append(loss.item())\n",
    "            \n",
    "    # validate the network\n",
    "    fcn_model.eval()\n",
    "    accuracy = []; total_iou = []\n",
    "\n",
    "    for i, batch in enumerate(valid_loader):\n",
    "        print(i)\n",
    "        inputs = Variable(batch[0]); inputs.to(device);\n",
    "        labels = Variable(batch[2]); labels.to(device);\n",
    "        \n",
    "        outputs = fcn_model(inputs)\n",
    "        loss = bce_loss(outputs, labels)\n",
    "        \n",
    "        valid_loss.append(loss.item())\n",
    "        \n",
    "        outputs = outputs.data.cpu().numpy()\n",
    "        N, _, h, w = outputs.shape\n",
    "        prediction = outputs.transpose(0, 2, 3, 1).reshape(-1, N_CLASS)\n",
    "        prediction = prediction.argmax(axis=1)\n",
    "        prediction = prediction.reshape(N, h, w)\n",
    "        \n",
    "        labels = labels.cpu().numpy()\n",
    "        labels = labels.transpose(0, 2, 3, 1).reshape(-1, N_CLASS)\n",
    "        labels = labels.argmax(axis=1)\n",
    "        labels = labels.reshape(N, h, w)\n",
    "        \n",
    "        for pred, label in zip(prediction, labels):\n",
    "            iou = calculate_iou(pred, label, N_CLASS)\n",
    "            acc = calculate_acc(pred, label)\n",
    "            \n",
    "            total_iou.append(iou); accuracy.append(acc)\n",
    "            \n",
    "    # calculate average IoU, accuracy & loss\n",
    "    total_iou = np.array(total_iou).T # N_CLASS * valid_len\n",
    "    iou = np.nanmean(total_iou, axis=1)\n",
    "    accuracy = np.array(accuracy).mean()\n",
    "    \n",
    "    train_loss = train_loss/len(train_loader)\n",
    "    valid_loss = valid_loss/len(valid_loader)\n",
    "    \n",
    "    if epoch == 1 or (valid_loss < best_loss):\n",
    "        best_loss = valid_loss\n",
    "        torch.save(fcn_model, f'./weights/fcn_model_loss{best_loss}.hdf5')\n",
    "    \n",
    "    print(f'Epoch {epoch}, Valid Loss: {valid_loss}', \n",
    "          f'Accuracy: {accuracy}, mIoU: {np.nanmean(iou)}, Time Elapsed {time.time()-tick}')"
   ]
  },
  {
   "cell_type": "markdown",
   "metadata": {},
   "source": [
    "---"
   ]
  }
 ],
 "metadata": {
  "kernelspec": {
   "display_name": "Python 3",
   "language": "python",
   "name": "python3"
  },
  "language_info": {
   "codemirror_mode": {
    "name": "ipython",
    "version": 3
   },
   "file_extension": ".py",
   "mimetype": "text/x-python",
   "name": "python",
   "nbconvert_exporter": "python",
   "pygments_lexer": "ipython3",
   "version": "3.7.3"
  }
 },
 "nbformat": 4,
 "nbformat_minor": 2
}
