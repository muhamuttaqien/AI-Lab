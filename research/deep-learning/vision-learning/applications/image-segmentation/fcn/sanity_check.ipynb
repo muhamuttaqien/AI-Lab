{
 "cells": [
  {
   "cell_type": "code",
   "execution_count": 1,
   "metadata": {},
   "outputs": [],
   "source": [
    "import torch\n",
    "import torch.nn as nn\n",
    "\n",
    "import matplotlib.pyplot as plt"
   ]
  },
  {
   "cell_type": "code",
   "execution_count": 2,
   "metadata": {},
   "outputs": [],
   "source": [
    "from vgg import VGGNet\n",
    "from fcn import FCNs, FCN8s, FCN16s, FCN32s"
   ]
  },
  {
   "cell_type": "markdown",
   "metadata": {},
   "source": [
    "## Set Configs"
   ]
  },
  {
   "cell_type": "code",
   "execution_count": 3,
   "metadata": {},
   "outputs": [],
   "source": [
    "BATCH_SIZE = 10\n",
    "N_CLASS = 20\n",
    "H = 160\n",
    "W = 160\n",
    "\n",
    "LR = 1e-3\n",
    "MOMENTUM = 0.9\n",
    "N_EPOCH = 10"
   ]
  },
  {
   "cell_type": "code",
   "execution_count": 4,
   "metadata": {},
   "outputs": [],
   "source": [
    "is_cuda = torch.cuda.is_available()\n",
    "\n",
    "if is_cuda: device = torch.device('cuda')\n",
    "else: device = torch.device('cpu')"
   ]
  },
  {
   "cell_type": "markdown",
   "metadata": {},
   "source": [
    "## Init VGG"
   ]
  },
  {
   "cell_type": "code",
   "execution_count": 5,
   "metadata": {},
   "outputs": [],
   "source": [
    "vgg_model = VGGNet(requires_grad=True)\n",
    "x = torch.autograd.Variable(torch.randn(BATCH_SIZE, 3, 224, 224))\n",
    "output = vgg_model(x)\n",
    "assert output['x5'].size() == torch.Size([BATCH_SIZE, 512, 7, 7]) # sanity check"
   ]
  },
  {
   "cell_type": "markdown",
   "metadata": {},
   "source": [
    "## Init FCN"
   ]
  },
  {
   "cell_type": "code",
   "execution_count": 6,
   "metadata": {},
   "outputs": [],
   "source": [
    "fcn_model = FCNs(pretrained_net=vgg_model, n_class=N_CLASS)\n",
    "x = torch.autograd.Variable(torch.randn(BATCH_SIZE, 3, H, W))\n",
    "output = fcn_model(x)\n",
    "assert output.size() == torch.Size([BATCH_SIZE, N_CLASS, H, W]) # sanity check"
   ]
  },
  {
   "cell_type": "code",
   "execution_count": 7,
   "metadata": {},
   "outputs": [],
   "source": [
    "fcn8_model = FCN8s(pretrained_net=vgg_model, n_class=N_CLASS)\n",
    "x = torch.autograd.Variable(torch.randn(BATCH_SIZE, 3, H, W))\n",
    "output = fcn_model(x)\n",
    "assert output.size() == torch.Size([BATCH_SIZE, N_CLASS, H, W])"
   ]
  },
  {
   "cell_type": "code",
   "execution_count": 8,
   "metadata": {},
   "outputs": [],
   "source": [
    "fcn16_model = FCN16s(pretrained_net=vgg_model, n_class=N_CLASS)\n",
    "x = torch.autograd.Variable(torch.randn(BATCH_SIZE, 3, H, W))\n",
    "output = fcn_model(x)\n",
    "assert output.size() == torch.Size([BATCH_SIZE, N_CLASS, H, W])"
   ]
  },
  {
   "cell_type": "code",
   "execution_count": 9,
   "metadata": {},
   "outputs": [],
   "source": [
    "fcn32_model = FCN32s(pretrained_net=vgg_model, n_class=N_CLASS)\n",
    "x = torch.autograd.Variable(torch.randn(BATCH_SIZE, 3, H, W))\n",
    "output = fcn_model(x)\n",
    "assert output.size() == torch.Size([BATCH_SIZE, N_CLASS, H, W])"
   ]
  },
  {
   "cell_type": "markdown",
   "metadata": {},
   "source": [
    "## Set Loss Function"
   ]
  },
  {
   "cell_type": "code",
   "execution_count": 10,
   "metadata": {},
   "outputs": [
    {
     "data": {
      "text/plain": [
       "BCELoss()"
      ]
     },
     "execution_count": 10,
     "metadata": {},
     "output_type": "execute_result"
    }
   ],
   "source": [
    "bce_loss = nn.BCELoss()\n",
    "bce_loss.to(device)"
   ]
  },
  {
   "cell_type": "markdown",
   "metadata": {},
   "source": [
    "## Set Optimizer"
   ]
  },
  {
   "cell_type": "code",
   "execution_count": 11,
   "metadata": {},
   "outputs": [],
   "source": [
    "optimizer = torch.optim.SGD(fcn_model.parameters(), lr=LR, momentum=MOMENTUM)\n",
    "x = torch.autograd.Variable(torch.randn(BATCH_SIZE, 3, H, W))\n",
    "y = torch.autograd.Variable(torch.randn(BATCH_SIZE, N_CLASS, H, W), requires_grad=False)"
   ]
  },
  {
   "cell_type": "code",
   "execution_count": 12,
   "metadata": {},
   "outputs": [],
   "source": [
    "loss_history = []"
   ]
  },
  {
   "cell_type": "code",
   "execution_count": 13,
   "metadata": {},
   "outputs": [
    {
     "name": "stdout",
     "output_type": "stream",
     "text": [
      "Epoch: 1, Loss: 0.7202029228210449\n",
      "Epoch: 2, Loss: 0.7201523780822754\n",
      "Epoch: 3, Loss: 0.7200577855110168\n",
      "Epoch: 4, Loss: 0.719923198223114\n",
      "Epoch: 5, Loss: 0.7197609543800354\n",
      "Epoch: 6, Loss: 0.7195594906806946\n",
      "Epoch: 7, Loss: 0.7193323373794556\n",
      "Epoch: 8, Loss: 0.7190765738487244\n",
      "Epoch: 9, Loss: 0.7187947630882263\n",
      "Epoch: 10, Loss: 0.718489944934845\n"
     ]
    }
   ],
   "source": [
    "for epoch in range(1, N_EPOCH+1):\n",
    "    \n",
    "    optimizer.zero_grad()\n",
    "    \n",
    "    output = fcn_model(x)\n",
    "    output = torch.sigmoid(output)\n",
    "    loss = bce_loss(output, y)\n",
    "    loss.backward()\n",
    "    \n",
    "    optimizer.step()\n",
    "    \n",
    "    print(f'Epoch: {epoch}, Loss: {loss.item()}')\n",
    "    loss_history.append(loss.item())"
   ]
  },
  {
   "cell_type": "code",
   "execution_count": 14,
   "metadata": {},
   "outputs": [
    {
     "data": {
      "image/png": "[encoded data removed]",
      "text/plain": [
       "<Figure size 432x288 with 1 Axes>"
      ]
     },
     "metadata": {
      "needs_background": "light"
     },
     "output_type": "display_data"
    }
   ],
   "source": [
    "plt.plot(loss_history)\n",
    "plt.show()"
   ]
  },
  {
   "cell_type": "markdown",
   "metadata": {},
   "source": [
    "---"
   ]
  }
 ],
 "metadata": {
  "kernelspec": {
   "display_name": "Python 3",
   "language": "python",
   "name": "python3"
  },
  "language_info": {
   "codemirror_mode": {
    "name": "ipython",
    "version": 3
   },
   "file_extension": ".py",
   "mimetype": "text/x-python",
   "name": "python",
   "nbconvert_exporter": "python",
   "pygments_lexer": "ipython3",
   "version": "3.7.3"
  }
 },
 "nbformat": 4,
 "nbformat_minor": 2
}
