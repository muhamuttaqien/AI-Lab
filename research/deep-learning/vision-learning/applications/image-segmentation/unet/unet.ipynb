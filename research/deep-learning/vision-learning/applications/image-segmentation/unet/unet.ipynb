{
 "cells": [
  {
   "cell_type": "markdown",
   "metadata": {},
   "source": [
    "# U-Net"
   ]
  },
  {
   "cell_type": "code",
   "execution_count": 1,
   "metadata": {},
   "outputs": [],
   "source": [
    "import torch\n",
    "import torch.nn as nn\n",
    "import torch.nn.functional as F"
   ]
  },
  {
   "cell_type": "code",
   "execution_count": 2,
   "metadata": {},
   "outputs": [],
   "source": [
    "from sublayers import DoubleConv, Down, Up, OutputConv"
   ]
  },
  {
   "cell_type": "markdown",
   "metadata": {},
   "source": [
    "## Build U-Net Architecture"
   ]
  },
  {
   "cell_type": "code",
   "execution_count": 3,
   "metadata": {},
   "outputs": [],
   "source": [
    "class UNet(nn.Module):\n",
    "    \n",
    "    def __init__(self, n_channels, n_classes, bilinear=True):\n",
    "        \n",
    "        super(UNet, self).__init__()\n",
    "        self.n_channels = n_channels\n",
    "        self.n_classes = n_classes\n",
    "        self.bilinear = bilinear\n",
    "        \n",
    "        self.input_layer = DoubleConv(n_channels, 64)\n",
    "        self.down1_layer = Down(64, 128)\n",
    "        self.down2_layer = Down(128, 256)\n",
    "        self.down3_layer = Down(256, 512)\n",
    "        self.down4_layer = Down(512, 512)\n",
    "        \n",
    "        self.up1_layer = Up(1024, 256, bilinear)\n",
    "        self.up2_layer = Up(512, 128, bilinear)\n",
    "        self.up3_layer = Up(256, 64, bilinear)\n",
    "        self.up4_layer = Up(128, 64, bilinear)\n",
    "        self.output_layer = OutputConv(64, n_classes)\n",
    "\n",
    "    def forward(self, x):\n",
    "        \n",
    "        x1 = self.input_layer(x)\n",
    "        x2 = self.down1_layer(x1)\n",
    "        x3 = self.down2_layer(x2)\n",
    "        x4 = self.down3_layer(x3)\n",
    "        x5 = self.down4_layer(x4)\n",
    "        \n",
    "        x = self.up1(x5, x4)\n",
    "        x = self.up2(x, x3)\n",
    "        x = self.up3(x, x2)\n",
    "        x = self.up4(x, x1)\n",
    "        \n",
    "        logits = self.output_layer\n",
    "        return logits"
   ]
  },
  {
   "cell_type": "markdown",
   "metadata": {},
   "source": [
    "---"
   ]
  }
 ],
 "metadata": {
  "kernelspec": {
   "display_name": "Python 3",
   "language": "python",
   "name": "python3"
  },
  "language_info": {
   "codemirror_mode": {
    "name": "ipython",
    "version": 3
   },
   "file_extension": ".py",
   "mimetype": "text/x-python",
   "name": "python",
   "nbconvert_exporter": "python",
   "pygments_lexer": "ipython3",
   "version": "3.7.3"
  }
 },
 "nbformat": 4,
 "nbformat_minor": 2
}
