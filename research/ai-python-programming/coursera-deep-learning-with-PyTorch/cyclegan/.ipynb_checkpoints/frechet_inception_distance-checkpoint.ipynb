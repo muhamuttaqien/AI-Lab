{
 "cells": [
  {
   "cell_type": "markdown",
   "metadata": {},
   "source": [
    "# GAN Evaluation - Inception Score (IS)"
   ]
  },
  {
   "cell_type": "markdown",
   "metadata": {},
   "source": [
    "## Basic [Concept](https://machinelearningmastery.com/how-to-implement-the-frechet-inception-distance-fid-from-scratch/)"
   ]
  },
  {
   "cell_type": "code",
   "execution_count": 1,
   "metadata": {
    "collapsed": true
   },
   "outputs": [],
   "source": [
    "import numpy as np\n",
    "from numpy import cov\n",
    "from numpy import trace\n",
    "from numpy import iscomplexobj\n",
    "from numpy.random import random\n",
    "\n",
    "from scipy.linalg import sqrtm"
   ]
  },
  {
   "cell_type": "code",
   "execution_count": 9,
   "metadata": {
    "collapsed": true
   },
   "outputs": [],
   "source": [
    "def calculate_fid_score(fvector1, fvector2):\n",
    "    # calculate mean and covariance statistics\n",
    "    mean1, sigma1 = fvector1.mean(axis=0), cov(fvector1, rowvar=False)\n",
    "    mean2, sigma2 = fvector2.mean(axis=0), cov(fvector2, rowvar=False)\n",
    "    \n",
    "    # calculate sum squared difference between two mean vectors\n",
    "    ssdiff = np.sum((mean1 - mean2) ** 2.0)\n",
    "    \n",
    "    # calculate sqrt of product between two covariance metrics\n",
    "    covmean = sqrtm(sigma1.dot(sigma2))\n",
    "    \n",
    "    # some elements in the resulting matrix may be imaginary\n",
    "    # check and correct imaginary numbers from sqrt\n",
    "    if iscomplexobj(covmean):\n",
    "        covmean = covmean.real\n",
    "        \n",
    "    # calculate score\n",
    "    fid = ssdiff + trace(sigma1 + sigma2 - 2.0 * covmean)\n",
    "    return fid"
   ]
  },
  {
   "cell_type": "code",
   "execution_count": 10,
   "metadata": {
    "collapsed": true
   },
   "outputs": [],
   "source": [
    "# define two collections of activations\n",
    "fvector1 = random(10*2048)\n",
    "fvector1 = fvector1.reshape((10,2048))\n",
    "fvector2 = random(10*2048)\n",
    "fvector2 = fvector2.reshape((10,2048))"
   ]
  },
  {
   "cell_type": "code",
   "execution_count": 11,
   "metadata": {},
   "outputs": [
    {
     "name": "stdout",
     "output_type": "stream",
     "text": [
      "FID (identical feature vectors): -0.000\n"
     ]
    }
   ],
   "source": [
    "# fid between act1 and act1\n",
    "fid = calculate_fid_score(fvector1, fvector1)\n",
    "print('FID (identical feature vectors): %.3f' % fid)"
   ]
  },
  {
   "cell_type": "code",
   "execution_count": 13,
   "metadata": {},
   "outputs": [
    {
     "name": "stdout",
     "output_type": "stream",
     "text": [
      "FID (different feature vectors): 354.907\n"
     ]
    }
   ],
   "source": [
    "# fid between act1 and act2\n",
    "fid = calculate_fid_score(fvector1, fvector2)\n",
    "print('FID (different feature vectors): %.3f' % fid)"
   ]
  },
  {
   "cell_type": "markdown",
   "metadata": {},
   "source": [
    "## FID in Pytorch"
   ]
  },
  {
   "cell_type": "code",
   "execution_count": 5,
   "metadata": {
    "collapsed": true
   },
   "outputs": [],
   "source": [
    "import torch\n",
    "from torch import nn\n",
    "from torch.autograd import Variable\n",
    "from torch.nn import functional as F\n",
    "import torch.utils.data\n",
    "\n",
    "from torchvision.models.inception import inception_v3"
   ]
  },
  {
   "cell_type": "code",
   "execution_count": 6,
   "metadata": {
    "collapsed": true
   },
   "outputs": [],
   "source": [
    "import torch\n",
    "from torch import nn\n",
    "from torch.autograd import Variable\n",
    "from torch.nn import functional as F\n",
    "import torch.utils.data\n",
    "\n",
    "from torchvision.models.inception import inception_v3"
   ]
  },
  {
   "cell_type": "code",
   "execution_count": 10,
   "metadata": {
    "collapsed": true
   },
   "outputs": [],
   "source": [
    "def calculate_inception_score(images, n_split=1, eps=1E-16, batch_size=32, resize=False, cuda=False):\n",
    "    \n",
    "    N = len(images)\n",
    "    \n",
    "    assert batch_size > 0\n",
    "    assert N > batch_size\n",
    "    \n",
    "    # set up dtype for inception v3 model\n",
    "    if cuda:\n",
    "        dtype = torch.cuda.FloatTensor\n",
    "    else:\n",
    "        if torch.cuda.is_available():\n",
    "            print(\"WARNING: You have a CUDA device, so you should probably set cuda=True\")\n",
    "        dtype = torch.FloatTensor\n",
    "        \n",
    "    # set up dataloader\n",
    "    data_loader = torch.utils.data.DataLoader(images, batch_size=batch_size)\n",
    "    \n",
    "    # load inception model\n",
    "    print(\"Loading Inception V3 model...\")\n",
    "    inception_model = inception_v3(pretrained=True, transform_input=False).type(dtype)\n",
    "    inception_model.eval();\n",
    "    \n",
    "    up = nn.Upsample(size=(299, 299), mode='bilinear', align_corners=False).type(dtype)\n",
    "    def get_yhats(x):\n",
    "        if resize:\n",
    "            x = up(x)\n",
    "        x = inception_model(x)\n",
    "        return F.softmax(x, dim=1).data.cpu().numpy()\n",
    "\n",
    "    # get predictions\n",
    "    print(\"Predicting class probabilities for images per batch...\")\n",
    "    yhats = np.zeros((N, 1000))\n",
    "\n",
    "    for i, batch in enumerate(data_loader, 0):\n",
    "        batch = batch.type(dtype)\n",
    "        batchv = Variable(batch)\n",
    "        batch_size_i = batch.size()[0]\n",
    "\n",
    "        yhats[i*batch_size:i*batch_size + batch_size_i] = get_yhats(batchv)\n",
    "\n",
    "    # compute the mean kl-div\n",
    "    print(\"Computing the mean kl-div...\")\n",
    "    split_scores = []\n",
    "\n",
    "    for k in range(n_split):\n",
    "        \n",
    "        # retrieve p(y|x)\n",
    "        yhats_ = yhats[k * (N // n_split): (k+1) * (N // n_split), :]\n",
    "        \n",
    "        # calculate p(y)\n",
    "        p_y = np.mean(yhats_, axis=0)\n",
    "        scores = []\n",
    "        \n",
    "        for i in range(yhats_.shape[0]):\n",
    "            # conditional probability for each image (p(y|x))\n",
    "            p_yx = yhats_[i, :]\n",
    "            \n",
    "            # KL divergence = p(y|x) * (log(p(y|x)) – log(p(y)))\n",
    "            kl_d = p_yx * (log(p_yx + eps) - log(p_y + eps))\n",
    "            kl_d = kl_d.sum(axis=0)\n",
    "            \n",
    "            # variation of calculating KL divergence from entropy of conditional & marginal probabilities\n",
    "            # kl_d = entropy(p_yx, p_y) # formula: -sum(p_i * log(p_i))\n",
    "            \n",
    "            scores.append(kl_d)\n",
    "            \n",
    "        # collect INCEPTION SCOREs for each group of images\n",
    "        split_scores.append(np.exp(np.mean(scores)))\n",
    "\n",
    "    print(\"\\nInception Score: \")\n",
    "    return np.mean(split_scores), np.std(split_scores)"
   ]
  },
  {
   "cell_type": "code",
   "execution_count": 11,
   "metadata": {},
   "outputs": [
    {
     "name": "stdout",
     "output_type": "stream",
     "text": [
      "Files already downloaded and verified\n"
     ]
    }
   ],
   "source": [
    "import torchvision.datasets as dset\n",
    "import torchvision.transforms as transforms\n",
    "\n",
    "cifar = dset.CIFAR10(root='data/', download=True,\n",
    "                         transform=transforms.Compose([\n",
    "                             transforms.Resize(32),\n",
    "                             transforms.ToTensor(),\n",
    "                             transforms.Normalize((0.5, 0.5, 0.5), (0.5, 0.5, 0.5))\n",
    "                         ])\n",
    ")"
   ]
  },
  {
   "cell_type": "code",
   "execution_count": 12,
   "metadata": {
    "scrolled": true
   },
   "outputs": [
    {
     "name": "stdout",
     "output_type": "stream",
     "text": [
      "Calculating Inception Score...\n",
      "Loading Inception V3 model...\n",
      "Predicting class probabilities for images per batch...\n",
      "Computing the mean kl-div...\n",
      "\n",
      "Inception Score: \n",
      "IS Mean score: 9.672780714173985\n",
      "IS Std score: 0.14991599423569926\n"
     ]
    }
   ],
   "source": [
    "class IgnoreLabelDataset(torch.utils.data.Dataset):\n",
    "    def __init__(self, orig):\n",
    "        self.orig = orig\n",
    "\n",
    "    def __getitem__(self, index):\n",
    "        return self.orig[index][0]\n",
    "\n",
    "    def __len__(self):\n",
    "        return len(self.orig)\n",
    "\n",
    "print(\"Calculating Inception Score...\")\n",
    "mean_score, std_score = calculate_inception_score(IgnoreLabelDataset(cifar), n_split=10, batch_size=32, resize=True, cuda=True)\n",
    "print(\"IS Mean score:\",mean_score)\n",
    "print(\"IS Std score:\",std_score)"
   ]
  },
  {
   "cell_type": "markdown",
   "metadata": {},
   "source": [
    "---"
   ]
  }
 ],
 "metadata": {
  "kernelspec": {
   "display_name": "Python 3",
   "language": "python",
   "name": "python3"
  },
  "language_info": {
   "codemirror_mode": {
    "name": "ipython",
    "version": 3
   },
   "file_extension": ".py",
   "mimetype": "text/x-python",
   "name": "python",
   "nbconvert_exporter": "python",
   "pygments_lexer": "ipython3",
   "version": "3.6.3"
  }
 },
 "nbformat": 4,
 "nbformat_minor": 2
}
