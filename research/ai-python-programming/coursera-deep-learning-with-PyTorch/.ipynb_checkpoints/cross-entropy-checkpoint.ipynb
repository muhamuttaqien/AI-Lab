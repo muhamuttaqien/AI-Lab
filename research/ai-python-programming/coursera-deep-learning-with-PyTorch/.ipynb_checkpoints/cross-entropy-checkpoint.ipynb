{
 "cells": [
  {
   "cell_type": "code",
   "execution_count": 1,
   "metadata": {
    "collapsed": true
   },
   "outputs": [],
   "source": [
    "import numpy as np"
   ]
  },
  {
   "cell_type": "code",
   "execution_count": 2,
   "metadata": {
    "collapsed": true
   },
   "outputs": [],
   "source": [
    "def cross_entropy(Y, P):\n",
    "    Y = np.float_(Y)\n",
    "    P = np.float_(P)\n",
    "    return -np.sum(Y * np.log(P) + (1 - Y) * np.log(1 - P))"
   ]
  },
  {
   "cell_type": "code",
   "execution_count": 10,
   "metadata": {},
   "outputs": [
    {
     "name": "stdout",
     "output_type": "stream",
     "text": [
      "Small CE (Good model):  0.6851790109107685\n"
     ]
    }
   ],
   "source": [
    "# Y for events\n",
    "Y = [1, 1, 0]\n",
    "# P for probabilities\n",
    "P = [0.8, 0.7, 0.1]\n",
    "# cross entropy for how likely is it that those events happen based on probabilities\n",
    "print('Small CE (Good model): ',cross_entropy(Y, P))"
   ]
  },
  {
   "cell_type": "code",
   "execution_count": 9,
   "metadata": {},
   "outputs": [
    {
     "name": "stdout",
     "output_type": "stream",
     "text": [
      "High CE (Not good model):  4.268697949366878\n"
     ]
    }
   ],
   "source": [
    "# Y for events\n",
    "Y = [0, 1, 1]\n",
    "# P for probabilities\n",
    "P = [0.8, 0.7, 0.1]\n",
    "# cross entropy for how likely is it that those events happen based on probabilities\n",
    "print('High CE (Not good model): ',cross_entropy(Y, P))"
   ]
  },
  {
   "cell_type": "code",
   "execution_count": 11,
   "metadata": {
    "collapsed": true
   },
   "outputs": [],
   "source": [
    "# A higher cross-entropy implies a lower probability for an event"
   ]
  },
  {
   "cell_type": "markdown",
   "metadata": {},
   "source": [
    "<hr/>"
   ]
  }
 ],
 "metadata": {
  "kernelspec": {
   "display_name": "Python 3",
   "language": "python",
   "name": "python3"
  },
  "language_info": {
   "codemirror_mode": {
    "name": "ipython",
    "version": 3
   },
   "file_extension": ".py",
   "mimetype": "text/x-python",
   "name": "python",
   "nbconvert_exporter": "python",
   "pygments_lexer": "ipython3",
   "version": "3.6.3"
  }
 },
 "nbformat": 4,
 "nbformat_minor": 2
}
