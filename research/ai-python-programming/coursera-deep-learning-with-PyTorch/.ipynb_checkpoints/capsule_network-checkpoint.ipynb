{
 "cells": [
  {
   "cell_type": "markdown",
   "metadata": {},
   "source": [
    "# Hinton's Capsule Network"
   ]
  },
  {
   "cell_type": "code",
   "execution_count": 14,
   "metadata": {},
   "outputs": [],
   "source": [
    "# import resources\n",
    "import numpy as np\n",
    "import torch\n",
    "\n",
    "# random seed (for reproducibility)\n",
    "seed = 1\n",
    "# set random seed for pytorch\n",
    "torch.manual_seed(seed)\n",
    "# set random seed for numpy\n",
    "np.random.seed(seed)"
   ]
  },
  {
   "cell_type": "code",
   "execution_count": 24,
   "metadata": {},
   "outputs": [
    {
     "name": "stdout",
     "output_type": "stream",
     "text": [
      "Only CPU available\n"
     ]
    }
   ],
   "source": [
    "# it will also be relevant, in this model, to see if I can train on gpu\n",
    "TRAIN_ON_GPU = torch.cuda.is_available()\n",
    "\n",
    "if(TRAIN_ON_GPU):\n",
    "    print('Training on GPU!')\n",
    "else:\n",
    "    print('Only CPU available')"
   ]
  },
  {
   "cell_type": "markdown",
   "metadata": {},
   "source": [
    "---\n",
    "## Obtain the [Data](https://pytorch.org/docs/stable/torchvision/datasets.html)"
   ]
  },
  {
   "cell_type": "code",
   "execution_count": 2,
   "metadata": {
    "collapsed": true
   },
   "outputs": [],
   "source": [
    "from torchvision import datasets\n",
    "import torchvision.transforms as transforms"
   ]
  },
  {
   "cell_type": "code",
   "execution_count": 4,
   "metadata": {},
   "outputs": [],
   "source": [
    "# number of subprocesses to use for data loading\n",
    "num_workers = 0\n",
    "# how many samples per batch to load\n",
    "batch_size = 20\n",
    "\n",
    "# convert data to Tensors\n",
    "transform = transforms.ToTensor()\n",
    "\n",
    "# choose the training and test datasets\n",
    "train_data = datasets.MNIST(root='data', train=True,\n",
    "                            download=True, transform=transform)\n",
    "\n",
    "test_data = datasets.MNIST(root='data', train=False, \n",
    "                           download=True, transform=transform)\n",
    "\n",
    "# prepare data loaders\n",
    "train_loader = torch.utils.data.DataLoader(train_data, \n",
    "                                           batch_size=batch_size, \n",
    "                                           num_workers=num_workers)\n",
    "\n",
    "test_loader = torch.utils.data.DataLoader(test_data, \n",
    "                                          batch_size=batch_size, \n",
    "                                          num_workers=num_workers)"
   ]
  },
  {
   "cell_type": "markdown",
   "metadata": {},
   "source": [
    "#### Visualizing Training Data"
   ]
  },
  {
   "cell_type": "code",
   "execution_count": 7,
   "metadata": {},
   "outputs": [
    {
     "data": {
      "image/png": "[encoded data removed]",
      "text/plain": [
       "<matplotlib.figure.Figure at 0x10f11dba8>"
      ]
     },
     "metadata": {},
     "output_type": "display_data"
    }
   ],
   "source": [
    "import matplotlib.pyplot as plt\n",
    "%matplotlib inline\n",
    "    \n",
    "# obtain one batch of training images\n",
    "dataiter = iter(train_loader)\n",
    "images, labels = dataiter.next()\n",
    "images = images.numpy()\n",
    "\n",
    "# plot the images in the batch, along with the corresponding labels\n",
    "fig = plt.figure(figsize=(25, 4))\n",
    "for idx in np.arange(batch_size):\n",
    "    ax = fig.add_subplot(2, batch_size/2, idx+1, xticks=[], yticks=[])\n",
    "    ax.imshow(np.squeeze(images[idx]), cmap='gray')\n",
    "    # print out the correct label for each image\n",
    "    # .item() gets the value contained in a Tensor\n",
    "    ax.set_title(str(labels[idx].item()))"
   ]
  },
  {
   "cell_type": "markdown",
   "metadata": {},
   "source": [
    "---\n",
    "## Encoder"
   ]
  },
  {
   "cell_type": "markdown",
   "metadata": {},
   "source": [
    "## First Layer: Convolutional Layer"
   ]
  },
  {
   "cell_type": "code",
   "execution_count": 9,
   "metadata": {
    "collapsed": true
   },
   "outputs": [],
   "source": [
    "import torch.nn as nn\n",
    "import torch.nn.functional as F"
   ]
  },
  {
   "cell_type": "code",
   "execution_count": 15,
   "metadata": {
    "collapsed": true
   },
   "outputs": [],
   "source": [
    "class ConvLayer(nn.Module):\n",
    "    \n",
    "    def __init__(self, in_channels=1, out_channels=256):\n",
    "        '''Contructs the ConvLayer with a specified input and output size.\n",
    "           param in_channels: input depth of an image, default value = 1\n",
    "           param out_channels: output depth of the convolutional layer, default value = 256 \n",
    "           '''\n",
    "        super(ConvLayer, self).__init__()\n",
    "\n",
    "        # defining a convolutional layer of the specified size\n",
    "        self.conv = nn.Conv2d(in_channels, out_channels,\n",
    "                              kernel_size=9, stride=1, padding=0)\n",
    "        \n",
    "    def forward(self, x):\n",
    "        '''Defines the feedforward behavior.\n",
    "           param x: the input to the layer; an input image\n",
    "           return: a relu-activated, convolutional layer\n",
    "           '''\n",
    "        # applying a ReLU activation to the outputs of the conv layer\n",
    "        features = F.relu(self.conv(x)) # will have dimenstions (batch_size, 20, 20, 256)\n",
    "        \n",
    "        return features"
   ]
  },
  {
   "cell_type": "markdown",
   "metadata": {},
   "source": [
    "## Second Layer: Primary Capsules"
   ]
  },
  {
   "cell_type": "code",
   "execution_count": 19,
   "metadata": {
    "collapsed": true
   },
   "outputs": [],
   "source": [
    "class PrimaryCaps(nn.Module):\n",
    "    \n",
    "    def __init__(self, num_capsules=8, in_channels=256, out_channels=32):\n",
    "        '''Constructs a list of convolutional layers to be used in \n",
    "           creating capsule output vectors.\n",
    "           param num_capsules: number of capsules to create\n",
    "           param in_channels: input depth of features, default value = 256\n",
    "           param out_channels: output depth of the convolutional layers, default value = 32\n",
    "           '''\n",
    "        super(PrimaryCaps, self).__init__()\n",
    "        \n",
    "        # creating a list of convolutional layers for each capsule I want to create\n",
    "        # all capsules have a conv layer with the same parameters\n",
    "        self.capsules = nn.ModuleList([\n",
    "            nn.Conv2d(in_channels=in_channels, out_channels=out_channels,\n",
    "                      kernel_size=9, stride=2, padding=0)\n",
    "            for _ in range(num_capsules)])\n",
    "        \n",
    "    def forward(self, x):\n",
    "        '''Defines the feedforward behavior.\n",
    "           param x: the input; features from a convolutional layer\n",
    "           return: a set of normalized, capsule output vectors\n",
    "           '''\n",
    "        # get batch size of inputs\n",
    "        batch_size = x.size(0)\n",
    "        # reshape convolutional layer outputs to be (batch_size, vector_dim=1152, 1)\n",
    "        u = [capsule[x].view(batch_size, 32 * 6 * 6, 1) for capsule in self.capsules]\n",
    "        # stack up output vectors, u, one for each capsule\n",
    "        u = torch.cat(u, dim=1)\n",
    "        # squashing the stack of vectors\n",
    "        u_squash = self.squash(u)\n",
    "        \n",
    "        return u_squash\n",
    "    \n",
    "    def squash(self, input_tensor):\n",
    "        '''Squashes an input Tensor so it has a magnitude between 0-1.\n",
    "           param input_tensor: a stack of capsule inputs, s_j\n",
    "           return: a stack of normalized, capsule output vectors, v_j\n",
    "           '''\n",
    "        squared_norm = (input_tensor ** 2).sum(dim=-1, keepdim=True)\n",
    "        scale = squared_norm / (squared_norm) # normalization coeff\n",
    "        output_tensor = scale * input_tensor / torch.sqrt(squared_norm)\n",
    "        \n",
    "        return output_tensor"
   ]
  },
  {
   "cell_type": "markdown",
   "metadata": {},
   "source": [
    "## Third Layer: Digit Capsules"
   ]
  },
  {
   "cell_type": "code",
   "execution_count": 20,
   "metadata": {
    "collapsed": true
   },
   "outputs": [],
   "source": [
    "def softmax(input_tensor, dim=1):\n",
    "    # transpose input\n",
    "    transposed_input = input_tensor.transpose(dim, len(input_tensor.size()) - 1)\n",
    "    # calculate softmax\n",
    "    softmaxed_output = F.softmax(transposed_input.contiguous().view(-1, transposed_input.size(-1)), dim=-1)\n",
    "    # un-transpose result\n",
    "    return softmaxed_output.view(*transposed_input.size()).transpose(dim, len(input_tensor.size()) - 1)"
   ]
  },
  {
   "cell_type": "code",
   "execution_count": 21,
   "metadata": {
    "collapsed": true
   },
   "outputs": [],
   "source": [
    "# dynamic routing\n",
    "def dynamic_routing(b_ij, u_hat, squash, routing_iterations=3):\n",
    "    '''Performs dynamic routing between two capsule layers.\n",
    "       param b_ij: initial log probabilities that capsule i should be coupled to capsule j\n",
    "       param u_hat: input, weighted capsule vectors, W u\n",
    "       param squash: given, normalizing squash function\n",
    "       param routing_iterations: number of times to update coupling coefficients\n",
    "       return: v_j, output capsule vectors\n",
    "       '''\n",
    "    \n",
    "    # update b_ij, c_ij for number of routing iterations\n",
    "    for iteration in range(routing_iterations):\n",
    "        # softmax calculation of coupling coefficients, c_ij\n",
    "        c_ij = softmax(b_ij, dim=2)\n",
    "        \n",
    "        # calculating total capsule inputs, s_j = sum(c_ij*u_hat)\n",
    "        s_j = (c_ij * u_hat).sum(dim=2, keepdim=True)\n",
    "        \n",
    "        # squashing to get a normalized vector output, v_j\n",
    "        v_j = squash(s_j)\n",
    "        \n",
    "        # if not on the last iteration, calculate agreement and new b_ij\n",
    "        if iteration < routing_iterations - 1:\n",
    "            # agreement\n",
    "            a_ij = (u_hat * v_j).sum(dim=-1, keepdim=True)\n",
    "            \n",
    "            # new b_ij\n",
    "            b_ij = b_ij + a_ij\n",
    "    \n",
    "    return v_j # return latest v_j"
   ]
  },
  {
   "cell_type": "code",
   "execution_count": 25,
   "metadata": {
    "collapsed": true
   },
   "outputs": [],
   "source": [
    "class DigitCaps(nn.Module):\n",
    "    \n",
    "    def __init__(self, num_capsules=10, previous_layer_nodes=32*6*6,\n",
    "                 in_channels=8, out_channels=16):\n",
    "        '''Constructs an initial weight matrix, W, and sets class variables.\n",
    "           param num_capsules: number of capsules to create\n",
    "           param previous_layer_nodes: dimension of input capsule vector, default value = 1152\n",
    "           param in_channels: number of capsules in previous layer, default value = 8\n",
    "           param out_channels: dimensions of output capsule vector, default value = 16\n",
    "           '''\n",
    "        super(DigitCaps, self).__init__()\n",
    "        \n",
    "        # setting class variables\n",
    "        self.num_capsules = num_capsules\n",
    "        self.previous_layer_nodes = previous_layer_nodes # vector input (dim=1152)\n",
    "        self.in_channels = in_channels # previous layer's number of capsules\n",
    "        \n",
    "        # starting out with a randomly initialized weight matrix, W\n",
    "        # these will be the weights connecting the PrimaryCaps and DigitCaps layers\n",
    "        self.W = nn.Parameter(torch.randn(num_capsules, previous_layer_nodes,\n",
    "                                          in_channels, out_channels))\n",
    "        \n",
    "    def squash(self, input_tensor):\n",
    "        '''Squashes an input Tensor so it has a magnitude between 0-1.\n",
    "           param input_tensor: a stack of capsule inputs, s_j\n",
    "           return: a stack of normalized, capsule output vectors, v_j\n",
    "           '''\n",
    "        \n",
    "        # same squash function as before\n",
    "        squared_norm = (input_tensor ** 2).sum(dim=-1, keepdim=True)\n",
    "        scale = squared_norm / (1 + squared_norm) # normalization coeff\n",
    "        output_tensor = scale * input_tensor / torch.sqrt(squared_norm)\n",
    "        \n",
    "        return output_tensor\n",
    "    \n",
    "    def forward(self, u):\n",
    "        '''Defines the feedforward behavior.\n",
    "           param u: the input; vectors from the previous PrimaryCaps layer\n",
    "           return: a set of normalized, capsule output vectors\n",
    "           '''\n",
    "        \n",
    "        # adding batch_size dims and stacking all u vectors\n",
    "        u = u[None, :, :, None, :]\n",
    "        # 4D weight matrix\n",
    "        W = self.W[:, None, :, :, :]\n",
    "        \n",
    "        # calculating u_hat = W*u\n",
    "        u_hat = torch.matmul(u, W)\n",
    "        \n",
    "        # getting the correct size of b_ij\n",
    "        # setting them all to 0, initially\n",
    "        b_ij = torch.zeros(*u_hat.size())\n",
    "        \n",
    "        # moving b_ij to GPU, if available\n",
    "        if TRAIN_ON_GPU:\n",
    "            b_ij = b_ij.cuda()\n",
    "            \n",
    "        # update coupling coefficients and calculate v_j\n",
    "        v_j = dynamic_routing(b_ij, u_hat, self.squash, routing_iterations=3)\n",
    "        \n",
    "        return v_j # return final vector outputs"
   ]
  },
  {
   "cell_type": "markdown",
   "metadata": {},
   "source": [
    "---\n",
    "## Decoder"
   ]
  },
  {
   "cell_type": "code",
   "execution_count": null,
   "metadata": {
    "collapsed": true
   },
   "outputs": [],
   "source": []
  },
  {
   "cell_type": "code",
   "execution_count": null,
   "metadata": {
    "collapsed": true
   },
   "outputs": [],
   "source": []
  },
  {
   "cell_type": "markdown",
   "metadata": {},
   "source": [
    "<hr/>"
   ]
  }
 ],
 "metadata": {
  "kernelspec": {
   "display_name": "Python 3",
   "language": "python",
   "name": "python3"
  },
  "language_info": {
   "codemirror_mode": {
    "name": "ipython",
    "version": 3
   },
   "file_extension": ".py",
   "mimetype": "text/x-python",
   "name": "python",
   "nbconvert_exporter": "python",
   "pygments_lexer": "ipython3",
   "version": "3.6.3"
  }
 },
 "nbformat": 4,
 "nbformat_minor": 2
}
