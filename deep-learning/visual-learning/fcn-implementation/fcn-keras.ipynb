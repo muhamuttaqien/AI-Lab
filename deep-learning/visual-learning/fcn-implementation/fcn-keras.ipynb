{
 "cells": [
  {
   "cell_type": "code",
   "execution_count": 7,
   "metadata": {},
   "outputs": [],
   "source": [
    "from keras.layers import merge, Input\n",
    "from keras.layers.core import Activation\n",
    "from keras.layers.convolutional import Convolution2D, Deconvolution2D, Cropping2D\n",
    "from keras.models import Model\n",
    "from keras.engine.topology import Layer\n",
    "# from keras.utils.layer_utils import layer_from_config\n",
    "from keras.utils import np_utils, generic_utils\n",
    "from keras import backend as K\n",
    "from keras.applications.vgg16 import VGG16, preprocess_input"
   ]
  },
  {
   "cell_type": "code",
   "execution_count": 8,
   "metadata": {
    "collapsed": true
   },
   "outputs": [],
   "source": [
    "import cv2\n",
    "import numpy as np"
   ]
  },
  {
   "cell_type": "code",
   "execution_count": 9,
   "metadata": {},
   "outputs": [
    {
     "ename": "SyntaxError",
     "evalue": "invalid syntax (<ipython-input-9-ff2147201bd0>, line 10)",
     "output_type": "error",
     "traceback": [
      "\u001b[0;36m  File \u001b[0;32m\"<ipython-input-9-ff2147201bd0>\"\u001b[0;36m, line \u001b[0;32m10\u001b[0m\n\u001b[0;31m    input_shape=(3, self.img_height, self.img_width)ß)\u001b[0m\n\u001b[0m                                                    ^\u001b[0m\n\u001b[0;31mSyntaxError\u001b[0m\u001b[0;31m:\u001b[0m invalid syntax\n"
     ]
    }
   ],
   "source": [
    "class FullyConvolutionalNetwork():\n",
    "    def __init__(self, batchsize=1, img_height=224, img_width=224, FCN_CLASSES=21):\n",
    "        self.batchsize = batchsize\n",
    "        self.img_height = img_height\n",
    "        self.img_width = img_width\n",
    "        self.FCN_CLASSES = FCN_CLASSES\n",
    "        self.vgg16 = VGG16(include_top=False,\n",
    "                           weights='imagenet',\n",
    "                           input_tensor=None,\n",
    "                           input_shape=(3, self.img_height, self.img_width))"
   ]
  },
  {
   "cell_type": "code",
   "execution_count": null,
   "metadata": {
    "collapsed": true
   },
   "outputs": [],
   "source": [
    "def __init__(self, batchsize=1, img_height=224, img_width=224, FCN_CLASSES=21):\n",
    "        self.batchsize = batchsize\n",
    "        self.img_height = img_height\n",
    "        self.img_width = img_width\n",
    "        self.FCN_CLASSES = FCN_CLASSES\n",
    "        self.vgg16 = VGG16(include_top=False,\n",
    "                           weights='imagenet',\n",
    "                           input_tensor=None,\n",
    "                           input_shape=(3, self.img_height, self.img_width))\n",
    "\n",
    "    def create_model(self, train_flag=True):\n",
    "        #(samples, channels, rows, cols)\n",
    "        ip = Input(shape=(3, self.img_height, self.img_width))\n",
    "        h = self.vgg16.layers[1](ip)\n",
    "        h = self.vgg16.layers[2](h)\n",
    "        h = self.vgg16.layers[3](h)\n",
    "        h = self.vgg16.layers[4](h)\n",
    "        h = self.vgg16.layers[5](h)\n",
    "        h = self.vgg16.layers[6](h)\n",
    "        h = self.vgg16.layers[7](h)\n",
    "        h = self.vgg16.layers[8](h)\n",
    "        h = self.vgg16.layers[9](h)\n",
    "        h = self.vgg16.layers[10](h)\n",
    "\n",
    "        # split layer\n",
    "        p3 = h\n",
    "\n",
    "        h = self.vgg16.layers[11](h)\n",
    "        h = self.vgg16.layers[12](h)\n",
    "        h = self.vgg16.layers[13](h)\n",
    "        h = self.vgg16.layers[14](h)\n",
    "\n",
    "        # split layer\n",
    "        p4 = h\n",
    "\n",
    "        h = self.vgg16.layers[15](h)\n",
    "        h = self.vgg16.layers[16](h)\n",
    "        h = self.vgg16.layers[17](h)\n",
    "        h = self.vgg16.layers[18](h)\n",
    "\n",
    "        p5 = h\n",
    "\n",
    "        # get scores\n",
    "        p3 = Convolution2D(self.FCN_CLASSES, 1, 1, activation='relu', border_mode='valid')(p3)\n",
    "\n",
    "        p4 = Convolution2D(self.FCN_CLASSES, 1, 1, activation='relu')(p4)\n",
    "\n",
    "        p4 = Deconvolution2D(self.FCN_CLASSES, 4, 4,\n",
    "                output_shape=(self.batchsize, self.FCN_CLASSES , 30, 30),\n",
    "                subsample=(2, 2),\n",
    "                border_mode='valid')(p4)\n",
    "        p4 = Cropping2D(((1, 1), (1, 1)))(p4)\n",
    "\n",
    "\n",
    "\n",
    "        p5 = Convolution2D(self.FCN_CLASSES, 1, 1, activation='relu')(p5)\n",
    "\n",
    "        p5 = Deconvolution2D(self.FCN_CLASSES, 8, 8,\n",
    "                output_shape=(self.batchsize, self.FCN_CLASSES, 32, 32),\n",
    "                subsample=(4, 4),\n",
    "                border_mode='valid')(p5)\n",
    "        p5 = Cropping2D(((2, 2), (2, 2)))(p5)\n",
    "\n",
    "        # merge scores\n",
    "        h = merge([p3, p4, p5], mode=\"sum\")\n",
    "\n",
    "        h = Deconvolution2D(self.FCN_CLASSES, 16, 16,\n",
    "                output_shape=(self.batchsize, self.FCN_CLASSES, 232, 232),\n",
    "                subsample=(8, 8),\n",
    "                border_mode='valid')(h)\n",
    "        h = Cropping2D(((4, 4), (4, 4)))(h)\n",
    "\n",
    "        h = Softmax2D()(h)\n",
    "        return Model(ip, h)\n",
    "\n",
    "if __name__ == \"__main__\":\n",
    "    from keras.utils.visualize_util import model_to_dot, plot\n",
    "    FCN = FullyConvolutionalNetwork()\n",
    "    model = FCN.create_model()\n",
    "    test = np.ones((1, 3, 224, 224))\n",
    "    hoge = model.predict(test)[0]\n",
    "    print(hoge[:,0,0].sum())\n",
    "    plot(model, to_file='FCN_model.png',show_shapes=True)"
   ]
  },
  {
   "cell_type": "markdown",
   "metadata": {},
   "source": [
    "<hr/>"
   ]
  }
 ],
 "metadata": {
  "kernelspec": {
   "display_name": "Python 3",
   "language": "python",
   "name": "python3"
  },
  "language_info": {
   "codemirror_mode": {
    "name": "ipython",
    "version": 3
   },
   "file_extension": ".py",
   "mimetype": "text/x-python",
   "name": "python",
   "nbconvert_exporter": "python",
   "pygments_lexer": "ipython3",
   "version": "3.6.3"
  }
 },
 "nbformat": 4,
 "nbformat_minor": 2
}
