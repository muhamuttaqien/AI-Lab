{
 "cells": [
  {
   "cell_type": "code",
   "execution_count": 1,
   "metadata": {
    "collapsed": true
   },
   "outputs": [],
   "source": [
    "import sys\n",
    "import random\n",
    "import numpy as np\n",
    "from time import sleep\n",
    "from IPython.display import clear_output\n",
    "\n",
    "import gym\n",
    "from randomwalk import RandomWalkEnv"
   ]
  },
  {
   "cell_type": "markdown",
   "metadata": {},
   "source": [
    "## Explore The Environment"
   ]
  },
  {
   "cell_type": "code",
   "execution_count": 2,
   "metadata": {
    "collapsed": true
   },
   "outputs": [],
   "source": [
    "env = RandomWalkEnv(n_states=21)"
   ]
  },
  {
   "cell_type": "code",
   "execution_count": 3,
   "metadata": {},
   "outputs": [
    {
     "name": "stdout",
     "output_type": "stream",
     "text": [
      "Environment Display:\n",
      "\n",
      "[ABCDEFGHIJ\u001b[43mK\u001b[0mLMNOPQRSTU]\n",
      "State Space Discrete(23)\n",
      "Action Space Discrete(2)\n"
     ]
    }
   ],
   "source": [
    "print('Environment Display:')\n",
    "env.reset() # reset environment to a new, random state\n",
    "env.render()\n",
    "\n",
    "print(\"State Space {}\".format(env.observation_space))\n",
    "print(\"Action Space {}\".format(env.action_space))"
   ]
  },
  {
   "cell_type": "markdown",
   "metadata": {},
   "source": [
    "## Train The Agent"
   ]
  },
  {
   "cell_type": "code",
   "execution_count": 4,
   "metadata": {
    "collapsed": true
   },
   "outputs": [],
   "source": [
    "num_episodes = 60000\n",
    "num_steps_per_episode = 200\n",
    "\n",
    "epsilon = 0.2\n",
    "alpha = 0.9\n",
    "gamma = 0.9"
   ]
  },
  {
   "cell_type": "code",
   "execution_count": 5,
   "metadata": {
    "collapsed": true
   },
   "outputs": [],
   "source": [
    "def manipulate_the_rewards(reward):\n",
    "    \n",
    "    if reward == 0: reward = -1.0\n",
    "    elif reward == 1.0: reward = +20.0\n",
    "    elif reward == -1.0: reward = -20.0\n",
    "    \n",
    "    return reward                "
   ]
  },
  {
   "cell_type": "code",
   "execution_count": 6,
   "metadata": {},
   "outputs": [
    {
     "name": "stdout",
     "output_type": "stream",
     "text": [
      "Episode 60000/60000\n",
      "Training finished.\n"
     ]
    }
   ],
   "source": [
    "Q_table = np.zeros([env.observation_space.n, env.action_space.n])\n",
    "\n",
    "for i_episode in range(1, num_episodes+1):\n",
    "    \n",
    "    # monitor progress\n",
    "    if i_episode % 100 == 0:\n",
    "        print('\\rEpisode {i_episode}/{num_episodes}', end=\"\")\n",
    "        sys.stdout.flush()\n",
    "        \n",
    "    # get initial state by restarting the environment\n",
    "    state = env.reset()\n",
    "    \n",
    "    total_reward = 0\n",
    "    done = False\n",
    "    for j_step in range(1, num_steps_per_episode+1):\n",
    "        \n",
    "        # apply epsilon-greedy policy\n",
    "        if random.uniform(0, 1) < epsilon:\n",
    "            action = np.random.choice(env.action_space.n) # explore action space\n",
    "        else:\n",
    "            action = np.argmax(Q_table[state]) # exploit learned values\n",
    "            \n",
    "        next_state, reward, done, _ = env.step(action)\n",
    "        \n",
    "        # scratchly manipulate the rewards to force behaviour\n",
    "        reward = manipulate_the_rewards(reward)\n",
    "        \n",
    "        # apply Q-learning update rule\n",
    "        current_value = Q_table[state][action]\n",
    "        Qsa_next = np.max(Q_table[next_state])\n",
    "        \n",
    "        new_value = (1 - alpha) * current_value + (alpha * (reward + gamma * Qsa_next))\n",
    "        Q_table[state][action] = new_value\n",
    "        \n",
    "        state = next_state\n",
    "        \n",
    "        if done:\n",
    "            break\n",
    "print(\"\\nTraining finished.\")"
   ]
  },
  {
   "cell_type": "markdown",
   "metadata": {},
   "source": [
    "## Evaluate The Agent"
   ]
  },
  {
   "cell_type": "code",
   "execution_count": 7,
   "metadata": {
    "collapsed": true
   },
   "outputs": [],
   "source": [
    "num_episodes = 100"
   ]
  },
  {
   "cell_type": "code",
   "execution_count": 8,
   "metadata": {
    "scrolled": true
   },
   "outputs": [
    {
     "name": "stdout",
     "output_type": "stream",
     "text": [
      "Episode: 100/100, Total step: 277\n",
      "Wins: 48 (Average score: 0.48)\n",
      "\n",
      "[ABCDEFGHIJKLMNOPQRSTU\u001b[42m]\u001b[0m\n",
      "Episode 100, Collected rewards: 49, Average steps: 124.24\n",
      "Evaluation finished.\n"
     ]
    }
   ],
   "source": [
    "averaged_steps = []\n",
    "collected_rewards = []\n",
    "\n",
    "for i_episode in range(1, num_episodes+1):\n",
    "    \n",
    "    print('Starting new episode...')\n",
    "    state = env.reset()\n",
    "    env.render()\n",
    "    \n",
    "    total_step = 0\n",
    "    total_reward = 0\n",
    "    done = False\n",
    "    \n",
    "    while not done:\n",
    "        action = np.argmax(Q_table[state])\n",
    "        next_state, reward, done, _ = env.step(action)\n",
    "        \n",
    "        # render the env\n",
    "        clear_output(wait=True)\n",
    "        print(f'Episode: {i_episode}/{num_episodes}, Total step: {total_step+1}')\n",
    "        print(f'Wins: {(np.array(collected_rewards) == 1.0).sum()} (Average score: {round(sum(collected_rewards)/i_episode, 2)})')\n",
    "        env.render()\n",
    "        sleep(.1)\n",
    "        \n",
    "        total_step +=1\n",
    "        total_reward += reward\n",
    "            \n",
    "        if done:\n",
    "            break\n",
    "            \n",
    "    averaged_steps.append(total_step)\n",
    "    collected_rewards.append(total_reward)\n",
    "    print(f'Episode {i_episode}, Collected rewards: {(np.array(collected_rewards) == 1.0).sum()}, Average steps: {np.average(averaged_steps)}')\n",
    "    print(f'Evaluation finished.')"
   ]
  },
  {
   "cell_type": "markdown",
   "metadata": {},
   "source": [
    "---"
   ]
  }
 ],
 "metadata": {
  "kernelspec": {
   "display_name": "Python 3",
   "language": "python",
   "name": "python3"
  },
  "language_info": {
   "codemirror_mode": {
    "name": "ipython",
    "version": 3
   },
   "file_extension": ".py",
   "mimetype": "text/x-python",
   "name": "python",
   "nbconvert_exporter": "python",
   "pygments_lexer": "ipython3",
   "version": "3.6.3"
  }
 },
 "nbformat": 4,
 "nbformat_minor": 2
}
