{
 "cells": [
  {
   "cell_type": "markdown",
   "metadata": {},
   "source": [
    "# Document-level Topic Modeling, LDA, Customer Reviews"
   ]
  },
  {
   "cell_type": "code",
   "execution_count": 1,
   "metadata": {
    "collapsed": true
   },
   "outputs": [],
   "source": [
    "import re\n",
    "import spacy\n",
    "import numpy as np\n",
    "import pandas as pd\n",
    "from pprint import pprint\n",
    "from tqdm import tqdm_notebook\n",
    "\n",
    "import nltk\n",
    "import gensim\n",
    "\n",
    "import pyLDAvis\n",
    "import pyLDAvis.gensim\n",
    "import matplotlib.pyplot as plt\n",
    "import seaborn as sns"
   ]
  },
  {
   "cell_type": "code",
   "execution_count": 2,
   "metadata": {},
   "outputs": [],
   "source": [
    "pd.set_option(\"display.max_colwidth\", 200)\n",
    "plt.style.use('ggplot')"
   ]
  },
  {
   "cell_type": "code",
   "execution_count": 3,
   "metadata": {
    "collapsed": true
   },
   "outputs": [],
   "source": [
    "import warnings\n",
    "warnings.filterwarnings(\"ignore\", category=DeprecationWarning)"
   ]
  },
  {
   "cell_type": "markdown",
   "metadata": {},
   "source": [
    "## Load Datasets"
   ]
  },
  {
   "cell_type": "code",
   "execution_count": 4,
   "metadata": {},
   "outputs": [
    {
     "data": {
      "text/html": [
       "<div>\n",
       "<style>\n",
       "    .dataframe thead tr:only-child th {\n",
       "        text-align: right;\n",
       "    }\n",
       "\n",
       "    .dataframe thead th {\n",
       "        text-align: left;\n",
       "    }\n",
       "\n",
       "    .dataframe tbody tr th {\n",
       "        vertical-align: top;\n",
       "    }\n",
       "</style>\n",
       "<table border=\"1\" class=\"dataframe\">\n",
       "  <thead>\n",
       "    <tr style=\"text-align: right;\">\n",
       "      <th></th>\n",
       "      <th>asin</th>\n",
       "      <th>helpful</th>\n",
       "      <th>overall</th>\n",
       "      <th>review_text</th>\n",
       "      <th>review_time</th>\n",
       "      <th>reviewer_id</th>\n",
       "      <th>reviewer_name</th>\n",
       "      <th>summary</th>\n",
       "      <th>unix_review_time</th>\n",
       "    </tr>\n",
       "  </thead>\n",
       "  <tbody>\n",
       "    <tr>\n",
       "      <th>1</th>\n",
       "      <td>B00002243X</td>\n",
       "      <td>[4, 4]</td>\n",
       "      <td>5</td>\n",
       "      <td>I needed a set of jumper cables for my new car and these had good reviews and were at a good price.  They have been used a few times already and do what they are supposed to - no complaints there....</td>\n",
       "      <td>08 17, 2011</td>\n",
       "      <td>A3F73SC1LY51OO</td>\n",
       "      <td>Alan Montgomery</td>\n",
       "      <td>Work Well - Should Have Bought Longer Ones</td>\n",
       "      <td>1313539200</td>\n",
       "    </tr>\n",
       "    <tr>\n",
       "      <th>2</th>\n",
       "      <td>B00002243X</td>\n",
       "      <td>[1, 1]</td>\n",
       "      <td>4</td>\n",
       "      <td>These long cables work fine for my truck, but the quality seems a little on the shabby side. For the money I was not expecting 200 dollar snap-on jumper cables but these seem more like what you wo...</td>\n",
       "      <td>09 4, 2011</td>\n",
       "      <td>A20S66SKYXULG2</td>\n",
       "      <td>alphonse</td>\n",
       "      <td>Okay long cables</td>\n",
       "      <td>1315094400</td>\n",
       "    </tr>\n",
       "    <tr>\n",
       "      <th>3</th>\n",
       "      <td>B00002243X</td>\n",
       "      <td>[0, 0]</td>\n",
       "      <td>5</td>\n",
       "      <td>Can't comment much on these since they have not yet been used (I will come back and update my review is I find any issues after first use) ... but they are built solid, nice tough big hard clamps ...</td>\n",
       "      <td>07 25, 2013</td>\n",
       "      <td>A2I8LFSN2IS5EO</td>\n",
       "      <td>Chris</td>\n",
       "      <td>Looks and feels heavy Duty</td>\n",
       "      <td>1374710400</td>\n",
       "    </tr>\n",
       "    <tr>\n",
       "      <th>4</th>\n",
       "      <td>B00002243X</td>\n",
       "      <td>[19, 19]</td>\n",
       "      <td>5</td>\n",
       "      <td>I absolutley love Amazon!!!  For the price of a set of cheap Booster/Jumper Cables in a brick and morter store, you can buy extra long and heavy duty jumpers!  First off, don't be the person that ...</td>\n",
       "      <td>12 21, 2010</td>\n",
       "      <td>A3GT2EWQSO45ZG</td>\n",
       "      <td>DeusEx</td>\n",
       "      <td>Excellent choice for Jumper Cables!!!</td>\n",
       "      <td>1292889600</td>\n",
       "    </tr>\n",
       "    <tr>\n",
       "      <th>5</th>\n",
       "      <td>B00002243X</td>\n",
       "      <td>[0, 0]</td>\n",
       "      <td>5</td>\n",
       "      <td>I purchased the 12' feet long cable set and they arrived in a retail cardboard box with handle, which could be used as a storage and carrying case for these cables, although I will not need to sto...</td>\n",
       "      <td>07 4, 2012</td>\n",
       "      <td>A3ESWJPAVRPWB4</td>\n",
       "      <td>E. Hernandez</td>\n",
       "      <td>Excellent, High Quality Starter Cables</td>\n",
       "      <td>1341360000</td>\n",
       "    </tr>\n",
       "  </tbody>\n",
       "</table>\n",
       "</div>"
      ],
      "text/plain": [
       "         asin   helpful  overall  \\\n",
       "1  B00002243X    [4, 4]        5   \n",
       "2  B00002243X    [1, 1]        4   \n",
       "3  B00002243X    [0, 0]        5   \n",
       "4  B00002243X  [19, 19]        5   \n",
       "5  B00002243X    [0, 0]        5   \n",
       "\n",
       "                                                                                                                                                                                               review_text  \\\n",
       "1  I needed a set of jumper cables for my new car and these had good reviews and were at a good price.  They have been used a few times already and do what they are supposed to - no complaints there....   \n",
       "2  These long cables work fine for my truck, but the quality seems a little on the shabby side. For the money I was not expecting 200 dollar snap-on jumper cables but these seem more like what you wo...   \n",
       "3  Can't comment much on these since they have not yet been used (I will come back and update my review is I find any issues after first use) ... but they are built solid, nice tough big hard clamps ...   \n",
       "4  I absolutley love Amazon!!!  For the price of a set of cheap Booster/Jumper Cables in a brick and morter store, you can buy extra long and heavy duty jumpers!  First off, don't be the person that ...   \n",
       "5  I purchased the 12' feet long cable set and they arrived in a retail cardboard box with handle, which could be used as a storage and carrying case for these cables, although I will not need to sto...   \n",
       "\n",
       "   review_time     reviewer_id    reviewer_name  \\\n",
       "1  08 17, 2011  A3F73SC1LY51OO  Alan Montgomery   \n",
       "2   09 4, 2011  A20S66SKYXULG2         alphonse   \n",
       "3  07 25, 2013  A2I8LFSN2IS5EO            Chris   \n",
       "4  12 21, 2010  A3GT2EWQSO45ZG           DeusEx   \n",
       "5   07 4, 2012  A3ESWJPAVRPWB4     E. Hernandez   \n",
       "\n",
       "                                      summary  unix_review_time  \n",
       "1  Work Well - Should Have Bought Longer Ones        1313539200  \n",
       "2                            Okay long cables        1315094400  \n",
       "3                  Looks and feels heavy Duty        1374710400  \n",
       "4       Excellent choice for Jumper Cables!!!        1292889600  \n",
       "5      Excellent, High Quality Starter Cables        1341360000  "
      ]
     },
     "execution_count": 4,
     "metadata": {},
     "output_type": "execute_result"
    }
   ],
   "source": [
    "df_reviews = pd.read_json('./datasets/customer_reviews.json', lines=True)  # grasp from http://snap.stanford.edu/data/amazon/productGraph/categoryFiles/reviews_Automotive_5.json.gz\n",
    "df_reviews.columns = ['asin', 'helpful', 'overall', 'review_text', 'review_time', 'reviewer_id', 'reviewer_name', 'summary', 'unix_review_time']\n",
    "df_reviews.index += 1\n",
    "df_reviews.head()"
   ]
  },
  {
   "cell_type": "code",
   "execution_count": 5,
   "metadata": {},
   "outputs": [],
   "source": [
    "df_reviews = df_reviews[:1000] # limit only 1000 reviews"
   ]
  },
  {
   "cell_type": "markdown",
   "metadata": {},
   "source": [
    "## Preprocess Datasets"
   ]
  },
  {
   "cell_type": "markdown",
   "metadata": {},
   "source": [
    "#### 1) Removing the unwanted characters (numbers, simbols, punctuations)"
   ]
  },
  {
   "cell_type": "code",
   "execution_count": 6,
   "metadata": {
    "collapsed": true
   },
   "outputs": [],
   "source": [
    "from nltk import FreqDist"
   ]
  },
  {
   "cell_type": "code",
   "execution_count": 7,
   "metadata": {
    "collapsed": true
   },
   "outputs": [],
   "source": [
    "def plot_frequent_terms(x, n_terms=30, plot_name='original'):\n",
    "    \n",
    "    all_words = ' '.join([text for text in x])\n",
    "    all_words = all_words.split()\n",
    "    \n",
    "    freq_dist = FreqDist(all_words)\n",
    "    df_words = pd.DataFrame({'Word': list(freq_dist.keys()), 'Frequency': list(freq_dist.values())})\n",
    "    \n",
    "    # selecting top 20 most of frequent words\n",
    "    data = df_words.nlargest(columns='Frequency', n=n_terms)\n",
    "    plt.figure(figsize=(20,7.5))\n",
    "    ax = sns.barplot(data=data, x='Word', y='Frequency')\n",
    "    ax.set(ylabel='Frequency')\n",
    "    plt.title(f'Plot of Frequent Terms ({plot_name})')\n",
    "    plt.savefig(f'images/plot_of_frequent_terms_{plot_name}.png')\n",
    "    \n",
    "    plt.show()"
   ]
  },
  {
   "cell_type": "code",
   "execution_count": 8,
   "metadata": {},
   "outputs": [
    {
     "data": {
      "image/png": "[encoded data removed]",
      "text/plain": [
       "<matplotlib.figure.Figure at 0x1a38125518>"
      ]
     },
     "metadata": {},
     "output_type": "display_data"
    }
   ],
   "source": [
    "plot_frequent_terms(df_reviews['review_text'])"
   ]
  },
  {
   "cell_type": "code",
   "execution_count": 9,
   "metadata": {},
   "outputs": [
    {
     "data": {
      "text/html": [
       "<div>\n",
       "<style>\n",
       "    .dataframe thead tr:only-child th {\n",
       "        text-align: right;\n",
       "    }\n",
       "\n",
       "    .dataframe thead th {\n",
       "        text-align: left;\n",
       "    }\n",
       "\n",
       "    .dataframe tbody tr th {\n",
       "        vertical-align: top;\n",
       "    }\n",
       "</style>\n",
       "<table border=\"1\" class=\"dataframe\">\n",
       "  <thead>\n",
       "    <tr style=\"text-align: right;\">\n",
       "      <th></th>\n",
       "      <th>review_text</th>\n",
       "      <th>cleaned_review_text</th>\n",
       "    </tr>\n",
       "  </thead>\n",
       "  <tbody>\n",
       "    <tr>\n",
       "      <th>1</th>\n",
       "      <td>I needed a set of jumper cables for my new car and these had good reviews and were at a good price.  They have been used a few times already and do what they are supposed to - no complaints there....</td>\n",
       "      <td>I needed a set of jumper cables for my new car and these had good reviews and were at a good price   They have been used a few times already and do what they are supposed to   no complaints there ...</td>\n",
       "    </tr>\n",
       "    <tr>\n",
       "      <th>2</th>\n",
       "      <td>These long cables work fine for my truck, but the quality seems a little on the shabby side. For the money I was not expecting 200 dollar snap-on jumper cables but these seem more like what you wo...</td>\n",
       "      <td>These long cables work fine for my truck  but the quality seems a little on the shabby side  For the money I was not expecting     dollar snap on jumper cables but these seem more like what you wo...</td>\n",
       "    </tr>\n",
       "    <tr>\n",
       "      <th>3</th>\n",
       "      <td>Can't comment much on these since they have not yet been used (I will come back and update my review is I find any issues after first use) ... but they are built solid, nice tough big hard clamps ...</td>\n",
       "      <td>Can t comment much on these since they have not yet been used  I will come back and update my review is I find any issues after first use      but they are built solid  nice tough big hard clamps ...</td>\n",
       "    </tr>\n",
       "    <tr>\n",
       "      <th>4</th>\n",
       "      <td>I absolutley love Amazon!!!  For the price of a set of cheap Booster/Jumper Cables in a brick and morter store, you can buy extra long and heavy duty jumpers!  First off, don't be the person that ...</td>\n",
       "      <td>I absolutley love Amazon     For the price of a set of cheap Booster Jumper Cables in a brick and morter store  you can buy extra long and heavy duty jumpers   First off  don t be the person that ...</td>\n",
       "    </tr>\n",
       "    <tr>\n",
       "      <th>5</th>\n",
       "      <td>I purchased the 12' feet long cable set and they arrived in a retail cardboard box with handle, which could be used as a storage and carrying case for these cables, although I will not need to sto...</td>\n",
       "      <td>I purchased the     feet long cable set and they arrived in a retail cardboard box with handle  which could be used as a storage and carrying case for these cables  although I will not need to sto...</td>\n",
       "    </tr>\n",
       "  </tbody>\n",
       "</table>\n",
       "</div>"
      ],
      "text/plain": [
       "                                                                                                                                                                                               review_text  \\\n",
       "1  I needed a set of jumper cables for my new car and these had good reviews and were at a good price.  They have been used a few times already and do what they are supposed to - no complaints there....   \n",
       "2  These long cables work fine for my truck, but the quality seems a little on the shabby side. For the money I was not expecting 200 dollar snap-on jumper cables but these seem more like what you wo...   \n",
       "3  Can't comment much on these since they have not yet been used (I will come back and update my review is I find any issues after first use) ... but they are built solid, nice tough big hard clamps ...   \n",
       "4  I absolutley love Amazon!!!  For the price of a set of cheap Booster/Jumper Cables in a brick and morter store, you can buy extra long and heavy duty jumpers!  First off, don't be the person that ...   \n",
       "5  I purchased the 12' feet long cable set and they arrived in a retail cardboard box with handle, which could be used as a storage and carrying case for these cables, although I will not need to sto...   \n",
       "\n",
       "                                                                                                                                                                                       cleaned_review_text  \n",
       "1  I needed a set of jumper cables for my new car and these had good reviews and were at a good price   They have been used a few times already and do what they are supposed to   no complaints there ...  \n",
       "2  These long cables work fine for my truck  but the quality seems a little on the shabby side  For the money I was not expecting     dollar snap on jumper cables but these seem more like what you wo...  \n",
       "3  Can t comment much on these since they have not yet been used  I will come back and update my review is I find any issues after first use      but they are built solid  nice tough big hard clamps ...  \n",
       "4  I absolutley love Amazon     For the price of a set of cheap Booster Jumper Cables in a brick and morter store  you can buy extra long and heavy duty jumpers   First off  don t be the person that ...  \n",
       "5  I purchased the     feet long cable set and they arrived in a retail cardboard box with handle  which could be used as a storage and carrying case for these cables  although I will not need to sto...  "
      ]
     },
     "execution_count": 9,
     "metadata": {},
     "output_type": "execute_result"
    }
   ],
   "source": [
    "df_reviews['cleaned_review_text'] = df_reviews['review_text'].str.replace('[^a-zA-Z#]', ' ')\n",
    "df_reviews[['review_text', 'cleaned_review_text']].head()"
   ]
  },
  {
   "cell_type": "markdown",
   "metadata": {},
   "source": [
    "#### 2) Removing short words (length < 3)"
   ]
  },
  {
   "cell_type": "code",
   "execution_count": 10,
   "metadata": {
    "collapsed": true
   },
   "outputs": [],
   "source": [
    "formula = lambda x: ' '.join([word for word in x.split() if len(word)>2])"
   ]
  },
  {
   "cell_type": "code",
   "execution_count": 11,
   "metadata": {},
   "outputs": [],
   "source": [
    "df_reviews['cleaned_review_text'] = df_reviews['cleaned_review_text'].apply(formula)"
   ]
  },
  {
   "cell_type": "markdown",
   "metadata": {},
   "source": [
    "#### 3) Removing stopwords"
   ]
  },
  {
   "cell_type": "code",
   "execution_count": 12,
   "metadata": {
    "collapsed": true
   },
   "outputs": [],
   "source": [
    "from nltk.corpus import stopwords"
   ]
  },
  {
   "cell_type": "code",
   "execution_count": 13,
   "metadata": {
    "collapsed": true
   },
   "outputs": [],
   "source": [
    "stop_words = stopwords.words('english')"
   ]
  },
  {
   "cell_type": "code",
   "execution_count": 14,
   "metadata": {
    "collapsed": true
   },
   "outputs": [],
   "source": [
    "def remove_stopwords(text):\n",
    "    cleaned_text = ' '.join([word for word in text if word not in stop_words])\n",
    "    return cleaned_text"
   ]
  },
  {
   "cell_type": "code",
   "execution_count": 15,
   "metadata": {
    "collapsed": true
   },
   "outputs": [],
   "source": [
    "df_reviews['cleaned_review_text'] = [remove_stopwords(review.split()) for review in df_reviews['cleaned_review_text']]\n",
    "df_reviews['cleaned_review_text'] = [review.lower() for review in df_reviews['cleaned_review_text']]"
   ]
  },
  {
   "cell_type": "code",
   "execution_count": 16,
   "metadata": {},
   "outputs": [
    {
     "data": {
      "text/html": [
       "<div>\n",
       "<style>\n",
       "    .dataframe thead tr:only-child th {\n",
       "        text-align: right;\n",
       "    }\n",
       "\n",
       "    .dataframe thead th {\n",
       "        text-align: left;\n",
       "    }\n",
       "\n",
       "    .dataframe tbody tr th {\n",
       "        vertical-align: top;\n",
       "    }\n",
       "</style>\n",
       "<table border=\"1\" class=\"dataframe\">\n",
       "  <thead>\n",
       "    <tr style=\"text-align: right;\">\n",
       "      <th></th>\n",
       "      <th>review_text</th>\n",
       "      <th>cleaned_review_text</th>\n",
       "    </tr>\n",
       "  </thead>\n",
       "  <tbody>\n",
       "    <tr>\n",
       "      <th>1</th>\n",
       "      <td>I needed a set of jumper cables for my new car and these had good reviews and were at a good price.  They have been used a few times already and do what they are supposed to - no complaints there....</td>\n",
       "      <td>needed set jumper cables new car good reviews good price they used times already supposed complaints what say feet really ideal length sure pull front bumper front bumper plenty long lot times bes...</td>\n",
       "    </tr>\n",
       "    <tr>\n",
       "      <th>2</th>\n",
       "      <td>These long cables work fine for my truck, but the quality seems a little on the shabby side. For the money I was not expecting 200 dollar snap-on jumper cables but these seem more like what you wo...</td>\n",
       "      <td>these long cables work fine truck quality seems little shabby side for money expecting dollar snap jumper cables seem like would see chinese knock shop like harbor freight bucks</td>\n",
       "    </tr>\n",
       "    <tr>\n",
       "      <th>3</th>\n",
       "      <td>Can't comment much on these since they have not yet been used (I will come back and update my review is I find any issues after first use) ... but they are built solid, nice tough big hard clamps ...</td>\n",
       "      <td>can comment much since yet used come back update review find issues first use built solid nice tough big hard clamps love long cable never move cars around anything needed bought new truck since a...</td>\n",
       "    </tr>\n",
       "    <tr>\n",
       "      <th>4</th>\n",
       "      <td>I absolutley love Amazon!!!  For the price of a set of cheap Booster/Jumper Cables in a brick and morter store, you can buy extra long and heavy duty jumpers!  First off, don't be the person that ...</td>\n",
       "      <td>absolutley love amazon for price set cheap booster jumper cables brick morter store buy extra long heavy duty jumpers first person needs ask kind passer jump also jumper cables much easier get jum...</td>\n",
       "    </tr>\n",
       "    <tr>\n",
       "      <th>5</th>\n",
       "      <td>I purchased the 12' feet long cable set and they arrived in a retail cardboard box with handle, which could be used as a storage and carrying case for these cables, although I will not need to sto...</td>\n",
       "      <td>purchased feet long cable set arrived retail cardboard box handle could used storage carrying case cables although need store carry box these high quality long cables high grade materials believe ...</td>\n",
       "    </tr>\n",
       "  </tbody>\n",
       "</table>\n",
       "</div>"
      ],
      "text/plain": [
       "                                                                                                                                                                                               review_text  \\\n",
       "1  I needed a set of jumper cables for my new car and these had good reviews and were at a good price.  They have been used a few times already and do what they are supposed to - no complaints there....   \n",
       "2  These long cables work fine for my truck, but the quality seems a little on the shabby side. For the money I was not expecting 200 dollar snap-on jumper cables but these seem more like what you wo...   \n",
       "3  Can't comment much on these since they have not yet been used (I will come back and update my review is I find any issues after first use) ... but they are built solid, nice tough big hard clamps ...   \n",
       "4  I absolutley love Amazon!!!  For the price of a set of cheap Booster/Jumper Cables in a brick and morter store, you can buy extra long and heavy duty jumpers!  First off, don't be the person that ...   \n",
       "5  I purchased the 12' feet long cable set and they arrived in a retail cardboard box with handle, which could be used as a storage and carrying case for these cables, although I will not need to sto...   \n",
       "\n",
       "                                                                                                                                                                                       cleaned_review_text  \n",
       "1  needed set jumper cables new car good reviews good price they used times already supposed complaints what say feet really ideal length sure pull front bumper front bumper plenty long lot times bes...  \n",
       "2                        these long cables work fine truck quality seems little shabby side for money expecting dollar snap jumper cables seem like would see chinese knock shop like harbor freight bucks  \n",
       "3  can comment much since yet used come back update review find issues first use built solid nice tough big hard clamps love long cable never move cars around anything needed bought new truck since a...  \n",
       "4  absolutley love amazon for price set cheap booster jumper cables brick morter store buy extra long heavy duty jumpers first person needs ask kind passer jump also jumper cables much easier get jum...  \n",
       "5  purchased feet long cable set arrived retail cardboard box handle could used storage carrying case cables although need store carry box these high quality long cables high grade materials believe ...  "
      ]
     },
     "execution_count": 16,
     "metadata": {},
     "output_type": "execute_result"
    }
   ],
   "source": [
    "df_reviews[['review_text', 'cleaned_review_text']].head()"
   ]
  },
  {
   "cell_type": "code",
   "execution_count": 17,
   "metadata": {},
   "outputs": [
    {
     "data": {
      "image/png": "[encoded data removed]",
      "text/plain": [
       "<matplotlib.figure.Figure at 0x1a21fb2a58>"
      ]
     },
     "metadata": {},
     "output_type": "display_data"
    }
   ],
   "source": [
    "plot_frequent_terms(df_reviews['cleaned_review_text'], n_terms=15, plot_name='cleaned')"
   ]
  },
  {
   "cell_type": "markdown",
   "metadata": {},
   "source": [
    "#### 4) Tokenizing Sentences"
   ]
  },
  {
   "cell_type": "code",
   "execution_count": 18,
   "metadata": {
    "collapsed": true
   },
   "outputs": [],
   "source": [
    "tokenized_review = pd.Series(df_reviews['cleaned_review_text']).apply(lambda word: word.split())"
   ]
  },
  {
   "cell_type": "markdown",
   "metadata": {},
   "source": [
    "#### 5) Lemmatizing Words"
   ]
  },
  {
   "cell_type": "code",
   "execution_count": 19,
   "metadata": {
    "collapsed": true
   },
   "outputs": [],
   "source": [
    "def lemmatize_words(text, allowed_postags=['NOUN', 'ADJ', 'VERB', 'ADV']):\n",
    "    \n",
    "    nlp = spacy.load('en', disable=['parser', 'ner'])\n",
    "    \n",
    "    lemmatized_words = []\n",
    "    \n",
    "    for sentence in tqdm_notebook(text):\n",
    "        doc = nlp(' '.join(sentence))\n",
    "        lemmatized_words.append([word.lemma_ for word in doc if word.pos_ in allowed_postags])\n",
    "        \n",
    "    return lemmatized_words"
   ]
  },
  {
   "cell_type": "code",
   "execution_count": 20,
   "metadata": {},
   "outputs": [
    {
     "data": {
      "application/vnd.jupyter.widget-view+json": {
       "model_id": "eedf6e5851c1452dbdd74d54e40c0870",
       "version_major": 2,
       "version_minor": 0
      },
      "text/plain": [
       "A Jupyter Widget"
      ]
     },
     "metadata": {},
     "output_type": "display_data"
    },
    {
     "name": "stdout",
     "output_type": "stream",
     "text": [
      "\n"
     ]
    }
   ],
   "source": [
    "lemmatized_review = lemmatize_words(tokenized_review)"
   ]
  },
  {
   "cell_type": "code",
   "execution_count": 21,
   "metadata": {},
   "outputs": [],
   "source": [
    "cleaned_review_text = []\n",
    "for i in range(len(lemmatized_review)): cleaned_review_text.append(' '.join(lemmatized_review[i]))\n",
    "df_reviews['cleaned_review_text'] = cleaned_review_text"
   ]
  },
  {
   "cell_type": "code",
   "execution_count": 22,
   "metadata": {},
   "outputs": [
    {
     "data": {
      "image/png": "[encoded data removed]",
      "text/plain": [
       "<matplotlib.figure.Figure at 0x1a378cc438>"
      ]
     },
     "metadata": {},
     "output_type": "display_data"
    }
   ],
   "source": [
    "plot_frequent_terms(df_reviews['cleaned_review_text'], n_terms=20, plot_name='cleaned')"
   ]
  },
  {
   "cell_type": "markdown",
   "metadata": {},
   "source": [
    "#### 6) Creating The Dictionary"
   ]
  },
  {
   "cell_type": "code",
   "execution_count": 23,
   "metadata": {
    "collapsed": true
   },
   "outputs": [],
   "source": [
    "import gensim.corpora as corpora"
   ]
  },
  {
   "cell_type": "code",
   "execution_count": 24,
   "metadata": {
    "collapsed": true
   },
   "outputs": [],
   "source": [
    "id2word = corpora.Dictionary(lemmatized_review)"
   ]
  },
  {
   "cell_type": "markdown",
   "metadata": {},
   "source": [
    "## Feature Preparation (Bag of Words)"
   ]
  },
  {
   "cell_type": "code",
   "execution_count": 25,
   "metadata": {},
   "outputs": [
    {
     "data": {
      "application/vnd.jupyter.widget-view+json": {
       "model_id": "da22d8fdc2bd4ccc9cf1b2e30e05d62f",
       "version_major": 2,
       "version_minor": 0
      },
      "text/plain": [
       "A Jupyter Widget"
      ]
     },
     "metadata": {},
     "output_type": "display_data"
    },
    {
     "name": "stdout",
     "output_type": "stream",
     "text": [
      "\n"
     ]
    }
   ],
   "source": [
    "corpus = [id2word.doc2bow(review) for review in tqdm_notebook(lemmatized_review)]"
   ]
  },
  {
   "cell_type": "code",
   "execution_count": 26,
   "metadata": {},
   "outputs": [
    {
     "name": "stdout",
     "output_type": "stream",
     "text": [
      "already 1, brand 1, bumper 1, cable 1, car 2, close 1, complaint 1, foot 1, front 2, get 2\n"
     ]
    }
   ],
   "source": [
    "TOP = 10; corpus_look = [];\n",
    "for index, frequency in corpus[:1][0][:TOP]: corpus_look.append(f'{id2word[index]} {frequency}')\n",
    "print(', '.join(corpus_look))"
   ]
  },
  {
   "cell_type": "markdown",
   "metadata": {},
   "source": [
    "## Build LDA Model"
   ]
  },
  {
   "cell_type": "code",
   "execution_count": 27,
   "metadata": {
    "collapsed": true
   },
   "outputs": [],
   "source": [
    "from gensim.models.ldamodel import LdaModel"
   ]
  },
  {
   "cell_type": "code",
   "execution_count": 28,
   "metadata": {},
   "outputs": [],
   "source": [
    "# official documentation of the LdaModel: https://radimrehurek.com/gensim/models/ldamodel.html\n",
    "lda_model = LdaModel(corpus=corpus, id2word=id2word, num_topics=7, chunksize=1000, \n",
    "                     passes=50, eval_every=1, update_every=1, per_word_topics=True, alpha='auto', random_state=10)"
   ]
  },
  {
   "cell_type": "markdown",
   "metadata": {},
   "source": [
    "## View The Topics in LDA Model"
   ]
  },
  {
   "cell_type": "code",
   "execution_count": 29,
   "metadata": {},
   "outputs": [
    {
     "name": "stdout",
     "output_type": "stream",
     "text": [
      "[(0,\n",
      "  '0.032*\"use\" + 0.025*\"filter\" + 0.018*\"oil\" + 0.017*\"clean\" + 0.015*\"good\" + '\n",
      "  '0.012*\"work\" + 0.010*\"product\" + 0.010*\"car\" + 0.009*\"buy\" + 0.008*\"time\"'),\n",
      " (1,\n",
      "  '0.026*\"car\" + 0.025*\"use\" + 0.015*\"well\" + 0.013*\"work\" + 0.011*\"water\" + '\n",
      "  '0.011*\"good\" + 0.010*\"get\" + 0.009*\"dry\" + 0.008*\"time\" + 0.008*\"easy\"'),\n",
      " (2,\n",
      "  '0.039*\"leather\" + 0.017*\"use\" + 0.015*\"product\" + 0.011*\"car\" + '\n",
      "  '0.011*\"apply\" + 0.010*\"look\" + 0.010*\"good\" + 0.009*\"clean\" + 0.008*\"make\" '\n",
      "  '+ 0.008*\"seat\"'),\n",
      " (3,\n",
      "  '0.027*\"use\" + 0.022*\"look\" + 0.016*\"product\" + 0.014*\"tire\" + 0.011*\"clean\" '\n",
      "  '+ 0.010*\"mirror\" + 0.010*\"easy\" + 0.009*\"new\" + 0.006*\"year\" + '\n",
      "  '0.006*\"view\"'),\n",
      " (4,\n",
      "  '0.016*\"well\" + 0.015*\"use\" + 0.014*\"trailer\" + 0.014*\"lock\" + 0.012*\"stand\" '\n",
      "  '+ 0.012*\"buy\" + 0.010*\"work\" + 0.010*\"get\" + 0.009*\"nozzle\" + 0.008*\"make\"'),\n",
      " (5,\n",
      "  '0.019*\"light\" + 0.017*\"work\" + 0.016*\"great\" + 0.015*\"use\" + '\n",
      "  '0.014*\"product\" + 0.011*\"make\" + 0.008*\"wire\" + 0.007*\"well\" + 0.007*\"car\" '\n",
      "  '+ 0.007*\"sound\"'),\n",
      " (6,\n",
      "  '0.014*\"cable\" + 0.012*\"car\" + 0.012*\"use\" + 0.009*\"need\" + 0.009*\"buy\" + '\n",
      "  '0.008*\"product\" + 0.008*\"run\" + 0.008*\"engine\" + 0.007*\"battery\" + '\n",
      "  '0.007*\"keep\"')]\n"
     ]
    }
   ],
   "source": [
    "pprint(lda_model.print_topics(num_words=10))\n",
    "doc_lda = lda_model[corpus]"
   ]
  },
  {
   "cell_type": "markdown",
   "metadata": {},
   "source": [
    "---"
   ]
  }
 ],
 "metadata": {
  "kernelspec": {
   "display_name": "Python 3",
   "language": "python",
   "name": "python3"
  },
  "language_info": {
   "codemirror_mode": {
    "name": "ipython",
    "version": 3
   },
   "file_extension": ".py",
   "mimetype": "text/x-python",
   "name": "python",
   "nbconvert_exporter": "python",
   "pygments_lexer": "ipython3",
   "version": "3.6.3"
  }
 },
 "nbformat": 4,
 "nbformat_minor": 2
}
