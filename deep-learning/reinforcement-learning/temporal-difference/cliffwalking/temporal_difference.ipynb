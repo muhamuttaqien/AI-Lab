{
 "cells": [
  {
   "cell_type": "code",
   "execution_count": null,
   "metadata": {
    "collapsed": true
   },
   "outputs": [],
   "source": [
    "import sys\n",
    "import math\n",
    "import random; random.seed(90)\n",
    "\n",
    "import numpy as np\n",
    "import matplotlib.pyplot as plt\n",
    "from collections import defaultdict, deque\n",
    "\n",
    "import gym"
   ]
  },
  {
   "cell_type": "code",
   "execution_count": null,
   "metadata": {
    "collapsed": true
   },
   "outputs": [],
   "source": [
    "import check_test\n",
    "from utils import plot_values\n",
    "from cliffwalking import CliffWalkingEnv"
   ]
  },
  {
   "cell_type": "markdown",
   "metadata": {},
   "source": [
    "## Explore The Environment"
   ]
  },
  {
   "cell_type": "code",
   "execution_count": null,
   "metadata": {
    "collapsed": true
   },
   "outputs": [],
   "source": [
    "env = CliffWalkingEnv()"
   ]
  },
  {
   "cell_type": "code",
   "execution_count": null,
   "metadata": {
    "collapsed": true
   },
   "outputs": [],
   "source": [
    "print('Environment Display:')\n",
    "env.render()"
   ]
  },
  {
   "cell_type": "code",
   "execution_count": null,
   "metadata": {
    "collapsed": true
   },
   "outputs": [],
   "source": [
    "# print the state space and action space\n",
    "print('State space:', env.observation_space)\n",
    "print('Action space:', env.action_space)"
   ]
  },
  {
   "cell_type": "code",
   "execution_count": null,
   "metadata": {
    "collapsed": true
   },
   "outputs": [],
   "source": [
    "# print the total number of states and actions\n",
    "print('Total number of states', env.nS)\n",
    "print('Total number of actions', env.nA)"
   ]
  },
  {
   "cell_type": "markdown",
   "metadata": {},
   "source": [
    "## Show Optimal-State Value Function"
   ]
  },
  {
   "cell_type": "code",
   "execution_count": null,
   "metadata": {
    "collapsed": true
   },
   "outputs": [],
   "source": [
    "# define the optimal state-value function\n",
    "V_opt = np.zeros((4,12))\n",
    "V_opt[0][0:13] = -np.arange(3, 15)[::-1]\n",
    "V_opt[1][0:13] = -np.arange(3, 15)[::-1] + 1\n",
    "V_opt[2][0:13] = -np.arange(3, 15)[::-1] + 2\n",
    "V_opt[3][0] = -13\n",
    "\n",
    "plot_values(V_opt, name='State-Value')"
   ]
  },
  {
   "cell_type": "markdown",
   "metadata": {},
   "source": [
    "## Part 1: TD Control: Sarsa"
   ]
  },
  {
   "cell_type": "code",
   "execution_count": null,
   "metadata": {
    "collapsed": true
   },
   "outputs": [],
   "source": [
    "def update_Q_sarsa(alpha, gamma, Q, state, action, reward, next_state=None, next_action=None):\n",
    "    \"\"\"Returns updated Q-value for the most recent experience.\"\"\"\n",
    "    current_value = Q[state][action] # estimate in Q-table for current state-action pair\n",
    "    Qsa_next = Q[next_state][next_action] if next_state is not None else 0 # get value of state-action at next time step\n",
    "    \n",
    "    TD_target = reward + (gamma * Qsa_next) # construct TD target\n",
    "    TD_error = TD_target - current_value # construct TD error\n",
    "    new_value = current_value + (alpha * (TD_error)) # apply update rule\n",
    "    return new_value"
   ]
  },
  {
   "cell_type": "code",
   "execution_count": null,
   "metadata": {
    "collapsed": true
   },
   "outputs": [],
   "source": [
    "def get_epsilon_greedy(Q, state, nA, epsilon):\n",
    "    \"\"\"Selects epsilon-greedy action for supplied state.\"\"\"\n",
    "    if random.random() > epsilon: # select greedy action with probability epsilon\n",
    "        return np.argmax(Q[state])\n",
    "    else:\n",
    "        return random.choice(np.arange(env.action_space.n))"
   ]
  },
  {
   "cell_type": "code",
   "execution_count": null,
   "metadata": {
    "collapsed": true
   },
   "outputs": [],
   "source": [
    "def td_control(env, num_episodes, alpha, gamma=1.0, plot_every=100):\n",
    "    \n",
    "    nA = env.action_space.n # number of actions\n",
    "    Q = defaultdict(lambda: np.zeros(nA)) # initialize empty dictionary of arrays\n",
    "    \n",
    "    # monitor performance\n",
    "    tmp_scores = deque(maxlen=plot_every) # deque for keeping track of scores\n",
    "    avg_scores = deque(maxlen=num_episodes) # average scores over every plot_every episodes\n",
    "    \n",
    "    for i_episode in range(1, num_episodes+1):\n",
    "        \n",
    "        # monitor progress\n",
    "        if i_episode % 100 == 0:\n",
    "            print(\"\\rEpisode {}/{}\".format(i_episode, num_episodes), end=\"\")\n",
    "            sys.stdout.flush()\n",
    "        score = 0 # initialize score\n",
    "        state = env.reset() # start episode\n",
    "        \n",
    "        epsilon = 1.0 / i_episode # set value of epsilon\n",
    "        action = get_epsilon_greedy(Q, state, nA, epsilon) # epsilon-greedy action selection\n",
    "        \n",
    "        while True:\n",
    "            next_state, reward, done, info = env.step(action) # take action A, observe R, S'\n",
    "            score += reward # add reward to agent's score\n",
    "            if not done:\n",
    "                next_action = get_epsilon_greedy(Q, next_state, nA, epsilon) # epsilon-greedy action\n",
    "                Q[state][action] = update_Q_sarsa(alpha, gamma, Q, state, action, reward, next_state, next_action) # apply TD control update rule\n",
    "                state = next_state\n",
    "                action = next_action\n",
    "                \n",
    "            if done:\n",
    "                Q[state][action] = update_Q_sarsa(alpha, gamma, Q, state, action, reward)\n",
    "                tmp_scores.append(score)\n",
    "                break\n",
    "        if (i_episode % plot_every == 0):\n",
    "            avg_scores.append(np.mean(tmp_scores))\n",
    "            \n",
    "    # plot performance\n",
    "    plt.plot(np.linspace(0, num_episodes, len(avg_scores), endpoint=False), np.asarray(avg_scores))\n",
    "    plt.xlabel('Episode Number')\n",
    "    plt.ylabel(f'Average Reward (Over Next {plot_every} Episodes)')\n",
    "    plt.show()\n",
    "    \n",
    "    # print best 100-episode performance\n",
    "    print((f'Best Average Reward over {plot_every} Episodes:'), np.max(avg_scores))\n",
    "    return Q"
   ]
  },
  {
   "cell_type": "code",
   "execution_count": null,
   "metadata": {
    "collapsed": true
   },
   "outputs": [],
   "source": [
    "# obtain the estimated optimal policy and corresponding action-value function\n",
    "Q_sarsa = td_control(env, num_episodes=5000, alpha=.01)"
   ]
  },
  {
   "cell_type": "code",
   "execution_count": null,
   "metadata": {
    "collapsed": true
   },
   "outputs": [],
   "source": [
    "# print the estimated optimal policy\n",
    "policy_sarsa = np.array([np.argmax(Q_sarsa[key]) if key in Q_sarsa else -1 for key in np.arange(48)]).reshape(4,12)\n",
    "check_test.run_check('td_control_check', policy_sarsa)"
   ]
  },
  {
   "cell_type": "code",
   "execution_count": null,
   "metadata": {
    "collapsed": true
   },
   "outputs": [],
   "source": [
    "print(\"\\nEstimated Optimal Policy (UP = 0, RIGHT = 1, DOWN = 2, LEFT = 3, N/A = -1):\")\n",
    "plot_values(np.reshape(policy_sarsa, (4,12)), name='Policy')"
   ]
  },
  {
   "cell_type": "code",
   "execution_count": null,
   "metadata": {
    "collapsed": true
   },
   "outputs": [],
   "source": [
    "# plot the estimated optimal state-value function\n",
    "V_sarsa = ([np.max(Q_sarsa[key]) if key in Q_sarsa else 0 for key in np.arange(48)])\n",
    "plot_values(V_sarsa, name='State-Value')"
   ]
  },
  {
   "cell_type": "markdown",
   "metadata": {},
   "source": [
    "## Part 2: TD Control: Q-learning"
   ]
  },
  {
   "cell_type": "code",
   "execution_count": null,
   "metadata": {
    "collapsed": true
   },
   "outputs": [],
   "source": [
    "def update_Q_sarsamax(alpha, gamma, Q, state, action, reward, next_state=None):\n",
    "    \"\"\"Returns updated Q-value for the most recent experience.\"\"\"\n",
    "    current_value = Q[state][action] # estimate in Q-table for current state-action pair\n",
    "    Qsa_next = np.max(Q[next_state]) if next_state is not None else 0 # value of next state\n",
    "    \n",
    "    TD_target = reward + (gamma * Qsa_next) # construct TD target\n",
    "    TD_error = TD_target - current_value # construct TD error\n",
    "    new_value = current_value + (alpha * (TD_error)) # apply update rule\n",
    "    return new_value"
   ]
  },
  {
   "cell_type": "code",
   "execution_count": null,
   "metadata": {
    "collapsed": true
   },
   "outputs": [],
   "source": [
    "def td_control(env, num_episodes, alpha, gamma=1.0, plot_every=100):\n",
    "\n",
    "    nA = env.action_space.n # number of actions\n",
    "    Q = defaultdict(lambda: np.zeros(nA)) # initialize empty dictionary of arrays\n",
    "    \n",
    "    # monitor performance\n",
    "    tmp_scores = deque(maxlen=plot_every) # deque for keeping track of scores\n",
    "    avg_scores = deque(maxlen=num_episodes) # average scores over every plot_every episodes\n",
    "    \n",
    "    for i_episode in range(1, num_episodes+1):\n",
    "        \n",
    "        # monitor progress\n",
    "        if i_episode % 100 == 0:\n",
    "            print(\"\\rEpisode {}/{}\".format(i_episode, num_episodes), end=\"\")\n",
    "            sys.stdout.flush()\n",
    "        score = 0 # initialize score\n",
    "        state = env.reset() # start episode\n",
    "        \n",
    "        epsilon = 1.0 / i_episode # set value of epsilon\n",
    "        while True:\n",
    "            action = get_epsilon_greedy(Q, state, nA, epsilon) # epsilon-greedy action selection\n",
    "            next_state, reward, done, info = env.step(action) # take action A, observe R, S'\n",
    "            score += reward # add reward to agent's score\n",
    "            Q[state][action] = update_Q_sarsamax(alpha, gamma, Q, state, action, reward, next_state)\n",
    "            state = next_state\n",
    "            \n",
    "            if done:\n",
    "                tmp_scores.append(score)\n",
    "                break\n",
    "        if (i_episode % plot_every == 0):\n",
    "            avg_scores.append(np.mean(tmp_scores))\n",
    "            \n",
    "    # plot performance\n",
    "    plt.plot(np.linspace(0, num_episodes, len(avg_scores), endpoint=False), np.asarray(avg_scores))\n",
    "    plt.xlabel('Episode Number')\n",
    "    plt.ylabel(f'Average Reward (Over Next {plot_every} Episodes)')\n",
    "    plt.show()\n",
    "    \n",
    "    # print best 100-episode performance\n",
    "    print((f'Best Average Reward over {plot_every} Episodes:'), np.max(avg_scores))\n",
    "    return Q"
   ]
  },
  {
   "cell_type": "code",
   "execution_count": null,
   "metadata": {
    "collapsed": true
   },
   "outputs": [],
   "source": [
    "# obtain the estimated optimal policy and corresponding action-value function\n",
    "Q_sarsamax = td_control(env, num_episodes=5000, alpha=.01)"
   ]
  },
  {
   "cell_type": "code",
   "execution_count": null,
   "metadata": {
    "collapsed": true
   },
   "outputs": [],
   "source": [
    "# print the estimated optimal policy\n",
    "policy_sarsamax = np.array([np.argmax(Q_sarsamax[key]) if key in Q_sarsamax else -1 for key in np.arange(48)]).reshape((4,12))\n",
    "check_test.run_check('td_control_check', policy_sarsamax)"
   ]
  },
  {
   "cell_type": "code",
   "execution_count": null,
   "metadata": {
    "collapsed": true
   },
   "outputs": [],
   "source": [
    "print(\"\\nEstimated Optimal Policy (UP = 0, RIGHT = 1, DOWN = 2, LEFT = 3, N/A = -1):\")\n",
    "plot_values(np.reshape(policy_sarsamax, (4,12)), name='Policy')"
   ]
  },
  {
   "cell_type": "code",
   "execution_count": null,
   "metadata": {
    "collapsed": true
   },
   "outputs": [],
   "source": [
    "# plot the estimated optimal state-value function\n",
    "plot_values([np.max(Q_sarsamax[key]) if key in Q_sarsamax else 0 for key in np.arange(48)], name='State-Value')"
   ]
  },
  {
   "cell_type": "markdown",
   "metadata": {},
   "source": [
    "## Part 3: TD Control: Expected Sarsa"
   ]
  },
  {
   "cell_type": "code",
   "execution_count": null,
   "metadata": {
    "collapsed": true
   },
   "outputs": [],
   "source": [
    "def update_Q_expected_sarsa(alpha, gamma, nA, epsilon, Q, state, action, reward, next_state=None):\n",
    "    \"\"\"Returns updated Q-value for the most recent experience.\"\"\"\n",
    "    current_value = Q[state][action] # estimate in Q-table for current state-action pair\n",
    "    policy_next_state = np.ones(nA) * epsilon / nA # current policy for next state S'\n",
    "    policy_next_state[np.argmax(Q[next_state])] = 1 - epsilon + (epsilon / nA) # greedy action\n",
    "    Qsa_next = np.dot(Q[next_state], policy_next_state) # get value of state at next time step\n",
    "    \n",
    "    TD_target = reward + (gamma * Qsa_next) # construct target\n",
    "    TD_error = TD_target - current_value # construct TD error\n",
    "    new_value = current_value + (alpha * (TD_error)) # apply update rule\n",
    "    return new_value"
   ]
  },
  {
   "cell_type": "code",
   "execution_count": null,
   "metadata": {
    "collapsed": true
   },
   "outputs": [],
   "source": [
    "def td_control(env, num_episodes, alpha, gamma=1.0, plot_every=100):\n",
    "    \n",
    "    nA = env.action_space.n # number of actions\n",
    "    Q = defaultdict(lambda: np.zeros(nA)) # initialize empty dictionary of arrays\n",
    "    \n",
    "    # monitor performance\n",
    "    tmp_scores = deque(maxlen=plot_every) # deque for keeping track of scores\n",
    "    avg_scores = deque(maxlen=num_episodes) # average scores over every plot_every episodes\n",
    "    \n",
    "    for i_episode in range(1, num_episodes+1):\n",
    "        \n",
    "        # monitor progress\n",
    "        if i_episode % 100 == 0:\n",
    "            print(\"\\rEpisode {}/{}\".format(i_episode, num_episodes), end=\"\")\n",
    "            sys.stdout.flush()\n",
    "        \n",
    "        score = 0 # initialize score\n",
    "        state = env.reset() # start episode\n",
    "        \n",
    "        epsilon = 5e-3 # set value of epsilon\n",
    "        \n",
    "        while True:\n",
    "            action = get_epsilon_greedy(Q, state, nA, epsilon) # epsilon-greedy action selection\n",
    "            next_state, reward, done, info = env.step(action) # take action A, observe R, S'\n",
    "            score += reward # add reward to agent's score\n",
    "            Q[state][action] = update_Q_expected_sarsa(alpha, gamma, nA, epsilon, Q, state, action, reward, next_state)\n",
    "            state = next_state\n",
    "            \n",
    "            if done:\n",
    "                tmp_scores.append(score)\n",
    "                break\n",
    "        if (i_episode % plot_every == 0):\n",
    "            avg_scores.append(np.mean(tmp_scores))\n",
    "            \n",
    "    # plot performance\n",
    "    plt.plot(np.linspace(0, num_episodes, len(avg_scores), endpoint=False), np.asarray(avg_scores))\n",
    "    plt.xlabel('Episode Number')\n",
    "    plt.ylabel(f'Average Reward (Over Next {plot_every} Episodes)')\n",
    "    plt.show()\n",
    "    \n",
    "    # print best 100-episode performance\n",
    "    print((f'Best Average Reward over {plot_every} Episodes:'), np.max(avg_scores))\n",
    "    return Q"
   ]
  },
  {
   "cell_type": "code",
   "execution_count": null,
   "metadata": {
    "collapsed": true
   },
   "outputs": [],
   "source": [
    "# obtain the estimated optimal policy and corresponding action-value function\n",
    "Q_expected_sarsa = td_control(env, 5000, 1)"
   ]
  },
  {
   "cell_type": "code",
   "execution_count": null,
   "metadata": {
    "collapsed": true
   },
   "outputs": [],
   "source": [
    "# print the estimated optimal policy\n",
    "policy_expected_sarsa = np.array([np.argmax(Q_expected_sarsa[key]) if key in Q_expected_sarsa else -1 for key in np.arange(48)]).reshape(4,12)\n",
    "check_test.run_check('td_control_check', policy_expected_sarsa)"
   ]
  },
  {
   "cell_type": "code",
   "execution_count": null,
   "metadata": {
    "collapsed": true
   },
   "outputs": [],
   "source": [
    "print(\"\\nEstimated Optimal Policy (UP = 0, RIGHT = 1, DOWN = 2, LEFT = 3, N/A = -1):\")\n",
    "plot_values(np.reshape(policy_expected_sarsa, (4,12)), name='Policy')"
   ]
  },
  {
   "cell_type": "code",
   "execution_count": null,
   "metadata": {
    "collapsed": true
   },
   "outputs": [],
   "source": [
    "# plot the estimated optimal state-value function\n",
    "plot_values([np.max(Q_expected_sarsa[key]) if key in Q_expected_sarsa else 0 for key in np.arange(48)])"
   ]
  },
  {
   "cell_type": "markdown",
   "metadata": {},
   "source": [
    "---"
   ]
  }
 ],
 "metadata": {
  "kernelspec": {
   "display_name": "Python 3",
   "language": "python",
   "name": "python3"
  },
  "language_info": {
   "codemirror_mode": {
    "name": "ipython",
    "version": 3
   },
   "file_extension": ".py",
   "mimetype": "text/x-python",
   "name": "python",
   "nbconvert_exporter": "python",
   "pygments_lexer": "ipython3",
   "version": "3.6.3"
  }
 },
 "nbformat": 4,
 "nbformat_minor": 2
}
