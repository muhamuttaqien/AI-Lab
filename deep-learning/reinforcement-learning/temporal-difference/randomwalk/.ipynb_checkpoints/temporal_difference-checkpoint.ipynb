{
 "cells": [
  {
   "cell_type": "code",
   "execution_count": 1,
   "metadata": {},
   "outputs": [],
   "source": [
    "import sys\n",
    "import random\n",
    "import numpy as np\n",
    "\n",
    "import gym\n",
    "from randomwalk import RandomWalkEnv"
   ]
  },
  {
   "cell_type": "markdown",
   "metadata": {},
   "source": [
    "## Explore The Environment"
   ]
  },
  {
   "cell_type": "code",
   "execution_count": 2,
   "metadata": {},
   "outputs": [],
   "source": [
    "env = RandomWalkEnv()"
   ]
  },
  {
   "cell_type": "code",
   "execution_count": 3,
   "metadata": {},
   "outputs": [
    {
     "name": "stdout",
     "output_type": "stream",
     "text": [
      "Environment Display:\n",
      "\n",
      "[ABC\u001b[43mD\u001b[0mEFG]\n",
      "State Space Discrete(9)\n",
      "Action Space Discrete(2)\n"
     ]
    }
   ],
   "source": [
    "print('Environment Display:')\n",
    "env.reset() # reset environment to a new, random state\n",
    "env.render()\n",
    "\n",
    "print(\"State Space {}\".format(env.observation_space))\n",
    "print(\"Action Space {}\".format(env.action_space))"
   ]
  },
  {
   "cell_type": "markdown",
   "metadata": {},
   "source": [
    "## Train The Agent"
   ]
  },
  {
   "cell_type": "code",
   "execution_count": null,
   "metadata": {},
   "outputs": [],
   "source": [
    "num_episodes = 100000\n",
    "num_steps_per_episode = 200\n",
    "\n",
    "epsilon = 0.3\n",
    "alpha = 0.2\n",
    "gamma = 0.6"
   ]
  },
  {
   "cell_type": "code",
   "execution_count": null,
   "metadata": {},
   "outputs": [
    {
     "name": "stdout",
     "output_type": "stream",
     "text": [
      "Episode 80700/100000"
     ]
    }
   ],
   "source": [
    "Q_table = np.zeros([env.observation_space.n, env.action_space.n])\n",
    "\n",
    "for i_episode in range(1, num_episodes+1):\n",
    "    \n",
    "    # monitor progress\n",
    "    if i_episode % 100 == 0:\n",
    "        print(\"\\rEpisode {}/{}\".format(i_episode, num_episodes), end=\"\")\n",
    "        sys.stdout.flush()\n",
    "        \n",
    "    # get initial state by restarting the environment\n",
    "    state = env.reset()\n",
    "    \n",
    "    total_reward = 0\n",
    "    done = False\n",
    "    for j_step in range(1, num_steps_per_episode+1):\n",
    "        \n",
    "        # apply epsilon-greedy policy\n",
    "        if random.uniform(0, 1) < epsilon:\n",
    "            action = np.random.choice(env.action_space.n) # explore action space\n",
    "        else:\n",
    "            action = np.argmax(Q_table[state]) # exploit learned values\n",
    "            \n",
    "        next_state, reward, done, _ = env.step(action)\n",
    "        \n",
    "        # apply Q-learning update rule\n",
    "        current_value = Q_table[state][action]\n",
    "        Qsa_next = np.max(Q_table[next_state])\n",
    "        \n",
    "        new_value = (1 - alpha) * current_value + (alpha * (reward + gamma * Qsa_next))\n",
    "        Q_table[state][action] = new_value\n",
    "        \n",
    "        state = next_state\n",
    "        \n",
    "        if done:\n",
    "            break\n",
    "print(\"\\nTraining finished.\")"
   ]
  },
  {
   "cell_type": "markdown",
   "metadata": {},
   "source": [
    "## Evaluate The Agent"
   ]
  },
  {
   "cell_type": "code",
   "execution_count": null,
   "metadata": {},
   "outputs": [],
   "source": [
    "num_episodes = 100"
   ]
  },
  {
   "cell_type": "code",
   "execution_count": null,
   "metadata": {},
   "outputs": [],
   "source": [
    "collected_rewards = []\n",
    "\n",
    "for i_episode in range(1, num_episodes+1):\n",
    "    \n",
    "    print('Starting new episode...')\n",
    "    state = env.reset()\n",
    "    env.render()\n",
    "    \n",
    "    total_reward = 0\n",
    "    done = False\n",
    "    for j_step in range(1, num_steps_per_episode+1):\n",
    "        \n",
    "        action = np.argmax(Q_table[state])\n",
    "        next_state, reward, done, _ = env.step(action)\n",
    "        \n",
    "        env.render()\n",
    "        total_reward += reward\n",
    "        \n",
    "        if done:\n",
    "            break\n",
    "    collected_rewards.append(total_reward)\n",
    "    print(f'Episode {i_episode}, Total rewards: {total_reward}, After steps: {j_step}')"
   ]
  },
  {
   "cell_type": "code",
   "execution_count": null,
   "metadata": {},
   "outputs": [],
   "source": [
    "print(f'Wins {(np.array(collected_rewards) == 1.0).sum()} of {num_episodes} episodes (Average score: {sum(collected_rewards) / num_episodes}).')"
   ]
  },
  {
   "cell_type": "markdown",
   "metadata": {},
   "source": [
    "---"
   ]
  }
 ],
 "metadata": {
  "kernelspec": {
   "display_name": "Python 3",
   "language": "python",
   "name": "python3"
  },
  "language_info": {
   "codemirror_mode": {
    "name": "ipython",
    "version": 3
   },
   "file_extension": ".py",
   "mimetype": "text/x-python",
   "name": "python",
   "nbconvert_exporter": "python",
   "pygments_lexer": "ipython3",
   "version": "3.7.3"
  }
 },
 "nbformat": 4,
 "nbformat_minor": 2
}
