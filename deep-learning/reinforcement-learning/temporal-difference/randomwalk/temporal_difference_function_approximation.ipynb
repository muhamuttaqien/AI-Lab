{
 "cells": [
  {
   "cell_type": "code",
   "execution_count": 1,
   "metadata": {
    "collapsed": true
   },
   "outputs": [],
   "source": [
    "import sys\n",
    "import random\n",
    "import numpy as np\n",
    "from time import sleep\n",
    "from IPython.display import clear_output\n",
    "\n",
    "import gym\n",
    "from randomwalk import RandomWalkEnv"
   ]
  },
  {
   "cell_type": "markdown",
   "metadata": {},
   "source": [
    "## Define The Environment"
   ]
  },
  {
   "cell_type": "code",
   "execution_count": 11,
   "metadata": {},
   "outputs": [],
   "source": [
    "class RandomWalk:\n",
    "    \"\"\"Define RandomWalk environment.\"\"\"\n",
    "    \n",
    "    def __init__(self, step=1, lr=2e-5, gamma=1, debug=True):\n",
    "    \n",
    "        self.state = 500\n",
    "        self.actions = ['left', 'right']\n",
    "        self.end = False\n",
    "        self.step = step\n",
    "        self.lr = lr\n",
    "        self.gamma = gamma\n",
    "        self.debug = debug\n",
    "        \n",
    "    def choose_action(self):\n",
    "        action = np.random.choice(self.actions)\n",
    "        return action\n",
    "    \n",
    "    def take_action(self, action):\n",
    "        \n",
    "        # choose steps from 1 to 100\n",
    "        steps = np.random.choice(range(1, 101))\n",
    "        if action == 'left':\n",
    "            state = self.state - steps\n",
    "        else:\n",
    "            state = self.state + steps\n",
    "            \n",
    "        # judge if end of the game\n",
    "        if state <= 0 or state >= 1001:\n",
    "            self.end = True\n",
    "            if state <= 0: state = 0\n",
    "            else: state = 1001\n",
    "                \n",
    "        self.state = state\n",
    "        return state\n",
    "    \n",
    "    def give_reward(self):\n",
    "        if self.state == 0:\n",
    "            return -1\n",
    "        if self.state == 1001:\n",
    "            return 1\n",
    "        return 0\n",
    "    \n",
    "    def reset(self):\n",
    "        self.state = 500\n",
    "        self.end = False\n",
    "        \n",
    "    def play(self, value_function, rounds=1e5):\n",
    "        \n",
    "        for i_round in range(rounds):\n",
    "            \n",
    "            self.reset()\n",
    "            time_step = 0\n",
    "            T = np.inf\n",
    "            action = self.choose_action()\n",
    "            \n",
    "            actions = [action]\n",
    "            states = [self.state]\n",
    "            rewards = [0]\n",
    "            \n",
    "            while True:\n",
    "                \n",
    "                if time_step < T:\n",
    "                    next_state = self.take_action(action)\n",
    "                    reward = self.give_reward()\n",
    "                    \n",
    "                    states.append(state)\n",
    "                    rewards.append(reward)\n",
    "                    \n",
    "                    state = next_state\n",
    "                    \n",
    "                    if self.end:\n",
    "                        if self.debug:\n",
    "                            if (i_round+1) % 5000 == 0:\n",
    "                                print(\"Round {}: End at state {} | number of states {}\".format(i_round+1, state, len(states)))\n",
    "                        T = time_step+1\n",
    "                    else:\n",
    "                        action = self.choose_action()\n",
    "                        actions.append(action)\n",
    "                \n",
    "                # the time whose estimate is being updated\n",
    "                time_updated = time_step - self.step + 1\n",
    "                \n",
    "                if time_updated >= 0:\n",
    "                    G = 0\n",
    "                    for i in range(time_updated+1, min(time_updated + self.step + 1, T+1)):\n",
    "                        G += np.power(self.gamma, i-time_updated-1) * rewards[i]\n",
    "                        \n",
    "                    if time_updated + self.step < T:\n",
    "                        state = states[time_updated + self.step]\n",
    "                        G += np.power(self.gamma, self.step) * value_function.value(state)\n",
    "                        \n",
    "                    # update value function\n",
    "                    state = states[time_updated]\n",
    "                    delta = self.lr * (G - value_function.value(state))\n",
    "                    value_function.update(delta, state)\n",
    "                \n",
    "                if time_updated == T-1: break\n",
    "                time_step += 1"
   ]
  },
  {
   "cell_type": "markdown",
   "metadata": {
    "collapsed": true
   },
   "source": [
    "## Explore The Environment"
   ]
  },
  {
   "cell_type": "code",
   "execution_count": 14,
   "metadata": {
    "collapsed": true
   },
   "outputs": [],
   "source": [
    "env = RandomWalk(step=1, lr=1e-3)"
   ]
  },
  {
   "cell_type": "code",
   "execution_count": 24,
   "metadata": {},
   "outputs": [
    {
     "name": "stdout",
     "output_type": "stream",
     "text": [
      "Environment Display:\n",
      "State Space 500\n",
      "Action Space 2\n"
     ]
    }
   ],
   "source": [
    "print('Environment Display:')\n",
    "env.reset() # reset environment to a new, random state\n",
    "\n",
    "print(\"State Space {}\".format(env.state))\n",
    "print(\"Action Space {}\".format(len(env.actions)))"
   ]
  },
  {
   "cell_type": "markdown",
   "metadata": {},
   "source": [
    "## Define Function Approximation"
   ]
  },
  {
   "cell_type": "code",
   "execution_count": 6,
   "metadata": {
    "collapsed": true
   },
   "outputs": [],
   "source": [
    "num_states = 1000"
   ]
  },
  {
   "cell_type": "code",
   "execution_count": 7,
   "metadata": {
    "collapsed": true
   },
   "outputs": [],
   "source": [
    "class LinearValueFunction:\n",
    "    \n",
    "    def __init__(self, order, method='poly'):\n",
    "        \n",
    "        if method == 'poly':\n",
    "            self.function = [lambda x, i=i: np.power(x, i) for i in range(0, order+1)]\n",
    "        \n",
    "        if method == 'fourier':\n",
    "            self.function = [lambda x, i=i: np.cos(np.pi*x*i) for i in range(0, order+1)]\n",
    "        \n",
    "        self.weights = np.zeros(order+1)\n",
    "        \n",
    "    def value(self, state):\n",
    "        state = state/ num_states\n",
    "        features = np.array([func(state) for func in self.function])\n",
    "        \n",
    "        return np.dot(features, self.weights)\n",
    "    \n",
    "    def update(self, delta, state):\n",
    "        state = state/ num_states\n",
    "        dev = np.array([func(state) for func in self.function])\n",
    "        self.weights += delta*dev"
   ]
  },
  {
   "cell_type": "markdown",
   "metadata": {},
   "source": [
    "---"
   ]
  }
 ],
 "metadata": {
  "kernelspec": {
   "display_name": "Python 3",
   "language": "python",
   "name": "python3"
  },
  "language_info": {
   "codemirror_mode": {
    "name": "ipython",
    "version": 3
   },
   "file_extension": ".py",
   "mimetype": "text/x-python",
   "name": "python",
   "nbconvert_exporter": "python",
   "pygments_lexer": "ipython3",
   "version": "3.6.3"
  }
 },
 "nbformat": 4,
 "nbformat_minor": 2
}
