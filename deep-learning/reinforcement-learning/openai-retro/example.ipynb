{
 "cells": [
  {
   "cell_type": "code",
   "execution_count": 1,
   "metadata": {},
   "outputs": [],
   "source": [
    "import gym\n",
    "import retro\n",
    "\n",
    "from utils import upscale_screen"
   ]
  },
  {
   "cell_type": "code",
   "execution_count": 2,
   "metadata": {
    "collapsed": true
   },
   "outputs": [],
   "source": [
    "from IPython import display\n",
    "from gym.envs.classic_control import rendering"
   ]
  },
  {
   "cell_type": "markdown",
   "metadata": {},
   "source": [
    "## Set Environment"
   ]
  },
  {
   "cell_type": "code",
   "execution_count": 3,
   "metadata": {},
   "outputs": [],
   "source": [
    "env = retro.make(game='Airstriker-Genesis')\n",
    "# env = retro.make(game='SonicTheHedgehog-Genesis', state='GreenHillZone.Act1')"
   ]
  },
  {
   "cell_type": "markdown",
   "metadata": {},
   "source": [
    "## Play Random Agent"
   ]
  },
  {
   "cell_type": "code",
   "execution_count": 4,
   "metadata": {
    "collapsed": true
   },
   "outputs": [],
   "source": [
    "NUM_EPISODES = 3"
   ]
  },
  {
   "cell_type": "code",
   "execution_count": 5,
   "metadata": {},
   "outputs": [
    {
     "name": "stdout",
     "output_type": "stream",
     "text": [
      "Episode 1, Total Score: 160.0\n",
      "Episode 2, Total Score: 300.0\n",
      "Episode 3, Total Score: 420.0\n",
      "Random Agent, Average Score: 140.00\n"
     ]
    }
   ],
   "source": [
    "env.reset()\n",
    "viewer = rendering.SimpleImageViewer()\n",
    "    \n",
    "total_score = 0\n",
    "for i in range(1, NUM_EPISODES+1):\n",
    "    \n",
    "    while True:\n",
    "        state, reward, done, info = env.step(env.action_space.sample())\n",
    "        upscaled = upscale_screen(env, 1, 1)\n",
    "        viewer.imshow(upscaled)\n",
    "\n",
    "        total_score += reward\n",
    "        if done:\n",
    "            print(f'Episode {i}, Total Score: {total_score}')\n",
    "            env.reset()\n",
    "            break\n",
    "        \n",
    "env.close();\n",
    "print(f'Random Agent, Average Score: {total_score/NUM_EPISODES:.2f}')"
   ]
  },
  {
   "cell_type": "markdown",
   "metadata": {},
   "source": [
    "---"
   ]
  }
 ],
 "metadata": {
  "kernelspec": {
   "display_name": "Python 3",
   "language": "python",
   "name": "python3"
  },
  "language_info": {
   "codemirror_mode": {
    "name": "ipython",
    "version": 3
   },
   "file_extension": ".py",
   "mimetype": "text/x-python",
   "name": "python",
   "nbconvert_exporter": "python",
   "pygments_lexer": "ipython3",
   "version": "3.6.3"
  }
 },
 "nbformat": 4,
 "nbformat_minor": 2
}
