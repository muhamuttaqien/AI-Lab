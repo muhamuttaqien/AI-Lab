{
 "cells": [
  {
   "cell_type": "code",
   "execution_count": 1,
   "metadata": {
    "collapsed": true
   },
   "outputs": [],
   "source": [
    "import os\n",
    "import random\n",
    "import numpy as np\n",
    "import matplotlib.pyplot as plt\n",
    "from time import sleep\n",
    "from IPython.display import clear_output\n",
    "\n",
    "from skimage import transform\n",
    "from collections import deque"
   ]
  },
  {
   "cell_type": "code",
   "execution_count": 2,
   "metadata": {
    "collapsed": true
   },
   "outputs": [],
   "source": [
    "from vizdoom import DoomGame, Button, GameVariable, ScreenFormat, ScreenResolution, Mode"
   ]
  },
  {
   "cell_type": "code",
   "execution_count": 3,
   "metadata": {
    "collapsed": true
   },
   "outputs": [],
   "source": [
    "import torch\n",
    "import torch.nn as nn\n",
    "import torch.optim as optim\n",
    "import torch.nn.functional as F\n",
    "import torchvision.transforms as T"
   ]
  },
  {
   "cell_type": "code",
   "execution_count": 4,
   "metadata": {
    "collapsed": true
   },
   "outputs": [],
   "source": [
    "import warnings\n",
    "warnings.filterwarnings('ignore')"
   ]
  },
  {
   "cell_type": "markdown",
   "metadata": {},
   "source": [
    "## Set Configs"
   ]
  },
  {
   "cell_type": "code",
   "execution_count": 5,
   "metadata": {
    "collapsed": true
   },
   "outputs": [],
   "source": [
    "is_cuda = torch.cuda.is_available()\n",
    "\n",
    "if is_cuda: device = torch.device('cuda')\n",
    "else: device = torch.device('cpu')"
   ]
  },
  {
   "cell_type": "markdown",
   "metadata": {},
   "source": [
    "## Set Environment"
   ]
  },
  {
   "cell_type": "code",
   "execution_count": 6,
   "metadata": {
    "collapsed": true
   },
   "outputs": [],
   "source": [
    "game = DoomGame()"
   ]
  },
  {
   "cell_type": "code",
   "execution_count": 7,
   "metadata": {
    "collapsed": true
   },
   "outputs": [],
   "source": [
    "def init_scenario(game, scenario_name):\n",
    "\n",
    "    game.load_config(f'./scenarios/{scenario_name}.cfg'); game.set_doom_scenario_path(f'./scenarios/{scenario_name}.wad');\n",
    "\n",
    "    game.set_screen_resolution(ScreenResolution.RES_640X480)\n",
    "    game.set_screen_format(ScreenFormat.RGB24)\n",
    "    game.set_render_hud(False)\n",
    "    game.set_render_crosshair(False)\n",
    "    game.set_render_weapon(True)\n",
    "    game.set_render_decals(False)\n",
    "    game.set_render_particles(False)\n",
    "    game.add_available_button(Button.MOVE_LEFT)\n",
    "    game.add_available_button(Button.MOVE_RIGHT)\n",
    "    game.add_available_button(Button.ATTACK)\n",
    "    game.add_available_button(Button.LOOK_UP_DOWN_DELTA)\n",
    "    game.add_available_game_variable(GameVariable.AMMO2)\n",
    "    game.set_episode_timeout(200)\n",
    "    game.set_episode_start_time(10)\n",
    "    game.set_window_visible(True)\n",
    "    game.set_sound_enabled(True)\n",
    "    game.set_living_reward(-1)\n",
    "    game.set_mode(Mode.PLAYER)\n",
    "\n",
    "    print(f'{scenario_name} initialized.')\n",
    "    game.init()"
   ]
  },
  {
   "cell_type": "code",
   "execution_count": 8,
   "metadata": {},
   "outputs": [
    {
     "name": "stdout",
     "output_type": "stream",
     "text": [
      "deadly_corridor initialized.\n"
     ]
    }
   ],
   "source": [
    "scenarios = ['basic', 'deathmatch', 'defend_the_center', 'health_gathering', 'my_way_home']\n",
    "\n",
    "for scenario_name in scenarios:\n",
    "    \n",
    "    init_scenario(game, scenario_name)\n",
    "\n",
    "    shoot = [0, 0, 1]\n",
    "    left = [1, 0, 0]\n",
    "    right = [0, 1, 0]\n",
    "    actions = [shoot, left, right]\n",
    "\n",
    "    num_episodes = 2\n",
    "    for i in range(1, num_episodes+1):\n",
    "        game.new_episode()\n",
    "\n",
    "        total_reward = 0\n",
    "        while not game.is_episode_finished():\n",
    "            state = game.get_state()\n",
    "            img = state.screen_buffer\n",
    "            misc = state.game_variables\n",
    "            reward = game.make_action(random.choice(actions))\n",
    "\n",
    "            total_reward += reward\n",
    "            print(f'Scenario: {scenario_name}, Episode: {i}/{num_episodes}, Average Reward: {total_reward/i:.2f}')\n",
    "            clear_output(wait=True)\n",
    "            sleep(0.01)\n",
    "\n",
    "        print(f'Scenario: {scenario_name}, Episode: {i}/{num_episodes}, Total Reward: {game.get_total_reward()}', end='')\n",
    "        clear_output(wait=True)\n",
    "        sleep(2)\n",
    "\n",
    "    game.close()\n",
    "    \n",
    "init_scenario(game, 'deadly_corridor') # change playing scenario"
   ]
  },
  {
   "cell_type": "markdown",
   "metadata": {},
   "source": [
    "## Preprocess Frame"
   ]
  },
  {
   "cell_type": "code",
   "execution_count": 9,
   "metadata": {
    "collapsed": true
   },
   "outputs": [],
   "source": [
    "def preprocess_frame(frame):\n",
    "    \n",
    "    # crop the screen (remove part that contains no information)\n",
    "    cropped_frame = frame[15:-5, 20:-20]\n",
    "    \n",
    "    # normalize pixel values\n",
    "    normalized_frame = cropped_frame/ 255.0\n",
    "    \n",
    "    # resize the crop frame\n",
    "    preprocesed_frame = transform.resize(cropped_frame, [100, 120])\n",
    "    \n",
    "    return preprocess_frame"
   ]
  },
  {
   "cell_type": "code",
   "execution_count": 10,
   "metadata": {
    "collapsed": true
   },
   "outputs": [],
   "source": [
    "stack_size = 4\n",
    "stacked_frames = deque([np.zeros((100, 200), dtype=np.int) for _ in range(stack_size)], maxlen=4)"
   ]
  },
  {
   "cell_type": "code",
   "execution_count": 11,
   "metadata": {
    "collapsed": true
   },
   "outputs": [],
   "source": [
    "def stack_frames(stacked_frames, state, is_new_episode):\n",
    "    \n",
    "    # preprocess frame\n",
    "    frame = preprocess_frame(state)\n",
    "    \n",
    "    if is_new_episode:\n",
    "        \n",
    "        # clear out the stacked frames\n",
    "        stacked_frames = deque([np.zeros((100, 120), dtype=np.int) for _ in range(stack_size)], maxlen=4)\n",
    "        \n",
    "        # since in a new episode, copy the same frame 4x\n",
    "        stacked_frames.append(frame)\n",
    "        stacked_frames.append(frame)\n",
    "        stacked_frames.append(frame)\n",
    "        stacked_frames.append(frame)\n",
    "        \n",
    "        # stack the frames\n",
    "        stacked_state = np.stack(stacked_frames, axis=2)\n",
    "        \n",
    "    else:\n",
    "        \n",
    "        # append frame to deque automatically removes the oldest frame\n",
    "        stacked_frames.append(frame)\n",
    "        \n",
    "        # build the stacked state (first dimension specifies different frames)\n",
    "        stacked_state = np.stack(stacked_frames, axis=2)\n",
    "        \n",
    "    return stacked_state, stacked_frames"
   ]
  },
  {
   "cell_type": "markdown",
   "metadata": {},
   "source": [
    "## Build DQN Architecture"
   ]
  },
  {
   "cell_type": "code",
   "execution_count": 12,
   "metadata": {
    "collapsed": true
   },
   "outputs": [],
   "source": [
    "class DQN(nn.Module):\n",
    "    \"\"\"Define DQN architecture.\"\"\"\n",
    "    \n",
    "    def __init__(self):\n",
    "        \"\"\"Initialize parameters and build model.\"\"\"\n",
    "        \n",
    "        super(DQN, self).__init__()\n",
    "        \n",
    "        self.relu = nn.ReLU()\n",
    "        self.conv1_layer = nn.Conv2d(in_channels=3, out_channels=64, kernel_size=6, stride=2, padding=2)\n",
    "        \n",
    "        self.conv2_1_layer = nn.Conv2d(in_channels=64, out_channels=64, kernel_size=3, stride=1, padding=1)\n",
    "        self.conv2_2_layer = nn.Conv2d(in_channels=64, out_channels=64, kernel_size=3, stride=1, padding=1)\n",
    "        \n",
    "        self.conv3_layer = nn.Conv2d(in_channels=64, out_channels=64, kernel_size=6, stride=2, padding=2)\n",
    "        \n",
    "        self.conv4_1_later = nn.Conv2d(in_channels=64, out_channels=64, kernel_size=3, stride=1, padding=1)\n",
    "        self.conv4_2_later = nn.Conv2d(in_channels=64, out_channels=64, kernel_size=3, stride=1, padding=1)\n",
    "        \n",
    "        self.conv5_layer = nn.Conv2d(in_channels=64, out_channels=64, kernel_size=6, stride=2, padding=2)\n",
    "        \n",
    "        self.fc_layer = nn.Linear(8*8*64, 1024)\n",
    "        self.state_layer = nn.Linear(1024, 1)\n",
    "        self.advantage_layer = nn.Linear(1024, 3)\n",
    "        \n",
    "    def forward(self, frame):\n",
    "        \n",
    "        x = self.relu(self.conv1_layer(frame))\n",
    "        y = self.relu(self.conv2_1_layer(x))\n",
    "        y = self.conv2_2_layer(y)\n",
    "        \n",
    "        x = self.relu(x + y)\n",
    "        \n",
    "        x = self.relu(self.conv3_layer(x))\n",
    "        y = self.relu(self.conv4_1_later(x))\n",
    "        y = self.conv4_2_later(y)\n",
    "        \n",
    "        x = self.relu(x + y)\n",
    "        \n",
    "        x = self.relu(self.conv5_layer(x))\n",
    "        x = self.relu(self.fc_layer(x.view(x.size(0), -1)))\n",
    "        \n",
    "        state_value = self.state_layer(x)\n",
    "        advantage_value = self.advantage_layer(x)\n",
    "        \n",
    "        Qsa = state_value + advantage_value - torch.mean(advantage_value, dim=1, keepdim=True)\n",
    "        \n",
    "        return Qsa"
   ]
  },
  {
   "cell_type": "markdown",
   "metadata": {},
   "source": [
    "## Set Replay Buffer"
   ]
  },
  {
   "cell_type": "code",
   "execution_count": 13,
   "metadata": {},
   "outputs": [],
   "source": [
    "class ReplayBuffer(object):\n",
    "    \"\"\"Fixed-size buffer to store experience tuples.\"\"\"\n",
    "    \n",
    "    def __init__(self, action_size, buffer_size, batch_size, seed):\n",
    "        \"\"\"Initialize a ReplayMemory object.\"\"\"\n",
    "        \n",
    "        self.experience = namedtuple(\"Experience\", field_names=[\"state\", \"action\", \"reward\", \"next_state\", \"done\"])\n",
    "        self.seed = random.seed(seed)\n",
    "        \n",
    "        self.action_size = action_size\n",
    "        self.memory = deque(maxlen=buffer_size)\n",
    "        self.batch_size = batch_size\n",
    "\n",
    "    def add(self, state, action, reward, next_state, done):\n",
    "        \"\"\"Add a new experience to buffer.\"\"\"\n",
    "        \n",
    "        self.memory.append(self.experience(state, action, reward, next_state, done))\n",
    "        \n",
    "    def sample(self):\n",
    "        \"\"\"Randomly sample a batch of experiences from memory.\"\"\"\n",
    "        experiences = random.sample(self.memory, k=self.batch_size)\n",
    "        \n",
    "        states = torch.from_numpy(np.vstack([exp.state for exp in experiences if exp is not None])).float()\n",
    "        states = states.to(device)\n",
    "        \n",
    "        actions = torch.from_numpy(np.vstack([exp.action for exp in experiences if exp is not None])).long()\n",
    "        actions = actions.to(device)\n",
    "        \n",
    "        rewards = torch.from_numpy(np.vstack([exp.reward for exp in experiences if exp is not None])).float()\n",
    "        rewards = rewards.to(device)\n",
    "        \n",
    "        next_states = torch.from_numpy(np.vstack([exp.next_state for exp in experiences if exp is not None])).float()\n",
    "        next_states = next_states.to(device)\n",
    "        \n",
    "        dones = torch.from_numpy(np.vstack([exp.done for exp in experiences if exp is not None]).astype(np.uint8)).float()\n",
    "        dones = dones.to(device)\n",
    "        \n",
    "        return (states, actions, rewards, next_states, dones)\n",
    "        \n",
    "    def __len__(self):\n",
    "        \"\"\"Return the current size of internal memory.\"\"\"\n",
    "        return len(self.memory)"
   ]
  },
  {
   "cell_type": "markdown",
   "metadata": {},
   "source": [
    "## Define CNN DQN Agent"
   ]
  },
  {
   "cell_type": "code",
   "execution_count": 14,
   "metadata": {
    "collapsed": true
   },
   "outputs": [],
   "source": [
    "class CNN_DQNAgent():\n",
    "    \"\"\"The agent interacting with and learning from the environment.\"\"\"\n",
    "    \n",
    "    def __init__(self, state_size, action_size, seed):\n",
    "        \"\"\"Initialize an agent object.\"\"\"\n",
    "        pass"
   ]
  },
  {
   "cell_type": "markdown",
   "metadata": {},
   "source": [
    "---"
   ]
  }
 ],
 "metadata": {
  "kernelspec": {
   "display_name": "Python 3",
   "language": "python",
   "name": "python3"
  },
  "language_info": {
   "codemirror_mode": {
    "name": "ipython",
    "version": 3
   },
   "file_extension": ".py",
   "mimetype": "text/x-python",
   "name": "python",
   "nbconvert_exporter": "python",
   "pygments_lexer": "ipython3",
   "version": "3.6.3"
  }
 },
 "nbformat": 4,
 "nbformat_minor": 2
}
