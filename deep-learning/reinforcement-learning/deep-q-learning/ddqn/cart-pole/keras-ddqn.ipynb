{
 "cells": [
  {
   "cell_type": "markdown",
   "metadata": {},
   "source": [
    "# Double Deep Q-Network"
   ]
  },
  {
   "cell_type": "code",
   "execution_count": 1,
   "metadata": {
    "collapsed": true
   },
   "outputs": [],
   "source": [
    "import os\n",
    "import random\n",
    "import numpy as np\n",
    "import matplotlib.pyplot as plt\n",
    "from time import sleep\n",
    "from IPython.display import clear_output\n",
    "from collections import deque\n",
    "\n",
    "import gym\n",
    "import warnings\n",
    "warnings.filterwarnings('ignore')"
   ]
  },
  {
   "cell_type": "code",
   "execution_count": 2,
   "metadata": {},
   "outputs": [
    {
     "name": "stderr",
     "output_type": "stream",
     "text": [
      "Using TensorFlow backend.\n"
     ]
    }
   ],
   "source": [
    "import keras\n",
    "from keras.models import Model, load_model\n",
    "from keras.layers import Input, Dense\n",
    "from keras.optimizers import Adam, RMSprop"
   ]
  },
  {
   "cell_type": "code",
   "execution_count": 3,
   "metadata": {
    "collapsed": true
   },
   "outputs": [],
   "source": [
    "plt.style.use('ggplot')"
   ]
  },
  {
   "cell_type": "markdown",
   "metadata": {},
   "source": [
    "## Set Environment"
   ]
  },
  {
   "cell_type": "code",
   "execution_count": 4,
   "metadata": {},
   "outputs": [
    {
     "name": "stdout",
     "output_type": "stream",
     "text": [
      "\u001b[33mWARN: gym.spaces.Box autodetected dtype as <class 'numpy.float32'>. Please provide explicit dtype.\u001b[0m\n"
     ]
    }
   ],
   "source": [
    "ENV_NAME = 'CartPole-v0'\n",
    "env = gym.make(ENV_NAME).unwrapped; env.seed(90);"
   ]
  },
  {
   "cell_type": "code",
   "execution_count": 5,
   "metadata": {},
   "outputs": [
    {
     "name": "stdout",
     "output_type": "stream",
     "text": [
      "Environment Display:\n",
      "State space Box(4,)\n",
      "Action space Discrete(2)\n"
     ]
    }
   ],
   "source": [
    "print('Environment Display:')\n",
    "env.reset() # reset environment to a new, random state\n",
    "# env.render()\n",
    "\n",
    "print('State space {}'.format(env.observation_space))\n",
    "print('Action space {}'.format(env.action_space))"
   ]
  },
  {
   "cell_type": "markdown",
   "metadata": {},
   "source": [
    "## Build DQN Architecture"
   ]
  },
  {
   "cell_type": "code",
   "execution_count": 6,
   "metadata": {
    "collapsed": true
   },
   "outputs": [],
   "source": [
    "def DQN(state_size, action_size):\n",
    "    \n",
    "    x_input = Input(state_size)\n",
    "    x = Dense(512, input_shape=state_size, activation='relu', kernel_initializer='he_uniform')(x_input)\n",
    "    x = Dense(256, activation='relu', kernel_initializer='he_uniform')(x)\n",
    "    x = Dense(64, activation='relu', kernel_initializer='he_uniform')(x)\n",
    "    x = Dense(action_size, activation=\"linear\", kernel_initializer='he_uniform')(x)\n",
    "    \n",
    "    model = Model(inputs=x_input, outputs=x, name='CartPole-DDQN model')\n",
    "    model.compile(loss=\"mean_squared_error\", optimizer=RMSprop(lr=25e-5, rho=0.95, epsilon=0.01), metrics=[\"accuracy\"])\n",
    "\n",
    "    model.summary()\n",
    "    return model"
   ]
  },
  {
   "cell_type": "markdown",
   "metadata": {},
   "source": [
    "## Define DDQN Agent"
   ]
  },
  {
   "cell_type": "code",
   "execution_count": 7,
   "metadata": {
    "collapsed": true
   },
   "outputs": [],
   "source": [
    "class DDQNAgent():\n",
    "    \"\"\"The agent interacting with and learning from the environment.\"\"\"\n",
    "    \n",
    "    def __init__(self, env_name, state_size, action_size, seed):\n",
    "        \"\"\"Initialize an agent object.\"\"\"\n",
    "        \n",
    "        self.env = gym.make(env_name).unwrapped\n",
    "        self.env.max_episode_steps = 500 # set by openai's gym\n",
    "        \n",
    "        self.state_size = state_size\n",
    "        self.action_size = action_size\n",
    "        self.seed = random.seed(seed)\n",
    "        self.num_episodes = 1000\n",
    "        self.memory = deque(maxlen=2000)\n",
    "        \n",
    "        self.gamma = 0.95\n",
    "        self.epsilon = 1.0\n",
    "        self.epsilon_min = 0.01\n",
    "        self.epsilon_decay = 0.999\n",
    "        self.batch_size = 64\n",
    "        self.train_start = 1000\n",
    "        \n",
    "        self.tau = 0.1\n",
    "        \n",
    "        # init variables for ploting training process\n",
    "        self.scores, self.episodes, self.average = [], [], []\n",
    "        \n",
    "        # create main model\n",
    "        self.dqn_model = DQN(state_size=(self.state_size,), action_size=self.action_size)\n",
    "        self.target_model = DQN(state_size=(self.state_size,), action_size=self.action_size)\n",
    "        \n",
    "    def memorize(self, state, action, reward, next_state, done):\n",
    "        \"\"\"Save experience tuples in replay memory.\"\"\"\n",
    "        \n",
    "        self.memory.append((state, action, reward, next_state, done))\n",
    "        if len(self.memory) > self.train_start:\n",
    "            if self.epsilon > self.epsilon_min:\n",
    "                self.epsilon *= self.epsilon_decay\n",
    "                \n",
    "    def replay(self):\n",
    "        \n",
    "        if len(self.memory) < self.train_start: return\n",
    "        \n",
    "        # randomly sample mini-batch from the memory\n",
    "        batch = random.sample(self.memory, min(self.batch_size, self.batch_size))\n",
    "        \n",
    "        state = np.zeros((self.batch_size, self.state_size))\n",
    "        next_state = np.zeros((self.batch_size, self.state_size))\n",
    "        action, reward, done = [], [], []\n",
    "        \n",
    "        for i_batch in range(self.batch_size):\n",
    "            state[i_batch] = batch[i_batch][0]\n",
    "            action.append(batch[i_batch][1])\n",
    "            reward.append(batch[i_batch][2])\n",
    "            next_state[i_batch] = batch[i_batch][3]\n",
    "            done.append(batch[i_batch][4])\n",
    "            \n",
    "        # do batch prediction to save speed\n",
    "        Q_target = self.dqn_model.predict(state) # init Q target\n",
    "        Qsa_next = self.dqn_model.predict(next_state) # no fixed Q-target concept\n",
    "        Qsa_eval = self.target_model.predict(next_state)\n",
    "        \n",
    "        for i_batch in range(len(batch)):\n",
    "            # correction on the Q value for the action used\n",
    "            if done[i_batch]:\n",
    "                Q_target[i_batch][action[i_batch]] = reward[i_batch]\n",
    "            else:\n",
    "                # current Q Network selects the action\n",
    "                # a'_max = argmax_a' Q(s', a')\n",
    "                action_max = np.argmax(Qsa_next[i_batch])\n",
    "                \n",
    "                # target Q Network evaluates the action\n",
    "                # Q_max = Q_target(s', a'_max)\n",
    "                Q_target[i_batch][action[i_batch]] = reward[i_batch] + self.gamma * (Qsa_eval[i_batch][action_max])\n",
    "                \n",
    "        # train the neural network with batches that will predict Q value\n",
    "        self.dqn_model.fit(state, Q_target, batch_size=self.batch_size, verbose=0)\n",
    "    \n",
    "    # after some time interval, update the target model to be same with model\n",
    "    def soft_update_target_model(self):\n",
    "    \n",
    "        Q_model_theta = self.dqn_model.get_weights()\n",
    "        target_model_theta = self.target_model.get_weights()\n",
    "        counter = 0\n",
    "        \n",
    "        for Q_weight, target_weight in zip(Q_model_theta, target_model_theta):\n",
    "            target_weight = target_weight * (1-self.tau) + Q_weight * self.tau\n",
    "            target_model_theta[counter] = target_weight\n",
    "            counter += 1\n",
    "        self.target_model.set_weights(target_model_theta)\n",
    "    \n",
    "    def act(self, state):\n",
    "        \"\"\"Returns actions for given state as per current policy.\"\"\"\n",
    "        \n",
    "        if np.random.random() <= self.epsilon:\n",
    "            action = random.randrange(self.action_size)\n",
    "            return action\n",
    "        else:\n",
    "            action = np.argmax(self.dqn_model.predict(state))\n",
    "            return action\n",
    "        \n",
    "    def save(self, agent_location):\n",
    "        self.dqn_model.save(agent_location)\n",
    "        \n",
    "    def load(self, agent_location):\n",
    "        self.dqn_model = load_model(agent_location)\n",
    "    \n",
    "    plt.figure(figsize=(10, 5))\n",
    "    def plot_model(self, score, episode):\n",
    "        \n",
    "        score = min(self.env.max_episode_steps*2, score) # clipping score if too high for the sake of plotting\n",
    "        self.scores.append(score)\n",
    "        self.episodes.append(episode)\n",
    "        self.average.append(sum(self.scores) / len(self.scores))\n",
    "        \n",
    "        plt.plot(self.episodes, self.scores, 'green')\n",
    "        plt.plot(self.episodes, self.average, 'red')\n",
    "        plt.title('Double Deep Q-Network')\n",
    "        plt.xlabel('Number of episodes', fontsize=14)\n",
    "        plt.ylabel('Total scores', fontsize=14)\n",
    "        \n",
    "        plt.show()\n",
    "        \n",
    "        return str(self.average[-1])[:5]\n",
    "        \n",
    "    def train(self):\n",
    "        \n",
    "        best_score = -np.inf\n",
    "        for i_episode in range(1, self.num_episodes+1):\n",
    "            \n",
    "            state = self.env.reset()\n",
    "            state = np.reshape(state, [1, self.state_size])\n",
    "            done = False\n",
    "            \n",
    "            score = 0\n",
    "            while not done:\n",
    "                # self.env.render()\n",
    "                action = self.act(state)\n",
    "                next_state, reward, done, _ = self.env.step(action)\n",
    "                next_state = np.reshape(next_state, [1, self.state_size])\n",
    "                if not done or score == self.env.max_episode_steps-1:\n",
    "                    reward = reward\n",
    "                else:\n",
    "                    reward = -100\n",
    "                    \n",
    "                self.memorize(state, action, reward, next_state, done)\n",
    "                state = next_state\n",
    "                \n",
    "                score += 1\n",
    "                if done:\n",
    "                    clear_output(wait=True)\n",
    "                    \n",
    "                    # every step softly update target model\n",
    "                    self.soft_update_target_model()\n",
    "                    \n",
    "                    # every episode, plot the result\n",
    "                    average = self.plot_model(score, i_episode)\n",
    "                    \n",
    "                    print(f'Episode: {i_episode}/{self.num_episodes}, Best Score: {best_score}, Average Score: {average}, Epsilon: {self.epsilon:.2}')\n",
    "                    \n",
    "                    if score > best_score:\n",
    "                        best_score = score\n",
    "                        if best_score > self.env.max_episode_steps:\n",
    "                            \n",
    "                            print(f'Episode: {i_episode}/{self.num_episodes}, Best Score: {best_score}, Average Score: {average}, Epsilon: {self.epsilon:.2}')\n",
    "                            \n",
    "                            print(f'Saving trained agent as DDQN_{ENV_NAME}.h5')\n",
    "                            if not os.path.exists('./agents/'): os.makedirs('./agents/')\n",
    "                            self.save(f'./agents/DDQN_{ENV_NAME}.h5')\n",
    "                            continue\n",
    "                    \n",
    "                self.replay()\n",
    "    \n",
    "    def watch(self, num_episodes):\n",
    "        \n",
    "        print('Start watching...')\n",
    "        self.load(f'./agents/DDQN_{ENV_NAME}.h5')\n",
    "        best_score = -np.inf\n",
    "        for i_episode in range(1, num_episodes+1):\n",
    "            \n",
    "            state = self.env.reset()\n",
    "            state = np.reshape(state, [1, self.state_size])\n",
    "            done = False\n",
    "            \n",
    "            score = 0\n",
    "            while not done:\n",
    "                \n",
    "                # self.env.render()\n",
    "                action = np.argmax(self.dqn_model.predict(state))\n",
    "                next_state, reward, done, _ = self.env.step(action)\n",
    "                \n",
    "                score += 1\n",
    "                if score > best_score: best_score = score\n",
    "                state = np.reshape(next_state, [1, self.state_size])\n",
    "                if done:\n",
    "                    clear_output(wait=True)\n",
    "                    print(f'Episode: {i_episode}/{num_episodes}, Best Score: {best_score}', end='')\n",
    "                    break\n",
    "                    \n",
    "        env.close()"
   ]
  },
  {
   "cell_type": "code",
   "execution_count": 8,
   "metadata": {},
   "outputs": [
    {
     "name": "stdout",
     "output_type": "stream",
     "text": [
      "\u001b[33mWARN: gym.spaces.Box autodetected dtype as <class 'numpy.float32'>. Please provide explicit dtype.\u001b[0m\n",
      "_________________________________________________________________\n",
      "Layer (type)                 Output Shape              Param #   \n",
      "=================================================================\n",
      "input_1 (InputLayer)         (None, 4)                 0         \n",
      "_________________________________________________________________\n",
      "dense_1 (Dense)              (None, 512)               2560      \n",
      "_________________________________________________________________\n",
      "dense_2 (Dense)              (None, 256)               131328    \n",
      "_________________________________________________________________\n",
      "dense_3 (Dense)              (None, 64)                16448     \n",
      "_________________________________________________________________\n",
      "dense_4 (Dense)              (None, 2)                 130       \n",
      "=================================================================\n",
      "Total params: 150,466\n",
      "Trainable params: 150,466\n",
      "Non-trainable params: 0\n",
      "_________________________________________________________________\n",
      "_________________________________________________________________\n",
      "Layer (type)                 Output Shape              Param #   \n",
      "=================================================================\n",
      "input_2 (InputLayer)         (None, 4)                 0         \n",
      "_________________________________________________________________\n",
      "dense_5 (Dense)              (None, 512)               2560      \n",
      "_________________________________________________________________\n",
      "dense_6 (Dense)              (None, 256)               131328    \n",
      "_________________________________________________________________\n",
      "dense_7 (Dense)              (None, 64)                16448     \n",
      "_________________________________________________________________\n",
      "dense_8 (Dense)              (None, 2)                 130       \n",
      "=================================================================\n",
      "Total params: 150,466\n",
      "Trainable params: 150,466\n",
      "Non-trainable params: 0\n",
      "_________________________________________________________________\n"
     ]
    }
   ],
   "source": [
    "agent = DDQNAgent(env_name='CartPole-v1', \n",
    "                  state_size=env.observation_space.shape[0], action_size=env.action_space.n, seed=90)"
   ]
  },
  {
   "cell_type": "code",
   "execution_count": 9,
   "metadata": {
    "collapsed": true
   },
   "outputs": [],
   "source": [
    "# watch an untrained agent\n",
    "state = env.reset()\n",
    "for time_step in range(200):\n",
    "    \n",
    "    # select an action\n",
    "    action = agent.act(state)\n",
    "    # env.render()\n",
    "    \n",
    "    next_state, reward, done, _ = env.step(action)\n",
    "    state = next_state\n",
    "    if done:\n",
    "        break\n",
    "\n",
    "env.close()"
   ]
  },
  {
   "cell_type": "markdown",
   "metadata": {},
   "source": [
    "## Train The Agent"
   ]
  },
  {
   "cell_type": "code",
   "execution_count": 10,
   "metadata": {
    "scrolled": true
   },
   "outputs": [
    {
     "data": {
      "image/png": "[encoded data removed]",
      "text/plain": [
       "<matplotlib.figure.Figure at 0x1823ffef28>"
      ]
     },
     "metadata": {},
     "output_type": "display_data"
    },
    {
     "name": "stdout",
     "output_type": "stream",
     "text": [
      "Episode: 1000/1000, Best Score: 559, Average Score: 158.9, Epsilon: 0.01\n"
     ]
    }
   ],
   "source": [
    "agent.train()"
   ]
  },
  {
   "cell_type": "markdown",
   "metadata": {},
   "source": [
    "## Evaluate The Agent"
   ]
  },
  {
   "cell_type": "code",
   "execution_count": 11,
   "metadata": {},
   "outputs": [
    {
     "data": {
      "image/png": "[encoded data removed]",
      "text/plain": [
       "<matplotlib.figure.Figure at 0x1824438358>"
      ]
     },
     "metadata": {},
     "output_type": "display_data"
    }
   ],
   "source": [
    "plt.figure(figsize=(12, 7))\n",
    "# plt.plot(agent.episodes, agent.scores, 'green')\n",
    "plt.plot(agent.episodes, agent.average, 'red')\n",
    "plt.title('Double Deep Q-Network')\n",
    "plt.xlabel('Number of episodes', fontsize=12)\n",
    "plt.ylabel('Total scores', fontsize=12)\n",
    "if not os.path.exists('./images/'): os.makedirs('./images/')\n",
    "plt.savefig('./images/plot_of_training_result_average_nn_ddqn.png')\n",
    "\n",
    "plt.show()"
   ]
  },
  {
   "cell_type": "markdown",
   "metadata": {},
   "source": [
    "## 🎬 Watch The Smart Agent"
   ]
  },
  {
   "cell_type": "code",
   "execution_count": 12,
   "metadata": {
    "collapsed": true
   },
   "outputs": [],
   "source": [
    "agent.load(f'./agents/DDQN_{ENV_NAME}.h5')"
   ]
  },
  {
   "cell_type": "code",
   "execution_count": 13,
   "metadata": {},
   "outputs": [
    {
     "name": "stdout",
     "output_type": "stream",
     "text": [
      "Episode: 10/10, Best Score: 254"
     ]
    }
   ],
   "source": [
    "agent.watch(num_episodes=10)"
   ]
  },
  {
   "cell_type": "markdown",
   "metadata": {},
   "source": [
    "---"
   ]
  }
 ],
 "metadata": {
  "kernelspec": {
   "display_name": "Python 3",
   "language": "python",
   "name": "python3"
  },
  "language_info": {
   "codemirror_mode": {
    "name": "ipython",
    "version": 3
   },
   "file_extension": ".py",
   "mimetype": "text/x-python",
   "name": "python",
   "nbconvert_exporter": "python",
   "pygments_lexer": "ipython3",
   "version": "3.6.3"
  }
 },
 "nbformat": 4,
 "nbformat_minor": 2
}
