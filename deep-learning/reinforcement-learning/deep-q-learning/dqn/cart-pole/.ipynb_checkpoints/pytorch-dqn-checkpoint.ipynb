{
 "cells": [
  {
   "cell_type": "markdown",
   "metadata": {},
   "source": [
    "# DQN, Deep Q Learning"
   ]
  },
  {
   "cell_type": "code",
   "execution_count": null,
   "metadata": {
    "collapsed": true
   },
   "outputs": [],
   "source": [
    "import os\n",
    "import math\n",
    "import random\n",
    "import numpy as np\n",
    "import matplotlib\n",
    "import matplotlib.pyplot as plt\n",
    "\n",
    "from collections import namedtuple\n",
    "from itertools import count\n",
    "from PIL import Image"
   ]
  },
  {
   "cell_type": "code",
   "execution_count": null,
   "metadata": {},
   "outputs": [],
   "source": [
    "import gym\n",
    "import torch\n",
    "import torch.nn as nn\n",
    "import torch.optim as optim\n",
    "import torch.nn.functional as F\n",
    "import torchvision.transforms as T"
   ]
  },
  {
   "cell_type": "code",
   "execution_count": null,
   "metadata": {
    "collapsed": true
   },
   "outputs": [],
   "source": [
    "import warnings\n",
    "warnings.simplefilter('ignore', UserWarning)"
   ]
  },
  {
   "cell_type": "code",
   "execution_count": null,
   "metadata": {
    "collapsed": true
   },
   "outputs": [],
   "source": [
    "plt.style.use('ggplot')"
   ]
  },
  {
   "cell_type": "markdown",
   "metadata": {},
   "source": [
    "## Set Configs"
   ]
  },
  {
   "cell_type": "code",
   "execution_count": null,
   "metadata": {
    "collapsed": true
   },
   "outputs": [],
   "source": [
    "is_ipython = 'inline' in matplotlib.get_backend()\n",
    "if is_ipython: from IPython import display\n",
    "    \n",
    "plt.ion()"
   ]
  },
  {
   "cell_type": "code",
   "execution_count": null,
   "metadata": {
    "collapsed": true
   },
   "outputs": [],
   "source": [
    "is_cuda = torch.cuda.is_available()\n",
    "\n",
    "if is_cuda: device = torch.device('cuda')\n",
    "else: device = torch.device('cpu')"
   ]
  },
  {
   "cell_type": "code",
   "execution_count": null,
   "metadata": {
    "collapsed": true
   },
   "outputs": [],
   "source": [
    "MEMORY_SIZE = int(1e4)\n",
    "BATCH_SIZE = 128\n",
    "GAMMA = 0.999\n",
    "EPS_START = 0.9\n",
    "EPS_END = 0.05\n",
    "EPS_DECAY = 200\n",
    "TARGET_UPDATE = 10"
   ]
  },
  {
   "cell_type": "markdown",
   "metadata": {},
   "source": [
    "## Set Environment"
   ]
  },
  {
   "cell_type": "code",
   "execution_count": null,
   "metadata": {},
   "outputs": [],
   "source": [
    "ENV_NAME = 'CartPole-v0'\n",
    "env = gym.make(ENV_NAME).unwrapped; env.seed(90);"
   ]
  },
  {
   "cell_type": "code",
   "execution_count": null,
   "metadata": {},
   "outputs": [],
   "source": [
    "print('Environment Display:')\n",
    "env.reset() # reset environment to a new, random state\n",
    "env.render()\n",
    "\n",
    "print('State space {}'.format(env.observation_space))\n",
    "print('Action space {}'.format(env.action_space))"
   ]
  },
  {
   "cell_type": "markdown",
   "metadata": {},
   "source": [
    "## Build DQN Architecture"
   ]
  },
  {
   "cell_type": "code",
   "execution_count": null,
   "metadata": {},
   "outputs": [],
   "source": [
    "class DQN(nn.Module):\n",
    "    \"\"\"Define DQN architecture.\"\"\"\n",
    "    \n",
    "    def __init__(self, height, width, action_size):\n",
    "        \"\"\"Initialize parameters and build model.\"\"\"\n",
    "            \n",
    "        super(DQN, self).__init__()\n",
    "        \n",
    "        # CNN will take in the difference between the current and previous screen patches\n",
    "        self.conv1 = nn.Conv2d(3, 16, kernel_size=5, stride=2)\n",
    "        self.bn1 = nn.BatchNorm2d(16)\n",
    "        \n",
    "        self.conv2 = nn.Conv2d(16, 32, kernel_size=5, stride=2)\n",
    "        self.bn2 = nn.BatchNorm2d(32)\n",
    "        \n",
    "        self.conv3 = nn.Conv2d(32, 32, kernel_size=5, stride=2)\n",
    "        self.bn3 = nn.BatchNorm2d(32)\n",
    "        \n",
    "        # number of linear input connections depends on output of conv2d layers\n",
    "        # and therefore the input image size, so compute it\n",
    "        def conv2d_size_outputs(size, kernel_size=5, stride=2):\n",
    "            return (size - (kernel_size - 1) - 1) // stride + 1\n",
    "        \n",
    "        convw = conv2d_size_outputs(conv2d_size_outputs(conv2d_size_outputs(width)))\n",
    "        convh = conv2d_size_outputs(conv2d_size_outputs(conv2d_size_outputs(height)))\n",
    "        linear_input_size = convw * convh * 32\n",
    "        self.head = nn.Linear(linear_input_size, action_size)\n",
    "\n",
    "    # the network will be inputted by state\n",
    "    def forward(self, state):\n",
    "        \"\"\"Build a network that maps state into action values.\"\"\"\n",
    "        \n",
    "        state = F.relu(self.bn1(self.conv1(state)))\n",
    "        state = F.relu(self.bn2(self.conv2(state)))\n",
    "        state = F.relu(self.bn3(self.conv3(state)))\n",
    "        \n",
    "        # this will output Q(s,left) and Q(s,right) (where s is the input to the network) [left0exp,right0exp]\n",
    "        Qsa = self.head(state.view(state.size(0), -1))\n",
    "        \n",
    "        return Qsa"
   ]
  },
  {
   "cell_type": "markdown",
   "metadata": {},
   "source": [
    "## Set Replay Memory"
   ]
  },
  {
   "cell_type": "code",
   "execution_count": null,
   "metadata": {
    "collapsed": true
   },
   "outputs": [],
   "source": [
    "Transition = namedtuple('Transition', \n",
    "                       ('state', 'action', 'next_state', 'reward'))"
   ]
  },
  {
   "cell_type": "code",
   "execution_count": null,
   "metadata": {
    "collapsed": true
   },
   "outputs": [],
   "source": [
    "# a method for selecting a random batch of transitions for training\n",
    "class ReplayMemory(object):\n",
    "    \"\"\"Fixed-size memory to store experience tuples.\"\"\"\n",
    "    \n",
    "    def __init__(self, capacity):\n",
    "        \n",
    "        self.capacity = capacity\n",
    "        self.memory = []\n",
    "        self.position = 0\n",
    "        \n",
    "    # *args filled by state, action, next_state and reward variables\n",
    "    def push(self, *args):\n",
    "        \"\"\"Add a new experience to memory.\"\"\"\n",
    "        \n",
    "        if len(self.memory) < self.capacity:\n",
    "            self.memory.append(None)\n",
    "            \n",
    "        self.memory[self.position] = Transition(*args)\n",
    "        self.position = (self.position + 1) % self.capacity\n",
    "        \n",
    "    def sample(self, batch_size):\n",
    "        \"\"\"Randomly sample a batch of experiences from memory.\"\"\"\n",
    "        return random.sample(self.memory, batch_size)\n",
    "    \n",
    "    def __len__(self):\n",
    "        return len(self.memory)"
   ]
  },
  {
   "cell_type": "code",
   "execution_count": null,
   "metadata": {},
   "outputs": [],
   "source": [
    "memory = ReplayMemory(MEMORY_SIZE) # init capacity"
   ]
  },
  {
   "cell_type": "markdown",
   "metadata": {},
   "source": [
    "## Extract Input"
   ]
  },
  {
   "cell_type": "code",
   "execution_count": null,
   "metadata": {},
   "outputs": [],
   "source": [
    "# using transforms from PyTorch to resize the screen\n",
    "resize = T.Compose([T.ToPILImage(),\n",
    "                    T.Resize(40, interpolation=Image.CUBIC),\n",
    "                    T.ToTensor()])"
   ]
  },
  {
   "cell_type": "code",
   "execution_count": null,
   "metadata": {
    "collapsed": true
   },
   "outputs": [],
   "source": [
    "def get_cart_location(screen_width):\n",
    "    \n",
    "    world_width = env.x_threshold * 2\n",
    "    scale = screen_width / world_width\n",
    "    cart_location = int(env.state[0] * scale + screen_width / 2.0)\n",
    "    \n",
    "    return cart_location"
   ]
  },
  {
   "cell_type": "code",
   "execution_count": null,
   "metadata": {
    "collapsed": true
   },
   "outputs": [],
   "source": [
    "def get_screen():\n",
    "    \n",
    "    # returned screen requested by gym is 800x1200x3, but sometimes smaller or larger\n",
    "    # this will transpose it into torch order (C, H, W)\n",
    "    screen = env.render(mode='rgb_array').transpose((2, 0, 1))\n",
    "    \n",
    "    # cart is in the lower half, so strip off the top and bottom of the screen\n",
    "    _, screen_height, screen_width = screen.shape\n",
    "    screen = screen[:, int(screen_height*0.4): int(screen_height*0.8)]\n",
    "    view_width = int(screen_width * 0.6)\n",
    "    cart_location = get_cart_location(screen_width)\n",
    "    \n",
    "    if cart_location < view_width // 2:\n",
    "        slice_range = slice(view_width)\n",
    "    elif cart_location > (screen_width - view_width // 2):\n",
    "        slice_range = slice(-view_width, None)\n",
    "    else:\n",
    "        slice_range = slice(cart_location - view_width // 2,\n",
    "                            cart_location + view_width // 2)\n",
    "        \n",
    "    # strip off the edges, so that we have a square image centered on a cart\n",
    "    screen = screen[:, :, slice_range]\n",
    "    \n",
    "    # convert to float, rescale, convert to torch tensor\n",
    "    screen = np.ascontiguousarray(screen, dtype=np.float32) / 255\n",
    "    screen = torch.from_numpy(screen)\n",
    "    \n",
    "    # resize and add a batch dimension (B, C, H, W)\n",
    "    return resize(screen).unsqueeze(0).to(device)"
   ]
  },
  {
   "cell_type": "code",
   "execution_count": null,
   "metadata": {},
   "outputs": [],
   "source": [
    "env.reset()\n",
    "plt.figure(figsize=(5,10))\n",
    "plt.imshow(get_screen().cpu().squeeze(0).permute(1, 2, 0).numpy(),\n",
    "           interpolation='none')\n",
    "plt.title('Example of Extracted Screen')\n",
    "plt.axis('off')\n",
    "if not os.path.exists('./images/'): os.makedirs('./images/')\n",
    "plt.savefig('./images/plot_of_cart_pole_env.png')\n",
    "plt.show()"
   ]
  },
  {
   "cell_type": "markdown",
   "metadata": {},
   "source": [
    "## Init Screen"
   ]
  },
  {
   "cell_type": "code",
   "execution_count": 18,
   "metadata": {
    "collapsed": true
   },
   "outputs": [],
   "source": [
    "# get screen size so that we can initialize layers correctly based on the shape\n",
    "init_screen = get_screen()\n",
    "_, _, screen_height, screen_width = init_screen.shape"
   ]
  },
  {
   "cell_type": "markdown",
   "metadata": {},
   "source": [
    "## Initialize DQN"
   ]
  },
  {
   "cell_type": "code",
   "execution_count": 19,
   "metadata": {},
   "outputs": [
    {
     "data": {
      "text/plain": [
       "DQN(\n",
       "  (conv1): Conv2d(3, 16, kernel_size=(5, 5), stride=(2, 2))\n",
       "  (bn1): BatchNorm2d(16, eps=1e-05, momentum=0.1, affine=True, track_running_stats=True)\n",
       "  (conv2): Conv2d(16, 32, kernel_size=(5, 5), stride=(2, 2))\n",
       "  (bn2): BatchNorm2d(32, eps=1e-05, momentum=0.1, affine=True, track_running_stats=True)\n",
       "  (conv3): Conv2d(32, 32, kernel_size=(5, 5), stride=(2, 2))\n",
       "  (bn3): BatchNorm2d(32, eps=1e-05, momentum=0.1, affine=True, track_running_stats=True)\n",
       "  (head): Linear(in_features=512, out_features=2, bias=True)\n",
       ")"
      ]
     },
     "execution_count": 19,
     "metadata": {},
     "output_type": "execute_result"
    }
   ],
   "source": [
    "# get number of actions from gym action space\n",
    "n_actions = env.action_space.n\n",
    "\n",
    "dqn_net = DQN(screen_height, screen_width, n_actions).to(device)\n",
    "target_net = DQN(screen_height, screen_width, n_actions).to(device)\n",
    "target_net.load_state_dict(dqn_net.state_dict())\n",
    "target_net.eval()"
   ]
  },
  {
   "cell_type": "markdown",
   "metadata": {},
   "source": [
    "## Set Optimizer"
   ]
  },
  {
   "cell_type": "code",
   "execution_count": 20,
   "metadata": {
    "collapsed": true
   },
   "outputs": [],
   "source": [
    "optimizer = optim.RMSprop(dqn_net.parameters())"
   ]
  },
  {
   "cell_type": "markdown",
   "metadata": {},
   "source": [
    "## Train DQN"
   ]
  },
  {
   "cell_type": "code",
   "execution_count": 21,
   "metadata": {
    "collapsed": true
   },
   "outputs": [],
   "source": [
    "steps_done = 0\n",
    "\n",
    "# this will select an action accordingly to an epsilon greedy policy\n",
    "def select_action(state):\n",
    "    \n",
    "    global steps_done\n",
    "    \n",
    "    sample = random.random()\n",
    "    eps_threshold = EPS_END + (EPS_START - EPS_END) * math.exp(-1. * steps_done / EPS_DECAY)\n",
    "    steps_done += 1\n",
    "    \n",
    "    if sample > eps_threshold:\n",
    "        with torch.no_grad():\n",
    "            # here the network will pick action with the larger expected reward\n",
    "            action = dqn_net(state).max(1)[1].view(1, 1)\n",
    "            return action\n",
    "    else:\n",
    "        action = torch.tensor([[random.randrange(n_actions)]], dtype=torch.long, device=device)\n",
    "        return action"
   ]
  },
  {
   "cell_type": "code",
   "execution_count": 22,
   "metadata": {
    "collapsed": true
   },
   "outputs": [],
   "source": [
    "episode_durations = []\n",
    "\n",
    "# a helper for plotting the durations of episodes\n",
    "def plot_durations(i_episode, num_episodes):\n",
    "    \n",
    "    plt.figure(2)\n",
    "    plt.clf()\n",
    "    durations_t = torch.tensor(episode_durations, dtype=torch.float)\n",
    "    \n",
    "    plt.title(f'Training Episode: {i_episode}')\n",
    "    plt.xlabel('Episode')\n",
    "    plt.ylabel('Duration')\n",
    "    plt.plot(durations_t.numpy(), color='green')\n",
    "    \n",
    "    # take 100 episode averages and plot them\n",
    "    if len(durations_t) >= 100:\n",
    "        means = durations_t.unfold(0, 100, 1).mean(1).view(-1)\n",
    "        means = torch.cat((torch.zeros(99), means))\n",
    "        plt.plot(means.numpy())\n",
    "    \n",
    "    # pause a bit so that plots are updated\n",
    "    plt.savefig('./images/plot_of_training_result_cnn_dqn.png')\n",
    "    plt.pause(0.001)\n",
    "    \n",
    "    if is_ipython and i_episode is not num_episodes:\n",
    "        display.clear_output(wait=True)\n",
    "        plt.show()\n",
    "    else: return"
   ]
  },
  {
   "cell_type": "code",
   "execution_count": 23,
   "metadata": {
    "collapsed": true
   },
   "outputs": [],
   "source": [
    "# this function first samples a batch, concatenates all the tensors into a single one\n",
    "# then computes Q(st, at) and V(st+1) = maxaQ(st+1, a), and combines them into our loss\n",
    "def optimize_network():\n",
    "    \n",
    "    # this will skip the optimization process if there is no enough memory\n",
    "    if len(memory) < BATCH_SIZE: return\n",
    "    \n",
    "    transitions = memory.sample(BATCH_SIZE)\n",
    "    \n",
    "    # this converts batch-array of transitions to transition of batch-arrays\n",
    "    batch = Transition(*zip(*transitions))\n",
    "    \n",
    "    # compute a mask of non-final states and concatenate the batch elements\n",
    "    non_final_mask = torch.tensor(tuple(map(lambda s: s is not None,\n",
    "                                            batch.next_state)), dtype=torch.uint8, device=device)\n",
    "    non_final_next_states = torch.cat([state for state in batch.next_state if state is not None])\n",
    "    \n",
    "    # concatenate all states, actions and rewards on the batch\n",
    "    state_batch = torch.cat(batch.state)\n",
    "    action_batch = torch.cat(batch.action)\n",
    "    reward_batch = torch.cat(batch.reward)\n",
    "    \n",
    "    # compute V(s_{t+1}) for all next states\n",
    "    next_state_values = torch.zeros(BATCH_SIZE, device=device)\n",
    "    next_state_values[non_final_mask] = target_net(non_final_next_states).max(1)[0].detach()\n",
    "    \n",
    "    # compute Q target\n",
    "    Q_target = reward_batch + (GAMMA * next_state_values)\n",
    "    \n",
    "    # get the expected Q values\n",
    "    # the network computes Q(s_t) then will select the columns of actions (a) taken\n",
    "    # The (a) is the actions which would've been taken for each batch state according to dqn_net\n",
    "    Q_expected = dqn_net(state_batch).gather(1, action_batch)\n",
    "    \n",
    "    # compute huber loss\n",
    "    loss = F.smooth_l1_loss(Q_expected, Q_target.unsqueeze(1))\n",
    "    \n",
    "    # this will perform optimization for the network\n",
    "    optimizer.zero_grad()\n",
    "    loss.backward()\n",
    "    for param in dqn_net.parameters():\n",
    "        param.grad.data.clamp_(-1, 1)\n",
    "    \n",
    "    optimizer.step()"
   ]
  },
  {
   "cell_type": "code",
   "execution_count": 24,
   "metadata": {
    "collapsed": true,
    "scrolled": false
   },
   "outputs": [],
   "source": [
    "def train_network(num_episodes):\n",
    "\n",
    "    for i_episode in range(1, num_episodes+1):\n",
    "\n",
    "        # initialize the environment and state\n",
    "        env.reset()\n",
    "        last_screen = get_screen()\n",
    "        current_screen = get_screen()\n",
    "        state = current_screen - last_screen\n",
    "\n",
    "        for time_step in count():\n",
    "\n",
    "            # select and perform an action using dqn network\n",
    "            action = select_action(state)\n",
    "            _, reward, done, _ = env.step(action.item())\n",
    "            reward = torch.tensor([reward], device=device)\n",
    "\n",
    "            # observe a new state\n",
    "            last_screen = current_screen\n",
    "            current_screen = get_screen()\n",
    "            if not done:\n",
    "                next_state = current_screen - last_screen\n",
    "            else:\n",
    "                next_state = None\n",
    "\n",
    "            # store the transition in memory\n",
    "            memory.push(state, action, next_state, reward)\n",
    "\n",
    "            # move to the next state\n",
    "            state = next_state\n",
    "\n",
    "            # perform one step of the optimization on the target network\n",
    "            optimize_network()\n",
    "\n",
    "            if done:\n",
    "                episode_durations.append(time_step + 1)\n",
    "                plot_durations(i_episode, num_episodes)\n",
    "                break\n",
    "\n",
    "            # update the target network, copying all weights and biases in DQN\n",
    "            if i_episode % TARGET_UPDATE == 0:\n",
    "                target_net.load_state_dict(dqn_net.state_dict())\n",
    "\n",
    "    if not os.path.exists('./agents/'): os.makedirs('./agents/')\n",
    "    torch.save(dqn_net.state_dict(), f'./agents/CNN_DQN_{ENV_NAME}.pth')\n",
    "    print('Training completed.')\n",
    "    env.render()\n",
    "    env.close()\n",
    "    plt.ioff()\n",
    "    plt.show()"
   ]
  },
  {
   "cell_type": "code",
   "execution_count": 25,
   "metadata": {},
   "outputs": [
    {
     "name": "stdout",
     "output_type": "stream",
     "text": [
      "Training completed.\n"
     ]
    }
   ],
   "source": [
    "print('Training the network...')\n",
    "train_network(num_episodes=500)"
   ]
  },
  {
   "cell_type": "markdown",
   "metadata": {},
   "source": [
    "## Watch The Smart Agent"
   ]
  },
  {
   "cell_type": "code",
   "execution_count": 26,
   "metadata": {
    "collapsed": true
   },
   "outputs": [],
   "source": [
    "# load the weights of smart agent\n",
    "dqn_net.load_state_dict(torch.load(f'./agents/CNN_DQN_{ENV_NAME}.pth'));"
   ]
  },
  {
   "cell_type": "code",
   "execution_count": null,
   "metadata": {
    "collapsed": true
   },
   "outputs": [],
   "source": [
    "num_episodes = 20\n",
    "best_score = -np.inf\n",
    "\n",
    "for i_episode in range(1, num_episodes+1):\n",
    "    \n",
    "    env.reset()\n",
    "    last_screen = get_screen()\n",
    "    current_screen = get_screen()\n",
    "    state = current_screen - last_screen\n",
    "    \n",
    "    total_score = 0\n",
    "    \n",
    "    for time_step in count():\n",
    "        \n",
    "        # select an action using the trained dqn network\n",
    "        with torch.no_grad():\n",
    "            action = dqn_net(state).max(1)[1].view(1, 1)\n",
    "        env.render()\n",
    "        \n",
    "        next_state, reward, done, _ = env.step(action.item())\n",
    "        \n",
    "        # observe a new state\n",
    "        last_screen = current_screen\n",
    "        current_screen = get_screen()\n",
    "        if not done:\n",
    "            next_state = current_screen - last_screen\n",
    "        else:\n",
    "            next_state = None\n",
    "                \n",
    "        state = next_state\n",
    "        total_score += reward\n",
    "        if done:\n",
    "            break\n",
    "            \n",
    "    if total_score > best_score: \n",
    "        best_score = total_score\n",
    "        \n",
    "    print(f'\\rEpisode {i_episode}/{num_episodes}, Best Score: {best_score}', end='')  \n",
    "\n",
    "env.close()"
   ]
  },
  {
   "cell_type": "markdown",
   "metadata": {},
   "source": [
    "---"
   ]
  }
 ],
 "metadata": {
  "kernelspec": {
   "display_name": "Python 3",
   "language": "python",
   "name": "python3"
  },
  "language_info": {
   "codemirror_mode": {
    "name": "ipython",
    "version": 3
   },
   "file_extension": ".py",
   "mimetype": "text/x-python",
   "name": "python",
   "nbconvert_exporter": "python",
   "pygments_lexer": "ipython3",
   "version": "3.6.3"
  }
 },
 "nbformat": 4,
 "nbformat_minor": 2
}
