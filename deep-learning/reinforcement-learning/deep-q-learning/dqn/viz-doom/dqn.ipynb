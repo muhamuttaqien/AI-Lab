{
 "cells": [
  {
   "cell_type": "code",
   "execution_count": 1,
   "metadata": {},
   "outputs": [],
   "source": [
    "import os\n",
    "import random\n",
    "import numpy as np\n",
    "import matplotlib.pyplot as plt\n",
    "from time import sleep\n",
    "from IPython.display import clear_output\n",
    "\n",
    "from skimage import transform\n",
    "from collections import deque"
   ]
  },
  {
   "cell_type": "code",
   "execution_count": 2,
   "metadata": {
    "collapsed": true
   },
   "outputs": [],
   "source": [
    "from vizdoom import DoomGame\n",
    "from vizdoom import Button\n",
    "from vizdoom import GameVariable\n",
    "from vizdoom import ScreenFormat\n",
    "from vizdoom import ScreenResolution"
   ]
  },
  {
   "cell_type": "code",
   "execution_count": 3,
   "metadata": {
    "collapsed": true
   },
   "outputs": [],
   "source": [
    "import torch\n",
    "import torch.nn as nn\n",
    "import torch.optim as optim\n",
    "import torch.nn.functional as F\n",
    "import torchvision.transforms as T"
   ]
  },
  {
   "cell_type": "code",
   "execution_count": 4,
   "metadata": {
    "collapsed": true
   },
   "outputs": [],
   "source": [
    "import warnings\n",
    "warnings.filterwarnings('ignore')"
   ]
  },
  {
   "cell_type": "markdown",
   "metadata": {},
   "source": [
    "## Set Configs"
   ]
  },
  {
   "cell_type": "code",
   "execution_count": 5,
   "metadata": {
    "collapsed": true
   },
   "outputs": [],
   "source": [
    "is_cuda = torch.cuda.is_available()\n",
    "\n",
    "if is_cuda: device = torch.device('cuda')\n",
    "else: device = torch.device('cpu')"
   ]
  },
  {
   "cell_type": "markdown",
   "metadata": {},
   "source": [
    "## Set Environment"
   ]
  },
  {
   "cell_type": "code",
   "execution_count": 6,
   "metadata": {
    "collapsed": true
   },
   "outputs": [],
   "source": [
    "game = DoomGame()"
   ]
  },
  {
   "cell_type": "code",
   "execution_count": 7,
   "metadata": {},
   "outputs": [],
   "source": [
    "game.load_config(\"./configs/deadly_corridor.cfg\"); game.set_doom_scenario_path(\"./configs/deadly_corridor.wad\");\n",
    "\n",
    "game.set_screen_resolution(ScreenResolution.RES_640X480)\n",
    "game.set_screen_format(ScreenFormat.RGB24)\n",
    "game.set_render_hud(False)\n",
    "game.set_render_crosshair(False)\n",
    "game.set_render_weapon(True)\n",
    "game.set_render_decals(False)\n",
    "game.set_render_particles(False)\n",
    "game.add_available_button(Button.MOVE_LEFT)\n",
    "game.add_available_button(Button.MOVE_RIGHT)\n",
    "game.add_available_button(Button.ATTACK)\n",
    "game.add_available_game_variable(GameVariable.AMMO2)\n",
    "game.set_episode_timeout(200)\n",
    "game.set_episode_start_time(10)\n",
    "game.set_window_visible(True)\n",
    "game.set_living_reward(-1)"
   ]
  },
  {
   "cell_type": "code",
   "execution_count": 8,
   "metadata": {
    "collapsed": true
   },
   "outputs": [],
   "source": [
    "game.init()"
   ]
  },
  {
   "cell_type": "markdown",
   "metadata": {},
   "source": [
    "## Pre-Process Frame"
   ]
  },
  {
   "cell_type": "code",
   "execution_count": 9,
   "metadata": {
    "collapsed": true
   },
   "outputs": [],
   "source": [
    "def preprocess_frame(frame):\n",
    "    \n",
    "    # crop the screen (remove part that contains no information)\n",
    "    cropped_frame = frame[15:-5, 20:-20]\n",
    "    \n",
    "    # normalize pixel values\n",
    "    normalized_frame = cropped_frame/ 255.0\n",
    "    \n",
    "    # resize the crop frame\n",
    "    preprocesed_frame = transform.resize(cropped_frame, [100, 120])\n",
    "    \n",
    "    return preprocess_frame"
   ]
  },
  {
   "cell_type": "code",
   "execution_count": 10,
   "metadata": {
    "collapsed": true
   },
   "outputs": [],
   "source": [
    "stack_size = 4\n",
    "stacked_frames = deque([np.zeros((100, 200), dtype=np.int) for _ in range(stack_size)], maxlen=4)"
   ]
  },
  {
   "cell_type": "code",
   "execution_count": 11,
   "metadata": {
    "collapsed": true
   },
   "outputs": [],
   "source": [
    "def stack_frames(stacked_frames, state, is_new_episode):\n",
    "    \n",
    "    # preprocess frame\n",
    "    frame = preprocess_frame(state)\n",
    "    \n",
    "    if is_new_episode:\n",
    "        \n",
    "        # clear out the stacked frames\n",
    "        stacked_frames = deque([np.zeros((100, 120), dtype=np.int) for _ in range(stack_size)], maxlen=4)\n",
    "        \n",
    "        # since in a new episode, copy the same frame 4x\n",
    "        stacked_frames.append(frame)\n",
    "        stacked_frames.append(frame)\n",
    "        stacked_frames.append(frame)\n",
    "        stacked_frames.append(frame)\n",
    "        \n",
    "        # stack the frames\n",
    "        stacked_state = np.stack(stacked_frames, axis=2)\n",
    "        \n",
    "    else:\n",
    "        \n",
    "        # append frame to deque automatically removes the oldest frame\n",
    "        stacked_frames.append(frame)\n",
    "        \n",
    "        # build the stacked state (first dimension specifies different frames)\n",
    "        stacked_state = np.stack(stacked_frames, axis=2)\n",
    "        \n",
    "    return stacked_state, stacked_frames"
   ]
  },
  {
   "cell_type": "markdown",
   "metadata": {},
   "source": [
    "---"
   ]
  }
 ],
 "metadata": {
  "kernelspec": {
   "display_name": "Python 3",
   "language": "python",
   "name": "python3"
  },
  "language_info": {
   "codemirror_mode": {
    "name": "ipython",
    "version": 3
   },
   "file_extension": ".py",
   "mimetype": "text/x-python",
   "name": "python",
   "nbconvert_exporter": "python",
   "pygments_lexer": "ipython3",
   "version": "3.6.3"
  }
 },
 "nbformat": 4,
 "nbformat_minor": 2
}
