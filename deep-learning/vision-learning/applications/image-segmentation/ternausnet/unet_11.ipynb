{
 "cells": [
  {
   "cell_type": "markdown",
   "metadata": {},
   "source": [
    "# U-Net (VGG11)"
   ]
  },
  {
   "cell_type": "code",
   "execution_count": 1,
   "metadata": {},
   "outputs": [],
   "source": [
    "import torch\n",
    "import torch.nn as nn\n",
    "import torch.nn.functional as F"
   ]
  },
  {
   "cell_type": "code",
   "execution_count": 2,
   "metadata": {},
   "outputs": [],
   "source": [
    "from sublayers import Conv, Down, Up, OutputConv"
   ]
  },
  {
   "cell_type": "markdown",
   "metadata": {},
   "source": [
    "## Build [U-Net](https://github.com/ternaus/TernausNet/blob/master/unet_models.py) Architecture"
   ]
  },
  {
   "cell_type": "code",
   "execution_count": 3,
   "metadata": {},
   "outputs": [],
   "source": [
    "class UNet_11(nn.Module):\n",
    "    \n",
    "    def __init__(self, num_classes, num_filters=32, pretrained=False):\n",
    "    \n",
    "        super(UNet_11, self).__init__()\n",
    "        self.num_classes = num_classes\n",
    "        self.num_filters = num_filters\n",
    "\n",
    "        self.encoder = models.vgg11(pretrained=pretrained).features\n",
    "        \n",
    "        self.conv1_layer = self.encoder[0]\n",
    "        self.relu = self.encoder[1]\n",
    "        self.conv2_layer = self.encoder[3]\n",
    "        self.conv3s_layer = self.encoder[6]\n",
    "        self.conv3_layer = self.encoder[8]\n",
    "        self.conv4s_layer = self.encoder[11]\n",
    "        self.conv4_layer = self.encoder[13]\n",
    "        self.conv5s_layer = self.encoder[16]\n",
    "        self.conv5_layer = self.encoder[18]\n",
    "        \n",
    "        self.down = Down(kernel_size=2)\n",
    "        \n",
    "        self.bottleneck_layer = Up(num_filters*8*2, num_filters*8*2, num_filters*8)\n",
    "        \n",
    "        self.up1_layer = Up(num_filters*(16+8), num_filters*8*2, num_filters*8)\n",
    "        self.up2_layer = Up(num_filters*(16+8), num_filters*8*2, num_filters*4)\n",
    "        self.up3_layer = Up(num_filters*(8+4), num_filters*4*2, num_filters*2)\n",
    "        self.up4_layer = Up(num_filters*(4+2), num_filters*2*2, num_filters)\n",
    "        self.up5_layer = Conv(num_filters*(2+1), num_filters)\n",
    "        \n",
    "        self.output_layer = OutputConv(num_filters, num_classes)\n",
    "\n",
    "    def forward(self, x):\n",
    "        \n",
    "        x1 = self.relu(self.conv1_layer(x))\n",
    "        x2 = self.relu(self.conv2_layer(self.down(x1)))\n",
    "        x3s = self.relu(self.conv3s_layer(self.down(x2)))\n",
    "        x3 = self.relu(self.conv3_layer(x3s))\n",
    "        x4s = self.relu(self.conv4s_layer(self.down(x3)))\n",
    "        x4 = self.relu(self.conv4_layer(x4s))\n",
    "        x5s = self.relu(self.conv5s_layer(self.down(x4)))\n",
    "        x5 = self.relu(self.conv5_layer(x5s))\n",
    "        \n",
    "        x_bottleneck = self.bottleneck_layer(self.down(x5))\n",
    "        \n",
    "        x = self.up1_layer(torch.cat([x_bottleneckb, x5], 1))\n",
    "        x = self.up2_layer(torch.cat([x, x4], 1))\n",
    "        x = self.up3_layer(torch.cat([x, x3], 1))\n",
    "        x = self.up4_layer(torch.cat([x, x2], 1))\n",
    "        x = self.up5_layer(torch.cat([x, x1], 1))\n",
    "        \n",
    "        logits = self.output_layer(x)\n",
    "        return logits"
   ]
  },
  {
   "cell_type": "markdown",
   "metadata": {},
   "source": [
    "---"
   ]
  }
 ],
 "metadata": {
  "kernelspec": {
   "display_name": "Python 3",
   "language": "python",
   "name": "python3"
  },
  "language_info": {
   "codemirror_mode": {
    "name": "ipython",
    "version": 3
   },
   "file_extension": ".py",
   "mimetype": "text/x-python",
   "name": "python",
   "nbconvert_exporter": "python",
   "pygments_lexer": "ipython3",
   "version": "3.7.3"
  }
 },
 "nbformat": 4,
 "nbformat_minor": 2
}
