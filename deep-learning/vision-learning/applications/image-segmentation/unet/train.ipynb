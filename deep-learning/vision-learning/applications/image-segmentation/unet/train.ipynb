{
 "cells": [
  {
   "cell_type": "markdown",
   "metadata": {},
   "source": [
    "# Train U-Net Network"
   ]
  },
  {
   "cell_type": "code",
   "execution_count": null,
   "metadata": {},
   "outputs": [],
   "source": [
    "import os\n",
    "import sys\n",
    "import time\n",
    "import numpy as np\n",
    "from PIL import Image\n",
    "from matplotlib import pyplot as plt\n",
    "\n",
    "import torch\n",
    "import torch.nn as nn\n",
    "import torch.optim as optim\n",
    "import torchvision.transforms as transforms\n",
    "from torch.optim import lr_scheduler\n",
    "from torch.autograd import Variable\n",
    "from torch.utils.data import Dataset, DataLoader"
   ]
  },
  {
   "cell_type": "code",
   "execution_count": null,
   "metadata": {},
   "outputs": [],
   "source": [
    "from unet import UNet"
   ]
  },
  {
   "cell_type": "code",
   "execution_count": null,
   "metadata": {},
   "outputs": [],
   "source": [
    "from utils import calculate_iou, calculate_acc, moving_average\n",
    "from camvid import CamVid"
   ]
  },
  {
   "cell_type": "code",
   "execution_count": null,
   "metadata": {},
   "outputs": [],
   "source": [
    "plt.style.use('ggplot')"
   ]
  },
  {
   "cell_type": "markdown",
   "metadata": {},
   "source": [
    "## Set Configs"
   ]
  },
  {
   "cell_type": "code",
   "execution_count": null,
   "metadata": {},
   "outputs": [],
   "source": [
    "BATCH_SIZE = 1\n",
    "LR = 1e-1\n",
    "WEIGHT_DECAY = 1e-8\n",
    "\n",
    "N_EPOCHS = 5"
   ]
  },
  {
   "cell_type": "code",
   "execution_count": null,
   "metadata": {},
   "outputs": [],
   "source": [
    "is_cuda = torch.cuda.is_available()\n",
    "\n",
    "if is_cuda: device = torch.device('cuda')\n",
    "else: device = torch.device('cpu')"
   ]
  },
  {
   "cell_type": "markdown",
   "metadata": {},
   "source": [
    "## Set Data Loader"
   ]
  },
  {
   "cell_type": "code",
   "execution_count": null,
   "metadata": {},
   "outputs": [],
   "source": [
    "DATASET_DIR = '../datasets/camvid/data'\n",
    "HEIGHT, WIDTH = 224, 224\n",
    "WORKERS = 4"
   ]
  },
  {
   "cell_type": "code",
   "execution_count": null,
   "metadata": {},
   "outputs": [],
   "source": [
    "data_transform = transforms.Compose([transforms.Resize((HEIGHT, WIDTH)), \n",
    "                                     transforms.ToTensor()])\n",
    "\n",
    "label_transform = transforms.Compose([transforms.Resize((HEIGHT, WIDTH), Image.NEAREST),\n",
    "                                      transforms.ToTensor()])"
   ]
  },
  {
   "cell_type": "code",
   "execution_count": null,
   "metadata": {},
   "outputs": [],
   "source": [
    "train_set = CamVid(DATASET_DIR, mode='train', \n",
    "                   data_transform=data_transform, label_transform=label_transform)\n",
    "\n",
    "train_loader = torch.utils.data.DataLoader(train_set, batch_size=BATCH_SIZE, shuffle=True, num_workers=WORKERS)"
   ]
  },
  {
   "cell_type": "code",
   "execution_count": null,
   "metadata": {},
   "outputs": [],
   "source": [
    "valid_set = CamVid(DATASET_DIR, mode='valid', \n",
    "                   data_transform=data_transform, label_transform=label_transform)\n",
    "\n",
    "valid_loader = torch.utils.data.DataLoader(valid_set, batch_size=BATCH_SIZE, shuffle=True, num_workers=WORKERS)"
   ]
  },
  {
   "cell_type": "code",
   "execution_count": null,
   "metadata": {},
   "outputs": [],
   "source": [
    "test_set = CamVid(DATASET_DIR, mode='valid', \n",
    "                  data_transform=data_transform, label_transform=label_transform)\n",
    "\n",
    "test_loader = torch.utils.data.DataLoader(test_set, batch_size=1, shuffle=True, num_workers=WORKERS)"
   ]
  },
  {
   "cell_type": "code",
   "execution_count": null,
   "metadata": {},
   "outputs": [],
   "source": [
    "N_CLASS = len(CamVid.color_encoding)"
   ]
  },
  {
   "cell_type": "markdown",
   "metadata": {},
   "source": [
    "## Init UNet Model"
   ]
  },
  {
   "cell_type": "code",
   "execution_count": null,
   "metadata": {},
   "outputs": [],
   "source": [
    "unet_model = UNet(num_channels=3, num_classes=N_CLASS); unet_model.to(device);"
   ]
  },
  {
   "cell_type": "markdown",
   "metadata": {},
   "source": [
    "## Set Loss Function"
   ]
  },
  {
   "cell_type": "code",
   "execution_count": null,
   "metadata": {},
   "outputs": [],
   "source": [
    "bce_loss = nn.BCEWithLogitsLoss(); bce_loss.to(device)"
   ]
  },
  {
   "cell_type": "markdown",
   "metadata": {},
   "source": [
    "## Set Optimizer"
   ]
  },
  {
   "cell_type": "code",
   "execution_count": null,
   "metadata": {},
   "outputs": [],
   "source": [
    "optimizer = optim.RMSprop(unet_model.parameters(), lr=LR, weight_decay=WEIGHT_DECAY)"
   ]
  },
  {
   "cell_type": "markdown",
   "metadata": {},
   "source": [
    "## Train [U-Net](https://arxiv.org/pdf/1505.04597.pdf) Network"
   ]
  },
  {
   "cell_type": "code",
   "execution_count": null,
   "metadata": {},
   "outputs": [],
   "source": [
    "for epoch in range(1, N_EPOCHS+1):\n",
    "    \n",
    "    unet_model.train()\n",
    "    \n",
    "    tick = time.time()\n",
    "    train_loss = []; valid_loss = []; best_loss = np.inf\n",
    "    \n",
    "    for i, batch in enumerate(train_loader):\n",
    "        \n",
    "        optimizer.zero_grad()\n",
    "        \n",
    "        inputs = Variable(batch[0]); inputs.to(device);\n",
    "        labels = Variable(batch[2]); labels.to(device);\n",
    "        \n",
    "        outputs = unet_model(inputs)\n",
    "        loss = bce_loss(outputs, labels)\n",
    "        loss.backward()\n",
    "        \n",
    "        optimizer.step()\n",
    "        \n",
    "        train_loss.append(loss.item())\n",
    "        \n",
    "    # validate the unet network\n",
    "    unet_model.eval()\n",
    "    accuracy = []; total_iou = []\n",
    "\n",
    "    for i, batch in enumerate(valid_loader):\n",
    "        \n",
    "        inputs = Variable(batch[0]); inputs.to(device);\n",
    "        labels = Variable(batch[2]); labels.to(device);\n",
    "        \n",
    "        outputs = unet_model(inputs)\n",
    "        loss = bce_loss(outputs, labels)\n",
    "        \n",
    "        valid_loss.append(loss.item())\n",
    "        \n",
    "        outputs = outputs.data.cpu().numpy()\n",
    "        N, _, h, w = outputs.shape\n",
    "        prediction = outputs.transpose(0, 2, 3, 1).reshape(-1, N_CLASS)\n",
    "        prediction = prediction.argmax(axis=1)\n",
    "        prediction = prediction.reshape(N, h, w)\n",
    "        \n",
    "        labels = labels.cpu().numpy()\n",
    "        labels = labels.transpose(0, 2, 3, 1).reshape(-1, N_CLASS)\n",
    "        labels = labels.argmax(axis=1)\n",
    "        labels = labels.reshape(N, h, w)\n",
    "        \n",
    "        for pred, label in zip(prediction, labels):\n",
    "            iou = calculate_iou(pred, label, N_CLASS)\n",
    "            acc = calculate_acc(pred, label)\n",
    "            \n",
    "            total_iou.append(iou); accuracy.append(acc)\n",
    "        \n",
    "    # calculate average IoU, accuracy & loss\n",
    "    total_iou = np.array(total_iou).T # N_CLASS * valid_len\n",
    "    iou = np.nanmean(total_iou, axis=1)\n",
    "    accuracy = np.array(accuracy).mean()\n",
    "    \n",
    "    train_loss = np.mean(train_loss)\n",
    "    valid_loss = np.mean(valid_loss)\n",
    "    \n",
    "    if epoch == 1 or (valid_loss < best_loss):\n",
    "        \n",
    "        # set the lower valid loss as best loss\n",
    "        best_loss = valid_loss\n",
    "        \n",
    "        if os.path.exists('./weights') is not True: os.makedirs('./weights')\n",
    "        torch.save(unet_model, f'./weights/fcn_model_loss{best_loss}.hdf5')\n",
    "    \n",
    "    print(f'Epoch {epoch}, Valid Loss: {valid_loss:.6f},', \n",
    "          f'Accuracy: {accuracy:.6f}, mIoU: {np.nanmean(iou):.6f}, Time Taken: {time.time()-tick:.2f}s')"
   ]
  },
  {
   "cell_type": "markdown",
   "metadata": {},
   "source": [
    "## Evaluate The Network"
   ]
  },
  {
   "cell_type": "code",
   "execution_count": null,
   "metadata": {},
   "outputs": [],
   "source": [
    "all_train_loss = moving_average(train_loss).tolist()\n",
    "all_valid_loss = moving_average(valid_loss).tolist()\n",
    "\n",
    "plt.plot(all_train_loss, label=\"Train Loss\")\n",
    "plt.plot(all_valid_loss, label=\"Valid Loss\")\n",
    "plt.title('Train & Valid Loss Metric of Training Process')\n",
    "plt.xlabel(\"Epoch\")\n",
    "plt.ylabel(\"Loss\")\n",
    "plt.legend()\n",
    "\n",
    "if os.path.exists('./images') is not True: os.makedirs('./images')\n",
    "plt.savefig('./images/plot_train_validation_loss.png')\n",
    "plt.show()"
   ]
  },
  {
   "cell_type": "markdown",
   "metadata": {},
   "source": [
    "## Test The Network"
   ]
  },
  {
   "cell_type": "code",
   "execution_count": null,
   "metadata": {},
   "outputs": [],
   "source": [
    "# validate the unet network\n",
    "unet_model.eval()\n",
    "accuracy = []; total_iou = []; test_loss = []\n",
    "\n",
    "for i, batch in enumerate(test_loader):\n",
    "    \n",
    "    inputs = Variable(batch[0]); inputs.to(device);\n",
    "    labels = Variable(batch[2]); labels.to(device);\n",
    "\n",
    "    outputs = unet_model(inputs)\n",
    "    loss = bce_loss(outputs, labels)\n",
    "\n",
    "    test_loss.append(loss.item())\n",
    "\n",
    "    outputs = outputs.data.cpu().numpy()\n",
    "    N, _, h, w = outputs.shape\n",
    "    prediction = outputs.transpose(0, 2, 3, 1).reshape(-1, N_CLASS)\n",
    "    prediction = prediction.argmax(axis=1)\n",
    "    prediction = prediction.reshape(N, h, w)\n",
    "\n",
    "    labels = labels.cpu().numpy()\n",
    "    labels = labels.transpose(0, 2, 3, 1).reshape(-1, N_CLASS)\n",
    "    labels = labels.argmax(axis=1)\n",
    "    labels = labels.reshape(N, h, w)\n",
    "\n",
    "    for pred, label in zip(prediction, labels):\n",
    "        iou = calculate_iou(pred, label, N_CLASS)\n",
    "        acc = calculate_acc(pred, label)\n",
    "\n",
    "        total_iou.append(iou); accuracy.append(acc)\n",
    "        \n",
    "# calculate average IoU, accuracy & loss\n",
    "total_iou = np.array(total_iou).T # N_CLASS * valid_len\n",
    "iou = np.nanmean(total_iou, axis=1)\n",
    "accuracy = np.array(accuracy).mean()\n",
    "\n",
    "test_loss = np.mean(test_loss)\n",
    "\n",
    "print(f'U-Net - Test Loss: {test_loss:.6f}, Accuracy: {accuracy:.6f}, mIoU: {np.nanmean(iou):.6f}')"
   ]
  },
  {
   "cell_type": "markdown",
   "metadata": {},
   "source": [
    "---"
   ]
  }
 ],
 "metadata": {
  "kernelspec": {
   "display_name": "Python 3",
   "language": "python",
   "name": "python3"
  },
  "language_info": {
   "codemirror_mode": {
    "name": "ipython",
    "version": 3
   },
   "file_extension": ".py",
   "mimetype": "text/x-python",
   "name": "python",
   "nbconvert_exporter": "python",
   "pygments_lexer": "ipython3",
   "version": "3.7.3"
  }
 },
 "nbformat": 4,
 "nbformat_minor": 2
}
