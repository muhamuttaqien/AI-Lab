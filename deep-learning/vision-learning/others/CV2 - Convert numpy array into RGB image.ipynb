{
 "cells": [
  {
   "cell_type": "code",
   "execution_count": null,
   "metadata": {},
   "outputs": [],
   "source": [
    "import cv2\n",
    "import numpy as np\n",
    "from PIL import Image\n",
    "\n",
    "white  = [255,255,255,255]\n",
    "black  = [0,0,0,255]\n",
    "light = [240,215,200,255]\n",
    "purple = [128,0,128,255]"
   ]
  },
  {
   "cell_type": "code",
   "execution_count": null,
   "metadata": {},
   "outputs": [],
   "source": [
    "# save numpy array with shape (x,y) into black-white image\n",
    "img = Image.fromarray(img)\n",
    "img.save(\"./narray_to_image.jpg\")\n",
    "\n",
    "# load black-white image as RGB (3 channels)\n",
    "img = cv2.imread(\"./narray_to_image.jpg\")\n",
    "img = cv2.cvtColor(img,cv2.COLOR_RGB2GRAY)\n",
    "img = cv2.threshold(img,127,255,cv2.THRESH_BINARY_INV)[1]\n",
    "img = cv2.cvtColor(img,cv2.COLOR_GRAY2BGRA)\n",
    "img[np.where((img == white).all(axis=2))] = purple\n",
    "img[np.where((img == black).all(axis=2))] = light\n",
    "\n",
    "img = Image.fromarray(img)\n",
    "img = img.convert(\"RGB\")\n",
    "img.save(\"./narray_to_RGB_image.jpg\")\n",
    "img"
   ]
  },
  {
   "cell_type": "markdown",
   "metadata": {},
   "source": [
    "<hr/>"
   ]
  }
 ],
 "metadata": {
  "kernelspec": {
   "display_name": "Python 3",
   "language": "python",
   "name": "python3"
  },
  "language_info": {
   "codemirror_mode": {
    "name": "ipython",
    "version": 3
   },
   "file_extension": ".py",
   "mimetype": "text/x-python",
   "name": "python",
   "nbconvert_exporter": "python",
   "pygments_lexer": "ipython3",
   "version": "3.7.3"
  }
 },
 "nbformat": 4,
 "nbformat_minor": 2
}
