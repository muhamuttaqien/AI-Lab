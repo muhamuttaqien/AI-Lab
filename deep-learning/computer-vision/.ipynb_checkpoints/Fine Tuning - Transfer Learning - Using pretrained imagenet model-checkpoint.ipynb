{
 "cells": [
  {
   "cell_type": "code",
   "execution_count": 42,
   "metadata": {},
   "outputs": [],
   "source": [
    "import imagenetscraper\n",
    "import numpy as np\n",
    "import matplotlib.pyplot as plt\n",
    "from keras.applications import vgg16 \n",
    "from keras.preprocessing.image import ImageDataGenerator\n",
    "from keras.preprocessing.image import load_img\n",
    "from keras.utils import np_utils, to_categorical\n",
    "from keras import backend as K\n",
    "\n",
    "%matplotlib inline"
   ]
  },
  {
   "cell_type": "code",
   "execution_count": 2,
   "metadata": {
    "collapsed": true
   },
   "outputs": [],
   "source": [
    "vgg_model = vgg16.VGG16(weights='imagenet',\n",
    "                        include_top=False,\n",
    "                        input_shape=(224, 224, 3))"
   ]
  },
  {
   "cell_type": "code",
   "execution_count": 3,
   "metadata": {},
   "outputs": [
    {
     "name": "stdout",
     "output_type": "stream",
     "text": [
      "_________________________________________________________________\n",
      "Layer (type)                 Output Shape              Param #   \n",
      "=================================================================\n",
      "input_1 (InputLayer)         (None, 224, 224, 3)       0         \n",
      "_________________________________________________________________\n",
      "block1_conv1 (Conv2D)        (None, 224, 224, 64)      1792      \n",
      "_________________________________________________________________\n",
      "block1_conv2 (Conv2D)        (None, 224, 224, 64)      36928     \n",
      "_________________________________________________________________\n",
      "block1_pool (MaxPooling2D)   (None, 112, 112, 64)      0         \n",
      "_________________________________________________________________\n",
      "block2_conv1 (Conv2D)        (None, 112, 112, 128)     73856     \n",
      "_________________________________________________________________\n",
      "block2_conv2 (Conv2D)        (None, 112, 112, 128)     147584    \n",
      "_________________________________________________________________\n",
      "block2_pool (MaxPooling2D)   (None, 56, 56, 128)       0         \n",
      "_________________________________________________________________\n",
      "block3_conv1 (Conv2D)        (None, 56, 56, 256)       295168    \n",
      "_________________________________________________________________\n",
      "block3_conv2 (Conv2D)        (None, 56, 56, 256)       590080    \n",
      "_________________________________________________________________\n",
      "block3_conv3 (Conv2D)        (None, 56, 56, 256)       590080    \n",
      "_________________________________________________________________\n",
      "block3_pool (MaxPooling2D)   (None, 28, 28, 256)       0         \n",
      "_________________________________________________________________\n",
      "block4_conv1 (Conv2D)        (None, 28, 28, 512)       1180160   \n",
      "_________________________________________________________________\n",
      "block4_conv2 (Conv2D)        (None, 28, 28, 512)       2359808   \n",
      "_________________________________________________________________\n",
      "block4_conv3 (Conv2D)        (None, 28, 28, 512)       2359808   \n",
      "_________________________________________________________________\n",
      "block4_pool (MaxPooling2D)   (None, 14, 14, 512)       0         \n",
      "_________________________________________________________________\n",
      "block5_conv1 (Conv2D)        (None, 14, 14, 512)       2359808   \n",
      "_________________________________________________________________\n",
      "block5_conv2 (Conv2D)        (None, 14, 14, 512)       2359808   \n",
      "_________________________________________________________________\n",
      "block5_conv3 (Conv2D)        (None, 14, 14, 512)       2359808   \n",
      "_________________________________________________________________\n",
      "block5_pool (MaxPooling2D)   (None, 7, 7, 512)         0         \n",
      "=================================================================\n",
      "Total params: 14,714,688\n",
      "Trainable params: 14,714,688\n",
      "Non-trainable params: 0\n",
      "_________________________________________________________________\n"
     ]
    }
   ],
   "source": [
    "vgg_model.summary()"
   ]
  },
  {
   "cell_type": "markdown",
   "metadata": {},
   "source": [
    "## Freeze the Required Layers"
   ]
  },
  {
   "cell_type": "code",
   "execution_count": 4,
   "metadata": {},
   "outputs": [
    {
     "data": {
      "text/plain": [
       "[<keras.engine.topology.InputLayer at 0x1823ed8f98>,\n",
       " <keras.layers.convolutional.Conv2D at 0x1823eed4e0>,\n",
       " <keras.layers.convolutional.Conv2D at 0x1823eed438>,\n",
       " <keras.layers.pooling.MaxPooling2D at 0x1823f0bd68>,\n",
       " <keras.layers.convolutional.Conv2D at 0x1823eedb00>,\n",
       " <keras.layers.convolutional.Conv2D at 0x1823f3afd0>,\n",
       " <keras.layers.pooling.MaxPooling2D at 0x1823f28278>,\n",
       " <keras.layers.convolutional.Conv2D at 0x1823f50860>,\n",
       " <keras.layers.convolutional.Conv2D at 0x1131d16d8>,\n",
       " <keras.layers.convolutional.Conv2D at 0x1823f61f98>,\n",
       " <keras.layers.pooling.MaxPooling2D at 0x1823f977f0>,\n",
       " <keras.layers.convolutional.Conv2D at 0x1823fa8438>,\n",
       " <keras.layers.convolutional.Conv2D at 0x1823fd2438>,\n",
       " <keras.layers.convolutional.Conv2D at 0x1823fc0f28>,\n",
       " <keras.layers.pooling.MaxPooling2D at 0x1823ff4ef0>]"
      ]
     },
     "execution_count": 4,
     "metadata": {},
     "output_type": "execute_result"
    }
   ],
   "source": [
    "vgg_model.layers[:-4]"
   ]
  },
  {
   "cell_type": "code",
   "execution_count": 5,
   "metadata": {},
   "outputs": [
    {
     "name": "stdout",
     "output_type": "stream",
     "text": [
      "<keras.engine.topology.InputLayer object at 0x1823ed8f98> False\n",
      "<keras.layers.convolutional.Conv2D object at 0x1823eed4e0> False\n",
      "<keras.layers.convolutional.Conv2D object at 0x1823eed438> False\n",
      "<keras.layers.pooling.MaxPooling2D object at 0x1823f0bd68> False\n",
      "<keras.layers.convolutional.Conv2D object at 0x1823eedb00> False\n",
      "<keras.layers.convolutional.Conv2D object at 0x1823f3afd0> False\n",
      "<keras.layers.pooling.MaxPooling2D object at 0x1823f28278> False\n",
      "<keras.layers.convolutional.Conv2D object at 0x1823f50860> False\n",
      "<keras.layers.convolutional.Conv2D object at 0x1131d16d8> False\n",
      "<keras.layers.convolutional.Conv2D object at 0x1823f61f98> False\n",
      "<keras.layers.pooling.MaxPooling2D object at 0x1823f977f0> False\n",
      "<keras.layers.convolutional.Conv2D object at 0x1823fa8438> False\n",
      "<keras.layers.convolutional.Conv2D object at 0x1823fd2438> False\n",
      "<keras.layers.convolutional.Conv2D object at 0x1823fc0f28> False\n",
      "<keras.layers.pooling.MaxPooling2D object at 0x1823ff4ef0> False\n",
      "<keras.layers.convolutional.Conv2D object at 0x18240074a8> True\n",
      "<keras.layers.convolutional.Conv2D object at 0x1824032f28> True\n",
      "<keras.layers.convolutional.Conv2D object at 0x182401fac8> True\n",
      "<keras.layers.pooling.MaxPooling2D object at 0x1824040a58> True\n"
     ]
    }
   ],
   "source": [
    "# freeze the layers except the last 4 layers\n",
    "for layer in vgg_model.layers[:-4]:\n",
    "    layer.trainable = False\n",
    "    \n",
    "# check the trainable status of the individual layers\n",
    "for layer in vgg_model.layers:\n",
    "    print(layer, layer.trainable)"
   ]
  },
  {
   "cell_type": "markdown",
   "metadata": {},
   "source": [
    "## Create A New Model"
   ]
  },
  {
   "cell_type": "code",
   "execution_count": 6,
   "metadata": {
    "collapsed": true
   },
   "outputs": [],
   "source": [
    "from keras import models\n",
    "from keras import layers\n",
    "from keras import optimizers"
   ]
  },
  {
   "cell_type": "code",
   "execution_count": 7,
   "metadata": {
    "collapsed": true
   },
   "outputs": [],
   "source": [
    "# create the model\n",
    "model_ftuned = models.Sequential()"
   ]
  },
  {
   "cell_type": "code",
   "execution_count": 8,
   "metadata": {},
   "outputs": [
    {
     "name": "stdout",
     "output_type": "stream",
     "text": [
      "_________________________________________________________________\n",
      "Layer (type)                 Output Shape              Param #   \n",
      "=================================================================\n",
      "vgg16 (Model)                (None, 7, 7, 512)         14714688  \n",
      "_________________________________________________________________\n",
      "flatten_1 (Flatten)          (None, 25088)             0         \n",
      "_________________________________________________________________\n",
      "dense_1 (Dense)              (None, 1024)              25691136  \n",
      "_________________________________________________________________\n",
      "dropout_1 (Dropout)          (None, 1024)              0         \n",
      "_________________________________________________________________\n",
      "dense_2 (Dense)              (None, 3)                 3075      \n",
      "=================================================================\n",
      "Total params: 40,408,899\n",
      "Trainable params: 32,773,635\n",
      "Non-trainable params: 7,635,264\n",
      "_________________________________________________________________\n"
     ]
    }
   ],
   "source": [
    "# add the VGG convolutional base model\n",
    "model_ftuned.add(vgg_model)\n",
    "\n",
    "# add new layers\n",
    "model_ftuned.add(layers.Flatten())\n",
    "model_ftuned.add(layers.Dense(1024, activation='relu'))\n",
    "model_ftuned.add(layers.Dropout(0.5))\n",
    "model_ftuned.add(layers.Dense(3, activation='softmax'))\n",
    "\n",
    "# show a summary of the model and check the number of trainable parameters\n",
    "model_ftuned.summary()"
   ]
  },
  {
   "cell_type": "markdown",
   "metadata": {},
   "source": [
    "## Setup The Data Generators"
   ]
  },
  {
   "cell_type": "code",
   "execution_count": 9,
   "metadata": {
    "collapsed": true
   },
   "outputs": [],
   "source": [
    "train_dir = './datasets/train/'\n",
    "validation_dir = './datasets/validation/'\n",
    " \n",
    "n_train = 600 # of total 3302\n",
    "n_validation = 160 # of total 824"
   ]
  },
  {
   "cell_type": "code",
   "execution_count": 10,
   "metadata": {
    "collapsed": true
   },
   "outputs": [],
   "source": [
    "# change the batchsize according to your system RAM\n",
    "train_batch_size = 100\n",
    "validation_batch_size = 10"
   ]
  },
  {
   "cell_type": "markdown",
   "metadata": {},
   "source": [
    "#### Train dataset"
   ]
  },
  {
   "cell_type": "code",
   "execution_count": 19,
   "metadata": {},
   "outputs": [
    {
     "name": "stdout",
     "output_type": "stream",
     "text": [
      "Found 3302 images belonging to 3 classes.\n"
     ]
    }
   ],
   "source": [
    "train_datagen = ImageDataGenerator(\n",
    "      rescale=1./255,\n",
    "      rotation_range=20,\n",
    "      width_shift_range=0.2,\n",
    "      height_shift_range=0.2,\n",
    "      horizontal_flip=True,\n",
    "      fill_mode='nearest')\n",
    "\n",
    "train_images = np.zeros(shape=(n_train, 224, 224, 3)) #(600, 224, 224, 3)\n",
    "train_labels = np.zeros(shape=(n_train, 3))\n",
    "\n",
    "train_generator = train_datagen.flow_from_directory(\n",
    "        train_dir,\n",
    "        target_size=(224, 224),\n",
    "        batch_size=train_batch_size,\n",
    "        class_mode='categorical')"
   ]
  },
  {
   "cell_type": "code",
   "execution_count": 22,
   "metadata": {},
   "outputs": [],
   "source": [
    "i = 0\n",
    "for inputs_batch, labels_batch in train_generator:    \n",
    "    train_images[i * train_batch_size: (i+1) * train_batch_size] = inputs_batch\n",
    "    train_labels[i * train_batch_size : (i+1) * train_batch_size] = labels_batch\n",
    "    \n",
    "    i+=1\n",
    "    if i * train_batch_size >= n_train:\n",
    "        break"
   ]
  },
  {
   "cell_type": "code",
   "execution_count": 23,
   "metadata": {
    "collapsed": true
   },
   "outputs": [],
   "source": [
    "train_images = np.reshape(train_images, (n_train, 224 * 224 * 3))"
   ]
  },
  {
   "cell_type": "markdown",
   "metadata": {},
   "source": [
    "#### Validation dataset"
   ]
  },
  {
   "cell_type": "code",
   "execution_count": 26,
   "metadata": {},
   "outputs": [
    {
     "name": "stdout",
     "output_type": "stream",
     "text": [
      "Found 824 images belonging to 3 classes.\n"
     ]
    }
   ],
   "source": [
    "validation_datagen = ImageDataGenerator(rescale=1./255)\n",
    "\n",
    "validation_images = np.zeros(shape=(n_validation, 224, 224, 3)) #(600, 224, 224, 3)\n",
    "validation_labels = np.zeros(shape=(n_validation, 3))\n",
    "\n",
    "validation_generator = validation_datagen.flow_from_directory(\n",
    "        validation_dir,\n",
    "        target_size=(224, 224),\n",
    "        batch_size=validation_batch_size,\n",
    "        class_mode='categorical',\n",
    "        shuffle=False)"
   ]
  },
  {
   "cell_type": "code",
   "execution_count": 27,
   "metadata": {},
   "outputs": [],
   "source": [
    "i = 0\n",
    "for inputs_batch, labels_batch in validation_generator:    \n",
    "    validation_images[i * validation_batch_size: (i+1) * validation_batch_size] = inputs_batch\n",
    "    validation_labels[i * validation_batch_size : (i+1) * validation_batch_size] = labels_batch\n",
    "\n",
    "    i+=1\n",
    "    if i * validation_batch_size >= n_validation:\n",
    "        break"
   ]
  },
  {
   "cell_type": "code",
   "execution_count": 28,
   "metadata": {
    "collapsed": true
   },
   "outputs": [],
   "source": [
    "validation_images = np.reshape(validation_images, (n_validation, 224 * 224 * 3))"
   ]
  },
  {
   "cell_type": "markdown",
   "metadata": {},
   "source": [
    "#### Change the labels from integer to categorical data"
   ]
  },
  {
   "cell_type": "code",
   "execution_count": 55,
   "metadata": {},
   "outputs": [
    {
     "name": "stdout",
     "output_type": "stream",
     "text": [
      "Original label 0 :  [0. 1. 0.]\n",
      "After conversion to categorical ( one-hot ) :  [[1. 0.]\n",
      " [0. 1.]\n",
      " [1. 0.]]\n"
     ]
    }
   ],
   "source": [
    "train_labels_one_hot = to_categorical(train_labels)\n",
    "validation_labels_one_hot = to_categorical(validation_labels)\n",
    " \n",
    "# display the change for category label using one-hot encoding\n",
    "print('Original label 0 : ', train_labels[6])\n",
    "print('After conversion to categorical ( one-hot ) : ', train_labels_one_hot[6])"
   ]
  },
  {
   "cell_type": "markdown",
   "metadata": {},
   "source": [
    "## Train The Model"
   ]
  },
  {
   "cell_type": "code",
   "execution_count": 57,
   "metadata": {
    "collapsed": true
   },
   "outputs": [],
   "source": [
    "# compile the model\n",
    "model_ftuned.compile(loss='categorical_crossentropy',\n",
    "                      optimizer=optimizers.RMSprop(lr=1e-4),\n",
    "                      metrics=['acc'])"
   ]
  },
  {
   "cell_type": "markdown",
   "metadata": {},
   "source": [
    "*There is a bug of shaping size for feeding to the network. Fix it first!*"
   ]
  },
  {
   "cell_type": "code",
   "execution_count": null,
   "metadata": {
    "collapsed": true
   },
   "outputs": [],
   "source": [
    "data_augmentated = ImageDataGenerator(\n",
    "                    rotation_range=10,\n",
    "                    width_shift_range=0.1,\n",
    "                    height_shift_range=0.1,\n",
    "                    shear_range=0.,\n",
    "                    zoom_range=1.,\n",
    "                    horizontal_flip=True,\n",
    "                    vertical_flip=False)\n",
    "\n",
    "# train the model\n",
    "history_ftuned = model_ftuned.fit_generator(data_augmentated.flow(train_images, train_labels_one_hot, batch_size=20),\n",
    "                                     steps_per_epoch=int(np.ceil(train_images.shape[0] / float(20))),\n",
    "                                     epochs=epochs,\n",
    "                                     validation_data=(validation_images, validation_labels_one_hot),\n",
    "                                     workers=4)"
   ]
  },
  {
   "cell_type": "markdown",
   "metadata": {},
   "source": [
    "## Check Performance"
   ]
  },
  {
   "cell_type": "code",
   "execution_count": null,
   "metadata": {
    "collapsed": true
   },
   "outputs": [],
   "source": [
    "epochs = range(len(history_ftuned.history['acc']))"
   ]
  },
  {
   "cell_type": "code",
   "execution_count": null,
   "metadata": {
    "collapsed": true
   },
   "outputs": [],
   "source": [
    "# plot the Loss Curves\n",
    "plt.figure(figsize=[8,6])\n",
    "plt.plot(epochs, history_ftuned.history['loss'],'r',linewidth=3.0)\n",
    "plt.plot(epochs, history_ftuned.history['val_loss'],'b',linewidth=3.0)\n",
    "plt.legend(['Training loss', 'Validation Loss'],fontsize=18)\n",
    "plt.xlabel('Epochs ',fontsize=16)\n",
    "plt.ylabel('Loss',fontsize=16)\n",
    "plt.title('Loss Curves',fontsize=16)"
   ]
  },
  {
   "cell_type": "code",
   "execution_count": null,
   "metadata": {
    "collapsed": true
   },
   "outputs": [],
   "source": [
    "# plot the Accuracy Curves\n",
    "plt.figure(figsize=[8,6])\n",
    "plt.plot(epochs, history_ftuned.history['acc'],'r',linewidth=3.0)\n",
    "plt.plot(epochs, history_ftuned.history['val_acc'],'b',linewidth=3.0)\n",
    "plt.legend(['Training Accuracy', 'Validation Accuracy'],fontsize=18)\n",
    "plt.xlabel('Epochs ',fontsize=16)\n",
    "plt.ylabel('Accuracy',fontsize=16)\n",
    "plt.title('Accuracy Curves',fontsize=16)"
   ]
  },
  {
   "cell_type": "markdown",
   "metadata": {},
   "source": [
    "## Save The Model"
   ]
  },
  {
   "cell_type": "code",
   "execution_count": null,
   "metadata": {
    "collapsed": true
   },
   "outputs": [],
   "source": [
    "model_ftuned.save('models/vgg_fcl_fine_tuned.h5')"
   ]
  },
  {
   "cell_type": "markdown",
   "metadata": {},
   "source": [
    "<hr/>"
   ]
  }
 ],
 "metadata": {
  "kernelspec": {
   "display_name": "Python 3",
   "language": "python",
   "name": "python3"
  },
  "language_info": {
   "codemirror_mode": {
    "name": "ipython",
    "version": 3
   },
   "file_extension": ".py",
   "mimetype": "text/x-python",
   "name": "python",
   "nbconvert_exporter": "python",
   "pygments_lexer": "ipython3",
   "version": "3.6.3"
  }
 },
 "nbformat": 4,
 "nbformat_minor": 2
}
