{
 "cells": [
  {
   "cell_type": "code",
   "execution_count": 1,
   "metadata": {},
   "outputs": [
    {
     "name": "stderr",
     "output_type": "stream",
     "text": [
      "/anaconda3/lib/python3.6/site-packages/h5py/__init__.py:34: FutureWarning: Conversion of the second argument of issubdtype from `float` to `np.floating` is deprecated. In future, it will be treated as `np.float64 == np.dtype(float).type`.\n",
      "  from ._conv import register_converters as _register_converters\n",
      "Using TensorFlow backend.\n"
     ]
    }
   ],
   "source": [
    "import numpy as np\n",
    "import matplotlib.pyplot as plt\n",
    "from keras.models import Sequential\n",
    "from keras.layers import Dense, Dropout, Activation, Flatten\n",
    "from keras.layers import Conv2D, MaxPooling2D\n",
    "from keras.utils import np_utils, to_categorical\n",
    "from keras.datasets import mnist\n",
    "from keras import backend as K"
   ]
  },
  {
   "cell_type": "code",
   "execution_count": 2,
   "metadata": {
    "collapsed": true
   },
   "outputs": [],
   "source": [
    "%matplotlib inline\n",
    "np.random.seed(411)"
   ]
  },
  {
   "cell_type": "code",
   "execution_count": 3,
   "metadata": {
    "collapsed": true
   },
   "outputs": [],
   "source": [
    "# Load pre-shuffled MNIST data into train and test sets\n",
    "(X_train, y_train), (X_test, y_test) = mnist.load_data()"
   ]
  },
  {
   "cell_type": "code",
   "execution_count": 4,
   "metadata": {},
   "outputs": [
    {
     "data": {
      "text/plain": [
       "((60000, 28, 28), (60000,))"
      ]
     },
     "execution_count": 4,
     "metadata": {},
     "output_type": "execute_result"
    }
   ],
   "source": [
    "X_train.shape, y_train.shape"
   ]
  },
  {
   "cell_type": "code",
   "execution_count": 5,
   "metadata": {},
   "outputs": [
    {
     "data": {
      "text/plain": [
       "((10000, 28, 28), (10000,))"
      ]
     },
     "execution_count": 5,
     "metadata": {},
     "output_type": "execute_result"
    }
   ],
   "source": [
    "X_test.shape, y_test.shape"
   ]
  },
  {
   "cell_type": "code",
   "execution_count": 6,
   "metadata": {
    "scrolled": true
   },
   "outputs": [
    {
     "data": {
      "text/plain": [
       "Text(0.5,1,'Ground Truth : 7')"
      ]
     },
     "execution_count": 6,
     "metadata": {},
     "output_type": "execute_result"
    },
    {
     "data": {
      "image/png": "[encoded data removed]",
      "text/plain": [
       "<matplotlib.figure.Figure at 0x1823c257f0>"
      ]
     },
     "metadata": {},
     "output_type": "display_data"
    }
   ],
   "source": [
    "plt.figure(figsize=[10,5])\n",
    " \n",
    "# display the first image in training data\n",
    "plt.subplot(121)\n",
    "plt.imshow(X_train[0,:,:], cmap='gray')\n",
    "plt.title(\"Ground Truth : {}\".format(y_train[0]))\n",
    " \n",
    "# display the first image in testing data\n",
    "plt.subplot(122)\n",
    "plt.imshow(X_test[0,:,:], cmap='gray')\n",
    "plt.title(\"Ground Truth : {}\".format(y_test[0]))"
   ]
  },
  {
   "cell_type": "code",
   "execution_count": 7,
   "metadata": {
    "collapsed": true
   },
   "outputs": [],
   "source": [
    "batch_size = 128\n",
    "num_classes = 10\n",
    "epochs = 12\n",
    "\n",
    "# input image dimensions\n",
    "img_rows, img_cols = 28, 28"
   ]
  },
  {
   "cell_type": "code",
   "execution_count": 8,
   "metadata": {
    "collapsed": true
   },
   "outputs": [],
   "source": [
    "if K.image_data_format() == 'channels_first':\n",
    "    X_train = X_train.reshape(X_train.shape[0], 1, img_rows, img_cols)\n",
    "    X_test = X_test.reshape(X_test.shape[0], 1, img_rows, img_cols)\n",
    "    input_shape = (1, img_rows, img_cols)\n",
    "else:\n",
    "    X_train = X_train.reshape(X_train.shape[0], img_rows, img_cols, 1)\n",
    "    X_test = X_test.reshape(X_test.shape[0], img_rows, img_cols, 1)\n",
    "    input_shape = (img_rows, img_cols, 1)"
   ]
  },
  {
   "cell_type": "code",
   "execution_count": 9,
   "metadata": {
    "collapsed": true
   },
   "outputs": [],
   "source": [
    "X_train = X_train.astype('float32')\n",
    "X_test = X_test.astype('float32')"
   ]
  },
  {
   "cell_type": "code",
   "execution_count": 10,
   "metadata": {
    "collapsed": true
   },
   "outputs": [],
   "source": [
    "X_train /= 255 # for gray scale image\n",
    "X_test /= 255"
   ]
  },
  {
   "cell_type": "code",
   "execution_count": 11,
   "metadata": {
    "scrolled": true
   },
   "outputs": [
    {
     "name": "stdout",
     "output_type": "stream",
     "text": [
      "X_train shape: (60000, 28, 28, 1)\n",
      "60000 train samples\n",
      "10000 test samples\n"
     ]
    }
   ],
   "source": [
    "print('X_train shape:', X_train.shape)\n",
    "print(X_train.shape[0], 'train samples') # 6000 for each images\n",
    "print(X_test.shape[0], 'test samples')"
   ]
  },
  {
   "cell_type": "code",
   "execution_count": 12,
   "metadata": {
    "collapsed": true
   },
   "outputs": [],
   "source": [
    "# convert class vectors to binary class matrices\n",
    "y_train = np_utils.to_categorical(y_train, num_classes)\n",
    "y_test = np_utils.to_categorical(y_test, num_classes)"
   ]
  },
  {
   "cell_type": "markdown",
   "metadata": {},
   "source": [
    "## Build Model"
   ]
  },
  {
   "cell_type": "markdown",
   "metadata": {},
   "source": [
    "#### Traditional Neural Network"
   ]
  },
  {
   "cell_type": "code",
   "execution_count": 13,
   "metadata": {
    "collapsed": true
   },
   "outputs": [],
   "source": [
    "# change from matrix to array of dimension 28x28 to array of dimention 784\n",
    "dim_data = np.prod(X_train.shape[1:])\n",
    "train_data = X_train.reshape(X_train.shape[0], dim_data)\n",
    "test_data = X_test.reshape(X_test.shape[0], dim_data)"
   ]
  },
  {
   "cell_type": "code",
   "execution_count": 14,
   "metadata": {
    "collapsed": true
   },
   "outputs": [],
   "source": [
    "model_nn = Sequential()"
   ]
  },
  {
   "cell_type": "code",
   "execution_count": 15,
   "metadata": {
    "collapsed": true
   },
   "outputs": [],
   "source": [
    "model_nn.add(Dense(512, activation='relu', input_shape=(dim_data,)))\n",
    "model_nn.add(Dropout(0.5))\n",
    "model_nn.add(Dense(512, activation='relu'))\n",
    "model_nn.add(Dropout(0.5))\n",
    "model_nn.add(Dense(num_classes, activation='softmax'))"
   ]
  },
  {
   "cell_type": "code",
   "execution_count": 16,
   "metadata": {
    "collapsed": true
   },
   "outputs": [],
   "source": [
    "model_nn.compile(loss='categorical_crossentropy', \n",
    "              optimizer='adam',\n",
    "              metrics=['accuracy'])"
   ]
  },
  {
   "cell_type": "code",
   "execution_count": 17,
   "metadata": {},
   "outputs": [
    {
     "name": "stdout",
     "output_type": "stream",
     "text": [
      "_________________________________________________________________\n",
      "Layer (type)                 Output Shape              Param #   \n",
      "=================================================================\n",
      "dense_1 (Dense)              (None, 512)               401920    \n",
      "_________________________________________________________________\n",
      "dropout_1 (Dropout)          (None, 512)               0         \n",
      "_________________________________________________________________\n",
      "dense_2 (Dense)              (None, 512)               262656    \n",
      "_________________________________________________________________\n",
      "dropout_2 (Dropout)          (None, 512)               0         \n",
      "_________________________________________________________________\n",
      "dense_3 (Dense)              (None, 10)                5130      \n",
      "=================================================================\n",
      "Total params: 669,706\n",
      "Trainable params: 669,706\n",
      "Non-trainable params: 0\n",
      "_________________________________________________________________\n"
     ]
    }
   ],
   "source": [
    "model_nn.summary()"
   ]
  },
  {
   "cell_type": "code",
   "execution_count": 18,
   "metadata": {},
   "outputs": [
    {
     "data": {
      "text/plain": [
       "((60000, 784), (60000, 10))"
      ]
     },
     "execution_count": 18,
     "metadata": {},
     "output_type": "execute_result"
    }
   ],
   "source": [
    "train_data.shape, y_train.shape"
   ]
  },
  {
   "cell_type": "code",
   "execution_count": 19,
   "metadata": {},
   "outputs": [
    {
     "data": {
      "text/plain": [
       "((10000, 784), (10000, 10))"
      ]
     },
     "execution_count": 19,
     "metadata": {},
     "output_type": "execute_result"
    }
   ],
   "source": [
    "test_data.shape, y_test.shape"
   ]
  },
  {
   "cell_type": "code",
   "execution_count": 20,
   "metadata": {
    "scrolled": true
   },
   "outputs": [
    {
     "name": "stdout",
     "output_type": "stream",
     "text": [
      "Train on 60000 samples, validate on 10000 samples\n",
      "Epoch 1/20\n",
      "60000/60000 [==============================] - 10s 162us/step - loss: 0.4003 - acc: 0.8764 - val_loss: 0.1413 - val_acc: 0.9562\n",
      "Epoch 2/20\n",
      "60000/60000 [==============================] - 10s 170us/step - loss: 0.1723 - acc: 0.9480 - val_loss: 0.0977 - val_acc: 0.9697\n",
      "Epoch 3/20\n",
      "60000/60000 [==============================] - 9s 153us/step - loss: 0.1328 - acc: 0.9611 - val_loss: 0.0858 - val_acc: 0.9742\n",
      "Epoch 4/20\n",
      "60000/60000 [==============================] - 8s 139us/step - loss: 0.1107 - acc: 0.9660 - val_loss: 0.0708 - val_acc: 0.9779\n",
      "Epoch 5/20\n",
      "60000/60000 [==============================] - 8s 140us/step - loss: 0.0961 - acc: 0.9702 - val_loss: 0.0715 - val_acc: 0.9769\n",
      "Epoch 6/20\n",
      "60000/60000 [==============================] - 8s 130us/step - loss: 0.0844 - acc: 0.9741 - val_loss: 0.0671 - val_acc: 0.9796\n",
      "Epoch 7/20\n",
      "60000/60000 [==============================] - 8s 131us/step - loss: 0.0778 - acc: 0.9759 - val_loss: 0.0617 - val_acc: 0.9810\n",
      "Epoch 8/20\n",
      "60000/60000 [==============================] - 8s 134us/step - loss: 0.0706 - acc: 0.9774 - val_loss: 0.0672 - val_acc: 0.9805\n",
      "Epoch 9/20\n",
      "60000/60000 [==============================] - 8s 130us/step - loss: 0.0650 - acc: 0.9791 - val_loss: 0.0646 - val_acc: 0.9808\n",
      "Epoch 10/20\n",
      "60000/60000 [==============================] - 8s 129us/step - loss: 0.0580 - acc: 0.9810 - val_loss: 0.0662 - val_acc: 0.9818\n",
      "Epoch 11/20\n",
      "60000/60000 [==============================] - 8s 135us/step - loss: 0.0572 - acc: 0.9819 - val_loss: 0.0586 - val_acc: 0.9834\n",
      "Epoch 12/20\n",
      "60000/60000 [==============================] - 9s 156us/step - loss: 0.0534 - acc: 0.9827 - val_loss: 0.0566 - val_acc: 0.9839\n",
      "Epoch 13/20\n",
      "60000/60000 [==============================] - 9s 142us/step - loss: 0.0524 - acc: 0.9832 - val_loss: 0.0616 - val_acc: 0.9820\n",
      "Epoch 14/20\n",
      "60000/60000 [==============================] - 10s 174us/step - loss: 0.0482 - acc: 0.9842 - val_loss: 0.0560 - val_acc: 0.9843\n",
      "Epoch 15/20\n",
      "60000/60000 [==============================] - 7s 118us/step - loss: 0.0466 - acc: 0.9842 - val_loss: 0.0565 - val_acc: 0.9842\n",
      "Epoch 16/20\n",
      "60000/60000 [==============================] - 7s 114us/step - loss: 0.0424 - acc: 0.9864 - val_loss: 0.0598 - val_acc: 0.9846\n",
      "Epoch 17/20\n",
      "60000/60000 [==============================] - 7s 119us/step - loss: 0.0439 - acc: 0.9853 - val_loss: 0.0581 - val_acc: 0.9834\n",
      "Epoch 18/20\n",
      "60000/60000 [==============================] - 8s 135us/step - loss: 0.0425 - acc: 0.9861 - val_loss: 0.0564 - val_acc: 0.9846\n",
      "Epoch 19/20\n",
      "60000/60000 [==============================] - 8s 132us/step - loss: 0.0400 - acc: 0.9864 - val_loss: 0.0596 - val_acc: 0.9847\n",
      "Epoch 20/20\n",
      "60000/60000 [==============================] - 8s 137us/step - loss: 0.0376 - acc: 0.9878 - val_loss: 0.0606 - val_acc: 0.9846: 0.03\n"
     ]
    }
   ],
   "source": [
    "history_nn = model_nn.fit(train_data, y_train, batch_size=256, epochs=20, verbose=True, \n",
    "                    validation_data=(test_data, y_test))"
   ]
  },
  {
   "cell_type": "code",
   "execution_count": 21,
   "metadata": {},
   "outputs": [
    {
     "name": "stdout",
     "output_type": "stream",
     "text": [
      "10000/10000 [==============================] - 1s 90us/step\n",
      "Test loss: 0.060555746869952416\n",
      "Test accuracy: 0.9846\n"
     ]
    }
   ],
   "source": [
    "score = model_nn.evaluate(test_data, y_test)\n",
    "print('Test loss:', score[0])\n",
    "print('Test accuracy:', score[1])"
   ]
  },
  {
   "cell_type": "code",
   "execution_count": 22,
   "metadata": {},
   "outputs": [
    {
     "data": {
      "text/plain": [
       "Text(0.5,1,'Loss Curves')"
      ]
     },
     "execution_count": 22,
     "metadata": {},
     "output_type": "execute_result"
    },
    {
     "data": {
      "image/png": "[encoded data removed]",
      "text/plain": [
       "<matplotlib.figure.Figure at 0x111ed98d0>"
      ]
     },
     "metadata": {},
     "output_type": "display_data"
    }
   ],
   "source": [
    "# plot the Loss Curves\n",
    "plt.figure(figsize=[8,6])\n",
    "plt.plot(history_nn.history['loss'],'r',linewidth=3.0)\n",
    "plt.plot(history_nn.history['val_loss'],'b',linewidth=3.0)\n",
    "plt.legend(['Training loss', 'Validation Loss'],fontsize=18)\n",
    "plt.xlabel('Epochs ',fontsize=16)\n",
    "plt.ylabel('Loss',fontsize=16)\n",
    "plt.title('Loss Curves',fontsize=16)"
   ]
  },
  {
   "cell_type": "code",
   "execution_count": 23,
   "metadata": {},
   "outputs": [
    {
     "data": {
      "text/plain": [
       "Text(0.5,1,'Accuracy Curves')"
      ]
     },
     "execution_count": 23,
     "metadata": {},
     "output_type": "execute_result"
    },
    {
     "data": {
      "image/png": "[encoded data removed]",
      "text/plain": [
       "<matplotlib.figure.Figure at 0x1832ca9828>"
      ]
     },
     "metadata": {},
     "output_type": "display_data"
    }
   ],
   "source": [
    "# plot the Accuracy Curves\n",
    "plt.figure(figsize=[8,6])\n",
    "plt.plot(history_nn.history['acc'],'r',linewidth=3.0)\n",
    "plt.plot(history_nn.history['val_acc'],'b',linewidth=3.0)\n",
    "plt.legend(['Training Accuracy', 'Validation Accuracy'],fontsize=18)\n",
    "plt.xlabel('Epochs ',fontsize=16)\n",
    "plt.ylabel('Accuracy',fontsize=16)\n",
    "plt.title('Accuracy Curves',fontsize=16)"
   ]
  },
  {
   "cell_type": "code",
   "execution_count": 39,
   "metadata": {},
   "outputs": [
    {
     "data": {
      "text/plain": [
       "array([0])"
      ]
     },
     "execution_count": 39,
     "metadata": {},
     "output_type": "execute_result"
    }
   ],
   "source": [
    "# try to predict class\n",
    "model_nn.predict_classes(test_data[[3],:])"
   ]
  },
  {
   "cell_type": "code",
   "execution_count": 36,
   "metadata": {},
   "outputs": [
    {
     "data": {
      "text/plain": [
       "array([[9.9999750e-01, 1.8722688e-11, 6.7492025e-09, 1.5733530e-10,\n",
       "        8.4055118e-09, 7.4540614e-09, 2.4762733e-06, 5.0676037e-09,\n",
       "        4.6431048e-10, 2.6378901e-08]], dtype=float32)"
      ]
     },
     "execution_count": 36,
     "metadata": {},
     "output_type": "execute_result"
    }
   ],
   "source": [
    "# try to predict probabilities\n",
    "model_nn.predict(test_data[[3],:])"
   ]
  },
  {
   "cell_type": "markdown",
   "metadata": {},
   "source": [
    "#### Convolutional Neural Network"
   ]
  },
  {
   "cell_type": "code",
   "execution_count": 24,
   "metadata": {
    "collapsed": true
   },
   "outputs": [],
   "source": [
    "model_cnn = Sequential()"
   ]
  },
  {
   "cell_type": "code",
   "execution_count": 25,
   "metadata": {
    "collapsed": true
   },
   "outputs": [],
   "source": [
    "# input layer\n",
    "model_cnn.add(Conv2D(32, kernel_size=(3, 3),\n",
    "                 activation='relu',\n",
    "                 input_shape=input_shape))"
   ]
  },
  {
   "cell_type": "code",
   "execution_count": 26,
   "metadata": {
    "collapsed": true
   },
   "outputs": [],
   "source": [
    "# convolution layers\n",
    "model_cnn.add(Conv2D(64, (3, 3), activation='relu'))\n",
    "model_cnn.add(MaxPooling2D(pool_size=(2, 2)))\n",
    "model_cnn.add(Dropout(0.25))\n",
    "\n",
    "# fully connected dense layers\n",
    "model_cnn.add(Flatten())\n",
    "model_cnn.add(Dense(128, activation='relu'))\n",
    "model_cnn.add(Dropout(0,5))"
   ]
  },
  {
   "cell_type": "code",
   "execution_count": 27,
   "metadata": {
    "collapsed": true
   },
   "outputs": [],
   "source": [
    "# output layer\n",
    "model_cnn.add(Dense(num_classes, activation='softmax'))"
   ]
  },
  {
   "cell_type": "code",
   "execution_count": 28,
   "metadata": {
    "collapsed": true
   },
   "outputs": [],
   "source": [
    "model_cnn.compile(loss='categorical_crossentropy',\n",
    "                  optimizer='adam',\n",
    "                  metrics=['accuracy'])"
   ]
  },
  {
   "cell_type": "code",
   "execution_count": 29,
   "metadata": {},
   "outputs": [
    {
     "name": "stdout",
     "output_type": "stream",
     "text": [
      "_________________________________________________________________\n",
      "Layer (type)                 Output Shape              Param #   \n",
      "=================================================================\n",
      "conv2d_1 (Conv2D)            (None, 26, 26, 32)        320       \n",
      "_________________________________________________________________\n",
      "conv2d_2 (Conv2D)            (None, 24, 24, 64)        18496     \n",
      "_________________________________________________________________\n",
      "max_pooling2d_1 (MaxPooling2 (None, 12, 12, 64)        0         \n",
      "_________________________________________________________________\n",
      "dropout_3 (Dropout)          (None, 12, 12, 64)        0         \n",
      "_________________________________________________________________\n",
      "flatten_1 (Flatten)          (None, 9216)              0         \n",
      "_________________________________________________________________\n",
      "dense_4 (Dense)              (None, 128)               1179776   \n",
      "_________________________________________________________________\n",
      "dropout_4 (Dropout)          (None, 128)               0         \n",
      "_________________________________________________________________\n",
      "dense_5 (Dense)              (None, 10)                1290      \n",
      "=================================================================\n",
      "Total params: 1,199,882\n",
      "Trainable params: 1,199,882\n",
      "Non-trainable params: 0\n",
      "_________________________________________________________________\n"
     ]
    }
   ],
   "source": [
    "model_cnn.summary()"
   ]
  },
  {
   "cell_type": "code",
   "execution_count": 30,
   "metadata": {},
   "outputs": [
    {
     "data": {
      "text/plain": [
       "((60000, 28, 28, 1), (60000, 10))"
      ]
     },
     "execution_count": 30,
     "metadata": {},
     "output_type": "execute_result"
    }
   ],
   "source": [
    "X_train.shape, y_train.shape"
   ]
  },
  {
   "cell_type": "code",
   "execution_count": 31,
   "metadata": {},
   "outputs": [
    {
     "data": {
      "text/plain": [
       "((10000, 28, 28, 1), (10000, 10))"
      ]
     },
     "execution_count": 31,
     "metadata": {},
     "output_type": "execute_result"
    }
   ],
   "source": [
    "X_test.shape, y_test.shape"
   ]
  },
  {
   "cell_type": "code",
   "execution_count": 32,
   "metadata": {
    "scrolled": true
   },
   "outputs": [
    {
     "name": "stderr",
     "output_type": "stream",
     "text": [
      "/anaconda3/lib/python3.6/site-packages/keras/models.py:944: UserWarning: The `nb_epoch` argument in `fit` has been renamed `epochs`.\n",
      "  warnings.warn('The `nb_epoch` argument in `fit` '\n"
     ]
    },
    {
     "name": "stdout",
     "output_type": "stream",
     "text": [
      "Train on 60000 samples, validate on 10000 samples\n",
      "Epoch 1/10\n",
      "60000/60000 [==============================] - 276s 5ms/step - loss: 0.1166 - acc: 0.9643 - val_loss: 0.0438 - val_acc: 0.9859\n",
      "Epoch 2/10\n",
      "60000/60000 [==============================] - 284s 5ms/step - loss: 0.0416 - acc: 0.9870 - val_loss: 0.0386 - val_acc: 0.9868\n",
      "Epoch 3/10\n",
      "60000/60000 [==============================] - 272s 5ms/step - loss: 0.0289 - acc: 0.9905 - val_loss: 0.0360 - val_acc: 0.9892\n",
      "Epoch 4/10\n",
      "60000/60000 [==============================] - 265s 4ms/step - loss: 0.0199 - acc: 0.9938 - val_loss: 0.0437 - val_acc: 0.9884\n",
      "Epoch 5/10\n",
      "60000/60000 [==============================] - 281s 5ms/step - loss: 0.0156 - acc: 0.9946 - val_loss: 0.0444 - val_acc: 0.9872\n",
      "Epoch 6/10\n",
      "60000/60000 [==============================] - 453s 8ms/step - loss: 0.0122 - acc: 0.9957 - val_loss: 0.0378 - val_acc: 0.9900\n",
      "Epoch 7/10\n",
      "60000/60000 [==============================] - 482s 8ms/step - loss: 0.0106 - acc: 0.9963 - val_loss: 0.0473 - val_acc: 0.9899\n",
      "Epoch 8/10\n",
      "60000/60000 [==============================] - 474s 8ms/step - loss: 0.0093 - acc: 0.9968 - val_loss: 0.0458 - val_acc: 0.9894\n",
      "Epoch 9/10\n",
      "60000/60000 [==============================] - 455s 8ms/step - loss: 0.0085 - acc: 0.9972 - val_loss: 0.0441 - val_acc: 0.9899\n",
      "Epoch 10/10\n",
      "60000/60000 [==============================] - 479s 8ms/step - loss: 0.0067 - acc: 0.9978 - val_loss: 0.0524 - val_acc: 0.9890\n"
     ]
    }
   ],
   "source": [
    "    history_cnn = model_cnn.fit(X_train, y_train, batch_size=32, nb_epoch=10, verbose=True, validation_data=(X_test, y_test))"
   ]
  },
  {
   "cell_type": "code",
   "execution_count": 33,
   "metadata": {
    "scrolled": true
   },
   "outputs": [
    {
     "name": "stdout",
     "output_type": "stream",
     "text": [
      "10000/10000 [==============================] - 24s 2ms/step\n",
      "Test loss: 0.05235376657412958\n",
      "Test accuracy: 0.989\n"
     ]
    }
   ],
   "source": [
    "score = model_cnn.evaluate(X_test, y_test, verbose=True)\n",
    "print('Test loss:', score[0])\n",
    "print('Test accuracy:', score[1])"
   ]
  },
  {
   "cell_type": "code",
   "execution_count": 34,
   "metadata": {},
   "outputs": [
    {
     "data": {
      "text/plain": [
       "Text(0.5,1,'Loss Curves')"
      ]
     },
     "execution_count": 34,
     "metadata": {},
     "output_type": "execute_result"
    },
    {
     "data": {
      "image/png": "[encoded data removed]",
      "text/plain": [
       "<matplotlib.figure.Figure at 0x182d6d8240>"
      ]
     },
     "metadata": {},
     "output_type": "display_data"
    }
   ],
   "source": [
    "# plot the Loss Curves\n",
    "plt.figure(figsize=[8,6])\n",
    "plt.plot(history_cnn.history['loss'],'r',linewidth=3.0)\n",
    "plt.plot(history_cnn.history['val_loss'],'b',linewidth=3.0)\n",
    "plt.legend(['Training loss', 'Validation Loss'],fontsize=18)\n",
    "plt.xlabel('Epochs ',fontsize=16)\n",
    "plt.ylabel('Loss',fontsize=16)\n",
    "plt.title('Loss Curves',fontsize=16)"
   ]
  },
  {
   "cell_type": "code",
   "execution_count": 35,
   "metadata": {},
   "outputs": [
    {
     "data": {
      "text/plain": [
       "Text(0.5,1,'Accuracy Curves')"
      ]
     },
     "execution_count": 35,
     "metadata": {},
     "output_type": "execute_result"
    },
    {
     "data": {
      "image/png": "[encoded data removed]",
      "text/plain": [
       "<matplotlib.figure.Figure at 0x182debd2b0>"
      ]
     },
     "metadata": {},
     "output_type": "display_data"
    }
   ],
   "source": [
    "# plot the Accuracy Curves\n",
    "plt.figure(figsize=[8,6])\n",
    "plt.plot(history_cnn.history['acc'],'r',linewidth=3.0)\n",
    "plt.plot(history_cnn.history['val_acc'],'b',linewidth=3.0)\n",
    "plt.legend(['Training Accuracy', 'Validation Accuracy'],fontsize=18)\n",
    "plt.xlabel('Epochs ',fontsize=16)\n",
    "plt.ylabel('Accuracy',fontsize=16)\n",
    "plt.title('Accuracy Curves',fontsize=16)"
   ]
  },
  {
   "cell_type": "markdown",
   "metadata": {},
   "source": [
    "## Save Model"
   ]
  },
  {
   "cell_type": "code",
   "execution_count": 37,
   "metadata": {},
   "outputs": [
    {
     "name": "stdout",
     "output_type": "stream",
     "text": [
      "Model saved to disk...\n"
     ]
    }
   ],
   "source": [
    "# serialize model to JSON\n",
    "model_nn_json = model_nn.to_json()\n",
    "with open(\"weights/model_nn.json\", \"w\") as json_file:\n",
    "    json_file.write(model_nn_json)\n",
    "    \n",
    "# serialize weights to HDF5\n",
    "model_nn.save_weights(\"weights/model_nn.h5\")\n",
    "print(\"Model saved to disk...\")"
   ]
  },
  {
   "cell_type": "code",
   "execution_count": 38,
   "metadata": {},
   "outputs": [
    {
     "name": "stdout",
     "output_type": "stream",
     "text": [
      "Model saved to disk...\n"
     ]
    }
   ],
   "source": [
    "# serialize model to JSON\n",
    "model_cnn_json = model_cnn.to_json()\n",
    "with open(\"weights/model_nn.json\", \"w\") as json_file:\n",
    "    json_file.write(model_cnn_json)\n",
    "    \n",
    "# serialize weights to HDF5\n",
    "model_cnn.save_weights(\"weights/model_cnn.h5\")\n",
    "print(\"Model saved to disk...\")"
   ]
  },
  {
   "cell_type": "markdown",
   "metadata": {},
   "source": [
    "</hr>"
   ]
  }
 ],
 "metadata": {
  "kernelspec": {
   "display_name": "Python 3",
   "language": "python",
   "name": "python3"
  },
  "language_info": {
   "codemirror_mode": {
    "name": "ipython",
    "version": 3
   },
   "file_extension": ".py",
   "mimetype": "text/x-python",
   "name": "python",
   "nbconvert_exporter": "python",
   "pygments_lexer": "ipython3",
   "version": "3.6.3"
  }
 },
 "nbformat": 4,
 "nbformat_minor": 2
}
