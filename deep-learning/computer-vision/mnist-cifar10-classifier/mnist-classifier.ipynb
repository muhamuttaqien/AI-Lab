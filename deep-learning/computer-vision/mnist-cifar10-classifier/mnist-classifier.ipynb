{
 "cells": [
  {
   "cell_type": "code",
   "execution_count": 1,
   "metadata": {},
   "outputs": [
    {
     "name": "stderr",
     "output_type": "stream",
     "text": [
      "/anaconda3/lib/python3.6/site-packages/h5py/__init__.py:34: FutureWarning: Conversion of the second argument of issubdtype from `float` to `np.floating` is deprecated. In future, it will be treated as `np.float64 == np.dtype(float).type`.\n",
      "  from ._conv import register_converters as _register_converters\n",
      "Using TensorFlow backend.\n"
     ]
    }
   ],
   "source": [
    "import numpy as np\n",
    "import matplotlib.pyplot as plt\n",
    "from keras.models import Sequential\n",
    "from keras.layers import Dense, Dropout, Activation, Flatten\n",
    "from keras.layers import Conv2D, MaxPooling2D\n",
    "from keras.utils import np_utils, to_categorical\n",
    "from keras.datasets import mnist\n",
    "from keras import backend as K"
   ]
  },
  {
   "cell_type": "code",
   "execution_count": 2,
   "metadata": {
    "collapsed": true
   },
   "outputs": [],
   "source": [
    "%matplotlib inline\n",
    "np.random.seed(411)"
   ]
  },
  {
   "cell_type": "code",
   "execution_count": 3,
   "metadata": {
    "collapsed": true
   },
   "outputs": [],
   "source": [
    "# Load pre-shuffled MNIST data into train and test sets\n",
    "(X_train, y_train), (X_test, y_test) = mnist.load_data()"
   ]
  },
  {
   "cell_type": "code",
   "execution_count": 4,
   "metadata": {},
   "outputs": [
    {
     "data": {
      "text/plain": [
       "((60000, 28, 28), (60000,))"
      ]
     },
     "execution_count": 4,
     "metadata": {},
     "output_type": "execute_result"
    }
   ],
   "source": [
    "X_train.shape, y_train.shape"
   ]
  },
  {
   "cell_type": "code",
   "execution_count": 5,
   "metadata": {},
   "outputs": [
    {
     "data": {
      "text/plain": [
       "((10000, 28, 28), (10000,))"
      ]
     },
     "execution_count": 5,
     "metadata": {},
     "output_type": "execute_result"
    }
   ],
   "source": [
    "X_test.shape, y_test.shape"
   ]
  },
  {
   "cell_type": "code",
   "execution_count": 6,
   "metadata": {
    "scrolled": true
   },
   "outputs": [
    {
     "data": {
      "text/plain": [
       "Text(0.5,1,'Ground Truth : 7')"
      ]
     },
     "execution_count": 6,
     "metadata": {},
     "output_type": "execute_result"
    },
    {
     "data": {
      "image/png": "[encoded data removed]",
      "text/plain": [
       "<matplotlib.figure.Figure at 0x181eb1c908>"
      ]
     },
     "metadata": {},
     "output_type": "display_data"
    }
   ],
   "source": [
    "plt.figure(figsize=[10,5])\n",
    " \n",
    "# display the first image in training data\n",
    "plt.subplot(121)\n",
    "plt.imshow(X_train[0,:,:], cmap='gray')\n",
    "plt.title(\"Ground Truth : {}\".format(y_train[0]))\n",
    " \n",
    "# display the first image in testing data\n",
    "plt.subplot(122)\n",
    "plt.imshow(X_test[0,:,:], cmap='gray')\n",
    "plt.title(\"Ground Truth : {}\".format(y_test[0]))"
   ]
  },
  {
   "cell_type": "code",
   "execution_count": 7,
   "metadata": {
    "collapsed": true
   },
   "outputs": [],
   "source": [
    "batch_size = 128\n",
    "num_classes = 10\n",
    "epochs = 12\n",
    "\n",
    "# input image dimensions\n",
    "img_rows, img_cols = 28, 28"
   ]
  },
  {
   "cell_type": "code",
   "execution_count": 8,
   "metadata": {
    "collapsed": true
   },
   "outputs": [],
   "source": [
    "if K.image_data_format() == 'channels_first':\n",
    "    X_train = X_train.reshape(X_train.shape[0], 1, img_rows, img_cols)\n",
    "    X_test = X_test.reshape(X_test.shape[0], 1, img_rows, img_cols)\n",
    "    input_shape = (1, img_rows, img_cols)\n",
    "else:\n",
    "    X_train = X_train.reshape(X_train.shape[0], img_rows, img_cols, 1)\n",
    "    X_test = X_test.reshape(X_test.shape[0], img_rows, img_cols, 1)\n",
    "    input_shape = (img_rows, img_cols, 1)"
   ]
  },
  {
   "cell_type": "code",
   "execution_count": 9,
   "metadata": {
    "collapsed": true
   },
   "outputs": [],
   "source": [
    "X_train = X_train.astype('float32')\n",
    "X_test = X_test.astype('float32')"
   ]
  },
  {
   "cell_type": "code",
   "execution_count": 10,
   "metadata": {
    "collapsed": true
   },
   "outputs": [],
   "source": [
    "X_train /= 255 # for gray scale image\n",
    "X_test /= 255"
   ]
  },
  {
   "cell_type": "code",
   "execution_count": 11,
   "metadata": {
    "scrolled": true
   },
   "outputs": [
    {
     "name": "stdout",
     "output_type": "stream",
     "text": [
      "X_train shape: (60000, 28, 28, 1)\n",
      "60000 train samples\n",
      "10000 test samples\n"
     ]
    }
   ],
   "source": [
    "print('X_train shape:', X_train.shape)\n",
    "print(X_train.shape[0], 'train samples') # 6000 for each images\n",
    "print(X_test.shape[0], 'test samples')"
   ]
  },
  {
   "cell_type": "code",
   "execution_count": 12,
   "metadata": {
    "collapsed": true
   },
   "outputs": [],
   "source": [
    "# convert class vectors to binary class matrices\n",
    "y_train = np_utils.to_categorical(y_train, num_classes)\n",
    "y_test = np_utils.to_categorical(y_test, num_classes)"
   ]
  },
  {
   "cell_type": "markdown",
   "metadata": {},
   "source": [
    "## Build Model"
   ]
  },
  {
   "cell_type": "markdown",
   "metadata": {},
   "source": [
    "#### Traditional Neural Network"
   ]
  },
  {
   "cell_type": "code",
   "execution_count": 13,
   "metadata": {
    "collapsed": true
   },
   "outputs": [],
   "source": [
    "# change from matrix to array of dimension 28x28 to array of dimention 784\n",
    "dim_data = np.prod(X_train.shape[1:])\n",
    "train_data = X_train.reshape(X_train.shape[0], dim_data)\n",
    "test_data = X_test.reshape(X_test.shape[0], dim_data)"
   ]
  },
  {
   "cell_type": "code",
   "execution_count": 14,
   "metadata": {
    "collapsed": true
   },
   "outputs": [],
   "source": [
    "model_nn = Sequential()"
   ]
  },
  {
   "cell_type": "code",
   "execution_count": 15,
   "metadata": {
    "collapsed": true
   },
   "outputs": [],
   "source": [
    "model_nn.add(Dense(512, activation='relu', input_shape=(dim_data,)))\n",
    "model_nn.add(Dropout(0.5))\n",
    "model_nn.add(Dense(512, activation='relu'))\n",
    "model_nn.add(Dropout(0.5))\n",
    "model_nn.add(Dense(num_classes, activation='softmax'))"
   ]
  },
  {
   "cell_type": "code",
   "execution_count": 16,
   "metadata": {
    "collapsed": true
   },
   "outputs": [],
   "source": [
    "model_nn.compile(loss='categorical_crossentropy', \n",
    "              optimizer='adam',\n",
    "              metrics=['accuracy'])"
   ]
  },
  {
   "cell_type": "code",
   "execution_count": 17,
   "metadata": {},
   "outputs": [
    {
     "name": "stdout",
     "output_type": "stream",
     "text": [
      "_________________________________________________________________\n",
      "Layer (type)                 Output Shape              Param #   \n",
      "=================================================================\n",
      "dense_1 (Dense)              (None, 512)               401920    \n",
      "_________________________________________________________________\n",
      "dropout_1 (Dropout)          (None, 512)               0         \n",
      "_________________________________________________________________\n",
      "dense_2 (Dense)              (None, 512)               262656    \n",
      "_________________________________________________________________\n",
      "dropout_2 (Dropout)          (None, 512)               0         \n",
      "_________________________________________________________________\n",
      "dense_3 (Dense)              (None, 10)                5130      \n",
      "=================================================================\n",
      "Total params: 669,706\n",
      "Trainable params: 669,706\n",
      "Non-trainable params: 0\n",
      "_________________________________________________________________\n"
     ]
    }
   ],
   "source": [
    "model_nn.summary()"
   ]
  },
  {
   "cell_type": "code",
   "execution_count": 18,
   "metadata": {},
   "outputs": [
    {
     "data": {
      "text/plain": [
       "((60000, 784), (60000, 10))"
      ]
     },
     "execution_count": 18,
     "metadata": {},
     "output_type": "execute_result"
    }
   ],
   "source": [
    "train_data.shape, y_train.shape"
   ]
  },
  {
   "cell_type": "code",
   "execution_count": 19,
   "metadata": {},
   "outputs": [
    {
     "data": {
      "text/plain": [
       "((10000, 784), (10000, 10))"
      ]
     },
     "execution_count": 19,
     "metadata": {},
     "output_type": "execute_result"
    }
   ],
   "source": [
    "test_data.shape, y_test.shape"
   ]
  },
  {
   "cell_type": "code",
   "execution_count": 20,
   "metadata": {
    "scrolled": true
   },
   "outputs": [
    {
     "name": "stdout",
     "output_type": "stream",
     "text": [
      "Train on 60000 samples, validate on 10000 samples\n",
      "Epoch 1/20\n",
      "60000/60000 [==============================] - 9s 157us/step - loss: 0.3998 - acc: 0.8766 - val_loss: 0.1397 - val_acc: 0.9568\n",
      "Epoch 2/20\n",
      "60000/60000 [==============================] - 8s 129us/step - loss: 0.1722 - acc: 0.9477 - val_loss: 0.0974 - val_acc: 0.9693\n",
      "Epoch 3/20\n",
      "60000/60000 [==============================] - 8s 129us/step - loss: 0.1327 - acc: 0.9600 - val_loss: 0.0831 - val_acc: 0.9748\n",
      "Epoch 4/20\n",
      "60000/60000 [==============================] - 8s 127us/step - loss: 0.1104 - acc: 0.9658 - val_loss: 0.0728 - val_acc: 0.9777\n",
      "Epoch 5/20\n",
      "60000/60000 [==============================] - 8s 125us/step - loss: 0.0965 - acc: 0.9701 - val_loss: 0.0706 - val_acc: 0.9781\n",
      "Epoch 6/20\n",
      "60000/60000 [==============================] - 8s 126us/step - loss: 0.0824 - acc: 0.9746 - val_loss: 0.0663 - val_acc: 0.9795\n",
      "Epoch 7/20\n",
      "60000/60000 [==============================] - 8s 132us/step - loss: 0.0768 - acc: 0.9762 - val_loss: 0.0626 - val_acc: 0.9811\n",
      "Epoch 8/20\n",
      "60000/60000 [==============================] - 8s 129us/step - loss: 0.0701 - acc: 0.9777 - val_loss: 0.0645 - val_acc: 0.9807\n",
      "Epoch 9/20\n",
      "60000/60000 [==============================] - 7s 121us/step - loss: 0.0632 - acc: 0.9797 - val_loss: 0.0664 - val_acc: 0.9820\n",
      "Epoch 10/20\n",
      "60000/60000 [==============================] - 9s 142us/step - loss: 0.0597 - acc: 0.9804 - val_loss: 0.0637 - val_acc: 0.9832\n",
      "Epoch 11/20\n",
      "60000/60000 [==============================] - 7s 123us/step - loss: 0.0589 - acc: 0.9815 - val_loss: 0.0619 - val_acc: 0.9821\n",
      "Epoch 12/20\n",
      "60000/60000 [==============================] - 8s 125us/step - loss: 0.0540 - acc: 0.9825 - val_loss: 0.0581 - val_acc: 0.9829\n",
      "Epoch 13/20\n",
      "60000/60000 [==============================] - 7s 112us/step - loss: 0.0519 - acc: 0.9832 - val_loss: 0.0588 - val_acc: 0.9826\n",
      "Epoch 14/20\n",
      "60000/60000 [==============================] - 7s 125us/step - loss: 0.0476 - acc: 0.9844 - val_loss: 0.0573 - val_acc: 0.9834\n",
      "Epoch 15/20\n",
      "60000/60000 [==============================] - 8s 129us/step - loss: 0.0452 - acc: 0.9852 - val_loss: 0.0572 - val_acc: 0.9850\n",
      "Epoch 16/20\n",
      "60000/60000 [==============================] - 7s 117us/step - loss: 0.0425 - acc: 0.9863 - val_loss: 0.0558 - val_acc: 0.9848\n",
      "Epoch 17/20\n",
      "60000/60000 [==============================] - 8s 131us/step - loss: 0.0428 - acc: 0.9857 - val_loss: 0.0583 - val_acc: 0.9835\n",
      "Epoch 18/20\n",
      "60000/60000 [==============================] - 7s 114us/step - loss: 0.0425 - acc: 0.9862 - val_loss: 0.0567 - val_acc: 0.9848\n",
      "Epoch 19/20\n",
      "60000/60000 [==============================] - 7s 114us/step - loss: 0.0407 - acc: 0.9869 - val_loss: 0.0587 - val_acc: 0.9841\n",
      "Epoch 20/20\n",
      "60000/60000 [==============================] - 7s 115us/step - loss: 0.0376 - acc: 0.9874 - val_loss: 0.0567 - val_acc: 0.9836\n"
     ]
    }
   ],
   "source": [
    "history_nn = model_nn.fit(train_data, y_train, batch_size=256, epochs=20, verbose=True, \n",
    "                    validation_data=(test_data, y_test))"
   ]
  },
  {
   "cell_type": "code",
   "execution_count": 21,
   "metadata": {},
   "outputs": [
    {
     "name": "stdout",
     "output_type": "stream",
     "text": [
      "10000/10000 [==============================] - 1s 94us/step\n",
      "Test loss: 0.05666586968242918\n",
      "Test accuracy: 0.9836\n"
     ]
    }
   ],
   "source": [
    "score = model_nn.evaluate(test_data, y_test)\n",
    "print('Test loss:', score[0])\n",
    "print('Test accuracy:', score[1])"
   ]
  },
  {
   "cell_type": "code",
   "execution_count": 22,
   "metadata": {},
   "outputs": [
    {
     "data": {
      "text/plain": [
       "Text(0.5,1,'Loss Curves')"
      ]
     },
     "execution_count": 22,
     "metadata": {},
     "output_type": "execute_result"
    },
    {
     "data": {
      "image/png": "[encoded data removed]",
      "text/plain": [
       "<matplotlib.figure.Figure at 0x10d1568d0>"
      ]
     },
     "metadata": {},
     "output_type": "display_data"
    }
   ],
   "source": [
    "# plot the Loss Curves\n",
    "plt.figure(figsize=[8,6])\n",
    "plt.plot(history_nn.history['loss'],'r',linewidth=3.0)\n",
    "plt.plot(history_nn.history['val_loss'],'b',linewidth=3.0)\n",
    "plt.legend(['Training loss', 'Validation Loss'],fontsize=18)\n",
    "plt.xlabel('Epochs ',fontsize=16)\n",
    "plt.ylabel('Loss',fontsize=16)\n",
    "plt.title('Loss Curves',fontsize=16)"
   ]
  },
  {
   "cell_type": "code",
   "execution_count": 23,
   "metadata": {},
   "outputs": [
    {
     "data": {
      "text/plain": [
       "Text(0.5,1,'Accuracy Curves')"
      ]
     },
     "execution_count": 23,
     "metadata": {},
     "output_type": "execute_result"
    },
    {
     "data": {
      "image/png": "[encoded data removed]",
      "text/plain": [
       "<matplotlib.figure.Figure at 0x10d156860>"
      ]
     },
     "metadata": {},
     "output_type": "display_data"
    }
   ],
   "source": [
    "# plot the Accuracy Curves\n",
    "plt.figure(figsize=[8,6])\n",
    "plt.plot(history_nn.history['acc'],'r',linewidth=3.0)\n",
    "plt.plot(history_nn.history['val_acc'],'b',linewidth=3.0)\n",
    "plt.legend(['Training Accuracy', 'Validation Accuracy'],fontsize=18)\n",
    "plt.xlabel('Epochs ',fontsize=16)\n",
    "plt.ylabel('Accuracy',fontsize=16)\n",
    "plt.title('Accuracy Curves',fontsize=16)"
   ]
  },
  {
   "cell_type": "code",
   "execution_count": 24,
   "metadata": {},
   "outputs": [
    {
     "data": {
      "text/plain": [
       "array([0])"
      ]
     },
     "execution_count": 24,
     "metadata": {},
     "output_type": "execute_result"
    }
   ],
   "source": [
    "# try to predict class\n",
    "model_nn.predict_classes(test_data[[3],:])"
   ]
  },
  {
   "cell_type": "code",
   "execution_count": 25,
   "metadata": {},
   "outputs": [
    {
     "data": {
      "text/plain": [
       "array([[9.9999833e-01, 4.3482691e-12, 2.5528137e-09, 1.2746411e-11,\n",
       "        1.7230262e-09, 5.8833742e-09, 1.6371847e-06, 3.7110204e-10,\n",
       "        8.1950259e-11, 4.7336859e-09]], dtype=float32)"
      ]
     },
     "execution_count": 25,
     "metadata": {},
     "output_type": "execute_result"
    }
   ],
   "source": [
    "# try to predict probabilities\n",
    "model_nn.predict(test_data[[3],:])"
   ]
  },
  {
   "cell_type": "markdown",
   "metadata": {},
   "source": [
    "#### Convolutional Neural Network"
   ]
  },
  {
   "cell_type": "code",
   "execution_count": 26,
   "metadata": {
    "collapsed": true
   },
   "outputs": [],
   "source": [
    "model_cnn = Sequential()"
   ]
  },
  {
   "cell_type": "code",
   "execution_count": 27,
   "metadata": {
    "collapsed": true
   },
   "outputs": [],
   "source": [
    "# input layer\n",
    "model_cnn.add(Conv2D(32, kernel_size=(3, 3),\n",
    "                 activation='relu',\n",
    "                 input_shape=input_shape))"
   ]
  },
  {
   "cell_type": "code",
   "execution_count": 28,
   "metadata": {},
   "outputs": [],
   "source": [
    "# convolution layers\n",
    "model_cnn.add(Conv2D(64, (3, 3), activation='relu'))\n",
    "model_cnn.add(MaxPooling2D(pool_size=(2, 2)))\n",
    "model_cnn.add(Dropout(0.5))\n",
    "\n",
    "# fully connected dense layers\n",
    "model_cnn.add(Flatten())\n",
    "model_cnn.add(Dense(128, activation='relu'))\n",
    "model_cnn.add(Dropout(0,5))"
   ]
  },
  {
   "cell_type": "code",
   "execution_count": 32,
   "metadata": {
    "collapsed": true
   },
   "outputs": [],
   "source": [
    "##### output layer\n",
    "model_cnn.add(Dense(num_classes, activation='softmax'))"
   ]
  },
  {
   "cell_type": "code",
   "execution_count": 33,
   "metadata": {
    "collapsed": true
   },
   "outputs": [],
   "source": [
    "model_cnn.compile(loss='categorical_crossentropy',\n",
    "                  optimizer='adam',\n",
    "                  metrics=['accuracy'])"
   ]
  },
  {
   "cell_type": "code",
   "execution_count": 34,
   "metadata": {},
   "outputs": [
    {
     "name": "stdout",
     "output_type": "stream",
     "text": [
      "_________________________________________________________________\n",
      "Layer (type)                 Output Shape              Param #   \n",
      "=================================================================\n",
      "conv2d_1 (Conv2D)            (None, 26, 26, 32)        320       \n",
      "_________________________________________________________________\n",
      "conv2d_2 (Conv2D)            (None, 24, 24, 64)        18496     \n",
      "_________________________________________________________________\n",
      "max_pooling2d_1 (MaxPooling2 (None, 12, 12, 64)        0         \n",
      "_________________________________________________________________\n",
      "dropout_3 (Dropout)          (None, 12, 12, 64)        0         \n",
      "_________________________________________________________________\n",
      "flatten_1 (Flatten)          (None, 9216)              0         \n",
      "_________________________________________________________________\n",
      "dense_4 (Dense)              (None, 128)               1179776   \n",
      "_________________________________________________________________\n",
      "dropout_4 (Dropout)          (None, 128)               0         \n",
      "_________________________________________________________________\n",
      "dense_5 (Dense)              (None, 10)                1290      \n",
      "=================================================================\n",
      "Total params: 1,199,882\n",
      "Trainable params: 1,199,882\n",
      "Non-trainable params: 0\n",
      "_________________________________________________________________\n"
     ]
    }
   ],
   "source": [
    "model_cnn.summary()"
   ]
  },
  {
   "cell_type": "code",
   "execution_count": 35,
   "metadata": {},
   "outputs": [
    {
     "data": {
      "text/plain": [
       "((60000, 28, 28, 1), (60000, 10))"
      ]
     },
     "execution_count": 35,
     "metadata": {},
     "output_type": "execute_result"
    }
   ],
   "source": [
    "X_train.shape, y_train.shape"
   ]
  },
  {
   "cell_type": "code",
   "execution_count": 36,
   "metadata": {},
   "outputs": [
    {
     "data": {
      "text/plain": [
       "((10000, 28, 28, 1), (10000, 10))"
      ]
     },
     "execution_count": 36,
     "metadata": {},
     "output_type": "execute_result"
    }
   ],
   "source": [
    "X_test.shape, y_test.shape"
   ]
  },
  {
   "cell_type": "code",
   "execution_count": 37,
   "metadata": {
    "scrolled": true
   },
   "outputs": [
    {
     "name": "stderr",
     "output_type": "stream",
     "text": [
      "/anaconda3/lib/python3.6/site-packages/keras/models.py:944: UserWarning: The `nb_epoch` argument in `fit` has been renamed `epochs`.\n",
      "  warnings.warn('The `nb_epoch` argument in `fit` '\n"
     ]
    },
    {
     "name": "stdout",
     "output_type": "stream",
     "text": [
      "Train on 60000 samples, validate on 10000 samples\n",
      "Epoch 1/10\n",
      "60000/60000 [==============================] - 206s 3ms/step - loss: 0.1303 - acc: 0.9602 - val_loss: 0.0556 - val_acc: 0.9818\n",
      "Epoch 2/10\n",
      "60000/60000 [==============================] - 201s 3ms/step - loss: 0.0504 - acc: 0.9846 - val_loss: 0.0373 - val_acc: 0.9880\n",
      "Epoch 3/10\n",
      "60000/60000 [==============================] - 201s 3ms/step - loss: 0.0367 - acc: 0.9882 - val_loss: 0.0353 - val_acc: 0.9890: 9s - - ETA: 6s\n",
      "Epoch 4/10\n",
      "60000/60000 [==============================] - 199s 3ms/step - loss: 0.0277 - acc: 0.9915 - val_loss: 0.0408 - val_acc: 0.9870\n",
      "Epoch 5/10\n",
      "60000/60000 [==============================] - 199s 3ms/step - loss: 0.0232 - acc: 0.9925 - val_loss: 0.0426 - val_acc: 0.9867.99 - ETA: 2s - loss: 0.0230 - acc: - ETA: 1s - loss: 0.0233\n",
      "Epoch 6/10\n",
      "60000/60000 [==============================] - 211s 4ms/step - loss: 0.0192 - acc: 0.9935 - val_loss: 0.0331 - val_acc: 0.9903\n",
      "Epoch 7/10\n",
      "60000/60000 [==============================] - 225s 4ms/step - loss: 0.0162 - acc: 0.9946 - val_loss: 0.0352 - val_acc: 0.9900\n",
      "Epoch 8/10\n",
      "60000/60000 [==============================] - 215s 4ms/step - loss: 0.0147 - acc: 0.9950 - val_loss: 0.0330 - val_acc: 0.9905\n",
      "Epoch 9/10\n",
      "60000/60000 [==============================] - 215s 4ms/step - loss: 0.0123 - acc: 0.9960 - val_loss: 0.0334 - val_acc: 0.9910\n",
      "Epoch 10/10\n",
      "60000/60000 [==============================] - 241s 4ms/step - loss: 0.0116 - acc: 0.9962 - val_loss: 0.0326 - val_acc: 0.9913\n"
     ]
    }
   ],
   "source": [
    "history_cnn = model_cnn.fit(X_train, y_train, batch_size=32, nb_epoch=10, verbose=True, validation_data=(X_test, y_test))"
   ]
  },
  {
   "cell_type": "code",
   "execution_count": 38,
   "metadata": {
    "scrolled": true
   },
   "outputs": [
    {
     "name": "stdout",
     "output_type": "stream",
     "text": [
      "10000/10000 [==============================] - 9s 903us/step\n",
      "Test loss: 0.03263878155887437\n",
      "Test accuracy: 0.9913\n"
     ]
    }
   ],
   "source": [
    "score = model_cnn.evaluate(X_test, y_test, verbose=True)\n",
    "print('Test loss:', score[0])\n",
    "print('Test accuracy:', score[1])"
   ]
  },
  {
   "cell_type": "code",
   "execution_count": 39,
   "metadata": {},
   "outputs": [
    {
     "data": {
      "text/plain": [
       "Text(0.5,1,'Loss Curves')"
      ]
     },
     "execution_count": 39,
     "metadata": {},
     "output_type": "execute_result"
    },
    {
     "data": {
      "image/png": "[encoded data removed]",
      "text/plain": [
       "<matplotlib.figure.Figure at 0x182fee2ac8>"
      ]
     },
     "metadata": {},
     "output_type": "display_data"
    }
   ],
   "source": [
    "# plot the Loss Curves\n",
    "plt.figure(figsize=[8,6])\n",
    "plt.plot(history_cnn.history['loss'],'r',linewidth=3.0)\n",
    "plt.plot(history_cnn.history['val_loss'],'b',linewidth=3.0)\n",
    "plt.legend(['Training loss', 'Validation Loss'],fontsize=18)\n",
    "plt.xlabel('Epochs ',fontsize=16)\n",
    "plt.ylabel('Loss',fontsize=16)\n",
    "plt.title('Loss Curves',fontsize=16)"
   ]
  },
  {
   "cell_type": "code",
   "execution_count": 40,
   "metadata": {},
   "outputs": [
    {
     "data": {
      "text/plain": [
       "Text(0.5,1,'Accuracy Curves')"
      ]
     },
     "execution_count": 40,
     "metadata": {},
     "output_type": "execute_result"
    },
    {
     "data": {
      "image/png": "[encoded data removed]",
      "text/plain": [
       "<matplotlib.figure.Figure at 0x182fee2438>"
      ]
     },
     "metadata": {},
     "output_type": "display_data"
    }
   ],
   "source": [
    "# plot the Accuracy Curves\n",
    "plt.figure(figsize=[8,6])\n",
    "plt.plot(history_cnn.history['acc'],'r',linewidth=3.0)\n",
    "plt.plot(history_cnn.history['val_acc'],'b',linewidth=3.0)\n",
    "plt.legend(['Training Accuracy', 'Validation Accuracy'],fontsize=18)\n",
    "plt.xlabel('Epochs ',fontsize=16)\n",
    "plt.ylabel('Accuracy',fontsize=16)\n",
    "plt.title('Accuracy Curves',fontsize=16)"
   ]
  },
  {
   "cell_type": "markdown",
   "metadata": {},
   "source": [
    "## Save Model"
   ]
  },
  {
   "cell_type": "code",
   "execution_count": 41,
   "metadata": {},
   "outputs": [
    {
     "name": "stdout",
     "output_type": "stream",
     "text": [
      "Model saved to disk...\n"
     ]
    }
   ],
   "source": [
    "# serialize model to JSON\n",
    "model_nn_json = model_nn.to_json()\n",
    "with open(\"weights/model_nn.json\", \"w\") as json_file:\n",
    "    json_file.write(model_nn_json)\n",
    "    \n",
    "# serialize weights to HDF5\n",
    "model_nn.save_weights(\"weights/model_nn.h5\")\n",
    "print(\"Model saved to disk...\")"
   ]
  },
  {
   "cell_type": "code",
   "execution_count": 42,
   "metadata": {},
   "outputs": [
    {
     "name": "stdout",
     "output_type": "stream",
     "text": [
      "Model saved to disk...\n"
     ]
    }
   ],
   "source": [
    "# serialize model to JSON\n",
    "model_cnn_json = model_cnn.to_json()\n",
    "with open(\"weights/model_nn.json\", \"w\") as json_file:\n",
    "    json_file.write(model_cnn_json)\n",
    "    \n",
    "# serialize weights to HDF5\n",
    "model_cnn.save_weights(\"weights/model_cnn.h5\")\n",
    "print(\"Model saved to disk...\")"
   ]
  },
  {
   "cell_type": "markdown",
   "metadata": {},
   "source": [
    "</hr>"
   ]
  }
 ],
 "metadata": {
  "kernelspec": {
   "display_name": "Python 3",
   "language": "python",
   "name": "python3"
  },
  "language_info": {
   "codemirror_mode": {
    "name": "ipython",
    "version": 3
   },
   "file_extension": ".py",
   "mimetype": "text/x-python",
   "name": "python",
   "nbconvert_exporter": "python",
   "pygments_lexer": "ipython3",
   "version": "3.6.3"
  }
 },
 "nbformat": 4,
 "nbformat_minor": 2
}
